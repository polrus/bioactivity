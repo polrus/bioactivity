{
 "cells": [
  {
   "cell_type": "code",
   "execution_count": 21,
   "metadata": {},
   "outputs": [],
   "source": [
    "from pyspark.sql import SparkSession\n",
    "from pyspark.sql.functions import concat_ws\n",
    "from pyspark.sql import functions as F\n",
    "from scipy.stats import fisher_exact\n",
    "import numpy as np"
   ]
  },
  {
   "cell_type": "code",
   "execution_count": 2,
   "metadata": {},
   "outputs": [
    {
     "name": "stderr",
     "output_type": "stream",
     "text": [
      "Setting default log level to \"WARN\".\n",
      "To adjust logging level use sc.setLogLevel(newLevel). For SparkR, use setLogLevel(newLevel).\n",
      "23/11/07 12:22:05 WARN NativeCodeLoader: Unable to load native-hadoop library for your platform... using builtin-java classes where applicable\n"
     ]
    }
   ],
   "source": [
    "spark = SparkSession.builder \\\n",
    "    .appName(\"drug-to_target_biodata_analysis\") \\\n",
    "    .config(\"spark.jars\", \"https://storage.googleapis.com/hadoop-lib/gcs/gcs-connector-hadoop3-latest.jar\") \\\n",
    "    .getOrCreate()"
   ]
  },
  {
   "cell_type": "code",
   "execution_count": 78,
   "metadata": {},
   "outputs": [
    {
     "name": "stdout",
     "output_type": "stream",
     "text": [
      "+---------+------------+--------+---------------+------+--------------+--------------------+-----------+--------------------+------+--------------------+----------------+------------+--------------+--------------+-----------------+-------------+---------------+-----+------------+---------+--------------------+------------------+-------------------+------------+--------+\n",
      "|accession|   chembl_id|molregno|assay_chembl_id|src_id|src_short_name|             journal|  pubmed_id|                 doi|   tid|           pref_name|target_chembl_id|    organism|standard_value|standard_units|standard_relation|pchembl_value|       targetID|isMoA|      drugId|uniprotId|             sources|isHighQualityProbe|isTherapeuticTarget|proteinClass|isActive|\n",
      "+---------+------------+--------+---------------+------+--------------+--------------------+-----------+--------------------+------+--------------------+----------------+------------+--------------+--------------+-----------------+-------------+---------------+-----+------------+---------+--------------------+------------------+-------------------+------------+--------+\n",
      "|   Q99808|CHEMBL100259|  161181|  CHEMBL3528990|     1|    LITERATURE|   Drug Metab Dispos|2.3388705E7|10.1124/dmd.112.0...|   175|Equilibrative nuc...|      CHEMBL1997|Homo sapiens|       51000.0|            nM|                =|         4.29|ENSG00000112759|false|CHEMBL100259|   Q99808|            [chembl]|             false|               true| Transporter|   false|\n",
      "|   Q9HAS3|CHEMBL100259|  161181|  CHEMBL3528994|     1|    LITERATURE|   Drug Metab Dispos|2.3388705E7|10.1124/dmd.112.0...|101512|Solute carrier fa...|      CHEMBL5707|Homo sapiens|        3400.0|            nM|                =|         5.47|ENSG00000197506|false|        NULL|     NULL|                NULL|              NULL|               NULL| Transporter|   false|\n",
      "|   P03372| CHEMBL10041|    6341|  CHEMBL5121196|     1|    LITERATURE|      Eur J Med Chem|3.4710747E7|10.1016/j.ejmech....|    19|Estrogen receptor...|       CHEMBL206|Homo sapiens|          1.12|            nM|                =|         8.95|ENSG00000091831|false| CHEMBL10041|   P03372|    [chemicalProbes]|             false|              false|          NR|    true|\n",
      "|   P00533|  CHEMBL1009|  112655|  CHEMBL1909203|    15|    DRUGMATRIX|                NULL|       NULL|                NULL|     9|Epidermal growth ...|       CHEMBL203|Homo sapiens|        2880.0|            nM|                =|         5.54|ENSG00000146648|false|  CHEMBL1009|   P00533|              [impc]|             false|              false|      Kinase|   false|\n",
      "|   Q9NPD5|  CHEMBL1014|  116349|  CHEMBL3039493|     1|    LITERATURE|       Mol Pharmacol|2.3571415E7|10.1124/mol.112.0...|104062|Solute carrier or...|   CHEMBL1743121|Homo sapiens|        1900.0|            nM|                =|         5.72|ENSG00000111700|false|        NULL|     NULL|                NULL|              NULL|               NULL| Transporter|   false|\n",
      "|   P24557|  CHEMBL1016|  116848|  CHEMBL1909116|    15|    DRUGMATRIX|                NULL|       NULL|                NULL|   248|Thromboxane-A syn...|      CHEMBL1835|Homo sapiens|        3059.4|            nM|                =|         5.51|ENSG00000059377|false|  CHEMBL1016|   P24557|[ot_genetics_port...|             false|               true|      Enzyme|    true|\n",
      "|   P30556|  CHEMBL1017|  116949|  CHEMBL2327554|     1|    LITERATURE|Bioorg Med Chem Lett|2.3265881E7|10.1016/j.bmcl.20...|   115|Type-1 angiotensi...|       CHEMBL227|Homo sapiens|          0.49|            nM|                =|         9.31|ENSG00000144891| true|  CHEMBL1017|   P30556| [impc, eva, chembl]|             false|               true|        GPCR|    true|\n",
      "|   P37231|  CHEMBL1017|  116949|  CHEMBL3873287|     1|    LITERATURE|      Eur J Med Chem|2.7560282E7|10.1016/j.ejmech....|   133|Peroxisome prolif...|       CHEMBL235|Homo sapiens|         700.0|            nM|                =|         6.16|ENSG00000132170|false|  CHEMBL1017|   P37231|[impc, eva, ot_ge...|             false|               true|          NR|    true|\n",
      "|   Q9Y6L6|  CHEMBL1017|  116949|  CHEMBL3039490|     1|    LITERATURE|       Mol Pharmacol|2.3571415E7|10.1124/mol.112.0...|103947|Solute carrier or...|   CHEMBL1697668|Homo sapiens|        1030.0|            nM|                =|         5.99|ENSG00000134538|false|  CHEMBL1017|   Q9Y6L6|[impc, ot_genetic...|             false|              false| Transporter|   false|\n",
      "|   P10826|  CHEMBL1023|  119498|   CHEMBL798919|     1|    LITERATURE|          J Med Chem|  9435893.0|   10.1021/jm9704309|   270|Retinoic acid rec...|      CHEMBL2008|Homo sapiens|          50.0|            nM|                =|          7.3|ENSG00000077092|false|  CHEMBL1023|   P10826|[ot_genetics_port...|             false|               true|          NR|    true|\n",
      "|   P10619|  CHEMBL1025|  119717|   CHEMBL917590|     1|    LITERATURE|Antimicrob Agents...|1.7145787E7|10.1128/aac.00968-06|102753|Lysosomal protect...|      CHEMBL6115|Homo sapiens|       10000.0|            nM|                =|          5.0|ENSG00000064601|false|        NULL|     NULL|                NULL|              NULL|               NULL|      Enzyme|   false|\n",
      "|   P21397| CHEMBL10316|    6784|   CHEMBL841865|     1|    LITERATURE|Bioorg Med Chem Lett|1.4698188E7|10.1016/j.bmcl.20...|104789|   Monoamine oxidase|   CHEMBL2095205|Homo sapiens|          28.0|            nM|                =|         7.55|ENSG00000189221|false| CHEMBL10316|   P21397|            [chembl]|             false|               true|      Enzyme|    true|\n",
      "|   P25100| CHEMBL10316|    6784|   CHEMBL648807|     1|    LITERATURE|          J Med Chem|  2886664.0| 10.1021/jm00391a015|104723|Adrenergic recept...|   CHEMBL2094251|Homo sapiens|        141.25|            nM|                =|         6.85|ENSG00000171873|false| CHEMBL10316|   P25100|            [chembl]|             false|               true|        GPCR|    true|\n",
      "|   P04629|CHEMBL103667|  167995|  CHEMBL1931566|     1|    LITERATURE|Bioorg Med Chem Lett| 2.201455E7|10.1016/j.bmcl.20...| 11902|Nerve growth fact...|      CHEMBL2815|Homo sapiens|         160.0|            nM|                =|          6.8|ENSG00000198400|false|CHEMBL103667|   P04629|            [chembl]|             false|               true|      Kinase|   false|\n",
      "|   P35590|CHEMBL103667|  167995|  CHEMBL1908714|     1|    LITERATURE|      Nat Biotechnol|2.2037378E7|    10.1038/nbt.1990|100906|Tyrosine-protein ...|      CHEMBL5274|Homo sapiens|           8.3|            nM|                =|         8.08|ENSG00000066056|false|        NULL|     NULL|                NULL|              NULL|               NULL|      Kinase|    true|\n",
      "|   Q15375|CHEMBL103667|  167995|   CHEMBL860660|     1|    LITERATURE|      Nat Biotechnol|1.5711537E7|     10.1038/nbt1068| 30027|Ephrin type-A rec...|      CHEMBL4602|Homo sapiens|         220.0|            nM|                =|         6.66|ENSG00000135333|false|        NULL|     NULL|                NULL|              NULL|               NULL|      Kinase|   false|\n",
      "|   Q9UF33|CHEMBL103667|  167995|   CHEMBL859486|     1|    LITERATURE|      Nat Biotechnol|1.5711537E7|     10.1038/nbt1068| 30046|Ephrin type-A rec...|      CHEMBL4526|Homo sapiens|         430.0|            nM|                =|         6.37|ENSG00000080224|false|        NULL|     NULL|                NULL|              NULL|               NULL|      Kinase|   false|\n",
      "|   P14416|   CHEMBL104|   13494|  CHEMBL1909140|    15|    DRUGMATRIX|                NULL|       NULL|                NULL|    72|Dopamine D2 receptor|       CHEMBL217|Homo sapiens|        4062.0|            nM|                =|         5.39|ENSG00000149295|false|   CHEMBL104|   P14416|      [impc, chembl]|             false|               true|        GPCR|   false|\n",
      "|   P21452|   CHEMBL104|   13494|  CHEMBL1909114|    15|    DRUGMATRIX|                NULL|       NULL|                NULL| 10184|Neurokinin 2 rece...|      CHEMBL2327|Homo sapiens|        3383.0|            nM|                =|         5.47|ENSG00000075073|false|        NULL|     NULL|                NULL|              NULL|               NULL|        GPCR|   false|\n",
      "|   P28223|   CHEMBL104|   13494|  CHEMBL1909211|    15|    DRUGMATRIX|                NULL|       NULL|                NULL|   107|Serotonin 2a (5-H...|       CHEMBL224|Homo sapiens|        3183.0|            nM|                =|          5.5|ENSG00000102468|false|   CHEMBL104|   P28223|            [chembl]|             false|               true|        GPCR|   false|\n",
      "+---------+------------+--------+---------------+------+--------------+--------------------+-----------+--------------------+------+--------------------+----------------+------------+--------------+--------------+-----------------+-------------+---------------+-----+------------+---------+--------------------+------------------+-------------------+------------+--------+\n",
      "only showing top 20 rows\n",
      "\n"
     ]
    }
   ],
   "source": [
    "# Dataset with all datasources\n",
    "biodata_all = spark.read.parquet(\"data/analysis/biodata_all_v2\")\n",
    "biodata_all.show()"
   ]
  },
  {
   "cell_type": "markdown",
   "metadata": {},
   "source": [
    "## OR Calculation for Active + GE Vs MoA"
   ]
  },
  {
   "cell_type": "code",
   "execution_count": 79,
   "metadata": {},
   "outputs": [
    {
     "name": "stdout",
     "output_type": "stream",
     "text": [
      "+---------+------------+--------+---------------+------+--------------+--------------------+-----------+--------------------+------+--------------------+----------------+------------+--------------+--------------+-----------------+-------------+---------------+-----+------------+---------+--------------------+------------------+-------------------+------------+--------+-----+\n",
      "|accession|   chembl_id|molregno|assay_chembl_id|src_id|src_short_name|             journal|  pubmed_id|                 doi|   tid|           pref_name|target_chembl_id|    organism|standard_value|standard_units|standard_relation|pchembl_value|       targetID|isMoA|      drugId|uniprotId|             sources|isHighQualityProbe|isTherapeuticTarget|proteinClass|isActive|hasGE|\n",
      "+---------+------------+--------+---------------+------+--------------+--------------------+-----------+--------------------+------+--------------------+----------------+------------+--------------+--------------+-----------------+-------------+---------------+-----+------------+---------+--------------------+------------------+-------------------+------------+--------+-----+\n",
      "|   Q99808|CHEMBL100259|  161181|  CHEMBL3528990|     1|    LITERATURE|   Drug Metab Dispos|2.3388705E7|10.1124/dmd.112.0...|   175|Equilibrative nuc...|      CHEMBL1997|Homo sapiens|       51000.0|            nM|                =|         4.29|ENSG00000112759|false|CHEMBL100259|   Q99808|            [chembl]|             false|               true| Transporter|   false|false|\n",
      "|   Q9HAS3|CHEMBL100259|  161181|  CHEMBL3528994|     1|    LITERATURE|   Drug Metab Dispos|2.3388705E7|10.1124/dmd.112.0...|101512|Solute carrier fa...|      CHEMBL5707|Homo sapiens|        3400.0|            nM|                =|         5.47|ENSG00000197506|false|        NULL|     NULL|                NULL|              NULL|               NULL| Transporter|   false|false|\n",
      "|   P03372| CHEMBL10041|    6341|  CHEMBL5121196|     1|    LITERATURE|      Eur J Med Chem|3.4710747E7|10.1016/j.ejmech....|    19|Estrogen receptor...|       CHEMBL206|Homo sapiens|          1.12|            nM|                =|         8.95|ENSG00000091831|false| CHEMBL10041|   P03372|    [chemicalProbes]|             false|              false|          NR|    true|false|\n",
      "|   P00533|  CHEMBL1009|  112655|  CHEMBL1909203|    15|    DRUGMATRIX|                NULL|       NULL|                NULL|     9|Epidermal growth ...|       CHEMBL203|Homo sapiens|        2880.0|            nM|                =|         5.54|ENSG00000146648|false|  CHEMBL1009|   P00533|              [impc]|             false|              false|      Kinase|   false| true|\n",
      "|   Q9NPD5|  CHEMBL1014|  116349|  CHEMBL3039493|     1|    LITERATURE|       Mol Pharmacol|2.3571415E7|10.1124/mol.112.0...|104062|Solute carrier or...|   CHEMBL1743121|Homo sapiens|        1900.0|            nM|                =|         5.72|ENSG00000111700|false|        NULL|     NULL|                NULL|              NULL|               NULL| Transporter|   false|false|\n",
      "|   P24557|  CHEMBL1016|  116848|  CHEMBL1909116|    15|    DRUGMATRIX|                NULL|       NULL|                NULL|   248|Thromboxane-A syn...|      CHEMBL1835|Homo sapiens|        3059.4|            nM|                =|         5.51|ENSG00000059377|false|  CHEMBL1016|   P24557|[ot_genetics_port...|             false|               true|      Enzyme|    true| true|\n",
      "|   P30556|  CHEMBL1017|  116949|  CHEMBL2327554|     1|    LITERATURE|Bioorg Med Chem Lett|2.3265881E7|10.1016/j.bmcl.20...|   115|Type-1 angiotensi...|       CHEMBL227|Homo sapiens|          0.49|            nM|                =|         9.31|ENSG00000144891| true|  CHEMBL1017|   P30556| [impc, eva, chembl]|             false|               true|        GPCR|    true| true|\n",
      "|   P37231|  CHEMBL1017|  116949|  CHEMBL3873287|     1|    LITERATURE|      Eur J Med Chem|2.7560282E7|10.1016/j.ejmech....|   133|Peroxisome prolif...|       CHEMBL235|Homo sapiens|         700.0|            nM|                =|         6.16|ENSG00000132170|false|  CHEMBL1017|   P37231|[impc, eva, ot_ge...|             false|               true|          NR|    true| true|\n",
      "|   Q9Y6L6|  CHEMBL1017|  116949|  CHEMBL3039490|     1|    LITERATURE|       Mol Pharmacol|2.3571415E7|10.1124/mol.112.0...|103947|Solute carrier or...|   CHEMBL1697668|Homo sapiens|        1030.0|            nM|                =|         5.99|ENSG00000134538|false|  CHEMBL1017|   Q9Y6L6|[impc, ot_genetic...|             false|              false| Transporter|   false| true|\n",
      "|   P10826|  CHEMBL1023|  119498|   CHEMBL798919|     1|    LITERATURE|          J Med Chem|  9435893.0|   10.1021/jm9704309|   270|Retinoic acid rec...|      CHEMBL2008|Homo sapiens|          50.0|            nM|                =|          7.3|ENSG00000077092|false|  CHEMBL1023|   P10826|[ot_genetics_port...|             false|               true|          NR|    true| true|\n",
      "|   P10619|  CHEMBL1025|  119717|   CHEMBL917590|     1|    LITERATURE|Antimicrob Agents...|1.7145787E7|10.1128/aac.00968-06|102753|Lysosomal protect...|      CHEMBL6115|Homo sapiens|       10000.0|            nM|                =|          5.0|ENSG00000064601|false|        NULL|     NULL|                NULL|              NULL|               NULL|      Enzyme|   false|false|\n",
      "|   P21397| CHEMBL10316|    6784|   CHEMBL841865|     1|    LITERATURE|Bioorg Med Chem Lett|1.4698188E7|10.1016/j.bmcl.20...|104789|   Monoamine oxidase|   CHEMBL2095205|Homo sapiens|          28.0|            nM|                =|         7.55|ENSG00000189221|false| CHEMBL10316|   P21397|            [chembl]|             false|               true|      Enzyme|    true|false|\n",
      "|   P25100| CHEMBL10316|    6784|   CHEMBL648807|     1|    LITERATURE|          J Med Chem|  2886664.0| 10.1021/jm00391a015|104723|Adrenergic recept...|   CHEMBL2094251|Homo sapiens|        141.25|            nM|                =|         6.85|ENSG00000171873|false| CHEMBL10316|   P25100|            [chembl]|             false|               true|        GPCR|    true|false|\n",
      "|   P04629|CHEMBL103667|  167995|  CHEMBL1931566|     1|    LITERATURE|Bioorg Med Chem Lett| 2.201455E7|10.1016/j.bmcl.20...| 11902|Nerve growth fact...|      CHEMBL2815|Homo sapiens|         160.0|            nM|                =|          6.8|ENSG00000198400|false|CHEMBL103667|   P04629|            [chembl]|             false|               true|      Kinase|   false|false|\n",
      "|   P35590|CHEMBL103667|  167995|  CHEMBL1908714|     1|    LITERATURE|      Nat Biotechnol|2.2037378E7|    10.1038/nbt.1990|100906|Tyrosine-protein ...|      CHEMBL5274|Homo sapiens|           8.3|            nM|                =|         8.08|ENSG00000066056|false|        NULL|     NULL|                NULL|              NULL|               NULL|      Kinase|    true|false|\n",
      "|   Q15375|CHEMBL103667|  167995|   CHEMBL860660|     1|    LITERATURE|      Nat Biotechnol|1.5711537E7|     10.1038/nbt1068| 30027|Ephrin type-A rec...|      CHEMBL4602|Homo sapiens|         220.0|            nM|                =|         6.66|ENSG00000135333|false|        NULL|     NULL|                NULL|              NULL|               NULL|      Kinase|   false|false|\n",
      "|   Q9UF33|CHEMBL103667|  167995|   CHEMBL859486|     1|    LITERATURE|      Nat Biotechnol|1.5711537E7|     10.1038/nbt1068| 30046|Ephrin type-A rec...|      CHEMBL4526|Homo sapiens|         430.0|            nM|                =|         6.37|ENSG00000080224|false|        NULL|     NULL|                NULL|              NULL|               NULL|      Kinase|   false|false|\n",
      "|   P14416|   CHEMBL104|   13494|  CHEMBL1909140|    15|    DRUGMATRIX|                NULL|       NULL|                NULL|    72|Dopamine D2 receptor|       CHEMBL217|Homo sapiens|        4062.0|            nM|                =|         5.39|ENSG00000149295|false|   CHEMBL104|   P14416|      [impc, chembl]|             false|               true|        GPCR|   false| true|\n",
      "|   P21452|   CHEMBL104|   13494|  CHEMBL1909114|    15|    DRUGMATRIX|                NULL|       NULL|                NULL| 10184|Neurokinin 2 rece...|      CHEMBL2327|Homo sapiens|        3383.0|            nM|                =|         5.47|ENSG00000075073|false|        NULL|     NULL|                NULL|              NULL|               NULL|        GPCR|   false|false|\n",
      "|   P28223|   CHEMBL104|   13494|  CHEMBL1909211|    15|    DRUGMATRIX|                NULL|       NULL|                NULL|   107|Serotonin 2a (5-H...|       CHEMBL224|Homo sapiens|        3183.0|            nM|                =|          5.5|ENSG00000102468|false|   CHEMBL104|   P28223|            [chembl]|             false|               true|        GPCR|   false|false|\n",
      "+---------+------------+--------+---------------+------+--------------+--------------------+-----------+--------------------+------+--------------------+----------------+------------+--------------+--------------+-----------------+-------------+---------------+-----+------------+---------+--------------------+------------------+-------------------+------------+--------+-----+\n",
      "only showing top 20 rows\n",
      "\n"
     ]
    }
   ],
   "source": [
    "# Creating hasGE as boolean\n",
    "# Define the undesired lists as column expressions for comparison\n",
    "undesired_chembl = F.array([F.lit('chembl')])\n",
    "undesired_chemicalProbes = F.array([F.lit('chemicalProbes')])\n",
    "undesired_both = F.array([F.lit('chembl'), F.lit('chemicalProbes')])\n",
    "undesired_both_alt = F.array([F.lit('chemicalProbes'), F.lit('chembl')])\n",
    "\n",
    "# Add the 'hasGE' column\n",
    "biodata_GE = biodata_all.withColumn(\n",
    "    'hasGE',\n",
    "    ~(\n",
    "        (F.col('sources').isNull()) |\n",
    "        (F.size(F.col('sources')) == 0) |\n",
    "        (F.array_sort(F.col('sources')) == F.array_sort(undesired_chembl)) |\n",
    "        (F.array_sort(F.col('sources')) == F.array_sort(undesired_chemicalProbes)) |\n",
    "        (F.array_sort(F.col('sources')) == F.array_sort(undesired_both)) |\n",
    "        (F.array_sort(F.col('sources')) == F.array_sort(undesired_both_alt))\n",
    "    )\n",
    ")\n",
    "biodata_GE.show()"
   ]
  },
  {
   "cell_type": "code",
   "execution_count": 80,
   "metadata": {},
   "outputs": [
    {
     "name": "stdout",
     "output_type": "stream",
     "text": [
      "+---------+------------+--------+---------------+------+--------------+--------------------+-----------+--------------------+------+--------------------+----------------+------------+--------------+--------------+-----------------+-------------+---------------+-----+------------+---------+--------------------+------------------+-------------------+------------+--------+-----+-----------+\n",
      "|accession|   chembl_id|molregno|assay_chembl_id|src_id|src_short_name|             journal|  pubmed_id|                 doi|   tid|           pref_name|target_chembl_id|    organism|standard_value|standard_units|standard_relation|pchembl_value|       targetID|isMoA|      drugId|uniprotId|             sources|isHighQualityProbe|isTherapeuticTarget|proteinClass|isActive|hasGE|activeAndGE|\n",
      "+---------+------------+--------+---------------+------+--------------+--------------------+-----------+--------------------+------+--------------------+----------------+------------+--------------+--------------+-----------------+-------------+---------------+-----+------------+---------+--------------------+------------------+-------------------+------------+--------+-----+-----------+\n",
      "|   Q99808|CHEMBL100259|  161181|  CHEMBL3528990|     1|    LITERATURE|   Drug Metab Dispos|2.3388705E7|10.1124/dmd.112.0...|   175|Equilibrative nuc...|      CHEMBL1997|Homo sapiens|       51000.0|            nM|                =|         4.29|ENSG00000112759|false|CHEMBL100259|   Q99808|            [chembl]|             false|               true| Transporter|   false|false|      false|\n",
      "|   Q9HAS3|CHEMBL100259|  161181|  CHEMBL3528994|     1|    LITERATURE|   Drug Metab Dispos|2.3388705E7|10.1124/dmd.112.0...|101512|Solute carrier fa...|      CHEMBL5707|Homo sapiens|        3400.0|            nM|                =|         5.47|ENSG00000197506|false|        NULL|     NULL|                NULL|              NULL|               NULL| Transporter|   false|false|      false|\n",
      "|   P03372| CHEMBL10041|    6341|  CHEMBL5121196|     1|    LITERATURE|      Eur J Med Chem|3.4710747E7|10.1016/j.ejmech....|    19|Estrogen receptor...|       CHEMBL206|Homo sapiens|          1.12|            nM|                =|         8.95|ENSG00000091831|false| CHEMBL10041|   P03372|    [chemicalProbes]|             false|              false|          NR|    true|false|      false|\n",
      "|   P00533|  CHEMBL1009|  112655|  CHEMBL1909203|    15|    DRUGMATRIX|                NULL|       NULL|                NULL|     9|Epidermal growth ...|       CHEMBL203|Homo sapiens|        2880.0|            nM|                =|         5.54|ENSG00000146648|false|  CHEMBL1009|   P00533|              [impc]|             false|              false|      Kinase|   false| true|      false|\n",
      "|   Q9NPD5|  CHEMBL1014|  116349|  CHEMBL3039493|     1|    LITERATURE|       Mol Pharmacol|2.3571415E7|10.1124/mol.112.0...|104062|Solute carrier or...|   CHEMBL1743121|Homo sapiens|        1900.0|            nM|                =|         5.72|ENSG00000111700|false|        NULL|     NULL|                NULL|              NULL|               NULL| Transporter|   false|false|      false|\n",
      "|   P24557|  CHEMBL1016|  116848|  CHEMBL1909116|    15|    DRUGMATRIX|                NULL|       NULL|                NULL|   248|Thromboxane-A syn...|      CHEMBL1835|Homo sapiens|        3059.4|            nM|                =|         5.51|ENSG00000059377|false|  CHEMBL1016|   P24557|[ot_genetics_port...|             false|               true|      Enzyme|    true| true|       true|\n",
      "|   P30556|  CHEMBL1017|  116949|  CHEMBL2327554|     1|    LITERATURE|Bioorg Med Chem Lett|2.3265881E7|10.1016/j.bmcl.20...|   115|Type-1 angiotensi...|       CHEMBL227|Homo sapiens|          0.49|            nM|                =|         9.31|ENSG00000144891| true|  CHEMBL1017|   P30556| [impc, eva, chembl]|             false|               true|        GPCR|    true| true|       true|\n",
      "|   P37231|  CHEMBL1017|  116949|  CHEMBL3873287|     1|    LITERATURE|      Eur J Med Chem|2.7560282E7|10.1016/j.ejmech....|   133|Peroxisome prolif...|       CHEMBL235|Homo sapiens|         700.0|            nM|                =|         6.16|ENSG00000132170|false|  CHEMBL1017|   P37231|[impc, eva, ot_ge...|             false|               true|          NR|    true| true|       true|\n",
      "|   Q9Y6L6|  CHEMBL1017|  116949|  CHEMBL3039490|     1|    LITERATURE|       Mol Pharmacol|2.3571415E7|10.1124/mol.112.0...|103947|Solute carrier or...|   CHEMBL1697668|Homo sapiens|        1030.0|            nM|                =|         5.99|ENSG00000134538|false|  CHEMBL1017|   Q9Y6L6|[impc, ot_genetic...|             false|              false| Transporter|   false| true|      false|\n",
      "|   P10826|  CHEMBL1023|  119498|   CHEMBL798919|     1|    LITERATURE|          J Med Chem|  9435893.0|   10.1021/jm9704309|   270|Retinoic acid rec...|      CHEMBL2008|Homo sapiens|          50.0|            nM|                =|          7.3|ENSG00000077092|false|  CHEMBL1023|   P10826|[ot_genetics_port...|             false|               true|          NR|    true| true|       true|\n",
      "|   P10619|  CHEMBL1025|  119717|   CHEMBL917590|     1|    LITERATURE|Antimicrob Agents...|1.7145787E7|10.1128/aac.00968-06|102753|Lysosomal protect...|      CHEMBL6115|Homo sapiens|       10000.0|            nM|                =|          5.0|ENSG00000064601|false|        NULL|     NULL|                NULL|              NULL|               NULL|      Enzyme|   false|false|      false|\n",
      "|   P21397| CHEMBL10316|    6784|   CHEMBL841865|     1|    LITERATURE|Bioorg Med Chem Lett|1.4698188E7|10.1016/j.bmcl.20...|104789|   Monoamine oxidase|   CHEMBL2095205|Homo sapiens|          28.0|            nM|                =|         7.55|ENSG00000189221|false| CHEMBL10316|   P21397|            [chembl]|             false|               true|      Enzyme|    true|false|      false|\n",
      "|   P25100| CHEMBL10316|    6784|   CHEMBL648807|     1|    LITERATURE|          J Med Chem|  2886664.0| 10.1021/jm00391a015|104723|Adrenergic recept...|   CHEMBL2094251|Homo sapiens|        141.25|            nM|                =|         6.85|ENSG00000171873|false| CHEMBL10316|   P25100|            [chembl]|             false|               true|        GPCR|    true|false|      false|\n",
      "|   P04629|CHEMBL103667|  167995|  CHEMBL1931566|     1|    LITERATURE|Bioorg Med Chem Lett| 2.201455E7|10.1016/j.bmcl.20...| 11902|Nerve growth fact...|      CHEMBL2815|Homo sapiens|         160.0|            nM|                =|          6.8|ENSG00000198400|false|CHEMBL103667|   P04629|            [chembl]|             false|               true|      Kinase|   false|false|      false|\n",
      "|   P35590|CHEMBL103667|  167995|  CHEMBL1908714|     1|    LITERATURE|      Nat Biotechnol|2.2037378E7|    10.1038/nbt.1990|100906|Tyrosine-protein ...|      CHEMBL5274|Homo sapiens|           8.3|            nM|                =|         8.08|ENSG00000066056|false|        NULL|     NULL|                NULL|              NULL|               NULL|      Kinase|    true|false|      false|\n",
      "|   Q15375|CHEMBL103667|  167995|   CHEMBL860660|     1|    LITERATURE|      Nat Biotechnol|1.5711537E7|     10.1038/nbt1068| 30027|Ephrin type-A rec...|      CHEMBL4602|Homo sapiens|         220.0|            nM|                =|         6.66|ENSG00000135333|false|        NULL|     NULL|                NULL|              NULL|               NULL|      Kinase|   false|false|      false|\n",
      "|   Q9UF33|CHEMBL103667|  167995|   CHEMBL859486|     1|    LITERATURE|      Nat Biotechnol|1.5711537E7|     10.1038/nbt1068| 30046|Ephrin type-A rec...|      CHEMBL4526|Homo sapiens|         430.0|            nM|                =|         6.37|ENSG00000080224|false|        NULL|     NULL|                NULL|              NULL|               NULL|      Kinase|   false|false|      false|\n",
      "|   P14416|   CHEMBL104|   13494|  CHEMBL1909140|    15|    DRUGMATRIX|                NULL|       NULL|                NULL|    72|Dopamine D2 receptor|       CHEMBL217|Homo sapiens|        4062.0|            nM|                =|         5.39|ENSG00000149295|false|   CHEMBL104|   P14416|      [impc, chembl]|             false|               true|        GPCR|   false| true|      false|\n",
      "|   P21452|   CHEMBL104|   13494|  CHEMBL1909114|    15|    DRUGMATRIX|                NULL|       NULL|                NULL| 10184|Neurokinin 2 rece...|      CHEMBL2327|Homo sapiens|        3383.0|            nM|                =|         5.47|ENSG00000075073|false|        NULL|     NULL|                NULL|              NULL|               NULL|        GPCR|   false|false|      false|\n",
      "|   P28223|   CHEMBL104|   13494|  CHEMBL1909211|    15|    DRUGMATRIX|                NULL|       NULL|                NULL|   107|Serotonin 2a (5-H...|       CHEMBL224|Homo sapiens|        3183.0|            nM|                =|          5.5|ENSG00000102468|false|   CHEMBL104|   P28223|            [chembl]|             false|               true|        GPCR|   false|false|      false|\n",
      "+---------+------------+--------+---------------+------+--------------+--------------------+-----------+--------------------+------+--------------------+----------------+------------+--------------+--------------+-----------------+-------------+---------------+-----+------------+---------+--------------------+------------------+-------------------+------------+--------+-----+-----------+\n",
      "only showing top 20 rows\n",
      "\n"
     ]
    }
   ],
   "source": [
    "# Creating hasGE and Active as boolean\n",
    "# Define the undesired lists as column expressions for comparison\n",
    "\n",
    "from pyspark.sql.functions import col\n",
    "\n",
    "# Assuming your DataFrame is named df\n",
    "biodata_GE_A = biodata_GE.withColumn('activeAndGE', col('hasGE') & col('isActive'))\n",
    "\n",
    "biodata_GE_A.show()"
   ]
  },
  {
   "cell_type": "code",
   "execution_count": 121,
   "metadata": {},
   "outputs": [
    {
     "name": "stdout",
     "output_type": "stream",
     "text": [
      "+---------+------------+--------+---------------+------+--------------+--------------------+-----------+--------------------+------+--------------------+----------------+------------+--------------+--------------+-----------------+-------------+---------------+-----+------------+---------+--------------------+------------------+-------------------+------------+--------+-----+-----------+-------+\n",
      "|accession|   chembl_id|molregno|assay_chembl_id|src_id|src_short_name|             journal|  pubmed_id|                 doi|   tid|           pref_name|target_chembl_id|    organism|standard_value|standard_units|standard_relation|pchembl_value|       targetID|isMoA|      drugId|uniprotId|             sources|isHighQualityProbe|isTherapeuticTarget|proteinClass|isActive|hasGE|activeAndGE|isProbe|\n",
      "+---------+------------+--------+---------------+------+--------------+--------------------+-----------+--------------------+------+--------------------+----------------+------------+--------------+--------------+-----------------+-------------+---------------+-----+------------+---------+--------------------+------------------+-------------------+------------+--------+-----+-----------+-------+\n",
      "|   Q99808|CHEMBL100259|  161181|  CHEMBL3528990|     1|    LITERATURE|   Drug Metab Dispos|2.3388705E7|10.1124/dmd.112.0...|   175|Equilibrative nuc...|      CHEMBL1997|Homo sapiens|       51000.0|            nM|                =|         4.29|ENSG00000112759|false|CHEMBL100259|   Q99808|            [chembl]|             false|               true| Transporter|   false|false|      false|  false|\n",
      "|   Q9HAS3|CHEMBL100259|  161181|  CHEMBL3528994|     1|    LITERATURE|   Drug Metab Dispos|2.3388705E7|10.1124/dmd.112.0...|101512|Solute carrier fa...|      CHEMBL5707|Homo sapiens|        3400.0|            nM|                =|         5.47|ENSG00000197506|false|        NULL|     NULL|                NULL|              NULL|               NULL| Transporter|   false|false|      false|  false|\n",
      "|   P03372| CHEMBL10041|    6341|  CHEMBL5121196|     1|    LITERATURE|      Eur J Med Chem|3.4710747E7|10.1016/j.ejmech....|    19|Estrogen receptor...|       CHEMBL206|Homo sapiens|          1.12|            nM|                =|         8.95|ENSG00000091831|false| CHEMBL10041|   P03372|    [chemicalProbes]|             false|              false|          NR|    true|false|      false|   true|\n",
      "|   P00533|  CHEMBL1009|  112655|  CHEMBL1909203|    15|    DRUGMATRIX|                NULL|       NULL|                NULL|     9|Epidermal growth ...|       CHEMBL203|Homo sapiens|        2880.0|            nM|                =|         5.54|ENSG00000146648|false|  CHEMBL1009|   P00533|              [impc]|             false|              false|      Kinase|   false| true|      false|  false|\n",
      "|   Q9NPD5|  CHEMBL1014|  116349|  CHEMBL3039493|     1|    LITERATURE|       Mol Pharmacol|2.3571415E7|10.1124/mol.112.0...|104062|Solute carrier or...|   CHEMBL1743121|Homo sapiens|        1900.0|            nM|                =|         5.72|ENSG00000111700|false|        NULL|     NULL|                NULL|              NULL|               NULL| Transporter|   false|false|      false|  false|\n",
      "|   P24557|  CHEMBL1016|  116848|  CHEMBL1909116|    15|    DRUGMATRIX|                NULL|       NULL|                NULL|   248|Thromboxane-A syn...|      CHEMBL1835|Homo sapiens|        3059.4|            nM|                =|         5.51|ENSG00000059377|false|  CHEMBL1016|   P24557|[ot_genetics_port...|             false|               true|      Enzyme|    true| true|       true|  false|\n",
      "|   P30556|  CHEMBL1017|  116949|  CHEMBL2327554|     1|    LITERATURE|Bioorg Med Chem Lett|2.3265881E7|10.1016/j.bmcl.20...|   115|Type-1 angiotensi...|       CHEMBL227|Homo sapiens|          0.49|            nM|                =|         9.31|ENSG00000144891| true|  CHEMBL1017|   P30556| [impc, eva, chembl]|             false|               true|        GPCR|    true| true|       true|  false|\n",
      "|   P37231|  CHEMBL1017|  116949|  CHEMBL3873287|     1|    LITERATURE|      Eur J Med Chem|2.7560282E7|10.1016/j.ejmech....|   133|Peroxisome prolif...|       CHEMBL235|Homo sapiens|         700.0|            nM|                =|         6.16|ENSG00000132170|false|  CHEMBL1017|   P37231|[impc, eva, ot_ge...|             false|               true|          NR|    true| true|       true|  false|\n",
      "|   Q9Y6L6|  CHEMBL1017|  116949|  CHEMBL3039490|     1|    LITERATURE|       Mol Pharmacol|2.3571415E7|10.1124/mol.112.0...|103947|Solute carrier or...|   CHEMBL1697668|Homo sapiens|        1030.0|            nM|                =|         5.99|ENSG00000134538|false|  CHEMBL1017|   Q9Y6L6|[impc, ot_genetic...|             false|              false| Transporter|   false| true|      false|  false|\n",
      "|   P10826|  CHEMBL1023|  119498|   CHEMBL798919|     1|    LITERATURE|          J Med Chem|  9435893.0|   10.1021/jm9704309|   270|Retinoic acid rec...|      CHEMBL2008|Homo sapiens|          50.0|            nM|                =|          7.3|ENSG00000077092|false|  CHEMBL1023|   P10826|[ot_genetics_port...|             false|               true|          NR|    true| true|       true|  false|\n",
      "|   P10619|  CHEMBL1025|  119717|   CHEMBL917590|     1|    LITERATURE|Antimicrob Agents...|1.7145787E7|10.1128/aac.00968-06|102753|Lysosomal protect...|      CHEMBL6115|Homo sapiens|       10000.0|            nM|                =|          5.0|ENSG00000064601|false|        NULL|     NULL|                NULL|              NULL|               NULL|      Enzyme|   false|false|      false|  false|\n",
      "|   P21397| CHEMBL10316|    6784|   CHEMBL841865|     1|    LITERATURE|Bioorg Med Chem Lett|1.4698188E7|10.1016/j.bmcl.20...|104789|   Monoamine oxidase|   CHEMBL2095205|Homo sapiens|          28.0|            nM|                =|         7.55|ENSG00000189221|false| CHEMBL10316|   P21397|            [chembl]|             false|               true|      Enzyme|    true|false|      false|  false|\n",
      "|   P25100| CHEMBL10316|    6784|   CHEMBL648807|     1|    LITERATURE|          J Med Chem|  2886664.0| 10.1021/jm00391a015|104723|Adrenergic recept...|   CHEMBL2094251|Homo sapiens|        141.25|            nM|                =|         6.85|ENSG00000171873|false| CHEMBL10316|   P25100|            [chembl]|             false|               true|        GPCR|    true|false|      false|  false|\n",
      "|   P04629|CHEMBL103667|  167995|  CHEMBL1931566|     1|    LITERATURE|Bioorg Med Chem Lett| 2.201455E7|10.1016/j.bmcl.20...| 11902|Nerve growth fact...|      CHEMBL2815|Homo sapiens|         160.0|            nM|                =|          6.8|ENSG00000198400|false|CHEMBL103667|   P04629|            [chembl]|             false|               true|      Kinase|   false|false|      false|  false|\n",
      "|   P35590|CHEMBL103667|  167995|  CHEMBL1908714|     1|    LITERATURE|      Nat Biotechnol|2.2037378E7|    10.1038/nbt.1990|100906|Tyrosine-protein ...|      CHEMBL5274|Homo sapiens|           8.3|            nM|                =|         8.08|ENSG00000066056|false|        NULL|     NULL|                NULL|              NULL|               NULL|      Kinase|    true|false|      false|  false|\n",
      "|   Q15375|CHEMBL103667|  167995|   CHEMBL860660|     1|    LITERATURE|      Nat Biotechnol|1.5711537E7|     10.1038/nbt1068| 30027|Ephrin type-A rec...|      CHEMBL4602|Homo sapiens|         220.0|            nM|                =|         6.66|ENSG00000135333|false|        NULL|     NULL|                NULL|              NULL|               NULL|      Kinase|   false|false|      false|  false|\n",
      "|   Q9UF33|CHEMBL103667|  167995|   CHEMBL859486|     1|    LITERATURE|      Nat Biotechnol|1.5711537E7|     10.1038/nbt1068| 30046|Ephrin type-A rec...|      CHEMBL4526|Homo sapiens|         430.0|            nM|                =|         6.37|ENSG00000080224|false|        NULL|     NULL|                NULL|              NULL|               NULL|      Kinase|   false|false|      false|  false|\n",
      "|   P14416|   CHEMBL104|   13494|  CHEMBL1909140|    15|    DRUGMATRIX|                NULL|       NULL|                NULL|    72|Dopamine D2 receptor|       CHEMBL217|Homo sapiens|        4062.0|            nM|                =|         5.39|ENSG00000149295|false|   CHEMBL104|   P14416|      [impc, chembl]|             false|               true|        GPCR|   false| true|      false|  false|\n",
      "|   P21452|   CHEMBL104|   13494|  CHEMBL1909114|    15|    DRUGMATRIX|                NULL|       NULL|                NULL| 10184|Neurokinin 2 rece...|      CHEMBL2327|Homo sapiens|        3383.0|            nM|                =|         5.47|ENSG00000075073|false|        NULL|     NULL|                NULL|              NULL|               NULL|        GPCR|   false|false|      false|  false|\n",
      "|   P28223|   CHEMBL104|   13494|  CHEMBL1909211|    15|    DRUGMATRIX|                NULL|       NULL|                NULL|   107|Serotonin 2a (5-H...|       CHEMBL224|Homo sapiens|        3183.0|            nM|                =|          5.5|ENSG00000102468|false|   CHEMBL104|   P28223|            [chembl]|             false|               true|        GPCR|   false|false|      false|  false|\n",
      "+---------+------------+--------+---------------+------+--------------+--------------------+-----------+--------------------+------+--------------------+----------------+------------+--------------+--------------+-----------------+-------------+---------------+-----+------------+---------+--------------------+------------------+-------------------+------------+--------+-----+-----------+-------+\n",
      "only showing top 20 rows\n",
      "\n"
     ]
    }
   ],
   "source": [
    "# Creating chemicalProbes as boolean\n",
    "from pyspark.sql.functions import array_contains, col, coalesce, lit\n",
    "\n",
    "# Use the array_contains function to check if 'sources' contains 'chemicalProbes'\n",
    "biodata_GE_prob = biodata_GE_A.withColumn(\"isProbe\", array_contains(coalesce(col(\"sources\"), lit([])), \"chemicalProbes\"))\n",
    "\n",
    "biodata_GE_prob.show()"
   ]
  },
  {
   "cell_type": "code",
   "execution_count": 23,
   "metadata": {},
   "outputs": [
    {
     "name": "stdout",
     "output_type": "stream",
     "text": [
      "Contingency table Active Vs MoA:\n",
      "+--------+-----+-----+\n",
      "|isActive|isMoA|count|\n",
      "+--------+-----+-----+\n",
      "|   false|false|14123|\n",
      "|   false| true|  426|\n",
      "|    true|false|12439|\n",
      "|    true| true| 2720|\n",
      "+--------+-----+-----+\n",
      "\n",
      "Odds Ratio for biodata with GE+: 7.249378846706199\n",
      "95% CI: (6.527227620105087, 8.051426535394084)\n",
      "P-value: 0.0\n"
     ]
    }
   ],
   "source": [
    "# 2x2 table for Active Vs MoA\n",
    "contingency_table_AM = (\n",
    "    biodata_GE_prob\n",
    "    .groupBy(\"isActive\", \"isMoA\")\n",
    "    .agg(F.count(\"*\").alias(\"count\"))\n",
    "    .orderBy(\"isActive\", \"isMoA\")\n",
    ")\n",
    "\n",
    "print(\"Contingency table Active Vs MoA:\")\n",
    "contingency_table_AM.show()\n",
    "contingency_table_AM_list = contingency_table_AM.collect()\n",
    "\n",
    "# Extract counts for Fisher's test\n",
    "a = contingency_table_AM_list[0]['count']  # isActive = False, isMoA = False\n",
    "b = contingency_table_AM_list[1]['count']  # isActive = False, isMoA = True\n",
    "c = contingency_table_AM_list[2]['count']  # isActive = True, isMoA = False\n",
    "d = contingency_table_AM_list[3]['count']  # isActive = True, isMoA = True\n",
    "\n",
    "# Fisher's Exact Test\n",
    "_, p_value_AM = fisher_exact([[a, b], [c, d]])\n",
    "\n",
    "# 3. Compute Odds Ratio and its Confidence Interval\n",
    "or_ratio_AM = (a * d) / (b * c)\n",
    "or_lower_AM = np.exp(np.log(or_ratio_AM) - 1.96*np.sqrt(1/a + 1/b + 1/c + 1/d))\n",
    "or_upper_AM = np.exp(np.log(or_ratio_AM) + 1.96*np.sqrt(1/a + 1/b + 1/c + 1/d))\n",
    "\n",
    "print(f\"Odds Ratio for biodata with GE+: {or_ratio_AM}\")\n",
    "print(f\"95% CI: ({or_lower_AM}, {or_upper_AM})\")\n",
    "print(f\"P-value: {p_value_AM}\")"
   ]
  },
  {
   "cell_type": "code",
   "execution_count": 24,
   "metadata": {},
   "outputs": [
    {
     "name": "stdout",
     "output_type": "stream",
     "text": [
      "Contingency table hasGE Vs MoA:\n",
      "+-----+-----+-----+\n",
      "|hasGE|isMoA|count|\n",
      "+-----+-----+-----+\n",
      "|false|false|19402|\n",
      "|false| true| 1164|\n",
      "| true|false| 7160|\n",
      "| true| true| 1982|\n",
      "+-----+-----+-----+\n",
      "\n",
      "Odds Ratio for biodata with GE+: 4.6140696692199885\n",
      "95% CI: (4.270898678559492, 4.984814793030051)\n",
      "P-value: 0.0\n"
     ]
    }
   ],
   "source": [
    "# 2x2 table for hasGE Vs MoA\n",
    "contingency_table_GM = (\n",
    "    biodata_GE_prob\n",
    "    .groupBy(\"hasGE\", \"isMoA\")\n",
    "    .agg(F.count(\"*\").alias(\"count\"))\n",
    "    .orderBy(\"hasGE\", \"isMoA\")\n",
    ")\n",
    "\n",
    "print(\"Contingency table hasGE Vs MoA:\")\n",
    "contingency_table_GM.show()\n",
    "contingency_table_GM_list = contingency_table_GM.collect()\n",
    "\n",
    "# Extract counts for Fisher's test\n",
    "a = contingency_table_GM_list[0]['count']  # isActive = False, isMoA = False\n",
    "b = contingency_table_GM_list[1]['count']  # isActive = False, isMoA = True\n",
    "c = contingency_table_GM_list[2]['count']  # isActive = True, isMoA = False\n",
    "d = contingency_table_GM_list[3]['count']  # isActive = True, isMoA = True\n",
    "\n",
    "# Fisher's Exact Test\n",
    "_, p_value_GM = fisher_exact([[a, b], [c, d]])\n",
    "\n",
    "# 3. Compute Odds Ratio and its Confidence Interval\n",
    "or_ratio_GM = (a * d) / (b * c)\n",
    "or_lower_GM = np.exp(np.log(or_ratio_GM) - 1.96*np.sqrt(1/a + 1/b + 1/c + 1/d))\n",
    "or_upper_GM = np.exp(np.log(or_ratio_GM) + 1.96*np.sqrt(1/a + 1/b + 1/c + 1/d))\n",
    "\n",
    "print(f\"Odds Ratio for biodata with GE+: {or_ratio_GM}\")\n",
    "print(f\"95% CI: ({or_lower_GM}, {or_upper_GM})\")\n",
    "print(f\"P-value: {p_value_GM}\")"
   ]
  },
  {
   "cell_type": "code",
   "execution_count": 25,
   "metadata": {},
   "outputs": [
    {
     "name": "stdout",
     "output_type": "stream",
     "text": [
      "Contingency table hasGE Vs MoA:\n",
      "+-----------+-----+-----+\n",
      "|activeAndGE|isMoA|count|\n",
      "+-----------+-----+-----+\n",
      "|      false|false|24069|\n",
      "|      false| true| 1450|\n",
      "|       true|false| 2493|\n",
      "|       true| true| 1696|\n",
      "+-----------+-----+-----+\n",
      "\n",
      "Odds Ratio for biodata with GE+: 11.292591393833769\n",
      "95% CI: (10.4104906026308, 12.249434273142008)\n",
      "P-value: 0.0\n"
     ]
    }
   ],
   "source": [
    "# 2x2 table for Active + hasGE Vs MoA\n",
    "contingency_table_AGM = (\n",
    "    biodata_GE_prob\n",
    "    .groupBy(\"activeAndGE\", \"isMoA\")\n",
    "    .agg(F.count(\"*\").alias(\"count\"))\n",
    "    .orderBy(\"activeAndGE\", \"isMoA\")\n",
    ")\n",
    "\n",
    "print(\"Contingency table hasGE Vs MoA:\")\n",
    "contingency_table_AGM.show()\n",
    "contingency_table_AGM_list = contingency_table_AGM.collect()\n",
    "\n",
    "# Extract counts for Fisher's test\n",
    "a = contingency_table_AGM_list[0]['count']  # isActive = False, isMoA = False\n",
    "b = contingency_table_AGM_list[1]['count']  # isActive = False, isMoA = True\n",
    "c = contingency_table_AGM_list[2]['count']  # isActive = True, isMoA = False\n",
    "d = contingency_table_AGM_list[3]['count']  # isActive = True, isMoA = True\n",
    "\n",
    "# Fisher's Exact Test\n",
    "_, p_value_AGM = fisher_exact([[a, b], [c, d]])\n",
    "\n",
    "# 3. Compute Odds Ratio and its Confidence Interval\n",
    "or_ratio_AGM = (a * d) / (b * c)\n",
    "or_lower_AGM = np.exp(np.log(or_ratio_AGM) - 1.96*np.sqrt(1/a + 1/b + 1/c + 1/d))\n",
    "or_upper_AGM = np.exp(np.log(or_ratio_AGM) + 1.96*np.sqrt(1/a + 1/b + 1/c + 1/d))\n",
    "\n",
    "print(f\"Odds Ratio for biodata with GE+: {or_ratio_AGM}\")\n",
    "print(f\"95% CI: ({or_lower_AGM}, {or_upper_AGM})\")\n",
    "print(f\"P-value: {p_value_AGM}\")"
   ]
  },
  {
   "cell_type": "code",
   "execution_count": 132,
   "metadata": {},
   "outputs": [],
   "source": [
    "import matplotlib.pyplot as plt\n",
    "import numpy as np\n",
    "\n",
    "def forest_plot(ORs, CIs, p_values, labels, plot_name=\"forest_plot\", title=\"Forest Plot\", figsize=(10, 6), xlim=(0.1, 10)):\n",
    "    \"\"\"\n",
    "    Display a forest plot.\n",
    "\n",
    "    Parameters:\n",
    "    - ORs: List of odds ratios\n",
    "    - CIs: List of confidence intervals (as tuples of (lower, upper))\n",
    "    - p_values: List of p-values\n",
    "    - labels: List of names for each OR/CI/p-value\n",
    "    - plot_name: The name of the plot to save (without file extension)\n",
    "    - title: The title to display on the plot\n",
    "    - figsize: The size of the figure (width, height) in inches\n",
    "    - xlim: The limits for the x-axis as a tuple (xmin, xmax)\n",
    "    \"\"\"\n",
    "    y_pos = range(len(ORs), 0, -1)  # Position on the y axis\n",
    "\n",
    "    plt.figure(figsize=figsize)\n",
    "    plt.axvline(1, color='lightgrey', linestyle='--')  # Line at OR=1\n",
    "\n",
    "    for i, (or_val, (l, u), p_val) in enumerate(zip(ORs, CIs, p_values)):\n",
    "        plt.plot([l, u], [y_pos[i]]*2, '-', color='black', linewidth=2)\n",
    "        plt.plot(l, y_pos[i], marker='|', color='black', markersize=15, mew=2)\n",
    "        plt.plot(u, y_pos[i], marker='|', color='black', markersize=15, mew=2)\n",
    "        \n",
    "        # Display p-values\n",
    "        if p_val < 0.001:\n",
    "            plt.text(u + xlim[1]/50, y_pos[i], \"p < 0.001\", va='center', ha='left', fontsize=10)\n",
    "        else:\n",
    "            exponent = np.ceil(-np.log10(p_val)).astype(int)\n",
    "            plt.text(u + xlim[1]/50, y_pos[i], f\"p = $10^{{-{exponent}}}$\", va='center', ha='left', fontsize=10)\n",
    "        \n",
    "        # Display OR and CI values above the intervals\n",
    "        plt.text(or_val, y_pos[i] + 0.2, f\"OR={or_val:.2f} ({l:.2f}, {u:.2f})\", ha='center', va='bottom', fontsize=10)\n",
    "\n",
    "    plt.yticks(y_pos, labels, fontsize=12)\n",
    "    plt.xticks(fontsize=10)\n",
    "    plt.xlabel('Odds Ratio and 95% CI', fontsize=12)\n",
    "    plt.title(title, fontsize=14)  # Set the title of the plot\n",
    "    plt.tight_layout()\n",
    "    plt.xlim(xlim)  # Set the x-axis limits based on the xlim parameter\n",
    "    plt.ylim(0.5, len(ORs) + 0.5)\n",
    "    plt.savefig(f\"data/analysis/{plot_name}.png\", dpi=300)  # Save with the given plot name\n",
    "    plt.show()\n",
    "\n",
    "# Usage:\n",
    "# forest_plot(ORs, CIs, p_values, labels, \"my_forest_plot\", \"My Custom Plot Title\", figsize=(12, 8), xlim=(2, 15))\n"
   ]
  },
  {
   "cell_type": "code",
   "execution_count": 64,
   "metadata": {},
   "outputs": [
    {
     "data": {
      "image/png": "[encoded data removed]",
      "text/plain": [
       "<Figure size 600x400 with 1 Axes>"
      ]
     },
     "metadata": {},
     "output_type": "display_data"
    }
   ],
   "source": [
    "# Sample data\n",
    "ORs = [or_lower_GM, or_lower_AM, or_lower_AGM]\n",
    "CIs = [(or_lower_GM, or_upper_GM), (or_lower_AM, or_upper_AM), (or_lower_AGM, or_upper_AGM)]\n",
    "p_values = [p_value_GM, p_value_AM, p_value_AGM]\n",
    "labels = ['GE', 'Active', 'Active & GE']\n",
    "\n",
    "forest_plot(ORs, CIs, p_values, labels, \"MoA_v1\", \"Active & GE Vs MoA\", figsize=(6, 4), xlim=(1, 15))"
   ]
  },
  {
   "cell_type": "markdown",
   "metadata": {},
   "source": [
    "## OR calculation for Active + GE Vs Chemical probes"
   ]
  },
  {
   "cell_type": "code",
   "execution_count": 42,
   "metadata": {},
   "outputs": [],
   "source": [
    "def get_contingency_counts(contingency_table):\n",
    "    \"\"\"\n",
    "    Extracts counts from a Spark DataFrame that represents a contingency table.\n",
    "    Assumes the DataFrame has 'count' column and is sorted appropriately.\n",
    "    \"\"\"\n",
    "    contingency_list = contingency_table.collect()\n",
    "    counts = [row['count'] for row in contingency_list]\n",
    "    if len(counts) == 4:\n",
    "        return counts\n",
    "    else:\n",
    "        raise ValueError(\"Contingency table does not have 4 rows.\")"
   ]
  },
  {
   "cell_type": "code",
   "execution_count": 43,
   "metadata": {},
   "outputs": [],
   "source": [
    "def perform_fishers_exact_test(a, b, c, d):\n",
    "    \"\"\"\n",
    "    Performs Fisher's Exact Test and returns the p-value.\n",
    "    \"\"\"\n",
    "    _, p_value = fisher_exact([[a, b], [c, d]])\n",
    "    return p_value"
   ]
  },
  {
   "cell_type": "code",
   "execution_count": 44,
   "metadata": {},
   "outputs": [],
   "source": [
    "def compute_odds_ratio_and_ci(a, b, c, d):\n",
    "    \"\"\"\n",
    "    Computes the Odds Ratio and its 95% Confidence Interval.\n",
    "    \"\"\"\n",
    "    or_ratio = (a * d) / (b * c)\n",
    "    se = np.sqrt(1/a + 1/b + 1/c + 1/d)\n",
    "    ci_lower = np.exp(np.log(or_ratio) - 1.96 * se)\n",
    "    ci_upper = np.exp(np.log(or_ratio) + 1.96 * se)\n",
    "    return or_ratio, ci_lower, ci_upper"
   ]
  },
  {
   "cell_type": "code",
   "execution_count": 122,
   "metadata": {},
   "outputs": [
    {
     "name": "stdout",
     "output_type": "stream",
     "text": [
      "+---------+------------+--------+---------------+------+--------------+--------------------+-----------+--------------------+------+--------------------+----------------+------------+--------------+--------------+-----------------+-------------+---------------+-----+------------+---------+--------------------+------------------+-------------------+------------+--------+-----+-----------+-------+-----------------------+\n",
      "|accession|   chembl_id|molregno|assay_chembl_id|src_id|src_short_name|             journal|  pubmed_id|                 doi|   tid|           pref_name|target_chembl_id|    organism|standard_value|standard_units|standard_relation|pchembl_value|       targetID|isMoA|      drugId|uniprotId|             sources|isHighQualityProbe|isTherapeuticTarget|proteinClass|isActive|hasGE|activeAndGE|isProbe|isHighQualityProbe_true|\n",
      "+---------+------------+--------+---------------+------+--------------+--------------------+-----------+--------------------+------+--------------------+----------------+------------+--------------+--------------+-----------------+-------------+---------------+-----+------------+---------+--------------------+------------------+-------------------+------------+--------+-----+-----------+-------+-----------------------+\n",
      "|   Q99808|CHEMBL100259|  161181|  CHEMBL3528990|     1|    LITERATURE|   Drug Metab Dispos|2.3388705E7|10.1124/dmd.112.0...|   175|Equilibrative nuc...|      CHEMBL1997|Homo sapiens|       51000.0|            nM|                =|         4.29|ENSG00000112759|false|CHEMBL100259|   Q99808|            [chembl]|             false|               true| Transporter|   false|false|      false|  false|                  false|\n",
      "|   Q9HAS3|CHEMBL100259|  161181|  CHEMBL3528994|     1|    LITERATURE|   Drug Metab Dispos|2.3388705E7|10.1124/dmd.112.0...|101512|Solute carrier fa...|      CHEMBL5707|Homo sapiens|        3400.0|            nM|                =|         5.47|ENSG00000197506|false|        NULL|     NULL|                NULL|              NULL|               NULL| Transporter|   false|false|      false|  false|                  false|\n",
      "|   P03372| CHEMBL10041|    6341|  CHEMBL5121196|     1|    LITERATURE|      Eur J Med Chem|3.4710747E7|10.1016/j.ejmech....|    19|Estrogen receptor...|       CHEMBL206|Homo sapiens|          1.12|            nM|                =|         8.95|ENSG00000091831|false| CHEMBL10041|   P03372|    [chemicalProbes]|             false|              false|          NR|    true|false|      false|   true|                  false|\n",
      "|   P00533|  CHEMBL1009|  112655|  CHEMBL1909203|    15|    DRUGMATRIX|                NULL|       NULL|                NULL|     9|Epidermal growth ...|       CHEMBL203|Homo sapiens|        2880.0|            nM|                =|         5.54|ENSG00000146648|false|  CHEMBL1009|   P00533|              [impc]|             false|              false|      Kinase|   false| true|      false|  false|                  false|\n",
      "|   Q9NPD5|  CHEMBL1014|  116349|  CHEMBL3039493|     1|    LITERATURE|       Mol Pharmacol|2.3571415E7|10.1124/mol.112.0...|104062|Solute carrier or...|   CHEMBL1743121|Homo sapiens|        1900.0|            nM|                =|         5.72|ENSG00000111700|false|        NULL|     NULL|                NULL|              NULL|               NULL| Transporter|   false|false|      false|  false|                  false|\n",
      "|   P24557|  CHEMBL1016|  116848|  CHEMBL1909116|    15|    DRUGMATRIX|                NULL|       NULL|                NULL|   248|Thromboxane-A syn...|      CHEMBL1835|Homo sapiens|        3059.4|            nM|                =|         5.51|ENSG00000059377|false|  CHEMBL1016|   P24557|[ot_genetics_port...|             false|               true|      Enzyme|    true| true|       true|  false|                  false|\n",
      "|   P30556|  CHEMBL1017|  116949|  CHEMBL2327554|     1|    LITERATURE|Bioorg Med Chem Lett|2.3265881E7|10.1016/j.bmcl.20...|   115|Type-1 angiotensi...|       CHEMBL227|Homo sapiens|          0.49|            nM|                =|         9.31|ENSG00000144891| true|  CHEMBL1017|   P30556| [impc, eva, chembl]|             false|               true|        GPCR|    true| true|       true|  false|                  false|\n",
      "|   P37231|  CHEMBL1017|  116949|  CHEMBL3873287|     1|    LITERATURE|      Eur J Med Chem|2.7560282E7|10.1016/j.ejmech....|   133|Peroxisome prolif...|       CHEMBL235|Homo sapiens|         700.0|            nM|                =|         6.16|ENSG00000132170|false|  CHEMBL1017|   P37231|[impc, eva, ot_ge...|             false|               true|          NR|    true| true|       true|  false|                  false|\n",
      "|   Q9Y6L6|  CHEMBL1017|  116949|  CHEMBL3039490|     1|    LITERATURE|       Mol Pharmacol|2.3571415E7|10.1124/mol.112.0...|103947|Solute carrier or...|   CHEMBL1697668|Homo sapiens|        1030.0|            nM|                =|         5.99|ENSG00000134538|false|  CHEMBL1017|   Q9Y6L6|[impc, ot_genetic...|             false|              false| Transporter|   false| true|      false|  false|                  false|\n",
      "|   P10826|  CHEMBL1023|  119498|   CHEMBL798919|     1|    LITERATURE|          J Med Chem|  9435893.0|   10.1021/jm9704309|   270|Retinoic acid rec...|      CHEMBL2008|Homo sapiens|          50.0|            nM|                =|          7.3|ENSG00000077092|false|  CHEMBL1023|   P10826|[ot_genetics_port...|             false|               true|          NR|    true| true|       true|  false|                  false|\n",
      "|   P10619|  CHEMBL1025|  119717|   CHEMBL917590|     1|    LITERATURE|Antimicrob Agents...|1.7145787E7|10.1128/aac.00968-06|102753|Lysosomal protect...|      CHEMBL6115|Homo sapiens|       10000.0|            nM|                =|          5.0|ENSG00000064601|false|        NULL|     NULL|                NULL|              NULL|               NULL|      Enzyme|   false|false|      false|  false|                  false|\n",
      "|   P21397| CHEMBL10316|    6784|   CHEMBL841865|     1|    LITERATURE|Bioorg Med Chem Lett|1.4698188E7|10.1016/j.bmcl.20...|104789|   Monoamine oxidase|   CHEMBL2095205|Homo sapiens|          28.0|            nM|                =|         7.55|ENSG00000189221|false| CHEMBL10316|   P21397|            [chembl]|             false|               true|      Enzyme|    true|false|      false|  false|                  false|\n",
      "|   P25100| CHEMBL10316|    6784|   CHEMBL648807|     1|    LITERATURE|          J Med Chem|  2886664.0| 10.1021/jm00391a015|104723|Adrenergic recept...|   CHEMBL2094251|Homo sapiens|        141.25|            nM|                =|         6.85|ENSG00000171873|false| CHEMBL10316|   P25100|            [chembl]|             false|               true|        GPCR|    true|false|      false|  false|                  false|\n",
      "|   P04629|CHEMBL103667|  167995|  CHEMBL1931566|     1|    LITERATURE|Bioorg Med Chem Lett| 2.201455E7|10.1016/j.bmcl.20...| 11902|Nerve growth fact...|      CHEMBL2815|Homo sapiens|         160.0|            nM|                =|          6.8|ENSG00000198400|false|CHEMBL103667|   P04629|            [chembl]|             false|               true|      Kinase|   false|false|      false|  false|                  false|\n",
      "|   P35590|CHEMBL103667|  167995|  CHEMBL1908714|     1|    LITERATURE|      Nat Biotechnol|2.2037378E7|    10.1038/nbt.1990|100906|Tyrosine-protein ...|      CHEMBL5274|Homo sapiens|           8.3|            nM|                =|         8.08|ENSG00000066056|false|        NULL|     NULL|                NULL|              NULL|               NULL|      Kinase|    true|false|      false|  false|                  false|\n",
      "|   Q15375|CHEMBL103667|  167995|   CHEMBL860660|     1|    LITERATURE|      Nat Biotechnol|1.5711537E7|     10.1038/nbt1068| 30027|Ephrin type-A rec...|      CHEMBL4602|Homo sapiens|         220.0|            nM|                =|         6.66|ENSG00000135333|false|        NULL|     NULL|                NULL|              NULL|               NULL|      Kinase|   false|false|      false|  false|                  false|\n",
      "|   Q9UF33|CHEMBL103667|  167995|   CHEMBL859486|     1|    LITERATURE|      Nat Biotechnol|1.5711537E7|     10.1038/nbt1068| 30046|Ephrin type-A rec...|      CHEMBL4526|Homo sapiens|         430.0|            nM|                =|         6.37|ENSG00000080224|false|        NULL|     NULL|                NULL|              NULL|               NULL|      Kinase|   false|false|      false|  false|                  false|\n",
      "|   P14416|   CHEMBL104|   13494|  CHEMBL1909140|    15|    DRUGMATRIX|                NULL|       NULL|                NULL|    72|Dopamine D2 receptor|       CHEMBL217|Homo sapiens|        4062.0|            nM|                =|         5.39|ENSG00000149295|false|   CHEMBL104|   P14416|      [impc, chembl]|             false|               true|        GPCR|   false| true|      false|  false|                  false|\n",
      "|   P21452|   CHEMBL104|   13494|  CHEMBL1909114|    15|    DRUGMATRIX|                NULL|       NULL|                NULL| 10184|Neurokinin 2 rece...|      CHEMBL2327|Homo sapiens|        3383.0|            nM|                =|         5.47|ENSG00000075073|false|        NULL|     NULL|                NULL|              NULL|               NULL|        GPCR|   false|false|      false|  false|                  false|\n",
      "|   P28223|   CHEMBL104|   13494|  CHEMBL1909211|    15|    DRUGMATRIX|                NULL|       NULL|                NULL|   107|Serotonin 2a (5-H...|       CHEMBL224|Homo sapiens|        3183.0|            nM|                =|          5.5|ENSG00000102468|false|   CHEMBL104|   P28223|            [chembl]|             false|               true|        GPCR|   false|false|      false|  false|                  false|\n",
      "+---------+------------+--------+---------------+------+--------------+--------------------+-----------+--------------------+------+--------------------+----------------+------------+--------------+--------------+-----------------+-------------+---------------+-----+------------+---------+--------------------+------------------+-------------------+------------+--------+-----+-----------+-------+-----------------------+\n",
      "only showing top 20 rows\n",
      "\n"
     ]
    }
   ],
   "source": [
    "# Assuming your DataFrame is named df\n",
    "biodata_GE_prob_t = biodata_GE_prob.withColumn(\n",
    "    'isHighQualityProbe_true',\n",
    "    when(col('isHighQualityProbe').isNull(), False).otherwise(col('isHighQualityProbe'))\n",
    ")\n",
    "\n",
    "biodata_GE_prob_t.show()"
   ]
  },
  {
   "cell_type": "code",
   "execution_count": 139,
   "metadata": {},
   "outputs": [],
   "source": [
    "probe = \"isHighQualityProbe_true\"\n",
    "# probe = \"isProbe\""
   ]
  },
  {
   "cell_type": "code",
   "execution_count": 140,
   "metadata": {},
   "outputs": [
    {
     "name": "stdout",
     "output_type": "stream",
     "text": [
      "Contingency table Active Vs Probes:\n",
      "+--------+-----------------------+-----+\n",
      "|isActive|isHighQualityProbe_true|count|\n",
      "+--------+-----------------------+-----+\n",
      "|   false|                  false|14464|\n",
      "|   false|                   true|   85|\n",
      "|    true|                  false|14422|\n",
      "|    true|                   true|  737|\n",
      "+--------+-----------------------+-----+\n",
      "\n",
      "Odds Ratio for Active Vs Probes: 8.695838873616289\n",
      "95% CI: (6.938920886448418, 10.897604246155336)\n",
      "P-value: 5.79457600859566e-128\n"
     ]
    }
   ],
   "source": [
    "# 2x2 table for Active Vs Probes\n",
    "contingency_table_AP = (\n",
    "    biodata_GE_prob_t\n",
    "    .groupBy(\"isActive\", probe)\n",
    "    .agg(F.count(\"*\").alias(\"count\"))\n",
    "    .orderBy(\"isActive\", probe)\n",
    ")\n",
    "\n",
    "print(\"Contingency table Active Vs Probes:\")\n",
    "contingency_table_AP.show()\n",
    "\n",
    "# Extract counts for Fisher's test\n",
    "a, b, c, d = get_contingency_counts(contingency_table_AP)\n",
    "\n",
    "# Fisher's Exact Test\n",
    "p_value_AP = perform_fishers_exact_test(a, b, c, d)\n",
    "\n",
    "# Compute Odds Ratio and its Confidence Interval\n",
    "or_ratio_AP, or_lower_AP, or_upper_AP = compute_odds_ratio_and_ci(a, b, c, d)\n",
    "\n",
    "print(f\"Odds Ratio for Active Vs Probes: {or_ratio_AP}\")\n",
    "print(f\"95% CI: ({or_lower_AP}, {or_upper_AP})\")\n",
    "print(f\"P-value: {p_value_AP}\")"
   ]
  },
  {
   "cell_type": "code",
   "execution_count": 136,
   "metadata": {},
   "outputs": [
    {
     "name": "stdout",
     "output_type": "stream",
     "text": [
      "Contingency table hasGE Vs Probes:\n",
      "+-----+-------+-----+\n",
      "|hasGE|isProbe|count|\n",
      "+-----+-------+-----+\n",
      "|false|  false|16422|\n",
      "|false|   true| 4144|\n",
      "| true|  false| 8905|\n",
      "| true|   true|  237|\n",
      "+-----+-------+-----+\n",
      "\n",
      "Odds Ratio for Active Vs Probes: 0.10546800309574032\n",
      "95% CI: (0.09229452662263818, 0.12052176964386416)\n",
      "P-value: 0.0\n"
     ]
    }
   ],
   "source": [
    "# 2x2 table for hasGE Vs Probes\n",
    "contingency_table_GP = (\n",
    "    biodata_GE_prob_t\n",
    "    .groupBy(\"hasGE\", probe)\n",
    "    .agg(F.count(\"*\").alias(\"count\"))\n",
    "    .orderBy(\"hasGE\", probe)\n",
    ")\n",
    "\n",
    "print(\"Contingency table hasGE Vs Probes:\")\n",
    "contingency_table_GP.show()\n",
    "\n",
    "# Extract counts for Fisher's test\n",
    "a, b, c, d = get_contingency_counts(contingency_table_GP)\n",
    "\n",
    "# Fisher's Exact Test\n",
    "p_value_GP = perform_fishers_exact_test(a, b, c, d)\n",
    "\n",
    "# Compute Odds Ratio and its Confidence Interval\n",
    "or_ratio_GP, or_lower_GP, or_upper_GP = compute_odds_ratio_and_ci(a, b, c, d)\n",
    "\n",
    "print(f\"Odds Ratio for Active Vs Probes: {or_ratio_GP}\")\n",
    "print(f\"95% CI: ({or_lower_GP}, {or_upper_GP})\")\n",
    "print(f\"P-value: {p_value_GP}\")"
   ]
  },
  {
   "cell_type": "code",
   "execution_count": 137,
   "metadata": {},
   "outputs": [
    {
     "name": "stdout",
     "output_type": "stream",
     "text": [
      "Contingency table hasGE Vs Probes:\n",
      "+-----------+-------+-----+\n",
      "|activeAndGE|isProbe|count|\n",
      "+-----------+-------+-----+\n",
      "|      false|  false|21354|\n",
      "|      false|   true| 4165|\n",
      "|       true|  false| 3973|\n",
      "|       true|   true|  216|\n",
      "+-----------+-------+-----+\n",
      "\n",
      "Odds Ratio for Active Vs Probes: 0.2787400789663965\n",
      "95% CI: (0.24210565235407458, 0.32091787559162016)\n",
      "P-value: 8.102003859287857e-98\n"
     ]
    }
   ],
   "source": [
    "# 2x2 table for Active + hasGE Vs Probes\n",
    "contingency_table_AGP = (\n",
    "    biodata_GE_prob_t\n",
    "    .groupBy(\"activeAndGE\", probe)\n",
    "    .agg(F.count(\"*\").alias(\"count\"))\n",
    "    .orderBy(\"activeAndGE\", probe)\n",
    ")\n",
    "\n",
    "print(\"Contingency table hasGE Vs Probes:\")\n",
    "contingency_table_AGP.show()\n",
    "\n",
    "# Extract counts for Fisher's test\n",
    "a, b, c, d = get_contingency_counts(contingency_table_AGP)\n",
    "\n",
    "# Fisher's Exact Test\n",
    "p_value_AGP = perform_fishers_exact_test(a, b, c, d)\n",
    "\n",
    "# Compute Odds Ratio and its Confidence Interval\n",
    "or_ratio_AGP, or_lower_AGP, or_upper_AGP = compute_odds_ratio_and_ci(a, b, c, d)\n",
    "\n",
    "print(f\"Odds Ratio for Active Vs Probes: {or_ratio_AGP}\")\n",
    "print(f\"95% CI: ({or_lower_AGP}, {or_upper_AGP})\")\n",
    "print(f\"P-value: {p_value_AGP}\")"
   ]
  },
  {
   "cell_type": "code",
   "execution_count": 138,
   "metadata": {},
   "outputs": [
    {
     "data": {
      "image/png": "[encoded data removed]",
      "text/plain": [
       "<Figure size 600x400 with 1 Axes>"
      ]
     },
     "metadata": {},
     "output_type": "display_data"
    }
   ],
   "source": [
    "ORs_probes = [or_lower_GP, or_lower_AP, or_lower_AGP]\n",
    "CIs_probes = [(or_lower_GP, or_upper_GP), (or_lower_AP, or_upper_AP), (or_lower_AGP, or_upper_AGP)]\n",
    "p_values_probes = [p_value_GP, p_value_AP, p_value_AGP]\n",
    "labels_probes = ['GE', 'Active', 'Active & GE']\n",
    "\n",
    "forest_plot(ORs_probes, CIs_probes, p_values_probes, labels_probes, \"Probes_v1\", \"Active & GE Vs Probes (any)\", figsize=(6, 4), xlim=(-3, 14))"
   ]
  },
  {
   "cell_type": "markdown",
   "metadata": {},
   "source": [
    "### Aggregate evidence by source type"
   ]
  },
  {
   "cell_type": "code",
   "execution_count": 85,
   "metadata": {},
   "outputs": [
    {
     "name": "stdout",
     "output_type": "stream",
     "text": [
      "+------------------+\n",
      "|  exploded_sources|\n",
      "+------------------+\n",
      "|  uniprot_variants|\n",
      "|       gene_burden|\n",
      "|    chemicalProbes|\n",
      "|            chembl|\n",
      "|           intogen|\n",
      "|          orphanet|\n",
      "|cancer_gene_census|\n",
      "|           clingen|\n",
      "|               eva|\n",
      "|    gene2phenotype|\n",
      "|uniprot_literature|\n",
      "|       eva_somatic|\n",
      "|ot_genetics_portal|\n",
      "|              impc|\n",
      "+------------------+\n",
      "\n"
     ]
    }
   ],
   "source": [
    "from pyspark.sql.functions import explode, col\n",
    "\n",
    "unique_values_df = biodata_GE_prob.withColumn(\"exploded_sources\", explode(col(\"sources\"))) \\\n",
    "                     .select(\"exploded_sources\") \\\n",
    "                     .distinct()\n",
    "\n",
    "# To show the unique values you can do\n",
    "unique_values_df.show()\n"
   ]
  },
  {
   "cell_type": "code",
   "execution_count": 86,
   "metadata": {},
   "outputs": [
    {
     "name": "stdout",
     "output_type": "stream",
     "text": [
      "+---------+------------+--------+---------------+------+--------------+--------------------+-----------+--------------------+------+--------------------+----------------+------------+--------------+--------------+-----------------+-------------+---------------+-----+------------+---------+--------------------+------------------+-------------------+------------+--------+-----+-----------+-------+--------------+--------------+--------------+----------+-------+-----------+\n",
      "|accession|   chembl_id|molregno|assay_chembl_id|src_id|src_short_name|             journal|  pubmed_id|                 doi|   tid|           pref_name|target_chembl_id|    organism|standard_value|standard_units|standard_relation|pchembl_value|       targetID|isMoA|      drugId|uniprotId|             sources|isHighQualityProbe|isTherapeuticTarget|proteinClass|isActive|hasGE|activeAndGE|isProbe|Rare_mendelian|Common_disease|ChemicalProbes|Literature|Somatic|Mouse_model|\n",
      "+---------+------------+--------+---------------+------+--------------+--------------------+-----------+--------------------+------+--------------------+----------------+------------+--------------+--------------+-----------------+-------------+---------------+-----+------------+---------+--------------------+------------------+-------------------+------------+--------+-----+-----------+-------+--------------+--------------+--------------+----------+-------+-----------+\n",
      "|   Q99808|CHEMBL100259|  161181|  CHEMBL3528990|     1|    LITERATURE|   Drug Metab Dispos|2.3388705E7|10.1124/dmd.112.0...|   175|Equilibrative nuc...|      CHEMBL1997|Homo sapiens|       51000.0|            nM|                =|         4.29|ENSG00000112759|false|CHEMBL100259|   Q99808|            [chembl]|             false|               true| Transporter|   false|false|      false|  false|         false|         false|         false|      true|  false|      false|\n",
      "|   Q9HAS3|CHEMBL100259|  161181|  CHEMBL3528994|     1|    LITERATURE|   Drug Metab Dispos|2.3388705E7|10.1124/dmd.112.0...|101512|Solute carrier fa...|      CHEMBL5707|Homo sapiens|        3400.0|            nM|                =|         5.47|ENSG00000197506|false|        NULL|     NULL|                NULL|              NULL|               NULL| Transporter|   false|false|      false|  false|         false|         false|         false|     false|  false|      false|\n",
      "|   P03372| CHEMBL10041|    6341|  CHEMBL5121196|     1|    LITERATURE|      Eur J Med Chem|3.4710747E7|10.1016/j.ejmech....|    19|Estrogen receptor...|       CHEMBL206|Homo sapiens|          1.12|            nM|                =|         8.95|ENSG00000091831|false| CHEMBL10041|   P03372|    [chemicalProbes]|             false|              false|          NR|    true|false|      false|   true|         false|         false|          true|     false|  false|      false|\n",
      "|   P00533|  CHEMBL1009|  112655|  CHEMBL1909203|    15|    DRUGMATRIX|                NULL|       NULL|                NULL|     9|Epidermal growth ...|       CHEMBL203|Homo sapiens|        2880.0|            nM|                =|         5.54|ENSG00000146648|false|  CHEMBL1009|   P00533|              [impc]|             false|              false|      Kinase|   false| true|      false|  false|         false|         false|         false|     false|  false|       true|\n",
      "|   Q9NPD5|  CHEMBL1014|  116349|  CHEMBL3039493|     1|    LITERATURE|       Mol Pharmacol|2.3571415E7|10.1124/mol.112.0...|104062|Solute carrier or...|   CHEMBL1743121|Homo sapiens|        1900.0|            nM|                =|         5.72|ENSG00000111700|false|        NULL|     NULL|                NULL|              NULL|               NULL| Transporter|   false|false|      false|  false|         false|         false|         false|     false|  false|      false|\n",
      "|   P24557|  CHEMBL1016|  116848|  CHEMBL1909116|    15|    DRUGMATRIX|                NULL|       NULL|                NULL|   248|Thromboxane-A syn...|      CHEMBL1835|Homo sapiens|        3059.4|            nM|                =|         5.51|ENSG00000059377|false|  CHEMBL1016|   P24557|[ot_genetics_port...|             false|               true|      Enzyme|    true| true|       true|  false|         false|          true|         false|      true|  false|      false|\n",
      "|   P30556|  CHEMBL1017|  116949|  CHEMBL2327554|     1|    LITERATURE|Bioorg Med Chem Lett|2.3265881E7|10.1016/j.bmcl.20...|   115|Type-1 angiotensi...|       CHEMBL227|Homo sapiens|          0.49|            nM|                =|         9.31|ENSG00000144891| true|  CHEMBL1017|   P30556| [impc, eva, chembl]|             false|               true|        GPCR|    true| true|       true|  false|          true|         false|         false|      true|  false|       true|\n",
      "|   P37231|  CHEMBL1017|  116949|  CHEMBL3873287|     1|    LITERATURE|      Eur J Med Chem|2.7560282E7|10.1016/j.ejmech....|   133|Peroxisome prolif...|       CHEMBL235|Homo sapiens|         700.0|            nM|                =|         6.16|ENSG00000132170|false|  CHEMBL1017|   P37231|[impc, eva, ot_ge...|             false|               true|          NR|    true| true|       true|  false|          true|          true|         false|      true|   true|       true|\n",
      "|   Q9Y6L6|  CHEMBL1017|  116949|  CHEMBL3039490|     1|    LITERATURE|       Mol Pharmacol|2.3571415E7|10.1124/mol.112.0...|103947|Solute carrier or...|   CHEMBL1697668|Homo sapiens|        1030.0|            nM|                =|         5.99|ENSG00000134538|false|  CHEMBL1017|   Q9Y6L6|[impc, ot_genetic...|             false|              false| Transporter|   false| true|      false|  false|         false|          true|         false|     false|  false|       true|\n",
      "|   P10826|  CHEMBL1023|  119498|   CHEMBL798919|     1|    LITERATURE|          J Med Chem|  9435893.0|   10.1021/jm9704309|   270|Retinoic acid rec...|      CHEMBL2008|Homo sapiens|          50.0|            nM|                =|          7.3|ENSG00000077092|false|  CHEMBL1023|   P10826|[ot_genetics_port...|             false|               true|          NR|    true| true|       true|  false|         false|          true|         false|      true|  false|      false|\n",
      "|   P10619|  CHEMBL1025|  119717|   CHEMBL917590|     1|    LITERATURE|Antimicrob Agents...|1.7145787E7|10.1128/aac.00968-06|102753|Lysosomal protect...|      CHEMBL6115|Homo sapiens|       10000.0|            nM|                =|          5.0|ENSG00000064601|false|        NULL|     NULL|                NULL|              NULL|               NULL|      Enzyme|   false|false|      false|  false|         false|         false|         false|     false|  false|      false|\n",
      "|   P21397| CHEMBL10316|    6784|   CHEMBL841865|     1|    LITERATURE|Bioorg Med Chem Lett|1.4698188E7|10.1016/j.bmcl.20...|104789|   Monoamine oxidase|   CHEMBL2095205|Homo sapiens|          28.0|            nM|                =|         7.55|ENSG00000189221|false| CHEMBL10316|   P21397|            [chembl]|             false|               true|      Enzyme|    true|false|      false|  false|         false|         false|         false|      true|  false|      false|\n",
      "|   P25100| CHEMBL10316|    6784|   CHEMBL648807|     1|    LITERATURE|          J Med Chem|  2886664.0| 10.1021/jm00391a015|104723|Adrenergic recept...|   CHEMBL2094251|Homo sapiens|        141.25|            nM|                =|         6.85|ENSG00000171873|false| CHEMBL10316|   P25100|            [chembl]|             false|               true|        GPCR|    true|false|      false|  false|         false|         false|         false|      true|  false|      false|\n",
      "|   P04629|CHEMBL103667|  167995|  CHEMBL1931566|     1|    LITERATURE|Bioorg Med Chem Lett| 2.201455E7|10.1016/j.bmcl.20...| 11902|Nerve growth fact...|      CHEMBL2815|Homo sapiens|         160.0|            nM|                =|          6.8|ENSG00000198400|false|CHEMBL103667|   P04629|            [chembl]|             false|               true|      Kinase|   false|false|      false|  false|         false|         false|         false|      true|  false|      false|\n",
      "|   P35590|CHEMBL103667|  167995|  CHEMBL1908714|     1|    LITERATURE|      Nat Biotechnol|2.2037378E7|    10.1038/nbt.1990|100906|Tyrosine-protein ...|      CHEMBL5274|Homo sapiens|           8.3|            nM|                =|         8.08|ENSG00000066056|false|        NULL|     NULL|                NULL|              NULL|               NULL|      Kinase|    true|false|      false|  false|         false|         false|         false|     false|  false|      false|\n",
      "|   Q15375|CHEMBL103667|  167995|   CHEMBL860660|     1|    LITERATURE|      Nat Biotechnol|1.5711537E7|     10.1038/nbt1068| 30027|Ephrin type-A rec...|      CHEMBL4602|Homo sapiens|         220.0|            nM|                =|         6.66|ENSG00000135333|false|        NULL|     NULL|                NULL|              NULL|               NULL|      Kinase|   false|false|      false|  false|         false|         false|         false|     false|  false|      false|\n",
      "|   Q9UF33|CHEMBL103667|  167995|   CHEMBL859486|     1|    LITERATURE|      Nat Biotechnol|1.5711537E7|     10.1038/nbt1068| 30046|Ephrin type-A rec...|      CHEMBL4526|Homo sapiens|         430.0|            nM|                =|         6.37|ENSG00000080224|false|        NULL|     NULL|                NULL|              NULL|               NULL|      Kinase|   false|false|      false|  false|         false|         false|         false|     false|  false|      false|\n",
      "|   P14416|   CHEMBL104|   13494|  CHEMBL1909140|    15|    DRUGMATRIX|                NULL|       NULL|                NULL|    72|Dopamine D2 receptor|       CHEMBL217|Homo sapiens|        4062.0|            nM|                =|         5.39|ENSG00000149295|false|   CHEMBL104|   P14416|      [impc, chembl]|             false|               true|        GPCR|   false| true|      false|  false|         false|         false|         false|      true|  false|       true|\n",
      "|   P21452|   CHEMBL104|   13494|  CHEMBL1909114|    15|    DRUGMATRIX|                NULL|       NULL|                NULL| 10184|Neurokinin 2 rece...|      CHEMBL2327|Homo sapiens|        3383.0|            nM|                =|         5.47|ENSG00000075073|false|        NULL|     NULL|                NULL|              NULL|               NULL|        GPCR|   false|false|      false|  false|         false|         false|         false|     false|  false|      false|\n",
      "|   P28223|   CHEMBL104|   13494|  CHEMBL1909211|    15|    DRUGMATRIX|                NULL|       NULL|                NULL|   107|Serotonin 2a (5-H...|       CHEMBL224|Homo sapiens|        3183.0|            nM|                =|          5.5|ENSG00000102468|false|   CHEMBL104|   P28223|            [chembl]|             false|               true|        GPCR|   false|false|      false|  false|         false|         false|         false|      true|  false|      false|\n",
      "+---------+------------+--------+---------------+------+--------------+--------------------+-----------+--------------------+------+--------------------+----------------+------------+--------------+--------------+-----------------+-------------+---------------+-----+------------+---------+--------------------+------------------+-------------------+------------+--------+-----+-----------+-------+--------------+--------------+--------------+----------+-------+-----------+\n",
      "only showing top 20 rows\n",
      "\n"
     ]
    }
   ],
   "source": [
    "from functools import reduce\n",
    "from pyspark.sql import functions as F\n",
    "from pyspark.sql.functions import col, array_contains, when\n",
    "\n",
    "rare_mendelian = ['uniprot_variants', 'clingen', 'gene2phenotype', 'orphanet', 'eva', 'uniprot_literature']\n",
    "common_disease = ['gene_burden', 'ot_genetics_portal']\n",
    "chemicalProbes = ['chemicalProbes']\n",
    "literature = ['chembl']\n",
    "somatic = ['intogen', 'cancer_gene_census', 'eva_somatic']\n",
    "mouse_model = ['impc']\n",
    "\n",
    "# A dictionary to hold the category and its corresponding list\n",
    "categories = {\n",
    "    'Rare_mendelian': rare_mendelian,\n",
    "    'Common_disease': common_disease,\n",
    "    'ChemicalProbes': chemicalProbes,\n",
    "    'Literature': literature,\n",
    "    'Somatic': somatic,\n",
    "    'Mouse_model': mouse_model\n",
    "}\n",
    "\n",
    "# Loop through the dictionary to create a new boolean column for each category\n",
    "for category, values_to_check in categories.items():\n",
    "    # Create a condition for each value in the list\n",
    "    condition = reduce(lambda x, y: x | y, (array_contains(col(\"sources\"), v) for v in values_to_check))\n",
    "    # Add a new column to the DataFrame based on the condition\n",
    "    biodata_GE_prob = biodata_GE_prob.withColumn(category, when(condition, True).otherwise(False))\n",
    "\n",
    "# Show the updated DataFrame\n",
    "biodata_GE_prob.show()\n"
   ]
  },
  {
   "cell_type": "code",
   "execution_count": 103,
   "metadata": {},
   "outputs": [],
   "source": [
    "ORs = []\n",
    "CIs = []\n",
    "p_values = []\n",
    "labels = []\n",
    "\n",
    "biodata_source = biodata_GE_prob"
   ]
  },
  {
   "cell_type": "code",
   "execution_count": 104,
   "metadata": {},
   "outputs": [],
   "source": [
    "# Categories you have a boolean column for\n",
    "category_columns = ['Rare_mendelian', 'Common_disease', 'ChemicalProbes', 'Somatic', 'Mouse_model']\n",
    "\n",
    "# Iterate over each category to perform analysis and collect results\n",
    "for category in category_columns:\n",
    "    # Perform the groupBy operation for the current category\n",
    "    contingency_table = (\n",
    "        biodata_source\n",
    "        .groupBy(category, \"isMoA\")\n",
    "        .agg(F.count(\"*\").alias(\"count\"))\n",
    "        .orderBy(category, \"isMoA\")\n",
    "    )\n",
    "\n",
    "    # Convert DataFrame to list for processing with Fisher's test\n",
    "    contingency_table_list = contingency_table.collect()\n",
    "\n",
    "    # Extract counts for Fisher's test (assuming the order of rows corresponds to False/False, False/True, True/False, True/True)\n",
    "    a = contingency_table_list[0]['count']\n",
    "    b = contingency_table_list[1]['count']\n",
    "    c = contingency_table_list[2]['count']\n",
    "    d = contingency_table_list[3]['count']\n",
    "\n",
    "    # Perform Fisher's Exact Test\n",
    "    p_value = fisher_exact([[a, b], [c, d]])[1]\n",
    "\n",
    "    # Compute Odds Ratio and its Confidence Interval\n",
    "    or_ratio = (d * a) / (b * c) if b * c != 0 else float('inf')  # Adjust based on your definition\n",
    "    or_lower, or_upper = np.exp(np.log(or_ratio) + np.array([-1, 1]) * 1.96 * np.sqrt(1/a + 1/b + 1/c + 1/d)) if or_ratio != float('inf') else (0, float('inf'))\n",
    "\n",
    "    # Store results\n",
    "    ORs.append(or_ratio)\n",
    "    CIs.append((or_lower, or_upper))\n",
    "    p_values.append(p_value)\n",
    "    labels.append(category)\n"
   ]
  },
  {
   "cell_type": "code",
   "execution_count": 110,
   "metadata": {},
   "outputs": [
    {
     "data": {
      "image/png": "[encoded data removed]",
      "text/plain": [
       "<Figure size 600x600 with 1 Axes>"
      ]
     },
     "metadata": {},
     "output_type": "display_data"
    }
   ],
   "source": [
    "forest_plot(ORs, CIs, p_values, labels, \"MoA_source_v1\", \"Sources of evidence Vs MoA\", figsize=(6, 6), xlim=(-3, 9))"
   ]
  },
  {
   "cell_type": "code",
   "execution_count": 114,
   "metadata": {},
   "outputs": [
    {
     "name": "stdout",
     "output_type": "stream",
     "text": [
      "Contingency table Literature Vs isMoA:\n",
      "+----------+-----+-----+\n",
      "|Literature|isMoA|count|\n",
      "+----------+-----+-----+\n",
      "|     false|false|19099|\n",
      "|     false| true|    8|\n",
      "|      true|false| 7463|\n",
      "|      true| true| 3138|\n",
      "+----------+-----+-----+\n",
      "\n",
      "Odds Ratio for Active Vs Probes: 1003.8\n",
      "95% CI: (501.3, 2010.1)\n",
      "P-value: 0e+00\n"
     ]
    }
   ],
   "source": [
    "# 2x2 table for Literature Vs isMoA\n",
    "contingency_Literature = (\n",
    "    biodata_source\n",
    "    .groupBy(\"Literature\", \"isMoA\")\n",
    "    .agg(F.count(\"*\").alias(\"count\"))\n",
    "    .orderBy(\"Literature\", \"isMoA\")\n",
    ")\n",
    "\n",
    "print(\"Contingency table Literature Vs isMoA:\")\n",
    "contingency_Literature.show()\n",
    "\n",
    "# Extract counts for Fisher's test\n",
    "a, b, c, d = get_contingency_counts(contingency_Literature)\n",
    "\n",
    "# Fisher's Exact Test\n",
    "p_value_Literature = perform_fishers_exact_test(a, b, c, d)\n",
    "\n",
    "# Compute Odds Ratio and its Confidence Interval\n",
    "or_ratio_Literature, or_lower_Literature, or_upper_Literature = compute_odds_ratio_and_ci(a, b, c, d)\n",
    "\n",
    "print(f\"Odds Ratio for Active Vs Probes: {or_ratio_Literature:.1f}\")\n",
    "print(f\"95% CI: ({or_lower_Literature:.1f}, {or_upper_Literature:.1f})\")\n",
    "print(f\"P-value: {p_value_Literature:.0e}\")\n",
    "\n",
    "\n"
   ]
  },
  {
   "cell_type": "code",
   "execution_count": null,
   "metadata": {},
   "outputs": [],
   "source": []
  },
  {
   "cell_type": "code",
   "execution_count": null,
   "metadata": {},
   "outputs": [],
   "source": []
  },
  {
   "cell_type": "code",
   "execution_count": null,
   "metadata": {},
   "outputs": [],
   "source": []
  },
  {
   "cell_type": "code",
   "execution_count": null,
   "metadata": {},
   "outputs": [],
   "source": []
  },
  {
   "cell_type": "code",
   "execution_count": null,
   "metadata": {},
   "outputs": [],
   "source": []
  },
  {
   "cell_type": "code",
   "execution_count": null,
   "metadata": {},
   "outputs": [],
   "source": []
  },
  {
   "cell_type": "code",
   "execution_count": null,
   "metadata": {},
   "outputs": [],
   "source": []
  },
  {
   "cell_type": "code",
   "execution_count": null,
   "metadata": {},
   "outputs": [],
   "source": []
  },
  {
   "cell_type": "code",
   "execution_count": null,
   "metadata": {},
   "outputs": [],
   "source": []
  },
  {
   "cell_type": "code",
   "execution_count": null,
   "metadata": {},
   "outputs": [],
   "source": []
  },
  {
   "cell_type": "markdown",
   "metadata": {},
   "source": [
    "### Create contingency table for biodata_all regardless source of evidence"
   ]
  },
  {
   "cell_type": "code",
   "execution_count": 4,
   "metadata": {},
   "outputs": [
    {
     "name": "stdout",
     "output_type": "stream",
     "text": [
      "Contingency table regardless source of evidence:\n",
      "+--------+-----+-----+\n",
      "|isActive|isMoA|count|\n",
      "+--------+-----+-----+\n",
      "|   false|false|14123|\n",
      "|   false| true|  426|\n",
      "|    true|false|12439|\n",
      "|    true| true| 2720|\n",
      "+--------+-----+-----+\n",
      "\n"
     ]
    }
   ],
   "source": [
    "contingency_table_all = (\n",
    "    biodata_all\n",
    "    .groupBy(\"isActive\", \"isMoA\")\n",
    "    .agg(F.count(\"*\").alias(\"count\"))\n",
    "    .orderBy(\"isActive\", \"isMoA\")\n",
    ")\n",
    "\n",
    "print(\"Contingency table regardless source of evidence:\")\n",
    "contingency_table_all.show()\n",
    "contingency_table_all_list = contingency_table_all.collect()"
   ]
  },
  {
   "cell_type": "markdown",
   "metadata": {},
   "source": [
    "### Create contingency table for biodata_all for source of evidence = GE_plus\n",
    "\n",
    "\n"
   ]
  },
  {
   "cell_type": "code",
   "execution_count": 5,
   "metadata": {},
   "outputs": [
    {
     "name": "stdout",
     "output_type": "stream",
     "text": [
      "+---------+------------+--------+---------------+------+--------------+--------------------+-----------+--------------------+------+--------------------+----------------+------------+--------------+--------------+-----------------+-------------+---------------+-----+------------+---------+--------------------+------------------+-------------------+------------+--------+---------+\n",
      "|accession|   chembl_id|molregno|assay_chembl_id|src_id|src_short_name|             journal|  pubmed_id|                 doi|   tid|           pref_name|target_chembl_id|    organism|standard_value|standard_units|standard_relation|pchembl_value|       targetID|isMoA|      drugId|uniprotId|             sources|isHighQualityProbe|isTherapeuticTarget|proteinClass|isActive|isGE_plus|\n",
      "+---------+------------+--------+---------------+------+--------------+--------------------+-----------+--------------------+------+--------------------+----------------+------------+--------------+--------------+-----------------+-------------+---------------+-----+------------+---------+--------------------+------------------+-------------------+------------+--------+---------+\n",
      "|   Q99808|CHEMBL100259|  161181|  CHEMBL3528990|     1|    LITERATURE|   Drug Metab Dispos|2.3388705E7|10.1124/dmd.112.0...|   175|Equilibrative nuc...|      CHEMBL1997|Homo sapiens|       51000.0|            nM|                =|         4.29|ENSG00000112759|false|CHEMBL100259|   Q99808|            [chembl]|             false|               true| Transporter|   false|     true|\n",
      "|   Q9HAS3|CHEMBL100259|  161181|  CHEMBL3528994|     1|    LITERATURE|   Drug Metab Dispos|2.3388705E7|10.1124/dmd.112.0...|101512|Solute carrier fa...|      CHEMBL5707|Homo sapiens|        3400.0|            nM|                =|         5.47|ENSG00000197506|false|        NULL|     NULL|                NULL|              NULL|               NULL| Transporter|   false|    false|\n",
      "|   P03372| CHEMBL10041|    6341|  CHEMBL5121196|     1|    LITERATURE|      Eur J Med Chem|3.4710747E7|10.1016/j.ejmech....|    19|Estrogen receptor...|       CHEMBL206|Homo sapiens|          1.12|            nM|                =|         8.95|ENSG00000091831|false| CHEMBL10041|   P03372|    [chemicalProbes]|             false|              false|          NR|    true|     true|\n",
      "|   P00533|  CHEMBL1009|  112655|  CHEMBL1909203|    15|    DRUGMATRIX|                NULL|       NULL|                NULL|     9|Epidermal growth ...|       CHEMBL203|Homo sapiens|        2880.0|            nM|                =|         5.54|ENSG00000146648|false|  CHEMBL1009|   P00533|              [impc]|             false|              false|      Kinase|   false|     true|\n",
      "|   Q9NPD5|  CHEMBL1014|  116349|  CHEMBL3039493|     1|    LITERATURE|       Mol Pharmacol|2.3571415E7|10.1124/mol.112.0...|104062|Solute carrier or...|   CHEMBL1743121|Homo sapiens|        1900.0|            nM|                =|         5.72|ENSG00000111700|false|        NULL|     NULL|                NULL|              NULL|               NULL| Transporter|   false|    false|\n",
      "|   P24557|  CHEMBL1016|  116848|  CHEMBL1909116|    15|    DRUGMATRIX|                NULL|       NULL|                NULL|   248|Thromboxane-A syn...|      CHEMBL1835|Homo sapiens|        3059.4|            nM|                =|         5.51|ENSG00000059377|false|  CHEMBL1016|   P24557|[ot_genetics_port...|             false|               true|      Enzyme|    true|     true|\n",
      "|   P30556|  CHEMBL1017|  116949|  CHEMBL2327554|     1|    LITERATURE|Bioorg Med Chem Lett|2.3265881E7|10.1016/j.bmcl.20...|   115|Type-1 angiotensi...|       CHEMBL227|Homo sapiens|          0.49|            nM|                =|         9.31|ENSG00000144891| true|  CHEMBL1017|   P30556| [impc, eva, chembl]|             false|               true|        GPCR|    true|     true|\n",
      "|   P37231|  CHEMBL1017|  116949|  CHEMBL3873287|     1|    LITERATURE|      Eur J Med Chem|2.7560282E7|10.1016/j.ejmech....|   133|Peroxisome prolif...|       CHEMBL235|Homo sapiens|         700.0|            nM|                =|         6.16|ENSG00000132170|false|  CHEMBL1017|   P37231|[impc, eva, ot_ge...|             false|               true|          NR|    true|     true|\n",
      "|   Q9Y6L6|  CHEMBL1017|  116949|  CHEMBL3039490|     1|    LITERATURE|       Mol Pharmacol|2.3571415E7|10.1124/mol.112.0...|103947|Solute carrier or...|   CHEMBL1697668|Homo sapiens|        1030.0|            nM|                =|         5.99|ENSG00000134538|false|  CHEMBL1017|   Q9Y6L6|[impc, ot_genetic...|             false|              false| Transporter|   false|     true|\n",
      "|   P10826|  CHEMBL1023|  119498|   CHEMBL798919|     1|    LITERATURE|          J Med Chem|  9435893.0|   10.1021/jm9704309|   270|Retinoic acid rec...|      CHEMBL2008|Homo sapiens|          50.0|            nM|                =|          7.3|ENSG00000077092|false|  CHEMBL1023|   P10826|[ot_genetics_port...|             false|               true|          NR|    true|     true|\n",
      "|   P10619|  CHEMBL1025|  119717|   CHEMBL917590|     1|    LITERATURE|Antimicrob Agents...|1.7145787E7|10.1128/aac.00968-06|102753|Lysosomal protect...|      CHEMBL6115|Homo sapiens|       10000.0|            nM|                =|          5.0|ENSG00000064601|false|        NULL|     NULL|                NULL|              NULL|               NULL|      Enzyme|   false|    false|\n",
      "|   P21397| CHEMBL10316|    6784|   CHEMBL841865|     1|    LITERATURE|Bioorg Med Chem Lett|1.4698188E7|10.1016/j.bmcl.20...|104789|   Monoamine oxidase|   CHEMBL2095205|Homo sapiens|          28.0|            nM|                =|         7.55|ENSG00000189221|false| CHEMBL10316|   P21397|            [chembl]|             false|               true|      Enzyme|    true|     true|\n",
      "|   P25100| CHEMBL10316|    6784|   CHEMBL648807|     1|    LITERATURE|          J Med Chem|  2886664.0| 10.1021/jm00391a015|104723|Adrenergic recept...|   CHEMBL2094251|Homo sapiens|        141.25|            nM|                =|         6.85|ENSG00000171873|false| CHEMBL10316|   P25100|            [chembl]|             false|               true|        GPCR|    true|     true|\n",
      "|   P04629|CHEMBL103667|  167995|  CHEMBL1931566|     1|    LITERATURE|Bioorg Med Chem Lett| 2.201455E7|10.1016/j.bmcl.20...| 11902|Nerve growth fact...|      CHEMBL2815|Homo sapiens|         160.0|            nM|                =|          6.8|ENSG00000198400|false|CHEMBL103667|   P04629|            [chembl]|             false|               true|      Kinase|   false|     true|\n",
      "|   P35590|CHEMBL103667|  167995|  CHEMBL1908714|     1|    LITERATURE|      Nat Biotechnol|2.2037378E7|    10.1038/nbt.1990|100906|Tyrosine-protein ...|      CHEMBL5274|Homo sapiens|           8.3|            nM|                =|         8.08|ENSG00000066056|false|        NULL|     NULL|                NULL|              NULL|               NULL|      Kinase|    true|    false|\n",
      "|   Q15375|CHEMBL103667|  167995|   CHEMBL860660|     1|    LITERATURE|      Nat Biotechnol|1.5711537E7|     10.1038/nbt1068| 30027|Ephrin type-A rec...|      CHEMBL4602|Homo sapiens|         220.0|            nM|                =|         6.66|ENSG00000135333|false|        NULL|     NULL|                NULL|              NULL|               NULL|      Kinase|   false|    false|\n",
      "|   Q9UF33|CHEMBL103667|  167995|   CHEMBL859486|     1|    LITERATURE|      Nat Biotechnol|1.5711537E7|     10.1038/nbt1068| 30046|Ephrin type-A rec...|      CHEMBL4526|Homo sapiens|         430.0|            nM|                =|         6.37|ENSG00000080224|false|        NULL|     NULL|                NULL|              NULL|               NULL|      Kinase|   false|    false|\n",
      "|   P14416|   CHEMBL104|   13494|  CHEMBL1909140|    15|    DRUGMATRIX|                NULL|       NULL|                NULL|    72|Dopamine D2 receptor|       CHEMBL217|Homo sapiens|        4062.0|            nM|                =|         5.39|ENSG00000149295|false|   CHEMBL104|   P14416|      [impc, chembl]|             false|               true|        GPCR|   false|     true|\n",
      "|   P21452|   CHEMBL104|   13494|  CHEMBL1909114|    15|    DRUGMATRIX|                NULL|       NULL|                NULL| 10184|Neurokinin 2 rece...|      CHEMBL2327|Homo sapiens|        3383.0|            nM|                =|         5.47|ENSG00000075073|false|        NULL|     NULL|                NULL|              NULL|               NULL|        GPCR|   false|    false|\n",
      "|   P28223|   CHEMBL104|   13494|  CHEMBL1909211|    15|    DRUGMATRIX|                NULL|       NULL|                NULL|   107|Serotonin 2a (5-H...|       CHEMBL224|Homo sapiens|        3183.0|            nM|                =|          5.5|ENSG00000102468|false|   CHEMBL104|   P28223|            [chembl]|             false|               true|        GPCR|   false|     true|\n",
      "+---------+------------+--------+---------------+------+--------------+--------------------+-----------+--------------------+------+--------------------+----------------+------------+--------------+--------------+-----------------+-------------+---------------+-----+------------+---------+--------------------+------------------+-------------------+------------+--------+---------+\n",
      "only showing top 20 rows\n",
      "\n"
     ]
    }
   ],
   "source": [
    "# Define a new column 'isGE_plus' based on the contents of 'sources'\n",
    "biodata_GE_plus = biodata_all.withColumn(\n",
    "    'isGE_plus',\n",
    "    F.when((F.col('sources').isNull()) | (F.size(F.col('sources')) == 0), F.lit(False))\n",
    "    .otherwise(F.lit(True))\n",
    ")\n",
    "biodata_GE_plus.show()"
   ]
  },
  {
   "cell_type": "code",
   "execution_count": 6,
   "metadata": {},
   "outputs": [
    {
     "name": "stdout",
     "output_type": "stream",
     "text": [
      "Contingency table for source of evidence = GE_plus:\n",
      "+--------+-----+-----+\n",
      "|isActive|isMoA|count|\n",
      "+--------+-----+-----+\n",
      "|   false|false| 6714|\n",
      "|   false| true|  425|\n",
      "|    true|false| 7630|\n",
      "|    true| true| 2718|\n",
      "+--------+-----+-----+\n",
      "\n"
     ]
    }
   ],
   "source": [
    "# Filter the DataFrame where 'isGE_plus' is True\n",
    "biodata_GE_plus_t = biodata_GE_plus.filter(F.col('isGE_plus'))\n",
    "\n",
    "# Now create the contingency table for the subset where 'isGE_plus' is True\n",
    "contingency_table_GE_plus_t = (\n",
    "    biodata_GE_plus_t\n",
    "    .groupBy(\"isActive\", \"isMoA\")\n",
    "    .agg(F.count(\"*\").alias(\"count\"))\n",
    "    .orderBy(\"isActive\", \"isMoA\")\n",
    ")\n",
    "\n",
    "print(\"Contingency table for source of evidence = GE_plus:\")\n",
    "contingency_table_GE_plus_t.show()\n",
    "contingency_table_GE_plus_t_list = contingency_table_GE_plus_t.collect()"
   ]
  },
  {
   "cell_type": "code",
   "execution_count": 7,
   "metadata": {},
   "outputs": [
    {
     "name": "stdout",
     "output_type": "stream",
     "text": [
      "Contingency table for source of evidence != GE_plus:\n",
      "+--------+-----+-----+\n",
      "|isActive|isMoA|count|\n",
      "+--------+-----+-----+\n",
      "|   false|false| 7409|\n",
      "|   false| true|    1|\n",
      "|    true|false| 4809|\n",
      "|    true| true|    2|\n",
      "+--------+-----+-----+\n",
      "\n"
     ]
    }
   ],
   "source": [
    "# Filter the DataFrame for rows where 'isGE_plus' is False\n",
    "biodata_GE_plus_f = biodata_GE_plus.filter(~F.col('isGE_plus'))\n",
    "\n",
    "# Now create the contingency table for the subset where 'isGE_plus' is True\n",
    "contingency_table_GE_plus_f = (\n",
    "    biodata_GE_plus_f\n",
    "    .groupBy(\"isActive\", \"isMoA\")\n",
    "    .agg(F.count(\"*\").alias(\"count\"))\n",
    "    .orderBy(\"isActive\", \"isMoA\")\n",
    ")\n",
    "\n",
    "print(\"Contingency table for source of evidence != GE_plus:\")\n",
    "contingency_table_GE_plus_f.show()\n",
    "contingency_table_GE_plus_f_list = contingency_table_GE_plus_f.collect()"
   ]
  },
  {
   "cell_type": "code",
   "execution_count": 8,
   "metadata": {},
   "outputs": [
    {
     "name": "stdout",
     "output_type": "stream",
     "text": [
      "+--------+-----+---------+-----+\n",
      "|isActive|isMoA|isGE_plus|count|\n",
      "+--------+-----+---------+-----+\n",
      "|   false|false|    false| 7409|\n",
      "|   false|false|     true| 6714|\n",
      "|   false| true|    false|    1|\n",
      "|   false| true|     true|  425|\n",
      "|    true|false|    false| 4809|\n",
      "|    true|false|     true| 7630|\n",
      "|    true| true|    false|    2|\n",
      "|    true| true|     true| 2718|\n",
      "+--------+-----+---------+-----+\n",
      "\n"
     ]
    }
   ],
   "source": [
    "# 3rd dimention to GE_plus\n",
    "three_way_table_GE_plus = (\n",
    "    biodata_GE_plus\n",
    "    .groupBy(\"isActive\", \"isMoA\", \"isGE_plus\")\n",
    "    .agg(F.count(\"*\").alias(\"count\"))\n",
    "    .orderBy(\"isActive\", \"isMoA\", \"isGE_plus\")\n",
    ")\n",
    "\n",
    "# Show the resulting DataFrame\n",
    "three_way_table_GE_plus.show()"
   ]
  },
  {
   "cell_type": "code",
   "execution_count": 38,
   "metadata": {},
   "outputs": [],
   "source": [
    "pandas_df_plus = three_way_table_GE_plus.toPandas()\n",
    "pandas_df_plus.to_csv(\"analysis/three_way_table_GE_plus.csv\", index=False)"
   ]
  },
  {
   "cell_type": "markdown",
   "metadata": {},
   "source": [
    "### Create contingency table for biodata_all for source of evidence = GE"
   ]
  },
  {
   "cell_type": "code",
   "execution_count": 9,
   "metadata": {},
   "outputs": [
    {
     "name": "stdout",
     "output_type": "stream",
     "text": [
      "+---------+------------+--------+---------------+------+--------------+--------------------+-----------+--------------------+------+--------------------+----------------+------------+--------------+--------------+-----------------+-------------+---------------+-----+------------+---------+--------------------+------------------+-------------------+------------+--------+-----+\n",
      "|accession|   chembl_id|molregno|assay_chembl_id|src_id|src_short_name|             journal|  pubmed_id|                 doi|   tid|           pref_name|target_chembl_id|    organism|standard_value|standard_units|standard_relation|pchembl_value|       targetID|isMoA|      drugId|uniprotId|             sources|isHighQualityProbe|isTherapeuticTarget|proteinClass|isActive| isGE|\n",
      "+---------+------------+--------+---------------+------+--------------+--------------------+-----------+--------------------+------+--------------------+----------------+------------+--------------+--------------+-----------------+-------------+---------------+-----+------------+---------+--------------------+------------------+-------------------+------------+--------+-----+\n",
      "|   Q99808|CHEMBL100259|  161181|  CHEMBL3528990|     1|    LITERATURE|   Drug Metab Dispos|2.3388705E7|10.1124/dmd.112.0...|   175|Equilibrative nuc...|      CHEMBL1997|Homo sapiens|       51000.0|            nM|                =|         4.29|ENSG00000112759|false|CHEMBL100259|   Q99808|            [chembl]|             false|               true| Transporter|   false|false|\n",
      "|   Q9HAS3|CHEMBL100259|  161181|  CHEMBL3528994|     1|    LITERATURE|   Drug Metab Dispos|2.3388705E7|10.1124/dmd.112.0...|101512|Solute carrier fa...|      CHEMBL5707|Homo sapiens|        3400.0|            nM|                =|         5.47|ENSG00000197506|false|        NULL|     NULL|                NULL|              NULL|               NULL| Transporter|   false|false|\n",
      "|   P03372| CHEMBL10041|    6341|  CHEMBL5121196|     1|    LITERATURE|      Eur J Med Chem|3.4710747E7|10.1016/j.ejmech....|    19|Estrogen receptor...|       CHEMBL206|Homo sapiens|          1.12|            nM|                =|         8.95|ENSG00000091831|false| CHEMBL10041|   P03372|    [chemicalProbes]|             false|              false|          NR|    true|false|\n",
      "|   P00533|  CHEMBL1009|  112655|  CHEMBL1909203|    15|    DRUGMATRIX|                NULL|       NULL|                NULL|     9|Epidermal growth ...|       CHEMBL203|Homo sapiens|        2880.0|            nM|                =|         5.54|ENSG00000146648|false|  CHEMBL1009|   P00533|              [impc]|             false|              false|      Kinase|   false| true|\n",
      "|   Q9NPD5|  CHEMBL1014|  116349|  CHEMBL3039493|     1|    LITERATURE|       Mol Pharmacol|2.3571415E7|10.1124/mol.112.0...|104062|Solute carrier or...|   CHEMBL1743121|Homo sapiens|        1900.0|            nM|                =|         5.72|ENSG00000111700|false|        NULL|     NULL|                NULL|              NULL|               NULL| Transporter|   false|false|\n",
      "|   P24557|  CHEMBL1016|  116848|  CHEMBL1909116|    15|    DRUGMATRIX|                NULL|       NULL|                NULL|   248|Thromboxane-A syn...|      CHEMBL1835|Homo sapiens|        3059.4|            nM|                =|         5.51|ENSG00000059377|false|  CHEMBL1016|   P24557|[ot_genetics_port...|             false|               true|      Enzyme|    true| true|\n",
      "|   P30556|  CHEMBL1017|  116949|  CHEMBL2327554|     1|    LITERATURE|Bioorg Med Chem Lett|2.3265881E7|10.1016/j.bmcl.20...|   115|Type-1 angiotensi...|       CHEMBL227|Homo sapiens|          0.49|            nM|                =|         9.31|ENSG00000144891| true|  CHEMBL1017|   P30556| [impc, eva, chembl]|             false|               true|        GPCR|    true| true|\n",
      "|   P37231|  CHEMBL1017|  116949|  CHEMBL3873287|     1|    LITERATURE|      Eur J Med Chem|2.7560282E7|10.1016/j.ejmech....|   133|Peroxisome prolif...|       CHEMBL235|Homo sapiens|         700.0|            nM|                =|         6.16|ENSG00000132170|false|  CHEMBL1017|   P37231|[impc, eva, ot_ge...|             false|               true|          NR|    true| true|\n",
      "|   Q9Y6L6|  CHEMBL1017|  116949|  CHEMBL3039490|     1|    LITERATURE|       Mol Pharmacol|2.3571415E7|10.1124/mol.112.0...|103947|Solute carrier or...|   CHEMBL1697668|Homo sapiens|        1030.0|            nM|                =|         5.99|ENSG00000134538|false|  CHEMBL1017|   Q9Y6L6|[impc, ot_genetic...|             false|              false| Transporter|   false| true|\n",
      "|   P10826|  CHEMBL1023|  119498|   CHEMBL798919|     1|    LITERATURE|          J Med Chem|  9435893.0|   10.1021/jm9704309|   270|Retinoic acid rec...|      CHEMBL2008|Homo sapiens|          50.0|            nM|                =|          7.3|ENSG00000077092|false|  CHEMBL1023|   P10826|[ot_genetics_port...|             false|               true|          NR|    true| true|\n",
      "|   P10619|  CHEMBL1025|  119717|   CHEMBL917590|     1|    LITERATURE|Antimicrob Agents...|1.7145787E7|10.1128/aac.00968-06|102753|Lysosomal protect...|      CHEMBL6115|Homo sapiens|       10000.0|            nM|                =|          5.0|ENSG00000064601|false|        NULL|     NULL|                NULL|              NULL|               NULL|      Enzyme|   false|false|\n",
      "|   P21397| CHEMBL10316|    6784|   CHEMBL841865|     1|    LITERATURE|Bioorg Med Chem Lett|1.4698188E7|10.1016/j.bmcl.20...|104789|   Monoamine oxidase|   CHEMBL2095205|Homo sapiens|          28.0|            nM|                =|         7.55|ENSG00000189221|false| CHEMBL10316|   P21397|            [chembl]|             false|               true|      Enzyme|    true|false|\n",
      "|   P25100| CHEMBL10316|    6784|   CHEMBL648807|     1|    LITERATURE|          J Med Chem|  2886664.0| 10.1021/jm00391a015|104723|Adrenergic recept...|   CHEMBL2094251|Homo sapiens|        141.25|            nM|                =|         6.85|ENSG00000171873|false| CHEMBL10316|   P25100|            [chembl]|             false|               true|        GPCR|    true|false|\n",
      "|   P04629|CHEMBL103667|  167995|  CHEMBL1931566|     1|    LITERATURE|Bioorg Med Chem Lett| 2.201455E7|10.1016/j.bmcl.20...| 11902|Nerve growth fact...|      CHEMBL2815|Homo sapiens|         160.0|            nM|                =|          6.8|ENSG00000198400|false|CHEMBL103667|   P04629|            [chembl]|             false|               true|      Kinase|   false|false|\n",
      "|   P35590|CHEMBL103667|  167995|  CHEMBL1908714|     1|    LITERATURE|      Nat Biotechnol|2.2037378E7|    10.1038/nbt.1990|100906|Tyrosine-protein ...|      CHEMBL5274|Homo sapiens|           8.3|            nM|                =|         8.08|ENSG00000066056|false|        NULL|     NULL|                NULL|              NULL|               NULL|      Kinase|    true|false|\n",
      "|   Q15375|CHEMBL103667|  167995|   CHEMBL860660|     1|    LITERATURE|      Nat Biotechnol|1.5711537E7|     10.1038/nbt1068| 30027|Ephrin type-A rec...|      CHEMBL4602|Homo sapiens|         220.0|            nM|                =|         6.66|ENSG00000135333|false|        NULL|     NULL|                NULL|              NULL|               NULL|      Kinase|   false|false|\n",
      "|   Q9UF33|CHEMBL103667|  167995|   CHEMBL859486|     1|    LITERATURE|      Nat Biotechnol|1.5711537E7|     10.1038/nbt1068| 30046|Ephrin type-A rec...|      CHEMBL4526|Homo sapiens|         430.0|            nM|                =|         6.37|ENSG00000080224|false|        NULL|     NULL|                NULL|              NULL|               NULL|      Kinase|   false|false|\n",
      "|   P14416|   CHEMBL104|   13494|  CHEMBL1909140|    15|    DRUGMATRIX|                NULL|       NULL|                NULL|    72|Dopamine D2 receptor|       CHEMBL217|Homo sapiens|        4062.0|            nM|                =|         5.39|ENSG00000149295|false|   CHEMBL104|   P14416|      [impc, chembl]|             false|               true|        GPCR|   false| true|\n",
      "|   P21452|   CHEMBL104|   13494|  CHEMBL1909114|    15|    DRUGMATRIX|                NULL|       NULL|                NULL| 10184|Neurokinin 2 rece...|      CHEMBL2327|Homo sapiens|        3383.0|            nM|                =|         5.47|ENSG00000075073|false|        NULL|     NULL|                NULL|              NULL|               NULL|        GPCR|   false|false|\n",
      "|   P28223|   CHEMBL104|   13494|  CHEMBL1909211|    15|    DRUGMATRIX|                NULL|       NULL|                NULL|   107|Serotonin 2a (5-H...|       CHEMBL224|Homo sapiens|        3183.0|            nM|                =|          5.5|ENSG00000102468|false|   CHEMBL104|   P28223|            [chembl]|             false|               true|        GPCR|   false|false|\n",
      "+---------+------------+--------+---------------+------+--------------+--------------------+-----------+--------------------+------+--------------------+----------------+------------+--------------+--------------+-----------------+-------------+---------------+-----+------------+---------+--------------------+------------------+-------------------+------------+--------+-----+\n",
      "only showing top 20 rows\n",
      "\n"
     ]
    }
   ],
   "source": [
    "# Define the undesired lists as column expressions for comparison\n",
    "undesired_chembl = F.array([F.lit('chembl')])\n",
    "undesired_chemicalProbes = F.array([F.lit('chemicalProbes')])\n",
    "undesired_both = F.array([F.lit('chembl'), F.lit('chemicalProbes')])\n",
    "undesired_both_alt = F.array([F.lit('chemicalProbes'), F.lit('chembl')])\n",
    "\n",
    "# Assuming biodata_all is your DataFrame\n",
    "# Add the 'isGE' column\n",
    "biodata_GE = biodata_all.withColumn(\n",
    "    'isGE',\n",
    "    ~(\n",
    "        (F.col('sources').isNull()) |\n",
    "        (F.size(F.col('sources')) == 0) |\n",
    "        (F.array_sort(F.col('sources')) == F.array_sort(undesired_chembl)) |\n",
    "        (F.array_sort(F.col('sources')) == F.array_sort(undesired_chemicalProbes)) |\n",
    "        (F.array_sort(F.col('sources')) == F.array_sort(undesired_both)) |\n",
    "        (F.array_sort(F.col('sources')) == F.array_sort(undesired_both_alt))\n",
    "    )\n",
    ")\n",
    "biodata_GE.show()"
   ]
  },
  {
   "cell_type": "code",
   "execution_count": 10,
   "metadata": {},
   "outputs": [
    {
     "name": "stdout",
     "output_type": "stream",
     "text": [
      "Contingency table for source of evidence = GE:\n",
      "+--------+-----+-----+\n",
      "|isActive|isMoA|count|\n",
      "+--------+-----+-----+\n",
      "|   false|false| 4667|\n",
      "|   false| true|  286|\n",
      "|    true|false| 2493|\n",
      "|    true| true| 1696|\n",
      "+--------+-----+-----+\n",
      "\n"
     ]
    }
   ],
   "source": [
    "# Filter the DataFrame where 'isGE_plus' is True\n",
    "biodata_GE_t = biodata_GE.filter(F.col('isGE'))\n",
    "\n",
    "# Now create the contingency table for the subset where 'isGE' is True\n",
    "contingency_table_GE_t = (\n",
    "    biodata_GE_t\n",
    "    .groupBy(\"isActive\", \"isMoA\")\n",
    "    .agg(F.count(\"*\").alias(\"count\"))\n",
    "    .orderBy(\"isActive\", \"isMoA\")\n",
    ")\n",
    "\n",
    "print(\"Contingency table for source of evidence = GE:\")\n",
    "contingency_table_GE_t.show()\n",
    "contingency_table_GE_t_list = contingency_table_GE_t.collect()"
   ]
  },
  {
   "cell_type": "code",
   "execution_count": 11,
   "metadata": {},
   "outputs": [
    {
     "name": "stdout",
     "output_type": "stream",
     "text": [
      "Contingency table for source of evidence != GE:\n",
      "+--------+-----+-----+\n",
      "|isActive|isMoA|count|\n",
      "+--------+-----+-----+\n",
      "|   false|false| 9456|\n",
      "|   false| true|  140|\n",
      "|    true|false| 9946|\n",
      "|    true| true| 1024|\n",
      "+--------+-----+-----+\n",
      "\n"
     ]
    }
   ],
   "source": [
    "# Filter the DataFrame where 'isGE_plus' is True\n",
    "biodata_GE_f = biodata_GE.filter(~F.col('isGE'))\n",
    "\n",
    "# Now create the contingency table for the subset where 'isGE' is True\n",
    "contingency_table_GE_f = (\n",
    "    biodata_GE_f\n",
    "    .groupBy(\"isActive\", \"isMoA\")\n",
    "    .agg(F.count(\"*\").alias(\"count\"))\n",
    "    .orderBy(\"isActive\", \"isMoA\")\n",
    ")\n",
    "\n",
    "print(\"Contingency table for source of evidence != GE:\")\n",
    "contingency_table_GE_f.show()\n",
    "contingency_table_GE_f_list = contingency_table_GE_f.collect()"
   ]
  },
  {
   "cell_type": "code",
   "execution_count": 12,
   "metadata": {},
   "outputs": [
    {
     "name": "stdout",
     "output_type": "stream",
     "text": [
      "+--------+-----+-----+-----+\n",
      "|isActive|isMoA| isGE|count|\n",
      "+--------+-----+-----+-----+\n",
      "|   false|false|false| 9456|\n",
      "|   false|false| true| 4667|\n",
      "|   false| true|false|  140|\n",
      "|   false| true| true|  286|\n",
      "|    true|false|false| 9946|\n",
      "|    true|false| true| 2493|\n",
      "|    true| true|false| 1024|\n",
      "|    true| true| true| 1696|\n",
      "+--------+-----+-----+-----+\n",
      "\n"
     ]
    }
   ],
   "source": [
    "# 3rd dimention to GE_plus\n",
    "three_way_table_GE = (\n",
    "    biodata_GE\n",
    "    .groupBy(\"isActive\", \"isMoA\", \"isGE\")\n",
    "    .agg(F.count(\"*\").alias(\"count\"))\n",
    "    .orderBy(\"isActive\", \"isMoA\", \"isGE\")\n",
    ")\n",
    "\n",
    "# Show the resulting DataFrame\n",
    "three_way_table_GE.show()"
   ]
  },
  {
   "cell_type": "code",
   "execution_count": 37,
   "metadata": {},
   "outputs": [],
   "source": [
    "pandas_df = three_way_table_GE.toPandas()\n",
    "pandas_df.to_csv(\"analysis/three_way_table_GE.csv\", index=False)"
   ]
  },
  {
   "cell_type": "code",
   "execution_count": null,
   "metadata": {},
   "outputs": [],
   "source": []
  },
  {
   "cell_type": "code",
   "execution_count": null,
   "metadata": {},
   "outputs": [],
   "source": []
  },
  {
   "cell_type": "code",
   "execution_count": null,
   "metadata": {},
   "outputs": [],
   "source": []
  },
  {
   "cell_type": "code",
   "execution_count": null,
   "metadata": {},
   "outputs": [],
   "source": []
  },
  {
   "cell_type": "code",
   "execution_count": null,
   "metadata": {},
   "outputs": [],
   "source": []
  },
  {
   "cell_type": "code",
   "execution_count": null,
   "metadata": {},
   "outputs": [],
   "source": []
  },
  {
   "cell_type": "code",
   "execution_count": null,
   "metadata": {},
   "outputs": [],
   "source": []
  }
 ],
 "metadata": {
  "kernelspec": {
   "display_name": "Python 3",
   "language": "python",
   "name": "python3"
  },
  "language_info": {
   "codemirror_mode": {
    "name": "ipython",
    "version": 3
   },
   "file_extension": ".py",
   "mimetype": "text/x-python",
   "name": "python",
   "nbconvert_exporter": "python",
   "pygments_lexer": "ipython3",
   "version": "3.9.6"
  },
  "orig_nbformat": 4
 },
 "nbformat": 4,
 "nbformat_minor": 2
}
