{
 "cells": [
  {
   "cell_type": "code",
   "execution_count": 1,
   "metadata": {},
   "outputs": [],
   "source": [
    "from pyspark.sql import SparkSession\n",
    "from pyspark.sql.functions import concat_ws\n",
    "from pyspark.sql import functions as F"
   ]
  },
  {
   "cell_type": "code",
   "execution_count": 2,
   "metadata": {},
   "outputs": [
    {
     "name": "stderr",
     "output_type": "stream",
     "text": [
      "Setting default log level to \"WARN\".\n",
      "To adjust logging level use sc.setLogLevel(newLevel). For SparkR, use setLogLevel(newLevel).\n",
      "23/11/06 16:21:48 WARN NativeCodeLoader: Unable to load native-hadoop library for your platform... using builtin-java classes where applicable\n"
     ]
    }
   ],
   "source": [
    "spark = SparkSession.builder \\\n",
    "    .appName(\"drug-to_target_biodata_analysis\") \\\n",
    "    .config(\"spark.jars\", \"https://storage.googleapis.com/hadoop-lib/gcs/gcs-connector-hadoop3-latest.jar\") \\\n",
    "    .getOrCreate()"
   ]
  },
  {
   "cell_type": "code",
   "execution_count": 3,
   "metadata": {},
   "outputs": [
    {
     "name": "stderr",
     "output_type": "stream",
     "text": [
      "23/11/06 16:21:53 WARN SparkStringUtils: Truncated the string representation of a plan since it was too large. This behavior can be adjusted by setting 'spark.sql.debug.maxToStringFields'.\n"
     ]
    },
    {
     "name": "stdout",
     "output_type": "stream",
     "text": [
      "+---------+------------+--------+---------------+------+--------------+--------------------+-----------+--------------------+------+--------------------+----------------+------------+--------------+--------------+-----------------+-------------+---------------+-----+------------+---------+--------------------+------------------+-------------------+------------+--------+\n",
      "|accession|   chembl_id|molregno|assay_chembl_id|src_id|src_short_name|             journal|  pubmed_id|                 doi|   tid|           pref_name|target_chembl_id|    organism|standard_value|standard_units|standard_relation|pchembl_value|       targetID|isMoA|      drugId|uniprotId|             sources|isHighQualityProbe|isTherapeuticTarget|proteinClass|isActive|\n",
      "+---------+------------+--------+---------------+------+--------------+--------------------+-----------+--------------------+------+--------------------+----------------+------------+--------------+--------------+-----------------+-------------+---------------+-----+------------+---------+--------------------+------------------+-------------------+------------+--------+\n",
      "|   Q99808|CHEMBL100259|  161181|  CHEMBL3528990|     1|    LITERATURE|   Drug Metab Dispos|2.3388705E7|10.1124/dmd.112.0...|   175|Equilibrative nuc...|      CHEMBL1997|Homo sapiens|       51000.0|            nM|                =|         4.29|ENSG00000112759|false|CHEMBL100259|   Q99808|            [chembl]|             false|               true| Transporter|   false|\n",
      "|   Q9HAS3|CHEMBL100259|  161181|  CHEMBL3528994|     1|    LITERATURE|   Drug Metab Dispos|2.3388705E7|10.1124/dmd.112.0...|101512|Solute carrier fa...|      CHEMBL5707|Homo sapiens|        3400.0|            nM|                =|         5.47|ENSG00000197506|false|        NULL|     NULL|                NULL|              NULL|               NULL| Transporter|   false|\n",
      "|   P03372| CHEMBL10041|    6341|  CHEMBL5121196|     1|    LITERATURE|      Eur J Med Chem|3.4710747E7|10.1016/j.ejmech....|    19|Estrogen receptor...|       CHEMBL206|Homo sapiens|          1.12|            nM|                =|         8.95|ENSG00000091831|false| CHEMBL10041|   P03372|    [chemicalProbes]|             false|              false|          NR|    true|\n",
      "|   P00533|  CHEMBL1009|  112655|  CHEMBL1909203|    15|    DRUGMATRIX|                NULL|       NULL|                NULL|     9|Epidermal growth ...|       CHEMBL203|Homo sapiens|        2880.0|            nM|                =|         5.54|ENSG00000146648|false|  CHEMBL1009|   P00533|              [impc]|             false|              false|      Kinase|   false|\n",
      "|   Q9NPD5|  CHEMBL1014|  116349|  CHEMBL3039493|     1|    LITERATURE|       Mol Pharmacol|2.3571415E7|10.1124/mol.112.0...|104062|Solute carrier or...|   CHEMBL1743121|Homo sapiens|        1900.0|            nM|                =|         5.72|ENSG00000111700|false|        NULL|     NULL|                NULL|              NULL|               NULL| Transporter|   false|\n",
      "|   P24557|  CHEMBL1016|  116848|  CHEMBL1909116|    15|    DRUGMATRIX|                NULL|       NULL|                NULL|   248|Thromboxane-A syn...|      CHEMBL1835|Homo sapiens|        3059.4|            nM|                =|         5.51|ENSG00000059377|false|  CHEMBL1016|   P24557|[ot_genetics_port...|             false|               true|      Enzyme|    true|\n",
      "|   P30556|  CHEMBL1017|  116949|  CHEMBL2327554|     1|    LITERATURE|Bioorg Med Chem Lett|2.3265881E7|10.1016/j.bmcl.20...|   115|Type-1 angiotensi...|       CHEMBL227|Homo sapiens|          0.49|            nM|                =|         9.31|ENSG00000144891| true|  CHEMBL1017|   P30556| [impc, eva, chembl]|             false|               true|        GPCR|    true|\n",
      "|   P37231|  CHEMBL1017|  116949|  CHEMBL3873287|     1|    LITERATURE|      Eur J Med Chem|2.7560282E7|10.1016/j.ejmech....|   133|Peroxisome prolif...|       CHEMBL235|Homo sapiens|         700.0|            nM|                =|         6.16|ENSG00000132170|false|  CHEMBL1017|   P37231|[impc, eva, ot_ge...|             false|               true|          NR|    true|\n",
      "|   Q9Y6L6|  CHEMBL1017|  116949|  CHEMBL3039490|     1|    LITERATURE|       Mol Pharmacol|2.3571415E7|10.1124/mol.112.0...|103947|Solute carrier or...|   CHEMBL1697668|Homo sapiens|        1030.0|            nM|                =|         5.99|ENSG00000134538|false|  CHEMBL1017|   Q9Y6L6|[impc, ot_genetic...|             false|              false| Transporter|   false|\n",
      "|   P10826|  CHEMBL1023|  119498|   CHEMBL798919|     1|    LITERATURE|          J Med Chem|  9435893.0|   10.1021/jm9704309|   270|Retinoic acid rec...|      CHEMBL2008|Homo sapiens|          50.0|            nM|                =|          7.3|ENSG00000077092|false|  CHEMBL1023|   P10826|[ot_genetics_port...|             false|               true|          NR|    true|\n",
      "|   P10619|  CHEMBL1025|  119717|   CHEMBL917590|     1|    LITERATURE|Antimicrob Agents...|1.7145787E7|10.1128/aac.00968-06|102753|Lysosomal protect...|      CHEMBL6115|Homo sapiens|       10000.0|            nM|                =|          5.0|ENSG00000064601|false|        NULL|     NULL|                NULL|              NULL|               NULL|      Enzyme|   false|\n",
      "|   P21397| CHEMBL10316|    6784|   CHEMBL841865|     1|    LITERATURE|Bioorg Med Chem Lett|1.4698188E7|10.1016/j.bmcl.20...|104789|   Monoamine oxidase|   CHEMBL2095205|Homo sapiens|          28.0|            nM|                =|         7.55|ENSG00000189221|false| CHEMBL10316|   P21397|            [chembl]|             false|               true|      Enzyme|    true|\n",
      "|   P25100| CHEMBL10316|    6784|   CHEMBL648807|     1|    LITERATURE|          J Med Chem|  2886664.0| 10.1021/jm00391a015|104723|Adrenergic recept...|   CHEMBL2094251|Homo sapiens|        141.25|            nM|                =|         6.85|ENSG00000171873|false| CHEMBL10316|   P25100|            [chembl]|             false|               true|        GPCR|    true|\n",
      "|   P04629|CHEMBL103667|  167995|  CHEMBL1931566|     1|    LITERATURE|Bioorg Med Chem Lett| 2.201455E7|10.1016/j.bmcl.20...| 11902|Nerve growth fact...|      CHEMBL2815|Homo sapiens|         160.0|            nM|                =|          6.8|ENSG00000198400|false|CHEMBL103667|   P04629|            [chembl]|             false|               true|      Kinase|   false|\n",
      "|   P35590|CHEMBL103667|  167995|  CHEMBL1908714|     1|    LITERATURE|      Nat Biotechnol|2.2037378E7|    10.1038/nbt.1990|100906|Tyrosine-protein ...|      CHEMBL5274|Homo sapiens|           8.3|            nM|                =|         8.08|ENSG00000066056|false|        NULL|     NULL|                NULL|              NULL|               NULL|      Kinase|    true|\n",
      "|   Q15375|CHEMBL103667|  167995|   CHEMBL860660|     1|    LITERATURE|      Nat Biotechnol|1.5711537E7|     10.1038/nbt1068| 30027|Ephrin type-A rec...|      CHEMBL4602|Homo sapiens|         220.0|            nM|                =|         6.66|ENSG00000135333|false|        NULL|     NULL|                NULL|              NULL|               NULL|      Kinase|   false|\n",
      "|   Q9UF33|CHEMBL103667|  167995|   CHEMBL859486|     1|    LITERATURE|      Nat Biotechnol|1.5711537E7|     10.1038/nbt1068| 30046|Ephrin type-A rec...|      CHEMBL4526|Homo sapiens|         430.0|            nM|                =|         6.37|ENSG00000080224|false|        NULL|     NULL|                NULL|              NULL|               NULL|      Kinase|   false|\n",
      "|   P14416|   CHEMBL104|   13494|  CHEMBL1909140|    15|    DRUGMATRIX|                NULL|       NULL|                NULL|    72|Dopamine D2 receptor|       CHEMBL217|Homo sapiens|        4062.0|            nM|                =|         5.39|ENSG00000149295|false|   CHEMBL104|   P14416|      [impc, chembl]|             false|               true|        GPCR|   false|\n",
      "|   P21452|   CHEMBL104|   13494|  CHEMBL1909114|    15|    DRUGMATRIX|                NULL|       NULL|                NULL| 10184|Neurokinin 2 rece...|      CHEMBL2327|Homo sapiens|        3383.0|            nM|                =|         5.47|ENSG00000075073|false|        NULL|     NULL|                NULL|              NULL|               NULL|        GPCR|   false|\n",
      "|   P28223|   CHEMBL104|   13494|  CHEMBL1909211|    15|    DRUGMATRIX|                NULL|       NULL|                NULL|   107|Serotonin 2a (5-H...|       CHEMBL224|Homo sapiens|        3183.0|            nM|                =|          5.5|ENSG00000102468|false|   CHEMBL104|   P28223|            [chembl]|             false|               true|        GPCR|   false|\n",
      "+---------+------------+--------+---------------+------+--------------+--------------------+-----------+--------------------+------+--------------------+----------------+------------+--------------+--------------+-----------------+-------------+---------------+-----+------------+---------+--------------------+------------------+-------------------+------------+--------+\n",
      "only showing top 20 rows\n",
      "\n"
     ]
    }
   ],
   "source": [
    "# Dataset with all datasources\n",
    "biodata_all = spark.read.parquet(\"data/analysis/biodata_all_v2\")\n",
    "biodata_all.show()"
   ]
  },
  {
   "cell_type": "markdown",
   "metadata": {},
   "source": [
    "### Create contingency table for biodata_all regardless source of evidence"
   ]
  },
  {
   "cell_type": "code",
   "execution_count": 4,
   "metadata": {},
   "outputs": [
    {
     "name": "stdout",
     "output_type": "stream",
     "text": [
      "Contingency table regardless source of evidence:\n",
      "+--------+-----+-----+\n",
      "|isActive|isMoA|count|\n",
      "+--------+-----+-----+\n",
      "|   false|false|14123|\n",
      "|   false| true|  426|\n",
      "|    true|false|12439|\n",
      "|    true| true| 2720|\n",
      "+--------+-----+-----+\n",
      "\n"
     ]
    }
   ],
   "source": [
    "contingency_table_all = (\n",
    "    biodata_all\n",
    "    .groupBy(\"isActive\", \"isMoA\")\n",
    "    .agg(F.count(\"*\").alias(\"count\"))\n",
    "    .orderBy(\"isActive\", \"isMoA\")\n",
    ")\n",
    "\n",
    "print(\"Contingency table regardless source of evidence:\")\n",
    "contingency_table_all.show()\n",
    "contingency_table_all_list = contingency_table_all.collect()"
   ]
  },
  {
   "cell_type": "markdown",
   "metadata": {},
   "source": [
    "### Create contingency table for biodata_all for source of evidence = GE_plus\n",
    "\n",
    "\n"
   ]
  },
  {
   "cell_type": "code",
   "execution_count": 5,
   "metadata": {},
   "outputs": [
    {
     "name": "stdout",
     "output_type": "stream",
     "text": [
      "+---------+------------+--------+---------------+------+--------------+--------------------+-----------+--------------------+------+--------------------+----------------+------------+--------------+--------------+-----------------+-------------+---------------+-----+------------+---------+--------------------+------------------+-------------------+------------+--------+---------+\n",
      "|accession|   chembl_id|molregno|assay_chembl_id|src_id|src_short_name|             journal|  pubmed_id|                 doi|   tid|           pref_name|target_chembl_id|    organism|standard_value|standard_units|standard_relation|pchembl_value|       targetID|isMoA|      drugId|uniprotId|             sources|isHighQualityProbe|isTherapeuticTarget|proteinClass|isActive|isGE_plus|\n",
      "+---------+------------+--------+---------------+------+--------------+--------------------+-----------+--------------------+------+--------------------+----------------+------------+--------------+--------------+-----------------+-------------+---------------+-----+------------+---------+--------------------+------------------+-------------------+------------+--------+---------+\n",
      "|   Q99808|CHEMBL100259|  161181|  CHEMBL3528990|     1|    LITERATURE|   Drug Metab Dispos|2.3388705E7|10.1124/dmd.112.0...|   175|Equilibrative nuc...|      CHEMBL1997|Homo sapiens|       51000.0|            nM|                =|         4.29|ENSG00000112759|false|CHEMBL100259|   Q99808|            [chembl]|             false|               true| Transporter|   false|     true|\n",
      "|   Q9HAS3|CHEMBL100259|  161181|  CHEMBL3528994|     1|    LITERATURE|   Drug Metab Dispos|2.3388705E7|10.1124/dmd.112.0...|101512|Solute carrier fa...|      CHEMBL5707|Homo sapiens|        3400.0|            nM|                =|         5.47|ENSG00000197506|false|        NULL|     NULL|                NULL|              NULL|               NULL| Transporter|   false|    false|\n",
      "|   P03372| CHEMBL10041|    6341|  CHEMBL5121196|     1|    LITERATURE|      Eur J Med Chem|3.4710747E7|10.1016/j.ejmech....|    19|Estrogen receptor...|       CHEMBL206|Homo sapiens|          1.12|            nM|                =|         8.95|ENSG00000091831|false| CHEMBL10041|   P03372|    [chemicalProbes]|             false|              false|          NR|    true|     true|\n",
      "|   P00533|  CHEMBL1009|  112655|  CHEMBL1909203|    15|    DRUGMATRIX|                NULL|       NULL|                NULL|     9|Epidermal growth ...|       CHEMBL203|Homo sapiens|        2880.0|            nM|                =|         5.54|ENSG00000146648|false|  CHEMBL1009|   P00533|              [impc]|             false|              false|      Kinase|   false|     true|\n",
      "|   Q9NPD5|  CHEMBL1014|  116349|  CHEMBL3039493|     1|    LITERATURE|       Mol Pharmacol|2.3571415E7|10.1124/mol.112.0...|104062|Solute carrier or...|   CHEMBL1743121|Homo sapiens|        1900.0|            nM|                =|         5.72|ENSG00000111700|false|        NULL|     NULL|                NULL|              NULL|               NULL| Transporter|   false|    false|\n",
      "|   P24557|  CHEMBL1016|  116848|  CHEMBL1909116|    15|    DRUGMATRIX|                NULL|       NULL|                NULL|   248|Thromboxane-A syn...|      CHEMBL1835|Homo sapiens|        3059.4|            nM|                =|         5.51|ENSG00000059377|false|  CHEMBL1016|   P24557|[ot_genetics_port...|             false|               true|      Enzyme|    true|     true|\n",
      "|   P30556|  CHEMBL1017|  116949|  CHEMBL2327554|     1|    LITERATURE|Bioorg Med Chem Lett|2.3265881E7|10.1016/j.bmcl.20...|   115|Type-1 angiotensi...|       CHEMBL227|Homo sapiens|          0.49|            nM|                =|         9.31|ENSG00000144891| true|  CHEMBL1017|   P30556| [impc, eva, chembl]|             false|               true|        GPCR|    true|     true|\n",
      "|   P37231|  CHEMBL1017|  116949|  CHEMBL3873287|     1|    LITERATURE|      Eur J Med Chem|2.7560282E7|10.1016/j.ejmech....|   133|Peroxisome prolif...|       CHEMBL235|Homo sapiens|         700.0|            nM|                =|         6.16|ENSG00000132170|false|  CHEMBL1017|   P37231|[impc, eva, ot_ge...|             false|               true|          NR|    true|     true|\n",
      "|   Q9Y6L6|  CHEMBL1017|  116949|  CHEMBL3039490|     1|    LITERATURE|       Mol Pharmacol|2.3571415E7|10.1124/mol.112.0...|103947|Solute carrier or...|   CHEMBL1697668|Homo sapiens|        1030.0|            nM|                =|         5.99|ENSG00000134538|false|  CHEMBL1017|   Q9Y6L6|[impc, ot_genetic...|             false|              false| Transporter|   false|     true|\n",
      "|   P10826|  CHEMBL1023|  119498|   CHEMBL798919|     1|    LITERATURE|          J Med Chem|  9435893.0|   10.1021/jm9704309|   270|Retinoic acid rec...|      CHEMBL2008|Homo sapiens|          50.0|            nM|                =|          7.3|ENSG00000077092|false|  CHEMBL1023|   P10826|[ot_genetics_port...|             false|               true|          NR|    true|     true|\n",
      "|   P10619|  CHEMBL1025|  119717|   CHEMBL917590|     1|    LITERATURE|Antimicrob Agents...|1.7145787E7|10.1128/aac.00968-06|102753|Lysosomal protect...|      CHEMBL6115|Homo sapiens|       10000.0|            nM|                =|          5.0|ENSG00000064601|false|        NULL|     NULL|                NULL|              NULL|               NULL|      Enzyme|   false|    false|\n",
      "|   P21397| CHEMBL10316|    6784|   CHEMBL841865|     1|    LITERATURE|Bioorg Med Chem Lett|1.4698188E7|10.1016/j.bmcl.20...|104789|   Monoamine oxidase|   CHEMBL2095205|Homo sapiens|          28.0|            nM|                =|         7.55|ENSG00000189221|false| CHEMBL10316|   P21397|            [chembl]|             false|               true|      Enzyme|    true|     true|\n",
      "|   P25100| CHEMBL10316|    6784|   CHEMBL648807|     1|    LITERATURE|          J Med Chem|  2886664.0| 10.1021/jm00391a015|104723|Adrenergic recept...|   CHEMBL2094251|Homo sapiens|        141.25|            nM|                =|         6.85|ENSG00000171873|false| CHEMBL10316|   P25100|            [chembl]|             false|               true|        GPCR|    true|     true|\n",
      "|   P04629|CHEMBL103667|  167995|  CHEMBL1931566|     1|    LITERATURE|Bioorg Med Chem Lett| 2.201455E7|10.1016/j.bmcl.20...| 11902|Nerve growth fact...|      CHEMBL2815|Homo sapiens|         160.0|            nM|                =|          6.8|ENSG00000198400|false|CHEMBL103667|   P04629|            [chembl]|             false|               true|      Kinase|   false|     true|\n",
      "|   P35590|CHEMBL103667|  167995|  CHEMBL1908714|     1|    LITERATURE|      Nat Biotechnol|2.2037378E7|    10.1038/nbt.1990|100906|Tyrosine-protein ...|      CHEMBL5274|Homo sapiens|           8.3|            nM|                =|         8.08|ENSG00000066056|false|        NULL|     NULL|                NULL|              NULL|               NULL|      Kinase|    true|    false|\n",
      "|   Q15375|CHEMBL103667|  167995|   CHEMBL860660|     1|    LITERATURE|      Nat Biotechnol|1.5711537E7|     10.1038/nbt1068| 30027|Ephrin type-A rec...|      CHEMBL4602|Homo sapiens|         220.0|            nM|                =|         6.66|ENSG00000135333|false|        NULL|     NULL|                NULL|              NULL|               NULL|      Kinase|   false|    false|\n",
      "|   Q9UF33|CHEMBL103667|  167995|   CHEMBL859486|     1|    LITERATURE|      Nat Biotechnol|1.5711537E7|     10.1038/nbt1068| 30046|Ephrin type-A rec...|      CHEMBL4526|Homo sapiens|         430.0|            nM|                =|         6.37|ENSG00000080224|false|        NULL|     NULL|                NULL|              NULL|               NULL|      Kinase|   false|    false|\n",
      "|   P14416|   CHEMBL104|   13494|  CHEMBL1909140|    15|    DRUGMATRIX|                NULL|       NULL|                NULL|    72|Dopamine D2 receptor|       CHEMBL217|Homo sapiens|        4062.0|            nM|                =|         5.39|ENSG00000149295|false|   CHEMBL104|   P14416|      [impc, chembl]|             false|               true|        GPCR|   false|     true|\n",
      "|   P21452|   CHEMBL104|   13494|  CHEMBL1909114|    15|    DRUGMATRIX|                NULL|       NULL|                NULL| 10184|Neurokinin 2 rece...|      CHEMBL2327|Homo sapiens|        3383.0|            nM|                =|         5.47|ENSG00000075073|false|        NULL|     NULL|                NULL|              NULL|               NULL|        GPCR|   false|    false|\n",
      "|   P28223|   CHEMBL104|   13494|  CHEMBL1909211|    15|    DRUGMATRIX|                NULL|       NULL|                NULL|   107|Serotonin 2a (5-H...|       CHEMBL224|Homo sapiens|        3183.0|            nM|                =|          5.5|ENSG00000102468|false|   CHEMBL104|   P28223|            [chembl]|             false|               true|        GPCR|   false|     true|\n",
      "+---------+------------+--------+---------------+------+--------------+--------------------+-----------+--------------------+------+--------------------+----------------+------------+--------------+--------------+-----------------+-------------+---------------+-----+------------+---------+--------------------+------------------+-------------------+------------+--------+---------+\n",
      "only showing top 20 rows\n",
      "\n"
     ]
    }
   ],
   "source": [
    "# Define a new column 'isGE_plus' based on the contents of 'sources'\n",
    "biodata_GE_plus = biodata_all.withColumn(\n",
    "    'isGE_plus',\n",
    "    F.when((F.col('sources').isNull()) | (F.size(F.col('sources')) == 0), F.lit(False))\n",
    "    .otherwise(F.lit(True))\n",
    ")\n",
    "biodata_GE_plus.show()"
   ]
  },
  {
   "cell_type": "code",
   "execution_count": 6,
   "metadata": {},
   "outputs": [
    {
     "name": "stdout",
     "output_type": "stream",
     "text": [
      "Contingency table for source of evidence = GE_plus:\n",
      "+--------+-----+-----+\n",
      "|isActive|isMoA|count|\n",
      "+--------+-----+-----+\n",
      "|   false|false| 6714|\n",
      "|   false| true|  425|\n",
      "|    true|false| 7630|\n",
      "|    true| true| 2718|\n",
      "+--------+-----+-----+\n",
      "\n"
     ]
    }
   ],
   "source": [
    "# Filter the DataFrame where 'isGE_plus' is True\n",
    "biodata_GE_plus_t = biodata_GE_plus.filter(F.col('isGE_plus'))\n",
    "\n",
    "# Now create the contingency table for the subset where 'isGE_plus' is True\n",
    "contingency_table_GE_plus_t = (\n",
    "    biodata_GE_plus_t\n",
    "    .groupBy(\"isActive\", \"isMoA\")\n",
    "    .agg(F.count(\"*\").alias(\"count\"))\n",
    "    .orderBy(\"isActive\", \"isMoA\")\n",
    ")\n",
    "\n",
    "print(\"Contingency table for source of evidence = GE_plus:\")\n",
    "contingency_table_GE_plus_t.show()\n",
    "contingency_table_GE_plus_t_list = contingency_table_GE_plus_t.collect()"
   ]
  },
  {
   "cell_type": "code",
   "execution_count": 7,
   "metadata": {},
   "outputs": [
    {
     "name": "stdout",
     "output_type": "stream",
     "text": [
      "Contingency table for source of evidence != GE_plus:\n",
      "+--------+-----+-----+\n",
      "|isActive|isMoA|count|\n",
      "+--------+-----+-----+\n",
      "|   false|false| 7409|\n",
      "|   false| true|    1|\n",
      "|    true|false| 4809|\n",
      "|    true| true|    2|\n",
      "+--------+-----+-----+\n",
      "\n"
     ]
    }
   ],
   "source": [
    "# Filter the DataFrame for rows where 'isGE_plus' is False\n",
    "biodata_GE_plus_f = biodata_GE_plus.filter(~F.col('isGE_plus'))\n",
    "\n",
    "# Now create the contingency table for the subset where 'isGE_plus' is True\n",
    "contingency_table_GE_plus_f = (\n",
    "    biodata_GE_plus_f\n",
    "    .groupBy(\"isActive\", \"isMoA\")\n",
    "    .agg(F.count(\"*\").alias(\"count\"))\n",
    "    .orderBy(\"isActive\", \"isMoA\")\n",
    ")\n",
    "\n",
    "print(\"Contingency table for source of evidence != GE_plus:\")\n",
    "contingency_table_GE_plus_f.show()\n",
    "contingency_table_GE_plus_f_list = contingency_table_GE_plus_f.collect()"
   ]
  },
  {
   "cell_type": "code",
   "execution_count": 8,
   "metadata": {},
   "outputs": [
    {
     "name": "stdout",
     "output_type": "stream",
     "text": [
      "+--------+-----+---------+-----+\n",
      "|isActive|isMoA|isGE_plus|count|\n",
      "+--------+-----+---------+-----+\n",
      "|   false|false|    false| 7409|\n",
      "|   false|false|     true| 6714|\n",
      "|   false| true|    false|    1|\n",
      "|   false| true|     true|  425|\n",
      "|    true|false|    false| 4809|\n",
      "|    true|false|     true| 7630|\n",
      "|    true| true|    false|    2|\n",
      "|    true| true|     true| 2718|\n",
      "+--------+-----+---------+-----+\n",
      "\n"
     ]
    }
   ],
   "source": [
    "# 3rd dimention to GE_plus\n",
    "three_way_table_GE_plus = (\n",
    "    biodata_GE_plus\n",
    "    .groupBy(\"isActive\", \"isMoA\", \"isGE_plus\")\n",
    "    .agg(F.count(\"*\").alias(\"count\"))\n",
    "    .orderBy(\"isActive\", \"isMoA\", \"isGE_plus\")\n",
    ")\n",
    "\n",
    "# Show the resulting DataFrame\n",
    "three_way_table_GE_plus.show()"
   ]
  },
  {
   "cell_type": "code",
   "execution_count": 38,
   "metadata": {},
   "outputs": [],
   "source": [
    "pandas_df_plus = three_way_table_GE_plus.toPandas()\n",
    "pandas_df_plus.to_csv(\"analysis/three_way_table_GE_plus.csv\", index=False)"
   ]
  },
  {
   "cell_type": "markdown",
   "metadata": {},
   "source": [
    "### Create contingency table for biodata_all for source of evidence = GE"
   ]
  },
  {
   "cell_type": "code",
   "execution_count": 9,
   "metadata": {},
   "outputs": [
    {
     "name": "stdout",
     "output_type": "stream",
     "text": [
      "+---------+------------+--------+---------------+------+--------------+--------------------+-----------+--------------------+------+--------------------+----------------+------------+--------------+--------------+-----------------+-------------+---------------+-----+------------+---------+--------------------+------------------+-------------------+------------+--------+-----+\n",
      "|accession|   chembl_id|molregno|assay_chembl_id|src_id|src_short_name|             journal|  pubmed_id|                 doi|   tid|           pref_name|target_chembl_id|    organism|standard_value|standard_units|standard_relation|pchembl_value|       targetID|isMoA|      drugId|uniprotId|             sources|isHighQualityProbe|isTherapeuticTarget|proteinClass|isActive| isGE|\n",
      "+---------+------------+--------+---------------+------+--------------+--------------------+-----------+--------------------+------+--------------------+----------------+------------+--------------+--------------+-----------------+-------------+---------------+-----+------------+---------+--------------------+------------------+-------------------+------------+--------+-----+\n",
      "|   Q99808|CHEMBL100259|  161181|  CHEMBL3528990|     1|    LITERATURE|   Drug Metab Dispos|2.3388705E7|10.1124/dmd.112.0...|   175|Equilibrative nuc...|      CHEMBL1997|Homo sapiens|       51000.0|            nM|                =|         4.29|ENSG00000112759|false|CHEMBL100259|   Q99808|            [chembl]|             false|               true| Transporter|   false|false|\n",
      "|   Q9HAS3|CHEMBL100259|  161181|  CHEMBL3528994|     1|    LITERATURE|   Drug Metab Dispos|2.3388705E7|10.1124/dmd.112.0...|101512|Solute carrier fa...|      CHEMBL5707|Homo sapiens|        3400.0|            nM|                =|         5.47|ENSG00000197506|false|        NULL|     NULL|                NULL|              NULL|               NULL| Transporter|   false|false|\n",
      "|   P03372| CHEMBL10041|    6341|  CHEMBL5121196|     1|    LITERATURE|      Eur J Med Chem|3.4710747E7|10.1016/j.ejmech....|    19|Estrogen receptor...|       CHEMBL206|Homo sapiens|          1.12|            nM|                =|         8.95|ENSG00000091831|false| CHEMBL10041|   P03372|    [chemicalProbes]|             false|              false|          NR|    true|false|\n",
      "|   P00533|  CHEMBL1009|  112655|  CHEMBL1909203|    15|    DRUGMATRIX|                NULL|       NULL|                NULL|     9|Epidermal growth ...|       CHEMBL203|Homo sapiens|        2880.0|            nM|                =|         5.54|ENSG00000146648|false|  CHEMBL1009|   P00533|              [impc]|             false|              false|      Kinase|   false| true|\n",
      "|   Q9NPD5|  CHEMBL1014|  116349|  CHEMBL3039493|     1|    LITERATURE|       Mol Pharmacol|2.3571415E7|10.1124/mol.112.0...|104062|Solute carrier or...|   CHEMBL1743121|Homo sapiens|        1900.0|            nM|                =|         5.72|ENSG00000111700|false|        NULL|     NULL|                NULL|              NULL|               NULL| Transporter|   false|false|\n",
      "|   P24557|  CHEMBL1016|  116848|  CHEMBL1909116|    15|    DRUGMATRIX|                NULL|       NULL|                NULL|   248|Thromboxane-A syn...|      CHEMBL1835|Homo sapiens|        3059.4|            nM|                =|         5.51|ENSG00000059377|false|  CHEMBL1016|   P24557|[ot_genetics_port...|             false|               true|      Enzyme|    true| true|\n",
      "|   P30556|  CHEMBL1017|  116949|  CHEMBL2327554|     1|    LITERATURE|Bioorg Med Chem Lett|2.3265881E7|10.1016/j.bmcl.20...|   115|Type-1 angiotensi...|       CHEMBL227|Homo sapiens|          0.49|            nM|                =|         9.31|ENSG00000144891| true|  CHEMBL1017|   P30556| [impc, eva, chembl]|             false|               true|        GPCR|    true| true|\n",
      "|   P37231|  CHEMBL1017|  116949|  CHEMBL3873287|     1|    LITERATURE|      Eur J Med Chem|2.7560282E7|10.1016/j.ejmech....|   133|Peroxisome prolif...|       CHEMBL235|Homo sapiens|         700.0|            nM|                =|         6.16|ENSG00000132170|false|  CHEMBL1017|   P37231|[impc, eva, ot_ge...|             false|               true|          NR|    true| true|\n",
      "|   Q9Y6L6|  CHEMBL1017|  116949|  CHEMBL3039490|     1|    LITERATURE|       Mol Pharmacol|2.3571415E7|10.1124/mol.112.0...|103947|Solute carrier or...|   CHEMBL1697668|Homo sapiens|        1030.0|            nM|                =|         5.99|ENSG00000134538|false|  CHEMBL1017|   Q9Y6L6|[impc, ot_genetic...|             false|              false| Transporter|   false| true|\n",
      "|   P10826|  CHEMBL1023|  119498|   CHEMBL798919|     1|    LITERATURE|          J Med Chem|  9435893.0|   10.1021/jm9704309|   270|Retinoic acid rec...|      CHEMBL2008|Homo sapiens|          50.0|            nM|                =|          7.3|ENSG00000077092|false|  CHEMBL1023|   P10826|[ot_genetics_port...|             false|               true|          NR|    true| true|\n",
      "|   P10619|  CHEMBL1025|  119717|   CHEMBL917590|     1|    LITERATURE|Antimicrob Agents...|1.7145787E7|10.1128/aac.00968-06|102753|Lysosomal protect...|      CHEMBL6115|Homo sapiens|       10000.0|            nM|                =|          5.0|ENSG00000064601|false|        NULL|     NULL|                NULL|              NULL|               NULL|      Enzyme|   false|false|\n",
      "|   P21397| CHEMBL10316|    6784|   CHEMBL841865|     1|    LITERATURE|Bioorg Med Chem Lett|1.4698188E7|10.1016/j.bmcl.20...|104789|   Monoamine oxidase|   CHEMBL2095205|Homo sapiens|          28.0|            nM|                =|         7.55|ENSG00000189221|false| CHEMBL10316|   P21397|            [chembl]|             false|               true|      Enzyme|    true|false|\n",
      "|   P25100| CHEMBL10316|    6784|   CHEMBL648807|     1|    LITERATURE|          J Med Chem|  2886664.0| 10.1021/jm00391a015|104723|Adrenergic recept...|   CHEMBL2094251|Homo sapiens|        141.25|            nM|                =|         6.85|ENSG00000171873|false| CHEMBL10316|   P25100|            [chembl]|             false|               true|        GPCR|    true|false|\n",
      "|   P04629|CHEMBL103667|  167995|  CHEMBL1931566|     1|    LITERATURE|Bioorg Med Chem Lett| 2.201455E7|10.1016/j.bmcl.20...| 11902|Nerve growth fact...|      CHEMBL2815|Homo sapiens|         160.0|            nM|                =|          6.8|ENSG00000198400|false|CHEMBL103667|   P04629|            [chembl]|             false|               true|      Kinase|   false|false|\n",
      "|   P35590|CHEMBL103667|  167995|  CHEMBL1908714|     1|    LITERATURE|      Nat Biotechnol|2.2037378E7|    10.1038/nbt.1990|100906|Tyrosine-protein ...|      CHEMBL5274|Homo sapiens|           8.3|            nM|                =|         8.08|ENSG00000066056|false|        NULL|     NULL|                NULL|              NULL|               NULL|      Kinase|    true|false|\n",
      "|   Q15375|CHEMBL103667|  167995|   CHEMBL860660|     1|    LITERATURE|      Nat Biotechnol|1.5711537E7|     10.1038/nbt1068| 30027|Ephrin type-A rec...|      CHEMBL4602|Homo sapiens|         220.0|            nM|                =|         6.66|ENSG00000135333|false|        NULL|     NULL|                NULL|              NULL|               NULL|      Kinase|   false|false|\n",
      "|   Q9UF33|CHEMBL103667|  167995|   CHEMBL859486|     1|    LITERATURE|      Nat Biotechnol|1.5711537E7|     10.1038/nbt1068| 30046|Ephrin type-A rec...|      CHEMBL4526|Homo sapiens|         430.0|            nM|                =|         6.37|ENSG00000080224|false|        NULL|     NULL|                NULL|              NULL|               NULL|      Kinase|   false|false|\n",
      "|   P14416|   CHEMBL104|   13494|  CHEMBL1909140|    15|    DRUGMATRIX|                NULL|       NULL|                NULL|    72|Dopamine D2 receptor|       CHEMBL217|Homo sapiens|        4062.0|            nM|                =|         5.39|ENSG00000149295|false|   CHEMBL104|   P14416|      [impc, chembl]|             false|               true|        GPCR|   false| true|\n",
      "|   P21452|   CHEMBL104|   13494|  CHEMBL1909114|    15|    DRUGMATRIX|                NULL|       NULL|                NULL| 10184|Neurokinin 2 rece...|      CHEMBL2327|Homo sapiens|        3383.0|            nM|                =|         5.47|ENSG00000075073|false|        NULL|     NULL|                NULL|              NULL|               NULL|        GPCR|   false|false|\n",
      "|   P28223|   CHEMBL104|   13494|  CHEMBL1909211|    15|    DRUGMATRIX|                NULL|       NULL|                NULL|   107|Serotonin 2a (5-H...|       CHEMBL224|Homo sapiens|        3183.0|            nM|                =|          5.5|ENSG00000102468|false|   CHEMBL104|   P28223|            [chembl]|             false|               true|        GPCR|   false|false|\n",
      "+---------+------------+--------+---------------+------+--------------+--------------------+-----------+--------------------+------+--------------------+----------------+------------+--------------+--------------+-----------------+-------------+---------------+-----+------------+---------+--------------------+------------------+-------------------+------------+--------+-----+\n",
      "only showing top 20 rows\n",
      "\n"
     ]
    }
   ],
   "source": [
    "# Define the undesired lists as column expressions for comparison\n",
    "undesired_chembl = F.array([F.lit('chembl')])\n",
    "undesired_chemicalProbes = F.array([F.lit('chemicalProbes')])\n",
    "undesired_both = F.array([F.lit('chembl'), F.lit('chemicalProbes')])\n",
    "undesired_both_alt = F.array([F.lit('chemicalProbes'), F.lit('chembl')])\n",
    "\n",
    "# Assuming biodata_all is your DataFrame\n",
    "# Add the 'isGE' column\n",
    "biodata_GE = biodata_all.withColumn(\n",
    "    'isGE',\n",
    "    ~(\n",
    "        (F.col('sources').isNull()) |\n",
    "        (F.size(F.col('sources')) == 0) |\n",
    "        (F.array_sort(F.col('sources')) == F.array_sort(undesired_chembl)) |\n",
    "        (F.array_sort(F.col('sources')) == F.array_sort(undesired_chemicalProbes)) |\n",
    "        (F.array_sort(F.col('sources')) == F.array_sort(undesired_both)) |\n",
    "        (F.array_sort(F.col('sources')) == F.array_sort(undesired_both_alt))\n",
    "    )\n",
    ")\n",
    "biodata_GE.show()"
   ]
  },
  {
   "cell_type": "code",
   "execution_count": 10,
   "metadata": {},
   "outputs": [
    {
     "name": "stdout",
     "output_type": "stream",
     "text": [
      "Contingency table for source of evidence = GE:\n",
      "+--------+-----+-----+\n",
      "|isActive|isMoA|count|\n",
      "+--------+-----+-----+\n",
      "|   false|false| 4667|\n",
      "|   false| true|  286|\n",
      "|    true|false| 2493|\n",
      "|    true| true| 1696|\n",
      "+--------+-----+-----+\n",
      "\n"
     ]
    }
   ],
   "source": [
    "# Filter the DataFrame where 'isGE_plus' is True\n",
    "biodata_GE_t = biodata_GE.filter(F.col('isGE'))\n",
    "\n",
    "# Now create the contingency table for the subset where 'isGE' is True\n",
    "contingency_table_GE_t = (\n",
    "    biodata_GE_t\n",
    "    .groupBy(\"isActive\", \"isMoA\")\n",
    "    .agg(F.count(\"*\").alias(\"count\"))\n",
    "    .orderBy(\"isActive\", \"isMoA\")\n",
    ")\n",
    "\n",
    "print(\"Contingency table for source of evidence = GE:\")\n",
    "contingency_table_GE_t.show()\n",
    "contingency_table_GE_t_list = contingency_table_GE_t.collect()"
   ]
  },
  {
   "cell_type": "code",
   "execution_count": 11,
   "metadata": {},
   "outputs": [
    {
     "name": "stdout",
     "output_type": "stream",
     "text": [
      "Contingency table for source of evidence != GE:\n",
      "+--------+-----+-----+\n",
      "|isActive|isMoA|count|\n",
      "+--------+-----+-----+\n",
      "|   false|false| 9456|\n",
      "|   false| true|  140|\n",
      "|    true|false| 9946|\n",
      "|    true| true| 1024|\n",
      "+--------+-----+-----+\n",
      "\n"
     ]
    }
   ],
   "source": [
    "# Filter the DataFrame where 'isGE_plus' is True\n",
    "biodata_GE_f = biodata_GE.filter(~F.col('isGE'))\n",
    "\n",
    "# Now create the contingency table for the subset where 'isGE' is True\n",
    "contingency_table_GE_f = (\n",
    "    biodata_GE_f\n",
    "    .groupBy(\"isActive\", \"isMoA\")\n",
    "    .agg(F.count(\"*\").alias(\"count\"))\n",
    "    .orderBy(\"isActive\", \"isMoA\")\n",
    ")\n",
    "\n",
    "print(\"Contingency table for source of evidence != GE:\")\n",
    "contingency_table_GE_f.show()\n",
    "contingency_table_GE_f_list = contingency_table_GE_f.collect()"
   ]
  },
  {
   "cell_type": "code",
   "execution_count": 12,
   "metadata": {},
   "outputs": [
    {
     "name": "stdout",
     "output_type": "stream",
     "text": [
      "+--------+-----+-----+-----+\n",
      "|isActive|isMoA| isGE|count|\n",
      "+--------+-----+-----+-----+\n",
      "|   false|false|false| 9456|\n",
      "|   false|false| true| 4667|\n",
      "|   false| true|false|  140|\n",
      "|   false| true| true|  286|\n",
      "|    true|false|false| 9946|\n",
      "|    true|false| true| 2493|\n",
      "|    true| true|false| 1024|\n",
      "|    true| true| true| 1696|\n",
      "+--------+-----+-----+-----+\n",
      "\n"
     ]
    }
   ],
   "source": [
    "# 3rd dimention to GE_plus\n",
    "three_way_table_GE = (\n",
    "    biodata_GE\n",
    "    .groupBy(\"isActive\", \"isMoA\", \"isGE\")\n",
    "    .agg(F.count(\"*\").alias(\"count\"))\n",
    "    .orderBy(\"isActive\", \"isMoA\", \"isGE\")\n",
    ")\n",
    "\n",
    "# Show the resulting DataFrame\n",
    "three_way_table_GE.show()"
   ]
  },
  {
   "cell_type": "code",
   "execution_count": 37,
   "metadata": {},
   "outputs": [],
   "source": [
    "pandas_df = three_way_table_GE.toPandas()\n",
    "pandas_df.to_csv(\"analysis/three_way_table_GE.csv\", index=False)"
   ]
  },
  {
   "cell_type": "markdown",
   "metadata": {},
   "source": [
    "## Mantel-Haenszel test"
   ]
  },
  {
   "cell_type": "markdown",
   "metadata": {},
   "source": [
    "### Variables are isGE (stratification variable), isActive (exposure), and isMoA (outcome)"
   ]
  },
  {
   "cell_type": "code",
   "execution_count": 34,
   "metadata": {},
   "outputs": [
    {
     "ename": "ModuleNotFoundError",
     "evalue": "No module named 'rpy2'",
     "output_type": "error",
     "traceback": [
      "\u001b[0;31m---------------------------------------------------------------------------\u001b[0m",
      "\u001b[0;31mModuleNotFoundError\u001b[0m                       Traceback (most recent call last)",
      "\u001b[1;32m/Users/polina/Documents/Bioactivity/bioactivity/OR_calc.ipynb Cell 18\u001b[0m line \u001b[0;36m2\n\u001b[1;32m      <a href='vscode-notebook-cell:/Users/polina/Documents/Bioactivity/bioactivity/OR_calc.ipynb#X61sZmlsZQ%3D%3D?line=0'>1</a>\u001b[0m \u001b[39mfrom\u001b[39;00m \u001b[39mpyspark\u001b[39;00m\u001b[39m.\u001b[39;00m\u001b[39msql\u001b[39;00m \u001b[39mimport\u001b[39;00m SparkSession\n\u001b[0;32m----> <a href='vscode-notebook-cell:/Users/polina/Documents/Bioactivity/bioactivity/OR_calc.ipynb#X61sZmlsZQ%3D%3D?line=1'>2</a>\u001b[0m \u001b[39mfrom\u001b[39;00m \u001b[39mrpy2\u001b[39;00m\u001b[39m.\u001b[39;00m\u001b[39mrobjects\u001b[39;00m \u001b[39mimport\u001b[39;00m r, IntVector\n\u001b[1;32m      <a href='vscode-notebook-cell:/Users/polina/Documents/Bioactivity/bioactivity/OR_calc.ipynb#X61sZmlsZQ%3D%3D?line=2'>3</a>\u001b[0m \u001b[39mfrom\u001b[39;00m \u001b[39mrpy2\u001b[39;00m\u001b[39m.\u001b[39;00m\u001b[39mrobjects\u001b[39;00m\u001b[39m.\u001b[39;00m\u001b[39mpackages\u001b[39;00m \u001b[39mimport\u001b[39;00m importr\n\u001b[1;32m      <a href='vscode-notebook-cell:/Users/polina/Documents/Bioactivity/bioactivity/OR_calc.ipynb#X61sZmlsZQ%3D%3D?line=3'>4</a>\u001b[0m \u001b[39mimport\u001b[39;00m \u001b[39mnumpy\u001b[39;00m \u001b[39mas\u001b[39;00m \u001b[39mnp\u001b[39;00m\n",
      "\u001b[0;31mModuleNotFoundError\u001b[0m: No module named 'rpy2'"
     ]
    }
   ],
   "source": [
    "from pyspark.sql import SparkSession\n",
    "from rpy2.robjects import r, IntVector\n",
    "from rpy2.robjects.packages import importr\n",
    "import numpy as np"
   ]
  },
  {
   "cell_type": "code",
   "execution_count": 25,
   "metadata": {},
   "outputs": [],
   "source": [
    "# Extract the 2x2 tables for True and False strata of isGE\n",
    "table_GE_true = three_way_table_pd[three_way_table_pd['isGE'] == True]\n",
    "table_GE_false = three_way_table_pd[three_way_table_pd['isGE'] == False]"
   ]
  },
  {
   "cell_type": "code",
   "execution_count": 26,
   "metadata": {},
   "outputs": [
    {
     "data": {
      "text/html": [
       "<div>\n",
       "<style scoped>\n",
       "    .dataframe tbody tr th:only-of-type {\n",
       "        vertical-align: middle;\n",
       "    }\n",
       "\n",
       "    .dataframe tbody tr th {\n",
       "        vertical-align: top;\n",
       "    }\n",
       "\n",
       "    .dataframe thead th {\n",
       "        text-align: right;\n",
       "    }\n",
       "</style>\n",
       "<table border=\"1\" class=\"dataframe\">\n",
       "  <thead>\n",
       "    <tr style=\"text-align: right;\">\n",
       "      <th></th>\n",
       "      <th>isActive</th>\n",
       "      <th>isMoA</th>\n",
       "      <th>isGE</th>\n",
       "      <th>count</th>\n",
       "    </tr>\n",
       "  </thead>\n",
       "  <tbody>\n",
       "    <tr>\n",
       "      <th>1</th>\n",
       "      <td>False</td>\n",
       "      <td>False</td>\n",
       "      <td>True</td>\n",
       "      <td>4667</td>\n",
       "    </tr>\n",
       "    <tr>\n",
       "      <th>3</th>\n",
       "      <td>False</td>\n",
       "      <td>True</td>\n",
       "      <td>True</td>\n",
       "      <td>286</td>\n",
       "    </tr>\n",
       "    <tr>\n",
       "      <th>5</th>\n",
       "      <td>True</td>\n",
       "      <td>False</td>\n",
       "      <td>True</td>\n",
       "      <td>2493</td>\n",
       "    </tr>\n",
       "    <tr>\n",
       "      <th>7</th>\n",
       "      <td>True</td>\n",
       "      <td>True</td>\n",
       "      <td>True</td>\n",
       "      <td>1696</td>\n",
       "    </tr>\n",
       "  </tbody>\n",
       "</table>\n",
       "</div>"
      ],
      "text/plain": [
       "   isActive  isMoA  isGE  count\n",
       "1     False  False  True   4667\n",
       "3     False   True  True    286\n",
       "5      True  False  True   2493\n",
       "7      True   True  True   1696"
      ]
     },
     "execution_count": 26,
     "metadata": {},
     "output_type": "execute_result"
    }
   ],
   "source": [
    "table_GE_true"
   ]
  },
  {
   "cell_type": "code",
   "execution_count": 27,
   "metadata": {},
   "outputs": [
    {
     "data": {
      "text/html": [
       "<div>\n",
       "<style scoped>\n",
       "    .dataframe tbody tr th:only-of-type {\n",
       "        vertical-align: middle;\n",
       "    }\n",
       "\n",
       "    .dataframe tbody tr th {\n",
       "        vertical-align: top;\n",
       "    }\n",
       "\n",
       "    .dataframe thead th {\n",
       "        text-align: right;\n",
       "    }\n",
       "</style>\n",
       "<table border=\"1\" class=\"dataframe\">\n",
       "  <thead>\n",
       "    <tr style=\"text-align: right;\">\n",
       "      <th></th>\n",
       "      <th>isActive</th>\n",
       "      <th>isMoA</th>\n",
       "      <th>isGE</th>\n",
       "      <th>count</th>\n",
       "    </tr>\n",
       "  </thead>\n",
       "  <tbody>\n",
       "    <tr>\n",
       "      <th>0</th>\n",
       "      <td>False</td>\n",
       "      <td>False</td>\n",
       "      <td>False</td>\n",
       "      <td>9456</td>\n",
       "    </tr>\n",
       "    <tr>\n",
       "      <th>2</th>\n",
       "      <td>False</td>\n",
       "      <td>True</td>\n",
       "      <td>False</td>\n",
       "      <td>140</td>\n",
       "    </tr>\n",
       "    <tr>\n",
       "      <th>4</th>\n",
       "      <td>True</td>\n",
       "      <td>False</td>\n",
       "      <td>False</td>\n",
       "      <td>9946</td>\n",
       "    </tr>\n",
       "    <tr>\n",
       "      <th>6</th>\n",
       "      <td>True</td>\n",
       "      <td>True</td>\n",
       "      <td>False</td>\n",
       "      <td>1024</td>\n",
       "    </tr>\n",
       "  </tbody>\n",
       "</table>\n",
       "</div>"
      ],
      "text/plain": [
       "   isActive  isMoA   isGE  count\n",
       "0     False  False  False   9456\n",
       "2     False   True  False    140\n",
       "4      True  False  False   9946\n",
       "6      True   True  False   1024"
      ]
     },
     "execution_count": 27,
     "metadata": {},
     "output_type": "execute_result"
    }
   ],
   "source": [
    "table_GE_false"
   ]
  },
  {
   "cell_type": "code",
   "execution_count": null,
   "metadata": {},
   "outputs": [],
   "source": []
  },
  {
   "cell_type": "code",
   "execution_count": null,
   "metadata": {},
   "outputs": [],
   "source": []
  },
  {
   "cell_type": "code",
   "execution_count": null,
   "metadata": {},
   "outputs": [],
   "source": []
  },
  {
   "cell_type": "code",
   "execution_count": null,
   "metadata": {},
   "outputs": [],
   "source": []
  },
  {
   "cell_type": "code",
   "execution_count": null,
   "metadata": {},
   "outputs": [],
   "source": []
  },
  {
   "cell_type": "code",
   "execution_count": null,
   "metadata": {},
   "outputs": [],
   "source": []
  },
  {
   "cell_type": "code",
   "execution_count": null,
   "metadata": {},
   "outputs": [],
   "source": []
  }
 ],
 "metadata": {
  "kernelspec": {
   "display_name": "Python 3",
   "language": "python",
   "name": "python3"
  },
  "language_info": {
   "codemirror_mode": {
    "name": "ipython",
    "version": 3
   },
   "file_extension": ".py",
   "mimetype": "text/x-python",
   "name": "python",
   "nbconvert_exporter": "python",
   "pygments_lexer": "ipython3",
   "version": "3.9.6"
  },
  "orig_nbformat": 4
 },
 "nbformat": 4,
 "nbformat_minor": 2
}
