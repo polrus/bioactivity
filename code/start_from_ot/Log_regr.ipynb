{
 "cells": [
  {
   "cell_type": "code",
   "execution_count": 17,
   "metadata": {},
   "outputs": [],
   "source": [
    "from pyspark.sql import SparkSession\n",
    "from pyspark.ml import Pipeline\n",
    "from pyspark.ml.feature import StringIndexer, OneHotEncoder, VectorAssembler, StringIndexerModel\n",
    "from pyspark.ml.classification import LogisticRegression\n",
    "from pyspark.sql.functions import when, col\n",
    "import numpy as np"
   ]
  },
  {
   "cell_type": "code",
   "execution_count": 6,
   "metadata": {},
   "outputs": [],
   "source": [
    "# Initialize Spark session\n",
    "spark = SparkSession.builder.appName(\"logistic_regression\").getOrCreate()\n",
    "\n",
    "# Let's assume 'df' is your original DataFrame and 'isMoA' is your label column\n",
    "df = spark.read.parquet(\"data/analysis/biodata_all_v2\", header=True, inferSchema=True)"
   ]
  },
  {
   "cell_type": "code",
   "execution_count": 7,
   "metadata": {},
   "outputs": [],
   "source": [
    "df = df.fillna({\"proteinClass\": \"Unknown\"})"
   ]
  },
  {
   "cell_type": "code",
   "execution_count": 8,
   "metadata": {},
   "outputs": [],
   "source": [
    "# Mark non-null values in 'sources' as Important/Not_Important\n",
    "df = df.withColumn(\"sources_imp\", when(col(\"sources\").isNotNull(), \"Important\").otherwise(\"Not_Important\"))"
   ]
  },
  {
   "cell_type": "code",
   "execution_count": 9,
   "metadata": {},
   "outputs": [],
   "source": [
    "# Drop existing columns if they exist\n",
    "for col_name in ['proteinClassIndex', 'proteinClassVec', 'sourcesIndex', 'sourcesVec']:\n",
    "    if col_name in df.columns:\n",
    "        df = df.drop(col_name)"
   ]
  },
  {
   "cell_type": "code",
   "execution_count": 10,
   "metadata": {},
   "outputs": [],
   "source": [
    "# Define StringIndexer and OneHotEncoder stages for 'proteinClass' and 'sources_imp'\n",
    "protein_indexer = StringIndexer(inputCol=\"proteinClass\", outputCol=\"proteinClassIndex\", handleInvalid=\"keep\")\n",
    "sources_indexer = StringIndexer(inputCol=\"sources_imp\", outputCol=\"sourcesIndex\", handleInvalid=\"keep\")\n",
    "\n",
    "protein_encoder = OneHotEncoder(inputCol=\"proteinClassIndex\", outputCol=\"proteinClassVec\")\n",
    "sources_encoder = OneHotEncoder(inputCol=\"sourcesIndex\", outputCol=\"sourcesVec\")\n",
    "\n",
    "# VectorAssembler to combine feature columns into a single vector column\n",
    "assembler = VectorAssembler(inputCols=[\"pchembl_value\", \"proteinClassVec\", \"sourcesVec\"], outputCol=\"features\")\n",
    "\n",
    "# Convert the target column to numeric (assuming it's boolean)\n",
    "df = df.withColumn(\"label\", col(\"isMoA\").cast(\"double\"))\n",
    "\n",
    "# Split the data into training and test sets\n",
    "train_data, test_data = df.randomSplit([0.7, 0.3])"
   ]
  },
  {
   "cell_type": "code",
   "execution_count": 11,
   "metadata": {},
   "outputs": [
    {
     "name": "stderr",
     "output_type": "stream",
     "text": [
      "23/11/03 13:49:14 WARN SparkStringUtils: Truncated the string representation of a plan since it was too large. This behavior can be adjusted by setting 'spark.sql.debug.maxToStringFields'.\n",
      "23/11/03 13:49:17 WARN InstanceBuilder: Failed to load implementation from:dev.ludovic.netlib.blas.JNIBLAS\n",
      "23/11/03 13:49:17 WARN InstanceBuilder: Failed to load implementation from:dev.ludovic.netlib.blas.VectorBLAS\n"
     ]
    }
   ],
   "source": [
    "# Define the LogisticRegression estimator\n",
    "lr = LogisticRegression(featuresCol=\"features\", labelCol=\"label\")\n",
    "\n",
    "# Define the Pipeline which consists of all the stages\n",
    "pipeline = Pipeline(stages=[protein_indexer, sources_indexer, protein_encoder, sources_encoder, assembler, lr])\n",
    "\n",
    "# Fit the pipeline on the training data\n",
    "pipeline_model = pipeline.fit(train_data)\n",
    "\n",
    "# Make predictions on the test set\n",
    "predictions = pipeline_model.transform(test_data)"
   ]
  },
  {
   "cell_type": "code",
   "execution_count": 14,
   "metadata": {},
   "outputs": [
    {
     "name": "stdout",
     "output_type": "stream",
     "text": [
      "Odds ratio for feature 0 = 1.877476533607761\n",
      "Odds ratio for feature 1 = 0.7076776079119121\n",
      "Odds ratio for feature 2 = 1.162040668848281\n",
      "Odds ratio for feature 3 = 1.5172020339539933\n",
      "Odds ratio for feature 4 = 0.6874567556121526\n",
      "Odds ratio for feature 5 = 0.7719439234538983\n",
      "Odds ratio for feature 6 = 4.041228347069181\n",
      "Odds ratio for feature 7 = 1.629721922127416\n",
      "Odds ratio for feature 8 = 1.2550303284017066\n",
      "Odds ratio for feature 9 = 0.22808535584822315\n",
      "Odds ratio for feature 10 = 4.6201698357686086e-17\n",
      "Odds ratio for feature 11 = 0.010991804200473678\n",
      "Odds ratio for feature 12 = 0.01343179462245936\n",
      "Odds ratio for feature 13 = 31.55330230226572\n",
      "Odds ratio for feature 14 = 0.03169240387009305\n"
     ]
    }
   ],
   "source": [
    "from pyspark.ml.linalg import Vectors\n",
    "import numpy as np\n",
    "\n",
    "# Assuming 'pipeline_model' is the fitted PipelineModel object from the previous step\n",
    "\n",
    "# Extract LogisticRegressionModel from the fitted pipeline\n",
    "lr_model = pipeline_model.stages[-1]\n",
    "\n",
    "# Extract coefficients from the LogisticRegressionModel\n",
    "coefficients = lr_model.coefficients\n",
    "\n",
    "# Convert Spark DenseVector to numpy array\n",
    "coefficients_array = np.array(coefficients)\n",
    "\n",
    "# Exponentiate the coefficients to get the odds ratios\n",
    "odds_ratios = np.exp(coefficients_array)\n",
    "\n",
    "# Print the odds ratios for each feature\n",
    "for i, odds_ratio in enumerate(odds_ratios):\n",
    "    print(f\"Odds ratio for feature {i} = {odds_ratio}\")"
   ]
  },
  {
   "cell_type": "code",
   "execution_count": 15,
   "metadata": {},
   "outputs": [
    {
     "name": "stdout",
     "output_type": "stream",
     "text": [
      "Area under ROC = 0.8686672375342787\n"
     ]
    },
    {
     "data": {
      "image/png": "[encoded data removed]",
      "text/plain": [
       "<Figure size 640x480 with 1 Axes>"
      ]
     },
     "metadata": {},
     "output_type": "display_data"
    }
   ],
   "source": [
    "# Compute the AUC-ROC\n",
    "from pyspark.ml.feature import StringIndexer, OneHotEncoder, VectorAssembler\n",
    "from pyspark.ml import Pipeline\n",
    "from pyspark.ml.classification import LogisticRegression\n",
    "from pyspark.ml.evaluation import BinaryClassificationEvaluator\n",
    "import matplotlib.pyplot as plt\n",
    "from pyspark.ml.feature import VectorAssembler\n",
    "\n",
    "evaluator = BinaryClassificationEvaluator(metricName=\"areaUnderROC\")\n",
    "roc_auc = evaluator.evaluate(predictions)\n",
    "print(f\"Area under ROC = {roc_auc}\")\n",
    "\n",
    "# Plot the ROC curve\n",
    "roc = lr_model.summary.roc.toPandas()\n",
    "plt.plot(roc['FPR'], roc['TPR'], label='ROC Curve')\n",
    "plt.xlabel('False Positive Rate')\n",
    "plt.ylabel('True Positive Rate')\n",
    "plt.title('ROC Curve (GE+)')\n",
    "plt.legend(loc='lower right')\n",
    "plt.show()"
   ]
  },
  {
   "cell_type": "code",
   "execution_count": null,
   "metadata": {},
   "outputs": [],
   "source": []
  },
  {
   "cell_type": "code",
   "execution_count": null,
   "metadata": {},
   "outputs": [],
   "source": []
  },
  {
   "cell_type": "code",
   "execution_count": null,
   "metadata": {},
   "outputs": [],
   "source": []
  }
 ],
 "metadata": {
  "kernelspec": {
   "display_name": "Python 3",
   "language": "python",
   "name": "python3"
  },
  "language_info": {
   "codemirror_mode": {
    "name": "ipython",
    "version": 3
   },
   "file_extension": ".py",
   "mimetype": "text/x-python",
   "name": "python",
   "nbconvert_exporter": "python",
   "pygments_lexer": "ipython3",
   "version": "3.9.6"
  },
  "orig_nbformat": 4
 },
 "nbformat": 4,
 "nbformat_minor": 2
}
