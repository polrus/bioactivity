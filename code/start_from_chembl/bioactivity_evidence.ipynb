{
 "cells": [
  {
   "cell_type": "code",
   "execution_count": 2,
   "metadata": {},
   "outputs": [],
   "source": [
    "from pyspark.sql import SparkSession\n",
    "import pyspark.sql.functions as f\n",
    "from pyspark.sql import DataFrame\n",
    "from pyspark.sql.functions import col\n",
    "from pyspark.sql.functions import udf\n",
    "from pyspark.sql.types import StringType, ArrayType\n",
    "from pyspark.sql import Row\n",
    "from pyspark.sql.functions import when\n",
    "from pyspark.sql.functions import col, broadcast, when, max, expr, collect_list, concat_ws, array_contains, split, collect_list, array_distinct, collect_set\n",
    "from pyspark.sql.functions import expr, col, explode, array, struct, lit, regexp_replace, count, avg\n",
    "from pyspark.sql.functions import split, size\n",
    "from pyspark.sql.types import BooleanType"
   ]
  },
  {
   "cell_type": "code",
   "execution_count": 3,
   "metadata": {},
   "outputs": [
    {
     "name": "stderr",
     "output_type": "stream",
     "text": [
      "Setting default log level to \"WARN\".\n",
      "To adjust logging level use sc.setLogLevel(newLevel). For SparkR, use setLogLevel(newLevel).\n",
      "24/02/12 16:08:25 INFO SparkEnv: Registering MapOutputTracker\n",
      "24/02/12 16:08:25 INFO SparkEnv: Registering BlockManagerMaster\n",
      "24/02/12 16:08:25 INFO SparkEnv: Registering BlockManagerMasterHeartbeat\n",
      "24/02/12 16:08:25 INFO SparkEnv: Registering OutputCommitCoordinator\n"
     ]
    }
   ],
   "source": [
    "spark = SparkSession.builder.getOrCreate()"
   ]
  },
  {
   "cell_type": "markdown",
   "metadata": {},
   "source": [
    "### Useful functions (table merge etc)"
   ]
  },
  {
   "cell_type": "code",
   "execution_count": 4,
   "metadata": {},
   "outputs": [],
   "source": [
    "def join_dataframes(initial_df: DataFrame, \n",
    "                    second_df: DataFrame, \n",
    "                    initial_key_column: str, \n",
    "                    second_key_column: str,\n",
    "                    columns_to_join: list) -> DataFrame:\n",
    "    \"\"\"\n",
    "    Joins two PySpark DataFrames on specified key columns.\n",
    "\n",
    "    Args:\n",
    "    initial_df (DataFrame): The initial PySpark DataFrame.\n",
    "    second_df (DataFrame): The second PySpark DataFrame to join with.\n",
    "    initial_key_column (str): The key column name in the initial DataFrame.\n",
    "    second_key_column (str): The key column name in the second DataFrame.\n",
    "    columns_to_join (list): List of column names from the second DataFrame to include in the join.\n",
    "\n",
    "    Returns:\n",
    "    DataFrame: The resulting DataFrame after the join.\n",
    "    \"\"\"\n",
    "\n",
    "    # Selecting specified columns from the second DataFrame, including its key column\n",
    "    second_df_selected = second_df.select([second_key_column] + columns_to_join)\n",
    "\n",
    "    second_columns_to_join_with_alias = [\"b.\" + col for col in columns_to_join]\n",
    "\n",
    "    return initial_df.alias(\"a\")\\\n",
    "        .join(second_df_selected.alias(\"b\"), \n",
    "            on = initial_df[initial_key_column] == second_df_selected[second_key_column], \n",
    "            how='left')\\\n",
    "        .select(\"a.*\", *second_columns_to_join_with_alias)\\\n",
    "        .persist()\n",
    "\n",
    "    \n",
    "\n",
    "    # # Performing the left join\n",
    "    # joined_df = initial_df.join(second_df_selected, \n",
    "    #                             initial_df[initial_key_column] == second_df_selected[second_key_column], \n",
    "    #                             how='left')\n",
    "\n",
    "    # # Drop the second key column if not needed\n",
    "    # joined_df = joined_df.drop(second_df_selected[second_key_column])\n",
    "\n",
    "    # return joined_df\n"
   ]
  },
  {
   "cell_type": "code",
   "execution_count": 5,
   "metadata": {},
   "outputs": [],
   "source": [
    "def join_dataframes_by_many_cols(initial_df: DataFrame, \n",
    "                    second_df: DataFrame, \n",
    "                    initial_key_columns: list, \n",
    "                    second_key_columns: list,\n",
    "                    columns_to_join: list) -> DataFrame:\n",
    "    \"\"\"\n",
    "    Joins two PySpark DataFrames on specified key columns.\n",
    "\n",
    "    Args:\n",
    "    initial_df (DataFrame): The initial PySpark DataFrame.\n",
    "    second_df (DataFrame): The second PySpark DataFrame to join with.\n",
    "    initial_key_columns (list): The key column names in the initial DataFrame.\n",
    "    second_key_columns (list): The key column names in the second DataFrame.\n",
    "    columns_to_join (list): List of column names from the second DataFrame to include in the join.\n",
    "\n",
    "    Returns:\n",
    "    DataFrame: The resulting DataFrame after the join.\n",
    "    \"\"\"\n",
    "\n",
    "    # Ensure the key columns lists have the same length\n",
    "    if len(initial_key_columns) != len(second_key_columns):\n",
    "        raise ValueError(\"Key columns lists must be of the same length\")\n",
    "\n",
    "    # Selecting specified columns from the second DataFrame, including its key columns\n",
    "    second_df_selected = second_df.select(second_key_columns + columns_to_join)\n",
    "\n",
    "    # Build join condition\n",
    "    join_condition = [initial_df[initial_col] == second_df_selected[second_col] \n",
    "                      for initial_col, second_col in zip(initial_key_columns, second_key_columns)]\n",
    "\n",
    "    # Perform the left join\n",
    "    joined_df = initial_df.join(second_df_selected, \n",
    "                                on=join_condition, \n",
    "                                how='left')\n",
    "\n",
    "    # Drop the second key columns if not needed\n",
    "    for col in second_key_columns:\n",
    "        joined_df = joined_df.drop(second_df_selected[col])\n",
    "\n",
    "    return joined_df\n"
   ]
  },
  {
   "cell_type": "code",
   "execution_count": 6,
   "metadata": {},
   "outputs": [],
   "source": [
    "def count_unique_values(df: DataFrame, column_name: str) -> int:\n",
    "    \"\"\"\n",
    "    Count unique values in a specific column of a PySpark DataFrame.\n",
    "\n",
    "    Args:\n",
    "    df (DataFrame): The PySpark DataFrame.\n",
    "    column_name (str): The name of the column to analyze.\n",
    "\n",
    "    Returns:\n",
    "    int: The number of unique values in the column.\n",
    "    \"\"\"\n",
    "    # Get distinct values in the column and count them\n",
    "    unique_count = df.select(column_name).distinct().count()\n",
    "\n",
    "    return unique_count\n",
    "\n",
    "# Example usage\n",
    "# unique_count = count_unique_values(your_dataframe, 'your_column_name')\n",
    "# print(f\"Number of unique values: {unique_count}\")\n"
   ]
  },
  {
   "cell_type": "code",
   "execution_count": 7,
   "metadata": {},
   "outputs": [],
   "source": [
    "def show_unique_values_and_counts(df: DataFrame, column_name: str):\n",
    "    \"\"\"\n",
    "    Shows unique values and their counts for a specified column in a Spark DataFrame.\n",
    "\n",
    "    Parameters:\n",
    "    df (DataFrame): The Spark DataFrame to analyze.\n",
    "    column_name (str): The name of the column for which to count unique values.\n",
    "    \"\"\"\n",
    "    if column_name not in df.columns:\n",
    "        raise ValueError(f\"Column {column_name} not found in DataFrame\")\n",
    "\n",
    "    unique_values_counts = df.groupBy(column_name).count()\n",
    "    unique_values_counts.show()\n"
   ]
  },
  {
   "cell_type": "markdown",
   "metadata": {},
   "source": [
    "# New Target-Indication evidence from bioactivity data"
   ]
  },
  {
   "cell_type": "markdown",
   "metadata": {},
   "source": [
    "### Drug-Indication (clinical, ChEMBL) + Drug-Target (MoA, ChEMBL) = Target-Indication evidence (OT)?"
   ]
  },
  {
   "cell_type": "code",
   "execution_count": 8,
   "metadata": {},
   "outputs": [
    {
     "name": "stderr",
     "output_type": "stream",
     "text": [
      "                                                                                \r"
     ]
    },
    {
     "name": "stdout",
     "output_type": "stream",
     "text": [
      "+--------------------+-------------+--------------------+-----------------+------------------+\n",
      "|           _metadata|       efo_id|     indication_refs|max_phase_for_ind|molecule_chembl_id|\n",
      "+--------------------+-------------+--------------------+-----------------+------------------+\n",
      "|       {[CHEMBL734]}|  EFO:0003103|[{6660b616-a82d-9...|              4.0|         CHEMBL734|\n",
      "|{[CHEMBL1200796, ...|  EFO:0004255|[{NCT02257697, Cl...|              4.0|     CHEMBL1200796|\n",
      "|{[CHEMBL1683544, ...|  EFO:0000305|[{NCT01908101,NCT...|              4.0|     CHEMBL1683544|\n",
      "|   {[CHEMBL1230065]}|  EFO:0004264|[{NCT00570752, Cl...|              2.0|     CHEMBL1230065|\n",
      "|{[CHEMBL1683544, ...|  EFO:0000616|[{NCT00047034,NCT...|              1.0|     CHEMBL1683544|\n",
      "|   {[CHEMBL2108597]}|  EFO:0004270|[{NCT00685815,NCT...|              3.0|     CHEMBL2108597|\n",
      "|{[CHEMBL1079742, ...|  EFO:0000305|[{NCT00054132, Cl...|              2.0|     CHEMBL1079742|\n",
      "|   {[CHEMBL2108597]}|  EFO:0004272|[{NCT00317226,NCT...|              4.0|     CHEMBL2108597|\n",
      "|{[CHEMBL1079742, ...|  EFO:0000313|[{NCT01149122, Cl...|              3.0|     CHEMBL1079742|\n",
      "|   {[CHEMBL1200830]}|  EFO:0004272|[{B03AA07, ATC, h...|              4.0|     CHEMBL1200830|\n",
      "|       {[CHEMBL848]}|  EFO:0004272|[{NCT00843882,NCT...|              4.0|         CHEMBL848|\n",
      "|    {[CHEMBL550348]}|  EFO:0004272|[{NCT02125877,NCT...|              2.0|      CHEMBL550348|\n",
      "|      {[CHEMBL1617]}|  EFO:0003047|[{NCT01603108, Cl...|              2.0|        CHEMBL1617|\n",
      "|    {[CHEMBL373204]}|  EFO:0001067|[{P03BA02, ATC, h...|             -1.0|      CHEMBL373204|\n",
      "|         {[CHEMBL2]}|  EFO:0004253|[{NCT00713739, Cl...|              3.0|           CHEMBL2|\n",
      "|   {[CHEMBL2108494]}|  EFO:0003047|[{NCT00097045,NCT...|              3.0|     CHEMBL2108494|\n",
      "|       {[CHEMBL182]}|MONDO:0008170|[{NCT00005025,NCT...|              2.0|         CHEMBL182|\n",
      "|   {[CHEMBL3301610]}|MONDO:0001187|[{NCT03837821, Cl...|              0.5|     CHEMBL3301610|\n",
      "|       {[CHEMBL196]}|  EFO:0003060|[{NCT02420314,NCT...|              2.0|         CHEMBL196|\n",
      "|   {[CHEMBL3545042]}|   HP:0000360|[{NCT01302873, Cl...|              2.0|     CHEMBL3545042|\n",
      "+--------------------+-------------+--------------------+-----------------+------------------+\n",
      "only showing top 20 rows\n",
      "\n"
     ]
    },
    {
     "name": "stderr",
     "output_type": "stream",
     "text": [
      "                                                                                \r"
     ]
    },
    {
     "data": {
      "text/plain": [
       "51582"
      ]
     },
     "execution_count": 8,
     "metadata": {},
     "output_type": "execute_result"
    }
   ],
   "source": [
    "# Clinical Drug-Indication pairs from ChEMBL\n",
    "drug_indication = \"gs://open-targets-pre-data-releases/chembl-columns/chembl-inputs/chembl_33_drug_indication.jsonl\"\n",
    "drug_indication = spark.read.json(drug_indication)\n",
    "drug_indication.persist()\n",
    "drug_indication.show()\n",
    "drug_indication.count()"
   ]
  },
  {
   "cell_type": "code",
   "execution_count": 48,
   "metadata": {},
   "outputs": [
    {
     "name": "stdout",
     "output_type": "stream",
     "text": [
      "+----------------+------------+--------------------+-----------------+------------------+\n",
      "|       _metadata|      efo_id|     indication_refs|max_phase_for_ind|molecule_chembl_id|\n",
      "+----------------+------------+--------------------+-----------------+------------------+\n",
      "|{[CHEMBL269732]}| EFO:1001413|[{NCT04498741, Cl...|              1.0|      CHEMBL269732|\n",
      "|{[CHEMBL269732]}| EFO:0002429|[{NCT01529827, Cl...|              2.0|      CHEMBL269732|\n",
      "|{[CHEMBL269732]}| EFO:0004228|[{NCT04810156, Cl...|              2.0|      CHEMBL269732|\n",
      "|{[CHEMBL269732]}|  HP:0001399|[{NCT00608244,NCT...|              2.0|      CHEMBL269732|\n",
      "|{[CHEMBL269732]}| EFO:0009510|[{NCT00950391, Cl...|              1.0|      CHEMBL269732|\n",
      "|{[CHEMBL269732]}| EFO:1000131|[{NCT02960646, Cl...|              1.0|      CHEMBL269732|\n",
      "|{[CHEMBL269732]}| EFO:1002048|[{NCT00183248,NCT...|              3.0|      CHEMBL269732|\n",
      "|{[CHEMBL269732]}| EFO:1001779|[{NCT02960646,NCT...|              2.0|      CHEMBL269732|\n",
      "|{[CHEMBL269732]}| EFO:0000096|[{NCT01701986, Cl...|              2.0|      CHEMBL269732|\n",
      "|{[CHEMBL269732]}| EFO:0003032|[{NCT01529827, Cl...|              2.0|      CHEMBL269732|\n",
      "|{[CHEMBL269732]}| EFO:0004251|[{NCT00053196,NCT...|              2.0|      CHEMBL269732|\n",
      "|{[CHEMBL269732]}| EFO:0008517|[{NCT02744378, Cl...|              2.0|      CHEMBL269732|\n",
      "|{[CHEMBL269732]}| EFO:1000956|[{NCT01529827, Cl...|              2.0|      CHEMBL269732|\n",
      "|{[CHEMBL269732]}| EFO:0000211|[{NCT01529827, Cl...|              2.0|      CHEMBL269732|\n",
      "|{[CHEMBL269732]}| EFO:0004254|[{NCT00404794, Cl...|              3.0|      CHEMBL269732|\n",
      "|{[CHEMBL269732]}| EFO:0009441|[{NCT01529827, Cl...|              2.0|      CHEMBL269732|\n",
      "|{[CHEMBL269732]}| EFO:0007157|[{NCT03095547, Cl...|              1.0|      CHEMBL269732|\n",
      "|{[CHEMBL269732]}| EFO:1000690|[{NCT00881556,NCT...|              2.0|      CHEMBL269732|\n",
      "|{[CHEMBL269732]}| EFO:1001993|[{NCT02680717, Cl...|              1.0|      CHEMBL269732|\n",
      "|{[CHEMBL269732]}|Orphanet:848|[{NCT02435901, Cl...|              1.0|      CHEMBL269732|\n",
      "+----------------+------------+--------------------+-----------------+------------------+\n",
      "only showing top 20 rows\n",
      "\n",
      "[Row(_metadata=Row(all_molecule_chembl_ids=['CHEMBL269732'])), Row(_metadata=Row(all_molecule_chembl_ids=['CHEMBL269732'])), Row(_metadata=Row(all_molecule_chembl_ids=['CHEMBL269732'])), Row(_metadata=Row(all_molecule_chembl_ids=['CHEMBL269732'])), Row(_metadata=Row(all_molecule_chembl_ids=['CHEMBL269732'])), Row(_metadata=Row(all_molecule_chembl_ids=['CHEMBL269732'])), Row(_metadata=Row(all_molecule_chembl_ids=['CHEMBL269732'])), Row(_metadata=Row(all_molecule_chembl_ids=['CHEMBL269732'])), Row(_metadata=Row(all_molecule_chembl_ids=['CHEMBL269732'])), Row(_metadata=Row(all_molecule_chembl_ids=['CHEMBL269732'])), Row(_metadata=Row(all_molecule_chembl_ids=['CHEMBL269732'])), Row(_metadata=Row(all_molecule_chembl_ids=['CHEMBL269732'])), Row(_metadata=Row(all_molecule_chembl_ids=['CHEMBL269732'])), Row(_metadata=Row(all_molecule_chembl_ids=['CHEMBL269732'])), Row(_metadata=Row(all_molecule_chembl_ids=['CHEMBL269732'])), Row(_metadata=Row(all_molecule_chembl_ids=['CHEMBL269732'])), Row(_metadata=Row(all_molecule_chembl_ids=['CHEMBL269732'])), Row(_metadata=Row(all_molecule_chembl_ids=['CHEMBL269732'])), Row(_metadata=Row(all_molecule_chembl_ids=['CHEMBL269732'])), Row(_metadata=Row(all_molecule_chembl_ids=['CHEMBL269732'])), Row(_metadata=Row(all_molecule_chembl_ids=['CHEMBL269732'])), Row(_metadata=Row(all_molecule_chembl_ids=['CHEMBL269732'])), Row(_metadata=Row(all_molecule_chembl_ids=['CHEMBL269732'])), Row(_metadata=Row(all_molecule_chembl_ids=['CHEMBL269732'])), Row(_metadata=Row(all_molecule_chembl_ids=['CHEMBL269732'])), Row(_metadata=Row(all_molecule_chembl_ids=['CHEMBL269732'])), Row(_metadata=Row(all_molecule_chembl_ids=['CHEMBL269732'])), Row(_metadata=Row(all_molecule_chembl_ids=['CHEMBL269732'])), Row(_metadata=Row(all_molecule_chembl_ids=['CHEMBL269732'])), Row(_metadata=Row(all_molecule_chembl_ids=['CHEMBL269732'])), Row(_metadata=Row(all_molecule_chembl_ids=['CHEMBL269732'])), Row(_metadata=Row(all_molecule_chembl_ids=['CHEMBL269732'])), Row(_metadata=Row(all_molecule_chembl_ids=['CHEMBL269732'])), Row(_metadata=Row(all_molecule_chembl_ids=['CHEMBL269732'])), Row(_metadata=Row(all_molecule_chembl_ids=['CHEMBL269732'])), Row(_metadata=Row(all_molecule_chembl_ids=['CHEMBL269732'])), Row(_metadata=Row(all_molecule_chembl_ids=['CHEMBL269732'])), Row(_metadata=Row(all_molecule_chembl_ids=['CHEMBL269732'])), Row(_metadata=Row(all_molecule_chembl_ids=['CHEMBL269732'])), Row(_metadata=Row(all_molecule_chembl_ids=['CHEMBL269732'])), Row(_metadata=Row(all_molecule_chembl_ids=['CHEMBL269732'])), Row(_metadata=Row(all_molecule_chembl_ids=['CHEMBL269732'])), Row(_metadata=Row(all_molecule_chembl_ids=['CHEMBL269732'])), Row(_metadata=Row(all_molecule_chembl_ids=['CHEMBL269732'])), Row(_metadata=Row(all_molecule_chembl_ids=['CHEMBL269732'])), Row(_metadata=Row(all_molecule_chembl_ids=['CHEMBL269732'])), Row(_metadata=Row(all_molecule_chembl_ids=['CHEMBL269732'])), Row(_metadata=Row(all_molecule_chembl_ids=['CHEMBL269732'])), Row(_metadata=Row(all_molecule_chembl_ids=['CHEMBL269732'])), Row(_metadata=Row(all_molecule_chembl_ids=['CHEMBL269732'])), Row(_metadata=Row(all_molecule_chembl_ids=['CHEMBL269732'])), Row(_metadata=Row(all_molecule_chembl_ids=['CHEMBL269732'])), Row(_metadata=Row(all_molecule_chembl_ids=['CHEMBL269732'])), Row(_metadata=Row(all_molecule_chembl_ids=['CHEMBL269732'])), Row(_metadata=Row(all_molecule_chembl_ids=['CHEMBL269732'])), Row(_metadata=Row(all_molecule_chembl_ids=['CHEMBL269732'])), Row(_metadata=Row(all_molecule_chembl_ids=['CHEMBL269732'])), Row(_metadata=Row(all_molecule_chembl_ids=['CHEMBL269732'])), Row(_metadata=Row(all_molecule_chembl_ids=['CHEMBL269732'])), Row(_metadata=Row(all_molecule_chembl_ids=['CHEMBL269732'])), Row(_metadata=Row(all_molecule_chembl_ids=['CHEMBL269732'])), Row(_metadata=Row(all_molecule_chembl_ids=['CHEMBL269732'])), Row(_metadata=Row(all_molecule_chembl_ids=['CHEMBL269732'])), Row(_metadata=Row(all_molecule_chembl_ids=['CHEMBL269732'])), Row(_metadata=Row(all_molecule_chembl_ids=['CHEMBL269732'])), Row(_metadata=Row(all_molecule_chembl_ids=['CHEMBL269732'])), Row(_metadata=Row(all_molecule_chembl_ids=['CHEMBL269732'])), Row(_metadata=Row(all_molecule_chembl_ids=['CHEMBL269732'])), Row(_metadata=Row(all_molecule_chembl_ids=['CHEMBL269732'])), Row(_metadata=Row(all_molecule_chembl_ids=['CHEMBL269732'])), Row(_metadata=Row(all_molecule_chembl_ids=['CHEMBL269732'])), Row(_metadata=Row(all_molecule_chembl_ids=['CHEMBL269732'])), Row(_metadata=Row(all_molecule_chembl_ids=['CHEMBL269732'])), Row(_metadata=Row(all_molecule_chembl_ids=['CHEMBL269732'])), Row(_metadata=Row(all_molecule_chembl_ids=['CHEMBL269732'])), Row(_metadata=Row(all_molecule_chembl_ids=['CHEMBL269732'])), Row(_metadata=Row(all_molecule_chembl_ids=['CHEMBL269732'])), Row(_metadata=Row(all_molecule_chembl_ids=['CHEMBL269732'])), Row(_metadata=Row(all_molecule_chembl_ids=['CHEMBL269732'])), Row(_metadata=Row(all_molecule_chembl_ids=['CHEMBL269732'])), Row(_metadata=Row(all_molecule_chembl_ids=['CHEMBL269732'])), Row(_metadata=Row(all_molecule_chembl_ids=['CHEMBL269732'])), Row(_metadata=Row(all_molecule_chembl_ids=['CHEMBL269732'])), Row(_metadata=Row(all_molecule_chembl_ids=['CHEMBL269732'])), Row(_metadata=Row(all_molecule_chembl_ids=['CHEMBL269732'])), Row(_metadata=Row(all_molecule_chembl_ids=['CHEMBL269732'])), Row(_metadata=Row(all_molecule_chembl_ids=['CHEMBL269732'])), Row(_metadata=Row(all_molecule_chembl_ids=['CHEMBL269732'])), Row(_metadata=Row(all_molecule_chembl_ids=['CHEMBL269732'])), Row(_metadata=Row(all_molecule_chembl_ids=['CHEMBL269732'])), Row(_metadata=Row(all_molecule_chembl_ids=['CHEMBL269732'])), Row(_metadata=Row(all_molecule_chembl_ids=['CHEMBL269732'])), Row(_metadata=Row(all_molecule_chembl_ids=['CHEMBL269732'])), Row(_metadata=Row(all_molecule_chembl_ids=['CHEMBL269732'])), Row(_metadata=Row(all_molecule_chembl_ids=['CHEMBL269732'])), Row(_metadata=Row(all_molecule_chembl_ids=['CHEMBL269732'])), Row(_metadata=Row(all_molecule_chembl_ids=['CHEMBL269732'])), Row(_metadata=Row(all_molecule_chembl_ids=['CHEMBL269732'])), Row(_metadata=Row(all_molecule_chembl_ids=['CHEMBL269732'])), Row(_metadata=Row(all_molecule_chembl_ids=['CHEMBL269732'])), Row(_metadata=Row(all_molecule_chembl_ids=['CHEMBL269732'])), Row(_metadata=Row(all_molecule_chembl_ids=['CHEMBL269732'])), Row(_metadata=Row(all_molecule_chembl_ids=['CHEMBL269732'])), Row(_metadata=Row(all_molecule_chembl_ids=['CHEMBL269732'])), Row(_metadata=Row(all_molecule_chembl_ids=['CHEMBL269732'])), Row(_metadata=Row(all_molecule_chembl_ids=['CHEMBL269732'])), Row(_metadata=Row(all_molecule_chembl_ids=['CHEMBL269732'])), Row(_metadata=Row(all_molecule_chembl_ids=['CHEMBL269732'])), Row(_metadata=Row(all_molecule_chembl_ids=['CHEMBL269732'])), Row(_metadata=Row(all_molecule_chembl_ids=['CHEMBL269732'])), Row(_metadata=Row(all_molecule_chembl_ids=['CHEMBL269732'])), Row(_metadata=Row(all_molecule_chembl_ids=['CHEMBL269732'])), Row(_metadata=Row(all_molecule_chembl_ids=['CHEMBL269732'])), Row(_metadata=Row(all_molecule_chembl_ids=['CHEMBL269732'])), Row(_metadata=Row(all_molecule_chembl_ids=['CHEMBL269732'])), Row(_metadata=Row(all_molecule_chembl_ids=['CHEMBL269732'])), Row(_metadata=Row(all_molecule_chembl_ids=['CHEMBL269732'])), Row(_metadata=Row(all_molecule_chembl_ids=['CHEMBL269732'])), Row(_metadata=Row(all_molecule_chembl_ids=['CHEMBL269732'])), Row(_metadata=Row(all_molecule_chembl_ids=['CHEMBL269732'])), Row(_metadata=Row(all_molecule_chembl_ids=['CHEMBL269732'])), Row(_metadata=Row(all_molecule_chembl_ids=['CHEMBL269732'])), Row(_metadata=Row(all_molecule_chembl_ids=['CHEMBL269732'])), Row(_metadata=Row(all_molecule_chembl_ids=['CHEMBL269732'])), Row(_metadata=Row(all_molecule_chembl_ids=['CHEMBL269732'])), Row(_metadata=Row(all_molecule_chembl_ids=['CHEMBL269732'])), Row(_metadata=Row(all_molecule_chembl_ids=['CHEMBL269732'])), Row(_metadata=Row(all_molecule_chembl_ids=['CHEMBL269732']))]\n"
     ]
    }
   ],
   "source": [
    "# drug_indication_filtered = drug_indication.filter(drug_indication[\"molecule_chembl_id\"] == \"CHEMBL269732\")\n",
    "# drug_indication_filtered.show()\n",
    "# selected_column = drug_indication_filtered.select(\"_metadata\").collect()\n",
    "# print(selected_column)"
   ]
  },
  {
   "cell_type": "code",
   "execution_count": 10,
   "metadata": {},
   "outputs": [],
   "source": [
    "# # Clinical Drug-Indication pairs from Open Targets\n",
    "# indication = \"gs://open-targets-data-releases/23.12/output/etl/json/indication\"\n",
    "# indication = spark.read.json(indication)\n",
    "# indication.show()\n",
    "# indication.persist()"
   ]
  },
  {
   "cell_type": "code",
   "execution_count": 11,
   "metadata": {},
   "outputs": [],
   "source": [
    "# # Define the UDF to extract and concatenate disease values\n",
    "# def extract_diseases(indications):\n",
    "#     return ', '.join([indication['disease'] for indication in indications])\n",
    "\n",
    "# # Register UDF with Spark\n",
    "# extract_diseases_udf = udf(extract_diseases, StringType())\n",
    "\n",
    "# # Apply UDF to create a new column with concatenated disease values\n",
    "# indication_extract = indication.withColumn(\"indications_list\", extract_diseases_udf(indication[\"indications\"]))\n",
    "# indication_extract.show()"
   ]
  },
  {
   "cell_type": "code",
   "execution_count": 12,
   "metadata": {},
   "outputs": [],
   "source": [
    "# indication_filtered = indication_extract.filter(indication_extract[\"id\"] == \"CHEMBL596\")\n",
    "# indication_filtered.show()\n",
    "# selected_column = indication_filtered.select(\"indications_list\").collect()\n",
    "# print(selected_column)"
   ]
  },
  {
   "cell_type": "code",
   "execution_count": 169,
   "metadata": {},
   "outputs": [
    {
     "name": "stdout",
     "output_type": "stream",
     "text": [
      "+--------------------+------------------+--------------------+--------------------+------------------+-------------------------+---------+----------------+\n",
      "|           _metadata|       action_type| mechanism_of_action|      mechanism_refs|molecule_chembl_id|parent_molecule_chembl_id|record_id|target_chembl_id|\n",
      "+--------------------+------------------+--------------------+--------------------+------------------+-------------------------+---------+----------------+\n",
      "|{[CHEMBL2103825],...|         INHIBITOR|Pancreatic lipase...|[{16953261, PubMe...|     CHEMBL2103825|            CHEMBL2103825|  1699800|      CHEMBL1812|\n",
      "|{[CHEMBL1200495, ...|           AGONIST|Glucocorticoid re...|[{setid=6d9bf1b0-...|     CHEMBL1200495|                CHEMBL977|  1344612|      CHEMBL2034|\n",
      "|{[CHEMBL3544919],...|SEQUESTERING AGENT|Heparin sequester...|[{26937198, PubMe...|     CHEMBL3544919|            CHEMBL3544919|  2473107|   CHEMBL2364712|\n",
      "|{[CHEMBL3989993],...|         INHIBITOR|microRNA-155 inhi...|[{NCT03713320, Cl...|     CHEMBL3989993|            CHEMBL3989993|  2973351|   CHEMBL4630577|\n",
      "|{[CHEMBL1460], CH...|         INHIBITOR|Human immunodefic...|[{setid=22e2ca82-...|        CHEMBL1460|               CHEMBL1460|  1343993|       CHEMBL247|\n",
      "|{[CHEMBL444172], ...|         INHIBITOR|P-glycoprotein 1 ...|[{18271955, PubMe...|      CHEMBL444172|             CHEMBL444172|  3129871|      CHEMBL4302|\n",
      "|{[CHEMBL1873475],...|         INHIBITOR|Tyrosine-protein ...|[{label/2013/2055...|     CHEMBL1873475|            CHEMBL1873475|  1702685|      CHEMBL5251|\n",
      "|{[CHEMBL4650215],...|         INHIBITOR|PI3-kinase p110-a...|[{https://cancerr...|     CHEMBL4650215|            CHEMBL4650215|  3133380|      CHEMBL4005|\n",
      "|{[CHEMBL87992], C...|           BLOCKER|Sodium channel al...|[{label/2013/0224...|       CHEMBL87992|              CHEMBL87992|  1702492|   CHEMBL2331043|\n",
      "|{[CHEMBL2105689],...|         INHIBITOR|Cytochrome P450 5...|[{label/2013/2041...|     CHEMBL2105689|            CHEMBL2105689|  1702581|      CHEMBL1780|\n",
      "|{[CHEMBL523299, C...|        ANTAGONIST|Muscarinic acetyl...|[{label/2013/2039...|      CHEMBL523299|            CHEMBL1187833|  1702662|       CHEMBL245|\n",
      "|{[CHEMBL1200865],...|           AGONIST|Glucocorticoid re...|[{12861354, PubMe...|     CHEMBL1200865|            CHEMBL1200865|  1343629|      CHEMBL2034|\n",
      "|{[CHEMBL129], CHE...|         INHIBITOR|Human immunodefic...|[{setid=6df09f15-...|         CHEMBL129|                CHEMBL129|  1343080|       CHEMBL247|\n",
      "|{[CHEMBL3989861, ...|         INHIBITOR|Serotonin transpo...|[{label/2013/2052...|     CHEMBL3989861|               CHEMBL1118|  1938076|       CHEMBL228|\n",
      "|{[CHEMBL2146140, ...|         INHIBITOR|Potassium-transpo...|[{setid=61a5a84e-...|     CHEMBL2146140|            CHEMBL1201320|  1702655|   CHEMBL2095173|\n",
      "|{[CHEMBL131], CHE...|           AGONIST|Glucocorticoid re...|[{19482847, PubMe...|         CHEMBL131|                CHEMBL131|  1344057|      CHEMBL2034|\n",
      "|{[CHEMBL1275802],...|  DISRUPTING AGENT|Cell membrane dis...|[{19010301, PubMe...|     CHEMBL1275802|            CHEMBL1275802|  1703075|   CHEMBL2364031|\n",
      "|{[CHEMBL139], CHE...|         INHIBITOR|Cyclooxygenase in...|[{label/2013/2045...|         CHEMBL139|                CHEMBL139|  1937947|   CHEMBL2094253|\n",
      "|{[CHEMBL2108556],...|  DISRUPTING AGENT|Cell membrane dis...|[{19010301, PubMe...|     CHEMBL2108556|            CHEMBL2108556|  1696419|   CHEMBL2364031|\n",
      "|{[CHEMBL1512], CH...|           AGONIST|Glucocorticoid re...|[{setid=7c72c954-...|        CHEMBL1512|               CHEMBL1512|  1343379|      CHEMBL2034|\n",
      "+--------------------+------------------+--------------------+--------------------+------------------+-------------------------+---------+----------------+\n",
      "only showing top 20 rows\n",
      "\n"
     ]
    },
    {
     "name": "stderr",
     "output_type": "stream",
     "text": [
      "24/02/12 18:18:42 WARN CacheManager: Asked to cache already cached data.\n"
     ]
    }
   ],
   "source": [
    "# Drugs MoA from ChEMBL\n",
    "drug_moa = \"gs://open-targets-pre-data-releases/chembl-columns/chembl-inputs/chembl_33_mechanism.jsonl\"\n",
    "drug_moa = spark.read.json(drug_moa)\n",
    "drug_moa.persist()\n",
    "drug_moa.show()"
   ]
  },
  {
   "cell_type": "code",
   "execution_count": 170,
   "metadata": {},
   "outputs": [
    {
     "name": "stdout",
     "output_type": "stream",
     "text": [
      "+----------------+----------------------+\n",
      "|target_chembl_id|all_molecule_chembl_id|\n",
      "+----------------+----------------------+\n",
      "|       CHEMBL222|            CHEMBL1118|\n",
      "|       CHEMBL222|            CHEMBL1696|\n",
      "|      CHEMBL2971|         CHEMBL1287853|\n",
      "|   CHEMBL2331043|            CHEMBL1762|\n",
      "|       CHEMBL217|         CHEMBL1201328|\n",
      "|       CHEMBL253|         CHEMBL3139186|\n",
      "|      CHEMBL1824|          CHEMBL180022|\n",
      "|       CHEMBL247|         CHEMBL1628504|\n",
      "|       CHEMBL251|          CHEMBL431770|\n",
      "|   CHEMBL1681630|          CHEMBL124363|\n",
      "|      CHEMBL1862|         CHEMBL3545085|\n",
      "|   CHEMBL2346493|         CHEMBL2364652|\n",
      "|   CHEMBL2095181|         CHEMBL1201132|\n",
      "|      CHEMBL2203|         CHEMBL2110756|\n",
      "|   CHEMBL2062356|         CHEMBL4650434|\n",
      "|   CHEMBL2364679|             CHEMBL990|\n",
      "|       CHEMBL231|         CHEMBL1200618|\n",
      "|       CHEMBL213|         CHEMBL1200947|\n",
      "|   CHEMBL2095203|         CHEMBL1200413|\n",
      "|   CHEMBL2095158|             CHEMBL420|\n",
      "+----------------+----------------------+\n",
      "only showing top 20 rows\n",
      "\n"
     ]
    },
    {
     "data": {
      "text/plain": [
       "8165"
      ]
     },
     "execution_count": 170,
     "metadata": {},
     "output_type": "execute_result"
    }
   ],
   "source": [
    "# Make 1 columns from molecule_chembl_id and parent_molecule_chembl_id\n",
    "\n",
    "drug_moa_long = drug_moa.select(\n",
    "    col(\"target_chembl_id\"),\n",
    "    explode(\n",
    "        array(\n",
    "            struct(lit(\"molecule_chembl_id\").alias(\"variable\"), col(\"molecule_chembl_id\").alias(\"all_molecule_chembl_id\")),\n",
    "            struct(lit(\"parent_molecule_chembl_id\").alias(\"variable\"), col(\"parent_molecule_chembl_id\").alias(\"all_molecule_chembl_id\"))\n",
    "        )\n",
    "    ).alias(\"data\")\n",
    ").select(\"target_chembl_id\", \"data.all_molecule_chembl_id\")\\\n",
    ".dropDuplicates()\n",
    "\n",
    "drug_moa_long.show()\n",
    "drug_moa_long.count()\n",
    "# assert drug_moa_long.count() == 8165\n"
   ]
  },
  {
   "cell_type": "code",
   "execution_count": 158,
   "metadata": {},
   "outputs": [
    {
     "name": "stderr",
     "output_type": "stream",
     "text": [
      "24/02/12 18:15:33 WARN CacheManager: Asked to cache already cached data.\n"
     ]
    },
    {
     "name": "stdout",
     "output_type": "stream",
     "text": [
      "+--------------------+-------------+--------------------+-----------------+------------------+----------------+\n",
      "|           _metadata|       efo_id|     indication_refs|max_phase_for_ind|molecule_chembl_id|target_chembl_id|\n",
      "+--------------------+-------------+--------------------+-----------------+------------------+----------------+\n",
      "|{[CHEMBL1200632, ...|  EFO:0003894|[{D10AF51, ATC, h...|              4.0|     CHEMBL1200632|   CHEMBL2363135|\n",
      "|{[CHEMBL1200632, ...|  EFO:0000544|[{1ef87b6c-9d32-4...|              4.0|     CHEMBL1200632|   CHEMBL2363135|\n",
      "|{[CHEMBL1200632, ...|  EFO:0003102|[{NCT02099240, Cl...|              0.5|     CHEMBL1200632|   CHEMBL2363135|\n",
      "|      {[CHEMBL1231]}|  EFO:0006865|[{0c021aad-97a3-4...|              4.0|        CHEMBL1231|       CHEMBL211|\n",
      "|      {[CHEMBL1231]}|  EFO:0006865|[{0c021aad-97a3-4...|              4.0|        CHEMBL1231|       CHEMBL245|\n",
      "|      {[CHEMBL1231]}|MONDO:0024290|[{NCT02538302, Cl...|              3.0|        CHEMBL1231|       CHEMBL211|\n",
      "|      {[CHEMBL1231]}|MONDO:0024290|[{NCT02538302, Cl...|              3.0|        CHEMBL1231|       CHEMBL245|\n",
      "|      {[CHEMBL1231]}|  EFO:0003956|[{NCT00816972, Cl...|              2.0|        CHEMBL1231|       CHEMBL211|\n",
      "|      {[CHEMBL1231]}|  EFO:0003956|[{NCT00816972, Cl...|              2.0|        CHEMBL1231|       CHEMBL245|\n",
      "|      {[CHEMBL1231]}|   HP:0000011|[{NCT01557244,NCT...|              3.0|        CHEMBL1231|       CHEMBL211|\n",
      "|      {[CHEMBL1231]}|   HP:0000011|[{NCT01557244,NCT...|              3.0|        CHEMBL1231|       CHEMBL245|\n",
      "|      {[CHEMBL1231]}|  EFO:0003918|[{NCT02908529,NCT...|              2.0|        CHEMBL1231|       CHEMBL211|\n",
      "|      {[CHEMBL1231]}|  EFO:0003918|[{NCT02908529,NCT...|              2.0|        CHEMBL1231|       CHEMBL245|\n",
      "|      {[CHEMBL1231]}|   HP:0000020|[{G04BD04, ATC, h...|              4.0|        CHEMBL1231|       CHEMBL211|\n",
      "|      {[CHEMBL1231]}|   HP:0000020|[{G04BD04, ATC, h...|              4.0|        CHEMBL1231|       CHEMBL245|\n",
      "|      {[CHEMBL1231]}|   HP:0000975|[{NCT01328015,NCT...|              3.0|        CHEMBL1231|       CHEMBL211|\n",
      "|      {[CHEMBL1231]}|   HP:0000975|[{NCT01328015,NCT...|              3.0|        CHEMBL1231|       CHEMBL245|\n",
      "|      {[CHEMBL1231]}|  EFO:0000512|[{NCT04526353, Cl...|              2.0|        CHEMBL1231|       CHEMBL211|\n",
      "|      {[CHEMBL1231]}|  EFO:0000512|[{NCT04526353, Cl...|              2.0|        CHEMBL1231|       CHEMBL245|\n",
      "|      {[CHEMBL1231]}|   HP:0000103|[{G04BD04, ATC, h...|              4.0|        CHEMBL1231|       CHEMBL211|\n",
      "+--------------------+-------------+--------------------+-----------------+------------------+----------------+\n",
      "only showing top 20 rows\n",
      "\n"
     ]
    },
    {
     "data": {
      "text/plain": [
       "56345"
      ]
     },
     "execution_count": 158,
     "metadata": {},
     "output_type": "execute_result"
    }
   ],
   "source": [
    "# Merge Clinical Drug-Indication pairs with Drugs MoA (by molecule_chembl_id)\n",
    "\n",
    "# List of columns from drug_moa table\n",
    "list_drug_moa_long = [\"target_chembl_id\"]\n",
    "                 \n",
    "# Join tables by molecule_chembl_id\n",
    "drug_indication_moa = join_dataframes(drug_indication, drug_moa_long, \"molecule_chembl_id\", \"all_molecule_chembl_id\", list_drug_moa_long).persist()\n",
    "drug_indication_moa_notnull = drug_indication_moa.filter(drug_indication_moa.target_chembl_id.isNotNull())\n",
    "# drug_indication_moa_notnull = drug_indication_moa_notnull.withColumn(\"indication\", explode(split(drug_indication_moa_notnull[\"indications_list\"], \",\\s*\")))\n",
    "\n",
    "drug_indication_moa_notnull.show()\n",
    "drug_indication_moa_notnull.count()"
   ]
  },
  {
   "cell_type": "code",
   "execution_count": 159,
   "metadata": {},
   "outputs": [
    {
     "name": "stdout",
     "output_type": "stream",
     "text": [
      "+--------------------+-----------+--------------------+-----------------+------------------+----------------+\n",
      "|           _metadata|     efo_id|     indication_refs|max_phase_for_ind|molecule_chembl_id|target_chembl_id|\n",
      "+--------------------+-----------+--------------------+-----------------+------------------+----------------+\n",
      "|{[CHEMBL3989887, ...|EFO:0000540|[{L04AD02, ATC, h...|              4.0|     CHEMBL3989887|      CHEMBL1902|\n",
      "|{[CHEMBL3989887, ...| HP:0000964|[{D11AH01, ATC, h...|              4.0|     CHEMBL3989887|      CHEMBL1902|\n",
      "+--------------------+-----------+--------------------+-----------------+------------------+----------------+\n",
      "\n"
     ]
    }
   ],
   "source": [
    "drug_moa_filtered = drug_indication_moa_notnull.filter(drug_indication_moa_notnull[\"molecule_chembl_id\"] == \"CHEMBL3989887\")\n",
    "drug_moa_filtered.show()\n",
    "# selected_column = drug_indication_filtered.select(\"efo_id\").collect()\n",
    "# print(selected_column)"
   ]
  },
  {
   "cell_type": "code",
   "execution_count": 22,
   "metadata": {},
   "outputs": [
    {
     "name": "stderr",
     "output_type": "stream",
     "text": [
      "[Stage 32:>                                                         (0 + 1) / 1]\r"
     ]
    },
    {
     "name": "stdout",
     "output_type": "stream",
     "text": [
      "+----------+--------------------+--------------------+--------------------+--------------------+--------------------+--------------------+\n",
      "|actionType|   mechanismOfAction|           chemblIds|          targetName|          targetType|             targets|          references|\n",
      "+----------+--------------------+--------------------+--------------------+--------------------+--------------------+--------------------+\n",
      "|   AGONIST|Peroxisome prolif...|         [CHEMBL981]|Peroxisome prolif...|      single protein|   [ENSG00000186951]|[{DailyMed, [seti...|\n",
      "| INHIBITOR|Inhibin beta A ch...|     [CHEMBL1743073]|Inhibin beta A chain|      single protein|   [ENSG00000122641]|[{PubMed, [190493...|\n",
      "| INHIBITOR|Tyrosine-protein ...|     [CHEMBL3545133]|Tyrosine-protein ...|      single protein|   [ENSG00000010810]|[{PubMed, [208238...|\n",
      "| INHIBITOR|Sodium/potassium-...|        [CHEMBL1751]|Sodium/potassium-...|protein complex g...|[ENSG00000163399,...|[{Wikipedia, [Dig...|\n",
      "| INHIBITOR|Cyclooxygenase in...|         [CHEMBL563]|      Cyclooxygenase|      protein family|[ENSG00000073756,...|[{PubMed, [107730...|\n",
      "|   AGONIST|Interferon lambda...|     [CHEMBL2108723]|Interferon lambda...|     protein complex|[ENSG00000243646,...|[{PubMed, [263576...|\n",
      "|   AGONIST|Glucocorticoid re...|     [CHEMBL1200953]|Glucocorticoid re...|      single protein|   [ENSG00000113580]|[{PubMed, [168959...|\n",
      "| INHIBITOR|Dopamine transpor...|[CHEMBL1698, CHEM...|Dopamine transporter|      single protein|   [ENSG00000142319]|[{PubMed, [194973...|\n",
      "| INHIBITOR|Phosphodiesterase...|     [CHEMBL3113974]| Phosphodiesterase 4|      protein family|[ENSG00000065989,...|[{PubMed, [273734...|\n",
      "| INHIBITOR|GAR transformylas...|[CHEMBL3989962, C...|  GAR transformylase|      single protein|   [ENSG00000159131]|[{DailyMed, [seti...|\n",
      "| INHIBITOR|Interleukin-20 in...|     [CHEMBL3301580]|      Interleukin-20|      single protein|   [ENSG00000162891]|[{PubMed, [284266...|\n",
      "| INHIBITOR|Rho-associated pr...|     [CHEMBL3545065]|Rho-associated pr...|      protein family|[ENSG00000134318,...|[{PubMed, [217948...|\n",
      "| INHIBITOR|Tumor necrosis fa...|     [CHEMBL1742988]|Tumor necrosis fa...|      single protein|   [ENSG00000125735]|[{PubMed, [254053...|\n",
      "|ANTAGONIST|Histamine H1 rece...|[CHEMBL1201759, C...|Histamine H1 rece...|      single protein|   [ENSG00000196639]|[{FDA, [label/201...|\n",
      "|ANTAGONIST|Mu opioid recepto...|[CHEMBL3039508, C...|  Mu opioid receptor|      single protein|   [ENSG00000112038]|[{FDA, [label/201...|\n",
      "| INHIBITOR|FK506-binding pro...|         [CHEMBL413]|FK506-binding pro...|      single protein|   [ENSG00000088832]|[{DailyMed, [seti...|\n",
      "| INHIBITOR|Monoamine oxidase...|[CHEMBL1201142, C...| Monoamine oxidase B|      single protein|   [ENSG00000069535]|[{FDA, [label/200...|\n",
      "| INHIBITOR|PI3-kinase p110-a...|     [CHEMBL3622533]|PI3-kinase p110-a...|      single protein|   [ENSG00000121879]|[{Other, [http://...|\n",
      "| INHIBITOR|Vascular endothel...|     [CHEMBL4297684]|Vascular endothel...|      single protein|   [ENSG00000112715]|[{EMA, [https://w...|\n",
      "|ANTAGONIST|P2X purinoceptor ...|     [CHEMBL1823817]|  P2X purinoceptor 7|      single protein|   [ENSG00000089041]|[{Other, [http://...|\n",
      "+----------+--------------------+--------------------+--------------------+--------------------+--------------------+--------------------+\n",
      "only showing top 20 rows\n",
      "\n"
     ]
    },
    {
     "name": "stderr",
     "output_type": "stream",
     "text": [
      "                                                                                \r"
     ]
    }
   ],
   "source": [
    "# # Drugs MoA from Open Targets\n",
    "# mechanismOfAction = \"gs://open-targets-data-releases/23.12/output/etl/parquet/mechanismOfAction\"\n",
    "# mechanismOfAction = spark.read.parquet(mechanismOfAction)\n",
    "# mechanismOfAction.persist()\n",
    "# mechanismOfAction.show()"
   ]
  },
  {
   "cell_type": "code",
   "execution_count": 14,
   "metadata": {},
   "outputs": [
    {
     "name": "stdout",
     "output_type": "stream",
     "text": [
      "+--------------------+-------------+--------------------+-----------------+------------------+-------------------------+-------------------------+\n",
      "|           _metadata|       efo_id|     indication_refs|max_phase_for_ind|molecule_chembl_id|parent_molecule_chembl_id|molecule_target_chembl_id|\n",
      "+--------------------+-------------+--------------------+-----------------+------------------+-------------------------+-------------------------+\n",
      "|       {[CHEMBL734]}|  EFO:0003103|[{6660b616-a82d-9...|              4.0|         CHEMBL734|                CHEMBL734|            CHEMBL2364683|\n",
      "|{[CHEMBL1200796, ...|  EFO:0004255|[{NCT02257697, Cl...|              4.0|     CHEMBL1200796|                 CHEMBL88|            CHEMBL2311221|\n",
      "|{[CHEMBL1683544, ...|  EFO:0000305|[{NCT01908101,NCT...|              4.0|     CHEMBL1683544|            CHEMBL1683590|            CHEMBL2095182|\n",
      "|   {[CHEMBL1230065]}|  EFO:0004264|[{NCT00570752, Cl...|              2.0|     CHEMBL1230065|            CHEMBL1230065|                CHEMBL260|\n",
      "|{[CHEMBL1683544, ...|  EFO:0000616|[{NCT00047034,NCT...|              1.0|     CHEMBL1683544|            CHEMBL1683590|            CHEMBL2095182|\n",
      "|   {[CHEMBL2108597]}|  EFO:0004270|[{NCT00685815,NCT...|              3.0|     CHEMBL2108597|            CHEMBL2108597|                     null|\n",
      "|{[CHEMBL1079742, ...|  EFO:0000305|[{NCT00054132, Cl...|              2.0|     CHEMBL1079742|                CHEMBL553|                CHEMBL203|\n",
      "|   {[CHEMBL2108597]}|  EFO:0004272|[{NCT00317226,NCT...|              4.0|     CHEMBL2108597|            CHEMBL2108597|                     null|\n",
      "|{[CHEMBL1079742, ...|  EFO:0000313|[{NCT01149122, Cl...|              3.0|     CHEMBL1079742|                CHEMBL553|                CHEMBL203|\n",
      "|   {[CHEMBL1200830]}|  EFO:0004272|[{B03AA07, ATC, h...|              4.0|     CHEMBL1200830|            CHEMBL1200830|                     null|\n",
      "|       {[CHEMBL848]}|  EFO:0004272|[{NCT00843882,NCT...|              4.0|         CHEMBL848|                CHEMBL848|            CHEMBL3833061|\n",
      "|    {[CHEMBL550348]}|  EFO:0004272|[{NCT02125877,NCT...|              2.0|      CHEMBL550348|             CHEMBL550348|            CHEMBL2363058|\n",
      "|      {[CHEMBL1617]}|  EFO:0003047|[{NCT01603108, Cl...|              2.0|        CHEMBL1617|               CHEMBL1617|            CHEMBL2364672|\n",
      "|    {[CHEMBL373204]}|  EFO:0001067|[{P03BA02, ATC, h...|             -1.0|      CHEMBL373204|                     null|                     null|\n",
      "|         {[CHEMBL2]}|  EFO:0004253|[{NCT00713739, Cl...|              3.0|           CHEMBL2|                     null|                     null|\n",
      "|   {[CHEMBL2108494]}|  EFO:0003047|[{NCT00097045,NCT...|              3.0|     CHEMBL2108494|                     null|                     null|\n",
      "|       {[CHEMBL182]}|MONDO:0008170|[{NCT00005025,NCT...|              2.0|         CHEMBL182|                CHEMBL182|               CHEMBL1872|\n",
      "|   {[CHEMBL3301610]}|MONDO:0001187|[{NCT03837821, Cl...|              0.5|     CHEMBL3301610|            CHEMBL3301610|               CHEMBL2508|\n",
      "|   {[CHEMBL3301610]}|MONDO:0001187|[{NCT03837821, Cl...|              0.5|     CHEMBL3301610|            CHEMBL3301610|                CHEMBL331|\n",
      "|       {[CHEMBL196]}|  EFO:0003060|[{NCT02420314,NCT...|              2.0|         CHEMBL196|                CHEMBL196|                     null|\n",
      "+--------------------+-------------+--------------------+-----------------+------------------+-------------------------+-------------------------+\n",
      "only showing top 20 rows\n",
      "\n"
     ]
    },
    {
     "data": {
      "text/plain": [
       "64140"
      ]
     },
     "execution_count": 14,
     "metadata": {},
     "output_type": "execute_result"
    }
   ],
   "source": [
    "# # First of all, lets map molecule_chembl_id to parent_molecule_chembl_id and find any target_chembl_id for molecule_chembl_id\n",
    "\n",
    "# # List of columns from drug_moa table\n",
    "# list_drug_moa = [\"parent_molecule_chembl_id\", \"target_chembl_id\"]\n",
    "                 \n",
    "# # Join tables by molecule_chembl_id\n",
    "# drug_indication_parent = join_dataframes(drug_indication, drug_moa, \"molecule_chembl_id\", \"molecule_chembl_id\", list_drug_moa)\\\n",
    "#                         .withColumnRenamed(\"target_chembl_id\", \"molecule_target_chembl_id\")\n",
    "\n",
    "# drug_indication_parent.show()\n",
    "# drug_indication_parent.count()\n"
   ]
  },
  {
   "cell_type": "code",
   "execution_count": 15,
   "metadata": {},
   "outputs": [
    {
     "name": "stdout",
     "output_type": "stream",
     "text": [
      "+--------------------+-------------+--------------------+-----------------+------------------+-------------------------+-------------------------+--------------------------------+\n",
      "|           _metadata|       efo_id|     indication_refs|max_phase_for_ind|molecule_chembl_id|parent_molecule_chembl_id|molecule_target_chembl_id|parent_molecule_target_chembl_id|\n",
      "+--------------------+-------------+--------------------+-----------------+------------------+-------------------------+-------------------------+--------------------------------+\n",
      "|       {[CHEMBL734]}|  EFO:0003103|[{6660b616-a82d-9...|              4.0|         CHEMBL734|                CHEMBL734|            CHEMBL2364683|                   CHEMBL2364683|\n",
      "|{[CHEMBL1200796, ...|  EFO:0004255|[{NCT02257697, Cl...|              4.0|     CHEMBL1200796|                 CHEMBL88|            CHEMBL2311221|                   CHEMBL2311221|\n",
      "|{[CHEMBL1683544, ...|  EFO:0000305|[{NCT01908101,NCT...|              4.0|     CHEMBL1683544|            CHEMBL1683590|            CHEMBL2095182|                   CHEMBL2095182|\n",
      "|   {[CHEMBL1230065]}|  EFO:0004264|[{NCT00570752, Cl...|              2.0|     CHEMBL1230065|            CHEMBL1230065|                CHEMBL260|                       CHEMBL260|\n",
      "|{[CHEMBL1683544, ...|  EFO:0000616|[{NCT00047034,NCT...|              1.0|     CHEMBL1683544|            CHEMBL1683590|            CHEMBL2095182|                   CHEMBL2095182|\n",
      "|   {[CHEMBL2108597]}|  EFO:0004270|[{NCT00685815,NCT...|              3.0|     CHEMBL2108597|            CHEMBL2108597|                     null|                            null|\n",
      "|{[CHEMBL1079742, ...|  EFO:0000305|[{NCT00054132, Cl...|              2.0|     CHEMBL1079742|                CHEMBL553|                CHEMBL203|                       CHEMBL203|\n",
      "|   {[CHEMBL2108597]}|  EFO:0004272|[{NCT00317226,NCT...|              4.0|     CHEMBL2108597|            CHEMBL2108597|                     null|                            null|\n",
      "|{[CHEMBL1079742, ...|  EFO:0000313|[{NCT01149122, Cl...|              3.0|     CHEMBL1079742|                CHEMBL553|                CHEMBL203|                       CHEMBL203|\n",
      "|   {[CHEMBL1200830]}|  EFO:0004272|[{B03AA07, ATC, h...|              4.0|     CHEMBL1200830|            CHEMBL1200830|                     null|                            null|\n",
      "|       {[CHEMBL848]}|  EFO:0004272|[{NCT00843882,NCT...|              4.0|         CHEMBL848|                CHEMBL848|            CHEMBL3833061|                   CHEMBL3833061|\n",
      "|    {[CHEMBL550348]}|  EFO:0004272|[{NCT02125877,NCT...|              2.0|      CHEMBL550348|             CHEMBL550348|            CHEMBL2363058|                   CHEMBL2363058|\n",
      "|      {[CHEMBL1617]}|  EFO:0003047|[{NCT01603108, Cl...|              2.0|        CHEMBL1617|               CHEMBL1617|            CHEMBL2364672|                   CHEMBL2364672|\n",
      "|    {[CHEMBL373204]}|  EFO:0001067|[{P03BA02, ATC, h...|             -1.0|      CHEMBL373204|                     null|                     null|                            null|\n",
      "|         {[CHEMBL2]}|  EFO:0004253|[{NCT00713739, Cl...|              3.0|           CHEMBL2|                     null|                     null|                            null|\n",
      "|   {[CHEMBL2108494]}|  EFO:0003047|[{NCT00097045,NCT...|              3.0|     CHEMBL2108494|                     null|                     null|                            null|\n",
      "|       {[CHEMBL182]}|MONDO:0008170|[{NCT00005025,NCT...|              2.0|         CHEMBL182|                CHEMBL182|               CHEMBL1872|                      CHEMBL1872|\n",
      "|       {[CHEMBL182]}|MONDO:0008170|[{NCT00005025,NCT...|              2.0|         CHEMBL182|                CHEMBL182|               CHEMBL1872|                      CHEMBL1872|\n",
      "|   {[CHEMBL3301610]}|MONDO:0001187|[{NCT03837821, Cl...|              0.5|     CHEMBL3301610|            CHEMBL3301610|               CHEMBL2508|                      CHEMBL2508|\n",
      "|   {[CHEMBL3301610]}|MONDO:0001187|[{NCT03837821, Cl...|              0.5|     CHEMBL3301610|            CHEMBL3301610|               CHEMBL2508|                       CHEMBL331|\n",
      "+--------------------+-------------+--------------------+-----------------+------------------+-------------------------+-------------------------+--------------------------------+\n",
      "only showing top 20 rows\n",
      "\n"
     ]
    },
    {
     "data": {
      "text/plain": [
       "131206"
      ]
     },
     "execution_count": 15,
     "metadata": {},
     "output_type": "execute_result"
    }
   ],
   "source": [
    "# # Second, lets map parent_molecule_chembl_id to target_chembl_id\n",
    "\n",
    "# # List of columns from drug_moa table\n",
    "# list_drug_moa = [\"target_chembl_id\"]\n",
    "                 \n",
    "# # Join tables by molecule_chembl_id\n",
    "# drug_indication_parent_moa = join_dataframes(drug_indication_parent, drug_moa, \"parent_molecule_chembl_id\", \"parent_molecule_chembl_id\", list_drug_moa)\\\n",
    "#                         .withColumnRenamed(\"target_chembl_id\", \"parent_molecule_target_chembl_id\")\n",
    "\n",
    "# drug_indication_parent_moa.show()\n",
    "# drug_indication_parent_moa.count()"
   ]
  },
  {
   "cell_type": "code",
   "execution_count": 56,
   "metadata": {},
   "outputs": [
    {
     "name": "stdout",
     "output_type": "stream",
     "text": [
      "+----------------+------------+--------------------+-----------------+------------------+-------------------------+-------------------------+--------------------------------+\n",
      "|       _metadata|      efo_id|     indication_refs|max_phase_for_ind|molecule_chembl_id|parent_molecule_chembl_id|molecule_target_chembl_id|parent_molecule_target_chembl_id|\n",
      "+----------------+------------+--------------------+-----------------+------------------+-------------------------+-------------------------+--------------------------------+\n",
      "|{[CHEMBL269732]}| EFO:1001413|[{NCT04498741, Cl...|              1.0|      CHEMBL269732|                     null|                     null|                            null|\n",
      "|{[CHEMBL269732]}| EFO:0002429|[{NCT01529827, Cl...|              2.0|      CHEMBL269732|                     null|                     null|                            null|\n",
      "|{[CHEMBL269732]}| EFO:0004228|[{NCT04810156, Cl...|              2.0|      CHEMBL269732|                     null|                     null|                            null|\n",
      "|{[CHEMBL269732]}|  HP:0001399|[{NCT00608244,NCT...|              2.0|      CHEMBL269732|                     null|                     null|                            null|\n",
      "|{[CHEMBL269732]}| EFO:0009510|[{NCT00950391, Cl...|              1.0|      CHEMBL269732|                     null|                     null|                            null|\n",
      "|{[CHEMBL269732]}| EFO:1000131|[{NCT02960646, Cl...|              1.0|      CHEMBL269732|                     null|                     null|                            null|\n",
      "|{[CHEMBL269732]}| EFO:1002048|[{NCT00183248,NCT...|              3.0|      CHEMBL269732|                     null|                     null|                            null|\n",
      "|{[CHEMBL269732]}| EFO:1001779|[{NCT02960646,NCT...|              2.0|      CHEMBL269732|                     null|                     null|                            null|\n",
      "|{[CHEMBL269732]}| EFO:0000096|[{NCT01701986, Cl...|              2.0|      CHEMBL269732|                     null|                     null|                            null|\n",
      "|{[CHEMBL269732]}| EFO:0003032|[{NCT01529827, Cl...|              2.0|      CHEMBL269732|                     null|                     null|                            null|\n",
      "|{[CHEMBL269732]}| EFO:0004251|[{NCT00053196,NCT...|              2.0|      CHEMBL269732|                     null|                     null|                            null|\n",
      "|{[CHEMBL269732]}| EFO:0008517|[{NCT02744378, Cl...|              2.0|      CHEMBL269732|                     null|                     null|                            null|\n",
      "|{[CHEMBL269732]}| EFO:1000956|[{NCT01529827, Cl...|              2.0|      CHEMBL269732|                     null|                     null|                            null|\n",
      "|{[CHEMBL269732]}| EFO:0000211|[{NCT01529827, Cl...|              2.0|      CHEMBL269732|                     null|                     null|                            null|\n",
      "|{[CHEMBL269732]}| EFO:0004254|[{NCT00404794, Cl...|              3.0|      CHEMBL269732|                     null|                     null|                            null|\n",
      "|{[CHEMBL269732]}| EFO:0009441|[{NCT01529827, Cl...|              2.0|      CHEMBL269732|                     null|                     null|                            null|\n",
      "|{[CHEMBL269732]}| EFO:0007157|[{NCT03095547, Cl...|              1.0|      CHEMBL269732|                     null|                     null|                            null|\n",
      "|{[CHEMBL269732]}| EFO:1000690|[{NCT00881556,NCT...|              2.0|      CHEMBL269732|                     null|                     null|                            null|\n",
      "|{[CHEMBL269732]}| EFO:1001993|[{NCT02680717, Cl...|              1.0|      CHEMBL269732|                     null|                     null|                            null|\n",
      "|{[CHEMBL269732]}|Orphanet:848|[{NCT02435901, Cl...|              1.0|      CHEMBL269732|                     null|                     null|                            null|\n",
      "+----------------+------------+--------------------+-----------------+------------------+-------------------------+-------------------------+--------------------------------+\n",
      "only showing top 20 rows\n",
      "\n"
     ]
    }
   ],
   "source": [
    "# drug_indication_parent_moa_filtered = drug_indication_parent_moa.filter(drug_indication_parent_moa[\"molecule_chembl_id\"] == \"CHEMBL269732\")\n",
    "# drug_indication_parent_moa_filtered.show()"
   ]
  },
  {
   "cell_type": "code",
   "execution_count": 63,
   "metadata": {},
   "outputs": [
    {
     "name": "stdout",
     "output_type": "stream",
     "text": [
      "+--------------------+-------------+--------------------+-----------------+------------------+-------------------------+--------------------+\n",
      "|           _metadata|       efo_id|     indication_refs|max_phase_for_ind|molecule_chembl_id|parent_molecule_chembl_id|    target_chembl_id|\n",
      "+--------------------+-------------+--------------------+-----------------+------------------+-------------------------+--------------------+\n",
      "|   {[CHEMBL1201605]}|  EFO:0003929|[{NCT00071838,NCT...|              4.0|     CHEMBL1201605|            CHEMBL1201605|       CHEMBL2364167|\n",
      "|{[CHEMBL1201733, ...|  EFO:0000389|[{NCT00861913, Cl...|              2.0|     CHEMBL1201733|             CHEMBL477772|CHEMBL258,CHEMBL3650|\n",
      "|   {[CHEMBL3813873]}|  EFO:0000673|[{NCT02472275, Cl...|              1.0|     CHEMBL3813873|            CHEMBL3813873|CHEMBL1844,CHEMBL...|\n",
      "|      {[CHEMBL1483]}|  EFO:0008572|[{NCT00396500,NCT...|              3.0|        CHEMBL1483|               CHEMBL1483|CHEMBL2364705,CHE...|\n",
      "|    {[CHEMBL574737]}|  EFO:0000209|[{NCT00301938, Cl...|              1.0|      CHEMBL574737|             CHEMBL574737|CHEMBL301,CHEMBL4630|\n",
      "|    {[CHEMBL574737]}|  EFO:0000221|[{NCT00301938, Cl...|              1.0|      CHEMBL574737|             CHEMBL574737|CHEMBL2534,CHEMBL...|\n",
      "|    {[CHEMBL574737]}|  EFO:0000224|[{NCT00301938, Cl...|              1.0|      CHEMBL574737|             CHEMBL574737|           CHEMBL301|\n",
      "|   {[CHEMBL1201564]}|  EFO:0000389|[{NCT00004016,NCT...|              3.0|     CHEMBL1201564|            CHEMBL1201564|       CHEMBL2364171|\n",
      "|{[CHEMBL1567, CHE...|  EFO:0000641|[{NCT00519896,NCT...|              2.0|        CHEMBL1567|                CHEMBL535|CHEMBL1844,CHEMBL...|\n",
      "|        {[CHEMBL70]}|   HP:0003418|[{NCT03825198, Cl...|              3.0|          CHEMBL70|                     null|                    |\n",
      "|   {[CHEMBL3545133]}|  EFO:0000311|[{NCT00676299, Cl...|              1.0|     CHEMBL3545133|            CHEMBL3545133|CHEMBL3009,CHEMBL203|\n",
      "|   {[CHEMBL3545133]}|  EFO:0000311|[{NCT00676299, Cl...|              1.0|     CHEMBL3545133|            CHEMBL3545133|CHEMBL1955,CHEMBL...|\n",
      "|       {[CHEMBL600]}|  EFO:0003758|[{NCT00453180,NCT...|              2.0|         CHEMBL600|                CHEMBL600|                    |\n",
      "|   {[CHEMBL4297722]}|  EFO:0004194|[{NCT03841448, Cl...|              2.0|     CHEMBL4297722|            CHEMBL4297722|       CHEMBL4627245|\n",
      "|   {[CHEMBL2109494]}|  EFO:0000565|[{NCT00003082, Cl...|              1.0|     CHEMBL2109494|            CHEMBL2109494|       CHEMBL3712860|\n",
      "|       {[CHEMBL163]}|  EFO:0002950|[{NCT00125983, Cl...|              2.0|         CHEMBL163|                CHEMBL163|CHEMBL243,CHEMBL2...|\n",
      "|     {[CHEMBL60889]}|MONDO:0004567|[{NCT03477266, Cl...|              3.0|       CHEMBL60889|              CHEMBL60889|CHEMBL1875,CHEMBL...|\n",
      "|       {[CHEMBL719]}|MONDO:0019180|[{NCT02963129, Cl...|              3.0|         CHEMBL719|                CHEMBL719|CHEMBL1982,CHEMBL...|\n",
      "|   {[CHEMBL4069704]}|  EFO:0001361|[{NCT02746237,NCT...|              2.0|     CHEMBL4069704|            CHEMBL4069704|          CHEMBL5689|\n",
      "|    {[CHEMBL298734]}|MONDO:0008310|[{NCT00425607,NCT...|              4.0|      CHEMBL298734|             CHEMBL298734|       CHEMBL2094108|\n",
      "+--------------------+-------------+--------------------+-----------------+------------------+-------------------------+--------------------+\n",
      "only showing top 20 rows\n",
      "\n"
     ]
    },
    {
     "data": {
      "text/plain": [
       "115740"
      ]
     },
     "execution_count": 63,
     "metadata": {},
     "output_type": "execute_result"
    }
   ],
   "source": [
    "# # Merge molecule_target_chembl_id and parent_molecule_target_chembl_id to target_chembl_id, and delete dublicates\n",
    "\n",
    "# drug_indication_moa = drug_indication_parent_moa.withColumn(\"molecule_chembl_id_concat\", \n",
    "#                    concat_ws(\",\", array_distinct(split(concat_ws(\",\", col(\"molecule_chembl_id\"), col(\"parent_molecule_chembl_id\")), \",\")))) \\\n",
    "#                    .withColumn(\"target_chembl_id\", \n",
    "#                    concat_ws(\",\", array_distinct(split(concat_ws(\",\", col(\"molecule_target_chembl_id\"), col(\"parent_molecule_target_chembl_id\")), \",\")))) \\\n",
    "#       .drop(\"molecule_target_chembl_id\", \"parent_molecule_target_chembl_id\") \\\n",
    "#       .drop(\"molecule_chembl_id\", \"parent_molecule_chembl_id\") \\\n",
    "#       .dropDuplicates()\n",
    "# drug_indication_moa.show()\n",
    "# drug_indication_moa.count()"
   ]
  },
  {
   "cell_type": "code",
   "execution_count": 57,
   "metadata": {},
   "outputs": [
    {
     "name": "stdout",
     "output_type": "stream",
     "text": [
      "+--------------------+-------------+--------------------+-----------------+---------------------+-----------------------+\n",
      "|           _metadata|       efo_id|     indication_refs|max_phase_for_ind|target_chembl_id_expl|molecule_chembl_id_expl|\n",
      "+--------------------+-------------+--------------------+-----------------+---------------------+-----------------------+\n",
      "|   {[CHEMBL1201823]}|  EFO:1001148|[{NCT01272856, Cl...|              1.0|        CHEMBL2364156|          CHEMBL1201823|\n",
      "|    {[CHEMBL577294]}|MONDO:0018982|[{NCT02912793,NCT...|              3.0|        CHEMBL4651303|           CHEMBL577294|\n",
      "|    {[CHEMBL223228]}|  EFO:0002618|[{NCT00964171, Cl...|              2.0|            CHEMBL247|           CHEMBL223228|\n",
      "|   {[CHEMBL1201631]}|  EFO:0001358|[{NCT04044534, Cl...|              2.0|           CHEMBL1981|          CHEMBL1201631|\n",
      "|      {[CHEMBL1421]}|  EFO:1001465|[{NCT00423735,NCT...|              2.0|           CHEMBL1913|             CHEMBL1421|\n",
      "|   {[CHEMBL4297522]}|  EFO:0005221|[{NCT02924376,NCT...|              4.0|           CHEMBL4142|          CHEMBL4297522|\n",
      "|      {[CHEMBL1421]}|  EFO:0002618|[{NCT00544908,NCT...|              2.0|           CHEMBL1862|             CHEMBL1421|\n",
      "|     {[CHEMBL14762]}|  EFO:0000616|[{NCT00999401, Cl...|              1.0|           CHEMBL4036|            CHEMBL14762|\n",
      "|   {[CHEMBL4298024]}|  EFO:1000581|[{NCT04417660, Cl...|              2.0|        CHEMBL3988637|          CHEMBL4298024|\n",
      "|{[CHEMBL1201733, ...|  EFO:0000588|[{NCT00459862, Cl...|              2.0|            CHEMBL258|          CHEMBL1201733|\n",
      "|{[CHEMBL1200485, ...|  EFO:0000222|[{NCT01578109,NCT...|              1.0|           CHEMBL2041|          CHEMBL1200485|\n",
      "|   {[CHEMBL2109128]}|  EFO:0001378|[{NCT00932217, Cl...|              3.0|           CHEMBL1996|          CHEMBL2109128|\n",
      "|{[CHEMBL2107358, ...|  EFO:0001378|[{NCT00719901, Cl...|              1.0|           CHEMBL5988|           CHEMBL408194|\n",
      "|{[CHEMBL1200485, ...|  EFO:0002501|[{NCT00093613, Cl...|              1.0|           CHEMBL5145|             CHEMBL1336|\n",
      "|       {[CHEMBL715]}|   HP:0012076|[{NCT00088036,NCT...|              3.0|            CHEMBL224|              CHEMBL715|\n",
      "|   {[CHEMBL3137320]}|  EFO:0000222|[{NCT02878785,NCT...|              1.0|           CHEMBL3105|          CHEMBL3137320|\n",
      "|      {[CHEMBL1489]}|  EFO:0000095|[{NCT00413478,NCT...|              2.0|           CHEMBL1992|             CHEMBL1489|\n",
      "|{[CHEMBL1567, CHE...|  EFO:0007331|[{NCT00434109, Cl...|              2.0|        CHEMBL2095227|              CHEMBL535|\n",
      "|   {[CHEMBL1946170]}|  EFO:1001949|[{NCT02368886, Cl...|              2.0|        CHEMBL2095189|          CHEMBL1946170|\n",
      "|   {[CHEMBL4303201]}|  EFO:0000588|[{NCT05188859, Cl...|              2.0|           CHEMBL1936|          CHEMBL4303201|\n",
      "+--------------------+-------------+--------------------+-----------------+---------------------+-----------------------+\n",
      "only showing top 20 rows\n",
      "\n"
     ]
    },
    {
     "data": {
      "text/plain": [
       "54759"
      ]
     },
     "execution_count": 57,
     "metadata": {},
     "output_type": "execute_result"
    }
   ],
   "source": [
    "# # Explode target_chembl_id to future compate Drug-Indication pairs \n",
    "\n",
    "\n",
    "# drug_indication_moa_exploded = drug_indication_moa.withColumn(\"target_chembl_id_expl\", explode(split(col(\"target_chembl_id\"), \",\"))) \\\n",
    "#                                                 .withColumn(\"target_chembl_id_expl\", explode(split(col(\"target_chembl_id\"), \",\"))) \\\n",
    "#                                                 .drop(\"target_chembl_id\", \"molecule_chembl_id_concat\") \\\n",
    "#                                                 .dropDuplicates() \\\n",
    "#                                                 .filter(col(\"target_chembl_id_expl\").isNotNull() & (col(\"target_chembl_id_expl\") != \"\"))\n",
    "# drug_indication_moa_exploded.show()\n",
    "# drug_indication_moa_exploded.count()"
   ]
  },
  {
   "cell_type": "code",
   "execution_count": 58,
   "metadata": {},
   "outputs": [
    {
     "name": "stdout",
     "output_type": "stream",
     "text": [
      "+--------------------+-----------+--------------------+-----------------+---------------------+-----------------------+\n",
      "|           _metadata|     efo_id|     indication_refs|max_phase_for_ind|target_chembl_id_expl|molecule_chembl_id_expl|\n",
      "+--------------------+-----------+--------------------+-----------------+---------------------+-----------------------+\n",
      "|{[CHEMBL3989887, ...| HP:0000964|[{D11AH01, ATC, h...|              4.0|           CHEMBL1902|           CHEMBL269732|\n",
      "|{[CHEMBL3989887, ...|EFO:0000540|[{L04AD02, ATC, h...|              4.0|           CHEMBL1902|           CHEMBL269732|\n",
      "+--------------------+-----------+--------------------+-----------------+---------------------+-----------------------+\n",
      "\n"
     ]
    }
   ],
   "source": [
    "# drug_indication_moa_exploded_filtered = drug_indication_moa_exploded.filter(drug_indication_moa_exploded[\"molecule_chembl_id_expl\"] == \"CHEMBL269732\")\n",
    "# drug_indication_moa_exploded_filtered.show()"
   ]
  },
  {
   "cell_type": "code",
   "execution_count": 68,
   "metadata": {},
   "outputs": [
    {
     "name": "stderr",
     "output_type": "stream",
     "text": [
      "[Stage 520:>                                                        (0 + 1) / 1]\r"
     ]
    },
    {
     "name": "stdout",
     "output_type": "stream",
     "text": [
      "+-------------+--------------------+------------+----------+--------------------+-------------------------+-------------+--------------+---------------+-------------------------+----------------+------------------+--------------------+\n",
      "|clinicalPhase|      clinicalStatus|datasourceId|datatypeId|   diseaseFromSource|diseaseFromSourceMappedId|       drugId|studyStartDate|studyStopReason|studyStopReasonCategories|targetFromSource|targetFromSourceId|                urls|\n",
      "+-------------+--------------------+------------+----------+--------------------+-------------------------+-------------+--------------+---------------+-------------------------+----------------+------------------+--------------------+\n",
      "|          3.0|           Completed|      chembl|known_drug|Esophageal Squamo...|              EFO_0005922|     CHEMBL92|    2018-01-26|           null|                     null|   CHEMBL2095182|            P04350|[{ClinicalTrials,...|\n",
      "|          2.0|  Not yet recruiting|      chembl|known_drug|Stage IV (Metasta...|            MONDO_0007254| CHEMBL180022|    2021-12-01|           null|                     null|      CHEMBL3009|            Q15303|[{ClinicalTrials,...|\n",
      "|          2.0|           Completed|      chembl|known_drug|                PTSD|              EFO_0001358|CHEMBL1568698|    2011-04-01|           null|                     null|   CHEMBL2093872|            P28472|[{ClinicalTrials,...|\n",
      "|          4.0|                null|      chembl|known_drug|             anxiety|              EFO_0006788|     CHEMBL12|          null|           null|                     null|   CHEMBL2093872|            P14867|[{DailyMed, https...|\n",
      "|          2.0|Active, not recru...|      chembl|known_drug|Epidermolysis Bul...|              EFO_1000690|CHEMBL1096882|    2016-03-01|           null|                     null|   CHEMBL2363042|            Q14181|[{ClinicalTrials,...|\n",
      "|          1.0|Active, not recru...|      chembl|known_drug|Esophageal Adenoc...|              EFO_0000478|    CHEMBL888|    2022-01-18|           null|                     null|   CHEMBL2363042|            Q9NRF9|[{ClinicalTrials,...|\n",
      "|          3.0|           Completed|      chembl|known_drug| Eosinophilic Asthma|            MONDO_0004979|CHEMBL2107884|    2011-03-01|           null|                     null|   CHEMBL1169600|            P05113|[{ClinicalTrials,...|\n",
      "|          4.0|                null|      chembl|known_drug|         common cold|              EFO_0007214|    CHEMBL112|          null|           null|                     null|      CHEMBL2243|            O00519|[{DailyMed, https...|\n",
      "|          2.0|           Completed|      chembl|known_drug|Recurrent Urethra...|            MONDO_0004192|CHEMBL1201752|    2001-06-01|           null|                     null|   CHEMBL2095182|            Q13885|[{ClinicalTrials,...|\n",
      "|          2.0|           Completed|      chembl|known_drug|Carcinoma, Non-Sm...|              EFO_0003060| CHEMBL428647|    2010-11-01|           null|                     null|   CHEMBL2095182|            P68371|[{ClinicalTrials,...|\n",
      "|          1.0|           Completed|      chembl|known_drug|Head and Neck Squ...|              EFO_0000707|    CHEMBL888|    2013-05-01|           null|                     null|   CHEMBL2363042|            Q07864|[{ClinicalTrials,...|\n",
      "|          2.0|           Completed|      chembl|known_drug|Carcinoma of the ...|              EFO_0000305| CHEMBL428647|    2007-10-01|           null|                     null|   CHEMBL2095182|            P04350|[{ClinicalTrials,...|\n",
      "|          2.0|           Completed|      chembl|known_drug|Locally Advanced ...|              EFO_0000707|CHEMBL3545252|    2012-06-01|           null|                     null|   CHEMBL2095182|            P04350|[{ClinicalTrials,...|\n",
      "|          2.0|           Completed|      chembl|known_drug|    Liver Metastases|                     null|    CHEMBL185|    2009-03-01|           null|                     null|      CHEMBL1952|            P04818|[{ClinicalTrials,...|\n",
      "|          2.0|           Completed|      chembl|known_drug|Acute Myeloid Leu...|              EFO_0000222|    CHEMBL803|    2008-10-01|           null|                     null|   CHEMBL2363042|            Q14181|[{ClinicalTrials,...|\n",
      "|          1.0|           Completed|      chembl|known_drug|            Diabetes|              EFO_0000400|   CHEMBL1431|    2009-08-01|           null|                     null|   CHEMBL2363065|            O75380|[{ClinicalTrials,...|\n",
      "|          4.0|                null|      chembl|known_drug|type 2 diabetes m...|            MONDO_0005148|   CHEMBL1431|          null|           null|                     null|   CHEMBL2363065|            O95167|[{DailyMed, https...|\n",
      "|          1.0|           Completed|      chembl|known_drug|B-Lymphoid Malign...|            MONDO_0004992|CHEMBL1096882|    2017-06-21|           null|                     null|   CHEMBL2363042|            Q9HCU8|[{ClinicalTrials,...|\n",
      "|          2.0|           Completed|      chembl|known_drug|Recurrent Synovia...|              EFO_0001376|CHEMBL1743037|    2015-10-12|           null|                     null|   CHEMBL2095182|            P68366|[{ClinicalTrials,...|\n",
      "|          3.0|           Completed|      chembl|known_drug|Attention Deficit...|              EFO_0003888|CHEMBL1201222|    2006-05-01|           null|                     null|       CHEMBL222|            P23975|[{ClinicalTrials,...|\n",
      "+-------------+--------------------+------------+----------+--------------------+-------------------------+-------------+--------------+---------------+-------------------------+----------------+------------------+--------------------+\n",
      "only showing top 20 rows\n",
      "\n"
     ]
    },
    {
     "name": "stderr",
     "output_type": "stream",
     "text": [
      "24/02/12 17:19:52 WARN CacheManager: Asked to cache already cached data.        \n"
     ]
    },
    {
     "data": {
      "text/plain": [
       "705591"
      ]
     },
     "execution_count": 68,
     "metadata": {},
     "output_type": "execute_result"
    }
   ],
   "source": [
    "# ChEMBL evidence (INPUT) from Open Targets Platform\n",
    "chembl_evidence = \"gs://open-targets-data-releases/23.12/input/evidence-files/chembl.json.gz\"\n",
    "chembl_evidence = spark.read.json(chembl_evidence)\n",
    "chembl_evidence.persist()\n",
    "chembl_evidence.show()\n",
    "chembl_evidence.count()"
   ]
  },
  {
   "cell_type": "code",
   "execution_count": 61,
   "metadata": {},
   "outputs": [
    {
     "name": "stdout",
     "output_type": "stream",
     "text": [
      "+-------------+--------------+------------+----------+--------------------+-------------------------+-------------+--------------+---------------+-------------------------+----------------+------------------+--------------------+\n",
      "|clinicalPhase|clinicalStatus|datasourceId|datatypeId|   diseaseFromSource|diseaseFromSourceMappedId|       drugId|studyStartDate|studyStopReason|studyStopReasonCategories|targetFromSource|targetFromSourceId|                urls|\n",
      "+-------------+--------------+------------+----------+--------------------+-------------------------+-------------+--------------+---------------+-------------------------+----------------+------------------+--------------------+\n",
      "|          4.0|          null|      chembl|known_drug|Agents for dermat...|               HP_0000964|CHEMBL3989887|          null|           null|                     null|      CHEMBL1902|            P62942|[{ATC, https://ww...|\n",
      "|          4.0|          null|      chembl|known_drug|  IMMUNOSUPPRESSANTS|              EFO_0000540|CHEMBL3989887|          null|           null|                     null|      CHEMBL1902|            P62942|[{ATC, https://ww...|\n",
      "+-------------+--------------+------------+----------+--------------------+-------------------------+-------------+--------------+---------------+-------------------------+----------------+------------------+--------------------+\n",
      "\n"
     ]
    }
   ],
   "source": [
    "# chembl_evidence_filtered = chembl_evidence.filter(chembl_evidence[\"drugId\"] == \"CHEMBL3989887\")\n",
    "# chembl_evidence_filtered.show()"
   ]
  },
  {
   "cell_type": "code",
   "execution_count": 160,
   "metadata": {},
   "outputs": [
    {
     "name": "stdout",
     "output_type": "stream",
     "text": [
      "There are 35395 unique Target-Indication pairs on Platform coming from ChEMBL evidence\n"
     ]
    },
    {
     "name": "stderr",
     "output_type": "stream",
     "text": [
      "[Stage 1021:=======================================>           (153 + 16) / 200]\r"
     ]
    },
    {
     "name": "stdout",
     "output_type": "stream",
     "text": [
      "And 32275 unique Target-Indication pairs was found by mapping Drug-Indication pairs to Drug-Target pairs by MoA\n"
     ]
    },
    {
     "name": "stderr",
     "output_type": "stream",
     "text": [
      "                                                                                \r"
     ]
    }
   ],
   "source": [
    "# Compare 2 datasets\n",
    "\n",
    "chembl_evidence_TI_pairs = chembl_evidence.select(\"targetFromSource\", \"diseaseFromSourceMappedId\").dropDuplicates()\n",
    "OT_chembl_evidence = chembl_evidence_TI_pairs.count()\n",
    "print(\"There are\", OT_chembl_evidence, \"unique Target-Indication pairs on Platform coming from ChEMBL evidence\")\n",
    "\n",
    "drug_indication_moa_TI_pairs = drug_indication_moa_notnull\\\n",
    "                                        .select(\"target_chembl_id\", \"efo_id\").dropDuplicates() \\\n",
    "                                        .withColumn(\"efo_id\", regexp_replace(\"efo_id\", \":\", \"_\"))\n",
    "drug_indication_moa_evidence = drug_indication_moa_TI_pairs.count()\n",
    "print(\"And\", drug_indication_moa_evidence, \"unique Target-Indication pairs was found by mapping Drug-Indication pairs to Drug-Target pairs by MoA\")"
   ]
  },
  {
   "cell_type": "code",
   "execution_count": 161,
   "metadata": {},
   "outputs": [
    {
     "ename": "AttributeError",
     "evalue": "'DataFrame' object has no attribute 'target_chembl_id_expl'",
     "output_type": "error",
     "traceback": [
      "\u001b[0;31m---------------------------------------------------------------------------\u001b[0m",
      "\u001b[0;31mAttributeError\u001b[0m                            Traceback (most recent call last)",
      "\u001b[0;32m/tmp/ipykernel_118689/1326488931.py\u001b[0m in \u001b[0;36m<cell line: 2>\u001b[0;34m()\u001b[0m\n\u001b[1;32m      1\u001b[0m \u001b[0;31m# Target-Indication pairs missing on Platform\u001b[0m\u001b[0;34m\u001b[0m\u001b[0;34m\u001b[0m\u001b[0m\n\u001b[1;32m      2\u001b[0m missing_TI_OT = drug_indication_moa_TI_pairs.join(chembl_evidence_TI_pairs, \n\u001b[0;32m----> 3\u001b[0;31m                                            \u001b[0;34m(\u001b[0m\u001b[0mdrug_indication_moa_TI_pairs\u001b[0m\u001b[0;34m.\u001b[0m\u001b[0mtarget_chembl_id_expl\u001b[0m \u001b[0;34m==\u001b[0m \u001b[0mchembl_evidence_TI_pairs\u001b[0m\u001b[0;34m.\u001b[0m\u001b[0mtargetFromSource\u001b[0m\u001b[0;34m)\u001b[0m \u001b[0;34m&\u001b[0m\u001b[0;34m\u001b[0m\u001b[0;34m\u001b[0m\u001b[0m\n\u001b[0m\u001b[1;32m      4\u001b[0m                                            (drug_indication_moa_TI_pairs.efo_id == chembl_evidence_TI_pairs.diseaseFromSourceMappedId), \"left_anti\")\n\u001b[1;32m      5\u001b[0m \u001b[0mmissing_TI_OT\u001b[0m\u001b[0;34m.\u001b[0m\u001b[0mshow\u001b[0m\u001b[0;34m(\u001b[0m\u001b[0;34m)\u001b[0m\u001b[0;34m\u001b[0m\u001b[0;34m\u001b[0m\u001b[0m\n",
      "\u001b[0;32m/usr/lib/spark/python/pyspark/sql/dataframe.py\u001b[0m in \u001b[0;36m__getattr__\u001b[0;34m(self, name)\u001b[0m\n\u001b[1;32m   1986\u001b[0m         \"\"\"\n\u001b[1;32m   1987\u001b[0m         \u001b[0;32mif\u001b[0m \u001b[0mname\u001b[0m \u001b[0;32mnot\u001b[0m \u001b[0;32min\u001b[0m \u001b[0mself\u001b[0m\u001b[0;34m.\u001b[0m\u001b[0mcolumns\u001b[0m\u001b[0;34m:\u001b[0m\u001b[0;34m\u001b[0m\u001b[0;34m\u001b[0m\u001b[0m\n\u001b[0;32m-> 1988\u001b[0;31m             raise AttributeError(\n\u001b[0m\u001b[1;32m   1989\u001b[0m                 \u001b[0;34m\"'%s' object has no attribute '%s'\"\u001b[0m \u001b[0;34m%\u001b[0m \u001b[0;34m(\u001b[0m\u001b[0mself\u001b[0m\u001b[0;34m.\u001b[0m\u001b[0m__class__\u001b[0m\u001b[0;34m.\u001b[0m\u001b[0m__name__\u001b[0m\u001b[0;34m,\u001b[0m \u001b[0mname\u001b[0m\u001b[0;34m)\u001b[0m\u001b[0;34m\u001b[0m\u001b[0;34m\u001b[0m\u001b[0m\n\u001b[1;32m   1990\u001b[0m             )\n",
      "\u001b[0;31mAttributeError\u001b[0m: 'DataFrame' object has no attribute 'target_chembl_id_expl'"
     ]
    }
   ],
   "source": [
    "# Target-Indication pairs missing on Platform\n",
    "missing_TI_OT = drug_indication_moa_TI_pairs.join(chembl_evidence_TI_pairs, \n",
    "                                           (drug_indication_moa_TI_pairs.target_chembl_id_expl == chembl_evidence_TI_pairs.targetFromSource) & \n",
    "                                           (drug_indication_moa_TI_pairs.efo_id == chembl_evidence_TI_pairs.diseaseFromSourceMappedId), \"left_anti\")\n",
    "missing_TI_OT.show()\n",
    "missing_TI_OT.count()"
   ]
  },
  {
   "cell_type": "markdown",
   "metadata": {},
   "source": [
    "#### Why Target-Indication pairs are missing on Platform?\n",
    "##### * Target is not protein (CHEMBL2311221)\n",
    "##### * Target is not human (CHEMBL1984)\n",
    "##### * Ontology term is deprecated (EFO_0000311)"
   ]
  },
  {
   "cell_type": "code",
   "execution_count": 162,
   "metadata": {},
   "outputs": [
    {
     "name": "stderr",
     "output_type": "stream",
     "text": [
      "                                                                                \r"
     ]
    },
    {
     "name": "stdout",
     "output_type": "stream",
     "text": [
      "+----------------+-------------------------+\n",
      "|targetFromSource|diseaseFromSourceMappedId|\n",
      "+----------------+-------------------------+\n",
      "|      CHEMBL2058|            MONDO_0020743|\n",
      "|   CHEMBL2093865|            MONDO_0044889|\n",
      "|   CHEMBL2321614|              EFO_0007486|\n",
      "|      CHEMBL3961|              EFO_1001480|\n",
      "|   CHEMBL1907611|            MONDO_0011962|\n",
      "|      CHEMBL1824|              EFO_0000304|\n",
      "|      CHEMBL1806|            MONDO_0002618|\n",
      "|   CHEMBL2093865|              EFO_1000616|\n",
      "|      CHEMBL3729|              EFO_1000632|\n",
      "|       CHEMBL202|              EFO_1001466|\n",
      "|   CHEMBL2331043|            MONDO_0018373|\n",
      "|   CHEMBL3307223|              EFO_1000157|\n",
      "|   CHEMBL2096675|            MONDO_0000956|\n",
      "|      CHEMBL1906|              EFO_0003891|\n",
      "|   CHEMBL2094124|              EFO_1000864|\n",
      "|   CHEMBL2111456|              EFO_0009545|\n",
      "|       CHEMBL268|                     null|\n",
      "|      CHEMBL1806|              EFO_0006544|\n",
      "|      CHEMBL1906|            MONDO_0024880|\n",
      "|   CHEMBL2331043|            MONDO_0001697|\n",
      "+----------------+-------------------------+\n",
      "only showing top 20 rows\n",
      "\n"
     ]
    },
    {
     "name": "stderr",
     "output_type": "stream",
     "text": [
      "                                                                                \r"
     ]
    },
    {
     "data": {
      "text/plain": [
       "7969"
      ]
     },
     "execution_count": 162,
     "metadata": {},
     "output_type": "execute_result"
    }
   ],
   "source": [
    "# Target-Indication pairs missing by mapping Drug-Indication pairs to Drug-Target pairs by MoA\n",
    "missing_TI = chembl_evidence_TI_pairs.join(drug_indication_moa_TI_pairs, \n",
    "                                           (chembl_evidence_TI_pairs.targetFromSource == drug_indication_moa_TI_pairs.target_chembl_id) & \n",
    "                                           (chembl_evidence_TI_pairs.diseaseFromSourceMappedId == drug_indication_moa_TI_pairs.efo_id), \"left_anti\")\n",
    "missing_TI.show()\n",
    "missing_TI.count()"
   ]
  },
  {
   "cell_type": "code",
   "execution_count": 38,
   "metadata": {},
   "outputs": [
    {
     "name": "stdout",
     "output_type": "stream",
     "text": [
      "+----------------+-------------------------+\n",
      "|targetFromSource|diseaseFromSourceMappedId|\n",
      "+----------------+-------------------------+\n",
      "+----------------+-------------------------+\n",
      "\n"
     ]
    }
   ],
   "source": [
    "# missing_TI_filtered = missing_TI.filter(missing_TI[\"targetFromSource\"] == \"CHEMBL3545414\")\n",
    "# missing_TI_filtered.show()"
   ]
  },
  {
   "cell_type": "markdown",
   "metadata": {},
   "source": [
    "#### Why Target-Indication pairs are missing by mapping Drug-Indication pairs to Drug-Target pairs by MoA?"
   ]
  },
  {
   "cell_type": "code",
   "execution_count": 18,
   "metadata": {},
   "outputs": [],
   "source": [
    "chembl_evidence_filtered = chembl_evidence.filter(chembl_evidence[\"targetFromSource\"] == \"CHEMBL2094124\")\n",
    "chembl_evidence_filtered.show()\n",
    "selected_column = chembl_evidence_filtered.select(\"diseaseFromSourceMappedId\").collect()\n",
    "print(selected_column)"
   ]
  },
  {
   "cell_type": "markdown",
   "metadata": {},
   "source": [
    "### Assumption 1: Paula curated more indications (like CTs with multiple conditions) which are not in ChEMBL"
   ]
  },
  {
   "cell_type": "code",
   "execution_count": 36,
   "metadata": {},
   "outputs": [
    {
     "name": "stderr",
     "output_type": "stream",
     "text": [
      "                                                                                \r"
     ]
    },
    {
     "name": "stdout",
     "output_type": "stream",
     "text": [
      "+----------------+-------------------------+-------------+--------------------+\n",
      "|targetFromSource|diseaseFromSourceMappedId|       drugId|                urls|\n",
      "+----------------+-------------------------+-------------+--------------------+\n",
      "|      CHEMBL2058|            MONDO_0020743|CHEMBL1201576|[{ClinicalTrials,...|\n",
      "|      CHEMBL2058|            MONDO_0020743|CHEMBL1201576|[{ClinicalTrials,...|\n",
      "|      CHEMBL2058|            MONDO_0020743|CHEMBL1201576|[{ClinicalTrials,...|\n",
      "|      CHEMBL2058|            MONDO_0020743|CHEMBL1201576|[{ClinicalTrials,...|\n",
      "|   CHEMBL2093865|            MONDO_0044889|CHEMBL3622533|[{ClinicalTrials,...|\n",
      "|   CHEMBL2093865|            MONDO_0044889|CHEMBL3622533|[{ClinicalTrials,...|\n",
      "|   CHEMBL2093865|            MONDO_0044889|CHEMBL3622533|[{ClinicalTrials,...|\n",
      "|   CHEMBL2093865|            MONDO_0044889|CHEMBL3622533|[{ClinicalTrials,...|\n",
      "|   CHEMBL2093865|            MONDO_0044889|CHEMBL3622533|[{ClinicalTrials,...|\n",
      "|   CHEMBL2093865|            MONDO_0044889|CHEMBL3622533|[{ClinicalTrials,...|\n",
      "|   CHEMBL2093865|            MONDO_0044889|CHEMBL3622533|[{ClinicalTrials,...|\n",
      "|   CHEMBL2093865|            MONDO_0044889|CHEMBL3622533|[{ClinicalTrials,...|\n",
      "|   CHEMBL2093865|            MONDO_0044889|CHEMBL3622533|[{ClinicalTrials,...|\n",
      "|   CHEMBL2093865|            MONDO_0044889|CHEMBL3622533|[{ClinicalTrials,...|\n",
      "|   CHEMBL2093865|            MONDO_0044889|CHEMBL3622533|[{ClinicalTrials,...|\n",
      "|   CHEMBL2321614|              EFO_0007486|CHEMBL1200694|[{ClinicalTrials,...|\n",
      "|      CHEMBL3961|              EFO_1001480|CHEMBL1946170|[{ClinicalTrials,...|\n",
      "|      CHEMBL3961|              EFO_1001480|CHEMBL1946170|[{ClinicalTrials,...|\n",
      "|      CHEMBL3961|              EFO_1001480|CHEMBL1946170|[{ClinicalTrials,...|\n",
      "|      CHEMBL3961|              EFO_1001480|CHEMBL1946170|[{ClinicalTrials,...|\n",
      "+----------------+-------------------------+-------------+--------------------+\n",
      "only showing top 20 rows\n",
      "\n"
     ]
    },
    {
     "name": "stderr",
     "output_type": "stream",
     "text": [
      "                                                                                \r"
     ]
    }
   ],
   "source": [
    "# Add sources (CT) from Target - Indication evidence from Platform\n",
    "\n",
    "# List of columns from chembl_evidence table\n",
    "list_chembl_evidence = [\"drugId\", \"urls\"]\n",
    "                 \n",
    "# Join tables by molecule_chembl_id\n",
    "missing_TI_urls = join_dataframes_by_many_cols(missing_TI, chembl_evidence, \n",
    "                                               [\"targetFromSource\", \"diseaseFromSourceMappedId\"], \n",
    "                                               [\"targetFromSource\", \"diseaseFromSourceMappedId\"], \n",
    "                                               list_chembl_evidence).persist()\n",
    "\n",
    "missing_TI_urls.show()"
   ]
  },
  {
   "cell_type": "markdown",
   "metadata": {},
   "source": [
    "##### Checking cases from Paula's presentation"
   ]
  },
  {
   "cell_type": "code",
   "execution_count": 20,
   "metadata": {},
   "outputs": [
    {
     "name": "stdout",
     "output_type": "stream",
     "text": [
      "+----------------+-------------+------------+--------------------+\n",
      "|targetFromSource|    diseaseId|      drugId|                urls|\n",
      "+----------------+-------------+------------+--------------------+\n",
      "|       CHEMBL233|  EFO_0801084|CHEMBL511142|[{ClinicalTrials,...|\n",
      "|       CHEMBL233|  EFO_0801084|CHEMBL511142|[{ClinicalTrials,...|\n",
      "|       CHEMBL237|MONDO_0004992|CHEMBL511142|[{ClinicalTrials,...|\n",
      "|       CHEMBL237|  EFO_1001412|CHEMBL511142|[{ClinicalTrials,...|\n",
      "|       CHEMBL237|  EFO_0010445|CHEMBL511142|[{ClinicalTrials,...|\n",
      "|       CHEMBL237|  EFO_0004220|CHEMBL511142|[{ClinicalTrials,...|\n",
      "|       CHEMBL237|  EFO_0801084|CHEMBL511142|[{ClinicalTrials,...|\n",
      "|       CHEMBL237|  EFO_0801084|CHEMBL511142|[{ClinicalTrials,...|\n",
      "|       CHEMBL233|  EFO_0009878|CHEMBL511142|[{ClinicalTrials,...|\n",
      "|       CHEMBL233|  EFO_0010445|CHEMBL511142|[{ClinicalTrials,...|\n",
      "|       CHEMBL237|  EFO_0009878|CHEMBL511142|[{ClinicalTrials,...|\n",
      "|       CHEMBL233|  EFO_0004220|CHEMBL511142|[{ClinicalTrials,...|\n",
      "|       CHEMBL237|  EFO_0004270|CHEMBL511142|[{ClinicalTrials,...|\n",
      "|       CHEMBL233|MONDO_0004992|CHEMBL511142|[{ClinicalTrials,...|\n",
      "+----------------+-------------+------------+--------------------+\n",
      "\n",
      "[Row(urls=[Row(niceName='ClinicalTrials', url='https://clinicaltrials.gov/ct2/show/NCT05910190')]), Row(urls=[Row(niceName='ClinicalTrials', url='https://clinicaltrials.gov/ct2/show/NCT01809106')]), Row(urls=[Row(niceName='ClinicalTrials', url='https://clinicaltrials.gov/ct2/show/NCT01809106')]), Row(urls=[Row(niceName='ClinicalTrials', url='https://clinicaltrials.gov/ct2/show/NCT01546701')]), Row(urls=[Row(niceName='ClinicalTrials', url='https://clinicaltrials.gov/ct2/show/NCT05262270')]), Row(urls=[Row(niceName='ClinicalTrials', url='https://clinicaltrials.gov/ct2/show/NCT00279565')]), Row(urls=[Row(niceName='ClinicalTrials', url='https://clinicaltrials.gov/ct2/show/NCT05910190')]), Row(urls=[Row(niceName='ClinicalTrials', url='https://clinicaltrials.gov/ct2/show/NCT01809106')]), Row(urls=[Row(niceName='ClinicalTrials', url='https://clinicaltrials.gov/ct2/show/NCT04818086')]), Row(urls=[Row(niceName='ClinicalTrials', url='https://clinicaltrials.gov/ct2/show/NCT05262270')]), Row(urls=[Row(niceName='ClinicalTrials', url='https://clinicaltrials.gov/ct2/show/NCT04818086')]), Row(urls=[Row(niceName='ClinicalTrials', url='https://clinicaltrials.gov/ct2/show/NCT00279565')]), Row(urls=[Row(niceName='ClinicalTrials', url='https://clinicaltrials.gov/ct2/show/NCT02138357')]), Row(urls=[Row(niceName='ClinicalTrials', url='https://clinicaltrials.gov/ct2/show/NCT01809106')])]\n"
     ]
    }
   ],
   "source": [
    "# Buprenorphine = CHEMBL511142 and NCT00000211 \n",
    "missing_TI_urls_filtered = missing_TI_urls.filter(missing_TI_urls[\"drugId\"] == \"CHEMBL511142\")\n",
    "missing_TI_urls_filtered.show()\n",
    "selected_column = missing_TI_urls_filtered.select(\"urls\").collect()\n",
    "print(selected_column)\n",
    "\n",
    "# CT not in the list"
   ]
  },
  {
   "cell_type": "code",
   "execution_count": 21,
   "metadata": {},
   "outputs": [
    {
     "name": "stdout",
     "output_type": "stream",
     "text": [
      "+----------------+---------+------+----+\n",
      "|targetFromSource|diseaseId|drugId|urls|\n",
      "+----------------+---------+------+----+\n",
      "+----------------+---------+------+----+\n",
      "\n",
      "[]\n"
     ]
    }
   ],
   "source": [
    "# Zidovudine = CHEMBL129 and NCT00000685 \n",
    "missing_TI_urls_filtered = missing_TI_urls.filter(missing_TI_urls[\"drugId\"] == \"CHEMBL129\")\n",
    "missing_TI_urls_filtered.show()\n",
    "selected_column = missing_TI_urls_filtered.select(\"urls\").collect()\n",
    "print(selected_column)\n",
    "\n",
    "# Drug not in the list"
   ]
  },
  {
   "cell_type": "code",
   "execution_count": 22,
   "metadata": {},
   "outputs": [
    {
     "name": "stdout",
     "output_type": "stream",
     "text": [
      "+----------------+-------------+----------+--------------------+\n",
      "|targetFromSource|    diseaseId|    drugId|                urls|\n",
      "+----------------+-------------+----------+--------------------+\n",
      "|       CHEMBL238|MONDO_0004985|CHEMBL1373|[{ClinicalTrials,...|\n",
      "|       CHEMBL238|MONDO_0021063|CHEMBL1373|[{ClinicalTrials,...|\n",
      "|       CHEMBL238|  EFO_0003925|CHEMBL1373|[{ClinicalTrials,...|\n",
      "|       CHEMBL238|MONDO_0005178|CHEMBL1373|[{ClinicalTrials,...|\n",
      "+----------------+-------------+----------+--------------------+\n",
      "\n",
      "[Row(urls=[Row(niceName='ClinicalTrials', url='https://clinicaltrials.gov/ct2/show/NCT01965925')]), Row(urls=[Row(niceName='ClinicalTrials', url='https://clinicaltrials.gov/ct2/show/NCT01505166')]), Row(urls=[Row(niceName='ClinicalTrials', url='https://clinicaltrials.gov/ct2/show/NCT03893032')]), Row(urls=[Row(niceName='ClinicalTrials', url='https://clinicaltrials.gov/ct2/show/NCT02155257')])]\n"
     ]
    }
   ],
   "source": [
    "# modafinil = CHEMBL1373 and NCT00042848 \n",
    "missing_TI_urls_filtered = missing_TI_urls.filter(missing_TI_urls[\"drugId\"] == \"CHEMBL1373\")\n",
    "missing_TI_urls_filtered.show()\n",
    "selected_column = missing_TI_urls_filtered.select(\"urls\").collect()\n",
    "print(selected_column)\n",
    "\n",
    "# CT not in the list"
   ]
  },
  {
   "cell_type": "code",
   "execution_count": 23,
   "metadata": {},
   "outputs": [
    {
     "name": "stdout",
     "output_type": "stream",
     "text": [
      "+----------------+-------------+--------+--------------------+\n",
      "|targetFromSource|    diseaseId|  drugId|                urls|\n",
      "+----------------+-------------+--------+--------------------+\n",
      "|   CHEMBL2362989|MONDO_0004222|CHEMBL84|[{ClinicalTrials,...|\n",
      "|   CHEMBL2362989|  EFO_0002939|CHEMBL84|[{ClinicalTrials,...|\n",
      "|   CHEMBL2362989|MONDO_0015686|CHEMBL84|[{ClinicalTrials,...|\n",
      "|   CHEMBL2362989|MONDO_0015686|CHEMBL84|[{ClinicalTrials,...|\n",
      "|   CHEMBL2362989|MONDO_0015686|CHEMBL84|[{ClinicalTrials,...|\n",
      "|   CHEMBL2362989|MONDO_0004992|CHEMBL84|[{ClinicalTrials,...|\n",
      "|   CHEMBL2362989|MONDO_0004992|CHEMBL84|[{ClinicalTrials,...|\n",
      "|   CHEMBL2362989|MONDO_0004992|CHEMBL84|[{ClinicalTrials,...|\n",
      "|   CHEMBL2362989|MONDO_0004992|CHEMBL84|[{ClinicalTrials,...|\n",
      "|   CHEMBL2362989|MONDO_0004992|CHEMBL84|[{ClinicalTrials,...|\n",
      "|   CHEMBL2362989|MONDO_0004992|CHEMBL84|[{ClinicalTrials,...|\n",
      "|   CHEMBL2362989|MONDO_0004992|CHEMBL84|[{ClinicalTrials,...|\n",
      "|   CHEMBL2362989|MONDO_0004992|CHEMBL84|[{ClinicalTrials,...|\n",
      "|   CHEMBL2362989|MONDO_0004992|CHEMBL84|[{ClinicalTrials,...|\n",
      "|   CHEMBL2362989|MONDO_0004992|CHEMBL84|[{ClinicalTrials,...|\n",
      "|   CHEMBL2362989|  EFO_1000172|CHEMBL84|[{ClinicalTrials,...|\n",
      "|   CHEMBL2362989|  EFO_1000172|CHEMBL84|[{ClinicalTrials,...|\n",
      "|   CHEMBL2362989|  EFO_1002008|CHEMBL84|[{ClinicalTrials,...|\n",
      "|   CHEMBL2362989|  EFO_0005537|CHEMBL84|[{ClinicalTrials,...|\n",
      "|   CHEMBL2362989|MONDO_0012825|CHEMBL84|[{ClinicalTrials,...|\n",
      "+----------------+-------------+--------+--------------------+\n",
      "only showing top 20 rows\n",
      "\n",
      "[Row(urls=[Row(niceName='ClinicalTrials', url='https://clinicaltrials.gov/ct2/show/NCT00002913')]), Row(urls=[Row(niceName='ClinicalTrials', url='https://clinicaltrials.gov/ct2/show/NCT05535166')]), Row(urls=[Row(niceName='ClinicalTrials', url='https://clinicaltrials.gov/ct2/show/NCT00314678')]), Row(urls=[Row(niceName='ClinicalTrials', url='https://clinicaltrials.gov/ct2/show/NCT02419495')]), Row(urls=[Row(niceName='ClinicalTrials', url='https://clinicaltrials.gov/ct2/show/NCT00011986')]), Row(urls=[Row(niceName='ClinicalTrials', url='https://clinicaltrials.gov/ct2/show/NCT00888810')]), Row(urls=[Row(niceName='ClinicalTrials', url='https://clinicaltrials.gov/ct2/show/NCT00881166')]), Row(urls=[Row(niceName='ClinicalTrials', url='https://clinicaltrials.gov/ct2/show/NCT00193570')]), Row(urls=[Row(niceName='ClinicalTrials', url='https://clinicaltrials.gov/ct2/show/NCT00412503')]), Row(urls=[Row(niceName='ClinicalTrials', url='https://clinicaltrials.gov/ct2/show/NCT00770731')]), Row(urls=[Row(niceName='ClinicalTrials', url='https://clinicaltrials.gov/ct2/show/NCT00361803')]), Row(urls=[Row(niceName='ClinicalTrials', url='https://clinicaltrials.gov/ct2/show/NCT02813135')]), Row(urls=[Row(niceName='ClinicalTrials', url='https://clinicaltrials.gov/ct2/show/NCT00193583')]), Row(urls=[Row(niceName='ClinicalTrials', url='https://clinicaltrials.gov/ct2/show/NCT00295243')]), Row(urls=[Row(niceName='ClinicalTrials', url='https://clinicaltrials.gov/ct2/show/NCT00006199')]), Row(urls=[Row(niceName='ClinicalTrials', url='https://clinicaltrials.gov/ct2/show/NCT00054444')]), Row(urls=[Row(niceName='ClinicalTrials', url='https://clinicaltrials.gov/ct2/show/NCT00064077')]), Row(urls=[Row(niceName='ClinicalTrials', url='https://clinicaltrials.gov/ct2/show/NCT02114229')]), Row(urls=[Row(niceName='ClinicalTrials', url='https://clinicaltrials.gov/ct2/show/NCT02419495')]), Row(urls=[Row(niceName='ClinicalTrials', url='https://clinicaltrials.gov/ct2/show/NCT03600649')]), Row(urls=[Row(niceName='ClinicalTrials', url='https://clinicaltrials.gov/ct2/show/NCT03475121')]), Row(urls=[Row(niceName='ClinicalTrials', url='https://clinicaltrials.gov/ct2/show/NCT00541138')]), Row(urls=[Row(niceName='ClinicalTrials', url='https://clinicaltrials.gov/ct2/show/NCT00002913')]), Row(urls=[Row(niceName='ClinicalTrials', url='https://clinicaltrials.gov/ct2/show/NCT00005021')]), Row(urls=[Row(niceName='ClinicalTrials', url='https://clinicaltrials.gov/ct2/show/NCT00002913')])]\n"
     ]
    }
   ],
   "source": [
    "# melphalan = CHEMBL852, topotecan = CHEMBL84  and NCT00005792 \n",
    "missing_TI_urls_filtered = missing_TI_urls.filter(missing_TI_urls[\"drugId\"] == \"CHEMBL84\")\n",
    "missing_TI_urls_filtered.show()\n",
    "selected_column = missing_TI_urls_filtered.select(\"urls\").collect()\n",
    "print(selected_column)\n",
    "\n",
    "# CT not in the list"
   ]
  },
  {
   "cell_type": "code",
   "execution_count": 24,
   "metadata": {},
   "outputs": [
    {
     "name": "stderr",
     "output_type": "stream",
     "text": [
      "                                                                                \r"
     ]
    },
    {
     "name": "stdout",
     "output_type": "stream",
     "text": [
      "+------------+--------------------+--------------------+\n",
      "|      drugId|   targetsFromSource|          diseaseIds|\n",
      "+------------+--------------------+--------------------+\n",
      "|  CHEMBL1000|CHEMBL231,CHEMBL2...|MONDO_0009291,EFO...|\n",
      "|CHEMBL100116|           CHEMBL287|       MONDO_0004985|\n",
      "|  CHEMBL1002|           CHEMBL210|          HP_0002153|\n",
      "|  CHEMBL1005|CHEMBL233,CHEMBL2...|MONDO_0008903,HP_...|\n",
      "|  CHEMBL1007|CHEMBL1855,CHEMBL...|HP_0000786,EFO_00...|\n",
      "|  CHEMBL1009|CHEMBL234,CHEMBL2...|MONDO_0001162,EFO...|\n",
      "|CHEMBL101253|CHEMBL2095189,CHE...|MONDO_0004992,MON...|\n",
      "|  CHEMBL1014|CHEMBL227,CHEMBL2...|MONDO_0043510,HP_...|\n",
      "|  CHEMBL1016|CHEMBL227,CHEMBL2...|HP_0001653,EFO_10...|\n",
      "|  CHEMBL1017|CHEMBL227,CHEMBL2...|MONDO_0005090,EFO...|\n",
      "|  CHEMBL1021|CHEMBL2094253,CHE...|EFO_0009321,EFO_0...|\n",
      "|  CHEMBL1023|CHEMBL2363070,CHE...|HP_0100543,HP_010...|\n",
      "|  CHEMBL1025|           CHEMBL220|       MONDO_0005041|\n",
      "|  CHEMBL1026|          CHEMBL2056|         EFO_0001645|\n",
      "|  CHEMBL1027|CHEMBL1903,CHEMBL...|EFO_0004263,EFO_1...|\n",
      "|   CHEMBL103|CHEMBL208,CHEMBL2...|MONDO_0005351,EFO...|\n",
      "|  CHEMBL1034|CHEMBL2094253,CHE...|EFO_0009816,EFO_0...|\n",
      "|  CHEMBL1040|          CHEMBL1977|          HP_0002024|\n",
      "|  CHEMBL1042|CHEMBL1977,CHEMBL...|EFO_0005878,EFO_0...|\n",
      "|  CHEMBL1046|CHEMBL1873,CHEMBL...|MONDO_0005178,EFO...|\n",
      "+------------+--------------------+--------------------+\n",
      "only showing top 20 rows\n",
      "\n"
     ]
    },
    {
     "name": "stderr",
     "output_type": "stream",
     "text": [
      "                                                                                \r"
     ]
    },
    {
     "data": {
      "text/plain": [
       "1821"
      ]
     },
     "execution_count": 24,
     "metadata": {},
     "output_type": "execute_result"
    }
   ],
   "source": [
    "# Group by \n",
    "missing_TI_grouped = missing_TI_urls.groupBy(\"drugId\")\\\n",
    "                                    .agg(\n",
    "                                        # concat_ws(\",\", collect_list(\"urls\")).alias(\"urls_grouped\"),\n",
    "                                        concat_ws(\",\", collect_list(\"targetFromSource\")).alias(\"targetsFromSource\"),\n",
    "                                        concat_ws(\",\", collect_list(\"diseaseId\")).alias(\"diseaseIds\")\n",
    "                                    )\n",
    "\n",
    "missing_TI_grouped.show()\n",
    "missing_TI_grouped.count()"
   ]
  },
  {
   "cell_type": "markdown",
   "metadata": {},
   "source": [
    "##### Checking if amount of Drug-Indication pairs is larger from OT evidence than from ChEMBL Drug-Indication pairs + MoA"
   ]
  },
  {
   "cell_type": "code",
   "execution_count": 163,
   "metadata": {},
   "outputs": [
    {
     "name": "stdout",
     "output_type": "stream",
     "text": [
      "+------------+--------------------+------------+\n",
      "|      drugId|          diseaseIds|diseaseCount|\n",
      "+------------+--------------------+------------+\n",
      "|  CHEMBL1000|EFO_0005854,EFO_0...|          23|\n",
      "|CHEMBL100116|MONDO_0004985,EFO...|           2|\n",
      "|  CHEMBL1002|HP_0002153,MONDO_...|           4|\n",
      "|  CHEMBL1004|EFO_0005854,EFO_0...|           4|\n",
      "|  CHEMBL1005|MONDO_0000726,EFO...|          50|\n",
      "|  CHEMBL1007|HP_0000786,EFO_00...|          15|\n",
      "|  CHEMBL1008|         EFO_0000319|           1|\n",
      "|  CHEMBL1009|MONDO_0005090,MON...|          34|\n",
      "|   CHEMBL101|HP_0002829,HP_000...|           3|\n",
      "|CHEMBL101253|EFO_0003869,EFO_0...|          30|\n",
      "|  CHEMBL1014|HP_0003124,HP_000...|          25|\n",
      "|  CHEMBL1016|EFO_0003777,EFO_0...|          31|\n",
      "|  CHEMBL1017|EFO_0004214,MONDO...|          29|\n",
      "| CHEMBL10188|MONDO_0005090,EFO...|           2|\n",
      "|  CHEMBL1020|HP_0002829,HP_000...|           5|\n",
      "|  CHEMBL1021|MONDO_0003005,MON...|          14|\n",
      "|  CHEMBL1023|EFO_0000198,EFO_0...|          27|\n",
      "|  CHEMBL1025|       MONDO_0005041|           1|\n",
      "|  CHEMBL1026|HP_0001919,EFO_00...|           3|\n",
      "|  CHEMBL1027|MONDO_0005090,EFO...|          10|\n",
      "+------------+--------------------+------------+\n",
      "only showing top 20 rows\n",
      "\n"
     ]
    },
    {
     "data": {
      "text/plain": [
       "4276"
      ]
     },
     "execution_count": 163,
     "metadata": {},
     "output_type": "execute_result"
    }
   ],
   "source": [
    "# Group by drugs from OT evidence\n",
    "\n",
    "OT_chembl_evidence_drug = chembl_evidence.select(\"diseaseFromSourceMappedId\", 'drugId')\\\n",
    "                                        .dropDuplicates()\\\n",
    "                                        .groupBy(\"drugId\")\\\n",
    "                                        .agg(\n",
    "                                            concat_ws(\",\", collect_set(\"diseaseFromSourceMappedId\")).alias(\"diseaseIds\"),\n",
    "                                            count(\"diseaseFromSourceMappedId\").alias(\"diseaseCount\")\n",
    "                                        )\n",
    "\n",
    "OT_chembl_evidence_drug.show()\n",
    "OT_chembl_evidence_drug.count()"
   ]
  },
  {
   "cell_type": "code",
   "execution_count": 164,
   "metadata": {},
   "outputs": [
    {
     "name": "stdout",
     "output_type": "stream",
     "text": [
      "+------------------+--------------------+--------------+\n",
      "|molecule_chembl_id|              efo_id|diseaseCount_2|\n",
      "+------------------+--------------------+--------------+\n",
      "|     CHEMBL1200632|EFO:0003894,EFO:0...|             3|\n",
      "|        CHEMBL1231|EFO:0003918,HP:00...|            12|\n",
      "|        CHEMBL1637|EFO:1001961,MONDO...|            54|\n",
      "|     CHEMBL1743017|EFO:0000274,EFO:0...|             3|\n",
      "|     CHEMBL2105675|EFO:1001875,EFO:0...|             5|\n",
      "|     CHEMBL2107826|EFO:1000781,EFO:0...|             5|\n",
      "|     CHEMBL2107840|          HP:0002153|             1|\n",
      "|     CHEMBL2346976|       MONDO:0008315|             1|\n",
      "|     CHEMBL3181832|         EFO:0003102|             1|\n",
      "|     CHEMBL3545096|MONDO:0016063,MON...|             3|\n",
      "|     CHEMBL3545103|EFO:0000341,MONDO...|             2|\n",
      "|     CHEMBL3545145|         EFO:0000616|             1|\n",
      "|      CHEMBL363648|         EFO:0000685|             1|\n",
      "|     CHEMBL3707249|EFO:0000341,MONDO...|             2|\n",
      "|     CHEMBL3989766|MP:0001845,EFO:00...|             5|\n",
      "|     CHEMBL3989990|EFO:0000182,EFO:0...|             2|\n",
      "|     CHEMBL4297519|         EFO:1001272|             1|\n",
      "|     CHEMBL4297785|EFO:0000681,EFO:0...|             8|\n",
      "|      CHEMBL466659|         EFO:0000319|             1|\n",
      "|      CHEMBL471737|EFO:0006834,EFO:0...|            19|\n",
      "+------------------+--------------------+--------------+\n",
      "only showing top 20 rows\n",
      "\n"
     ]
    },
    {
     "data": {
      "text/plain": [
       "5019"
      ]
     },
     "execution_count": 164,
     "metadata": {},
     "output_type": "execute_result"
    }
   ],
   "source": [
    "# Group by drugs from ChEMBL Drug-Indication pairs + MoA\n",
    "\n",
    "DI_from_moa_drug = drug_indication_moa_notnull.select(\"efo_id\", 'molecule_chembl_id')\\\n",
    "                                        .dropDuplicates()\\\n",
    "                                        .groupBy(\"molecule_chembl_id\")\\\n",
    "                                        .agg(\n",
    "                                            concat_ws(\",\", collect_set(\"efo_id\")).alias(\"efo_id\"),\n",
    "                                            count(\"efo_id\").alias(\"diseaseCount_2\")\n",
    "                                        )\n",
    "\n",
    "DI_from_moa_drug.show()\n",
    "DI_from_moa_drug.count()"
   ]
  },
  {
   "cell_type": "code",
   "execution_count": 165,
   "metadata": {},
   "outputs": [
    {
     "name": "stderr",
     "output_type": "stream",
     "text": [
      "                                                                                \r"
     ]
    },
    {
     "name": "stdout",
     "output_type": "stream",
     "text": [
      "+-------------+--------------------+------------+--------------------+--------------+----------+\n",
      "|       drugId|          diseaseIds|diseaseCount|              efo_id|diseaseCount_2|difference|\n",
      "+-------------+--------------------+------------+--------------------+--------------+----------+\n",
      "|   CHEMBL1487|MONDO_0002492,EFO...|         144|HP:0001258,Orphan...|            19|       125|\n",
      "| CHEMBL384467|EFO_0010822,MONDO...|         381|EFO:0007141,EFO:0...|           284|        97|\n",
      "|CHEMBL1201302|EFO_0000729,EFO_1...|          93|MONDO:0005129,EFO...|             6|        87|\n",
      "|    CHEMBL481|EFO_1000419,EFO_0...|         164|EFO:1001961,MONDO...|            83|        81|\n",
      "|     CHEMBL79|EFO_1000910,EFO_0...|         187|HP:0003418,EFO:00...|           112|        75|\n",
      "|     CHEMBL84|MONDO_0003076,EFO...|          83|MONDO:0018364,EFO...|            11|        72|\n",
      "|    CHEMBL941|EFO_0001361,EFO_0...|         118|EFO:0000349,EFO:0...|            47|        71|\n",
      "|  CHEMBL53463|EFO_0011061,EFO_0...|         190|EFO:0000564,EFO:0...|           122|        68|\n",
      "|CHEMBL3186534|MONDO_0003060,EFO...|          70|EFO:0000616,EFO:0...|             4|        66|\n",
      "| CHEMBL428647|EFO_1000419,EFO_1...|         220|EFO:0002618,EFO:0...|           156|        64|\n",
      "|    CHEMBL526|EFO_0007486,EFO_0...|         116|EFO:0003869,EFO:0...|            52|        64|\n",
      "|    CHEMBL778|EFO_0002610,EFO_0...|         122|EFO:0009267,EFO:0...|            60|        62|\n",
      "|CHEMBL3137343|EFO_1000256,EFO_0...|         227|EFO:0002618,EFO:0...|           167|        60|\n",
      "|   CHEMBL1431|EFO_1000419,EFO_0...|         201|HP:0001268,EFO:10...|           141|        60|\n",
      "|CHEMBL1201583|EFO_1000256,EFO_0...|         256|EFO:0004243,EFO:0...|           200|        56|\n",
      "|CHEMBL1201265|EFO_1001222,EFO_0...|          56|MONDO:0005301,EFO...|             2|        54|\n",
      "|     CHEMBL83|EFO_0003869,EFO_1...|          57|EFO:0000305,EFO:0...|             3|        54|\n",
      "|   CHEMBL1336|EFO_1000256,EFO_0...|         122|EFO:0004142,EFO:0...|            71|        51|\n",
      "|   CHEMBL1098|EFO_0011061,EFO_1...|         119|EFO:1001267,EFO:0...|            68|        51|\n",
      "|     CHEMBL70|MONDO_0024647,EFO...|          91|HP:0003418,EFO:00...|            42|        49|\n",
      "+-------------+--------------------+------------+--------------------+--------------+----------+\n",
      "only showing top 20 rows\n",
      "\n"
     ]
    },
    {
     "data": {
      "text/plain": [
       "4129"
      ]
     },
     "execution_count": 165,
     "metadata": {},
     "output_type": "execute_result"
    }
   ],
   "source": [
    "# Merge 2 datasets to see difference in amount of diseases per drug\n",
    "\n",
    "# List of columns from DI_from_moa_drug table\n",
    "list_DI_from_moa_drug = [\"efo_id\", \"diseaseCount_2\"]\n",
    "                 \n",
    "# Join tables by molecule_chembl_id\n",
    "drug_indications = join_dataframes(OT_chembl_evidence_drug, DI_from_moa_drug, \n",
    "                                      \"drugId\", \"molecule_chembl_id\", \n",
    "                                      list_DI_from_moa_drug)\n",
    "\n",
    "drug_indications_compare = drug_indications.withColumn(\"difference\", col(\"diseaseCount\") - col(\"diseaseCount_2\"))\\\n",
    "                                        .filter(col(\"difference\").isNotNull())\n",
    "\n",
    "drug_indications_compare.orderBy(col(\"difference\").desc()).show()\n",
    "assert drug_indications_compare.count() == 4129\n",
    "drug_indications_compare.count()"
   ]
  },
  {
   "cell_type": "code",
   "execution_count": 90,
   "metadata": {},
   "outputs": [
    {
     "data": {
      "text/plain": [
       "[Row(drugId='CHEMBL1637', diseaseIds='EFO_0011061,EFO_0004708,EFO_0001075,MONDO_0003890,EFO_0000681,EFO_1000231,MONDO_0004992,EFO_1001951,EFO_0000565,EFO_1001952,MONDO_0015760,EFO_0000588,EFO_0000096,EFO_1000359,MONDO_0002974,MONDO_0008903,EFO_1000251,MONDO_0005411,EFO_0008528,EFO_0001416,EFO_0002618,Orphanet_145,MONDO_0019465,EFO_0000466,MONDO_0021321,MONDO_0008170,EFO_1001973,MONDO_0004986,MONDO_0008627,MONDO_0008315,MONDO_0044791,EFO_1001959,MONDO_0002691,MONDO_0044889,EFO_0005537,EFO_0000574,EFO_1001051,EFO_0006544,EFO_0001378,EFO_1000613,EFO_1000624,EFO_1000172,EFO_1000412,MONDO_0015686,MONDO_0004192,EFO_0007532,MONDO_0007254,EFO_1001469,EFO_0004252,MONDO_0002087,EFO_0000305,MONDO_0020654,MONDO_0001187,MONDO_0001056,EFO_1000044,EFO_1000043,MONDO_0002158,EFO_1001974,MONDO_0016537,EFO_0000183,EFO_1001963,EFO_0002914,EFO_0000616,EFO_0006859,EFO_1000314,EFO_0000313,EFO_0003060,EFO_0006738,EFO_1001961,HP_0001907,EFO_0000304,EFO_0006861,EFO_0006475,EFO_0002517,MONDO_0011962,MONDO_0002367,EFO_0000691', diseaseCount=77, efo_id='EFO:1001961,MONDO:0005411,EFO:0001378,EFO:0000096,MONDO:0004986,MONDO:0004192,EFO:1000043,EFO:0001075,EFO:0006861,EFO:1001951,MONDO:0015760,EFO:1001051,EFO:0000681,EFO:0002517,EFO:1001959,EFO:0000574,EFO:0000305,EFO:0000588,MONDO:0016537,EFO:0006475,EFO:0006738,MONDO:0007254,MONDO:0001056,MONDO:0008170,EFO:0004252,EFO:1000613,EFO:0000616,EFO:0003060,EFO:1001469,MONDO:0002158,MONDO:0008627,MONDO:0008903,EFO:0000313,EFO:0003859,EFO:0000183,EFO:1000251,MONDO:0002691,EFO:0000565,EFO:0005537,EFO:0006859,EFO:0000691,MONDO:0011962,MONDO:0002367,EFO:0000466,HP:0001907,EFO:0008528,MONDO:0002974,Orphanet:145,MONDO:0002087,EFO:0000311,MONDO:0008315,EFO:0001416,MONDO:0001187,EFO:0002618', diseaseCount_2=54, difference=23)]"
      ]
     },
     "execution_count": 90,
     "metadata": {},
     "output_type": "execute_result"
    }
   ],
   "source": [
    "drug_indications_compare.head(1)"
   ]
  },
  {
   "cell_type": "code",
   "execution_count": 89,
   "metadata": {},
   "outputs": [],
   "source": [
    "# drug_indications_compare.filter(\"drugId = CHEMBL4297785\")"
   ]
  },
  {
   "cell_type": "code",
   "execution_count": 42,
   "metadata": {},
   "outputs": [
    {
     "name": "stdout",
     "output_type": "stream",
     "text": [
      "+--------------------+----------------------+------------------+\n",
      "|diseaseCount_average|diseaseCount_2_average|difference_average|\n",
      "+--------------------+----------------------+------------------+\n",
      "|   10.61576239476146|     8.704258862717106|2.0668570068998333|\n",
      "+--------------------+----------------------+------------------+\n",
      "\n"
     ]
    }
   ],
   "source": [
    "average_df = drug_indications_compare.agg(avg(\"diseaseCount\").alias(\"diseaseCount_average\"),\n",
    "                                          avg(\"diseaseCount_2\").alias(\"diseaseCount_2_average\"),\n",
    "                                          avg(\"difference\").alias(\"difference_average\"))\n",
    "\n",
    "average_df.show()"
   ]
  },
  {
   "cell_type": "code",
   "execution_count": null,
   "metadata": {},
   "outputs": [],
   "source": []
  },
  {
   "cell_type": "code",
   "execution_count": null,
   "metadata": {},
   "outputs": [],
   "source": []
  },
  {
   "cell_type": "code",
   "execution_count": null,
   "metadata": {},
   "outputs": [],
   "source": []
  },
  {
   "cell_type": "code",
   "execution_count": null,
   "metadata": {},
   "outputs": [],
   "source": []
  },
  {
   "cell_type": "code",
   "execution_count": null,
   "metadata": {},
   "outputs": [],
   "source": []
  },
  {
   "cell_type": "code",
   "execution_count": null,
   "metadata": {},
   "outputs": [],
   "source": []
  },
  {
   "cell_type": "code",
   "execution_count": null,
   "metadata": {},
   "outputs": [],
   "source": []
  },
  {
   "cell_type": "code",
   "execution_count": null,
   "metadata": {},
   "outputs": [],
   "source": []
  },
  {
   "cell_type": "code",
   "execution_count": null,
   "metadata": {},
   "outputs": [],
   "source": []
  },
  {
   "cell_type": "code",
   "execution_count": null,
   "metadata": {},
   "outputs": [],
   "source": []
  },
  {
   "cell_type": "code",
   "execution_count": null,
   "metadata": {},
   "outputs": [],
   "source": []
  },
  {
   "cell_type": "code",
   "execution_count": null,
   "metadata": {},
   "outputs": [],
   "source": []
  },
  {
   "cell_type": "code",
   "execution_count": null,
   "metadata": {},
   "outputs": [],
   "source": []
  },
  {
   "cell_type": "code",
   "execution_count": null,
   "metadata": {},
   "outputs": [],
   "source": []
  },
  {
   "cell_type": "code",
   "execution_count": null,
   "metadata": {},
   "outputs": [],
   "source": []
  },
  {
   "cell_type": "code",
   "execution_count": null,
   "metadata": {},
   "outputs": [],
   "source": []
  },
  {
   "cell_type": "code",
   "execution_count": null,
   "metadata": {},
   "outputs": [],
   "source": []
  },
  {
   "cell_type": "code",
   "execution_count": null,
   "metadata": {},
   "outputs": [],
   "source": []
  },
  {
   "cell_type": "code",
   "execution_count": 7,
   "metadata": {},
   "outputs": [],
   "source": [
    "# Take list of unique drugs (obtained from target with evidence in Platform or chemProbes)\n",
    "import pandas as pd\n",
    "\n",
    "unique_drugs_pd_df = pd.read_csv(\"../data/drug_to_target_unique_drugs.csv\")\n",
    "drug_list = spark.createDataFrame(unique_drugs_pd_df)\n",
    "# drug_list = spark.read.csv(drug_list_dir, header=True, inferSchema=True)\n",
    "# drug_list.show()"
   ]
  },
  {
   "cell_type": "code",
   "execution_count": 8,
   "metadata": {},
   "outputs": [],
   "source": [
    "# in_drugs = count_unique_values(drug_list, \"drugId\")\n",
    "# print(\"Number of initial drugs: \", in_drugs)"
   ]
  },
  {
   "cell_type": "markdown",
   "metadata": {},
   "source": [
    "### For each drug find a max phase of clinical trial"
   ]
  },
  {
   "cell_type": "code",
   "execution_count": 9,
   "metadata": {},
   "outputs": [
    {
     "name": "stderr",
     "output_type": "stream",
     "text": [
      "24/01/23 17:03:46 WARN CacheManager: Asked to cache already cached data.        \n"
     ]
    }
   ],
   "source": [
    "molecule_path = \"gs://open-targets-data-releases/23.12/output/etl/json/molecule\"\n",
    "molecule = spark.read.json(molecule_path)\n",
    "molecule.persist()\n",
    "\n",
    "# List of columns from molecule table\n",
    "list_molecule = [\"drugType\", \n",
    "                \"maximumClinicalTrialPhase\", \n",
    "                \"isApproved\", \n",
    "                \"linkedTargets\", \n",
    "                \"linkedDiseases\",\n",
    "                \"crossReferences\"]\n",
    "                 \n",
    "# Join list of drugs and max_phase from molecule table\n",
    "drug_list_phase = join_dataframes(drug_list, molecule, \"drugId\", \"id\", list_molecule).persist()\n",
    "\n",
    "# # Show number of drugs by approval status\n",
    "# print(\"Number of drugs by approval status: \")\n",
    "# show_unique_values_and_counts(drug_list_phase, \"isApproved\")"
   ]
  },
  {
   "cell_type": "code",
   "execution_count": 10,
   "metadata": {},
   "outputs": [
    {
     "name": "stderr",
     "output_type": "stream",
     "text": [
      "[Stage 2:>                                                          (0 + 1) / 1]\r"
     ]
    },
    {
     "name": "stdout",
     "output_type": "stream",
     "text": [
      "+---------------+--------------------+--------------------+--------------------+--------------------+--------------+----------------+-------------+--------------------+----------+--------------------+--------------------+-------------------------+--------------------+-------------+--------------------+--------------------+-------------------+\n",
      "|blackBoxWarning|     canonicalSmiles|      childChemblIds|     crossReferences|         description|      drugType|hasBeenWithdrawn|           id|            inchiKey|isApproved|      linkedDiseases|       linkedTargets|maximumClinicalTrialPhase|                name|     parentId|            synonyms|          tradeNames|yearOfFirstApproval|\n",
      "+---------------+--------------------+--------------------+--------------------+--------------------+--------------+----------------+-------------+--------------------+----------+--------------------+--------------------+-------------------------+--------------------+-------------+--------------------+--------------------+-------------------+\n",
      "|          false|Cc1cc(CN2CCN(c3c(...|                null|                null|Small molecule drug.|Small molecule|           false|CHEMBL1086582|UUGWPYPNRZQDFO-UH...|      null|                null|                null|                     null|       CHEMBL1086582|         null|                  []|                  []|               null|\n",
      "|          false|CNCc1ccc(-c2[nH]c...|[CHEMBL2105733, C...|{[rucaparib%20cam...|Small molecule dr...|Small molecule|           false|CHEMBL1173055|HMABYWSNWIZPAG-UH...|      true|{24, [EFO_0003060...|{3, [ENSG00000143...|                      4.0|           RUCAPARIB|         null|[AG-014699, AG-14...|                  []|               2016|\n",
      "|          false|CC(=O)N(c1onc(C)c...|                null|{[sulfisoxazole%2...|Small molecule dr...|Small molecule|           false|CHEMBL1200910|JFNWFXVFBDDWCX-UH...|      true|                null|             {0, []}|                      4.0|SULFISOXAZOLE ACETYL|         null|[Acetyl sulfafura...|[Gantrisin, Gantr...|               1953|\n",
      "|          false|COc1ccc(C[C@@H]2c...|     [CHEMBL1200641]|{[cisatracurium%2...|Small molecule dr...|Small molecule|           false|CHEMBL1201248|YXSLJKQTIDHPOT-LJ...|      true|  {1, [EFO_1000637]}|{5, [ENSG00000138...|                      4.0|       CISATRACURIUM|         null|[Cisatracurium, C...|            [Nimbex]|               1995|\n",
      "|           true|                null|                null|{[estrogens,%20es...|Small molecule dr...|Small molecule|           false|CHEMBL1201468|                null|      true|{5, [EFO_1000096,...|{2, [ENSG00000140...|                      4.0|ESTROGENS, ESTERI...|         null|[Esterified estro...|[Amnestrogen, Est...|               1977|\n",
      "|          false|                null|                null|{[hyaluronidase%2...|Enzyme drug with ...|        Enzyme|           false|CHEMBL1201718|                null|      true|{20, [EFO_1000668...|                null|                      4.0|HYALURONIDASE (HU...|         null|[Chemophase, Enha...|[Cumulase, Hylene...|               2005|\n",
      "|           true|CC(=O)Oc1cc2c(s1)...|     [CHEMBL1201773]|{[prasugrel%20hyd...|Small molecule dr...|Small molecule|           false|CHEMBL1201772|DTGLZDAWLRGWQN-UH...|      true|{17, [EFO_0003777...|{1, [ENSG00000169...|                      4.0|           PRASUGREL|         null|[LY-640315, NSC-7...|            [Efient]|               2009|\n",
      "|          false|COc1ccc(-c2cc3c(C...|                null|{null, null, null...|Small molecule dr...|Small molecule|           false|CHEMBL1234354|XDLYKKIQACFMJG-WK...|     false|{3, [EFO_0003869,...|{9, [ENSG00000198...|                      2.0|         PF-04691502|         null|[PF-04691502, PF-...|                  []|               null|\n",
      "|          false|Cc1ccc(C(C)C)cc2c...|                null|{null, null, [170...|Small molecule dr...|Small molecule|           false|CHEMBL1408759|FWKQNCXZGNBPFD-UH...|     false|  {1, [EFO_0003966]}|                null|                     -1.0|          GUAIAZULEN|         null|[Guaiazulen, Guai...|                  []|               null|\n",
      "|          false|O=c1[nH]c2ccccc2n...|                null|{[pimozide], null...|Small molecule dr...|Small molecule|           false|   CHEMBL1423|YVUQSNJEYSNKRX-UH...|      true|{6, [MONDO_000509...|{6, [ENSG00000149...|                      4.0|            PIMOZIDE|         null|[MCN-JR-6238, NSC...|    [Orap, Pimozide]|               1984|\n",
      "|          false|CC[C@H]1OC(=O)[C@...|                null|{null, null, [144...|Small molecule drug.|Small molecule|           false|CHEMBL1476500|RXZBMPWDPOLZGW-HI...|      null|                null|                null|                     null|       CHEMBL1476500|         null|                  []|                  []|               null|\n",
      "|          false|           Cn1ccnc1S|                null|{[methimazole], n...|Small molecule dr...|Small molecule|           false|   CHEMBL1515|PMRYVIKBURPHAH-UH...|      true|{6, [HP_0000820, ...|{1, [ENSG00000115...|                      4.0|         METHIMAZOLE|         null|[Mercaptizole, Me...|[Favistan, Methim...|               1950|\n",
      "|          false|    c1ccc2[nH]ccc2c1|                null|{null, null, [144...|Small molecule drug.|Small molecule|           false|  CHEMBL15844|SIKJAQJRHWYJAI-UH...|      null|                null|                null|                     null|              INDOLE|         null|            [Indole]|                  []|               null|\n",
      "|          false|COc1cccc(N(C)C(=S...|                null|{null, null, [144...|Small molecule drug.|Small molecule|           false|CHEMBL1591365|VPHPQNGOVQYUMG-UH...|     false|                null|             {0, []}|                     -1.0|         LIRANAFTATE|         null|[Liranaftate, Pir...|                  []|               null|\n",
      "|          false|             CC(N)=O|                null|{null, null, [111...|Small molecule drug.|Small molecule|           false|  CHEMBL16081|DLFVBJFMPXGRIB-UH...|      null|                null|                null|                     null|           ACETAMIDE|         null|         [Acetamide]|                  []|               null|\n",
      "|          false|Nc1nc(=O)c2nc(CNc...|     [CHEMBL2107429]|{[folic%20acid], ...|Small molecule dr...|Small molecule|           false|   CHEMBL1622|OVBPIULPVIDEAO-LB...|      true|{71, [EFO_1001231...|                null|                      4.0|          FOLIC ACID|         null|[Acidum folicum, ...|[Bio science, Fol...|               null|\n",
      "|          false|C=C1C[C@@H]2CC[C@...|                null|{[eribulin%20mesy...|Small molecule dr...|Small molecule|           false|CHEMBL1683544|QAMYWGZHLCQOOJ-WR...|      true|{20, [EFO_0003060...|{15, [ENSG0000018...|                      4.0|   ERIBULIN MESYLATE|CHEMBL1683590|[E-7389, E7389, E...|           [Halaven]|               2010|\n",
      "|           true|COc1cc(N)c(Cl)cc1...|     [CHEMBL1200788]|{null, null, [144...|Small molecule dr...|Small molecule|            true|   CHEMBL1729|DCSUBABJRXZOMT-UH...|      true|  {1, [EFO_0010282]}|{1, [ENSG00000164...|                      4.0|           CISAPRIDE|         null|[Cisapride, Cisap...|[Alimix, Prepulsi...|               1993|\n",
      "|          false|                null|                null|                null|Antibody drug wit...|      Antibody|           false|CHEMBL1743065|                null|     false|                null|{1, [ENSG00000187...|                      2.0|           ROLEDUMAB|         null|         [Roledumab]|                  []|               null|\n",
      "|           true|N#CC[C@H](C1CCCC1...|[CHEMBL1795071, C...|{[ruxolitinib%20p...|Small molecule dr...|Small molecule|           false|CHEMBL1789941|HFNKQEVNSGCOJV-OA...|      true|{70, [EFO_0003086...|{2, [ENSG00000162...|                      4.0|         RUXOLITINIB|         null|[INC-424, INC424,...|            [Jakavi]|               2011|\n",
      "+---------------+--------------------+--------------------+--------------------+--------------------+--------------+----------------+-------------+--------------------+----------+--------------------+--------------------+-------------------------+--------------------+-------------+--------------------+--------------------+-------------------+\n",
      "only showing top 20 rows\n",
      "\n"
     ]
    },
    {
     "name": "stderr",
     "output_type": "stream",
     "text": [
      "                                                                                \r"
     ]
    }
   ],
   "source": [
    "molecule.show()"
   ]
  },
  {
   "cell_type": "markdown",
   "metadata": {},
   "source": [
    "### For each unique drug find bioactivity data from chembl_33_activity"
   ]
  },
  {
   "cell_type": "code",
   "execution_count": 11,
   "metadata": {},
   "outputs": [
    {
     "name": "stderr",
     "output_type": "stream",
     "text": [
      "                                                                                \r"
     ]
    }
   ],
   "source": [
    "activity_path = \"gs://open-targets-pre-data-releases/chembl-columns/chembl-inputs/chembl_33_activity.jsonl\"\n",
    "activity = spark.read.json(activity_path)\n",
    "activity.persist()\n",
    "\n",
    "# List of columns from activity table\n",
    "list_activity = [\"assay_chembl_id\",\n",
    "                \"assay_type\",\n",
    "                \"action_type\",\n",
    "                \"pchembl_value\",\n",
    "                \"standard_type\",\n",
    "                \"standard_units\",\n",
    "                \"standard_value\",\n",
    "                \"standard_relation\",\n",
    "                \"target_organism\",\n",
    "                \"target_pref_name\",\n",
    "                \"target_chembl_id\",\n",
    "                \"data_validity_comment\",\n",
    "                \"data_validity_description\"]\n",
    "                # \"standard_flag\",\n",
    "                # \"ligand_efficiency\",\n",
    "                # \"assay_variant_mutation\"\n",
    "                # \"assay_variant_accession\"\n",
    "\n",
    "# Join list of drugs and chembl_33_activity\n",
    "drug_to_activity = join_dataframes(drug_list_phase, activity, \"drugId\", \"molecule_chembl_id\", list_activity)\\\n",
    "                                    .filter(col(\"assay_chembl_id\").isNotNull()).persist()\n",
    "\n",
    "# # Calculate for how many drugs and targets we have bioactivities\n",
    "# drug_list_count = count_unique_values(drug_list, 'drugId')\n",
    "# drug_to_activity_count = count_unique_values(drug_to_activity, 'drugId')\n",
    "# drug_to_activity_count_targets = count_unique_values(drug_to_activity, 'target_chembl_id')\n",
    "\n",
    "# print(\"Number of unique drugs from targets dataset: \", drug_list_count)\n",
    "# print(\"Number of unique drugs with any bioactivities: \", drug_to_activity_count)\n",
    "# print(\"Number of unique targets with any drug bioactivities: \", drug_to_activity_count_targets)"
   ]
  },
  {
   "cell_type": "markdown",
   "metadata": {},
   "source": [
    "### For each bioactivity assay find parameters from chembl_33_assay"
   ]
  },
  {
   "cell_type": "code",
   "execution_count": 12,
   "metadata": {},
   "outputs": [
    {
     "name": "stderr",
     "output_type": "stream",
     "text": [
      "24/01/23 17:04:00 WARN CacheManager: Asked to cache already cached data.        \n"
     ]
    }
   ],
   "source": [
    "assay_path = \"gs://open-targets-pre-data-releases/chembl-columns/chembl-inputs/chembl_33_assay.jsonl\"\n",
    "assay = spark.read.json(assay_path)\n",
    "assay.persist()\n",
    "\n",
    "# List of columns from assay table\n",
    "list_assay = [\"confidence_score\",\n",
    "            \"confidence_description\",\n",
    "            \"assay_category\"]\n",
    "\n",
    "drug_to_assay = join_dataframes(drug_to_activity, assay, \"assay_chembl_id\", \"assay_chembl_id\", list_assay).persist()"
   ]
  },
  {
   "cell_type": "markdown",
   "metadata": {},
   "source": [
    "## Assay filters"
   ]
  },
  {
   "cell_type": "code",
   "execution_count": 13,
   "metadata": {},
   "outputs": [],
   "source": [
    "# assay_type\n",
    "assay_type_filter = drug_to_assay.filter(\n",
    "    (col(\"assay_type\") != \"P\") &\n",
    "    (col(\"assay_type\") != \"U\"))\n",
    "# assay_type_d = count_unique_values(assay_type_filter, \"drugId\")\n",
    "# assay_type_t = count_unique_values(assay_type_filter, \"target_chembl_id\")\n",
    "\n",
    "# print(\"Unique drugs with bioactivities for non P and U assays:\", assay_type_d)\n",
    "# print(\"Unique targets with bioactivities for non P and U assays:\", assay_type_t)\n",
    "\n",
    "# confidence_score\n",
    "confidence_score_filter = assay_type_filter.filter(col(\"confidence_score\").isin([9, 7]))\n",
    "# confidence_score_d = count_unique_values(confidence_score_filter, \"drugId\")\n",
    "# confidence_score_t = count_unique_values(confidence_score_filter, \"target_chembl_id\")\n",
    "\n",
    "# print(\"Unique drugs with bioactivities for single/homolog proteins:\", confidence_score_d)\n",
    "# print(\"Unique targets with bioactivities for single/homolog proteins:\", confidence_score_t)\n",
    "\n",
    "# target_organism\n",
    "target_organism_filter = confidence_score_filter.filter(col(\"target_organism\") == \"Homo sapiens\")\n",
    "# target_organism_d = count_unique_values(target_organism_filter, \"drugId\")\n",
    "# target_organism_t = count_unique_values(target_organism_filter, \"target_chembl_id\")\n",
    "# drug_target_organism_t = target_organism_filter.count()\n",
    "\n",
    "# print(\"Unique drug-target pairs with bioactivities for human targets:\", drug_target_organism_t)\n",
    "\n",
    "# print(\"Unique drugs with bioactivities for human targets:\", target_organism_d)\n",
    "# print(\"Unique targets with bioactivities for human targets:\", target_organism_t)"
   ]
  },
  {
   "cell_type": "code",
   "execution_count": 14,
   "metadata": {},
   "outputs": [
    {
     "name": "stderr",
     "output_type": "stream",
     "text": [
      "                                                                                \r"
     ]
    },
    {
     "data": {
      "text/plain": [
       "18860"
      ]
     },
     "execution_count": 14,
     "metadata": {},
     "output_type": "execute_result"
    }
   ],
   "source": [
    "target_organism_filter.count()"
   ]
  },
  {
   "cell_type": "markdown",
   "metadata": {},
   "source": [
    "#### Adding related targets (to find tagrets within complexes in future)"
   ]
  },
  {
   "cell_type": "code",
   "execution_count": 15,
   "metadata": {},
   "outputs": [
    {
     "name": "stderr",
     "output_type": "stream",
     "text": [
      "24/01/23 17:04:23 WARN CacheManager: Asked to cache already cached data.\n"
     ]
    },
    {
     "name": "stdout",
     "output_type": "stream",
     "text": [
      "+-------------+--------------+-------------------------+----------+--------------------+--------------------+--------------------+---------------+----------+-----------+-------------+-------------+--------------+--------------+-----------------+---------------+--------------------+----------------+---------------------+-------------------------+----------------+----------------------+--------------+------------------------+\n",
      "|       drugId|      drugType|maximumClinicalTrialPhase|isApproved|       linkedTargets|      linkedDiseases|     crossReferences|assay_chembl_id|assay_type|action_type|pchembl_value|standard_type|standard_units|standard_value|standard_relation|target_organism|    target_pref_name|target_chembl_id|data_validity_comment|data_validity_description|confidence_score|confidence_description|assay_category|related_target_chembl_id|\n",
      "+-------------+--------------+-------------------------+----------+--------------------+--------------------+--------------------+---------------+----------+-----------+-------------+-------------+--------------+--------------+-----------------+---------------+--------------------+----------------+---------------------+-------------------------+----------------+----------------------+--------------+------------------------+\n",
      "| CHEMBL412262|Small molecule|                      2.0|     false|{1, [ENSG00000118...|{2, [MONDO_000514...|{null, null, null...|  CHEMBL1002988|         B|       null|         8.50|           Ki|            nM|         3.162|                =|   Homo sapiens|Cannabinoid CB1 r...|       CHEMBL218|                 null|                     null|               9|  Direct single pro...|          null|           CHEMBL2096981|\n",
      "| CHEMBL412262|Small molecule|                      2.0|     false|{1, [ENSG00000118...|{2, [MONDO_000514...|{null, null, null...|  CHEMBL1002988|         B|       null|         8.50|           Ki|            nM|         3.162|                =|   Homo sapiens|Cannabinoid CB1 r...|       CHEMBL218|                 null|                     null|               9|  Direct single pro...|          null|           CHEMBL3885538|\n",
      "| CHEMBL412262|Small molecule|                      2.0|     false|{1, [ENSG00000118...|{2, [MONDO_000514...|{null, null, null...|  CHEMBL1002988|         B|       null|         8.50|           Ki|            nM|         3.162|                =|   Homo sapiens|Cannabinoid CB1 r...|       CHEMBL218|                 null|                     null|               9|  Direct single pro...|          null|           CHEMBL3301387|\n",
      "|  CHEMBL17962|Small molecule|                      2.0|     false|                null|{3, [EFO_0000555,...|{null, null, [111...|  CHEMBL1008325|         B|       null|         null|         Kcat|        10'6/s|           4.3|                =|   Homo sapiens|Carbonic anhydras...|      CHEMBL3729|                 null|                     null|               9|  Direct single pro...|          null|           CHEMBL2095180|\n",
      "|  CHEMBL14762|Small molecule|                      2.0|     false|{5, [ENSG00000136...|{5, [MONDO_000906...|{null, null, [124...|  CHEMBL1051254|         B|       null|         null|           Kd|            nM|       10000.0|                >|   Homo sapiens|Protein kinase C ...|      CHEMBL3582|                 null|                     null|               9|  Direct single pro...|          null|           CHEMBL2093867|\n",
      "|  CHEMBL14762|Small molecule|                      2.0|     false|{5, [ENSG00000136...|{5, [MONDO_000906...|{null, null, [124...|  CHEMBL1051254|         B|       null|         null|           Kd|            nM|       10000.0|                >|   Homo sapiens|Protein kinase C ...|      CHEMBL3582|                 null|                     null|               9|  Direct single pro...|          null|           CHEMBL2096620|\n",
      "| CHEMBL483321|Small molecule|                      2.0|     false|{1, [ENSG00000141...|{3, [EFO_0003869,...|{null, null, [501...|  CHEMBL1063703|         B|       null|         null|           Kd|            nM|       10000.0|                >|   Homo sapiens|Casein kinase I i...|      CHEMBL5520|                 null|                     null|               9|  Direct single pro...|          null|                    null|\n",
      "| CHEMBL124660|Small molecule|                      2.0|     false|{3, [ENSG00000122...|{8, [EFO_1001465,...|{null, null, [103...|  CHEMBL1063703|         B|       null|         null|           Kd|            nM|       10000.0|                >|   Homo sapiens|Casein kinase I i...|      CHEMBL5520|                 null|                     null|               9|  Direct single pro...|          null|                    null|\n",
      "|   CHEMBL1421|Small molecule|                      4.0|      true|{15, [ENSG0000011...|{78, [EFO_0000768...|{[dasatinib], nul...|  CHEMBL1063703|         B|       null|         null|           Kd|            nM|       10000.0|                >|   Homo sapiens|Casein kinase I i...|      CHEMBL5520|                 null|                     null|               9|  Direct single pro...|          null|                    null|\n",
      "|  CHEMBL46516|Small molecule|                      4.0|      true|{1, [ENSG00000149...|{4, [EFO_0005230,...|{null, null, [104...|  CHEMBL1614310|         F|       null|         4.90|      Potency|            nM|       12589.3|                =|   Homo sapiens|        Prelamin-A/C|   CHEMBL1293235|                 null|                     null|               9|  Direct single pro...|  confirmatory|                    null|\n",
      "| CHEMBL207538|Small molecule|                      4.0|      true|{16, [ENSG0000002...|{9, [MONDO_000497...|{[brexanolone], n...|  CHEMBL1614310|         F|       null|         4.90|      Potency|            nM|       12589.3|                =|   Homo sapiens|        Prelamin-A/C|   CHEMBL1293235|                 null|                     null|               9|  Direct single pro...|  confirmatory|                    null|\n",
      "| CHEMBL413376|Small molecule|                      3.0|     false|{1, [ENSG00000113...|{15, [MONDO_00083...|{null, null, [111...|  CHEMBL1614310|         F|       null|         5.40|      Potency|            nM|        3981.1|                =|   Homo sapiens|        Prelamin-A/C|   CHEMBL1293235|                 null|                     null|               9|  Direct single pro...|  confirmatory|                    null|\n",
      "|    CHEMBL515|Small molecule|                      4.0|      true|                null|{12, [EFO_0004236...|{[chlorambucil], ...|  CHEMBL1614310|         F|       null|         4.80|      Potency|            nM|       15848.9|                =|   Homo sapiens|        Prelamin-A/C|   CHEMBL1293235|                 null|                     null|               9|  Direct single pro...|  confirmatory|                    null|\n",
      "|   CHEMBL1240|Small molecule|                      4.0|      true|{3, [ENSG00000168...|{2, [MONDO_000424...|{null, null, [144...|  CHEMBL1614310|         F|       null|         4.90|      Potency|            nM|       12589.3|                =|   Homo sapiens|        Prelamin-A/C|   CHEMBL1293235|                 null|                     null|               9|  Direct single pro...|  confirmatory|                    null|\n",
      "|   CHEMBL1480|Small molecule|                      4.0|      true|{5, [ENSG00000151...|{7, [EFO_0003914,...|{[felodipine], nu...|  CHEMBL1614310|         F|       null|         4.45|      Potency|            nM|       35481.3|                =|   Homo sapiens|        Prelamin-A/C|   CHEMBL1293235|                 null|                     null|               9|  Direct single pro...|  confirmatory|                    null|\n",
      "|CHEMBL1448187|Small molecule|                      4.0|      true|{1, [ENSG00000149...|  {1, [EFO_0001378]}|{[fluphenazine%20...|  CHEMBL1614310|         F|       null|         4.60|      Potency|            nM|       25118.9|                =|   Homo sapiens|        Prelamin-A/C|   CHEMBL1293235|                 null|                     null|               9|  Direct single pro...|  confirmatory|                    null|\n",
      "|  CHEMBL14762|Small molecule|                      2.0|     false|{5, [ENSG00000136...|{5, [MONDO_000906...|{null, null, [124...|  CHEMBL1767714|         B|       null|         null|   Inhibition|             %|           1.0|                =|   Homo sapiens|Casein kinase I a...|      CHEMBL2793|                 null|                     null|               9|  Direct single pro...|          null|           CHEMBL3038493|\n",
      "|  CHEMBL14762|Small molecule|                      2.0|     false|{5, [ENSG00000136...|{5, [MONDO_000906...|{null, null, [124...|  CHEMBL1767714|         B|       null|         null|   Inhibition|             %|           1.0|                =|   Homo sapiens|Casein kinase I a...|      CHEMBL2793|                 null|                     null|               9|  Direct single pro...|          null|           CHEMBL4523610|\n",
      "|  CHEMBL14762|Small molecule|                      2.0|     false|{5, [ENSG00000136...|{5, [MONDO_000906...|{null, null, [124...|  CHEMBL1767714|         B|       null|         null|   Inhibition|             %|           1.0|                =|   Homo sapiens|Casein kinase I a...|      CHEMBL2793|                 null|                     null|               9|  Direct single pro...|          null|           CHEMBL4296102|\n",
      "|  CHEMBL14762|Small molecule|                      2.0|     false|{5, [ENSG00000136...|{5, [MONDO_000906...|{null, null, [124...|  CHEMBL1767714|         B|       null|         null|   Inhibition|             %|           1.0|                =|   Homo sapiens|Casein kinase I a...|      CHEMBL2793|                 null|                     null|               9|  Direct single pro...|          null|           CHEMBL3885539|\n",
      "+-------------+--------------+-------------------------+----------+--------------------+--------------------+--------------------+---------------+----------+-----------+-------------+-------------+--------------+--------------+-----------------+---------------+--------------------+----------------+---------------------+-------------------------+----------------+----------------------+--------------+------------------------+\n",
      "only showing top 20 rows\n",
      "\n"
     ]
    }
   ],
   "source": [
    "target_relation_path = \"gs://open-targets-pre-data-releases/chembl-columns/chembl-inputs/chembl_33_target_relation.jsonl\"\n",
    "target_relation = spark.read.json(target_relation_path)\n",
    "target_relation.persist()\n",
    "# target_relation.show()\n",
    "\n",
    "list_target_relation = [\"related_target_chembl_id\"]\n",
    "\n",
    "target_relation_add = join_dataframes(target_organism_filter, target_relation, \"target_chembl_id\", \"target_chembl_id\", list_target_relation).persist()\n",
    "target_relation_add.show()\n",
    "# # Aggregate the data\n",
    "# aggregated_df = target_relation_add.groupBy('target_chembl_id').agg(\n",
    "#     collect_list('related_target_chembl_id').alias('related_target_chembl_id_aggr')\n",
    "# )\n",
    "\n",
    "# # Merge the Aggregated Data with target_organism_filter\n",
    "# target_with_relation = target_organism_filter.join(aggregated_df, on='target_chembl_id', how='left')\n",
    "# target_with_relation.show()\n",
    "# target_with_relation.count()"
   ]
  },
  {
   "cell_type": "code",
   "execution_count": 16,
   "metadata": {},
   "outputs": [],
   "source": [
    "# show_unique_values_and_counts(target_relation_add, \"relationship\")"
   ]
  },
  {
   "cell_type": "markdown",
   "metadata": {},
   "source": [
    "### Protein classification by uniprot from SwissProt"
   ]
  },
  {
   "cell_type": "code",
   "execution_count": 17,
   "metadata": {},
   "outputs": [
    {
     "name": "stderr",
     "output_type": "stream",
     "text": [
      "24/01/23 17:04:26 WARN package: Truncated the string representation of a plan since it was too large. This behavior can be adjusted by setting 'spark.sql.debug.maxToStringFields'.\n",
      "24/01/23 17:04:26 WARN CacheManager: Asked to cache already cached data.\n"
     ]
    }
   ],
   "source": [
    "# Map target_chembl_id to uniprots via accession\n",
    "\n",
    "target_path = \"gs://open-targets-pre-data-releases/chembl-columns/chembl-inputs/chembl_33_target.jsonl\"\n",
    "target = spark.read.json(target_path)\n",
    "target.persist()\n",
    "\n",
    "list_target = [\"target_components\",\n",
    "            \"target_type\"]\n",
    "\n",
    "target_to_uniprot = join_dataframes(target_relation_add, target, \"target_chembl_id\", \"target_chembl_id\", list_target).persist()\n",
    "\n",
    "# Explode target_components\n",
    "# Define a UDF to extract the 'accession' field\n",
    "def extract_accession(rows):\n",
    "    # Assuming you want to extract the 'accession' from the first Row object in the list\n",
    "    return rows[0].accession if rows else None\n",
    "\n",
    "# Register UDF\n",
    "extract_accession_udf = udf(extract_accession, StringType())\n",
    "\n",
    "# Apply UDF to create a new column with the 'accession' values\n",
    "target_to_uniprot_extr = target_to_uniprot.withColumn(\"accession\", extract_accession_udf(target_to_uniprot[\"target_components\"])).drop(\"target_components\")"
   ]
  },
  {
   "cell_type": "code",
   "execution_count": 18,
   "metadata": {},
   "outputs": [
    {
     "name": "stderr",
     "output_type": "stream",
     "text": [
      "[Stage 30:>                                                         (0 + 1) / 1]\r"
     ]
    },
    {
     "name": "stdout",
     "output_type": "stream",
     "text": [
      "+-------------+--------------+-------------------------+----------+--------------------+--------------------+--------------------+---------------+----------+-----------+-------------+-------------+--------------+--------------+-----------------+---------------+--------------------+----------------+---------------------+-------------------------+----------------+----------------------+--------------+------------------------+--------------+---------+\n",
      "|       drugId|      drugType|maximumClinicalTrialPhase|isApproved|       linkedTargets|      linkedDiseases|     crossReferences|assay_chembl_id|assay_type|action_type|pchembl_value|standard_type|standard_units|standard_value|standard_relation|target_organism|    target_pref_name|target_chembl_id|data_validity_comment|data_validity_description|confidence_score|confidence_description|assay_category|related_target_chembl_id|   target_type|accession|\n",
      "+-------------+--------------+-------------------------+----------+--------------------+--------------------+--------------------+---------------+----------+-----------+-------------+-------------+--------------+--------------+-----------------+---------------+--------------------+----------------+---------------------+-------------------------+----------------+----------------------+--------------+------------------------+--------------+---------+\n",
      "| CHEMBL412262|Small molecule|                      2.0|     false|{1, [ENSG00000118...|{2, [MONDO_000514...|{null, null, null...|  CHEMBL1002988|         B|       null|         8.50|           Ki|            nM|         3.162|                =|   Homo sapiens|Cannabinoid CB1 r...|       CHEMBL218|                 null|                     null|               9|  Direct single pro...|          null|           CHEMBL2096981|SINGLE PROTEIN|   P21554|\n",
      "| CHEMBL412262|Small molecule|                      2.0|     false|{1, [ENSG00000118...|{2, [MONDO_000514...|{null, null, null...|  CHEMBL1002988|         B|       null|         8.50|           Ki|            nM|         3.162|                =|   Homo sapiens|Cannabinoid CB1 r...|       CHEMBL218|                 null|                     null|               9|  Direct single pro...|          null|           CHEMBL3885538|SINGLE PROTEIN|   P21554|\n",
      "| CHEMBL412262|Small molecule|                      2.0|     false|{1, [ENSG00000118...|{2, [MONDO_000514...|{null, null, null...|  CHEMBL1002988|         B|       null|         8.50|           Ki|            nM|         3.162|                =|   Homo sapiens|Cannabinoid CB1 r...|       CHEMBL218|                 null|                     null|               9|  Direct single pro...|          null|           CHEMBL3301387|SINGLE PROTEIN|   P21554|\n",
      "|  CHEMBL17962|Small molecule|                      2.0|     false|                null|{3, [EFO_0000555,...|{null, null, [111...|  CHEMBL1008325|         B|       null|         null|         Kcat|        10'6/s|           4.3|                =|   Homo sapiens|Carbonic anhydras...|      CHEMBL3729|                 null|                     null|               9|  Direct single pro...|          null|           CHEMBL2095180|SINGLE PROTEIN|   P22748|\n",
      "|  CHEMBL14762|Small molecule|                      2.0|     false|{5, [ENSG00000136...|{5, [MONDO_000906...|{null, null, [124...|  CHEMBL1051254|         B|       null|         null|           Kd|            nM|       10000.0|                >|   Homo sapiens|Protein kinase C ...|      CHEMBL3582|                 null|                     null|               9|  Direct single pro...|          null|           CHEMBL2093867|SINGLE PROTEIN|   Q02156|\n",
      "|  CHEMBL14762|Small molecule|                      2.0|     false|{5, [ENSG00000136...|{5, [MONDO_000906...|{null, null, [124...|  CHEMBL1051254|         B|       null|         null|           Kd|            nM|       10000.0|                >|   Homo sapiens|Protein kinase C ...|      CHEMBL3582|                 null|                     null|               9|  Direct single pro...|          null|           CHEMBL2096620|SINGLE PROTEIN|   Q02156|\n",
      "| CHEMBL483321|Small molecule|                      2.0|     false|{1, [ENSG00000141...|{3, [EFO_0003869,...|{null, null, [501...|  CHEMBL1063703|         B|       null|         null|           Kd|            nM|       10000.0|                >|   Homo sapiens|Casein kinase I i...|      CHEMBL5520|                 null|                     null|               9|  Direct single pro...|          null|                    null|SINGLE PROTEIN|   Q8N752|\n",
      "| CHEMBL124660|Small molecule|                      2.0|     false|{3, [ENSG00000122...|{8, [EFO_1001465,...|{null, null, [103...|  CHEMBL1063703|         B|       null|         null|           Kd|            nM|       10000.0|                >|   Homo sapiens|Casein kinase I i...|      CHEMBL5520|                 null|                     null|               9|  Direct single pro...|          null|                    null|SINGLE PROTEIN|   Q8N752|\n",
      "|   CHEMBL1421|Small molecule|                      4.0|      true|{15, [ENSG0000011...|{78, [EFO_0000768...|{[dasatinib], nul...|  CHEMBL1063703|         B|       null|         null|           Kd|            nM|       10000.0|                >|   Homo sapiens|Casein kinase I i...|      CHEMBL5520|                 null|                     null|               9|  Direct single pro...|          null|                    null|SINGLE PROTEIN|   Q8N752|\n",
      "|  CHEMBL46516|Small molecule|                      4.0|      true|{1, [ENSG00000149...|{4, [EFO_0005230,...|{null, null, [104...|  CHEMBL1614310|         F|       null|         4.90|      Potency|            nM|       12589.3|                =|   Homo sapiens|        Prelamin-A/C|   CHEMBL1293235|                 null|                     null|               9|  Direct single pro...|  confirmatory|                    null|SINGLE PROTEIN|   P02545|\n",
      "| CHEMBL207538|Small molecule|                      4.0|      true|{16, [ENSG0000002...|{9, [MONDO_000497...|{[brexanolone], n...|  CHEMBL1614310|         F|       null|         4.90|      Potency|            nM|       12589.3|                =|   Homo sapiens|        Prelamin-A/C|   CHEMBL1293235|                 null|                     null|               9|  Direct single pro...|  confirmatory|                    null|SINGLE PROTEIN|   P02545|\n",
      "| CHEMBL413376|Small molecule|                      3.0|     false|{1, [ENSG00000113...|{15, [MONDO_00083...|{null, null, [111...|  CHEMBL1614310|         F|       null|         5.40|      Potency|            nM|        3981.1|                =|   Homo sapiens|        Prelamin-A/C|   CHEMBL1293235|                 null|                     null|               9|  Direct single pro...|  confirmatory|                    null|SINGLE PROTEIN|   P02545|\n",
      "|    CHEMBL515|Small molecule|                      4.0|      true|                null|{12, [EFO_0004236...|{[chlorambucil], ...|  CHEMBL1614310|         F|       null|         4.80|      Potency|            nM|       15848.9|                =|   Homo sapiens|        Prelamin-A/C|   CHEMBL1293235|                 null|                     null|               9|  Direct single pro...|  confirmatory|                    null|SINGLE PROTEIN|   P02545|\n",
      "|   CHEMBL1240|Small molecule|                      4.0|      true|{3, [ENSG00000168...|{2, [MONDO_000424...|{null, null, [144...|  CHEMBL1614310|         F|       null|         4.90|      Potency|            nM|       12589.3|                =|   Homo sapiens|        Prelamin-A/C|   CHEMBL1293235|                 null|                     null|               9|  Direct single pro...|  confirmatory|                    null|SINGLE PROTEIN|   P02545|\n",
      "|   CHEMBL1480|Small molecule|                      4.0|      true|{5, [ENSG00000151...|{7, [EFO_0003914,...|{[felodipine], nu...|  CHEMBL1614310|         F|       null|         4.45|      Potency|            nM|       35481.3|                =|   Homo sapiens|        Prelamin-A/C|   CHEMBL1293235|                 null|                     null|               9|  Direct single pro...|  confirmatory|                    null|SINGLE PROTEIN|   P02545|\n",
      "|CHEMBL1448187|Small molecule|                      4.0|      true|{1, [ENSG00000149...|  {1, [EFO_0001378]}|{[fluphenazine%20...|  CHEMBL1614310|         F|       null|         4.60|      Potency|            nM|       25118.9|                =|   Homo sapiens|        Prelamin-A/C|   CHEMBL1293235|                 null|                     null|               9|  Direct single pro...|  confirmatory|                    null|SINGLE PROTEIN|   P02545|\n",
      "|  CHEMBL14762|Small molecule|                      2.0|     false|{5, [ENSG00000136...|{5, [MONDO_000906...|{null, null, [124...|  CHEMBL1767714|         B|       null|         null|   Inhibition|             %|           1.0|                =|   Homo sapiens|Casein kinase I a...|      CHEMBL2793|                 null|                     null|               9|  Direct single pro...|          null|           CHEMBL3038493|SINGLE PROTEIN|   P48729|\n",
      "|  CHEMBL14762|Small molecule|                      2.0|     false|{5, [ENSG00000136...|{5, [MONDO_000906...|{null, null, [124...|  CHEMBL1767714|         B|       null|         null|   Inhibition|             %|           1.0|                =|   Homo sapiens|Casein kinase I a...|      CHEMBL2793|                 null|                     null|               9|  Direct single pro...|          null|           CHEMBL4523610|SINGLE PROTEIN|   P48729|\n",
      "|  CHEMBL14762|Small molecule|                      2.0|     false|{5, [ENSG00000136...|{5, [MONDO_000906...|{null, null, [124...|  CHEMBL1767714|         B|       null|         null|   Inhibition|             %|           1.0|                =|   Homo sapiens|Casein kinase I a...|      CHEMBL2793|                 null|                     null|               9|  Direct single pro...|          null|           CHEMBL4296102|SINGLE PROTEIN|   P48729|\n",
      "|  CHEMBL14762|Small molecule|                      2.0|     false|{5, [ENSG00000136...|{5, [MONDO_000906...|{null, null, [124...|  CHEMBL1767714|         B|       null|         null|   Inhibition|             %|           1.0|                =|   Homo sapiens|Casein kinase I a...|      CHEMBL2793|                 null|                     null|               9|  Direct single pro...|          null|           CHEMBL3885539|SINGLE PROTEIN|   P48729|\n",
      "+-------------+--------------+-------------------------+----------+--------------------+--------------------+--------------------+---------------+----------+-----------+-------------+-------------+--------------+--------------+-----------------+---------------+--------------------+----------------+---------------------+-------------------------+----------------+----------------------+--------------+------------------------+--------------+---------+\n",
      "only showing top 20 rows\n",
      "\n"
     ]
    },
    {
     "name": "stderr",
     "output_type": "stream",
     "text": [
      "                                                                                \r"
     ]
    }
   ],
   "source": [
    "target_to_uniprot_extr.show()"
   ]
  },
  {
   "cell_type": "code",
   "execution_count": 19,
   "metadata": {},
   "outputs": [
    {
     "name": "stderr",
     "output_type": "stream",
     "text": [
      "24/01/23 17:04:30 WARN CacheManager: Asked to cache already cached data.\n"
     ]
    },
    {
     "name": "stdout",
     "output_type": "stream",
     "text": [
      "+-------------+--------------+-------------------------+----------+--------------------+--------------------+--------------------+---------------+----------+-----------+-------------+-------------+--------------+--------------+-----------------+---------------+--------------------+----------------+---------------------+-------------------------+----------------+----------------------+--------------+------------------------+--------------+---------+-----------------+\n",
      "|       drugId|      drugType|maximumClinicalTrialPhase|isApproved|       linkedTargets|      linkedDiseases|     crossReferences|assay_chembl_id|assay_type|action_type|pchembl_value|standard_type|standard_units|standard_value|standard_relation|target_organism|    target_pref_name|target_chembl_id|data_validity_comment|data_validity_description|confidence_score|confidence_description|assay_category|related_target_chembl_id|   target_type|accession|accession_related|\n",
      "+-------------+--------------+-------------------------+----------+--------------------+--------------------+--------------------+---------------+----------+-----------+-------------+-------------+--------------+--------------+-----------------+---------------+--------------------+----------------+---------------------+-------------------------+----------------+----------------------+--------------+------------------------+--------------+---------+-----------------+\n",
      "| CHEMBL412262|Small molecule|                      2.0|     false|{1, [ENSG00000118...|{2, [MONDO_000514...|{null, null, null...|  CHEMBL1002988|         B|       null|         8.50|           Ki|            nM|         3.162|                =|   Homo sapiens|Cannabinoid CB1 r...|       CHEMBL218|                 null|                     null|               9|  Direct single pro...|          null|           CHEMBL2096981|SINGLE PROTEIN|   P21554|           P34972|\n",
      "| CHEMBL412262|Small molecule|                      2.0|     false|{1, [ENSG00000118...|{2, [MONDO_000514...|{null, null, null...|  CHEMBL1002988|         B|       null|         8.50|           Ki|            nM|         3.162|                =|   Homo sapiens|Cannabinoid CB1 r...|       CHEMBL218|                 null|                     null|               9|  Direct single pro...|          null|           CHEMBL3885538|SINGLE PROTEIN|   P21554|           P21554|\n",
      "| CHEMBL412262|Small molecule|                      2.0|     false|{1, [ENSG00000118...|{2, [MONDO_000514...|{null, null, null...|  CHEMBL1002988|         B|       null|         8.50|           Ki|            nM|         3.162|                =|   Homo sapiens|Cannabinoid CB1 r...|       CHEMBL218|                 null|                     null|               9|  Direct single pro...|          null|           CHEMBL3301387|SINGLE PROTEIN|   P21554|           P21554|\n",
      "|  CHEMBL17962|Small molecule|                      2.0|     false|                null|{3, [EFO_0000555,...|{null, null, [111...|  CHEMBL1008325|         B|       null|         null|         Kcat|        10'6/s|           4.3|                =|   Homo sapiens|Carbonic anhydras...|      CHEMBL3729|                 null|                     null|               9|  Direct single pro...|          null|           CHEMBL2095180|SINGLE PROTEIN|   P22748|           P00918|\n",
      "|  CHEMBL14762|Small molecule|                      2.0|     false|{5, [ENSG00000136...|{5, [MONDO_000906...|{null, null, [124...|  CHEMBL1051254|         B|       null|         null|           Kd|            nM|       10000.0|                >|   Homo sapiens|Protein kinase C ...|      CHEMBL3582|                 null|                     null|               9|  Direct single pro...|          null|           CHEMBL2093867|SINGLE PROTEIN|   Q02156|           O94806|\n",
      "|  CHEMBL14762|Small molecule|                      2.0|     false|{5, [ENSG00000136...|{5, [MONDO_000906...|{null, null, [124...|  CHEMBL1051254|         B|       null|         null|           Kd|            nM|       10000.0|                >|   Homo sapiens|Protein kinase C ...|      CHEMBL3582|                 null|                     null|               9|  Direct single pro...|          null|           CHEMBL2096620|SINGLE PROTEIN|   Q02156|           O94806|\n",
      "| CHEMBL483321|Small molecule|                      2.0|     false|{1, [ENSG00000141...|{3, [EFO_0003869,...|{null, null, [501...|  CHEMBL1063703|         B|       null|         null|           Kd|            nM|       10000.0|                >|   Homo sapiens|Casein kinase I i...|      CHEMBL5520|                 null|                     null|               9|  Direct single pro...|          null|                    null|SINGLE PROTEIN|   Q8N752|             null|\n",
      "| CHEMBL124660|Small molecule|                      2.0|     false|{3, [ENSG00000122...|{8, [EFO_1001465,...|{null, null, [103...|  CHEMBL1063703|         B|       null|         null|           Kd|            nM|       10000.0|                >|   Homo sapiens|Casein kinase I i...|      CHEMBL5520|                 null|                     null|               9|  Direct single pro...|          null|                    null|SINGLE PROTEIN|   Q8N752|             null|\n",
      "|   CHEMBL1421|Small molecule|                      4.0|      true|{15, [ENSG0000011...|{78, [EFO_0000768...|{[dasatinib], nul...|  CHEMBL1063703|         B|       null|         null|           Kd|            nM|       10000.0|                >|   Homo sapiens|Casein kinase I i...|      CHEMBL5520|                 null|                     null|               9|  Direct single pro...|          null|                    null|SINGLE PROTEIN|   Q8N752|             null|\n",
      "|  CHEMBL46516|Small molecule|                      4.0|      true|{1, [ENSG00000149...|{4, [EFO_0005230,...|{null, null, [104...|  CHEMBL1614310|         F|       null|         4.90|      Potency|            nM|       12589.3|                =|   Homo sapiens|        Prelamin-A/C|   CHEMBL1293235|                 null|                     null|               9|  Direct single pro...|  confirmatory|                    null|SINGLE PROTEIN|   P02545|             null|\n",
      "| CHEMBL207538|Small molecule|                      4.0|      true|{16, [ENSG0000002...|{9, [MONDO_000497...|{[brexanolone], n...|  CHEMBL1614310|         F|       null|         4.90|      Potency|            nM|       12589.3|                =|   Homo sapiens|        Prelamin-A/C|   CHEMBL1293235|                 null|                     null|               9|  Direct single pro...|  confirmatory|                    null|SINGLE PROTEIN|   P02545|             null|\n",
      "| CHEMBL413376|Small molecule|                      3.0|     false|{1, [ENSG00000113...|{15, [MONDO_00083...|{null, null, [111...|  CHEMBL1614310|         F|       null|         5.40|      Potency|            nM|        3981.1|                =|   Homo sapiens|        Prelamin-A/C|   CHEMBL1293235|                 null|                     null|               9|  Direct single pro...|  confirmatory|                    null|SINGLE PROTEIN|   P02545|             null|\n",
      "|    CHEMBL515|Small molecule|                      4.0|      true|                null|{12, [EFO_0004236...|{[chlorambucil], ...|  CHEMBL1614310|         F|       null|         4.80|      Potency|            nM|       15848.9|                =|   Homo sapiens|        Prelamin-A/C|   CHEMBL1293235|                 null|                     null|               9|  Direct single pro...|  confirmatory|                    null|SINGLE PROTEIN|   P02545|             null|\n",
      "|   CHEMBL1240|Small molecule|                      4.0|      true|{3, [ENSG00000168...|{2, [MONDO_000424...|{null, null, [144...|  CHEMBL1614310|         F|       null|         4.90|      Potency|            nM|       12589.3|                =|   Homo sapiens|        Prelamin-A/C|   CHEMBL1293235|                 null|                     null|               9|  Direct single pro...|  confirmatory|                    null|SINGLE PROTEIN|   P02545|             null|\n",
      "|   CHEMBL1480|Small molecule|                      4.0|      true|{5, [ENSG00000151...|{7, [EFO_0003914,...|{[felodipine], nu...|  CHEMBL1614310|         F|       null|         4.45|      Potency|            nM|       35481.3|                =|   Homo sapiens|        Prelamin-A/C|   CHEMBL1293235|                 null|                     null|               9|  Direct single pro...|  confirmatory|                    null|SINGLE PROTEIN|   P02545|             null|\n",
      "|CHEMBL1448187|Small molecule|                      4.0|      true|{1, [ENSG00000149...|  {1, [EFO_0001378]}|{[fluphenazine%20...|  CHEMBL1614310|         F|       null|         4.60|      Potency|            nM|       25118.9|                =|   Homo sapiens|        Prelamin-A/C|   CHEMBL1293235|                 null|                     null|               9|  Direct single pro...|  confirmatory|                    null|SINGLE PROTEIN|   P02545|             null|\n",
      "|  CHEMBL14762|Small molecule|                      2.0|     false|{5, [ENSG00000136...|{5, [MONDO_000906...|{null, null, [124...|  CHEMBL1767714|         B|       null|         null|   Inhibition|             %|           1.0|                =|   Homo sapiens|Casein kinase I a...|      CHEMBL2793|                 null|                     null|               9|  Direct single pro...|          null|           CHEMBL3038493|SINGLE PROTEIN|   P48729|           Q00987|\n",
      "|  CHEMBL14762|Small molecule|                      2.0|     false|{5, [ENSG00000136...|{5, [MONDO_000906...|{null, null, [124...|  CHEMBL1767714|         B|       null|         null|   Inhibition|             %|           1.0|                =|   Homo sapiens|Casein kinase I a...|      CHEMBL2793|                 null|                     null|               9|  Direct single pro...|          null|           CHEMBL4523610|SINGLE PROTEIN|   P48729|           P48730|\n",
      "|  CHEMBL14762|Small molecule|                      2.0|     false|{5, [ENSG00000136...|{5, [MONDO_000906...|{null, null, [124...|  CHEMBL1767714|         B|       null|         null|   Inhibition|             %|           1.0|                =|   Homo sapiens|Casein kinase I a...|      CHEMBL2793|                 null|                     null|               9|  Direct single pro...|          null|           CHEMBL4296102|SINGLE PROTEIN|   P48729|           P48729|\n",
      "|  CHEMBL14762|Small molecule|                      2.0|     false|{5, [ENSG00000136...|{5, [MONDO_000906...|{null, null, [124...|  CHEMBL1767714|         B|       null|         null|   Inhibition|             %|           1.0|                =|   Homo sapiens|Casein kinase I a...|      CHEMBL2793|                 null|                     null|               9|  Direct single pro...|          null|           CHEMBL3885539|SINGLE PROTEIN|   P48729|           P67870|\n",
      "+-------------+--------------+-------------------------+----------+--------------------+--------------------+--------------------+---------------+----------+-----------+-------------+-------------+--------------+--------------+-----------------+---------------+--------------------+----------------+---------------------+-------------------------+----------------+----------------------+--------------+------------------------+--------------+---------+-----------------+\n",
      "only showing top 20 rows\n",
      "\n"
     ]
    }
   ],
   "source": [
    "# Make the same but for related targets\n",
    "list_target_2 = [\"target_components\"]\n",
    "\n",
    "target_to_uniprot_extr_related = join_dataframes(target_to_uniprot_extr, target, \"related_target_chembl_id\", \"target_chembl_id\", list_target_2).persist()\n",
    "\n",
    "# Apply UDF to create a new column with the 'accession' values\n",
    "related_extr = target_to_uniprot_extr_related.withColumn(\"accession_related\", extract_accession_udf(target_to_uniprot_extr_related[\"target_components\"])).drop(\"target_components\")\n",
    "related_extr.show()"
   ]
  },
  {
   "cell_type": "code",
   "execution_count": 20,
   "metadata": {},
   "outputs": [],
   "source": [
    "# target_to_uniprot_extr_related.columns"
   ]
  },
  {
   "cell_type": "code",
   "execution_count": 21,
   "metadata": {},
   "outputs": [
    {
     "name": "stderr",
     "output_type": "stream",
     "text": [
      "                                                                                \r"
     ]
    },
    {
     "name": "stdout",
     "output_type": "stream",
     "text": [
      "+----------------+-------------+--------------+-------------------------+----------+--------------------+--------------------+--------------------+---------------+----------+-----------+-------------+-------------+--------------+--------------+-----------------+---------------+--------------------+---------------------+-------------------------+----------------+----------------------+--------------+--------------+---------+-----------------------------+----------------------+\n",
      "|target_chembl_id|       drugId|      drugType|maximumClinicalTrialPhase|isApproved|       linkedTargets|      linkedDiseases|     crossReferences|assay_chembl_id|assay_type|action_type|pchembl_value|standard_type|standard_units|standard_value|standard_relation|target_organism|    target_pref_name|data_validity_comment|data_validity_description|confidence_score|confidence_description|assay_category|   target_type|accession|related_target_chembl_id_aggr|accession_related_aggr|\n",
      "+----------------+-------------+--------------+-------------------------+----------+--------------------+--------------------+--------------------+---------------+----------+-----------+-------------+-------------+--------------+--------------+-----------------+---------------+--------------------+---------------------+-------------------------+----------------+----------------------+--------------+--------------+---------+-----------------------------+----------------------+\n",
      "|   CHEMBL2007625|CHEMBL4279047|Small molecule|                      3.0|     false|{2, [ENSG00000138...|{2, [EFO_0000272,...|                null|  CHEMBL4309378|         B|       null|        10.40|         IC50|            nM|          0.04|                =|   Homo sapiens|Isocitrate dehydr...|                 null|                     null|               9|  Direct single pro...|          null|SINGLE PROTEIN|   O75874|              [CHEMBL4523659]|              [O75874]|\n",
      "|      CHEMBL4302|    CHEMBL584|Small molecule|                      4.0|      true|             {0, []}|{29, [EFO_0003060...|{[nelfinavir%20me...|  CHEMBL4403306|         B|       null|         5.70|         IC50|            nM|        2000.0|                =|   Homo sapiens|    P-glycoprotein 1|                 null|                     null|               9|  Direct single pro...|          null|SINGLE PROTEIN|   P08183|              [CHEMBL3430875]|              [P33527]|\n",
      "|       CHEMBL258|CHEMBL3936761|Small molecule|                      4.0|      true|{1, [ENSG00000010...|{17, [MONDO_00155...|{[zanubrutinib], ...|  CHEMBL4414923|         A|       null|         6.73|         IC50|            nM|         187.0|                =|   Homo sapiens|Tyrosine-protein ...|                 null|                     null|               9|  Direct single pro...|          null|SINGLE PROTEIN|   P06239|         [CHEMBL4523727, C...|  [P06241, P12931, ...|\n",
      "|      CHEMBL2208| CHEMBL103667|Small molecule|                      2.0|     false|{1, [ENSG00000112...|{2, [EFO_0000685,...|{null, null, [103...|  CHEMBL1013121|         B|       null|         null|   Inhibition|             %|          28.0|                =|   Homo sapiens|MAP kinase-activa...|                 null|                     null|               9|  Direct single pro...|          null|SINGLE PROTEIN|   P49137|                           []|                    []|\n",
      "|   CHEMBL3085620|CHEMBL1232461|Small molecule|                      2.0|     false|{4, [ENSG00000204...|{2, [EFO_0000616,...|                null|  CHEMBL4332485|         B|       null|         null|     Delta Tm|     degrees C|           0.2|                =|   Homo sapiens|Transcription act...|                 null|                     null|               9|  Direct single pro...|          null|SINGLE PROTEIN|   P51532|              [CHEMBL4748227]|              [P51532]|\n",
      "|      CHEMBL3524|CHEMBL3086767|Small molecule|                     null|      null|                null|                null|                null|  CHEMBL3088532|         B|       null|         null|   Inhibition|             %|          null|             null|   Homo sapiens|Histone deacetyla...|                 null|                     null|               9|  Direct single pro...|          null|SINGLE PROTEIN|   P56524|         [CHEMBL2093865, C...|      [P56524, Q13547]|\n",
      "|      CHEMBL3524|CHEMBL3086768|Small molecule|                     null|      null|                null|                null|                null|  CHEMBL3088532|         B|       null|         null|   Inhibition|             %|          null|             null|   Homo sapiens|Histone deacetyla...|                 null|                     null|               9|  Direct single pro...|          null|SINGLE PROTEIN|   P56524|         [CHEMBL2093865, C...|      [P56524, Q13547]|\n",
      "|      CHEMBL4302| CHEMBL206031|Small molecule|                      2.0|     false|             {0, []}|{2, [EFO_0000764,...|{null, null, null...|   CHEMBL955890|         B|       null|         null|     Activity|          null|          null|             null|   Homo sapiens|    P-glycoprotein 1|                 null|                     null|               9|  Direct single pro...|          null|SINGLE PROTEIN|   P08183|              [CHEMBL3430875]|              [P33527]|\n",
      "|      CHEMBL4302|    CHEMBL116|Small molecule|                      4.0|      true|             {0, []}|{3, [EFO_0000765,...|{null, null, null...|   CHEMBL955890|         B|       null|         null|         IC50|            nM|      100000.0|                >|   Homo sapiens|    P-glycoprotein 1|                 null|                     null|               9|  Direct single pro...|          null|SINGLE PROTEIN|   P08183|              [CHEMBL3430875]|              [P33527]|\n",
      "|      CHEMBL4302|    CHEMBL584|Small molecule|                      4.0|      true|             {0, []}|{29, [EFO_0003060...|{[nelfinavir%20me...|   CHEMBL955890|         B|       null|         null|     Activity|          null|          null|             null|   Homo sapiens|    P-glycoprotein 1|                 null|                     null|               9|  Direct single pro...|          null|SINGLE PROTEIN|   P08183|              [CHEMBL3430875]|              [P33527]|\n",
      "|      CHEMBL4302|    CHEMBL163|Small molecule|                      4.0|      true|{4, [ENSG00000160...|{33, [EFO_0000558...|{[ritonavir], nul...|   CHEMBL955890|         B|       null|         4.40|         IC50|            nM|       39600.0|                =|   Homo sapiens|    P-glycoprotein 1|                 null|                     null|               9|  Direct single pro...|          null|SINGLE PROTEIN|   P08183|              [CHEMBL3430875]|              [P33527]|\n",
      "|      CHEMBL4302|    CHEMBL114|Small molecule|                      4.0|      true|             {0, []}|{8, [EFO_0000764,...|{[saquinavir%20me...|   CHEMBL955890|         B|       null|         4.00|         IC50|            nM|      100000.0|                =|   Homo sapiens|    P-glycoprotein 1|                 null|                     null|               9|  Direct single pro...|          null|SINGLE PROTEIN|   P08183|              [CHEMBL3430875]|              [P33527]|\n",
      "|      CHEMBL4308|CHEMBL2087421|Small molecule|                     null|      null|                null|                null|                null|  CHEMBL2092264|         B|       null|         8.80|           Ki|            nM|           1.6|                =|   Homo sapiens|Bradykinin B1 rec...|                 null|                     null|               9|  Direct single pro...|          null|SINGLE PROTEIN|   P46663|                           []|                    []|\n",
      "|      CHEMBL2179| CHEMBL206468|Small molecule|                      2.0|     false|{1, [ENSG00000177...|{1, [MONDO_0018150]}|{null, null, [852...|  CHEMBL1614232|         F|       null|         6.20|      Potency|            nM|         631.0|                =|   Homo sapiens|Beta-glucocerebro...|                 null|                     null|               9|  Direct single pro...|  confirmatory|SINGLE PROTEIN|   P04062|              [CHEMBL4106172]|              [P04062]|\n",
      "|       CHEMBL289|CHEMBL3628113|Small molecule|                     null|      null|                null|                null|                null|  CHEMBL3631348|         A|       null|         null|         IC50|            nM|       30000.0|                >|   Homo sapiens| Cytochrome P450 2D6|                 null|                     null|               9|  Direct single pro...|          null|SINGLE PROTEIN|   P10635|              [CHEMBL4523986]|              [P08684]|\n",
      "|      CHEMBL3979| CHEMBL264374|Small molecule|                      4.0|      true|{3, [ENSG00000132...|{8, [MONDO_000514...|{null, null, [111...|  CHEMBL2341203|         B|       null|         null|           FC|          null|          12.0|                =|   Homo sapiens|Peroxisome prolif...|                 null|                     null|               9|  Direct single pro...|          null|SINGLE PROTEIN|   Q03181|         [CHEMBL2111371, C...|              [P37231]|\n",
      "|      CHEMBL5393|     CHEMBL50|Small molecule|                      3.0|     false|                null|{17, [EFO_1000654...|{null, null, [111...|  CHEMBL3813117|         B|       null|         null|     Activity|          null|          null|             null|   Homo sapiens|ATP-binding casse...|                 null|                     null|               9|  Direct single pro...|          null|SINGLE PROTEIN|   Q9UNQ0|                           []|                    []|\n",
      "|      CHEMBL5393| CHEMBL488910|Small molecule|                     null|      null|                null|                null|                null|  CHEMBL3813117|         B|       null|         null|     Activity|          null|          null|             null|   Homo sapiens|ATP-binding casse...|                 null|                     null|               9|  Direct single pro...|          null|SINGLE PROTEIN|   Q9UNQ0|                           []|                    []|\n",
      "|      CHEMBL3524|CHEMBL2105763|Small molecule|                      2.0|     false|{11, [ENSG0000011...|{3, [EFO_0002913,...|{null, null, null...|  CHEMBL3598916|         B|       null|         9.52|           Ki|            nM|           0.3|                =|   Homo sapiens|Histone deacetyla...|                 null|                     null|               9|  Direct single pro...|          null|SINGLE PROTEIN|   P56524|         [CHEMBL2093865, C...|      [P56524, Q13547]|\n",
      "|   CHEMBL1743124|    CHEMBL704|Small molecule|                      4.0|      true|{4, [ENSG00000132...|{17, [EFO_0005628...|{[mesalamine], nu...|  CHEMBL3540654|         A|       null|         null|           Km|            nM|      188900.0|                =|   Homo sapiens|Solute carrier or...|                 null|                     null|               9|  Direct single pro...|          null|SINGLE PROTEIN|   O94956|                           []|                    []|\n",
      "+----------------+-------------+--------------+-------------------------+----------+--------------------+--------------------+--------------------+---------------+----------+-----------+-------------+-------------+--------------+--------------+-----------------+---------------+--------------------+---------------------+-------------------------+----------------+----------------------+--------------+--------------+---------+-----------------------------+----------------------+\n",
      "only showing top 20 rows\n",
      "\n"
     ]
    },
    {
     "name": "stderr",
     "output_type": "stream",
     "text": [
      "                                                                                \r"
     ]
    },
    {
     "data": {
      "text/plain": [
       "18847"
      ]
     },
     "execution_count": 21,
     "metadata": {},
     "output_type": "execute_result"
    }
   ],
   "source": [
    "# Define a UDF to remove duplicates from a list\n",
    "def remove_duplicates(lst):\n",
    "    return list(set(lst))\n",
    "\n",
    "remove_duplicates_udf = udf(remove_duplicates, ArrayType(StringType()))\n",
    "\n",
    "# Aggregate the data\n",
    "aggregated_df = related_extr.groupBy('target_chembl_id').agg(\n",
    "    collect_list('related_target_chembl_id').alias('related_target_chembl_id_aggr'),\n",
    "    collect_list('accession_related').alias('accession_related_aggr')\n",
    ")\n",
    "\n",
    "aggregated_df = aggregated_df\\\n",
    "    .withColumn('related_target_chembl_id_aggr', remove_duplicates_udf(col('related_target_chembl_id_aggr')))\\\n",
    "    .withColumn('accession_related_aggr', remove_duplicates_udf(col('accession_related_aggr')))\n",
    "\n",
    "# Merge the Aggregated Data with target_organism_filter\n",
    "targets_with_relation = related_extr\\\n",
    "    .drop(\"related_target_chembl_id\", \"accession_related\")\\\n",
    "    .join(aggregated_df, on='target_chembl_id', how='left')\\\n",
    "    .dropDuplicates()                                \n",
    "targets_with_relation.show()\n",
    "targets_with_relation.count()"
   ]
  },
  {
   "cell_type": "code",
   "execution_count": 22,
   "metadata": {},
   "outputs": [],
   "source": [
    "# target_organism_filter.dropDuplicates().count()"
   ]
  },
  {
   "cell_type": "code",
   "execution_count": 23,
   "metadata": {},
   "outputs": [],
   "source": [
    "# assert target_organism_filter.dropDuplicates().count() == targets_with_relation.count()"
   ]
  },
  {
   "cell_type": "code",
   "execution_count": 24,
   "metadata": {},
   "outputs": [],
   "source": [
    "# # Check that all accessions are present for CHEMBL3544932\n",
    "# target_to_uniprot_filtered = target_to_uniprot.filter(target_to_uniprot[\"target_chembl_id\"] == \"CHEMBL3430907\")\n",
    "# # drug_to_moa_filtered.show()\n",
    "# selected_column = target_to_uniprot_filtered.select(\"target_components\").collect()\n",
    "# print(selected_column)"
   ]
  },
  {
   "cell_type": "code",
   "execution_count": 25,
   "metadata": {},
   "outputs": [],
   "source": [
    "# # What does protein_classifications mean?\n",
    "\n",
    "# target_component_path = \"gs://open-targets-pre-data-releases/chembl-columns/chembl-inputs/chembl_33_target_component.jsonl\"\n",
    "# target_component = spark.read.json(target_component_path)\n",
    "# target_component.persist()\n",
    "# target_component.show()"
   ]
  },
  {
   "cell_type": "code",
   "execution_count": 26,
   "metadata": {},
   "outputs": [
    {
     "name": "stderr",
     "output_type": "stream",
     "text": [
      "24/01/23 17:05:25 WARN CacheManager: Asked to cache already cached data.\n"
     ]
    }
   ],
   "source": [
    "proteinclass_path = pd.read_csv(\"../data/uniprot2family.csv\")\n",
    "proteinclass_str = proteinclass_path.astype(str).drop_duplicates()\n",
    "proteinclass = spark.createDataFrame(proteinclass_str)\n",
    "\n",
    "proteinclass_list = [\"proteinClass\"]\n",
    "\n",
    "uniprot_to_class = join_dataframes(targets_with_relation, proteinclass, \"accession\", \"accession\", proteinclass_list).persist()"
   ]
  },
  {
   "cell_type": "code",
   "execution_count": 27,
   "metadata": {},
   "outputs": [
    {
     "name": "stderr",
     "output_type": "stream",
     "text": [
      "[Stage 88:>                                                      (0 + 16) / 200]\r"
     ]
    },
    {
     "name": "stderr",
     "output_type": "stream",
     "text": [
      "[Stage 97:=============================================>       (170 + 17) / 200]\r"
     ]
    },
    {
     "name": "stdout",
     "output_type": "stream",
     "text": [
      "+--------------+-----+\n",
      "|  proteinClass|count|\n",
      "+--------------+-----+\n",
      "|            IC|  359|\n",
      "|        Enzyme| 5465|\n",
      "|        Kinase| 7317|\n",
      "|    Epigenetic|  768|\n",
      "|          None| 1664|\n",
      "|          GPCR| 1789|\n",
      "|   Transporter|  583|\n",
      "|            NR|  660|\n",
      "|            TF|  208|\n",
      "|TF; Epigenetic|   29|\n",
      "|          null|    5|\n",
      "+--------------+-----+\n",
      "\n"
     ]
    },
    {
     "name": "stderr",
     "output_type": "stream",
     "text": [
      "                                                                                \r"
     ]
    }
   ],
   "source": [
    "show_unique_values_and_counts(uniprot_to_class, 'proteinClass')"
   ]
  },
  {
   "cell_type": "markdown",
   "metadata": {},
   "source": [
    "##### maybe for None classification based on accession_related_aggr needed"
   ]
  },
  {
   "cell_type": "code",
   "execution_count": 28,
   "metadata": {},
   "outputs": [
    {
     "data": {
      "text/plain": [
       "18847"
      ]
     },
     "execution_count": 28,
     "metadata": {},
     "output_type": "execute_result"
    }
   ],
   "source": [
    "uniprot_to_class.count()"
   ]
  },
  {
   "cell_type": "code",
   "execution_count": 29,
   "metadata": {},
   "outputs": [],
   "source": [
    "# uniprot_to_class.write.parquet(\"gs://ot-team/polina/uniprot_to_class\")"
   ]
  },
  {
   "cell_type": "markdown",
   "metadata": {},
   "source": [
    "## Drug activity threshold based on pchembl_value and proteinClass"
   ]
  },
  {
   "cell_type": "markdown",
   "metadata": {},
   "source": [
    "### Dataset with only pchembl values"
   ]
  },
  {
   "cell_type": "code",
   "execution_count": 30,
   "metadata": {},
   "outputs": [],
   "source": [
    "# Check how many assays have pchembl_value\n",
    "pchembl_value_only = uniprot_to_class.filter(uniprot_to_class[\"pchembl_value\"].isNotNull())\n",
    "# pchembl_value_only_n = pchembl_value_only.count()\n",
    "# d_t_n = input.count()\n",
    "\n",
    "# print(\"Number of drug-target pairs:\", d_t_n)\n",
    "# print(\"Number of drug-target pairs with pchembl_value:\", pchembl_value_only_n)"
   ]
  },
  {
   "cell_type": "markdown",
   "metadata": {},
   "source": [
    "### For each T-D pairs make new columns:\n",
    "####     1. max_pchembl_value\n",
    "####     2. median_pchembl_value"
   ]
  },
  {
   "cell_type": "code",
   "execution_count": 31,
   "metadata": {},
   "outputs": [],
   "source": [
    "# Original aggregation with additional count of non-null pchembl_values\n",
    "pchembl_value_aggr = pchembl_value_only.groupBy(\"target_chembl_id\", \"drugId\")\\\n",
    "                  .agg(f.max(\"pchembl_value\").alias(\"max_pchembl_value\"),\n",
    "                       f.expr(\"percentile_approx(pchembl_value, 0.5)\").alias(\"median_pchembl_value\"))\n",
    "\n",
    "# Join original data with filtered aggregated data\n",
    "pchembl_value_join = pchembl_value_aggr.join(uniprot_to_class, [\"target_chembl_id\", \"drugId\"], \"left_outer\")"
   ]
  },
  {
   "cell_type": "code",
   "execution_count": 32,
   "metadata": {},
   "outputs": [],
   "source": [
    "# Leave only unique dug-target pairs with pchembl value\n",
    "\n",
    "# Group by 'target_chembl_id' and 'drugId', and aggregate 'pchembl_value'\n",
    "pchembl_value_concat = pchembl_value_join.groupBy(\"target_chembl_id\", \"drugId\")\\\n",
    "                        .agg(concat_ws(\", \", collect_list(\"pchembl_value\")).alias(\"pchembl_value_aggr\"))\n",
    "\n",
    "pchembl_value_drop = pchembl_value_join.drop(\"standard_type\", \"standard_units\", \"standard_value\", \"standard_relation\", \"pchembl_value\")\n",
    "pchembl_value_uniq = pchembl_value_drop.dropDuplicates([\"target_chembl_id\", \"drugId\"])\n",
    "\n",
    "pchembl_value_concat_join = pchembl_value_concat.join(pchembl_value_uniq, [\"target_chembl_id\", \"drugId\"], \"left_outer\")\n",
    "\n",
    "# pchembl_value_concat_join.show()"
   ]
  },
  {
   "cell_type": "markdown",
   "metadata": {},
   "source": [
    "### Activity cutoff for max_pchembl_value and median_pchembl_value"
   ]
  },
  {
   "cell_type": "code",
   "execution_count": 33,
   "metadata": {},
   "outputs": [],
   "source": [
    "max_pchembl_value = col(\"max_pchembl_value\")\n",
    "med_pchembl_value = col(\"median_pchembl_value\")\n",
    "\n",
    "pchembl_max_activity = pchembl_value_concat_join.withColumn(\n",
    "    \"isActive_max\",\n",
    "    when(\n",
    "        ((col(\"proteinClass\") == \"Kinase\") & (max_pchembl_value >= 7.7)) |\n",
    "        ((col(\"proteinClass\") == \"GPCR\") & (max_pchembl_value >= 6.5)) |\n",
    "        ((col(\"proteinClass\") == \"NR\") & (max_pchembl_value >= 6.1)) |\n",
    "        ((col(\"proteinClass\") == \"Transporter\") & (max_pchembl_value >= 6.1)) |\n",
    "        ((col(\"proteinClass\") == \"Enzyme\") & (max_pchembl_value >= 5.2)) |\n",
    "        ((col(\"proteinClass\") == \"IC\") & (max_pchembl_value >= 4.6)) |\n",
    "        ((col(\"proteinClass\") == \"Other\") & (max_pchembl_value >= 6.3)) |\n",
    "        (~(col(\"proteinClass\").isin([\"Kinase\", \"GPCR\", \"NR\", \"Transporter\", \"Enzyme\", \"IC\", \"Other\"])) & (max_pchembl_value >= 5)),\n",
    "        \"TRUE\"\n",
    "    ).otherwise(\"FALSE\")\n",
    ")\n",
    "\n",
    "pchembl_activity = pchembl_max_activity.withColumn(\n",
    "    \"isActive_med\",\n",
    "    when(\n",
    "        ((col(\"proteinClass\") == \"Kinase\") & (med_pchembl_value >= 7.7)) |\n",
    "        ((col(\"proteinClass\") == \"GPCR\") & (med_pchembl_value >= 6.5)) |\n",
    "        ((col(\"proteinClass\") == \"NR\") & (med_pchembl_value >= 6.1)) |\n",
    "        ((col(\"proteinClass\") == \"Transporter\") & (med_pchembl_value >= 6.1)) |\n",
    "        ((col(\"proteinClass\") == \"Enzyme\") & (med_pchembl_value >= 5.2)) |\n",
    "        ((col(\"proteinClass\") == \"IC\") & (med_pchembl_value >= 4.6)) |\n",
    "        ((col(\"proteinClass\") == \"Other\") & (med_pchembl_value >= 6.3)) |\n",
    "        (~(col(\"proteinClass\").isin([\"Kinase\", \"GPCR\", \"NR\", \"Transporter\", \"Enzyme\", \"IC\", \"Other\"])) & (med_pchembl_value >= 5)),\n",
    "        \"TRUE\"\n",
    "    ).otherwise(\"FALSE\")\n",
    ")\n",
    "\n",
    "# max_active = pchembl_activity.filter(col(\"isActive_max\") == True).count()\n",
    "# med_active = pchembl_activity.filter(col(\"isActive_med\") == True).count()\n",
    "# all_pchembl = pchembl_activity.count()\n",
    "\n",
    "# print(\"Number of drug-target pairs with pchembl values: \", all_pchembl)\n",
    "# print(\"Number of drug-target pairs with active drugs based on max pchembl values: \", max_active)\n",
    "# print(\"Number of drug-target pairs with active drugs based on med pchembl values: \", med_active)"
   ]
  },
  {
   "cell_type": "markdown",
   "metadata": {},
   "source": [
    "## Non-pharmacological MoA search"
   ]
  },
  {
   "cell_type": "markdown",
   "metadata": {},
   "source": [
    "### Target is in MoA of a drug?"
   ]
  },
  {
   "cell_type": "code",
   "execution_count": 34,
   "metadata": {},
   "outputs": [
    {
     "name": "stdout",
     "output_type": "stream",
     "text": [
      "+--------------------+------------------+--------------------+--------------------+------------------+-------------------------+---------+----------------+\n",
      "|           _metadata|       action_type| mechanism_of_action|      mechanism_refs|molecule_chembl_id|parent_molecule_chembl_id|record_id|target_chembl_id|\n",
      "+--------------------+------------------+--------------------+--------------------+------------------+-------------------------+---------+----------------+\n",
      "|{[CHEMBL2103825],...|         INHIBITOR|Pancreatic lipase...|[{16953261, PubMe...|     CHEMBL2103825|            CHEMBL2103825|  1699800|      CHEMBL1812|\n",
      "|{[CHEMBL1200495, ...|           AGONIST|Glucocorticoid re...|[{setid=6d9bf1b0-...|     CHEMBL1200495|                CHEMBL977|  1344612|      CHEMBL2034|\n",
      "|{[CHEMBL3544919],...|SEQUESTERING AGENT|Heparin sequester...|[{26937198, PubMe...|     CHEMBL3544919|            CHEMBL3544919|  2473107|   CHEMBL2364712|\n",
      "|{[CHEMBL3989993],...|         INHIBITOR|microRNA-155 inhi...|[{NCT03713320, Cl...|     CHEMBL3989993|            CHEMBL3989993|  2973351|   CHEMBL4630577|\n",
      "|{[CHEMBL1460], CH...|         INHIBITOR|Human immunodefic...|[{setid=22e2ca82-...|        CHEMBL1460|               CHEMBL1460|  1343993|       CHEMBL247|\n",
      "|{[CHEMBL444172], ...|         INHIBITOR|P-glycoprotein 1 ...|[{18271955, PubMe...|      CHEMBL444172|             CHEMBL444172|  3129871|      CHEMBL4302|\n",
      "|{[CHEMBL1873475],...|         INHIBITOR|Tyrosine-protein ...|[{label/2013/2055...|     CHEMBL1873475|            CHEMBL1873475|  1702685|      CHEMBL5251|\n",
      "|{[CHEMBL4650215],...|         INHIBITOR|PI3-kinase p110-a...|[{https://cancerr...|     CHEMBL4650215|            CHEMBL4650215|  3133380|      CHEMBL4005|\n",
      "|{[CHEMBL87992], C...|           BLOCKER|Sodium channel al...|[{label/2013/0224...|       CHEMBL87992|              CHEMBL87992|  1702492|   CHEMBL2331043|\n",
      "|{[CHEMBL2105689],...|         INHIBITOR|Cytochrome P450 5...|[{label/2013/2041...|     CHEMBL2105689|            CHEMBL2105689|  1702581|      CHEMBL1780|\n",
      "|{[CHEMBL523299, C...|        ANTAGONIST|Muscarinic acetyl...|[{label/2013/2039...|      CHEMBL523299|            CHEMBL1187833|  1702662|       CHEMBL245|\n",
      "|{[CHEMBL1200865],...|           AGONIST|Glucocorticoid re...|[{12861354, PubMe...|     CHEMBL1200865|            CHEMBL1200865|  1343629|      CHEMBL2034|\n",
      "|{[CHEMBL129], CHE...|         INHIBITOR|Human immunodefic...|[{setid=6df09f15-...|         CHEMBL129|                CHEMBL129|  1343080|       CHEMBL247|\n",
      "|{[CHEMBL3989861, ...|         INHIBITOR|Serotonin transpo...|[{label/2013/2052...|     CHEMBL3989861|               CHEMBL1118|  1938076|       CHEMBL228|\n",
      "|{[CHEMBL2146140, ...|         INHIBITOR|Potassium-transpo...|[{setid=61a5a84e-...|     CHEMBL2146140|            CHEMBL1201320|  1702655|   CHEMBL2095173|\n",
      "|{[CHEMBL131], CHE...|           AGONIST|Glucocorticoid re...|[{19482847, PubMe...|         CHEMBL131|                CHEMBL131|  1344057|      CHEMBL2034|\n",
      "|{[CHEMBL1275802],...|  DISRUPTING AGENT|Cell membrane dis...|[{19010301, PubMe...|     CHEMBL1275802|            CHEMBL1275802|  1703075|   CHEMBL2364031|\n",
      "|{[CHEMBL139], CHE...|         INHIBITOR|Cyclooxygenase in...|[{label/2013/2045...|         CHEMBL139|                CHEMBL139|  1937947|   CHEMBL2094253|\n",
      "|{[CHEMBL2108556],...|  DISRUPTING AGENT|Cell membrane dis...|[{19010301, PubMe...|     CHEMBL2108556|            CHEMBL2108556|  1696419|   CHEMBL2364031|\n",
      "|{[CHEMBL1512], CH...|           AGONIST|Glucocorticoid re...|[{setid=7c72c954-...|        CHEMBL1512|               CHEMBL1512|  1343379|      CHEMBL2034|\n",
      "+--------------------+------------------+--------------------+--------------------+------------------+-------------------------+---------+----------------+\n",
      "only showing top 20 rows\n",
      "\n"
     ]
    }
   ],
   "source": [
    "mechanism_path = \"gs://open-targets-pre-data-releases/chembl-columns/chembl-inputs/chembl_33_mechanism.jsonl\"\n",
    "mechanism = spark.read.json(mechanism_path)\n",
    "mechanism.persist()\n",
    "mechanism.show()\n",
    "\n",
    "# Rename columns because target ids are coming from moa but not assay\n",
    "mechanism_renamed = mechanism.withColumnRenamed(\"action_type\", \"action_type_moa\")\\\n",
    "                            .withColumnRenamed(\"target_chembl_id\", \"target_chembl_id_moa\")"
   ]
  },
  {
   "cell_type": "markdown",
   "metadata": {},
   "source": [
    "##### need to make mapping for all parent_molecule_chembl_id and molecule_chembl_id!!!"
   ]
  },
  {
   "cell_type": "code",
   "execution_count": 35,
   "metadata": {},
   "outputs": [
    {
     "name": "stderr",
     "output_type": "stream",
     "text": [
      "24/01/23 17:05:51 WARN CacheManager: Asked to cache already cached data.\n"
     ]
    }
   ],
   "source": [
    "# List of columns from target table molecule_chembl_id\n",
    "list_mechanism = [\"action_type_moa\",\n",
    "            \"target_chembl_id_moa\"]\n",
    "\n",
    "drug_to_moa = join_dataframes(pchembl_activity, mechanism_renamed, \"drugId\", \"molecule_chembl_id\", list_mechanism).persist()"
   ]
  },
  {
   "cell_type": "markdown",
   "metadata": {},
   "source": [
    "#### code need to be optimised"
   ]
  },
  {
   "cell_type": "code",
   "execution_count": 36,
   "metadata": {},
   "outputs": [
    {
     "name": "stderr",
     "output_type": "stream",
     "text": [
      "24/01/23 17:05:51 WARN CacheManager: Asked to cache already cached data.\n"
     ]
    }
   ],
   "source": [
    "# Rename columns because now we need to map to parent_molecule_chembl_id\n",
    "mechanism_renamed_parent = mechanism.withColumnRenamed(\"action_type\", \"action_type_moa_parent\")\\\n",
    "                            .withColumnRenamed(\"target_chembl_id\", \"target_chembl_id_moa_parent\")\n",
    "\n",
    "list_mechanism_parent = [\"action_type_moa_parent\",\n",
    "            \"target_chembl_id_moa_parent\"]\n",
    "\n",
    "drug_to_moa_parent = join_dataframes(drug_to_moa, mechanism_renamed_parent, \"drugId\", \"parent_molecule_chembl_id\", list_mechanism_parent).persist()"
   ]
  },
  {
   "cell_type": "code",
   "execution_count": 37,
   "metadata": {},
   "outputs": [
    {
     "name": "stderr",
     "output_type": "stream",
     "text": [
      "                                                                                \r"
     ]
    },
    {
     "name": "stdout",
     "output_type": "stream",
     "text": [
      "+----------------+-------------+------------------+-----------------+--------------------+--------------+-------------------------+----------+--------------------+--------------------+--------------------+---------------+----------+-----------+---------------+--------------------+---------------------+-------------------------+----------------+----------------------+--------------+--------------+---------+-----------------------------+----------------------+------------+------------+------------+---------------+--------------------+----------------------+---------------------------+\n",
      "|target_chembl_id|       drugId|pchembl_value_aggr|max_pchembl_value|median_pchembl_value|      drugType|maximumClinicalTrialPhase|isApproved|       linkedTargets|      linkedDiseases|     crossReferences|assay_chembl_id|assay_type|action_type|target_organism|    target_pref_name|data_validity_comment|data_validity_description|confidence_score|confidence_description|assay_category|   target_type|accession|related_target_chembl_id_aggr|accession_related_aggr|proteinClass|isActive_max|isActive_med|action_type_moa|target_chembl_id_moa|action_type_moa_parent|target_chembl_id_moa_parent|\n",
      "+----------------+-------------+------------------+-----------------+--------------------+--------------+-------------------------+----------+--------------------+--------------------+--------------------+---------------+----------+-----------+---------------+--------------------+---------------------+-------------------------+----------------+----------------------+--------------+--------------+---------+-----------------------------+----------------------+------------+------------+------------+---------------+--------------------+----------------------+---------------------------+\n",
      "|      CHEMBL3788|CHEMBL3353357|              8.51|             8.51|                8.51|Small molecule|                     null|      null|                null|                null|                null|  CHEMBL3411381|         B|       null|   Homo sapiens|Serine/threonine-...|                 null|                     null|               9|  Direct single pro...|          null|SINGLE PROTEIN|   O00444|                           []|                    []|      Kinase|        TRUE|        TRUE|           null|                null|                  null|                       null|\n",
      "|       CHEMBL258|CHEMBL2041933|              5.89|             5.89|                5.89|Small molecule|                      1.0|     false|{1, [ENSG00000149...|{2, [EFO_0000616,...|{null, null, [124...|  CHEMBL3991747|         B|       null|   Homo sapiens|Tyrosine-protein ...|                 null|                     null|               9|  Direct single pro...|          null|SINGLE PROTEIN|   P06239|         [CHEMBL4523727, C...|  [P06241, P12931, ...|      Kinase|       FALSE|       FALSE|      INHIBITOR|          CHEMBL4630|             INHIBITOR|                 CHEMBL4630|\n",
      "|      CHEMBL1937|CHEMBL2105763|             10.22|            10.22|               10.22|Small molecule|                      2.0|     false|{11, [ENSG0000011...|{3, [EFO_0002913,...|{null, null, null...|  CHEMBL3598913|         B|       null|   Homo sapiens|Histone deacetyla...|                 null|                     null|               9|  Direct single pro...|          null|SINGLE PROTEIN|   Q92769|         [CHEMBL2111429, C...|      [Q92769, Q13547]|  Epigenetic|        TRUE|        TRUE|      INHIBITOR|       CHEMBL2093865|             INHIBITOR|              CHEMBL2093865|\n",
      "|       CHEMBL242|CHEMBL3264932|              4.82|             4.82|                4.82|Small molecule|                     null|      null|                null|                null|                null|  CHEMBL3269977|         B|       null|   Homo sapiens|Estrogen receptor...|                 null|                     null|               9|  Direct single pro...|          null|SINGLE PROTEIN|   Q92731|              [CHEMBL2093866]|              [Q92731]|          NR|       FALSE|       FALSE|           null|                null|                  null|                       null|\n",
      "|       CHEMBL253|    CHEMBL111|  6.22, 6.40, 5.75|             6.40|                6.22|Small molecule|                      4.0|      true|{1, [ENSG00000118...|{17, [EFO_0004329...|{null, null, [144...|  CHEMBL3378768|         B|       null|   Homo sapiens|Cannabinoid CB2 r...|                 null|                     null|               9|  Direct single pro...|          null|SINGLE PROTEIN|   P34972|              [CHEMBL2096981]|              [P34972]|        GPCR|       FALSE|       FALSE|     ANTAGONIST|           CHEMBL218|            ANTAGONIST|                  CHEMBL218|\n",
      "|       CHEMBL253|CHEMBL3139186|              7.70|             7.70|                 7.7|Small molecule|                      2.0|     false|{1, [ENSG00000188...|  {1, [EFO_0004616]}|                null|  CHEMBL3238913|         F|       null|   Homo sapiens|Cannabinoid CB2 r...|                 null|                     null|               9|  Direct single pro...|          null|SINGLE PROTEIN|   P34972|              [CHEMBL2096981]|              [P34972]|        GPCR|        TRUE|        TRUE|        AGONIST|           CHEMBL253|               AGONIST|                  CHEMBL253|\n",
      "|      CHEMBL6029| CHEMBL253969|              5.45|             5.45|                5.45|Small molecule|                      2.0|     false|{1, [ENSG00000128...|{6, [MONDO_002111...|{null, null, [103...|  CHEMBL3991697|         B|       null|   Homo sapiens|Eukaryotic transl...|                 null|                     null|               9|  Direct single pro...|          null|SINGLE PROTEIN|   Q9BQI3|                           []|                    []|      Kinase|       FALSE|       FALSE|      INHIBITOR|           CHEMBL279|             INHIBITOR|                  CHEMBL279|\n",
      "|      CHEMBL5491|   CHEMBL1421|              5.16|             5.16|                5.16|Small molecule|                      4.0|      true|{15, [ENSG0000011...|{78, [EFO_0000768...|{[dasatinib], nul...|  CHEMBL1061935|         B|       null|   Homo sapiens|Serine/threonine-...|                 null|                     null|               9|  Direct single pro...|          null|SINGLE PROTEIN|   P30291|         [CHEMBL5169067, C...|              [P30291]|      Kinase|       FALSE|       FALSE|      INHIBITOR|       CHEMBL2363074|             INHIBITOR|              CHEMBL2363074|\n",
      "|      CHEMBL5491|   CHEMBL1421|              5.16|             5.16|                5.16|Small molecule|                      4.0|      true|{15, [ENSG0000011...|{78, [EFO_0000768...|{[dasatinib], nul...|  CHEMBL1061935|         B|       null|   Homo sapiens|Serine/threonine-...|                 null|                     null|               9|  Direct single pro...|          null|SINGLE PROTEIN|   P30291|         [CHEMBL5169067, C...|              [P30291]|      Kinase|       FALSE|       FALSE|      INHIBITOR|       CHEMBL2363074|             INHIBITOR|                 CHEMBL1913|\n",
      "|      CHEMBL5491|   CHEMBL1421|              5.16|             5.16|                5.16|Small molecule|                      4.0|      true|{15, [ENSG0000011...|{78, [EFO_0000768...|{[dasatinib], nul...|  CHEMBL1061935|         B|       null|   Homo sapiens|Serine/threonine-...|                 null|                     null|               9|  Direct single pro...|          null|SINGLE PROTEIN|   P30291|         [CHEMBL5169067, C...|              [P30291]|      Kinase|       FALSE|       FALSE|      INHIBITOR|       CHEMBL2363074|             INHIBITOR|                 CHEMBL1862|\n",
      "|      CHEMBL5491|   CHEMBL1421|              5.16|             5.16|                5.16|Small molecule|                      4.0|      true|{15, [ENSG0000011...|{78, [EFO_0000768...|{[dasatinib], nul...|  CHEMBL1061935|         B|       null|   Homo sapiens|Serine/threonine-...|                 null|                     null|               9|  Direct single pro...|          null|SINGLE PROTEIN|   P30291|         [CHEMBL5169067, C...|              [P30291]|      Kinase|       FALSE|       FALSE|      INHIBITOR|       CHEMBL2363074|             INHIBITOR|              CHEMBL2096618|\n",
      "|      CHEMBL5491|   CHEMBL1421|              5.16|             5.16|                5.16|Small molecule|                      4.0|      true|{15, [ENSG0000011...|{78, [EFO_0000768...|{[dasatinib], nul...|  CHEMBL1061935|         B|       null|   Homo sapiens|Serine/threonine-...|                 null|                     null|               9|  Direct single pro...|          null|SINGLE PROTEIN|   P30291|         [CHEMBL5169067, C...|              [P30291]|      Kinase|       FALSE|       FALSE|      INHIBITOR|       CHEMBL2363074|             INHIBITOR|                 CHEMBL1936|\n",
      "|      CHEMBL5491|   CHEMBL1421|              5.16|             5.16|                5.16|Small molecule|                      4.0|      true|{15, [ENSG0000011...|{78, [EFO_0000768...|{[dasatinib], nul...|  CHEMBL1061935|         B|       null|   Homo sapiens|Serine/threonine-...|                 null|                     null|               9|  Direct single pro...|          null|SINGLE PROTEIN|   P30291|         [CHEMBL5169067, C...|              [P30291]|      Kinase|       FALSE|       FALSE|      INHIBITOR|       CHEMBL2363074|             INHIBITOR|                 CHEMBL2068|\n",
      "|      CHEMBL5491|   CHEMBL1421|              5.16|             5.16|                5.16|Small molecule|                      4.0|      true|{15, [ENSG0000011...|{78, [EFO_0000768...|{[dasatinib], nul...|  CHEMBL1061935|         B|       null|   Homo sapiens|Serine/threonine-...|                 null|                     null|               9|  Direct single pro...|          null|SINGLE PROTEIN|   P30291|         [CHEMBL5169067, C...|              [P30291]|      Kinase|       FALSE|       FALSE|      INHIBITOR|          CHEMBL1913|             INHIBITOR|              CHEMBL2363074|\n",
      "|      CHEMBL5491|   CHEMBL1421|              5.16|             5.16|                5.16|Small molecule|                      4.0|      true|{15, [ENSG0000011...|{78, [EFO_0000768...|{[dasatinib], nul...|  CHEMBL1061935|         B|       null|   Homo sapiens|Serine/threonine-...|                 null|                     null|               9|  Direct single pro...|          null|SINGLE PROTEIN|   P30291|         [CHEMBL5169067, C...|              [P30291]|      Kinase|       FALSE|       FALSE|      INHIBITOR|          CHEMBL1913|             INHIBITOR|                 CHEMBL1913|\n",
      "|      CHEMBL5491|   CHEMBL1421|              5.16|             5.16|                5.16|Small molecule|                      4.0|      true|{15, [ENSG0000011...|{78, [EFO_0000768...|{[dasatinib], nul...|  CHEMBL1061935|         B|       null|   Homo sapiens|Serine/threonine-...|                 null|                     null|               9|  Direct single pro...|          null|SINGLE PROTEIN|   P30291|         [CHEMBL5169067, C...|              [P30291]|      Kinase|       FALSE|       FALSE|      INHIBITOR|          CHEMBL1913|             INHIBITOR|                 CHEMBL1862|\n",
      "|      CHEMBL5491|   CHEMBL1421|              5.16|             5.16|                5.16|Small molecule|                      4.0|      true|{15, [ENSG0000011...|{78, [EFO_0000768...|{[dasatinib], nul...|  CHEMBL1061935|         B|       null|   Homo sapiens|Serine/threonine-...|                 null|                     null|               9|  Direct single pro...|          null|SINGLE PROTEIN|   P30291|         [CHEMBL5169067, C...|              [P30291]|      Kinase|       FALSE|       FALSE|      INHIBITOR|          CHEMBL1913|             INHIBITOR|              CHEMBL2096618|\n",
      "|      CHEMBL5491|   CHEMBL1421|              5.16|             5.16|                5.16|Small molecule|                      4.0|      true|{15, [ENSG0000011...|{78, [EFO_0000768...|{[dasatinib], nul...|  CHEMBL1061935|         B|       null|   Homo sapiens|Serine/threonine-...|                 null|                     null|               9|  Direct single pro...|          null|SINGLE PROTEIN|   P30291|         [CHEMBL5169067, C...|              [P30291]|      Kinase|       FALSE|       FALSE|      INHIBITOR|          CHEMBL1913|             INHIBITOR|                 CHEMBL1936|\n",
      "|      CHEMBL5491|   CHEMBL1421|              5.16|             5.16|                5.16|Small molecule|                      4.0|      true|{15, [ENSG0000011...|{78, [EFO_0000768...|{[dasatinib], nul...|  CHEMBL1061935|         B|       null|   Homo sapiens|Serine/threonine-...|                 null|                     null|               9|  Direct single pro...|          null|SINGLE PROTEIN|   P30291|         [CHEMBL5169067, C...|              [P30291]|      Kinase|       FALSE|       FALSE|      INHIBITOR|          CHEMBL1913|             INHIBITOR|                 CHEMBL2068|\n",
      "|      CHEMBL5491|   CHEMBL1421|              5.16|             5.16|                5.16|Small molecule|                      4.0|      true|{15, [ENSG0000011...|{78, [EFO_0000768...|{[dasatinib], nul...|  CHEMBL1061935|         B|       null|   Homo sapiens|Serine/threonine-...|                 null|                     null|               9|  Direct single pro...|          null|SINGLE PROTEIN|   P30291|         [CHEMBL5169067, C...|              [P30291]|      Kinase|       FALSE|       FALSE|      INHIBITOR|          CHEMBL1862|             INHIBITOR|              CHEMBL2363074|\n",
      "+----------------+-------------+------------------+-----------------+--------------------+--------------+-------------------------+----------+--------------------+--------------------+--------------------+---------------+----------+-----------+---------------+--------------------+---------------------+-------------------------+----------------+----------------------+--------------+--------------+---------+-----------------------------+----------------------+------------+------------+------------+---------------+--------------------+----------------------+---------------------------+\n",
      "only showing top 20 rows\n",
      "\n"
     ]
    }
   ],
   "source": [
    "drug_to_moa_parent.show()"
   ]
  },
  {
   "cell_type": "code",
   "execution_count": 38,
   "metadata": {},
   "outputs": [
    {
     "name": "stderr",
     "output_type": "stream",
     "text": [
      "                                                                                \r"
     ]
    },
    {
     "name": "stdout",
     "output_type": "stream",
     "text": [
      "+-------------+----------------+--------------------+-----------------+--------------------+--------------+-------------------------+----------+--------------------+--------------------+--------------------+---------------+----------+--------------------+---------------+--------------------+---------------------+-------------------------+----------------+----------------------+--------------+---------------+---------+-----------------------------+----------------------+------------+------------+------------+--------------------+-------------------------+\n",
      "|       drugId|target_chembl_id|  pchembl_value_aggr|max_pchembl_value|median_pchembl_value|      drugType|maximumClinicalTrialPhase|isApproved|       linkedTargets|      linkedDiseases|     crossReferences|assay_chembl_id|assay_type|         action_type|target_organism|    target_pref_name|data_validity_comment|data_validity_description|confidence_score|confidence_description|assay_category|    target_type|accession|related_target_chembl_id_aggr|accession_related_aggr|proteinClass|isActive_max|isActive_med|action_type_moa_aggr|target_chembl_id_moa_aggr|\n",
      "+-------------+----------------+--------------------+-----------------+--------------------+--------------+-------------------------+----------+--------------------+--------------------+--------------------+---------------+----------+--------------------+---------------+--------------------+---------------------+-------------------------+----------------+----------------------+--------------+---------------+---------+-----------------------------+----------------------+------------+------------+------------+--------------------+-------------------------+\n",
      "|    CHEMBL112|       CHEMBL340|                4.80|             4.80|                 4.8|Small molecule|                      4.0|      true|{4, [ENSG00000073...|{104, [MONDO_0100...|{[acetaminophen],...|  CHEMBL1613886|         A|                null|   Homo sapiens| Cytochrome P450 3A4|                 null|                     null|               9|  Direct single pro...|  confirmatory| SINGLE PROTEIN|   P08684|         [CHEMBL2111472, C...|              [P08684]|      Enzyme|       FALSE|       FALSE|   INHIBITOR, OPENER|     CHEMBL2094253, CH...|\n",
      "|    CHEMBL140|      CHEMBL4261|                5.20|             5.20|                 5.2|Small molecule|                     null|      null|                null|                null|{null, null, [104...|  CHEMBL1613803|         F|                null|   Homo sapiens|Hypoxia-inducible...|                 null|                     null|               9|  Direct single pro...|  confirmatory| SINGLE PROTEIN|   Q16665|         [CHEMBL3885588, C...|      [Q16665, Q09472]|          TF|        TRUE|        TRUE|                    |                         |\n",
      "|  CHEMBL91829|      CHEMBL4527|                5.24|             5.24|                5.24|Small molecule|                      3.0|     false|{1, [ENSG00000166...|{6, [EFO_0003770,...|{null, null, [501...|   CHEMBL859485|         B|                null|   Homo sapiens|TRAF2- and NCK-in...|                 null|                     null|               9|  Direct single pro...|          null| SINGLE PROTEIN|   Q9UKE5|                           []|                    []|      Kinase|       FALSE|       FALSE|           INHIBITOR|               CHEMBL3045|\n",
      "|      CHEMBL3|   CHEMBL1907594|6.28, 5.03, 6.28,...|             6.40|                6.28|Small molecule|                      4.0|      true|{2, [ENSG00000160...|{30, [EFO_0003768...|{[nicotine], null...|   CHEMBL885360|         B|                null|   Homo sapiens|Neuronal acetylch...|                 null|                     null|               7|  Direct protein co...|          null|PROTEIN COMPLEX|   P30926|         [CHEMBL3038459, C...|  [P17787, P02708, ...|          IC|        TRUE|        TRUE|             AGONIST|            CHEMBL1907589|\n",
      "|CHEMBL1829763|      CHEMBL4235|                7.75|             7.75|                7.75|Small molecule|                     null|      null|                null|                null|                null|  CHEMBL3705154|         B|                null|   Homo sapiens|11-beta-hydroxyst...|                 null|                     null|               9|  Direct single pro...|          null| SINGLE PROTEIN|   P28845|              [CHEMBL3542430]|              [P80365]|      Enzyme|        TRUE|        TRUE|                    |                         |\n",
      "|  CHEMBL67279|      CHEMBL4793|                8.66|             8.66|                8.66|Small molecule|                      3.0|     false|                null|{8, [EFO_0000756,...|{null, null, null...|  CHEMBL3620566|         B|                null|   Homo sapiens|Dipeptidyl peptid...|                 null|                     null|               9|  Direct single pro...|          null| SINGLE PROTEIN|   Q86TI2|              [CHEMBL3885564]|              [Q6V1X1]|      Enzyme|        TRUE|        TRUE|                    |                         |\n",
      "|   CHEMBL1306|      CHEMBL3401|                4.85|             4.85|                4.85|Small molecule|                      4.0|      true|             {0, []}|{2, [EFO_0007543,...|{[terconazole], n...|  CHEMBL3531532|         A|                null|   Homo sapiens| Pregnane X receptor|                 null|                     null|               9|  Direct single pro...|          null| SINGLE PROTEIN|   O75469|                           []|                    []|          NR|       FALSE|       FALSE|           INHIBITOR|               CHEMBL1780|\n",
      "|CHEMBL3545367|      CHEMBL5113|    8.22, 8.24, 8.60|             8.60|                8.24|Small molecule|                      4.0|      true|{2, [ENSG00000137...|{7, [EFO_0004698,...|{[lemborexant], n...|  CHEMBL3588583|         B|                null|   Homo sapiens|   Orexin receptor 1|                 null|                     null|               9|  Direct single pro...|          null| SINGLE PROTEIN|   O43613|         [CHEMBL3301387, C...|      [O43614, P21554]|        GPCR|        TRUE|        TRUE|          ANTAGONIST|     CHEMBL4792, CHEMB...|\n",
      "|CHEMBL1952329|      CHEMBL5407|                7.62|             7.62|                7.62|Small molecule|                      1.0|     false|{3, [ENSG00000137...|{3, [MONDO_000831...|{null, null, [137...|  CHEMBL3750381|         B|                null|   Homo sapiens|Serine/threonine-...|                 null|                     null|               9|  Direct single pro...|          null| SINGLE PROTEIN|   Q86V86|              [CHEMBL3559682]|              [P11309]|      Kinase|       FALSE|       FALSE|           INHIBITOR|            CHEMBL3559682|\n",
      "|    CHEMBL611|   CHEMBL1293232|                5.40|             5.40|                 5.4|Small molecule|                      4.0|      true|{3, [ENSG00000120...|{9, [EFO_0000284,...|{[terazosin%20hyd...|  CHEMBL1613842|         F|                null|   Homo sapiens|Survival motor ne...|                 null|                     null|               9|  Direct single pro...|  confirmatory| SINGLE PROTEIN|   Q16637|                           []|                    []|  Epigenetic|        TRUE|        TRUE|          ANTAGONIST|            CHEMBL2094251|\n",
      "|CHEMBL1095292|       CHEMBL340|                5.80|             5.80|                 5.8|Small molecule|                      4.0|      true|{1, [ENSG00000103...|{3, [EFO_0004269,...|{null, null, [111...|  CHEMBL1613886|         A|                null|   Homo sapiens| Cytochrome P450 3A4|                 null|                     null|               9|  Direct single pro...|  confirmatory| SINGLE PROTEIN|   P08684|         [CHEMBL2111472, C...|              [P08684]|      Enzyme|        TRUE|        TRUE|           SUBSTRATE|                CHEMBL222|\n",
      "| CHEMBL186083|       CHEMBL259|                7.69|             7.69|                7.69|Small molecule|                     null|      null|                null|                null|                null|   CHEMBL917731|         B|{ANTAGONIST, Bind...|   Homo sapiens|Melanocortin rece...|                 null|                     null|               9|  Direct single pro...|          null| SINGLE PROTEIN|   P32245|         [CHEMBL2111423, C...|              [P32245]|        GPCR|        TRUE|        TRUE|                    |                         |\n",
      "|     CHEMBL20|      CHEMBL2885|    6.08, 3.52, 4.70|             6.08|                 4.7|Small molecule|                      4.0|      true|{4, [ENSG00000167...|{33, [MONDO_00053...|{[acetazolamide],...|   CHEMBL931796|         B|                null|   Homo sapiens|Carbonic anhydras...|                 null|                     null|               9|  Direct single pro...|          null| SINGLE PROTEIN|   P07451|              [CHEMBL2095180]|              [P00918]|      Enzyme|        TRUE|       FALSE|           INHIBITOR|     CHEMBL205, CHEMBL...|\n",
      "|   CHEMBL1709|      CHEMBL1963|                4.40|             4.40|                 4.4|Small molecule|                      4.0|      true|{1, [ENSG00000108...|{10, [MONDO_00020...|{[sertraline%20hy...|  CHEMBL1614361|         F|                null|   Homo sapiens|Thyroid stimulati...|                 null|                     null|               9|  Direct single pro...|  confirmatory| SINGLE PROTEIN|   P16473|                           []|                    []|        GPCR|       FALSE|       FALSE|           INHIBITOR|                CHEMBL228|\n",
      "|     CHEMBL20|      CHEMBL3912|          7.77, 8.00|             8.00|                7.77|Small molecule|                      4.0|      true|{4, [ENSG00000167...|{33, [MONDO_00053...|{[acetazolamide],...|  CHEMBL4043565|         B|                null|   Homo sapiens|Carbonic anhydras...|                 null|                     null|               9|  Direct single pro...|          null| SINGLE PROTEIN|   Q8N1Q1|              [CHEMBL2095180]|              [P00918]|      Enzyme|        TRUE|        TRUE|           INHIBITOR|     CHEMBL205, CHEMBL...|\n",
      "| CHEMBL332347|      CHEMBL5952|                6.60|             6.60|                 6.6|Small molecule|                     null|      null|                null|                null|{null, null, null...|  CHEMBL3750524|         B|                null|   Homo sapiens|Neuropeptide FF r...|                 null|                     null|               9|  Direct single pro...|          null| SINGLE PROTEIN|   Q9Y5X5|                           []|                    []|        GPCR|        TRUE|        TRUE|                    |                         |\n",
      "|    CHEMBL611|       CHEMBL232|                9.30|             9.30|                 9.3|Small molecule|                      4.0|      true|{3, [ENSG00000120...|{9, [EFO_0000284,...|{[terazosin%20hyd...|  CHEMBL3405641|         B|                null|   Homo sapiens|Alpha-1b adrenerg...|                 null|                     null|               9|  Direct single pro...|          null| SINGLE PROTEIN|   P35368|         [CHEMBL2096676, C...|              [P35348]|        GPCR|        TRUE|        TRUE|          ANTAGONIST|            CHEMBL2094251|\n",
      "| CHEMBL235191|       CHEMBL325|                7.30|             7.30|                 7.3|Small molecule|                      3.0|     false|{11, [ENSG0000011...|{3, [EFO_0001378,...|{null, null, null...|  CHEMBL1216982|         B|                null|   Homo sapiens|Histone deacetyla...|                 null|                     null|               9|  Direct single pro...|          null| SINGLE PROTEIN|   Q13547|         [CHEMBL2111429, C...|              [Q13547]|  Epigenetic|        TRUE|        TRUE|           INHIBITOR|            CHEMBL2093865|\n",
      "|    CHEMBL498|      CHEMBL3622|                4.40|             4.40|                 4.4|Small molecule|                      4.0|      true|{2, [ENSG00000187...|{2, [MONDO_000514...|{null, null, [111...|  CHEMBL1613777|         A|                null|   Homo sapiens|Cytochrome P450 2C19|                 null|                     null|               9|  Direct single pro...|  confirmatory| SINGLE PROTEIN|   P33261|              [CHEMBL4523986]|              [P08684]|        None|       FALSE|       FALSE|             BLOCKER|            CHEMBL2096972|\n",
      "|CHEMBL1455766|       CHEMBL233|                6.51|             6.51|                6.51|Small molecule|                     null|      null|                null|                null|{null, null, [248...|  CHEMBL3590960|         B|                null|   Homo sapiens|  Mu opioid receptor|                 null|                     null|               9|  Direct single pro...|          null| SINGLE PROTEIN|   P35372|         [CHEMBL2095149, C...|  [P41145, P51681, ...|        GPCR|        TRUE|        TRUE|                    |                         |\n",
      "+-------------+----------------+--------------------+-----------------+--------------------+--------------+-------------------------+----------+--------------------+--------------------+--------------------+---------------+----------+--------------------+---------------+--------------------+---------------------+-------------------------+----------------+----------------------+--------------+---------------+---------+-----------------------------+----------------------+------------+------------+------------+--------------------+-------------------------+\n",
      "only showing top 20 rows\n",
      "\n"
     ]
    },
    {
     "name": "stderr",
     "output_type": "stream",
     "text": [
      "                                                                                \r"
     ]
    },
    {
     "data": {
      "text/plain": [
       "4647"
      ]
     },
     "execution_count": 38,
     "metadata": {},
     "output_type": "execute_result"
    }
   ],
   "source": [
    "# Merge columns\n",
    "drug_to_moa_parent_merge = drug_to_moa_parent.withColumn(\n",
    "    \"action_type_moa_merge\",\n",
    "    concat_ws(\", \", \"action_type_moa_parent\", \"action_type_moa\")\n",
    ").withColumn(\n",
    "    \"target_chembl_id_moa_merge\",\n",
    "    concat_ws(\", \", \"target_chembl_id_moa_parent\", \"target_chembl_id_moa\")\n",
    ")\n",
    "\n",
    "# Aggregate by drugId\n",
    "drug_to_moa_parent_aggr = drug_to_moa_parent_merge.groupBy(\"drugId\").agg(\n",
    "    collect_list(\"action_type_moa_merge\").alias(\"action_type_moa_aggr\"),\n",
    "    collect_list(\"target_chembl_id_moa_merge\").alias(\"target_chembl_id_moa_aggr\")\n",
    ")\n",
    "\n",
    "# Define a UDF to remove duplicates within a concatenated string\n",
    "def remove_internal_duplicates(concatenated_str):\n",
    "    unique_items = set(concatenated_str.split(\", \"))\n",
    "    return \", \".join(unique_items)\n",
    "\n",
    "# Register the UDF\n",
    "remove_internal_duplicates_udf = udf(remove_internal_duplicates, StringType())\n",
    "\n",
    "# Apply UDF to remove duplicates within the concatenated strings\n",
    "drug_to_moa_parent_duplicates = drug_to_moa_parent_aggr.withColumn(\n",
    "    \"action_type_moa_aggr\",\n",
    "    remove_internal_duplicates_udf(f.concat_ws(\", \", \"action_type_moa_aggr\"))\n",
    ").withColumn(\n",
    "    \"target_chembl_id_moa_aggr\",\n",
    "    remove_internal_duplicates_udf(f.concat_ws(\", \", \"target_chembl_id_moa_aggr\"))\n",
    ")\n",
    "        \n",
    "# Join the aggregated data back to the original drug_to_moa_parent and drop the old columns and duplicates\n",
    "drug_to_moa_final = drug_to_moa_parent.join(\n",
    "    drug_to_moa_parent_duplicates, [\"drugId\"], how=\"left\"\n",
    ")\\\n",
    "    .drop(\n",
    "    \"action_type_moa_parent\", \"action_type_moa\", \"target_chembl_id_moa_parent\", \"target_chembl_id_moa\"\n",
    ")\\\n",
    "    .dropDuplicates()\n",
    "\n",
    "drug_to_moa_final.show()\n",
    "drug_to_moa_final.count()"
   ]
  },
  {
   "cell_type": "code",
   "execution_count": 39,
   "metadata": {},
   "outputs": [],
   "source": [
    "# # Concat moa to 1 row\n",
    "# drug_to_moa_concat = drug_to_moa.groupBy(\"target_chembl_id\", \"drugId\")\\\n",
    "#     .agg(concat_ws(\", \", array_distinct(collect_list(\"target_chembl_id_moa\"))).alias(\"target_chembl_id_moa_aggr\"))\n",
    "\n",
    "# drug_to_moa_drop = drug_to_moa.drop(\"target_chembl_id_moa\")\n",
    "# drug_to_moa_uniq = drug_to_moa_drop.dropDuplicates([\"target_chembl_id\", \"drugId\"])\n",
    "\n",
    "# drug_to_moa_join = drug_to_moa_concat.join(drug_to_moa_uniq, [\"target_chembl_id\", \"drugId\"], \"left_outer\")\n",
    "\n",
    "# drug_to_moa_join.count()"
   ]
  },
  {
   "cell_type": "code",
   "execution_count": 40,
   "metadata": {},
   "outputs": [],
   "source": [
    "# mechanism_filtered = mechanism.filter(mechanism[\"parent_molecule_chembl_id\"] == \"CHEMBL3545181\")\n",
    "# mechanism_filtered.show()"
   ]
  },
  {
   "cell_type": "code",
   "execution_count": 41,
   "metadata": {},
   "outputs": [],
   "source": [
    "# drug_to_moa_filtered = drug_to_moa_join.filter(drug_to_moa_join[\"drugId\"] == \"CHEMBL715\")\n",
    "# # drug_to_moa_filtered.show()\n",
    "# selected_column = drug_to_moa_filtered.select(\"target_chembl_id_moa_aggr\").collect()\n",
    "# print(selected_column)"
   ]
  },
  {
   "cell_type": "code",
   "execution_count": 42,
   "metadata": {},
   "outputs": [],
   "source": [
    "# drug_to_moa_join.printSchema()"
   ]
  },
  {
   "cell_type": "code",
   "execution_count": 43,
   "metadata": {},
   "outputs": [],
   "source": [
    "# drug_to_moa_filtered = drug_to_moa_join.filter(drug_to_moa_join[\"drugId\"] == \"CHEMBL715\")\n",
    "# # drug_to_moa_filtered.show()\n",
    "# selected_column = drug_to_moa_filtered.select(\"linkedTargets\").collect()\n",
    "# print(selected_column)"
   ]
  },
  {
   "cell_type": "markdown",
   "metadata": {},
   "source": [
    "##### just in case: I'm not using linkedTargets as a source of MoA because it contains only ensembl IDs"
   ]
  },
  {
   "cell_type": "code",
   "execution_count": 44,
   "metadata": {},
   "outputs": [
    {
     "name": "stderr",
     "output_type": "stream",
     "text": [
      "                                                                                \r"
     ]
    },
    {
     "name": "stdout",
     "output_type": "stream",
     "text": [
      "+-------------+----------------+--------------------+-----------------+--------------------+--------------+-------------------------+----------+--------------------+--------------------+--------------------+---------------+----------+-----------+---------------+--------------------+---------------------+-------------------------+----------------+----------------------+--------------+---------------+---------+-----------------------------+----------------------+------------+------------+------------+--------------------+-------------------------+-------+\n",
      "|       drugId|target_chembl_id|  pchembl_value_aggr|max_pchembl_value|median_pchembl_value|      drugType|maximumClinicalTrialPhase|isApproved|       linkedTargets|      linkedDiseases|     crossReferences|assay_chembl_id|assay_type|action_type|target_organism|    target_pref_name|data_validity_comment|data_validity_description|confidence_score|confidence_description|assay_category|    target_type|accession|related_target_chembl_id_aggr|accession_related_aggr|proteinClass|isActive_max|isActive_med|action_type_moa_aggr|target_chembl_id_moa_aggr|isInMoA|\n",
      "+-------------+----------------+--------------------+-----------------+--------------------+--------------+-------------------------+----------+--------------------+--------------------+--------------------+---------------+----------+-----------+---------------+--------------------+---------------------+-------------------------+----------------+----------------------+--------------+---------------+---------+-----------------------------+----------------------+------------+------------+------------+--------------------+-------------------------+-------+\n",
      "|CHEMBL3353357|      CHEMBL3788|                8.51|             8.51|                8.51|Small molecule|                     null|      null|                null|                null|                null|  CHEMBL3411381|         B|       null|   Homo sapiens|Serine/threonine-...|                 null|                     null|               9|  Direct single pro...|          null| SINGLE PROTEIN|   O00444|                           []|                    []|      Kinase|        TRUE|        TRUE|                    |                         |  false|\n",
      "|CHEMBL2041933|       CHEMBL258|                5.89|             5.89|                5.89|Small molecule|                      1.0|     false|{1, [ENSG00000149...|{2, [EFO_0000616,...|{null, null, [124...|  CHEMBL3991747|         B|       null|   Homo sapiens|Tyrosine-protein ...|                 null|                     null|               9|  Direct single pro...|          null| SINGLE PROTEIN|   P06239|         [CHEMBL4523727, C...|  [P06241, P12931, ...|      Kinase|       FALSE|       FALSE|           INHIBITOR|               CHEMBL4630|  false|\n",
      "|CHEMBL2105763|      CHEMBL1937|               10.22|            10.22|               10.22|Small molecule|                      2.0|     false|{11, [ENSG0000011...|{3, [EFO_0002913,...|{null, null, null...|  CHEMBL3598913|         B|       null|   Homo sapiens|Histone deacetyla...|                 null|                     null|               9|  Direct single pro...|          null| SINGLE PROTEIN|   Q92769|         [CHEMBL2111429, C...|      [Q92769, Q13547]|  Epigenetic|        TRUE|        TRUE|           INHIBITOR|            CHEMBL2093865|   true|\n",
      "|CHEMBL3264932|       CHEMBL242|                4.82|             4.82|                4.82|Small molecule|                     null|      null|                null|                null|                null|  CHEMBL3269977|         B|       null|   Homo sapiens|Estrogen receptor...|                 null|                     null|               9|  Direct single pro...|          null| SINGLE PROTEIN|   Q92731|              [CHEMBL2093866]|              [Q92731]|          NR|       FALSE|       FALSE|                    |                         |  false|\n",
      "|    CHEMBL111|       CHEMBL253|    6.22, 6.40, 5.75|             6.40|                6.22|Small molecule|                      4.0|      true|{1, [ENSG00000118...|{17, [EFO_0004329...|{null, null, [144...|  CHEMBL3378768|         B|       null|   Homo sapiens|Cannabinoid CB2 r...|                 null|                     null|               9|  Direct single pro...|          null| SINGLE PROTEIN|   P34972|              [CHEMBL2096981]|              [P34972]|        GPCR|       FALSE|       FALSE|          ANTAGONIST|                CHEMBL218|  false|\n",
      "|CHEMBL3139186|       CHEMBL253|                7.70|             7.70|                 7.7|Small molecule|                      2.0|     false|{1, [ENSG00000188...|  {1, [EFO_0004616]}|                null|  CHEMBL3238913|         F|       null|   Homo sapiens|Cannabinoid CB2 r...|                 null|                     null|               9|  Direct single pro...|          null| SINGLE PROTEIN|   P34972|              [CHEMBL2096981]|              [P34972]|        GPCR|        TRUE|        TRUE|             AGONIST|                CHEMBL253|   true|\n",
      "| CHEMBL253969|      CHEMBL6029|                5.45|             5.45|                5.45|Small molecule|                      2.0|     false|{1, [ENSG00000128...|{6, [MONDO_002111...|{null, null, [103...|  CHEMBL3991697|         B|       null|   Homo sapiens|Eukaryotic transl...|                 null|                     null|               9|  Direct single pro...|          null| SINGLE PROTEIN|   Q9BQI3|                           []|                    []|      Kinase|       FALSE|       FALSE|           INHIBITOR|                CHEMBL279|  false|\n",
      "|   CHEMBL1421|      CHEMBL5491|                5.16|             5.16|                5.16|Small molecule|                      4.0|      true|{15, [ENSG0000011...|{78, [EFO_0000768...|{[dasatinib], nul...|  CHEMBL1061935|         B|       null|   Homo sapiens|Serine/threonine-...|                 null|                     null|               9|  Direct single pro...|          null| SINGLE PROTEIN|   P30291|         [CHEMBL5169067, C...|              [P30291]|      Kinase|       FALSE|       FALSE|           INHIBITOR|     CHEMBL2363074, CH...|  false|\n",
      "|  CHEMBL21731|       CHEMBL340|                5.60|             5.60|                 5.6|Small molecule|                      4.0|      true|{1, [ENSG00000103...|{7, [EFO_0005230,...|{null, null, [104...|  CHEMBL1614108|         A|       null|   Homo sapiens| Cytochrome P450 3A4|                 null|                     null|               9|  Direct single pro...|  confirmatory| SINGLE PROTEIN|   P08684|         [CHEMBL2111472, C...|              [P08684]|      Enzyme|        TRUE|        TRUE|           INHIBITOR|                CHEMBL222|  false|\n",
      "|    CHEMBL565|       CHEMBL340|                5.00|             5.00|                 5.0|Small molecule|                      4.0|      true|{1, [ENSG00000186...|{3, [EFO_1001375,...|{null, null, [111...|  CHEMBL1613886|         A|       null|   Homo sapiens| Cytochrome P450 3A4|                 null|                     null|               9|  Direct single pro...|  confirmatory| SINGLE PROTEIN|   P08684|         [CHEMBL2111472, C...|              [P08684]|      Enzyme|       FALSE|       FALSE|             AGONIST|                CHEMBL239|  false|\n",
      "| CHEMBL220491|       CHEMBL261|4.35, 4.35, 4.35,...|             4.35|                4.35|Small molecule|                      4.0|      true|{1, [ENSG00000104...|{4, [EFO_0009784,...|{[brinzolamide], ...|  CHEMBL2380061|         B|       null|   Homo sapiens|Carbonic anhydrase I|                 null|                     null|               9|  Direct single pro...|          null| SINGLE PROTEIN|   P00915|              [CHEMBL2095180]|              [P00918]|      Enzyme|       FALSE|       FALSE|           INHIBITOR|                CHEMBL205|  false|\n",
      "|    CHEMBL705|      CHEMBL2004|                7.85|             7.85|                7.85|Small molecule|                      4.0|      true|{6, [ENSG00000204...|{7, [EFO_1000706,...|{[alitretinoin], ...|   CHEMBL798204|         B|       null|   Homo sapiens|Retinoid X recept...|                 null|                     null|               9|  Direct single pro...|          null| SINGLE PROTEIN|   P48443|         [CHEMBL2363071, C...|      [P28702, P48443]|          NR|        TRUE|        TRUE|             AGONIST|            CHEMBL2363071|   true|\n",
      "|CHEMBL1911272|      CHEMBL2034|                6.85|             6.85|                6.85|Small molecule|                     null|      null|                null|                null|                null|  CHEMBL1914169|         B|       null|   Homo sapiens|Glucocorticoid re...|                 null|                     null|               9|  Direct single pro...|          null| SINGLE PROTEIN|   P04150|                           []|                    []|          NR|        TRUE|        TRUE|                    |                         |  false|\n",
      "| CHEMBL389433|      CHEMBL1978|                8.30|             8.30|                 8.3|Small molecule|                      2.0|     false|                null|{1, [MONDO_0017778]}|{null, null, [501...|  CHEMBL1105634|         B|       null|   Homo sapiens|Cytochrome P450 19A1|                 null|                     null|               9|  Direct single pro...|          null| SINGLE PROTEIN|   P11511|                           []|                    []|      Enzyme|        TRUE|        TRUE|                    |                         |  false|\n",
      "|    CHEMBL902|      CHEMBL3242|                7.34|             7.34|                7.34|Small molecule|                      4.0|      true|{1, [ENSG00000113...|{28, [MONDO_01000...|{[famotidine], nu...|  CHEMBL4269593|         B|       null|   Homo sapiens|Carbonic anhydras...|                 null|                     null|               9|  Direct single pro...|          null| SINGLE PROTEIN|   O43570|              [CHEMBL2095180]|              [P00918]|      Enzyme|        TRUE|        TRUE|          ANTAGONIST|               CHEMBL1941|  false|\n",
      "|    CHEMBL667|   CHEMBL1907589|                6.00|             6.00|                 6.0|Small molecule|                      4.0|      true|{1, [ENSG00000133...|{11, [EFO_0004272...|{null, null, [124...|  CHEMBL3607134|         B|       null|   Homo sapiens|Neuronal acetylch...|                 null|                     null|               7|  Direct protein co...|          null|PROTEIN COMPLEX|   P17787|         [CHEMBL2111384, C...|  [P17787, P02708, ...|          IC|        TRUE|        TRUE|             AGONIST|                CHEMBL245|  false|\n",
      "|CHEMBL3628113|      CHEMBL2736|                5.95|             5.95|                5.95|Small molecule|                     null|      null|                null|                null|                null|  CHEMBL3631171|         F|       null|   Homo sapiens|Metabotropic glut...|                 null|                     null|               9|  Direct single pro...|          null| SINGLE PROTEIN|   Q14833|                           []|                    []|        GPCR|       FALSE|       FALSE|                    |                         |  false|\n",
      "|CHEMBL2364611|       CHEMBL279|                6.36|             6.36|                6.36|Small molecule|                      2.0|     false|{1, [ENSG00000106...|{12, [EFO_0009708...|{null, null, null...|  CHEMBL3270796|         B|       null|   Homo sapiens|Vascular endothel...|                 null|                     null|               9|  Direct single pro...|          null| SINGLE PROTEIN|   P35968|         [CHEMBL2111336, C...|  [P35968, P17948, ...|      Kinase|       FALSE|       FALSE|           INHIBITOR|               CHEMBL4439|  false|\n",
      "|   CHEMBL1437|   CHEMBL1293224|                5.20|             5.20|                 5.2|Small molecule|                      4.0|      true|{9, [ENSG00000120...|{23, [EFO_0005207...|{[norepinephrine%...|  CHEMBL1613899|         F|       null|   Homo sapiens|Microtubule-assoc...|                 null|                     null|               9|  Direct single pro...|  confirmatory| SINGLE PROTEIN|   P10636|         [CHEMBL4296123, C...|              [P10636]|        None|        TRUE|        TRUE|             AGONIST|            CHEMBL2331074|  false|\n",
      "|CHEMBL4081711|      CHEMBL3778|                8.70|             8.70|                 8.7|Small molecule|                      2.0|     false|{1, [ENSG00000198...|{3, [EFO_1000710,...|{null, null, null...|  CHEMBL4015988|         B|       null|   Homo sapiens|Interleukin-1 rec...|                 null|                     null|               9|  Direct single pro...|          null| SINGLE PROTEIN|   Q9NWZ3|         [CHEMBL4523742, C...|              [Q9NWZ3]|      Kinase|        TRUE|        TRUE|           INHIBITOR|               CHEMBL3778|   true|\n",
      "+-------------+----------------+--------------------+-----------------+--------------------+--------------+-------------------------+----------+--------------------+--------------------+--------------------+---------------+----------+-----------+---------------+--------------------+---------------------+-------------------------+----------------+----------------------+--------------+---------------+---------+-----------------------------+----------------------+------------+------------+------------+--------------------+-------------------------+-------+\n",
      "only showing top 20 rows\n",
      "\n"
     ]
    }
   ],
   "source": [
    "# Add a new column 'isInMoA': if target/related target is in moa of a drug\n",
    "\n",
    "# Define the UDF\n",
    "def check_is_in_moa(target_chembl_id, related_target_chembl_id_aggr, target_chembl_id_moa_aggr):\n",
    "    # Split the target_chembl_id_moa_aggr into a list if it's not None\n",
    "    target_moa_list = target_chembl_id_moa_aggr.split(\", \") if target_chembl_id_moa_aggr else []\n",
    "    # Check if target_chembl_id is in the list\n",
    "    if target_chembl_id in target_moa_list:\n",
    "        return True\n",
    "    # Check if any of the related_target_chembl_id_aggr is in the list\n",
    "    for chembl_id in related_target_chembl_id_aggr:\n",
    "        if chembl_id in target_moa_list:\n",
    "            return True\n",
    "    return False\n",
    "\n",
    "# Register the UDF\n",
    "is_in_moa_udf = udf(check_is_in_moa, BooleanType())\n",
    "\n",
    "# Apply UDF to create the new column\n",
    "drug_to_moa_isInMoA = drug_to_moa_final.withColumn(\"isInMoA\", is_in_moa_udf(\n",
    "                                                    \"target_chembl_id\", \n",
    "                                                    \"related_target_chembl_id_aggr\", \n",
    "                                                    \"target_chembl_id_moa_aggr\"\n",
    "                                                ))\n",
    "\n",
    "drug_to_moa_isInMoA.show()"
   ]
  },
  {
   "cell_type": "code",
   "execution_count": 45,
   "metadata": {},
   "outputs": [
    {
     "name": "stderr",
     "output_type": "stream",
     "text": [
      "                                                                                \r"
     ]
    },
    {
     "data": {
      "text/plain": [
       "4647"
      ]
     },
     "execution_count": 45,
     "metadata": {},
     "output_type": "execute_result"
    }
   ],
   "source": [
    "drug_to_moa_isInMoA.count()"
   ]
  },
  {
   "cell_type": "code",
   "execution_count": null,
   "metadata": {},
   "outputs": [
    {
     "name": "stdout",
     "output_type": "stream",
     "text": [
      "+-------+-------------+-------------------------+----------------+\n",
      "|isInMoA|       drugId|target_chembl_id_moa_aggr|target_chembl_id|\n",
      "+-------+-------------+-------------------------+----------------+\n",
      "|  false|CHEMBL2105717|     CHEMBL279, CHEMBL...|      CHEMBL1936|\n",
      "|  false|CHEMBL2105717|     CHEMBL279, CHEMBL...|      CHEMBL4722|\n",
      "|   true|CHEMBL2105717|     CHEMBL279, CHEMBL...|      CHEMBL3717|\n",
      "|   true|CHEMBL2105717|     CHEMBL279, CHEMBL...|       CHEMBL279|\n",
      "|  false|CHEMBL2105717|     CHEMBL279, CHEMBL...|       CHEMBL203|\n",
      "+-------+-------------+-------------------------+----------------+\n",
      "\n"
     ]
    }
   ],
   "source": [
    "# drug_to_moa_isInMoA_filtered = drug_to_moa_isInMoA.filter(drug_to_moa_isInMoA[\"drugId\"] == \"CHEMBL2105717\")\n",
    "\n",
    "# selected_column = drug_to_moa_isInMoA_filtered.select(\"isInMoA\", \"drugId\", \"target_chembl_id_moa_aggr\", \"target_chembl_id\")\n",
    "# selected_column.show()"
   ]
  },
  {
   "cell_type": "markdown",
   "metadata": {},
   "source": [
    "### Targets: Evidence type: sources + classification for GE, clinical_GE, probes (boolean)"
   ]
  },
  {
   "cell_type": "code",
   "execution_count": 46,
   "metadata": {},
   "outputs": [
    {
     "name": "stderr",
     "output_type": "stream",
     "text": [
      "[Stage 290:>                                                        (0 + 1) / 1]\r"
     ]
    },
    {
     "name": "stdout",
     "output_type": "stream",
     "text": [
      "+----------+---------+---------------+--------------------+------------------+-------------------+\n",
      "|    drugId|uniprotId|       targetId|             sources|isHighQualityProbe|isTherapeuticTarget|\n",
      "+----------+---------+---------------+--------------------+------------------+-------------------+\n",
      "|CHEMBL1000|   O00167|ENSG00000064655|[ot_genetics_portal]|             false|              false|\n",
      "|CHEMBL1000|   O00555|ENSG00000141837|[uniprot_literatu...|             false|              false|\n",
      "|CHEMBL1000|   O14633|ENSG00000159455|[ot_genetics_portal]|             false|              false|\n",
      "|CHEMBL1000|   O60706|ENSG00000069431|            [chembl]|             false|               true|\n",
      "|CHEMBL1000|   P00352|ENSG00000165092|[ot_genetics_portal]|             false|              false|\n",
      "|CHEMBL1000|   P01567|ENSG00000214042|            [chembl]|             false|               true|\n",
      "|CHEMBL1000|   P04155|ENSG00000160182|[ot_genetics_portal]|             false|              false|\n",
      "|CHEMBL1000|   P20036|ENSG00000231389|[ot_genetics_portal]|             false|              false|\n",
      "|CHEMBL1000|   P35908|ENSG00000172867|              [impc]|             false|              false|\n",
      "|CHEMBL1000|   P49840|ENSG00000105723|            [chembl]|             false|               true|\n",
      "|CHEMBL1000|   P51617|ENSG00000184216|              [impc]|             false|              false|\n",
      "|CHEMBL1000|   P56270|ENSG00000103495|[ot_genetics_portal]|             false|              false|\n",
      "|CHEMBL1000|   P58511|ENSG00000205670|[ot_genetics_portal]|             false|              false|\n",
      "|CHEMBL1000|   Q03431|ENSG00000160801|            [chembl]|             false|               true|\n",
      "|CHEMBL1000|   Q06124|ENSG00000179295|[ot_genetics_portal]|             false|              false|\n",
      "|CHEMBL1000|   Q16552|ENSG00000112115|      [impc, chembl]|             false|               true|\n",
      "|CHEMBL1000|   Q7Z2W4|ENSG00000105939|[ot_genetics_portal]|             false|              false|\n",
      "|CHEMBL1000|   Q86SJ6|ENSG00000175065|              [impc]|             false|              false|\n",
      "|CHEMBL1000|   Q8N1K5|ENSG00000172673|[ot_genetics_portal]|             false|              false|\n",
      "|CHEMBL1000|   Q8N8W4|ENSG00000180316|              [impc]|             false|              false|\n",
      "+----------+---------+---------------+--------------------+------------------+-------------------+\n",
      "only showing top 20 rows\n",
      "\n"
     ]
    },
    {
     "name": "stderr",
     "output_type": "stream",
     "text": [
      "                                                                                \r"
     ]
    }
   ],
   "source": [
    "# Irene's table\n",
    "evidence_path = \"gs://ot-team/irene/drug_to_target\"\n",
    "evidence = spark.read.parquet(evidence_path)\n",
    "evidence.persist()\n",
    "evidence.show()"
   ]
  },
  {
   "cell_type": "code",
   "execution_count": 47,
   "metadata": {},
   "outputs": [],
   "source": [
    "# Join by drugId and uniprotId = accession\n",
    "evidence_list = [\"targetId\", \"sources\", \"isHighQualityProbe\", \"isTherapeuticTarget\"]\n",
    "\n",
    "target_evidence = join_dataframes_by_many_cols(drug_to_moa_isInMoA, \n",
    "                                            evidence, \n",
    "                                            [\"drugId\", \"accession\"], \n",
    "                                            [\"drugId\", \"uniprotId\"], \n",
    "                                             evidence_list).persist()\n",
    "# target_evidence.show()"
   ]
  },
  {
   "cell_type": "code",
   "execution_count": 52,
   "metadata": {},
   "outputs": [
    {
     "name": "stderr",
     "output_type": "stream",
     "text": [
      "                                                                                \r"
     ]
    },
    {
     "data": {
      "text/plain": [
       "4656"
      ]
     },
     "execution_count": 52,
     "metadata": {},
     "output_type": "execute_result"
    }
   ],
   "source": [
    "target_evidence.count()"
   ]
  },
  {
   "cell_type": "code",
   "execution_count": 53,
   "metadata": {},
   "outputs": [],
   "source": [
    "# Classification of targets by genetic evidence support\n",
    "def is_ge(sources):\n",
    "    undesired_lists = [\n",
    "        ['chembl'],\n",
    "        ['chemicalProbes'],\n",
    "        ['chembl', 'chemicalProbes'],\n",
    "        ['chemicalProbes', 'chembl']\n",
    "    ]\n",
    "    return not (sources in undesired_lists or sources is None)\n",
    "\n",
    "def is_ge_clinical(sources):\n",
    "    undesired_lists = [['chemicalProbes']]\n",
    "    return not (sources in undesired_lists or sources is None)\n",
    "\n",
    "def contains_chemical_probes(sources):\n",
    "    return 'chemicalProbes' in sources if sources else False\n",
    "\n",
    "# Register UDFs\n",
    "is_ge_udf = udf(is_ge, BooleanType())\n",
    "is_ge_clinical_udf = udf(is_ge_clinical, BooleanType())\n",
    "contains_chemical_probes_udf = udf(contains_chemical_probes, BooleanType())\n",
    "\n",
    "# Apply UDFs to create new columns\n",
    "target_evidence_bool = target_evidence.withColumn(\"isGE\", is_ge_udf(\"sources\"))\\\n",
    "                        .withColumn(\"isGE_clinical\", is_ge_clinical_udf(\"sources\"))\\\n",
    "                        .withColumn(\"isProbe\", contains_chemical_probes_udf(\"sources\"))\n",
    "\n",
    "# target_evidence_bool.show()\n",
    "# target_evidence_bool.count()"
   ]
  },
  {
   "cell_type": "code",
   "execution_count": 54,
   "metadata": {},
   "outputs": [
    {
     "data": {
      "text/plain": [
       "4656"
      ]
     },
     "execution_count": 54,
     "metadata": {},
     "output_type": "execute_result"
    }
   ],
   "source": [
    "target_evidence_bool.count()"
   ]
  },
  {
   "cell_type": "code",
   "execution_count": 55,
   "metadata": {},
   "outputs": [
    {
     "name": "stderr",
     "output_type": "stream",
     "text": [
      "24/01/23 17:22:20 WARN DAGScheduler: Broadcasting large task binary with size 1093.7 KiB\n",
      "                                                                                \r"
     ]
    }
   ],
   "source": [
    "target_evidence_bool.write.parquet(\"gs://ot-team/polina/target_evidence_bool_6\")"
   ]
  },
  {
   "cell_type": "code",
   "execution_count": 58,
   "metadata": {},
   "outputs": [
    {
     "name": "stderr",
     "output_type": "stream",
     "text": [
      "                                                                                \r"
     ]
    },
    {
     "data": {
      "text/plain": [
       "251"
      ]
     },
     "execution_count": 58,
     "metadata": {},
     "output_type": "execute_result"
    }
   ],
   "source": [
    "# How many targets:\n",
    "#   have assays for active drugs (pchembl median)\n",
    "#   not in MoA of these drugs\n",
    "#   supported by GE or clinical evidence\n",
    "\n",
    "med_notmoa_ge_clin = target_evidence_bool\\\n",
    "                        .filter(target_evidence_bool[\"IsActive_med\"] == True)\\\n",
    "                        .filter(target_evidence_bool[\"isInMoA\"] == False)\\\n",
    "                        .filter(target_evidence_bool[\"isGE_clinical\"] == True)\\\n",
    "\n",
    "count_unique_values(med_notmoa_ge_clin.drop_duplicates([\"target_chembl_id\"]), \"target_chembl_id\")"
   ]
  },
  {
   "cell_type": "code",
   "execution_count": null,
   "metadata": {},
   "outputs": [],
   "source": []
  },
  {
   "cell_type": "code",
   "execution_count": null,
   "metadata": {},
   "outputs": [],
   "source": []
  },
  {
   "cell_type": "code",
   "execution_count": null,
   "metadata": {},
   "outputs": [],
   "source": []
  },
  {
   "cell_type": "markdown",
   "metadata": {},
   "source": [
    "### Counts targets with non-pharmacological MoA"
   ]
  },
  {
   "cell_type": "code",
   "execution_count": null,
   "metadata": {},
   "outputs": [
    {
     "name": "stderr",
     "output_type": "stream",
     "text": [
      "                                                                                \r"
     ]
    },
    {
     "data": {
      "text/plain": [
       "135"
      ]
     },
     "metadata": {},
     "output_type": "display_data"
    }
   ],
   "source": [
    "# How many targets:\n",
    "#   have assays for active drugs \n",
    "#   not in MoA of these drugs\n",
    "#   supported by GE or clinical evidence\n",
    "\n",
    "target_evidence_no_moa = target_evidence_bool\\\n",
    "                        .filter(target_evidence_bool[\"IsActive_max\"] == True)\\\n",
    "                        .filter(target_evidence_bool[\"isInMoA\"].isNull())\\\n",
    "                        .filter(target_evidence_bool[\"isGE_clinical\"] == True)\\\n",
    "\n",
    "count_unique_values(target_evidence_no_moa.drop_duplicates([\"target_chembl_id\"]), \"target_chembl_id\")"
   ]
  },
  {
   "cell_type": "code",
   "execution_count": null,
   "metadata": {},
   "outputs": [
    {
     "name": "stderr",
     "output_type": "stream",
     "text": [
      "                                                                                \r"
     ]
    },
    {
     "data": {
      "text/plain": [
       "83"
      ]
     },
     "metadata": {},
     "output_type": "display_data"
    }
   ],
   "source": [
    "# How many targets:\n",
    "#   have assays for active drugs \n",
    "#   not in MoA of these drugs\n",
    "#   supported by GE\n",
    "\n",
    "target_evidence_no_moa = target_evidence_bool\\\n",
    "                        .filter(target_evidence_bool[\"IsActive_max\"] == True)\\\n",
    "                        .filter(target_evidence_bool[\"isInMoA\"].isNull())\\\n",
    "                        .filter(target_evidence_bool[\"isGE\"] == True)\\\n",
    "\n",
    "count_unique_values(target_evidence_no_moa.drop_duplicates([\"target_chembl_id\"]), \"target_chembl_id\")"
   ]
  },
  {
   "cell_type": "code",
   "execution_count": null,
   "metadata": {},
   "outputs": [
    {
     "name": "stderr",
     "output_type": "stream",
     "text": [
      "                                                                                \r"
     ]
    },
    {
     "data": {
      "text/plain": [
       "133"
      ]
     },
     "metadata": {},
     "output_type": "display_data"
    }
   ],
   "source": [
    "# How many targets:\n",
    "#   have assays for active drugs (pchembl median)\n",
    "#   not in MoA of these drugs\n",
    "#   supported by GE or clinical evidence\n",
    "\n",
    "target_evidence_no_moa = target_evidence_bool\\\n",
    "                        .filter(target_evidence_bool[\"IsActive_med\"] == True)\\\n",
    "                        .filter(target_evidence_bool[\"isInMoA\"].isNull())\\\n",
    "                        .filter(target_evidence_bool[\"isGE_clinical\"] == True)\\\n",
    "\n",
    "count_unique_values(target_evidence_no_moa.drop_duplicates([\"target_chembl_id\"]), \"target_chembl_id\")"
   ]
  },
  {
   "cell_type": "code",
   "execution_count": null,
   "metadata": {},
   "outputs": [
    {
     "name": "stderr",
     "output_type": "stream",
     "text": [
      "                                                                                \r"
     ]
    },
    {
     "data": {
      "text/plain": [
       "239"
      ]
     },
     "metadata": {},
     "output_type": "display_data"
    }
   ],
   "source": [
    "target_evidence_no_moa.count()"
   ]
  },
  {
   "cell_type": "code",
   "execution_count": null,
   "metadata": {},
   "outputs": [],
   "source": []
  },
  {
   "cell_type": "code",
   "execution_count": null,
   "metadata": {},
   "outputs": [
    {
     "name": "stderr",
     "output_type": "stream",
     "text": [
      "                                                                                \r"
     ]
    },
    {
     "data": {
      "text/plain": [
       "438"
      ]
     },
     "metadata": {},
     "output_type": "display_data"
    }
   ],
   "source": [
    "# No targets in MoA for probes\n",
    "target_evidence_no_moa_probes = target_evidence_bool\\\n",
    "                        .filter(target_evidence_bool[\"target_chembl_id_moa\"].isNull())\\\n",
    "                        .filter(target_evidence_bool[\"IsActive\"] == True)\\\n",
    "                        .filter(target_evidence_bool[\"isProbe\"] == True)\n",
    "count_unique_values(target_evidence_no_moa_probes, \"drugId\")"
   ]
  },
  {
   "cell_type": "code",
   "execution_count": null,
   "metadata": {},
   "outputs": [],
   "source": []
  },
  {
   "cell_type": "code",
   "execution_count": null,
   "metadata": {},
   "outputs": [],
   "source": []
  },
  {
   "cell_type": "code",
   "execution_count": null,
   "metadata": {},
   "outputs": [],
   "source": []
  },
  {
   "cell_type": "code",
   "execution_count": null,
   "metadata": {},
   "outputs": [
    {
     "name": "stderr",
     "output_type": "stream",
     "text": [
      "                                                                                \r"
     ]
    },
    {
     "data": {
      "text/plain": [
       "483"
      ]
     },
     "metadata": {},
     "output_type": "display_data"
    }
   ],
   "source": [
    "drug_active_only_probes = target_evidence_bool.filter(target_evidence_bool[\"isProbe\"] == True).filter(target_evidence_bool[\"isActive\"] == True)\n",
    "count_unique_values(drug_active_only_probes, \"drugId\")"
   ]
  },
  {
   "cell_type": "code",
   "execution_count": null,
   "metadata": {},
   "outputs": [
    {
     "name": "stderr",
     "output_type": "stream",
     "text": [
      "                                                                                \r"
     ]
    },
    {
     "data": {
      "text/plain": [
       "131"
      ]
     },
     "metadata": {},
     "output_type": "display_data"
    }
   ],
   "source": [
    "drug_active_only_probes = target_evidence_bool.filter(target_evidence_bool[\"isHighQualityProbe\"] == True).filter(target_evidence_bool[\"isActive\"] == True)\n",
    "count_unique_values(drug_active_only_probes, \"drugId\")"
   ]
  },
  {
   "cell_type": "code",
   "execution_count": null,
   "metadata": {},
   "outputs": [
    {
     "name": "stderr",
     "output_type": "stream",
     "text": [
      "                                                                                \r"
     ]
    },
    {
     "data": {
      "text/plain": [
       "2287"
      ]
     },
     "metadata": {},
     "output_type": "display_data"
    }
   ],
   "source": [
    "count_unique_values(target_evidence_bool, \"drugId\")"
   ]
  },
  {
   "cell_type": "code",
   "execution_count": null,
   "metadata": {},
   "outputs": [
    {
     "data": {
      "text/plain": [
       "596"
      ]
     },
     "metadata": {},
     "output_type": "display_data"
    }
   ],
   "source": [
    "target_evidence_bool_clinical = target_evidence_bool.filter(target_evidence_bool[\"isApproved\"] != \"true\")\n",
    "# target_evidence_bool_clinical.show()\n",
    "count_unique_values(target_evidence_bool_clinical, \"drugId\")"
   ]
  },
  {
   "cell_type": "code",
   "execution_count": null,
   "metadata": {},
   "outputs": [
    {
     "name": "stderr",
     "output_type": "stream",
     "text": [
      "                                                                                \r"
     ]
    },
    {
     "data": {
      "text/plain": [
       "850"
      ]
     },
     "metadata": {},
     "output_type": "display_data"
    }
   ],
   "source": [
    "target_evidence_bool_clinical = target_evidence_bool.filter(target_evidence_bool[\"isApproved\"] == True)\n",
    "# target_evidence_bool_clinical.show()\n",
    "count_unique_values(target_evidence_bool_clinical, \"drugId\")"
   ]
  },
  {
   "cell_type": "code",
   "execution_count": null,
   "metadata": {},
   "outputs": [
    {
     "name": "stderr",
     "output_type": "stream",
     "text": [
      "[Stage 953:=============================================>       (170 + 8) / 200]\r"
     ]
    },
    {
     "name": "stdout",
     "output_type": "stream",
     "text": [
      "+----------+-------------------+\n",
      "|isApproved|unique_drugId_count|\n",
      "+----------+-------------------+\n",
      "|      null|               1160|\n",
      "|      true|               1318|\n",
      "|     false|                895|\n",
      "+----------+-------------------+\n",
      "\n"
     ]
    },
    {
     "name": "stderr",
     "output_type": "stream",
     "text": [
      "                                                                                \r"
     ]
    }
   ],
   "source": [
    "from pyspark.sql.functions import countDistinct\n",
    "\n",
    "# Group by 'isApproved' and count distinct 'drugId's\n",
    "drugId_count = target_evidence_bool.groupBy(\"isApproved\").agg(countDistinct(\"drugId\").alias(\"unique_drugId_count\"))\n",
    "\n",
    "# Show the result\n",
    "drugId_count.show()\n"
   ]
  },
  {
   "cell_type": "code",
   "execution_count": null,
   "metadata": {},
   "outputs": [
    {
     "data": {
      "text/plain": [
       "187"
      ]
     },
     "metadata": {},
     "output_type": "display_data"
    }
   ],
   "source": [
    "target_evidence_bool_probe_h = target_evidence_bool.filter(target_evidence_bool[\"isHighQualityProbe\"] == True)\n",
    "# target_evidence_bool_probe_h.show()\n",
    "count_unique_values(target_evidence_bool_probe_h, \"drugId\")"
   ]
  },
  {
   "cell_type": "code",
   "execution_count": null,
   "metadata": {},
   "outputs": [
    {
     "name": "stderr",
     "output_type": "stream",
     "text": [
      "                                                                                \r"
     ]
    },
    {
     "data": {
      "text/plain": [
       "695"
      ]
     },
     "metadata": {},
     "output_type": "display_data"
    }
   ],
   "source": [
    "target_evidence_bool_probe = target_evidence_bool.filter(target_evidence_bool[\"isProbe\"] == True)\n",
    "# target_evidence_bool_probe.show()\n",
    "count_unique_values(target_evidence_bool_probe, \"drugId\")"
   ]
  },
  {
   "cell_type": "markdown",
   "metadata": {},
   "source": [
    "# Data coverage"
   ]
  },
  {
   "cell_type": "markdown",
   "metadata": {},
   "source": [
    "### Drugs"
   ]
  },
  {
   "cell_type": "code",
   "execution_count": null,
   "metadata": {},
   "outputs": [],
   "source": [
    "# Filtering by:\n",
    "#         1. max_phase ≠ 4 | max_phase = 4 | probes = TRUE\n",
    "#         2. moa = NaN | moa ≠ NaN\n",
    "#         3. drugActive = TRUE\n",
    "#         4. GE = TRUE | clinical_GE = TRUE"
   ]
  },
  {
   "cell_type": "code",
   "execution_count": null,
   "metadata": {},
   "outputs": [],
   "source": [
    "# Number of clinical candidates/approved drugs/chemical probes for which:\n",
    "#     1. there is no MoA and they are bioactive against some targets:\n",
    "#         1. which have GE/GE+clinical evidence for any disease\n",
    "#     2. there is MoA but they are bioactive against some other targets\n",
    "#         1. which have GE/GE+clinical evidence for any disease"
   ]
  },
  {
   "cell_type": "markdown",
   "metadata": {},
   "source": [
    "### Targets"
   ]
  },
  {
   "cell_type": "code",
   "execution_count": null,
   "metadata": {},
   "outputs": [
    {
     "name": "stdout",
     "output_type": "stream",
     "text": [
      "+----------------+-------------+--------------+-------------------------+----------+--------------------+--------------------+---------------+----------+-----------+-------------+-------------+--------------+--------------+-----------------+---------------+--------------------+----------------+----------------------+--------------+--------------------+---------------+---------+------------+-----------------+--------------------+--------+---------------+--------------------+-----------+---------------+--------+------------------+-------------------+-----+-------------+-------+\n",
      "|target_chembl_id|       drugId|      drugType|maximumClinicalTrialPhase|isApproved|       linkedTargets|      linkedDiseases|assay_chembl_id|assay_type|action_type|pchembl_value|standard_type|standard_units|standard_value|standard_relation|target_organism|    target_pref_name|confidence_score|confidence_description|assay_category|   target_components|    target_type|accession|proteinClass|max_pchembl_value|median_pchembl_value|isActive|action_type_moa|target_chembl_id_moa|targetInMoA|       targetId| sources|isHighQualityProbe|isTherapeuticTarget| isGE|isGE_clinical|isProbe|\n",
      "+----------------+-------------+--------------+-------------------------+----------+--------------------+--------------------+---------------+----------+-----------+-------------+-------------+--------------+--------------+-----------------+---------------+--------------------+----------------+----------------------+--------------+--------------------+---------------+---------+------------+-----------------+--------------------+--------+---------------+--------------------+-----------+---------------+--------+------------------+-------------------+-----+-------------+-------+\n",
      "|   CHEMBL1907602|CHEMBL4442620|Small molecule|                      2.0|     false|{20, [ENSG0000017...|{3, [EFO_0003060,...|  CHEMBL3607089|         B|       null|         8.15|         IC50|            nM|           7.0|                =|   Homo sapiens|Cyclin-dependent ...|               7|  Direct protein co...|          null|[{P06493, Cyclin-...|PROTEIN COMPLEX|   P06493|      Kinase|             8.15|                8.15|    TRUE|      INHIBITOR|       CHEMBL3559691|      false|ENSG00000170312|[chembl]|             false|               true|false|         true|  false|\n",
      "|       CHEMBL308|CHEMBL2436978|Small molecule|                     null|      null|                null|                null|  CHEMBL2439767|         B|       null|         5.95|         IC50|            nM|        1125.0|                =|   Homo sapiens|Cyclin-dependent ...|               9|  Direct single pro...|          null|[{P06493, Cyclin-...| SINGLE PROTEIN|   P06493|      Kinase|             5.95|                5.95|   FALSE|           null|                null|       null|           null|    null|              null|               null|false|        false|  false|\n",
      "|       CHEMBL308|CHEMBL3688339|Small molecule|                     null|      null|                null|                null|  CHEMBL3991650|         B|       null|         6.54|           Kd|            nM|         288.0|                =|   Homo sapiens|Cyclin-dependent ...|               9|  Direct single pro...|          null|[{P06493, Cyclin-...| SINGLE PROTEIN|   P06493|      Kinase|             6.54|                6.54|   FALSE|           null|                null|       null|           null|    null|              null|               null|false|        false|  false|\n",
      "|   CHEMBL1907602|CHEMBL4442620|Small molecule|                      2.0|     false|{20, [ENSG0000017...|{3, [EFO_0003060,...|  CHEMBL4613391|         B|       null|         8.15|         IC50|            nM|           7.0|                =|   Homo sapiens|Cyclin-dependent ...|               7|  Direct protein co...|          null|[{P06493, Cyclin-...|PROTEIN COMPLEX|   P06493|      Kinase|             8.15|                8.15|    TRUE|      INHIBITOR|       CHEMBL3559691|      false|ENSG00000170312|[chembl]|             false|               true|false|         true|  false|\n",
      "|   CHEMBL1907602| CHEMBL428690|Small molecule|                      3.0|     false|{6, [ENSG00000170...|{26, [EFO_0001378...|  CHEMBL3856462|         B|       null|         7.57|         IC50|            nM|          27.0|                =|   Homo sapiens|Cyclin-dependent ...|               7|  Direct protein co...|          null|[{P06493, Cyclin-...|PROTEIN COMPLEX|   P06493|      Kinase|             7.57|                7.57|   FALSE|      INHIBITOR|          CHEMBL3055|      false|ENSG00000170312|[chembl]|             false|               true|false|         true|  false|\n",
      "|   CHEMBL1907602| CHEMBL428690|Small molecule|                      3.0|     false|{6, [ENSG00000170...|{26, [EFO_0001378...|  CHEMBL3856462|         B|       null|         7.57|         IC50|            nM|          27.0|                =|   Homo sapiens|Cyclin-dependent ...|               7|  Direct protein co...|          null|[{P06493, Cyclin-...|PROTEIN COMPLEX|   P06493|      Kinase|             7.57|                7.57|   FALSE|      INHIBITOR|          CHEMBL3116|      false|ENSG00000170312|[chembl]|             false|               true|false|         true|  false|\n",
      "|   CHEMBL1907602| CHEMBL428690|Small molecule|                      3.0|     false|{6, [ENSG00000170...|{26, [EFO_0001378...|  CHEMBL3856462|         B|       null|         7.57|         IC50|            nM|          27.0|                =|   Homo sapiens|Cyclin-dependent ...|               7|  Direct protein co...|          null|[{P06493, Cyclin-...|PROTEIN COMPLEX|   P06493|      Kinase|             7.57|                7.57|   FALSE|      INHIBITOR|          CHEMBL2508|      false|ENSG00000170312|[chembl]|             false|               true|false|         true|  false|\n",
      "|   CHEMBL1907602| CHEMBL428690|Small molecule|                      3.0|     false|{6, [ENSG00000170...|{26, [EFO_0001378...|  CHEMBL3856462|         B|       null|         7.57|         IC50|            nM|          27.0|                =|   Homo sapiens|Cyclin-dependent ...|               7|  Direct protein co...|          null|[{P06493, Cyclin-...|PROTEIN COMPLEX|   P06493|      Kinase|             7.57|                7.57|   FALSE|      INHIBITOR|           CHEMBL301|      false|ENSG00000170312|[chembl]|             false|               true|false|         true|  false|\n",
      "|   CHEMBL1907602| CHEMBL428690|Small molecule|                      3.0|     false|{6, [ENSG00000170...|{26, [EFO_0001378...|  CHEMBL3856462|         B|       null|         7.57|         IC50|            nM|          27.0|                =|   Homo sapiens|Cyclin-dependent ...|               7|  Direct protein co...|          null|[{P06493, Cyclin-...|PROTEIN COMPLEX|   P06493|      Kinase|             7.57|                7.57|   FALSE|      INHIBITOR|           CHEMBL308|      false|ENSG00000170312|[chembl]|             false|               true|false|         true|  false|\n",
      "|   CHEMBL1907602| CHEMBL428690|Small molecule|                      3.0|     false|{6, [ENSG00000170...|{26, [EFO_0001378...|  CHEMBL3856462|         B|       null|         7.57|         IC50|            nM|          27.0|                =|   Homo sapiens|Cyclin-dependent ...|               7|  Direct protein co...|          null|[{P06493, Cyclin-...|PROTEIN COMPLEX|   P06493|      Kinase|             7.57|                7.57|   FALSE|      INHIBITOR|           CHEMBL331|      false|ENSG00000170312|[chembl]|             false|               true|false|         true|  false|\n",
      "|       CHEMBL308|CHEMBL2103840|Small molecule|                      3.0|     false|{4, [ENSG00000170...|{9, [EFO_0006861,...|  CHEMBL3856515|         B|       null|         8.52|         IC50|            nM|           3.0|                =|   Homo sapiens|Cyclin-dependent ...|               9|  Direct single pro...|          null|[{P06493, Cyclin-...| SINGLE PROTEIN|   P06493|      Kinase|             8.52|                8.52|    TRUE|      INHIBITOR|          CHEMBL3116|       true|ENSG00000170312|[chembl]|             false|               true|false|         true|  false|\n",
      "|       CHEMBL308|CHEMBL2103840|Small molecule|                      3.0|     false|{4, [ENSG00000170...|{9, [EFO_0006861,...|  CHEMBL3856515|         B|       null|         8.52|         IC50|            nM|           3.0|                =|   Homo sapiens|Cyclin-dependent ...|               9|  Direct single pro...|          null|[{P06493, Cyclin-...| SINGLE PROTEIN|   P06493|      Kinase|             8.52|                8.52|    TRUE|      INHIBITOR|           CHEMBL308|       true|ENSG00000170312|[chembl]|             false|               true|false|         true|  false|\n",
      "|       CHEMBL308|CHEMBL2103840|Small molecule|                      3.0|     false|{4, [ENSG00000170...|{9, [EFO_0006861,...|  CHEMBL3856515|         B|       null|         8.52|         IC50|            nM|           3.0|                =|   Homo sapiens|Cyclin-dependent ...|               9|  Direct single pro...|          null|[{P06493, Cyclin-...| SINGLE PROTEIN|   P06493|      Kinase|             8.52|                8.52|    TRUE|      INHIBITOR|          CHEMBL4036|       true|ENSG00000170312|[chembl]|             false|               true|false|         true|  false|\n",
      "|       CHEMBL308|CHEMBL2103840|Small molecule|                      3.0|     false|{4, [ENSG00000170...|{9, [EFO_0006861,...|  CHEMBL3856515|         B|       null|         8.52|         IC50|            nM|           3.0|                =|   Homo sapiens|Cyclin-dependent ...|               9|  Direct single pro...|          null|[{P06493, Cyclin-...| SINGLE PROTEIN|   P06493|      Kinase|             8.52|                8.52|    TRUE|      INHIBITOR|           CHEMBL301|       true|ENSG00000170312|[chembl]|             false|               true|false|         true|  false|\n",
      "|       CHEMBL308|CHEMBL1944698|Small molecule|                      1.0|     false|{6, [ENSG00000136...|{5, [EFO_0000182,...|  CHEMBL3856510|         B|       null|         8.52|         IC50|            nM|           3.0|                =|   Homo sapiens|Cyclin-dependent ...|               9|  Direct single pro...|          null|[{P06493, Cyclin-...| SINGLE PROTEIN|   P06493|      Kinase|             8.52|                8.52|    TRUE|      INHIBITOR|          CHEMBL3116|       true|ENSG00000170312|[chembl]|             false|               true|false|         true|  false|\n",
      "|       CHEMBL308|CHEMBL1944698|Small molecule|                      1.0|     false|{6, [ENSG00000136...|{5, [EFO_0000182,...|  CHEMBL3856510|         B|       null|         8.52|         IC50|            nM|           3.0|                =|   Homo sapiens|Cyclin-dependent ...|               9|  Direct single pro...|          null|[{P06493, Cyclin-...| SINGLE PROTEIN|   P06493|      Kinase|             8.52|                8.52|    TRUE|      INHIBITOR|          CHEMBL2971|       true|ENSG00000170312|[chembl]|             false|               true|false|         true|  false|\n",
      "|       CHEMBL308|CHEMBL1944698|Small molecule|                      1.0|     false|{6, [ENSG00000136...|{5, [EFO_0000182,...|  CHEMBL3856510|         B|       null|         8.52|         IC50|            nM|           3.0|                =|   Homo sapiens|Cyclin-dependent ...|               9|  Direct single pro...|          null|[{P06493, Cyclin-...| SINGLE PROTEIN|   P06493|      Kinase|             8.52|                8.52|    TRUE|      INHIBITOR|          CHEMBL3055|       true|ENSG00000170312|[chembl]|             false|               true|false|         true|  false|\n",
      "|       CHEMBL308|CHEMBL1944698|Small molecule|                      1.0|     false|{6, [ENSG00000136...|{5, [EFO_0000182,...|  CHEMBL3856510|         B|       null|         8.52|         IC50|            nM|           3.0|                =|   Homo sapiens|Cyclin-dependent ...|               9|  Direct single pro...|          null|[{P06493, Cyclin-...| SINGLE PROTEIN|   P06493|      Kinase|             8.52|                8.52|    TRUE|      INHIBITOR|           CHEMBL301|       true|ENSG00000170312|[chembl]|             false|               true|false|         true|  false|\n",
      "|       CHEMBL308|CHEMBL1944698|Small molecule|                      1.0|     false|{6, [ENSG00000136...|{5, [EFO_0000182,...|  CHEMBL3856510|         B|       null|         8.52|         IC50|            nM|           3.0|                =|   Homo sapiens|Cyclin-dependent ...|               9|  Direct single pro...|          null|[{P06493, Cyclin-...| SINGLE PROTEIN|   P06493|      Kinase|             8.52|                8.52|    TRUE|      INHIBITOR|          CHEMBL1974|       true|ENSG00000170312|[chembl]|             false|               true|false|         true|  false|\n",
      "|       CHEMBL308|CHEMBL1944698|Small molecule|                      1.0|     false|{6, [ENSG00000136...|{5, [EFO_0000182,...|  CHEMBL3856510|         B|       null|         8.52|         IC50|            nM|           3.0|                =|   Homo sapiens|Cyclin-dependent ...|               9|  Direct single pro...|          null|[{P06493, Cyclin-...| SINGLE PROTEIN|   P06493|      Kinase|             8.52|                8.52|    TRUE|      INHIBITOR|           CHEMBL308|       true|ENSG00000170312|[chembl]|             false|               true|false|         true|  false|\n",
      "+----------------+-------------+--------------+-------------------------+----------+--------------------+--------------------+---------------+----------+-----------+-------------+-------------+--------------+--------------+-----------------+---------------+--------------------+----------------+----------------------+--------------+--------------------+---------------+---------+------------+-----------------+--------------------+--------+---------------+--------------------+-----------+---------------+--------+------------------+-------------------+-----+-------------+-------+\n",
      "only showing top 20 rows\n",
      "\n"
     ]
    }
   ],
   "source": [
    "# Dataset with only pchembl value activity\n",
    "target_evidence_bool.show()"
   ]
  },
  {
   "cell_type": "code",
   "execution_count": null,
   "metadata": {},
   "outputs": [
    {
     "name": "stdout",
     "output_type": "stream",
     "text": [
      "+---------------+-----+\n",
      "|       drugType|count|\n",
      "+---------------+-----+\n",
      "| Small molecule| 9218|\n",
      "|Oligosaccharide|    2|\n",
      "|           null|    1|\n",
      "|        Protein|  113|\n",
      "|       Antibody|    4|\n",
      "|        Unknown|   14|\n",
      "+---------------+-----+\n",
      "\n"
     ]
    }
   ],
   "source": [
    "show_unique_values_and_counts(target_evidence_bool, \"drugType\")"
   ]
  },
  {
   "cell_type": "code",
   "execution_count": null,
   "metadata": {},
   "outputs": [
    {
     "name": "stderr",
     "output_type": "stream",
     "text": [
      "                                                                                \r"
     ]
    },
    {
     "data": {
      "text/plain": [
       "326"
      ]
     },
     "metadata": {},
     "output_type": "display_data"
    }
   ],
   "source": [
    "# Number of targets supported by GE which have active bioassays\n",
    "\n",
    "targets_GE = target_evidence_bool\\\n",
    "                .filter(target_evidence_bool[\"IsActive\"] == True)\\\n",
    "                .filter(target_evidence_bool[\"isGE\"] == True)\n",
    "\n",
    "count_unique_values(targets_GE, \"target_chembl_id\")"
   ]
  },
  {
   "cell_type": "code",
   "execution_count": null,
   "metadata": {},
   "outputs": [
    {
     "name": "stderr",
     "output_type": "stream",
     "text": [
      "                                                                                \r"
     ]
    },
    {
     "data": {
      "text/plain": [
       "431"
      ]
     },
     "metadata": {},
     "output_type": "display_data"
    }
   ],
   "source": [
    "# Number of targets supported by GE_clinical which have active bioassays\n",
    "\n",
    "targets_GE_clinical = target_evidence_bool\\\n",
    "                .filter(target_evidence_bool[\"IsActive\"] == True)\\\n",
    "                .filter(target_evidence_bool[\"isGE_clinical\"] == True)\n",
    "\n",
    "count_unique_values(targets_GE_clinical, \"target_chembl_id\")"
   ]
  },
  {
   "cell_type": "code",
   "execution_count": null,
   "metadata": {},
   "outputs": [
    {
     "name": "stderr",
     "output_type": "stream",
     "text": [
      "                                                                                \r"
     ]
    },
    {
     "data": {
      "text/plain": [
       "115"
      ]
     },
     "metadata": {},
     "output_type": "display_data"
    }
   ],
   "source": [
    "# Number of targets supported by GE which have active bioassays and not in MoA of the drug\n",
    "\n",
    "targets_GE_noMoA = target_evidence_bool\\\n",
    "                .filter(target_evidence_bool[\"IsActive\"] == True)\\\n",
    "                .filter(target_evidence_bool[\"isGE\"] == True)\\\n",
    "                .filter(target_evidence_bool[\"targetInMoA\"] != True)\n",
    "\n",
    "count_unique_values(targets_GE_noMoA, \"target_chembl_id\")"
   ]
  },
  {
   "cell_type": "code",
   "execution_count": null,
   "metadata": {},
   "outputs": [
    {
     "name": "stderr",
     "output_type": "stream",
     "text": [
      "                                                                                \r"
     ]
    },
    {
     "data": {
      "text/plain": [
       "145"
      ]
     },
     "metadata": {},
     "output_type": "display_data"
    }
   ],
   "source": [
    "# Number of targets supported by GE_clinical which have active bioassays and not in MoA of the drug\n",
    "\n",
    "targets_GE_clinical_noMoA = target_evidence_bool\\\n",
    "                .filter(target_evidence_bool[\"IsActive\"] == True)\\\n",
    "                .filter(target_evidence_bool[\"isGE_clinical\"] == True)\\\n",
    "                .filter(target_evidence_bool[\"targetInMoA\"] != True)\n",
    "\n",
    "count_unique_values(targets_GE_clinical_noMoA, \"target_chembl_id\")"
   ]
  },
  {
   "cell_type": "markdown",
   "metadata": {},
   "source": [
    "## Action type"
   ]
  },
  {
   "cell_type": "code",
   "execution_count": null,
   "metadata": {},
   "outputs": [
    {
     "name": "stdout",
     "output_type": "stream",
     "text": [
      "+----------------+-------------+--------------+-------------------------+----------+--------------------+--------------------+---------------+----------+-----------+-------------+-------------+--------------+--------------+-----------------+---------------+--------------------+----------------+----------------------+--------------+--------------------+---------------+---------+------------+-----------------+--------------------+--------+---------------+--------------------+-----------+---------------+--------+------------------+-------------------+-----+-------------+-------+\n",
      "|target_chembl_id|       drugId|      drugType|maximumClinicalTrialPhase|isApproved|       linkedTargets|      linkedDiseases|assay_chembl_id|assay_type|action_type|pchembl_value|standard_type|standard_units|standard_value|standard_relation|target_organism|    target_pref_name|confidence_score|confidence_description|assay_category|   target_components|    target_type|accession|proteinClass|max_pchembl_value|median_pchembl_value|isActive|action_type_moa|target_chembl_id_moa|targetInMoA|       targetId| sources|isHighQualityProbe|isTherapeuticTarget| isGE|isGE_clinical|isProbe|\n",
      "+----------------+-------------+--------------+-------------------------+----------+--------------------+--------------------+---------------+----------+-----------+-------------+-------------+--------------+--------------+-----------------+---------------+--------------------+----------------+----------------------+--------------+--------------------+---------------+---------+------------+-----------------+--------------------+--------+---------------+--------------------+-----------+---------------+--------+------------------+-------------------+-----+-------------+-------+\n",
      "|   CHEMBL1907602|CHEMBL4442620|Small molecule|                      2.0|     false|{20, [ENSG0000017...|{3, [EFO_0003060,...|  CHEMBL3607089|         B|       null|         8.15|         IC50|            nM|           7.0|                =|   Homo sapiens|Cyclin-dependent ...|               7|  Direct protein co...|          null|[{P06493, Cyclin-...|PROTEIN COMPLEX|   P06493|      Kinase|             8.15|                8.15|    TRUE|      INHIBITOR|       CHEMBL3559691|      false|ENSG00000170312|[chembl]|             false|               true|false|         true|  false|\n",
      "|       CHEMBL308|CHEMBL2436978|Small molecule|                     null|      null|                null|                null|  CHEMBL2439767|         B|       null|         5.95|         IC50|            nM|        1125.0|                =|   Homo sapiens|Cyclin-dependent ...|               9|  Direct single pro...|          null|[{P06493, Cyclin-...| SINGLE PROTEIN|   P06493|      Kinase|             5.95|                5.95|   FALSE|           null|                null|       null|           null|    null|              null|               null|false|        false|  false|\n",
      "|       CHEMBL308|CHEMBL3688339|Small molecule|                     null|      null|                null|                null|  CHEMBL3991650|         B|       null|         6.54|           Kd|            nM|         288.0|                =|   Homo sapiens|Cyclin-dependent ...|               9|  Direct single pro...|          null|[{P06493, Cyclin-...| SINGLE PROTEIN|   P06493|      Kinase|             6.54|                6.54|   FALSE|           null|                null|       null|           null|    null|              null|               null|false|        false|  false|\n",
      "|   CHEMBL1907602|CHEMBL4442620|Small molecule|                      2.0|     false|{20, [ENSG0000017...|{3, [EFO_0003060,...|  CHEMBL4613391|         B|       null|         8.15|         IC50|            nM|           7.0|                =|   Homo sapiens|Cyclin-dependent ...|               7|  Direct protein co...|          null|[{P06493, Cyclin-...|PROTEIN COMPLEX|   P06493|      Kinase|             8.15|                8.15|    TRUE|      INHIBITOR|       CHEMBL3559691|      false|ENSG00000170312|[chembl]|             false|               true|false|         true|  false|\n",
      "|   CHEMBL1907602| CHEMBL428690|Small molecule|                      3.0|     false|{6, [ENSG00000170...|{26, [EFO_0001378...|  CHEMBL3856462|         B|       null|         7.57|         IC50|            nM|          27.0|                =|   Homo sapiens|Cyclin-dependent ...|               7|  Direct protein co...|          null|[{P06493, Cyclin-...|PROTEIN COMPLEX|   P06493|      Kinase|             7.57|                7.57|   FALSE|      INHIBITOR|          CHEMBL3055|      false|ENSG00000170312|[chembl]|             false|               true|false|         true|  false|\n",
      "|   CHEMBL1907602| CHEMBL428690|Small molecule|                      3.0|     false|{6, [ENSG00000170...|{26, [EFO_0001378...|  CHEMBL3856462|         B|       null|         7.57|         IC50|            nM|          27.0|                =|   Homo sapiens|Cyclin-dependent ...|               7|  Direct protein co...|          null|[{P06493, Cyclin-...|PROTEIN COMPLEX|   P06493|      Kinase|             7.57|                7.57|   FALSE|      INHIBITOR|          CHEMBL3116|      false|ENSG00000170312|[chembl]|             false|               true|false|         true|  false|\n",
      "|   CHEMBL1907602| CHEMBL428690|Small molecule|                      3.0|     false|{6, [ENSG00000170...|{26, [EFO_0001378...|  CHEMBL3856462|         B|       null|         7.57|         IC50|            nM|          27.0|                =|   Homo sapiens|Cyclin-dependent ...|               7|  Direct protein co...|          null|[{P06493, Cyclin-...|PROTEIN COMPLEX|   P06493|      Kinase|             7.57|                7.57|   FALSE|      INHIBITOR|          CHEMBL2508|      false|ENSG00000170312|[chembl]|             false|               true|false|         true|  false|\n",
      "|   CHEMBL1907602| CHEMBL428690|Small molecule|                      3.0|     false|{6, [ENSG00000170...|{26, [EFO_0001378...|  CHEMBL3856462|         B|       null|         7.57|         IC50|            nM|          27.0|                =|   Homo sapiens|Cyclin-dependent ...|               7|  Direct protein co...|          null|[{P06493, Cyclin-...|PROTEIN COMPLEX|   P06493|      Kinase|             7.57|                7.57|   FALSE|      INHIBITOR|           CHEMBL301|      false|ENSG00000170312|[chembl]|             false|               true|false|         true|  false|\n",
      "|   CHEMBL1907602| CHEMBL428690|Small molecule|                      3.0|     false|{6, [ENSG00000170...|{26, [EFO_0001378...|  CHEMBL3856462|         B|       null|         7.57|         IC50|            nM|          27.0|                =|   Homo sapiens|Cyclin-dependent ...|               7|  Direct protein co...|          null|[{P06493, Cyclin-...|PROTEIN COMPLEX|   P06493|      Kinase|             7.57|                7.57|   FALSE|      INHIBITOR|           CHEMBL308|      false|ENSG00000170312|[chembl]|             false|               true|false|         true|  false|\n",
      "|   CHEMBL1907602| CHEMBL428690|Small molecule|                      3.0|     false|{6, [ENSG00000170...|{26, [EFO_0001378...|  CHEMBL3856462|         B|       null|         7.57|         IC50|            nM|          27.0|                =|   Homo sapiens|Cyclin-dependent ...|               7|  Direct protein co...|          null|[{P06493, Cyclin-...|PROTEIN COMPLEX|   P06493|      Kinase|             7.57|                7.57|   FALSE|      INHIBITOR|           CHEMBL331|      false|ENSG00000170312|[chembl]|             false|               true|false|         true|  false|\n",
      "|       CHEMBL308|CHEMBL2103840|Small molecule|                      3.0|     false|{4, [ENSG00000170...|{9, [EFO_0006861,...|  CHEMBL3856515|         B|       null|         8.52|         IC50|            nM|           3.0|                =|   Homo sapiens|Cyclin-dependent ...|               9|  Direct single pro...|          null|[{P06493, Cyclin-...| SINGLE PROTEIN|   P06493|      Kinase|             8.52|                8.52|    TRUE|      INHIBITOR|          CHEMBL3116|       true|ENSG00000170312|[chembl]|             false|               true|false|         true|  false|\n",
      "|       CHEMBL308|CHEMBL2103840|Small molecule|                      3.0|     false|{4, [ENSG00000170...|{9, [EFO_0006861,...|  CHEMBL3856515|         B|       null|         8.52|         IC50|            nM|           3.0|                =|   Homo sapiens|Cyclin-dependent ...|               9|  Direct single pro...|          null|[{P06493, Cyclin-...| SINGLE PROTEIN|   P06493|      Kinase|             8.52|                8.52|    TRUE|      INHIBITOR|           CHEMBL308|       true|ENSG00000170312|[chembl]|             false|               true|false|         true|  false|\n",
      "|       CHEMBL308|CHEMBL2103840|Small molecule|                      3.0|     false|{4, [ENSG00000170...|{9, [EFO_0006861,...|  CHEMBL3856515|         B|       null|         8.52|         IC50|            nM|           3.0|                =|   Homo sapiens|Cyclin-dependent ...|               9|  Direct single pro...|          null|[{P06493, Cyclin-...| SINGLE PROTEIN|   P06493|      Kinase|             8.52|                8.52|    TRUE|      INHIBITOR|          CHEMBL4036|       true|ENSG00000170312|[chembl]|             false|               true|false|         true|  false|\n",
      "|       CHEMBL308|CHEMBL2103840|Small molecule|                      3.0|     false|{4, [ENSG00000170...|{9, [EFO_0006861,...|  CHEMBL3856515|         B|       null|         8.52|         IC50|            nM|           3.0|                =|   Homo sapiens|Cyclin-dependent ...|               9|  Direct single pro...|          null|[{P06493, Cyclin-...| SINGLE PROTEIN|   P06493|      Kinase|             8.52|                8.52|    TRUE|      INHIBITOR|           CHEMBL301|       true|ENSG00000170312|[chembl]|             false|               true|false|         true|  false|\n",
      "|       CHEMBL308|CHEMBL1944698|Small molecule|                      1.0|     false|{6, [ENSG00000136...|{5, [EFO_0000182,...|  CHEMBL3856510|         B|       null|         8.52|         IC50|            nM|           3.0|                =|   Homo sapiens|Cyclin-dependent ...|               9|  Direct single pro...|          null|[{P06493, Cyclin-...| SINGLE PROTEIN|   P06493|      Kinase|             8.52|                8.52|    TRUE|      INHIBITOR|          CHEMBL3116|       true|ENSG00000170312|[chembl]|             false|               true|false|         true|  false|\n",
      "|       CHEMBL308|CHEMBL1944698|Small molecule|                      1.0|     false|{6, [ENSG00000136...|{5, [EFO_0000182,...|  CHEMBL3856510|         B|       null|         8.52|         IC50|            nM|           3.0|                =|   Homo sapiens|Cyclin-dependent ...|               9|  Direct single pro...|          null|[{P06493, Cyclin-...| SINGLE PROTEIN|   P06493|      Kinase|             8.52|                8.52|    TRUE|      INHIBITOR|          CHEMBL2971|       true|ENSG00000170312|[chembl]|             false|               true|false|         true|  false|\n",
      "|       CHEMBL308|CHEMBL1944698|Small molecule|                      1.0|     false|{6, [ENSG00000136...|{5, [EFO_0000182,...|  CHEMBL3856510|         B|       null|         8.52|         IC50|            nM|           3.0|                =|   Homo sapiens|Cyclin-dependent ...|               9|  Direct single pro...|          null|[{P06493, Cyclin-...| SINGLE PROTEIN|   P06493|      Kinase|             8.52|                8.52|    TRUE|      INHIBITOR|          CHEMBL3055|       true|ENSG00000170312|[chembl]|             false|               true|false|         true|  false|\n",
      "|       CHEMBL308|CHEMBL1944698|Small molecule|                      1.0|     false|{6, [ENSG00000136...|{5, [EFO_0000182,...|  CHEMBL3856510|         B|       null|         8.52|         IC50|            nM|           3.0|                =|   Homo sapiens|Cyclin-dependent ...|               9|  Direct single pro...|          null|[{P06493, Cyclin-...| SINGLE PROTEIN|   P06493|      Kinase|             8.52|                8.52|    TRUE|      INHIBITOR|           CHEMBL301|       true|ENSG00000170312|[chembl]|             false|               true|false|         true|  false|\n",
      "|       CHEMBL308|CHEMBL1944698|Small molecule|                      1.0|     false|{6, [ENSG00000136...|{5, [EFO_0000182,...|  CHEMBL3856510|         B|       null|         8.52|         IC50|            nM|           3.0|                =|   Homo sapiens|Cyclin-dependent ...|               9|  Direct single pro...|          null|[{P06493, Cyclin-...| SINGLE PROTEIN|   P06493|      Kinase|             8.52|                8.52|    TRUE|      INHIBITOR|          CHEMBL1974|       true|ENSG00000170312|[chembl]|             false|               true|false|         true|  false|\n",
      "|       CHEMBL308|CHEMBL1944698|Small molecule|                      1.0|     false|{6, [ENSG00000136...|{5, [EFO_0000182,...|  CHEMBL3856510|         B|       null|         8.52|         IC50|            nM|           3.0|                =|   Homo sapiens|Cyclin-dependent ...|               9|  Direct single pro...|          null|[{P06493, Cyclin-...| SINGLE PROTEIN|   P06493|      Kinase|             8.52|                8.52|    TRUE|      INHIBITOR|           CHEMBL308|       true|ENSG00000170312|[chembl]|             false|               true|false|         true|  false|\n",
      "+----------------+-------------+--------------+-------------------------+----------+--------------------+--------------------+---------------+----------+-----------+-------------+-------------+--------------+--------------+-----------------+---------------+--------------------+----------------+----------------------+--------------+--------------------+---------------+---------+------------+-----------------+--------------------+--------+---------------+--------------------+-----------+---------------+--------+------------------+-------------------+-----+-------------+-------+\n",
      "only showing top 20 rows\n",
      "\n"
     ]
    },
    {
     "data": {
      "text/plain": [
       "9352"
      ]
     },
     "metadata": {},
     "output_type": "display_data"
    }
   ],
   "source": [
    "# Taking table target_organism_filter (after pchembl filter)\n",
    "\n",
    "target_evidence_bool.show()\n",
    "target_evidence_bool.count()"
   ]
  },
  {
   "cell_type": "code",
   "execution_count": null,
   "metadata": {},
   "outputs": [
    {
     "data": {
      "text/plain": [
       "2287"
      ]
     },
     "metadata": {},
     "output_type": "display_data"
    }
   ],
   "source": [
    "count_unique_values(target_evidence_bool, \"drugId\")"
   ]
  },
  {
   "cell_type": "code",
   "execution_count": null,
   "metadata": {},
   "outputs": [
    {
     "name": "stdout",
     "output_type": "stream",
     "text": [
      "+--------------------+-----+\n",
      "|     action_type_moa|count|\n",
      "+--------------------+-----+\n",
      "|  NEGATIVE MODULATOR|    1|\n",
      "|NEGATIVE ALLOSTER...|    4|\n",
      "|          ANTAGONIST|  166|\n",
      "|                null| 1442|\n",
      "|       BINDING AGENT|    1|\n",
      "|     PARTIAL AGONIST|    8|\n",
      "|           ACTIVATOR|    1|\n",
      "|             BLOCKER|   42|\n",
      "|    DISRUPTING AGENT|    4|\n",
      "|           INHIBITOR|  491|\n",
      "|           SUBSTRATE|    1|\n",
      "|POSITIVE ALLOSTER...|    8|\n",
      "|     CHELATING AGENT|    1|\n",
      "|  POSITIVE MODULATOR|    4|\n",
      "|             AGONIST|  117|\n",
      "|              OPENER|    5|\n",
      "|     INVERSE AGONIST|    4|\n",
      "|     RELEASING AGENT|    1|\n",
      "|           MODULATOR|    8|\n",
      "|      REDUCING AGENT|    1|\n",
      "+--------------------+-----+\n",
      "only showing top 20 rows\n",
      "\n"
     ]
    }
   ],
   "source": [
    "show_unique_values_and_counts(target_evidence_bool.drop_duplicates([\"drugId\", \"action_type_moa\"]), \"action_type_moa\")"
   ]
  },
  {
   "cell_type": "code",
   "execution_count": null,
   "metadata": {},
   "outputs": [
    {
     "name": "stdout",
     "output_type": "stream",
     "text": [
      "+--------------------+------+\n",
      "|         action_type| count|\n",
      "+--------------------+------+\n",
      "|                null|211437|\n",
      "|{INHIBITOR, Negat...|   124|\n",
      "|{SUBSTRATE, Carri...|    47|\n",
      "|{ANTAGONIST, Bind...|    41|\n",
      "|{INVERSE AGONIST,...|     2|\n",
      "|{AGONIST, Binds t...|     4|\n",
      "|{ACTIVATOR, Posit...|     1|\n",
      "+--------------------+------+\n",
      "\n"
     ]
    }
   ],
   "source": [
    "show_unique_values_and_counts(drug_to_moa, \"action_type\")"
   ]
  },
  {
   "cell_type": "markdown",
   "metadata": {},
   "source": [
    "### Drug-Target pairs"
   ]
  },
  {
   "cell_type": "code",
   "execution_count": null,
   "metadata": {},
   "outputs": [],
   "source": []
  },
  {
   "cell_type": "code",
   "execution_count": null,
   "metadata": {},
   "outputs": [],
   "source": []
  },
  {
   "cell_type": "code",
   "execution_count": null,
   "metadata": {},
   "outputs": [],
   "source": []
  },
  {
   "cell_type": "code",
   "execution_count": null,
   "metadata": {},
   "outputs": [],
   "source": []
  },
  {
   "cell_type": "code",
   "execution_count": null,
   "metadata": {},
   "outputs": [],
   "source": []
  },
  {
   "cell_type": "code",
   "execution_count": null,
   "metadata": {},
   "outputs": [],
   "source": []
  },
  {
   "cell_type": "code",
   "execution_count": null,
   "metadata": {},
   "outputs": [],
   "source": []
  },
  {
   "cell_type": "code",
   "execution_count": null,
   "metadata": {},
   "outputs": [],
   "source": []
  },
  {
   "cell_type": "code",
   "execution_count": null,
   "metadata": {},
   "outputs": [],
   "source": []
  },
  {
   "cell_type": "code",
   "execution_count": null,
   "metadata": {},
   "outputs": [],
   "source": []
  },
  {
   "cell_type": "code",
   "execution_count": null,
   "metadata": {},
   "outputs": [],
   "source": []
  },
  {
   "cell_type": "code",
   "execution_count": null,
   "metadata": {},
   "outputs": [],
   "source": []
  },
  {
   "cell_type": "code",
   "execution_count": null,
   "metadata": {},
   "outputs": [],
   "source": []
  },
  {
   "cell_type": "code",
   "execution_count": null,
   "metadata": {},
   "outputs": [],
   "source": []
  },
  {
   "cell_type": "code",
   "execution_count": null,
   "metadata": {},
   "outputs": [],
   "source": []
  },
  {
   "cell_type": "code",
   "execution_count": null,
   "metadata": {},
   "outputs": [],
   "source": []
  },
  {
   "cell_type": "code",
   "execution_count": null,
   "metadata": {},
   "outputs": [],
   "source": []
  },
  {
   "cell_type": "code",
   "execution_count": null,
   "metadata": {},
   "outputs": [],
   "source": []
  },
  {
   "cell_type": "code",
   "execution_count": null,
   "metadata": {},
   "outputs": [],
   "source": []
  }
 ],
 "metadata": {
  "kernelspec": {
   "display_name": "base",
   "language": "python",
   "name": "python3"
  },
  "language_info": {
   "codemirror_mode": {
    "name": "ipython",
    "version": 3
   },
   "file_extension": ".py",
   "mimetype": "text/x-python",
   "name": "python",
   "nbconvert_exporter": "python",
   "pygments_lexer": "ipython3",
   "version": "3.10.8"
  },
  "orig_nbformat": 4
 },
 "nbformat": 4,
 "nbformat_minor": 2
}
