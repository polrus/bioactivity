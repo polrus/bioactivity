{
 "cells": [
  {
   "cell_type": "code",
   "execution_count": 99,
   "metadata": {},
   "outputs": [],
   "source": [
    "from pyspark.sql import SparkSession\n",
    "import pyspark.sql.functions as f\n",
    "from pyspark.sql import DataFrame\n",
    "from pyspark.sql.functions import col\n",
    "from pyspark.sql.functions import udf\n",
    "from pyspark.sql.types import StringType, ArrayType\n",
    "from pyspark.sql import Row\n",
    "from pyspark.sql.functions import when\n",
    "from pyspark.sql.functions import col, broadcast, when, max, expr, collect_list, concat_ws, array_contains, split, collect_list, array_distinct, collect_set\n",
    "from pyspark.sql.functions import expr, col, explode, array, struct, lit, regexp_replace, count, avg\n",
    "from pyspark.sql.functions import split, size\n",
    "from pyspark.sql.types import BooleanType"
   ]
  },
  {
   "cell_type": "code",
   "execution_count": 3,
   "metadata": {},
   "outputs": [
    {
     "name": "stderr",
     "output_type": "stream",
     "text": [
      "Setting default log level to \"WARN\".\n",
      "To adjust logging level use sc.setLogLevel(newLevel). For SparkR, use setLogLevel(newLevel).\n",
      "24/02/05 13:15:43 INFO SparkEnv: Registering MapOutputTracker\n",
      "24/02/05 13:15:43 INFO SparkEnv: Registering BlockManagerMaster\n",
      "24/02/05 13:15:43 INFO SparkEnv: Registering BlockManagerMasterHeartbeat\n",
      "24/02/05 13:15:43 INFO SparkEnv: Registering OutputCommitCoordinator\n"
     ]
    }
   ],
   "source": [
    "spark = SparkSession.builder.getOrCreate()"
   ]
  },
  {
   "cell_type": "markdown",
   "metadata": {},
   "source": [
    "### Useful functions (table merge etc)"
   ]
  },
  {
   "cell_type": "code",
   "execution_count": 4,
   "metadata": {},
   "outputs": [],
   "source": [
    "def join_dataframes(initial_df: DataFrame, \n",
    "                    second_df: DataFrame, \n",
    "                    initial_key_column: str, \n",
    "                    second_key_column: str,\n",
    "                    columns_to_join: list) -> DataFrame:\n",
    "    \"\"\"\n",
    "    Joins two PySpark DataFrames on specified key columns.\n",
    "\n",
    "    Args:\n",
    "    initial_df (DataFrame): The initial PySpark DataFrame.\n",
    "    second_df (DataFrame): The second PySpark DataFrame to join with.\n",
    "    initial_key_column (str): The key column name in the initial DataFrame.\n",
    "    second_key_column (str): The key column name in the second DataFrame.\n",
    "    columns_to_join (list): List of column names from the second DataFrame to include in the join.\n",
    "\n",
    "    Returns:\n",
    "    DataFrame: The resulting DataFrame after the join.\n",
    "    \"\"\"\n",
    "\n",
    "    # Selecting specified columns from the second DataFrame, including its key column\n",
    "    second_df_selected = second_df.select([second_key_column] + columns_to_join)\n",
    "\n",
    "    second_columns_to_join_with_alias = [\"b.\" + col for col in columns_to_join]\n",
    "\n",
    "    return initial_df.alias(\"a\")\\\n",
    "        .join(second_df_selected.alias(\"b\"), \n",
    "            on = initial_df[initial_key_column] == second_df_selected[second_key_column], \n",
    "            how='left')\\\n",
    "        .select(\"a.*\", *second_columns_to_join_with_alias)\\\n",
    "        .persist()\n",
    "\n",
    "    \n",
    "\n",
    "    # # Performing the left join\n",
    "    # joined_df = initial_df.join(second_df_selected, \n",
    "    #                             initial_df[initial_key_column] == second_df_selected[second_key_column], \n",
    "    #                             how='left')\n",
    "\n",
    "    # # Drop the second key column if not needed\n",
    "    # joined_df = joined_df.drop(second_df_selected[second_key_column])\n",
    "\n",
    "    # return joined_df\n"
   ]
  },
  {
   "cell_type": "code",
   "execution_count": 5,
   "metadata": {},
   "outputs": [],
   "source": [
    "def join_dataframes_by_many_cols(initial_df: DataFrame, \n",
    "                    second_df: DataFrame, \n",
    "                    initial_key_columns: list, \n",
    "                    second_key_columns: list,\n",
    "                    columns_to_join: list) -> DataFrame:\n",
    "    \"\"\"\n",
    "    Joins two PySpark DataFrames on specified key columns.\n",
    "\n",
    "    Args:\n",
    "    initial_df (DataFrame): The initial PySpark DataFrame.\n",
    "    second_df (DataFrame): The second PySpark DataFrame to join with.\n",
    "    initial_key_columns (list): The key column names in the initial DataFrame.\n",
    "    second_key_columns (list): The key column names in the second DataFrame.\n",
    "    columns_to_join (list): List of column names from the second DataFrame to include in the join.\n",
    "\n",
    "    Returns:\n",
    "    DataFrame: The resulting DataFrame after the join.\n",
    "    \"\"\"\n",
    "\n",
    "    # Ensure the key columns lists have the same length\n",
    "    if len(initial_key_columns) != len(second_key_columns):\n",
    "        raise ValueError(\"Key columns lists must be of the same length\")\n",
    "\n",
    "    # Selecting specified columns from the second DataFrame, including its key columns\n",
    "    second_df_selected = second_df.select(second_key_columns + columns_to_join)\n",
    "\n",
    "    # Build join condition\n",
    "    join_condition = [initial_df[initial_col] == second_df_selected[second_col] \n",
    "                      for initial_col, second_col in zip(initial_key_columns, second_key_columns)]\n",
    "\n",
    "    # Perform the left join\n",
    "    joined_df = initial_df.join(second_df_selected, \n",
    "                                on=join_condition, \n",
    "                                how='left')\n",
    "\n",
    "    # Drop the second key columns if not needed\n",
    "    for col in second_key_columns:\n",
    "        joined_df = joined_df.drop(second_df_selected[col])\n",
    "\n",
    "    return joined_df\n"
   ]
  },
  {
   "cell_type": "code",
   "execution_count": 6,
   "metadata": {},
   "outputs": [],
   "source": [
    "def count_unique_values(df: DataFrame, column_name: str) -> int:\n",
    "    \"\"\"\n",
    "    Count unique values in a specific column of a PySpark DataFrame.\n",
    "\n",
    "    Args:\n",
    "    df (DataFrame): The PySpark DataFrame.\n",
    "    column_name (str): The name of the column to analyze.\n",
    "\n",
    "    Returns:\n",
    "    int: The number of unique values in the column.\n",
    "    \"\"\"\n",
    "    # Get distinct values in the column and count them\n",
    "    unique_count = df.select(column_name).distinct().count()\n",
    "\n",
    "    return unique_count\n",
    "\n",
    "# Example usage\n",
    "# unique_count = count_unique_values(your_dataframe, 'your_column_name')\n",
    "# print(f\"Number of unique values: {unique_count}\")\n"
   ]
  },
  {
   "cell_type": "code",
   "execution_count": 7,
   "metadata": {},
   "outputs": [],
   "source": [
    "def show_unique_values_and_counts(df: DataFrame, column_name: str):\n",
    "    \"\"\"\n",
    "    Shows unique values and their counts for a specified column in a Spark DataFrame.\n",
    "\n",
    "    Parameters:\n",
    "    df (DataFrame): The Spark DataFrame to analyze.\n",
    "    column_name (str): The name of the column for which to count unique values.\n",
    "    \"\"\"\n",
    "    if column_name not in df.columns:\n",
    "        raise ValueError(f\"Column {column_name} not found in DataFrame\")\n",
    "\n",
    "    unique_values_counts = df.groupBy(column_name).count()\n",
    "    unique_values_counts.show()\n"
   ]
  },
  {
   "cell_type": "markdown",
   "metadata": {},
   "source": [
    "# New Target-Indication evidence from bioactivity data"
   ]
  },
  {
   "cell_type": "markdown",
   "metadata": {},
   "source": [
    "### Drug-Indication (clinical, ChEMBL) + Drug-Target (MoA, ChEMBL) = Target-Indication evidence (OT)?"
   ]
  },
  {
   "cell_type": "code",
   "execution_count": 8,
   "metadata": {},
   "outputs": [
    {
     "name": "stderr",
     "output_type": "stream",
     "text": [
      "                                                                                \r"
     ]
    },
    {
     "name": "stdout",
     "output_type": "stream",
     "text": [
      "+--------------------+-------------+--------------------+-----------------+------------------+\n",
      "|           _metadata|       efo_id|     indication_refs|max_phase_for_ind|molecule_chembl_id|\n",
      "+--------------------+-------------+--------------------+-----------------+------------------+\n",
      "|       {[CHEMBL734]}|  EFO:0003103|[{6660b616-a82d-9...|              4.0|         CHEMBL734|\n",
      "|{[CHEMBL1200796, ...|  EFO:0004255|[{NCT02257697, Cl...|              4.0|     CHEMBL1200796|\n",
      "|{[CHEMBL1683544, ...|  EFO:0000305|[{NCT01908101,NCT...|              4.0|     CHEMBL1683544|\n",
      "|   {[CHEMBL1230065]}|  EFO:0004264|[{NCT00570752, Cl...|              2.0|     CHEMBL1230065|\n",
      "|{[CHEMBL1683544, ...|  EFO:0000616|[{NCT00047034,NCT...|              1.0|     CHEMBL1683544|\n",
      "|   {[CHEMBL2108597]}|  EFO:0004270|[{NCT00685815,NCT...|              3.0|     CHEMBL2108597|\n",
      "|{[CHEMBL1079742, ...|  EFO:0000305|[{NCT00054132, Cl...|              2.0|     CHEMBL1079742|\n",
      "|   {[CHEMBL2108597]}|  EFO:0004272|[{NCT00317226,NCT...|              4.0|     CHEMBL2108597|\n",
      "|{[CHEMBL1079742, ...|  EFO:0000313|[{NCT01149122, Cl...|              3.0|     CHEMBL1079742|\n",
      "|   {[CHEMBL1200830]}|  EFO:0004272|[{B03AA07, ATC, h...|              4.0|     CHEMBL1200830|\n",
      "|       {[CHEMBL848]}|  EFO:0004272|[{NCT00843882,NCT...|              4.0|         CHEMBL848|\n",
      "|    {[CHEMBL550348]}|  EFO:0004272|[{NCT02125877,NCT...|              2.0|      CHEMBL550348|\n",
      "|      {[CHEMBL1617]}|  EFO:0003047|[{NCT01603108, Cl...|              2.0|        CHEMBL1617|\n",
      "|    {[CHEMBL373204]}|  EFO:0001067|[{P03BA02, ATC, h...|             -1.0|      CHEMBL373204|\n",
      "|         {[CHEMBL2]}|  EFO:0004253|[{NCT00713739, Cl...|              3.0|           CHEMBL2|\n",
      "|   {[CHEMBL2108494]}|  EFO:0003047|[{NCT00097045,NCT...|              3.0|     CHEMBL2108494|\n",
      "|       {[CHEMBL182]}|MONDO:0008170|[{NCT00005025,NCT...|              2.0|         CHEMBL182|\n",
      "|   {[CHEMBL3301610]}|MONDO:0001187|[{NCT03837821, Cl...|              0.5|     CHEMBL3301610|\n",
      "|       {[CHEMBL196]}|  EFO:0003060|[{NCT02420314,NCT...|              2.0|         CHEMBL196|\n",
      "|   {[CHEMBL3545042]}|   HP:0000360|[{NCT01302873, Cl...|              2.0|     CHEMBL3545042|\n",
      "+--------------------+-------------+--------------------+-----------------+------------------+\n",
      "only showing top 20 rows\n",
      "\n"
     ]
    }
   ],
   "source": [
    "# Clinical Drug-Indication pairs from ChEMBL\n",
    "drug_indication = \"gs://open-targets-pre-data-releases/chembl-columns/chembl-inputs/chembl_33_drug_indication.jsonl\"\n",
    "drug_indication = spark.read.json(drug_indication)\n",
    "drug_indication.persist()\n",
    "drug_indication.show()"
   ]
  },
  {
   "cell_type": "code",
   "execution_count": 9,
   "metadata": {},
   "outputs": [
    {
     "name": "stderr",
     "output_type": "stream",
     "text": [
      "                                                                                \r"
     ]
    },
    {
     "data": {
      "text/plain": [
       "51582"
      ]
     },
     "execution_count": 9,
     "metadata": {},
     "output_type": "execute_result"
    }
   ],
   "source": [
    "drug_indication.count()"
   ]
  },
  {
   "cell_type": "code",
   "execution_count": 10,
   "metadata": {},
   "outputs": [
    {
     "name": "stdout",
     "output_type": "stream",
     "text": [
      "+--------------------+------------------+--------------------+--------------------+------------------+-------------------------+---------+----------------+\n",
      "|           _metadata|       action_type| mechanism_of_action|      mechanism_refs|molecule_chembl_id|parent_molecule_chembl_id|record_id|target_chembl_id|\n",
      "+--------------------+------------------+--------------------+--------------------+------------------+-------------------------+---------+----------------+\n",
      "|{[CHEMBL2103825],...|         INHIBITOR|Pancreatic lipase...|[{16953261, PubMe...|     CHEMBL2103825|            CHEMBL2103825|  1699800|      CHEMBL1812|\n",
      "|{[CHEMBL1200495, ...|           AGONIST|Glucocorticoid re...|[{setid=6d9bf1b0-...|     CHEMBL1200495|                CHEMBL977|  1344612|      CHEMBL2034|\n",
      "|{[CHEMBL3544919],...|SEQUESTERING AGENT|Heparin sequester...|[{26937198, PubMe...|     CHEMBL3544919|            CHEMBL3544919|  2473107|   CHEMBL2364712|\n",
      "|{[CHEMBL3989993],...|         INHIBITOR|microRNA-155 inhi...|[{NCT03713320, Cl...|     CHEMBL3989993|            CHEMBL3989993|  2973351|   CHEMBL4630577|\n",
      "|{[CHEMBL1460], CH...|         INHIBITOR|Human immunodefic...|[{setid=22e2ca82-...|        CHEMBL1460|               CHEMBL1460|  1343993|       CHEMBL247|\n",
      "|{[CHEMBL444172], ...|         INHIBITOR|P-glycoprotein 1 ...|[{18271955, PubMe...|      CHEMBL444172|             CHEMBL444172|  3129871|      CHEMBL4302|\n",
      "|{[CHEMBL1873475],...|         INHIBITOR|Tyrosine-protein ...|[{label/2013/2055...|     CHEMBL1873475|            CHEMBL1873475|  1702685|      CHEMBL5251|\n",
      "|{[CHEMBL4650215],...|         INHIBITOR|PI3-kinase p110-a...|[{https://cancerr...|     CHEMBL4650215|            CHEMBL4650215|  3133380|      CHEMBL4005|\n",
      "|{[CHEMBL87992], C...|           BLOCKER|Sodium channel al...|[{label/2013/0224...|       CHEMBL87992|              CHEMBL87992|  1702492|   CHEMBL2331043|\n",
      "|{[CHEMBL2105689],...|         INHIBITOR|Cytochrome P450 5...|[{label/2013/2041...|     CHEMBL2105689|            CHEMBL2105689|  1702581|      CHEMBL1780|\n",
      "|{[CHEMBL523299, C...|        ANTAGONIST|Muscarinic acetyl...|[{label/2013/2039...|      CHEMBL523299|            CHEMBL1187833|  1702662|       CHEMBL245|\n",
      "|{[CHEMBL1200865],...|           AGONIST|Glucocorticoid re...|[{12861354, PubMe...|     CHEMBL1200865|            CHEMBL1200865|  1343629|      CHEMBL2034|\n",
      "|{[CHEMBL129], CHE...|         INHIBITOR|Human immunodefic...|[{setid=6df09f15-...|         CHEMBL129|                CHEMBL129|  1343080|       CHEMBL247|\n",
      "|{[CHEMBL3989861, ...|         INHIBITOR|Serotonin transpo...|[{label/2013/2052...|     CHEMBL3989861|               CHEMBL1118|  1938076|       CHEMBL228|\n",
      "|{[CHEMBL2146140, ...|         INHIBITOR|Potassium-transpo...|[{setid=61a5a84e-...|     CHEMBL2146140|            CHEMBL1201320|  1702655|   CHEMBL2095173|\n",
      "|{[CHEMBL131], CHE...|           AGONIST|Glucocorticoid re...|[{19482847, PubMe...|         CHEMBL131|                CHEMBL131|  1344057|      CHEMBL2034|\n",
      "|{[CHEMBL1275802],...|  DISRUPTING AGENT|Cell membrane dis...|[{19010301, PubMe...|     CHEMBL1275802|            CHEMBL1275802|  1703075|   CHEMBL2364031|\n",
      "|{[CHEMBL139], CHE...|         INHIBITOR|Cyclooxygenase in...|[{label/2013/2045...|         CHEMBL139|                CHEMBL139|  1937947|   CHEMBL2094253|\n",
      "|{[CHEMBL2108556],...|  DISRUPTING AGENT|Cell membrane dis...|[{19010301, PubMe...|     CHEMBL2108556|            CHEMBL2108556|  1696419|   CHEMBL2364031|\n",
      "|{[CHEMBL1512], CH...|           AGONIST|Glucocorticoid re...|[{setid=7c72c954-...|        CHEMBL1512|               CHEMBL1512|  1343379|      CHEMBL2034|\n",
      "+--------------------+------------------+--------------------+--------------------+------------------+-------------------------+---------+----------------+\n",
      "only showing top 20 rows\n",
      "\n"
     ]
    }
   ],
   "source": [
    "# Drugs MoA from ChEMBL\n",
    "drug_moa = \"gs://open-targets-pre-data-releases/chembl-columns/chembl-inputs/chembl_33_mechanism.jsonl\"\n",
    "drug_moa = spark.read.json(drug_moa)\n",
    "drug_moa.persist()\n",
    "drug_moa.show()"
   ]
  },
  {
   "cell_type": "code",
   "execution_count": 21,
   "metadata": {},
   "outputs": [
    {
     "data": {
      "text/plain": [
       "7098"
      ]
     },
     "execution_count": 21,
     "metadata": {},
     "output_type": "execute_result"
    }
   ],
   "source": [
    "drug_moa.count()"
   ]
  },
  {
   "cell_type": "code",
   "execution_count": 25,
   "metadata": {},
   "outputs": [
    {
     "name": "stdout",
     "output_type": "stream",
     "text": [
      "+----------------+-------------+\n",
      "|target_chembl_id|        value|\n",
      "+----------------+-------------+\n",
      "|       CHEMBL222|   CHEMBL1118|\n",
      "|       CHEMBL222|   CHEMBL1696|\n",
      "|      CHEMBL2971|CHEMBL1287853|\n",
      "|   CHEMBL2331043|   CHEMBL1762|\n",
      "|       CHEMBL217|CHEMBL1201328|\n",
      "|       CHEMBL253|CHEMBL3139186|\n",
      "|      CHEMBL1824| CHEMBL180022|\n",
      "|       CHEMBL247|CHEMBL1628504|\n",
      "|       CHEMBL251| CHEMBL431770|\n",
      "|   CHEMBL1681630| CHEMBL124363|\n",
      "|      CHEMBL1862|CHEMBL3545085|\n",
      "|   CHEMBL2346493|CHEMBL2364652|\n",
      "|   CHEMBL2095181|CHEMBL1201132|\n",
      "|      CHEMBL2203|CHEMBL2110756|\n",
      "|   CHEMBL2062356|CHEMBL4650434|\n",
      "|   CHEMBL2364679|    CHEMBL990|\n",
      "|       CHEMBL231|CHEMBL1200618|\n",
      "|       CHEMBL213|CHEMBL1200947|\n",
      "|   CHEMBL2095203|CHEMBL1200413|\n",
      "|   CHEMBL2095158|    CHEMBL420|\n",
      "+----------------+-------------+\n",
      "only showing top 20 rows\n",
      "\n"
     ]
    },
    {
     "data": {
      "text/plain": [
       "8165"
      ]
     },
     "execution_count": 25,
     "metadata": {},
     "output_type": "execute_result"
    }
   ],
   "source": [
    "# Make 1 columns from molecule_chembl_id and parent_molecule_chembl_id\n",
    "\n",
    "drug_moa_long = drug_moa.select(\n",
    "    col(\"target_chembl_id\"),\n",
    "    explode(\n",
    "        array(\n",
    "            struct(lit(\"molecule_chembl_id\").alias(\"variable\"), col(\"molecule_chembl_id\").alias(\"value\")),\n",
    "            struct(lit(\"parent_molecule_chembl_id\").alias(\"variable\"), col(\"parent_molecule_chembl_id\").alias(\"value\"))\n",
    "        )\n",
    "    ).alias(\"data\")\n",
    ").select(\"target_chembl_id\", \"data.value\")\\\n",
    ".dropDuplicates()\n",
    "\n",
    "drug_moa_long.show()\n",
    "drug_moa_long.count()"
   ]
  },
  {
   "cell_type": "code",
   "execution_count": 34,
   "metadata": {},
   "outputs": [
    {
     "name": "stdout",
     "output_type": "stream",
     "text": [
      "+--------------------+-------------+--------------------+-----------------+------------------+----------------+\n",
      "|           _metadata|       efo_id|     indication_refs|max_phase_for_ind|molecule_chembl_id|target_chembl_id|\n",
      "+--------------------+-------------+--------------------+-----------------+------------------+----------------+\n",
      "|       {[CHEMBL734]}|  EFO:0003103|[{6660b616-a82d-9...|              4.0|         CHEMBL734|   CHEMBL2364683|\n",
      "|{[CHEMBL1200796, ...|  EFO:0004255|[{NCT02257697, Cl...|              4.0|     CHEMBL1200796|   CHEMBL2311221|\n",
      "|{[CHEMBL1683544, ...|  EFO:0000305|[{NCT01908101,NCT...|              4.0|     CHEMBL1683544|   CHEMBL2095182|\n",
      "|   {[CHEMBL1230065]}|  EFO:0004264|[{NCT00570752, Cl...|              2.0|     CHEMBL1230065|       CHEMBL260|\n",
      "|{[CHEMBL1683544, ...|  EFO:0000616|[{NCT00047034,NCT...|              1.0|     CHEMBL1683544|   CHEMBL2095182|\n",
      "|{[CHEMBL1079742, ...|  EFO:0000305|[{NCT00054132, Cl...|              2.0|     CHEMBL1079742|       CHEMBL203|\n",
      "|{[CHEMBL1079742, ...|  EFO:0000313|[{NCT01149122, Cl...|              3.0|     CHEMBL1079742|       CHEMBL203|\n",
      "|       {[CHEMBL848]}|  EFO:0004272|[{NCT00843882,NCT...|              4.0|         CHEMBL848|   CHEMBL3833061|\n",
      "|    {[CHEMBL550348]}|  EFO:0004272|[{NCT02125877,NCT...|              2.0|      CHEMBL550348|   CHEMBL2363058|\n",
      "|      {[CHEMBL1617]}|  EFO:0003047|[{NCT01603108, Cl...|              2.0|        CHEMBL1617|   CHEMBL2364672|\n",
      "|         {[CHEMBL2]}|  EFO:0004253|[{NCT00713739, Cl...|              3.0|           CHEMBL2|   CHEMBL2094251|\n",
      "|       {[CHEMBL182]}|MONDO:0008170|[{NCT00005025,NCT...|              2.0|         CHEMBL182|      CHEMBL1872|\n",
      "|   {[CHEMBL3301610]}|MONDO:0001187|[{NCT03837821, Cl...|              0.5|     CHEMBL3301610|      CHEMBL2508|\n",
      "|   {[CHEMBL3301610]}|MONDO:0001187|[{NCT03837821, Cl...|              0.5|     CHEMBL3301610|       CHEMBL331|\n",
      "|   {[CHEMBL3545042]}|   HP:0000360|[{NCT01302873, Cl...|              2.0|     CHEMBL3545042|   CHEMBL2109241|\n",
      "|   {[CHEMBL3545042]}|   HP:0000360|[{NCT01302873, Cl...|              2.0|     CHEMBL3545042|   CHEMBL2096670|\n",
      "|   {[CHEMBL3039556]}|  EFO:0003060|[{NCT01829113, Cl...|              2.0|     CHEMBL3039556|   CHEMBL4622823|\n",
      "|         {[CHEMBL2]}|  EFO:0004777|[{NCT04793685, Cl...|              1.0|           CHEMBL2|   CHEMBL2094251|\n",
      "|        {[CHEMBL11]}|  EFO:0010282|[{NCT00164775, Cl...|              3.0|          CHEMBL11|       CHEMBL222|\n",
      "|        {[CHEMBL11]}|  EFO:0010282|[{NCT00164775, Cl...|              3.0|          CHEMBL11|       CHEMBL228|\n",
      "+--------------------+-------------+--------------------+-----------------+------------------+----------------+\n",
      "only showing top 20 rows\n",
      "\n"
     ]
    },
    {
     "name": "stderr",
     "output_type": "stream",
     "text": [
      "24/02/05 14:16:15 WARN CacheManager: Asked to cache already cached data.\n",
      "24/02/05 14:16:15 WARN CacheManager: Asked to cache already cached data.\n"
     ]
    },
    {
     "data": {
      "text/plain": [
       "56345"
      ]
     },
     "execution_count": 34,
     "metadata": {},
     "output_type": "execute_result"
    }
   ],
   "source": [
    "# Merge Clinical Drug-Indication pairs with Drugs MoA\n",
    "\n",
    "# List of columns from drug_moa table\n",
    "list_drug_moa_long = [\"target_chembl_id\"]\n",
    "                 \n",
    "# Join tables by molecule_chembl_id\n",
    "drug_indication_moa = join_dataframes(drug_indication, drug_moa_long, \"molecule_chembl_id\", \"value\", list_drug_moa_long).persist()\n",
    "drug_indication_moa_notnull = drug_indication_moa.filter(drug_indication_moa.target_chembl_id.isNotNull())\n",
    "drug_indication_moa_notnull.show()\n",
    "drug_indication_moa_notnull.count()"
   ]
  },
  {
   "cell_type": "code",
   "execution_count": 35,
   "metadata": {},
   "outputs": [
    {
     "name": "stderr",
     "output_type": "stream",
     "text": [
      "24/02/05 14:16:25 WARN CacheManager: Asked to cache already cached data.        \n"
     ]
    },
    {
     "name": "stdout",
     "output_type": "stream",
     "text": [
      "+-------------+--------------------+------------+----------+--------------------+-------------------------+-------------+-------------+--------------------+-----+--------------+--------------------+-------------------------+----------------+------------------+---------------+--------------------+\n",
      "|clinicalPhase|      clinicalStatus|datasourceId|datatypeId|   diseaseFromSource|diseaseFromSourceMappedId|    diseaseId|       drugId|                  id|score|studyStartDate|     studyStopReason|studyStopReasonCategories|targetFromSource|targetFromSourceId|       targetId|                urls|\n",
      "+-------------+--------------------+------------+----------+--------------------+-------------------------+-------------+-------------+--------------------+-----+--------------+--------------------+-------------------------+----------------+------------------+---------------+--------------------+\n",
      "|          4.0|                null|      chembl|known_drug|                null|            MONDO_0005277|MONDO_0005277|    CHEMBL113|00041ce14dcf020fd...|  1.0|          null|                null|                     null|   CHEMBL2111329|            P30542|ENSG00000163485|[{DailyMed, https...|\n",
      "|          2.0|           Completed|      chembl|known_drug|         Lung Cancer|            MONDO_0008903|MONDO_0008903|     CHEMBL92|004681f5eb76e7b70...|  0.2|    2001-09-01|                null|                     null|   CHEMBL2095182|            Q13509|ENSG00000258947|[{ClinicalTrials,...|\n",
      "|          3.0|           Withdrawn|      chembl|known_drug|Postpartum Hemorr...|              EFO_0009579|  EFO_0009579|    CHEMBL606|004d2e1d1b2f5187b...|  0.7|    2013-07-01|                null|                     null|      CHEMBL3710|            P43115|ENSG00000050628|[{ClinicalTrials,...|\n",
      "|          2.0|           Withdrawn|      chembl|known_drug|    Breast Neoplasms|              EFO_0003869|  EFO_0003869| CHEMBL428647|005ee09658c91b64c...|  0.2|    2014-08-01|The study sponsor...|     [Business or admi...|   CHEMBL2095182|            Q9BUF5|ENSG00000176014|[{ClinicalTrials,...|\n",
      "|          4.0|                null|      chembl|known_drug|            epilepsy|              EFO_0000474|  EFO_0000474|    CHEMBL741|0069ec47a07139302...|  1.0|          null|                null|                     null|   CHEMBL2331043|            Q99250|ENSG00000136531|[{DailyMed, https...|\n",
      "|          4.0|                null|      chembl|known_drug|                null|               HP_0003124|   HP_0003124|   CHEMBL1064|0080fe40e41f67e27...|  1.0|          null|                null|                     null|       CHEMBL402|            P04035|ENSG00000113161|[{DailyMed, https...|\n",
      "|          4.0|          Terminated|      chembl|known_drug|    Primary Insomnia|              EFO_0004698|  EFO_0004698|   CHEMBL1522|00c738f05c0ec765d...|  1.0|    2006-12-01|Funding terminate...|     [Business or admi...|   CHEMBL2093872|            P31644|ENSG00000186297|[{ClinicalTrials,...|\n",
      "|          1.0|           Completed|      chembl|known_drug|          Depression|            MONDO_0002050|MONDO_0002050|CHEMBL1200798|00d549597598eebff...|  0.1|    2017-05-01|                null|                     null|       CHEMBL228|            P31645|ENSG00000108576|[{ClinicalTrials,...|\n",
      "|          3.0|           Completed|      chembl|known_drug|Hypercholesterolemia|               HP_0003124|   HP_0003124|   CHEMBL1064|00ebd524f5e9afda4...|  0.7|    2016-07-27|                null|                     null|       CHEMBL402|            P04035|ENSG00000113161|[{ClinicalTrials,...|\n",
      "|          4.0|          Recruiting|      chembl|known_drug|           Carcinoma|              EFO_0000313|  EFO_0000313|CHEMBL1200694|010634eabfa23a83a...|  1.0|    2021-01-11|                null|                     null|   CHEMBL2093872|            P34903|ENSG00000011677|[{ClinicalTrials,...|\n",
      "|          1.0|           Completed|      chembl|known_drug|   Metastatic Cancer|            MONDO_0024880|MONDO_0024880| CHEMBL428647|010ac10fe15eccb66...|  0.1|    2005-10-01|                null|                     null|   CHEMBL2095182|            P68371|ENSG00000188229|[{ClinicalTrials,...|\n",
      "|          3.0|          Terminated|      chembl|known_drug|    Multiple Myeloma|              EFO_0001378|  EFO_0001378|    CHEMBL848|0126c132384822514...|  0.7|    2016-02-01|      low enrollment|     [Insufficient enr...|   CHEMBL3833061|            Q96SW2|ENSG00000113851|[{ClinicalTrials,...|\n",
      "|          3.0|          Recruiting|      chembl|known_drug|          Acute Pain|              EFO_0003843|  EFO_0003843|   CHEMBL1341|012719c521ef02c7d...|  0.7|    2021-11-12|                null|                     null|   CHEMBL2093872|            P47870|ENSG00000145864|[{ClinicalTrials,...|\n",
      "|          3.0|          Recruiting|      chembl|known_drug|Non Small Cell Lu...|              EFO_0003060|  EFO_0003060|CHEMBL3545252|016577a569e47a69a...|  0.7|    2022-03-25|                null|                     null|   CHEMBL2095182|            Q13885|ENSG00000137267|[{ClinicalTrials,...|\n",
      "|          3.0|Active, not recru...|      chembl|known_drug|Acute Myeloid Leu...|              EFO_0000222|  EFO_0000222|   CHEMBL1421|01836af0bf083cdf0...|  0.7|    2014-07-01|                null|                     null|   CHEMBL2363074|            P07948|ENSG00000254087|[{ClinicalTrials,...|\n",
      "|          3.0|Active, not recru...|      chembl|known_drug|HER2-positive Bre...|            MONDO_0007254|MONDO_0007254|     CHEMBL92|018791ade5fa5188a...|  0.7|    2018-07-24|                null|                     null|   CHEMBL2095182|            P07437|ENSG00000196230|[{ClinicalTrials,...|\n",
      "|          2.0|           Withdrawn|      chembl|known_drug|Metastatic Pancre...|              EFO_0002618|  EFO_0002618|CHEMBL2107818|01eab40f7ddd77dd5...|  0.2|    2018-08-01| Trial not initiated|         [Invalid reason]|      CHEMBL1806|            P11388|ENSG00000131747|[{ClinicalTrials,...|\n",
      "|          4.0|                null|      chembl|known_drug|type 2 diabetes m...|            MONDO_0005148|MONDO_0005148|   CHEMBL1703|01f5a06010e0b7a4c...|  1.0|          null|                null|                     null|   CHEMBL2363065|            O43677|ENSG00000109390|[{DailyMed, https...|\n",
      "|          3.0|          Terminated|      chembl|known_drug|Non-small Cell Lu...|              EFO_0003060|  EFO_0003060|     CHEMBL92|0202748246fac1286...|  0.7|    2015-02-01|Sponsor discontin...|     [Business or admi...|   CHEMBL2095182|            Q9BVA1|ENSG00000137285|[{ClinicalTrials,...|\n",
      "|          2.0|          Recruiting|      chembl|known_drug|    Multiple Myeloma|              EFO_0001378|  EFO_0001378|    CHEMBL112|021d58d468507b301...|  0.2|    2020-02-11|                null|                     null|   CHEMBL2094253|            P35354|ENSG00000073756|[{ClinicalTrials,...|\n",
      "+-------------+--------------------+------------+----------+--------------------+-------------------------+-------------+-------------+--------------------+-----+--------------+--------------------+-------------------------+----------------+------------------+---------------+--------------------+\n",
      "only showing top 20 rows\n",
      "\n"
     ]
    },
    {
     "name": "stderr",
     "output_type": "stream",
     "text": [
      "                                                                                \r"
     ]
    },
    {
     "data": {
      "text/plain": [
       "624960"
      ]
     },
     "execution_count": 35,
     "metadata": {},
     "output_type": "execute_result"
    }
   ],
   "source": [
    "# ChEMBL evidence from Open Targets Platform\n",
    "chembl_evidence = \"gs://open-targets-data-releases/23.12/output/etl/json/evidence/sourceId=chembl\"\n",
    "chembl_evidence = spark.read.json(chembl_evidence)\n",
    "chembl_evidence.persist()\n",
    "chembl_evidence.show()\n",
    "chembl_evidence.count()"
   ]
  },
  {
   "cell_type": "code",
   "execution_count": 55,
   "metadata": {},
   "outputs": [
    {
     "name": "stdout",
     "output_type": "stream",
     "text": [
      "There are 34846 unique Target-Indication pairs on Platform coming from ChEMBL evidence\n",
      "And 32275 unique Target-Indication pairs was found by mapping Drug-Indication pairs to Drug-Target pairs by MoA\n"
     ]
    }
   ],
   "source": [
    "# Compare 2 datasets\n",
    "\n",
    "chembl_evidence_TI_pairs = chembl_evidence.select(\"targetFromSource\", \"diseaseId\").dropDuplicates()\n",
    "OT_chembl_evidence = chembl_evidence_TI_pairs.count()\n",
    "print(\"There are\", OT_chembl_evidence, \"unique Target-Indication pairs on Platform coming from ChEMBL evidence\")\n",
    "\n",
    "drug_indication_moa_notnull_TI_pairs = drug_indication_moa_notnull\\\n",
    "                                        .select(\"target_chembl_id\", \"efo_id\").dropDuplicates()\\\n",
    "                                        .withColumn(\"efo_id\", regexp_replace(\"efo_id\", \":\", \"_\"))\n",
    "drug_indication_moa_evidence = drug_indication_moa_notnull_TI_pairs.count()\n",
    "print(\"And\", drug_indication_moa_evidence, \"unique Target-Indication pairs was found by mapping Drug-Indication pairs to Drug-Target pairs by MoA\")"
   ]
  },
  {
   "cell_type": "code",
   "execution_count": 53,
   "metadata": {},
   "outputs": [
    {
     "name": "stdout",
     "output_type": "stream",
     "text": [
      "+----------------+---------------+\n",
      "|target_chembl_id|         efo_id|\n",
      "+----------------+---------------+\n",
      "|   CHEMBL2311221|     HP_0001915|\n",
      "|      CHEMBL1984|    EFO_0005681|\n",
      "|   CHEMBL2366043|    EFO_1001342|\n",
      "|   CHEMBL2311222|    EFO_0002916|\n",
      "|   CHEMBL2364041|    EFO_1001391|\n",
      "|   CHEMBL2311222|    EFO_0007416|\n",
      "|   CHEMBL2363048|     HP_0002014|\n",
      "|      CHEMBL4685|    EFO_0000311|\n",
      "|   CHEMBL2363047|    EFO_0000763|\n",
      "|   CHEMBL2364181|Orphanet_228349|\n",
      "|   CHEMBL2311221|    EFO_0009538|\n",
      "|   CHEMBL2363135|  MONDO_0007254|\n",
      "|   CHEMBL2311221|  MONDO_0000873|\n",
      "|   CHEMBL2311221|  MONDO_0018531|\n",
      "|   CHEMBL2363076|    EFO_1001888|\n",
      "|   CHEMBL2311221|    EFO_0006738|\n",
      "|   CHEMBL2363135|    EFO_1001444|\n",
      "|      CHEMBL2971|    EFO_0000311|\n",
      "|   CHEMBL2354204|    EFO_0004269|\n",
      "|       CHEMBL220|     HP_0000726|\n",
      "+----------------+---------------+\n",
      "only showing top 20 rows\n",
      "\n"
     ]
    },
    {
     "data": {
      "text/plain": [
       "5077"
      ]
     },
     "execution_count": 53,
     "metadata": {},
     "output_type": "execute_result"
    }
   ],
   "source": [
    "# Target-Indication pairs missing on Platform\n",
    "missing_TI_OT = drug_indication_moa_notnull_TI_pairs.join(chembl_evidence_TI_pairs, \n",
    "                                           (drug_indication_moa_notnull_TI_pairs.target_chembl_id == chembl_evidence_TI_pairs.targetFromSource) & \n",
    "                                           (drug_indication_moa_notnull_TI_pairs.efo_id == chembl_evidence_TI_pairs.diseaseId), \"left_anti\")\n",
    "missing_TI_OT.show()\n",
    "missing_TI_OT.count()"
   ]
  },
  {
   "cell_type": "markdown",
   "metadata": {},
   "source": [
    "#### Why Target-Indication pairs are missing on Platform?\n",
    "##### * Target is not protein (CHEMBL2311221)\n",
    "##### * Target is not human (CHEMBL1984)\n",
    "##### * Ontology term is deprecated (EFO_0000311)"
   ]
  },
  {
   "cell_type": "code",
   "execution_count": 49,
   "metadata": {},
   "outputs": [
    {
     "name": "stdout",
     "output_type": "stream",
     "text": [
      "+----------------+-------------+\n",
      "|targetFromSource|    diseaseId|\n",
      "+----------------+-------------+\n",
      "|   CHEMBL2094124|  EFO_1000864|\n",
      "|   CHEMBL2093865|MONDO_0044889|\n",
      "|      CHEMBL3116|  EFO_1000044|\n",
      "|   CHEMBL2093865|  EFO_1000616|\n",
      "|   CHEMBL2095165|MONDO_0044887|\n",
      "|      CHEMBL3961|  EFO_1001480|\n",
      "|       CHEMBL216|  EFO_0007149|\n",
      "|   CHEMBL2331043|MONDO_0001697|\n",
      "|      CHEMBL1955|MONDO_0007576|\n",
      "|   CHEMBL2363042|  EFO_1000044|\n",
      "|      CHEMBL1834|MONDO_0044211|\n",
      "|   CHEMBL2331043|  EFO_0005773|\n",
      "|   CHEMBL2363065|   HP_0011015|\n",
      "|   CHEMBL2094125|  EFO_0007372|\n",
      "|      CHEMBL3650|  EFO_1001974|\n",
      "|   CHEMBL3831283|MONDO_0004992|\n",
      "|   CHEMBL3559684|MONDO_0004992|\n",
      "|   CHEMBL2095227|  EFO_0002914|\n",
      "|   CHEMBL2095202|  EFO_1001267|\n",
      "|      CHEMBL2534|MONDO_0044964|\n",
      "+----------------+-------------+\n",
      "only showing top 20 rows\n",
      "\n"
     ]
    },
    {
     "data": {
      "text/plain": [
       "7648"
      ]
     },
     "execution_count": 49,
     "metadata": {},
     "output_type": "execute_result"
    }
   ],
   "source": [
    "# Target-Indication pairs missing by mapping Drug-Indication pairs to Drug-Target pairs by MoA\n",
    "missing_TI = chembl_evidence_TI_pairs.join(drug_indication_moa_notnull_TI_pairs, \n",
    "                                           (chembl_evidence_TI_pairs.targetFromSource == drug_indication_moa_notnull_TI_pairs.target_chembl_id) & \n",
    "                                           (chembl_evidence_TI_pairs.diseaseId == drug_indication_moa_notnull_TI_pairs.efo_id), \"left_anti\")\n",
    "missing_TI.show()\n",
    "missing_TI.count()"
   ]
  },
  {
   "cell_type": "markdown",
   "metadata": {},
   "source": [
    "#### Why Target-Indication pairs are missing by mapping Drug-Indication pairs to Drug-Target pairs by MoA?"
   ]
  },
  {
   "cell_type": "code",
   "execution_count": 59,
   "metadata": {},
   "outputs": [
    {
     "name": "stdout",
     "output_type": "stream",
     "text": [
      "+-------------+------------------+------------+----------+--------------------+-------------------------+-------------+-------------+--------------------+-----+--------------+--------------------+-------------------------+----------------+------------------+---------------+--------------------+\n",
      "|clinicalPhase|    clinicalStatus|datasourceId|datatypeId|   diseaseFromSource|diseaseFromSourceMappedId|    diseaseId|       drugId|                  id|score|studyStartDate|     studyStopReason|studyStopReasonCategories|targetFromSource|targetFromSourceId|       targetId|                urls|\n",
      "+-------------+------------------+------------+----------+--------------------+-------------------------+-------------+-------------+--------------------+-----+--------------+--------------------+-------------------------+----------------+------------------+---------------+--------------------+\n",
      "|          4.0|              null|      chembl|known_drug|          alzheimers|            MONDO_0004975|MONDO_0004975|   CHEMBL1699|050da3b71a7013331...|  1.0|          null|                null|                     null|   CHEMBL2094124|            O60391|ENSG00000116032|[{DailyMed, https...|\n",
      "|          3.0|Not yet recruiting|      chembl|known_drug|   Suicidal Ideation|              EFO_0004320|  EFO_0004320|   CHEMBL1714|06e5f4c5cb34994c2...|  0.7|    2023-06-01|                null|                     null|   CHEMBL2094124|            O15399|ENSG00000105464|[{ClinicalTrials,...|\n",
      "|          4.0|              null|      chembl|known_drug|           infection|              EFO_0000544|  EFO_0000544|   CHEMBL1569|07a5f07483381f0af...|  1.0|          null|                null|                     null|   CHEMBL2094124|            O60391|ENSG00000116032|[{DailyMed, https...|\n",
      "|          4.0|        Recruiting|      chembl|known_drug|Treatment Resista...|              EFO_0009854|  EFO_0009854|    CHEMBL742|112c1505c5613821a...|  1.0|    2017-09-01|                null|                     null|   CHEMBL2094124|            O15399|ENSG00000105464|[{ClinicalTrials,...|\n",
      "|          4.0|    Unknown status|      chembl|known_drug|     Inguinal Hernia|               HP_0000023|   HP_0000023|    CHEMBL742|25a4bfdb93d069d2b...|  1.0|    2016-01-01|                null|                     null|   CHEMBL2094124|            Q12879|ENSG00000183454|[{ClinicalTrials,...|\n",
      "|          3.0|         Completed|      chembl|known_drug|Procedural Sedati...|              EFO_0003843|  EFO_0003843|    CHEMBL742|31beebe5c7a146dce...|  0.7|    2011-01-01|                null|                     null|   CHEMBL2094124|            Q8TCU5|ENSG00000198785|[{ClinicalTrials,...|\n",
      "|          3.0|         Withdrawn|      chembl|known_drug|Major Depressive ...|            MONDO_0002009|MONDO_0002009|    CHEMBL742|39526c80d1e4270f9...|  0.7|    2019-08-01|Unable to perform...|           [Study design]|   CHEMBL2094124|            Q13224|ENSG00000273079|[{ClinicalTrials,...|\n",
      "|          3.0|        Terminated|      chembl|known_drug| Alzheimer's Disease|            MONDO_0004975|MONDO_0004975|    CHEMBL807|3da5c39861f9a5fd7...|  0.7|    2004-06-01|Please see explan...|     [No context, Stud...|   CHEMBL2094124|            Q8TCU5|ENSG00000198785|[{ClinicalTrials,...|\n",
      "|          1.0|         Completed|      chembl|known_drug|        Chronic Pain|               HP_0012532|   HP_0012532|    CHEMBL742|3e00c52dcba933b59...|  0.1|    2011-05-01|                null|                     null|   CHEMBL2094124|            Q13224|ENSG00000273079|[{ClinicalTrials,...|\n",
      "|          4.0|              null|      chembl|known_drug|           infection|              EFO_0000544|  EFO_0000544|   CHEMBL1569|3ef4c48a164135f85...|  1.0|          null|                null|                     null|   CHEMBL2094124|            Q12879|ENSG00000183454|[{DailyMed, https...|\n",
      "|          4.0|              null|      chembl|known_drug|postencephalitic ...|              EFO_1001402|  EFO_1001402|    CHEMBL660|40d1cd521720b848f...|  1.0|          null|                null|                     null|   CHEMBL2094124|            Q14957|ENSG00000161509|[{DailyMed, https...|\n",
      "|          2.0|         Completed|      chembl|known_drug|Depressive Disord...|            MONDO_0002009|MONDO_0002009|    CHEMBL742|41b6eb9c389dfd6b9...|  0.2|    2015-02-01|                null|                     null|   CHEMBL2094124|            Q05586|ENSG00000176884|[{ClinicalTrials,...|\n",
      "|          4.0|         Completed|      chembl|known_drug| Pain, Postoperative|              EFO_0003843|  EFO_0003843|    CHEMBL742|4aaf4ebf4ba44c04b...|  1.0|    2009-07-01|                null|                     null|   CHEMBL2094124|            Q12879|ENSG00000183454|[{ClinicalTrials,...|\n",
      "|          4.0|         Completed|      chembl|known_drug|Renal Function Di...|              EFO_0003086|  EFO_0003086|    CHEMBL742|6f56e8cda96b057f0...|  1.0|    2012-04-01|                null|                     null|   CHEMBL2094124|            O15399|ENSG00000105464|[{ClinicalTrials,...|\n",
      "|          2.0|         Completed|      chembl|known_drug|          Alcoholism|            MONDO_0007079|MONDO_0007079|CHEMBL1201293|790ad630a05bcd714...|  0.2|    2008-01-01|                null|                     null|   CHEMBL2094124|            Q8TCU5|ENSG00000198785|[{ClinicalTrials,...|\n",
      "|          3.0|         Completed|      chembl|known_drug|                Pain|              EFO_0003843|  EFO_0003843|CHEMBL2107771|7cfb99095e7625e82...|  0.7|    2009-03-20|                null|                     null|   CHEMBL2094124|            Q8TCU5|ENSG00000198785|[{ClinicalTrials,...|\n",
      "|          2.0|         Completed|      chembl|known_drug|   Opioid Dependence|              EFO_0005611|  EFO_0005611|    CHEMBL807|97f7cb8ec5f39c030...|  0.2|    2009-10-01|                null|                     null|   CHEMBL2094124|            Q12879|ENSG00000183454|[{ClinicalTrials,...|\n",
      "|          4.0|         Completed|      chembl|known_drug|Huntington's Disease|            MONDO_0007739|MONDO_0007739|    CHEMBL807|9d95fb2d1b69a054d...|  1.0|    2004-11-23|                null|                     null|   CHEMBL2094124|            Q12879|ENSG00000183454|[{ClinicalTrials,...|\n",
      "|          3.0|         Completed|      chembl|known_drug| Post-operative Pain|              EFO_0003843|  EFO_0003843|    CHEMBL742|9e959b971edbfc6f2...|  0.7|    2014-02-10|                null|                     null|   CHEMBL2094124|            Q8TCU5|ENSG00000198785|[{ClinicalTrials,...|\n",
      "|          3.0|         Completed|      chembl|known_drug| Subjective Tinnitus|               HP_0000360|   HP_0000360|CHEMBL2110954|a35a200e520e831bf...|  0.7|    2008-09-01|                null|                     null|   CHEMBL2094124|            Q14957|ENSG00000161509|[{ClinicalTrials,...|\n",
      "+-------------+------------------+------------+----------+--------------------+-------------------------+-------------+-------------+--------------------+-----+--------------+--------------------+-------------------------+----------------+------------------+---------------+--------------------+\n",
      "only showing top 20 rows\n",
      "\n",
      "[Row(diseaseFromSourceMappedId='MONDO_0004975'), Row(diseaseFromSourceMappedId='EFO_0004320'), Row(diseaseFromSourceMappedId='EFO_0000544'), Row(diseaseFromSourceMappedId='EFO_0009854'), Row(diseaseFromSourceMappedId='HP_0000023'), Row(diseaseFromSourceMappedId='EFO_0003843'), Row(diseaseFromSourceMappedId='MONDO_0002009'), Row(diseaseFromSourceMappedId='MONDO_0004975'), Row(diseaseFromSourceMappedId='HP_0012532'), Row(diseaseFromSourceMappedId='EFO_0000544'), Row(diseaseFromSourceMappedId='EFO_1001402'), Row(diseaseFromSourceMappedId='MONDO_0002009'), Row(diseaseFromSourceMappedId='EFO_0003843'), Row(diseaseFromSourceMappedId='EFO_0003086'), Row(diseaseFromSourceMappedId='MONDO_0007079'), Row(diseaseFromSourceMappedId='EFO_0003843'), Row(diseaseFromSourceMappedId='EFO_0005611'), Row(diseaseFromSourceMappedId='MONDO_0007739'), Row(diseaseFromSourceMappedId='EFO_0003843'), Row(diseaseFromSourceMappedId='HP_0000360'), Row(diseaseFromSourceMappedId='MONDO_0002009'), Row(diseaseFromSourceMappedId='EFO_0001358'), Row(diseaseFromSourceMappedId='MONDO_0002009'), Row(diseaseFromSourceMappedId='MONDO_0002050'), Row(diseaseFromSourceMappedId='HP_0000360'), Row(diseaseFromSourceMappedId='EFO_1001175'), Row(diseaseFromSourceMappedId='MONDO_0005148'), Row(diseaseFromSourceMappedId='MONDO_0005301'), Row(diseaseFromSourceMappedId='EFO_0007328'), Row(diseaseFromSourceMappedId='EFO_0005762'), Row(diseaseFromSourceMappedId='MONDO_0005129'), Row(diseaseFromSourceMappedId='HP_0100543'), Row(diseaseFromSourceMappedId='EFO_0005762'), Row(diseaseFromSourceMappedId='MONDO_0005180'), Row(diseaseFromSourceMappedId='MONDO_0005180'), Row(diseaseFromSourceMappedId='MONDO_0002050'), Row(diseaseFromSourceMappedId='MONDO_0005180'), Row(diseaseFromSourceMappedId='EFO_0008526'), Row(diseaseFromSourceMappedId='MONDO_0002050'), Row(diseaseFromSourceMappedId='MONDO_0005301'), Row(diseaseFromSourceMappedId='MONDO_0005090'), Row(diseaseFromSourceMappedId='HP_0001082'), Row(diseaseFromSourceMappedId='EFO_0003931'), Row(diseaseFromSourceMappedId='EFO_0020000'), Row(diseaseFromSourceMappedId='MONDO_0002009'), Row(diseaseFromSourceMappedId='EFO_0005230'), Row(diseaseFromSourceMappedId='EFO_0009267'), Row(diseaseFromSourceMappedId='MONDO_0002050'), Row(diseaseFromSourceMappedId='MONDO_0002050'), Row(diseaseFromSourceMappedId='EFO_1001175'), Row(diseaseFromSourceMappedId='EFO_1000860'), Row(diseaseFromSourceMappedId='HP_0012532'), Row(diseaseFromSourceMappedId='EFO_0003843'), Row(diseaseFromSourceMappedId='EFO_0003843'), Row(diseaseFromSourceMappedId='EFO_0004247'), Row(diseaseFromSourceMappedId='EFO_0004320'), Row(diseaseFromSourceMappedId='EFO_0006834'), Row(diseaseFromSourceMappedId='EFO_0007328'), Row(diseaseFromSourceMappedId='MONDO_0005301'), Row(diseaseFromSourceMappedId='MONDO_0002050'), Row(diseaseFromSourceMappedId='EFO_0003756'), Row(diseaseFromSourceMappedId='EFO_0003843'), Row(diseaseFromSourceMappedId='MONDO_0002009'), Row(diseaseFromSourceMappedId='MONDO_0002050'), Row(diseaseFromSourceMappedId='MONDO_0002009'), Row(diseaseFromSourceMappedId='EFO_0007328'), Row(diseaseFromSourceMappedId='MONDO_0005129'), Row(diseaseFromSourceMappedId='MONDO_0002046'), Row(diseaseFromSourceMappedId='MONDO_0005180'), Row(diseaseFromSourceMappedId='MONDO_0004975'), Row(diseaseFromSourceMappedId='MONDO_0005301'), Row(diseaseFromSourceMappedId='MONDO_0005180'), Row(diseaseFromSourceMappedId='MONDO_0002050'), Row(diseaseFromSourceMappedId='MONDO_0002009'), Row(diseaseFromSourceMappedId='EFO_0003869'), Row(diseaseFromSourceMappedId='MONDO_0004985'), Row(diseaseFromSourceMappedId='EFO_0003843'), Row(diseaseFromSourceMappedId='MONDO_0002050'), Row(diseaseFromSourceMappedId='EFO_0000546'), Row(diseaseFromSourceMappedId='MONDO_0004985'), Row(diseaseFromSourceMappedId='EFO_1000860'), Row(diseaseFromSourceMappedId='MONDO_0002050'), Row(diseaseFromSourceMappedId='EFO_0000544'), Row(diseaseFromSourceMappedId='EFO_1001175'), Row(diseaseFromSourceMappedId='MONDO_0002258'), Row(diseaseFromSourceMappedId='HP_0002381'), Row(diseaseFromSourceMappedId='EFO_0003843'), Row(diseaseFromSourceMappedId='EFO_0003086'), Row(diseaseFromSourceMappedId='EFO_0000677'), Row(diseaseFromSourceMappedId='EFO_1001402'), Row(diseaseFromSourceMappedId='MONDO_0002050'), Row(diseaseFromSourceMappedId='EFO_0004329'), Row(diseaseFromSourceMappedId='MONDO_0004985'), Row(diseaseFromSourceMappedId='EFO_0003843'), Row(diseaseFromSourceMappedId='MONDO_0007079'), Row(diseaseFromSourceMappedId='MONDO_0004975'), Row(diseaseFromSourceMappedId='MONDO_0005180'), Row(diseaseFromSourceMappedId='EFO_0003843'), Row(diseaseFromSourceMappedId='EFO_0003843'), Row(diseaseFromSourceMappedId='MONDO_0002009'), Row(diseaseFromSourceMappedId='MONDO_0002009'), Row(diseaseFromSourceMappedId='MONDO_0002050'), Row(diseaseFromSourceMappedId='EFO_0003843'), Row(diseaseFromSourceMappedId='MONDO_0002009'), Row(diseaseFromSourceMappedId='HP_0000360'), Row(diseaseFromSourceMappedId='MONDO_0007079'), Row(diseaseFromSourceMappedId='EFO_0003086'), Row(diseaseFromSourceMappedId='EFO_0007328'), Row(diseaseFromSourceMappedId='EFO_0004242'), Row(diseaseFromSourceMappedId='EFO_0003843'), Row(diseaseFromSourceMappedId='EFO_0002610'), Row(diseaseFromSourceMappedId='EFO_0003843'), Row(diseaseFromSourceMappedId='EFO_0004329'), Row(diseaseFromSourceMappedId='EFO_0004777'), Row(diseaseFromSourceMappedId='MONDO_0011382'), Row(diseaseFromSourceMappedId='MONDO_0004976'), Row(diseaseFromSourceMappedId='MONDO_0004985'), Row(diseaseFromSourceMappedId='MONDO_0005180'), Row(diseaseFromSourceMappedId='EFO_0001358'), Row(diseaseFromSourceMappedId='EFO_0003843'), Row(diseaseFromSourceMappedId='MONDO_0002050'), Row(diseaseFromSourceMappedId='MONDO_0005180'), Row(diseaseFromSourceMappedId='MONDO_0002009'), Row(diseaseFromSourceMappedId='EFO_0003843'), Row(diseaseFromSourceMappedId='EFO_0000544'), Row(diseaseFromSourceMappedId='MONDO_0100096'), Row(diseaseFromSourceMappedId='EFO_1000632'), Row(diseaseFromSourceMappedId='EFO_1001801'), Row(diseaseFromSourceMappedId='EFO_1001219'), Row(diseaseFromSourceMappedId='EFO_0009963'), Row(diseaseFromSourceMappedId='EFO_0003843'), Row(diseaseFromSourceMappedId='HP_0000360'), Row(diseaseFromSourceMappedId='EFO_0003843'), Row(diseaseFromSourceMappedId='EFO_0003777'), Row(diseaseFromSourceMappedId='EFO_0000544'), Row(diseaseFromSourceMappedId='MONDO_0004975'), Row(diseaseFromSourceMappedId='EFO_0801084'), Row(diseaseFromSourceMappedId='EFO_0009963'), Row(diseaseFromSourceMappedId='MONDO_0005180'), Row(diseaseFromSourceMappedId='EFO_0007328'), Row(diseaseFromSourceMappedId='EFO_0003047'), Row(diseaseFromSourceMappedId='EFO_0007328'), Row(diseaseFromSourceMappedId='EFO_0004321'), Row(diseaseFromSourceMappedId='EFO_0007328'), Row(diseaseFromSourceMappedId='EFO_0009854'), Row(diseaseFromSourceMappedId='MONDO_0002050'), Row(diseaseFromSourceMappedId='EFO_1000391'), Row(diseaseFromSourceMappedId='EFO_0003758'), Row(diseaseFromSourceMappedId='MONDO_0005180'), Row(diseaseFromSourceMappedId='EFO_0000544'), Row(diseaseFromSourceMappedId='HP_0000360'), Row(diseaseFromSourceMappedId='EFO_0005611'), Row(diseaseFromSourceMappedId='HP_0000360'), Row(diseaseFromSourceMappedId='MONDO_0005180'), Row(diseaseFromSourceMappedId='EFO_0000544'), Row(diseaseFromSourceMappedId='MONDO_0007079'), Row(diseaseFromSourceMappedId='MONDO_0100096'), Row(diseaseFromSourceMappedId='EFO_0000546'), Row(diseaseFromSourceMappedId='EFO_1000391'), Row(diseaseFromSourceMappedId='EFO_0007328'), Row(diseaseFromSourceMappedId='EFO_0007328'), Row(diseaseFromSourceMappedId='MONDO_0002009'), Row(diseaseFromSourceMappedId='MONDO_0002009'), Row(diseaseFromSourceMappedId='EFO_0003890'), Row(diseaseFromSourceMappedId='EFO_0003758'), Row(diseaseFromSourceMappedId='HP_0001337'), Row(diseaseFromSourceMappedId='MONDO_0005180'), Row(diseaseFromSourceMappedId='EFO_0004320'), Row(diseaseFromSourceMappedId='HP_0002140'), Row(diseaseFromSourceMappedId='EFO_0009854'), Row(diseaseFromSourceMappedId='EFO_0004320'), Row(diseaseFromSourceMappedId='EFO_0004242'), Row(diseaseFromSourceMappedId='EFO_0003015'), Row(diseaseFromSourceMappedId='EFO_0005762'), Row(diseaseFromSourceMappedId='EFO_0003843'), Row(diseaseFromSourceMappedId='MONDO_0002009'), Row(diseaseFromSourceMappedId='MONDO_0004975'), Row(diseaseFromSourceMappedId='EFO_0003843'), Row(diseaseFromSourceMappedId='MONDO_0002050'), Row(diseaseFromSourceMappedId='MONDO_0002050'), Row(diseaseFromSourceMappedId='MONDO_0005180'), Row(diseaseFromSourceMappedId='MONDO_0005090'), Row(diseaseFromSourceMappedId='EFO_1001402'), Row(diseaseFromSourceMappedId='MONDO_0005180'), Row(diseaseFromSourceMappedId='EFO_0001358'), Row(diseaseFromSourceMappedId='EFO_0003843'), Row(diseaseFromSourceMappedId='MONDO_0007079'), Row(diseaseFromSourceMappedId='EFO_0003843'), Row(diseaseFromSourceMappedId='EFO_0007623'), Row(diseaseFromSourceMappedId='HP_0000360'), Row(diseaseFromSourceMappedId='EFO_0004699'), Row(diseaseFromSourceMappedId='MONDO_0007915'), Row(diseaseFromSourceMappedId='MONDO_0004975'), Row(diseaseFromSourceMappedId='MONDO_0004975'), Row(diseaseFromSourceMappedId='EFO_0000546'), Row(diseaseFromSourceMappedId='EFO_1001175'), Row(diseaseFromSourceMappedId='MONDO_0005090'), Row(diseaseFromSourceMappedId='HP_0000360'), Row(diseaseFromSourceMappedId='MONDO_0005180'), Row(diseaseFromSourceMappedId='EFO_0001358'), Row(diseaseFromSourceMappedId='MONDO_0007079'), Row(diseaseFromSourceMappedId='MONDO_0005180'), Row(diseaseFromSourceMappedId='EFO_0006834'), Row(diseaseFromSourceMappedId='EFO_0003890'), Row(diseaseFromSourceMappedId='EFO_0004247'), Row(diseaseFromSourceMappedId='EFO_0005232'), Row(diseaseFromSourceMappedId='MP_0001845'), Row(diseaseFromSourceMappedId='EFO_1001884'), Row(diseaseFromSourceMappedId='EFO_1001175'), Row(diseaseFromSourceMappedId='MONDO_0002050'), Row(diseaseFromSourceMappedId='MONDO_0004975'), Row(diseaseFromSourceMappedId='EFO_0003768'), Row(diseaseFromSourceMappedId='EFO_0001358'), Row(diseaseFromSourceMappedId='EFO_0005323'), Row(diseaseFromSourceMappedId='EFO_1001402'), Row(diseaseFromSourceMappedId='EFO_0003843'), Row(diseaseFromSourceMappedId='MONDO_0043510'), Row(diseaseFromSourceMappedId='MONDO_0002050'), Row(diseaseFromSourceMappedId='EFO_0003843'), Row(diseaseFromSourceMappedId='MONDO_0004975'), Row(diseaseFromSourceMappedId='EFO_0007328'), Row(diseaseFromSourceMappedId='EFO_0003768'), Row(diseaseFromSourceMappedId='EFO_0005854'), Row(diseaseFromSourceMappedId='MONDO_0002050'), Row(diseaseFromSourceMappedId='MONDO_0004975'), Row(diseaseFromSourceMappedId='MONDO_0002009'), Row(diseaseFromSourceMappedId='EFO_0000544'), Row(diseaseFromSourceMappedId='MONDO_0005180'), Row(diseaseFromSourceMappedId='MONDO_0005180'), Row(diseaseFromSourceMappedId='EFO_0005203'), Row(diseaseFromSourceMappedId='EFO_0003843'), Row(diseaseFromSourceMappedId='MONDO_0005180'), Row(diseaseFromSourceMappedId='EFO_0000546'), Row(diseaseFromSourceMappedId='EFO_0003888'), Row(diseaseFromSourceMappedId='MONDO_0002009'), Row(diseaseFromSourceMappedId='EFO_1001175'), Row(diseaseFromSourceMappedId='EFO_0003843'), Row(diseaseFromSourceMappedId='EFO_0007328'), Row(diseaseFromSourceMappedId='EFO_0007328'), Row(diseaseFromSourceMappedId='EFO_0003761'), Row(diseaseFromSourceMappedId='MONDO_0004985'), Row(diseaseFromSourceMappedId='MONDO_0005180'), Row(diseaseFromSourceMappedId='HP_0000360'), Row(diseaseFromSourceMappedId='MONDO_0007079'), Row(diseaseFromSourceMappedId='EFO_0003843'), Row(diseaseFromSourceMappedId='MONDO_0002050'), Row(diseaseFromSourceMappedId='MONDO_0005180'), Row(diseaseFromSourceMappedId='EFO_0000546'), Row(diseaseFromSourceMappedId='MONDO_0005301'), Row(diseaseFromSourceMappedId='EFO_1001402'), Row(diseaseFromSourceMappedId='MONDO_0002050'), Row(diseaseFromSourceMappedId='MONDO_0011382'), Row(diseaseFromSourceMappedId='EFO_0003843'), Row(diseaseFromSourceMappedId='EFO_1000391'), Row(diseaseFromSourceMappedId='HP_0100806'), Row(diseaseFromSourceMappedId='MONDO_0002050'), Row(diseaseFromSourceMappedId='EFO_0004242'), Row(diseaseFromSourceMappedId='MONDO_0002050'), Row(diseaseFromSourceMappedId='EFO_1001465'), Row(diseaseFromSourceMappedId='EFO_0000544'), Row(diseaseFromSourceMappedId='EFO_0801084'), Row(diseaseFromSourceMappedId='EFO_0003931'), Row(diseaseFromSourceMappedId='MONDO_0002009'), Row(diseaseFromSourceMappedId='MONDO_0005090'), Row(diseaseFromSourceMappedId='EFO_0000546'), Row(diseaseFromSourceMappedId='MONDO_0002009'), Row(diseaseFromSourceMappedId='EFO_0004220'), Row(diseaseFromSourceMappedId='MONDO_0005180'), Row(diseaseFromSourceMappedId='EFO_0004777'), Row(diseaseFromSourceMappedId='EFO_0006834'), Row(diseaseFromSourceMappedId='MONDO_0005301'), Row(diseaseFromSourceMappedId='MONDO_0100096'), Row(diseaseFromSourceMappedId='MONDO_0002679'), Row(diseaseFromSourceMappedId='EFO_0000512'), Row(diseaseFromSourceMappedId='MONDO_0005180'), Row(diseaseFromSourceMappedId='HP_0100543'), Row(diseaseFromSourceMappedId='HP_0025428'), Row(diseaseFromSourceMappedId='MONDO_0007079'), Row(diseaseFromSourceMappedId='EFO_0003888'), Row(diseaseFromSourceMappedId='MONDO_0010726'), Row(diseaseFromSourceMappedId='MONDO_0002050'), Row(diseaseFromSourceMappedId='EFO_1001412'), Row(diseaseFromSourceMappedId='MONDO_0005180'), Row(diseaseFromSourceMappedId='MONDO_0005180'), Row(diseaseFromSourceMappedId='MONDO_0007079'), Row(diseaseFromSourceMappedId='EFO_0003843'), Row(diseaseFromSourceMappedId='EFO_0003843'), Row(diseaseFromSourceMappedId='MONDO_0005180'), Row(diseaseFromSourceMappedId='EFO_0009516'), Row(diseaseFromSourceMappedId='MONDO_0002050'), Row(diseaseFromSourceMappedId='EFO_0009267'), Row(diseaseFromSourceMappedId='EFO_0004329'), Row(diseaseFromSourceMappedId='EFO_0000474'), Row(diseaseFromSourceMappedId='MONDO_0005180'), Row(diseaseFromSourceMappedId='MONDO_0005180'), Row(diseaseFromSourceMappedId='HP_0012228'), Row(diseaseFromSourceMappedId='MONDO_0002050'), Row(diseaseFromSourceMappedId='MONDO_0005090'), Row(diseaseFromSourceMappedId='MONDO_0005277'), Row(diseaseFromSourceMappedId='EFO_0009963'), Row(diseaseFromSourceMappedId='MONDO_0005180'), Row(diseaseFromSourceMappedId='MONDO_0002009'), Row(diseaseFromSourceMappedId='HP_0012532'), Row(diseaseFromSourceMappedId='MONDO_0004681'), Row(diseaseFromSourceMappedId='EFO_0003931'), Row(diseaseFromSourceMappedId='EFO_0005323'), Row(diseaseFromSourceMappedId='MONDO_0000870'), Row(diseaseFromSourceMappedId='EFO_0007623'), Row(diseaseFromSourceMappedId='EFO_1001488'), Row(diseaseFromSourceMappedId='MONDO_0007079'), Row(diseaseFromSourceMappedId='MONDO_0002050'), Row(diseaseFromSourceMappedId='EFO_0004888'), Row(diseaseFromSourceMappedId='EFO_0007634'), Row(diseaseFromSourceMappedId='EFO_0007634'), Row(diseaseFromSourceMappedId='EFO_0003843'), Row(diseaseFromSourceMappedId='HP_0012532'), Row(diseaseFromSourceMappedId='MONDO_0002009'), Row(diseaseFromSourceMappedId='EFO_0003758'), Row(diseaseFromSourceMappedId='MONDO_0002050'), Row(diseaseFromSourceMappedId='MONDO_0004975'), Row(diseaseFromSourceMappedId='MONDO_0002050'), Row(diseaseFromSourceMappedId='MONDO_0002050'), Row(diseaseFromSourceMappedId='EFO_0000544'), Row(diseaseFromSourceMappedId='EFO_0003843'), Row(diseaseFromSourceMappedId='MONDO_0002050'), Row(diseaseFromSourceMappedId='MONDO_0002050'), Row(diseaseFromSourceMappedId='EFO_0003108'), Row(diseaseFromSourceMappedId='MONDO_0004976'), Row(diseaseFromSourceMappedId='EFO_0005230'), Row(diseaseFromSourceMappedId='EFO_0009854'), Row(diseaseFromSourceMappedId='EFO_0000544'), Row(diseaseFromSourceMappedId='MONDO_0007079'), Row(diseaseFromSourceMappedId='MONDO_0002009'), Row(diseaseFromSourceMappedId='EFO_0003843'), Row(diseaseFromSourceMappedId='MONDO_0002050'), Row(diseaseFromSourceMappedId='EFO_1001402'), Row(diseaseFromSourceMappedId='EFO_0005323'), Row(diseaseFromSourceMappedId='MONDO_0004976'), Row(diseaseFromSourceMappedId='HP_0000360'), Row(diseaseFromSourceMappedId='MONDO_0007079'), Row(diseaseFromSourceMappedId='EFO_0003843'), Row(diseaseFromSourceMappedId='EFO_0005762'), Row(diseaseFromSourceMappedId='MONDO_0005301'), Row(diseaseFromSourceMappedId='MONDO_0005180'), Row(diseaseFromSourceMappedId='EFO_0003843'), Row(diseaseFromSourceMappedId='MONDO_0043510'), Row(diseaseFromSourceMappedId='MONDO_0004975'), Row(diseaseFromSourceMappedId='EFO_0007328'), Row(diseaseFromSourceMappedId='MONDO_0007079'), Row(diseaseFromSourceMappedId='EFO_0007328'), Row(diseaseFromSourceMappedId='MONDO_0002050'), Row(diseaseFromSourceMappedId='MONDO_0007079'), Row(diseaseFromSourceMappedId='EFO_0000712'), Row(diseaseFromSourceMappedId='MONDO_0002050'), Row(diseaseFromSourceMappedId='MONDO_0005180'), Row(diseaseFromSourceMappedId='EFO_0003843'), Row(diseaseFromSourceMappedId='EFO_0001358'), Row(diseaseFromSourceMappedId='MONDO_0004976'), Row(diseaseFromSourceMappedId='EFO_0003843'), Row(diseaseFromSourceMappedId='MONDO_0004975'), Row(diseaseFromSourceMappedId='EFO_0003843'), Row(diseaseFromSourceMappedId='HP_0000360'), Row(diseaseFromSourceMappedId='MONDO_0007254'), Row(diseaseFromSourceMappedId='EFO_0009854'), Row(diseaseFromSourceMappedId='HP_0000360'), Row(diseaseFromSourceMappedId='EFO_0004247'), Row(diseaseFromSourceMappedId='EFO_0003931'), Row(diseaseFromSourceMappedId='EFO_1000860'), Row(diseaseFromSourceMappedId='EFO_1001998'), Row(diseaseFromSourceMappedId='MONDO_0004985'), Row(diseaseFromSourceMappedId='MONDO_0004975'), Row(diseaseFromSourceMappedId='MONDO_0010383'), Row(diseaseFromSourceMappedId='MONDO_0002050'), Row(diseaseFromSourceMappedId='EFO_0000544'), Row(diseaseFromSourceMappedId='MONDO_0004975'), Row(diseaseFromSourceMappedId='EFO_0003843'), Row(diseaseFromSourceMappedId='MONDO_0002050'), Row(diseaseFromSourceMappedId='EFO_0003843'), Row(diseaseFromSourceMappedId='MONDO_0002009'), Row(diseaseFromSourceMappedId='EFO_0000474'), Row(diseaseFromSourceMappedId='EFO_0000712'), Row(diseaseFromSourceMappedId='MONDO_0005180'), Row(diseaseFromSourceMappedId='EFO_0003843'), Row(diseaseFromSourceMappedId='EFO_1001488'), Row(diseaseFromSourceMappedId='EFO_0009854'), Row(diseaseFromSourceMappedId='MONDO_0043510'), Row(diseaseFromSourceMappedId='EFO_0009516'), Row(diseaseFromSourceMappedId='EFO_1000391'), Row(diseaseFromSourceMappedId='EFO_0004320'), Row(diseaseFromSourceMappedId='HP_0000713'), Row(diseaseFromSourceMappedId='EFO_0000544'), Row(diseaseFromSourceMappedId='MONDO_0007079'), Row(diseaseFromSourceMappedId='EFO_0003843'), Row(diseaseFromSourceMappedId='HP_0000023'), Row(diseaseFromSourceMappedId='EFO_0004701'), Row(diseaseFromSourceMappedId='EFO_0007328'), Row(diseaseFromSourceMappedId='EFO_0000544'), Row(diseaseFromSourceMappedId='MONDO_0005180'), Row(diseaseFromSourceMappedId='EFO_0007328'), Row(diseaseFromSourceMappedId='MONDO_0002050'), Row(diseaseFromSourceMappedId='MONDO_0002050'), Row(diseaseFromSourceMappedId='MONDO_0002280'), Row(diseaseFromSourceMappedId='EFO_0003843'), Row(diseaseFromSourceMappedId='MONDO_0002009'), Row(diseaseFromSourceMappedId='EFO_0007634'), Row(diseaseFromSourceMappedId='EFO_0009854'), Row(diseaseFromSourceMappedId='MONDO_0002050'), Row(diseaseFromSourceMappedId='EFO_0007328'), Row(diseaseFromSourceMappedId='EFO_0002610'), Row(diseaseFromSourceMappedId='EFO_0005411'), Row(diseaseFromSourceMappedId='EFO_0000326'), Row(diseaseFromSourceMappedId='MONDO_0002009'), Row(diseaseFromSourceMappedId='MONDO_0002009'), Row(diseaseFromSourceMappedId='EFO_0004320'), Row(diseaseFromSourceMappedId='MONDO_0004985'), Row(diseaseFromSourceMappedId='EFO_0000544'), Row(diseaseFromSourceMappedId='MONDO_0002050'), Row(diseaseFromSourceMappedId='MONDO_0004985'), Row(diseaseFromSourceMappedId='EFO_1001402'), Row(diseaseFromSourceMappedId='MONDO_0002050'), Row(diseaseFromSourceMappedId='EFO_0009516'), Row(diseaseFromSourceMappedId='EFO_0000544'), Row(diseaseFromSourceMappedId='MONDO_0002050'), Row(diseaseFromSourceMappedId='EFO_0003843'), Row(diseaseFromSourceMappedId='MONDO_0007079'), Row(diseaseFromSourceMappedId='EFO_0001072'), Row(diseaseFromSourceMappedId='EFO_0000544'), Row(diseaseFromSourceMappedId='MONDO_0005180'), Row(diseaseFromSourceMappedId='EFO_0003843'), Row(diseaseFromSourceMappedId='EFO_0000544'), Row(diseaseFromSourceMappedId='EFO_0003843'), Row(diseaseFromSourceMappedId='EFO_0003843'), Row(diseaseFromSourceMappedId='EFO_0000519'), Row(diseaseFromSourceMappedId='EFO_0007328'), Row(diseaseFromSourceMappedId='HP_0000360'), Row(diseaseFromSourceMappedId='EFO_0007328'), Row(diseaseFromSourceMappedId='EFO_1001175'), Row(diseaseFromSourceMappedId='MONDO_0002050'), Row(diseaseFromSourceMappedId='EFO_0003843'), Row(diseaseFromSourceMappedId='EFO_0007328'), Row(diseaseFromSourceMappedId='EFO_0003931'), Row(diseaseFromSourceMappedId='EFO_0003843'), Row(diseaseFromSourceMappedId='MONDO_0002009'), Row(diseaseFromSourceMappedId='MONDO_0002009'), Row(diseaseFromSourceMappedId='EFO_0004321'), Row(diseaseFromSourceMappedId='EFO_0009854'), Row(diseaseFromSourceMappedId='EFO_0003843'), Row(diseaseFromSourceMappedId='EFO_0003843'), Row(diseaseFromSourceMappedId='MONDO_0002050'), Row(diseaseFromSourceMappedId='EFO_0007430'), Row(diseaseFromSourceMappedId='EFO_0003931'), Row(diseaseFromSourceMappedId='MONDO_0043510'), Row(diseaseFromSourceMappedId='EFO_0000474'), Row(diseaseFromSourceMappedId='EFO_0003758'), Row(diseaseFromSourceMappedId='MONDO_0007079'), Row(diseaseFromSourceMappedId='EFO_0003833'), Row(diseaseFromSourceMappedId='HP_0100543'), Row(diseaseFromSourceMappedId='EFO_0007328'), Row(diseaseFromSourceMappedId='EFO_0003843'), Row(diseaseFromSourceMappedId='EFO_0000544'), Row(diseaseFromSourceMappedId='MONDO_0005180'), Row(diseaseFromSourceMappedId='MONDO_0004975'), Row(diseaseFromSourceMappedId='MONDO_0005301'), Row(diseaseFromSourceMappedId='EFO_0007634'), Row(diseaseFromSourceMappedId='EFO_0007328'), Row(diseaseFromSourceMappedId='EFO_0003768'), Row(diseaseFromSourceMappedId='MONDO_0010383'), Row(diseaseFromSourceMappedId='MONDO_0002009'), Row(diseaseFromSourceMappedId='EFO_0004242'), Row(diseaseFromSourceMappedId='EFO_0000544'), Row(diseaseFromSourceMappedId='HP_0000360'), Row(diseaseFromSourceMappedId='EFO_0003843'), Row(diseaseFromSourceMappedId='EFO_0007328'), Row(diseaseFromSourceMappedId='MONDO_0005180'), Row(diseaseFromSourceMappedId='EFO_0003843'), Row(diseaseFromSourceMappedId='EFO_0003843'), Row(diseaseFromSourceMappedId='EFO_1001488'), Row(diseaseFromSourceMappedId='MONDO_0002070'), Row(diseaseFromSourceMappedId='MONDO_0004975'), Row(diseaseFromSourceMappedId='EFO_0004242'), Row(diseaseFromSourceMappedId='MONDO_0002009'), Row(diseaseFromSourceMappedId='EFO_0801084'), Row(diseaseFromSourceMappedId='MONDO_0005301'), Row(diseaseFromSourceMappedId='MONDO_0004975'), Row(diseaseFromSourceMappedId='MONDO_0005090'), Row(diseaseFromSourceMappedId='EFO_0003843'), Row(diseaseFromSourceMappedId='MONDO_0004975'), Row(diseaseFromSourceMappedId='MONDO_0002009'), Row(diseaseFromSourceMappedId='MONDO_0005180'), Row(diseaseFromSourceMappedId='EFO_0000677'), Row(diseaseFromSourceMappedId='MONDO_0002050'), Row(diseaseFromSourceMappedId='EFO_0007453'), Row(diseaseFromSourceMappedId='EFO_0003843'), Row(diseaseFromSourceMappedId='EFO_0001074'), Row(diseaseFromSourceMappedId='MONDO_0004975'), Row(diseaseFromSourceMappedId='EFO_1001488'), Row(diseaseFromSourceMappedId='EFO_0003843'), Row(diseaseFromSourceMappedId='MONDO_0007079'), Row(diseaseFromSourceMappedId='EFO_0000544'), Row(diseaseFromSourceMappedId='MONDO_0004985'), Row(diseaseFromSourceMappedId='MONDO_0005180'), Row(diseaseFromSourceMappedId='EFO_0007328'), Row(diseaseFromSourceMappedId='EFO_0000544'), Row(diseaseFromSourceMappedId='MONDO_0005180'), Row(diseaseFromSourceMappedId='MONDO_0002050'), Row(diseaseFromSourceMappedId='MONDO_0005180'), Row(diseaseFromSourceMappedId='HP_0000360'), Row(diseaseFromSourceMappedId='EFO_1001402'), Row(diseaseFromSourceMappedId='EFO_0009386'), Row(diseaseFromSourceMappedId='MONDO_0004975'), Row(diseaseFromSourceMappedId='MONDO_0004985'), Row(diseaseFromSourceMappedId='EFO_0003877'), Row(diseaseFromSourceMappedId='EFO_0000544'), Row(diseaseFromSourceMappedId='MONDO_0100096'), Row(diseaseFromSourceMappedId='EFO_0007328'), Row(diseaseFromSourceMappedId='MONDO_0004975'), Row(diseaseFromSourceMappedId='HP_0100543'), Row(diseaseFromSourceMappedId='MONDO_0007079'), Row(diseaseFromSourceMappedId='EFO_1001175'), Row(diseaseFromSourceMappedId='EFO_0009267'), Row(diseaseFromSourceMappedId='EFO_0009516'), Row(diseaseFromSourceMappedId='EFO_0000544'), Row(diseaseFromSourceMappedId='HP_0002315'), Row(diseaseFromSourceMappedId='EFO_0007328'), Row(diseaseFromSourceMappedId='MONDO_0002050'), Row(diseaseFromSourceMappedId='EFO_0004247'), Row(diseaseFromSourceMappedId='EFO_0003843'), Row(diseaseFromSourceMappedId='EFO_0001074'), Row(diseaseFromSourceMappedId='MONDO_0002050'), Row(diseaseFromSourceMappedId='EFO_0003843'), Row(diseaseFromSourceMappedId='MONDO_0005351'), Row(diseaseFromSourceMappedId='MONDO_0005090'), Row(diseaseFromSourceMappedId='EFO_0008526'), Row(diseaseFromSourceMappedId='EFO_0009854'), Row(diseaseFromSourceMappedId='MONDO_0002009'), Row(diseaseFromSourceMappedId='EFO_0000544'), Row(diseaseFromSourceMappedId='MONDO_0005351'), Row(diseaseFromSourceMappedId='MONDO_0005180'), Row(diseaseFromSourceMappedId='MONDO_0004975'), Row(diseaseFromSourceMappedId='MONDO_0005180'), Row(diseaseFromSourceMappedId='EFO_0005762'), Row(diseaseFromSourceMappedId='EFO_1001488'), Row(diseaseFromSourceMappedId='MONDO_0005180'), Row(diseaseFromSourceMappedId='MONDO_0002050'), Row(diseaseFromSourceMappedId='MONDO_0005180'), Row(diseaseFromSourceMappedId='EFO_0000694'), Row(diseaseFromSourceMappedId='EFO_0002610'), Row(diseaseFromSourceMappedId='EFO_0009267'), Row(diseaseFromSourceMappedId='MONDO_0007079'), Row(diseaseFromSourceMappedId='HP_0002140'), Row(diseaseFromSourceMappedId='EFO_1000860'), Row(diseaseFromSourceMappedId='EFO_0003843'), Row(diseaseFromSourceMappedId='EFO_0007328'), Row(diseaseFromSourceMappedId='EFO_0002610'), Row(diseaseFromSourceMappedId='EFO_0003843'), Row(diseaseFromSourceMappedId='EFO_0003843'), Row(diseaseFromSourceMappedId='MONDO_0002050'), Row(diseaseFromSourceMappedId='EFO_0009267'), Row(diseaseFromSourceMappedId='EFO_1000632'), Row(diseaseFromSourceMappedId='MONDO_0005180'), Row(diseaseFromSourceMappedId='MONDO_0002050'), Row(diseaseFromSourceMappedId='EFO_0000544'), Row(diseaseFromSourceMappedId='HP_0100543'), Row(diseaseFromSourceMappedId='EFO_0003756'), Row(diseaseFromSourceMappedId='HP_0012532'), Row(diseaseFromSourceMappedId='MONDO_0004976'), Row(diseaseFromSourceMappedId='MONDO_0004975'), Row(diseaseFromSourceMappedId='EFO_0009854'), Row(diseaseFromSourceMappedId='MONDO_0005351'), Row(diseaseFromSourceMappedId='EFO_0003843'), Row(diseaseFromSourceMappedId='EFO_0004320'), Row(diseaseFromSourceMappedId='EFO_0004321'), Row(diseaseFromSourceMappedId='MONDO_0002050'), Row(diseaseFromSourceMappedId='EFO_0003843'), Row(diseaseFromSourceMappedId='MONDO_0002358'), Row(diseaseFromSourceMappedId='MONDO_0007079'), Row(diseaseFromSourceMappedId='MONDO_0002050'), Row(diseaseFromSourceMappedId='EFO_0003843'), Row(diseaseFromSourceMappedId='EFO_0004242'), Row(diseaseFromSourceMappedId='EFO_0004242'), Row(diseaseFromSourceMappedId='MONDO_0002009'), Row(diseaseFromSourceMappedId='MONDO_0007079'), Row(diseaseFromSourceMappedId='MONDO_0002050'), Row(diseaseFromSourceMappedId='EFO_0005762'), Row(diseaseFromSourceMappedId='MONDO_0005090'), Row(diseaseFromSourceMappedId='EFO_0003843'), Row(diseaseFromSourceMappedId='EFO_1000864'), Row(diseaseFromSourceMappedId='MONDO_0002050'), Row(diseaseFromSourceMappedId='EFO_0003931'), Row(diseaseFromSourceMappedId='EFO_0009620'), Row(diseaseFromSourceMappedId='MONDO_0005180'), Row(diseaseFromSourceMappedId='EFO_0000544'), Row(diseaseFromSourceMappedId='EFO_0004701'), Row(diseaseFromSourceMappedId='MONDO_0007079'), Row(diseaseFromSourceMappedId='EFO_0000544'), Row(diseaseFromSourceMappedId='EFO_0003890'), Row(diseaseFromSourceMappedId='EFO_0007328'), Row(diseaseFromSourceMappedId='MONDO_0002050'), Row(diseaseFromSourceMappedId='EFO_0003843'), Row(diseaseFromSourceMappedId='MONDO_0005090'), Row(diseaseFromSourceMappedId='EFO_0007149'), Row(diseaseFromSourceMappedId='EFO_1001175'), Row(diseaseFromSourceMappedId='MONDO_0007079'), Row(diseaseFromSourceMappedId='MONDO_0002009'), Row(diseaseFromSourceMappedId='MONDO_0005180'), Row(diseaseFromSourceMappedId='EFO_0000544'), Row(diseaseFromSourceMappedId='EFO_0003843'), Row(diseaseFromSourceMappedId='EFO_0005762'), Row(diseaseFromSourceMappedId='MONDO_0002009'), Row(diseaseFromSourceMappedId='EFO_0000512'), Row(diseaseFromSourceMappedId='EFO_1001402'), Row(diseaseFromSourceMappedId='EFO_0009620'), Row(diseaseFromSourceMappedId='EFO_0001361'), Row(diseaseFromSourceMappedId='EFO_0005203'), Row(diseaseFromSourceMappedId='EFO_0007328'), Row(diseaseFromSourceMappedId='MONDO_0004975'), Row(diseaseFromSourceMappedId='EFO_0007328'), Row(diseaseFromSourceMappedId='MONDO_0005180'), Row(diseaseFromSourceMappedId='EFO_0003843'), Row(diseaseFromSourceMappedId='EFO_0000544'), Row(diseaseFromSourceMappedId='EFO_0000677'), Row(diseaseFromSourceMappedId='EFO_0003931'), Row(diseaseFromSourceMappedId='EFO_0007328'), Row(diseaseFromSourceMappedId='EFO_0003843'), Row(diseaseFromSourceMappedId='EFO_0003843'), Row(diseaseFromSourceMappedId='MONDO_0017276'), Row(diseaseFromSourceMappedId='EFO_1001892'), Row(diseaseFromSourceMappedId='MONDO_0002009'), Row(diseaseFromSourceMappedId='MONDO_0043510'), Row(diseaseFromSourceMappedId='MONDO_0005180'), Row(diseaseFromSourceMappedId='MONDO_0002009'), Row(diseaseFromSourceMappedId='EFO_0003819'), Row(diseaseFromSourceMappedId='EFO_0003843'), Row(diseaseFromSourceMappedId='EFO_0008526'), Row(diseaseFromSourceMappedId='MONDO_0005301'), Row(diseaseFromSourceMappedId='EFO_0001358'), Row(diseaseFromSourceMappedId='EFO_0004247'), Row(diseaseFromSourceMappedId='MONDO_0002009'), Row(diseaseFromSourceMappedId='HP_0100543'), Row(diseaseFromSourceMappedId='EFO_0006834'), Row(diseaseFromSourceMappedId='EFO_0003756'), Row(diseaseFromSourceMappedId='EFO_0007328'), Row(diseaseFromSourceMappedId='EFO_0009963'), Row(diseaseFromSourceMappedId='EFO_0009854'), Row(diseaseFromSourceMappedId='EFO_1001175'), Row(diseaseFromSourceMappedId='EFO_0000712'), Row(diseaseFromSourceMappedId='MONDO_0002050'), Row(diseaseFromSourceMappedId='EFO_0007328'), Row(diseaseFromSourceMappedId='MONDO_0004985'), Row(diseaseFromSourceMappedId='EFO_0000694'), Row(diseaseFromSourceMappedId='MONDO_0002009'), Row(diseaseFromSourceMappedId='EFO_0000474'), Row(diseaseFromSourceMappedId='MONDO_0005180'), Row(diseaseFromSourceMappedId='MONDO_0005090'), Row(diseaseFromSourceMappedId='MONDO_0004975'), Row(diseaseFromSourceMappedId='EFO_0009854'), Row(diseaseFromSourceMappedId='MONDO_0004985'), Row(diseaseFromSourceMappedId='EFO_0007328'), Row(diseaseFromSourceMappedId='MONDO_0002050'), Row(diseaseFromSourceMappedId='MONDO_0005090'), Row(diseaseFromSourceMappedId='EFO_1001998'), Row(diseaseFromSourceMappedId='EFO_0003890'), Row(diseaseFromSourceMappedId='MONDO_0004975'), Row(diseaseFromSourceMappedId='EFO_1000632'), Row(diseaseFromSourceMappedId='MONDO_0005090'), Row(diseaseFromSourceMappedId='EFO_0003843'), Row(diseaseFromSourceMappedId='MONDO_0005180'), Row(diseaseFromSourceMappedId='MONDO_0004975'), Row(diseaseFromSourceMappedId='EFO_0007328'), Row(diseaseFromSourceMappedId='EFO_0007328'), Row(diseaseFromSourceMappedId='MONDO_0004985'), Row(diseaseFromSourceMappedId='MONDO_0002050'), Row(diseaseFromSourceMappedId='EFO_0007328'), Row(diseaseFromSourceMappedId='EFO_0007191'), Row(diseaseFromSourceMappedId='EFO_0000544'), Row(diseaseFromSourceMappedId='HP_0012076'), Row(diseaseFromSourceMappedId='HP_0002315'), Row(diseaseFromSourceMappedId='MONDO_0004976'), Row(diseaseFromSourceMappedId='MONDO_0005180'), Row(diseaseFromSourceMappedId='EFO_0000544'), Row(diseaseFromSourceMappedId='MONDO_0007079'), Row(diseaseFromSourceMappedId='EFO_0007328'), Row(diseaseFromSourceMappedId='EFO_0003843'), Row(diseaseFromSourceMappedId='MONDO_0002050'), Row(diseaseFromSourceMappedId='EFO_0002610'), Row(diseaseFromSourceMappedId='MONDO_0002009'), Row(diseaseFromSourceMappedId='HP_0000360'), Row(diseaseFromSourceMappedId='MONDO_0007254'), Row(diseaseFromSourceMappedId='EFO_0001073'), Row(diseaseFromSourceMappedId='EFO_1001402'), Row(diseaseFromSourceMappedId='EFO_0007328'), Row(diseaseFromSourceMappedId='MONDO_0004992'), Row(diseaseFromSourceMappedId='MONDO_0007079'), Row(diseaseFromSourceMappedId='MONDO_0004681'), Row(diseaseFromSourceMappedId='EFO_1000860'), Row(diseaseFromSourceMappedId='EFO_0000544'), Row(diseaseFromSourceMappedId='MONDO_0002050'), Row(diseaseFromSourceMappedId='MONDO_0002050'), Row(diseaseFromSourceMappedId='MONDO_0005180'), Row(diseaseFromSourceMappedId='HP_0002140'), Row(diseaseFromSourceMappedId='MONDO_0005180'), Row(diseaseFromSourceMappedId='MONDO_0005180'), Row(diseaseFromSourceMappedId='EFO_0000677'), Row(diseaseFromSourceMappedId='EFO_0004242'), Row(diseaseFromSourceMappedId='EFO_0003843'), Row(diseaseFromSourceMappedId='EFO_0004888'), Row(diseaseFromSourceMappedId='MONDO_0100096'), Row(diseaseFromSourceMappedId='EFO_0003843'), Row(diseaseFromSourceMappedId='EFO_0000474'), Row(diseaseFromSourceMappedId='MONDO_0004985'), Row(diseaseFromSourceMappedId='MONDO_0002009'), Row(diseaseFromSourceMappedId='EFO_0003843'), Row(diseaseFromSourceMappedId='EFO_1001402'), Row(diseaseFromSourceMappedId='MONDO_0004985'), Row(diseaseFromSourceMappedId='MONDO_0002009'), Row(diseaseFromSourceMappedId='EFO_0004320'), Row(diseaseFromSourceMappedId='EFO_0003843'), Row(diseaseFromSourceMappedId='EFO_0000544'), Row(diseaseFromSourceMappedId='EFO_0003843'), Row(diseaseFromSourceMappedId='EFO_0000544'), Row(diseaseFromSourceMappedId='MONDO_0005180'), Row(diseaseFromSourceMappedId='MONDO_0005090'), Row(diseaseFromSourceMappedId='EFO_0009492'), Row(diseaseFromSourceMappedId='MONDO_0002009'), Row(diseaseFromSourceMappedId='EFO_0007328'), Row(diseaseFromSourceMappedId='EFO_0003843'), Row(diseaseFromSourceMappedId='MONDO_0005351'), Row(diseaseFromSourceMappedId='EFO_0005762'), Row(diseaseFromSourceMappedId='EFO_0003843'), Row(diseaseFromSourceMappedId='MONDO_0043510'), Row(diseaseFromSourceMappedId='MONDO_0005180'), Row(diseaseFromSourceMappedId='EFO_0003761'), Row(diseaseFromSourceMappedId='EFO_0007328'), Row(diseaseFromSourceMappedId='MONDO_0002050'), Row(diseaseFromSourceMappedId='MONDO_0002009'), Row(diseaseFromSourceMappedId='EFO_0000544'), Row(diseaseFromSourceMappedId='EFO_1000860'), Row(diseaseFromSourceMappedId='EFO_1001801'), Row(diseaseFromSourceMappedId='MONDO_0005090'), Row(diseaseFromSourceMappedId='MONDO_0002050'), Row(diseaseFromSourceMappedId='EFO_0009686'), Row(diseaseFromSourceMappedId='EFO_0004242'), Row(diseaseFromSourceMappedId='MONDO_0002050'), Row(diseaseFromSourceMappedId='MONDO_0002009'), Row(diseaseFromSourceMappedId='HP_0002140'), Row(diseaseFromSourceMappedId='EFO_0000544'), Row(diseaseFromSourceMappedId='MONDO_0005090'), Row(diseaseFromSourceMappedId='MONDO_0005180'), Row(diseaseFromSourceMappedId='EFO_0007328'), Row(diseaseFromSourceMappedId='MONDO_0007079'), Row(diseaseFromSourceMappedId='MONDO_0004985'), Row(diseaseFromSourceMappedId='EFO_0001073'), Row(diseaseFromSourceMappedId='EFO_0007430'), Row(diseaseFromSourceMappedId='EFO_0004321'), Row(diseaseFromSourceMappedId='MONDO_0002050'), Row(diseaseFromSourceMappedId='MONDO_0005180'), Row(diseaseFromSourceMappedId='EFO_1000860'), Row(diseaseFromSourceMappedId='MONDO_0004992'), Row(diseaseFromSourceMappedId='MONDO_0005180'), Row(diseaseFromSourceMappedId='EFO_0007328'), Row(diseaseFromSourceMappedId='MONDO_0005180'), Row(diseaseFromSourceMappedId='EFO_1001488'), Row(diseaseFromSourceMappedId='EFO_0005411'), Row(diseaseFromSourceMappedId='MONDO_0002050'), Row(diseaseFromSourceMappedId='EFO_0003761'), Row(diseaseFromSourceMappedId='EFO_0004320'), Row(diseaseFromSourceMappedId='EFO_0000544'), Row(diseaseFromSourceMappedId='EFO_0003843'), Row(diseaseFromSourceMappedId='MONDO_0005180'), Row(diseaseFromSourceMappedId='EFO_0003843'), Row(diseaseFromSourceMappedId='EFO_0003833'), Row(diseaseFromSourceMappedId='MONDO_0002050'), Row(diseaseFromSourceMappedId='EFO_0000677'), Row(diseaseFromSourceMappedId='EFO_0007328'), Row(diseaseFromSourceMappedId='MONDO_0004975'), Row(diseaseFromSourceMappedId='EFO_1001175'), Row(diseaseFromSourceMappedId='MONDO_0001208'), Row(diseaseFromSourceMappedId='EFO_0005230'), Row(diseaseFromSourceMappedId='EFO_0000512'), Row(diseaseFromSourceMappedId='EFO_0007328'), Row(diseaseFromSourceMappedId='MONDO_0005090'), Row(diseaseFromSourceMappedId='MONDO_0005090'), Row(diseaseFromSourceMappedId='EFO_0003761'), Row(diseaseFromSourceMappedId='EFO_1001801'), Row(diseaseFromSourceMappedId='MONDO_0005129'), Row(diseaseFromSourceMappedId='EFO_0007224'), Row(diseaseFromSourceMappedId='MONDO_0002050'), Row(diseaseFromSourceMappedId='MONDO_0002009'), Row(diseaseFromSourceMappedId='MONDO_0007254'), Row(diseaseFromSourceMappedId='EFO_0003843'), Row(diseaseFromSourceMappedId='MONDO_0004985'), Row(diseaseFromSourceMappedId='EFO_0004220'), Row(diseaseFromSourceMappedId='EFO_0007453'), Row(diseaseFromSourceMappedId='EFO_1000860'), Row(diseaseFromSourceMappedId='MONDO_0004975'), Row(diseaseFromSourceMappedId='MONDO_0004985'), Row(diseaseFromSourceMappedId='EFO_1001402'), Row(diseaseFromSourceMappedId='EFO_0003843'), Row(diseaseFromSourceMappedId='MONDO_0004992'), Row(diseaseFromSourceMappedId='EFO_0003843'), Row(diseaseFromSourceMappedId='EFO_0005611'), Row(diseaseFromSourceMappedId='EFO_0000326'), Row(diseaseFromSourceMappedId='EFO_0003843'), Row(diseaseFromSourceMappedId='EFO_0003843'), Row(diseaseFromSourceMappedId='MONDO_0005180'), Row(diseaseFromSourceMappedId='EFO_0004320'), Row(diseaseFromSourceMappedId='EFO_0004320'), Row(diseaseFromSourceMappedId='HP_0100806'), Row(diseaseFromSourceMappedId='HP_0100806'), Row(diseaseFromSourceMappedId='MONDO_0004975'), Row(diseaseFromSourceMappedId='EFO_1000864'), Row(diseaseFromSourceMappedId='HP_0030680'), Row(diseaseFromSourceMappedId='EFO_0003843'), Row(diseaseFromSourceMappedId='HP_0012076'), Row(diseaseFromSourceMappedId='EFO_0005762'), Row(diseaseFromSourceMappedId='EFO_0000544'), Row(diseaseFromSourceMappedId='EFO_0007328'), Row(diseaseFromSourceMappedId='MONDO_0002258'), Row(diseaseFromSourceMappedId='EFO_0004190'), Row(diseaseFromSourceMappedId='EFO_0003843'), Row(diseaseFromSourceMappedId='EFO_0003843'), Row(diseaseFromSourceMappedId='MONDO_0005180'), Row(diseaseFromSourceMappedId='EFO_0004242'), Row(diseaseFromSourceMappedId='EFO_0003843'), Row(diseaseFromSourceMappedId='MONDO_0007079'), Row(diseaseFromSourceMappedId='EFO_0003843'), Row(diseaseFromSourceMappedId='EFO_0000544'), Row(diseaseFromSourceMappedId='MONDO_0004975'), Row(diseaseFromSourceMappedId='EFO_0003843'), Row(diseaseFromSourceMappedId='MONDO_0004681'), Row(diseaseFromSourceMappedId='EFO_0003839'), Row(diseaseFromSourceMappedId='HP_0000360'), Row(diseaseFromSourceMappedId='MONDO_0005180'), Row(diseaseFromSourceMappedId='EFO_0003843'), Row(diseaseFromSourceMappedId='MONDO_0004985'), Row(diseaseFromSourceMappedId='MONDO_0005277'), Row(diseaseFromSourceMappedId='EFO_0000544'), Row(diseaseFromSourceMappedId='EFO_1001488'), Row(diseaseFromSourceMappedId='MONDO_0005180'), Row(diseaseFromSourceMappedId='EFO_0001358'), Row(diseaseFromSourceMappedId='MONDO_0002050'), Row(diseaseFromSourceMappedId='EFO_0003843'), Row(diseaseFromSourceMappedId='EFO_0000326'), Row(diseaseFromSourceMappedId='EFO_0000544'), Row(diseaseFromSourceMappedId='MONDO_0005180'), Row(diseaseFromSourceMappedId='MONDO_0004985'), Row(diseaseFromSourceMappedId='EFO_0000544'), Row(diseaseFromSourceMappedId='EFO_0003819'), Row(diseaseFromSourceMappedId='MONDO_0002009'), Row(diseaseFromSourceMappedId='MONDO_0002009'), Row(diseaseFromSourceMappedId='EFO_0005279'), Row(diseaseFromSourceMappedId='MONDO_0005180'), Row(diseaseFromSourceMappedId='MONDO_0002050'), Row(diseaseFromSourceMappedId='HP_0004372'), Row(diseaseFromSourceMappedId='MONDO_0004976'), Row(diseaseFromSourceMappedId='EFO_0003843'), Row(diseaseFromSourceMappedId='EFO_0003761'), Row(diseaseFromSourceMappedId='EFO_0009854'), Row(diseaseFromSourceMappedId='EFO_1001175'), Row(diseaseFromSourceMappedId='EFO_1001402'), Row(diseaseFromSourceMappedId='MONDO_0004975'), Row(diseaseFromSourceMappedId='EFO_0004242'), Row(diseaseFromSourceMappedId='MONDO_0005180'), Row(diseaseFromSourceMappedId='EFO_1001884'), Row(diseaseFromSourceMappedId='MONDO_0002050'), Row(diseaseFromSourceMappedId='MONDO_0002009'), Row(diseaseFromSourceMappedId='HP_0000360'), Row(diseaseFromSourceMappedId='EFO_0009267'), Row(diseaseFromSourceMappedId='EFO_0007328'), Row(diseaseFromSourceMappedId='MONDO_0002009'), Row(diseaseFromSourceMappedId='EFO_0007328'), Row(diseaseFromSourceMappedId='HP_0012076'), Row(diseaseFromSourceMappedId='EFO_0003843'), Row(diseaseFromSourceMappedId='EFO_0007328'), Row(diseaseFromSourceMappedId='EFO_0001358'), Row(diseaseFromSourceMappedId='MONDO_0005180'), Row(diseaseFromSourceMappedId='MONDO_0002050'), Row(diseaseFromSourceMappedId='MONDO_0001208'), Row(diseaseFromSourceMappedId='MONDO_0100096'), Row(diseaseFromSourceMappedId='EFO_0000546'), Row(diseaseFromSourceMappedId='EFO_0003756'), Row(diseaseFromSourceMappedId='EFO_0003843'), Row(diseaseFromSourceMappedId='EFO_0003843'), Row(diseaseFromSourceMappedId='MONDO_0002009'), Row(diseaseFromSourceMappedId='MONDO_0002050'), Row(diseaseFromSourceMappedId='MONDO_0005090'), Row(diseaseFromSourceMappedId='MONDO_0005301'), Row(diseaseFromSourceMappedId='MONDO_0100096'), Row(diseaseFromSourceMappedId='MONDO_0007079'), Row(diseaseFromSourceMappedId='HP_0000713'), Row(diseaseFromSourceMappedId='HP_0001082'), Row(diseaseFromSourceMappedId='EFO_0003888'), Row(diseaseFromSourceMappedId='MONDO_0004985'), Row(diseaseFromSourceMappedId='MONDO_0004975'), Row(diseaseFromSourceMappedId='EFO_0000474'), Row(diseaseFromSourceMappedId='MONDO_0005180'), Row(diseaseFromSourceMappedId='MONDO_0043510'), Row(diseaseFromSourceMappedId='MONDO_0007079'), Row(diseaseFromSourceMappedId='EFO_0000546'), Row(diseaseFromSourceMappedId='EFO_0003843'), Row(diseaseFromSourceMappedId='EFO_0004242'), Row(diseaseFromSourceMappedId='EFO_0000326'), Row(diseaseFromSourceMappedId='MONDO_0002050'), Row(diseaseFromSourceMappedId='EFO_0003843'), Row(diseaseFromSourceMappedId='HP_0100543'), Row(diseaseFromSourceMappedId='MONDO_0002046'), Row(diseaseFromSourceMappedId='HP_0012378'), Row(diseaseFromSourceMappedId='MONDO_0002050'), Row(diseaseFromSourceMappedId='EFO_0007328'), Row(diseaseFromSourceMappedId='EFO_0003843'), Row(diseaseFromSourceMappedId='EFO_0004320'), Row(diseaseFromSourceMappedId='MONDO_0004975'), Row(diseaseFromSourceMappedId='EFO_0003843'), Row(diseaseFromSourceMappedId='EFO_0003931'), Row(diseaseFromSourceMappedId='MONDO_0005180'), Row(diseaseFromSourceMappedId='MONDO_0005180'), Row(diseaseFromSourceMappedId='MONDO_0004975'), Row(diseaseFromSourceMappedId='EFO_0003843'), Row(diseaseFromSourceMappedId='MONDO_0005180'), Row(diseaseFromSourceMappedId='EFO_0000544'), Row(diseaseFromSourceMappedId='MONDO_0007254'), Row(diseaseFromSourceMappedId='EFO_0004190'), Row(diseaseFromSourceMappedId='MONDO_0005180'), Row(diseaseFromSourceMappedId='EFO_0003756'), Row(diseaseFromSourceMappedId='MONDO_0005090'), Row(diseaseFromSourceMappedId='HP_0012532'), Row(diseaseFromSourceMappedId='MONDO_0004975'), Row(diseaseFromSourceMappedId='HP_0001337'), Row(diseaseFromSourceMappedId='HP_0000360'), Row(diseaseFromSourceMappedId='EFO_0007328'), Row(diseaseFromSourceMappedId='MONDO_0005090'), Row(diseaseFromSourceMappedId='MONDO_0002046'), Row(diseaseFromSourceMappedId='MONDO_0002009'), Row(diseaseFromSourceMappedId='MONDO_0017276'), Row(diseaseFromSourceMappedId='EFO_1000637'), Row(diseaseFromSourceMappedId='EFO_0003758'), Row(diseaseFromSourceMappedId='EFO_0005762'), Row(diseaseFromSourceMappedId='MONDO_0010383'), Row(diseaseFromSourceMappedId='EFO_1001402'), Row(diseaseFromSourceMappedId='EFO_0003843'), Row(diseaseFromSourceMappedId='MONDO_0004975'), Row(diseaseFromSourceMappedId='EFO_0004321'), Row(diseaseFromSourceMappedId='EFO_0009492'), Row(diseaseFromSourceMappedId='MONDO_0005129'), Row(diseaseFromSourceMappedId='EFO_0003843'), Row(diseaseFromSourceMappedId='EFO_0003843'), Row(diseaseFromSourceMappedId='MONDO_0002258'), Row(diseaseFromSourceMappedId='EFO_0009686'), Row(diseaseFromSourceMappedId='EFO_0003843'), Row(diseaseFromSourceMappedId='MONDO_0002009'), Row(diseaseFromSourceMappedId='EFO_0009620'), Row(diseaseFromSourceMappedId='MONDO_0004975'), Row(diseaseFromSourceMappedId='EFO_0005854'), Row(diseaseFromSourceMappedId='EFO_0005611'), Row(diseaseFromSourceMappedId='MONDO_0002050'), Row(diseaseFromSourceMappedId='MONDO_0007739'), Row(diseaseFromSourceMappedId='EFO_0003758'), Row(diseaseFromSourceMappedId='MONDO_0005301'), Row(diseaseFromSourceMappedId='EFO_0009963'), Row(diseaseFromSourceMappedId='EFO_0003758'), Row(diseaseFromSourceMappedId='EFO_1001175'), Row(diseaseFromSourceMappedId='EFO_0007328'), Row(diseaseFromSourceMappedId='EFO_0003843'), Row(diseaseFromSourceMappedId='MONDO_0005277'), Row(diseaseFromSourceMappedId='MONDO_0002050'), Row(diseaseFromSourceMappedId='HP_0012532'), Row(diseaseFromSourceMappedId='EFO_0003768'), Row(diseaseFromSourceMappedId='EFO_0003843'), Row(diseaseFromSourceMappedId='HP_0000713'), Row(diseaseFromSourceMappedId='EFO_0003843'), Row(diseaseFromSourceMappedId='MONDO_0002009'), Row(diseaseFromSourceMappedId='HP_0000360'), Row(diseaseFromSourceMappedId='EFO_0003843'), Row(diseaseFromSourceMappedId='EFO_0000544'), Row(diseaseFromSourceMappedId='MONDO_0004975'), Row(diseaseFromSourceMappedId='MONDO_0005180'), Row(diseaseFromSourceMappedId='EFO_1001998'), Row(diseaseFromSourceMappedId='EFO_0003931'), Row(diseaseFromSourceMappedId='MONDO_0004975'), Row(diseaseFromSourceMappedId='MONDO_0004985'), Row(diseaseFromSourceMappedId='EFO_0000474'), Row(diseaseFromSourceMappedId='MONDO_0007079'), Row(diseaseFromSourceMappedId='EFO_0007328'), Row(diseaseFromSourceMappedId='EFO_0007430'), Row(diseaseFromSourceMappedId='MONDO_0002009'), Row(diseaseFromSourceMappedId='EFO_0005762'), Row(diseaseFromSourceMappedId='EFO_0005611'), Row(diseaseFromSourceMappedId='MONDO_0004975'), Row(diseaseFromSourceMappedId='EFO_0000474'), Row(diseaseFromSourceMappedId='EFO_0000474'), Row(diseaseFromSourceMappedId='MONDO_0007079'), Row(diseaseFromSourceMappedId='EFO_0007328'), Row(diseaseFromSourceMappedId='MONDO_0002050'), Row(diseaseFromSourceMappedId='EFO_0003843'), Row(diseaseFromSourceMappedId='EFO_0003843'), Row(diseaseFromSourceMappedId='MONDO_0005180'), Row(diseaseFromSourceMappedId='EFO_0000326'), Row(diseaseFromSourceMappedId='EFO_0003843'), Row(diseaseFromSourceMappedId='EFO_0003931'), Row(diseaseFromSourceMappedId='EFO_1000860'), Row(diseaseFromSourceMappedId='MONDO_0004985'), Row(diseaseFromSourceMappedId='HP_0004372'), Row(diseaseFromSourceMappedId='EFO_0000326'), Row(diseaseFromSourceMappedId='EFO_1001801'), Row(diseaseFromSourceMappedId='MONDO_0004975'), Row(diseaseFromSourceMappedId='MONDO_0004975'), Row(diseaseFromSourceMappedId='EFO_0003843'), Row(diseaseFromSourceMappedId='EFO_0004242'), Row(diseaseFromSourceMappedId='EFO_0801084'), Row(diseaseFromSourceMappedId='MONDO_0005180'), Row(diseaseFromSourceMappedId='EFO_0000544'), Row(diseaseFromSourceMappedId='EFO_0005611'), Row(diseaseFromSourceMappedId='EFO_0009552'), Row(diseaseFromSourceMappedId='MONDO_0005180'), Row(diseaseFromSourceMappedId='EFO_0004242'), Row(diseaseFromSourceMappedId='MONDO_0002009'), Row(diseaseFromSourceMappedId='MONDO_0002009'), Row(diseaseFromSourceMappedId='EFO_0009552'), Row(diseaseFromSourceMappedId='EFO_1001210'), Row(diseaseFromSourceMappedId='EFO_0003015'), Row(diseaseFromSourceMappedId='EFO_0002610'), Row(diseaseFromSourceMappedId='MONDO_0005301'), Row(diseaseFromSourceMappedId='EFO_0007328'), Row(diseaseFromSourceMappedId='EFO_1001402'), Row(diseaseFromSourceMappedId='MONDO_0002009'), Row(diseaseFromSourceMappedId='HP_0000713'), Row(diseaseFromSourceMappedId='MONDO_0002009'), Row(diseaseFromSourceMappedId='EFO_0005230'), Row(diseaseFromSourceMappedId='EFO_0009854'), Row(diseaseFromSourceMappedId='EFO_0003756'), Row(diseaseFromSourceMappedId='MONDO_0007079'), Row(diseaseFromSourceMappedId='EFO_0003843'), Row(diseaseFromSourceMappedId='MONDO_0002009'), Row(diseaseFromSourceMappedId='EFO_0000544'), Row(diseaseFromSourceMappedId='EFO_0009854'), Row(diseaseFromSourceMappedId='MONDO_0004985'), Row(diseaseFromSourceMappedId='MONDO_0002009'), Row(diseaseFromSourceMappedId='EFO_0000713'), Row(diseaseFromSourceMappedId='EFO_0000546'), Row(diseaseFromSourceMappedId='MONDO_0005301'), Row(diseaseFromSourceMappedId='EFO_0003757'), Row(diseaseFromSourceMappedId='EFO_0005854'), Row(diseaseFromSourceMappedId='EFO_0009963'), Row(diseaseFromSourceMappedId='HP_0003419'), Row(diseaseFromSourceMappedId='MONDO_0002050'), Row(diseaseFromSourceMappedId='EFO_0007430'), Row(diseaseFromSourceMappedId='MONDO_0005180'), Row(diseaseFromSourceMappedId='MONDO_0005180'), Row(diseaseFromSourceMappedId='EFO_0005611'), Row(diseaseFromSourceMappedId='HP_0000360'), Row(diseaseFromSourceMappedId='EFO_0000544'), Row(diseaseFromSourceMappedId='MONDO_0002050'), Row(diseaseFromSourceMappedId='EFO_0003957'), Row(diseaseFromSourceMappedId='MONDO_0005180'), Row(diseaseFromSourceMappedId='EFO_0001645'), Row(diseaseFromSourceMappedId='MONDO_0007079'), Row(diseaseFromSourceMappedId='MONDO_0002050'), Row(diseaseFromSourceMappedId='MONDO_0004975'), Row(diseaseFromSourceMappedId='EFO_0003839'), Row(diseaseFromSourceMappedId='MONDO_0002050'), Row(diseaseFromSourceMappedId='EFO_0007328'), Row(diseaseFromSourceMappedId='MONDO_0005180'), Row(diseaseFromSourceMappedId='EFO_0000544'), Row(diseaseFromSourceMappedId='EFO_1001175'), Row(diseaseFromSourceMappedId='EFO_0003843'), Row(diseaseFromSourceMappedId='MONDO_0002050'), Row(diseaseFromSourceMappedId='EFO_0001421'), Row(diseaseFromSourceMappedId='EFO_0001361'), Row(diseaseFromSourceMappedId='HP_0000989'), Row(diseaseFromSourceMappedId='HP_0030680'), Row(diseaseFromSourceMappedId='MONDO_0043510'), Row(diseaseFromSourceMappedId='MONDO_0005180'), Row(diseaseFromSourceMappedId='MONDO_0002050'), Row(diseaseFromSourceMappedId='EFO_0003843'), Row(diseaseFromSourceMappedId='EFO_0003096'), Row(diseaseFromSourceMappedId='EFO_0007328'), Row(diseaseFromSourceMappedId='MONDO_0007079'), Row(diseaseFromSourceMappedId='EFO_0005762'), Row(diseaseFromSourceMappedId='MONDO_0004985'), Row(diseaseFromSourceMappedId='EFO_0020000'), Row(diseaseFromSourceMappedId='EFO_0000713'), Row(diseaseFromSourceMappedId='EFO_0000519'), Row(diseaseFromSourceMappedId='EFO_0003843'), Row(diseaseFromSourceMappedId='EFO_0003768'), Row(diseaseFromSourceMappedId='MONDO_0004975'), Row(diseaseFromSourceMappedId='MONDO_0005180'), Row(diseaseFromSourceMappedId='EFO_0000544'), Row(diseaseFromSourceMappedId='MONDO_0005180'), Row(diseaseFromSourceMappedId='MONDO_0005090'), Row(diseaseFromSourceMappedId='MONDO_0005180'), Row(diseaseFromSourceMappedId='MONDO_0002009'), Row(diseaseFromSourceMappedId='EFO_0003843'), Row(diseaseFromSourceMappedId='MONDO_0000726'), Row(diseaseFromSourceMappedId='EFO_0003843'), Row(diseaseFromSourceMappedId='EFO_0007149'), Row(diseaseFromSourceMappedId='MONDO_0004992'), Row(diseaseFromSourceMappedId='MONDO_0005180'), Row(diseaseFromSourceMappedId='EFO_0003843'), Row(diseaseFromSourceMappedId='EFO_0003843'), Row(diseaseFromSourceMappedId='EFO_0005762'), Row(diseaseFromSourceMappedId='MONDO_0004975'), Row(diseaseFromSourceMappedId='EFO_0003843'), Row(diseaseFromSourceMappedId='MONDO_0002009'), Row(diseaseFromSourceMappedId='EFO_0007328'), Row(diseaseFromSourceMappedId='MONDO_0005301'), Row(diseaseFromSourceMappedId='MONDO_0002050'), Row(diseaseFromSourceMappedId='MONDO_0004681'), Row(diseaseFromSourceMappedId='MONDO_0002050'), Row(diseaseFromSourceMappedId='EFO_0005762'), Row(diseaseFromSourceMappedId='MONDO_0004976'), Row(diseaseFromSourceMappedId='MONDO_0004976'), Row(diseaseFromSourceMappedId='HP_0001250'), Row(diseaseFromSourceMappedId='MONDO_0002009'), Row(diseaseFromSourceMappedId='EFO_1000860'), Row(diseaseFromSourceMappedId='MONDO_0002050'), Row(diseaseFromSourceMappedId='MONDO_0005180'), Row(diseaseFromSourceMappedId='MONDO_0005180'), Row(diseaseFromSourceMappedId='MONDO_0002280'), Row(diseaseFromSourceMappedId='EFO_0006834'), Row(diseaseFromSourceMappedId='EFO_0007328'), Row(diseaseFromSourceMappedId='MONDO_0005180'), Row(diseaseFromSourceMappedId='EFO_0003843'), Row(diseaseFromSourceMappedId='EFO_0004699'), Row(diseaseFromSourceMappedId='EFO_1001488'), Row(diseaseFromSourceMappedId='MONDO_0002050'), Row(diseaseFromSourceMappedId='MONDO_0002009'), Row(diseaseFromSourceMappedId='EFO_0007328'), Row(diseaseFromSourceMappedId='HP_0000360'), Row(diseaseFromSourceMappedId='HP_0000713'), Row(diseaseFromSourceMappedId='MONDO_0004992'), Row(diseaseFromSourceMappedId='MONDO_0002009'), Row(diseaseFromSourceMappedId='MONDO_0005090'), Row(diseaseFromSourceMappedId='MONDO_0002358'), Row(diseaseFromSourceMappedId='EFO_0001361'), Row(diseaseFromSourceMappedId='EFO_0004220'), Row(diseaseFromSourceMappedId='EFO_0003757'), Row(diseaseFromSourceMappedId='MONDO_0002009'), Row(diseaseFromSourceMappedId='HP_0012532'), Row(diseaseFromSourceMappedId='MONDO_0005180'), Row(diseaseFromSourceMappedId='MONDO_0005180'), Row(diseaseFromSourceMappedId='EFO_0005411'), Row(diseaseFromSourceMappedId='EFO_0004242'), Row(diseaseFromSourceMappedId='MONDO_0004975'), Row(diseaseFromSourceMappedId='MONDO_0002009'), Row(diseaseFromSourceMappedId='MONDO_0002050'), Row(diseaseFromSourceMappedId='MONDO_0007079'), Row(diseaseFromSourceMappedId='MONDO_0005180'), Row(diseaseFromSourceMappedId='MONDO_0004975'), Row(diseaseFromSourceMappedId='MONDO_0002050'), Row(diseaseFromSourceMappedId='EFO_1001488'), Row(diseaseFromSourceMappedId='EFO_0011057'), Row(diseaseFromSourceMappedId='EFO_0007328'), Row(diseaseFromSourceMappedId='MONDO_0002009'), Row(diseaseFromSourceMappedId='MONDO_0010383'), Row(diseaseFromSourceMappedId='EFO_0007453'), Row(diseaseFromSourceMappedId='EFO_0000677'), Row(diseaseFromSourceMappedId='MONDO_0005180'), Row(diseaseFromSourceMappedId='EFO_0007328'), Row(diseaseFromSourceMappedId='MONDO_0002009'), Row(diseaseFromSourceMappedId='EFO_0003843'), Row(diseaseFromSourceMappedId='HP_0000360'), Row(diseaseFromSourceMappedId='EFO_0005232'), Row(diseaseFromSourceMappedId='EFO_0004320'), Row(diseaseFromSourceMappedId='EFO_0000544'), Row(diseaseFromSourceMappedId='HP_0000360'), Row(diseaseFromSourceMappedId='MONDO_0002009'), Row(diseaseFromSourceMappedId='EFO_0004220'), Row(diseaseFromSourceMappedId='MONDO_0007079'), Row(diseaseFromSourceMappedId='EFO_0000713'), Row(diseaseFromSourceMappedId='EFO_0003843'), Row(diseaseFromSourceMappedId='MONDO_0002050'), Row(diseaseFromSourceMappedId='MONDO_0011382'), Row(diseaseFromSourceMappedId='EFO_0005323'), Row(diseaseFromSourceMappedId='EFO_0007453'), Row(diseaseFromSourceMappedId='EFO_0003843'), Row(diseaseFromSourceMappedId='MONDO_0004985'), Row(diseaseFromSourceMappedId='MONDO_0002050'), Row(diseaseFromSourceMappedId='MONDO_0002009'), Row(diseaseFromSourceMappedId='EFO_0007328'), Row(diseaseFromSourceMappedId='EFO_0009620'), Row(diseaseFromSourceMappedId='EFO_0003843'), Row(diseaseFromSourceMappedId='EFO_0001358'), Row(diseaseFromSourceMappedId='EFO_0003756'), Row(diseaseFromSourceMappedId='HP_0012532'), Row(diseaseFromSourceMappedId='EFO_0003758'), Row(diseaseFromSourceMappedId='MONDO_0005090'), Row(diseaseFromSourceMappedId='MONDO_0011382'), Row(diseaseFromSourceMappedId='MONDO_0002009'), Row(diseaseFromSourceMappedId='EFO_0000544'), Row(diseaseFromSourceMappedId='EFO_0000544'), Row(diseaseFromSourceMappedId='EFO_0000544'), Row(diseaseFromSourceMappedId='HP_0100543'), Row(diseaseFromSourceMappedId='EFO_0003843'), Row(diseaseFromSourceMappedId='MONDO_0011382'), Row(diseaseFromSourceMappedId='MONDO_0005090'), Row(diseaseFromSourceMappedId='MONDO_0002050'), Row(diseaseFromSourceMappedId='MONDO_0005180'), Row(diseaseFromSourceMappedId='MONDO_0005180'), Row(diseaseFromSourceMappedId='EFO_0003843'), Row(diseaseFromSourceMappedId='EFO_0003761'), Row(diseaseFromSourceMappedId='EFO_0000544'), Row(diseaseFromSourceMappedId='MONDO_0002050'), Row(diseaseFromSourceMappedId='EFO_1001175'), Row(diseaseFromSourceMappedId='EFO_0007634'), Row(diseaseFromSourceMappedId='HP_0100543'), Row(diseaseFromSourceMappedId='MONDO_0004975'), Row(diseaseFromSourceMappedId='EFO_0005762'), Row(diseaseFromSourceMappedId='EFO_0003756'), Row(diseaseFromSourceMappedId='EFO_1000860'), Row(diseaseFromSourceMappedId='HP_0001337'), Row(diseaseFromSourceMappedId='EFO_0003843'), Row(diseaseFromSourceMappedId='EFO_0007328'), Row(diseaseFromSourceMappedId='EFO_0000712'), Row(diseaseFromSourceMappedId='MONDO_0002009'), Row(diseaseFromSourceMappedId='MONDO_0004992'), Row(diseaseFromSourceMappedId='EFO_0007328'), Row(diseaseFromSourceMappedId='HP_0003419'), Row(diseaseFromSourceMappedId='MONDO_0010383'), Row(diseaseFromSourceMappedId='EFO_0003843'), Row(diseaseFromSourceMappedId='MONDO_0002009'), Row(diseaseFromSourceMappedId='MONDO_0007079'), Row(diseaseFromSourceMappedId='MONDO_0002009'), Row(diseaseFromSourceMappedId='HP_0002140'), Row(diseaseFromSourceMappedId='MONDO_0002009'), Row(diseaseFromSourceMappedId='MONDO_0005180'), Row(diseaseFromSourceMappedId='EFO_0003843'), Row(diseaseFromSourceMappedId='MONDO_0002009'), Row(diseaseFromSourceMappedId='EFO_0001358'), Row(diseaseFromSourceMappedId='HP_0012532'), Row(diseaseFromSourceMappedId='EFO_0003833'), Row(diseaseFromSourceMappedId='EFO_0003758'), Row(diseaseFromSourceMappedId='EFO_0004220'), Row(diseaseFromSourceMappedId='EFO_0005230'), Row(diseaseFromSourceMappedId='EFO_0007328'), Row(diseaseFromSourceMappedId='MONDO_0005180'), Row(diseaseFromSourceMappedId='EFO_0000544'), Row(diseaseFromSourceMappedId='MONDO_0007079'), Row(diseaseFromSourceMappedId='EFO_0005611'), Row(diseaseFromSourceMappedId='EFO_1001884'), Row(diseaseFromSourceMappedId='EFO_0004777'), Row(diseaseFromSourceMappedId='MONDO_0002050'), Row(diseaseFromSourceMappedId='EFO_0000544'), Row(diseaseFromSourceMappedId='MONDO_0002050'), Row(diseaseFromSourceMappedId='EFO_0003843'), Row(diseaseFromSourceMappedId='EFO_0004242'), Row(diseaseFromSourceMappedId='EFO_0003843'), Row(diseaseFromSourceMappedId='EFO_1001917'), Row(diseaseFromSourceMappedId='EFO_0000546'), Row(diseaseFromSourceMappedId='EFO_0009267'), Row(diseaseFromSourceMappedId='EFO_0003756'), Row(diseaseFromSourceMappedId='EFO_0003843'), Row(diseaseFromSourceMappedId='MONDO_0004975'), Row(diseaseFromSourceMappedId='MONDO_0007254'), Row(diseaseFromSourceMappedId='MONDO_0004985'), Row(diseaseFromSourceMappedId='EFO_0003843'), Row(diseaseFromSourceMappedId='EFO_0003843'), Row(diseaseFromSourceMappedId='EFO_1000860'), Row(diseaseFromSourceMappedId='EFO_0007328'), Row(diseaseFromSourceMappedId='MONDO_0005277'), Row(diseaseFromSourceMappedId='MONDO_0005180'), Row(diseaseFromSourceMappedId='EFO_0003843'), Row(diseaseFromSourceMappedId='EFO_1000860'), Row(diseaseFromSourceMappedId='EFO_0007328'), Row(diseaseFromSourceMappedId='MONDO_0002050'), Row(diseaseFromSourceMappedId='MONDO_0002009'), Row(diseaseFromSourceMappedId='MONDO_0002009'), Row(diseaseFromSourceMappedId='MONDO_0004985'), Row(diseaseFromSourceMappedId='HP_0002315'), Row(diseaseFromSourceMappedId='MONDO_0004985'), Row(diseaseFromSourceMappedId='EFO_0004320'), Row(diseaseFromSourceMappedId='EFO_0004888'), Row(diseaseFromSourceMappedId='EFO_0005762'), Row(diseaseFromSourceMappedId='MONDO_0002009'), Row(diseaseFromSourceMappedId='MONDO_0010383'), Row(diseaseFromSourceMappedId='EFO_0003890'), Row(diseaseFromSourceMappedId='MONDO_0007739'), Row(diseaseFromSourceMappedId='MONDO_0005180'), Row(diseaseFromSourceMappedId='EFO_0005279'), Row(diseaseFromSourceMappedId='MONDO_0005301'), Row(diseaseFromSourceMappedId='EFO_0003843'), Row(diseaseFromSourceMappedId='MONDO_0005180'), Row(diseaseFromSourceMappedId='EFO_0005223'), Row(diseaseFromSourceMappedId='EFO_1001175'), Row(diseaseFromSourceMappedId='EFO_0003843'), Row(diseaseFromSourceMappedId='MONDO_0004975'), Row(diseaseFromSourceMappedId='MONDO_0005180'), Row(diseaseFromSourceMappedId='MONDO_0004975'), Row(diseaseFromSourceMappedId='EFO_0003761'), Row(diseaseFromSourceMappedId='EFO_0003843'), Row(diseaseFromSourceMappedId='EFO_0007328'), Row(diseaseFromSourceMappedId='MONDO_0007079'), Row(diseaseFromSourceMappedId='MONDO_0007079'), Row(diseaseFromSourceMappedId='MONDO_0007079'), Row(diseaseFromSourceMappedId='EFO_0004190'), Row(diseaseFromSourceMappedId='EFO_0001358'), Row(diseaseFromSourceMappedId='MONDO_0002050'), Row(diseaseFromSourceMappedId='MONDO_0043510'), Row(diseaseFromSourceMappedId='MONDO_0002046'), Row(diseaseFromSourceMappedId='EFO_0007328'), Row(diseaseFromSourceMappedId='MONDO_0002050'), Row(diseaseFromSourceMappedId='EFO_0009854'), Row(diseaseFromSourceMappedId='MONDO_0005180'), Row(diseaseFromSourceMappedId='MONDO_0005180'), Row(diseaseFromSourceMappedId='EFO_0003931'), Row(diseaseFromSourceMappedId='EFO_0000546'), Row(diseaseFromSourceMappedId='EFO_0003843'), Row(diseaseFromSourceMappedId='HP_0012532'), Row(diseaseFromSourceMappedId='MONDO_0004975'), Row(diseaseFromSourceMappedId='EFO_0003843'), Row(diseaseFromSourceMappedId='MONDO_0007079'), Row(diseaseFromSourceMappedId='MONDO_0002050'), Row(diseaseFromSourceMappedId='EFO_0004242'), Row(diseaseFromSourceMappedId='EFO_0003843'), Row(diseaseFromSourceMappedId='EFO_0008590'), Row(diseaseFromSourceMappedId='EFO_0000544'), Row(diseaseFromSourceMappedId='EFO_1001892'), Row(diseaseFromSourceMappedId='EFO_1000391'), Row(diseaseFromSourceMappedId='MONDO_0002009'), Row(diseaseFromSourceMappedId='EFO_0009620'), Row(diseaseFromSourceMappedId='EFO_0003843'), Row(diseaseFromSourceMappedId='EFO_0003888'), Row(diseaseFromSourceMappedId='MONDO_0007079'), Row(diseaseFromSourceMappedId='EFO_0009552'), Row(diseaseFromSourceMappedId='EFO_0003843'), Row(diseaseFromSourceMappedId='EFO_0007328'), Row(diseaseFromSourceMappedId='EFO_0003761'), Row(diseaseFromSourceMappedId='EFO_0004240'), Row(diseaseFromSourceMappedId='MONDO_0007079'), Row(diseaseFromSourceMappedId='EFO_0003843'), Row(diseaseFromSourceMappedId='EFO_0007328'), Row(diseaseFromSourceMappedId='EFO_0003843'), Row(diseaseFromSourceMappedId='MONDO_0005090'), Row(diseaseFromSourceMappedId='MONDO_0007079'), Row(diseaseFromSourceMappedId='EFO_0004888'), Row(diseaseFromSourceMappedId='MONDO_0007079'), Row(diseaseFromSourceMappedId='MONDO_0005180'), Row(diseaseFromSourceMappedId='MONDO_0005180'), Row(diseaseFromSourceMappedId='MONDO_0004975'), Row(diseaseFromSourceMappedId='HP_0012532'), Row(diseaseFromSourceMappedId='MONDO_0002009'), Row(diseaseFromSourceMappedId='EFO_0005323'), Row(diseaseFromSourceMappedId='MONDO_0007739'), Row(diseaseFromSourceMappedId='EFO_0003756'), Row(diseaseFromSourceMappedId='MONDO_0005180'), Row(diseaseFromSourceMappedId='EFO_0003843'), Row(diseaseFromSourceMappedId='EFO_0003843'), Row(diseaseFromSourceMappedId='EFO_0004321'), Row(diseaseFromSourceMappedId='MONDO_0005090'), Row(diseaseFromSourceMappedId='MONDO_0004975'), Row(diseaseFromSourceMappedId='EFO_0003843'), Row(diseaseFromSourceMappedId='EFO_0009854'), Row(diseaseFromSourceMappedId='MONDO_0007254'), Row(diseaseFromSourceMappedId='EFO_0001358'), Row(diseaseFromSourceMappedId='HP_0000360'), Row(diseaseFromSourceMappedId='EFO_0007328'), Row(diseaseFromSourceMappedId='MONDO_0002009'), Row(diseaseFromSourceMappedId='MONDO_0002050'), Row(diseaseFromSourceMappedId='EFO_0003843'), Row(diseaseFromSourceMappedId='MONDO_0002038'), Row(diseaseFromSourceMappedId='EFO_1001998'), Row(diseaseFromSourceMappedId='EFO_1001175'), Row(diseaseFromSourceMappedId='EFO_0011057'), Row(diseaseFromSourceMappedId='MONDO_0005180'), Row(diseaseFromSourceMappedId='MONDO_0002050'), Row(diseaseFromSourceMappedId='MONDO_0011382'), Row(diseaseFromSourceMappedId='MONDO_0004975'), Row(diseaseFromSourceMappedId='EFO_0007634'), Row(diseaseFromSourceMappedId='EFO_0004320'), Row(diseaseFromSourceMappedId='MONDO_0000870'), Row(diseaseFromSourceMappedId='MONDO_0002009'), Row(diseaseFromSourceMappedId='MONDO_0002050'), Row(diseaseFromSourceMappedId='MONDO_0007254'), Row(diseaseFromSourceMappedId='EFO_0003843'), Row(diseaseFromSourceMappedId='EFO_0007328'), Row(diseaseFromSourceMappedId='MP_0001845'), Row(diseaseFromSourceMappedId='MONDO_0002280'), Row(diseaseFromSourceMappedId='EFO_0003843'), Row(diseaseFromSourceMappedId='EFO_0003843'), Row(diseaseFromSourceMappedId='EFO_0007328'), Row(diseaseFromSourceMappedId='MONDO_0005180'), Row(diseaseFromSourceMappedId='MONDO_0004975'), Row(diseaseFromSourceMappedId='MONDO_0002009'), Row(diseaseFromSourceMappedId='MONDO_0007079'), Row(diseaseFromSourceMappedId='EFO_0003931'), Row(diseaseFromSourceMappedId='EFO_0001645'), Row(diseaseFromSourceMappedId='MONDO_0100096'), Row(diseaseFromSourceMappedId='MONDO_0002009'), Row(diseaseFromSourceMappedId='EFO_0003843'), Row(diseaseFromSourceMappedId='MONDO_0004975'), Row(diseaseFromSourceMappedId='EFO_0020000'), Row(diseaseFromSourceMappedId='EFO_0007328'), Row(diseaseFromSourceMappedId='MONDO_0004975'), Row(diseaseFromSourceMappedId='EFO_0801084'), Row(diseaseFromSourceMappedId='HP_0000360'), Row(diseaseFromSourceMappedId='EFO_1001175'), Row(diseaseFromSourceMappedId='EFO_0007328'), Row(diseaseFromSourceMappedId='MONDO_0002009'), Row(diseaseFromSourceMappedId='EFO_1001175'), Row(diseaseFromSourceMappedId='EFO_0004242'), Row(diseaseFromSourceMappedId='EFO_0007328'), Row(diseaseFromSourceMappedId='EFO_0003843'), Row(diseaseFromSourceMappedId='MONDO_0002358'), Row(diseaseFromSourceMappedId='EFO_0007328'), Row(diseaseFromSourceMappedId='EFO_0003843'), Row(diseaseFromSourceMappedId='EFO_0007328'), Row(diseaseFromSourceMappedId='MONDO_0002009'), Row(diseaseFromSourceMappedId='EFO_1001175'), Row(diseaseFromSourceMappedId='EFO_1001175'), Row(diseaseFromSourceMappedId='EFO_1001998'), Row(diseaseFromSourceMappedId='MONDO_0002009'), Row(diseaseFromSourceMappedId='EFO_0005323'), Row(diseaseFromSourceMappedId='EFO_1000860'), Row(diseaseFromSourceMappedId='EFO_0007328'), Row(diseaseFromSourceMappedId='EFO_0005203'), Row(diseaseFromSourceMappedId='EFO_0009552'), Row(diseaseFromSourceMappedId='EFO_0003843'), Row(diseaseFromSourceMappedId='EFO_0001358'), Row(diseaseFromSourceMappedId='MONDO_0005180'), Row(diseaseFromSourceMappedId='MONDO_0004975'), Row(diseaseFromSourceMappedId='EFO_0007328'), Row(diseaseFromSourceMappedId='EFO_1001917'), Row(diseaseFromSourceMappedId='EFO_0000544'), Row(diseaseFromSourceMappedId='MONDO_0004975'), Row(diseaseFromSourceMappedId='EFO_1001488'), Row(diseaseFromSourceMappedId='MONDO_0007079'), Row(diseaseFromSourceMappedId='EFO_0003843'), Row(diseaseFromSourceMappedId='MONDO_0043510'), Row(diseaseFromSourceMappedId='MONDO_0100096'), Row(diseaseFromSourceMappedId='EFO_0003843'), Row(diseaseFromSourceMappedId='MONDO_0002050'), Row(diseaseFromSourceMappedId='MONDO_0007079'), Row(diseaseFromSourceMappedId='EFO_0007328'), Row(diseaseFromSourceMappedId='EFO_0003843'), Row(diseaseFromSourceMappedId='MONDO_0005180'), Row(diseaseFromSourceMappedId='MONDO_0005180'), Row(diseaseFromSourceMappedId='EFO_0003768'), Row(diseaseFromSourceMappedId='MONDO_0005180'), Row(diseaseFromSourceMappedId='MONDO_0002009'), Row(diseaseFromSourceMappedId='EFO_1001175'), Row(diseaseFromSourceMappedId='EFO_0003843'), Row(diseaseFromSourceMappedId='EFO_0002610'), Row(diseaseFromSourceMappedId='EFO_0000712'), Row(diseaseFromSourceMappedId='EFO_1001488'), Row(diseaseFromSourceMappedId='MONDO_0004975'), Row(diseaseFromSourceMappedId='EFO_0003843'), Row(diseaseFromSourceMappedId='EFO_0007328'), Row(diseaseFromSourceMappedId='MONDO_0005090'), Row(diseaseFromSourceMappedId='EFO_0003843'), Row(diseaseFromSourceMappedId='EFO_0003843'), Row(diseaseFromSourceMappedId='EFO_1001175'), Row(diseaseFromSourceMappedId='EFO_0007634'), Row(diseaseFromSourceMappedId='EFO_0000544'), Row(diseaseFromSourceMappedId='EFO_0003843'), Row(diseaseFromSourceMappedId='EFO_0003931'), Row(diseaseFromSourceMappedId='EFO_0000544'), Row(diseaseFromSourceMappedId='MONDO_0004985'), Row(diseaseFromSourceMappedId='MONDO_0002050'), Row(diseaseFromSourceMappedId='EFO_0003843'), Row(diseaseFromSourceMappedId='EFO_0003777'), Row(diseaseFromSourceMappedId='MONDO_0002050'), Row(diseaseFromSourceMappedId='EFO_0003768'), Row(diseaseFromSourceMappedId='EFO_0003768'), Row(diseaseFromSourceMappedId='MONDO_0005180'), Row(diseaseFromSourceMappedId='MONDO_0002009'), Row(diseaseFromSourceMappedId='EFO_0003777'), Row(diseaseFromSourceMappedId='EFO_0009552'), Row(diseaseFromSourceMappedId='EFO_0007328'), Row(diseaseFromSourceMappedId='EFO_0003756'), Row(diseaseFromSourceMappedId='MONDO_0005180'), Row(diseaseFromSourceMappedId='MONDO_0002050'), Row(diseaseFromSourceMappedId='EFO_0003768'), Row(diseaseFromSourceMappedId='EFO_1001898'), Row(diseaseFromSourceMappedId='EFO_0003843'), Row(diseaseFromSourceMappedId='EFO_0003931'), Row(diseaseFromSourceMappedId='EFO_0005854'), Row(diseaseFromSourceMappedId='MONDO_0005180'), Row(diseaseFromSourceMappedId='EFO_0003843'), Row(diseaseFromSourceMappedId='MONDO_0002050'), Row(diseaseFromSourceMappedId='EFO_0007453'), Row(diseaseFromSourceMappedId='MONDO_0004975'), Row(diseaseFromSourceMappedId='EFO_0003758'), Row(diseaseFromSourceMappedId='MONDO_0008903'), Row(diseaseFromSourceMappedId='EFO_0003047'), Row(diseaseFromSourceMappedId='EFO_0007328'), Row(diseaseFromSourceMappedId='EFO_0005323'), Row(diseaseFromSourceMappedId='EFO_0003843'), Row(diseaseFromSourceMappedId='EFO_0003843'), Row(diseaseFromSourceMappedId='MONDO_0002050'), Row(diseaseFromSourceMappedId='EFO_0004190'), Row(diseaseFromSourceMappedId='EFO_0005762'), Row(diseaseFromSourceMappedId='EFO_0003761'), Row(diseaseFromSourceMappedId='EFO_0003768'), Row(diseaseFromSourceMappedId='EFO_0003843'), Row(diseaseFromSourceMappedId='EFO_0801084'), Row(diseaseFromSourceMappedId='MONDO_0004975'), Row(diseaseFromSourceMappedId='HP_0000360'), Row(diseaseFromSourceMappedId='EFO_0007328'), Row(diseaseFromSourceMappedId='MONDO_0005090'), Row(diseaseFromSourceMappedId='EFO_0000544'), Row(diseaseFromSourceMappedId='MONDO_0005180'), Row(diseaseFromSourceMappedId='EFO_0009854'), Row(diseaseFromSourceMappedId='EFO_0000544'), Row(diseaseFromSourceMappedId='MONDO_0002050'), Row(diseaseFromSourceMappedId='EFO_0003843'), Row(diseaseFromSourceMappedId='MONDO_0005180'), Row(diseaseFromSourceMappedId='MONDO_0002050'), Row(diseaseFromSourceMappedId='EFO_0007328'), Row(diseaseFromSourceMappedId='EFO_0003839'), Row(diseaseFromSourceMappedId='MONDO_0005129'), Row(diseaseFromSourceMappedId='EFO_0000544'), Row(diseaseFromSourceMappedId='EFO_0004247'), Row(diseaseFromSourceMappedId='MONDO_0007254'), Row(diseaseFromSourceMappedId='EFO_0000544'), Row(diseaseFromSourceMappedId='MONDO_0005180'), Row(diseaseFromSourceMappedId='MONDO_0004985'), Row(diseaseFromSourceMappedId='EFO_0004699'), Row(diseaseFromSourceMappedId='EFO_0004320'), Row(diseaseFromSourceMappedId='MONDO_0007915'), Row(diseaseFromSourceMappedId='MONDO_0002050'), Row(diseaseFromSourceMappedId='MONDO_0043510'), Row(diseaseFromSourceMappedId='EFO_0007328'), Row(diseaseFromSourceMappedId='EFO_0003843'), Row(diseaseFromSourceMappedId='MONDO_0041052'), Row(diseaseFromSourceMappedId='EFO_0000546'), Row(diseaseFromSourceMappedId='EFO_0000544'), Row(diseaseFromSourceMappedId='EFO_0000544'), Row(diseaseFromSourceMappedId='EFO_0002610'), Row(diseaseFromSourceMappedId='EFO_0000544'), Row(diseaseFromSourceMappedId='MONDO_0002050'), Row(diseaseFromSourceMappedId='HP_0000360'), Row(diseaseFromSourceMappedId='MONDO_0002009'), Row(diseaseFromSourceMappedId='EFO_0007328'), Row(diseaseFromSourceMappedId='MONDO_0005180'), Row(diseaseFromSourceMappedId='MONDO_0007079'), Row(diseaseFromSourceMappedId='EFO_0009267'), Row(diseaseFromSourceMappedId='MONDO_0007079'), Row(diseaseFromSourceMappedId='MONDO_0002009'), Row(diseaseFromSourceMappedId='EFO_0009513'), Row(diseaseFromSourceMappedId='HP_0002381'), Row(diseaseFromSourceMappedId='EFO_1001402'), Row(diseaseFromSourceMappedId='EFO_0003843'), Row(diseaseFromSourceMappedId='EFO_0003843'), Row(diseaseFromSourceMappedId='HP_0012532'), Row(diseaseFromSourceMappedId='EFO_0001361'), Row(diseaseFromSourceMappedId='MONDO_0002050'), Row(diseaseFromSourceMappedId='HP_0000713'), Row(diseaseFromSourceMappedId='MONDO_0002009'), Row(diseaseFromSourceMappedId='EFO_1001998'), Row(diseaseFromSourceMappedId='EFO_1000860'), Row(diseaseFromSourceMappedId='MONDO_0002050'), Row(diseaseFromSourceMappedId='MONDO_0004975'), Row(diseaseFromSourceMappedId='EFO_0003843'), Row(diseaseFromSourceMappedId='EFO_0007328'), Row(diseaseFromSourceMappedId='EFO_0004699'), Row(diseaseFromSourceMappedId='HP_0000360'), Row(diseaseFromSourceMappedId='MONDO_0004975'), Row(diseaseFromSourceMappedId='EFO_1000860'), Row(diseaseFromSourceMappedId='MONDO_0007079'), Row(diseaseFromSourceMappedId='EFO_0007623'), Row(diseaseFromSourceMappedId='EFO_0003756'), Row(diseaseFromSourceMappedId='EFO_0007328'), Row(diseaseFromSourceMappedId='EFO_0003843'), Row(diseaseFromSourceMappedId='EFO_0000544'), Row(diseaseFromSourceMappedId='EFO_0003888'), Row(diseaseFromSourceMappedId='MONDO_0011382'), Row(diseaseFromSourceMappedId='EFO_1001402'), Row(diseaseFromSourceMappedId='HP_0000360'), Row(diseaseFromSourceMappedId='MONDO_0004975'), Row(diseaseFromSourceMappedId='EFO_0007453'), Row(diseaseFromSourceMappedId='HP_0002140'), Row(diseaseFromSourceMappedId='MONDO_0007079'), Row(diseaseFromSourceMappedId='MONDO_0002050'), Row(diseaseFromSourceMappedId='HP_0001250'), Row(diseaseFromSourceMappedId='HP_0000360'), Row(diseaseFromSourceMappedId='MONDO_0005180'), Row(diseaseFromSourceMappedId='MONDO_0017276'), Row(diseaseFromSourceMappedId='EFO_1001402'), Row(diseaseFromSourceMappedId='MONDO_0002050'), Row(diseaseFromSourceMappedId='MONDO_0002050'), Row(diseaseFromSourceMappedId='EFO_0007328'), Row(diseaseFromSourceMappedId='EFO_0003108'), Row(diseaseFromSourceMappedId='MONDO_0002050'), Row(diseaseFromSourceMappedId='MONDO_0002009'), Row(diseaseFromSourceMappedId='MONDO_0005180'), Row(diseaseFromSourceMappedId='EFO_0005411'), Row(diseaseFromSourceMappedId='MONDO_0004975'), Row(diseaseFromSourceMappedId='EFO_1001175'), Row(diseaseFromSourceMappedId='MONDO_0005301'), Row(diseaseFromSourceMappedId='MONDO_0004992'), Row(diseaseFromSourceMappedId='EFO_0006834'), Row(diseaseFromSourceMappedId='EFO_0007328'), Row(diseaseFromSourceMappedId='MONDO_0005180'), Row(diseaseFromSourceMappedId='EFO_0008526'), Row(diseaseFromSourceMappedId='EFO_0003843'), Row(diseaseFromSourceMappedId='EFO_0000677'), Row(diseaseFromSourceMappedId='EFO_0007328'), Row(diseaseFromSourceMappedId='EFO_0009516'), Row(diseaseFromSourceMappedId='MONDO_0004975'), Row(diseaseFromSourceMappedId='EFO_0009854'), Row(diseaseFromSourceMappedId='MONDO_0005090'), Row(diseaseFromSourceMappedId='EFO_0003768'), Row(diseaseFromSourceMappedId='MONDO_0005180'), Row(diseaseFromSourceMappedId='EFO_0000544'), Row(diseaseFromSourceMappedId='MONDO_0005301'), Row(diseaseFromSourceMappedId='EFO_0003843'), Row(diseaseFromSourceMappedId='MONDO_0004985'), Row(diseaseFromSourceMappedId='EFO_0000544'), Row(diseaseFromSourceMappedId='EFO_0005411'), Row(diseaseFromSourceMappedId='MONDO_0002009'), Row(diseaseFromSourceMappedId='EFO_0003843'), Row(diseaseFromSourceMappedId='EFO_0000713'), Row(diseaseFromSourceMappedId='EFO_0007328'), Row(diseaseFromSourceMappedId='MONDO_0007079'), Row(diseaseFromSourceMappedId='EFO_0003756'), Row(diseaseFromSourceMappedId='MONDO_0005180'), Row(diseaseFromSourceMappedId='EFO_0005611'), Row(diseaseFromSourceMappedId='EFO_0000544'), Row(diseaseFromSourceMappedId='EFO_0003843'), Row(diseaseFromSourceMappedId='EFO_0001361'), Row(diseaseFromSourceMappedId='HP_0000360'), Row(diseaseFromSourceMappedId='EFO_0007453'), Row(diseaseFromSourceMappedId='EFO_0003758'), Row(diseaseFromSourceMappedId='MONDO_0004976'), Row(diseaseFromSourceMappedId='EFO_0007453'), Row(diseaseFromSourceMappedId='MONDO_0002009'), Row(diseaseFromSourceMappedId='EFO_0008526'), Row(diseaseFromSourceMappedId='EFO_0003843'), Row(diseaseFromSourceMappedId='EFO_0007328'), Row(diseaseFromSourceMappedId='MONDO_0002679'), Row(diseaseFromSourceMappedId='EFO_0007634'), Row(diseaseFromSourceMappedId='EFO_0003843'), Row(diseaseFromSourceMappedId='EFO_0003819'), Row(diseaseFromSourceMappedId='MONDO_0004975'), Row(diseaseFromSourceMappedId='MONDO_0007079'), Row(diseaseFromSourceMappedId='EFO_0000544'), Row(diseaseFromSourceMappedId='MONDO_0002358'), Row(diseaseFromSourceMappedId='EFO_0000544'), Row(diseaseFromSourceMappedId='EFO_0003843'), Row(diseaseFromSourceMappedId='MONDO_0005180'), Row(diseaseFromSourceMappedId='HP_0012378'), Row(diseaseFromSourceMappedId='EFO_0009620'), Row(diseaseFromSourceMappedId='EFO_0003843'), Row(diseaseFromSourceMappedId='MONDO_0002050'), Row(diseaseFromSourceMappedId='HP_0000713'), Row(diseaseFromSourceMappedId='MONDO_0000870'), Row(diseaseFromSourceMappedId='MONDO_0024880'), Row(diseaseFromSourceMappedId='EFO_0004242'), Row(diseaseFromSourceMappedId='MONDO_0004992'), Row(diseaseFromSourceMappedId='EFO_0009513'), Row(diseaseFromSourceMappedId='EFO_0004777'), Row(diseaseFromSourceMappedId='MONDO_0007079'), Row(diseaseFromSourceMappedId='EFO_0005323'), Row(diseaseFromSourceMappedId='MONDO_0005090'), Row(diseaseFromSourceMappedId='EFO_0003843'), Row(diseaseFromSourceMappedId='EFO_0003843'), Row(diseaseFromSourceMappedId='MONDO_0005180'), Row(diseaseFromSourceMappedId='MONDO_0002050'), Row(diseaseFromSourceMappedId='EFO_0003931'), Row(diseaseFromSourceMappedId='MONDO_0007079'), Row(diseaseFromSourceMappedId='EFO_0007328'), Row(diseaseFromSourceMappedId='MONDO_0004992'), Row(diseaseFromSourceMappedId='EFO_0003843'), Row(diseaseFromSourceMappedId='EFO_0801084'), Row(diseaseFromSourceMappedId='MONDO_0004985'), Row(diseaseFromSourceMappedId='EFO_0000544'), Row(diseaseFromSourceMappedId='EFO_0007224'), Row(diseaseFromSourceMappedId='EFO_0000544'), Row(diseaseFromSourceMappedId='EFO_0000544'), Row(diseaseFromSourceMappedId='EFO_0005762'), Row(diseaseFromSourceMappedId='MONDO_0004975'), Row(diseaseFromSourceMappedId='EFO_0000544'), Row(diseaseFromSourceMappedId='HP_0000360'), Row(diseaseFromSourceMappedId='EFO_1001402'), Row(diseaseFromSourceMappedId='EFO_0005762'), Row(diseaseFromSourceMappedId='HP_0100543'), Row(diseaseFromSourceMappedId='MONDO_0007079'), Row(diseaseFromSourceMappedId='EFO_0004320'), Row(diseaseFromSourceMappedId='EFO_0001358'), Row(diseaseFromSourceMappedId='EFO_0000544'), Row(diseaseFromSourceMappedId='MONDO_0007079'), Row(diseaseFromSourceMappedId='HP_0025428'), Row(diseaseFromSourceMappedId='MONDO_0002009'), Row(diseaseFromSourceMappedId='MONDO_0002009'), Row(diseaseFromSourceMappedId='HP_0100543'), Row(diseaseFromSourceMappedId='HP_0012532'), Row(diseaseFromSourceMappedId='HP_0000360'), Row(diseaseFromSourceMappedId='MONDO_0004985'), Row(diseaseFromSourceMappedId='EFO_0003758'), Row(diseaseFromSourceMappedId='EFO_0003843'), Row(diseaseFromSourceMappedId='MONDO_0007079'), Row(diseaseFromSourceMappedId='HP_0000360'), Row(diseaseFromSourceMappedId='MONDO_0005090'), Row(diseaseFromSourceMappedId='MONDO_0002009'), Row(diseaseFromSourceMappedId='MONDO_0005090'), Row(diseaseFromSourceMappedId='EFO_0003843'), Row(diseaseFromSourceMappedId='EFO_0003843'), Row(diseaseFromSourceMappedId='EFO_0005411'), Row(diseaseFromSourceMappedId='EFO_0011057'), Row(diseaseFromSourceMappedId='EFO_0004247'), Row(diseaseFromSourceMappedId='MONDO_0007739'), Row(diseaseFromSourceMappedId='EFO_0007328'), Row(diseaseFromSourceMappedId='EFO_0007328'), Row(diseaseFromSourceMappedId='HP_0000486'), Row(diseaseFromSourceMappedId='EFO_0004699'), Row(diseaseFromSourceMappedId='EFO_1001402'), Row(diseaseFromSourceMappedId='MONDO_0002046'), Row(diseaseFromSourceMappedId='EFO_0007328'), Row(diseaseFromSourceMappedId='EFO_0007328'), Row(diseaseFromSourceMappedId='EFO_0003843'), Row(diseaseFromSourceMappedId='EFO_0000544'), Row(diseaseFromSourceMappedId='MONDO_0002050'), Row(diseaseFromSourceMappedId='MONDO_0007079'), Row(diseaseFromSourceMappedId='EFO_0005611'), Row(diseaseFromSourceMappedId='MONDO_0007079'), Row(diseaseFromSourceMappedId='MONDO_0005090'), Row(diseaseFromSourceMappedId='EFO_0003843'), Row(diseaseFromSourceMappedId='HP_0000360'), Row(diseaseFromSourceMappedId='MONDO_0005129'), Row(diseaseFromSourceMappedId='EFO_0000544'), Row(diseaseFromSourceMappedId='MONDO_0002009'), Row(diseaseFromSourceMappedId='EFO_1001219'), Row(diseaseFromSourceMappedId='MONDO_0005180'), Row(diseaseFromSourceMappedId='EFO_0003843'), Row(diseaseFromSourceMappedId='MONDO_0004985'), Row(diseaseFromSourceMappedId='MONDO_0005090'), Row(diseaseFromSourceMappedId='HP_0000360'), Row(diseaseFromSourceMappedId='EFO_0007453'), Row(diseaseFromSourceMappedId='MONDO_0005301'), Row(diseaseFromSourceMappedId='EFO_0005762'), Row(diseaseFromSourceMappedId='EFO_0007191'), Row(diseaseFromSourceMappedId='MONDO_0002050'), Row(diseaseFromSourceMappedId='EFO_0007328'), Row(diseaseFromSourceMappedId='EFO_0000544'), Row(diseaseFromSourceMappedId='MONDO_0005129'), Row(diseaseFromSourceMappedId='EFO_0008590'), Row(diseaseFromSourceMappedId='MONDO_0010726'), Row(diseaseFromSourceMappedId='MONDO_0005090'), Row(diseaseFromSourceMappedId='EFO_0000544'), Row(diseaseFromSourceMappedId='EFO_0001358'), Row(diseaseFromSourceMappedId='HP_0003419'), Row(diseaseFromSourceMappedId='EFO_0000544'), Row(diseaseFromSourceMappedId='EFO_1001402'), Row(diseaseFromSourceMappedId='MONDO_0002050'), Row(diseaseFromSourceMappedId='EFO_0003843'), Row(diseaseFromSourceMappedId='EFO_1001402'), Row(diseaseFromSourceMappedId='EFO_0003843'), Row(diseaseFromSourceMappedId='EFO_0005762'), Row(diseaseFromSourceMappedId='HP_0002140'), Row(diseaseFromSourceMappedId='EFO_0003096'), Row(diseaseFromSourceMappedId='MONDO_0002050'), Row(diseaseFromSourceMappedId='MONDO_0005180'), Row(diseaseFromSourceMappedId='EFO_0003843'), Row(diseaseFromSourceMappedId='EFO_1001884'), Row(diseaseFromSourceMappedId='MONDO_0004976'), Row(diseaseFromSourceMappedId='EFO_0001064'), Row(diseaseFromSourceMappedId='MONDO_0002050'), Row(diseaseFromSourceMappedId='EFO_1001175'), Row(diseaseFromSourceMappedId='MONDO_0002050'), Row(diseaseFromSourceMappedId='EFO_1001402'), Row(diseaseFromSourceMappedId='EFO_1001892'), Row(diseaseFromSourceMappedId='MONDO_0002050'), Row(diseaseFromSourceMappedId='EFO_0007328'), Row(diseaseFromSourceMappedId='MONDO_0007079'), Row(diseaseFromSourceMappedId='EFO_1001175'), Row(diseaseFromSourceMappedId='MONDO_0004975'), Row(diseaseFromSourceMappedId='MONDO_0005180'), Row(diseaseFromSourceMappedId='EFO_0003843'), Row(diseaseFromSourceMappedId='EFO_0000544'), Row(diseaseFromSourceMappedId='EFO_0000544'), Row(diseaseFromSourceMappedId='EFO_0009513'), Row(diseaseFromSourceMappedId='EFO_1001175'), Row(diseaseFromSourceMappedId='MONDO_0005180'), Row(diseaseFromSourceMappedId='EFO_0005411'), Row(diseaseFromSourceMappedId='EFO_0005232'), Row(diseaseFromSourceMappedId='MONDO_0005180'), Row(diseaseFromSourceMappedId='EFO_0007328'), Row(diseaseFromSourceMappedId='EFO_0000544'), Row(diseaseFromSourceMappedId='EFO_0003843'), Row(diseaseFromSourceMappedId='EFO_0007328'), Row(diseaseFromSourceMappedId='EFO_0000713'), Row(diseaseFromSourceMappedId='EFO_0003931'), Row(diseaseFromSourceMappedId='EFO_0002460'), Row(diseaseFromSourceMappedId='EFO_0009267'), Row(diseaseFromSourceMappedId='MP_0001845'), Row(diseaseFromSourceMappedId='MONDO_0002050'), Row(diseaseFromSourceMappedId='MONDO_0011382'), Row(diseaseFromSourceMappedId='EFO_1001488'), Row(diseaseFromSourceMappedId='MONDO_0002050'), Row(diseaseFromSourceMappedId='EFO_0001358'), Row(diseaseFromSourceMappedId='EFO_0009658'), Row(diseaseFromSourceMappedId='EFO_0003843'), Row(diseaseFromSourceMappedId='EFO_0003843'), Row(diseaseFromSourceMappedId='MONDO_0002009'), Row(diseaseFromSourceMappedId='MONDO_0002009'), Row(diseaseFromSourceMappedId='MONDO_0007079'), Row(diseaseFromSourceMappedId='MONDO_0002050'), Row(diseaseFromSourceMappedId='EFO_0009854'), Row(diseaseFromSourceMappedId='MONDO_0008903'), Row(diseaseFromSourceMappedId='EFO_0004321'), Row(diseaseFromSourceMappedId='HP_0000360'), Row(diseaseFromSourceMappedId='MONDO_0005180'), Row(diseaseFromSourceMappedId='EFO_0003843'), Row(diseaseFromSourceMappedId='EFO_0003843'), Row(diseaseFromSourceMappedId='MONDO_0004975'), Row(diseaseFromSourceMappedId='MONDO_0000726'), Row(diseaseFromSourceMappedId='EFO_1000783'), Row(diseaseFromSourceMappedId='EFO_0002610'), Row(diseaseFromSourceMappedId='EFO_1000632'), Row(diseaseFromSourceMappedId='MONDO_0005090'), Row(diseaseFromSourceMappedId='MONDO_0004975'), Row(diseaseFromSourceMappedId='HP_0012532'), Row(diseaseFromSourceMappedId='EFO_1000860'), Row(diseaseFromSourceMappedId='EFO_1001175'), Row(diseaseFromSourceMappedId='MONDO_0005180'), Row(diseaseFromSourceMappedId='EFO_1001884'), Row(diseaseFromSourceMappedId='EFO_0004242'), Row(diseaseFromSourceMappedId='MONDO_0004985'), Row(diseaseFromSourceMappedId='MONDO_0004985'), Row(diseaseFromSourceMappedId='MONDO_0002009'), Row(diseaseFromSourceMappedId='EFO_0003843'), Row(diseaseFromSourceMappedId='HP_0100543'), Row(diseaseFromSourceMappedId='EFO_0003843'), Row(diseaseFromSourceMappedId='EFO_0007328'), Row(diseaseFromSourceMappedId='MONDO_0005180'), Row(diseaseFromSourceMappedId='EFO_0004320'), Row(diseaseFromSourceMappedId='EFO_0000712'), Row(diseaseFromSourceMappedId='EFO_0007328'), Row(diseaseFromSourceMappedId='EFO_1000860'), Row(diseaseFromSourceMappedId='EFO_0003843'), Row(diseaseFromSourceMappedId='MONDO_0005129'), Row(diseaseFromSourceMappedId='MONDO_0004975'), Row(diseaseFromSourceMappedId='EFO_1001402'), Row(diseaseFromSourceMappedId='EFO_0004242'), Row(diseaseFromSourceMappedId='EFO_0009267'), Row(diseaseFromSourceMappedId='EFO_0020000'), Row(diseaseFromSourceMappedId='EFO_1001491'), Row(diseaseFromSourceMappedId='MONDO_0002009'), Row(diseaseFromSourceMappedId='EFO_0004699'), Row(diseaseFromSourceMappedId='MONDO_0002050'), Row(diseaseFromSourceMappedId='MONDO_0002009'), Row(diseaseFromSourceMappedId='MONDO_0005180'), Row(diseaseFromSourceMappedId='EFO_0001422'), Row(diseaseFromSourceMappedId='MONDO_0002050'), Row(diseaseFromSourceMappedId='MONDO_0004985'), Row(diseaseFromSourceMappedId='EFO_1000860'), Row(diseaseFromSourceMappedId='EFO_0004321'), Row(diseaseFromSourceMappedId='EFO_0003843'), Row(diseaseFromSourceMappedId='EFO_0003843'), Row(diseaseFromSourceMappedId='EFO_0000544'), Row(diseaseFromSourceMappedId='MONDO_0002009'), Row(diseaseFromSourceMappedId='MONDO_0005180'), Row(diseaseFromSourceMappedId='HP_0000713'), Row(diseaseFromSourceMappedId='MONDO_0005129'), Row(diseaseFromSourceMappedId='EFO_0005611'), Row(diseaseFromSourceMappedId='MONDO_0005090'), Row(diseaseFromSourceMappedId='EFO_0007328'), Row(diseaseFromSourceMappedId='MONDO_0005180'), Row(diseaseFromSourceMappedId='EFO_1001402'), Row(diseaseFromSourceMappedId='EFO_0004320'), Row(diseaseFromSourceMappedId='HP_0002315'), Row(diseaseFromSourceMappedId='EFO_0005230'), Row(diseaseFromSourceMappedId='MONDO_0002050'), Row(diseaseFromSourceMappedId='MONDO_0007079'), Row(diseaseFromSourceMappedId='EFO_0004242'), Row(diseaseFromSourceMappedId='HP_0012532'), Row(diseaseFromSourceMappedId='MONDO_0002050'), Row(diseaseFromSourceMappedId='EFO_0000544'), Row(diseaseFromSourceMappedId='EFO_0007328'), Row(diseaseFromSourceMappedId='EFO_0004190'), Row(diseaseFromSourceMappedId='EFO_0003843'), Row(diseaseFromSourceMappedId='EFO_0007328'), Row(diseaseFromSourceMappedId='MONDO_0002009'), Row(diseaseFromSourceMappedId='MONDO_0007079'), Row(diseaseFromSourceMappedId='MONDO_0002009'), Row(diseaseFromSourceMappedId='MONDO_0002009'), Row(diseaseFromSourceMappedId='EFO_0003843'), Row(diseaseFromSourceMappedId='MONDO_0002050'), Row(diseaseFromSourceMappedId='MONDO_0005180'), Row(diseaseFromSourceMappedId='MONDO_0002050'), Row(diseaseFromSourceMappedId='EFO_0000544'), Row(diseaseFromSourceMappedId='MONDO_0011382'), Row(diseaseFromSourceMappedId='EFO_1001175'), Row(diseaseFromSourceMappedId='MONDO_0002009'), Row(diseaseFromSourceMappedId='EFO_0000544'), Row(diseaseFromSourceMappedId='EFO_0003843'), Row(diseaseFromSourceMappedId='EFO_0009854'), Row(diseaseFromSourceMappedId='EFO_0000546'), Row(diseaseFromSourceMappedId='EFO_0004242'), Row(diseaseFromSourceMappedId='MONDO_0004975'), Row(diseaseFromSourceMappedId='EFO_0003843'), Row(diseaseFromSourceMappedId='EFO_0002610'), Row(diseaseFromSourceMappedId='EFO_1000860'), Row(diseaseFromSourceMappedId='MONDO_0004992'), Row(diseaseFromSourceMappedId='EFO_0004242'), Row(diseaseFromSourceMappedId='MONDO_0002009'), Row(diseaseFromSourceMappedId='MONDO_0002050'), Row(diseaseFromSourceMappedId='EFO_0003843'), Row(diseaseFromSourceMappedId='MONDO_0002009'), Row(diseaseFromSourceMappedId='MONDO_0002009'), Row(diseaseFromSourceMappedId='EFO_0000544'), Row(diseaseFromSourceMappedId='MONDO_0002050'), Row(diseaseFromSourceMappedId='EFO_0003843'), Row(diseaseFromSourceMappedId='MONDO_0005090'), Row(diseaseFromSourceMappedId='HP_0012735'), Row(diseaseFromSourceMappedId='MONDO_0005180'), Row(diseaseFromSourceMappedId='EFO_1000860'), Row(diseaseFromSourceMappedId='EFO_0003843'), Row(diseaseFromSourceMappedId='MONDO_0005180'), Row(diseaseFromSourceMappedId='MONDO_0002050'), Row(diseaseFromSourceMappedId='MONDO_0002050'), Row(diseaseFromSourceMappedId='HP_0012167'), Row(diseaseFromSourceMappedId='HP_0002315'), Row(diseaseFromSourceMappedId='EFO_1000864'), Row(diseaseFromSourceMappedId='MONDO_0002009'), Row(diseaseFromSourceMappedId='MONDO_0004975'), Row(diseaseFromSourceMappedId='HP_0002315'), Row(diseaseFromSourceMappedId='EFO_0002460'), Row(diseaseFromSourceMappedId='MONDO_0007079'), Row(diseaseFromSourceMappedId='EFO_0000544'), Row(diseaseFromSourceMappedId='MONDO_0002050'), Row(diseaseFromSourceMappedId='HP_0002315'), Row(diseaseFromSourceMappedId='MONDO_0100096'), Row(diseaseFromSourceMappedId='MONDO_0002009'), Row(diseaseFromSourceMappedId='EFO_0003843'), Row(diseaseFromSourceMappedId='EFO_0003843'), Row(diseaseFromSourceMappedId='EFO_0003843'), Row(diseaseFromSourceMappedId='MONDO_0004681'), Row(diseaseFromSourceMappedId='EFO_0001074'), Row(diseaseFromSourceMappedId='MONDO_0004975'), Row(diseaseFromSourceMappedId='EFO_0003843'), Row(diseaseFromSourceMappedId='MONDO_0004975'), Row(diseaseFromSourceMappedId='EFO_1001402'), Row(diseaseFromSourceMappedId='HP_0002315'), Row(diseaseFromSourceMappedId='MONDO_0005277'), Row(diseaseFromSourceMappedId='MONDO_0002009'), Row(diseaseFromSourceMappedId='MONDO_0005180'), Row(diseaseFromSourceMappedId='EFO_0000544'), Row(diseaseFromSourceMappedId='EFO_0000544'), Row(diseaseFromSourceMappedId='EFO_1001175'), Row(diseaseFromSourceMappedId='EFO_1001402'), Row(diseaseFromSourceMappedId='EFO_0003015'), Row(diseaseFromSourceMappedId='HP_0000713'), Row(diseaseFromSourceMappedId='EFO_0003843'), Row(diseaseFromSourceMappedId='EFO_0009516'), Row(diseaseFromSourceMappedId='MONDO_0002009'), Row(diseaseFromSourceMappedId='MONDO_0005180'), Row(diseaseFromSourceMappedId='EFO_0009686'), Row(diseaseFromSourceMappedId='MONDO_0005180'), Row(diseaseFromSourceMappedId='EFO_0004320'), Row(diseaseFromSourceMappedId='EFO_0003843'), Row(diseaseFromSourceMappedId='MONDO_0002009'), Row(diseaseFromSourceMappedId='EFO_1001210'), Row(diseaseFromSourceMappedId='MONDO_0002038'), Row(diseaseFromSourceMappedId='EFO_0000474'), Row(diseaseFromSourceMappedId='EFO_0009854'), Row(diseaseFromSourceMappedId='HP_0012076'), Row(diseaseFromSourceMappedId='EFO_0003843'), Row(diseaseFromSourceMappedId='EFO_0007328'), Row(diseaseFromSourceMappedId='HP_0000360'), Row(diseaseFromSourceMappedId='MONDO_0005180'), Row(diseaseFromSourceMappedId='MONDO_0008315'), Row(diseaseFromSourceMappedId='EFO_0000544'), Row(diseaseFromSourceMappedId='MONDO_0005180'), Row(diseaseFromSourceMappedId='HP_0002315'), Row(diseaseFromSourceMappedId='MONDO_0002050'), Row(diseaseFromSourceMappedId='HP_0000713'), Row(diseaseFromSourceMappedId='MONDO_0004975'), Row(diseaseFromSourceMappedId='EFO_1001402'), Row(diseaseFromSourceMappedId='MONDO_0002009'), Row(diseaseFromSourceMappedId='MONDO_0002009'), Row(diseaseFromSourceMappedId='EFO_0003843'), Row(diseaseFromSourceMappedId='EFO_0003890'), Row(diseaseFromSourceMappedId='EFO_0005407'), Row(diseaseFromSourceMappedId='EFO_0009854'), Row(diseaseFromSourceMappedId='MONDO_0005090'), Row(diseaseFromSourceMappedId='EFO_0006834'), Row(diseaseFromSourceMappedId='HP_0000713'), Row(diseaseFromSourceMappedId='EFO_0001074'), Row(diseaseFromSourceMappedId='EFO_0009267'), Row(diseaseFromSourceMappedId='EFO_0006834'), Row(diseaseFromSourceMappedId='MONDO_0005180'), Row(diseaseFromSourceMappedId='MONDO_0002050'), Row(diseaseFromSourceMappedId='MONDO_0005180'), Row(diseaseFromSourceMappedId='MONDO_0004975'), Row(diseaseFromSourceMappedId='EFO_0003843'), Row(diseaseFromSourceMappedId='MONDO_0005180'), Row(diseaseFromSourceMappedId='EFO_0007453'), Row(diseaseFromSourceMappedId='MONDO_0004975'), Row(diseaseFromSourceMappedId='EFO_0000544'), Row(diseaseFromSourceMappedId='EFO_0005230'), Row(diseaseFromSourceMappedId='EFO_1001402'), Row(diseaseFromSourceMappedId='EFO_0000544'), Row(diseaseFromSourceMappedId='EFO_1001998'), Row(diseaseFromSourceMappedId='HP_0003419'), Row(diseaseFromSourceMappedId='EFO_0000713'), Row(diseaseFromSourceMappedId='EFO_0005279'), Row(diseaseFromSourceMappedId='MONDO_0007254'), Row(diseaseFromSourceMappedId='EFO_0004220'), Row(diseaseFromSourceMappedId='EFO_0004699'), Row(diseaseFromSourceMappedId='EFO_0000544'), Row(diseaseFromSourceMappedId='EFO_0002610'), Row(diseaseFromSourceMappedId='EFO_0003758'), Row(diseaseFromSourceMappedId='EFO_0003957'), Row(diseaseFromSourceMappedId='MONDO_0002050'), Row(diseaseFromSourceMappedId='EFO_0003843'), Row(diseaseFromSourceMappedId='EFO_0003843'), Row(diseaseFromSourceMappedId='EFO_0007328'), Row(diseaseFromSourceMappedId='MONDO_0005180'), Row(diseaseFromSourceMappedId='MONDO_0002050'), Row(diseaseFromSourceMappedId='MONDO_0005090'), Row(diseaseFromSourceMappedId='EFO_0004242'), Row(diseaseFromSourceMappedId='MONDO_0002009'), Row(diseaseFromSourceMappedId='MONDO_0005180'), Row(diseaseFromSourceMappedId='MONDO_0010383'), Row(diseaseFromSourceMappedId='EFO_0000544'), Row(diseaseFromSourceMappedId='MONDO_0004985'), Row(diseaseFromSourceMappedId='MONDO_0002009'), Row(diseaseFromSourceMappedId='EFO_0007328'), Row(diseaseFromSourceMappedId='MONDO_0002009'), Row(diseaseFromSourceMappedId='EFO_0000546'), Row(diseaseFromSourceMappedId='EFO_0007328'), Row(diseaseFromSourceMappedId='MONDO_0043510'), Row(diseaseFromSourceMappedId='MONDO_0005180'), Row(diseaseFromSourceMappedId='EFO_0000544'), Row(diseaseFromSourceMappedId='MONDO_0002009'), Row(diseaseFromSourceMappedId='EFO_1001998'), Row(diseaseFromSourceMappedId='EFO_0003843'), Row(diseaseFromSourceMappedId='EFO_0003843'), Row(diseaseFromSourceMappedId='MONDO_0005180'), Row(diseaseFromSourceMappedId='EFO_1001402'), Row(diseaseFromSourceMappedId='MONDO_0002050'), Row(diseaseFromSourceMappedId='EFO_0000544'), Row(diseaseFromSourceMappedId='MONDO_0004975'), Row(diseaseFromSourceMappedId='MONDO_0004975'), Row(diseaseFromSourceMappedId='EFO_0003843'), Row(diseaseFromSourceMappedId='EFO_0005762'), Row(diseaseFromSourceMappedId='HP_0002315'), Row(diseaseFromSourceMappedId='EFO_0007328'), Row(diseaseFromSourceMappedId='MONDO_0007254'), Row(diseaseFromSourceMappedId='MONDO_0002009'), Row(diseaseFromSourceMappedId='EFO_0004242'), Row(diseaseFromSourceMappedId='EFO_0009492'), Row(diseaseFromSourceMappedId='MONDO_0002050'), Row(diseaseFromSourceMappedId='EFO_0007328'), Row(diseaseFromSourceMappedId='MONDO_0002050'), Row(diseaseFromSourceMappedId='MONDO_0005180'), Row(diseaseFromSourceMappedId='EFO_0004777'), Row(diseaseFromSourceMappedId='EFO_0007453'), Row(diseaseFromSourceMappedId='EFO_1000860'), Row(diseaseFromSourceMappedId='HP_0000360'), Row(diseaseFromSourceMappedId='MONDO_0005180'), Row(diseaseFromSourceMappedId='EFO_1001402'), Row(diseaseFromSourceMappedId='MONDO_0002050'), Row(diseaseFromSourceMappedId='EFO_0003843'), Row(diseaseFromSourceMappedId='EFO_0004240'), Row(diseaseFromSourceMappedId='EFO_0007328'), Row(diseaseFromSourceMappedId='EFO_0004699'), Row(diseaseFromSourceMappedId='MONDO_0002050'), Row(diseaseFromSourceMappedId='EFO_1001917'), Row(diseaseFromSourceMappedId='MONDO_0002009'), Row(diseaseFromSourceMappedId='EFO_0000544'), Row(diseaseFromSourceMappedId='EFO_0003015'), Row(diseaseFromSourceMappedId='MONDO_0002050'), Row(diseaseFromSourceMappedId='MONDO_0004985'), Row(diseaseFromSourceMappedId='MONDO_0004975'), Row(diseaseFromSourceMappedId='MONDO_0004975'), Row(diseaseFromSourceMappedId='EFO_0000546'), Row(diseaseFromSourceMappedId='EFO_0801084'), Row(diseaseFromSourceMappedId='EFO_0003843'), Row(diseaseFromSourceMappedId='HP_0000360'), Row(diseaseFromSourceMappedId='EFO_0003843'), Row(diseaseFromSourceMappedId='EFO_0000544'), Row(diseaseFromSourceMappedId='EFO_0003843'), Row(diseaseFromSourceMappedId='MONDO_0005090'), Row(diseaseFromSourceMappedId='EFO_0020000'), Row(diseaseFromSourceMappedId='EFO_0007328'), Row(diseaseFromSourceMappedId='EFO_0003843'), Row(diseaseFromSourceMappedId='EFO_1001884'), Row(diseaseFromSourceMappedId='MONDO_0004975'), Row(diseaseFromSourceMappedId='MONDO_0005180'), Row(diseaseFromSourceMappedId='MONDO_0005180'), Row(diseaseFromSourceMappedId='EFO_0003843'), Row(diseaseFromSourceMappedId='EFO_1001175'), Row(diseaseFromSourceMappedId='MONDO_0002009'), Row(diseaseFromSourceMappedId='EFO_0005762'), Row(diseaseFromSourceMappedId='EFO_0003843'), Row(diseaseFromSourceMappedId='EFO_0003758'), Row(diseaseFromSourceMappedId='EFO_0003843'), Row(diseaseFromSourceMappedId='EFO_0003757'), Row(diseaseFromSourceMappedId='EFO_0000326'), Row(diseaseFromSourceMappedId='MONDO_0002009'), Row(diseaseFromSourceMappedId='EFO_0003761'), Row(diseaseFromSourceMappedId='MONDO_0008903'), Row(diseaseFromSourceMappedId='EFO_0007328'), Row(diseaseFromSourceMappedId='EFO_0001358'), Row(diseaseFromSourceMappedId='MONDO_0005090'), Row(diseaseFromSourceMappedId='EFO_0003761'), Row(diseaseFromSourceMappedId='EFO_0004242'), Row(diseaseFromSourceMappedId='EFO_1001175'), Row(diseaseFromSourceMappedId='EFO_0004320'), Row(diseaseFromSourceMappedId='EFO_1001898'), Row(diseaseFromSourceMappedId='EFO_0000712'), Row(diseaseFromSourceMappedId='EFO_0009963'), Row(diseaseFromSourceMappedId='EFO_0003843'), Row(diseaseFromSourceMappedId='EFO_0004888'), Row(diseaseFromSourceMappedId='EFO_0003843'), Row(diseaseFromSourceMappedId='EFO_0007328'), Row(diseaseFromSourceMappedId='MONDO_0004985'), Row(diseaseFromSourceMappedId='EFO_0005762'), Row(diseaseFromSourceMappedId='EFO_0003843'), Row(diseaseFromSourceMappedId='MONDO_0005180'), Row(diseaseFromSourceMappedId='EFO_0007328'), Row(diseaseFromSourceMappedId='EFO_1001998'), Row(diseaseFromSourceMappedId='MONDO_0005090'), Row(diseaseFromSourceMappedId='HP_0000360'), Row(diseaseFromSourceMappedId='MONDO_0002050'), Row(diseaseFromSourceMappedId='MONDO_0043510'), Row(diseaseFromSourceMappedId='MONDO_0005180'), Row(diseaseFromSourceMappedId='EFO_0000544'), Row(diseaseFromSourceMappedId='MONDO_0004976'), Row(diseaseFromSourceMappedId='EFO_0000546'), Row(diseaseFromSourceMappedId='MONDO_0002050'), Row(diseaseFromSourceMappedId='EFO_0007328'), Row(diseaseFromSourceMappedId='MONDO_0004975'), Row(diseaseFromSourceMappedId='EFO_0004190'), Row(diseaseFromSourceMappedId='EFO_0009854'), Row(diseaseFromSourceMappedId='EFO_0003843'), Row(diseaseFromSourceMappedId='EFO_0003843'), Row(diseaseFromSourceMappedId='EFO_0003843'), Row(diseaseFromSourceMappedId='MONDO_0002046'), Row(diseaseFromSourceMappedId='EFO_0003768'), Row(diseaseFromSourceMappedId='EFO_0003758'), Row(diseaseFromSourceMappedId='EFO_1001402'), Row(diseaseFromSourceMappedId='EFO_0003843'), Row(diseaseFromSourceMappedId='HP_0000713'), Row(diseaseFromSourceMappedId='MONDO_0002050'), Row(diseaseFromSourceMappedId='MONDO_0002009'), Row(diseaseFromSourceMappedId='MONDO_0002050'), Row(diseaseFromSourceMappedId='EFO_1000632'), Row(diseaseFromSourceMappedId='EFO_0003843'), Row(diseaseFromSourceMappedId='EFO_0001072'), Row(diseaseFromSourceMappedId='EFO_0000544'), Row(diseaseFromSourceMappedId='EFO_0007328'), Row(diseaseFromSourceMappedId='EFO_0003843'), Row(diseaseFromSourceMappedId='MONDO_0001208'), Row(diseaseFromSourceMappedId='MONDO_0004975'), Row(diseaseFromSourceMappedId='EFO_0003843'), Row(diseaseFromSourceMappedId='MONDO_0002050'), Row(diseaseFromSourceMappedId='EFO_0003843'), Row(diseaseFromSourceMappedId='MONDO_0005180'), Row(diseaseFromSourceMappedId='EFO_0003843'), Row(diseaseFromSourceMappedId='EFO_0000546'), Row(diseaseFromSourceMappedId='MONDO_0002009'), Row(diseaseFromSourceMappedId='EFO_0009854'), Row(diseaseFromSourceMappedId='MONDO_0002009'), Row(diseaseFromSourceMappedId='MONDO_0004985'), Row(diseaseFromSourceMappedId='EFO_1000637'), Row(diseaseFromSourceMappedId='HP_0003419'), Row(diseaseFromSourceMappedId='MONDO_0005180'), Row(diseaseFromSourceMappedId='MONDO_0005180'), Row(diseaseFromSourceMappedId='MONDO_0002009'), Row(diseaseFromSourceMappedId='EFO_1001175'), Row(diseaseFromSourceMappedId='EFO_0003756'), Row(diseaseFromSourceMappedId='EFO_0007328'), Row(diseaseFromSourceMappedId='MONDO_0002009'), Row(diseaseFromSourceMappedId='EFO_0004701'), Row(diseaseFromSourceMappedId='MONDO_0002050'), Row(diseaseFromSourceMappedId='MONDO_0005180'), Row(diseaseFromSourceMappedId='MONDO_0002009'), Row(diseaseFromSourceMappedId='EFO_0005762'), Row(diseaseFromSourceMappedId='EFO_0000544'), Row(diseaseFromSourceMappedId='MONDO_0005180'), Row(diseaseFromSourceMappedId='EFO_0003843'), Row(diseaseFromSourceMappedId='EFO_0004242'), Row(diseaseFromSourceMappedId='EFO_0003843'), Row(diseaseFromSourceMappedId='EFO_0000544'), Row(diseaseFromSourceMappedId='EFO_1000860'), Row(diseaseFromSourceMappedId='EFO_0003843'), Row(diseaseFromSourceMappedId='EFO_0003843'), Row(diseaseFromSourceMappedId='EFO_0007328'), Row(diseaseFromSourceMappedId='MONDO_0002050'), Row(diseaseFromSourceMappedId='EFO_0003843'), Row(diseaseFromSourceMappedId='MONDO_0002050'), Row(diseaseFromSourceMappedId='HP_0000360'), Row(diseaseFromSourceMappedId='EFO_0000544'), Row(diseaseFromSourceMappedId='HP_0012532'), Row(diseaseFromSourceMappedId='MONDO_0002009'), Row(diseaseFromSourceMappedId='EFO_0008590'), Row(diseaseFromSourceMappedId='EFO_0009854'), Row(diseaseFromSourceMappedId='EFO_0000546'), Row(diseaseFromSourceMappedId='EFO_1001175'), Row(diseaseFromSourceMappedId='MONDO_0002050'), Row(diseaseFromSourceMappedId='EFO_1001402'), Row(diseaseFromSourceMappedId='MONDO_0005180'), Row(diseaseFromSourceMappedId='MONDO_0002050'), Row(diseaseFromSourceMappedId='EFO_0003843'), Row(diseaseFromSourceMappedId='MONDO_0005180'), Row(diseaseFromSourceMappedId='HP_0000989'), Row(diseaseFromSourceMappedId='HP_0002140'), Row(diseaseFromSourceMappedId='MONDO_0002050'), Row(diseaseFromSourceMappedId='EFO_0007328'), Row(diseaseFromSourceMappedId='EFO_0007328'), Row(diseaseFromSourceMappedId='EFO_0003819'), Row(diseaseFromSourceMappedId='EFO_0000544'), Row(diseaseFromSourceMappedId='EFO_0007453'), Row(diseaseFromSourceMappedId='EFO_0005407'), Row(diseaseFromSourceMappedId='EFO_0003931'), Row(diseaseFromSourceMappedId='EFO_0004220'), Row(diseaseFromSourceMappedId='EFO_0000544'), Row(diseaseFromSourceMappedId='EFO_0000544'), Row(diseaseFromSourceMappedId='EFO_0003877'), Row(diseaseFromSourceMappedId='HP_0012532'), Row(diseaseFromSourceMappedId='EFO_0003843'), Row(diseaseFromSourceMappedId='EFO_1000860'), Row(diseaseFromSourceMappedId='MONDO_0002050'), Row(diseaseFromSourceMappedId='MONDO_0002009'), Row(diseaseFromSourceMappedId='MONDO_0002050'), Row(diseaseFromSourceMappedId='EFO_0000544'), Row(diseaseFromSourceMappedId='EFO_0005762'), Row(diseaseFromSourceMappedId='MONDO_0002009'), Row(diseaseFromSourceMappedId='MONDO_0004985'), Row(diseaseFromSourceMappedId='MONDO_0002050'), Row(diseaseFromSourceMappedId='EFO_0003843'), Row(diseaseFromSourceMappedId='MONDO_0002009'), Row(diseaseFromSourceMappedId='EFO_0003843'), Row(diseaseFromSourceMappedId='EFO_0004777'), Row(diseaseFromSourceMappedId='MONDO_0005180'), Row(diseaseFromSourceMappedId='MONDO_0043510'), Row(diseaseFromSourceMappedId='EFO_0001358'), Row(diseaseFromSourceMappedId='MONDO_0004975'), Row(diseaseFromSourceMappedId='EFO_0003843'), Row(diseaseFromSourceMappedId='MONDO_0004985'), Row(diseaseFromSourceMappedId='MONDO_0004975'), Row(diseaseFromSourceMappedId='HP_0000360'), Row(diseaseFromSourceMappedId='MONDO_0005180'), Row(diseaseFromSourceMappedId='EFO_0003768'), Row(diseaseFromSourceMappedId='EFO_0000546'), Row(diseaseFromSourceMappedId='MONDO_0005090'), Row(diseaseFromSourceMappedId='MONDO_0002050'), Row(diseaseFromSourceMappedId='EFO_0003843'), Row(diseaseFromSourceMappedId='MONDO_0002050'), Row(diseaseFromSourceMappedId='EFO_0007328'), Row(diseaseFromSourceMappedId='MONDO_0005180'), Row(diseaseFromSourceMappedId='EFO_0000546'), Row(diseaseFromSourceMappedId='EFO_0003757'), Row(diseaseFromSourceMappedId='EFO_0005411'), Row(diseaseFromSourceMappedId='EFO_0007328'), Row(diseaseFromSourceMappedId='EFO_0001073'), Row(diseaseFromSourceMappedId='EFO_0801084'), Row(diseaseFromSourceMappedId='MONDO_0007254'), Row(diseaseFromSourceMappedId='EFO_0004320'), Row(diseaseFromSourceMappedId='MONDO_0002009'), Row(diseaseFromSourceMappedId='MONDO_0004976'), Row(diseaseFromSourceMappedId='MONDO_0002009'), Row(diseaseFromSourceMappedId='MONDO_0005180'), Row(diseaseFromSourceMappedId='HP_0100543'), Row(diseaseFromSourceMappedId='MONDO_0043510'), Row(diseaseFromSourceMappedId='EFO_0003843'), Row(diseaseFromSourceMappedId='EFO_0004220'), Row(diseaseFromSourceMappedId='EFO_1000783'), Row(diseaseFromSourceMappedId='EFO_0009963'), Row(diseaseFromSourceMappedId='MONDO_0005180'), Row(diseaseFromSourceMappedId='EFO_0004242'), Row(diseaseFromSourceMappedId='MONDO_0004985'), Row(diseaseFromSourceMappedId='HP_0003419'), Row(diseaseFromSourceMappedId='EFO_0007328'), Row(diseaseFromSourceMappedId='MONDO_0004976'), Row(diseaseFromSourceMappedId='MONDO_0005180'), Row(diseaseFromSourceMappedId='EFO_0007328'), Row(diseaseFromSourceMappedId='EFO_0007623'), Row(diseaseFromSourceMappedId='EFO_0003756'), Row(diseaseFromSourceMappedId='MONDO_0004975'), Row(diseaseFromSourceMappedId='EFO_0003761'), Row(diseaseFromSourceMappedId='EFO_0000544'), Row(diseaseFromSourceMappedId='EFO_0003761'), Row(diseaseFromSourceMappedId='MONDO_0005351'), Row(diseaseFromSourceMappedId='EFO_0007328'), Row(diseaseFromSourceMappedId='HP_0000360'), Row(diseaseFromSourceMappedId='MONDO_0010383'), Row(diseaseFromSourceMappedId='EFO_0005762'), Row(diseaseFromSourceMappedId='HP_0001300'), Row(diseaseFromSourceMappedId='MONDO_0004976'), Row(diseaseFromSourceMappedId='EFO_0007328'), Row(diseaseFromSourceMappedId='MONDO_0005180'), Row(diseaseFromSourceMappedId='EFO_0001361'), Row(diseaseFromSourceMappedId='MONDO_0004975'), Row(diseaseFromSourceMappedId='MONDO_0004975'), Row(diseaseFromSourceMappedId='EFO_0000544'), Row(diseaseFromSourceMappedId='EFO_0000546'), Row(diseaseFromSourceMappedId='HP_0012378'), Row(diseaseFromSourceMappedId='MONDO_0002009'), Row(diseaseFromSourceMappedId='MONDO_0005351'), Row(diseaseFromSourceMappedId='MONDO_0010726'), Row(diseaseFromSourceMappedId='MONDO_0005180'), Row(diseaseFromSourceMappedId='EFO_0003843'), Row(diseaseFromSourceMappedId='MONDO_0005180'), Row(diseaseFromSourceMappedId='HP_0000360'), Row(diseaseFromSourceMappedId='EFO_0007328'), Row(diseaseFromSourceMappedId='MONDO_0004985'), Row(diseaseFromSourceMappedId='MONDO_0007079'), Row(diseaseFromSourceMappedId='EFO_0003843'), Row(diseaseFromSourceMappedId='MONDO_0024417'), Row(diseaseFromSourceMappedId='EFO_0007623'), Row(diseaseFromSourceMappedId='EFO_0000544'), Row(diseaseFromSourceMappedId='MONDO_0002050'), Row(diseaseFromSourceMappedId='EFO_0003843'), Row(diseaseFromSourceMappedId='MONDO_0024880'), Row(diseaseFromSourceMappedId='MONDO_0007079'), Row(diseaseFromSourceMappedId='MONDO_0011382'), Row(diseaseFromSourceMappedId='MONDO_0004975'), Row(diseaseFromSourceMappedId='EFO_0000546'), Row(diseaseFromSourceMappedId='EFO_0007328'), Row(diseaseFromSourceMappedId='EFO_1001402'), Row(diseaseFromSourceMappedId='EFO_0009854'), Row(diseaseFromSourceMappedId='MONDO_0004975'), Row(diseaseFromSourceMappedId='EFO_0007328'), Row(diseaseFromSourceMappedId='EFO_0000546'), Row(diseaseFromSourceMappedId='EFO_0000544'), Row(diseaseFromSourceMappedId='MONDO_0005180'), Row(diseaseFromSourceMappedId='EFO_0003761'), Row(diseaseFromSourceMappedId='MONDO_0005180'), Row(diseaseFromSourceMappedId='EFO_0003777'), Row(diseaseFromSourceMappedId='EFO_0005611'), Row(diseaseFromSourceMappedId='EFO_0004329'), Row(diseaseFromSourceMappedId='EFO_0003756'), Row(diseaseFromSourceMappedId='EFO_0004247'), Row(diseaseFromSourceMappedId='MONDO_0005090'), Row(diseaseFromSourceMappedId='MONDO_0002050'), Row(diseaseFromSourceMappedId='HP_0100543'), Row(diseaseFromSourceMappedId='EFO_0007328'), Row(diseaseFromSourceMappedId='EFO_0007328'), Row(diseaseFromSourceMappedId='EFO_0007328'), Row(diseaseFromSourceMappedId='MONDO_0002050'), Row(diseaseFromSourceMappedId='HP_0000360'), Row(diseaseFromSourceMappedId='EFO_0000474'), Row(diseaseFromSourceMappedId='MONDO_0002050'), Row(diseaseFromSourceMappedId='EFO_0007328'), Row(diseaseFromSourceMappedId='MONDO_0002009'), Row(diseaseFromSourceMappedId='MONDO_0005180'), Row(diseaseFromSourceMappedId='EFO_0003843'), Row(diseaseFromSourceMappedId='EFO_0000544'), Row(diseaseFromSourceMappedId='EFO_0001072'), Row(diseaseFromSourceMappedId='MONDO_0004985'), Row(diseaseFromSourceMappedId='EFO_1000860'), Row(diseaseFromSourceMappedId='EFO_0005762'), Row(diseaseFromSourceMappedId='EFO_0000546'), Row(diseaseFromSourceMappedId='EFO_0003843'), Row(diseaseFromSourceMappedId='EFO_0006834'), Row(diseaseFromSourceMappedId='EFO_0003843'), Row(diseaseFromSourceMappedId='MONDO_0002009'), Row(diseaseFromSourceMappedId='MONDO_0002009'), Row(diseaseFromSourceMappedId='EFO_0000544'), Row(diseaseFromSourceMappedId='MONDO_0005180'), Row(diseaseFromSourceMappedId='HP_0001300'), Row(diseaseFromSourceMappedId='MONDO_0002050'), Row(diseaseFromSourceMappedId='MONDO_0002009'), Row(diseaseFromSourceMappedId='MONDO_0100096'), Row(diseaseFromSourceMappedId='EFO_0006834'), Row(diseaseFromSourceMappedId='EFO_0005762'), Row(diseaseFromSourceMappedId='MONDO_0005180'), Row(diseaseFromSourceMappedId='MONDO_0007079'), Row(diseaseFromSourceMappedId='EFO_0003843'), Row(diseaseFromSourceMappedId='MONDO_0002009'), Row(diseaseFromSourceMappedId='EFO_0003843'), Row(diseaseFromSourceMappedId='EFO_0009552'), Row(diseaseFromSourceMappedId='EFO_0007328'), Row(diseaseFromSourceMappedId='EFO_0003890'), Row(diseaseFromSourceMappedId='EFO_0008526'), Row(diseaseFromSourceMappedId='MONDO_0005090'), Row(diseaseFromSourceMappedId='EFO_0003918'), Row(diseaseFromSourceMappedId='EFO_0007328'), Row(diseaseFromSourceMappedId='MONDO_0002050'), Row(diseaseFromSourceMappedId='MONDO_0002050'), Row(diseaseFromSourceMappedId='EFO_0006834'), Row(diseaseFromSourceMappedId='EFO_0009267'), Row(diseaseFromSourceMappedId='EFO_1001402'), Row(diseaseFromSourceMappedId='EFO_0004220'), Row(diseaseFromSourceMappedId='EFO_0000474'), Row(diseaseFromSourceMappedId='EFO_0009686'), Row(diseaseFromSourceMappedId='EFO_0006834'), Row(diseaseFromSourceMappedId='MONDO_0007079'), Row(diseaseFromSourceMappedId='MONDO_0007079'), Row(diseaseFromSourceMappedId='EFO_0000544'), Row(diseaseFromSourceMappedId='MONDO_0010726'), Row(diseaseFromSourceMappedId='MONDO_0008315'), Row(diseaseFromSourceMappedId='MONDO_0004975'), Row(diseaseFromSourceMappedId='EFO_1000860'), Row(diseaseFromSourceMappedId='EFO_0003843'), Row(diseaseFromSourceMappedId='MONDO_0004976'), Row(diseaseFromSourceMappedId='MONDO_0002009'), Row(diseaseFromSourceMappedId='EFO_1001998'), Row(diseaseFromSourceMappedId='EFO_0009492'), Row(diseaseFromSourceMappedId='MONDO_0100096'), Row(diseaseFromSourceMappedId='MONDO_0004975'), Row(diseaseFromSourceMappedId='EFO_0003843'), Row(diseaseFromSourceMappedId='EFO_0003843'), Row(diseaseFromSourceMappedId='EFO_0003758'), Row(diseaseFromSourceMappedId='MONDO_0004992'), Row(diseaseFromSourceMappedId='HP_0000360'), Row(diseaseFromSourceMappedId='EFO_0003877'), Row(diseaseFromSourceMappedId='EFO_0004321'), Row(diseaseFromSourceMappedId='EFO_0007328'), Row(diseaseFromSourceMappedId='MONDO_0005180'), Row(diseaseFromSourceMappedId='EFO_0003843'), Row(diseaseFromSourceMappedId='EFO_0007328'), Row(diseaseFromSourceMappedId='EFO_0003843'), Row(diseaseFromSourceMappedId='EFO_0005762'), Row(diseaseFromSourceMappedId='EFO_0003843'), Row(diseaseFromSourceMappedId='EFO_0003843'), Row(diseaseFromSourceMappedId='EFO_0007634'), Row(diseaseFromSourceMappedId='EFO_0004242'), Row(diseaseFromSourceMappedId='EFO_0003890'), Row(diseaseFromSourceMappedId='EFO_0000694'), Row(diseaseFromSourceMappedId='HP_0012076'), Row(diseaseFromSourceMappedId='EFO_0004329'), Row(diseaseFromSourceMappedId='EFO_0003015'), Row(diseaseFromSourceMappedId='EFO_0001358'), Row(diseaseFromSourceMappedId='MONDO_0002050'), Row(diseaseFromSourceMappedId='MONDO_0024880'), Row(diseaseFromSourceMappedId='EFO_0004242'), Row(diseaseFromSourceMappedId='MONDO_0004985'), Row(diseaseFromSourceMappedId='EFO_0005203'), Row(diseaseFromSourceMappedId='EFO_0000544'), Row(diseaseFromSourceMappedId='MONDO_0000870'), Row(diseaseFromSourceMappedId='HP_0000360'), Row(diseaseFromSourceMappedId='HP_0001082'), Row(diseaseFromSourceMappedId='MONDO_0002009'), Row(diseaseFromSourceMappedId='EFO_1001175'), Row(diseaseFromSourceMappedId='MONDO_0002009'), Row(diseaseFromSourceMappedId='MONDO_0004975'), Row(diseaseFromSourceMappedId='MONDO_0005090'), Row(diseaseFromSourceMappedId='MONDO_0002050'), Row(diseaseFromSourceMappedId='EFO_0003758'), Row(diseaseFromSourceMappedId='EFO_1001402'), Row(diseaseFromSourceMappedId='HP_0030680'), Row(diseaseFromSourceMappedId='MONDO_0007254'), Row(diseaseFromSourceMappedId='EFO_0003843'), Row(diseaseFromSourceMappedId='EFO_0000546'), Row(diseaseFromSourceMappedId='MONDO_0002009'), Row(diseaseFromSourceMappedId='MONDO_0005301'), Row(diseaseFromSourceMappedId='EFO_0007328'), Row(diseaseFromSourceMappedId='MONDO_0007079'), Row(diseaseFromSourceMappedId='EFO_0003843'), Row(diseaseFromSourceMappedId='MONDO_0005180'), Row(diseaseFromSourceMappedId='MONDO_0004992'), Row(diseaseFromSourceMappedId='MONDO_0005180'), Row(diseaseFromSourceMappedId='HP_0002140'), Row(diseaseFromSourceMappedId='MONDO_0007079'), Row(diseaseFromSourceMappedId='EFO_0004320'), Row(diseaseFromSourceMappedId='EFO_0009267'), Row(diseaseFromSourceMappedId='EFO_0009620'), Row(diseaseFromSourceMappedId='MONDO_0002050'), Row(diseaseFromSourceMappedId='MONDO_0007254'), Row(diseaseFromSourceMappedId='MONDO_0005180'), Row(diseaseFromSourceMappedId='MONDO_0002050'), Row(diseaseFromSourceMappedId='EFO_0003768'), Row(diseaseFromSourceMappedId='EFO_0000546'), Row(diseaseFromSourceMappedId='EFO_0005407'), Row(diseaseFromSourceMappedId='MONDO_0000726'), Row(diseaseFromSourceMappedId='HP_0012167'), Row(diseaseFromSourceMappedId='EFO_0007453'), Row(diseaseFromSourceMappedId='MONDO_0007079'), Row(diseaseFromSourceMappedId='EFO_0003843'), Row(diseaseFromSourceMappedId='MONDO_0002009'), Row(diseaseFromSourceMappedId='EFO_0000544'), Row(diseaseFromSourceMappedId='MONDO_0005180'), Row(diseaseFromSourceMappedId='EFO_0009267'), Row(diseaseFromSourceMappedId='EFO_0007328'), Row(diseaseFromSourceMappedId='EFO_0007453'), Row(diseaseFromSourceMappedId='EFO_0003843'), Row(diseaseFromSourceMappedId='EFO_0009267'), Row(diseaseFromSourceMappedId='EFO_0004320'), Row(diseaseFromSourceMappedId='MONDO_0005301'), Row(diseaseFromSourceMappedId='EFO_0000544'), Row(diseaseFromSourceMappedId='MONDO_0004975'), Row(diseaseFromSourceMappedId='MONDO_0005180'), Row(diseaseFromSourceMappedId='MP_0001914'), Row(diseaseFromSourceMappedId='MONDO_0005180'), Row(diseaseFromSourceMappedId='MONDO_0002050'), Row(diseaseFromSourceMappedId='HP_0001300'), Row(diseaseFromSourceMappedId='EFO_0003843'), Row(diseaseFromSourceMappedId='MONDO_0002679'), Row(diseaseFromSourceMappedId='EFO_0007453'), Row(diseaseFromSourceMappedId='MONDO_0002009'), Row(diseaseFromSourceMappedId='MONDO_0002009'), Row(diseaseFromSourceMappedId='MONDO_0002050'), Row(diseaseFromSourceMappedId='EFO_0003843'), Row(diseaseFromSourceMappedId='EFO_1000860'), Row(diseaseFromSourceMappedId='MONDO_0004985'), Row(diseaseFromSourceMappedId='MONDO_0004985'), Row(diseaseFromSourceMappedId='EFO_0003843'), Row(diseaseFromSourceMappedId='EFO_0003761'), Row(diseaseFromSourceMappedId='EFO_0004320'), Row(diseaseFromSourceMappedId='EFO_0003756'), Row(diseaseFromSourceMappedId='EFO_0000712'), Row(diseaseFromSourceMappedId='HP_0003419'), Row(diseaseFromSourceMappedId='EFO_0005762'), Row(diseaseFromSourceMappedId='EFO_1001402'), Row(diseaseFromSourceMappedId='HP_0000360'), Row(diseaseFromSourceMappedId='EFO_0000546'), Row(diseaseFromSourceMappedId='MONDO_0002009'), Row(diseaseFromSourceMappedId='MONDO_0004975'), Row(diseaseFromSourceMappedId='MONDO_0007254'), Row(diseaseFromSourceMappedId='EFO_0003777'), Row(diseaseFromSourceMappedId='MONDO_0002050'), Row(diseaseFromSourceMappedId='MONDO_0005180'), Row(diseaseFromSourceMappedId='MONDO_0004975'), Row(diseaseFromSourceMappedId='EFO_0003843'), Row(diseaseFromSourceMappedId='EFO_0003843'), Row(diseaseFromSourceMappedId='MP_0001914'), Row(diseaseFromSourceMappedId='MONDO_0010383'), Row(diseaseFromSourceMappedId='MONDO_0005180'), Row(diseaseFromSourceMappedId='MONDO_0002009'), Row(diseaseFromSourceMappedId='MONDO_0002009'), Row(diseaseFromSourceMappedId='EFO_0007328'), Row(diseaseFromSourceMappedId='EFO_0000546'), Row(diseaseFromSourceMappedId='EFO_0003768'), Row(diseaseFromSourceMappedId='MONDO_0007739'), Row(diseaseFromSourceMappedId='EFO_0003756'), Row(diseaseFromSourceMappedId='EFO_0001358'), Row(diseaseFromSourceMappedId='MONDO_0005180'), Row(diseaseFromSourceMappedId='EFO_0000544'), Row(diseaseFromSourceMappedId='MONDO_0005180'), Row(diseaseFromSourceMappedId='EFO_0004242'), Row(diseaseFromSourceMappedId='EFO_0008526'), Row(diseaseFromSourceMappedId='EFO_1000860'), Row(diseaseFromSourceMappedId='MONDO_0007079'), Row(diseaseFromSourceMappedId='EFO_0005611'), Row(diseaseFromSourceMappedId='EFO_0002610'), Row(diseaseFromSourceMappedId='HP_0001268'), Row(diseaseFromSourceMappedId='MONDO_0004975'), Row(diseaseFromSourceMappedId='EFO_0005230'), Row(diseaseFromSourceMappedId='EFO_0003843'), Row(diseaseFromSourceMappedId='MONDO_0002009'), Row(diseaseFromSourceMappedId='MONDO_0002050'), Row(diseaseFromSourceMappedId='MONDO_0002050'), Row(diseaseFromSourceMappedId='EFO_0004321'), Row(diseaseFromSourceMappedId='MONDO_0002050'), Row(diseaseFromSourceMappedId='EFO_0001422'), Row(diseaseFromSourceMappedId='MONDO_0002009'), Row(diseaseFromSourceMappedId='EFO_0007328'), Row(diseaseFromSourceMappedId='EFO_0007453'), Row(diseaseFromSourceMappedId='EFO_0003843'), Row(diseaseFromSourceMappedId='EFO_0004242'), Row(diseaseFromSourceMappedId='EFO_0003843'), Row(diseaseFromSourceMappedId='EFO_0007328'), Row(diseaseFromSourceMappedId='EFO_0009854'), Row(diseaseFromSourceMappedId='MONDO_0002009'), Row(diseaseFromSourceMappedId='MONDO_0005180'), Row(diseaseFromSourceMappedId='EFO_0003843'), Row(diseaseFromSourceMappedId='EFO_0007328'), Row(diseaseFromSourceMappedId='EFO_0000544'), Row(diseaseFromSourceMappedId='MONDO_0004975'), Row(diseaseFromSourceMappedId='EFO_0000544'), Row(diseaseFromSourceMappedId='MONDO_0005277'), Row(diseaseFromSourceMappedId='MONDO_0010383'), Row(diseaseFromSourceMappedId='MONDO_0002258'), Row(diseaseFromSourceMappedId='EFO_1001488'), Row(diseaseFromSourceMappedId='MONDO_0002050'), Row(diseaseFromSourceMappedId='EFO_0003843'), Row(diseaseFromSourceMappedId='EFO_0004242'), Row(diseaseFromSourceMappedId='EFO_0003047'), Row(diseaseFromSourceMappedId='EFO_0003843'), Row(diseaseFromSourceMappedId='MONDO_0002009'), Row(diseaseFromSourceMappedId='EFO_0004320'), Row(diseaseFromSourceMappedId='MONDO_0004975'), Row(diseaseFromSourceMappedId='EFO_0002610'), Row(diseaseFromSourceMappedId='EFO_0003843'), Row(diseaseFromSourceMappedId='EFO_0000544'), Row(diseaseFromSourceMappedId='MONDO_0004992'), Row(diseaseFromSourceMappedId='EFO_0003843'), Row(diseaseFromSourceMappedId='EFO_0003843'), Row(diseaseFromSourceMappedId='EFO_0003843'), Row(diseaseFromSourceMappedId='EFO_0004247'), Row(diseaseFromSourceMappedId='EFO_0009963'), Row(diseaseFromSourceMappedId='HP_0000360'), Row(diseaseFromSourceMappedId='EFO_0000544'), Row(diseaseFromSourceMappedId='MONDO_0002009'), Row(diseaseFromSourceMappedId='EFO_0004247'), Row(diseaseFromSourceMappedId='MONDO_0007079'), Row(diseaseFromSourceMappedId='MONDO_0024417'), Row(diseaseFromSourceMappedId='EFO_0005762'), Row(diseaseFromSourceMappedId='MONDO_0005180'), Row(diseaseFromSourceMappedId='EFO_0000544'), Row(diseaseFromSourceMappedId='MONDO_0004985'), Row(diseaseFromSourceMappedId='MONDO_0005090'), Row(diseaseFromSourceMappedId='EFO_0003843'), Row(diseaseFromSourceMappedId='MONDO_0005180'), Row(diseaseFromSourceMappedId='MONDO_0005180'), Row(diseaseFromSourceMappedId='MONDO_0010383'), Row(diseaseFromSourceMappedId='EFO_0003843'), Row(diseaseFromSourceMappedId='MONDO_0002009'), Row(diseaseFromSourceMappedId='EFO_0005762'), Row(diseaseFromSourceMappedId='EFO_0003843'), Row(diseaseFromSourceMappedId='MONDO_0004985'), Row(diseaseFromSourceMappedId='EFO_1001488'), Row(diseaseFromSourceMappedId='MONDO_0004681'), Row(diseaseFromSourceMappedId='MONDO_0005180'), Row(diseaseFromSourceMappedId='EFO_0003890'), Row(diseaseFromSourceMappedId='HP_0012532'), Row(diseaseFromSourceMappedId='MONDO_0002050'), Row(diseaseFromSourceMappedId='EFO_0000544'), Row(diseaseFromSourceMappedId='MONDO_0002009'), Row(diseaseFromSourceMappedId='MONDO_0002050'), Row(diseaseFromSourceMappedId='EFO_1001175'), Row(diseaseFromSourceMappedId='EFO_0003086'), Row(diseaseFromSourceMappedId='EFO_0003843'), Row(diseaseFromSourceMappedId='EFO_0007328'), Row(diseaseFromSourceMappedId='EFO_0007623'), Row(diseaseFromSourceMappedId='MONDO_0002009'), Row(diseaseFromSourceMappedId='EFO_0000712'), Row(diseaseFromSourceMappedId='MONDO_0005180'), Row(diseaseFromSourceMappedId='MONDO_0002050'), Row(diseaseFromSourceMappedId='MONDO_0007079'), Row(diseaseFromSourceMappedId='MONDO_0007079'), Row(diseaseFromSourceMappedId='MONDO_0002009'), Row(diseaseFromSourceMappedId='EFO_0003843'), Row(diseaseFromSourceMappedId='EFO_0005762'), Row(diseaseFromSourceMappedId='EFO_0003843'), Row(diseaseFromSourceMappedId='EFO_0009854'), Row(diseaseFromSourceMappedId='MONDO_0010383'), Row(diseaseFromSourceMappedId='EFO_1000864'), Row(diseaseFromSourceMappedId='EFO_0000544'), Row(diseaseFromSourceMappedId='MONDO_0005180'), Row(diseaseFromSourceMappedId='EFO_0003843'), Row(diseaseFromSourceMappedId='MONDO_0002009'), Row(diseaseFromSourceMappedId='EFO_0009854'), Row(diseaseFromSourceMappedId='EFO_0004242'), Row(diseaseFromSourceMappedId='EFO_0007328'), Row(diseaseFromSourceMappedId='MONDO_0005180'), Row(diseaseFromSourceMappedId='HP_0002315'), Row(diseaseFromSourceMappedId='EFO_0003843'), Row(diseaseFromSourceMappedId='MONDO_0004992'), Row(diseaseFromSourceMappedId='MONDO_0002050'), Row(diseaseFromSourceMappedId='EFO_0003761'), Row(diseaseFromSourceMappedId='EFO_0000544'), Row(diseaseFromSourceMappedId='MONDO_0002050'), Row(diseaseFromSourceMappedId='EFO_0009620'), Row(diseaseFromSourceMappedId='EFO_0007328'), Row(diseaseFromSourceMappedId='EFO_1000860'), Row(diseaseFromSourceMappedId='HP_0000989'), Row(diseaseFromSourceMappedId='EFO_0003843'), Row(diseaseFromSourceMappedId='EFO_0005762'), Row(diseaseFromSourceMappedId='EFO_0003843'), Row(diseaseFromSourceMappedId='EFO_0000546'), Row(diseaseFromSourceMappedId='EFO_0004247'), Row(diseaseFromSourceMappedId='EFO_0003758'), Row(diseaseFromSourceMappedId='EFO_0007453'), Row(diseaseFromSourceMappedId='EFO_0000519'), Row(diseaseFromSourceMappedId='MONDO_0007079'), Row(diseaseFromSourceMappedId='EFO_0003843'), Row(diseaseFromSourceMappedId='EFO_0003843'), Row(diseaseFromSourceMappedId='MONDO_0004985'), Row(diseaseFromSourceMappedId='MONDO_0005090'), Row(diseaseFromSourceMappedId='MONDO_0002050'), Row(diseaseFromSourceMappedId='EFO_1001801'), Row(diseaseFromSourceMappedId='EFO_0003931'), Row(diseaseFromSourceMappedId='EFO_0007623'), Row(diseaseFromSourceMappedId='MONDO_0005180'), Row(diseaseFromSourceMappedId='EFO_0000544'), Row(diseaseFromSourceMappedId='EFO_0000544'), Row(diseaseFromSourceMappedId='MONDO_0005090'), Row(diseaseFromSourceMappedId='EFO_0007328'), Row(diseaseFromSourceMappedId='EFO_0003843'), Row(diseaseFromSourceMappedId='MONDO_0002009'), Row(diseaseFromSourceMappedId='EFO_0003843'), Row(diseaseFromSourceMappedId='MONDO_0024880'), Row(diseaseFromSourceMappedId='MONDO_0002050'), Row(diseaseFromSourceMappedId='MONDO_0002050'), Row(diseaseFromSourceMappedId='EFO_0000544'), Row(diseaseFromSourceMappedId='EFO_0000544'), Row(diseaseFromSourceMappedId='MONDO_0002009'), Row(diseaseFromSourceMappedId='EFO_0003843'), Row(diseaseFromSourceMappedId='MONDO_0010383'), Row(diseaseFromSourceMappedId='EFO_0007453'), Row(diseaseFromSourceMappedId='MONDO_0002038'), Row(diseaseFromSourceMappedId='MONDO_0002009'), Row(diseaseFromSourceMappedId='MONDO_0005090'), Row(diseaseFromSourceMappedId='EFO_0009854'), Row(diseaseFromSourceMappedId='MP_0001914'), Row(diseaseFromSourceMappedId='EFO_0003843'), Row(diseaseFromSourceMappedId='EFO_0003777'), Row(diseaseFromSourceMappedId='EFO_0003843'), Row(diseaseFromSourceMappedId='EFO_0003843'), Row(diseaseFromSourceMappedId='MONDO_0004985'), Row(diseaseFromSourceMappedId='MONDO_0002009'), Row(diseaseFromSourceMappedId='HP_0000360'), Row(diseaseFromSourceMappedId='HP_0001250'), Row(diseaseFromSourceMappedId='EFO_1001801'), Row(diseaseFromSourceMappedId='MONDO_0004975'), Row(diseaseFromSourceMappedId='MONDO_0005180'), Row(diseaseFromSourceMappedId='EFO_0001645'), Row(diseaseFromSourceMappedId='EFO_0007328'), Row(diseaseFromSourceMappedId='MONDO_0002050'), Row(diseaseFromSourceMappedId='MONDO_0007079'), Row(diseaseFromSourceMappedId='MONDO_0004985'), Row(diseaseFromSourceMappedId='EFO_0007328'), Row(diseaseFromSourceMappedId='EFO_0007453'), Row(diseaseFromSourceMappedId='MONDO_0007079'), Row(diseaseFromSourceMappedId='EFO_0005611'), Row(diseaseFromSourceMappedId='MONDO_0002009'), Row(diseaseFromSourceMappedId='MONDO_0005180'), Row(diseaseFromSourceMappedId='MONDO_0007079'), Row(diseaseFromSourceMappedId='MONDO_0005180'), Row(diseaseFromSourceMappedId='EFO_0003843'), Row(diseaseFromSourceMappedId='MONDO_0005090'), Row(diseaseFromSourceMappedId='EFO_0003843'), Row(diseaseFromSourceMappedId='MONDO_0002009'), Row(diseaseFromSourceMappedId='HP_0000360'), Row(diseaseFromSourceMappedId='MONDO_0002009'), Row(diseaseFromSourceMappedId='EFO_0003843'), Row(diseaseFromSourceMappedId='EFO_0007328'), Row(diseaseFromSourceMappedId='EFO_0000546'), Row(diseaseFromSourceMappedId='MONDO_0002009'), Row(diseaseFromSourceMappedId='EFO_0003843'), Row(diseaseFromSourceMappedId='EFO_0003843'), Row(diseaseFromSourceMappedId='HP_0000360'), Row(diseaseFromSourceMappedId='MONDO_0043510'), Row(diseaseFromSourceMappedId='EFO_0007328'), Row(diseaseFromSourceMappedId='MONDO_0004975'), Row(diseaseFromSourceMappedId='EFO_0003843'), Row(diseaseFromSourceMappedId='MONDO_0043510'), Row(diseaseFromSourceMappedId='MONDO_0005180'), Row(diseaseFromSourceMappedId='EFO_0000546'), Row(diseaseFromSourceMappedId='EFO_0000677'), Row(diseaseFromSourceMappedId='EFO_0003843'), Row(diseaseFromSourceMappedId='MONDO_0024880'), Row(diseaseFromSourceMappedId='EFO_0007328'), Row(diseaseFromSourceMappedId='EFO_0004242'), Row(diseaseFromSourceMappedId='EFO_0003843'), Row(diseaseFromSourceMappedId='EFO_0008526'), Row(diseaseFromSourceMappedId='EFO_0007328'), Row(diseaseFromSourceMappedId='EFO_0000512'), Row(diseaseFromSourceMappedId='EFO_0003843'), Row(diseaseFromSourceMappedId='HP_0000713'), Row(diseaseFromSourceMappedId='MONDO_0005090'), Row(diseaseFromSourceMappedId='EFO_0003843'), Row(diseaseFromSourceMappedId='EFO_0007328'), Row(diseaseFromSourceMappedId='EFO_0003047'), Row(diseaseFromSourceMappedId='EFO_1000860'), Row(diseaseFromSourceMappedId='MONDO_0005301'), Row(diseaseFromSourceMappedId='EFO_0004190'), Row(diseaseFromSourceMappedId='EFO_0003758'), Row(diseaseFromSourceMappedId='EFO_0000544'), Row(diseaseFromSourceMappedId='EFO_0003843'), Row(diseaseFromSourceMappedId='EFO_1001917'), Row(diseaseFromSourceMappedId='EFO_0007634'), Row(diseaseFromSourceMappedId='MONDO_0043510'), Row(diseaseFromSourceMappedId='MONDO_0004975'), Row(diseaseFromSourceMappedId='MONDO_0011382'), Row(diseaseFromSourceMappedId='MONDO_0007079'), Row(diseaseFromSourceMappedId='EFO_0003843'), Row(diseaseFromSourceMappedId='EFO_0003843'), Row(diseaseFromSourceMappedId='EFO_1001998'), Row(diseaseFromSourceMappedId='EFO_0003843'), Row(diseaseFromSourceMappedId='HP_0003419'), Row(diseaseFromSourceMappedId='MONDO_0004985'), Row(diseaseFromSourceMappedId='EFO_0009658'), Row(diseaseFromSourceMappedId='EFO_1000637'), Row(diseaseFromSourceMappedId='EFO_0000544'), Row(diseaseFromSourceMappedId='EFO_0000544'), Row(diseaseFromSourceMappedId='EFO_0003843'), Row(diseaseFromSourceMappedId='EFO_0007328'), Row(diseaseFromSourceMappedId='EFO_0007328'), Row(diseaseFromSourceMappedId='MONDO_0011382'), Row(diseaseFromSourceMappedId='MONDO_0005180'), Row(diseaseFromSourceMappedId='MONDO_0011382'), Row(diseaseFromSourceMappedId='HP_0100543'), Row(diseaseFromSourceMappedId='EFO_0003843'), Row(diseaseFromSourceMappedId='MONDO_0002009'), Row(diseaseFromSourceMappedId='HP_0000713'), Row(diseaseFromSourceMappedId='EFO_1000860'), Row(diseaseFromSourceMappedId='MONDO_0004992'), Row(diseaseFromSourceMappedId='EFO_1001917'), Row(diseaseFromSourceMappedId='MONDO_0007079'), Row(diseaseFromSourceMappedId='EFO_0011057'), Row(diseaseFromSourceMappedId='EFO_0007328'), Row(diseaseFromSourceMappedId='HP_0001082'), Row(diseaseFromSourceMappedId='MONDO_0005180'), Row(diseaseFromSourceMappedId='EFO_0003843'), Row(diseaseFromSourceMappedId='EFO_0004320'), Row(diseaseFromSourceMappedId='HP_0002140'), Row(diseaseFromSourceMappedId='MONDO_0043510'), Row(diseaseFromSourceMappedId='EFO_0000546'), Row(diseaseFromSourceMappedId='EFO_0000546'), Row(diseaseFromSourceMappedId='EFO_0003843'), Row(diseaseFromSourceMappedId='MONDO_0005180'), Row(diseaseFromSourceMappedId='EFO_0009386'), Row(diseaseFromSourceMappedId='EFO_0003843'), Row(diseaseFromSourceMappedId='EFO_0005230'), Row(diseaseFromSourceMappedId='EFO_0003843'), Row(diseaseFromSourceMappedId='EFO_0007328'), Row(diseaseFromSourceMappedId='MONDO_0004985'), Row(diseaseFromSourceMappedId='EFO_0006834'), Row(diseaseFromSourceMappedId='MONDO_0004975'), Row(diseaseFromSourceMappedId='MONDO_0002009'), Row(diseaseFromSourceMappedId='EFO_0000544'), Row(diseaseFromSourceMappedId='MONDO_0002038'), Row(diseaseFromSourceMappedId='EFO_0007328'), Row(diseaseFromSourceMappedId='MONDO_0002050'), Row(diseaseFromSourceMappedId='EFO_0001358'), Row(diseaseFromSourceMappedId='MONDO_0004975'), Row(diseaseFromSourceMappedId='EFO_0005323'), Row(diseaseFromSourceMappedId='EFO_0009854'), Row(diseaseFromSourceMappedId='EFO_0007328'), Row(diseaseFromSourceMappedId='MONDO_0005180'), Row(diseaseFromSourceMappedId='MONDO_0002050'), Row(diseaseFromSourceMappedId='HP_0002315'), Row(diseaseFromSourceMappedId='MONDO_0004975'), Row(diseaseFromSourceMappedId='EFO_0007328'), Row(diseaseFromSourceMappedId='HP_0001337'), Row(diseaseFromSourceMappedId='MONDO_0005180'), Row(diseaseFromSourceMappedId='EFO_0005762'), Row(diseaseFromSourceMappedId='EFO_0002610'), Row(diseaseFromSourceMappedId='EFO_0000546'), Row(diseaseFromSourceMappedId='MONDO_0002050'), Row(diseaseFromSourceMappedId='EFO_0007328'), Row(diseaseFromSourceMappedId='HP_0002381'), Row(diseaseFromSourceMappedId='EFO_1000860'), Row(diseaseFromSourceMappedId='EFO_1001175'), Row(diseaseFromSourceMappedId='EFO_0009854'), Row(diseaseFromSourceMappedId='EFO_0009386'), Row(diseaseFromSourceMappedId='MONDO_0005180'), Row(diseaseFromSourceMappedId='HP_0001300'), Row(diseaseFromSourceMappedId='EFO_0007328'), Row(diseaseFromSourceMappedId='EFO_1001210'), Row(diseaseFromSourceMappedId='MONDO_0007079'), Row(diseaseFromSourceMappedId='EFO_0003756'), Row(diseaseFromSourceMappedId='MONDO_0004975'), Row(diseaseFromSourceMappedId='EFO_0000712'), Row(diseaseFromSourceMappedId='EFO_0003843'), Row(diseaseFromSourceMappedId='EFO_1001210'), Row(diseaseFromSourceMappedId='MONDO_0004976'), Row(diseaseFromSourceMappedId='MONDO_0002050'), Row(diseaseFromSourceMappedId='EFO_0000677'), Row(diseaseFromSourceMappedId='EFO_0007623'), Row(diseaseFromSourceMappedId='MONDO_0005180'), Row(diseaseFromSourceMappedId='MONDO_0005180'), Row(diseaseFromSourceMappedId='MONDO_0007079'), Row(diseaseFromSourceMappedId='EFO_0000474'), Row(diseaseFromSourceMappedId='MONDO_0005180'), Row(diseaseFromSourceMappedId='EFO_0004242'), Row(diseaseFromSourceMappedId='EFO_0007623'), Row(diseaseFromSourceMappedId='EFO_1001210'), Row(diseaseFromSourceMappedId='EFO_0009620'), Row(diseaseFromSourceMappedId='MONDO_0002050'), Row(diseaseFromSourceMappedId='EFO_0003843'), Row(diseaseFromSourceMappedId='EFO_0004242'), Row(diseaseFromSourceMappedId='EFO_0007328'), Row(diseaseFromSourceMappedId='EFO_0009658'), Row(diseaseFromSourceMappedId='MONDO_0002009'), Row(diseaseFromSourceMappedId='HP_0001268'), Row(diseaseFromSourceMappedId='MONDO_0004985'), Row(diseaseFromSourceMappedId='EFO_0003931'), Row(diseaseFromSourceMappedId='EFO_0000544'), Row(diseaseFromSourceMappedId='EFO_0003047'), Row(diseaseFromSourceMappedId='MONDO_0005180'), Row(diseaseFromSourceMappedId='EFO_0003843'), Row(diseaseFromSourceMappedId='MONDO_0002009'), Row(diseaseFromSourceMappedId='EFO_0003843'), Row(diseaseFromSourceMappedId='HP_0000360'), Row(diseaseFromSourceMappedId='MONDO_0007079'), Row(diseaseFromSourceMappedId='MONDO_0005090'), Row(diseaseFromSourceMappedId='EFO_0004320'), Row(diseaseFromSourceMappedId='EFO_0004242'), Row(diseaseFromSourceMappedId='EFO_0000544'), Row(diseaseFromSourceMappedId='MONDO_0004992'), Row(diseaseFromSourceMappedId='MONDO_0004975'), Row(diseaseFromSourceMappedId='MONDO_0007739'), Row(diseaseFromSourceMappedId='EFO_0003086'), Row(diseaseFromSourceMappedId='MONDO_0002050'), Row(diseaseFromSourceMappedId='MONDO_0005180'), Row(diseaseFromSourceMappedId='MONDO_0004975'), Row(diseaseFromSourceMappedId='EFO_1000860'), Row(diseaseFromSourceMappedId='MONDO_0005090'), Row(diseaseFromSourceMappedId='EFO_0009963'), Row(diseaseFromSourceMappedId='MONDO_0002050'), Row(diseaseFromSourceMappedId='MONDO_0002050'), Row(diseaseFromSourceMappedId='MONDO_0005090'), Row(diseaseFromSourceMappedId='MONDO_0005180'), Row(diseaseFromSourceMappedId='EFO_0000544'), Row(diseaseFromSourceMappedId='HP_0003419'), Row(diseaseFromSourceMappedId='MONDO_0005148'), Row(diseaseFromSourceMappedId='HP_0012378'), Row(diseaseFromSourceMappedId='EFO_1001402'), Row(diseaseFromSourceMappedId='EFO_1001465'), Row(diseaseFromSourceMappedId='MONDO_0002050'), Row(diseaseFromSourceMappedId='EFO_1001488'), Row(diseaseFromSourceMappedId='MONDO_0005180'), Row(diseaseFromSourceMappedId='MONDO_0005180'), Row(diseaseFromSourceMappedId='EFO_0004321'), Row(diseaseFromSourceMappedId='EFO_0003843'), Row(diseaseFromSourceMappedId='MONDO_0002050'), Row(diseaseFromSourceMappedId='MONDO_0005180'), Row(diseaseFromSourceMappedId='MONDO_0007915'), Row(diseaseFromSourceMappedId='MONDO_0004975'), Row(diseaseFromSourceMappedId='EFO_0000544'), Row(diseaseFromSourceMappedId='EFO_0003890'), Row(diseaseFromSourceMappedId='EFO_0009267'), Row(diseaseFromSourceMappedId='EFO_0002610'), Row(diseaseFromSourceMappedId='MP_0001914'), Row(diseaseFromSourceMappedId='MONDO_0004975'), Row(diseaseFromSourceMappedId='MONDO_0004975'), Row(diseaseFromSourceMappedId='EFO_0009854'), Row(diseaseFromSourceMappedId='MONDO_0002050'), Row(diseaseFromSourceMappedId='EFO_0003761'), Row(diseaseFromSourceMappedId='EFO_0005407'), Row(diseaseFromSourceMappedId='EFO_0003819'), Row(diseaseFromSourceMappedId='MONDO_0005277'), Row(diseaseFromSourceMappedId='MONDO_0007079'), Row(diseaseFromSourceMappedId='EFO_0005411'), Row(diseaseFromSourceMappedId='EFO_0000474'), Row(diseaseFromSourceMappedId='MONDO_0004975'), Row(diseaseFromSourceMappedId='MONDO_0100096'), Row(diseaseFromSourceMappedId='HP_0000713'), Row(diseaseFromSourceMappedId='MONDO_0005180'), Row(diseaseFromSourceMappedId='MONDO_0005148'), Row(diseaseFromSourceMappedId='EFO_0000546'), Row(diseaseFromSourceMappedId='MONDO_0007079'), Row(diseaseFromSourceMappedId='MONDO_0004975'), Row(diseaseFromSourceMappedId='MONDO_0002009'), Row(diseaseFromSourceMappedId='EFO_1001175'), Row(diseaseFromSourceMappedId='MONDO_0002050'), Row(diseaseFromSourceMappedId='EFO_0000544'), Row(diseaseFromSourceMappedId='EFO_0801084'), Row(diseaseFromSourceMappedId='EFO_0005407'), Row(diseaseFromSourceMappedId='MONDO_0005180'), Row(diseaseFromSourceMappedId='EFO_0000544'), Row(diseaseFromSourceMappedId='EFO_0000677'), Row(diseaseFromSourceMappedId='EFO_1001898'), Row(diseaseFromSourceMappedId='MONDO_0004975'), Row(diseaseFromSourceMappedId='MONDO_0002009'), Row(diseaseFromSourceMappedId='MONDO_0005180'), Row(diseaseFromSourceMappedId='EFO_0003843'), Row(diseaseFromSourceMappedId='EFO_0000713'), Row(diseaseFromSourceMappedId='MONDO_0002009'), Row(diseaseFromSourceMappedId='EFO_0003843'), Row(diseaseFromSourceMappedId='MONDO_0002009'), Row(diseaseFromSourceMappedId='MONDO_0002009'), Row(diseaseFromSourceMappedId='EFO_0007328'), Row(diseaseFromSourceMappedId='MONDO_0005180'), Row(diseaseFromSourceMappedId='EFO_1001998'), Row(diseaseFromSourceMappedId='EFO_0001074'), Row(diseaseFromSourceMappedId='EFO_0009516'), Row(diseaseFromSourceMappedId='HP_0002315'), Row(diseaseFromSourceMappedId='HP_0012167'), Row(diseaseFromSourceMappedId='HP_0004372'), Row(diseaseFromSourceMappedId='MONDO_0005180'), Row(diseaseFromSourceMappedId='EFO_0003843'), Row(diseaseFromSourceMappedId='EFO_0000544'), Row(diseaseFromSourceMappedId='MONDO_0010383'), Row(diseaseFromSourceMappedId='MONDO_0002009'), Row(diseaseFromSourceMappedId='EFO_0000544'), Row(diseaseFromSourceMappedId='EFO_0007328'), Row(diseaseFromSourceMappedId='EFO_0007328'), Row(diseaseFromSourceMappedId='EFO_0003843'), Row(diseaseFromSourceMappedId='EFO_0003843'), Row(diseaseFromSourceMappedId='MONDO_0005148'), Row(diseaseFromSourceMappedId='EFO_0003843'), Row(diseaseFromSourceMappedId='MONDO_0004975'), Row(diseaseFromSourceMappedId='MONDO_0005090'), Row(diseaseFromSourceMappedId='EFO_1001998'), Row(diseaseFromSourceMappedId='MONDO_0005180'), Row(diseaseFromSourceMappedId='MONDO_0002050'), Row(diseaseFromSourceMappedId='EFO_0005411'), Row(diseaseFromSourceMappedId='MONDO_0004985'), Row(diseaseFromSourceMappedId='MONDO_0007079'), Row(diseaseFromSourceMappedId='EFO_0003777'), Row(diseaseFromSourceMappedId='EFO_0000546'), Row(diseaseFromSourceMappedId='EFO_0003843'), Row(diseaseFromSourceMappedId='EFO_0004320'), Row(diseaseFromSourceMappedId='MONDO_0005180'), Row(diseaseFromSourceMappedId='EFO_0007328'), Row(diseaseFromSourceMappedId='MONDO_0002050'), Row(diseaseFromSourceMappedId='EFO_0007453'), Row(diseaseFromSourceMappedId='EFO_0000544'), Row(diseaseFromSourceMappedId='MONDO_0005180'), Row(diseaseFromSourceMappedId='EFO_1001898'), Row(diseaseFromSourceMappedId='MONDO_0002009'), Row(diseaseFromSourceMappedId='HP_0000360'), Row(diseaseFromSourceMappedId='MONDO_0007254'), Row(diseaseFromSourceMappedId='MONDO_0002009'), Row(diseaseFromSourceMappedId='EFO_0009963'), Row(diseaseFromSourceMappedId='MONDO_0005180'), Row(diseaseFromSourceMappedId='MONDO_0002050'), Row(diseaseFromSourceMappedId='EFO_0007328'), Row(diseaseFromSourceMappedId='MONDO_0002009'), Row(diseaseFromSourceMappedId='EFO_0007328'), Row(diseaseFromSourceMappedId='MONDO_0002050'), Row(diseaseFromSourceMappedId='EFO_0000712'), Row(diseaseFromSourceMappedId='MONDO_0002070'), Row(diseaseFromSourceMappedId='EFO_0003843'), Row(diseaseFromSourceMappedId='MONDO_0005180'), Row(diseaseFromSourceMappedId='EFO_0000474'), Row(diseaseFromSourceMappedId='EFO_0007328'), Row(diseaseFromSourceMappedId='MONDO_0002050'), Row(diseaseFromSourceMappedId='EFO_1000860'), Row(diseaseFromSourceMappedId='MONDO_0010383'), Row(diseaseFromSourceMappedId='EFO_0005611'), Row(diseaseFromSourceMappedId='EFO_0003758'), Row(diseaseFromSourceMappedId='MONDO_0004985'), Row(diseaseFromSourceMappedId='EFO_0003931'), Row(diseaseFromSourceMappedId='MONDO_0004976'), Row(diseaseFromSourceMappedId='EFO_0005411'), Row(diseaseFromSourceMappedId='EFO_0009963'), Row(diseaseFromSourceMappedId='MONDO_0005180'), Row(diseaseFromSourceMappedId='MONDO_0005180'), Row(diseaseFromSourceMappedId='MONDO_0004975'), Row(diseaseFromSourceMappedId='EFO_0000544'), Row(diseaseFromSourceMappedId='MONDO_0002050'), Row(diseaseFromSourceMappedId='EFO_0002610'), Row(diseaseFromSourceMappedId='MONDO_0007079'), Row(diseaseFromSourceMappedId='MONDO_0002050'), Row(diseaseFromSourceMappedId='HP_0000360'), Row(diseaseFromSourceMappedId='EFO_0007328'), Row(diseaseFromSourceMappedId='EFO_0003843'), Row(diseaseFromSourceMappedId='EFO_0007328'), Row(diseaseFromSourceMappedId='EFO_0003888'), Row(diseaseFromSourceMappedId='MONDO_0002009'), Row(diseaseFromSourceMappedId='MONDO_0007079'), Row(diseaseFromSourceMappedId='MONDO_0005180'), Row(diseaseFromSourceMappedId='HP_0012532'), Row(diseaseFromSourceMappedId='MONDO_0004975'), Row(diseaseFromSourceMappedId='EFO_0003843'), Row(diseaseFromSourceMappedId='HP_0002381'), Row(diseaseFromSourceMappedId='HP_0002140'), Row(diseaseFromSourceMappedId='EFO_1001175'), Row(diseaseFromSourceMappedId='MONDO_0004975'), Row(diseaseFromSourceMappedId='MONDO_0007079'), Row(diseaseFromSourceMappedId='EFO_1001402'), Row(diseaseFromSourceMappedId='EFO_1000860'), Row(diseaseFromSourceMappedId='EFO_0009267'), Row(diseaseFromSourceMappedId='EFO_0003843'), Row(diseaseFromSourceMappedId='MONDO_0005180'), Row(diseaseFromSourceMappedId='EFO_1001488'), Row(diseaseFromSourceMappedId='MONDO_0005301'), Row(diseaseFromSourceMappedId='HP_0012532'), Row(diseaseFromSourceMappedId='MONDO_0002050'), Row(diseaseFromSourceMappedId='EFO_1001402'), Row(diseaseFromSourceMappedId='MONDO_0005180'), Row(diseaseFromSourceMappedId='HP_0003419'), Row(diseaseFromSourceMappedId='HP_0012532'), Row(diseaseFromSourceMappedId='HP_0012532'), Row(diseaseFromSourceMappedId='MONDO_0005180'), Row(diseaseFromSourceMappedId='MONDO_0005180'), Row(diseaseFromSourceMappedId='EFO_0009854'), Row(diseaseFromSourceMappedId='EFO_0002460'), Row(diseaseFromSourceMappedId='EFO_0003843'), Row(diseaseFromSourceMappedId='EFO_0003768'), Row(diseaseFromSourceMappedId='EFO_0009854'), Row(diseaseFromSourceMappedId='EFO_0000712'), Row(diseaseFromSourceMappedId='MONDO_0002009'), Row(diseaseFromSourceMappedId='HP_0000360'), Row(diseaseFromSourceMappedId='HP_0012532'), Row(diseaseFromSourceMappedId='MONDO_0004975'), Row(diseaseFromSourceMappedId='EFO_0003833'), Row(diseaseFromSourceMappedId='MONDO_0005180'), Row(diseaseFromSourceMappedId='EFO_0003931'), Row(diseaseFromSourceMappedId='MONDO_0002050'), Row(diseaseFromSourceMappedId='MONDO_0007079'), Row(diseaseFromSourceMappedId='EFO_0003843'), Row(diseaseFromSourceMappedId='MONDO_0005180'), Row(diseaseFromSourceMappedId='EFO_0003833'), Row(diseaseFromSourceMappedId='EFO_0002610'), Row(diseaseFromSourceMappedId='EFO_0005230'), Row(diseaseFromSourceMappedId='EFO_0003843'), Row(diseaseFromSourceMappedId='MONDO_0002050'), Row(diseaseFromSourceMappedId='MONDO_0011382'), Row(diseaseFromSourceMappedId='MONDO_0002009'), Row(diseaseFromSourceMappedId='EFO_0003758'), Row(diseaseFromSourceMappedId='MONDO_0002009'), Row(diseaseFromSourceMappedId='EFO_0000544'), Row(diseaseFromSourceMappedId='MONDO_0004976'), Row(diseaseFromSourceMappedId='MONDO_0002050'), Row(diseaseFromSourceMappedId='EFO_0003843'), Row(diseaseFromSourceMappedId='EFO_1001488'), Row(diseaseFromSourceMappedId='EFO_0003931'), Row(diseaseFromSourceMappedId='MONDO_0002009'), Row(diseaseFromSourceMappedId='HP_0012532'), Row(diseaseFromSourceMappedId='EFO_0000544'), Row(diseaseFromSourceMappedId='MONDO_0004975'), Row(diseaseFromSourceMappedId='HP_0001082'), Row(diseaseFromSourceMappedId='MONDO_0005090'), Row(diseaseFromSourceMappedId='MONDO_0004975'), Row(diseaseFromSourceMappedId='EFO_0009963'), Row(diseaseFromSourceMappedId='HP_0000360'), Row(diseaseFromSourceMappedId='EFO_0003761'), Row(diseaseFromSourceMappedId='EFO_0003761'), Row(diseaseFromSourceMappedId='MONDO_0005180'), Row(diseaseFromSourceMappedId='MONDO_0002009'), Row(diseaseFromSourceMappedId='EFO_0004242'), Row(diseaseFromSourceMappedId='EFO_1000860'), Row(diseaseFromSourceMappedId='EFO_0003761'), Row(diseaseFromSourceMappedId='EFO_0003843'), Row(diseaseFromSourceMappedId='MONDO_0002050'), Row(diseaseFromSourceMappedId='MONDO_0004975'), Row(diseaseFromSourceMappedId='EFO_1001175'), Row(diseaseFromSourceMappedId='EFO_0002610'), Row(diseaseFromSourceMappedId='MONDO_0041052'), Row(diseaseFromSourceMappedId='EFO_0003843'), Row(diseaseFromSourceMappedId='EFO_0005762'), Row(diseaseFromSourceMappedId='EFO_0003843'), Row(diseaseFromSourceMappedId='MONDO_0002009'), Row(diseaseFromSourceMappedId='EFO_0003768'), Row(diseaseFromSourceMappedId='EFO_0003843'), Row(diseaseFromSourceMappedId='MONDO_0002050'), Row(diseaseFromSourceMappedId='EFO_0005762'), Row(diseaseFromSourceMappedId='EFO_0003843'), Row(diseaseFromSourceMappedId='HP_0000360'), Row(diseaseFromSourceMappedId='EFO_0003761'), Row(diseaseFromSourceMappedId='MONDO_0002009'), Row(diseaseFromSourceMappedId='MONDO_0043510'), Row(diseaseFromSourceMappedId='EFO_0000546'), Row(diseaseFromSourceMappedId='EFO_0000544'), Row(diseaseFromSourceMappedId='MONDO_0002050'), Row(diseaseFromSourceMappedId='EFO_0007328'), Row(diseaseFromSourceMappedId='EFO_0005323'), Row(diseaseFromSourceMappedId='EFO_0009386'), Row(diseaseFromSourceMappedId='MONDO_0002050'), Row(diseaseFromSourceMappedId='MONDO_0005129'), Row(diseaseFromSourceMappedId='MONDO_0007079'), Row(diseaseFromSourceMappedId='EFO_0007430'), Row(diseaseFromSourceMappedId='MONDO_0000726'), Row(diseaseFromSourceMappedId='EFO_0007328'), Row(diseaseFromSourceMappedId='EFO_0001358'), Row(diseaseFromSourceMappedId='EFO_0000519'), Row(diseaseFromSourceMappedId='EFO_0007191'), Row(diseaseFromSourceMappedId='EFO_0004190'), Row(diseaseFromSourceMappedId='EFO_0000677'), Row(diseaseFromSourceMappedId='MONDO_0002009'), Row(diseaseFromSourceMappedId='EFO_0003843'), Row(diseaseFromSourceMappedId='EFO_0003843'), Row(diseaseFromSourceMappedId='HP_0000989'), Row(diseaseFromSourceMappedId='MONDO_0004985'), Row(diseaseFromSourceMappedId='MONDO_0024880'), Row(diseaseFromSourceMappedId='MONDO_0004985'), Row(diseaseFromSourceMappedId='MONDO_0005090'), Row(diseaseFromSourceMappedId='MONDO_0002009'), Row(diseaseFromSourceMappedId='EFO_0020000'), Row(diseaseFromSourceMappedId='MONDO_0005180'), Row(diseaseFromSourceMappedId='MONDO_0002009'), Row(diseaseFromSourceMappedId='HP_0001268'), Row(diseaseFromSourceMappedId='EFO_0007328'), Row(diseaseFromSourceMappedId='EFO_0001072'), Row(diseaseFromSourceMappedId='MONDO_0002280'), Row(diseaseFromSourceMappedId='EFO_0007328'), Row(diseaseFromSourceMappedId='MONDO_0004975'), Row(diseaseFromSourceMappedId='HP_0000360'), Row(diseaseFromSourceMappedId='EFO_0007328'), Row(diseaseFromSourceMappedId='EFO_0001358'), Row(diseaseFromSourceMappedId='EFO_0007328'), Row(diseaseFromSourceMappedId='EFO_0001358'), Row(diseaseFromSourceMappedId='EFO_0001358'), Row(diseaseFromSourceMappedId='HP_0000360'), Row(diseaseFromSourceMappedId='MONDO_0005180'), Row(diseaseFromSourceMappedId='EFO_0001361'), Row(diseaseFromSourceMappedId='EFO_1000637'), Row(diseaseFromSourceMappedId='MONDO_0007079'), Row(diseaseFromSourceMappedId='EFO_0003843'), Row(diseaseFromSourceMappedId='EFO_0001358'), Row(diseaseFromSourceMappedId='EFO_0000546'), Row(diseaseFromSourceMappedId='EFO_0004240'), Row(diseaseFromSourceMappedId='EFO_0007328'), Row(diseaseFromSourceMappedId='MONDO_0007079'), Row(diseaseFromSourceMappedId='MONDO_0005301'), Row(diseaseFromSourceMappedId='EFO_0004701'), Row(diseaseFromSourceMappedId='EFO_0003839'), Row(diseaseFromSourceMappedId='HP_0000360'), Row(diseaseFromSourceMappedId='EFO_0003843'), Row(diseaseFromSourceMappedId='EFO_0003843'), Row(diseaseFromSourceMappedId='EFO_1001219'), Row(diseaseFromSourceMappedId='MONDO_0007079'), Row(diseaseFromSourceMappedId='EFO_0000713'), Row(diseaseFromSourceMappedId='HP_0002381'), Row(diseaseFromSourceMappedId='MONDO_0005180'), Row(diseaseFromSourceMappedId='EFO_0000544'), Row(diseaseFromSourceMappedId='EFO_0007328'), Row(diseaseFromSourceMappedId='MONDO_0002009'), Row(diseaseFromSourceMappedId='MONDO_0005180'), Row(diseaseFromSourceMappedId='MONDO_0002050'), Row(diseaseFromSourceMappedId='EFO_0007328'), Row(diseaseFromSourceMappedId='MONDO_0004976'), Row(diseaseFromSourceMappedId='MONDO_0002009'), Row(diseaseFromSourceMappedId='EFO_0003843'), Row(diseaseFromSourceMappedId='EFO_0006834'), Row(diseaseFromSourceMappedId='EFO_1001884'), Row(diseaseFromSourceMappedId='MONDO_0004975'), Row(diseaseFromSourceMappedId='EFO_1001491'), Row(diseaseFromSourceMappedId='EFO_0003768'), Row(diseaseFromSourceMappedId='HP_0000360'), Row(diseaseFromSourceMappedId='EFO_0004320'), Row(diseaseFromSourceMappedId='EFO_0003890'), Row(diseaseFromSourceMappedId='HP_0012532'), Row(diseaseFromSourceMappedId='EFO_0007328'), Row(diseaseFromSourceMappedId='EFO_1001175'), Row(diseaseFromSourceMappedId='EFO_0003843'), Row(diseaseFromSourceMappedId='EFO_0005762'), Row(diseaseFromSourceMappedId='MONDO_0002050'), Row(diseaseFromSourceMappedId='MONDO_0005090'), Row(diseaseFromSourceMappedId='EFO_0004888'), Row(diseaseFromSourceMappedId='EFO_0020000'), Row(diseaseFromSourceMappedId='MONDO_0002009'), Row(diseaseFromSourceMappedId='MONDO_0002009'), Row(diseaseFromSourceMappedId='EFO_0003843'), Row(diseaseFromSourceMappedId='EFO_0005407'), Row(diseaseFromSourceMappedId='MONDO_0004975'), Row(diseaseFromSourceMappedId='MONDO_0004976'), Row(diseaseFromSourceMappedId='MONDO_0002050'), Row(diseaseFromSourceMappedId='EFO_0007623'), Row(diseaseFromSourceMappedId='MONDO_0002009'), Row(diseaseFromSourceMappedId='HP_0030680'), Row(diseaseFromSourceMappedId='EFO_0009552'), Row(diseaseFromSourceMappedId='MONDO_0004975'), Row(diseaseFromSourceMappedId='MONDO_0007079'), Row(diseaseFromSourceMappedId='EFO_0004320'), Row(diseaseFromSourceMappedId='EFO_0004320'), Row(diseaseFromSourceMappedId='MONDO_0002009'), Row(diseaseFromSourceMappedId='EFO_0003086'), Row(diseaseFromSourceMappedId='EFO_1001488'), Row(diseaseFromSourceMappedId='MONDO_0002050'), Row(diseaseFromSourceMappedId='MONDO_0002050'), Row(diseaseFromSourceMappedId='EFO_0005230'), Row(diseaseFromSourceMappedId='EFO_1001488'), Row(diseaseFromSourceMappedId='EFO_1001210'), Row(diseaseFromSourceMappedId='EFO_0005411'), Row(diseaseFromSourceMappedId='EFO_0003843'), Row(diseaseFromSourceMappedId='MONDO_0002050'), Row(diseaseFromSourceMappedId='EFO_1000632'), Row(diseaseFromSourceMappedId='MONDO_0002280'), Row(diseaseFromSourceMappedId='MONDO_0001208'), Row(diseaseFromSourceMappedId='EFO_0003843'), Row(diseaseFromSourceMappedId='EFO_0003843'), Row(diseaseFromSourceMappedId='MONDO_0002050'), Row(diseaseFromSourceMappedId='EFO_1001175'), Row(diseaseFromSourceMappedId='EFO_0004320'), Row(diseaseFromSourceMappedId='EFO_1001402'), Row(diseaseFromSourceMappedId='MONDO_0007079'), Row(diseaseFromSourceMappedId='EFO_0005611'), Row(diseaseFromSourceMappedId='MONDO_0004985'), Row(diseaseFromSourceMappedId='EFO_0003843'), Row(diseaseFromSourceMappedId='EFO_0007328'), Row(diseaseFromSourceMappedId='EFO_0003843'), Row(diseaseFromSourceMappedId='EFO_1001801'), Row(diseaseFromSourceMappedId='EFO_0003047'), Row(diseaseFromSourceMappedId='EFO_0003843'), Row(diseaseFromSourceMappedId='MONDO_0004975'), Row(diseaseFromSourceMappedId='EFO_0009620'), Row(diseaseFromSourceMappedId='EFO_0000546'), Row(diseaseFromSourceMappedId='EFO_0003843'), Row(diseaseFromSourceMappedId='EFO_0009658'), Row(diseaseFromSourceMappedId='MONDO_0002070'), Row(diseaseFromSourceMappedId='MONDO_0004975'), Row(diseaseFromSourceMappedId='MONDO_0002050'), Row(diseaseFromSourceMappedId='MONDO_0004992'), Row(diseaseFromSourceMappedId='EFO_0000546'), Row(diseaseFromSourceMappedId='EFO_0003890'), Row(diseaseFromSourceMappedId='EFO_0000544'), Row(diseaseFromSourceMappedId='MONDO_0007079'), Row(diseaseFromSourceMappedId='MONDO_0002009'), Row(diseaseFromSourceMappedId='EFO_0003957'), Row(diseaseFromSourceMappedId='EFO_0003047'), Row(diseaseFromSourceMappedId='EFO_1001175'), Row(diseaseFromSourceMappedId='HP_0001337'), Row(diseaseFromSourceMappedId='MONDO_0002679'), Row(diseaseFromSourceMappedId='MONDO_0005180'), Row(diseaseFromSourceMappedId='EFO_0004320'), Row(diseaseFromSourceMappedId='MONDO_0008315'), Row(diseaseFromSourceMappedId='EFO_0004320'), Row(diseaseFromSourceMappedId='EFO_0003761'), Row(diseaseFromSourceMappedId='EFO_0003843'), Row(diseaseFromSourceMappedId='EFO_0003843'), Row(diseaseFromSourceMappedId='EFO_0007328'), Row(diseaseFromSourceMappedId='MONDO_0011382'), Row(diseaseFromSourceMappedId='MONDO_0007254'), Row(diseaseFromSourceMappedId='MONDO_0007079'), Row(diseaseFromSourceMappedId='MONDO_0002009'), Row(diseaseFromSourceMappedId='MONDO_0002009'), Row(diseaseFromSourceMappedId='MONDO_0002050'), Row(diseaseFromSourceMappedId='EFO_0003843'), Row(diseaseFromSourceMappedId='EFO_1000864'), Row(diseaseFromSourceMappedId='MONDO_0004985'), Row(diseaseFromSourceMappedId='MONDO_0002679'), Row(diseaseFromSourceMappedId='EFO_0003843'), Row(diseaseFromSourceMappedId='EFO_0005411'), Row(diseaseFromSourceMappedId='EFO_0001358'), Row(diseaseFromSourceMappedId='MONDO_0005180'), Row(diseaseFromSourceMappedId='MONDO_0005180'), Row(diseaseFromSourceMappedId='EFO_0000512'), Row(diseaseFromSourceMappedId='EFO_0000713'), Row(diseaseFromSourceMappedId='EFO_0003931'), Row(diseaseFromSourceMappedId='MONDO_0011382'), Row(diseaseFromSourceMappedId='MONDO_0002009'), Row(diseaseFromSourceMappedId='EFO_0000544'), Row(diseaseFromSourceMappedId='MONDO_0002009'), Row(diseaseFromSourceMappedId='MONDO_0004992'), Row(diseaseFromSourceMappedId='MONDO_0004975'), Row(diseaseFromSourceMappedId='EFO_0003768'), Row(diseaseFromSourceMappedId='EFO_0003843'), Row(diseaseFromSourceMappedId='MONDO_0004975'), Row(diseaseFromSourceMappedId='MONDO_0005090'), Row(diseaseFromSourceMappedId='EFO_0007328'), Row(diseaseFromSourceMappedId='EFO_0000544'), Row(diseaseFromSourceMappedId='EFO_0003843'), Row(diseaseFromSourceMappedId='HP_0012735'), Row(diseaseFromSourceMappedId='EFO_0003931'), Row(diseaseFromSourceMappedId='HP_0000360'), Row(diseaseFromSourceMappedId='MONDO_0002050'), Row(diseaseFromSourceMappedId='EFO_0004777'), Row(diseaseFromSourceMappedId='MONDO_0007079'), Row(diseaseFromSourceMappedId='EFO_0000544'), Row(diseaseFromSourceMappedId='EFO_1001219'), Row(diseaseFromSourceMappedId='MONDO_0002050'), Row(diseaseFromSourceMappedId='EFO_0004242'), Row(diseaseFromSourceMappedId='EFO_0009854'), Row(diseaseFromSourceMappedId='EFO_0003890'), Row(diseaseFromSourceMappedId='MONDO_0002050'), Row(diseaseFromSourceMappedId='EFO_0009854'), Row(diseaseFromSourceMappedId='HP_0000360'), Row(diseaseFromSourceMappedId='MONDO_0002050'), Row(diseaseFromSourceMappedId='MONDO_0005180'), Row(diseaseFromSourceMappedId='HP_0012532'), Row(diseaseFromSourceMappedId='EFO_0003015'), Row(diseaseFromSourceMappedId='MONDO_0005090'), Row(diseaseFromSourceMappedId='EFO_0005279'), Row(diseaseFromSourceMappedId='MONDO_0043510'), Row(diseaseFromSourceMappedId='EFO_0000544'), Row(diseaseFromSourceMappedId='EFO_0003843'), Row(diseaseFromSourceMappedId='HP_0012378'), Row(diseaseFromSourceMappedId='EFO_0003843'), Row(diseaseFromSourceMappedId='MONDO_0005180'), Row(diseaseFromSourceMappedId='MONDO_0000726'), Row(diseaseFromSourceMappedId='EFO_1001175'), Row(diseaseFromSourceMappedId='MONDO_0002009'), Row(diseaseFromSourceMappedId='HP_0000360'), Row(diseaseFromSourceMappedId='EFO_0003756'), Row(diseaseFromSourceMappedId='MONDO_0005180'), Row(diseaseFromSourceMappedId='MONDO_0004975'), Row(diseaseFromSourceMappedId='MONDO_0004975'), Row(diseaseFromSourceMappedId='MONDO_0002050'), Row(diseaseFromSourceMappedId='EFO_0005411'), Row(diseaseFromSourceMappedId='MONDO_0002009'), Row(diseaseFromSourceMappedId='MONDO_0004975'), Row(diseaseFromSourceMappedId='HP_0012167'), Row(diseaseFromSourceMappedId='EFO_0007328'), Row(diseaseFromSourceMappedId='EFO_0005411'), Row(diseaseFromSourceMappedId='EFO_1000860'), Row(diseaseFromSourceMappedId='MONDO_0007079'), Row(diseaseFromSourceMappedId='EFO_0009267'), Row(diseaseFromSourceMappedId='EFO_0001064'), Row(diseaseFromSourceMappedId='MONDO_0007079'), Row(diseaseFromSourceMappedId='EFO_0009854'), Row(diseaseFromSourceMappedId='MONDO_0004976'), Row(diseaseFromSourceMappedId='EFO_0007328'), Row(diseaseFromSourceMappedId='EFO_0005762'), Row(diseaseFromSourceMappedId='EFO_0004242'), Row(diseaseFromSourceMappedId='EFO_0000544'), Row(diseaseFromSourceMappedId='MONDO_0007079'), Row(diseaseFromSourceMappedId='MONDO_0004975'), Row(diseaseFromSourceMappedId='MONDO_0004985'), Row(diseaseFromSourceMappedId='MONDO_0005180'), Row(diseaseFromSourceMappedId='EFO_0006834'), Row(diseaseFromSourceMappedId='EFO_1001219'), Row(diseaseFromSourceMappedId='MONDO_0004976'), Row(diseaseFromSourceMappedId='EFO_0005611'), Row(diseaseFromSourceMappedId='MONDO_0002050'), Row(diseaseFromSourceMappedId='EFO_0000546'), Row(diseaseFromSourceMappedId='MONDO_0007079'), Row(diseaseFromSourceMappedId='MONDO_0043510'), Row(diseaseFromSourceMappedId='MONDO_0005180'), Row(diseaseFromSourceMappedId='HP_0001337'), Row(diseaseFromSourceMappedId='MONDO_0002050'), Row(diseaseFromSourceMappedId='MONDO_0002009'), Row(diseaseFromSourceMappedId='EFO_0003843'), Row(diseaseFromSourceMappedId='EFO_0000546'), Row(diseaseFromSourceMappedId='EFO_0004220'), Row(diseaseFromSourceMappedId='EFO_0003843'), Row(diseaseFromSourceMappedId='MONDO_0002009'), Row(diseaseFromSourceMappedId='EFO_0009267'), Row(diseaseFromSourceMappedId='HP_0000360'), Row(diseaseFromSourceMappedId='EFO_0003843'), Row(diseaseFromSourceMappedId='MONDO_0005180'), Row(diseaseFromSourceMappedId='EFO_0004242'), Row(diseaseFromSourceMappedId='EFO_0003108'), Row(diseaseFromSourceMappedId='EFO_0000544'), Row(diseaseFromSourceMappedId='EFO_0002610'), Row(diseaseFromSourceMappedId='EFO_0003843'), Row(diseaseFromSourceMappedId='EFO_0003756'), Row(diseaseFromSourceMappedId='EFO_0007328'), Row(diseaseFromSourceMappedId='EFO_0003843'), Row(diseaseFromSourceMappedId='HP_0002315'), Row(diseaseFromSourceMappedId='MONDO_0002050'), Row(diseaseFromSourceMappedId='EFO_0005230'), Row(diseaseFromSourceMappedId='EFO_0000544'), Row(diseaseFromSourceMappedId='MONDO_0002050'), Row(diseaseFromSourceMappedId='MONDO_0002050'), Row(diseaseFromSourceMappedId='EFO_0004320'), Row(diseaseFromSourceMappedId='HP_0000989'), Row(diseaseFromSourceMappedId='MONDO_0005180'), Row(diseaseFromSourceMappedId='EFO_0003843'), Row(diseaseFromSourceMappedId='EFO_0003843'), Row(diseaseFromSourceMappedId='MONDO_0004975'), Row(diseaseFromSourceMappedId='EFO_0007623'), Row(diseaseFromSourceMappedId='EFO_0002610'), Row(diseaseFromSourceMappedId='EFO_0003843'), Row(diseaseFromSourceMappedId='MONDO_0024880'), Row(diseaseFromSourceMappedId='EFO_0001358'), Row(diseaseFromSourceMappedId='EFO_0000341'), Row(diseaseFromSourceMappedId='EFO_1001402'), Row(diseaseFromSourceMappedId='EFO_0005611'), Row(diseaseFromSourceMappedId='EFO_0003843'), Row(diseaseFromSourceMappedId='EFO_0003843'), Row(diseaseFromSourceMappedId='MONDO_0007079'), Row(diseaseFromSourceMappedId='EFO_1001917'), Row(diseaseFromSourceMappedId='MONDO_0002050'), Row(diseaseFromSourceMappedId='EFO_0000544'), Row(diseaseFromSourceMappedId='MONDO_0004985'), Row(diseaseFromSourceMappedId='EFO_0003843'), Row(diseaseFromSourceMappedId='EFO_0005279'), Row(diseaseFromSourceMappedId='MONDO_0002009'), Row(diseaseFromSourceMappedId='MONDO_0004985'), Row(diseaseFromSourceMappedId='HP_0001300'), Row(diseaseFromSourceMappedId='MONDO_0007079'), Row(diseaseFromSourceMappedId='MONDO_0002009'), Row(diseaseFromSourceMappedId='EFO_1001491'), Row(diseaseFromSourceMappedId='MONDO_0004985'), Row(diseaseFromSourceMappedId='EFO_0009620'), Row(diseaseFromSourceMappedId='EFO_1001412'), Row(diseaseFromSourceMappedId='HP_0012532'), Row(diseaseFromSourceMappedId='EFO_0000326'), Row(diseaseFromSourceMappedId='EFO_0003758'), Row(diseaseFromSourceMappedId='EFO_0000544'), Row(diseaseFromSourceMappedId='MONDO_0004975'), Row(diseaseFromSourceMappedId='MONDO_0002009'), Row(diseaseFromSourceMappedId='EFO_0007328'), Row(diseaseFromSourceMappedId='MONDO_0005180'), Row(diseaseFromSourceMappedId='MONDO_0005180'), Row(diseaseFromSourceMappedId='MONDO_0004985'), Row(diseaseFromSourceMappedId='EFO_0004320'), Row(diseaseFromSourceMappedId='EFO_1000860'), Row(diseaseFromSourceMappedId='EFO_0005762'), Row(diseaseFromSourceMappedId='MONDO_0005180'), Row(diseaseFromSourceMappedId='EFO_0004320'), Row(diseaseFromSourceMappedId='MONDO_0005148'), Row(diseaseFromSourceMappedId='EFO_0007328'), Row(diseaseFromSourceMappedId='EFO_0000546'), Row(diseaseFromSourceMappedId='EFO_0003768'), Row(diseaseFromSourceMappedId='HP_0001300'), Row(diseaseFromSourceMappedId='HP_0012532'), Row(diseaseFromSourceMappedId='EFO_0005323'), Row(diseaseFromSourceMappedId='HP_0000360'), Row(diseaseFromSourceMappedId='MONDO_0002009'), Row(diseaseFromSourceMappedId='MONDO_0005180'), Row(diseaseFromSourceMappedId='MONDO_0002050'), Row(diseaseFromSourceMappedId='MONDO_0002050'), Row(diseaseFromSourceMappedId='EFO_0003843'), Row(diseaseFromSourceMappedId='EFO_0007328'), Row(diseaseFromSourceMappedId='MONDO_0002050'), Row(diseaseFromSourceMappedId='MONDO_0002009'), Row(diseaseFromSourceMappedId='MONDO_0002009'), Row(diseaseFromSourceMappedId='EFO_0000712'), Row(diseaseFromSourceMappedId='EFO_0003761'), Row(diseaseFromSourceMappedId='MONDO_0002009'), Row(diseaseFromSourceMappedId='EFO_0003843'), Row(diseaseFromSourceMappedId='EFO_1001402'), Row(diseaseFromSourceMappedId='EFO_0003843'), Row(diseaseFromSourceMappedId='EFO_0003890'), Row(diseaseFromSourceMappedId='EFO_0007328'), Row(diseaseFromSourceMappedId='MONDO_0002050'), Row(diseaseFromSourceMappedId='EFO_0005230'), Row(diseaseFromSourceMappedId='EFO_0009963'), Row(diseaseFromSourceMappedId='EFO_0008526'), Row(diseaseFromSourceMappedId='EFO_0009854'), Row(diseaseFromSourceMappedId='MONDO_0005180'), Row(diseaseFromSourceMappedId='MONDO_0002050'), Row(diseaseFromSourceMappedId='MONDO_0005180'), Row(diseaseFromSourceMappedId='MONDO_0005090'), Row(diseaseFromSourceMappedId='MONDO_0002050'), Row(diseaseFromSourceMappedId='MONDO_0043510'), Row(diseaseFromSourceMappedId='EFO_0006834'), Row(diseaseFromSourceMappedId='EFO_0005223'), Row(diseaseFromSourceMappedId='EFO_0003843'), Row(diseaseFromSourceMappedId='EFO_0001358'), Row(diseaseFromSourceMappedId='HP_0000360'), Row(diseaseFromSourceMappedId='EFO_0005611'), Row(diseaseFromSourceMappedId='EFO_0003843'), Row(diseaseFromSourceMappedId='MONDO_0002050'), Row(diseaseFromSourceMappedId='EFO_0008526'), Row(diseaseFromSourceMappedId='EFO_0007328'), Row(diseaseFromSourceMappedId='EFO_0003761'), Row(diseaseFromSourceMappedId='EFO_0007328'), Row(diseaseFromSourceMappedId='MONDO_0002050'), Row(diseaseFromSourceMappedId='EFO_0003756'), Row(diseaseFromSourceMappedId='EFO_0000546'), Row(diseaseFromSourceMappedId='MONDO_0004975'), Row(diseaseFromSourceMappedId='HP_0002381'), Row(diseaseFromSourceMappedId='MONDO_0004985'), Row(diseaseFromSourceMappedId='EFO_0007328'), Row(diseaseFromSourceMappedId='MONDO_0043510'), Row(diseaseFromSourceMappedId='MONDO_0004976'), Row(diseaseFromSourceMappedId='HP_0012735'), Row(diseaseFromSourceMappedId='EFO_0003843'), Row(diseaseFromSourceMappedId='MONDO_0005180'), Row(diseaseFromSourceMappedId='MONDO_0008903'), Row(diseaseFromSourceMappedId='MONDO_0010383'), Row(diseaseFromSourceMappedId='EFO_0003843'), Row(diseaseFromSourceMappedId='EFO_0007328'), Row(diseaseFromSourceMappedId='EFO_0000544'), Row(diseaseFromSourceMappedId='EFO_0003757'), Row(diseaseFromSourceMappedId='MONDO_0002009'), Row(diseaseFromSourceMappedId='MONDO_0011382'), Row(diseaseFromSourceMappedId='EFO_1001402'), Row(diseaseFromSourceMappedId='MONDO_0005180'), Row(diseaseFromSourceMappedId='MONDO_0002050'), Row(diseaseFromSourceMappedId='EFO_0003843'), Row(diseaseFromSourceMappedId='MONDO_0005301'), Row(diseaseFromSourceMappedId='MONDO_0004975'), Row(diseaseFromSourceMappedId='MONDO_0002009'), Row(diseaseFromSourceMappedId='MONDO_0005180'), Row(diseaseFromSourceMappedId='EFO_0003843'), Row(diseaseFromSourceMappedId='MONDO_0004985'), Row(diseaseFromSourceMappedId='EFO_0004699'), Row(diseaseFromSourceMappedId='EFO_0001358'), Row(diseaseFromSourceMappedId='MONDO_0004975'), Row(diseaseFromSourceMappedId='MONDO_0005180'), Row(diseaseFromSourceMappedId='MONDO_0002050'), Row(diseaseFromSourceMappedId='EFO_0003843'), Row(diseaseFromSourceMappedId='MONDO_0002009'), Row(diseaseFromSourceMappedId='MONDO_0005090'), Row(diseaseFromSourceMappedId='EFO_0004220'), Row(diseaseFromSourceMappedId='HP_0001250'), Row(diseaseFromSourceMappedId='HP_0002315'), Row(diseaseFromSourceMappedId='EFO_0003843'), Row(diseaseFromSourceMappedId='MONDO_0002009'), Row(diseaseFromSourceMappedId='MONDO_0005180'), Row(diseaseFromSourceMappedId='EFO_1001175'), Row(diseaseFromSourceMappedId='MONDO_0004975'), Row(diseaseFromSourceMappedId='EFO_0005407'), Row(diseaseFromSourceMappedId='MONDO_0002009'), Row(diseaseFromSourceMappedId='EFO_0004242'), Row(diseaseFromSourceMappedId='EFO_0004242'), Row(diseaseFromSourceMappedId='MONDO_0005180'), Row(diseaseFromSourceMappedId='MONDO_0005301'), Row(diseaseFromSourceMappedId='MONDO_0004975'), Row(diseaseFromSourceMappedId='MONDO_0005301'), Row(diseaseFromSourceMappedId='EFO_0003843'), Row(diseaseFromSourceMappedId='MONDO_0005180'), Row(diseaseFromSourceMappedId='HP_0012228'), Row(diseaseFromSourceMappedId='EFO_0003843'), Row(diseaseFromSourceMappedId='MONDO_0005180'), Row(diseaseFromSourceMappedId='EFO_0007634'), Row(diseaseFromSourceMappedId='EFO_0001361'), Row(diseaseFromSourceMappedId='EFO_0003843'), Row(diseaseFromSourceMappedId='MONDO_0002050'), Row(diseaseFromSourceMappedId='HP_0002381'), Row(diseaseFromSourceMappedId='EFO_1001892'), Row(diseaseFromSourceMappedId='MONDO_0004975'), Row(diseaseFromSourceMappedId='MONDO_0002050'), Row(diseaseFromSourceMappedId='EFO_0003843'), Row(diseaseFromSourceMappedId='EFO_1001219'), Row(diseaseFromSourceMappedId='EFO_0000474'), Row(diseaseFromSourceMappedId='MONDO_0004975'), Row(diseaseFromSourceMappedId='EFO_1000860'), Row(diseaseFromSourceMappedId='MONDO_0002009'), Row(diseaseFromSourceMappedId='EFO_1001801'), Row(diseaseFromSourceMappedId='MONDO_0002050'), Row(diseaseFromSourceMappedId='EFO_0004320'), Row(diseaseFromSourceMappedId='EFO_0009963'), Row(diseaseFromSourceMappedId='MONDO_0005090'), Row(diseaseFromSourceMappedId='MONDO_0002009'), Row(diseaseFromSourceMappedId='MONDO_0005180'), Row(diseaseFromSourceMappedId='EFO_1000860'), Row(diseaseFromSourceMappedId='MONDO_0004975'), Row(diseaseFromSourceMappedId='EFO_0003015'), Row(diseaseFromSourceMappedId='EFO_0009854'), Row(diseaseFromSourceMappedId='MONDO_0002050'), Row(diseaseFromSourceMappedId='EFO_0004247'), Row(diseaseFromSourceMappedId='EFO_0003761'), Row(diseaseFromSourceMappedId='MONDO_0007079'), Row(diseaseFromSourceMappedId='EFO_0007328'), Row(diseaseFromSourceMappedId='EFO_0004777'), Row(diseaseFromSourceMappedId='EFO_1001175'), Row(diseaseFromSourceMappedId='HP_0012532'), Row(diseaseFromSourceMappedId='HP_0000360'), Row(diseaseFromSourceMappedId='EFO_1001488'), Row(diseaseFromSourceMappedId='MONDO_0002009'), Row(diseaseFromSourceMappedId='MONDO_0005180'), Row(diseaseFromSourceMappedId='MONDO_0002009'), Row(diseaseFromSourceMappedId='MONDO_0005180'), Row(diseaseFromSourceMappedId='MONDO_0043510'), Row(diseaseFromSourceMappedId='EFO_0005762'), Row(diseaseFromSourceMappedId='EFO_0009963'), Row(diseaseFromSourceMappedId='EFO_0009854'), Row(diseaseFromSourceMappedId='MONDO_0004975'), Row(diseaseFromSourceMappedId='HP_0012532'), Row(diseaseFromSourceMappedId='EFO_0003843'), Row(diseaseFromSourceMappedId='EFO_0008590'), Row(diseaseFromSourceMappedId='EFO_0000474'), Row(diseaseFromSourceMappedId='MONDO_0002050'), Row(diseaseFromSourceMappedId='MONDO_0004975'), Row(diseaseFromSourceMappedId='EFO_0003843'), Row(diseaseFromSourceMappedId='EFO_0006834'), Row(diseaseFromSourceMappedId='MONDO_0005180'), Row(diseaseFromSourceMappedId='EFO_0003843'), Row(diseaseFromSourceMappedId='HP_0000713'), Row(diseaseFromSourceMappedId='EFO_0007328'), Row(diseaseFromSourceMappedId='EFO_0003761'), Row(diseaseFromSourceMappedId='MONDO_0007254'), Row(diseaseFromSourceMappedId='EFO_0009658'), Row(diseaseFromSourceMappedId='EFO_0003843'), Row(diseaseFromSourceMappedId='EFO_0003843'), Row(diseaseFromSourceMappedId='EFO_0000544'), Row(diseaseFromSourceMappedId='EFO_0003843'), Row(diseaseFromSourceMappedId='EFO_0003843'), Row(diseaseFromSourceMappedId='EFO_0003757'), Row(diseaseFromSourceMappedId='MONDO_0002009'), Row(diseaseFromSourceMappedId='MONDO_0005180'), Row(diseaseFromSourceMappedId='MONDO_0005180'), Row(diseaseFromSourceMappedId='EFO_0000341'), Row(diseaseFromSourceMappedId='EFO_0002610'), Row(diseaseFromSourceMappedId='MONDO_0004975'), Row(diseaseFromSourceMappedId='EFO_0003843'), Row(diseaseFromSourceMappedId='EFO_0003761'), Row(diseaseFromSourceMappedId='EFO_0003843'), Row(diseaseFromSourceMappedId='HP_0012532'), Row(diseaseFromSourceMappedId='EFO_0003843'), Row(diseaseFromSourceMappedId='EFO_0005611'), Row(diseaseFromSourceMappedId='EFO_0007328'), Row(diseaseFromSourceMappedId='EFO_1001917'), Row(diseaseFromSourceMappedId='MONDO_0002009'), Row(diseaseFromSourceMappedId='EFO_0009513'), Row(diseaseFromSourceMappedId='EFO_0003843'), Row(diseaseFromSourceMappedId='EFO_0003843'), Row(diseaseFromSourceMappedId='MONDO_0002050'), Row(diseaseFromSourceMappedId='HP_0000713'), Row(diseaseFromSourceMappedId='EFO_0003843'), Row(diseaseFromSourceMappedId='MONDO_0004975'), Row(diseaseFromSourceMappedId='MONDO_0002050'), Row(diseaseFromSourceMappedId='MONDO_0005180'), Row(diseaseFromSourceMappedId='MONDO_0005180'), Row(diseaseFromSourceMappedId='MONDO_0005301'), Row(diseaseFromSourceMappedId='EFO_0003843'), Row(diseaseFromSourceMappedId='EFO_0000544'), Row(diseaseFromSourceMappedId='EFO_0004320'), Row(diseaseFromSourceMappedId='EFO_1001402'), Row(diseaseFromSourceMappedId='EFO_0003843'), Row(diseaseFromSourceMappedId='HP_0000713'), Row(diseaseFromSourceMappedId='MONDO_0002050'), Row(diseaseFromSourceMappedId='MONDO_0005301'), Row(diseaseFromSourceMappedId='EFO_0003843'), Row(diseaseFromSourceMappedId='MONDO_0004975'), Row(diseaseFromSourceMappedId='HP_0000713'), Row(diseaseFromSourceMappedId='MONDO_0004975'), Row(diseaseFromSourceMappedId='EFO_0007328'), Row(diseaseFromSourceMappedId='MONDO_0002009'), Row(diseaseFromSourceMappedId='EFO_0009686'), Row(diseaseFromSourceMappedId='MONDO_0005090'), Row(diseaseFromSourceMappedId='EFO_0003877'), Row(diseaseFromSourceMappedId='MONDO_0005180'), Row(diseaseFromSourceMappedId='EFO_0005232'), Row(diseaseFromSourceMappedId='EFO_0004320'), Row(diseaseFromSourceMappedId='EFO_0005611'), Row(diseaseFromSourceMappedId='MONDO_0004975'), Row(diseaseFromSourceMappedId='MONDO_0007079'), Row(diseaseFromSourceMappedId='EFO_0003768'), Row(diseaseFromSourceMappedId='MONDO_0002009'), Row(diseaseFromSourceMappedId='EFO_0003096'), Row(diseaseFromSourceMappedId='EFO_0003843'), Row(diseaseFromSourceMappedId='EFO_0003843'), Row(diseaseFromSourceMappedId='MONDO_0008903'), Row(diseaseFromSourceMappedId='MONDO_0005180'), Row(diseaseFromSourceMappedId='MONDO_0005090'), Row(diseaseFromSourceMappedId='MONDO_0004975'), Row(diseaseFromSourceMappedId='EFO_0003756'), Row(diseaseFromSourceMappedId='EFO_1000391'), Row(diseaseFromSourceMappedId='EFO_0003843'), Row(diseaseFromSourceMappedId='MONDO_0004985'), Row(diseaseFromSourceMappedId='MONDO_0004985'), Row(diseaseFromSourceMappedId='MONDO_0004975'), Row(diseaseFromSourceMappedId='MONDO_0002046'), Row(diseaseFromSourceMappedId='EFO_0006834'), Row(diseaseFromSourceMappedId='EFO_0000544'), Row(diseaseFromSourceMappedId='EFO_0007328'), Row(diseaseFromSourceMappedId='EFO_0003757'), Row(diseaseFromSourceMappedId='EFO_0000546'), Row(diseaseFromSourceMappedId='EFO_0000474'), Row(diseaseFromSourceMappedId='EFO_0000341'), Row(diseaseFromSourceMappedId='MONDO_0005090'), Row(diseaseFromSourceMappedId='EFO_0003843'), Row(diseaseFromSourceMappedId='EFO_0007328'), Row(diseaseFromSourceMappedId='EFO_0009620'), Row(diseaseFromSourceMappedId='MONDO_0002009'), Row(diseaseFromSourceMappedId='EFO_1001402'), Row(diseaseFromSourceMappedId='EFO_0003758'), Row(diseaseFromSourceMappedId='MONDO_0005180'), Row(diseaseFromSourceMappedId='EFO_0005762'), Row(diseaseFromSourceMappedId='EFO_0004320'), Row(diseaseFromSourceMappedId='EFO_1001801'), Row(diseaseFromSourceMappedId='HP_0000360'), Row(diseaseFromSourceMappedId='MONDO_0005180'), Row(diseaseFromSourceMappedId='EFO_0000712'), Row(diseaseFromSourceMappedId='HP_0001268'), Row(diseaseFromSourceMappedId='MONDO_0002009'), Row(diseaseFromSourceMappedId='MONDO_0007079'), Row(diseaseFromSourceMappedId='HP_0000713'), Row(diseaseFromSourceMappedId='EFO_0000544'), Row(diseaseFromSourceMappedId='EFO_0003843'), Row(diseaseFromSourceMappedId='EFO_0000544'), Row(diseaseFromSourceMappedId='EFO_1001917'), Row(diseaseFromSourceMappedId='MONDO_0007079'), Row(diseaseFromSourceMappedId='MONDO_0002050'), Row(diseaseFromSourceMappedId='MONDO_0007079'), Row(diseaseFromSourceMappedId='EFO_0001358'), Row(diseaseFromSourceMappedId='MONDO_0005180'), Row(diseaseFromSourceMappedId='EFO_0003758'), Row(diseaseFromSourceMappedId='EFO_0000474'), Row(diseaseFromSourceMappedId='HP_0000360'), Row(diseaseFromSourceMappedId='MONDO_0002050'), Row(diseaseFromSourceMappedId='MONDO_0002491'), Row(diseaseFromSourceMappedId='MONDO_0002009'), Row(diseaseFromSourceMappedId='MONDO_0002050'), Row(diseaseFromSourceMappedId='MONDO_0005180'), Row(diseaseFromSourceMappedId='MONDO_0005180'), Row(diseaseFromSourceMappedId='HP_0000713'), Row(diseaseFromSourceMappedId='MONDO_0004975'), Row(diseaseFromSourceMappedId='MONDO_0005090'), Row(diseaseFromSourceMappedId='EFO_0003843'), Row(diseaseFromSourceMappedId='EFO_0000546'), Row(diseaseFromSourceMappedId='MONDO_0004975'), Row(diseaseFromSourceMappedId='MONDO_0002050'), Row(diseaseFromSourceMappedId='MONDO_0011382'), Row(diseaseFromSourceMappedId='EFO_1001175'), Row(diseaseFromSourceMappedId='EFO_0009267'), Row(diseaseFromSourceMappedId='EFO_0009267'), Row(diseaseFromSourceMappedId='EFO_1001402'), Row(diseaseFromSourceMappedId='MONDO_0005180'), Row(diseaseFromSourceMappedId='EFO_0004320'), Row(diseaseFromSourceMappedId='EFO_0003843'), Row(diseaseFromSourceMappedId='MONDO_0002050'), Row(diseaseFromSourceMappedId='EFO_0005411'), Row(diseaseFromSourceMappedId='MONDO_0002050'), Row(diseaseFromSourceMappedId='MONDO_0004975'), Row(diseaseFromSourceMappedId='EFO_0003843'), Row(diseaseFromSourceMappedId='MONDO_0005090'), Row(diseaseFromSourceMappedId='MONDO_0002050'), Row(diseaseFromSourceMappedId='MONDO_0007079'), Row(diseaseFromSourceMappedId='MONDO_0005180'), Row(diseaseFromSourceMappedId='EFO_1000391'), Row(diseaseFromSourceMappedId='HP_0002315'), Row(diseaseFromSourceMappedId='HP_0000360'), Row(diseaseFromSourceMappedId='MONDO_0002258'), Row(diseaseFromSourceMappedId='EFO_0003843'), Row(diseaseFromSourceMappedId='EFO_1001402'), Row(diseaseFromSourceMappedId='MONDO_0007079'), Row(diseaseFromSourceMappedId='EFO_0003843'), Row(diseaseFromSourceMappedId='HP_0000360'), Row(diseaseFromSourceMappedId='MONDO_0002009'), Row(diseaseFromSourceMappedId='HP_0000360'), Row(diseaseFromSourceMappedId='MONDO_0004975'), Row(diseaseFromSourceMappedId='MONDO_0002009'), Row(diseaseFromSourceMappedId='EFO_0000544'), Row(diseaseFromSourceMappedId='MONDO_0004975'), Row(diseaseFromSourceMappedId='EFO_0001361'), Row(diseaseFromSourceMappedId='EFO_0009854'), Row(diseaseFromSourceMappedId='MONDO_0002009'), Row(diseaseFromSourceMappedId='EFO_0003843'), Row(diseaseFromSourceMappedId='EFO_0003768'), Row(diseaseFromSourceMappedId='EFO_0003757'), Row(diseaseFromSourceMappedId='MONDO_0005180'), Row(diseaseFromSourceMappedId='EFO_0004321'), Row(diseaseFromSourceMappedId='EFO_0005762'), Row(diseaseFromSourceMappedId='HP_0001300'), Row(diseaseFromSourceMappedId='EFO_0003843'), Row(diseaseFromSourceMappedId='MONDO_0004975'), Row(diseaseFromSourceMappedId='EFO_0004242'), Row(diseaseFromSourceMappedId='EFO_0003843'), Row(diseaseFromSourceMappedId='MONDO_0004992'), Row(diseaseFromSourceMappedId='MONDO_0002050'), Row(diseaseFromSourceMappedId='EFO_0003756'), Row(diseaseFromSourceMappedId='EFO_0000544'), Row(diseaseFromSourceMappedId='MONDO_0002009'), Row(diseaseFromSourceMappedId='EFO_1001175'), Row(diseaseFromSourceMappedId='EFO_0003843'), Row(diseaseFromSourceMappedId='MONDO_0043510'), Row(diseaseFromSourceMappedId='MONDO_0004975'), Row(diseaseFromSourceMappedId='EFO_0007328'), Row(diseaseFromSourceMappedId='MONDO_0002050'), Row(diseaseFromSourceMappedId='MONDO_0005180'), Row(diseaseFromSourceMappedId='MONDO_0004985'), Row(diseaseFromSourceMappedId='EFO_0003931'), Row(diseaseFromSourceMappedId='MONDO_0002009'), Row(diseaseFromSourceMappedId='MONDO_0004985'), Row(diseaseFromSourceMappedId='MONDO_0100096'), Row(diseaseFromSourceMappedId='EFO_0003843'), Row(diseaseFromSourceMappedId='MONDO_0004985'), Row(diseaseFromSourceMappedId='MONDO_0005180'), Row(diseaseFromSourceMappedId='EFO_0000546'), Row(diseaseFromSourceMappedId='MONDO_0002050'), Row(diseaseFromSourceMappedId='EFO_0003888'), Row(diseaseFromSourceMappedId='MONDO_0011382'), Row(diseaseFromSourceMappedId='MONDO_0002050'), Row(diseaseFromSourceMappedId='EFO_0003843'), Row(diseaseFromSourceMappedId='EFO_0005854'), Row(diseaseFromSourceMappedId='EFO_0003843'), Row(diseaseFromSourceMappedId='HP_0100543'), Row(diseaseFromSourceMappedId='HP_0030680'), Row(diseaseFromSourceMappedId='MONDO_0004975'), Row(diseaseFromSourceMappedId='EFO_1001488'), Row(diseaseFromSourceMappedId='MONDO_0004975'), Row(diseaseFromSourceMappedId='MONDO_0002050'), Row(diseaseFromSourceMappedId='EFO_0003931'), Row(diseaseFromSourceMappedId='MONDO_0002009'), Row(diseaseFromSourceMappedId='MONDO_0004975'), Row(diseaseFromSourceMappedId='EFO_0003869'), Row(diseaseFromSourceMappedId='EFO_0003086'), Row(diseaseFromSourceMappedId='EFO_0003843'), Row(diseaseFromSourceMappedId='EFO_0003843'), Row(diseaseFromSourceMappedId='MONDO_0002050'), Row(diseaseFromSourceMappedId='EFO_0007191'), Row(diseaseFromSourceMappedId='MONDO_0004975'), Row(diseaseFromSourceMappedId='EFO_1001175'), Row(diseaseFromSourceMappedId='MONDO_0004975'), Row(diseaseFromSourceMappedId='EFO_1001898'), Row(diseaseFromSourceMappedId='MONDO_0002050'), Row(diseaseFromSourceMappedId='EFO_0003108'), Row(diseaseFromSourceMappedId='HP_0000360'), Row(diseaseFromSourceMappedId='EFO_0003843'), Row(diseaseFromSourceMappedId='EFO_0005203'), Row(diseaseFromSourceMappedId='EFO_0003843'), Row(diseaseFromSourceMappedId='MONDO_0000726'), Row(diseaseFromSourceMappedId='EFO_0000326'), Row(diseaseFromSourceMappedId='MONDO_0004681'), Row(diseaseFromSourceMappedId='MONDO_0002009'), Row(diseaseFromSourceMappedId='MONDO_0004985'), Row(diseaseFromSourceMappedId='EFO_0003843'), Row(diseaseFromSourceMappedId='EFO_0003768'), Row(diseaseFromSourceMappedId='EFO_0003843'), Row(diseaseFromSourceMappedId='EFO_0002610'), Row(diseaseFromSourceMappedId='EFO_0003761'), Row(diseaseFromSourceMappedId='EFO_0003843'), Row(diseaseFromSourceMappedId='MONDO_0002050'), Row(diseaseFromSourceMappedId='MONDO_0001208'), Row(diseaseFromSourceMappedId='MONDO_0005301'), Row(diseaseFromSourceMappedId='EFO_0009854'), Row(diseaseFromSourceMappedId='EFO_0001361'), Row(diseaseFromSourceMappedId='EFO_0000713'), Row(diseaseFromSourceMappedId='EFO_0000544'), Row(diseaseFromSourceMappedId='EFO_0004329'), Row(diseaseFromSourceMappedId='HP_0000360'), Row(diseaseFromSourceMappedId='MONDO_0005180'), Row(diseaseFromSourceMappedId='EFO_0011057'), Row(diseaseFromSourceMappedId='MONDO_0005180'), Row(diseaseFromSourceMappedId='EFO_0007328'), Row(diseaseFromSourceMappedId='MONDO_0004985'), Row(diseaseFromSourceMappedId='MONDO_0024417'), Row(diseaseFromSourceMappedId='EFO_0000546'), Row(diseaseFromSourceMappedId='MONDO_0002050'), Row(diseaseFromSourceMappedId='EFO_0001422'), Row(diseaseFromSourceMappedId='EFO_0005611'), Row(diseaseFromSourceMappedId='MONDO_0005129'), Row(diseaseFromSourceMappedId='MONDO_0041052'), Row(diseaseFromSourceMappedId='EFO_0004220'), Row(diseaseFromSourceMappedId='MONDO_0043510'), Row(diseaseFromSourceMappedId='EFO_0000713'), Row(diseaseFromSourceMappedId='MONDO_0002009'), Row(diseaseFromSourceMappedId='EFO_0003843'), Row(diseaseFromSourceMappedId='EFO_0005411'), Row(diseaseFromSourceMappedId='EFO_0007328'), Row(diseaseFromSourceMappedId='EFO_0003761'), Row(diseaseFromSourceMappedId='EFO_0003761'), Row(diseaseFromSourceMappedId='EFO_0003843'), Row(diseaseFromSourceMappedId='EFO_0003843'), Row(diseaseFromSourceMappedId='EFO_0003843'), Row(diseaseFromSourceMappedId='EFO_0007328'), Row(diseaseFromSourceMappedId='EFO_0003843'), Row(diseaseFromSourceMappedId='MONDO_0005180'), Row(diseaseFromSourceMappedId='EFO_0000544'), Row(diseaseFromSourceMappedId='EFO_0003843'), Row(diseaseFromSourceMappedId='EFO_0000544'), Row(diseaseFromSourceMappedId='EFO_0002460'), Row(diseaseFromSourceMappedId='EFO_0003843'), Row(diseaseFromSourceMappedId='HP_0000713'), Row(diseaseFromSourceMappedId='EFO_0001361'), Row(diseaseFromSourceMappedId='EFO_0003843'), Row(diseaseFromSourceMappedId='MONDO_0002009'), Row(diseaseFromSourceMappedId='EFO_0007328'), Row(diseaseFromSourceMappedId='EFO_0003086'), Row(diseaseFromSourceMappedId='HP_0001268'), Row(diseaseFromSourceMappedId='MONDO_0002050'), Row(diseaseFromSourceMappedId='EFO_1000860'), Row(diseaseFromSourceMappedId='MONDO_0041052'), Row(diseaseFromSourceMappedId='EFO_0000546'), Row(diseaseFromSourceMappedId='EFO_0000544'), Row(diseaseFromSourceMappedId='EFO_1001402'), Row(diseaseFromSourceMappedId='MONDO_0004975'), Row(diseaseFromSourceMappedId='EFO_1000860'), Row(diseaseFromSourceMappedId='MONDO_0004975'), Row(diseaseFromSourceMappedId='EFO_0003761'), Row(diseaseFromSourceMappedId='MONDO_0004975'), Row(diseaseFromSourceMappedId='MONDO_0004975'), Row(diseaseFromSourceMappedId='EFO_1001402'), Row(diseaseFromSourceMappedId='EFO_0003843'), Row(diseaseFromSourceMappedId='MONDO_0004985'), Row(diseaseFromSourceMappedId='EFO_0003758'), Row(diseaseFromSourceMappedId='EFO_0005230'), Row(diseaseFromSourceMappedId='EFO_0003843'), Row(diseaseFromSourceMappedId='MONDO_0005180'), Row(diseaseFromSourceMappedId='EFO_1001402'), Row(diseaseFromSourceMappedId='EFO_0003843'), Row(diseaseFromSourceMappedId='EFO_0003931'), Row(diseaseFromSourceMappedId='MONDO_0002009'), Row(diseaseFromSourceMappedId='EFO_0003843'), Row(diseaseFromSourceMappedId='EFO_0003877'), Row(diseaseFromSourceMappedId='MONDO_0002050'), Row(diseaseFromSourceMappedId='HP_0000360'), Row(diseaseFromSourceMappedId='EFO_0003843'), Row(diseaseFromSourceMappedId='EFO_0003843'), Row(diseaseFromSourceMappedId='EFO_0000474'), Row(diseaseFromSourceMappedId='MONDO_0005180'), Row(diseaseFromSourceMappedId='EFO_0003761'), Row(diseaseFromSourceMappedId='HP_0012532'), Row(diseaseFromSourceMappedId='MONDO_0005180'), Row(diseaseFromSourceMappedId='EFO_0000544'), Row(diseaseFromSourceMappedId='MONDO_0004975'), Row(diseaseFromSourceMappedId='MONDO_0002009'), Row(diseaseFromSourceMappedId='EFO_0009267'), Row(diseaseFromSourceMappedId='EFO_1000391'), Row(diseaseFromSourceMappedId='MP_0001914'), Row(diseaseFromSourceMappedId='HP_0012532'), Row(diseaseFromSourceMappedId='MONDO_0005301'), Row(diseaseFromSourceMappedId='MONDO_0024880'), Row(diseaseFromSourceMappedId='EFO_0007149'), Row(diseaseFromSourceMappedId='MONDO_0004975'), Row(diseaseFromSourceMappedId='EFO_0005611'), Row(diseaseFromSourceMappedId='MONDO_0004976'), Row(diseaseFromSourceMappedId='EFO_0000326'), Row(diseaseFromSourceMappedId='MONDO_0100096'), Row(diseaseFromSourceMappedId='EFO_0005762'), Row(diseaseFromSourceMappedId='MONDO_0002009'), Row(diseaseFromSourceMappedId='EFO_0003843'), Row(diseaseFromSourceMappedId='EFO_0003843'), Row(diseaseFromSourceMappedId='EFO_0009552'), Row(diseaseFromSourceMappedId='MONDO_0004975'), Row(diseaseFromSourceMappedId='EFO_0003108'), Row(diseaseFromSourceMappedId='HP_0000360'), Row(diseaseFromSourceMappedId='EFO_0000544'), Row(diseaseFromSourceMappedId='MONDO_0002050'), Row(diseaseFromSourceMappedId='EFO_0005611'), Row(diseaseFromSourceMappedId='MONDO_0100096'), Row(diseaseFromSourceMappedId='HP_0100543'), Row(diseaseFromSourceMappedId='MONDO_0002009'), Row(diseaseFromSourceMappedId='MONDO_0007079'), Row(diseaseFromSourceMappedId='EFO_0005230'), Row(diseaseFromSourceMappedId='EFO_0007328'), Row(diseaseFromSourceMappedId='EFO_0007328'), Row(diseaseFromSourceMappedId='EFO_0003843'), Row(diseaseFromSourceMappedId='MONDO_0002050'), Row(diseaseFromSourceMappedId='EFO_0007328'), Row(diseaseFromSourceMappedId='EFO_0007328'), Row(diseaseFromSourceMappedId='EFO_0004247'), Row(diseaseFromSourceMappedId='EFO_0005762'), Row(diseaseFromSourceMappedId='MONDO_0002009'), Row(diseaseFromSourceMappedId='EFO_0003843'), Row(diseaseFromSourceMappedId='EFO_0003843'), Row(diseaseFromSourceMappedId='MONDO_0005277'), Row(diseaseFromSourceMappedId='EFO_1001898'), Row(diseaseFromSourceMappedId='MONDO_0043510'), Row(diseaseFromSourceMappedId='EFO_0000544'), Row(diseaseFromSourceMappedId='EFO_0000544'), Row(diseaseFromSourceMappedId='MONDO_0002009'), Row(diseaseFromSourceMappedId='EFO_0000677'), Row(diseaseFromSourceMappedId='MONDO_0005180'), Row(diseaseFromSourceMappedId='MONDO_0002009'), Row(diseaseFromSourceMappedId='EFO_1000860'), Row(diseaseFromSourceMappedId='EFO_0007453'), Row(diseaseFromSourceMappedId='MONDO_0002050'), Row(diseaseFromSourceMappedId='MONDO_0005090'), Row(diseaseFromSourceMappedId='MONDO_0005180'), Row(diseaseFromSourceMappedId='EFO_0004888'), Row(diseaseFromSourceMappedId='EFO_1001402'), Row(diseaseFromSourceMappedId='EFO_0003843'), Row(diseaseFromSourceMappedId='HP_0003419'), Row(diseaseFromSourceMappedId='EFO_0000544'), Row(diseaseFromSourceMappedId='EFO_0000544'), Row(diseaseFromSourceMappedId='EFO_0003843'), Row(diseaseFromSourceMappedId='EFO_0003843'), Row(diseaseFromSourceMappedId='MONDO_0004975'), Row(diseaseFromSourceMappedId='EFO_1001412'), Row(diseaseFromSourceMappedId='EFO_0003843'), Row(diseaseFromSourceMappedId='EFO_0007328'), Row(diseaseFromSourceMappedId='EFO_0005411'), Row(diseaseFromSourceMappedId='EFO_0007328'), Row(diseaseFromSourceMappedId='EFO_0000544'), Row(diseaseFromSourceMappedId='MONDO_0100096'), Row(diseaseFromSourceMappedId='MONDO_0005301'), Row(diseaseFromSourceMappedId='EFO_0007328'), Row(diseaseFromSourceMappedId='EFO_0004777'), Row(diseaseFromSourceMappedId='EFO_0003843'), Row(diseaseFromSourceMappedId='EFO_0003843'), Row(diseaseFromSourceMappedId='MONDO_0005148'), Row(diseaseFromSourceMappedId='EFO_0001358'), Row(diseaseFromSourceMappedId='MONDO_0002009'), Row(diseaseFromSourceMappedId='MP_0001914'), Row(diseaseFromSourceMappedId='MONDO_0007739'), Row(diseaseFromSourceMappedId='MONDO_0100096'), Row(diseaseFromSourceMappedId='MONDO_0007079'), Row(diseaseFromSourceMappedId='MP_0001914'), Row(diseaseFromSourceMappedId='MONDO_0004975'), Row(diseaseFromSourceMappedId='EFO_0003843'), Row(diseaseFromSourceMappedId='EFO_0003843'), Row(diseaseFromSourceMappedId='MONDO_0004985'), Row(diseaseFromSourceMappedId='MONDO_0004975'), Row(diseaseFromSourceMappedId='EFO_0003890'), Row(diseaseFromSourceMappedId='HP_0000360'), Row(diseaseFromSourceMappedId='EFO_0000546'), Row(diseaseFromSourceMappedId='EFO_0000544'), Row(diseaseFromSourceMappedId='MONDO_0002050'), Row(diseaseFromSourceMappedId='EFO_0007453'), Row(diseaseFromSourceMappedId='EFO_0003843'), Row(diseaseFromSourceMappedId='MONDO_0100096'), Row(diseaseFromSourceMappedId='MONDO_0005180'), Row(diseaseFromSourceMappedId='EFO_0007328'), Row(diseaseFromSourceMappedId='EFO_0004329'), Row(diseaseFromSourceMappedId='EFO_1001892'), Row(diseaseFromSourceMappedId='EFO_0003931'), Row(diseaseFromSourceMappedId='EFO_0000544'), Row(diseaseFromSourceMappedId='EFO_0001358'), Row(diseaseFromSourceMappedId='EFO_0000546'), Row(diseaseFromSourceMappedId='MONDO_0002050'), Row(diseaseFromSourceMappedId='MONDO_0004976'), Row(diseaseFromSourceMappedId='MONDO_0005180'), Row(diseaseFromSourceMappedId='MONDO_0002009'), Row(diseaseFromSourceMappedId='EFO_1001917'), Row(diseaseFromSourceMappedId='EFO_0003843'), Row(diseaseFromSourceMappedId='MONDO_0005180'), Row(diseaseFromSourceMappedId='EFO_0003843'), Row(diseaseFromSourceMappedId='MONDO_0007079'), Row(diseaseFromSourceMappedId='EFO_1000860'), Row(diseaseFromSourceMappedId='EFO_0003843'), Row(diseaseFromSourceMappedId='MONDO_0002050'), Row(diseaseFromSourceMappedId='EFO_0003843'), Row(diseaseFromSourceMappedId='MONDO_0005180'), Row(diseaseFromSourceMappedId='MONDO_0007079'), Row(diseaseFromSourceMappedId='EFO_0000712'), Row(diseaseFromSourceMappedId='EFO_0003843'), Row(diseaseFromSourceMappedId='EFO_0007328'), Row(diseaseFromSourceMappedId='EFO_0003843'), Row(diseaseFromSourceMappedId='EFO_0000544'), Row(diseaseFromSourceMappedId='EFO_0004242'), Row(diseaseFromSourceMappedId='EFO_0003843'), Row(diseaseFromSourceMappedId='EFO_0009854'), Row(diseaseFromSourceMappedId='MONDO_0002050'), Row(diseaseFromSourceMappedId='MONDO_0005180'), Row(diseaseFromSourceMappedId='MONDO_0005180'), Row(diseaseFromSourceMappedId='EFO_0003843'), Row(diseaseFromSourceMappedId='EFO_0000544'), Row(diseaseFromSourceMappedId='EFO_0000544'), Row(diseaseFromSourceMappedId='MONDO_0002009'), Row(diseaseFromSourceMappedId='MONDO_0004992'), Row(diseaseFromSourceMappedId='MONDO_0005180'), Row(diseaseFromSourceMappedId='MONDO_0001208'), Row(diseaseFromSourceMappedId='EFO_0003843'), Row(diseaseFromSourceMappedId='EFO_0009267'), Row(diseaseFromSourceMappedId='EFO_0003843'), Row(diseaseFromSourceMappedId='MONDO_0005180'), Row(diseaseFromSourceMappedId='EFO_0000544'), Row(diseaseFromSourceMappedId='EFO_0003843'), Row(diseaseFromSourceMappedId='EFO_1000860'), Row(diseaseFromSourceMappedId='MONDO_0004975'), Row(diseaseFromSourceMappedId='EFO_1001402'), Row(diseaseFromSourceMappedId='MONDO_0002009'), Row(diseaseFromSourceMappedId='EFO_0000544'), Row(diseaseFromSourceMappedId='MONDO_0005180'), Row(diseaseFromSourceMappedId='EFO_1001402'), Row(diseaseFromSourceMappedId='MONDO_0002009'), Row(diseaseFromSourceMappedId='HP_0000360'), Row(diseaseFromSourceMappedId='EFO_0003758'), Row(diseaseFromSourceMappedId='EFO_0001422'), Row(diseaseFromSourceMappedId='EFO_0007430'), Row(diseaseFromSourceMappedId='EFO_0000544'), Row(diseaseFromSourceMappedId='EFO_0007191'), Row(diseaseFromSourceMappedId='EFO_0000544'), Row(diseaseFromSourceMappedId='MONDO_0005301'), Row(diseaseFromSourceMappedId='EFO_0003756'), Row(diseaseFromSourceMappedId='MONDO_0004976'), Row(diseaseFromSourceMappedId='EFO_0004320'), Row(diseaseFromSourceMappedId='EFO_0003843'), Row(diseaseFromSourceMappedId='MONDO_0000726'), Row(diseaseFromSourceMappedId='EFO_0020000'), Row(diseaseFromSourceMappedId='MONDO_0002050'), Row(diseaseFromSourceMappedId='EFO_0003888'), Row(diseaseFromSourceMappedId='MONDO_0004975'), Row(diseaseFromSourceMappedId='EFO_0003843'), Row(diseaseFromSourceMappedId='EFO_0005230'), Row(diseaseFromSourceMappedId='EFO_1001488'), Row(diseaseFromSourceMappedId='HP_0001300'), Row(diseaseFromSourceMappedId='EFO_0001064'), Row(diseaseFromSourceMappedId='MONDO_0002009'), Row(diseaseFromSourceMappedId='MONDO_0004975'), Row(diseaseFromSourceMappedId='EFO_0000544'), Row(diseaseFromSourceMappedId='MONDO_0002009'), Row(diseaseFromSourceMappedId='EFO_1001998'), Row(diseaseFromSourceMappedId='HP_0000360'), Row(diseaseFromSourceMappedId='MONDO_0004975'), Row(diseaseFromSourceMappedId='MONDO_0002050'), Row(diseaseFromSourceMappedId='EFO_0007328'), Row(diseaseFromSourceMappedId='MONDO_0002491'), Row(diseaseFromSourceMappedId='EFO_0000546'), Row(diseaseFromSourceMappedId='EFO_0005323'), Row(diseaseFromSourceMappedId='HP_0002315'), Row(diseaseFromSourceMappedId='EFO_0000544'), Row(diseaseFromSourceMappedId='MONDO_0005090'), Row(diseaseFromSourceMappedId='MONDO_0004681'), Row(diseaseFromSourceMappedId='MONDO_0001208'), Row(diseaseFromSourceMappedId='MONDO_0004975'), Row(diseaseFromSourceMappedId='EFO_0003843'), Row(diseaseFromSourceMappedId='MONDO_0005180'), Row(diseaseFromSourceMappedId='MONDO_0005180'), Row(diseaseFromSourceMappedId='EFO_0003843'), Row(diseaseFromSourceMappedId='EFO_0003843'), Row(diseaseFromSourceMappedId='HP_0000360'), Row(diseaseFromSourceMappedId='EFO_0000544'), Row(diseaseFromSourceMappedId='MONDO_0007079'), Row(diseaseFromSourceMappedId='EFO_0000546'), Row(diseaseFromSourceMappedId='MONDO_0005180'), Row(diseaseFromSourceMappedId='EFO_0000544'), Row(diseaseFromSourceMappedId='EFO_0003843'), Row(diseaseFromSourceMappedId='EFO_1001801'), Row(diseaseFromSourceMappedId='EFO_0001074'), Row(diseaseFromSourceMappedId='EFO_0001358'), Row(diseaseFromSourceMappedId='MONDO_0004985'), Row(diseaseFromSourceMappedId='EFO_0003843'), Row(diseaseFromSourceMappedId='EFO_0009552'), Row(diseaseFromSourceMappedId='EFO_0003843'), Row(diseaseFromSourceMappedId='EFO_0009854'), Row(diseaseFromSourceMappedId='MONDO_0005180'), Row(diseaseFromSourceMappedId='EFO_0007328'), Row(diseaseFromSourceMappedId='EFO_0000519'), Row(diseaseFromSourceMappedId='EFO_0003843'), Row(diseaseFromSourceMappedId='MONDO_0004992'), Row(diseaseFromSourceMappedId='EFO_0003888'), Row(diseaseFromSourceMappedId='EFO_0003843'), Row(diseaseFromSourceMappedId='EFO_0004701'), Row(diseaseFromSourceMappedId='MONDO_0002050'), Row(diseaseFromSourceMappedId='EFO_0001358'), Row(diseaseFromSourceMappedId='EFO_0009854'), Row(diseaseFromSourceMappedId='EFO_0005611'), Row(diseaseFromSourceMappedId='MONDO_0002009'), Row(diseaseFromSourceMappedId='MONDO_0004985'), Row(diseaseFromSourceMappedId='EFO_0000712'), Row(diseaseFromSourceMappedId='EFO_0007328'), Row(diseaseFromSourceMappedId='EFO_0000544'), Row(diseaseFromSourceMappedId='EFO_1001488'), Row(diseaseFromSourceMappedId='EFO_0007328'), Row(diseaseFromSourceMappedId='MONDO_0004975'), Row(diseaseFromSourceMappedId='MONDO_0004985'), Row(diseaseFromSourceMappedId='MONDO_0004976'), Row(diseaseFromSourceMappedId='EFO_0003843'), Row(diseaseFromSourceMappedId='EFO_0004701'), Row(diseaseFromSourceMappedId='EFO_0000519'), Row(diseaseFromSourceMappedId='EFO_0000474'), Row(diseaseFromSourceMappedId='EFO_0003756'), Row(diseaseFromSourceMappedId='MONDO_0004975'), Row(diseaseFromSourceMappedId='MONDO_0007079'), Row(diseaseFromSourceMappedId='EFO_0008526'), Row(diseaseFromSourceMappedId='EFO_0009854'), Row(diseaseFromSourceMappedId='EFO_0003843'), Row(diseaseFromSourceMappedId='MONDO_0007079'), Row(diseaseFromSourceMappedId='EFO_0005611'), Row(diseaseFromSourceMappedId='EFO_0003843'), Row(diseaseFromSourceMappedId='HP_0100543'), Row(diseaseFromSourceMappedId='EFO_0003768'), Row(diseaseFromSourceMappedId='EFO_0004242'), Row(diseaseFromSourceMappedId='EFO_0007328'), Row(diseaseFromSourceMappedId='MONDO_0002258'), Row(diseaseFromSourceMappedId='MONDO_0005180'), Row(diseaseFromSourceMappedId='EFO_0007328'), Row(diseaseFromSourceMappedId='EFO_0003758'), Row(diseaseFromSourceMappedId='MONDO_0002050'), Row(diseaseFromSourceMappedId='EFO_0000544'), Row(diseaseFromSourceMappedId='MONDO_0005180'), Row(diseaseFromSourceMappedId='MONDO_0007079'), Row(diseaseFromSourceMappedId='MONDO_0004975'), Row(diseaseFromSourceMappedId='EFO_0003843'), Row(diseaseFromSourceMappedId='MONDO_0004975'), Row(diseaseFromSourceMappedId='MONDO_0002009'), Row(diseaseFromSourceMappedId='EFO_0000694'), Row(diseaseFromSourceMappedId='MONDO_0005090'), Row(diseaseFromSourceMappedId='EFO_0004242'), Row(diseaseFromSourceMappedId='EFO_0001358'), Row(diseaseFromSourceMappedId='EFO_0003843'), Row(diseaseFromSourceMappedId='EFO_0009513'), Row(diseaseFromSourceMappedId='EFO_0009620'), Row(diseaseFromSourceMappedId='MONDO_0002009'), Row(diseaseFromSourceMappedId='HP_0012532'), Row(diseaseFromSourceMappedId='MONDO_0004975'), Row(diseaseFromSourceMappedId='EFO_0003086'), Row(diseaseFromSourceMappedId='MONDO_0004975'), Row(diseaseFromSourceMappedId='MONDO_0005180'), Row(diseaseFromSourceMappedId='EFO_0003756'), Row(diseaseFromSourceMappedId='MONDO_0002009'), Row(diseaseFromSourceMappedId='EFO_0003843'), Row(diseaseFromSourceMappedId='MONDO_0100096'), Row(diseaseFromSourceMappedId='EFO_1001175'), Row(diseaseFromSourceMappedId='MONDO_0002009'), Row(diseaseFromSourceMappedId='EFO_0007328'), Row(diseaseFromSourceMappedId='MONDO_0007079'), Row(diseaseFromSourceMappedId='MONDO_0007079'), Row(diseaseFromSourceMappedId='MONDO_0002009'), Row(diseaseFromSourceMappedId='EFO_0003888'), Row(diseaseFromSourceMappedId='MONDO_0004985'), Row(diseaseFromSourceMappedId='EFO_0003843'), Row(diseaseFromSourceMappedId='EFO_1000860'), Row(diseaseFromSourceMappedId='EFO_1001175'), Row(diseaseFromSourceMappedId='MONDO_0002009'), Row(diseaseFromSourceMappedId='EFO_0005611'), Row(diseaseFromSourceMappedId='EFO_0000544'), Row(diseaseFromSourceMappedId='MONDO_0002050'), Row(diseaseFromSourceMappedId='MONDO_0002050'), Row(diseaseFromSourceMappedId='EFO_0004242'), Row(diseaseFromSourceMappedId='EFO_1000391'), Row(diseaseFromSourceMappedId='MONDO_0004985'), Row(diseaseFromSourceMappedId='EFO_0007328'), Row(diseaseFromSourceMappedId='MONDO_0002009'), Row(diseaseFromSourceMappedId='MONDO_0005180'), Row(diseaseFromSourceMappedId='EFO_0003843'), Row(diseaseFromSourceMappedId='EFO_0007634'), Row(diseaseFromSourceMappedId='EFO_0004220'), Row(diseaseFromSourceMappedId='MONDO_0005090'), Row(diseaseFromSourceMappedId='EFO_1001175'), Row(diseaseFromSourceMappedId='MONDO_0005277'), Row(diseaseFromSourceMappedId='EFO_0000544'), Row(diseaseFromSourceMappedId='HP_0000486'), Row(diseaseFromSourceMappedId='EFO_0003843'), Row(diseaseFromSourceMappedId='EFO_0004888'), Row(diseaseFromSourceMappedId='EFO_0003843'), Row(diseaseFromSourceMappedId='EFO_0004329'), Row(diseaseFromSourceMappedId='MONDO_0011382'), Row(diseaseFromSourceMappedId='MONDO_0002050'), Row(diseaseFromSourceMappedId='EFO_0000326'), Row(diseaseFromSourceMappedId='EFO_0003843'), Row(diseaseFromSourceMappedId='MONDO_0004992'), Row(diseaseFromSourceMappedId='MONDO_0005301'), Row(diseaseFromSourceMappedId='HP_0012228'), Row(diseaseFromSourceMappedId='EFO_1000860'), Row(diseaseFromSourceMappedId='EFO_0005323'), Row(diseaseFromSourceMappedId='EFO_0001645'), Row(diseaseFromSourceMappedId='EFO_1001491'), Row(diseaseFromSourceMappedId='EFO_1001402'), Row(diseaseFromSourceMappedId='MONDO_0004975'), Row(diseaseFromSourceMappedId='MONDO_0005090'), Row(diseaseFromSourceMappedId='MONDO_0011382'), Row(diseaseFromSourceMappedId='EFO_0009620'), Row(diseaseFromSourceMappedId='MONDO_0005180'), Row(diseaseFromSourceMappedId='MONDO_0005180'), Row(diseaseFromSourceMappedId='MONDO_0007079'), Row(diseaseFromSourceMappedId='MONDO_0005090'), Row(diseaseFromSourceMappedId='MONDO_0002050'), Row(diseaseFromSourceMappedId='EFO_0003843'), Row(diseaseFromSourceMappedId='EFO_1000637'), Row(diseaseFromSourceMappedId='MONDO_0004975'), Row(diseaseFromSourceMappedId='EFO_0007328'), Row(diseaseFromSourceMappedId='EFO_0009854'), Row(diseaseFromSourceMappedId='MONDO_0007079'), Row(diseaseFromSourceMappedId='MONDO_0002009'), Row(diseaseFromSourceMappedId='MONDO_0004975'), Row(diseaseFromSourceMappedId='MONDO_0007079'), Row(diseaseFromSourceMappedId='MONDO_0005180'), Row(diseaseFromSourceMappedId='EFO_0003768'), Row(diseaseFromSourceMappedId='MONDO_0002050'), Row(diseaseFromSourceMappedId='MONDO_0002050'), Row(diseaseFromSourceMappedId='MONDO_0007079'), Row(diseaseFromSourceMappedId='EFO_1001175'), Row(diseaseFromSourceMappedId='EFO_0003843'), Row(diseaseFromSourceMappedId='EFO_0007328'), Row(diseaseFromSourceMappedId='EFO_0003761'), Row(diseaseFromSourceMappedId='EFO_0000546'), Row(diseaseFromSourceMappedId='EFO_0003843'), Row(diseaseFromSourceMappedId='EFO_1001402'), Row(diseaseFromSourceMappedId='EFO_0000544'), Row(diseaseFromSourceMappedId='HP_0000360'), Row(diseaseFromSourceMappedId='EFO_0005203'), Row(diseaseFromSourceMappedId='MONDO_0004975'), Row(diseaseFromSourceMappedId='EFO_0005323'), Row(diseaseFromSourceMappedId='EFO_0007328'), Row(diseaseFromSourceMappedId='EFO_0000546'), Row(diseaseFromSourceMappedId='MONDO_0004975'), Row(diseaseFromSourceMappedId='EFO_0005762'), Row(diseaseFromSourceMappedId='MONDO_0005180'), Row(diseaseFromSourceMappedId='MONDO_0002009'), Row(diseaseFromSourceMappedId='EFO_1000860'), Row(diseaseFromSourceMappedId='EFO_0000546'), Row(diseaseFromSourceMappedId='EFO_0004320'), Row(diseaseFromSourceMappedId='MONDO_0002009'), Row(diseaseFromSourceMappedId='EFO_0003843'), Row(diseaseFromSourceMappedId='EFO_0008526'), Row(diseaseFromSourceMappedId='EFO_0003843'), Row(diseaseFromSourceMappedId='EFO_1001884'), Row(diseaseFromSourceMappedId='MONDO_0002050'), Row(diseaseFromSourceMappedId='EFO_0004220'), Row(diseaseFromSourceMappedId='MONDO_0043510'), Row(diseaseFromSourceMappedId='EFO_1001488'), Row(diseaseFromSourceMappedId='EFO_0003843'), Row(diseaseFromSourceMappedId='HP_0012532'), Row(diseaseFromSourceMappedId='EFO_0003843'), Row(diseaseFromSourceMappedId='MONDO_0100096'), Row(diseaseFromSourceMappedId='EFO_0002610'), Row(diseaseFromSourceMappedId='EFO_0009854'), Row(diseaseFromSourceMappedId='MONDO_0002009'), Row(diseaseFromSourceMappedId='HP_0000360'), Row(diseaseFromSourceMappedId='EFO_0003843'), Row(diseaseFromSourceMappedId='EFO_1001488'), Row(diseaseFromSourceMappedId='MONDO_0007079'), Row(diseaseFromSourceMappedId='MONDO_0005180'), Row(diseaseFromSourceMappedId='MONDO_0024880'), Row(diseaseFromSourceMappedId='EFO_0003756'), Row(diseaseFromSourceMappedId='EFO_0007453'), Row(diseaseFromSourceMappedId='EFO_0003931'), Row(diseaseFromSourceMappedId='MONDO_0005180'), Row(diseaseFromSourceMappedId='MONDO_0002009'), Row(diseaseFromSourceMappedId='MONDO_0002070'), Row(diseaseFromSourceMappedId='EFO_0004320'), Row(diseaseFromSourceMappedId='HP_0000360'), Row(diseaseFromSourceMappedId='MONDO_0010383'), Row(diseaseFromSourceMappedId='MONDO_0002050'), Row(diseaseFromSourceMappedId='MONDO_0002050'), Row(diseaseFromSourceMappedId='EFO_0000544'), Row(diseaseFromSourceMappedId='MONDO_0005180'), Row(diseaseFromSourceMappedId='EFO_0000544'), Row(diseaseFromSourceMappedId='EFO_0003843'), Row(diseaseFromSourceMappedId='EFO_0001358'), Row(diseaseFromSourceMappedId='MONDO_0002009'), Row(diseaseFromSourceMappedId='EFO_0003843'), Row(diseaseFromSourceMappedId='HP_0030680'), Row(diseaseFromSourceMappedId='MONDO_0002009'), Row(diseaseFromSourceMappedId='EFO_0003843'), Row(diseaseFromSourceMappedId='MONDO_0011382'), Row(diseaseFromSourceMappedId='EFO_0007430'), Row(diseaseFromSourceMappedId='MONDO_0002009'), Row(diseaseFromSourceMappedId='MONDO_0002050'), Row(diseaseFromSourceMappedId='EFO_0007328'), Row(diseaseFromSourceMappedId='HP_0000360'), Row(diseaseFromSourceMappedId='MONDO_0002009'), Row(diseaseFromSourceMappedId='EFO_0004247'), Row(diseaseFromSourceMappedId='EFO_0005232'), Row(diseaseFromSourceMappedId='MONDO_0005180'), Row(diseaseFromSourceMappedId='MONDO_0005180'), Row(diseaseFromSourceMappedId='HP_0003419'), Row(diseaseFromSourceMappedId='MONDO_0004985'), Row(diseaseFromSourceMappedId='EFO_1001402'), Row(diseaseFromSourceMappedId='EFO_0005762'), Row(diseaseFromSourceMappedId='MONDO_0005180'), Row(diseaseFromSourceMappedId='MONDO_0005301'), Row(diseaseFromSourceMappedId='EFO_0003843'), Row(diseaseFromSourceMappedId='EFO_0009854'), Row(diseaseFromSourceMappedId='EFO_0003888'), Row(diseaseFromSourceMappedId='EFO_0003843'), Row(diseaseFromSourceMappedId='EFO_0003843'), Row(diseaseFromSourceMappedId='EFO_1001402'), Row(diseaseFromSourceMappedId='EFO_0004242'), Row(diseaseFromSourceMappedId='MONDO_0002009'), Row(diseaseFromSourceMappedId='MONDO_0002009'), Row(diseaseFromSourceMappedId='MONDO_0005180'), Row(diseaseFromSourceMappedId='EFO_0001072'), Row(diseaseFromSourceMappedId='EFO_1001488'), Row(diseaseFromSourceMappedId='MONDO_0005180'), Row(diseaseFromSourceMappedId='EFO_0007328'), Row(diseaseFromSourceMappedId='EFO_0009963'), Row(diseaseFromSourceMappedId='MP_0001914'), Row(diseaseFromSourceMappedId='EFO_0006834'), Row(diseaseFromSourceMappedId='EFO_0007328'), Row(diseaseFromSourceMappedId='EFO_0003843'), Row(diseaseFromSourceMappedId='EFO_0007328'), Row(diseaseFromSourceMappedId='EFO_0005762'), Row(diseaseFromSourceMappedId='MONDO_0007079'), Row(diseaseFromSourceMappedId='EFO_0007328'), Row(diseaseFromSourceMappedId='EFO_0004242'), Row(diseaseFromSourceMappedId='EFO_1001402'), Row(diseaseFromSourceMappedId='HP_0003419'), Row(diseaseFromSourceMappedId='EFO_0003843'), Row(diseaseFromSourceMappedId='MONDO_0011382'), Row(diseaseFromSourceMappedId='MONDO_0005090'), Row(diseaseFromSourceMappedId='MONDO_0002050'), Row(diseaseFromSourceMappedId='EFO_1001898'), Row(diseaseFromSourceMappedId='MONDO_0002009'), Row(diseaseFromSourceMappedId='MONDO_0004975'), Row(diseaseFromSourceMappedId='MONDO_0005090'), Row(diseaseFromSourceMappedId='EFO_0004320'), Row(diseaseFromSourceMappedId='EFO_0003843'), Row(diseaseFromSourceMappedId='MONDO_0005180'), Row(diseaseFromSourceMappedId='MONDO_0005180'), Row(diseaseFromSourceMappedId='MONDO_0005180'), Row(diseaseFromSourceMappedId='MONDO_0004975'), Row(diseaseFromSourceMappedId='MONDO_0005180'), Row(diseaseFromSourceMappedId='EFO_0005230'), Row(diseaseFromSourceMappedId='MONDO_0002009'), Row(diseaseFromSourceMappedId='EFO_0003843'), Row(diseaseFromSourceMappedId='MONDO_0004975'), Row(diseaseFromSourceMappedId='EFO_0001361'), Row(diseaseFromSourceMappedId='EFO_0005762'), Row(diseaseFromSourceMappedId='MONDO_0005180'), Row(diseaseFromSourceMappedId='EFO_0004321'), Row(diseaseFromSourceMappedId='EFO_0005762'), Row(diseaseFromSourceMappedId='EFO_0003756'), Row(diseaseFromSourceMappedId='EFO_0005611'), Row(diseaseFromSourceMappedId='MONDO_0004975'), Row(diseaseFromSourceMappedId='HP_0012228'), Row(diseaseFromSourceMappedId='MONDO_0004992'), Row(diseaseFromSourceMappedId='MONDO_0005301'), Row(diseaseFromSourceMappedId='EFO_0001358'), Row(diseaseFromSourceMappedId='EFO_0003843'), Row(diseaseFromSourceMappedId='MONDO_0005180'), Row(diseaseFromSourceMappedId='EFO_0002610'), Row(diseaseFromSourceMappedId='EFO_0009516'), Row(diseaseFromSourceMappedId='MONDO_0017276'), Row(diseaseFromSourceMappedId='EFO_0003843'), Row(diseaseFromSourceMappedId='MONDO_0002050'), Row(diseaseFromSourceMappedId='MONDO_0007254'), Row(diseaseFromSourceMappedId='MONDO_0002009'), Row(diseaseFromSourceMappedId='EFO_0000544'), Row(diseaseFromSourceMappedId='EFO_0003843'), Row(diseaseFromSourceMappedId='EFO_0001358'), Row(diseaseFromSourceMappedId='EFO_0004242'), Row(diseaseFromSourceMappedId='MONDO_0002009'), Row(diseaseFromSourceMappedId='EFO_0003843'), Row(diseaseFromSourceMappedId='EFO_0003957'), Row(diseaseFromSourceMappedId='HP_0000360'), Row(diseaseFromSourceMappedId='MONDO_0002009'), Row(diseaseFromSourceMappedId='MONDO_0007079'), Row(diseaseFromSourceMappedId='EFO_0009620'), Row(diseaseFromSourceMappedId='MONDO_0005090'), Row(diseaseFromSourceMappedId='MONDO_0004975'), Row(diseaseFromSourceMappedId='EFO_0003843'), Row(diseaseFromSourceMappedId='EFO_0000544'), Row(diseaseFromSourceMappedId='EFO_0009854'), Row(diseaseFromSourceMappedId='EFO_0000474'), Row(diseaseFromSourceMappedId='MONDO_0004985'), Row(diseaseFromSourceMappedId='EFO_0003843'), Row(diseaseFromSourceMappedId='HP_0000713'), Row(diseaseFromSourceMappedId='EFO_0007328'), Row(diseaseFromSourceMappedId='EFO_0005762'), Row(diseaseFromSourceMappedId='MONDO_0005180'), Row(diseaseFromSourceMappedId='MONDO_0004975'), Row(diseaseFromSourceMappedId='EFO_0003758'), Row(diseaseFromSourceMappedId='EFO_0007328'), Row(diseaseFromSourceMappedId='MONDO_0002009'), Row(diseaseFromSourceMappedId='MONDO_0002050'), Row(diseaseFromSourceMappedId='EFO_0006834'), Row(diseaseFromSourceMappedId='EFO_0000519'), Row(diseaseFromSourceMappedId='EFO_0003843'), Row(diseaseFromSourceMappedId='MONDO_0007079'), Row(diseaseFromSourceMappedId='MONDO_0011382'), Row(diseaseFromSourceMappedId='MONDO_0005180'), Row(diseaseFromSourceMappedId='EFO_0000544'), Row(diseaseFromSourceMappedId='MONDO_0002050'), Row(diseaseFromSourceMappedId='EFO_0003931'), Row(diseaseFromSourceMappedId='MONDO_0004975'), Row(diseaseFromSourceMappedId='MONDO_0002050'), Row(diseaseFromSourceMappedId='EFO_0005762'), Row(diseaseFromSourceMappedId='HP_0000360'), Row(diseaseFromSourceMappedId='EFO_0003843'), Row(diseaseFromSourceMappedId='MONDO_0002009'), Row(diseaseFromSourceMappedId='EFO_0004242'), Row(diseaseFromSourceMappedId='EFO_1001175'), Row(diseaseFromSourceMappedId='EFO_0003015'), Row(diseaseFromSourceMappedId='MP_0001914'), Row(diseaseFromSourceMappedId='EFO_0004888'), Row(diseaseFromSourceMappedId='MONDO_0011382'), Row(diseaseFromSourceMappedId='EFO_1001917'), Row(diseaseFromSourceMappedId='EFO_0005323'), Row(diseaseFromSourceMappedId='HP_0012532'), Row(diseaseFromSourceMappedId='EFO_0000712'), Row(diseaseFromSourceMappedId='MONDO_0005180'), Row(diseaseFromSourceMappedId='HP_0000360'), Row(diseaseFromSourceMappedId='MONDO_0005180'), Row(diseaseFromSourceMappedId='EFO_0005687'), Row(diseaseFromSourceMappedId='MONDO_0007079'), Row(diseaseFromSourceMappedId='HP_0000360'), Row(diseaseFromSourceMappedId='EFO_0000544'), Row(diseaseFromSourceMappedId='EFO_0003761'), Row(diseaseFromSourceMappedId='MONDO_0004975'), Row(diseaseFromSourceMappedId='EFO_0005411'), Row(diseaseFromSourceMappedId='EFO_0005762'), Row(diseaseFromSourceMappedId='EFO_0007328'), Row(diseaseFromSourceMappedId='EFO_0004220'), Row(diseaseFromSourceMappedId='EFO_0000544'), Row(diseaseFromSourceMappedId='MONDO_0005180'), Row(diseaseFromSourceMappedId='MONDO_0002050'), Row(diseaseFromSourceMappedId='MONDO_0002009'), Row(diseaseFromSourceMappedId='EFO_0004320'), Row(diseaseFromSourceMappedId='MONDO_0010383'), Row(diseaseFromSourceMappedId='EFO_0006834'), Row(diseaseFromSourceMappedId='MONDO_0004975'), Row(diseaseFromSourceMappedId='HP_0000360'), Row(diseaseFromSourceMappedId='EFO_0009854'), Row(diseaseFromSourceMappedId='MONDO_0002009'), Row(diseaseFromSourceMappedId='EFO_0003931'), Row(diseaseFromSourceMappedId='MONDO_0004975'), Row(diseaseFromSourceMappedId='MONDO_0004992'), Row(diseaseFromSourceMappedId='MONDO_0002009'), Row(diseaseFromSourceMappedId='EFO_0005762'), Row(diseaseFromSourceMappedId='EFO_0009963'), Row(diseaseFromSourceMappedId='EFO_0005323'), Row(diseaseFromSourceMappedId='EFO_0003843'), Row(diseaseFromSourceMappedId='MONDO_0005180'), Row(diseaseFromSourceMappedId='EFO_0003777'), Row(diseaseFromSourceMappedId='EFO_0007328'), Row(diseaseFromSourceMappedId='HP_0012532'), Row(diseaseFromSourceMappedId='EFO_0003843'), Row(diseaseFromSourceMappedId='MONDO_0005180'), Row(diseaseFromSourceMappedId='MONDO_0007079'), Row(diseaseFromSourceMappedId='MONDO_0002050'), Row(diseaseFromSourceMappedId='EFO_1001402'), Row(diseaseFromSourceMappedId='MONDO_0002009'), Row(diseaseFromSourceMappedId='MONDO_0002050'), Row(diseaseFromSourceMappedId='MONDO_0004975'), Row(diseaseFromSourceMappedId='MONDO_0005180'), Row(diseaseFromSourceMappedId='EFO_0009267'), Row(diseaseFromSourceMappedId='EFO_0009620'), Row(diseaseFromSourceMappedId='EFO_0003931'), Row(diseaseFromSourceMappedId='EFO_0004699'), Row(diseaseFromSourceMappedId='EFO_0007328'), Row(diseaseFromSourceMappedId='EFO_0000544'), Row(diseaseFromSourceMappedId='HP_0001300'), Row(diseaseFromSourceMappedId='MONDO_0100096'), Row(diseaseFromSourceMappedId='HP_0000360'), Row(diseaseFromSourceMappedId='EFO_0003843'), Row(diseaseFromSourceMappedId='EFO_0009854'), Row(diseaseFromSourceMappedId='MONDO_0007079'), Row(diseaseFromSourceMappedId='EFO_0000546'), Row(diseaseFromSourceMappedId='EFO_0005230'), Row(diseaseFromSourceMappedId='MONDO_0002009'), Row(diseaseFromSourceMappedId='EFO_0003843'), Row(diseaseFromSourceMappedId='MONDO_0043510'), Row(diseaseFromSourceMappedId='EFO_0003757'), Row(diseaseFromSourceMappedId='MONDO_0004976'), Row(diseaseFromSourceMappedId='EFO_0000544'), Row(diseaseFromSourceMappedId='EFO_1001175'), Row(diseaseFromSourceMappedId='MP_0001914'), Row(diseaseFromSourceMappedId='EFO_0009854'), Row(diseaseFromSourceMappedId='EFO_0004777'), Row(diseaseFromSourceMappedId='EFO_0003931'), Row(diseaseFromSourceMappedId='EFO_0007328'), Row(diseaseFromSourceMappedId='HP_0002381'), Row(diseaseFromSourceMappedId='EFO_0005203'), Row(diseaseFromSourceMappedId='HP_0030680'), Row(diseaseFromSourceMappedId='EFO_0009267'), Row(diseaseFromSourceMappedId='EFO_0005411'), Row(diseaseFromSourceMappedId='MONDO_0004985'), Row(diseaseFromSourceMappedId='MONDO_0005180'), Row(diseaseFromSourceMappedId='MONDO_0002009'), Row(diseaseFromSourceMappedId='EFO_0005203'), Row(diseaseFromSourceMappedId='EFO_0003843'), Row(diseaseFromSourceMappedId='EFO_0009386'), Row(diseaseFromSourceMappedId='EFO_0003843'), Row(diseaseFromSourceMappedId='MONDO_0004681'), Row(diseaseFromSourceMappedId='MONDO_0002050'), Row(diseaseFromSourceMappedId='EFO_0003758'), Row(diseaseFromSourceMappedId='EFO_0007328'), Row(diseaseFromSourceMappedId='EFO_0009854'), Row(diseaseFromSourceMappedId='EFO_0007328'), Row(diseaseFromSourceMappedId='HP_0100543'), Row(diseaseFromSourceMappedId='EFO_0003843'), Row(diseaseFromSourceMappedId='MONDO_0007079'), Row(diseaseFromSourceMappedId='MONDO_0002009'), Row(diseaseFromSourceMappedId='MONDO_0007079'), Row(diseaseFromSourceMappedId='MONDO_0002009'), Row(diseaseFromSourceMappedId='EFO_0003918'), Row(diseaseFromSourceMappedId='MONDO_0002050'), Row(diseaseFromSourceMappedId='EFO_0007328'), Row(diseaseFromSourceMappedId='MONDO_0004975'), Row(diseaseFromSourceMappedId='EFO_1001402'), Row(diseaseFromSourceMappedId='EFO_1000860'), Row(diseaseFromSourceMappedId='EFO_0003843'), Row(diseaseFromSourceMappedId='EFO_0003843'), Row(diseaseFromSourceMappedId='EFO_0000546'), Row(diseaseFromSourceMappedId='MONDO_0004985'), Row(diseaseFromSourceMappedId='EFO_0003843'), Row(diseaseFromSourceMappedId='HP_0002140'), Row(diseaseFromSourceMappedId='EFO_0005279'), Row(diseaseFromSourceMappedId='EFO_0007328'), Row(diseaseFromSourceMappedId='HP_0001300'), Row(diseaseFromSourceMappedId='MONDO_0004975'), Row(diseaseFromSourceMappedId='MONDO_0002050'), Row(diseaseFromSourceMappedId='EFO_1001175'), Row(diseaseFromSourceMappedId='MONDO_0002050'), Row(diseaseFromSourceMappedId='HP_0012532'), Row(diseaseFromSourceMappedId='MONDO_0002009'), Row(diseaseFromSourceMappedId='EFO_0007453'), Row(diseaseFromSourceMappedId='MONDO_0002050'), Row(diseaseFromSourceMappedId='EFO_0009854'), Row(diseaseFromSourceMappedId='EFO_0003869'), Row(diseaseFromSourceMappedId='MONDO_0005180'), Row(diseaseFromSourceMappedId='EFO_0004220'), Row(diseaseFromSourceMappedId='EFO_0000544'), Row(diseaseFromSourceMappedId='EFO_0000712'), Row(diseaseFromSourceMappedId='EFO_0004888'), Row(diseaseFromSourceMappedId='EFO_0007328'), Row(diseaseFromSourceMappedId='MONDO_0017276'), Row(diseaseFromSourceMappedId='MONDO_0005180'), Row(diseaseFromSourceMappedId='EFO_0009854'), Row(diseaseFromSourceMappedId='EFO_0003761'), Row(diseaseFromSourceMappedId='MONDO_0007079'), Row(diseaseFromSourceMappedId='EFO_0007453'), Row(diseaseFromSourceMappedId='MONDO_0005180'), Row(diseaseFromSourceMappedId='EFO_0000544'), Row(diseaseFromSourceMappedId='MONDO_0005180'), Row(diseaseFromSourceMappedId='EFO_0003843'), Row(diseaseFromSourceMappedId='EFO_0000544'), Row(diseaseFromSourceMappedId='MONDO_0007254'), Row(diseaseFromSourceMappedId='EFO_1000860'), Row(diseaseFromSourceMappedId='EFO_0003843'), Row(diseaseFromSourceMappedId='EFO_0000546'), Row(diseaseFromSourceMappedId='HP_0100806'), Row(diseaseFromSourceMappedId='HP_0000713'), Row(diseaseFromSourceMappedId='EFO_1000860'), Row(diseaseFromSourceMappedId='MONDO_0002009'), Row(diseaseFromSourceMappedId='HP_0002140'), Row(diseaseFromSourceMappedId='MONDO_0004975'), Row(diseaseFromSourceMappedId='MONDO_0002009'), Row(diseaseFromSourceMappedId='MONDO_0002009'), Row(diseaseFromSourceMappedId='MONDO_0002009'), Row(diseaseFromSourceMappedId='HP_0100543'), Row(diseaseFromSourceMappedId='MONDO_0004985'), Row(diseaseFromSourceMappedId='MONDO_0002050'), Row(diseaseFromSourceMappedId='EFO_0003888'), Row(diseaseFromSourceMappedId='EFO_0000474'), Row(diseaseFromSourceMappedId='EFO_0002610'), Row(diseaseFromSourceMappedId='MONDO_0007079'), Row(diseaseFromSourceMappedId='EFO_1001402'), Row(diseaseFromSourceMappedId='MONDO_0002009'), Row(diseaseFromSourceMappedId='MONDO_0005090'), Row(diseaseFromSourceMappedId='EFO_1000860'), Row(diseaseFromSourceMappedId='MONDO_0002050'), Row(diseaseFromSourceMappedId='EFO_0000544'), Row(diseaseFromSourceMappedId='MONDO_0005180'), Row(diseaseFromSourceMappedId='EFO_0009854'), Row(diseaseFromSourceMappedId='MONDO_0002050'), Row(diseaseFromSourceMappedId='MONDO_0001208'), Row(diseaseFromSourceMappedId='HP_0000360'), Row(diseaseFromSourceMappedId='MONDO_0004992'), Row(diseaseFromSourceMappedId='MONDO_0005090'), Row(diseaseFromSourceMappedId='EFO_0003890'), Row(diseaseFromSourceMappedId='EFO_0003843'), Row(diseaseFromSourceMappedId='EFO_0004320'), Row(diseaseFromSourceMappedId='EFO_0007328'), Row(diseaseFromSourceMappedId='EFO_0007328'), Row(diseaseFromSourceMappedId='EFO_1001488'), Row(diseaseFromSourceMappedId='EFO_0007328'), Row(diseaseFromSourceMappedId='EFO_0000544'), Row(diseaseFromSourceMappedId='MONDO_0004975'), Row(diseaseFromSourceMappedId='EFO_0000546'), Row(diseaseFromSourceMappedId='MONDO_0004976'), Row(diseaseFromSourceMappedId='EFO_1000860'), Row(diseaseFromSourceMappedId='MONDO_0002009'), Row(diseaseFromSourceMappedId='MONDO_0005180'), Row(diseaseFromSourceMappedId='EFO_0004320'), Row(diseaseFromSourceMappedId='EFO_0000474'), Row(diseaseFromSourceMappedId='MONDO_0005090'), Row(diseaseFromSourceMappedId='MONDO_0008903'), Row(diseaseFromSourceMappedId='MONDO_0002050'), Row(diseaseFromSourceMappedId='MONDO_0002038'), Row(diseaseFromSourceMappedId='MONDO_0043510'), Row(diseaseFromSourceMappedId='MONDO_0002050'), Row(diseaseFromSourceMappedId='EFO_1001412'), Row(diseaseFromSourceMappedId='MONDO_0002009'), Row(diseaseFromSourceMappedId='MONDO_0002050'), Row(diseaseFromSourceMappedId='MONDO_0010383'), Row(diseaseFromSourceMappedId='EFO_0003843'), Row(diseaseFromSourceMappedId='MONDO_0005301'), Row(diseaseFromSourceMappedId='MONDO_0005180'), Row(diseaseFromSourceMappedId='EFO_0003843'), Row(diseaseFromSourceMappedId='EFO_0004240'), Row(diseaseFromSourceMappedId='MONDO_0004976'), Row(diseaseFromSourceMappedId='EFO_0004240'), Row(diseaseFromSourceMappedId='EFO_0003843'), Row(diseaseFromSourceMappedId='MONDO_0005090'), Row(diseaseFromSourceMappedId='HP_0100543'), Row(diseaseFromSourceMappedId='MONDO_0002358'), Row(diseaseFromSourceMappedId='EFO_0002610'), Row(diseaseFromSourceMappedId='EFO_1000860'), Row(diseaseFromSourceMappedId='MONDO_0004975'), Row(diseaseFromSourceMappedId='MONDO_0005180'), Row(diseaseFromSourceMappedId='HP_0001300'), Row(diseaseFromSourceMappedId='EFO_0003833'), Row(diseaseFromSourceMappedId='EFO_0004320'), Row(diseaseFromSourceMappedId='MONDO_0005180'), Row(diseaseFromSourceMappedId='MONDO_0004976'), Row(diseaseFromSourceMappedId='MONDO_0005301'), Row(diseaseFromSourceMappedId='EFO_0003843'), Row(diseaseFromSourceMappedId='EFO_0000544'), Row(diseaseFromSourceMappedId='HP_0001268'), Row(diseaseFromSourceMappedId='MONDO_0005301'), Row(diseaseFromSourceMappedId='EFO_0007328'), Row(diseaseFromSourceMappedId='MONDO_0005180'), Row(diseaseFromSourceMappedId='HP_0002315'), Row(diseaseFromSourceMappedId='EFO_0000544'), Row(diseaseFromSourceMappedId='MONDO_0002679'), Row(diseaseFromSourceMappedId='EFO_0003843'), Row(diseaseFromSourceMappedId='MONDO_0002009'), Row(diseaseFromSourceMappedId='MONDO_0007739'), Row(diseaseFromSourceMappedId='MONDO_0002050'), Row(diseaseFromSourceMappedId='MONDO_0005090'), Row(diseaseFromSourceMappedId='MONDO_0002050'), Row(diseaseFromSourceMappedId='EFO_0009854'), Row(diseaseFromSourceMappedId='EFO_0000713'), Row(diseaseFromSourceMappedId='EFO_1000860'), Row(diseaseFromSourceMappedId='EFO_0009854'), Row(diseaseFromSourceMappedId='EFO_0005762'), Row(diseaseFromSourceMappedId='EFO_0007328'), Row(diseaseFromSourceMappedId='EFO_1001402'), Row(diseaseFromSourceMappedId='MONDO_0002050'), Row(diseaseFromSourceMappedId='EFO_0004699'), Row(diseaseFromSourceMappedId='EFO_0000546'), Row(diseaseFromSourceMappedId='MONDO_0002050'), Row(diseaseFromSourceMappedId='EFO_0004320'), Row(diseaseFromSourceMappedId='EFO_0008526'), Row(diseaseFromSourceMappedId='EFO_0000544'), Row(diseaseFromSourceMappedId='MP_0001845'), Row(diseaseFromSourceMappedId='MONDO_0004975'), Row(diseaseFromSourceMappedId='MONDO_0007915'), Row(diseaseFromSourceMappedId='EFO_0000474'), Row(diseaseFromSourceMappedId='MONDO_0004976'), Row(diseaseFromSourceMappedId='EFO_1000632'), Row(diseaseFromSourceMappedId='MONDO_0005277'), Row(diseaseFromSourceMappedId='EFO_0007328'), Row(diseaseFromSourceMappedId='MONDO_0000870'), Row(diseaseFromSourceMappedId='EFO_0009620'), Row(diseaseFromSourceMappedId='EFO_1001465'), Row(diseaseFromSourceMappedId='MONDO_0002050'), Row(diseaseFromSourceMappedId='MONDO_0004975'), Row(diseaseFromSourceMappedId='MONDO_0005351'), Row(diseaseFromSourceMappedId='EFO_0007328'), Row(diseaseFromSourceMappedId='EFO_0009267'), Row(diseaseFromSourceMappedId='EFO_0003843'), Row(diseaseFromSourceMappedId='EFO_0003843'), Row(diseaseFromSourceMappedId='MONDO_0002050'), Row(diseaseFromSourceMappedId='EFO_0003843'), Row(diseaseFromSourceMappedId='EFO_0005232'), Row(diseaseFromSourceMappedId='EFO_0003758'), Row(diseaseFromSourceMappedId='MONDO_0005090'), Row(diseaseFromSourceMappedId='HP_0002315'), Row(diseaseFromSourceMappedId='MONDO_0005180'), Row(diseaseFromSourceMappedId='EFO_0000694'), Row(diseaseFromSourceMappedId='MONDO_0001208'), Row(diseaseFromSourceMappedId='EFO_0009854'), Row(diseaseFromSourceMappedId='MONDO_0002009'), Row(diseaseFromSourceMappedId='MONDO_0002050'), Row(diseaseFromSourceMappedId='MONDO_0005301'), Row(diseaseFromSourceMappedId='EFO_0009658'), Row(diseaseFromSourceMappedId='MONDO_0002050'), Row(diseaseFromSourceMappedId='MONDO_0002050'), Row(diseaseFromSourceMappedId='MONDO_0043510'), Row(diseaseFromSourceMappedId='EFO_0004888'), Row(diseaseFromSourceMappedId='EFO_0005762'), Row(diseaseFromSourceMappedId='MONDO_0011382'), Row(diseaseFromSourceMappedId='MONDO_0002050'), Row(diseaseFromSourceMappedId='EFO_0004242'), Row(diseaseFromSourceMappedId='MONDO_0005180'), Row(diseaseFromSourceMappedId='EFO_0007328'), Row(diseaseFromSourceMappedId='MONDO_0043510'), Row(diseaseFromSourceMappedId='MONDO_0002009'), Row(diseaseFromSourceMappedId='EFO_0003761'), Row(diseaseFromSourceMappedId='MONDO_0002009'), Row(diseaseFromSourceMappedId='EFO_0007328'), Row(diseaseFromSourceMappedId='MONDO_0002050'), Row(diseaseFromSourceMappedId='MONDO_0002050'), Row(diseaseFromSourceMappedId='EFO_0003843'), Row(diseaseFromSourceMappedId='EFO_0000546'), Row(diseaseFromSourceMappedId='HP_0000360'), Row(diseaseFromSourceMappedId='EFO_0005762'), Row(diseaseFromSourceMappedId='EFO_0003047'), Row(diseaseFromSourceMappedId='EFO_0009854'), Row(diseaseFromSourceMappedId='EFO_0003888'), Row(diseaseFromSourceMappedId='EFO_0003918'), Row(diseaseFromSourceMappedId='MONDO_0005180'), Row(diseaseFromSourceMappedId='MONDO_0007079'), Row(diseaseFromSourceMappedId='EFO_0001358'), Row(diseaseFromSourceMappedId='EFO_0007328'), Row(diseaseFromSourceMappedId='MONDO_0004985'), Row(diseaseFromSourceMappedId='EFO_0007328'), Row(diseaseFromSourceMappedId='MONDO_0001208'), Row(diseaseFromSourceMappedId='EFO_0004329'), Row(diseaseFromSourceMappedId='EFO_0000544'), Row(diseaseFromSourceMappedId='EFO_0007328'), Row(diseaseFromSourceMappedId='MONDO_0043510'), Row(diseaseFromSourceMappedId='EFO_0007453'), Row(diseaseFromSourceMappedId='EFO_1001898'), Row(diseaseFromSourceMappedId='EFO_0007328'), Row(diseaseFromSourceMappedId='MONDO_0002050'), Row(diseaseFromSourceMappedId='MONDO_0043510'), Row(diseaseFromSourceMappedId='MONDO_0004985'), Row(diseaseFromSourceMappedId='EFO_0000544'), Row(diseaseFromSourceMappedId='EFO_0004242'), Row(diseaseFromSourceMappedId='MONDO_0007254'), Row(diseaseFromSourceMappedId='MONDO_0002009'), Row(diseaseFromSourceMappedId='EFO_0005203'), Row(diseaseFromSourceMappedId='EFO_1000860'), Row(diseaseFromSourceMappedId='EFO_0000544'), Row(diseaseFromSourceMappedId='EFO_0007328'), Row(diseaseFromSourceMappedId='EFO_0000677'), Row(diseaseFromSourceMappedId='HP_0012167'), Row(diseaseFromSourceMappedId='HP_0000713'), Row(diseaseFromSourceMappedId='EFO_0007328'), Row(diseaseFromSourceMappedId='EFO_1001402'), Row(diseaseFromSourceMappedId='MONDO_0002050'), Row(diseaseFromSourceMappedId='MONDO_0011382'), Row(diseaseFromSourceMappedId='EFO_1001175'), Row(diseaseFromSourceMappedId='EFO_0003843'), Row(diseaseFromSourceMappedId='MONDO_0004975'), Row(diseaseFromSourceMappedId='MONDO_0002009'), Row(diseaseFromSourceMappedId='MONDO_0002009'), Row(diseaseFromSourceMappedId='EFO_0009963'), Row(diseaseFromSourceMappedId='HP_0100543'), Row(diseaseFromSourceMappedId='MONDO_0002050'), Row(diseaseFromSourceMappedId='MONDO_0002050'), Row(diseaseFromSourceMappedId='MONDO_0002009'), Row(diseaseFromSourceMappedId='EFO_0009963'), Row(diseaseFromSourceMappedId='EFO_0007328'), Row(diseaseFromSourceMappedId='HP_0000360'), Row(diseaseFromSourceMappedId='MONDO_0002050'), Row(diseaseFromSourceMappedId='EFO_0003843'), Row(diseaseFromSourceMappedId='MONDO_0007079'), Row(diseaseFromSourceMappedId='EFO_0003843'), Row(diseaseFromSourceMappedId='MONDO_0002009'), Row(diseaseFromSourceMappedId='MONDO_0005180'), Row(diseaseFromSourceMappedId='MONDO_0002050'), Row(diseaseFromSourceMappedId='MONDO_0002009'), Row(diseaseFromSourceMappedId='EFO_0007328'), Row(diseaseFromSourceMappedId='MONDO_0007079'), Row(diseaseFromSourceMappedId='MONDO_0005180'), Row(diseaseFromSourceMappedId='MONDO_0002009'), Row(diseaseFromSourceMappedId='EFO_0007328'), Row(diseaseFromSourceMappedId='MONDO_0005301'), Row(diseaseFromSourceMappedId='HP_0012532'), Row(diseaseFromSourceMappedId='MONDO_0004975'), Row(diseaseFromSourceMappedId='MONDO_0005180'), Row(diseaseFromSourceMappedId='EFO_0003843'), Row(diseaseFromSourceMappedId='EFO_1000860'), Row(diseaseFromSourceMappedId='EFO_0007328'), Row(diseaseFromSourceMappedId='EFO_0009854'), Row(diseaseFromSourceMappedId='MONDO_0002050'), Row(diseaseFromSourceMappedId='EFO_0003843'), Row(diseaseFromSourceMappedId='MONDO_0004975'), Row(diseaseFromSourceMappedId='MONDO_0005180'), Row(diseaseFromSourceMappedId='MONDO_0005351'), Row(diseaseFromSourceMappedId='MONDO_0004975'), Row(diseaseFromSourceMappedId='MONDO_0007079'), Row(diseaseFromSourceMappedId='EFO_0002610'), Row(diseaseFromSourceMappedId='HP_0000360'), Row(diseaseFromSourceMappedId='MONDO_0007079'), Row(diseaseFromSourceMappedId='EFO_0005223'), Row(diseaseFromSourceMappedId='MONDO_0002009'), Row(diseaseFromSourceMappedId='MONDO_0004681'), Row(diseaseFromSourceMappedId='EFO_0004329'), Row(diseaseFromSourceMappedId='MONDO_0002009'), Row(diseaseFromSourceMappedId='MONDO_0005090'), Row(diseaseFromSourceMappedId='EFO_1000783'), Row(diseaseFromSourceMappedId='MONDO_0004975'), Row(diseaseFromSourceMappedId='MONDO_0005090'), Row(diseaseFromSourceMappedId='EFO_0003843'), Row(diseaseFromSourceMappedId='MONDO_0002050'), Row(diseaseFromSourceMappedId='EFO_0003761'), Row(diseaseFromSourceMappedId='EFO_0003843'), Row(diseaseFromSourceMappedId='EFO_0003758'), Row(diseaseFromSourceMappedId='MONDO_0002050'), Row(diseaseFromSourceMappedId='HP_0000360'), Row(diseaseFromSourceMappedId='MONDO_0005180'), Row(diseaseFromSourceMappedId='EFO_0001422'), Row(diseaseFromSourceMappedId='MONDO_0002050'), Row(diseaseFromSourceMappedId='HP_0000486'), Row(diseaseFromSourceMappedId='MONDO_0005090'), Row(diseaseFromSourceMappedId='EFO_0008590'), Row(diseaseFromSourceMappedId='EFO_0005203'), Row(diseaseFromSourceMappedId='EFO_0004699'), Row(diseaseFromSourceMappedId='EFO_0003843'), Row(diseaseFromSourceMappedId='HP_0012532'), Row(diseaseFromSourceMappedId='EFO_0007328'), Row(diseaseFromSourceMappedId='EFO_0000546'), Row(diseaseFromSourceMappedId='MONDO_0004975'), Row(diseaseFromSourceMappedId='EFO_0000544'), Row(diseaseFromSourceMappedId='EFO_0000546'), Row(diseaseFromSourceMappedId='HP_0000360'), Row(diseaseFromSourceMappedId='MONDO_0010726'), Row(diseaseFromSourceMappedId='EFO_1000860'), Row(diseaseFromSourceMappedId='EFO_0007328'), Row(diseaseFromSourceMappedId='MONDO_0005180'), Row(diseaseFromSourceMappedId='EFO_0007328'), Row(diseaseFromSourceMappedId='EFO_0000544'), Row(diseaseFromSourceMappedId='EFO_0005323'), Row(diseaseFromSourceMappedId='EFO_0003761'), Row(diseaseFromSourceMappedId='MONDO_0005090'), Row(diseaseFromSourceMappedId='EFO_0001358'), Row(diseaseFromSourceMappedId='EFO_0004190'), Row(diseaseFromSourceMappedId='EFO_0005411'), Row(diseaseFromSourceMappedId='MONDO_0005180'), Row(diseaseFromSourceMappedId='EFO_0003843'), Row(diseaseFromSourceMappedId='EFO_0000546'), Row(diseaseFromSourceMappedId='EFO_0001358'), Row(diseaseFromSourceMappedId='MONDO_0007079'), Row(diseaseFromSourceMappedId='EFO_0003833'), Row(diseaseFromSourceMappedId='EFO_0000544'), Row(diseaseFromSourceMappedId='HP_0000360'), Row(diseaseFromSourceMappedId='MONDO_0004975'), Row(diseaseFromSourceMappedId='HP_0000713'), Row(diseaseFromSourceMappedId='EFO_0003888'), Row(diseaseFromSourceMappedId='MONDO_0002009'), Row(diseaseFromSourceMappedId='EFO_0003843'), Row(diseaseFromSourceMappedId='EFO_0004240'), Row(diseaseFromSourceMappedId='EFO_0004777'), Row(diseaseFromSourceMappedId='EFO_1000637'), Row(diseaseFromSourceMappedId='EFO_0003015'), Row(diseaseFromSourceMappedId='EFO_0005854'), Row(diseaseFromSourceMappedId='MONDO_0005180'), Row(diseaseFromSourceMappedId='MONDO_0002009'), Row(diseaseFromSourceMappedId='EFO_0000546'), Row(diseaseFromSourceMappedId='EFO_0007328'), Row(diseaseFromSourceMappedId='EFO_0007328'), Row(diseaseFromSourceMappedId='EFO_0003843'), Row(diseaseFromSourceMappedId='MONDO_0004975'), Row(diseaseFromSourceMappedId='EFO_0003843'), Row(diseaseFromSourceMappedId='MONDO_0002050'), Row(diseaseFromSourceMappedId='EFO_1001488'), Row(diseaseFromSourceMappedId='EFO_0009854'), Row(diseaseFromSourceMappedId='EFO_0007328'), Row(diseaseFromSourceMappedId='EFO_0003843'), Row(diseaseFromSourceMappedId='MONDO_0004992'), Row(diseaseFromSourceMappedId='EFO_0009854'), Row(diseaseFromSourceMappedId='MONDO_0002050'), Row(diseaseFromSourceMappedId='MONDO_0005090'), Row(diseaseFromSourceMappedId='MONDO_0002050'), Row(diseaseFromSourceMappedId='EFO_0003843'), Row(diseaseFromSourceMappedId='MONDO_0002009'), Row(diseaseFromSourceMappedId='MONDO_0002050'), Row(diseaseFromSourceMappedId='MONDO_0002009'), Row(diseaseFromSourceMappedId='EFO_0000544'), Row(diseaseFromSourceMappedId='EFO_0001358'), Row(diseaseFromSourceMappedId='HP_0000360'), Row(diseaseFromSourceMappedId='MONDO_0005180'), Row(diseaseFromSourceMappedId='EFO_0003843'), Row(diseaseFromSourceMappedId='EFO_0003777'), Row(diseaseFromSourceMappedId='MONDO_0002050'), Row(diseaseFromSourceMappedId='MONDO_0017276'), Row(diseaseFromSourceMappedId='EFO_0003015'), Row(diseaseFromSourceMappedId='EFO_0003843'), Row(diseaseFromSourceMappedId='MONDO_0007079'), Row(diseaseFromSourceMappedId='EFO_0004699'), Row(diseaseFromSourceMappedId='EFO_0000544'), Row(diseaseFromSourceMappedId='MONDO_0004975'), Row(diseaseFromSourceMappedId='EFO_0002610'), Row(diseaseFromSourceMappedId='HP_0012532'), Row(diseaseFromSourceMappedId='EFO_0003890'), Row(diseaseFromSourceMappedId='EFO_0004242'), Row(diseaseFromSourceMappedId='MONDO_0002009'), Row(diseaseFromSourceMappedId='MONDO_0002009'), Row(diseaseFromSourceMappedId='MONDO_0005180'), Row(diseaseFromSourceMappedId='MONDO_0002009'), Row(diseaseFromSourceMappedId='MONDO_0002050'), Row(diseaseFromSourceMappedId='EFO_0003843'), Row(diseaseFromSourceMappedId='HP_0000989'), Row(diseaseFromSourceMappedId='EFO_0003756'), Row(diseaseFromSourceMappedId='EFO_0007328'), Row(diseaseFromSourceMappedId='EFO_0004321'), Row(diseaseFromSourceMappedId='EFO_0003957'), Row(diseaseFromSourceMappedId='EFO_1001402'), Row(diseaseFromSourceMappedId='EFO_0007328'), Row(diseaseFromSourceMappedId='MONDO_0005180'), Row(diseaseFromSourceMappedId='EFO_0004888'), Row(diseaseFromSourceMappedId='MONDO_0004975'), Row(diseaseFromSourceMappedId='MONDO_0004985'), Row(diseaseFromSourceMappedId='MONDO_0004975'), Row(diseaseFromSourceMappedId='MONDO_0004975'), Row(diseaseFromSourceMappedId='HP_0000360'), Row(diseaseFromSourceMappedId='EFO_0001073'), Row(diseaseFromSourceMappedId='EFO_0007328'), Row(diseaseFromSourceMappedId='EFO_0005854'), Row(diseaseFromSourceMappedId='EFO_0005323'), Row(diseaseFromSourceMappedId='MONDO_0002009'), Row(diseaseFromSourceMappedId='MONDO_0002009'), Row(diseaseFromSourceMappedId='MONDO_0024417'), Row(diseaseFromSourceMappedId='MONDO_0002050'), Row(diseaseFromSourceMappedId='EFO_0004242'), Row(diseaseFromSourceMappedId='MONDO_0004985'), Row(diseaseFromSourceMappedId='EFO_0000544'), Row(diseaseFromSourceMappedId='EFO_0007453'), Row(diseaseFromSourceMappedId='MONDO_0007079'), Row(diseaseFromSourceMappedId='MONDO_0002009'), Row(diseaseFromSourceMappedId='EFO_0002610'), Row(diseaseFromSourceMappedId='MONDO_0002009'), Row(diseaseFromSourceMappedId='EFO_0003843'), Row(diseaseFromSourceMappedId='MONDO_0004976'), Row(diseaseFromSourceMappedId='EFO_0001358'), Row(diseaseFromSourceMappedId='MONDO_0004975'), Row(diseaseFromSourceMappedId='EFO_0000544'), Row(diseaseFromSourceMappedId='EFO_0003768'), Row(diseaseFromSourceMappedId='MONDO_0005180'), Row(diseaseFromSourceMappedId='MONDO_0004975'), Row(diseaseFromSourceMappedId='EFO_0000544'), Row(diseaseFromSourceMappedId='EFO_0000519'), Row(diseaseFromSourceMappedId='HP_0002140'), Row(diseaseFromSourceMappedId='EFO_0007453'), Row(diseaseFromSourceMappedId='EFO_0003761'), Row(diseaseFromSourceMappedId='EFO_1001998'), Row(diseaseFromSourceMappedId='MONDO_0005180'), Row(diseaseFromSourceMappedId='MONDO_0002050'), Row(diseaseFromSourceMappedId='HP_0000360'), Row(diseaseFromSourceMappedId='HP_0030680'), Row(diseaseFromSourceMappedId='MONDO_0005180'), Row(diseaseFromSourceMappedId='EFO_0003843'), Row(diseaseFromSourceMappedId='EFO_0000474'), Row(diseaseFromSourceMappedId='EFO_0003819'), Row(diseaseFromSourceMappedId='MONDO_0002009'), Row(diseaseFromSourceMappedId='EFO_0003843'), Row(diseaseFromSourceMappedId='MONDO_0004975'), Row(diseaseFromSourceMappedId='EFO_0009854'), Row(diseaseFromSourceMappedId='MONDO_0007079'), Row(diseaseFromSourceMappedId='EFO_0007453'), Row(diseaseFromSourceMappedId='EFO_0007328'), Row(diseaseFromSourceMappedId='HP_0000360'), Row(diseaseFromSourceMappedId='EFO_0009620'), Row(diseaseFromSourceMappedId='EFO_0003777'), Row(diseaseFromSourceMappedId='EFO_1001884'), Row(diseaseFromSourceMappedId='EFO_0003843'), Row(diseaseFromSourceMappedId='EFO_0007328'), Row(diseaseFromSourceMappedId='EFO_0007328'), Row(diseaseFromSourceMappedId='EFO_0001358'), Row(diseaseFromSourceMappedId='MONDO_0007079'), Row(diseaseFromSourceMappedId='EFO_0003843'), Row(diseaseFromSourceMappedId='EFO_1001402'), Row(diseaseFromSourceMappedId='MONDO_0005301'), Row(diseaseFromSourceMappedId='EFO_0003888'), Row(diseaseFromSourceMappedId='MONDO_0005180'), Row(diseaseFromSourceMappedId='MONDO_0007079'), Row(diseaseFromSourceMappedId='MONDO_0004985'), Row(diseaseFromSourceMappedId='EFO_0005611'), Row(diseaseFromSourceMappedId='EFO_0002610'), Row(diseaseFromSourceMappedId='EFO_0000544'), Row(diseaseFromSourceMappedId='EFO_0004242'), Row(diseaseFromSourceMappedId='EFO_0001645'), Row(diseaseFromSourceMappedId='MONDO_0005180'), Row(diseaseFromSourceMappedId='MONDO_0002009'), Row(diseaseFromSourceMappedId='EFO_0003843'), Row(diseaseFromSourceMappedId='MONDO_0005090'), Row(diseaseFromSourceMappedId='MONDO_0004975'), Row(diseaseFromSourceMappedId='MONDO_0005180'), Row(diseaseFromSourceMappedId='EFO_0003761'), Row(diseaseFromSourceMappedId='EFO_0001358'), Row(diseaseFromSourceMappedId='MONDO_0002050'), Row(diseaseFromSourceMappedId='EFO_0003843'), Row(diseaseFromSourceMappedId='EFO_0000544'), Row(diseaseFromSourceMappedId='HP_0001250'), Row(diseaseFromSourceMappedId='MONDO_0002050'), Row(diseaseFromSourceMappedId='EFO_0007328'), Row(diseaseFromSourceMappedId='EFO_0003843'), Row(diseaseFromSourceMappedId='EFO_0003843'), Row(diseaseFromSourceMappedId='EFO_0007328'), Row(diseaseFromSourceMappedId='MONDO_0005180'), Row(diseaseFromSourceMappedId='EFO_0007623'), Row(diseaseFromSourceMappedId='MONDO_0005180'), Row(diseaseFromSourceMappedId='MONDO_0002009'), Row(diseaseFromSourceMappedId='EFO_0003015'), Row(diseaseFromSourceMappedId='MONDO_0004975'), Row(diseaseFromSourceMappedId='EFO_0000544'), Row(diseaseFromSourceMappedId='EFO_0005203'), Row(diseaseFromSourceMappedId='EFO_0007328'), Row(diseaseFromSourceMappedId='EFO_0011057'), Row(diseaseFromSourceMappedId='MONDO_0007254'), Row(diseaseFromSourceMappedId='EFO_0003843'), Row(diseaseFromSourceMappedId='EFO_0004888'), Row(diseaseFromSourceMappedId='HP_0012532'), Row(diseaseFromSourceMappedId='MONDO_0005090'), Row(diseaseFromSourceMappedId='MONDO_0002009'), Row(diseaseFromSourceMappedId='EFO_0003843'), Row(diseaseFromSourceMappedId='EFO_0002610'), Row(diseaseFromSourceMappedId='EFO_1001402'), Row(diseaseFromSourceMappedId='MONDO_0004985'), Row(diseaseFromSourceMappedId='EFO_1001402'), Row(diseaseFromSourceMappedId='MONDO_0002050'), Row(diseaseFromSourceMappedId='EFO_0003931'), Row(diseaseFromSourceMappedId='EFO_1000860'), Row(diseaseFromSourceMappedId='MONDO_0043510'), Row(diseaseFromSourceMappedId='EFO_0000544'), Row(diseaseFromSourceMappedId='EFO_1000860'), Row(diseaseFromSourceMappedId='EFO_0003843'), Row(diseaseFromSourceMappedId='EFO_0000544'), Row(diseaseFromSourceMappedId='EFO_0009267'), Row(diseaseFromSourceMappedId='EFO_0003843'), Row(diseaseFromSourceMappedId='MONDO_0005180'), Row(diseaseFromSourceMappedId='MONDO_0002050'), Row(diseaseFromSourceMappedId='EFO_0005611'), Row(diseaseFromSourceMappedId='MONDO_0002009'), Row(diseaseFromSourceMappedId='EFO_0003931'), Row(diseaseFromSourceMappedId='MONDO_0005180'), Row(diseaseFromSourceMappedId='MONDO_0002009'), Row(diseaseFromSourceMappedId='HP_0001250'), Row(diseaseFromSourceMappedId='EFO_0001358'), Row(diseaseFromSourceMappedId='EFO_0000544'), Row(diseaseFromSourceMappedId='EFO_1001917'), Row(diseaseFromSourceMappedId='EFO_0000677'), Row(diseaseFromSourceMappedId='MONDO_0005180'), Row(diseaseFromSourceMappedId='MONDO_0005301'), Row(diseaseFromSourceMappedId='MONDO_0005090'), Row(diseaseFromSourceMappedId='EFO_0009854'), Row(diseaseFromSourceMappedId='EFO_0000544'), Row(diseaseFromSourceMappedId='EFO_0004888'), Row(diseaseFromSourceMappedId='MONDO_0004975'), Row(diseaseFromSourceMappedId='MONDO_0002009'), Row(diseaseFromSourceMappedId='EFO_1001488'), Row(diseaseFromSourceMappedId='EFO_0009516'), Row(diseaseFromSourceMappedId='MONDO_0002009'), Row(diseaseFromSourceMappedId='EFO_0000544'), Row(diseaseFromSourceMappedId='MONDO_0002358'), Row(diseaseFromSourceMappedId='EFO_1001175'), Row(diseaseFromSourceMappedId='EFO_0007328'), Row(diseaseFromSourceMappedId='HP_0000360'), Row(diseaseFromSourceMappedId='EFO_1000637'), Row(diseaseFromSourceMappedId='HP_0100543'), Row(diseaseFromSourceMappedId='EFO_0000544'), Row(diseaseFromSourceMappedId='EFO_1001898'), Row(diseaseFromSourceMappedId='EFO_0003761'), Row(diseaseFromSourceMappedId='EFO_0007328'), Row(diseaseFromSourceMappedId='MONDO_0005090'), Row(diseaseFromSourceMappedId='MONDO_0002009'), Row(diseaseFromSourceMappedId='MONDO_0002050'), Row(diseaseFromSourceMappedId='MONDO_0000726'), Row(diseaseFromSourceMappedId='EFO_0005323'), Row(diseaseFromSourceMappedId='EFO_0003843'), Row(diseaseFromSourceMappedId='EFO_0007328'), Row(diseaseFromSourceMappedId='EFO_0003843'), Row(diseaseFromSourceMappedId='MONDO_0004975'), Row(diseaseFromSourceMappedId='HP_0000360'), Row(diseaseFromSourceMappedId='EFO_0007623'), Row(diseaseFromSourceMappedId='EFO_0000474'), Row(diseaseFromSourceMappedId='EFO_0003843'), Row(diseaseFromSourceMappedId='MONDO_0005180'), Row(diseaseFromSourceMappedId='MONDO_0002009'), Row(diseaseFromSourceMappedId='EFO_0003843'), Row(diseaseFromSourceMappedId='MONDO_0002009'), Row(diseaseFromSourceMappedId='EFO_0005230'), Row(diseaseFromSourceMappedId='EFO_0003843'), Row(diseaseFromSourceMappedId='EFO_1001402'), Row(diseaseFromSourceMappedId='EFO_0005223'), Row(diseaseFromSourceMappedId='MONDO_0002009'), Row(diseaseFromSourceMappedId='EFO_0009854'), Row(diseaseFromSourceMappedId='MONDO_0002050'), Row(diseaseFromSourceMappedId='EFO_0003843'), Row(diseaseFromSourceMappedId='EFO_1001488'), Row(diseaseFromSourceMappedId='EFO_1001898'), Row(diseaseFromSourceMappedId='EFO_0004321'), Row(diseaseFromSourceMappedId='EFO_0004220'), Row(diseaseFromSourceMappedId='EFO_0007328'), Row(diseaseFromSourceMappedId='HP_0000360'), Row(diseaseFromSourceMappedId='EFO_0003768'), Row(diseaseFromSourceMappedId='EFO_0003758'), Row(diseaseFromSourceMappedId='MONDO_0002050'), Row(diseaseFromSourceMappedId='HP_0000023'), Row(diseaseFromSourceMappedId='EFO_0007328'), Row(diseaseFromSourceMappedId='MONDO_0004976'), Row(diseaseFromSourceMappedId='EFO_0003843'), Row(diseaseFromSourceMappedId='MONDO_0002009'), Row(diseaseFromSourceMappedId='EFO_0009552'), Row(diseaseFromSourceMappedId='MONDO_0002009'), Row(diseaseFromSourceMappedId='EFO_0003843'), Row(diseaseFromSourceMappedId='EFO_0000712'), Row(diseaseFromSourceMappedId='EFO_0020000'), Row(diseaseFromSourceMappedId='EFO_0000713'), Row(diseaseFromSourceMappedId='MONDO_0002050'), Row(diseaseFromSourceMappedId='EFO_0003843'), Row(diseaseFromSourceMappedId='MONDO_0005090'), Row(diseaseFromSourceMappedId='MONDO_0007079'), Row(diseaseFromSourceMappedId='EFO_0003843'), Row(diseaseFromSourceMappedId='MONDO_0005148'), Row(diseaseFromSourceMappedId='MONDO_0005301'), Row(diseaseFromSourceMappedId='EFO_0004321'), Row(diseaseFromSourceMappedId='MONDO_0004985'), Row(diseaseFromSourceMappedId='MONDO_0002050'), Row(diseaseFromSourceMappedId='MONDO_0002009'), Row(diseaseFromSourceMappedId='EFO_0007328'), Row(diseaseFromSourceMappedId='EFO_0004242'), Row(diseaseFromSourceMappedId='MONDO_0004975'), Row(diseaseFromSourceMappedId='HP_0012532'), Row(diseaseFromSourceMappedId='MONDO_0005180'), Row(diseaseFromSourceMappedId='MONDO_0002009'), Row(diseaseFromSourceMappedId='EFO_0003843'), Row(diseaseFromSourceMappedId='MONDO_0002050'), Row(diseaseFromSourceMappedId='MONDO_0004985'), Row(diseaseFromSourceMappedId='MONDO_0002050'), Row(diseaseFromSourceMappedId='EFO_0005323'), Row(diseaseFromSourceMappedId='MONDO_0008315'), Row(diseaseFromSourceMappedId='MP_0001914'), Row(diseaseFromSourceMappedId='EFO_0000544'), Row(diseaseFromSourceMappedId='EFO_0000544'), Row(diseaseFromSourceMappedId='HP_0000360'), Row(diseaseFromSourceMappedId='MONDO_0002050'), Row(diseaseFromSourceMappedId='EFO_0001358'), Row(diseaseFromSourceMappedId='MONDO_0002009'), Row(diseaseFromSourceMappedId='EFO_0007328'), Row(diseaseFromSourceMappedId='EFO_0003758'), Row(diseaseFromSourceMappedId='EFO_0005762'), Row(diseaseFromSourceMappedId='MONDO_0005180'), Row(diseaseFromSourceMappedId='EFO_0003843'), Row(diseaseFromSourceMappedId='EFO_0009854'), Row(diseaseFromSourceMappedId='MONDO_0005180'), Row(diseaseFromSourceMappedId='EFO_0007328'), Row(diseaseFromSourceMappedId='EFO_0003757'), Row(diseaseFromSourceMappedId='HP_0012532'), Row(diseaseFromSourceMappedId='EFO_0001358'), Row(diseaseFromSourceMappedId='EFO_0003843'), Row(diseaseFromSourceMappedId='MONDO_0100096'), Row(diseaseFromSourceMappedId='MONDO_0005129'), Row(diseaseFromSourceMappedId='MONDO_0005180'), Row(diseaseFromSourceMappedId='EFO_0003843'), Row(diseaseFromSourceMappedId='MONDO_0002050'), Row(diseaseFromSourceMappedId='EFO_0003757'), Row(diseaseFromSourceMappedId='EFO_0003758'), Row(diseaseFromSourceMappedId='MONDO_0002009'), Row(diseaseFromSourceMappedId='MONDO_0024880'), Row(diseaseFromSourceMappedId='HP_0002315'), Row(diseaseFromSourceMappedId='EFO_0004320'), Row(diseaseFromSourceMappedId='MONDO_0002050'), Row(diseaseFromSourceMappedId='MONDO_0002009'), Row(diseaseFromSourceMappedId='HP_0030680'), Row(diseaseFromSourceMappedId='MONDO_0002009'), Row(diseaseFromSourceMappedId='HP_0002315'), Row(diseaseFromSourceMappedId='MONDO_0005180'), Row(diseaseFromSourceMappedId='EFO_0007328'), Row(diseaseFromSourceMappedId='EFO_0009854'), Row(diseaseFromSourceMappedId='EFO_0004699'), Row(diseaseFromSourceMappedId='HP_0000989'), Row(diseaseFromSourceMappedId='MONDO_0002046'), Row(diseaseFromSourceMappedId='EFO_0008590'), Row(diseaseFromSourceMappedId='EFO_0005762'), Row(diseaseFromSourceMappedId='MONDO_0002050'), Row(diseaseFromSourceMappedId='MONDO_0002009'), Row(diseaseFromSourceMappedId='EFO_0000546'), Row(diseaseFromSourceMappedId='HP_0000360'), Row(diseaseFromSourceMappedId='MONDO_0002050'), Row(diseaseFromSourceMappedId='HP_0000360'), Row(diseaseFromSourceMappedId='MONDO_0007079'), Row(diseaseFromSourceMappedId='EFO_0003768'), Row(diseaseFromSourceMappedId='EFO_0003843'), Row(diseaseFromSourceMappedId='EFO_0003768'), Row(diseaseFromSourceMappedId='MONDO_0005180'), Row(diseaseFromSourceMappedId='EFO_1000860'), Row(diseaseFromSourceMappedId='MONDO_0004976'), Row(diseaseFromSourceMappedId='EFO_0003843'), Row(diseaseFromSourceMappedId='EFO_0005762'), Row(diseaseFromSourceMappedId='EFO_1000860'), Row(diseaseFromSourceMappedId='EFO_0000544'), Row(diseaseFromSourceMappedId='MONDO_0005090'), Row(diseaseFromSourceMappedId='HP_0030680'), Row(diseaseFromSourceMappedId='MONDO_0002050'), Row(diseaseFromSourceMappedId='EFO_0003843'), Row(diseaseFromSourceMappedId='EFO_0005762'), Row(diseaseFromSourceMappedId='EFO_0005411'), Row(diseaseFromSourceMappedId='EFO_0007328'), Row(diseaseFromSourceMappedId='MONDO_0005180'), Row(diseaseFromSourceMappedId='MONDO_0002009'), Row(diseaseFromSourceMappedId='EFO_0005230'), Row(diseaseFromSourceMappedId='MONDO_0002009'), Row(diseaseFromSourceMappedId='EFO_0003843'), Row(diseaseFromSourceMappedId='EFO_0007328'), Row(diseaseFromSourceMappedId='MONDO_0005180'), Row(diseaseFromSourceMappedId='EFO_0003843'), Row(diseaseFromSourceMappedId='EFO_0004320'), Row(diseaseFromSourceMappedId='EFO_0003843'), Row(diseaseFromSourceMappedId='MONDO_0005180'), Row(diseaseFromSourceMappedId='EFO_0003843'), Row(diseaseFromSourceMappedId='MONDO_0005180'), Row(diseaseFromSourceMappedId='MONDO_0007254'), Row(diseaseFromSourceMappedId='EFO_0000544'), Row(diseaseFromSourceMappedId='MONDO_0004975'), Row(diseaseFromSourceMappedId='HP_0012532'), Row(diseaseFromSourceMappedId='MONDO_0005180'), Row(diseaseFromSourceMappedId='EFO_0005411'), Row(diseaseFromSourceMappedId='MONDO_0002050'), Row(diseaseFromSourceMappedId='MONDO_0011382'), Row(diseaseFromSourceMappedId='EFO_1001402'), Row(diseaseFromSourceMappedId='MONDO_0002050'), Row(diseaseFromSourceMappedId='EFO_0001358'), Row(diseaseFromSourceMappedId='EFO_0007328'), Row(diseaseFromSourceMappedId='EFO_0004321'), Row(diseaseFromSourceMappedId='EFO_1000783'), Row(diseaseFromSourceMappedId='MONDO_0004975'), Row(diseaseFromSourceMappedId='HP_0000360'), Row(diseaseFromSourceMappedId='EFO_0000544'), Row(diseaseFromSourceMappedId='EFO_0005411'), Row(diseaseFromSourceMappedId='EFO_0002610'), Row(diseaseFromSourceMappedId='EFO_0003761'), Row(diseaseFromSourceMappedId='EFO_0006834'), Row(diseaseFromSourceMappedId='EFO_0009854'), Row(diseaseFromSourceMappedId='MONDO_0004992'), Row(diseaseFromSourceMappedId='MONDO_0002009'), Row(diseaseFromSourceMappedId='MONDO_0002009'), Row(diseaseFromSourceMappedId='EFO_0001074'), Row(diseaseFromSourceMappedId='EFO_0004242'), Row(diseaseFromSourceMappedId='EFO_0003819'), Row(diseaseFromSourceMappedId='EFO_0000546'), Row(diseaseFromSourceMappedId='MONDO_0005180'), Row(diseaseFromSourceMappedId='EFO_0007328'), Row(diseaseFromSourceMappedId='MONDO_0010383'), Row(diseaseFromSourceMappedId='EFO_0000546'), Row(diseaseFromSourceMappedId='MONDO_0005180'), Row(diseaseFromSourceMappedId='MONDO_0002009'), Row(diseaseFromSourceMappedId='EFO_0003843'), Row(diseaseFromSourceMappedId='EFO_0000544'), Row(diseaseFromSourceMappedId='EFO_0009854'), Row(diseaseFromSourceMappedId='MONDO_0002050'), Row(diseaseFromSourceMappedId='EFO_1000864'), Row(diseaseFromSourceMappedId='MONDO_0004681'), Row(diseaseFromSourceMappedId='MONDO_0005180'), Row(diseaseFromSourceMappedId='EFO_1001488'), Row(diseaseFromSourceMappedId='MONDO_0005090'), Row(diseaseFromSourceMappedId='MONDO_0002009'), Row(diseaseFromSourceMappedId='MONDO_0002050'), Row(diseaseFromSourceMappedId='EFO_0007328'), Row(diseaseFromSourceMappedId='MONDO_0005180'), Row(diseaseFromSourceMappedId='EFO_1000860'), Row(diseaseFromSourceMappedId='MONDO_0002009'), Row(diseaseFromSourceMappedId='EFO_0003843'), Row(diseaseFromSourceMappedId='EFO_0003843'), Row(diseaseFromSourceMappedId='EFO_0003843'), Row(diseaseFromSourceMappedId='EFO_0003843'), Row(diseaseFromSourceMappedId='EFO_0007328'), Row(diseaseFromSourceMappedId='EFO_0009854'), Row(diseaseFromSourceMappedId='HP_0000360'), Row(diseaseFromSourceMappedId='MONDO_0005180'), Row(diseaseFromSourceMappedId='MONDO_0043510'), Row(diseaseFromSourceMappedId='MONDO_0002009'), Row(diseaseFromSourceMappedId='MONDO_0005090'), Row(diseaseFromSourceMappedId='MONDO_0002009'), Row(diseaseFromSourceMappedId='MONDO_0002050'), Row(diseaseFromSourceMappedId='EFO_0000544'), Row(diseaseFromSourceMappedId='EFO_0001358'), Row(diseaseFromSourceMappedId='EFO_0004699'), Row(diseaseFromSourceMappedId='EFO_0002610'), Row(diseaseFromSourceMappedId='MONDO_0002050'), Row(diseaseFromSourceMappedId='MONDO_0043510'), Row(diseaseFromSourceMappedId='MONDO_0002009'), Row(diseaseFromSourceMappedId='EFO_0003756'), Row(diseaseFromSourceMappedId='HP_0000360'), Row(diseaseFromSourceMappedId='MONDO_0004975'), Row(diseaseFromSourceMappedId='MONDO_0002050'), Row(diseaseFromSourceMappedId='EFO_0003843'), Row(diseaseFromSourceMappedId='MONDO_0100096'), Row(diseaseFromSourceMappedId='EFO_0007328'), Row(diseaseFromSourceMappedId='MONDO_0007079'), Row(diseaseFromSourceMappedId='EFO_0003843'), Row(diseaseFromSourceMappedId='EFO_0004220'), Row(diseaseFromSourceMappedId='EFO_0002610'), Row(diseaseFromSourceMappedId='HP_0000360'), Row(diseaseFromSourceMappedId='MONDO_0005180'), Row(diseaseFromSourceMappedId='MONDO_0004681'), Row(diseaseFromSourceMappedId='MONDO_0002009'), Row(diseaseFromSourceMappedId='EFO_1001898'), Row(diseaseFromSourceMappedId='EFO_0007328'), Row(diseaseFromSourceMappedId='EFO_0002610'), Row(diseaseFromSourceMappedId='EFO_0009658'), Row(diseaseFromSourceMappedId='EFO_0003843'), Row(diseaseFromSourceMappedId='MONDO_0005180'), Row(diseaseFromSourceMappedId='EFO_0003843'), Row(diseaseFromSourceMappedId='EFO_0000546'), Row(diseaseFromSourceMappedId='HP_0030680'), Row(diseaseFromSourceMappedId='MONDO_0005180'), Row(diseaseFromSourceMappedId='EFO_0003843'), Row(diseaseFromSourceMappedId='EFO_0003757'), Row(diseaseFromSourceMappedId='HP_0012532'), Row(diseaseFromSourceMappedId='EFO_0009963'), Row(diseaseFromSourceMappedId='EFO_0003931'), Row(diseaseFromSourceMappedId='MONDO_0004975'), Row(diseaseFromSourceMappedId='EFO_1000783'), Row(diseaseFromSourceMappedId='MONDO_0004975'), Row(diseaseFromSourceMappedId='EFO_1000860'), Row(diseaseFromSourceMappedId='MONDO_0043510'), Row(diseaseFromSourceMappedId='EFO_0007453'), Row(diseaseFromSourceMappedId='EFO_0003756'), Row(diseaseFromSourceMappedId='EFO_0003843'), Row(diseaseFromSourceMappedId='MONDO_0002009'), Row(diseaseFromSourceMappedId='EFO_0007328'), Row(diseaseFromSourceMappedId='MONDO_0002050'), Row(diseaseFromSourceMappedId='EFO_0003843'), Row(diseaseFromSourceMappedId='MONDO_0002009'), Row(diseaseFromSourceMappedId='EFO_1001175'), Row(diseaseFromSourceMappedId='EFO_0003843'), Row(diseaseFromSourceMappedId='EFO_0001358'), Row(diseaseFromSourceMappedId='MONDO_0002009'), Row(diseaseFromSourceMappedId='EFO_0000544'), Row(diseaseFromSourceMappedId='MONDO_0002009'), Row(diseaseFromSourceMappedId='EFO_0003843'), Row(diseaseFromSourceMappedId='MONDO_0004975'), Row(diseaseFromSourceMappedId='EFO_0003843'), Row(diseaseFromSourceMappedId='EFO_0004190'), Row(diseaseFromSourceMappedId='EFO_0003843'), Row(diseaseFromSourceMappedId='EFO_0003843'), Row(diseaseFromSourceMappedId='EFO_0007328'), Row(diseaseFromSourceMappedId='EFO_0003888'), Row(diseaseFromSourceMappedId='MONDO_0002009'), Row(diseaseFromSourceMappedId='EFO_0003843'), Row(diseaseFromSourceMappedId='EFO_0005762'), Row(diseaseFromSourceMappedId='EFO_0003756'), Row(diseaseFromSourceMappedId='MONDO_0002050'), Row(diseaseFromSourceMappedId='EFO_0004242'), Row(diseaseFromSourceMappedId='EFO_0003843'), Row(diseaseFromSourceMappedId='EFO_0003931'), Row(diseaseFromSourceMappedId='EFO_0007430'), Row(diseaseFromSourceMappedId='EFO_0003843'), Row(diseaseFromSourceMappedId='EFO_0005411'), Row(diseaseFromSourceMappedId='EFO_0003843'), Row(diseaseFromSourceMappedId='MONDO_0002050'), Row(diseaseFromSourceMappedId='EFO_0007328'), Row(diseaseFromSourceMappedId='EFO_0000544'), Row(diseaseFromSourceMappedId='MONDO_0007079'), Row(diseaseFromSourceMappedId='MONDO_0002009'), Row(diseaseFromSourceMappedId='MONDO_0004975'), Row(diseaseFromSourceMappedId='HP_0000360'), Row(diseaseFromSourceMappedId='MONDO_0004975'), Row(diseaseFromSourceMappedId='MONDO_0004975'), Row(diseaseFromSourceMappedId='MONDO_0002050'), Row(diseaseFromSourceMappedId='MONDO_0002050'), Row(diseaseFromSourceMappedId='MONDO_0002009'), Row(diseaseFromSourceMappedId='EFO_0003833'), Row(diseaseFromSourceMappedId='EFO_0004242'), Row(diseaseFromSourceMappedId='MONDO_0004985'), Row(diseaseFromSourceMappedId='MONDO_0005180'), Row(diseaseFromSourceMappedId='EFO_0000544'), Row(diseaseFromSourceMappedId='MONDO_0002050'), Row(diseaseFromSourceMappedId='EFO_0005323'), Row(diseaseFromSourceMappedId='EFO_1001175'), Row(diseaseFromSourceMappedId='MONDO_0002009'), Row(diseaseFromSourceMappedId='EFO_0009854'), Row(diseaseFromSourceMappedId='EFO_0007328'), Row(diseaseFromSourceMappedId='EFO_0005762'), Row(diseaseFromSourceMappedId='MONDO_0043510'), Row(diseaseFromSourceMappedId='MONDO_0017276'), Row(diseaseFromSourceMappedId='MONDO_0002009'), Row(diseaseFromSourceMappedId='MONDO_0005180'), Row(diseaseFromSourceMappedId='MONDO_0004985'), Row(diseaseFromSourceMappedId='EFO_0007328'), Row(diseaseFromSourceMappedId='EFO_0005762'), Row(diseaseFromSourceMappedId='MONDO_0002009'), Row(diseaseFromSourceMappedId='EFO_0003758'), Row(diseaseFromSourceMappedId='EFO_0000341'), Row(diseaseFromSourceMappedId='EFO_1001488'), Row(diseaseFromSourceMappedId='EFO_0004320'), Row(diseaseFromSourceMappedId='EFO_0005323'), Row(diseaseFromSourceMappedId='EFO_0005230'), Row(diseaseFromSourceMappedId='MONDO_0002009'), Row(diseaseFromSourceMappedId='MONDO_0004985'), Row(diseaseFromSourceMappedId='EFO_0001072'), Row(diseaseFromSourceMappedId='MONDO_0002009'), Row(diseaseFromSourceMappedId='EFO_0000544'), Row(diseaseFromSourceMappedId='MONDO_0005180'), Row(diseaseFromSourceMappedId='EFO_0009963'), Row(diseaseFromSourceMappedId='EFO_0003843'), Row(diseaseFromSourceMappedId='EFO_0003843'), Row(diseaseFromSourceMappedId='HP_0025428'), Row(diseaseFromSourceMappedId='EFO_1001175'), Row(diseaseFromSourceMappedId='EFO_0004320'), Row(diseaseFromSourceMappedId='MONDO_0002050'), Row(diseaseFromSourceMappedId='EFO_0007328'), Row(diseaseFromSourceMappedId='MONDO_0004975'), Row(diseaseFromSourceMappedId='EFO_1001892'), Row(diseaseFromSourceMappedId='EFO_0000341'), Row(diseaseFromSourceMappedId='EFO_0003843'), Row(diseaseFromSourceMappedId='MONDO_0002050'), Row(diseaseFromSourceMappedId='EFO_0004242'), Row(diseaseFromSourceMappedId='EFO_0005762'), Row(diseaseFromSourceMappedId='EFO_1001175'), Row(diseaseFromSourceMappedId='EFO_0003758'), Row(diseaseFromSourceMappedId='EFO_0000544'), Row(diseaseFromSourceMappedId='MONDO_0005180'), Row(diseaseFromSourceMappedId='EFO_0003843'), Row(diseaseFromSourceMappedId='MONDO_0004992'), Row(diseaseFromSourceMappedId='MONDO_0002050'), Row(diseaseFromSourceMappedId='EFO_0000544'), Row(diseaseFromSourceMappedId='EFO_0003768'), Row(diseaseFromSourceMappedId='EFO_0003843'), Row(diseaseFromSourceMappedId='EFO_0007328'), Row(diseaseFromSourceMappedId='MONDO_0002009'), Row(diseaseFromSourceMappedId='MONDO_0002050'), Row(diseaseFromSourceMappedId='MONDO_0002050'), Row(diseaseFromSourceMappedId='EFO_0003843'), Row(diseaseFromSourceMappedId='EFO_0003843'), Row(diseaseFromSourceMappedId='MONDO_0002050'), Row(diseaseFromSourceMappedId='HP_0004372'), Row(diseaseFromSourceMappedId='MONDO_0004975'), Row(diseaseFromSourceMappedId='MONDO_0005180'), Row(diseaseFromSourceMappedId='MONDO_0004985'), Row(diseaseFromSourceMappedId='MONDO_0005180'), Row(diseaseFromSourceMappedId='MONDO_0002050'), Row(diseaseFromSourceMappedId='HP_0012532'), Row(diseaseFromSourceMappedId='HP_0000360'), Row(diseaseFromSourceMappedId='MONDO_0002050'), Row(diseaseFromSourceMappedId='EFO_1001488'), Row(diseaseFromSourceMappedId='HP_0002315'), Row(diseaseFromSourceMappedId='EFO_0000546'), Row(diseaseFromSourceMappedId='EFO_0002610'), Row(diseaseFromSourceMappedId='MONDO_0005180'), Row(diseaseFromSourceMappedId='EFO_0003843'), Row(diseaseFromSourceMappedId='EFO_0003843'), Row(diseaseFromSourceMappedId='MONDO_0005180'), Row(diseaseFromSourceMappedId='EFO_0007328'), Row(diseaseFromSourceMappedId='MONDO_0002009'), Row(diseaseFromSourceMappedId='EFO_0000546'), Row(diseaseFromSourceMappedId='MONDO_0002009'), Row(diseaseFromSourceMappedId='EFO_0004242'), Row(diseaseFromSourceMappedId='EFO_0000546'), Row(diseaseFromSourceMappedId='EFO_0003843'), Row(diseaseFromSourceMappedId='EFO_1001402'), Row(diseaseFromSourceMappedId='EFO_0007328'), Row(diseaseFromSourceMappedId='MONDO_0005180'), Row(diseaseFromSourceMappedId='MONDO_0004975'), Row(diseaseFromSourceMappedId='MONDO_0004975'), Row(diseaseFromSourceMappedId='EFO_0000544'), Row(diseaseFromSourceMappedId='EFO_0003756'), Row(diseaseFromSourceMappedId='MONDO_0002258'), Row(diseaseFromSourceMappedId='MONDO_0004976'), Row(diseaseFromSourceMappedId='MONDO_0004975'), Row(diseaseFromSourceMappedId='MONDO_0002050'), Row(diseaseFromSourceMappedId='MONDO_0002679'), Row(diseaseFromSourceMappedId='MONDO_0010383'), Row(diseaseFromSourceMappedId='EFO_0009854'), Row(diseaseFromSourceMappedId='EFO_0003931'), Row(diseaseFromSourceMappedId='MONDO_0002050'), Row(diseaseFromSourceMappedId='MONDO_0002050'), Row(diseaseFromSourceMappedId='EFO_0007328'), Row(diseaseFromSourceMappedId='MONDO_0007079'), Row(diseaseFromSourceMappedId='MONDO_0005090'), Row(diseaseFromSourceMappedId='EFO_0003843'), Row(diseaseFromSourceMappedId='EFO_0003761'), Row(diseaseFromSourceMappedId='MONDO_0004975'), Row(diseaseFromSourceMappedId='EFO_0009854'), Row(diseaseFromSourceMappedId='EFO_0003086'), Row(diseaseFromSourceMappedId='MONDO_0005180'), Row(diseaseFromSourceMappedId='EFO_1001175'), Row(diseaseFromSourceMappedId='EFO_0007328'), Row(diseaseFromSourceMappedId='EFO_0003843'), Row(diseaseFromSourceMappedId='EFO_0003843'), Row(diseaseFromSourceMappedId='MONDO_0002009'), Row(diseaseFromSourceMappedId='EFO_0007328'), Row(diseaseFromSourceMappedId='EFO_0000474'), Row(diseaseFromSourceMappedId='EFO_0003819'), Row(diseaseFromSourceMappedId='MONDO_0005090'), Row(diseaseFromSourceMappedId='MONDO_0005301'), Row(diseaseFromSourceMappedId='EFO_0003843'), Row(diseaseFromSourceMappedId='EFO_0003761'), Row(diseaseFromSourceMappedId='EFO_0000474'), Row(diseaseFromSourceMappedId='MONDO_0004975'), Row(diseaseFromSourceMappedId='HP_0000989'), Row(diseaseFromSourceMappedId='MONDO_0004975'), Row(diseaseFromSourceMappedId='EFO_0009658'), Row(diseaseFromSourceMappedId='EFO_0003843'), Row(diseaseFromSourceMappedId='EFO_0009854'), Row(diseaseFromSourceMappedId='EFO_1000860'), Row(diseaseFromSourceMappedId='MONDO_0004975'), Row(diseaseFromSourceMappedId='MONDO_0002009'), Row(diseaseFromSourceMappedId='HP_0000713'), Row(diseaseFromSourceMappedId='EFO_0003843'), Row(diseaseFromSourceMappedId='EFO_0007634'), Row(diseaseFromSourceMappedId='MONDO_0007254'), Row(diseaseFromSourceMappedId='EFO_0007328'), Row(diseaseFromSourceMappedId='MONDO_0004975'), Row(diseaseFromSourceMappedId='EFO_0005203'), Row(diseaseFromSourceMappedId='EFO_0000546'), Row(diseaseFromSourceMappedId='MONDO_0005180'), Row(diseaseFromSourceMappedId='MONDO_0002050'), Row(diseaseFromSourceMappedId='MONDO_0002009'), Row(diseaseFromSourceMappedId='MONDO_0007254'), Row(diseaseFromSourceMappedId='EFO_0003758'), Row(diseaseFromSourceMappedId='EFO_0004320'), Row(diseaseFromSourceMappedId='EFO_0003843'), Row(diseaseFromSourceMappedId='EFO_0000544'), Row(diseaseFromSourceMappedId='HP_0000360'), Row(diseaseFromSourceMappedId='EFO_0003843'), Row(diseaseFromSourceMappedId='EFO_1001402'), Row(diseaseFromSourceMappedId='EFO_0000544'), Row(diseaseFromSourceMappedId='EFO_0003931'), Row(diseaseFromSourceMappedId='EFO_0003843'), Row(diseaseFromSourceMappedId='MONDO_0007079'), Row(diseaseFromSourceMappedId='MONDO_0002009'), Row(diseaseFromSourceMappedId='EFO_0007328'), Row(diseaseFromSourceMappedId='EFO_0009854'), Row(diseaseFromSourceMappedId='EFO_0001074'), Row(diseaseFromSourceMappedId='EFO_0007328'), Row(diseaseFromSourceMappedId='EFO_1000860'), Row(diseaseFromSourceMappedId='MONDO_0004992'), Row(diseaseFromSourceMappedId='MONDO_0002050'), Row(diseaseFromSourceMappedId='MONDO_0002009'), Row(diseaseFromSourceMappedId='MONDO_0005180'), Row(diseaseFromSourceMappedId='EFO_0005762'), Row(diseaseFromSourceMappedId='MONDO_0002009'), Row(diseaseFromSourceMappedId='EFO_1001402'), Row(diseaseFromSourceMappedId='MONDO_0004975'), Row(diseaseFromSourceMappedId='EFO_0003756'), Row(diseaseFromSourceMappedId='MONDO_0005301'), Row(diseaseFromSourceMappedId='MONDO_0002009'), Row(diseaseFromSourceMappedId='MONDO_0005180'), Row(diseaseFromSourceMappedId='MONDO_0004985'), Row(diseaseFromSourceMappedId='MONDO_0004975'), Row(diseaseFromSourceMappedId='MONDO_0002009'), Row(diseaseFromSourceMappedId='EFO_0005762'), Row(diseaseFromSourceMappedId='EFO_0005230'), Row(diseaseFromSourceMappedId='EFO_0000544'), Row(diseaseFromSourceMappedId='EFO_0003843'), Row(diseaseFromSourceMappedId='MONDO_0043510'), Row(diseaseFromSourceMappedId='EFO_0007328'), Row(diseaseFromSourceMappedId='EFO_0003843'), Row(diseaseFromSourceMappedId='MONDO_0002009'), Row(diseaseFromSourceMappedId='MONDO_0005180'), Row(diseaseFromSourceMappedId='EFO_1001402'), Row(diseaseFromSourceMappedId='MONDO_0004975'), Row(diseaseFromSourceMappedId='MONDO_0004975'), Row(diseaseFromSourceMappedId='EFO_1001175'), Row(diseaseFromSourceMappedId='EFO_0000544'), Row(diseaseFromSourceMappedId='EFO_0003843'), Row(diseaseFromSourceMappedId='MONDO_0002009'), Row(diseaseFromSourceMappedId='EFO_0007328'), Row(diseaseFromSourceMappedId='MONDO_0005090'), Row(diseaseFromSourceMappedId='EFO_0007328'), Row(diseaseFromSourceMappedId='EFO_1001175'), Row(diseaseFromSourceMappedId='EFO_0003843'), Row(diseaseFromSourceMappedId='MONDO_0005301'), Row(diseaseFromSourceMappedId='MONDO_0007079'), Row(diseaseFromSourceMappedId='EFO_0000677'), Row(diseaseFromSourceMappedId='EFO_0004190'), Row(diseaseFromSourceMappedId='MONDO_0007079'), Row(diseaseFromSourceMappedId='EFO_0002610'), Row(diseaseFromSourceMappedId='EFO_0009854'), Row(diseaseFromSourceMappedId='MONDO_0002050'), Row(diseaseFromSourceMappedId='EFO_0003843'), Row(diseaseFromSourceMappedId='EFO_0007328'), Row(diseaseFromSourceMappedId='EFO_0009854'), Row(diseaseFromSourceMappedId='EFO_0000519'), Row(diseaseFromSourceMappedId='EFO_0005611'), Row(diseaseFromSourceMappedId='MONDO_0004975'), Row(diseaseFromSourceMappedId='MONDO_0004985'), Row(diseaseFromSourceMappedId='MONDO_0002009'), Row(diseaseFromSourceMappedId='EFO_0000546'), Row(diseaseFromSourceMappedId='HP_0000360'), Row(diseaseFromSourceMappedId='EFO_0000544'), Row(diseaseFromSourceMappedId='EFO_0006834'), Row(diseaseFromSourceMappedId='EFO_0005230'), Row(diseaseFromSourceMappedId='MONDO_0005180'), Row(diseaseFromSourceMappedId='EFO_0000544'), Row(diseaseFromSourceMappedId='MONDO_0004975'), Row(diseaseFromSourceMappedId='MONDO_0002050'), Row(diseaseFromSourceMappedId='MONDO_0002009'), Row(diseaseFromSourceMappedId='EFO_0003843'), Row(diseaseFromSourceMappedId='EFO_1001175'), Row(diseaseFromSourceMappedId='EFO_0001358'), Row(diseaseFromSourceMappedId='MONDO_0002009'), Row(diseaseFromSourceMappedId='MONDO_0004992'), Row(diseaseFromSourceMappedId='EFO_0009854'), Row(diseaseFromSourceMappedId='EFO_0003843'), Row(diseaseFromSourceMappedId='EFO_0009854'), Row(diseaseFromSourceMappedId='EFO_0004247'), Row(diseaseFromSourceMappedId='MONDO_0024880'), Row(diseaseFromSourceMappedId='EFO_0020000'), Row(diseaseFromSourceMappedId='EFO_0004321'), Row(diseaseFromSourceMappedId='MONDO_0005180'), Row(diseaseFromSourceMappedId='MONDO_0005180'), Row(diseaseFromSourceMappedId='MONDO_0002009'), Row(diseaseFromSourceMappedId='MONDO_0002050'), Row(diseaseFromSourceMappedId='EFO_0003843'), Row(diseaseFromSourceMappedId='EFO_0003758'), Row(diseaseFromSourceMappedId='EFO_0004320'), Row(diseaseFromSourceMappedId='MONDO_0004992'), Row(diseaseFromSourceMappedId='EFO_0003843'), Row(diseaseFromSourceMappedId='MONDO_0004985'), Row(diseaseFromSourceMappedId='EFO_0000544'), Row(diseaseFromSourceMappedId='EFO_0003843'), Row(diseaseFromSourceMappedId='EFO_0003843'), Row(diseaseFromSourceMappedId='EFO_0001358'), Row(diseaseFromSourceMappedId='MONDO_0008315'), Row(diseaseFromSourceMappedId='EFO_0000546'), Row(diseaseFromSourceMappedId='MONDO_0002046'), Row(diseaseFromSourceMappedId='MONDO_0002009'), Row(diseaseFromSourceMappedId='HP_0000360'), Row(diseaseFromSourceMappedId='EFO_0009854'), Row(diseaseFromSourceMappedId='EFO_0003843'), Row(diseaseFromSourceMappedId='EFO_0009267'), Row(diseaseFromSourceMappedId='EFO_0003843'), Row(diseaseFromSourceMappedId='EFO_1000860'), Row(diseaseFromSourceMappedId='EFO_0007634'), Row(diseaseFromSourceMappedId='EFO_0007191'), Row(diseaseFromSourceMappedId='MONDO_0005351'), Row(diseaseFromSourceMappedId='MONDO_0002009'), Row(diseaseFromSourceMappedId='EFO_1000860'), Row(diseaseFromSourceMappedId='MONDO_0002009'), Row(diseaseFromSourceMappedId='EFO_0007328'), Row(diseaseFromSourceMappedId='MONDO_0005180'), Row(diseaseFromSourceMappedId='EFO_0004247'), Row(diseaseFromSourceMappedId='MONDO_0002009'), Row(diseaseFromSourceMappedId='MONDO_0005180'), Row(diseaseFromSourceMappedId='EFO_0009854'), Row(diseaseFromSourceMappedId='EFO_0003761'), Row(diseaseFromSourceMappedId='HP_0001300'), Row(diseaseFromSourceMappedId='EFO_0003756'), Row(diseaseFromSourceMappedId='EFO_0007328'), Row(diseaseFromSourceMappedId='MONDO_0011382'), Row(diseaseFromSourceMappedId='MONDO_0002050'), Row(diseaseFromSourceMappedId='EFO_0005762'), Row(diseaseFromSourceMappedId='EFO_0003843'), Row(diseaseFromSourceMappedId='MONDO_0005180'), Row(diseaseFromSourceMappedId='EFO_0000544'), Row(diseaseFromSourceMappedId='EFO_0003843'), Row(diseaseFromSourceMappedId='HP_0000989'), Row(diseaseFromSourceMappedId='EFO_0003843'), Row(diseaseFromSourceMappedId='MONDO_0002050'), Row(diseaseFromSourceMappedId='MONDO_0005090'), Row(diseaseFromSourceMappedId='EFO_0000544'), Row(diseaseFromSourceMappedId='HP_0000360'), Row(diseaseFromSourceMappedId='EFO_1001175'), Row(diseaseFromSourceMappedId='MONDO_0004975'), Row(diseaseFromSourceMappedId='MONDO_0011382'), Row(diseaseFromSourceMappedId='MONDO_0002050'), Row(diseaseFromSourceMappedId='EFO_0003843'), Row(diseaseFromSourceMappedId='MONDO_0004975'), Row(diseaseFromSourceMappedId='EFO_0007328'), Row(diseaseFromSourceMappedId='EFO_0003931'), Row(diseaseFromSourceMappedId='EFO_0003843'), Row(diseaseFromSourceMappedId='EFO_0000474'), Row(diseaseFromSourceMappedId='MONDO_0004975'), Row(diseaseFromSourceMappedId='EFO_0002610'), Row(diseaseFromSourceMappedId='MONDO_0002009'), Row(diseaseFromSourceMappedId='MONDO_0007079'), Row(diseaseFromSourceMappedId='MONDO_0005180'), Row(diseaseFromSourceMappedId='EFO_0006834'), Row(diseaseFromSourceMappedId='MONDO_0002009'), Row(diseaseFromSourceMappedId='EFO_0003756'), Row(diseaseFromSourceMappedId='HP_0012532'), Row(diseaseFromSourceMappedId='MONDO_0002050'), Row(diseaseFromSourceMappedId='MONDO_0002009'), Row(diseaseFromSourceMappedId='EFO_0004888'), Row(diseaseFromSourceMappedId='MONDO_0017276'), Row(diseaseFromSourceMappedId='HP_0012532'), Row(diseaseFromSourceMappedId='EFO_0000713'), Row(diseaseFromSourceMappedId='MONDO_0002009'), Row(diseaseFromSourceMappedId='MONDO_0005351'), Row(diseaseFromSourceMappedId='MONDO_0005180'), Row(diseaseFromSourceMappedId='MONDO_0004975'), Row(diseaseFromSourceMappedId='EFO_0009516'), Row(diseaseFromSourceMappedId='EFO_0005279'), Row(diseaseFromSourceMappedId='EFO_0003047'), Row(diseaseFromSourceMappedId='MONDO_0002050'), Row(diseaseFromSourceMappedId='EFO_0001358'), Row(diseaseFromSourceMappedId='EFO_0000713'), Row(diseaseFromSourceMappedId='EFO_0007328'), Row(diseaseFromSourceMappedId='MONDO_0004975'), Row(diseaseFromSourceMappedId='MONDO_0007079'), Row(diseaseFromSourceMappedId='EFO_0003843'), Row(diseaseFromSourceMappedId='HP_0003419'), Row(diseaseFromSourceMappedId='MONDO_0005351'), Row(diseaseFromSourceMappedId='EFO_0007328'), Row(diseaseFromSourceMappedId='EFO_0007623'), Row(diseaseFromSourceMappedId='MONDO_0005090'), Row(diseaseFromSourceMappedId='EFO_0009854'), Row(diseaseFromSourceMappedId='MONDO_0007079'), Row(diseaseFromSourceMappedId='EFO_0002610'), Row(diseaseFromSourceMappedId='EFO_0005762'), Row(diseaseFromSourceMappedId='EFO_0007430'), Row(diseaseFromSourceMappedId='HP_0012167'), Row(diseaseFromSourceMappedId='MONDO_0005090'), Row(diseaseFromSourceMappedId='EFO_0003843'), Row(diseaseFromSourceMappedId='EFO_0007328'), Row(diseaseFromSourceMappedId='EFO_0007623'), Row(diseaseFromSourceMappedId='EFO_0003931'), Row(diseaseFromSourceMappedId='HP_0000023'), Row(diseaseFromSourceMappedId='EFO_0009854'), Row(diseaseFromSourceMappedId='EFO_0000544'), Row(diseaseFromSourceMappedId='HP_0000360'), Row(diseaseFromSourceMappedId='EFO_0009658'), Row(diseaseFromSourceMappedId='MONDO_0005090'), Row(diseaseFromSourceMappedId='EFO_0003843'), Row(diseaseFromSourceMappedId='MONDO_0005180'), Row(diseaseFromSourceMappedId='MONDO_0004975'), Row(diseaseFromSourceMappedId='MONDO_0002050'), Row(diseaseFromSourceMappedId='EFO_0000713'), Row(diseaseFromSourceMappedId='MONDO_0005351'), Row(diseaseFromSourceMappedId='MONDO_0005180'), Row(diseaseFromSourceMappedId='MONDO_0004975'), Row(diseaseFromSourceMappedId='EFO_0003843'), Row(diseaseFromSourceMappedId='MONDO_0007079'), Row(diseaseFromSourceMappedId='MONDO_0002050'), Row(diseaseFromSourceMappedId='EFO_0007634'), Row(diseaseFromSourceMappedId='MONDO_0002009'), Row(diseaseFromSourceMappedId='MONDO_0002050'), Row(diseaseFromSourceMappedId='HP_0000360'), Row(diseaseFromSourceMappedId='MONDO_0005180'), Row(diseaseFromSourceMappedId='MONDO_0002491'), Row(diseaseFromSourceMappedId='MONDO_0002009'), Row(diseaseFromSourceMappedId='EFO_0003931'), Row(diseaseFromSourceMappedId='EFO_0007328'), Row(diseaseFromSourceMappedId='EFO_1001898'), Row(diseaseFromSourceMappedId='MONDO_0002258'), Row(diseaseFromSourceMappedId='EFO_0004320'), Row(diseaseFromSourceMappedId='MONDO_0005301'), Row(diseaseFromSourceMappedId='EFO_0000546'), Row(diseaseFromSourceMappedId='MONDO_0005180'), Row(diseaseFromSourceMappedId='EFO_0000546'), Row(diseaseFromSourceMappedId='EFO_0000677'), Row(diseaseFromSourceMappedId='HP_0012167'), Row(diseaseFromSourceMappedId='EFO_0002610'), Row(diseaseFromSourceMappedId='EFO_1001175'), Row(diseaseFromSourceMappedId='MONDO_0002050'), Row(diseaseFromSourceMappedId='MONDO_0005090'), Row(diseaseFromSourceMappedId='EFO_1000860'), Row(diseaseFromSourceMappedId='EFO_0003843'), Row(diseaseFromSourceMappedId='MONDO_0002050'), Row(diseaseFromSourceMappedId='HP_0000360'), Row(diseaseFromSourceMappedId='HP_0002381'), Row(diseaseFromSourceMappedId='MONDO_0005180'), Row(diseaseFromSourceMappedId='MONDO_0005180'), Row(diseaseFromSourceMappedId='EFO_0009963'), Row(diseaseFromSourceMappedId='EFO_0007328'), Row(diseaseFromSourceMappedId='EFO_0003086'), Row(diseaseFromSourceMappedId='EFO_0009854'), Row(diseaseFromSourceMappedId='MONDO_0005180'), Row(diseaseFromSourceMappedId='MONDO_0004975'), Row(diseaseFromSourceMappedId='EFO_0007328'), Row(diseaseFromSourceMappedId='MONDO_0002009'), Row(diseaseFromSourceMappedId='EFO_0003015'), Row(diseaseFromSourceMappedId='MONDO_0002009'), Row(diseaseFromSourceMappedId='EFO_0005762'), Row(diseaseFromSourceMappedId='EFO_0003843'), Row(diseaseFromSourceMappedId='HP_0012532'), Row(diseaseFromSourceMappedId='HP_0100806'), Row(diseaseFromSourceMappedId='MONDO_0004975'), Row(diseaseFromSourceMappedId='EFO_1000632'), Row(diseaseFromSourceMappedId='MONDO_0004975'), Row(diseaseFromSourceMappedId='EFO_0003843'), Row(diseaseFromSourceMappedId='EFO_0000544'), Row(diseaseFromSourceMappedId='MONDO_0002050'), Row(diseaseFromSourceMappedId='HP_0000360'), Row(diseaseFromSourceMappedId='EFO_0001358'), Row(diseaseFromSourceMappedId='EFO_0003758'), Row(diseaseFromSourceMappedId='EFO_0003843'), Row(diseaseFromSourceMappedId='EFO_0003833'), Row(diseaseFromSourceMappedId='MONDO_0043510'), Row(diseaseFromSourceMappedId='MONDO_0004975'), Row(diseaseFromSourceMappedId='EFO_0003777'), Row(diseaseFromSourceMappedId='MONDO_0043510'), Row(diseaseFromSourceMappedId='HP_0012532'), Row(diseaseFromSourceMappedId='MONDO_0004975'), Row(diseaseFromSourceMappedId='MONDO_0007079'), Row(diseaseFromSourceMappedId='EFO_0001358'), Row(diseaseFromSourceMappedId='EFO_0002610'), Row(diseaseFromSourceMappedId='EFO_0009854'), Row(diseaseFromSourceMappedId='EFO_0003756'), Row(diseaseFromSourceMappedId='MONDO_0004975'), Row(diseaseFromSourceMappedId='MONDO_0005180'), Row(diseaseFromSourceMappedId='EFO_0008590'), Row(diseaseFromSourceMappedId='EFO_0003843'), Row(diseaseFromSourceMappedId='EFO_1001175'), Row(diseaseFromSourceMappedId='MONDO_0002009'), Row(diseaseFromSourceMappedId='EFO_0003843'), Row(diseaseFromSourceMappedId='MONDO_0017276'), Row(diseaseFromSourceMappedId='EFO_0003761'), Row(diseaseFromSourceMappedId='MONDO_0002009'), Row(diseaseFromSourceMappedId='EFO_1001491'), Row(diseaseFromSourceMappedId='HP_0000360'), Row(diseaseFromSourceMappedId='EFO_0007328'), Row(diseaseFromSourceMappedId='EFO_0004321'), Row(diseaseFromSourceMappedId='MONDO_0100096'), Row(diseaseFromSourceMappedId='EFO_0007328'), Row(diseaseFromSourceMappedId='MONDO_0005180'), Row(diseaseFromSourceMappedId='MONDO_0005301'), Row(diseaseFromSourceMappedId='EFO_1001175'), Row(diseaseFromSourceMappedId='MONDO_0005180'), Row(diseaseFromSourceMappedId='EFO_0007453'), Row(diseaseFromSourceMappedId='EFO_1001488'), Row(diseaseFromSourceMappedId='MONDO_0002009'), Row(diseaseFromSourceMappedId='EFO_1001465'), Row(diseaseFromSourceMappedId='EFO_0009267'), Row(diseaseFromSourceMappedId='MONDO_0043510'), Row(diseaseFromSourceMappedId='EFO_0003843'), Row(diseaseFromSourceMappedId='EFO_1001402'), Row(diseaseFromSourceMappedId='MONDO_0024880'), Row(diseaseFromSourceMappedId='EFO_0003869'), Row(diseaseFromSourceMappedId='EFO_0003843'), Row(diseaseFromSourceMappedId='HP_0001300'), Row(diseaseFromSourceMappedId='HP_0100543'), Row(diseaseFromSourceMappedId='MONDO_0005180'), Row(diseaseFromSourceMappedId='EFO_1001175'), Row(diseaseFromSourceMappedId='MONDO_0005180'), Row(diseaseFromSourceMappedId='EFO_0000544'), Row(diseaseFromSourceMappedId='EFO_0007328'), Row(diseaseFromSourceMappedId='MONDO_0002050'), Row(diseaseFromSourceMappedId='EFO_0008526'), Row(diseaseFromSourceMappedId='EFO_1001402'), Row(diseaseFromSourceMappedId='EFO_0009516'), Row(diseaseFromSourceMappedId='MONDO_0011382'), Row(diseaseFromSourceMappedId='MONDO_0100096'), Row(diseaseFromSourceMappedId='EFO_0003819'), Row(diseaseFromSourceMappedId='MONDO_0005180'), Row(diseaseFromSourceMappedId='MONDO_0002009'), Row(diseaseFromSourceMappedId='MONDO_0100096'), Row(diseaseFromSourceMappedId='EFO_0007149'), Row(diseaseFromSourceMappedId='EFO_0007328'), Row(diseaseFromSourceMappedId='MONDO_0005090'), Row(diseaseFromSourceMappedId='MONDO_0004985'), Row(diseaseFromSourceMappedId='EFO_0007328'), Row(diseaseFromSourceMappedId='EFO_0003756'), Row(diseaseFromSourceMappedId='EFO_0003843'), Row(diseaseFromSourceMappedId='EFO_0001358'), Row(diseaseFromSourceMappedId='EFO_0000694'), Row(diseaseFromSourceMappedId='MONDO_0100096'), Row(diseaseFromSourceMappedId='MONDO_0002009'), Row(diseaseFromSourceMappedId='EFO_0005232'), Row(diseaseFromSourceMappedId='EFO_0000546'), Row(diseaseFromSourceMappedId='MONDO_0007079'), Row(diseaseFromSourceMappedId='MONDO_0007079'), Row(diseaseFromSourceMappedId='EFO_0003843'), Row(diseaseFromSourceMappedId='MONDO_0004975'), Row(diseaseFromSourceMappedId='EFO_0003843'), Row(diseaseFromSourceMappedId='MONDO_0002009'), Row(diseaseFromSourceMappedId='EFO_0000544'), Row(diseaseFromSourceMappedId='MONDO_0007254'), Row(diseaseFromSourceMappedId='MONDO_0001208'), Row(diseaseFromSourceMappedId='EFO_0004699'), Row(diseaseFromSourceMappedId='MONDO_0005090'), Row(diseaseFromSourceMappedId='EFO_0005762'), Row(diseaseFromSourceMappedId='MONDO_0005180'), Row(diseaseFromSourceMappedId='MONDO_0005180'), Row(diseaseFromSourceMappedId='EFO_0003758'), Row(diseaseFromSourceMappedId='EFO_0003768'), Row(diseaseFromSourceMappedId='EFO_0000544'), Row(diseaseFromSourceMappedId='MONDO_0004985'), Row(diseaseFromSourceMappedId='EFO_0000544'), Row(diseaseFromSourceMappedId='MONDO_0002050'), Row(diseaseFromSourceMappedId='EFO_0003843'), Row(diseaseFromSourceMappedId='EFO_0003843'), Row(diseaseFromSourceMappedId='MONDO_0005180'), Row(diseaseFromSourceMappedId='HP_0003419'), Row(diseaseFromSourceMappedId='EFO_0007328'), Row(diseaseFromSourceMappedId='EFO_0000544'), Row(diseaseFromSourceMappedId='MONDO_0005180'), Row(diseaseFromSourceMappedId='MONDO_0002009'), Row(diseaseFromSourceMappedId='EFO_0004321'), Row(diseaseFromSourceMappedId='MONDO_0005180'), Row(diseaseFromSourceMappedId='EFO_0003931'), Row(diseaseFromSourceMappedId='MONDO_0002050'), Row(diseaseFromSourceMappedId='EFO_0003890'), Row(diseaseFromSourceMappedId='MONDO_0005180'), Row(diseaseFromSourceMappedId='EFO_1001402'), Row(diseaseFromSourceMappedId='EFO_0000544'), Row(diseaseFromSourceMappedId='EFO_0006834'), Row(diseaseFromSourceMappedId='EFO_0003843'), Row(diseaseFromSourceMappedId='MONDO_0002050'), Row(diseaseFromSourceMappedId='MONDO_0004985'), Row(diseaseFromSourceMappedId='HP_0001082'), Row(diseaseFromSourceMappedId='EFO_0000546'), Row(diseaseFromSourceMappedId='EFO_0009620'), Row(diseaseFromSourceMappedId='MONDO_0005277'), Row(diseaseFromSourceMappedId='HP_0000713'), Row(diseaseFromSourceMappedId='MONDO_0002050'), Row(diseaseFromSourceMappedId='EFO_0000546'), Row(diseaseFromSourceMappedId='EFO_0003843'), Row(diseaseFromSourceMappedId='EFO_0003843'), Row(diseaseFromSourceMappedId='MONDO_0002050'), Row(diseaseFromSourceMappedId='MONDO_0017276'), Row(diseaseFromSourceMappedId='EFO_0004321'), Row(diseaseFromSourceMappedId='MONDO_0002050'), Row(diseaseFromSourceMappedId='HP_0001337'), Row(diseaseFromSourceMappedId='EFO_0000544'), Row(diseaseFromSourceMappedId='EFO_0003047'), Row(diseaseFromSourceMappedId='EFO_0009552'), Row(diseaseFromSourceMappedId='MONDO_0002070'), Row(diseaseFromSourceMappedId='MONDO_0002050'), Row(diseaseFromSourceMappedId='MONDO_0005180'), Row(diseaseFromSourceMappedId='MONDO_0002009'), Row(diseaseFromSourceMappedId='MONDO_0005090'), Row(diseaseFromSourceMappedId='MONDO_0007079'), Row(diseaseFromSourceMappedId='EFO_0009513'), Row(diseaseFromSourceMappedId='EFO_0004247'), Row(diseaseFromSourceMappedId='EFO_0004242'), Row(diseaseFromSourceMappedId='MONDO_0005180'), Row(diseaseFromSourceMappedId='EFO_0000712'), Row(diseaseFromSourceMappedId='MONDO_0004975'), Row(diseaseFromSourceMappedId='HP_0000989'), Row(diseaseFromSourceMappedId='MONDO_0002009'), Row(diseaseFromSourceMappedId='MONDO_0005180'), Row(diseaseFromSourceMappedId='EFO_0005411'), Row(diseaseFromSourceMappedId='EFO_0003843'), Row(diseaseFromSourceMappedId='MONDO_0005301'), Row(diseaseFromSourceMappedId='EFO_0003843'), Row(diseaseFromSourceMappedId='MONDO_0004992'), Row(diseaseFromSourceMappedId='EFO_1001488'), Row(diseaseFromSourceMappedId='EFO_0003888'), Row(diseaseFromSourceMappedId='EFO_0003843'), Row(diseaseFromSourceMappedId='EFO_0004320'), Row(diseaseFromSourceMappedId='MONDO_0004975'), Row(diseaseFromSourceMappedId='EFO_1001210'), Row(diseaseFromSourceMappedId='EFO_0009854'), Row(diseaseFromSourceMappedId='EFO_0004242'), Row(diseaseFromSourceMappedId='EFO_0003843'), Row(diseaseFromSourceMappedId='EFO_1001402'), Row(diseaseFromSourceMappedId='EFO_0003888'), Row(diseaseFromSourceMappedId='MONDO_0005090'), Row(diseaseFromSourceMappedId='MONDO_0024417'), Row(diseaseFromSourceMappedId='EFO_0003843'), Row(diseaseFromSourceMappedId='EFO_0002610'), Row(diseaseFromSourceMappedId='MONDO_0002050'), Row(diseaseFromSourceMappedId='EFO_0003843'), Row(diseaseFromSourceMappedId='EFO_0007191'), Row(diseaseFromSourceMappedId='EFO_0004247'), Row(diseaseFromSourceMappedId='MONDO_0002009'), Row(diseaseFromSourceMappedId='EFO_0009552'), Row(diseaseFromSourceMappedId='EFO_0000544'), Row(diseaseFromSourceMappedId='EFO_0007328'), Row(diseaseFromSourceMappedId='EFO_0003843'), Row(diseaseFromSourceMappedId='MONDO_0007079'), Row(diseaseFromSourceMappedId='HP_0012532'), Row(diseaseFromSourceMappedId='EFO_1001801'), Row(diseaseFromSourceMappedId='EFO_0007328'), Row(diseaseFromSourceMappedId='EFO_0004320'), Row(diseaseFromSourceMappedId='EFO_0000713'), Row(diseaseFromSourceMappedId='MONDO_0004975'), Row(diseaseFromSourceMappedId='MONDO_0007079'), Row(diseaseFromSourceMappedId='EFO_0009620'), Row(diseaseFromSourceMappedId='MONDO_0002009'), Row(diseaseFromSourceMappedId='EFO_1001175'), Row(diseaseFromSourceMappedId='HP_0000360'), Row(diseaseFromSourceMappedId='EFO_0007328'), Row(diseaseFromSourceMappedId='EFO_0007328'), Row(diseaseFromSourceMappedId='EFO_0000544'), Row(diseaseFromSourceMappedId='MONDO_0004976'), Row(diseaseFromSourceMappedId='HP_0100543'), Row(diseaseFromSourceMappedId='EFO_0000474'), Row(diseaseFromSourceMappedId='HP_0012076'), Row(diseaseFromSourceMappedId='EFO_0005762'), Row(diseaseFromSourceMappedId='HP_0000360'), Row(diseaseFromSourceMappedId='HP_0000360'), Row(diseaseFromSourceMappedId='EFO_0000546'), Row(diseaseFromSourceMappedId='MONDO_0000726'), Row(diseaseFromSourceMappedId='EFO_0004220'), Row(diseaseFromSourceMappedId='MONDO_0005180'), Row(diseaseFromSourceMappedId='MONDO_0001208'), Row(diseaseFromSourceMappedId='EFO_1001998'), Row(diseaseFromSourceMappedId='EFO_0001358'), Row(diseaseFromSourceMappedId='MONDO_0005090'), Row(diseaseFromSourceMappedId='EFO_0020000'), Row(diseaseFromSourceMappedId='MONDO_0005180'), Row(diseaseFromSourceMappedId='MONDO_0007079'), Row(diseaseFromSourceMappedId='EFO_0005687'), Row(diseaseFromSourceMappedId='HP_0000360'), Row(diseaseFromSourceMappedId='EFO_0007224'), Row(diseaseFromSourceMappedId='EFO_0003843'), Row(diseaseFromSourceMappedId='EFO_0003843'), Row(diseaseFromSourceMappedId='EFO_0009963'), Row(diseaseFromSourceMappedId='EFO_0003931'), Row(diseaseFromSourceMappedId='HP_0002315'), Row(diseaseFromSourceMappedId='MONDO_0002050'), Row(diseaseFromSourceMappedId='EFO_0000544'), Row(diseaseFromSourceMappedId='EFO_0003843'), Row(diseaseFromSourceMappedId='EFO_0007328'), Row(diseaseFromSourceMappedId='MONDO_0005180'), Row(diseaseFromSourceMappedId='EFO_0003843'), Row(diseaseFromSourceMappedId='EFO_0000544'), Row(diseaseFromSourceMappedId='EFO_0004242'), Row(diseaseFromSourceMappedId='HP_0100543'), Row(diseaseFromSourceMappedId='EFO_1000860'), Row(diseaseFromSourceMappedId='HP_0000713'), Row(diseaseFromSourceMappedId='EFO_0000546'), Row(diseaseFromSourceMappedId='EFO_1000860'), Row(diseaseFromSourceMappedId='HP_0025428'), Row(diseaseFromSourceMappedId='EFO_0003931'), Row(diseaseFromSourceMappedId='EFO_0003843'), Row(diseaseFromSourceMappedId='MONDO_0002046'), Row(diseaseFromSourceMappedId='MONDO_0010383'), Row(diseaseFromSourceMappedId='EFO_0007328'), Row(diseaseFromSourceMappedId='EFO_0005762'), Row(diseaseFromSourceMappedId='EFO_0000544'), Row(diseaseFromSourceMappedId='EFO_1001884'), Row(diseaseFromSourceMappedId='EFO_0003843'), Row(diseaseFromSourceMappedId='HP_0012532'), Row(diseaseFromSourceMappedId='MONDO_0005180'), Row(diseaseFromSourceMappedId='MONDO_0005180'), Row(diseaseFromSourceMappedId='EFO_0003843'), Row(diseaseFromSourceMappedId='MONDO_0002009'), Row(diseaseFromSourceMappedId='MONDO_0002050'), Row(diseaseFromSourceMappedId='EFO_0003843'), Row(diseaseFromSourceMappedId='MONDO_0002050'), Row(diseaseFromSourceMappedId='MONDO_0004992'), Row(diseaseFromSourceMappedId='EFO_0004320'), Row(diseaseFromSourceMappedId='EFO_0001074'), Row(diseaseFromSourceMappedId='MONDO_0002009'), Row(diseaseFromSourceMappedId='EFO_0007328'), Row(diseaseFromSourceMappedId='EFO_1000391'), Row(diseaseFromSourceMappedId='MONDO_0002009'), Row(diseaseFromSourceMappedId='MONDO_0004985'), Row(diseaseFromSourceMappedId='EFO_0003843'), Row(diseaseFromSourceMappedId='MONDO_0005180'), Row(diseaseFromSourceMappedId='EFO_0004320'), Row(diseaseFromSourceMappedId='MONDO_0005277'), Row(diseaseFromSourceMappedId='EFO_0003843'), Row(diseaseFromSourceMappedId='EFO_0003843'), Row(diseaseFromSourceMappedId='EFO_0003777'), Row(diseaseFromSourceMappedId='MONDO_0004985'), Row(diseaseFromSourceMappedId='MONDO_0002009'), Row(diseaseFromSourceMappedId='MONDO_0002009'), Row(diseaseFromSourceMappedId='EFO_0005687'), Row(diseaseFromSourceMappedId='EFO_0000712'), Row(diseaseFromSourceMappedId='MONDO_0002009'), Row(diseaseFromSourceMappedId='EFO_1001175'), Row(diseaseFromSourceMappedId='MONDO_0001208'), Row(diseaseFromSourceMappedId='MONDO_0004975'), Row(diseaseFromSourceMappedId='EFO_0007328'), Row(diseaseFromSourceMappedId='EFO_1001175'), Row(diseaseFromSourceMappedId='EFO_1000860'), Row(diseaseFromSourceMappedId='MONDO_0007079'), Row(diseaseFromSourceMappedId='EFO_1001175'), Row(diseaseFromSourceMappedId='EFO_0003108'), Row(diseaseFromSourceMappedId='MONDO_0007079'), Row(diseaseFromSourceMappedId='MONDO_0004975'), Row(diseaseFromSourceMappedId='EFO_0003843'), Row(diseaseFromSourceMappedId='EFO_0005762'), Row(diseaseFromSourceMappedId='EFO_0003843'), Row(diseaseFromSourceMappedId='EFO_0003839'), Row(diseaseFromSourceMappedId='HP_0000360'), Row(diseaseFromSourceMappedId='EFO_1001465'), Row(diseaseFromSourceMappedId='EFO_1001491'), Row(diseaseFromSourceMappedId='MONDO_0005090'), Row(diseaseFromSourceMappedId='MONDO_0005301'), Row(diseaseFromSourceMappedId='MONDO_0004975'), Row(diseaseFromSourceMappedId='MONDO_0004985'), Row(diseaseFromSourceMappedId='EFO_0003843'), Row(diseaseFromSourceMappedId='EFO_1001402'), Row(diseaseFromSourceMappedId='MONDO_0004976'), Row(diseaseFromSourceMappedId='MONDO_0004985'), Row(diseaseFromSourceMappedId='MONDO_0005090'), Row(diseaseFromSourceMappedId='MONDO_0002009'), Row(diseaseFromSourceMappedId='EFO_0004320'), Row(diseaseFromSourceMappedId='EFO_0000544'), Row(diseaseFromSourceMappedId='MONDO_0007739'), Row(diseaseFromSourceMappedId='EFO_0003843'), Row(diseaseFromSourceMappedId='MONDO_0004975'), Row(diseaseFromSourceMappedId='MONDO_0004985'), Row(diseaseFromSourceMappedId='MONDO_0002009'), Row(diseaseFromSourceMappedId='MONDO_0007739'), Row(diseaseFromSourceMappedId='MONDO_0007079'), Row(diseaseFromSourceMappedId='EFO_0004220'), Row(diseaseFromSourceMappedId='MONDO_0002009'), Row(diseaseFromSourceMappedId='MONDO_0005180'), Row(diseaseFromSourceMappedId='EFO_0004321'), Row(diseaseFromSourceMappedId='MONDO_0005180'), Row(diseaseFromSourceMappedId='MONDO_0005180'), Row(diseaseFromSourceMappedId='MONDO_0002050'), Row(diseaseFromSourceMappedId='EFO_0009620'), Row(diseaseFromSourceMappedId='MONDO_0005090'), Row(diseaseFromSourceMappedId='EFO_0003839'), Row(diseaseFromSourceMappedId='MONDO_0007079'), Row(diseaseFromSourceMappedId='MONDO_0004976'), Row(diseaseFromSourceMappedId='MONDO_0002009'), Row(diseaseFromSourceMappedId='EFO_0007634'), Row(diseaseFromSourceMappedId='MONDO_0002009'), Row(diseaseFromSourceMappedId='EFO_0000546'), Row(diseaseFromSourceMappedId='EFO_0003843'), Row(diseaseFromSourceMappedId='MONDO_0002050'), Row(diseaseFromSourceMappedId='MONDO_0002009'), Row(diseaseFromSourceMappedId='MONDO_0002050'), Row(diseaseFromSourceMappedId='EFO_0005611'), Row(diseaseFromSourceMappedId='EFO_0007328'), Row(diseaseFromSourceMappedId='MONDO_0005301'), Row(diseaseFromSourceMappedId='EFO_0003843'), Row(diseaseFromSourceMappedId='EFO_0000546'), Row(diseaseFromSourceMappedId='EFO_0000544'), Row(diseaseFromSourceMappedId='EFO_0000544'), Row(diseaseFromSourceMappedId='MONDO_0002009'), Row(diseaseFromSourceMappedId='EFO_0000546'), Row(diseaseFromSourceMappedId='MONDO_0005180'), Row(diseaseFromSourceMappedId='EFO_0007328'), Row(diseaseFromSourceMappedId='MONDO_0005090'), Row(diseaseFromSourceMappedId='HP_0000023'), Row(diseaseFromSourceMappedId='EFO_0003843'), Row(diseaseFromSourceMappedId='EFO_0007328'), Row(diseaseFromSourceMappedId='MONDO_0002009'), Row(diseaseFromSourceMappedId='EFO_0003761'), Row(diseaseFromSourceMappedId='EFO_0009267'), Row(diseaseFromSourceMappedId='MONDO_0043510'), Row(diseaseFromSourceMappedId='EFO_0005611'), Row(diseaseFromSourceMappedId='MONDO_0002050'), Row(diseaseFromSourceMappedId='EFO_0005762'), Row(diseaseFromSourceMappedId='MONDO_0024417'), Row(diseaseFromSourceMappedId='MONDO_0002070'), Row(diseaseFromSourceMappedId='EFO_0007328'), Row(diseaseFromSourceMappedId='MONDO_0004975'), Row(diseaseFromSourceMappedId='MONDO_0005090'), Row(diseaseFromSourceMappedId='EFO_0000544'), Row(diseaseFromSourceMappedId='EFO_0004220'), Row(diseaseFromSourceMappedId='EFO_0001358'), Row(diseaseFromSourceMappedId='EFO_0009267'), Row(diseaseFromSourceMappedId='EFO_0003843'), Row(diseaseFromSourceMappedId='HP_0003419'), Row(diseaseFromSourceMappedId='EFO_0003819'), Row(diseaseFromSourceMappedId='MONDO_0005180'), Row(diseaseFromSourceMappedId='EFO_0003843'), Row(diseaseFromSourceMappedId='EFO_0003843'), Row(diseaseFromSourceMappedId='EFO_0003843'), Row(diseaseFromSourceMappedId='MONDO_0002009'), Row(diseaseFromSourceMappedId='EFO_0003890'), Row(diseaseFromSourceMappedId='MONDO_0005180'), Row(diseaseFromSourceMappedId='MONDO_0005180'), Row(diseaseFromSourceMappedId='EFO_0000546'), Row(diseaseFromSourceMappedId='MONDO_0002009'), Row(diseaseFromSourceMappedId='EFO_0000474'), Row(diseaseFromSourceMappedId='EFO_0000519'), Row(diseaseFromSourceMappedId='MONDO_0005180'), Row(diseaseFromSourceMappedId='MONDO_0002009'), Row(diseaseFromSourceMappedId='MONDO_0005180'), Row(diseaseFromSourceMappedId='MONDO_0005090'), Row(diseaseFromSourceMappedId='EFO_0002610'), Row(diseaseFromSourceMappedId='MONDO_0002070'), Row(diseaseFromSourceMappedId='MONDO_0004985'), Row(diseaseFromSourceMappedId='MONDO_0005180'), Row(diseaseFromSourceMappedId='HP_0012532'), Row(diseaseFromSourceMappedId='EFO_0007328'), Row(diseaseFromSourceMappedId='EFO_0003843'), Row(diseaseFromSourceMappedId='MONDO_0005180'), Row(diseaseFromSourceMappedId='HP_0003419'), Row(diseaseFromSourceMappedId='EFO_0004242'), Row(diseaseFromSourceMappedId='EFO_0007328'), Row(diseaseFromSourceMappedId='MONDO_0001208'), Row(diseaseFromSourceMappedId='MONDO_0002050'), Row(diseaseFromSourceMappedId='MONDO_0002050'), Row(diseaseFromSourceMappedId='EFO_0009963'), Row(diseaseFromSourceMappedId='MONDO_0002009'), Row(diseaseFromSourceMappedId='MONDO_0002491'), Row(diseaseFromSourceMappedId='EFO_0003761'), Row(diseaseFromSourceMappedId='MONDO_0043510'), Row(diseaseFromSourceMappedId='MONDO_0002050'), Row(diseaseFromSourceMappedId='EFO_0003843'), Row(diseaseFromSourceMappedId='EFO_0000544'), Row(diseaseFromSourceMappedId='MONDO_0004992'), Row(diseaseFromSourceMappedId='EFO_1001175'), Row(diseaseFromSourceMappedId='EFO_0006834'), Row(diseaseFromSourceMappedId='EFO_0005762'), Row(diseaseFromSourceMappedId='MONDO_0001208'), Row(diseaseFromSourceMappedId='EFO_0005323'), Row(diseaseFromSourceMappedId='MONDO_0005180'), Row(diseaseFromSourceMappedId='EFO_0003843'), Row(diseaseFromSourceMappedId='EFO_0007453'), Row(diseaseFromSourceMappedId='EFO_0003843'), Row(diseaseFromSourceMappedId='MONDO_0002009'), Row(diseaseFromSourceMappedId='MONDO_0007079'), Row(diseaseFromSourceMappedId='MONDO_0007079'), Row(diseaseFromSourceMappedId='EFO_0003833'), Row(diseaseFromSourceMappedId='EFO_0003756'), Row(diseaseFromSourceMappedId='EFO_1001465'), Row(diseaseFromSourceMappedId='MONDO_0005180'), Row(diseaseFromSourceMappedId='EFO_0009267'), Row(diseaseFromSourceMappedId='MONDO_0100096'), Row(diseaseFromSourceMappedId='MONDO_0007079'), Row(diseaseFromSourceMappedId='EFO_0007328'), Row(diseaseFromSourceMappedId='MONDO_0002009'), Row(diseaseFromSourceMappedId='EFO_0005411'), Row(diseaseFromSourceMappedId='HP_0012532'), Row(diseaseFromSourceMappedId='EFO_0004242'), Row(diseaseFromSourceMappedId='MONDO_0002050'), Row(diseaseFromSourceMappedId='EFO_0001361'), Row(diseaseFromSourceMappedId='MONDO_0043510'), Row(diseaseFromSourceMappedId='EFO_0001073'), Row(diseaseFromSourceMappedId='EFO_0004242'), Row(diseaseFromSourceMappedId='EFO_0003839'), Row(diseaseFromSourceMappedId='MONDO_0002050'), Row(diseaseFromSourceMappedId='MONDO_0011382'), Row(diseaseFromSourceMappedId='MONDO_0004975'), Row(diseaseFromSourceMappedId='MONDO_0002050'), Row(diseaseFromSourceMappedId='EFO_0007328'), Row(diseaseFromSourceMappedId='EFO_0003843'), Row(diseaseFromSourceMappedId='EFO_0002610'), Row(diseaseFromSourceMappedId='EFO_1000391'), Row(diseaseFromSourceMappedId='EFO_0007453'), Row(diseaseFromSourceMappedId='MONDO_0002009'), Row(diseaseFromSourceMappedId='MONDO_0002050'), Row(diseaseFromSourceMappedId='MONDO_0002050'), Row(diseaseFromSourceMappedId='EFO_0003957'), Row(diseaseFromSourceMappedId='EFO_0009854'), Row(diseaseFromSourceMappedId='EFO_0003047'), Row(diseaseFromSourceMappedId='EFO_0000544'), Row(diseaseFromSourceMappedId='HP_0030680'), Row(diseaseFromSourceMappedId='EFO_1001884'), Row(diseaseFromSourceMappedId='EFO_1001402'), Row(diseaseFromSourceMappedId='MONDO_0002038'), Row(diseaseFromSourceMappedId='EFO_0003843'), Row(diseaseFromSourceMappedId='EFO_0003756'), Row(diseaseFromSourceMappedId='EFO_0003843'), Row(diseaseFromSourceMappedId='EFO_0007328'), Row(diseaseFromSourceMappedId='MONDO_0002009'), Row(diseaseFromSourceMappedId='EFO_0003843'), Row(diseaseFromSourceMappedId='MONDO_0005180'), Row(diseaseFromSourceMappedId='MONDO_0005180'), Row(diseaseFromSourceMappedId='EFO_0007328'), Row(diseaseFromSourceMappedId='EFO_0000712'), Row(diseaseFromSourceMappedId='EFO_0003843'), Row(diseaseFromSourceMappedId='MONDO_0002009'), Row(diseaseFromSourceMappedId='EFO_0007328'), Row(diseaseFromSourceMappedId='EFO_0007328'), Row(diseaseFromSourceMappedId='EFO_0005762'), Row(diseaseFromSourceMappedId='EFO_0003761'), Row(diseaseFromSourceMappedId='MONDO_0005180'), Row(diseaseFromSourceMappedId='MONDO_0007079'), Row(diseaseFromSourceMappedId='EFO_0003843'), Row(diseaseFromSourceMappedId='EFO_0003758'), Row(diseaseFromSourceMappedId='MONDO_0002009'), Row(diseaseFromSourceMappedId='MONDO_0004975'), Row(diseaseFromSourceMappedId='EFO_0004321'), Row(diseaseFromSourceMappedId='MONDO_0002009'), Row(diseaseFromSourceMappedId='MONDO_0002050'), Row(diseaseFromSourceMappedId='HP_0000486'), Row(diseaseFromSourceMappedId='MONDO_0005090'), Row(diseaseFromSourceMappedId='MONDO_0005180'), Row(diseaseFromSourceMappedId='EFO_0005411'), Row(diseaseFromSourceMappedId='MONDO_0002050'), Row(diseaseFromSourceMappedId='EFO_0007328'), Row(diseaseFromSourceMappedId='MONDO_0004975'), Row(diseaseFromSourceMappedId='EFO_0003869'), Row(diseaseFromSourceMappedId='EFO_0003843'), Row(diseaseFromSourceMappedId='EFO_0000544'), Row(diseaseFromSourceMappedId='EFO_0003843'), Row(diseaseFromSourceMappedId='EFO_0003761'), Row(diseaseFromSourceMappedId='EFO_0003761'), Row(diseaseFromSourceMappedId='EFO_0003756'), Row(diseaseFromSourceMappedId='MONDO_0004975'), Row(diseaseFromSourceMappedId='MONDO_0005180'), Row(diseaseFromSourceMappedId='EFO_0007328'), Row(diseaseFromSourceMappedId='MONDO_0002050'), Row(diseaseFromSourceMappedId='EFO_0000544'), Row(diseaseFromSourceMappedId='MONDO_0002009'), Row(diseaseFromSourceMappedId='MONDO_0004975'), Row(diseaseFromSourceMappedId='MONDO_0005180'), Row(diseaseFromSourceMappedId='EFO_0007623'), Row(diseaseFromSourceMappedId='EFO_0003843'), Row(diseaseFromSourceMappedId='MONDO_0002009'), Row(diseaseFromSourceMappedId='EFO_0003843'), Row(diseaseFromSourceMappedId='EFO_0003833'), Row(diseaseFromSourceMappedId='HP_0001268'), Row(diseaseFromSourceMappedId='EFO_0007224'), Row(diseaseFromSourceMappedId='MONDO_0002009'), Row(diseaseFromSourceMappedId='HP_0100543'), Row(diseaseFromSourceMappedId='EFO_0003843'), Row(diseaseFromSourceMappedId='HP_0000486'), Row(diseaseFromSourceMappedId='MONDO_0002050'), Row(diseaseFromSourceMappedId='MONDO_0004975'), Row(diseaseFromSourceMappedId='EFO_1001402'), Row(diseaseFromSourceMappedId='EFO_0007328'), Row(diseaseFromSourceMappedId='EFO_0003843'), Row(diseaseFromSourceMappedId='EFO_0007328'), Row(diseaseFromSourceMappedId='EFO_1000783'), Row(diseaseFromSourceMappedId='MONDO_0004985'), Row(diseaseFromSourceMappedId='EFO_0007328'), Row(diseaseFromSourceMappedId='MONDO_0007079'), Row(diseaseFromSourceMappedId='EFO_0007328'), Row(diseaseFromSourceMappedId='EFO_0006834'), Row(diseaseFromSourceMappedId='EFO_0003931'), Row(diseaseFromSourceMappedId='MONDO_0004992'), Row(diseaseFromSourceMappedId='MONDO_0005180'), Row(diseaseFromSourceMappedId='EFO_0002610'), Row(diseaseFromSourceMappedId='EFO_0003877'), Row(diseaseFromSourceMappedId='EFO_0004242'), Row(diseaseFromSourceMappedId='MONDO_0005090'), Row(diseaseFromSourceMappedId='EFO_0000544'), Row(diseaseFromSourceMappedId='EFO_0009854'), Row(diseaseFromSourceMappedId='EFO_1001402'), Row(diseaseFromSourceMappedId='EFO_0000474'), Row(diseaseFromSourceMappedId='EFO_0003843'), Row(diseaseFromSourceMappedId='EFO_0003758'), Row(diseaseFromSourceMappedId='EFO_0000544'), Row(diseaseFromSourceMappedId='EFO_0007328'), Row(diseaseFromSourceMappedId='EFO_0007430'), Row(diseaseFromSourceMappedId='MONDO_0002009'), Row(diseaseFromSourceMappedId='EFO_0003047'), Row(diseaseFromSourceMappedId='EFO_0001074'), Row(diseaseFromSourceMappedId='MONDO_0002009'), Row(diseaseFromSourceMappedId='EFO_0801084'), Row(diseaseFromSourceMappedId='MONDO_0002050'), Row(diseaseFromSourceMappedId='EFO_0000544'), Row(diseaseFromSourceMappedId='MONDO_0043510'), Row(diseaseFromSourceMappedId='HP_0025428'), Row(diseaseFromSourceMappedId='EFO_1001175'), Row(diseaseFromSourceMappedId='MONDO_0002009'), Row(diseaseFromSourceMappedId='EFO_0003843'), Row(diseaseFromSourceMappedId='EFO_0009963'), Row(diseaseFromSourceMappedId='MONDO_0002050'), Row(diseaseFromSourceMappedId='EFO_1001488'), Row(diseaseFromSourceMappedId='EFO_0005411'), Row(diseaseFromSourceMappedId='EFO_0003096'), Row(diseaseFromSourceMappedId='MONDO_0002050'), Row(diseaseFromSourceMappedId='MONDO_0002280'), Row(diseaseFromSourceMappedId='EFO_0003843'), Row(diseaseFromSourceMappedId='EFO_0000544'), Row(diseaseFromSourceMappedId='EFO_1000860'), Row(diseaseFromSourceMappedId='MONDO_0001208'), Row(diseaseFromSourceMappedId='EFO_0000544'), Row(diseaseFromSourceMappedId='MONDO_0002009'), Row(diseaseFromSourceMappedId='MONDO_0005180'), Row(diseaseFromSourceMappedId='EFO_0003761'), Row(diseaseFromSourceMappedId='EFO_0000544'), Row(diseaseFromSourceMappedId='EFO_1001898'), Row(diseaseFromSourceMappedId='MONDO_0005090'), Row(diseaseFromSourceMappedId='EFO_1001175'), Row(diseaseFromSourceMappedId='EFO_0009620'), Row(diseaseFromSourceMappedId='MONDO_0005180'), Row(diseaseFromSourceMappedId='EFO_0003843'), Row(diseaseFromSourceMappedId='MONDO_0002009'), Row(diseaseFromSourceMappedId='MONDO_0007079'), Row(diseaseFromSourceMappedId='MONDO_0004975'), Row(diseaseFromSourceMappedId='MONDO_0002050'), Row(diseaseFromSourceMappedId='EFO_0000474'), Row(diseaseFromSourceMappedId='EFO_0003843'), Row(diseaseFromSourceMappedId='MONDO_0002009'), Row(diseaseFromSourceMappedId='MONDO_0002009'), Row(diseaseFromSourceMappedId='EFO_0003890'), Row(diseaseFromSourceMappedId='EFO_0000544'), Row(diseaseFromSourceMappedId='MONDO_0005090'), Row(diseaseFromSourceMappedId='HP_0002140'), Row(diseaseFromSourceMappedId='EFO_0004220'), Row(diseaseFromSourceMappedId='EFO_0001064'), Row(diseaseFromSourceMappedId='MONDO_0002009'), Row(diseaseFromSourceMappedId='MONDO_0005090'), Row(diseaseFromSourceMappedId='EFO_0005762'), Row(diseaseFromSourceMappedId='EFO_1000860'), Row(diseaseFromSourceMappedId='EFO_0003843'), Row(diseaseFromSourceMappedId='MONDO_0004976'), Row(diseaseFromSourceMappedId='MONDO_0002009'), Row(diseaseFromSourceMappedId='EFO_0003777'), Row(diseaseFromSourceMappedId='MONDO_0002009'), Row(diseaseFromSourceMappedId='EFO_1001892'), Row(diseaseFromSourceMappedId='MONDO_0004975'), Row(diseaseFromSourceMappedId='HP_0000360'), Row(diseaseFromSourceMappedId='EFO_0007328'), Row(diseaseFromSourceMappedId='MONDO_0004975'), Row(diseaseFromSourceMappedId='EFO_0007328'), Row(diseaseFromSourceMappedId='EFO_0000544'), Row(diseaseFromSourceMappedId='HP_0002140'), Row(diseaseFromSourceMappedId='MONDO_0005180'), Row(diseaseFromSourceMappedId='EFO_0004320'), Row(diseaseFromSourceMappedId='HP_0002381'), Row(diseaseFromSourceMappedId='EFO_0005223'), Row(diseaseFromSourceMappedId='EFO_0003890'), Row(diseaseFromSourceMappedId='EFO_0003843'), Row(diseaseFromSourceMappedId='MONDO_0002009'), Row(diseaseFromSourceMappedId='EFO_0007328'), Row(diseaseFromSourceMappedId='MONDO_0007079'), Row(diseaseFromSourceMappedId='HP_0000360'), Row(diseaseFromSourceMappedId='MONDO_0007079'), Row(diseaseFromSourceMappedId='MONDO_0043510'), Row(diseaseFromSourceMappedId='EFO_0000474'), Row(diseaseFromSourceMappedId='MONDO_0002050'), Row(diseaseFromSourceMappedId='EFO_0000474'), Row(diseaseFromSourceMappedId='EFO_0003843'), Row(diseaseFromSourceMappedId='EFO_0004242'), Row(diseaseFromSourceMappedId='EFO_0000546'), Row(diseaseFromSourceMappedId='MONDO_0005180'), Row(diseaseFromSourceMappedId='EFO_0000544'), Row(diseaseFromSourceMappedId='EFO_0005323'), Row(diseaseFromSourceMappedId='HP_0000360'), Row(diseaseFromSourceMappedId='EFO_0000546'), Row(diseaseFromSourceMappedId='MONDO_0002050'), Row(diseaseFromSourceMappedId='MONDO_0001208'), Row(diseaseFromSourceMappedId='EFO_0007623'), Row(diseaseFromSourceMappedId='MONDO_0005180'), Row(diseaseFromSourceMappedId='EFO_0000712'), Row(diseaseFromSourceMappedId='EFO_0004699'), Row(diseaseFromSourceMappedId='EFO_0003843'), Row(diseaseFromSourceMappedId='EFO_0006834'), Row(diseaseFromSourceMappedId='MONDO_0004975'), Row(diseaseFromSourceMappedId='EFO_0004888'), Row(diseaseFromSourceMappedId='EFO_0009854'), Row(diseaseFromSourceMappedId='MONDO_0002050'), Row(diseaseFromSourceMappedId='EFO_0000544'), Row(diseaseFromSourceMappedId='EFO_0004320'), Row(diseaseFromSourceMappedId='MONDO_0002009'), Row(diseaseFromSourceMappedId='EFO_0003843'), Row(diseaseFromSourceMappedId='EFO_0003843'), Row(diseaseFromSourceMappedId='EFO_0000341'), Row(diseaseFromSourceMappedId='EFO_1000860'), Row(diseaseFromSourceMappedId='MONDO_0002009'), Row(diseaseFromSourceMappedId='EFO_0005611'), Row(diseaseFromSourceMappedId='EFO_1001175'), Row(diseaseFromSourceMappedId='MONDO_0004975'), Row(diseaseFromSourceMappedId='EFO_0009267'), Row(diseaseFromSourceMappedId='MONDO_0004975'), Row(diseaseFromSourceMappedId='EFO_0008526'), Row(diseaseFromSourceMappedId='EFO_0003843'), Row(diseaseFromSourceMappedId='EFO_1001465'), Row(diseaseFromSourceMappedId='MONDO_0005090'), Row(diseaseFromSourceMappedId='MONDO_0005180'), Row(diseaseFromSourceMappedId='MONDO_0004975'), Row(diseaseFromSourceMappedId='EFO_0005411'), Row(diseaseFromSourceMappedId='MONDO_0002050'), Row(diseaseFromSourceMappedId='MONDO_0004975'), Row(diseaseFromSourceMappedId='EFO_0003843'), Row(diseaseFromSourceMappedId='MONDO_0005180'), Row(diseaseFromSourceMappedId='EFO_0003843'), Row(diseaseFromSourceMappedId='MONDO_0004985'), Row(diseaseFromSourceMappedId='EFO_0007328'), Row(diseaseFromSourceMappedId='EFO_0003843'), Row(diseaseFromSourceMappedId='EFO_0007328'), Row(diseaseFromSourceMappedId='MONDO_0004992'), Row(diseaseFromSourceMappedId='EFO_0007623'), Row(diseaseFromSourceMappedId='EFO_0004242'), Row(diseaseFromSourceMappedId='EFO_0003843'), Row(diseaseFromSourceMappedId='EFO_0003086'), Row(diseaseFromSourceMappedId='EFO_1001801'), Row(diseaseFromSourceMappedId='EFO_0003843'), Row(diseaseFromSourceMappedId='HP_0012532'), Row(diseaseFromSourceMappedId='EFO_0003843'), Row(diseaseFromSourceMappedId='EFO_0004220'), Row(diseaseFromSourceMappedId='MONDO_0011382'), Row(diseaseFromSourceMappedId='EFO_1000860'), Row(diseaseFromSourceMappedId='EFO_0003843'), Row(diseaseFromSourceMappedId='MONDO_0002050'), Row(diseaseFromSourceMappedId='MONDO_0005090'), Row(diseaseFromSourceMappedId='MONDO_0007079'), Row(diseaseFromSourceMappedId='HP_0000360'), Row(diseaseFromSourceMappedId='MONDO_0004975'), Row(diseaseFromSourceMappedId='HP_0000360'), Row(diseaseFromSourceMappedId='MONDO_0005180'), Row(diseaseFromSourceMappedId='MONDO_0005090'), Row(diseaseFromSourceMappedId='EFO_0005611'), Row(diseaseFromSourceMappedId='MONDO_0002009'), Row(diseaseFromSourceMappedId='EFO_0000712'), Row(diseaseFromSourceMappedId='EFO_0009854'), Row(diseaseFromSourceMappedId='EFO_0000544'), Row(diseaseFromSourceMappedId='MONDO_0002050'), Row(diseaseFromSourceMappedId='MONDO_0002009'), Row(diseaseFromSourceMappedId='MONDO_0002050'), Row(diseaseFromSourceMappedId='MONDO_0010383'), Row(diseaseFromSourceMappedId='EFO_0003768'), Row(diseaseFromSourceMappedId='EFO_0000713'), Row(diseaseFromSourceMappedId='EFO_0009686'), Row(diseaseFromSourceMappedId='EFO_0003843'), Row(diseaseFromSourceMappedId='EFO_0003843'), Row(diseaseFromSourceMappedId='MONDO_0007079'), Row(diseaseFromSourceMappedId='MONDO_0005277'), Row(diseaseFromSourceMappedId='EFO_0003086'), Row(diseaseFromSourceMappedId='EFO_0000546'), Row(diseaseFromSourceMappedId='EFO_0003843'), Row(diseaseFromSourceMappedId='EFO_0003843'), Row(diseaseFromSourceMappedId='EFO_0009854'), Row(diseaseFromSourceMappedId='EFO_0005611'), Row(diseaseFromSourceMappedId='EFO_0003843'), Row(diseaseFromSourceMappedId='MONDO_0004975'), Row(diseaseFromSourceMappedId='EFO_0007328'), Row(diseaseFromSourceMappedId='MONDO_0005180'), Row(diseaseFromSourceMappedId='MONDO_0007079'), Row(diseaseFromSourceMappedId='EFO_0009854'), Row(diseaseFromSourceMappedId='EFO_0003843'), Row(diseaseFromSourceMappedId='MONDO_0004975'), Row(diseaseFromSourceMappedId='MONDO_0002009'), Row(diseaseFromSourceMappedId='EFO_0000544'), Row(diseaseFromSourceMappedId='HP_0000989'), Row(diseaseFromSourceMappedId='EFO_0000544'), Row(diseaseFromSourceMappedId='MONDO_0005180'), Row(diseaseFromSourceMappedId='MONDO_0004985'), Row(diseaseFromSourceMappedId='MONDO_0004975'), Row(diseaseFromSourceMappedId='EFO_0007328'), Row(diseaseFromSourceMappedId='EFO_0004242'), Row(diseaseFromSourceMappedId='MONDO_0004975'), Row(diseaseFromSourceMappedId='EFO_0009854'), Row(diseaseFromSourceMappedId='HP_0000360'), Row(diseaseFromSourceMappedId='EFO_0003843'), Row(diseaseFromSourceMappedId='MONDO_0002050'), Row(diseaseFromSourceMappedId='EFO_0007328'), Row(diseaseFromSourceMappedId='EFO_0001422'), Row(diseaseFromSourceMappedId='MONDO_0002009'), Row(diseaseFromSourceMappedId='MONDO_0002050'), Row(diseaseFromSourceMappedId='MONDO_0002050'), Row(diseaseFromSourceMappedId='MONDO_0002050'), Row(diseaseFromSourceMappedId='EFO_0007328'), Row(diseaseFromSourceMappedId='MONDO_0002258'), Row(diseaseFromSourceMappedId='EFO_0002610'), Row(diseaseFromSourceMappedId='MONDO_0002009'), Row(diseaseFromSourceMappedId='MONDO_0002050'), Row(diseaseFromSourceMappedId='EFO_0004320'), Row(diseaseFromSourceMappedId='EFO_0003756'), Row(diseaseFromSourceMappedId='MONDO_0002009'), Row(diseaseFromSourceMappedId='MONDO_0002046'), Row(diseaseFromSourceMappedId='MONDO_0005180'), Row(diseaseFromSourceMappedId='EFO_0007328'), Row(diseaseFromSourceMappedId='EFO_0007149'), Row(diseaseFromSourceMappedId='MONDO_0002050'), Row(diseaseFromSourceMappedId='EFO_0005762'), Row(diseaseFromSourceMappedId='MONDO_0005090'), Row(diseaseFromSourceMappedId='MONDO_0004975'), Row(diseaseFromSourceMappedId='EFO_0003843'), Row(diseaseFromSourceMappedId='EFO_0005411'), Row(diseaseFromSourceMappedId='EFO_0003843'), Row(diseaseFromSourceMappedId='EFO_0000474'), Row(diseaseFromSourceMappedId='EFO_0005762'), Row(diseaseFromSourceMappedId='MONDO_0005301'), Row(diseaseFromSourceMappedId='EFO_0003843'), Row(diseaseFromSourceMappedId='HP_0012532'), Row(diseaseFromSourceMappedId='MONDO_0002009'), Row(diseaseFromSourceMappedId='MONDO_0002046'), Row(diseaseFromSourceMappedId='MONDO_0011382'), Row(diseaseFromSourceMappedId='EFO_0003843'), Row(diseaseFromSourceMappedId='HP_0002140'), Row(diseaseFromSourceMappedId='MONDO_0002009'), Row(diseaseFromSourceMappedId='EFO_0009854'), Row(diseaseFromSourceMappedId='EFO_0009854'), Row(diseaseFromSourceMappedId='MONDO_0007079'), Row(diseaseFromSourceMappedId='EFO_1001998'), Row(diseaseFromSourceMappedId='EFO_0001073'), Row(diseaseFromSourceMappedId='MONDO_0005180'), Row(diseaseFromSourceMappedId='EFO_0003843'), Row(diseaseFromSourceMappedId='HP_0012532'), Row(diseaseFromSourceMappedId='MONDO_0007079'), Row(diseaseFromSourceMappedId='EFO_0005762'), Row(diseaseFromSourceMappedId='EFO_1000860'), Row(diseaseFromSourceMappedId='EFO_0000546'), Row(diseaseFromSourceMappedId='HP_0100543'), Row(diseaseFromSourceMappedId='MONDO_0005180'), Row(diseaseFromSourceMappedId='MONDO_0011382'), Row(diseaseFromSourceMappedId='EFO_0005411'), Row(diseaseFromSourceMappedId='MONDO_0002050'), Row(diseaseFromSourceMappedId='MONDO_0002009'), Row(diseaseFromSourceMappedId='MONDO_0002009'), Row(diseaseFromSourceMappedId='MONDO_0005180'), Row(diseaseFromSourceMappedId='MONDO_0007079'), Row(diseaseFromSourceMappedId='EFO_0003758'), Row(diseaseFromSourceMappedId='EFO_0007328'), Row(diseaseFromSourceMappedId='EFO_0004242'), Row(diseaseFromSourceMappedId='EFO_0003890'), Row(diseaseFromSourceMappedId='EFO_0007328'), Row(diseaseFromSourceMappedId='EFO_0003819'), Row(diseaseFromSourceMappedId='EFO_0007328'), Row(diseaseFromSourceMappedId='EFO_0003918'), Row(diseaseFromSourceMappedId='EFO_0009552'), Row(diseaseFromSourceMappedId='MONDO_0005090'), Row(diseaseFromSourceMappedId='MONDO_0005180'), Row(diseaseFromSourceMappedId='EFO_0003843'), Row(diseaseFromSourceMappedId='EFO_0004699'), Row(diseaseFromSourceMappedId='EFO_0007328'), Row(diseaseFromSourceMappedId='MONDO_0002050'), Row(diseaseFromSourceMappedId='MONDO_0002050'), Row(diseaseFromSourceMappedId='EFO_1001175'), Row(diseaseFromSourceMappedId='EFO_0000677'), Row(diseaseFromSourceMappedId='EFO_0009620'), Row(diseaseFromSourceMappedId='EFO_0009854'), Row(diseaseFromSourceMappedId='HP_0012735'), Row(diseaseFromSourceMappedId='EFO_0009686'), Row(diseaseFromSourceMappedId='MONDO_0002009'), Row(diseaseFromSourceMappedId='MONDO_0005180'), Row(diseaseFromSourceMappedId='EFO_0000546'), Row(diseaseFromSourceMappedId='EFO_0003843'), Row(diseaseFromSourceMappedId='EFO_0003843'), Row(diseaseFromSourceMappedId='MONDO_0007079'), Row(diseaseFromSourceMappedId='MONDO_0017276'), Row(diseaseFromSourceMappedId='MONDO_0005301'), Row(diseaseFromSourceMappedId='EFO_0003843'), Row(diseaseFromSourceMappedId='EFO_0004888'), Row(diseaseFromSourceMappedId='EFO_0007453'), Row(diseaseFromSourceMappedId='MONDO_0000726'), Row(diseaseFromSourceMappedId='HP_0002140'), Row(diseaseFromSourceMappedId='MONDO_0004975'), Row(diseaseFromSourceMappedId='MONDO_0005180'), Row(diseaseFromSourceMappedId='EFO_0000546'), Row(diseaseFromSourceMappedId='MONDO_0002009'), Row(diseaseFromSourceMappedId='HP_0012076'), Row(diseaseFromSourceMappedId='MONDO_0005180'), Row(diseaseFromSourceMappedId='EFO_0007328'), Row(diseaseFromSourceMappedId='EFO_0007328'), Row(diseaseFromSourceMappedId='EFO_0000677'), Row(diseaseFromSourceMappedId='MONDO_0004975'), Row(diseaseFromSourceMappedId='MONDO_0005180'), Row(diseaseFromSourceMappedId='EFO_0009620'), Row(diseaseFromSourceMappedId='MONDO_0005301'), Row(diseaseFromSourceMappedId='EFO_0000544'), Row(diseaseFromSourceMappedId='MONDO_0002009'), Row(diseaseFromSourceMappedId='MONDO_0002050'), Row(diseaseFromSourceMappedId='EFO_0003890'), Row(diseaseFromSourceMappedId='MONDO_0005180'), Row(diseaseFromSourceMappedId='EFO_0003843'), Row(diseaseFromSourceMappedId='MONDO_0007079'), Row(diseaseFromSourceMappedId='EFO_1001465'), Row(diseaseFromSourceMappedId='EFO_1001175'), Row(diseaseFromSourceMappedId='EFO_0000677'), Row(diseaseFromSourceMappedId='EFO_0003843'), Row(diseaseFromSourceMappedId='MONDO_0002009'), Row(diseaseFromSourceMappedId='EFO_0007430'), Row(diseaseFromSourceMappedId='MONDO_0004976'), Row(diseaseFromSourceMappedId='EFO_0003869'), Row(diseaseFromSourceMappedId='MONDO_0005180'), Row(diseaseFromSourceMappedId='MONDO_0002009'), Row(diseaseFromSourceMappedId='MONDO_0005180'), Row(diseaseFromSourceMappedId='EFO_0004320'), Row(diseaseFromSourceMappedId='EFO_0005411'), Row(diseaseFromSourceMappedId='EFO_0007328'), Row(diseaseFromSourceMappedId='EFO_0000544'), Row(diseaseFromSourceMappedId='EFO_0000474'), Row(diseaseFromSourceMappedId='EFO_0003843'), Row(diseaseFromSourceMappedId='EFO_0801084'), Row(diseaseFromSourceMappedId='EFO_0000712'), Row(diseaseFromSourceMappedId='HP_0000713'), Row(diseaseFromSourceMappedId='MONDO_0002050'), Row(diseaseFromSourceMappedId='EFO_0009658'), Row(diseaseFromSourceMappedId='EFO_1000391'), Row(diseaseFromSourceMappedId='MONDO_0010383'), Row(diseaseFromSourceMappedId='EFO_0007328'), Row(diseaseFromSourceMappedId='MONDO_0002009'), Row(diseaseFromSourceMappedId='MONDO_0005301'), Row(diseaseFromSourceMappedId='EFO_0003843'), Row(diseaseFromSourceMappedId='HP_0004372'), Row(diseaseFromSourceMappedId='EFO_0007328'), Row(diseaseFromSourceMappedId='MONDO_0002009'), Row(diseaseFromSourceMappedId='EFO_0003843'), Row(diseaseFromSourceMappedId='EFO_0003843'), Row(diseaseFromSourceMappedId='MONDO_0024880'), Row(diseaseFromSourceMappedId='MONDO_0002050'), Row(diseaseFromSourceMappedId='MONDO_0002050'), Row(diseaseFromSourceMappedId='MONDO_0007079'), Row(diseaseFromSourceMappedId='EFO_0003843'), Row(diseaseFromSourceMappedId='EFO_1001412'), Row(diseaseFromSourceMappedId='MONDO_0004975'), Row(diseaseFromSourceMappedId='EFO_0006834'), Row(diseaseFromSourceMappedId='EFO_0003843'), Row(diseaseFromSourceMappedId='MONDO_0000726'), Row(diseaseFromSourceMappedId='MONDO_0002009'), Row(diseaseFromSourceMappedId='MONDO_0005180'), Row(diseaseFromSourceMappedId='MONDO_0004681'), Row(diseaseFromSourceMappedId='HP_0000360'), Row(diseaseFromSourceMappedId='EFO_0009267'), Row(diseaseFromSourceMappedId='EFO_0003843'), Row(diseaseFromSourceMappedId='MONDO_0005301'), Row(diseaseFromSourceMappedId='EFO_0007328'), Row(diseaseFromSourceMappedId='HP_0000360'), Row(diseaseFromSourceMappedId='MONDO_0005180'), Row(diseaseFromSourceMappedId='EFO_0005323'), Row(diseaseFromSourceMappedId='MONDO_0002009'), Row(diseaseFromSourceMappedId='MONDO_0005180'), Row(diseaseFromSourceMappedId='EFO_0004321'), Row(diseaseFromSourceMappedId='MONDO_0005090'), Row(diseaseFromSourceMappedId='EFO_1001175'), Row(diseaseFromSourceMappedId='EFO_0007328'), Row(diseaseFromSourceMappedId='EFO_0003843'), Row(diseaseFromSourceMappedId='MONDO_0002050'), Row(diseaseFromSourceMappedId='EFO_0003843'), Row(diseaseFromSourceMappedId='EFO_0003761'), Row(diseaseFromSourceMappedId='EFO_0000544'), Row(diseaseFromSourceMappedId='EFO_0005230'), Row(diseaseFromSourceMappedId='MONDO_0005090'), Row(diseaseFromSourceMappedId='MONDO_0100096'), Row(diseaseFromSourceMappedId='EFO_0007328'), Row(diseaseFromSourceMappedId='EFO_0020000'), Row(diseaseFromSourceMappedId='HP_0000360'), Row(diseaseFromSourceMappedId='MONDO_0100096'), Row(diseaseFromSourceMappedId='EFO_0008526'), Row(diseaseFromSourceMappedId='MONDO_0005180'), Row(diseaseFromSourceMappedId='MONDO_0005301'), Row(diseaseFromSourceMappedId='EFO_0003843'), Row(diseaseFromSourceMappedId='EFO_0003931'), Row(diseaseFromSourceMappedId='MONDO_0005090'), Row(diseaseFromSourceMappedId='MONDO_0005180'), Row(diseaseFromSourceMappedId='MONDO_0002009'), Row(diseaseFromSourceMappedId='EFO_0003843'), Row(diseaseFromSourceMappedId='EFO_0003843'), Row(diseaseFromSourceMappedId='MONDO_0002050'), Row(diseaseFromSourceMappedId='MONDO_0002009'), Row(diseaseFromSourceMappedId='EFO_0000546'), Row(diseaseFromSourceMappedId='EFO_0000544'), Row(diseaseFromSourceMappedId='EFO_0001421'), Row(diseaseFromSourceMappedId='MONDO_0002050'), Row(diseaseFromSourceMappedId='MONDO_0011382'), Row(diseaseFromSourceMappedId='EFO_0000544'), Row(diseaseFromSourceMappedId='EFO_0009513'), Row(diseaseFromSourceMappedId='EFO_0003888'), Row(diseaseFromSourceMappedId='MONDO_0005180'), Row(diseaseFromSourceMappedId='EFO_0007430'), Row(diseaseFromSourceMappedId='EFO_0007328'), Row(diseaseFromSourceMappedId='MONDO_0005180'), Row(diseaseFromSourceMappedId='MONDO_0002050'), Row(diseaseFromSourceMappedId='MONDO_0007079'), Row(diseaseFromSourceMappedId='EFO_0003819'), Row(diseaseFromSourceMappedId='EFO_0003957'), Row(diseaseFromSourceMappedId='EFO_0003843'), Row(diseaseFromSourceMappedId='MONDO_0005090'), Row(diseaseFromSourceMappedId='MONDO_0002009'), Row(diseaseFromSourceMappedId='EFO_0003843'), Row(diseaseFromSourceMappedId='MONDO_0002009'), Row(diseaseFromSourceMappedId='MONDO_0002009'), Row(diseaseFromSourceMappedId='HP_0002140'), Row(diseaseFromSourceMappedId='EFO_0000544'), Row(diseaseFromSourceMappedId='EFO_0002610'), Row(diseaseFromSourceMappedId='EFO_0003843'), Row(diseaseFromSourceMappedId='HP_0004372'), Row(diseaseFromSourceMappedId='MONDO_0002050'), Row(diseaseFromSourceMappedId='MONDO_0002009'), Row(diseaseFromSourceMappedId='EFO_1001884'), Row(diseaseFromSourceMappedId='EFO_0004220'), Row(diseaseFromSourceMappedId='EFO_0003843'), Row(diseaseFromSourceMappedId='EFO_0005611'), Row(diseaseFromSourceMappedId='EFO_1000632'), Row(diseaseFromSourceMappedId='MONDO_0017276'), Row(diseaseFromSourceMappedId='MONDO_0002050'), Row(diseaseFromSourceMappedId='EFO_0003843'), Row(diseaseFromSourceMappedId='MONDO_0005180'), Row(diseaseFromSourceMappedId='MONDO_0007079'), Row(diseaseFromSourceMappedId='EFO_0005203'), Row(diseaseFromSourceMappedId='EFO_0009658'), Row(diseaseFromSourceMappedId='MONDO_0002009'), Row(diseaseFromSourceMappedId='MONDO_0002009'), Row(diseaseFromSourceMappedId='MONDO_0004975'), Row(diseaseFromSourceMappedId='MONDO_0043510'), Row(diseaseFromSourceMappedId='MONDO_0005180'), Row(diseaseFromSourceMappedId='EFO_1000391'), Row(diseaseFromSourceMappedId='EFO_0003843'), Row(diseaseFromSourceMappedId='EFO_0003843'), Row(diseaseFromSourceMappedId='MONDO_0002009'), Row(diseaseFromSourceMappedId='MONDO_0010383'), Row(diseaseFromSourceMappedId='EFO_0003096'), Row(diseaseFromSourceMappedId='EFO_0004242'), Row(diseaseFromSourceMappedId='MONDO_0002009'), Row(diseaseFromSourceMappedId='MONDO_0001208'), Row(diseaseFromSourceMappedId='MONDO_0002050'), Row(diseaseFromSourceMappedId='MONDO_0002050'), Row(diseaseFromSourceMappedId='MONDO_0002009'), Row(diseaseFromSourceMappedId='MONDO_0002050'), Row(diseaseFromSourceMappedId='EFO_0003843'), Row(diseaseFromSourceMappedId='MONDO_0005180'), Row(diseaseFromSourceMappedId='MP_0001914'), Row(diseaseFromSourceMappedId='EFO_1000632'), Row(diseaseFromSourceMappedId='EFO_0003843'), Row(diseaseFromSourceMappedId='EFO_0000546'), Row(diseaseFromSourceMappedId='EFO_0000544'), Row(diseaseFromSourceMappedId='EFO_1001175'), Row(diseaseFromSourceMappedId='EFO_0009963'), Row(diseaseFromSourceMappedId='EFO_0000544'), Row(diseaseFromSourceMappedId='EFO_0007328'), Row(diseaseFromSourceMappedId='EFO_1000860'), Row(diseaseFromSourceMappedId='EFO_0000519'), Row(diseaseFromSourceMappedId='HP_0000360'), Row(diseaseFromSourceMappedId='MONDO_0004985'), Row(diseaseFromSourceMappedId='EFO_0003843'), Row(diseaseFromSourceMappedId='HP_0012532'), Row(diseaseFromSourceMappedId='EFO_1001998'), Row(diseaseFromSourceMappedId='HP_0000360'), Row(diseaseFromSourceMappedId='MONDO_0005180'), Row(diseaseFromSourceMappedId='EFO_0007328'), Row(diseaseFromSourceMappedId='EFO_0004220'), Row(diseaseFromSourceMappedId='HP_0003419'), Row(diseaseFromSourceMappedId='EFO_0007328'), Row(diseaseFromSourceMappedId='MONDO_0004975'), Row(diseaseFromSourceMappedId='EFO_1001491'), Row(diseaseFromSourceMappedId='EFO_0003890'), Row(diseaseFromSourceMappedId='EFO_1001998'), Row(diseaseFromSourceMappedId='EFO_0002610'), Row(diseaseFromSourceMappedId='EFO_0007430'), Row(diseaseFromSourceMappedId='MONDO_0004985'), Row(diseaseFromSourceMappedId='EFO_0002610'), Row(diseaseFromSourceMappedId='MONDO_0002009'), Row(diseaseFromSourceMappedId='EFO_0000712'), Row(diseaseFromSourceMappedId='EFO_0000544'), Row(diseaseFromSourceMappedId='MONDO_0002050'), Row(diseaseFromSourceMappedId='MONDO_0002050'), Row(diseaseFromSourceMappedId='MONDO_0007079'), Row(diseaseFromSourceMappedId='EFO_0003819'), Row(diseaseFromSourceMappedId='EFO_0003843'), Row(diseaseFromSourceMappedId='EFO_0004220'), Row(diseaseFromSourceMappedId='EFO_0007453'), Row(diseaseFromSourceMappedId='EFO_0003756'), Row(diseaseFromSourceMappedId='MONDO_0002009'), Row(diseaseFromSourceMappedId='EFO_0000474'), Row(diseaseFromSourceMappedId='MONDO_0002050'), Row(diseaseFromSourceMappedId='EFO_0003843'), Row(diseaseFromSourceMappedId='MONDO_0002050'), Row(diseaseFromSourceMappedId='MONDO_0043510'), Row(diseaseFromSourceMappedId='EFO_0007328'), Row(diseaseFromSourceMappedId='MONDO_0005090'), Row(diseaseFromSourceMappedId='MONDO_0005180'), Row(diseaseFromSourceMappedId='MONDO_0005180'), Row(diseaseFromSourceMappedId='EFO_0004777'), Row(diseaseFromSourceMappedId='EFO_0005611'), Row(diseaseFromSourceMappedId='EFO_0003843'), Row(diseaseFromSourceMappedId='MONDO_0005180'), Row(diseaseFromSourceMappedId='EFO_0005762'), Row(diseaseFromSourceMappedId='EFO_0001064'), Row(diseaseFromSourceMappedId='EFO_0004242'), Row(diseaseFromSourceMappedId='EFO_0004329'), Row(diseaseFromSourceMappedId='HP_0002381'), Row(diseaseFromSourceMappedId='MONDO_0007079'), Row(diseaseFromSourceMappedId='MONDO_0005090'), Row(diseaseFromSourceMappedId='EFO_1000860'), Row(diseaseFromSourceMappedId='MONDO_0007079'), Row(diseaseFromSourceMappedId='MONDO_0007079'), Row(diseaseFromSourceMappedId='EFO_0000544'), Row(diseaseFromSourceMappedId='HP_0000486'), Row(diseaseFromSourceMappedId='EFO_0003888'), Row(diseaseFromSourceMappedId='EFO_0003843'), Row(diseaseFromSourceMappedId='EFO_0003843'), Row(diseaseFromSourceMappedId='EFO_0003843'), Row(diseaseFromSourceMappedId='EFO_0001358'), Row(diseaseFromSourceMappedId='EFO_0003843'), Row(diseaseFromSourceMappedId='EFO_0003843'), Row(diseaseFromSourceMappedId='MONDO_0005090'), Row(diseaseFromSourceMappedId='MONDO_0002050'), Row(diseaseFromSourceMappedId='MONDO_0100096'), Row(diseaseFromSourceMappedId='MONDO_0002009'), Row(diseaseFromSourceMappedId='MONDO_0004992'), Row(diseaseFromSourceMappedId='MONDO_0004975'), Row(diseaseFromSourceMappedId='MONDO_0004975'), Row(diseaseFromSourceMappedId='HP_0000989'), Row(diseaseFromSourceMappedId='EFO_0003931'), Row(diseaseFromSourceMappedId='MONDO_0002009'), Row(diseaseFromSourceMappedId='EFO_1001801'), Row(diseaseFromSourceMappedId='MONDO_0043510'), Row(diseaseFromSourceMappedId='EFO_0005762'), Row(diseaseFromSourceMappedId='EFO_0003843'), Row(diseaseFromSourceMappedId='MONDO_0004975'), Row(diseaseFromSourceMappedId='EFO_0003843'), Row(diseaseFromSourceMappedId='MONDO_0005180'), Row(diseaseFromSourceMappedId='EFO_0001645'), Row(diseaseFromSourceMappedId='EFO_0003761'), Row(diseaseFromSourceMappedId='MONDO_0005180'), Row(diseaseFromSourceMappedId='EFO_1000860'), Row(diseaseFromSourceMappedId='MONDO_0002050'), Row(diseaseFromSourceMappedId='EFO_0004320'), Row(diseaseFromSourceMappedId='MONDO_0004975'), Row(diseaseFromSourceMappedId='EFO_1001998'), Row(diseaseFromSourceMappedId='MONDO_0002050'), Row(diseaseFromSourceMappedId='MONDO_0004975'), Row(diseaseFromSourceMappedId='MONDO_0002009'), Row(diseaseFromSourceMappedId='EFO_0000544'), Row(diseaseFromSourceMappedId='EFO_0005687'), Row(diseaseFromSourceMappedId='MONDO_0001208'), Row(diseaseFromSourceMappedId='EFO_1001917'), Row(diseaseFromSourceMappedId='EFO_0003768'), Row(diseaseFromSourceMappedId='EFO_1000860'), Row(diseaseFromSourceMappedId='EFO_0000544'), Row(diseaseFromSourceMappedId='MONDO_0004975'), Row(diseaseFromSourceMappedId='EFO_0009267'), Row(diseaseFromSourceMappedId='MONDO_0007079'), Row(diseaseFromSourceMappedId='EFO_0007149'), Row(diseaseFromSourceMappedId='EFO_0000544'), Row(diseaseFromSourceMappedId='MONDO_0002038'), Row(diseaseFromSourceMappedId='MONDO_0005180'), Row(diseaseFromSourceMappedId='EFO_0001073'), Row(diseaseFromSourceMappedId='MONDO_0002050'), Row(diseaseFromSourceMappedId='MONDO_0002009'), Row(diseaseFromSourceMappedId='MONDO_0002050'), Row(diseaseFromSourceMappedId='MONDO_0002050'), Row(diseaseFromSourceMappedId='MONDO_0100096'), Row(diseaseFromSourceMappedId='MONDO_0002009'), Row(diseaseFromSourceMappedId='MONDO_0002009'), Row(diseaseFromSourceMappedId='EFO_0005323'), Row(diseaseFromSourceMappedId='MONDO_0005180'), Row(diseaseFromSourceMappedId='MONDO_0005090'), Row(diseaseFromSourceMappedId='MONDO_0007079'), Row(diseaseFromSourceMappedId='EFO_0003843'), Row(diseaseFromSourceMappedId='EFO_0000544'), Row(diseaseFromSourceMappedId='EFO_0003843'), Row(diseaseFromSourceMappedId='EFO_0000544'), Row(diseaseFromSourceMappedId='HP_0100543'), Row(diseaseFromSourceMappedId='EFO_0006834'), Row(diseaseFromSourceMappedId='EFO_1001465'), Row(diseaseFromSourceMappedId='EFO_0007634'), Row(diseaseFromSourceMappedId='EFO_0001421'), Row(diseaseFromSourceMappedId='EFO_1001488'), Row(diseaseFromSourceMappedId='HP_0003419'), Row(diseaseFromSourceMappedId='EFO_0000544'), Row(diseaseFromSourceMappedId='EFO_0000546'), Row(diseaseFromSourceMappedId='EFO_0005687'), Row(diseaseFromSourceMappedId='EFO_1001175'), Row(diseaseFromSourceMappedId='MONDO_0004975'), Row(diseaseFromSourceMappedId='EFO_0004242'), Row(diseaseFromSourceMappedId='EFO_0003761'), Row(diseaseFromSourceMappedId='EFO_0003843'), Row(diseaseFromSourceMappedId='EFO_0004220'), Row(diseaseFromSourceMappedId='MONDO_0005180'), Row(diseaseFromSourceMappedId='EFO_1000860'), Row(diseaseFromSourceMappedId='MONDO_0005180'), Row(diseaseFromSourceMappedId='EFO_0000326'), Row(diseaseFromSourceMappedId='HP_0100543'), Row(diseaseFromSourceMappedId='EFO_0000544'), Row(diseaseFromSourceMappedId='MONDO_0007739'), Row(diseaseFromSourceMappedId='EFO_0003843'), Row(diseaseFromSourceMappedId='EFO_0007328'), Row(diseaseFromSourceMappedId='EFO_1001402'), Row(diseaseFromSourceMappedId='MONDO_0002358'), Row(diseaseFromSourceMappedId='MONDO_0005180'), Row(diseaseFromSourceMappedId='EFO_0003890'), Row(diseaseFromSourceMappedId='MONDO_0002050'), Row(diseaseFromSourceMappedId='MONDO_0002491'), Row(diseaseFromSourceMappedId='EFO_0000544'), Row(diseaseFromSourceMappedId='EFO_0000546'), Row(diseaseFromSourceMappedId='MONDO_0002009'), Row(diseaseFromSourceMappedId='EFO_0001074'), Row(diseaseFromSourceMappedId='EFO_0003877'), Row(diseaseFromSourceMappedId='EFO_1001488'), Row(diseaseFromSourceMappedId='MONDO_0005180'), Row(diseaseFromSourceMappedId='EFO_1001998'), Row(diseaseFromSourceMappedId='MONDO_0002050'), Row(diseaseFromSourceMappedId='EFO_0003843'), Row(diseaseFromSourceMappedId='EFO_0004242'), Row(diseaseFromSourceMappedId='EFO_1000783'), Row(diseaseFromSourceMappedId='MONDO_0004975'), Row(diseaseFromSourceMappedId='HP_0000360'), Row(diseaseFromSourceMappedId='EFO_0003843'), Row(diseaseFromSourceMappedId='EFO_0007328'), Row(diseaseFromSourceMappedId='HP_0000360'), Row(diseaseFromSourceMappedId='EFO_0007328'), Row(diseaseFromSourceMappedId='EFO_1001465'), Row(diseaseFromSourceMappedId='MONDO_0002009'), Row(diseaseFromSourceMappedId='MONDO_0005180'), Row(diseaseFromSourceMappedId='EFO_0007328'), Row(diseaseFromSourceMappedId='EFO_0003843'), Row(diseaseFromSourceMappedId='HP_0004372'), Row(diseaseFromSourceMappedId='MONDO_0002050'), Row(diseaseFromSourceMappedId='MONDO_0004985'), Row(diseaseFromSourceMappedId='EFO_0003890'), Row(diseaseFromSourceMappedId='MONDO_0002050'), Row(diseaseFromSourceMappedId='EFO_0003843'), Row(diseaseFromSourceMappedId='HP_0000713'), Row(diseaseFromSourceMappedId='MONDO_0005180'), Row(diseaseFromSourceMappedId='EFO_0009854'), Row(diseaseFromSourceMappedId='EFO_0004190'), Row(diseaseFromSourceMappedId='MONDO_0004975'), Row(diseaseFromSourceMappedId='EFO_0005762'), Row(diseaseFromSourceMappedId='EFO_0004220'), Row(diseaseFromSourceMappedId='EFO_0007328'), Row(diseaseFromSourceMappedId='EFO_0003843'), Row(diseaseFromSourceMappedId='MONDO_0004975'), Row(diseaseFromSourceMappedId='MONDO_0007079'), Row(diseaseFromSourceMappedId='EFO_0000544'), Row(diseaseFromSourceMappedId='EFO_0004777'), Row(diseaseFromSourceMappedId='EFO_0020000'), Row(diseaseFromSourceMappedId='HP_0000360'), Row(diseaseFromSourceMappedId='MONDO_0007079'), Row(diseaseFromSourceMappedId='MONDO_0004975'), Row(diseaseFromSourceMappedId='MONDO_0008903'), Row(diseaseFromSourceMappedId='EFO_0007453'), Row(diseaseFromSourceMappedId='MONDO_0000726'), Row(diseaseFromSourceMappedId='MONDO_0004975'), Row(diseaseFromSourceMappedId='MONDO_0004985'), Row(diseaseFromSourceMappedId='MONDO_0004985'), Row(diseaseFromSourceMappedId='MONDO_0002050'), Row(diseaseFromSourceMappedId='EFO_0001074'), Row(diseaseFromSourceMappedId='EFO_0007328'), Row(diseaseFromSourceMappedId='EFO_0007328'), Row(diseaseFromSourceMappedId='MONDO_0002009'), Row(diseaseFromSourceMappedId='EFO_0000544'), Row(diseaseFromSourceMappedId='EFO_0000544'), Row(diseaseFromSourceMappedId='EFO_0005762'), Row(diseaseFromSourceMappedId='MONDO_0004975'), Row(diseaseFromSourceMappedId='EFO_0008526'), Row(diseaseFromSourceMappedId='MONDO_0005180'), Row(diseaseFromSourceMappedId='EFO_0003758'), Row(diseaseFromSourceMappedId='EFO_0007328'), Row(diseaseFromSourceMappedId='MONDO_0004975'), Row(diseaseFromSourceMappedId='EFO_0009854'), Row(diseaseFromSourceMappedId='MONDO_0011382'), Row(diseaseFromSourceMappedId='EFO_0007453'), Row(diseaseFromSourceMappedId='MONDO_0004976'), Row(diseaseFromSourceMappedId='MONDO_0004975'), Row(diseaseFromSourceMappedId='EFO_0003758'), Row(diseaseFromSourceMappedId='EFO_0000544'), Row(diseaseFromSourceMappedId='MONDO_0002009'), Row(diseaseFromSourceMappedId='HP_0025428'), Row(diseaseFromSourceMappedId='EFO_0003843'), Row(diseaseFromSourceMappedId='EFO_0000712'), Row(diseaseFromSourceMappedId='EFO_0007634'), Row(diseaseFromSourceMappedId='EFO_0004320'), Row(diseaseFromSourceMappedId='EFO_0000544'), Row(diseaseFromSourceMappedId='MONDO_0007254'), Row(diseaseFromSourceMappedId='MONDO_0005090'), Row(diseaseFromSourceMappedId='EFO_1000860'), Row(diseaseFromSourceMappedId='EFO_0009492'), Row(diseaseFromSourceMappedId='EFO_0007328'), Row(diseaseFromSourceMappedId='EFO_0007328'), Row(diseaseFromSourceMappedId='MONDO_0005180'), Row(diseaseFromSourceMappedId='MONDO_0002050'), Row(diseaseFromSourceMappedId='EFO_0003843'), Row(diseaseFromSourceMappedId='EFO_0007328'), Row(diseaseFromSourceMappedId='EFO_0007328'), Row(diseaseFromSourceMappedId='MONDO_0002009'), Row(diseaseFromSourceMappedId='EFO_0009963'), Row(diseaseFromSourceMappedId='MONDO_0100096'), Row(diseaseFromSourceMappedId='EFO_0009658'), Row(diseaseFromSourceMappedId='EFO_0003843'), Row(diseaseFromSourceMappedId='EFO_0000544'), Row(diseaseFromSourceMappedId='EFO_0003843'), Row(diseaseFromSourceMappedId='EFO_0005611'), Row(diseaseFromSourceMappedId='EFO_1001488'), Row(diseaseFromSourceMappedId='HP_0100543'), Row(diseaseFromSourceMappedId='HP_0000360'), Row(diseaseFromSourceMappedId='MONDO_0005090'), Row(diseaseFromSourceMappedId='HP_0000713'), Row(diseaseFromSourceMappedId='HP_0002315'), Row(diseaseFromSourceMappedId='EFO_0003890'), Row(diseaseFromSourceMappedId='EFO_0004242'), Row(diseaseFromSourceMappedId='EFO_1000860'), Row(diseaseFromSourceMappedId='EFO_1000860'), Row(diseaseFromSourceMappedId='HP_0002315'), Row(diseaseFromSourceMappedId='EFO_1001175'), Row(diseaseFromSourceMappedId='MONDO_0002009'), Row(diseaseFromSourceMappedId='EFO_0003843'), Row(diseaseFromSourceMappedId='MONDO_0002009'), Row(diseaseFromSourceMappedId='EFO_0007328'), Row(diseaseFromSourceMappedId='HP_0012532'), Row(diseaseFromSourceMappedId='EFO_0008526'), Row(diseaseFromSourceMappedId='EFO_0003843'), Row(diseaseFromSourceMappedId='MONDO_0002009'), Row(diseaseFromSourceMappedId='MONDO_0002009'), Row(diseaseFromSourceMappedId='EFO_0002610'), Row(diseaseFromSourceMappedId='MONDO_0005180'), Row(diseaseFromSourceMappedId='EFO_0003869'), Row(diseaseFromSourceMappedId='MONDO_0004975'), Row(diseaseFromSourceMappedId='EFO_0003843'), Row(diseaseFromSourceMappedId='MONDO_0005180'), Row(diseaseFromSourceMappedId='EFO_0006834'), Row(diseaseFromSourceMappedId='EFO_0003843'), Row(diseaseFromSourceMappedId='MONDO_0002050'), Row(diseaseFromSourceMappedId='MONDO_0007079'), Row(diseaseFromSourceMappedId='MONDO_0004992'), Row(diseaseFromSourceMappedId='MONDO_0005090'), Row(diseaseFromSourceMappedId='EFO_0003843'), Row(diseaseFromSourceMappedId='MONDO_0002050'), Row(diseaseFromSourceMappedId='EFO_0000677'), Row(diseaseFromSourceMappedId='MONDO_0007079'), Row(diseaseFromSourceMappedId='EFO_0003843'), Row(diseaseFromSourceMappedId='MONDO_0002009'), Row(diseaseFromSourceMappedId='HP_0002315'), Row(diseaseFromSourceMappedId='EFO_1001402'), Row(diseaseFromSourceMappedId='EFO_0003843'), Row(diseaseFromSourceMappedId='MONDO_0002009'), Row(diseaseFromSourceMappedId='EFO_0003761'), Row(diseaseFromSourceMappedId='EFO_0003843'), Row(diseaseFromSourceMappedId='EFO_0007634'), Row(diseaseFromSourceMappedId='EFO_0000544'), Row(diseaseFromSourceMappedId='EFO_0000546'), Row(diseaseFromSourceMappedId='MONDO_0004985'), Row(diseaseFromSourceMappedId='EFO_0004320'), Row(diseaseFromSourceMappedId='MONDO_0004975'), Row(diseaseFromSourceMappedId='EFO_0003843'), Row(diseaseFromSourceMappedId='EFO_0003843'), Row(diseaseFromSourceMappedId='EFO_0000544'), Row(diseaseFromSourceMappedId='EFO_0000712'), Row(diseaseFromSourceMappedId='MONDO_0007079'), Row(diseaseFromSourceMappedId='EFO_0000544'), Row(diseaseFromSourceMappedId='EFO_0003843'), Row(diseaseFromSourceMappedId='MONDO_0004975'), Row(diseaseFromSourceMappedId='EFO_0003843'), Row(diseaseFromSourceMappedId='MONDO_0002009'), Row(diseaseFromSourceMappedId='EFO_1001402'), Row(diseaseFromSourceMappedId='MONDO_0004975'), Row(diseaseFromSourceMappedId='EFO_0007328'), Row(diseaseFromSourceMappedId='EFO_0003843'), Row(diseaseFromSourceMappedId='EFO_0005762'), Row(diseaseFromSourceMappedId='EFO_0007328'), Row(diseaseFromSourceMappedId='EFO_0004320'), Row(diseaseFromSourceMappedId='MONDO_0005090'), Row(diseaseFromSourceMappedId='EFO_1000860'), Row(diseaseFromSourceMappedId='MONDO_0005180'), Row(diseaseFromSourceMappedId='EFO_0000474'), Row(diseaseFromSourceMappedId='EFO_0003843'), Row(diseaseFromSourceMappedId='MONDO_0005180'), Row(diseaseFromSourceMappedId='MONDO_0002009'), Row(diseaseFromSourceMappedId='EFO_0004320'), Row(diseaseFromSourceMappedId='MONDO_0004975'), Row(diseaseFromSourceMappedId='MONDO_0005180'), Row(diseaseFromSourceMappedId='HP_0100806'), Row(diseaseFromSourceMappedId='MONDO_0004985'), Row(diseaseFromSourceMappedId='EFO_0007328'), Row(diseaseFromSourceMappedId='HP_0000023'), Row(diseaseFromSourceMappedId='MONDO_0002050'), Row(diseaseFromSourceMappedId='MONDO_0002009'), Row(diseaseFromSourceMappedId='MONDO_0005180'), Row(diseaseFromSourceMappedId='EFO_0003843'), Row(diseaseFromSourceMappedId='MONDO_0002258'), Row(diseaseFromSourceMappedId='EFO_0003918'), Row(diseaseFromSourceMappedId='EFO_0009267'), Row(diseaseFromSourceMappedId='MONDO_0007079'), Row(diseaseFromSourceMappedId='MONDO_0002009'), Row(diseaseFromSourceMappedId='EFO_0003843'), Row(diseaseFromSourceMappedId='EFO_0007328'), Row(diseaseFromSourceMappedId='EFO_0004220'), Row(diseaseFromSourceMappedId='MONDO_0002050'), Row(diseaseFromSourceMappedId='EFO_1000860'), Row(diseaseFromSourceMappedId='EFO_1000632'), Row(diseaseFromSourceMappedId='MONDO_0002050'), Row(diseaseFromSourceMappedId='HP_0012532'), Row(diseaseFromSourceMappedId='MONDO_0007079'), Row(diseaseFromSourceMappedId='EFO_0000544'), Row(diseaseFromSourceMappedId='MONDO_0002050'), Row(diseaseFromSourceMappedId='HP_0000360'), Row(diseaseFromSourceMappedId='MONDO_0004976'), Row(diseaseFromSourceMappedId='HP_0000360'), Row(diseaseFromSourceMappedId='EFO_0001645'), Row(diseaseFromSourceMappedId='EFO_0003843'), Row(diseaseFromSourceMappedId='MONDO_0005180'), Row(diseaseFromSourceMappedId='MONDO_0002009'), Row(diseaseFromSourceMappedId='MONDO_0005180'), Row(diseaseFromSourceMappedId='EFO_1001488'), Row(diseaseFromSourceMappedId='MONDO_0002009'), Row(diseaseFromSourceMappedId='EFO_0007328'), Row(diseaseFromSourceMappedId='HP_0012735'), Row(diseaseFromSourceMappedId='HP_0012532'), Row(diseaseFromSourceMappedId='MONDO_0005301'), Row(diseaseFromSourceMappedId='MONDO_0005090'), Row(diseaseFromSourceMappedId='EFO_0003843'), Row(diseaseFromSourceMappedId='MONDO_0001208'), Row(diseaseFromSourceMappedId='EFO_0004320'), Row(diseaseFromSourceMappedId='EFO_0007453'), Row(diseaseFromSourceMappedId='MONDO_0005090'), Row(diseaseFromSourceMappedId='EFO_0005687'), Row(diseaseFromSourceMappedId='EFO_0002610'), Row(diseaseFromSourceMappedId='EFO_0009854'), Row(diseaseFromSourceMappedId='EFO_0005762'), Row(diseaseFromSourceMappedId='EFO_0007328'), Row(diseaseFromSourceMappedId='MONDO_0005180'), Row(diseaseFromSourceMappedId='EFO_0004242'), Row(diseaseFromSourceMappedId='MONDO_0007915'), Row(diseaseFromSourceMappedId='MONDO_0043510'), Row(diseaseFromSourceMappedId='MONDO_0005180'), Row(diseaseFromSourceMappedId='HP_0000023'), Row(diseaseFromSourceMappedId='MONDO_0011382'), Row(diseaseFromSourceMappedId='EFO_0004321'), Row(diseaseFromSourceMappedId='MONDO_0005301'), Row(diseaseFromSourceMappedId='EFO_0007328'), Row(diseaseFromSourceMappedId='MONDO_0002050'), Row(diseaseFromSourceMappedId='MONDO_0002009'), Row(diseaseFromSourceMappedId='MONDO_0005180'), Row(diseaseFromSourceMappedId='MONDO_0002009'), Row(diseaseFromSourceMappedId='EFO_0000326'), Row(diseaseFromSourceMappedId='EFO_0000544'), Row(diseaseFromSourceMappedId='HP_0000360'), Row(diseaseFromSourceMappedId='MONDO_0005180'), Row(diseaseFromSourceMappedId='EFO_0003843'), Row(diseaseFromSourceMappedId='MONDO_0041052'), Row(diseaseFromSourceMappedId='MONDO_0002050'), Row(diseaseFromSourceMappedId='EFO_0003015'), Row(diseaseFromSourceMappedId='MONDO_0002050'), Row(diseaseFromSourceMappedId='MONDO_0004992'), Row(diseaseFromSourceMappedId='MONDO_0005180'), Row(diseaseFromSourceMappedId='MONDO_0002009'), Row(diseaseFromSourceMappedId='EFO_0001072'), Row(diseaseFromSourceMappedId='MONDO_0005180'), Row(diseaseFromSourceMappedId='EFO_0003918'), Row(diseaseFromSourceMappedId='HP_0000360'), Row(diseaseFromSourceMappedId='MONDO_0002050'), Row(diseaseFromSourceMappedId='EFO_0009267'), Row(diseaseFromSourceMappedId='EFO_0003761'), Row(diseaseFromSourceMappedId='EFO_0004220'), Row(diseaseFromSourceMappedId='EFO_0003761'), Row(diseaseFromSourceMappedId='HP_0000360'), Row(diseaseFromSourceMappedId='EFO_0007328'), Row(diseaseFromSourceMappedId='EFO_0000544'), Row(diseaseFromSourceMappedId='MONDO_0002050'), Row(diseaseFromSourceMappedId='HP_0012228'), Row(diseaseFromSourceMappedId='MONDO_0002050'), Row(diseaseFromSourceMappedId='EFO_0000544'), Row(diseaseFromSourceMappedId='EFO_0009620'), Row(diseaseFromSourceMappedId='MONDO_0004975'), Row(diseaseFromSourceMappedId='EFO_0003843'), Row(diseaseFromSourceMappedId='EFO_0003096'), Row(diseaseFromSourceMappedId='EFO_0003843'), Row(diseaseFromSourceMappedId='MONDO_0005090'), Row(diseaseFromSourceMappedId='EFO_0002610'), Row(diseaseFromSourceMappedId='MONDO_0007079'), Row(diseaseFromSourceMappedId='EFO_0000544'), Row(diseaseFromSourceMappedId='MONDO_0004975'), Row(diseaseFromSourceMappedId='MONDO_0002050'), Row(diseaseFromSourceMappedId='MONDO_0002050'), Row(diseaseFromSourceMappedId='EFO_0003843'), Row(diseaseFromSourceMappedId='EFO_0004320'), Row(diseaseFromSourceMappedId='EFO_0003843'), Row(diseaseFromSourceMappedId='MONDO_0002050'), Row(diseaseFromSourceMappedId='EFO_0011057'), Row(diseaseFromSourceMappedId='MONDO_0005180'), Row(diseaseFromSourceMappedId='EFO_0003843'), Row(diseaseFromSourceMappedId='MONDO_0002050'), Row(diseaseFromSourceMappedId='EFO_0003756'), Row(diseaseFromSourceMappedId='MONDO_0004976'), Row(diseaseFromSourceMappedId='MONDO_0002050'), Row(diseaseFromSourceMappedId='MONDO_0100096'), Row(diseaseFromSourceMappedId='EFO_0003758'), Row(diseaseFromSourceMappedId='MONDO_0004975'), Row(diseaseFromSourceMappedId='MONDO_0005180'), Row(diseaseFromSourceMappedId='EFO_0007328'), Row(diseaseFromSourceMappedId='MONDO_0005180'), Row(diseaseFromSourceMappedId='MONDO_0002009'), Row(diseaseFromSourceMappedId='MONDO_0100096'), Row(diseaseFromSourceMappedId='EFO_0007328'), Row(diseaseFromSourceMappedId='HP_0000713'), Row(diseaseFromSourceMappedId='MONDO_0010383'), Row(diseaseFromSourceMappedId='MONDO_0007079'), Row(diseaseFromSourceMappedId='MONDO_0000726'), Row(diseaseFromSourceMappedId='EFO_0004699'), Row(diseaseFromSourceMappedId='MONDO_0002009'), Row(diseaseFromSourceMappedId='MONDO_0002050'), Row(diseaseFromSourceMappedId='EFO_0009267'), Row(diseaseFromSourceMappedId='MONDO_0004992'), Row(diseaseFromSourceMappedId='HP_0012532'), Row(diseaseFromSourceMappedId='EFO_0005323'), Row(diseaseFromSourceMappedId='EFO_0003843'), Row(diseaseFromSourceMappedId='EFO_0000544'), Row(diseaseFromSourceMappedId='MONDO_0005180'), Row(diseaseFromSourceMappedId='EFO_1001175'), Row(diseaseFromSourceMappedId='EFO_0004701'), Row(diseaseFromSourceMappedId='MONDO_0004985'), Row(diseaseFromSourceMappedId='EFO_0003843'), Row(diseaseFromSourceMappedId='MONDO_0002009'), Row(diseaseFromSourceMappedId='MONDO_0001208'), Row(diseaseFromSourceMappedId='EFO_0003931'), Row(diseaseFromSourceMappedId='MP_0001845'), Row(diseaseFromSourceMappedId='MONDO_0005180'), Row(diseaseFromSourceMappedId='MONDO_0002009'), Row(diseaseFromSourceMappedId='MONDO_0005180'), Row(diseaseFromSourceMappedId='MONDO_0010726'), Row(diseaseFromSourceMappedId='EFO_1001465'), Row(diseaseFromSourceMappedId='EFO_0003843'), Row(diseaseFromSourceMappedId='EFO_0007328'), Row(diseaseFromSourceMappedId='MONDO_0002050'), Row(diseaseFromSourceMappedId='EFO_0005203'), Row(diseaseFromSourceMappedId='EFO_0002610'), Row(diseaseFromSourceMappedId='EFO_0006834'), Row(diseaseFromSourceMappedId='EFO_1000860'), Row(diseaseFromSourceMappedId='MONDO_0007254'), Row(diseaseFromSourceMappedId='EFO_1001175'), Row(diseaseFromSourceMappedId='EFO_0007328'), Row(diseaseFromSourceMappedId='EFO_0003843'), Row(diseaseFromSourceMappedId='HP_0000360'), Row(diseaseFromSourceMappedId='MONDO_0004975'), Row(diseaseFromSourceMappedId='MONDO_0002491'), Row(diseaseFromSourceMappedId='MONDO_0002009'), Row(diseaseFromSourceMappedId='EFO_0004320'), Row(diseaseFromSourceMappedId='EFO_0000546'), Row(diseaseFromSourceMappedId='EFO_0003931'), Row(diseaseFromSourceMappedId='MONDO_0005180'), Row(diseaseFromSourceMappedId='MONDO_0005090'), Row(diseaseFromSourceMappedId='MONDO_0004985'), Row(diseaseFromSourceMappedId='MONDO_0005301'), Row(diseaseFromSourceMappedId='MONDO_0007079'), Row(diseaseFromSourceMappedId='EFO_0003843'), Row(diseaseFromSourceMappedId='EFO_0009386'), Row(diseaseFromSourceMappedId='MONDO_0005180'), Row(diseaseFromSourceMappedId='EFO_0009658'), Row(diseaseFromSourceMappedId='EFO_0007328'), Row(diseaseFromSourceMappedId='MONDO_0004985'), Row(diseaseFromSourceMappedId='EFO_1000860'), Row(diseaseFromSourceMappedId='EFO_1001402'), Row(diseaseFromSourceMappedId='EFO_0000544'), Row(diseaseFromSourceMappedId='MONDO_0004975'), Row(diseaseFromSourceMappedId='MONDO_0005180'), Row(diseaseFromSourceMappedId='EFO_0003918'), Row(diseaseFromSourceMappedId='EFO_0009854'), Row(diseaseFromSourceMappedId='MONDO_0002050'), Row(diseaseFromSourceMappedId='MONDO_0017276'), Row(diseaseFromSourceMappedId='MONDO_0002050'), Row(diseaseFromSourceMappedId='MONDO_0002050'), Row(diseaseFromSourceMappedId='MONDO_0004985'), Row(diseaseFromSourceMappedId='EFO_0007634'), Row(diseaseFromSourceMappedId='EFO_0003843'), Row(diseaseFromSourceMappedId='HP_0000360'), Row(diseaseFromSourceMappedId='MONDO_0100096'), Row(diseaseFromSourceMappedId='EFO_0003843'), Row(diseaseFromSourceMappedId='MONDO_0002050'), Row(diseaseFromSourceMappedId='EFO_0000519'), Row(diseaseFromSourceMappedId='MONDO_0002050'), Row(diseaseFromSourceMappedId='MONDO_0002009'), Row(diseaseFromSourceMappedId='EFO_0007328'), Row(diseaseFromSourceMappedId='EFO_0003757'), Row(diseaseFromSourceMappedId='MONDO_0002050'), Row(diseaseFromSourceMappedId='EFO_0003843'), Row(diseaseFromSourceMappedId='MONDO_0005090'), Row(diseaseFromSourceMappedId='MONDO_0004975'), Row(diseaseFromSourceMappedId='EFO_0003843'), Row(diseaseFromSourceMappedId='EFO_1001175'), Row(diseaseFromSourceMappedId='EFO_0005611'), Row(diseaseFromSourceMappedId='EFO_0001074'), Row(diseaseFromSourceMappedId='EFO_1001402'), Row(diseaseFromSourceMappedId='EFO_0003843'), Row(diseaseFromSourceMappedId='MONDO_0002050'), Row(diseaseFromSourceMappedId='EFO_0003843'), Row(diseaseFromSourceMappedId='EFO_0003096'), Row(diseaseFromSourceMappedId='EFO_0003843'), Row(diseaseFromSourceMappedId='EFO_0003843'), Row(diseaseFromSourceMappedId='EFO_0000544'), Row(diseaseFromSourceMappedId='EFO_0000546'), Row(diseaseFromSourceMappedId='HP_0000989'), Row(diseaseFromSourceMappedId='EFO_0000544'), Row(diseaseFromSourceMappedId='EFO_0004888'), Row(diseaseFromSourceMappedId='EFO_0000544'), Row(diseaseFromSourceMappedId='EFO_0000544'), Row(diseaseFromSourceMappedId='EFO_0003843'), Row(diseaseFromSourceMappedId='MONDO_0005301'), Row(diseaseFromSourceMappedId='EFO_0000546'), Row(diseaseFromSourceMappedId='EFO_0009516'), Row(diseaseFromSourceMappedId='MONDO_0007079'), Row(diseaseFromSourceMappedId='MP_0001914'), Row(diseaseFromSourceMappedId='EFO_1001175'), Row(diseaseFromSourceMappedId='EFO_0005687'), Row(diseaseFromSourceMappedId='EFO_0000544'), Row(diseaseFromSourceMappedId='EFO_0004247'), Row(diseaseFromSourceMappedId='MONDO_0005090'), Row(diseaseFromSourceMappedId='EFO_0003843'), Row(diseaseFromSourceMappedId='MONDO_0005180'), Row(diseaseFromSourceMappedId='EFO_0007328'), Row(diseaseFromSourceMappedId='HP_0000360'), Row(diseaseFromSourceMappedId='EFO_0003843'), Row(diseaseFromSourceMappedId='EFO_0000546'), Row(diseaseFromSourceMappedId='MONDO_0005180'), Row(diseaseFromSourceMappedId='EFO_0003843'), Row(diseaseFromSourceMappedId='EFO_0004220'), Row(diseaseFromSourceMappedId='MONDO_0005301'), Row(diseaseFromSourceMappedId='MONDO_0005180'), Row(diseaseFromSourceMappedId='MONDO_0007079'), Row(diseaseFromSourceMappedId='EFO_0006834'), Row(diseaseFromSourceMappedId='MONDO_0005180'), Row(diseaseFromSourceMappedId='EFO_0001421'), Row(diseaseFromSourceMappedId='MONDO_0005180'), Row(diseaseFromSourceMappedId='EFO_1000860'), Row(diseaseFromSourceMappedId='EFO_0003761'), Row(diseaseFromSourceMappedId='MONDO_0005180'), Row(diseaseFromSourceMappedId='EFO_0002610'), Row(diseaseFromSourceMappedId='EFO_1001175'), Row(diseaseFromSourceMappedId='EFO_0003843'), Row(diseaseFromSourceMappedId='MONDO_0005180'), Row(diseaseFromSourceMappedId='EFO_0009854'), Row(diseaseFromSourceMappedId='EFO_0005230'), Row(diseaseFromSourceMappedId='MONDO_0002050'), Row(diseaseFromSourceMappedId='EFO_0000713'), Row(diseaseFromSourceMappedId='MONDO_0007079'), Row(diseaseFromSourceMappedId='MONDO_0005090'), Row(diseaseFromSourceMappedId='MONDO_0011382'), Row(diseaseFromSourceMappedId='EFO_0003843'), Row(diseaseFromSourceMappedId='EFO_0003843'), Row(diseaseFromSourceMappedId='MONDO_0005180'), Row(diseaseFromSourceMappedId='MONDO_0100096'), Row(diseaseFromSourceMappedId='EFO_0007328'), Row(diseaseFromSourceMappedId='MONDO_0002050'), Row(diseaseFromSourceMappedId='MONDO_0002050'), Row(diseaseFromSourceMappedId='MONDO_0005180'), Row(diseaseFromSourceMappedId='MONDO_0005090'), Row(diseaseFromSourceMappedId='EFO_0005762'), Row(diseaseFromSourceMappedId='MONDO_0005180'), Row(diseaseFromSourceMappedId='EFO_0001421'), Row(diseaseFromSourceMappedId='EFO_0003843'), Row(diseaseFromSourceMappedId='EFO_0007224'), Row(diseaseFromSourceMappedId='EFO_0003761'), Row(diseaseFromSourceMappedId='MONDO_0005180'), Row(diseaseFromSourceMappedId='EFO_0003843'), Row(diseaseFromSourceMappedId='MONDO_0002009'), Row(diseaseFromSourceMappedId='HP_0000360'), Row(diseaseFromSourceMappedId='MONDO_0002050'), Row(diseaseFromSourceMappedId='EFO_1001412'), Row(diseaseFromSourceMappedId='MONDO_0002009'), Row(diseaseFromSourceMappedId='EFO_0000546'), Row(diseaseFromSourceMappedId='MONDO_0002050'), Row(diseaseFromSourceMappedId='EFO_1001402'), Row(diseaseFromSourceMappedId='MONDO_0007079'), Row(diseaseFromSourceMappedId='MONDO_0002009'), Row(diseaseFromSourceMappedId='EFO_0007224'), Row(diseaseFromSourceMappedId='MONDO_0005180'), Row(diseaseFromSourceMappedId='EFO_0008526'), Row(diseaseFromSourceMappedId='EFO_0003843'), Row(diseaseFromSourceMappedId='EFO_0003843'), Row(diseaseFromSourceMappedId='MONDO_0002009'), Row(diseaseFromSourceMappedId='EFO_0003843'), Row(diseaseFromSourceMappedId='EFO_0000546'), Row(diseaseFromSourceMappedId='EFO_0000546'), Row(diseaseFromSourceMappedId='EFO_0007328'), Row(diseaseFromSourceMappedId='MONDO_0005180'), Row(diseaseFromSourceMappedId='EFO_0004888'), Row(diseaseFromSourceMappedId='EFO_0007328'), Row(diseaseFromSourceMappedId='MONDO_0005180'), Row(diseaseFromSourceMappedId='EFO_0005611'), Row(diseaseFromSourceMappedId='MONDO_0002050'), Row(diseaseFromSourceMappedId='EFO_0005762'), Row(diseaseFromSourceMappedId='MONDO_0002009'), Row(diseaseFromSourceMappedId='MONDO_0004975'), Row(diseaseFromSourceMappedId='MONDO_0002009'), Row(diseaseFromSourceMappedId='MONDO_0007079'), Row(diseaseFromSourceMappedId='EFO_0000546'), Row(diseaseFromSourceMappedId='HP_0000360'), Row(diseaseFromSourceMappedId='HP_0001300'), Row(diseaseFromSourceMappedId='EFO_0003843'), Row(diseaseFromSourceMappedId='EFO_0004320'), Row(diseaseFromSourceMappedId='MONDO_0002280'), Row(diseaseFromSourceMappedId='EFO_0003015'), Row(diseaseFromSourceMappedId='MONDO_0002009'), Row(diseaseFromSourceMappedId='EFO_1001412'), Row(diseaseFromSourceMappedId='EFO_0000512'), Row(diseaseFromSourceMappedId='EFO_1001884'), Row(diseaseFromSourceMappedId='EFO_0007328'), Row(diseaseFromSourceMappedId='EFO_0003843'), Row(diseaseFromSourceMappedId='EFO_1000860'), Row(diseaseFromSourceMappedId='MONDO_0005090'), Row(diseaseFromSourceMappedId='EFO_0000544'), Row(diseaseFromSourceMappedId='MONDO_0005090'), Row(diseaseFromSourceMappedId='MONDO_0002050'), Row(diseaseFromSourceMappedId='MONDO_0002009'), Row(diseaseFromSourceMappedId='EFO_0007328'), Row(diseaseFromSourceMappedId='EFO_0003843'), Row(diseaseFromSourceMappedId='HP_0012228'), Row(diseaseFromSourceMappedId='EFO_0000713'), Row(diseaseFromSourceMappedId='EFO_0003843'), Row(diseaseFromSourceMappedId='EFO_0007328'), Row(diseaseFromSourceMappedId='EFO_0003843'), Row(diseaseFromSourceMappedId='EFO_1001175'), Row(diseaseFromSourceMappedId='MONDO_0002050'), Row(diseaseFromSourceMappedId='EFO_0003890'), Row(diseaseFromSourceMappedId='EFO_0007453'), Row(diseaseFromSourceMappedId='EFO_0001358'), Row(diseaseFromSourceMappedId='MONDO_0005090'), Row(diseaseFromSourceMappedId='EFO_0000546'), Row(diseaseFromSourceMappedId='EFO_0003843'), Row(diseaseFromSourceMappedId='EFO_0009386'), Row(diseaseFromSourceMappedId='MONDO_0005090'), Row(diseaseFromSourceMappedId='MONDO_0002050'), Row(diseaseFromSourceMappedId='MONDO_0004985'), Row(diseaseFromSourceMappedId='EFO_0003843'), Row(diseaseFromSourceMappedId='HP_0012532'), Row(diseaseFromSourceMappedId='EFO_0003843'), Row(diseaseFromSourceMappedId='MONDO_0002009'), Row(diseaseFromSourceMappedId='EFO_1000860'), Row(diseaseFromSourceMappedId='MONDO_0002009'), Row(diseaseFromSourceMappedId='EFO_0003843'), Row(diseaseFromSourceMappedId='HP_0100543'), Row(diseaseFromSourceMappedId='EFO_0003843'), Row(diseaseFromSourceMappedId='MONDO_0004975'), Row(diseaseFromSourceMappedId='EFO_0007328'), Row(diseaseFromSourceMappedId='MONDO_0005180'), Row(diseaseFromSourceMappedId='MONDO_0005180'), Row(diseaseFromSourceMappedId='EFO_0005411'), Row(diseaseFromSourceMappedId='EFO_1001465'), Row(diseaseFromSourceMappedId='EFO_0001358'), Row(diseaseFromSourceMappedId='EFO_0001358'), Row(diseaseFromSourceMappedId='MONDO_0005301'), Row(diseaseFromSourceMappedId='MONDO_0002009'), Row(diseaseFromSourceMappedId='EFO_0007328'), Row(diseaseFromSourceMappedId='MONDO_0004975'), Row(diseaseFromSourceMappedId='EFO_0008526'), Row(diseaseFromSourceMappedId='MONDO_0005180'), Row(diseaseFromSourceMappedId='EFO_0000544'), Row(diseaseFromSourceMappedId='EFO_0000544'), Row(diseaseFromSourceMappedId='MONDO_0005180'), Row(diseaseFromSourceMappedId='EFO_0009854'), Row(diseaseFromSourceMappedId='MONDO_0002009'), Row(diseaseFromSourceMappedId='EFO_0003843'), Row(diseaseFromSourceMappedId='MONDO_0002009'), Row(diseaseFromSourceMappedId='HP_0000360'), Row(diseaseFromSourceMappedId='EFO_0003843'), Row(diseaseFromSourceMappedId='EFO_0000544'), Row(diseaseFromSourceMappedId='EFO_0003843'), Row(diseaseFromSourceMappedId='EFO_0003843'), Row(diseaseFromSourceMappedId='EFO_0003756'), Row(diseaseFromSourceMappedId='EFO_0007328'), Row(diseaseFromSourceMappedId='EFO_0002610'), Row(diseaseFromSourceMappedId='EFO_0003843'), Row(diseaseFromSourceMappedId='EFO_0003843'), Row(diseaseFromSourceMappedId='HP_0002381'), Row(diseaseFromSourceMappedId='EFO_0000544'), Row(diseaseFromSourceMappedId='EFO_1001488'), Row(diseaseFromSourceMappedId='MONDO_0002050'), Row(diseaseFromSourceMappedId='EFO_0007328'), Row(diseaseFromSourceMappedId='MONDO_0002050'), Row(diseaseFromSourceMappedId='MONDO_0004975'), Row(diseaseFromSourceMappedId='EFO_0007623'), Row(diseaseFromSourceMappedId='EFO_0000544'), Row(diseaseFromSourceMappedId='MP_0001845'), Row(diseaseFromSourceMappedId='EFO_0006834'), Row(diseaseFromSourceMappedId='EFO_0005762'), Row(diseaseFromSourceMappedId='EFO_1000632'), Row(diseaseFromSourceMappedId='MONDO_0002050'), Row(diseaseFromSourceMappedId='MONDO_0004975'), Row(diseaseFromSourceMappedId='MONDO_0100096'), Row(diseaseFromSourceMappedId='MONDO_0004976'), Row(diseaseFromSourceMappedId='EFO_0004320'), Row(diseaseFromSourceMappedId='EFO_0004777'), Row(diseaseFromSourceMappedId='MONDO_0005180'), Row(diseaseFromSourceMappedId='MONDO_0002009'), Row(diseaseFromSourceMappedId='MONDO_0002009'), Row(diseaseFromSourceMappedId='EFO_0003843'), Row(diseaseFromSourceMappedId='MP_0001914'), Row(diseaseFromSourceMappedId='MONDO_0005180'), Row(diseaseFromSourceMappedId='MONDO_0005351'), Row(diseaseFromSourceMappedId='MONDO_0004975'), Row(diseaseFromSourceMappedId='EFO_1001402'), Row(diseaseFromSourceMappedId='MONDO_0002009'), Row(diseaseFromSourceMappedId='EFO_0000544'), Row(diseaseFromSourceMappedId='EFO_0003843'), Row(diseaseFromSourceMappedId='EFO_0007328'), Row(diseaseFromSourceMappedId='EFO_0003758'), Row(diseaseFromSourceMappedId='EFO_0000544'), Row(diseaseFromSourceMappedId='EFO_0002610'), Row(diseaseFromSourceMappedId='EFO_0007328'), Row(diseaseFromSourceMappedId='EFO_0003843'), Row(diseaseFromSourceMappedId='MONDO_0007079'), Row(diseaseFromSourceMappedId='EFO_0000677'), Row(diseaseFromSourceMappedId='MONDO_0002050'), Row(diseaseFromSourceMappedId='EFO_0007328'), Row(diseaseFromSourceMappedId='EFO_0003931'), Row(diseaseFromSourceMappedId='EFO_0003843'), Row(diseaseFromSourceMappedId='EFO_0003843'), Row(diseaseFromSourceMappedId='HP_0002381'), Row(diseaseFromSourceMappedId='EFO_0003843'), Row(diseaseFromSourceMappedId='MONDO_0005090'), Row(diseaseFromSourceMappedId='MONDO_0005301'), Row(diseaseFromSourceMappedId='MONDO_0007079'), Row(diseaseFromSourceMappedId='MONDO_0005180'), Row(diseaseFromSourceMappedId='EFO_0003761'), Row(diseaseFromSourceMappedId='EFO_0003843'), Row(diseaseFromSourceMappedId='EFO_0003843'), Row(diseaseFromSourceMappedId='EFO_0003843'), Row(diseaseFromSourceMappedId='MONDO_0007915'), Row(diseaseFromSourceMappedId='MONDO_0002009'), Row(diseaseFromSourceMappedId='MONDO_0005180'), Row(diseaseFromSourceMappedId='EFO_1000860'), Row(diseaseFromSourceMappedId='EFO_0004242'), Row(diseaseFromSourceMappedId='EFO_0003843'), Row(diseaseFromSourceMappedId='EFO_1001175'), Row(diseaseFromSourceMappedId='EFO_0005762'), Row(diseaseFromSourceMappedId='EFO_0000546'), Row(diseaseFromSourceMappedId='EFO_0003843'), Row(diseaseFromSourceMappedId='EFO_0000546'), Row(diseaseFromSourceMappedId='EFO_0003843'), Row(diseaseFromSourceMappedId='MONDO_0002258'), Row(diseaseFromSourceMappedId='EFO_0007328'), Row(diseaseFromSourceMappedId='EFO_0004242'), Row(diseaseFromSourceMappedId='EFO_1001175'), Row(diseaseFromSourceMappedId='MONDO_0002046'), Row(diseaseFromSourceMappedId='EFO_0007328'), Row(diseaseFromSourceMappedId='EFO_0000546'), Row(diseaseFromSourceMappedId='MONDO_0002258'), Row(diseaseFromSourceMappedId='EFO_0002610'), Row(diseaseFromSourceMappedId='EFO_0003833'), Row(diseaseFromSourceMappedId='EFO_0003843'), Row(diseaseFromSourceMappedId='EFO_1001917'), Row(diseaseFromSourceMappedId='MONDO_0004975'), Row(diseaseFromSourceMappedId='EFO_0009552'), Row(diseaseFromSourceMappedId='EFO_0007328'), Row(diseaseFromSourceMappedId='EFO_0000544'), Row(diseaseFromSourceMappedId='EFO_0003843'), Row(diseaseFromSourceMappedId='EFO_0003843'), Row(diseaseFromSourceMappedId='MONDO_0010383'), Row(diseaseFromSourceMappedId='EFO_0003757'), Row(diseaseFromSourceMappedId='MONDO_0004975'), Row(diseaseFromSourceMappedId='EFO_0003047'), Row(diseaseFromSourceMappedId='EFO_0000546'), Row(diseaseFromSourceMappedId='EFO_0003843'), Row(diseaseFromSourceMappedId='MONDO_0002009'), Row(diseaseFromSourceMappedId='MONDO_0005180'), Row(diseaseFromSourceMappedId='EFO_0009658'), Row(diseaseFromSourceMappedId='MONDO_0024417'), Row(diseaseFromSourceMappedId='EFO_0004320'), Row(diseaseFromSourceMappedId='MONDO_0004985'), Row(diseaseFromSourceMappedId='MONDO_0005180'), Row(diseaseFromSourceMappedId='MONDO_0005180'), Row(diseaseFromSourceMappedId='EFO_0004242'), Row(diseaseFromSourceMappedId='EFO_0003843'), Row(diseaseFromSourceMappedId='HP_0030680'), Row(diseaseFromSourceMappedId='MONDO_0005180'), Row(diseaseFromSourceMappedId='EFO_0007328'), Row(diseaseFromSourceMappedId='EFO_0003843'), Row(diseaseFromSourceMappedId='MONDO_0005090'), Row(diseaseFromSourceMappedId='MONDO_0005180'), Row(diseaseFromSourceMappedId='EFO_1001175'), Row(diseaseFromSourceMappedId='EFO_0004321'), Row(diseaseFromSourceMappedId='EFO_0003843'), Row(diseaseFromSourceMappedId='MONDO_0002050'), Row(diseaseFromSourceMappedId='MONDO_0002258'), Row(diseaseFromSourceMappedId='MONDO_0002050'), Row(diseaseFromSourceMappedId='MONDO_0004975'), Row(diseaseFromSourceMappedId='MONDO_0002050'), Row(diseaseFromSourceMappedId='MONDO_0005180'), Row(diseaseFromSourceMappedId='EFO_0000544'), Row(diseaseFromSourceMappedId='EFO_0001421'), Row(diseaseFromSourceMappedId='EFO_0001064'), Row(diseaseFromSourceMappedId='HP_0000360'), Row(diseaseFromSourceMappedId='EFO_0001358'), Row(diseaseFromSourceMappedId='EFO_0003843'), Row(diseaseFromSourceMappedId='EFO_1000632'), Row(diseaseFromSourceMappedId='MONDO_0008315'), Row(diseaseFromSourceMappedId='EFO_0004190'), Row(diseaseFromSourceMappedId='EFO_1001175'), Row(diseaseFromSourceMappedId='EFO_0000546'), Row(diseaseFromSourceMappedId='EFO_0020000'), Row(diseaseFromSourceMappedId='EFO_0003843'), Row(diseaseFromSourceMappedId='MONDO_0002050'), Row(diseaseFromSourceMappedId='EFO_0009854'), Row(diseaseFromSourceMappedId='EFO_0009267'), Row(diseaseFromSourceMappedId='EFO_0003756'), Row(diseaseFromSourceMappedId='EFO_0004329'), Row(diseaseFromSourceMappedId='MONDO_0002009'), Row(diseaseFromSourceMappedId='MONDO_0100096'), Row(diseaseFromSourceMappedId='MONDO_0007079'), Row(diseaseFromSourceMappedId='EFO_0004242'), Row(diseaseFromSourceMappedId='EFO_0001358'), Row(diseaseFromSourceMappedId='MONDO_0002009'), Row(diseaseFromSourceMappedId='EFO_1001402'), Row(diseaseFromSourceMappedId='MONDO_0004985'), Row(diseaseFromSourceMappedId='MONDO_0005180'), Row(diseaseFromSourceMappedId='EFO_0005762'), Row(diseaseFromSourceMappedId='HP_0000360'), Row(diseaseFromSourceMappedId='MONDO_0007079'), Row(diseaseFromSourceMappedId='EFO_0003843'), Row(diseaseFromSourceMappedId='MONDO_0002009'), Row(diseaseFromSourceMappedId='EFO_0000544'), Row(diseaseFromSourceMappedId='EFO_0003843'), Row(diseaseFromSourceMappedId='EFO_0001421'), Row(diseaseFromSourceMappedId='MONDO_0002009'), Row(diseaseFromSourceMappedId='MONDO_0002009'), Row(diseaseFromSourceMappedId='EFO_0000544'), Row(diseaseFromSourceMappedId='MONDO_0002050'), Row(diseaseFromSourceMappedId='EFO_0003843'), Row(diseaseFromSourceMappedId='HP_0012228'), Row(diseaseFromSourceMappedId='MONDO_0002050'), Row(diseaseFromSourceMappedId='EFO_1001402'), Row(diseaseFromSourceMappedId='EFO_0004220'), Row(diseaseFromSourceMappedId='MONDO_0002258'), Row(diseaseFromSourceMappedId='MONDO_0002050'), Row(diseaseFromSourceMappedId='EFO_0007328'), Row(diseaseFromSourceMappedId='EFO_1001402'), Row(diseaseFromSourceMappedId='EFO_0005762'), Row(diseaseFromSourceMappedId='EFO_0000341'), Row(diseaseFromSourceMappedId='MONDO_0007079'), Row(diseaseFromSourceMappedId='EFO_0003843'), Row(diseaseFromSourceMappedId='EFO_1000860'), Row(diseaseFromSourceMappedId='MONDO_0010383'), Row(diseaseFromSourceMappedId='EFO_0009854'), Row(diseaseFromSourceMappedId='EFO_0005230'), Row(diseaseFromSourceMappedId='EFO_0003843'), Row(diseaseFromSourceMappedId='MONDO_0002009'), Row(diseaseFromSourceMappedId='MONDO_0002009'), Row(diseaseFromSourceMappedId='HP_0012378'), Row(diseaseFromSourceMappedId='EFO_0007328'), Row(diseaseFromSourceMappedId='EFO_0801084'), Row(diseaseFromSourceMappedId='HP_0002140'), Row(diseaseFromSourceMappedId='EFO_0005411'), Row(diseaseFromSourceMappedId='EFO_0003843'), Row(diseaseFromSourceMappedId='EFO_0007328'), Row(diseaseFromSourceMappedId='EFO_0004320'), Row(diseaseFromSourceMappedId='HP_0000360'), Row(diseaseFromSourceMappedId='MONDO_0005180'), Row(diseaseFromSourceMappedId='MONDO_0002009'), Row(diseaseFromSourceMappedId='MONDO_0004976'), Row(diseaseFromSourceMappedId='EFO_0004242'), Row(diseaseFromSourceMappedId='MONDO_0002009'), Row(diseaseFromSourceMappedId='MONDO_0007254'), Row(diseaseFromSourceMappedId='HP_0000989'), Row(diseaseFromSourceMappedId='EFO_1001465'), Row(diseaseFromSourceMappedId='EFO_0003843'), Row(diseaseFromSourceMappedId='EFO_0007328'), Row(diseaseFromSourceMappedId='HP_0002315'), Row(diseaseFromSourceMappedId='EFO_0003843'), Row(diseaseFromSourceMappedId='MONDO_0007079'), Row(diseaseFromSourceMappedId='EFO_0003843'), Row(diseaseFromSourceMappedId='EFO_0003843'), Row(diseaseFromSourceMappedId='EFO_0003819'), Row(diseaseFromSourceMappedId='EFO_0801084'), Row(diseaseFromSourceMappedId='EFO_0007328'), Row(diseaseFromSourceMappedId='EFO_0005323'), Row(diseaseFromSourceMappedId='MONDO_0007079'), Row(diseaseFromSourceMappedId='MONDO_0043510'), Row(diseaseFromSourceMappedId='MONDO_0004985'), Row(diseaseFromSourceMappedId='HP_0000360'), Row(diseaseFromSourceMappedId='MONDO_0007079'), Row(diseaseFromSourceMappedId='EFO_0003843'), Row(diseaseFromSourceMappedId='MONDO_0005180'), Row(diseaseFromSourceMappedId='EFO_0003833'), Row(diseaseFromSourceMappedId='EFO_0000546'), Row(diseaseFromSourceMappedId='EFO_0003843'), Row(diseaseFromSourceMappedId='EFO_0000544'), Row(diseaseFromSourceMappedId='EFO_0003843'), Row(diseaseFromSourceMappedId='EFO_0003108'), Row(diseaseFromSourceMappedId='EFO_0000544'), Row(diseaseFromSourceMappedId='HP_0002140'), Row(diseaseFromSourceMappedId='HP_0000360'), Row(diseaseFromSourceMappedId='EFO_0000544'), Row(diseaseFromSourceMappedId='EFO_0003843'), Row(diseaseFromSourceMappedId='EFO_0003931'), Row(diseaseFromSourceMappedId='EFO_1000860'), Row(diseaseFromSourceMappedId='EFO_0004242'), Row(diseaseFromSourceMappedId='MONDO_0002009'), Row(diseaseFromSourceMappedId='EFO_0003761'), Row(diseaseFromSourceMappedId='EFO_0002610'), Row(diseaseFromSourceMappedId='HP_0012735'), Row(diseaseFromSourceMappedId='MONDO_0002050'), Row(diseaseFromSourceMappedId='EFO_0009492'), Row(diseaseFromSourceMappedId='MONDO_0008315'), Row(diseaseFromSourceMappedId='MONDO_0002050'), Row(diseaseFromSourceMappedId='EFO_0004320'), Row(diseaseFromSourceMappedId='EFO_0007328'), Row(diseaseFromSourceMappedId='EFO_0007328'), Row(diseaseFromSourceMappedId='MONDO_0005180'), Row(diseaseFromSourceMappedId='EFO_0004190'), Row(diseaseFromSourceMappedId='EFO_0007328'), Row(diseaseFromSourceMappedId='MONDO_0002050'), Row(diseaseFromSourceMappedId='EFO_1000632'), Row(diseaseFromSourceMappedId='EFO_0007328'), Row(diseaseFromSourceMappedId='MONDO_0004985'), Row(diseaseFromSourceMappedId='MONDO_0005090'), Row(diseaseFromSourceMappedId='MONDO_0005180'), Row(diseaseFromSourceMappedId='MONDO_0005180'), Row(diseaseFromSourceMappedId='EFO_0007328'), Row(diseaseFromSourceMappedId='EFO_0005762'), Row(diseaseFromSourceMappedId='MONDO_0002050'), Row(diseaseFromSourceMappedId='EFO_0003843'), Row(diseaseFromSourceMappedId='EFO_0005230'), Row(diseaseFromSourceMappedId='HP_0000360'), Row(diseaseFromSourceMappedId='EFO_0008526'), Row(diseaseFromSourceMappedId='EFO_0003843'), Row(diseaseFromSourceMappedId='EFO_0009854'), Row(diseaseFromSourceMappedId='MONDO_0005180'), Row(diseaseFromSourceMappedId='EFO_0003833'), Row(diseaseFromSourceMappedId='MP_0001845'), Row(diseaseFromSourceMappedId='EFO_0002610'), Row(diseaseFromSourceMappedId='EFO_0003843'), Row(diseaseFromSourceMappedId='EFO_0004320'), Row(diseaseFromSourceMappedId='EFO_0003843'), Row(diseaseFromSourceMappedId='MONDO_0100096'), Row(diseaseFromSourceMappedId='MONDO_0100096'), Row(diseaseFromSourceMappedId='EFO_0006834'), Row(diseaseFromSourceMappedId='EFO_0005762'), Row(diseaseFromSourceMappedId='MONDO_0004985'), Row(diseaseFromSourceMappedId='EFO_0003843'), Row(diseaseFromSourceMappedId='MONDO_0004975'), Row(diseaseFromSourceMappedId='EFO_0003843'), Row(diseaseFromSourceMappedId='MONDO_0004975'), Row(diseaseFromSourceMappedId='EFO_0000544'), Row(diseaseFromSourceMappedId='EFO_0007328'), Row(diseaseFromSourceMappedId='MONDO_0002009'), Row(diseaseFromSourceMappedId='EFO_0001358'), Row(diseaseFromSourceMappedId='HP_0000360'), Row(diseaseFromSourceMappedId='MONDO_0043510'), Row(diseaseFromSourceMappedId='HP_0030680'), Row(diseaseFromSourceMappedId='EFO_1001402'), Row(diseaseFromSourceMappedId='EFO_0007328'), Row(diseaseFromSourceMappedId='EFO_0003843'), Row(diseaseFromSourceMappedId='EFO_0005223'), Row(diseaseFromSourceMappedId='EFO_0003843'), Row(diseaseFromSourceMappedId='EFO_0003843'), Row(diseaseFromSourceMappedId='EFO_0004321'), Row(diseaseFromSourceMappedId='MONDO_0002050'), Row(diseaseFromSourceMappedId='MONDO_0005180'), Row(diseaseFromSourceMappedId='EFO_0007328'), Row(diseaseFromSourceMappedId='EFO_0001064'), Row(diseaseFromSourceMappedId='MONDO_0005180'), Row(diseaseFromSourceMappedId='EFO_0003843'), Row(diseaseFromSourceMappedId='EFO_0007430'), Row(diseaseFromSourceMappedId='EFO_0000474'), Row(diseaseFromSourceMappedId='EFO_0001074'), Row(diseaseFromSourceMappedId='MONDO_0004975'), Row(diseaseFromSourceMappedId='EFO_1001884'), Row(diseaseFromSourceMappedId='MONDO_0002009'), Row(diseaseFromSourceMappedId='EFO_0000544'), Row(diseaseFromSourceMappedId='EFO_0007224'), Row(diseaseFromSourceMappedId='HP_0100806'), Row(diseaseFromSourceMappedId='MONDO_0005180'), Row(diseaseFromSourceMappedId='EFO_0009620'), Row(diseaseFromSourceMappedId='HP_0012532'), Row(diseaseFromSourceMappedId='MONDO_0004975'), Row(diseaseFromSourceMappedId='HP_0100543'), Row(diseaseFromSourceMappedId='EFO_1001402'), Row(diseaseFromSourceMappedId='EFO_0007328'), Row(diseaseFromSourceMappedId='EFO_0000326'), Row(diseaseFromSourceMappedId='EFO_0007453'), Row(diseaseFromSourceMappedId='MONDO_0002009'), Row(diseaseFromSourceMappedId='EFO_0007328'), Row(diseaseFromSourceMappedId='MONDO_0004992'), Row(diseaseFromSourceMappedId='EFO_0000544'), Row(diseaseFromSourceMappedId='MONDO_0002050'), Row(diseaseFromSourceMappedId='MONDO_0005180'), Row(diseaseFromSourceMappedId='EFO_0000544'), Row(diseaseFromSourceMappedId='EFO_0003843'), Row(diseaseFromSourceMappedId='HP_0100543'), Row(diseaseFromSourceMappedId='MONDO_0002009'), Row(diseaseFromSourceMappedId='EFO_0003843'), Row(diseaseFromSourceMappedId='MONDO_0005180'), Row(diseaseFromSourceMappedId='EFO_0009267'), Row(diseaseFromSourceMappedId='EFO_0003931'), Row(diseaseFromSourceMappedId='EFO_0003843'), Row(diseaseFromSourceMappedId='HP_0100543'), Row(diseaseFromSourceMappedId='EFO_0004888'), Row(diseaseFromSourceMappedId='MONDO_0007079'), Row(diseaseFromSourceMappedId='MONDO_0004975'), Row(diseaseFromSourceMappedId='EFO_0000544'), Row(diseaseFromSourceMappedId='MONDO_0002050'), Row(diseaseFromSourceMappedId='EFO_0007149'), Row(diseaseFromSourceMappedId='EFO_0004240'), Row(diseaseFromSourceMappedId='EFO_0002610'), Row(diseaseFromSourceMappedId='EFO_0000544'), Row(diseaseFromSourceMappedId='EFO_0003843'), Row(diseaseFromSourceMappedId='EFO_0009267'), Row(diseaseFromSourceMappedId='EFO_0004320'), Row(diseaseFromSourceMappedId='MONDO_0007739'), Row(diseaseFromSourceMappedId='EFO_0001422'), Row(diseaseFromSourceMappedId='EFO_0000544'), Row(diseaseFromSourceMappedId='HP_0003419'), Row(diseaseFromSourceMappedId='MONDO_0004985'), Row(diseaseFromSourceMappedId='EFO_0000544'), Row(diseaseFromSourceMappedId='MONDO_0000870'), Row(diseaseFromSourceMappedId='MONDO_0005090'), Row(diseaseFromSourceMappedId='MONDO_0005180'), Row(diseaseFromSourceMappedId='MONDO_0002050'), Row(diseaseFromSourceMappedId='EFO_0000546'), Row(diseaseFromSourceMappedId='MONDO_0002009'), Row(diseaseFromSourceMappedId='EFO_0002610'), Row(diseaseFromSourceMappedId='EFO_0004242'), Row(diseaseFromSourceMappedId='MONDO_0002050'), Row(diseaseFromSourceMappedId='EFO_0004320'), Row(diseaseFromSourceMappedId='MONDO_0002050'), Row(diseaseFromSourceMappedId='EFO_0007328'), Row(diseaseFromSourceMappedId='MONDO_0002050'), Row(diseaseFromSourceMappedId='HP_0012532'), Row(diseaseFromSourceMappedId='MONDO_0005129'), Row(diseaseFromSourceMappedId='EFO_1001219'), Row(diseaseFromSourceMappedId='MONDO_0004976'), Row(diseaseFromSourceMappedId='EFO_0003758'), Row(diseaseFromSourceMappedId='EFO_1001175'), Row(diseaseFromSourceMappedId='EFO_0000544'), Row(diseaseFromSourceMappedId='MONDO_0004985'), Row(diseaseFromSourceMappedId='HP_0000486'), Row(diseaseFromSourceMappedId='EFO_0004242'), Row(diseaseFromSourceMappedId='MONDO_0002009'), Row(diseaseFromSourceMappedId='EFO_0003843'), Row(diseaseFromSourceMappedId='MONDO_0041052'), Row(diseaseFromSourceMappedId='EFO_0003843'), Row(diseaseFromSourceMappedId='EFO_0007328'), Row(diseaseFromSourceMappedId='EFO_0003843'), Row(diseaseFromSourceMappedId='MONDO_0002050'), Row(diseaseFromSourceMappedId='EFO_0003843'), Row(diseaseFromSourceMappedId='EFO_0000546'), Row(diseaseFromSourceMappedId='EFO_0003843'), Row(diseaseFromSourceMappedId='EFO_0000519'), Row(diseaseFromSourceMappedId='HP_0025428'), Row(diseaseFromSourceMappedId='MONDO_0005180'), Row(diseaseFromSourceMappedId='EFO_1000864'), Row(diseaseFromSourceMappedId='EFO_0003777'), Row(diseaseFromSourceMappedId='EFO_0004220'), Row(diseaseFromSourceMappedId='MONDO_0002009'), Row(diseaseFromSourceMappedId='EFO_0000694'), Row(diseaseFromSourceMappedId='MONDO_0011382'), Row(diseaseFromSourceMappedId='EFO_1001801'), Row(diseaseFromSourceMappedId='MONDO_0007079'), Row(diseaseFromSourceMappedId='EFO_0004242'), Row(diseaseFromSourceMappedId='MONDO_0002009'), Row(diseaseFromSourceMappedId='EFO_0005762'), Row(diseaseFromSourceMappedId='MONDO_0002050'), Row(diseaseFromSourceMappedId='MONDO_0005180'), Row(diseaseFromSourceMappedId='MONDO_0005180'), Row(diseaseFromSourceMappedId='EFO_0007328'), Row(diseaseFromSourceMappedId='EFO_0009854'), Row(diseaseFromSourceMappedId='EFO_0004220'), Row(diseaseFromSourceMappedId='EFO_0009854'), Row(diseaseFromSourceMappedId='MONDO_0002009'), Row(diseaseFromSourceMappedId='MONDO_0004975'), Row(diseaseFromSourceMappedId='MONDO_0002009'), Row(diseaseFromSourceMappedId='MONDO_0005180'), Row(diseaseFromSourceMappedId='EFO_0009620'), Row(diseaseFromSourceMappedId='EFO_0007328'), Row(diseaseFromSourceMappedId='EFO_0003843'), Row(diseaseFromSourceMappedId='MONDO_0007079'), Row(diseaseFromSourceMappedId='HP_0000360'), Row(diseaseFromSourceMappedId='MONDO_0002050'), Row(diseaseFromSourceMappedId='EFO_0007623'), Row(diseaseFromSourceMappedId='MONDO_0000870'), Row(diseaseFromSourceMappedId='MONDO_0004975'), Row(diseaseFromSourceMappedId='EFO_0007328'), Row(diseaseFromSourceMappedId='MONDO_0002009'), Row(diseaseFromSourceMappedId='MONDO_0004985'), Row(diseaseFromSourceMappedId='EFO_0003843'), Row(diseaseFromSourceMappedId='EFO_1000860'), Row(diseaseFromSourceMappedId='EFO_0001361'), Row(diseaseFromSourceMappedId='MONDO_0005301'), Row(diseaseFromSourceMappedId='MONDO_0002050'), Row(diseaseFromSourceMappedId='MONDO_0005301'), Row(diseaseFromSourceMappedId='MONDO_0005129'), Row(diseaseFromSourceMappedId='EFO_0000544'), Row(diseaseFromSourceMappedId='MONDO_0004975'), Row(diseaseFromSourceMappedId='EFO_0000544'), Row(diseaseFromSourceMappedId='EFO_0003843'), Row(diseaseFromSourceMappedId='MONDO_0005090'), Row(diseaseFromSourceMappedId='MONDO_0004975'), Row(diseaseFromSourceMappedId='MONDO_0011382'), Row(diseaseFromSourceMappedId='EFO_0003843'), Row(diseaseFromSourceMappedId='HP_0003419'), Row(diseaseFromSourceMappedId='MONDO_0007079'), Row(diseaseFromSourceMappedId='EFO_0000474'), Row(diseaseFromSourceMappedId='EFO_0007328'), Row(diseaseFromSourceMappedId='EFO_1001402'), Row(diseaseFromSourceMappedId='MONDO_0002491'), Row(diseaseFromSourceMappedId='MONDO_0005301'), Row(diseaseFromSourceMappedId='EFO_0003843'), Row(diseaseFromSourceMappedId='EFO_1001402'), Row(diseaseFromSourceMappedId='EFO_1001175'), Row(diseaseFromSourceMappedId='HP_0012378'), Row(diseaseFromSourceMappedId='EFO_0000544'), Row(diseaseFromSourceMappedId='EFO_0003047'), Row(diseaseFromSourceMappedId='MONDO_0005180'), Row(diseaseFromSourceMappedId='MONDO_0005180'), Row(diseaseFromSourceMappedId='MONDO_0004681'), Row(diseaseFromSourceMappedId='EFO_0003843'), Row(diseaseFromSourceMappedId='MONDO_0004985'), Row(diseaseFromSourceMappedId='EFO_0003086'), Row(diseaseFromSourceMappedId='EFO_0004699'), Row(diseaseFromSourceMappedId='MONDO_0005090'), Row(diseaseFromSourceMappedId='MONDO_0002009'), Row(diseaseFromSourceMappedId='EFO_0000544'), Row(diseaseFromSourceMappedId='HP_0000360'), Row(diseaseFromSourceMappedId='EFO_0004888'), Row(diseaseFromSourceMappedId='EFO_0007453'), Row(diseaseFromSourceMappedId='EFO_0007328'), Row(diseaseFromSourceMappedId='EFO_0003888'), Row(diseaseFromSourceMappedId='EFO_0003768'), Row(diseaseFromSourceMappedId='EFO_1001917'), Row(diseaseFromSourceMappedId='MONDO_0005301'), Row(diseaseFromSourceMappedId='EFO_0003843'), Row(diseaseFromSourceMappedId='EFO_0000546'), Row(diseaseFromSourceMappedId='EFO_1001402'), Row(diseaseFromSourceMappedId='EFO_0007328'), Row(diseaseFromSourceMappedId='EFO_0003843'), Row(diseaseFromSourceMappedId='EFO_0003843'), Row(diseaseFromSourceMappedId='MONDO_0002009'), Row(diseaseFromSourceMappedId='MONDO_0005180'), Row(diseaseFromSourceMappedId='EFO_0007328'), Row(diseaseFromSourceMappedId='EFO_0000544'), Row(diseaseFromSourceMappedId='MONDO_0007739'), Row(diseaseFromSourceMappedId='EFO_0000544'), Row(diseaseFromSourceMappedId='MONDO_0004975'), Row(diseaseFromSourceMappedId='MONDO_0002050'), Row(diseaseFromSourceMappedId='MONDO_0010726'), Row(diseaseFromSourceMappedId='EFO_0007328'), Row(diseaseFromSourceMappedId='EFO_0003931'), Row(diseaseFromSourceMappedId='EFO_0005223'), Row(diseaseFromSourceMappedId='EFO_0003843'), Row(diseaseFromSourceMappedId='HP_0000360'), Row(diseaseFromSourceMappedId='HP_0012532'), Row(diseaseFromSourceMappedId='MONDO_0005180'), Row(diseaseFromSourceMappedId='MONDO_0002009'), Row(diseaseFromSourceMappedId='EFO_0000512'), Row(diseaseFromSourceMappedId='EFO_0002460'), Row(diseaseFromSourceMappedId='EFO_0002610'), Row(diseaseFromSourceMappedId='MONDO_0041052'), Row(diseaseFromSourceMappedId='MONDO_0002009'), Row(diseaseFromSourceMappedId='HP_0002315'), Row(diseaseFromSourceMappedId='MONDO_0004975'), Row(diseaseFromSourceMappedId='MONDO_0000726'), Row(diseaseFromSourceMappedId='MONDO_0004975'), Row(diseaseFromSourceMappedId='EFO_0009492'), Row(diseaseFromSourceMappedId='EFO_0003843'), Row(diseaseFromSourceMappedId='MONDO_0004985'), Row(diseaseFromSourceMappedId='EFO_0003843'), Row(diseaseFromSourceMappedId='HP_0000713'), Row(diseaseFromSourceMappedId='MONDO_0007915'), Row(diseaseFromSourceMappedId='EFO_0001358'), Row(diseaseFromSourceMappedId='MONDO_0004975'), Row(diseaseFromSourceMappedId='MONDO_0005090'), Row(diseaseFromSourceMappedId='EFO_1001898'), Row(diseaseFromSourceMappedId='EFO_0004329'), Row(diseaseFromSourceMappedId='MONDO_0002050'), Row(diseaseFromSourceMappedId='EFO_0000544'), Row(diseaseFromSourceMappedId='EFO_0003843'), Row(diseaseFromSourceMappedId='EFO_0005762'), Row(diseaseFromSourceMappedId='EFO_0000544'), Row(diseaseFromSourceMappedId='EFO_0007634'), Row(diseaseFromSourceMappedId='EFO_0009516'), Row(diseaseFromSourceMappedId='EFO_0009620'), Row(diseaseFromSourceMappedId='MONDO_0002009'), Row(diseaseFromSourceMappedId='EFO_0007328'), Row(diseaseFromSourceMappedId='EFO_0003756'), Row(diseaseFromSourceMappedId='EFO_1001402'), Row(diseaseFromSourceMappedId='EFO_0005230'), Row(diseaseFromSourceMappedId='MONDO_0004975'), Row(diseaseFromSourceMappedId='MONDO_0002009'), Row(diseaseFromSourceMappedId='MONDO_0002050'), Row(diseaseFromSourceMappedId='HP_0001250'), Row(diseaseFromSourceMappedId='EFO_1001465'), Row(diseaseFromSourceMappedId='MONDO_0004975'), Row(diseaseFromSourceMappedId='EFO_0007623'), Row(diseaseFromSourceMappedId='EFO_1000860'), Row(diseaseFromSourceMappedId='EFO_0007328'), Row(diseaseFromSourceMappedId='MONDO_0007079'), Row(diseaseFromSourceMappedId='EFO_0007328'), Row(diseaseFromSourceMappedId='HP_0000360'), Row(diseaseFromSourceMappedId='MONDO_0004975'), Row(diseaseFromSourceMappedId='EFO_0003768'), Row(diseaseFromSourceMappedId='EFO_0004220'), Row(diseaseFromSourceMappedId='MONDO_0004975'), Row(diseaseFromSourceMappedId='EFO_0003843'), Row(diseaseFromSourceMappedId='MONDO_0004975'), Row(diseaseFromSourceMappedId='EFO_0000546'), Row(diseaseFromSourceMappedId='MONDO_0002009'), Row(diseaseFromSourceMappedId='EFO_0005611'), Row(diseaseFromSourceMappedId='MONDO_0017276'), Row(diseaseFromSourceMappedId='EFO_0003843'), Row(diseaseFromSourceMappedId='EFO_0001358'), Row(diseaseFromSourceMappedId='EFO_0007328'), Row(diseaseFromSourceMappedId='MONDO_0005180'), Row(diseaseFromSourceMappedId='MONDO_0024880'), Row(diseaseFromSourceMappedId='EFO_0000544'), Row(diseaseFromSourceMappedId='EFO_0002460'), Row(diseaseFromSourceMappedId='MONDO_0005090'), Row(diseaseFromSourceMappedId='MONDO_0002009'), Row(diseaseFromSourceMappedId='HP_0001082'), Row(diseaseFromSourceMappedId='EFO_0002610'), Row(diseaseFromSourceMappedId='EFO_0009854'), Row(diseaseFromSourceMappedId='EFO_0004699'), Row(diseaseFromSourceMappedId='EFO_0007328'), Row(diseaseFromSourceMappedId='EFO_0000519'), Row(diseaseFromSourceMappedId='EFO_0003843'), Row(diseaseFromSourceMappedId='MONDO_0005090'), Row(diseaseFromSourceMappedId='HP_0012532'), Row(diseaseFromSourceMappedId='EFO_0003843'), Row(diseaseFromSourceMappedId='EFO_0003843'), Row(diseaseFromSourceMappedId='EFO_0003843'), Row(diseaseFromSourceMappedId='MONDO_0007079'), Row(diseaseFromSourceMappedId='EFO_0004321'), Row(diseaseFromSourceMappedId='MONDO_0002046'), Row(diseaseFromSourceMappedId='MONDO_0005301'), Row(diseaseFromSourceMappedId='EFO_0000546'), Row(diseaseFromSourceMappedId='EFO_0000546'), Row(diseaseFromSourceMappedId='HP_0012735'), Row(diseaseFromSourceMappedId='EFO_0002460'), Row(diseaseFromSourceMappedId='EFO_0003843'), Row(diseaseFromSourceMappedId='EFO_0000544'), Row(diseaseFromSourceMappedId='MONDO_0005351'), Row(diseaseFromSourceMappedId='EFO_0003756'), Row(diseaseFromSourceMappedId='MONDO_0002050'), Row(diseaseFromSourceMappedId='EFO_0003843'), Row(diseaseFromSourceMappedId='MONDO_0005180'), Row(diseaseFromSourceMappedId='EFO_0009516'), Row(diseaseFromSourceMappedId='EFO_0000544'), Row(diseaseFromSourceMappedId='EFO_1000860'), Row(diseaseFromSourceMappedId='EFO_0007328'), Row(diseaseFromSourceMappedId='MONDO_0002050'), Row(diseaseFromSourceMappedId='EFO_0004247'), Row(diseaseFromSourceMappedId='EFO_0003931'), Row(diseaseFromSourceMappedId='MONDO_0011382'), Row(diseaseFromSourceMappedId='MONDO_0002009'), Row(diseaseFromSourceMappedId='EFO_0000713'), Row(diseaseFromSourceMappedId='MONDO_0004985'), Row(diseaseFromSourceMappedId='MONDO_0002009'), Row(diseaseFromSourceMappedId='EFO_0007328'), Row(diseaseFromSourceMappedId='EFO_0003843'), Row(diseaseFromSourceMappedId='MONDO_0005277'), Row(diseaseFromSourceMappedId='HP_0002381'), Row(diseaseFromSourceMappedId='EFO_1000391'), Row(diseaseFromSourceMappedId='MONDO_0004992'), Row(diseaseFromSourceMappedId='EFO_0003843'), Row(diseaseFromSourceMappedId='MONDO_0005090'), Row(diseaseFromSourceMappedId='MONDO_0004976'), Row(diseaseFromSourceMappedId='EFO_1001175'), Row(diseaseFromSourceMappedId='EFO_1001488'), Row(diseaseFromSourceMappedId='EFO_0000544'), Row(diseaseFromSourceMappedId='MONDO_0002009'), Row(diseaseFromSourceMappedId='EFO_0003843'), Row(diseaseFromSourceMappedId='MONDO_0004975'), Row(diseaseFromSourceMappedId='MONDO_0002050'), Row(diseaseFromSourceMappedId='MONDO_0043510'), Row(diseaseFromSourceMappedId='EFO_0007328'), Row(diseaseFromSourceMappedId='MONDO_0005180'), Row(diseaseFromSourceMappedId='MONDO_0002009'), Row(diseaseFromSourceMappedId='EFO_0003843'), Row(diseaseFromSourceMappedId='EFO_0003761'), Row(diseaseFromSourceMappedId='EFO_0003758'), Row(diseaseFromSourceMappedId='EFO_0009267'), Row(diseaseFromSourceMappedId='HP_0000713'), Row(diseaseFromSourceMappedId='EFO_0007453'), Row(diseaseFromSourceMappedId='MONDO_0004975'), Row(diseaseFromSourceMappedId='EFO_0003843'), Row(diseaseFromSourceMappedId='EFO_0004329'), Row(diseaseFromSourceMappedId='HP_0012532'), Row(diseaseFromSourceMappedId='MONDO_0002050'), Row(diseaseFromSourceMappedId='EFO_0004247'), Row(diseaseFromSourceMappedId='EFO_0003843'), Row(diseaseFromSourceMappedId='EFO_0003843'), Row(diseaseFromSourceMappedId='MONDO_0002050')]\n"
     ]
    }
   ],
   "source": [
    "# chembl_evidence_filtered = chembl_evidence.filter(chembl_evidence[\"targetFromSource\"] == \"CHEMBL2094124\")\n",
    "# chembl_evidence_filtered.show()\n",
    "# selected_column = chembl_evidence_filtered.select(\"diseaseFromSourceMappedId\").collect()\n",
    "# print(selected_column)"
   ]
  },
  {
   "cell_type": "markdown",
   "metadata": {},
   "source": [
    "### Assumption 1: Paula curated more indications (like CTs with multiple conditions) which are not in ChEMBL"
   ]
  },
  {
   "cell_type": "code",
   "execution_count": 71,
   "metadata": {},
   "outputs": [
    {
     "name": "stdout",
     "output_type": "stream",
     "text": [
      "+----------------+-------------+-------------+--------------------+\n",
      "|targetFromSource|    diseaseId|       drugId|                urls|\n",
      "+----------------+-------------+-------------+--------------------+\n",
      "|      CHEMBL1806|  EFO_0006544| CHEMBL359744|[{ClinicalTrials,...|\n",
      "|      CHEMBL1806|  EFO_0006544|CHEMBL1096885|[{ClinicalTrials,...|\n",
      "|      CHEMBL1806|  EFO_0006544|  CHEMBL53463|[{ClinicalTrials,...|\n",
      "|      CHEMBL1906|MONDO_0024880|   CHEMBL1336|[{ClinicalTrials,...|\n",
      "|      CHEMBL1906|MONDO_0024880|CHEMBL1200485|[{ClinicalTrials,...|\n",
      "|      CHEMBL1906|MONDO_0024880|   CHEMBL1336|[{ClinicalTrials,...|\n",
      "|      CHEMBL1906|MONDO_0024880|   CHEMBL1336|[{ClinicalTrials,...|\n",
      "|      CHEMBL1906|MONDO_0024880|CHEMBL1200485|[{ClinicalTrials,...|\n",
      "|      CHEMBL3961|  EFO_1001480|CHEMBL1946170|[{ClinicalTrials,...|\n",
      "|      CHEMBL3961|  EFO_1001480|CHEMBL1946170|[{ClinicalTrials,...|\n",
      "|      CHEMBL3961|  EFO_1001480|CHEMBL1946170|[{ClinicalTrials,...|\n",
      "|      CHEMBL3961|  EFO_1001480|CHEMBL1946170|[{ClinicalTrials,...|\n",
      "|      CHEMBL3961|  EFO_1001480|CHEMBL1946170|[{ClinicalTrials,...|\n",
      "|      CHEMBL3961|  EFO_1001480|CHEMBL1946170|[{ClinicalTrials,...|\n",
      "|      CHEMBL3961|  EFO_1001480|CHEMBL1946170|[{ClinicalTrials,...|\n",
      "|      CHEMBL3961|  EFO_1001480|CHEMBL1946170|[{ClinicalTrials,...|\n",
      "|      CHEMBL3961|  EFO_1001480|CHEMBL1946170|[{ClinicalTrials,...|\n",
      "|      CHEMBL3961|  EFO_1001480|CHEMBL1946170|[{ClinicalTrials,...|\n",
      "|      CHEMBL3961|  EFO_1001480|CHEMBL1946170|[{ClinicalTrials,...|\n",
      "|      CHEMBL3961|  EFO_1001480|CHEMBL1946170|[{ClinicalTrials,...|\n",
      "+----------------+-------------+-------------+--------------------+\n",
      "only showing top 20 rows\n",
      "\n"
     ]
    },
    {
     "name": "stderr",
     "output_type": "stream",
     "text": [
      "24/02/05 18:13:25 WARN CacheManager: Asked to cache already cached data.\n"
     ]
    }
   ],
   "source": [
    "# Add sources (CT) from Target - Indication evidence from Platform\n",
    "\n",
    "# List of columns from chembl_evidence table\n",
    "list_chembl_evidence = [\"drugId\", \"urls\"]\n",
    "                 \n",
    "# Join tables by molecule_chembl_id\n",
    "missing_TI_urls = join_dataframes_by_many_cols(missing_TI, chembl_evidence, \n",
    "                                               [\"targetFromSource\", \"diseaseId\"], \n",
    "                                               [\"targetFromSource\", \"diseaseId\"], \n",
    "                                               list_chembl_evidence).persist()\n",
    "\n",
    "missing_TI_urls.show()"
   ]
  },
  {
   "cell_type": "markdown",
   "metadata": {},
   "source": [
    "##### Checking cases from Paula's presentation"
   ]
  },
  {
   "cell_type": "code",
   "execution_count": 76,
   "metadata": {},
   "outputs": [
    {
     "name": "stdout",
     "output_type": "stream",
     "text": [
      "+----------------+-------------+------------+--------------------+\n",
      "|targetFromSource|    diseaseId|      drugId|                urls|\n",
      "+----------------+-------------+------------+--------------------+\n",
      "|       CHEMBL233|  EFO_0801084|CHEMBL511142|[{ClinicalTrials,...|\n",
      "|       CHEMBL233|  EFO_0801084|CHEMBL511142|[{ClinicalTrials,...|\n",
      "|       CHEMBL237|MONDO_0004992|CHEMBL511142|[{ClinicalTrials,...|\n",
      "|       CHEMBL237|  EFO_1001412|CHEMBL511142|[{ClinicalTrials,...|\n",
      "|       CHEMBL237|  EFO_0010445|CHEMBL511142|[{ClinicalTrials,...|\n",
      "|       CHEMBL237|  EFO_0004220|CHEMBL511142|[{ClinicalTrials,...|\n",
      "|       CHEMBL237|  EFO_0801084|CHEMBL511142|[{ClinicalTrials,...|\n",
      "|       CHEMBL237|  EFO_0801084|CHEMBL511142|[{ClinicalTrials,...|\n",
      "|       CHEMBL233|  EFO_0009878|CHEMBL511142|[{ClinicalTrials,...|\n",
      "|       CHEMBL233|  EFO_0010445|CHEMBL511142|[{ClinicalTrials,...|\n",
      "|       CHEMBL237|  EFO_0009878|CHEMBL511142|[{ClinicalTrials,...|\n",
      "|       CHEMBL233|  EFO_0004220|CHEMBL511142|[{ClinicalTrials,...|\n",
      "|       CHEMBL237|  EFO_0004270|CHEMBL511142|[{ClinicalTrials,...|\n",
      "|       CHEMBL233|MONDO_0004992|CHEMBL511142|[{ClinicalTrials,...|\n",
      "+----------------+-------------+------------+--------------------+\n",
      "\n",
      "[Row(urls=[Row(niceName='ClinicalTrials', url='https://clinicaltrials.gov/ct2/show/NCT05910190')]), Row(urls=[Row(niceName='ClinicalTrials', url='https://clinicaltrials.gov/ct2/show/NCT01809106')]), Row(urls=[Row(niceName='ClinicalTrials', url='https://clinicaltrials.gov/ct2/show/NCT01809106')]), Row(urls=[Row(niceName='ClinicalTrials', url='https://clinicaltrials.gov/ct2/show/NCT01546701')]), Row(urls=[Row(niceName='ClinicalTrials', url='https://clinicaltrials.gov/ct2/show/NCT05262270')]), Row(urls=[Row(niceName='ClinicalTrials', url='https://clinicaltrials.gov/ct2/show/NCT00279565')]), Row(urls=[Row(niceName='ClinicalTrials', url='https://clinicaltrials.gov/ct2/show/NCT05910190')]), Row(urls=[Row(niceName='ClinicalTrials', url='https://clinicaltrials.gov/ct2/show/NCT01809106')]), Row(urls=[Row(niceName='ClinicalTrials', url='https://clinicaltrials.gov/ct2/show/NCT04818086')]), Row(urls=[Row(niceName='ClinicalTrials', url='https://clinicaltrials.gov/ct2/show/NCT05262270')]), Row(urls=[Row(niceName='ClinicalTrials', url='https://clinicaltrials.gov/ct2/show/NCT04818086')]), Row(urls=[Row(niceName='ClinicalTrials', url='https://clinicaltrials.gov/ct2/show/NCT00279565')]), Row(urls=[Row(niceName='ClinicalTrials', url='https://clinicaltrials.gov/ct2/show/NCT02138357')]), Row(urls=[Row(niceName='ClinicalTrials', url='https://clinicaltrials.gov/ct2/show/NCT01809106')])]\n"
     ]
    }
   ],
   "source": [
    "# Buprenorphine = CHEMBL511142 and NCT00000211 \n",
    "missing_TI_urls_filtered = missing_TI_urls.filter(missing_TI_urls[\"drugId\"] == \"CHEMBL511142\")\n",
    "missing_TI_urls_filtered.show()\n",
    "selected_column = missing_TI_urls_filtered.select(\"urls\").collect()\n",
    "print(selected_column)\n",
    "\n",
    "# CT not in the list"
   ]
  },
  {
   "cell_type": "code",
   "execution_count": 78,
   "metadata": {},
   "outputs": [
    {
     "name": "stdout",
     "output_type": "stream",
     "text": [
      "+----------------+---------+------+----+\n",
      "|targetFromSource|diseaseId|drugId|urls|\n",
      "+----------------+---------+------+----+\n",
      "+----------------+---------+------+----+\n",
      "\n",
      "[]\n"
     ]
    }
   ],
   "source": [
    "# Zidovudine = CHEMBL129 and NCT00000685 \n",
    "missing_TI_urls_filtered = missing_TI_urls.filter(missing_TI_urls[\"drugId\"] == \"CHEMBL129\")\n",
    "missing_TI_urls_filtered.show()\n",
    "selected_column = missing_TI_urls_filtered.select(\"urls\").collect()\n",
    "print(selected_column)\n",
    "\n",
    "# Drug not in the list"
   ]
  },
  {
   "cell_type": "code",
   "execution_count": 79,
   "metadata": {},
   "outputs": [
    {
     "name": "stdout",
     "output_type": "stream",
     "text": [
      "+----------------+-------------+----------+--------------------+\n",
      "|targetFromSource|    diseaseId|    drugId|                urls|\n",
      "+----------------+-------------+----------+--------------------+\n",
      "|       CHEMBL238|MONDO_0004985|CHEMBL1373|[{ClinicalTrials,...|\n",
      "|       CHEMBL238|MONDO_0021063|CHEMBL1373|[{ClinicalTrials,...|\n",
      "|       CHEMBL238|  EFO_0003925|CHEMBL1373|[{ClinicalTrials,...|\n",
      "|       CHEMBL238|MONDO_0005178|CHEMBL1373|[{ClinicalTrials,...|\n",
      "+----------------+-------------+----------+--------------------+\n",
      "\n",
      "[Row(urls=[Row(niceName='ClinicalTrials', url='https://clinicaltrials.gov/ct2/show/NCT01965925')]), Row(urls=[Row(niceName='ClinicalTrials', url='https://clinicaltrials.gov/ct2/show/NCT01505166')]), Row(urls=[Row(niceName='ClinicalTrials', url='https://clinicaltrials.gov/ct2/show/NCT03893032')]), Row(urls=[Row(niceName='ClinicalTrials', url='https://clinicaltrials.gov/ct2/show/NCT02155257')])]\n"
     ]
    }
   ],
   "source": [
    "# modafinil = CHEMBL1373 and NCT00042848 \n",
    "missing_TI_urls_filtered = missing_TI_urls.filter(missing_TI_urls[\"drugId\"] == \"CHEMBL1373\")\n",
    "missing_TI_urls_filtered.show()\n",
    "selected_column = missing_TI_urls_filtered.select(\"urls\").collect()\n",
    "print(selected_column)\n",
    "\n",
    "# CT not in the list"
   ]
  },
  {
   "cell_type": "code",
   "execution_count": 81,
   "metadata": {},
   "outputs": [
    {
     "name": "stdout",
     "output_type": "stream",
     "text": [
      "+----------------+-------------+--------+--------------------+\n",
      "|targetFromSource|    diseaseId|  drugId|                urls|\n",
      "+----------------+-------------+--------+--------------------+\n",
      "|   CHEMBL2362989|MONDO_0004222|CHEMBL84|[{ClinicalTrials,...|\n",
      "|   CHEMBL2362989|  EFO_0002939|CHEMBL84|[{ClinicalTrials,...|\n",
      "|   CHEMBL2362989|MONDO_0015686|CHEMBL84|[{ClinicalTrials,...|\n",
      "|   CHEMBL2362989|MONDO_0015686|CHEMBL84|[{ClinicalTrials,...|\n",
      "|   CHEMBL2362989|MONDO_0015686|CHEMBL84|[{ClinicalTrials,...|\n",
      "|   CHEMBL2362989|MONDO_0004992|CHEMBL84|[{ClinicalTrials,...|\n",
      "|   CHEMBL2362989|MONDO_0004992|CHEMBL84|[{ClinicalTrials,...|\n",
      "|   CHEMBL2362989|MONDO_0004992|CHEMBL84|[{ClinicalTrials,...|\n",
      "|   CHEMBL2362989|MONDO_0004992|CHEMBL84|[{ClinicalTrials,...|\n",
      "|   CHEMBL2362989|MONDO_0004992|CHEMBL84|[{ClinicalTrials,...|\n",
      "|   CHEMBL2362989|MONDO_0004992|CHEMBL84|[{ClinicalTrials,...|\n",
      "|   CHEMBL2362989|MONDO_0004992|CHEMBL84|[{ClinicalTrials,...|\n",
      "|   CHEMBL2362989|MONDO_0004992|CHEMBL84|[{ClinicalTrials,...|\n",
      "|   CHEMBL2362989|MONDO_0004992|CHEMBL84|[{ClinicalTrials,...|\n",
      "|   CHEMBL2362989|MONDO_0004992|CHEMBL84|[{ClinicalTrials,...|\n",
      "|   CHEMBL2362989|  EFO_1000172|CHEMBL84|[{ClinicalTrials,...|\n",
      "|   CHEMBL2362989|  EFO_1000172|CHEMBL84|[{ClinicalTrials,...|\n",
      "|   CHEMBL2362989|  EFO_1002008|CHEMBL84|[{ClinicalTrials,...|\n",
      "|   CHEMBL2362989|  EFO_0005537|CHEMBL84|[{ClinicalTrials,...|\n",
      "|   CHEMBL2362989|MONDO_0012825|CHEMBL84|[{ClinicalTrials,...|\n",
      "+----------------+-------------+--------+--------------------+\n",
      "only showing top 20 rows\n",
      "\n",
      "[Row(urls=[Row(niceName='ClinicalTrials', url='https://clinicaltrials.gov/ct2/show/NCT00002913')]), Row(urls=[Row(niceName='ClinicalTrials', url='https://clinicaltrials.gov/ct2/show/NCT05535166')]), Row(urls=[Row(niceName='ClinicalTrials', url='https://clinicaltrials.gov/ct2/show/NCT00314678')]), Row(urls=[Row(niceName='ClinicalTrials', url='https://clinicaltrials.gov/ct2/show/NCT02419495')]), Row(urls=[Row(niceName='ClinicalTrials', url='https://clinicaltrials.gov/ct2/show/NCT00011986')]), Row(urls=[Row(niceName='ClinicalTrials', url='https://clinicaltrials.gov/ct2/show/NCT00888810')]), Row(urls=[Row(niceName='ClinicalTrials', url='https://clinicaltrials.gov/ct2/show/NCT00881166')]), Row(urls=[Row(niceName='ClinicalTrials', url='https://clinicaltrials.gov/ct2/show/NCT00193570')]), Row(urls=[Row(niceName='ClinicalTrials', url='https://clinicaltrials.gov/ct2/show/NCT00412503')]), Row(urls=[Row(niceName='ClinicalTrials', url='https://clinicaltrials.gov/ct2/show/NCT00770731')]), Row(urls=[Row(niceName='ClinicalTrials', url='https://clinicaltrials.gov/ct2/show/NCT00361803')]), Row(urls=[Row(niceName='ClinicalTrials', url='https://clinicaltrials.gov/ct2/show/NCT02813135')]), Row(urls=[Row(niceName='ClinicalTrials', url='https://clinicaltrials.gov/ct2/show/NCT00193583')]), Row(urls=[Row(niceName='ClinicalTrials', url='https://clinicaltrials.gov/ct2/show/NCT00295243')]), Row(urls=[Row(niceName='ClinicalTrials', url='https://clinicaltrials.gov/ct2/show/NCT00006199')]), Row(urls=[Row(niceName='ClinicalTrials', url='https://clinicaltrials.gov/ct2/show/NCT00054444')]), Row(urls=[Row(niceName='ClinicalTrials', url='https://clinicaltrials.gov/ct2/show/NCT00064077')]), Row(urls=[Row(niceName='ClinicalTrials', url='https://clinicaltrials.gov/ct2/show/NCT02114229')]), Row(urls=[Row(niceName='ClinicalTrials', url='https://clinicaltrials.gov/ct2/show/NCT02419495')]), Row(urls=[Row(niceName='ClinicalTrials', url='https://clinicaltrials.gov/ct2/show/NCT03600649')]), Row(urls=[Row(niceName='ClinicalTrials', url='https://clinicaltrials.gov/ct2/show/NCT03475121')]), Row(urls=[Row(niceName='ClinicalTrials', url='https://clinicaltrials.gov/ct2/show/NCT00541138')]), Row(urls=[Row(niceName='ClinicalTrials', url='https://clinicaltrials.gov/ct2/show/NCT00002913')]), Row(urls=[Row(niceName='ClinicalTrials', url='https://clinicaltrials.gov/ct2/show/NCT00005021')]), Row(urls=[Row(niceName='ClinicalTrials', url='https://clinicaltrials.gov/ct2/show/NCT00002913')])]\n"
     ]
    }
   ],
   "source": [
    "# melphalan = CHEMBL852, topotecan = CHEMBL84  and NCT00005792 \n",
    "missing_TI_urls_filtered = missing_TI_urls.filter(missing_TI_urls[\"drugId\"] == \"CHEMBL84\")\n",
    "missing_TI_urls_filtered.show()\n",
    "selected_column = missing_TI_urls_filtered.select(\"urls\").collect()\n",
    "print(selected_column)\n",
    "\n",
    "# CT not in the list"
   ]
  },
  {
   "cell_type": "code",
   "execution_count": 83,
   "metadata": {},
   "outputs": [
    {
     "name": "stderr",
     "output_type": "stream",
     "text": [
      "                                                                                \r"
     ]
    },
    {
     "name": "stdout",
     "output_type": "stream",
     "text": [
      "+------------+--------------------+--------------------+\n",
      "|      drugId|   targetsFromSource|          diseaseIds|\n",
      "+------------+--------------------+--------------------+\n",
      "|  CHEMBL1000|CHEMBL231,CHEMBL2...|MONDO_0009291,EFO...|\n",
      "|CHEMBL100116|           CHEMBL287|       MONDO_0004985|\n",
      "|  CHEMBL1002|           CHEMBL210|          HP_0002153|\n",
      "|  CHEMBL1005|CHEMBL233,CHEMBL2...|MONDO_0008903,EFO...|\n",
      "|  CHEMBL1007|CHEMBL1855,CHEMBL...|HP_0000786,EFO_00...|\n",
      "|  CHEMBL1009|CHEMBL234,CHEMBL2...|MONDO_0001162,EFO...|\n",
      "|CHEMBL101253|CHEMBL2095189,CHE...|MONDO_0004992,MON...|\n",
      "|  CHEMBL1014|CHEMBL227,CHEMBL2...|HP_0001653,EFO_10...|\n",
      "|  CHEMBL1016|CHEMBL227,CHEMBL2...|HP_0001653,EFO_10...|\n",
      "|  CHEMBL1017|CHEMBL227,CHEMBL2...|MONDO_0005090,EFO...|\n",
      "|  CHEMBL1021|CHEMBL2094253,CHE...|EFO_1001231,EFO_1...|\n",
      "|  CHEMBL1023|CHEMBL2363070,CHE...|HP_0100543,HP_010...|\n",
      "|  CHEMBL1025|           CHEMBL220|       MONDO_0005041|\n",
      "|  CHEMBL1026|          CHEMBL2056|         EFO_0001645|\n",
      "|  CHEMBL1027|CHEMBL1903,CHEMBL...|EFO_0004263,EFO_1...|\n",
      "|   CHEMBL103|CHEMBL208,CHEMBL2...|EFO_0000712,MONDO...|\n",
      "|  CHEMBL1034|CHEMBL2094253,CHE...|EFO_0009816,EFO_0...|\n",
      "|  CHEMBL1040|          CHEMBL1977|          HP_0002024|\n",
      "|  CHEMBL1042|CHEMBL1977,CHEMBL...|EFO_0011057,EFO_0...|\n",
      "|  CHEMBL1046|CHEMBL1873,CHEMBL...|MONDO_0005178,EFO...|\n",
      "+------------+--------------------+--------------------+\n",
      "only showing top 20 rows\n",
      "\n"
     ]
    },
    {
     "data": {
      "text/plain": [
       "1821"
      ]
     },
     "execution_count": 83,
     "metadata": {},
     "output_type": "execute_result"
    }
   ],
   "source": [
    "# Group by \n",
    "missing_TI_grouped = missing_TI_urls.groupBy(\"drugId\")\\\n",
    "                                    .agg(\n",
    "                                        # concat_ws(\",\", collect_list(\"urls\")).alias(\"urls_grouped\"),\n",
    "                                        concat_ws(\",\", collect_list(\"targetFromSource\")).alias(\"targetsFromSource\"),\n",
    "                                        concat_ws(\",\", collect_list(\"diseaseId\")).alias(\"diseaseIds\")\n",
    "                                    )\n",
    "\n",
    "missing_TI_grouped.show()\n",
    "missing_TI_grouped.count()"
   ]
  },
  {
   "cell_type": "markdown",
   "metadata": {},
   "source": [
    "##### Checking if amount of Drug-Indication pairs is larger from OT evidence than from ChEMBL Drug-Indication pairs + MoA"
   ]
  },
  {
   "cell_type": "code",
   "execution_count": 94,
   "metadata": {},
   "outputs": [
    {
     "name": "stdout",
     "output_type": "stream",
     "text": [
      "+------------+--------------------+------------+\n",
      "|      drugId|          diseaseIds|diseaseCount|\n",
      "+------------+--------------------+------------+\n",
      "|  CHEMBL1000|EFO_0000274,EFO_0...|          23|\n",
      "|CHEMBL100116|EFO_0003843,MONDO...|           2|\n",
      "|  CHEMBL1002|EFO_0000341,HP_00...|           4|\n",
      "|  CHEMBL1004|EFO_0005854,MONDO...|           4|\n",
      "|  CHEMBL1005|EFO_0003843,EFO_0...|          50|\n",
      "|  CHEMBL1007|EFO_1001757,EFO_0...|          15|\n",
      "|  CHEMBL1008|         EFO_0000319|           1|\n",
      "|  CHEMBL1009|HP_0003418,EFO_00...|          34|\n",
      "|   CHEMBL101|HP_0003326,HP_000...|           3|\n",
      "|CHEMBL101253|EFO_0003869,MONDO...|          30|\n",
      "|  CHEMBL1014|MONDO_0001134,EFO...|          25|\n",
      "|  CHEMBL1016|MONDO_0005475,EFO...|          31|\n",
      "|  CHEMBL1017|MONDO_0001134,EFO...|          29|\n",
      "| CHEMBL10188|EFO_0000555,MONDO...|           2|\n",
      "|  CHEMBL1020|EFO_0000685,HP_00...|           5|\n",
      "|  CHEMBL1021|MONDO_0003005,MON...|          14|\n",
      "|  CHEMBL1023|EFO_0000198,EFO_0...|          27|\n",
      "|  CHEMBL1025|       MONDO_0005041|           1|\n",
      "|  CHEMBL1026|EFO_0001645,HP_00...|           3|\n",
      "|  CHEMBL1027|EFO_1001892,EFO_0...|          10|\n",
      "+------------+--------------------+------------+\n",
      "only showing top 20 rows\n",
      "\n"
     ]
    },
    {
     "data": {
      "text/plain": [
       "4269"
      ]
     },
     "execution_count": 94,
     "metadata": {},
     "output_type": "execute_result"
    }
   ],
   "source": [
    "# Group by drugs from OT evidence\n",
    "\n",
    "OT_chembl_evidence_drug = chembl_evidence.select(\"diseaseId\", 'drugId')\\\n",
    "                                        .dropDuplicates()\\\n",
    "                                        .groupBy(\"drugId\")\\\n",
    "                                        .agg(\n",
    "                                            concat_ws(\",\", collect_list(\"diseaseId\")).alias(\"diseaseIds\"),\n",
    "                                            count(\"diseaseId\").alias(\"diseaseCount\")\n",
    "                                        )\n",
    "OT_chembl_evidence_drug.show()\n",
    "OT_chembl_evidence_drug.count()"
   ]
  },
  {
   "cell_type": "code",
   "execution_count": 95,
   "metadata": {},
   "outputs": [
    {
     "name": "stdout",
     "output_type": "stream",
     "text": [
      "+------------------+--------------------+--------------+\n",
      "|molecule_chembl_id|              efo_id|diseaseCount_2|\n",
      "+------------------+--------------------+--------------+\n",
      "|        CHEMBL1000|EFO_0008521,EFO_0...|            16|\n",
      "|      CHEMBL100116|EFO_0003843,EFO_0...|             2|\n",
      "|        CHEMBL1002|MONDO_0004979,EFO...|             2|\n",
      "|        CHEMBL1003|EFO_0004992,EFO_1...|            12|\n",
      "|        CHEMBL1004|       MONDO_0005271|             1|\n",
      "|        CHEMBL1005|MONDO_0021233,EFO...|            15|\n",
      "|        CHEMBL1007|MONDO_0008315,MON...|             4|\n",
      "|        CHEMBL1008|         EFO_0000319|             1|\n",
      "|        CHEMBL1009|EFO_0004895,HP_00...|            25|\n",
      "|         CHEMBL101|HP_0002829,EFO_00...|             3|\n",
      "|        CHEMBL1010|EFO_0003106,EFO_0...|             4|\n",
      "|      CHEMBL101253|EFO_0001378,MONDO...|            30|\n",
      "|        CHEMBL1014|EFO_0000319,EFO_0...|            20|\n",
      "|        CHEMBL1016|EFO_0000538,EFO_0...|            26|\n",
      "|        CHEMBL1017|EFO_0000712,MONDO...|            19|\n",
      "|       CHEMBL10188|EFO_0000555,MONDO...|             2|\n",
      "|        CHEMBL1020|EFO_0005755,HP_00...|             3|\n",
      "|        CHEMBL1021|EFO_0005752,MONDO...|             5|\n",
      "|        CHEMBL1023|MONDO_0005090,EFO...|            25|\n",
      "|        CHEMBL1024|MONDO_0011962,EFO...|            74|\n",
      "+------------------+--------------------+--------------+\n",
      "only showing top 20 rows\n",
      "\n"
     ]
    },
    {
     "data": {
      "text/plain": [
       "5019"
      ]
     },
     "execution_count": 95,
     "metadata": {},
     "output_type": "execute_result"
    }
   ],
   "source": [
    "# Group by drugs from ChEMBL Drug-Indication pairs + MoA\n",
    "\n",
    "DI_from_moa_drug = drug_indication_moa_notnull.select(\"efo_id\", 'molecule_chembl_id')\\\n",
    "                                        .dropDuplicates()\\\n",
    "                                        .withColumn(\"efo_id\", regexp_replace(\"efo_id\", \":\", \"_\"))\\\n",
    "                                        .groupBy(\"molecule_chembl_id\")\\\n",
    "                                        .agg(\n",
    "                                            concat_ws(\",\", collect_list(\"efo_id\")).alias(\"efo_id\"),\n",
    "                                            count(\"efo_id\").alias(\"diseaseCount_2\")\n",
    "                                        )\n",
    "\n",
    "DI_from_moa_drug.show()\n",
    "DI_from_moa_drug.count()"
   ]
  },
  {
   "cell_type": "code",
   "execution_count": 97,
   "metadata": {},
   "outputs": [
    {
     "name": "stderr",
     "output_type": "stream",
     "text": [
      "24/02/05 19:07:54 WARN CacheManager: Asked to cache already cached data.\n"
     ]
    },
    {
     "name": "stdout",
     "output_type": "stream",
     "text": [
      "+-------------+--------------------+------------+--------------------+--------------+----------+\n",
      "|       drugId|          diseaseIds|diseaseCount|              efo_id|diseaseCount_2|difference|\n",
      "+-------------+--------------------+------------+--------------------+--------------+----------+\n",
      "|   CHEMBL1637|EFO_1000251,MONDO...|          77|EFO_1001469,MONDO...|            54|        23|\n",
      "|CHEMBL2107826|EFO_1000781,HP_00...|           5|EFO_0006865,HP_00...|             5|         0|\n",
      "| CHEMBL521851|EFO_0000616,EFO_0...|           5|MONDO_0007254,EFO...|             5|         0|\n",
      "|   CHEMBL1231|HP_0100543,EFO_10...|          17|HP_0000103,EFO_00...|            12|         5|\n",
      "| CHEMBL471737|EFO_0000373,EFO_0...|          24|EFO_0000401,EFO_0...|            19|         5|\n",
      "|CHEMBL4297785|EFO_0001642,EFO_0...|          10|EFO_0003060,EFO_0...|             8|         2|\n",
      "|CHEMBL2105675|EFO_0009562,EFO_0...|           6|EFO_0000318,EFO_1...|             5|         1|\n",
      "| CHEMBL363648|         EFO_0000685|           1|         EFO_0000685|             1|         0|\n",
      "|CHEMBL3545145|         EFO_0000616|           1|         EFO_0000616|             1|         0|\n",
      "|CHEMBL1743017|EFO_0000274,EFO_0...|           3|EFO_0000676,EFO_0...|             3|         0|\n",
      "|CHEMBL3989990|EFO_0000182,EFO_0...|           2|EFO_0000182,EFO_0...|             2|         0|\n",
      "|CHEMBL3545096|MONDO_0007254,MON...|           3|MONDO_0007254,MON...|             3|         0|\n",
      "|    CHEMBL524|EFO_0009523,EFO_0...|           3|EFO_0009523,HP_00...|             3|         0|\n",
      "|CHEMBL3545103|EFO_0000341,HP_00...|           3|MONDO_0004979,EFO...|             2|         1|\n",
      "|CHEMBL3707249|MONDO_0004979,EFO...|           3|EFO_0000341,MONDO...|             2|         1|\n",
      "|CHEMBL2346976|       MONDO_0008315|           1|       MONDO_0008315|             1|         0|\n",
      "| CHEMBL466659|         EFO_0000319|           1|         EFO_0000319|             1|         0|\n",
      "|CHEMBL3545185|EFO_0003085,MONDO...|          50|EFO_0000222,EFO_0...|            42|         8|\n",
      "|    CHEMBL888|MONDO_0044791,MON...|         149|EFO_0001376,MONDO...|           101|        48|\n",
      "|CHEMBL1201746|EFO_0001378,MONDO...|          20|EFO_0000305,MONDO...|            19|         1|\n",
      "+-------------+--------------------+------------+--------------------+--------------+----------+\n",
      "only showing top 20 rows\n",
      "\n"
     ]
    },
    {
     "data": {
      "text/plain": [
       "4269"
      ]
     },
     "execution_count": 97,
     "metadata": {},
     "output_type": "execute_result"
    }
   ],
   "source": [
    "# Merge 2 datasets to see difference in amount of diseases per drug\n",
    "\n",
    "# List of columns from DI_from_moa_drug table\n",
    "list_DI_from_moa_drug = [\"efo_id\", \"diseaseCount_2\"]\n",
    "                 \n",
    "# Join tables by molecule_chembl_id\n",
    "drug_indications = join_dataframes(OT_chembl_evidence_drug, DI_from_moa_drug, \n",
    "                                      \"drugId\", \"molecule_chembl_id\", \n",
    "                                      list_DI_from_moa_drug)\n",
    "\n",
    "drug_indications_compare = drug_indications.withColumn(\"difference\", col(\"diseaseCount\") - col(\"diseaseCount_2\"))\n",
    "\n",
    "drug_indications_compare.show()\n",
    "drug_indications_compare.count()"
   ]
  },
  {
   "cell_type": "code",
   "execution_count": 100,
   "metadata": {},
   "outputs": [
    {
     "name": "stdout",
     "output_type": "stream",
     "text": [
      "+--------------------+----------------------+------------------+\n",
      "|diseaseCount_average|diseaseCount_2_average|difference_average|\n",
      "+--------------------+----------------------+------------------+\n",
      "|  10.598735066760366|     8.311757575757575| 2.484848484848485|\n",
      "+--------------------+----------------------+------------------+\n",
      "\n"
     ]
    }
   ],
   "source": [
    "average_df = drug_indications_compare.agg(avg(\"diseaseCount\").alias(\"diseaseCount_average\"),\n",
    "                                          avg(\"diseaseCount_2\").alias(\"diseaseCount_2_average\"),\n",
    "                                          avg(\"difference\").alias(\"difference_average\"))\n",
    "\n",
    "average_df.show()"
   ]
  },
  {
   "cell_type": "code",
   "execution_count": null,
   "metadata": {},
   "outputs": [],
   "source": []
  },
  {
   "cell_type": "code",
   "execution_count": null,
   "metadata": {},
   "outputs": [],
   "source": []
  },
  {
   "cell_type": "code",
   "execution_count": null,
   "metadata": {},
   "outputs": [],
   "source": []
  },
  {
   "cell_type": "code",
   "execution_count": 7,
   "metadata": {},
   "outputs": [],
   "source": [
    "# Take list of unique drugs (obtained from target with evidence in Platform or chemProbes)\n",
    "import pandas as pd\n",
    "\n",
    "unique_drugs_pd_df = pd.read_csv(\"../data/drug_to_target_unique_drugs.csv\")\n",
    "drug_list = spark.createDataFrame(unique_drugs_pd_df)\n",
    "# drug_list = spark.read.csv(drug_list_dir, header=True, inferSchema=True)\n",
    "# drug_list.show()"
   ]
  },
  {
   "cell_type": "code",
   "execution_count": 8,
   "metadata": {},
   "outputs": [],
   "source": [
    "# in_drugs = count_unique_values(drug_list, \"drugId\")\n",
    "# print(\"Number of initial drugs: \", in_drugs)"
   ]
  },
  {
   "cell_type": "markdown",
   "metadata": {},
   "source": [
    "### For each drug find a max phase of clinical trial"
   ]
  },
  {
   "cell_type": "code",
   "execution_count": 9,
   "metadata": {},
   "outputs": [
    {
     "name": "stderr",
     "output_type": "stream",
     "text": [
      "24/01/23 17:03:46 WARN CacheManager: Asked to cache already cached data.        \n"
     ]
    }
   ],
   "source": [
    "molecule_path = \"gs://open-targets-data-releases/23.12/output/etl/json/molecule\"\n",
    "molecule = spark.read.json(molecule_path)\n",
    "molecule.persist()\n",
    "\n",
    "# List of columns from molecule table\n",
    "list_molecule = [\"drugType\", \n",
    "                \"maximumClinicalTrialPhase\", \n",
    "                \"isApproved\", \n",
    "                \"linkedTargets\", \n",
    "                \"linkedDiseases\",\n",
    "                \"crossReferences\"]\n",
    "                 \n",
    "# Join list of drugs and max_phase from molecule table\n",
    "drug_list_phase = join_dataframes(drug_list, molecule, \"drugId\", \"id\", list_molecule).persist()\n",
    "\n",
    "# # Show number of drugs by approval status\n",
    "# print(\"Number of drugs by approval status: \")\n",
    "# show_unique_values_and_counts(drug_list_phase, \"isApproved\")"
   ]
  },
  {
   "cell_type": "code",
   "execution_count": 10,
   "metadata": {},
   "outputs": [
    {
     "name": "stderr",
     "output_type": "stream",
     "text": [
      "[Stage 2:>                                                          (0 + 1) / 1]\r"
     ]
    },
    {
     "name": "stdout",
     "output_type": "stream",
     "text": [
      "+---------------+--------------------+--------------------+--------------------+--------------------+--------------+----------------+-------------+--------------------+----------+--------------------+--------------------+-------------------------+--------------------+-------------+--------------------+--------------------+-------------------+\n",
      "|blackBoxWarning|     canonicalSmiles|      childChemblIds|     crossReferences|         description|      drugType|hasBeenWithdrawn|           id|            inchiKey|isApproved|      linkedDiseases|       linkedTargets|maximumClinicalTrialPhase|                name|     parentId|            synonyms|          tradeNames|yearOfFirstApproval|\n",
      "+---------------+--------------------+--------------------+--------------------+--------------------+--------------+----------------+-------------+--------------------+----------+--------------------+--------------------+-------------------------+--------------------+-------------+--------------------+--------------------+-------------------+\n",
      "|          false|Cc1cc(CN2CCN(c3c(...|                null|                null|Small molecule drug.|Small molecule|           false|CHEMBL1086582|UUGWPYPNRZQDFO-UH...|      null|                null|                null|                     null|       CHEMBL1086582|         null|                  []|                  []|               null|\n",
      "|          false|CNCc1ccc(-c2[nH]c...|[CHEMBL2105733, C...|{[rucaparib%20cam...|Small molecule dr...|Small molecule|           false|CHEMBL1173055|HMABYWSNWIZPAG-UH...|      true|{24, [EFO_0003060...|{3, [ENSG00000143...|                      4.0|           RUCAPARIB|         null|[AG-014699, AG-14...|                  []|               2016|\n",
      "|          false|CC(=O)N(c1onc(C)c...|                null|{[sulfisoxazole%2...|Small molecule dr...|Small molecule|           false|CHEMBL1200910|JFNWFXVFBDDWCX-UH...|      true|                null|             {0, []}|                      4.0|SULFISOXAZOLE ACETYL|         null|[Acetyl sulfafura...|[Gantrisin, Gantr...|               1953|\n",
      "|          false|COc1ccc(C[C@@H]2c...|     [CHEMBL1200641]|{[cisatracurium%2...|Small molecule dr...|Small molecule|           false|CHEMBL1201248|YXSLJKQTIDHPOT-LJ...|      true|  {1, [EFO_1000637]}|{5, [ENSG00000138...|                      4.0|       CISATRACURIUM|         null|[Cisatracurium, C...|            [Nimbex]|               1995|\n",
      "|           true|                null|                null|{[estrogens,%20es...|Small molecule dr...|Small molecule|           false|CHEMBL1201468|                null|      true|{5, [EFO_1000096,...|{2, [ENSG00000140...|                      4.0|ESTROGENS, ESTERI...|         null|[Esterified estro...|[Amnestrogen, Est...|               1977|\n",
      "|          false|                null|                null|{[hyaluronidase%2...|Enzyme drug with ...|        Enzyme|           false|CHEMBL1201718|                null|      true|{20, [EFO_1000668...|                null|                      4.0|HYALURONIDASE (HU...|         null|[Chemophase, Enha...|[Cumulase, Hylene...|               2005|\n",
      "|           true|CC(=O)Oc1cc2c(s1)...|     [CHEMBL1201773]|{[prasugrel%20hyd...|Small molecule dr...|Small molecule|           false|CHEMBL1201772|DTGLZDAWLRGWQN-UH...|      true|{17, [EFO_0003777...|{1, [ENSG00000169...|                      4.0|           PRASUGREL|         null|[LY-640315, NSC-7...|            [Efient]|               2009|\n",
      "|          false|COc1ccc(-c2cc3c(C...|                null|{null, null, null...|Small molecule dr...|Small molecule|           false|CHEMBL1234354|XDLYKKIQACFMJG-WK...|     false|{3, [EFO_0003869,...|{9, [ENSG00000198...|                      2.0|         PF-04691502|         null|[PF-04691502, PF-...|                  []|               null|\n",
      "|          false|Cc1ccc(C(C)C)cc2c...|                null|{null, null, [170...|Small molecule dr...|Small molecule|           false|CHEMBL1408759|FWKQNCXZGNBPFD-UH...|     false|  {1, [EFO_0003966]}|                null|                     -1.0|          GUAIAZULEN|         null|[Guaiazulen, Guai...|                  []|               null|\n",
      "|          false|O=c1[nH]c2ccccc2n...|                null|{[pimozide], null...|Small molecule dr...|Small molecule|           false|   CHEMBL1423|YVUQSNJEYSNKRX-UH...|      true|{6, [MONDO_000509...|{6, [ENSG00000149...|                      4.0|            PIMOZIDE|         null|[MCN-JR-6238, NSC...|    [Orap, Pimozide]|               1984|\n",
      "|          false|CC[C@H]1OC(=O)[C@...|                null|{null, null, [144...|Small molecule drug.|Small molecule|           false|CHEMBL1476500|RXZBMPWDPOLZGW-HI...|      null|                null|                null|                     null|       CHEMBL1476500|         null|                  []|                  []|               null|\n",
      "|          false|           Cn1ccnc1S|                null|{[methimazole], n...|Small molecule dr...|Small molecule|           false|   CHEMBL1515|PMRYVIKBURPHAH-UH...|      true|{6, [HP_0000820, ...|{1, [ENSG00000115...|                      4.0|         METHIMAZOLE|         null|[Mercaptizole, Me...|[Favistan, Methim...|               1950|\n",
      "|          false|    c1ccc2[nH]ccc2c1|                null|{null, null, [144...|Small molecule drug.|Small molecule|           false|  CHEMBL15844|SIKJAQJRHWYJAI-UH...|      null|                null|                null|                     null|              INDOLE|         null|            [Indole]|                  []|               null|\n",
      "|          false|COc1cccc(N(C)C(=S...|                null|{null, null, [144...|Small molecule drug.|Small molecule|           false|CHEMBL1591365|VPHPQNGOVQYUMG-UH...|     false|                null|             {0, []}|                     -1.0|         LIRANAFTATE|         null|[Liranaftate, Pir...|                  []|               null|\n",
      "|          false|             CC(N)=O|                null|{null, null, [111...|Small molecule drug.|Small molecule|           false|  CHEMBL16081|DLFVBJFMPXGRIB-UH...|      null|                null|                null|                     null|           ACETAMIDE|         null|         [Acetamide]|                  []|               null|\n",
      "|          false|Nc1nc(=O)c2nc(CNc...|     [CHEMBL2107429]|{[folic%20acid], ...|Small molecule dr...|Small molecule|           false|   CHEMBL1622|OVBPIULPVIDEAO-LB...|      true|{71, [EFO_1001231...|                null|                      4.0|          FOLIC ACID|         null|[Acidum folicum, ...|[Bio science, Fol...|               null|\n",
      "|          false|C=C1C[C@@H]2CC[C@...|                null|{[eribulin%20mesy...|Small molecule dr...|Small molecule|           false|CHEMBL1683544|QAMYWGZHLCQOOJ-WR...|      true|{20, [EFO_0003060...|{15, [ENSG0000018...|                      4.0|   ERIBULIN MESYLATE|CHEMBL1683590|[E-7389, E7389, E...|           [Halaven]|               2010|\n",
      "|           true|COc1cc(N)c(Cl)cc1...|     [CHEMBL1200788]|{null, null, [144...|Small molecule dr...|Small molecule|            true|   CHEMBL1729|DCSUBABJRXZOMT-UH...|      true|  {1, [EFO_0010282]}|{1, [ENSG00000164...|                      4.0|           CISAPRIDE|         null|[Cisapride, Cisap...|[Alimix, Prepulsi...|               1993|\n",
      "|          false|                null|                null|                null|Antibody drug wit...|      Antibody|           false|CHEMBL1743065|                null|     false|                null|{1, [ENSG00000187...|                      2.0|           ROLEDUMAB|         null|         [Roledumab]|                  []|               null|\n",
      "|           true|N#CC[C@H](C1CCCC1...|[CHEMBL1795071, C...|{[ruxolitinib%20p...|Small molecule dr...|Small molecule|           false|CHEMBL1789941|HFNKQEVNSGCOJV-OA...|      true|{70, [EFO_0003086...|{2, [ENSG00000162...|                      4.0|         RUXOLITINIB|         null|[INC-424, INC424,...|            [Jakavi]|               2011|\n",
      "+---------------+--------------------+--------------------+--------------------+--------------------+--------------+----------------+-------------+--------------------+----------+--------------------+--------------------+-------------------------+--------------------+-------------+--------------------+--------------------+-------------------+\n",
      "only showing top 20 rows\n",
      "\n"
     ]
    },
    {
     "name": "stderr",
     "output_type": "stream",
     "text": [
      "                                                                                \r"
     ]
    }
   ],
   "source": [
    "molecule.show()"
   ]
  },
  {
   "cell_type": "markdown",
   "metadata": {},
   "source": [
    "### For each unique drug find bioactivity data from chembl_33_activity"
   ]
  },
  {
   "cell_type": "code",
   "execution_count": 11,
   "metadata": {},
   "outputs": [
    {
     "name": "stderr",
     "output_type": "stream",
     "text": [
      "                                                                                \r"
     ]
    }
   ],
   "source": [
    "activity_path = \"gs://open-targets-pre-data-releases/chembl-columns/chembl-inputs/chembl_33_activity.jsonl\"\n",
    "activity = spark.read.json(activity_path)\n",
    "activity.persist()\n",
    "\n",
    "# List of columns from activity table\n",
    "list_activity = [\"assay_chembl_id\",\n",
    "                \"assay_type\",\n",
    "                \"action_type\",\n",
    "                \"pchembl_value\",\n",
    "                \"standard_type\",\n",
    "                \"standard_units\",\n",
    "                \"standard_value\",\n",
    "                \"standard_relation\",\n",
    "                \"target_organism\",\n",
    "                \"target_pref_name\",\n",
    "                \"target_chembl_id\",\n",
    "                \"data_validity_comment\",\n",
    "                \"data_validity_description\"]\n",
    "                # \"standard_flag\",\n",
    "                # \"ligand_efficiency\",\n",
    "                # \"assay_variant_mutation\"\n",
    "                # \"assay_variant_accession\"\n",
    "\n",
    "# Join list of drugs and chembl_33_activity\n",
    "drug_to_activity = join_dataframes(drug_list_phase, activity, \"drugId\", \"molecule_chembl_id\", list_activity)\\\n",
    "                                    .filter(col(\"assay_chembl_id\").isNotNull()).persist()\n",
    "\n",
    "# # Calculate for how many drugs and targets we have bioactivities\n",
    "# drug_list_count = count_unique_values(drug_list, 'drugId')\n",
    "# drug_to_activity_count = count_unique_values(drug_to_activity, 'drugId')\n",
    "# drug_to_activity_count_targets = count_unique_values(drug_to_activity, 'target_chembl_id')\n",
    "\n",
    "# print(\"Number of unique drugs from targets dataset: \", drug_list_count)\n",
    "# print(\"Number of unique drugs with any bioactivities: \", drug_to_activity_count)\n",
    "# print(\"Number of unique targets with any drug bioactivities: \", drug_to_activity_count_targets)"
   ]
  },
  {
   "cell_type": "markdown",
   "metadata": {},
   "source": [
    "### For each bioactivity assay find parameters from chembl_33_assay"
   ]
  },
  {
   "cell_type": "code",
   "execution_count": 12,
   "metadata": {},
   "outputs": [
    {
     "name": "stderr",
     "output_type": "stream",
     "text": [
      "24/01/23 17:04:00 WARN CacheManager: Asked to cache already cached data.        \n"
     ]
    }
   ],
   "source": [
    "assay_path = \"gs://open-targets-pre-data-releases/chembl-columns/chembl-inputs/chembl_33_assay.jsonl\"\n",
    "assay = spark.read.json(assay_path)\n",
    "assay.persist()\n",
    "\n",
    "# List of columns from assay table\n",
    "list_assay = [\"confidence_score\",\n",
    "            \"confidence_description\",\n",
    "            \"assay_category\"]\n",
    "\n",
    "drug_to_assay = join_dataframes(drug_to_activity, assay, \"assay_chembl_id\", \"assay_chembl_id\", list_assay).persist()"
   ]
  },
  {
   "cell_type": "markdown",
   "metadata": {},
   "source": [
    "## Assay filters"
   ]
  },
  {
   "cell_type": "code",
   "execution_count": 13,
   "metadata": {},
   "outputs": [],
   "source": [
    "# assay_type\n",
    "assay_type_filter = drug_to_assay.filter(\n",
    "    (col(\"assay_type\") != \"P\") &\n",
    "    (col(\"assay_type\") != \"U\"))\n",
    "# assay_type_d = count_unique_values(assay_type_filter, \"drugId\")\n",
    "# assay_type_t = count_unique_values(assay_type_filter, \"target_chembl_id\")\n",
    "\n",
    "# print(\"Unique drugs with bioactivities for non P and U assays:\", assay_type_d)\n",
    "# print(\"Unique targets with bioactivities for non P and U assays:\", assay_type_t)\n",
    "\n",
    "# confidence_score\n",
    "confidence_score_filter = assay_type_filter.filter(col(\"confidence_score\").isin([9, 7]))\n",
    "# confidence_score_d = count_unique_values(confidence_score_filter, \"drugId\")\n",
    "# confidence_score_t = count_unique_values(confidence_score_filter, \"target_chembl_id\")\n",
    "\n",
    "# print(\"Unique drugs with bioactivities for single/homolog proteins:\", confidence_score_d)\n",
    "# print(\"Unique targets with bioactivities for single/homolog proteins:\", confidence_score_t)\n",
    "\n",
    "# target_organism\n",
    "target_organism_filter = confidence_score_filter.filter(col(\"target_organism\") == \"Homo sapiens\")\n",
    "# target_organism_d = count_unique_values(target_organism_filter, \"drugId\")\n",
    "# target_organism_t = count_unique_values(target_organism_filter, \"target_chembl_id\")\n",
    "# drug_target_organism_t = target_organism_filter.count()\n",
    "\n",
    "# print(\"Unique drug-target pairs with bioactivities for human targets:\", drug_target_organism_t)\n",
    "\n",
    "# print(\"Unique drugs with bioactivities for human targets:\", target_organism_d)\n",
    "# print(\"Unique targets with bioactivities for human targets:\", target_organism_t)"
   ]
  },
  {
   "cell_type": "code",
   "execution_count": 14,
   "metadata": {},
   "outputs": [
    {
     "name": "stderr",
     "output_type": "stream",
     "text": [
      "                                                                                \r"
     ]
    },
    {
     "data": {
      "text/plain": [
       "18860"
      ]
     },
     "execution_count": 14,
     "metadata": {},
     "output_type": "execute_result"
    }
   ],
   "source": [
    "target_organism_filter.count()"
   ]
  },
  {
   "cell_type": "markdown",
   "metadata": {},
   "source": [
    "#### Adding related targets (to find tagrets within complexes in future)"
   ]
  },
  {
   "cell_type": "code",
   "execution_count": 15,
   "metadata": {},
   "outputs": [
    {
     "name": "stderr",
     "output_type": "stream",
     "text": [
      "24/01/23 17:04:23 WARN CacheManager: Asked to cache already cached data.\n"
     ]
    },
    {
     "name": "stdout",
     "output_type": "stream",
     "text": [
      "+-------------+--------------+-------------------------+----------+--------------------+--------------------+--------------------+---------------+----------+-----------+-------------+-------------+--------------+--------------+-----------------+---------------+--------------------+----------------+---------------------+-------------------------+----------------+----------------------+--------------+------------------------+\n",
      "|       drugId|      drugType|maximumClinicalTrialPhase|isApproved|       linkedTargets|      linkedDiseases|     crossReferences|assay_chembl_id|assay_type|action_type|pchembl_value|standard_type|standard_units|standard_value|standard_relation|target_organism|    target_pref_name|target_chembl_id|data_validity_comment|data_validity_description|confidence_score|confidence_description|assay_category|related_target_chembl_id|\n",
      "+-------------+--------------+-------------------------+----------+--------------------+--------------------+--------------------+---------------+----------+-----------+-------------+-------------+--------------+--------------+-----------------+---------------+--------------------+----------------+---------------------+-------------------------+----------------+----------------------+--------------+------------------------+\n",
      "| CHEMBL412262|Small molecule|                      2.0|     false|{1, [ENSG00000118...|{2, [MONDO_000514...|{null, null, null...|  CHEMBL1002988|         B|       null|         8.50|           Ki|            nM|         3.162|                =|   Homo sapiens|Cannabinoid CB1 r...|       CHEMBL218|                 null|                     null|               9|  Direct single pro...|          null|           CHEMBL2096981|\n",
      "| CHEMBL412262|Small molecule|                      2.0|     false|{1, [ENSG00000118...|{2, [MONDO_000514...|{null, null, null...|  CHEMBL1002988|         B|       null|         8.50|           Ki|            nM|         3.162|                =|   Homo sapiens|Cannabinoid CB1 r...|       CHEMBL218|                 null|                     null|               9|  Direct single pro...|          null|           CHEMBL3885538|\n",
      "| CHEMBL412262|Small molecule|                      2.0|     false|{1, [ENSG00000118...|{2, [MONDO_000514...|{null, null, null...|  CHEMBL1002988|         B|       null|         8.50|           Ki|            nM|         3.162|                =|   Homo sapiens|Cannabinoid CB1 r...|       CHEMBL218|                 null|                     null|               9|  Direct single pro...|          null|           CHEMBL3301387|\n",
      "|  CHEMBL17962|Small molecule|                      2.0|     false|                null|{3, [EFO_0000555,...|{null, null, [111...|  CHEMBL1008325|         B|       null|         null|         Kcat|        10'6/s|           4.3|                =|   Homo sapiens|Carbonic anhydras...|      CHEMBL3729|                 null|                     null|               9|  Direct single pro...|          null|           CHEMBL2095180|\n",
      "|  CHEMBL14762|Small molecule|                      2.0|     false|{5, [ENSG00000136...|{5, [MONDO_000906...|{null, null, [124...|  CHEMBL1051254|         B|       null|         null|           Kd|            nM|       10000.0|                >|   Homo sapiens|Protein kinase C ...|      CHEMBL3582|                 null|                     null|               9|  Direct single pro...|          null|           CHEMBL2093867|\n",
      "|  CHEMBL14762|Small molecule|                      2.0|     false|{5, [ENSG00000136...|{5, [MONDO_000906...|{null, null, [124...|  CHEMBL1051254|         B|       null|         null|           Kd|            nM|       10000.0|                >|   Homo sapiens|Protein kinase C ...|      CHEMBL3582|                 null|                     null|               9|  Direct single pro...|          null|           CHEMBL2096620|\n",
      "| CHEMBL483321|Small molecule|                      2.0|     false|{1, [ENSG00000141...|{3, [EFO_0003869,...|{null, null, [501...|  CHEMBL1063703|         B|       null|         null|           Kd|            nM|       10000.0|                >|   Homo sapiens|Casein kinase I i...|      CHEMBL5520|                 null|                     null|               9|  Direct single pro...|          null|                    null|\n",
      "| CHEMBL124660|Small molecule|                      2.0|     false|{3, [ENSG00000122...|{8, [EFO_1001465,...|{null, null, [103...|  CHEMBL1063703|         B|       null|         null|           Kd|            nM|       10000.0|                >|   Homo sapiens|Casein kinase I i...|      CHEMBL5520|                 null|                     null|               9|  Direct single pro...|          null|                    null|\n",
      "|   CHEMBL1421|Small molecule|                      4.0|      true|{15, [ENSG0000011...|{78, [EFO_0000768...|{[dasatinib], nul...|  CHEMBL1063703|         B|       null|         null|           Kd|            nM|       10000.0|                >|   Homo sapiens|Casein kinase I i...|      CHEMBL5520|                 null|                     null|               9|  Direct single pro...|          null|                    null|\n",
      "|  CHEMBL46516|Small molecule|                      4.0|      true|{1, [ENSG00000149...|{4, [EFO_0005230,...|{null, null, [104...|  CHEMBL1614310|         F|       null|         4.90|      Potency|            nM|       12589.3|                =|   Homo sapiens|        Prelamin-A/C|   CHEMBL1293235|                 null|                     null|               9|  Direct single pro...|  confirmatory|                    null|\n",
      "| CHEMBL207538|Small molecule|                      4.0|      true|{16, [ENSG0000002...|{9, [MONDO_000497...|{[brexanolone], n...|  CHEMBL1614310|         F|       null|         4.90|      Potency|            nM|       12589.3|                =|   Homo sapiens|        Prelamin-A/C|   CHEMBL1293235|                 null|                     null|               9|  Direct single pro...|  confirmatory|                    null|\n",
      "| CHEMBL413376|Small molecule|                      3.0|     false|{1, [ENSG00000113...|{15, [MONDO_00083...|{null, null, [111...|  CHEMBL1614310|         F|       null|         5.40|      Potency|            nM|        3981.1|                =|   Homo sapiens|        Prelamin-A/C|   CHEMBL1293235|                 null|                     null|               9|  Direct single pro...|  confirmatory|                    null|\n",
      "|    CHEMBL515|Small molecule|                      4.0|      true|                null|{12, [EFO_0004236...|{[chlorambucil], ...|  CHEMBL1614310|         F|       null|         4.80|      Potency|            nM|       15848.9|                =|   Homo sapiens|        Prelamin-A/C|   CHEMBL1293235|                 null|                     null|               9|  Direct single pro...|  confirmatory|                    null|\n",
      "|   CHEMBL1240|Small molecule|                      4.0|      true|{3, [ENSG00000168...|{2, [MONDO_000424...|{null, null, [144...|  CHEMBL1614310|         F|       null|         4.90|      Potency|            nM|       12589.3|                =|   Homo sapiens|        Prelamin-A/C|   CHEMBL1293235|                 null|                     null|               9|  Direct single pro...|  confirmatory|                    null|\n",
      "|   CHEMBL1480|Small molecule|                      4.0|      true|{5, [ENSG00000151...|{7, [EFO_0003914,...|{[felodipine], nu...|  CHEMBL1614310|         F|       null|         4.45|      Potency|            nM|       35481.3|                =|   Homo sapiens|        Prelamin-A/C|   CHEMBL1293235|                 null|                     null|               9|  Direct single pro...|  confirmatory|                    null|\n",
      "|CHEMBL1448187|Small molecule|                      4.0|      true|{1, [ENSG00000149...|  {1, [EFO_0001378]}|{[fluphenazine%20...|  CHEMBL1614310|         F|       null|         4.60|      Potency|            nM|       25118.9|                =|   Homo sapiens|        Prelamin-A/C|   CHEMBL1293235|                 null|                     null|               9|  Direct single pro...|  confirmatory|                    null|\n",
      "|  CHEMBL14762|Small molecule|                      2.0|     false|{5, [ENSG00000136...|{5, [MONDO_000906...|{null, null, [124...|  CHEMBL1767714|         B|       null|         null|   Inhibition|             %|           1.0|                =|   Homo sapiens|Casein kinase I a...|      CHEMBL2793|                 null|                     null|               9|  Direct single pro...|          null|           CHEMBL3038493|\n",
      "|  CHEMBL14762|Small molecule|                      2.0|     false|{5, [ENSG00000136...|{5, [MONDO_000906...|{null, null, [124...|  CHEMBL1767714|         B|       null|         null|   Inhibition|             %|           1.0|                =|   Homo sapiens|Casein kinase I a...|      CHEMBL2793|                 null|                     null|               9|  Direct single pro...|          null|           CHEMBL4523610|\n",
      "|  CHEMBL14762|Small molecule|                      2.0|     false|{5, [ENSG00000136...|{5, [MONDO_000906...|{null, null, [124...|  CHEMBL1767714|         B|       null|         null|   Inhibition|             %|           1.0|                =|   Homo sapiens|Casein kinase I a...|      CHEMBL2793|                 null|                     null|               9|  Direct single pro...|          null|           CHEMBL4296102|\n",
      "|  CHEMBL14762|Small molecule|                      2.0|     false|{5, [ENSG00000136...|{5, [MONDO_000906...|{null, null, [124...|  CHEMBL1767714|         B|       null|         null|   Inhibition|             %|           1.0|                =|   Homo sapiens|Casein kinase I a...|      CHEMBL2793|                 null|                     null|               9|  Direct single pro...|          null|           CHEMBL3885539|\n",
      "+-------------+--------------+-------------------------+----------+--------------------+--------------------+--------------------+---------------+----------+-----------+-------------+-------------+--------------+--------------+-----------------+---------------+--------------------+----------------+---------------------+-------------------------+----------------+----------------------+--------------+------------------------+\n",
      "only showing top 20 rows\n",
      "\n"
     ]
    }
   ],
   "source": [
    "target_relation_path = \"gs://open-targets-pre-data-releases/chembl-columns/chembl-inputs/chembl_33_target_relation.jsonl\"\n",
    "target_relation = spark.read.json(target_relation_path)\n",
    "target_relation.persist()\n",
    "# target_relation.show()\n",
    "\n",
    "list_target_relation = [\"related_target_chembl_id\"]\n",
    "\n",
    "target_relation_add = join_dataframes(target_organism_filter, target_relation, \"target_chembl_id\", \"target_chembl_id\", list_target_relation).persist()\n",
    "target_relation_add.show()\n",
    "# # Aggregate the data\n",
    "# aggregated_df = target_relation_add.groupBy('target_chembl_id').agg(\n",
    "#     collect_list('related_target_chembl_id').alias('related_target_chembl_id_aggr')\n",
    "# )\n",
    "\n",
    "# # Merge the Aggregated Data with target_organism_filter\n",
    "# target_with_relation = target_organism_filter.join(aggregated_df, on='target_chembl_id', how='left')\n",
    "# target_with_relation.show()\n",
    "# target_with_relation.count()"
   ]
  },
  {
   "cell_type": "code",
   "execution_count": 16,
   "metadata": {},
   "outputs": [],
   "source": [
    "# show_unique_values_and_counts(target_relation_add, \"relationship\")"
   ]
  },
  {
   "cell_type": "markdown",
   "metadata": {},
   "source": [
    "### Protein classification by uniprot from SwissProt"
   ]
  },
  {
   "cell_type": "code",
   "execution_count": 17,
   "metadata": {},
   "outputs": [
    {
     "name": "stderr",
     "output_type": "stream",
     "text": [
      "24/01/23 17:04:26 WARN package: Truncated the string representation of a plan since it was too large. This behavior can be adjusted by setting 'spark.sql.debug.maxToStringFields'.\n",
      "24/01/23 17:04:26 WARN CacheManager: Asked to cache already cached data.\n"
     ]
    }
   ],
   "source": [
    "# Map target_chembl_id to uniprots via accession\n",
    "\n",
    "target_path = \"gs://open-targets-pre-data-releases/chembl-columns/chembl-inputs/chembl_33_target.jsonl\"\n",
    "target = spark.read.json(target_path)\n",
    "target.persist()\n",
    "\n",
    "list_target = [\"target_components\",\n",
    "            \"target_type\"]\n",
    "\n",
    "target_to_uniprot = join_dataframes(target_relation_add, target, \"target_chembl_id\", \"target_chembl_id\", list_target).persist()\n",
    "\n",
    "# Explode target_components\n",
    "# Define a UDF to extract the 'accession' field\n",
    "def extract_accession(rows):\n",
    "    # Assuming you want to extract the 'accession' from the first Row object in the list\n",
    "    return rows[0].accession if rows else None\n",
    "\n",
    "# Register UDF\n",
    "extract_accession_udf = udf(extract_accession, StringType())\n",
    "\n",
    "# Apply UDF to create a new column with the 'accession' values\n",
    "target_to_uniprot_extr = target_to_uniprot.withColumn(\"accession\", extract_accession_udf(target_to_uniprot[\"target_components\"])).drop(\"target_components\")"
   ]
  },
  {
   "cell_type": "code",
   "execution_count": 18,
   "metadata": {},
   "outputs": [
    {
     "name": "stderr",
     "output_type": "stream",
     "text": [
      "[Stage 30:>                                                         (0 + 1) / 1]\r"
     ]
    },
    {
     "name": "stdout",
     "output_type": "stream",
     "text": [
      "+-------------+--------------+-------------------------+----------+--------------------+--------------------+--------------------+---------------+----------+-----------+-------------+-------------+--------------+--------------+-----------------+---------------+--------------------+----------------+---------------------+-------------------------+----------------+----------------------+--------------+------------------------+--------------+---------+\n",
      "|       drugId|      drugType|maximumClinicalTrialPhase|isApproved|       linkedTargets|      linkedDiseases|     crossReferences|assay_chembl_id|assay_type|action_type|pchembl_value|standard_type|standard_units|standard_value|standard_relation|target_organism|    target_pref_name|target_chembl_id|data_validity_comment|data_validity_description|confidence_score|confidence_description|assay_category|related_target_chembl_id|   target_type|accession|\n",
      "+-------------+--------------+-------------------------+----------+--------------------+--------------------+--------------------+---------------+----------+-----------+-------------+-------------+--------------+--------------+-----------------+---------------+--------------------+----------------+---------------------+-------------------------+----------------+----------------------+--------------+------------------------+--------------+---------+\n",
      "| CHEMBL412262|Small molecule|                      2.0|     false|{1, [ENSG00000118...|{2, [MONDO_000514...|{null, null, null...|  CHEMBL1002988|         B|       null|         8.50|           Ki|            nM|         3.162|                =|   Homo sapiens|Cannabinoid CB1 r...|       CHEMBL218|                 null|                     null|               9|  Direct single pro...|          null|           CHEMBL2096981|SINGLE PROTEIN|   P21554|\n",
      "| CHEMBL412262|Small molecule|                      2.0|     false|{1, [ENSG00000118...|{2, [MONDO_000514...|{null, null, null...|  CHEMBL1002988|         B|       null|         8.50|           Ki|            nM|         3.162|                =|   Homo sapiens|Cannabinoid CB1 r...|       CHEMBL218|                 null|                     null|               9|  Direct single pro...|          null|           CHEMBL3885538|SINGLE PROTEIN|   P21554|\n",
      "| CHEMBL412262|Small molecule|                      2.0|     false|{1, [ENSG00000118...|{2, [MONDO_000514...|{null, null, null...|  CHEMBL1002988|         B|       null|         8.50|           Ki|            nM|         3.162|                =|   Homo sapiens|Cannabinoid CB1 r...|       CHEMBL218|                 null|                     null|               9|  Direct single pro...|          null|           CHEMBL3301387|SINGLE PROTEIN|   P21554|\n",
      "|  CHEMBL17962|Small molecule|                      2.0|     false|                null|{3, [EFO_0000555,...|{null, null, [111...|  CHEMBL1008325|         B|       null|         null|         Kcat|        10'6/s|           4.3|                =|   Homo sapiens|Carbonic anhydras...|      CHEMBL3729|                 null|                     null|               9|  Direct single pro...|          null|           CHEMBL2095180|SINGLE PROTEIN|   P22748|\n",
      "|  CHEMBL14762|Small molecule|                      2.0|     false|{5, [ENSG00000136...|{5, [MONDO_000906...|{null, null, [124...|  CHEMBL1051254|         B|       null|         null|           Kd|            nM|       10000.0|                >|   Homo sapiens|Protein kinase C ...|      CHEMBL3582|                 null|                     null|               9|  Direct single pro...|          null|           CHEMBL2093867|SINGLE PROTEIN|   Q02156|\n",
      "|  CHEMBL14762|Small molecule|                      2.0|     false|{5, [ENSG00000136...|{5, [MONDO_000906...|{null, null, [124...|  CHEMBL1051254|         B|       null|         null|           Kd|            nM|       10000.0|                >|   Homo sapiens|Protein kinase C ...|      CHEMBL3582|                 null|                     null|               9|  Direct single pro...|          null|           CHEMBL2096620|SINGLE PROTEIN|   Q02156|\n",
      "| CHEMBL483321|Small molecule|                      2.0|     false|{1, [ENSG00000141...|{3, [EFO_0003869,...|{null, null, [501...|  CHEMBL1063703|         B|       null|         null|           Kd|            nM|       10000.0|                >|   Homo sapiens|Casein kinase I i...|      CHEMBL5520|                 null|                     null|               9|  Direct single pro...|          null|                    null|SINGLE PROTEIN|   Q8N752|\n",
      "| CHEMBL124660|Small molecule|                      2.0|     false|{3, [ENSG00000122...|{8, [EFO_1001465,...|{null, null, [103...|  CHEMBL1063703|         B|       null|         null|           Kd|            nM|       10000.0|                >|   Homo sapiens|Casein kinase I i...|      CHEMBL5520|                 null|                     null|               9|  Direct single pro...|          null|                    null|SINGLE PROTEIN|   Q8N752|\n",
      "|   CHEMBL1421|Small molecule|                      4.0|      true|{15, [ENSG0000011...|{78, [EFO_0000768...|{[dasatinib], nul...|  CHEMBL1063703|         B|       null|         null|           Kd|            nM|       10000.0|                >|   Homo sapiens|Casein kinase I i...|      CHEMBL5520|                 null|                     null|               9|  Direct single pro...|          null|                    null|SINGLE PROTEIN|   Q8N752|\n",
      "|  CHEMBL46516|Small molecule|                      4.0|      true|{1, [ENSG00000149...|{4, [EFO_0005230,...|{null, null, [104...|  CHEMBL1614310|         F|       null|         4.90|      Potency|            nM|       12589.3|                =|   Homo sapiens|        Prelamin-A/C|   CHEMBL1293235|                 null|                     null|               9|  Direct single pro...|  confirmatory|                    null|SINGLE PROTEIN|   P02545|\n",
      "| CHEMBL207538|Small molecule|                      4.0|      true|{16, [ENSG0000002...|{9, [MONDO_000497...|{[brexanolone], n...|  CHEMBL1614310|         F|       null|         4.90|      Potency|            nM|       12589.3|                =|   Homo sapiens|        Prelamin-A/C|   CHEMBL1293235|                 null|                     null|               9|  Direct single pro...|  confirmatory|                    null|SINGLE PROTEIN|   P02545|\n",
      "| CHEMBL413376|Small molecule|                      3.0|     false|{1, [ENSG00000113...|{15, [MONDO_00083...|{null, null, [111...|  CHEMBL1614310|         F|       null|         5.40|      Potency|            nM|        3981.1|                =|   Homo sapiens|        Prelamin-A/C|   CHEMBL1293235|                 null|                     null|               9|  Direct single pro...|  confirmatory|                    null|SINGLE PROTEIN|   P02545|\n",
      "|    CHEMBL515|Small molecule|                      4.0|      true|                null|{12, [EFO_0004236...|{[chlorambucil], ...|  CHEMBL1614310|         F|       null|         4.80|      Potency|            nM|       15848.9|                =|   Homo sapiens|        Prelamin-A/C|   CHEMBL1293235|                 null|                     null|               9|  Direct single pro...|  confirmatory|                    null|SINGLE PROTEIN|   P02545|\n",
      "|   CHEMBL1240|Small molecule|                      4.0|      true|{3, [ENSG00000168...|{2, [MONDO_000424...|{null, null, [144...|  CHEMBL1614310|         F|       null|         4.90|      Potency|            nM|       12589.3|                =|   Homo sapiens|        Prelamin-A/C|   CHEMBL1293235|                 null|                     null|               9|  Direct single pro...|  confirmatory|                    null|SINGLE PROTEIN|   P02545|\n",
      "|   CHEMBL1480|Small molecule|                      4.0|      true|{5, [ENSG00000151...|{7, [EFO_0003914,...|{[felodipine], nu...|  CHEMBL1614310|         F|       null|         4.45|      Potency|            nM|       35481.3|                =|   Homo sapiens|        Prelamin-A/C|   CHEMBL1293235|                 null|                     null|               9|  Direct single pro...|  confirmatory|                    null|SINGLE PROTEIN|   P02545|\n",
      "|CHEMBL1448187|Small molecule|                      4.0|      true|{1, [ENSG00000149...|  {1, [EFO_0001378]}|{[fluphenazine%20...|  CHEMBL1614310|         F|       null|         4.60|      Potency|            nM|       25118.9|                =|   Homo sapiens|        Prelamin-A/C|   CHEMBL1293235|                 null|                     null|               9|  Direct single pro...|  confirmatory|                    null|SINGLE PROTEIN|   P02545|\n",
      "|  CHEMBL14762|Small molecule|                      2.0|     false|{5, [ENSG00000136...|{5, [MONDO_000906...|{null, null, [124...|  CHEMBL1767714|         B|       null|         null|   Inhibition|             %|           1.0|                =|   Homo sapiens|Casein kinase I a...|      CHEMBL2793|                 null|                     null|               9|  Direct single pro...|          null|           CHEMBL3038493|SINGLE PROTEIN|   P48729|\n",
      "|  CHEMBL14762|Small molecule|                      2.0|     false|{5, [ENSG00000136...|{5, [MONDO_000906...|{null, null, [124...|  CHEMBL1767714|         B|       null|         null|   Inhibition|             %|           1.0|                =|   Homo sapiens|Casein kinase I a...|      CHEMBL2793|                 null|                     null|               9|  Direct single pro...|          null|           CHEMBL4523610|SINGLE PROTEIN|   P48729|\n",
      "|  CHEMBL14762|Small molecule|                      2.0|     false|{5, [ENSG00000136...|{5, [MONDO_000906...|{null, null, [124...|  CHEMBL1767714|         B|       null|         null|   Inhibition|             %|           1.0|                =|   Homo sapiens|Casein kinase I a...|      CHEMBL2793|                 null|                     null|               9|  Direct single pro...|          null|           CHEMBL4296102|SINGLE PROTEIN|   P48729|\n",
      "|  CHEMBL14762|Small molecule|                      2.0|     false|{5, [ENSG00000136...|{5, [MONDO_000906...|{null, null, [124...|  CHEMBL1767714|         B|       null|         null|   Inhibition|             %|           1.0|                =|   Homo sapiens|Casein kinase I a...|      CHEMBL2793|                 null|                     null|               9|  Direct single pro...|          null|           CHEMBL3885539|SINGLE PROTEIN|   P48729|\n",
      "+-------------+--------------+-------------------------+----------+--------------------+--------------------+--------------------+---------------+----------+-----------+-------------+-------------+--------------+--------------+-----------------+---------------+--------------------+----------------+---------------------+-------------------------+----------------+----------------------+--------------+------------------------+--------------+---------+\n",
      "only showing top 20 rows\n",
      "\n"
     ]
    },
    {
     "name": "stderr",
     "output_type": "stream",
     "text": [
      "                                                                                \r"
     ]
    }
   ],
   "source": [
    "target_to_uniprot_extr.show()"
   ]
  },
  {
   "cell_type": "code",
   "execution_count": 19,
   "metadata": {},
   "outputs": [
    {
     "name": "stderr",
     "output_type": "stream",
     "text": [
      "24/01/23 17:04:30 WARN CacheManager: Asked to cache already cached data.\n"
     ]
    },
    {
     "name": "stdout",
     "output_type": "stream",
     "text": [
      "+-------------+--------------+-------------------------+----------+--------------------+--------------------+--------------------+---------------+----------+-----------+-------------+-------------+--------------+--------------+-----------------+---------------+--------------------+----------------+---------------------+-------------------------+----------------+----------------------+--------------+------------------------+--------------+---------+-----------------+\n",
      "|       drugId|      drugType|maximumClinicalTrialPhase|isApproved|       linkedTargets|      linkedDiseases|     crossReferences|assay_chembl_id|assay_type|action_type|pchembl_value|standard_type|standard_units|standard_value|standard_relation|target_organism|    target_pref_name|target_chembl_id|data_validity_comment|data_validity_description|confidence_score|confidence_description|assay_category|related_target_chembl_id|   target_type|accession|accession_related|\n",
      "+-------------+--------------+-------------------------+----------+--------------------+--------------------+--------------------+---------------+----------+-----------+-------------+-------------+--------------+--------------+-----------------+---------------+--------------------+----------------+---------------------+-------------------------+----------------+----------------------+--------------+------------------------+--------------+---------+-----------------+\n",
      "| CHEMBL412262|Small molecule|                      2.0|     false|{1, [ENSG00000118...|{2, [MONDO_000514...|{null, null, null...|  CHEMBL1002988|         B|       null|         8.50|           Ki|            nM|         3.162|                =|   Homo sapiens|Cannabinoid CB1 r...|       CHEMBL218|                 null|                     null|               9|  Direct single pro...|          null|           CHEMBL2096981|SINGLE PROTEIN|   P21554|           P34972|\n",
      "| CHEMBL412262|Small molecule|                      2.0|     false|{1, [ENSG00000118...|{2, [MONDO_000514...|{null, null, null...|  CHEMBL1002988|         B|       null|         8.50|           Ki|            nM|         3.162|                =|   Homo sapiens|Cannabinoid CB1 r...|       CHEMBL218|                 null|                     null|               9|  Direct single pro...|          null|           CHEMBL3885538|SINGLE PROTEIN|   P21554|           P21554|\n",
      "| CHEMBL412262|Small molecule|                      2.0|     false|{1, [ENSG00000118...|{2, [MONDO_000514...|{null, null, null...|  CHEMBL1002988|         B|       null|         8.50|           Ki|            nM|         3.162|                =|   Homo sapiens|Cannabinoid CB1 r...|       CHEMBL218|                 null|                     null|               9|  Direct single pro...|          null|           CHEMBL3301387|SINGLE PROTEIN|   P21554|           P21554|\n",
      "|  CHEMBL17962|Small molecule|                      2.0|     false|                null|{3, [EFO_0000555,...|{null, null, [111...|  CHEMBL1008325|         B|       null|         null|         Kcat|        10'6/s|           4.3|                =|   Homo sapiens|Carbonic anhydras...|      CHEMBL3729|                 null|                     null|               9|  Direct single pro...|          null|           CHEMBL2095180|SINGLE PROTEIN|   P22748|           P00918|\n",
      "|  CHEMBL14762|Small molecule|                      2.0|     false|{5, [ENSG00000136...|{5, [MONDO_000906...|{null, null, [124...|  CHEMBL1051254|         B|       null|         null|           Kd|            nM|       10000.0|                >|   Homo sapiens|Protein kinase C ...|      CHEMBL3582|                 null|                     null|               9|  Direct single pro...|          null|           CHEMBL2093867|SINGLE PROTEIN|   Q02156|           O94806|\n",
      "|  CHEMBL14762|Small molecule|                      2.0|     false|{5, [ENSG00000136...|{5, [MONDO_000906...|{null, null, [124...|  CHEMBL1051254|         B|       null|         null|           Kd|            nM|       10000.0|                >|   Homo sapiens|Protein kinase C ...|      CHEMBL3582|                 null|                     null|               9|  Direct single pro...|          null|           CHEMBL2096620|SINGLE PROTEIN|   Q02156|           O94806|\n",
      "| CHEMBL483321|Small molecule|                      2.0|     false|{1, [ENSG00000141...|{3, [EFO_0003869,...|{null, null, [501...|  CHEMBL1063703|         B|       null|         null|           Kd|            nM|       10000.0|                >|   Homo sapiens|Casein kinase I i...|      CHEMBL5520|                 null|                     null|               9|  Direct single pro...|          null|                    null|SINGLE PROTEIN|   Q8N752|             null|\n",
      "| CHEMBL124660|Small molecule|                      2.0|     false|{3, [ENSG00000122...|{8, [EFO_1001465,...|{null, null, [103...|  CHEMBL1063703|         B|       null|         null|           Kd|            nM|       10000.0|                >|   Homo sapiens|Casein kinase I i...|      CHEMBL5520|                 null|                     null|               9|  Direct single pro...|          null|                    null|SINGLE PROTEIN|   Q8N752|             null|\n",
      "|   CHEMBL1421|Small molecule|                      4.0|      true|{15, [ENSG0000011...|{78, [EFO_0000768...|{[dasatinib], nul...|  CHEMBL1063703|         B|       null|         null|           Kd|            nM|       10000.0|                >|   Homo sapiens|Casein kinase I i...|      CHEMBL5520|                 null|                     null|               9|  Direct single pro...|          null|                    null|SINGLE PROTEIN|   Q8N752|             null|\n",
      "|  CHEMBL46516|Small molecule|                      4.0|      true|{1, [ENSG00000149...|{4, [EFO_0005230,...|{null, null, [104...|  CHEMBL1614310|         F|       null|         4.90|      Potency|            nM|       12589.3|                =|   Homo sapiens|        Prelamin-A/C|   CHEMBL1293235|                 null|                     null|               9|  Direct single pro...|  confirmatory|                    null|SINGLE PROTEIN|   P02545|             null|\n",
      "| CHEMBL207538|Small molecule|                      4.0|      true|{16, [ENSG0000002...|{9, [MONDO_000497...|{[brexanolone], n...|  CHEMBL1614310|         F|       null|         4.90|      Potency|            nM|       12589.3|                =|   Homo sapiens|        Prelamin-A/C|   CHEMBL1293235|                 null|                     null|               9|  Direct single pro...|  confirmatory|                    null|SINGLE PROTEIN|   P02545|             null|\n",
      "| CHEMBL413376|Small molecule|                      3.0|     false|{1, [ENSG00000113...|{15, [MONDO_00083...|{null, null, [111...|  CHEMBL1614310|         F|       null|         5.40|      Potency|            nM|        3981.1|                =|   Homo sapiens|        Prelamin-A/C|   CHEMBL1293235|                 null|                     null|               9|  Direct single pro...|  confirmatory|                    null|SINGLE PROTEIN|   P02545|             null|\n",
      "|    CHEMBL515|Small molecule|                      4.0|      true|                null|{12, [EFO_0004236...|{[chlorambucil], ...|  CHEMBL1614310|         F|       null|         4.80|      Potency|            nM|       15848.9|                =|   Homo sapiens|        Prelamin-A/C|   CHEMBL1293235|                 null|                     null|               9|  Direct single pro...|  confirmatory|                    null|SINGLE PROTEIN|   P02545|             null|\n",
      "|   CHEMBL1240|Small molecule|                      4.0|      true|{3, [ENSG00000168...|{2, [MONDO_000424...|{null, null, [144...|  CHEMBL1614310|         F|       null|         4.90|      Potency|            nM|       12589.3|                =|   Homo sapiens|        Prelamin-A/C|   CHEMBL1293235|                 null|                     null|               9|  Direct single pro...|  confirmatory|                    null|SINGLE PROTEIN|   P02545|             null|\n",
      "|   CHEMBL1480|Small molecule|                      4.0|      true|{5, [ENSG00000151...|{7, [EFO_0003914,...|{[felodipine], nu...|  CHEMBL1614310|         F|       null|         4.45|      Potency|            nM|       35481.3|                =|   Homo sapiens|        Prelamin-A/C|   CHEMBL1293235|                 null|                     null|               9|  Direct single pro...|  confirmatory|                    null|SINGLE PROTEIN|   P02545|             null|\n",
      "|CHEMBL1448187|Small molecule|                      4.0|      true|{1, [ENSG00000149...|  {1, [EFO_0001378]}|{[fluphenazine%20...|  CHEMBL1614310|         F|       null|         4.60|      Potency|            nM|       25118.9|                =|   Homo sapiens|        Prelamin-A/C|   CHEMBL1293235|                 null|                     null|               9|  Direct single pro...|  confirmatory|                    null|SINGLE PROTEIN|   P02545|             null|\n",
      "|  CHEMBL14762|Small molecule|                      2.0|     false|{5, [ENSG00000136...|{5, [MONDO_000906...|{null, null, [124...|  CHEMBL1767714|         B|       null|         null|   Inhibition|             %|           1.0|                =|   Homo sapiens|Casein kinase I a...|      CHEMBL2793|                 null|                     null|               9|  Direct single pro...|          null|           CHEMBL3038493|SINGLE PROTEIN|   P48729|           Q00987|\n",
      "|  CHEMBL14762|Small molecule|                      2.0|     false|{5, [ENSG00000136...|{5, [MONDO_000906...|{null, null, [124...|  CHEMBL1767714|         B|       null|         null|   Inhibition|             %|           1.0|                =|   Homo sapiens|Casein kinase I a...|      CHEMBL2793|                 null|                     null|               9|  Direct single pro...|          null|           CHEMBL4523610|SINGLE PROTEIN|   P48729|           P48730|\n",
      "|  CHEMBL14762|Small molecule|                      2.0|     false|{5, [ENSG00000136...|{5, [MONDO_000906...|{null, null, [124...|  CHEMBL1767714|         B|       null|         null|   Inhibition|             %|           1.0|                =|   Homo sapiens|Casein kinase I a...|      CHEMBL2793|                 null|                     null|               9|  Direct single pro...|          null|           CHEMBL4296102|SINGLE PROTEIN|   P48729|           P48729|\n",
      "|  CHEMBL14762|Small molecule|                      2.0|     false|{5, [ENSG00000136...|{5, [MONDO_000906...|{null, null, [124...|  CHEMBL1767714|         B|       null|         null|   Inhibition|             %|           1.0|                =|   Homo sapiens|Casein kinase I a...|      CHEMBL2793|                 null|                     null|               9|  Direct single pro...|          null|           CHEMBL3885539|SINGLE PROTEIN|   P48729|           P67870|\n",
      "+-------------+--------------+-------------------------+----------+--------------------+--------------------+--------------------+---------------+----------+-----------+-------------+-------------+--------------+--------------+-----------------+---------------+--------------------+----------------+---------------------+-------------------------+----------------+----------------------+--------------+------------------------+--------------+---------+-----------------+\n",
      "only showing top 20 rows\n",
      "\n"
     ]
    }
   ],
   "source": [
    "# Make the same but for related targets\n",
    "list_target_2 = [\"target_components\"]\n",
    "\n",
    "target_to_uniprot_extr_related = join_dataframes(target_to_uniprot_extr, target, \"related_target_chembl_id\", \"target_chembl_id\", list_target_2).persist()\n",
    "\n",
    "# Apply UDF to create a new column with the 'accession' values\n",
    "related_extr = target_to_uniprot_extr_related.withColumn(\"accession_related\", extract_accession_udf(target_to_uniprot_extr_related[\"target_components\"])).drop(\"target_components\")\n",
    "related_extr.show()"
   ]
  },
  {
   "cell_type": "code",
   "execution_count": 20,
   "metadata": {},
   "outputs": [],
   "source": [
    "# target_to_uniprot_extr_related.columns"
   ]
  },
  {
   "cell_type": "code",
   "execution_count": 21,
   "metadata": {},
   "outputs": [
    {
     "name": "stderr",
     "output_type": "stream",
     "text": [
      "                                                                                \r"
     ]
    },
    {
     "name": "stdout",
     "output_type": "stream",
     "text": [
      "+----------------+-------------+--------------+-------------------------+----------+--------------------+--------------------+--------------------+---------------+----------+-----------+-------------+-------------+--------------+--------------+-----------------+---------------+--------------------+---------------------+-------------------------+----------------+----------------------+--------------+--------------+---------+-----------------------------+----------------------+\n",
      "|target_chembl_id|       drugId|      drugType|maximumClinicalTrialPhase|isApproved|       linkedTargets|      linkedDiseases|     crossReferences|assay_chembl_id|assay_type|action_type|pchembl_value|standard_type|standard_units|standard_value|standard_relation|target_organism|    target_pref_name|data_validity_comment|data_validity_description|confidence_score|confidence_description|assay_category|   target_type|accession|related_target_chembl_id_aggr|accession_related_aggr|\n",
      "+----------------+-------------+--------------+-------------------------+----------+--------------------+--------------------+--------------------+---------------+----------+-----------+-------------+-------------+--------------+--------------+-----------------+---------------+--------------------+---------------------+-------------------------+----------------+----------------------+--------------+--------------+---------+-----------------------------+----------------------+\n",
      "|   CHEMBL2007625|CHEMBL4279047|Small molecule|                      3.0|     false|{2, [ENSG00000138...|{2, [EFO_0000272,...|                null|  CHEMBL4309378|         B|       null|        10.40|         IC50|            nM|          0.04|                =|   Homo sapiens|Isocitrate dehydr...|                 null|                     null|               9|  Direct single pro...|          null|SINGLE PROTEIN|   O75874|              [CHEMBL4523659]|              [O75874]|\n",
      "|      CHEMBL4302|    CHEMBL584|Small molecule|                      4.0|      true|             {0, []}|{29, [EFO_0003060...|{[nelfinavir%20me...|  CHEMBL4403306|         B|       null|         5.70|         IC50|            nM|        2000.0|                =|   Homo sapiens|    P-glycoprotein 1|                 null|                     null|               9|  Direct single pro...|          null|SINGLE PROTEIN|   P08183|              [CHEMBL3430875]|              [P33527]|\n",
      "|       CHEMBL258|CHEMBL3936761|Small molecule|                      4.0|      true|{1, [ENSG00000010...|{17, [MONDO_00155...|{[zanubrutinib], ...|  CHEMBL4414923|         A|       null|         6.73|         IC50|            nM|         187.0|                =|   Homo sapiens|Tyrosine-protein ...|                 null|                     null|               9|  Direct single pro...|          null|SINGLE PROTEIN|   P06239|         [CHEMBL4523727, C...|  [P06241, P12931, ...|\n",
      "|      CHEMBL2208| CHEMBL103667|Small molecule|                      2.0|     false|{1, [ENSG00000112...|{2, [EFO_0000685,...|{null, null, [103...|  CHEMBL1013121|         B|       null|         null|   Inhibition|             %|          28.0|                =|   Homo sapiens|MAP kinase-activa...|                 null|                     null|               9|  Direct single pro...|          null|SINGLE PROTEIN|   P49137|                           []|                    []|\n",
      "|   CHEMBL3085620|CHEMBL1232461|Small molecule|                      2.0|     false|{4, [ENSG00000204...|{2, [EFO_0000616,...|                null|  CHEMBL4332485|         B|       null|         null|     Delta Tm|     degrees C|           0.2|                =|   Homo sapiens|Transcription act...|                 null|                     null|               9|  Direct single pro...|          null|SINGLE PROTEIN|   P51532|              [CHEMBL4748227]|              [P51532]|\n",
      "|      CHEMBL3524|CHEMBL3086767|Small molecule|                     null|      null|                null|                null|                null|  CHEMBL3088532|         B|       null|         null|   Inhibition|             %|          null|             null|   Homo sapiens|Histone deacetyla...|                 null|                     null|               9|  Direct single pro...|          null|SINGLE PROTEIN|   P56524|         [CHEMBL2093865, C...|      [P56524, Q13547]|\n",
      "|      CHEMBL3524|CHEMBL3086768|Small molecule|                     null|      null|                null|                null|                null|  CHEMBL3088532|         B|       null|         null|   Inhibition|             %|          null|             null|   Homo sapiens|Histone deacetyla...|                 null|                     null|               9|  Direct single pro...|          null|SINGLE PROTEIN|   P56524|         [CHEMBL2093865, C...|      [P56524, Q13547]|\n",
      "|      CHEMBL4302| CHEMBL206031|Small molecule|                      2.0|     false|             {0, []}|{2, [EFO_0000764,...|{null, null, null...|   CHEMBL955890|         B|       null|         null|     Activity|          null|          null|             null|   Homo sapiens|    P-glycoprotein 1|                 null|                     null|               9|  Direct single pro...|          null|SINGLE PROTEIN|   P08183|              [CHEMBL3430875]|              [P33527]|\n",
      "|      CHEMBL4302|    CHEMBL116|Small molecule|                      4.0|      true|             {0, []}|{3, [EFO_0000765,...|{null, null, null...|   CHEMBL955890|         B|       null|         null|         IC50|            nM|      100000.0|                >|   Homo sapiens|    P-glycoprotein 1|                 null|                     null|               9|  Direct single pro...|          null|SINGLE PROTEIN|   P08183|              [CHEMBL3430875]|              [P33527]|\n",
      "|      CHEMBL4302|    CHEMBL584|Small molecule|                      4.0|      true|             {0, []}|{29, [EFO_0003060...|{[nelfinavir%20me...|   CHEMBL955890|         B|       null|         null|     Activity|          null|          null|             null|   Homo sapiens|    P-glycoprotein 1|                 null|                     null|               9|  Direct single pro...|          null|SINGLE PROTEIN|   P08183|              [CHEMBL3430875]|              [P33527]|\n",
      "|      CHEMBL4302|    CHEMBL163|Small molecule|                      4.0|      true|{4, [ENSG00000160...|{33, [EFO_0000558...|{[ritonavir], nul...|   CHEMBL955890|         B|       null|         4.40|         IC50|            nM|       39600.0|                =|   Homo sapiens|    P-glycoprotein 1|                 null|                     null|               9|  Direct single pro...|          null|SINGLE PROTEIN|   P08183|              [CHEMBL3430875]|              [P33527]|\n",
      "|      CHEMBL4302|    CHEMBL114|Small molecule|                      4.0|      true|             {0, []}|{8, [EFO_0000764,...|{[saquinavir%20me...|   CHEMBL955890|         B|       null|         4.00|         IC50|            nM|      100000.0|                =|   Homo sapiens|    P-glycoprotein 1|                 null|                     null|               9|  Direct single pro...|          null|SINGLE PROTEIN|   P08183|              [CHEMBL3430875]|              [P33527]|\n",
      "|      CHEMBL4308|CHEMBL2087421|Small molecule|                     null|      null|                null|                null|                null|  CHEMBL2092264|         B|       null|         8.80|           Ki|            nM|           1.6|                =|   Homo sapiens|Bradykinin B1 rec...|                 null|                     null|               9|  Direct single pro...|          null|SINGLE PROTEIN|   P46663|                           []|                    []|\n",
      "|      CHEMBL2179| CHEMBL206468|Small molecule|                      2.0|     false|{1, [ENSG00000177...|{1, [MONDO_0018150]}|{null, null, [852...|  CHEMBL1614232|         F|       null|         6.20|      Potency|            nM|         631.0|                =|   Homo sapiens|Beta-glucocerebro...|                 null|                     null|               9|  Direct single pro...|  confirmatory|SINGLE PROTEIN|   P04062|              [CHEMBL4106172]|              [P04062]|\n",
      "|       CHEMBL289|CHEMBL3628113|Small molecule|                     null|      null|                null|                null|                null|  CHEMBL3631348|         A|       null|         null|         IC50|            nM|       30000.0|                >|   Homo sapiens| Cytochrome P450 2D6|                 null|                     null|               9|  Direct single pro...|          null|SINGLE PROTEIN|   P10635|              [CHEMBL4523986]|              [P08684]|\n",
      "|      CHEMBL3979| CHEMBL264374|Small molecule|                      4.0|      true|{3, [ENSG00000132...|{8, [MONDO_000514...|{null, null, [111...|  CHEMBL2341203|         B|       null|         null|           FC|          null|          12.0|                =|   Homo sapiens|Peroxisome prolif...|                 null|                     null|               9|  Direct single pro...|          null|SINGLE PROTEIN|   Q03181|         [CHEMBL2111371, C...|              [P37231]|\n",
      "|      CHEMBL5393|     CHEMBL50|Small molecule|                      3.0|     false|                null|{17, [EFO_1000654...|{null, null, [111...|  CHEMBL3813117|         B|       null|         null|     Activity|          null|          null|             null|   Homo sapiens|ATP-binding casse...|                 null|                     null|               9|  Direct single pro...|          null|SINGLE PROTEIN|   Q9UNQ0|                           []|                    []|\n",
      "|      CHEMBL5393| CHEMBL488910|Small molecule|                     null|      null|                null|                null|                null|  CHEMBL3813117|         B|       null|         null|     Activity|          null|          null|             null|   Homo sapiens|ATP-binding casse...|                 null|                     null|               9|  Direct single pro...|          null|SINGLE PROTEIN|   Q9UNQ0|                           []|                    []|\n",
      "|      CHEMBL3524|CHEMBL2105763|Small molecule|                      2.0|     false|{11, [ENSG0000011...|{3, [EFO_0002913,...|{null, null, null...|  CHEMBL3598916|         B|       null|         9.52|           Ki|            nM|           0.3|                =|   Homo sapiens|Histone deacetyla...|                 null|                     null|               9|  Direct single pro...|          null|SINGLE PROTEIN|   P56524|         [CHEMBL2093865, C...|      [P56524, Q13547]|\n",
      "|   CHEMBL1743124|    CHEMBL704|Small molecule|                      4.0|      true|{4, [ENSG00000132...|{17, [EFO_0005628...|{[mesalamine], nu...|  CHEMBL3540654|         A|       null|         null|           Km|            nM|      188900.0|                =|   Homo sapiens|Solute carrier or...|                 null|                     null|               9|  Direct single pro...|          null|SINGLE PROTEIN|   O94956|                           []|                    []|\n",
      "+----------------+-------------+--------------+-------------------------+----------+--------------------+--------------------+--------------------+---------------+----------+-----------+-------------+-------------+--------------+--------------+-----------------+---------------+--------------------+---------------------+-------------------------+----------------+----------------------+--------------+--------------+---------+-----------------------------+----------------------+\n",
      "only showing top 20 rows\n",
      "\n"
     ]
    },
    {
     "name": "stderr",
     "output_type": "stream",
     "text": [
      "                                                                                \r"
     ]
    },
    {
     "data": {
      "text/plain": [
       "18847"
      ]
     },
     "execution_count": 21,
     "metadata": {},
     "output_type": "execute_result"
    }
   ],
   "source": [
    "# Define a UDF to remove duplicates from a list\n",
    "def remove_duplicates(lst):\n",
    "    return list(set(lst))\n",
    "\n",
    "remove_duplicates_udf = udf(remove_duplicates, ArrayType(StringType()))\n",
    "\n",
    "# Aggregate the data\n",
    "aggregated_df = related_extr.groupBy('target_chembl_id').agg(\n",
    "    collect_list('related_target_chembl_id').alias('related_target_chembl_id_aggr'),\n",
    "    collect_list('accession_related').alias('accession_related_aggr')\n",
    ")\n",
    "\n",
    "aggregated_df = aggregated_df\\\n",
    "    .withColumn('related_target_chembl_id_aggr', remove_duplicates_udf(col('related_target_chembl_id_aggr')))\\\n",
    "    .withColumn('accession_related_aggr', remove_duplicates_udf(col('accession_related_aggr')))\n",
    "\n",
    "# Merge the Aggregated Data with target_organism_filter\n",
    "targets_with_relation = related_extr\\\n",
    "    .drop(\"related_target_chembl_id\", \"accession_related\")\\\n",
    "    .join(aggregated_df, on='target_chembl_id', how='left')\\\n",
    "    .dropDuplicates()                                \n",
    "targets_with_relation.show()\n",
    "targets_with_relation.count()"
   ]
  },
  {
   "cell_type": "code",
   "execution_count": 22,
   "metadata": {},
   "outputs": [],
   "source": [
    "# target_organism_filter.dropDuplicates().count()"
   ]
  },
  {
   "cell_type": "code",
   "execution_count": 23,
   "metadata": {},
   "outputs": [],
   "source": [
    "# assert target_organism_filter.dropDuplicates().count() == targets_with_relation.count()"
   ]
  },
  {
   "cell_type": "code",
   "execution_count": 24,
   "metadata": {},
   "outputs": [],
   "source": [
    "# # Check that all accessions are present for CHEMBL3544932\n",
    "# target_to_uniprot_filtered = target_to_uniprot.filter(target_to_uniprot[\"target_chembl_id\"] == \"CHEMBL3430907\")\n",
    "# # drug_to_moa_filtered.show()\n",
    "# selected_column = target_to_uniprot_filtered.select(\"target_components\").collect()\n",
    "# print(selected_column)"
   ]
  },
  {
   "cell_type": "code",
   "execution_count": 25,
   "metadata": {},
   "outputs": [],
   "source": [
    "# # What does protein_classifications mean?\n",
    "\n",
    "# target_component_path = \"gs://open-targets-pre-data-releases/chembl-columns/chembl-inputs/chembl_33_target_component.jsonl\"\n",
    "# target_component = spark.read.json(target_component_path)\n",
    "# target_component.persist()\n",
    "# target_component.show()"
   ]
  },
  {
   "cell_type": "code",
   "execution_count": 26,
   "metadata": {},
   "outputs": [
    {
     "name": "stderr",
     "output_type": "stream",
     "text": [
      "24/01/23 17:05:25 WARN CacheManager: Asked to cache already cached data.\n"
     ]
    }
   ],
   "source": [
    "proteinclass_path = pd.read_csv(\"../data/uniprot2family.csv\")\n",
    "proteinclass_str = proteinclass_path.astype(str).drop_duplicates()\n",
    "proteinclass = spark.createDataFrame(proteinclass_str)\n",
    "\n",
    "proteinclass_list = [\"proteinClass\"]\n",
    "\n",
    "uniprot_to_class = join_dataframes(targets_with_relation, proteinclass, \"accession\", \"accession\", proteinclass_list).persist()"
   ]
  },
  {
   "cell_type": "code",
   "execution_count": 27,
   "metadata": {},
   "outputs": [
    {
     "name": "stderr",
     "output_type": "stream",
     "text": [
      "[Stage 88:>                                                      (0 + 16) / 200]\r"
     ]
    },
    {
     "name": "stderr",
     "output_type": "stream",
     "text": [
      "[Stage 97:=============================================>       (170 + 17) / 200]\r"
     ]
    },
    {
     "name": "stdout",
     "output_type": "stream",
     "text": [
      "+--------------+-----+\n",
      "|  proteinClass|count|\n",
      "+--------------+-----+\n",
      "|            IC|  359|\n",
      "|        Enzyme| 5465|\n",
      "|        Kinase| 7317|\n",
      "|    Epigenetic|  768|\n",
      "|          None| 1664|\n",
      "|          GPCR| 1789|\n",
      "|   Transporter|  583|\n",
      "|            NR|  660|\n",
      "|            TF|  208|\n",
      "|TF; Epigenetic|   29|\n",
      "|          null|    5|\n",
      "+--------------+-----+\n",
      "\n"
     ]
    },
    {
     "name": "stderr",
     "output_type": "stream",
     "text": [
      "                                                                                \r"
     ]
    }
   ],
   "source": [
    "show_unique_values_and_counts(uniprot_to_class, 'proteinClass')"
   ]
  },
  {
   "cell_type": "markdown",
   "metadata": {},
   "source": [
    "##### maybe for None classification based on accession_related_aggr needed"
   ]
  },
  {
   "cell_type": "code",
   "execution_count": 28,
   "metadata": {},
   "outputs": [
    {
     "data": {
      "text/plain": [
       "18847"
      ]
     },
     "execution_count": 28,
     "metadata": {},
     "output_type": "execute_result"
    }
   ],
   "source": [
    "uniprot_to_class.count()"
   ]
  },
  {
   "cell_type": "code",
   "execution_count": 29,
   "metadata": {},
   "outputs": [],
   "source": [
    "# uniprot_to_class.write.parquet(\"gs://ot-team/polina/uniprot_to_class\")"
   ]
  },
  {
   "cell_type": "markdown",
   "metadata": {},
   "source": [
    "## Drug activity threshold based on pchembl_value and proteinClass"
   ]
  },
  {
   "cell_type": "markdown",
   "metadata": {},
   "source": [
    "### Dataset with only pchembl values"
   ]
  },
  {
   "cell_type": "code",
   "execution_count": 30,
   "metadata": {},
   "outputs": [],
   "source": [
    "# Check how many assays have pchembl_value\n",
    "pchembl_value_only = uniprot_to_class.filter(uniprot_to_class[\"pchembl_value\"].isNotNull())\n",
    "# pchembl_value_only_n = pchembl_value_only.count()\n",
    "# d_t_n = input.count()\n",
    "\n",
    "# print(\"Number of drug-target pairs:\", d_t_n)\n",
    "# print(\"Number of drug-target pairs with pchembl_value:\", pchembl_value_only_n)"
   ]
  },
  {
   "cell_type": "markdown",
   "metadata": {},
   "source": [
    "### For each T-D pairs make new columns:\n",
    "####     1. max_pchembl_value\n",
    "####     2. median_pchembl_value"
   ]
  },
  {
   "cell_type": "code",
   "execution_count": 31,
   "metadata": {},
   "outputs": [],
   "source": [
    "# Original aggregation with additional count of non-null pchembl_values\n",
    "pchembl_value_aggr = pchembl_value_only.groupBy(\"target_chembl_id\", \"drugId\")\\\n",
    "                  .agg(f.max(\"pchembl_value\").alias(\"max_pchembl_value\"),\n",
    "                       f.expr(\"percentile_approx(pchembl_value, 0.5)\").alias(\"median_pchembl_value\"))\n",
    "\n",
    "# Join original data with filtered aggregated data\n",
    "pchembl_value_join = pchembl_value_aggr.join(uniprot_to_class, [\"target_chembl_id\", \"drugId\"], \"left_outer\")"
   ]
  },
  {
   "cell_type": "code",
   "execution_count": 32,
   "metadata": {},
   "outputs": [],
   "source": [
    "# Leave only unique dug-target pairs with pchembl value\n",
    "\n",
    "# Group by 'target_chembl_id' and 'drugId', and aggregate 'pchembl_value'\n",
    "pchembl_value_concat = pchembl_value_join.groupBy(\"target_chembl_id\", \"drugId\")\\\n",
    "                        .agg(concat_ws(\", \", collect_list(\"pchembl_value\")).alias(\"pchembl_value_aggr\"))\n",
    "\n",
    "pchembl_value_drop = pchembl_value_join.drop(\"standard_type\", \"standard_units\", \"standard_value\", \"standard_relation\", \"pchembl_value\")\n",
    "pchembl_value_uniq = pchembl_value_drop.dropDuplicates([\"target_chembl_id\", \"drugId\"])\n",
    "\n",
    "pchembl_value_concat_join = pchembl_value_concat.join(pchembl_value_uniq, [\"target_chembl_id\", \"drugId\"], \"left_outer\")\n",
    "\n",
    "# pchembl_value_concat_join.show()"
   ]
  },
  {
   "cell_type": "markdown",
   "metadata": {},
   "source": [
    "### Activity cutoff for max_pchembl_value and median_pchembl_value"
   ]
  },
  {
   "cell_type": "code",
   "execution_count": 33,
   "metadata": {},
   "outputs": [],
   "source": [
    "max_pchembl_value = col(\"max_pchembl_value\")\n",
    "med_pchembl_value = col(\"median_pchembl_value\")\n",
    "\n",
    "pchembl_max_activity = pchembl_value_concat_join.withColumn(\n",
    "    \"isActive_max\",\n",
    "    when(\n",
    "        ((col(\"proteinClass\") == \"Kinase\") & (max_pchembl_value >= 7.7)) |\n",
    "        ((col(\"proteinClass\") == \"GPCR\") & (max_pchembl_value >= 6.5)) |\n",
    "        ((col(\"proteinClass\") == \"NR\") & (max_pchembl_value >= 6.1)) |\n",
    "        ((col(\"proteinClass\") == \"Transporter\") & (max_pchembl_value >= 6.1)) |\n",
    "        ((col(\"proteinClass\") == \"Enzyme\") & (max_pchembl_value >= 5.2)) |\n",
    "        ((col(\"proteinClass\") == \"IC\") & (max_pchembl_value >= 4.6)) |\n",
    "        ((col(\"proteinClass\") == \"Other\") & (max_pchembl_value >= 6.3)) |\n",
    "        (~(col(\"proteinClass\").isin([\"Kinase\", \"GPCR\", \"NR\", \"Transporter\", \"Enzyme\", \"IC\", \"Other\"])) & (max_pchembl_value >= 5)),\n",
    "        \"TRUE\"\n",
    "    ).otherwise(\"FALSE\")\n",
    ")\n",
    "\n",
    "pchembl_activity = pchembl_max_activity.withColumn(\n",
    "    \"isActive_med\",\n",
    "    when(\n",
    "        ((col(\"proteinClass\") == \"Kinase\") & (med_pchembl_value >= 7.7)) |\n",
    "        ((col(\"proteinClass\") == \"GPCR\") & (med_pchembl_value >= 6.5)) |\n",
    "        ((col(\"proteinClass\") == \"NR\") & (med_pchembl_value >= 6.1)) |\n",
    "        ((col(\"proteinClass\") == \"Transporter\") & (med_pchembl_value >= 6.1)) |\n",
    "        ((col(\"proteinClass\") == \"Enzyme\") & (med_pchembl_value >= 5.2)) |\n",
    "        ((col(\"proteinClass\") == \"IC\") & (med_pchembl_value >= 4.6)) |\n",
    "        ((col(\"proteinClass\") == \"Other\") & (med_pchembl_value >= 6.3)) |\n",
    "        (~(col(\"proteinClass\").isin([\"Kinase\", \"GPCR\", \"NR\", \"Transporter\", \"Enzyme\", \"IC\", \"Other\"])) & (med_pchembl_value >= 5)),\n",
    "        \"TRUE\"\n",
    "    ).otherwise(\"FALSE\")\n",
    ")\n",
    "\n",
    "# max_active = pchembl_activity.filter(col(\"isActive_max\") == True).count()\n",
    "# med_active = pchembl_activity.filter(col(\"isActive_med\") == True).count()\n",
    "# all_pchembl = pchembl_activity.count()\n",
    "\n",
    "# print(\"Number of drug-target pairs with pchembl values: \", all_pchembl)\n",
    "# print(\"Number of drug-target pairs with active drugs based on max pchembl values: \", max_active)\n",
    "# print(\"Number of drug-target pairs with active drugs based on med pchembl values: \", med_active)"
   ]
  },
  {
   "cell_type": "markdown",
   "metadata": {},
   "source": [
    "## Non-pharmacological MoA search"
   ]
  },
  {
   "cell_type": "markdown",
   "metadata": {},
   "source": [
    "### Target is in MoA of a drug?"
   ]
  },
  {
   "cell_type": "code",
   "execution_count": 34,
   "metadata": {},
   "outputs": [
    {
     "name": "stdout",
     "output_type": "stream",
     "text": [
      "+--------------------+------------------+--------------------+--------------------+------------------+-------------------------+---------+----------------+\n",
      "|           _metadata|       action_type| mechanism_of_action|      mechanism_refs|molecule_chembl_id|parent_molecule_chembl_id|record_id|target_chembl_id|\n",
      "+--------------------+------------------+--------------------+--------------------+------------------+-------------------------+---------+----------------+\n",
      "|{[CHEMBL2103825],...|         INHIBITOR|Pancreatic lipase...|[{16953261, PubMe...|     CHEMBL2103825|            CHEMBL2103825|  1699800|      CHEMBL1812|\n",
      "|{[CHEMBL1200495, ...|           AGONIST|Glucocorticoid re...|[{setid=6d9bf1b0-...|     CHEMBL1200495|                CHEMBL977|  1344612|      CHEMBL2034|\n",
      "|{[CHEMBL3544919],...|SEQUESTERING AGENT|Heparin sequester...|[{26937198, PubMe...|     CHEMBL3544919|            CHEMBL3544919|  2473107|   CHEMBL2364712|\n",
      "|{[CHEMBL3989993],...|         INHIBITOR|microRNA-155 inhi...|[{NCT03713320, Cl...|     CHEMBL3989993|            CHEMBL3989993|  2973351|   CHEMBL4630577|\n",
      "|{[CHEMBL1460], CH...|         INHIBITOR|Human immunodefic...|[{setid=22e2ca82-...|        CHEMBL1460|               CHEMBL1460|  1343993|       CHEMBL247|\n",
      "|{[CHEMBL444172], ...|         INHIBITOR|P-glycoprotein 1 ...|[{18271955, PubMe...|      CHEMBL444172|             CHEMBL444172|  3129871|      CHEMBL4302|\n",
      "|{[CHEMBL1873475],...|         INHIBITOR|Tyrosine-protein ...|[{label/2013/2055...|     CHEMBL1873475|            CHEMBL1873475|  1702685|      CHEMBL5251|\n",
      "|{[CHEMBL4650215],...|         INHIBITOR|PI3-kinase p110-a...|[{https://cancerr...|     CHEMBL4650215|            CHEMBL4650215|  3133380|      CHEMBL4005|\n",
      "|{[CHEMBL87992], C...|           BLOCKER|Sodium channel al...|[{label/2013/0224...|       CHEMBL87992|              CHEMBL87992|  1702492|   CHEMBL2331043|\n",
      "|{[CHEMBL2105689],...|         INHIBITOR|Cytochrome P450 5...|[{label/2013/2041...|     CHEMBL2105689|            CHEMBL2105689|  1702581|      CHEMBL1780|\n",
      "|{[CHEMBL523299, C...|        ANTAGONIST|Muscarinic acetyl...|[{label/2013/2039...|      CHEMBL523299|            CHEMBL1187833|  1702662|       CHEMBL245|\n",
      "|{[CHEMBL1200865],...|           AGONIST|Glucocorticoid re...|[{12861354, PubMe...|     CHEMBL1200865|            CHEMBL1200865|  1343629|      CHEMBL2034|\n",
      "|{[CHEMBL129], CHE...|         INHIBITOR|Human immunodefic...|[{setid=6df09f15-...|         CHEMBL129|                CHEMBL129|  1343080|       CHEMBL247|\n",
      "|{[CHEMBL3989861, ...|         INHIBITOR|Serotonin transpo...|[{label/2013/2052...|     CHEMBL3989861|               CHEMBL1118|  1938076|       CHEMBL228|\n",
      "|{[CHEMBL2146140, ...|         INHIBITOR|Potassium-transpo...|[{setid=61a5a84e-...|     CHEMBL2146140|            CHEMBL1201320|  1702655|   CHEMBL2095173|\n",
      "|{[CHEMBL131], CHE...|           AGONIST|Glucocorticoid re...|[{19482847, PubMe...|         CHEMBL131|                CHEMBL131|  1344057|      CHEMBL2034|\n",
      "|{[CHEMBL1275802],...|  DISRUPTING AGENT|Cell membrane dis...|[{19010301, PubMe...|     CHEMBL1275802|            CHEMBL1275802|  1703075|   CHEMBL2364031|\n",
      "|{[CHEMBL139], CHE...|         INHIBITOR|Cyclooxygenase in...|[{label/2013/2045...|         CHEMBL139|                CHEMBL139|  1937947|   CHEMBL2094253|\n",
      "|{[CHEMBL2108556],...|  DISRUPTING AGENT|Cell membrane dis...|[{19010301, PubMe...|     CHEMBL2108556|            CHEMBL2108556|  1696419|   CHEMBL2364031|\n",
      "|{[CHEMBL1512], CH...|           AGONIST|Glucocorticoid re...|[{setid=7c72c954-...|        CHEMBL1512|               CHEMBL1512|  1343379|      CHEMBL2034|\n",
      "+--------------------+------------------+--------------------+--------------------+------------------+-------------------------+---------+----------------+\n",
      "only showing top 20 rows\n",
      "\n"
     ]
    }
   ],
   "source": [
    "mechanism_path = \"gs://open-targets-pre-data-releases/chembl-columns/chembl-inputs/chembl_33_mechanism.jsonl\"\n",
    "mechanism = spark.read.json(mechanism_path)\n",
    "mechanism.persist()\n",
    "mechanism.show()\n",
    "\n",
    "# Rename columns because target ids are coming from moa but not assay\n",
    "mechanism_renamed = mechanism.withColumnRenamed(\"action_type\", \"action_type_moa\")\\\n",
    "                            .withColumnRenamed(\"target_chembl_id\", \"target_chembl_id_moa\")"
   ]
  },
  {
   "cell_type": "markdown",
   "metadata": {},
   "source": [
    "##### need to make mapping for all parent_molecule_chembl_id and molecule_chembl_id!!!"
   ]
  },
  {
   "cell_type": "code",
   "execution_count": 35,
   "metadata": {},
   "outputs": [
    {
     "name": "stderr",
     "output_type": "stream",
     "text": [
      "24/01/23 17:05:51 WARN CacheManager: Asked to cache already cached data.\n"
     ]
    }
   ],
   "source": [
    "# List of columns from target table molecule_chembl_id\n",
    "list_mechanism = [\"action_type_moa\",\n",
    "            \"target_chembl_id_moa\"]\n",
    "\n",
    "drug_to_moa = join_dataframes(pchembl_activity, mechanism_renamed, \"drugId\", \"molecule_chembl_id\", list_mechanism).persist()"
   ]
  },
  {
   "cell_type": "markdown",
   "metadata": {},
   "source": [
    "#### code need to be optimised"
   ]
  },
  {
   "cell_type": "code",
   "execution_count": 36,
   "metadata": {},
   "outputs": [
    {
     "name": "stderr",
     "output_type": "stream",
     "text": [
      "24/01/23 17:05:51 WARN CacheManager: Asked to cache already cached data.\n"
     ]
    }
   ],
   "source": [
    "# Rename columns because now we need to map to parent_molecule_chembl_id\n",
    "mechanism_renamed_parent = mechanism.withColumnRenamed(\"action_type\", \"action_type_moa_parent\")\\\n",
    "                            .withColumnRenamed(\"target_chembl_id\", \"target_chembl_id_moa_parent\")\n",
    "\n",
    "list_mechanism_parent = [\"action_type_moa_parent\",\n",
    "            \"target_chembl_id_moa_parent\"]\n",
    "\n",
    "drug_to_moa_parent = join_dataframes(drug_to_moa, mechanism_renamed_parent, \"drugId\", \"parent_molecule_chembl_id\", list_mechanism_parent).persist()"
   ]
  },
  {
   "cell_type": "code",
   "execution_count": 37,
   "metadata": {},
   "outputs": [
    {
     "name": "stderr",
     "output_type": "stream",
     "text": [
      "                                                                                \r"
     ]
    },
    {
     "name": "stdout",
     "output_type": "stream",
     "text": [
      "+----------------+-------------+------------------+-----------------+--------------------+--------------+-------------------------+----------+--------------------+--------------------+--------------------+---------------+----------+-----------+---------------+--------------------+---------------------+-------------------------+----------------+----------------------+--------------+--------------+---------+-----------------------------+----------------------+------------+------------+------------+---------------+--------------------+----------------------+---------------------------+\n",
      "|target_chembl_id|       drugId|pchembl_value_aggr|max_pchembl_value|median_pchembl_value|      drugType|maximumClinicalTrialPhase|isApproved|       linkedTargets|      linkedDiseases|     crossReferences|assay_chembl_id|assay_type|action_type|target_organism|    target_pref_name|data_validity_comment|data_validity_description|confidence_score|confidence_description|assay_category|   target_type|accession|related_target_chembl_id_aggr|accession_related_aggr|proteinClass|isActive_max|isActive_med|action_type_moa|target_chembl_id_moa|action_type_moa_parent|target_chembl_id_moa_parent|\n",
      "+----------------+-------------+------------------+-----------------+--------------------+--------------+-------------------------+----------+--------------------+--------------------+--------------------+---------------+----------+-----------+---------------+--------------------+---------------------+-------------------------+----------------+----------------------+--------------+--------------+---------+-----------------------------+----------------------+------------+------------+------------+---------------+--------------------+----------------------+---------------------------+\n",
      "|      CHEMBL3788|CHEMBL3353357|              8.51|             8.51|                8.51|Small molecule|                     null|      null|                null|                null|                null|  CHEMBL3411381|         B|       null|   Homo sapiens|Serine/threonine-...|                 null|                     null|               9|  Direct single pro...|          null|SINGLE PROTEIN|   O00444|                           []|                    []|      Kinase|        TRUE|        TRUE|           null|                null|                  null|                       null|\n",
      "|       CHEMBL258|CHEMBL2041933|              5.89|             5.89|                5.89|Small molecule|                      1.0|     false|{1, [ENSG00000149...|{2, [EFO_0000616,...|{null, null, [124...|  CHEMBL3991747|         B|       null|   Homo sapiens|Tyrosine-protein ...|                 null|                     null|               9|  Direct single pro...|          null|SINGLE PROTEIN|   P06239|         [CHEMBL4523727, C...|  [P06241, P12931, ...|      Kinase|       FALSE|       FALSE|      INHIBITOR|          CHEMBL4630|             INHIBITOR|                 CHEMBL4630|\n",
      "|      CHEMBL1937|CHEMBL2105763|             10.22|            10.22|               10.22|Small molecule|                      2.0|     false|{11, [ENSG0000011...|{3, [EFO_0002913,...|{null, null, null...|  CHEMBL3598913|         B|       null|   Homo sapiens|Histone deacetyla...|                 null|                     null|               9|  Direct single pro...|          null|SINGLE PROTEIN|   Q92769|         [CHEMBL2111429, C...|      [Q92769, Q13547]|  Epigenetic|        TRUE|        TRUE|      INHIBITOR|       CHEMBL2093865|             INHIBITOR|              CHEMBL2093865|\n",
      "|       CHEMBL242|CHEMBL3264932|              4.82|             4.82|                4.82|Small molecule|                     null|      null|                null|                null|                null|  CHEMBL3269977|         B|       null|   Homo sapiens|Estrogen receptor...|                 null|                     null|               9|  Direct single pro...|          null|SINGLE PROTEIN|   Q92731|              [CHEMBL2093866]|              [Q92731]|          NR|       FALSE|       FALSE|           null|                null|                  null|                       null|\n",
      "|       CHEMBL253|    CHEMBL111|  6.22, 6.40, 5.75|             6.40|                6.22|Small molecule|                      4.0|      true|{1, [ENSG00000118...|{17, [EFO_0004329...|{null, null, [144...|  CHEMBL3378768|         B|       null|   Homo sapiens|Cannabinoid CB2 r...|                 null|                     null|               9|  Direct single pro...|          null|SINGLE PROTEIN|   P34972|              [CHEMBL2096981]|              [P34972]|        GPCR|       FALSE|       FALSE|     ANTAGONIST|           CHEMBL218|            ANTAGONIST|                  CHEMBL218|\n",
      "|       CHEMBL253|CHEMBL3139186|              7.70|             7.70|                 7.7|Small molecule|                      2.0|     false|{1, [ENSG00000188...|  {1, [EFO_0004616]}|                null|  CHEMBL3238913|         F|       null|   Homo sapiens|Cannabinoid CB2 r...|                 null|                     null|               9|  Direct single pro...|          null|SINGLE PROTEIN|   P34972|              [CHEMBL2096981]|              [P34972]|        GPCR|        TRUE|        TRUE|        AGONIST|           CHEMBL253|               AGONIST|                  CHEMBL253|\n",
      "|      CHEMBL6029| CHEMBL253969|              5.45|             5.45|                5.45|Small molecule|                      2.0|     false|{1, [ENSG00000128...|{6, [MONDO_002111...|{null, null, [103...|  CHEMBL3991697|         B|       null|   Homo sapiens|Eukaryotic transl...|                 null|                     null|               9|  Direct single pro...|          null|SINGLE PROTEIN|   Q9BQI3|                           []|                    []|      Kinase|       FALSE|       FALSE|      INHIBITOR|           CHEMBL279|             INHIBITOR|                  CHEMBL279|\n",
      "|      CHEMBL5491|   CHEMBL1421|              5.16|             5.16|                5.16|Small molecule|                      4.0|      true|{15, [ENSG0000011...|{78, [EFO_0000768...|{[dasatinib], nul...|  CHEMBL1061935|         B|       null|   Homo sapiens|Serine/threonine-...|                 null|                     null|               9|  Direct single pro...|          null|SINGLE PROTEIN|   P30291|         [CHEMBL5169067, C...|              [P30291]|      Kinase|       FALSE|       FALSE|      INHIBITOR|       CHEMBL2363074|             INHIBITOR|              CHEMBL2363074|\n",
      "|      CHEMBL5491|   CHEMBL1421|              5.16|             5.16|                5.16|Small molecule|                      4.0|      true|{15, [ENSG0000011...|{78, [EFO_0000768...|{[dasatinib], nul...|  CHEMBL1061935|         B|       null|   Homo sapiens|Serine/threonine-...|                 null|                     null|               9|  Direct single pro...|          null|SINGLE PROTEIN|   P30291|         [CHEMBL5169067, C...|              [P30291]|      Kinase|       FALSE|       FALSE|      INHIBITOR|       CHEMBL2363074|             INHIBITOR|                 CHEMBL1913|\n",
      "|      CHEMBL5491|   CHEMBL1421|              5.16|             5.16|                5.16|Small molecule|                      4.0|      true|{15, [ENSG0000011...|{78, [EFO_0000768...|{[dasatinib], nul...|  CHEMBL1061935|         B|       null|   Homo sapiens|Serine/threonine-...|                 null|                     null|               9|  Direct single pro...|          null|SINGLE PROTEIN|   P30291|         [CHEMBL5169067, C...|              [P30291]|      Kinase|       FALSE|       FALSE|      INHIBITOR|       CHEMBL2363074|             INHIBITOR|                 CHEMBL1862|\n",
      "|      CHEMBL5491|   CHEMBL1421|              5.16|             5.16|                5.16|Small molecule|                      4.0|      true|{15, [ENSG0000011...|{78, [EFO_0000768...|{[dasatinib], nul...|  CHEMBL1061935|         B|       null|   Homo sapiens|Serine/threonine-...|                 null|                     null|               9|  Direct single pro...|          null|SINGLE PROTEIN|   P30291|         [CHEMBL5169067, C...|              [P30291]|      Kinase|       FALSE|       FALSE|      INHIBITOR|       CHEMBL2363074|             INHIBITOR|              CHEMBL2096618|\n",
      "|      CHEMBL5491|   CHEMBL1421|              5.16|             5.16|                5.16|Small molecule|                      4.0|      true|{15, [ENSG0000011...|{78, [EFO_0000768...|{[dasatinib], nul...|  CHEMBL1061935|         B|       null|   Homo sapiens|Serine/threonine-...|                 null|                     null|               9|  Direct single pro...|          null|SINGLE PROTEIN|   P30291|         [CHEMBL5169067, C...|              [P30291]|      Kinase|       FALSE|       FALSE|      INHIBITOR|       CHEMBL2363074|             INHIBITOR|                 CHEMBL1936|\n",
      "|      CHEMBL5491|   CHEMBL1421|              5.16|             5.16|                5.16|Small molecule|                      4.0|      true|{15, [ENSG0000011...|{78, [EFO_0000768...|{[dasatinib], nul...|  CHEMBL1061935|         B|       null|   Homo sapiens|Serine/threonine-...|                 null|                     null|               9|  Direct single pro...|          null|SINGLE PROTEIN|   P30291|         [CHEMBL5169067, C...|              [P30291]|      Kinase|       FALSE|       FALSE|      INHIBITOR|       CHEMBL2363074|             INHIBITOR|                 CHEMBL2068|\n",
      "|      CHEMBL5491|   CHEMBL1421|              5.16|             5.16|                5.16|Small molecule|                      4.0|      true|{15, [ENSG0000011...|{78, [EFO_0000768...|{[dasatinib], nul...|  CHEMBL1061935|         B|       null|   Homo sapiens|Serine/threonine-...|                 null|                     null|               9|  Direct single pro...|          null|SINGLE PROTEIN|   P30291|         [CHEMBL5169067, C...|              [P30291]|      Kinase|       FALSE|       FALSE|      INHIBITOR|          CHEMBL1913|             INHIBITOR|              CHEMBL2363074|\n",
      "|      CHEMBL5491|   CHEMBL1421|              5.16|             5.16|                5.16|Small molecule|                      4.0|      true|{15, [ENSG0000011...|{78, [EFO_0000768...|{[dasatinib], nul...|  CHEMBL1061935|         B|       null|   Homo sapiens|Serine/threonine-...|                 null|                     null|               9|  Direct single pro...|          null|SINGLE PROTEIN|   P30291|         [CHEMBL5169067, C...|              [P30291]|      Kinase|       FALSE|       FALSE|      INHIBITOR|          CHEMBL1913|             INHIBITOR|                 CHEMBL1913|\n",
      "|      CHEMBL5491|   CHEMBL1421|              5.16|             5.16|                5.16|Small molecule|                      4.0|      true|{15, [ENSG0000011...|{78, [EFO_0000768...|{[dasatinib], nul...|  CHEMBL1061935|         B|       null|   Homo sapiens|Serine/threonine-...|                 null|                     null|               9|  Direct single pro...|          null|SINGLE PROTEIN|   P30291|         [CHEMBL5169067, C...|              [P30291]|      Kinase|       FALSE|       FALSE|      INHIBITOR|          CHEMBL1913|             INHIBITOR|                 CHEMBL1862|\n",
      "|      CHEMBL5491|   CHEMBL1421|              5.16|             5.16|                5.16|Small molecule|                      4.0|      true|{15, [ENSG0000011...|{78, [EFO_0000768...|{[dasatinib], nul...|  CHEMBL1061935|         B|       null|   Homo sapiens|Serine/threonine-...|                 null|                     null|               9|  Direct single pro...|          null|SINGLE PROTEIN|   P30291|         [CHEMBL5169067, C...|              [P30291]|      Kinase|       FALSE|       FALSE|      INHIBITOR|          CHEMBL1913|             INHIBITOR|              CHEMBL2096618|\n",
      "|      CHEMBL5491|   CHEMBL1421|              5.16|             5.16|                5.16|Small molecule|                      4.0|      true|{15, [ENSG0000011...|{78, [EFO_0000768...|{[dasatinib], nul...|  CHEMBL1061935|         B|       null|   Homo sapiens|Serine/threonine-...|                 null|                     null|               9|  Direct single pro...|          null|SINGLE PROTEIN|   P30291|         [CHEMBL5169067, C...|              [P30291]|      Kinase|       FALSE|       FALSE|      INHIBITOR|          CHEMBL1913|             INHIBITOR|                 CHEMBL1936|\n",
      "|      CHEMBL5491|   CHEMBL1421|              5.16|             5.16|                5.16|Small molecule|                      4.0|      true|{15, [ENSG0000011...|{78, [EFO_0000768...|{[dasatinib], nul...|  CHEMBL1061935|         B|       null|   Homo sapiens|Serine/threonine-...|                 null|                     null|               9|  Direct single pro...|          null|SINGLE PROTEIN|   P30291|         [CHEMBL5169067, C...|              [P30291]|      Kinase|       FALSE|       FALSE|      INHIBITOR|          CHEMBL1913|             INHIBITOR|                 CHEMBL2068|\n",
      "|      CHEMBL5491|   CHEMBL1421|              5.16|             5.16|                5.16|Small molecule|                      4.0|      true|{15, [ENSG0000011...|{78, [EFO_0000768...|{[dasatinib], nul...|  CHEMBL1061935|         B|       null|   Homo sapiens|Serine/threonine-...|                 null|                     null|               9|  Direct single pro...|          null|SINGLE PROTEIN|   P30291|         [CHEMBL5169067, C...|              [P30291]|      Kinase|       FALSE|       FALSE|      INHIBITOR|          CHEMBL1862|             INHIBITOR|              CHEMBL2363074|\n",
      "+----------------+-------------+------------------+-----------------+--------------------+--------------+-------------------------+----------+--------------------+--------------------+--------------------+---------------+----------+-----------+---------------+--------------------+---------------------+-------------------------+----------------+----------------------+--------------+--------------+---------+-----------------------------+----------------------+------------+------------+------------+---------------+--------------------+----------------------+---------------------------+\n",
      "only showing top 20 rows\n",
      "\n"
     ]
    }
   ],
   "source": [
    "drug_to_moa_parent.show()"
   ]
  },
  {
   "cell_type": "code",
   "execution_count": 38,
   "metadata": {},
   "outputs": [
    {
     "name": "stderr",
     "output_type": "stream",
     "text": [
      "                                                                                \r"
     ]
    },
    {
     "name": "stdout",
     "output_type": "stream",
     "text": [
      "+-------------+----------------+--------------------+-----------------+--------------------+--------------+-------------------------+----------+--------------------+--------------------+--------------------+---------------+----------+--------------------+---------------+--------------------+---------------------+-------------------------+----------------+----------------------+--------------+---------------+---------+-----------------------------+----------------------+------------+------------+------------+--------------------+-------------------------+\n",
      "|       drugId|target_chembl_id|  pchembl_value_aggr|max_pchembl_value|median_pchembl_value|      drugType|maximumClinicalTrialPhase|isApproved|       linkedTargets|      linkedDiseases|     crossReferences|assay_chembl_id|assay_type|         action_type|target_organism|    target_pref_name|data_validity_comment|data_validity_description|confidence_score|confidence_description|assay_category|    target_type|accession|related_target_chembl_id_aggr|accession_related_aggr|proteinClass|isActive_max|isActive_med|action_type_moa_aggr|target_chembl_id_moa_aggr|\n",
      "+-------------+----------------+--------------------+-----------------+--------------------+--------------+-------------------------+----------+--------------------+--------------------+--------------------+---------------+----------+--------------------+---------------+--------------------+---------------------+-------------------------+----------------+----------------------+--------------+---------------+---------+-----------------------------+----------------------+------------+------------+------------+--------------------+-------------------------+\n",
      "|    CHEMBL112|       CHEMBL340|                4.80|             4.80|                 4.8|Small molecule|                      4.0|      true|{4, [ENSG00000073...|{104, [MONDO_0100...|{[acetaminophen],...|  CHEMBL1613886|         A|                null|   Homo sapiens| Cytochrome P450 3A4|                 null|                     null|               9|  Direct single pro...|  confirmatory| SINGLE PROTEIN|   P08684|         [CHEMBL2111472, C...|              [P08684]|      Enzyme|       FALSE|       FALSE|   INHIBITOR, OPENER|     CHEMBL2094253, CH...|\n",
      "|    CHEMBL140|      CHEMBL4261|                5.20|             5.20|                 5.2|Small molecule|                     null|      null|                null|                null|{null, null, [104...|  CHEMBL1613803|         F|                null|   Homo sapiens|Hypoxia-inducible...|                 null|                     null|               9|  Direct single pro...|  confirmatory| SINGLE PROTEIN|   Q16665|         [CHEMBL3885588, C...|      [Q16665, Q09472]|          TF|        TRUE|        TRUE|                    |                         |\n",
      "|  CHEMBL91829|      CHEMBL4527|                5.24|             5.24|                5.24|Small molecule|                      3.0|     false|{1, [ENSG00000166...|{6, [EFO_0003770,...|{null, null, [501...|   CHEMBL859485|         B|                null|   Homo sapiens|TRAF2- and NCK-in...|                 null|                     null|               9|  Direct single pro...|          null| SINGLE PROTEIN|   Q9UKE5|                           []|                    []|      Kinase|       FALSE|       FALSE|           INHIBITOR|               CHEMBL3045|\n",
      "|      CHEMBL3|   CHEMBL1907594|6.28, 5.03, 6.28,...|             6.40|                6.28|Small molecule|                      4.0|      true|{2, [ENSG00000160...|{30, [EFO_0003768...|{[nicotine], null...|   CHEMBL885360|         B|                null|   Homo sapiens|Neuronal acetylch...|                 null|                     null|               7|  Direct protein co...|          null|PROTEIN COMPLEX|   P30926|         [CHEMBL3038459, C...|  [P17787, P02708, ...|          IC|        TRUE|        TRUE|             AGONIST|            CHEMBL1907589|\n",
      "|CHEMBL1829763|      CHEMBL4235|                7.75|             7.75|                7.75|Small molecule|                     null|      null|                null|                null|                null|  CHEMBL3705154|         B|                null|   Homo sapiens|11-beta-hydroxyst...|                 null|                     null|               9|  Direct single pro...|          null| SINGLE PROTEIN|   P28845|              [CHEMBL3542430]|              [P80365]|      Enzyme|        TRUE|        TRUE|                    |                         |\n",
      "|  CHEMBL67279|      CHEMBL4793|                8.66|             8.66|                8.66|Small molecule|                      3.0|     false|                null|{8, [EFO_0000756,...|{null, null, null...|  CHEMBL3620566|         B|                null|   Homo sapiens|Dipeptidyl peptid...|                 null|                     null|               9|  Direct single pro...|          null| SINGLE PROTEIN|   Q86TI2|              [CHEMBL3885564]|              [Q6V1X1]|      Enzyme|        TRUE|        TRUE|                    |                         |\n",
      "|   CHEMBL1306|      CHEMBL3401|                4.85|             4.85|                4.85|Small molecule|                      4.0|      true|             {0, []}|{2, [EFO_0007543,...|{[terconazole], n...|  CHEMBL3531532|         A|                null|   Homo sapiens| Pregnane X receptor|                 null|                     null|               9|  Direct single pro...|          null| SINGLE PROTEIN|   O75469|                           []|                    []|          NR|       FALSE|       FALSE|           INHIBITOR|               CHEMBL1780|\n",
      "|CHEMBL3545367|      CHEMBL5113|    8.22, 8.24, 8.60|             8.60|                8.24|Small molecule|                      4.0|      true|{2, [ENSG00000137...|{7, [EFO_0004698,...|{[lemborexant], n...|  CHEMBL3588583|         B|                null|   Homo sapiens|   Orexin receptor 1|                 null|                     null|               9|  Direct single pro...|          null| SINGLE PROTEIN|   O43613|         [CHEMBL3301387, C...|      [O43614, P21554]|        GPCR|        TRUE|        TRUE|          ANTAGONIST|     CHEMBL4792, CHEMB...|\n",
      "|CHEMBL1952329|      CHEMBL5407|                7.62|             7.62|                7.62|Small molecule|                      1.0|     false|{3, [ENSG00000137...|{3, [MONDO_000831...|{null, null, [137...|  CHEMBL3750381|         B|                null|   Homo sapiens|Serine/threonine-...|                 null|                     null|               9|  Direct single pro...|          null| SINGLE PROTEIN|   Q86V86|              [CHEMBL3559682]|              [P11309]|      Kinase|       FALSE|       FALSE|           INHIBITOR|            CHEMBL3559682|\n",
      "|    CHEMBL611|   CHEMBL1293232|                5.40|             5.40|                 5.4|Small molecule|                      4.0|      true|{3, [ENSG00000120...|{9, [EFO_0000284,...|{[terazosin%20hyd...|  CHEMBL1613842|         F|                null|   Homo sapiens|Survival motor ne...|                 null|                     null|               9|  Direct single pro...|  confirmatory| SINGLE PROTEIN|   Q16637|                           []|                    []|  Epigenetic|        TRUE|        TRUE|          ANTAGONIST|            CHEMBL2094251|\n",
      "|CHEMBL1095292|       CHEMBL340|                5.80|             5.80|                 5.8|Small molecule|                      4.0|      true|{1, [ENSG00000103...|{3, [EFO_0004269,...|{null, null, [111...|  CHEMBL1613886|         A|                null|   Homo sapiens| Cytochrome P450 3A4|                 null|                     null|               9|  Direct single pro...|  confirmatory| SINGLE PROTEIN|   P08684|         [CHEMBL2111472, C...|              [P08684]|      Enzyme|        TRUE|        TRUE|           SUBSTRATE|                CHEMBL222|\n",
      "| CHEMBL186083|       CHEMBL259|                7.69|             7.69|                7.69|Small molecule|                     null|      null|                null|                null|                null|   CHEMBL917731|         B|{ANTAGONIST, Bind...|   Homo sapiens|Melanocortin rece...|                 null|                     null|               9|  Direct single pro...|          null| SINGLE PROTEIN|   P32245|         [CHEMBL2111423, C...|              [P32245]|        GPCR|        TRUE|        TRUE|                    |                         |\n",
      "|     CHEMBL20|      CHEMBL2885|    6.08, 3.52, 4.70|             6.08|                 4.7|Small molecule|                      4.0|      true|{4, [ENSG00000167...|{33, [MONDO_00053...|{[acetazolamide],...|   CHEMBL931796|         B|                null|   Homo sapiens|Carbonic anhydras...|                 null|                     null|               9|  Direct single pro...|          null| SINGLE PROTEIN|   P07451|              [CHEMBL2095180]|              [P00918]|      Enzyme|        TRUE|       FALSE|           INHIBITOR|     CHEMBL205, CHEMBL...|\n",
      "|   CHEMBL1709|      CHEMBL1963|                4.40|             4.40|                 4.4|Small molecule|                      4.0|      true|{1, [ENSG00000108...|{10, [MONDO_00020...|{[sertraline%20hy...|  CHEMBL1614361|         F|                null|   Homo sapiens|Thyroid stimulati...|                 null|                     null|               9|  Direct single pro...|  confirmatory| SINGLE PROTEIN|   P16473|                           []|                    []|        GPCR|       FALSE|       FALSE|           INHIBITOR|                CHEMBL228|\n",
      "|     CHEMBL20|      CHEMBL3912|          7.77, 8.00|             8.00|                7.77|Small molecule|                      4.0|      true|{4, [ENSG00000167...|{33, [MONDO_00053...|{[acetazolamide],...|  CHEMBL4043565|         B|                null|   Homo sapiens|Carbonic anhydras...|                 null|                     null|               9|  Direct single pro...|          null| SINGLE PROTEIN|   Q8N1Q1|              [CHEMBL2095180]|              [P00918]|      Enzyme|        TRUE|        TRUE|           INHIBITOR|     CHEMBL205, CHEMBL...|\n",
      "| CHEMBL332347|      CHEMBL5952|                6.60|             6.60|                 6.6|Small molecule|                     null|      null|                null|                null|{null, null, null...|  CHEMBL3750524|         B|                null|   Homo sapiens|Neuropeptide FF r...|                 null|                     null|               9|  Direct single pro...|          null| SINGLE PROTEIN|   Q9Y5X5|                           []|                    []|        GPCR|        TRUE|        TRUE|                    |                         |\n",
      "|    CHEMBL611|       CHEMBL232|                9.30|             9.30|                 9.3|Small molecule|                      4.0|      true|{3, [ENSG00000120...|{9, [EFO_0000284,...|{[terazosin%20hyd...|  CHEMBL3405641|         B|                null|   Homo sapiens|Alpha-1b adrenerg...|                 null|                     null|               9|  Direct single pro...|          null| SINGLE PROTEIN|   P35368|         [CHEMBL2096676, C...|              [P35348]|        GPCR|        TRUE|        TRUE|          ANTAGONIST|            CHEMBL2094251|\n",
      "| CHEMBL235191|       CHEMBL325|                7.30|             7.30|                 7.3|Small molecule|                      3.0|     false|{11, [ENSG0000011...|{3, [EFO_0001378,...|{null, null, null...|  CHEMBL1216982|         B|                null|   Homo sapiens|Histone deacetyla...|                 null|                     null|               9|  Direct single pro...|          null| SINGLE PROTEIN|   Q13547|         [CHEMBL2111429, C...|              [Q13547]|  Epigenetic|        TRUE|        TRUE|           INHIBITOR|            CHEMBL2093865|\n",
      "|    CHEMBL498|      CHEMBL3622|                4.40|             4.40|                 4.4|Small molecule|                      4.0|      true|{2, [ENSG00000187...|{2, [MONDO_000514...|{null, null, [111...|  CHEMBL1613777|         A|                null|   Homo sapiens|Cytochrome P450 2C19|                 null|                     null|               9|  Direct single pro...|  confirmatory| SINGLE PROTEIN|   P33261|              [CHEMBL4523986]|              [P08684]|        None|       FALSE|       FALSE|             BLOCKER|            CHEMBL2096972|\n",
      "|CHEMBL1455766|       CHEMBL233|                6.51|             6.51|                6.51|Small molecule|                     null|      null|                null|                null|{null, null, [248...|  CHEMBL3590960|         B|                null|   Homo sapiens|  Mu opioid receptor|                 null|                     null|               9|  Direct single pro...|          null| SINGLE PROTEIN|   P35372|         [CHEMBL2095149, C...|  [P41145, P51681, ...|        GPCR|        TRUE|        TRUE|                    |                         |\n",
      "+-------------+----------------+--------------------+-----------------+--------------------+--------------+-------------------------+----------+--------------------+--------------------+--------------------+---------------+----------+--------------------+---------------+--------------------+---------------------+-------------------------+----------------+----------------------+--------------+---------------+---------+-----------------------------+----------------------+------------+------------+------------+--------------------+-------------------------+\n",
      "only showing top 20 rows\n",
      "\n"
     ]
    },
    {
     "name": "stderr",
     "output_type": "stream",
     "text": [
      "                                                                                \r"
     ]
    },
    {
     "data": {
      "text/plain": [
       "4647"
      ]
     },
     "execution_count": 38,
     "metadata": {},
     "output_type": "execute_result"
    }
   ],
   "source": [
    "# Merge columns\n",
    "drug_to_moa_parent_merge = drug_to_moa_parent.withColumn(\n",
    "    \"action_type_moa_merge\",\n",
    "    concat_ws(\", \", \"action_type_moa_parent\", \"action_type_moa\")\n",
    ").withColumn(\n",
    "    \"target_chembl_id_moa_merge\",\n",
    "    concat_ws(\", \", \"target_chembl_id_moa_parent\", \"target_chembl_id_moa\")\n",
    ")\n",
    "\n",
    "# Aggregate by drugId\n",
    "drug_to_moa_parent_aggr = drug_to_moa_parent_merge.groupBy(\"drugId\").agg(\n",
    "    collect_list(\"action_type_moa_merge\").alias(\"action_type_moa_aggr\"),\n",
    "    collect_list(\"target_chembl_id_moa_merge\").alias(\"target_chembl_id_moa_aggr\")\n",
    ")\n",
    "\n",
    "# Define a UDF to remove duplicates within a concatenated string\n",
    "def remove_internal_duplicates(concatenated_str):\n",
    "    unique_items = set(concatenated_str.split(\", \"))\n",
    "    return \", \".join(unique_items)\n",
    "\n",
    "# Register the UDF\n",
    "remove_internal_duplicates_udf = udf(remove_internal_duplicates, StringType())\n",
    "\n",
    "# Apply UDF to remove duplicates within the concatenated strings\n",
    "drug_to_moa_parent_duplicates = drug_to_moa_parent_aggr.withColumn(\n",
    "    \"action_type_moa_aggr\",\n",
    "    remove_internal_duplicates_udf(f.concat_ws(\", \", \"action_type_moa_aggr\"))\n",
    ").withColumn(\n",
    "    \"target_chembl_id_moa_aggr\",\n",
    "    remove_internal_duplicates_udf(f.concat_ws(\", \", \"target_chembl_id_moa_aggr\"))\n",
    ")\n",
    "        \n",
    "# Join the aggregated data back to the original drug_to_moa_parent and drop the old columns and duplicates\n",
    "drug_to_moa_final = drug_to_moa_parent.join(\n",
    "    drug_to_moa_parent_duplicates, [\"drugId\"], how=\"left\"\n",
    ")\\\n",
    "    .drop(\n",
    "    \"action_type_moa_parent\", \"action_type_moa\", \"target_chembl_id_moa_parent\", \"target_chembl_id_moa\"\n",
    ")\\\n",
    "    .dropDuplicates()\n",
    "\n",
    "drug_to_moa_final.show()\n",
    "drug_to_moa_final.count()"
   ]
  },
  {
   "cell_type": "code",
   "execution_count": 39,
   "metadata": {},
   "outputs": [],
   "source": [
    "# # Concat moa to 1 row\n",
    "# drug_to_moa_concat = drug_to_moa.groupBy(\"target_chembl_id\", \"drugId\")\\\n",
    "#     .agg(concat_ws(\", \", array_distinct(collect_list(\"target_chembl_id_moa\"))).alias(\"target_chembl_id_moa_aggr\"))\n",
    "\n",
    "# drug_to_moa_drop = drug_to_moa.drop(\"target_chembl_id_moa\")\n",
    "# drug_to_moa_uniq = drug_to_moa_drop.dropDuplicates([\"target_chembl_id\", \"drugId\"])\n",
    "\n",
    "# drug_to_moa_join = drug_to_moa_concat.join(drug_to_moa_uniq, [\"target_chembl_id\", \"drugId\"], \"left_outer\")\n",
    "\n",
    "# drug_to_moa_join.count()"
   ]
  },
  {
   "cell_type": "code",
   "execution_count": 40,
   "metadata": {},
   "outputs": [],
   "source": [
    "# mechanism_filtered = mechanism.filter(mechanism[\"parent_molecule_chembl_id\"] == \"CHEMBL3545181\")\n",
    "# mechanism_filtered.show()"
   ]
  },
  {
   "cell_type": "code",
   "execution_count": 41,
   "metadata": {},
   "outputs": [],
   "source": [
    "# drug_to_moa_filtered = drug_to_moa_join.filter(drug_to_moa_join[\"drugId\"] == \"CHEMBL715\")\n",
    "# # drug_to_moa_filtered.show()\n",
    "# selected_column = drug_to_moa_filtered.select(\"target_chembl_id_moa_aggr\").collect()\n",
    "# print(selected_column)"
   ]
  },
  {
   "cell_type": "code",
   "execution_count": 42,
   "metadata": {},
   "outputs": [],
   "source": [
    "# drug_to_moa_join.printSchema()"
   ]
  },
  {
   "cell_type": "code",
   "execution_count": 43,
   "metadata": {},
   "outputs": [],
   "source": [
    "# drug_to_moa_filtered = drug_to_moa_join.filter(drug_to_moa_join[\"drugId\"] == \"CHEMBL715\")\n",
    "# # drug_to_moa_filtered.show()\n",
    "# selected_column = drug_to_moa_filtered.select(\"linkedTargets\").collect()\n",
    "# print(selected_column)"
   ]
  },
  {
   "cell_type": "markdown",
   "metadata": {},
   "source": [
    "##### just in case: I'm not using linkedTargets as a source of MoA because it contains only ensembl IDs"
   ]
  },
  {
   "cell_type": "code",
   "execution_count": 44,
   "metadata": {},
   "outputs": [
    {
     "name": "stderr",
     "output_type": "stream",
     "text": [
      "                                                                                \r"
     ]
    },
    {
     "name": "stdout",
     "output_type": "stream",
     "text": [
      "+-------------+----------------+--------------------+-----------------+--------------------+--------------+-------------------------+----------+--------------------+--------------------+--------------------+---------------+----------+-----------+---------------+--------------------+---------------------+-------------------------+----------------+----------------------+--------------+---------------+---------+-----------------------------+----------------------+------------+------------+------------+--------------------+-------------------------+-------+\n",
      "|       drugId|target_chembl_id|  pchembl_value_aggr|max_pchembl_value|median_pchembl_value|      drugType|maximumClinicalTrialPhase|isApproved|       linkedTargets|      linkedDiseases|     crossReferences|assay_chembl_id|assay_type|action_type|target_organism|    target_pref_name|data_validity_comment|data_validity_description|confidence_score|confidence_description|assay_category|    target_type|accession|related_target_chembl_id_aggr|accession_related_aggr|proteinClass|isActive_max|isActive_med|action_type_moa_aggr|target_chembl_id_moa_aggr|isInMoA|\n",
      "+-------------+----------------+--------------------+-----------------+--------------------+--------------+-------------------------+----------+--------------------+--------------------+--------------------+---------------+----------+-----------+---------------+--------------------+---------------------+-------------------------+----------------+----------------------+--------------+---------------+---------+-----------------------------+----------------------+------------+------------+------------+--------------------+-------------------------+-------+\n",
      "|CHEMBL3353357|      CHEMBL3788|                8.51|             8.51|                8.51|Small molecule|                     null|      null|                null|                null|                null|  CHEMBL3411381|         B|       null|   Homo sapiens|Serine/threonine-...|                 null|                     null|               9|  Direct single pro...|          null| SINGLE PROTEIN|   O00444|                           []|                    []|      Kinase|        TRUE|        TRUE|                    |                         |  false|\n",
      "|CHEMBL2041933|       CHEMBL258|                5.89|             5.89|                5.89|Small molecule|                      1.0|     false|{1, [ENSG00000149...|{2, [EFO_0000616,...|{null, null, [124...|  CHEMBL3991747|         B|       null|   Homo sapiens|Tyrosine-protein ...|                 null|                     null|               9|  Direct single pro...|          null| SINGLE PROTEIN|   P06239|         [CHEMBL4523727, C...|  [P06241, P12931, ...|      Kinase|       FALSE|       FALSE|           INHIBITOR|               CHEMBL4630|  false|\n",
      "|CHEMBL2105763|      CHEMBL1937|               10.22|            10.22|               10.22|Small molecule|                      2.0|     false|{11, [ENSG0000011...|{3, [EFO_0002913,...|{null, null, null...|  CHEMBL3598913|         B|       null|   Homo sapiens|Histone deacetyla...|                 null|                     null|               9|  Direct single pro...|          null| SINGLE PROTEIN|   Q92769|         [CHEMBL2111429, C...|      [Q92769, Q13547]|  Epigenetic|        TRUE|        TRUE|           INHIBITOR|            CHEMBL2093865|   true|\n",
      "|CHEMBL3264932|       CHEMBL242|                4.82|             4.82|                4.82|Small molecule|                     null|      null|                null|                null|                null|  CHEMBL3269977|         B|       null|   Homo sapiens|Estrogen receptor...|                 null|                     null|               9|  Direct single pro...|          null| SINGLE PROTEIN|   Q92731|              [CHEMBL2093866]|              [Q92731]|          NR|       FALSE|       FALSE|                    |                         |  false|\n",
      "|    CHEMBL111|       CHEMBL253|    6.22, 6.40, 5.75|             6.40|                6.22|Small molecule|                      4.0|      true|{1, [ENSG00000118...|{17, [EFO_0004329...|{null, null, [144...|  CHEMBL3378768|         B|       null|   Homo sapiens|Cannabinoid CB2 r...|                 null|                     null|               9|  Direct single pro...|          null| SINGLE PROTEIN|   P34972|              [CHEMBL2096981]|              [P34972]|        GPCR|       FALSE|       FALSE|          ANTAGONIST|                CHEMBL218|  false|\n",
      "|CHEMBL3139186|       CHEMBL253|                7.70|             7.70|                 7.7|Small molecule|                      2.0|     false|{1, [ENSG00000188...|  {1, [EFO_0004616]}|                null|  CHEMBL3238913|         F|       null|   Homo sapiens|Cannabinoid CB2 r...|                 null|                     null|               9|  Direct single pro...|          null| SINGLE PROTEIN|   P34972|              [CHEMBL2096981]|              [P34972]|        GPCR|        TRUE|        TRUE|             AGONIST|                CHEMBL253|   true|\n",
      "| CHEMBL253969|      CHEMBL6029|                5.45|             5.45|                5.45|Small molecule|                      2.0|     false|{1, [ENSG00000128...|{6, [MONDO_002111...|{null, null, [103...|  CHEMBL3991697|         B|       null|   Homo sapiens|Eukaryotic transl...|                 null|                     null|               9|  Direct single pro...|          null| SINGLE PROTEIN|   Q9BQI3|                           []|                    []|      Kinase|       FALSE|       FALSE|           INHIBITOR|                CHEMBL279|  false|\n",
      "|   CHEMBL1421|      CHEMBL5491|                5.16|             5.16|                5.16|Small molecule|                      4.0|      true|{15, [ENSG0000011...|{78, [EFO_0000768...|{[dasatinib], nul...|  CHEMBL1061935|         B|       null|   Homo sapiens|Serine/threonine-...|                 null|                     null|               9|  Direct single pro...|          null| SINGLE PROTEIN|   P30291|         [CHEMBL5169067, C...|              [P30291]|      Kinase|       FALSE|       FALSE|           INHIBITOR|     CHEMBL2363074, CH...|  false|\n",
      "|  CHEMBL21731|       CHEMBL340|                5.60|             5.60|                 5.6|Small molecule|                      4.0|      true|{1, [ENSG00000103...|{7, [EFO_0005230,...|{null, null, [104...|  CHEMBL1614108|         A|       null|   Homo sapiens| Cytochrome P450 3A4|                 null|                     null|               9|  Direct single pro...|  confirmatory| SINGLE PROTEIN|   P08684|         [CHEMBL2111472, C...|              [P08684]|      Enzyme|        TRUE|        TRUE|           INHIBITOR|                CHEMBL222|  false|\n",
      "|    CHEMBL565|       CHEMBL340|                5.00|             5.00|                 5.0|Small molecule|                      4.0|      true|{1, [ENSG00000186...|{3, [EFO_1001375,...|{null, null, [111...|  CHEMBL1613886|         A|       null|   Homo sapiens| Cytochrome P450 3A4|                 null|                     null|               9|  Direct single pro...|  confirmatory| SINGLE PROTEIN|   P08684|         [CHEMBL2111472, C...|              [P08684]|      Enzyme|       FALSE|       FALSE|             AGONIST|                CHEMBL239|  false|\n",
      "| CHEMBL220491|       CHEMBL261|4.35, 4.35, 4.35,...|             4.35|                4.35|Small molecule|                      4.0|      true|{1, [ENSG00000104...|{4, [EFO_0009784,...|{[brinzolamide], ...|  CHEMBL2380061|         B|       null|   Homo sapiens|Carbonic anhydrase I|                 null|                     null|               9|  Direct single pro...|          null| SINGLE PROTEIN|   P00915|              [CHEMBL2095180]|              [P00918]|      Enzyme|       FALSE|       FALSE|           INHIBITOR|                CHEMBL205|  false|\n",
      "|    CHEMBL705|      CHEMBL2004|                7.85|             7.85|                7.85|Small molecule|                      4.0|      true|{6, [ENSG00000204...|{7, [EFO_1000706,...|{[alitretinoin], ...|   CHEMBL798204|         B|       null|   Homo sapiens|Retinoid X recept...|                 null|                     null|               9|  Direct single pro...|          null| SINGLE PROTEIN|   P48443|         [CHEMBL2363071, C...|      [P28702, P48443]|          NR|        TRUE|        TRUE|             AGONIST|            CHEMBL2363071|   true|\n",
      "|CHEMBL1911272|      CHEMBL2034|                6.85|             6.85|                6.85|Small molecule|                     null|      null|                null|                null|                null|  CHEMBL1914169|         B|       null|   Homo sapiens|Glucocorticoid re...|                 null|                     null|               9|  Direct single pro...|          null| SINGLE PROTEIN|   P04150|                           []|                    []|          NR|        TRUE|        TRUE|                    |                         |  false|\n",
      "| CHEMBL389433|      CHEMBL1978|                8.30|             8.30|                 8.3|Small molecule|                      2.0|     false|                null|{1, [MONDO_0017778]}|{null, null, [501...|  CHEMBL1105634|         B|       null|   Homo sapiens|Cytochrome P450 19A1|                 null|                     null|               9|  Direct single pro...|          null| SINGLE PROTEIN|   P11511|                           []|                    []|      Enzyme|        TRUE|        TRUE|                    |                         |  false|\n",
      "|    CHEMBL902|      CHEMBL3242|                7.34|             7.34|                7.34|Small molecule|                      4.0|      true|{1, [ENSG00000113...|{28, [MONDO_01000...|{[famotidine], nu...|  CHEMBL4269593|         B|       null|   Homo sapiens|Carbonic anhydras...|                 null|                     null|               9|  Direct single pro...|          null| SINGLE PROTEIN|   O43570|              [CHEMBL2095180]|              [P00918]|      Enzyme|        TRUE|        TRUE|          ANTAGONIST|               CHEMBL1941|  false|\n",
      "|    CHEMBL667|   CHEMBL1907589|                6.00|             6.00|                 6.0|Small molecule|                      4.0|      true|{1, [ENSG00000133...|{11, [EFO_0004272...|{null, null, [124...|  CHEMBL3607134|         B|       null|   Homo sapiens|Neuronal acetylch...|                 null|                     null|               7|  Direct protein co...|          null|PROTEIN COMPLEX|   P17787|         [CHEMBL2111384, C...|  [P17787, P02708, ...|          IC|        TRUE|        TRUE|             AGONIST|                CHEMBL245|  false|\n",
      "|CHEMBL3628113|      CHEMBL2736|                5.95|             5.95|                5.95|Small molecule|                     null|      null|                null|                null|                null|  CHEMBL3631171|         F|       null|   Homo sapiens|Metabotropic glut...|                 null|                     null|               9|  Direct single pro...|          null| SINGLE PROTEIN|   Q14833|                           []|                    []|        GPCR|       FALSE|       FALSE|                    |                         |  false|\n",
      "|CHEMBL2364611|       CHEMBL279|                6.36|             6.36|                6.36|Small molecule|                      2.0|     false|{1, [ENSG00000106...|{12, [EFO_0009708...|{null, null, null...|  CHEMBL3270796|         B|       null|   Homo sapiens|Vascular endothel...|                 null|                     null|               9|  Direct single pro...|          null| SINGLE PROTEIN|   P35968|         [CHEMBL2111336, C...|  [P35968, P17948, ...|      Kinase|       FALSE|       FALSE|           INHIBITOR|               CHEMBL4439|  false|\n",
      "|   CHEMBL1437|   CHEMBL1293224|                5.20|             5.20|                 5.2|Small molecule|                      4.0|      true|{9, [ENSG00000120...|{23, [EFO_0005207...|{[norepinephrine%...|  CHEMBL1613899|         F|       null|   Homo sapiens|Microtubule-assoc...|                 null|                     null|               9|  Direct single pro...|  confirmatory| SINGLE PROTEIN|   P10636|         [CHEMBL4296123, C...|              [P10636]|        None|        TRUE|        TRUE|             AGONIST|            CHEMBL2331074|  false|\n",
      "|CHEMBL4081711|      CHEMBL3778|                8.70|             8.70|                 8.7|Small molecule|                      2.0|     false|{1, [ENSG00000198...|{3, [EFO_1000710,...|{null, null, null...|  CHEMBL4015988|         B|       null|   Homo sapiens|Interleukin-1 rec...|                 null|                     null|               9|  Direct single pro...|          null| SINGLE PROTEIN|   Q9NWZ3|         [CHEMBL4523742, C...|              [Q9NWZ3]|      Kinase|        TRUE|        TRUE|           INHIBITOR|               CHEMBL3778|   true|\n",
      "+-------------+----------------+--------------------+-----------------+--------------------+--------------+-------------------------+----------+--------------------+--------------------+--------------------+---------------+----------+-----------+---------------+--------------------+---------------------+-------------------------+----------------+----------------------+--------------+---------------+---------+-----------------------------+----------------------+------------+------------+------------+--------------------+-------------------------+-------+\n",
      "only showing top 20 rows\n",
      "\n"
     ]
    }
   ],
   "source": [
    "# Add a new column 'isInMoA': if target/related target is in moa of a drug\n",
    "\n",
    "# Define the UDF\n",
    "def check_is_in_moa(target_chembl_id, related_target_chembl_id_aggr, target_chembl_id_moa_aggr):\n",
    "    # Split the target_chembl_id_moa_aggr into a list if it's not None\n",
    "    target_moa_list = target_chembl_id_moa_aggr.split(\", \") if target_chembl_id_moa_aggr else []\n",
    "    # Check if target_chembl_id is in the list\n",
    "    if target_chembl_id in target_moa_list:\n",
    "        return True\n",
    "    # Check if any of the related_target_chembl_id_aggr is in the list\n",
    "    for chembl_id in related_target_chembl_id_aggr:\n",
    "        if chembl_id in target_moa_list:\n",
    "            return True\n",
    "    return False\n",
    "\n",
    "# Register the UDF\n",
    "is_in_moa_udf = udf(check_is_in_moa, BooleanType())\n",
    "\n",
    "# Apply UDF to create the new column\n",
    "drug_to_moa_isInMoA = drug_to_moa_final.withColumn(\"isInMoA\", is_in_moa_udf(\n",
    "                                                    \"target_chembl_id\", \n",
    "                                                    \"related_target_chembl_id_aggr\", \n",
    "                                                    \"target_chembl_id_moa_aggr\"\n",
    "                                                ))\n",
    "\n",
    "drug_to_moa_isInMoA.show()"
   ]
  },
  {
   "cell_type": "code",
   "execution_count": 45,
   "metadata": {},
   "outputs": [
    {
     "name": "stderr",
     "output_type": "stream",
     "text": [
      "                                                                                \r"
     ]
    },
    {
     "data": {
      "text/plain": [
       "4647"
      ]
     },
     "execution_count": 45,
     "metadata": {},
     "output_type": "execute_result"
    }
   ],
   "source": [
    "drug_to_moa_isInMoA.count()"
   ]
  },
  {
   "cell_type": "code",
   "execution_count": null,
   "metadata": {},
   "outputs": [
    {
     "name": "stdout",
     "output_type": "stream",
     "text": [
      "+-------+-------------+-------------------------+----------------+\n",
      "|isInMoA|       drugId|target_chembl_id_moa_aggr|target_chembl_id|\n",
      "+-------+-------------+-------------------------+----------------+\n",
      "|  false|CHEMBL2105717|     CHEMBL279, CHEMBL...|      CHEMBL1936|\n",
      "|  false|CHEMBL2105717|     CHEMBL279, CHEMBL...|      CHEMBL4722|\n",
      "|   true|CHEMBL2105717|     CHEMBL279, CHEMBL...|      CHEMBL3717|\n",
      "|   true|CHEMBL2105717|     CHEMBL279, CHEMBL...|       CHEMBL279|\n",
      "|  false|CHEMBL2105717|     CHEMBL279, CHEMBL...|       CHEMBL203|\n",
      "+-------+-------------+-------------------------+----------------+\n",
      "\n"
     ]
    }
   ],
   "source": [
    "# drug_to_moa_isInMoA_filtered = drug_to_moa_isInMoA.filter(drug_to_moa_isInMoA[\"drugId\"] == \"CHEMBL2105717\")\n",
    "\n",
    "# selected_column = drug_to_moa_isInMoA_filtered.select(\"isInMoA\", \"drugId\", \"target_chembl_id_moa_aggr\", \"target_chembl_id\")\n",
    "# selected_column.show()"
   ]
  },
  {
   "cell_type": "markdown",
   "metadata": {},
   "source": [
    "### Targets: Evidence type: sources + classification for GE, clinical_GE, probes (boolean)"
   ]
  },
  {
   "cell_type": "code",
   "execution_count": 46,
   "metadata": {},
   "outputs": [
    {
     "name": "stderr",
     "output_type": "stream",
     "text": [
      "[Stage 290:>                                                        (0 + 1) / 1]\r"
     ]
    },
    {
     "name": "stdout",
     "output_type": "stream",
     "text": [
      "+----------+---------+---------------+--------------------+------------------+-------------------+\n",
      "|    drugId|uniprotId|       targetId|             sources|isHighQualityProbe|isTherapeuticTarget|\n",
      "+----------+---------+---------------+--------------------+------------------+-------------------+\n",
      "|CHEMBL1000|   O00167|ENSG00000064655|[ot_genetics_portal]|             false|              false|\n",
      "|CHEMBL1000|   O00555|ENSG00000141837|[uniprot_literatu...|             false|              false|\n",
      "|CHEMBL1000|   O14633|ENSG00000159455|[ot_genetics_portal]|             false|              false|\n",
      "|CHEMBL1000|   O60706|ENSG00000069431|            [chembl]|             false|               true|\n",
      "|CHEMBL1000|   P00352|ENSG00000165092|[ot_genetics_portal]|             false|              false|\n",
      "|CHEMBL1000|   P01567|ENSG00000214042|            [chembl]|             false|               true|\n",
      "|CHEMBL1000|   P04155|ENSG00000160182|[ot_genetics_portal]|             false|              false|\n",
      "|CHEMBL1000|   P20036|ENSG00000231389|[ot_genetics_portal]|             false|              false|\n",
      "|CHEMBL1000|   P35908|ENSG00000172867|              [impc]|             false|              false|\n",
      "|CHEMBL1000|   P49840|ENSG00000105723|            [chembl]|             false|               true|\n",
      "|CHEMBL1000|   P51617|ENSG00000184216|              [impc]|             false|              false|\n",
      "|CHEMBL1000|   P56270|ENSG00000103495|[ot_genetics_portal]|             false|              false|\n",
      "|CHEMBL1000|   P58511|ENSG00000205670|[ot_genetics_portal]|             false|              false|\n",
      "|CHEMBL1000|   Q03431|ENSG00000160801|            [chembl]|             false|               true|\n",
      "|CHEMBL1000|   Q06124|ENSG00000179295|[ot_genetics_portal]|             false|              false|\n",
      "|CHEMBL1000|   Q16552|ENSG00000112115|      [impc, chembl]|             false|               true|\n",
      "|CHEMBL1000|   Q7Z2W4|ENSG00000105939|[ot_genetics_portal]|             false|              false|\n",
      "|CHEMBL1000|   Q86SJ6|ENSG00000175065|              [impc]|             false|              false|\n",
      "|CHEMBL1000|   Q8N1K5|ENSG00000172673|[ot_genetics_portal]|             false|              false|\n",
      "|CHEMBL1000|   Q8N8W4|ENSG00000180316|              [impc]|             false|              false|\n",
      "+----------+---------+---------------+--------------------+------------------+-------------------+\n",
      "only showing top 20 rows\n",
      "\n"
     ]
    },
    {
     "name": "stderr",
     "output_type": "stream",
     "text": [
      "                                                                                \r"
     ]
    }
   ],
   "source": [
    "# Irene's table\n",
    "evidence_path = \"gs://ot-team/irene/drug_to_target\"\n",
    "evidence = spark.read.parquet(evidence_path)\n",
    "evidence.persist()\n",
    "evidence.show()"
   ]
  },
  {
   "cell_type": "code",
   "execution_count": 47,
   "metadata": {},
   "outputs": [],
   "source": [
    "# Join by drugId and uniprotId = accession\n",
    "evidence_list = [\"targetId\", \"sources\", \"isHighQualityProbe\", \"isTherapeuticTarget\"]\n",
    "\n",
    "target_evidence = join_dataframes_by_many_cols(drug_to_moa_isInMoA, \n",
    "                                            evidence, \n",
    "                                            [\"drugId\", \"accession\"], \n",
    "                                            [\"drugId\", \"uniprotId\"], \n",
    "                                             evidence_list).persist()\n",
    "# target_evidence.show()"
   ]
  },
  {
   "cell_type": "code",
   "execution_count": 52,
   "metadata": {},
   "outputs": [
    {
     "name": "stderr",
     "output_type": "stream",
     "text": [
      "                                                                                \r"
     ]
    },
    {
     "data": {
      "text/plain": [
       "4656"
      ]
     },
     "execution_count": 52,
     "metadata": {},
     "output_type": "execute_result"
    }
   ],
   "source": [
    "target_evidence.count()"
   ]
  },
  {
   "cell_type": "code",
   "execution_count": 53,
   "metadata": {},
   "outputs": [],
   "source": [
    "# Classification of targets by genetic evidence support\n",
    "def is_ge(sources):\n",
    "    undesired_lists = [\n",
    "        ['chembl'],\n",
    "        ['chemicalProbes'],\n",
    "        ['chembl', 'chemicalProbes'],\n",
    "        ['chemicalProbes', 'chembl']\n",
    "    ]\n",
    "    return not (sources in undesired_lists or sources is None)\n",
    "\n",
    "def is_ge_clinical(sources):\n",
    "    undesired_lists = [['chemicalProbes']]\n",
    "    return not (sources in undesired_lists or sources is None)\n",
    "\n",
    "def contains_chemical_probes(sources):\n",
    "    return 'chemicalProbes' in sources if sources else False\n",
    "\n",
    "# Register UDFs\n",
    "is_ge_udf = udf(is_ge, BooleanType())\n",
    "is_ge_clinical_udf = udf(is_ge_clinical, BooleanType())\n",
    "contains_chemical_probes_udf = udf(contains_chemical_probes, BooleanType())\n",
    "\n",
    "# Apply UDFs to create new columns\n",
    "target_evidence_bool = target_evidence.withColumn(\"isGE\", is_ge_udf(\"sources\"))\\\n",
    "                        .withColumn(\"isGE_clinical\", is_ge_clinical_udf(\"sources\"))\\\n",
    "                        .withColumn(\"isProbe\", contains_chemical_probes_udf(\"sources\"))\n",
    "\n",
    "# target_evidence_bool.show()\n",
    "# target_evidence_bool.count()"
   ]
  },
  {
   "cell_type": "code",
   "execution_count": 54,
   "metadata": {},
   "outputs": [
    {
     "data": {
      "text/plain": [
       "4656"
      ]
     },
     "execution_count": 54,
     "metadata": {},
     "output_type": "execute_result"
    }
   ],
   "source": [
    "target_evidence_bool.count()"
   ]
  },
  {
   "cell_type": "code",
   "execution_count": 55,
   "metadata": {},
   "outputs": [
    {
     "name": "stderr",
     "output_type": "stream",
     "text": [
      "24/01/23 17:22:20 WARN DAGScheduler: Broadcasting large task binary with size 1093.7 KiB\n",
      "                                                                                \r"
     ]
    }
   ],
   "source": [
    "target_evidence_bool.write.parquet(\"gs://ot-team/polina/target_evidence_bool_6\")"
   ]
  },
  {
   "cell_type": "code",
   "execution_count": 58,
   "metadata": {},
   "outputs": [
    {
     "name": "stderr",
     "output_type": "stream",
     "text": [
      "                                                                                \r"
     ]
    },
    {
     "data": {
      "text/plain": [
       "251"
      ]
     },
     "execution_count": 58,
     "metadata": {},
     "output_type": "execute_result"
    }
   ],
   "source": [
    "# How many targets:\n",
    "#   have assays for active drugs (pchembl median)\n",
    "#   not in MoA of these drugs\n",
    "#   supported by GE or clinical evidence\n",
    "\n",
    "med_notmoa_ge_clin = target_evidence_bool\\\n",
    "                        .filter(target_evidence_bool[\"IsActive_med\"] == True)\\\n",
    "                        .filter(target_evidence_bool[\"isInMoA\"] == False)\\\n",
    "                        .filter(target_evidence_bool[\"isGE_clinical\"] == True)\\\n",
    "\n",
    "count_unique_values(med_notmoa_ge_clin.drop_duplicates([\"target_chembl_id\"]), \"target_chembl_id\")"
   ]
  },
  {
   "cell_type": "code",
   "execution_count": null,
   "metadata": {},
   "outputs": [],
   "source": []
  },
  {
   "cell_type": "code",
   "execution_count": null,
   "metadata": {},
   "outputs": [],
   "source": []
  },
  {
   "cell_type": "code",
   "execution_count": null,
   "metadata": {},
   "outputs": [],
   "source": []
  },
  {
   "cell_type": "markdown",
   "metadata": {},
   "source": [
    "### Counts targets with non-pharmacological MoA"
   ]
  },
  {
   "cell_type": "code",
   "execution_count": null,
   "metadata": {},
   "outputs": [
    {
     "name": "stderr",
     "output_type": "stream",
     "text": [
      "                                                                                \r"
     ]
    },
    {
     "data": {
      "text/plain": [
       "135"
      ]
     },
     "metadata": {},
     "output_type": "display_data"
    }
   ],
   "source": [
    "# How many targets:\n",
    "#   have assays for active drugs \n",
    "#   not in MoA of these drugs\n",
    "#   supported by GE or clinical evidence\n",
    "\n",
    "target_evidence_no_moa = target_evidence_bool\\\n",
    "                        .filter(target_evidence_bool[\"IsActive_max\"] == True)\\\n",
    "                        .filter(target_evidence_bool[\"isInMoA\"].isNull())\\\n",
    "                        .filter(target_evidence_bool[\"isGE_clinical\"] == True)\\\n",
    "\n",
    "count_unique_values(target_evidence_no_moa.drop_duplicates([\"target_chembl_id\"]), \"target_chembl_id\")"
   ]
  },
  {
   "cell_type": "code",
   "execution_count": null,
   "metadata": {},
   "outputs": [
    {
     "name": "stderr",
     "output_type": "stream",
     "text": [
      "                                                                                \r"
     ]
    },
    {
     "data": {
      "text/plain": [
       "83"
      ]
     },
     "metadata": {},
     "output_type": "display_data"
    }
   ],
   "source": [
    "# How many targets:\n",
    "#   have assays for active drugs \n",
    "#   not in MoA of these drugs\n",
    "#   supported by GE\n",
    "\n",
    "target_evidence_no_moa = target_evidence_bool\\\n",
    "                        .filter(target_evidence_bool[\"IsActive_max\"] == True)\\\n",
    "                        .filter(target_evidence_bool[\"isInMoA\"].isNull())\\\n",
    "                        .filter(target_evidence_bool[\"isGE\"] == True)\\\n",
    "\n",
    "count_unique_values(target_evidence_no_moa.drop_duplicates([\"target_chembl_id\"]), \"target_chembl_id\")"
   ]
  },
  {
   "cell_type": "code",
   "execution_count": null,
   "metadata": {},
   "outputs": [
    {
     "name": "stderr",
     "output_type": "stream",
     "text": [
      "                                                                                \r"
     ]
    },
    {
     "data": {
      "text/plain": [
       "133"
      ]
     },
     "metadata": {},
     "output_type": "display_data"
    }
   ],
   "source": [
    "# How many targets:\n",
    "#   have assays for active drugs (pchembl median)\n",
    "#   not in MoA of these drugs\n",
    "#   supported by GE or clinical evidence\n",
    "\n",
    "target_evidence_no_moa = target_evidence_bool\\\n",
    "                        .filter(target_evidence_bool[\"IsActive_med\"] == True)\\\n",
    "                        .filter(target_evidence_bool[\"isInMoA\"].isNull())\\\n",
    "                        .filter(target_evidence_bool[\"isGE_clinical\"] == True)\\\n",
    "\n",
    "count_unique_values(target_evidence_no_moa.drop_duplicates([\"target_chembl_id\"]), \"target_chembl_id\")"
   ]
  },
  {
   "cell_type": "code",
   "execution_count": null,
   "metadata": {},
   "outputs": [
    {
     "name": "stderr",
     "output_type": "stream",
     "text": [
      "                                                                                \r"
     ]
    },
    {
     "data": {
      "text/plain": [
       "239"
      ]
     },
     "metadata": {},
     "output_type": "display_data"
    }
   ],
   "source": [
    "target_evidence_no_moa.count()"
   ]
  },
  {
   "cell_type": "code",
   "execution_count": null,
   "metadata": {},
   "outputs": [],
   "source": []
  },
  {
   "cell_type": "code",
   "execution_count": null,
   "metadata": {},
   "outputs": [
    {
     "name": "stderr",
     "output_type": "stream",
     "text": [
      "                                                                                \r"
     ]
    },
    {
     "data": {
      "text/plain": [
       "438"
      ]
     },
     "metadata": {},
     "output_type": "display_data"
    }
   ],
   "source": [
    "# No targets in MoA for probes\n",
    "target_evidence_no_moa_probes = target_evidence_bool\\\n",
    "                        .filter(target_evidence_bool[\"target_chembl_id_moa\"].isNull())\\\n",
    "                        .filter(target_evidence_bool[\"IsActive\"] == True)\\\n",
    "                        .filter(target_evidence_bool[\"isProbe\"] == True)\n",
    "count_unique_values(target_evidence_no_moa_probes, \"drugId\")"
   ]
  },
  {
   "cell_type": "code",
   "execution_count": null,
   "metadata": {},
   "outputs": [],
   "source": []
  },
  {
   "cell_type": "code",
   "execution_count": null,
   "metadata": {},
   "outputs": [],
   "source": []
  },
  {
   "cell_type": "code",
   "execution_count": null,
   "metadata": {},
   "outputs": [],
   "source": []
  },
  {
   "cell_type": "code",
   "execution_count": null,
   "metadata": {},
   "outputs": [
    {
     "name": "stderr",
     "output_type": "stream",
     "text": [
      "                                                                                \r"
     ]
    },
    {
     "data": {
      "text/plain": [
       "483"
      ]
     },
     "metadata": {},
     "output_type": "display_data"
    }
   ],
   "source": [
    "drug_active_only_probes = target_evidence_bool.filter(target_evidence_bool[\"isProbe\"] == True).filter(target_evidence_bool[\"isActive\"] == True)\n",
    "count_unique_values(drug_active_only_probes, \"drugId\")"
   ]
  },
  {
   "cell_type": "code",
   "execution_count": null,
   "metadata": {},
   "outputs": [
    {
     "name": "stderr",
     "output_type": "stream",
     "text": [
      "                                                                                \r"
     ]
    },
    {
     "data": {
      "text/plain": [
       "131"
      ]
     },
     "metadata": {},
     "output_type": "display_data"
    }
   ],
   "source": [
    "drug_active_only_probes = target_evidence_bool.filter(target_evidence_bool[\"isHighQualityProbe\"] == True).filter(target_evidence_bool[\"isActive\"] == True)\n",
    "count_unique_values(drug_active_only_probes, \"drugId\")"
   ]
  },
  {
   "cell_type": "code",
   "execution_count": null,
   "metadata": {},
   "outputs": [
    {
     "name": "stderr",
     "output_type": "stream",
     "text": [
      "                                                                                \r"
     ]
    },
    {
     "data": {
      "text/plain": [
       "2287"
      ]
     },
     "metadata": {},
     "output_type": "display_data"
    }
   ],
   "source": [
    "count_unique_values(target_evidence_bool, \"drugId\")"
   ]
  },
  {
   "cell_type": "code",
   "execution_count": null,
   "metadata": {},
   "outputs": [
    {
     "data": {
      "text/plain": [
       "596"
      ]
     },
     "metadata": {},
     "output_type": "display_data"
    }
   ],
   "source": [
    "target_evidence_bool_clinical = target_evidence_bool.filter(target_evidence_bool[\"isApproved\"] != \"true\")\n",
    "# target_evidence_bool_clinical.show()\n",
    "count_unique_values(target_evidence_bool_clinical, \"drugId\")"
   ]
  },
  {
   "cell_type": "code",
   "execution_count": null,
   "metadata": {},
   "outputs": [
    {
     "name": "stderr",
     "output_type": "stream",
     "text": [
      "                                                                                \r"
     ]
    },
    {
     "data": {
      "text/plain": [
       "850"
      ]
     },
     "metadata": {},
     "output_type": "display_data"
    }
   ],
   "source": [
    "target_evidence_bool_clinical = target_evidence_bool.filter(target_evidence_bool[\"isApproved\"] == True)\n",
    "# target_evidence_bool_clinical.show()\n",
    "count_unique_values(target_evidence_bool_clinical, \"drugId\")"
   ]
  },
  {
   "cell_type": "code",
   "execution_count": null,
   "metadata": {},
   "outputs": [
    {
     "name": "stderr",
     "output_type": "stream",
     "text": [
      "[Stage 953:=============================================>       (170 + 8) / 200]\r"
     ]
    },
    {
     "name": "stdout",
     "output_type": "stream",
     "text": [
      "+----------+-------------------+\n",
      "|isApproved|unique_drugId_count|\n",
      "+----------+-------------------+\n",
      "|      null|               1160|\n",
      "|      true|               1318|\n",
      "|     false|                895|\n",
      "+----------+-------------------+\n",
      "\n"
     ]
    },
    {
     "name": "stderr",
     "output_type": "stream",
     "text": [
      "                                                                                \r"
     ]
    }
   ],
   "source": [
    "from pyspark.sql.functions import countDistinct\n",
    "\n",
    "# Group by 'isApproved' and count distinct 'drugId's\n",
    "drugId_count = target_evidence_bool.groupBy(\"isApproved\").agg(countDistinct(\"drugId\").alias(\"unique_drugId_count\"))\n",
    "\n",
    "# Show the result\n",
    "drugId_count.show()\n"
   ]
  },
  {
   "cell_type": "code",
   "execution_count": null,
   "metadata": {},
   "outputs": [
    {
     "data": {
      "text/plain": [
       "187"
      ]
     },
     "metadata": {},
     "output_type": "display_data"
    }
   ],
   "source": [
    "target_evidence_bool_probe_h = target_evidence_bool.filter(target_evidence_bool[\"isHighQualityProbe\"] == True)\n",
    "# target_evidence_bool_probe_h.show()\n",
    "count_unique_values(target_evidence_bool_probe_h, \"drugId\")"
   ]
  },
  {
   "cell_type": "code",
   "execution_count": null,
   "metadata": {},
   "outputs": [
    {
     "name": "stderr",
     "output_type": "stream",
     "text": [
      "                                                                                \r"
     ]
    },
    {
     "data": {
      "text/plain": [
       "695"
      ]
     },
     "metadata": {},
     "output_type": "display_data"
    }
   ],
   "source": [
    "target_evidence_bool_probe = target_evidence_bool.filter(target_evidence_bool[\"isProbe\"] == True)\n",
    "# target_evidence_bool_probe.show()\n",
    "count_unique_values(target_evidence_bool_probe, \"drugId\")"
   ]
  },
  {
   "cell_type": "markdown",
   "metadata": {},
   "source": [
    "# Data coverage"
   ]
  },
  {
   "cell_type": "markdown",
   "metadata": {},
   "source": [
    "### Drugs"
   ]
  },
  {
   "cell_type": "code",
   "execution_count": null,
   "metadata": {},
   "outputs": [],
   "source": [
    "# Filtering by:\n",
    "#         1. max_phase ≠ 4 | max_phase = 4 | probes = TRUE\n",
    "#         2. moa = NaN | moa ≠ NaN\n",
    "#         3. drugActive = TRUE\n",
    "#         4. GE = TRUE | clinical_GE = TRUE"
   ]
  },
  {
   "cell_type": "code",
   "execution_count": null,
   "metadata": {},
   "outputs": [],
   "source": [
    "# Number of clinical candidates/approved drugs/chemical probes for which:\n",
    "#     1. there is no MoA and they are bioactive against some targets:\n",
    "#         1. which have GE/GE+clinical evidence for any disease\n",
    "#     2. there is MoA but they are bioactive against some other targets\n",
    "#         1. which have GE/GE+clinical evidence for any disease"
   ]
  },
  {
   "cell_type": "markdown",
   "metadata": {},
   "source": [
    "### Targets"
   ]
  },
  {
   "cell_type": "code",
   "execution_count": null,
   "metadata": {},
   "outputs": [
    {
     "name": "stdout",
     "output_type": "stream",
     "text": [
      "+----------------+-------------+--------------+-------------------------+----------+--------------------+--------------------+---------------+----------+-----------+-------------+-------------+--------------+--------------+-----------------+---------------+--------------------+----------------+----------------------+--------------+--------------------+---------------+---------+------------+-----------------+--------------------+--------+---------------+--------------------+-----------+---------------+--------+------------------+-------------------+-----+-------------+-------+\n",
      "|target_chembl_id|       drugId|      drugType|maximumClinicalTrialPhase|isApproved|       linkedTargets|      linkedDiseases|assay_chembl_id|assay_type|action_type|pchembl_value|standard_type|standard_units|standard_value|standard_relation|target_organism|    target_pref_name|confidence_score|confidence_description|assay_category|   target_components|    target_type|accession|proteinClass|max_pchembl_value|median_pchembl_value|isActive|action_type_moa|target_chembl_id_moa|targetInMoA|       targetId| sources|isHighQualityProbe|isTherapeuticTarget| isGE|isGE_clinical|isProbe|\n",
      "+----------------+-------------+--------------+-------------------------+----------+--------------------+--------------------+---------------+----------+-----------+-------------+-------------+--------------+--------------+-----------------+---------------+--------------------+----------------+----------------------+--------------+--------------------+---------------+---------+------------+-----------------+--------------------+--------+---------------+--------------------+-----------+---------------+--------+------------------+-------------------+-----+-------------+-------+\n",
      "|   CHEMBL1907602|CHEMBL4442620|Small molecule|                      2.0|     false|{20, [ENSG0000017...|{3, [EFO_0003060,...|  CHEMBL3607089|         B|       null|         8.15|         IC50|            nM|           7.0|                =|   Homo sapiens|Cyclin-dependent ...|               7|  Direct protein co...|          null|[{P06493, Cyclin-...|PROTEIN COMPLEX|   P06493|      Kinase|             8.15|                8.15|    TRUE|      INHIBITOR|       CHEMBL3559691|      false|ENSG00000170312|[chembl]|             false|               true|false|         true|  false|\n",
      "|       CHEMBL308|CHEMBL2436978|Small molecule|                     null|      null|                null|                null|  CHEMBL2439767|         B|       null|         5.95|         IC50|            nM|        1125.0|                =|   Homo sapiens|Cyclin-dependent ...|               9|  Direct single pro...|          null|[{P06493, Cyclin-...| SINGLE PROTEIN|   P06493|      Kinase|             5.95|                5.95|   FALSE|           null|                null|       null|           null|    null|              null|               null|false|        false|  false|\n",
      "|       CHEMBL308|CHEMBL3688339|Small molecule|                     null|      null|                null|                null|  CHEMBL3991650|         B|       null|         6.54|           Kd|            nM|         288.0|                =|   Homo sapiens|Cyclin-dependent ...|               9|  Direct single pro...|          null|[{P06493, Cyclin-...| SINGLE PROTEIN|   P06493|      Kinase|             6.54|                6.54|   FALSE|           null|                null|       null|           null|    null|              null|               null|false|        false|  false|\n",
      "|   CHEMBL1907602|CHEMBL4442620|Small molecule|                      2.0|     false|{20, [ENSG0000017...|{3, [EFO_0003060,...|  CHEMBL4613391|         B|       null|         8.15|         IC50|            nM|           7.0|                =|   Homo sapiens|Cyclin-dependent ...|               7|  Direct protein co...|          null|[{P06493, Cyclin-...|PROTEIN COMPLEX|   P06493|      Kinase|             8.15|                8.15|    TRUE|      INHIBITOR|       CHEMBL3559691|      false|ENSG00000170312|[chembl]|             false|               true|false|         true|  false|\n",
      "|   CHEMBL1907602| CHEMBL428690|Small molecule|                      3.0|     false|{6, [ENSG00000170...|{26, [EFO_0001378...|  CHEMBL3856462|         B|       null|         7.57|         IC50|            nM|          27.0|                =|   Homo sapiens|Cyclin-dependent ...|               7|  Direct protein co...|          null|[{P06493, Cyclin-...|PROTEIN COMPLEX|   P06493|      Kinase|             7.57|                7.57|   FALSE|      INHIBITOR|          CHEMBL3055|      false|ENSG00000170312|[chembl]|             false|               true|false|         true|  false|\n",
      "|   CHEMBL1907602| CHEMBL428690|Small molecule|                      3.0|     false|{6, [ENSG00000170...|{26, [EFO_0001378...|  CHEMBL3856462|         B|       null|         7.57|         IC50|            nM|          27.0|                =|   Homo sapiens|Cyclin-dependent ...|               7|  Direct protein co...|          null|[{P06493, Cyclin-...|PROTEIN COMPLEX|   P06493|      Kinase|             7.57|                7.57|   FALSE|      INHIBITOR|          CHEMBL3116|      false|ENSG00000170312|[chembl]|             false|               true|false|         true|  false|\n",
      "|   CHEMBL1907602| CHEMBL428690|Small molecule|                      3.0|     false|{6, [ENSG00000170...|{26, [EFO_0001378...|  CHEMBL3856462|         B|       null|         7.57|         IC50|            nM|          27.0|                =|   Homo sapiens|Cyclin-dependent ...|               7|  Direct protein co...|          null|[{P06493, Cyclin-...|PROTEIN COMPLEX|   P06493|      Kinase|             7.57|                7.57|   FALSE|      INHIBITOR|          CHEMBL2508|      false|ENSG00000170312|[chembl]|             false|               true|false|         true|  false|\n",
      "|   CHEMBL1907602| CHEMBL428690|Small molecule|                      3.0|     false|{6, [ENSG00000170...|{26, [EFO_0001378...|  CHEMBL3856462|         B|       null|         7.57|         IC50|            nM|          27.0|                =|   Homo sapiens|Cyclin-dependent ...|               7|  Direct protein co...|          null|[{P06493, Cyclin-...|PROTEIN COMPLEX|   P06493|      Kinase|             7.57|                7.57|   FALSE|      INHIBITOR|           CHEMBL301|      false|ENSG00000170312|[chembl]|             false|               true|false|         true|  false|\n",
      "|   CHEMBL1907602| CHEMBL428690|Small molecule|                      3.0|     false|{6, [ENSG00000170...|{26, [EFO_0001378...|  CHEMBL3856462|         B|       null|         7.57|         IC50|            nM|          27.0|                =|   Homo sapiens|Cyclin-dependent ...|               7|  Direct protein co...|          null|[{P06493, Cyclin-...|PROTEIN COMPLEX|   P06493|      Kinase|             7.57|                7.57|   FALSE|      INHIBITOR|           CHEMBL308|      false|ENSG00000170312|[chembl]|             false|               true|false|         true|  false|\n",
      "|   CHEMBL1907602| CHEMBL428690|Small molecule|                      3.0|     false|{6, [ENSG00000170...|{26, [EFO_0001378...|  CHEMBL3856462|         B|       null|         7.57|         IC50|            nM|          27.0|                =|   Homo sapiens|Cyclin-dependent ...|               7|  Direct protein co...|          null|[{P06493, Cyclin-...|PROTEIN COMPLEX|   P06493|      Kinase|             7.57|                7.57|   FALSE|      INHIBITOR|           CHEMBL331|      false|ENSG00000170312|[chembl]|             false|               true|false|         true|  false|\n",
      "|       CHEMBL308|CHEMBL2103840|Small molecule|                      3.0|     false|{4, [ENSG00000170...|{9, [EFO_0006861,...|  CHEMBL3856515|         B|       null|         8.52|         IC50|            nM|           3.0|                =|   Homo sapiens|Cyclin-dependent ...|               9|  Direct single pro...|          null|[{P06493, Cyclin-...| SINGLE PROTEIN|   P06493|      Kinase|             8.52|                8.52|    TRUE|      INHIBITOR|          CHEMBL3116|       true|ENSG00000170312|[chembl]|             false|               true|false|         true|  false|\n",
      "|       CHEMBL308|CHEMBL2103840|Small molecule|                      3.0|     false|{4, [ENSG00000170...|{9, [EFO_0006861,...|  CHEMBL3856515|         B|       null|         8.52|         IC50|            nM|           3.0|                =|   Homo sapiens|Cyclin-dependent ...|               9|  Direct single pro...|          null|[{P06493, Cyclin-...| SINGLE PROTEIN|   P06493|      Kinase|             8.52|                8.52|    TRUE|      INHIBITOR|           CHEMBL308|       true|ENSG00000170312|[chembl]|             false|               true|false|         true|  false|\n",
      "|       CHEMBL308|CHEMBL2103840|Small molecule|                      3.0|     false|{4, [ENSG00000170...|{9, [EFO_0006861,...|  CHEMBL3856515|         B|       null|         8.52|         IC50|            nM|           3.0|                =|   Homo sapiens|Cyclin-dependent ...|               9|  Direct single pro...|          null|[{P06493, Cyclin-...| SINGLE PROTEIN|   P06493|      Kinase|             8.52|                8.52|    TRUE|      INHIBITOR|          CHEMBL4036|       true|ENSG00000170312|[chembl]|             false|               true|false|         true|  false|\n",
      "|       CHEMBL308|CHEMBL2103840|Small molecule|                      3.0|     false|{4, [ENSG00000170...|{9, [EFO_0006861,...|  CHEMBL3856515|         B|       null|         8.52|         IC50|            nM|           3.0|                =|   Homo sapiens|Cyclin-dependent ...|               9|  Direct single pro...|          null|[{P06493, Cyclin-...| SINGLE PROTEIN|   P06493|      Kinase|             8.52|                8.52|    TRUE|      INHIBITOR|           CHEMBL301|       true|ENSG00000170312|[chembl]|             false|               true|false|         true|  false|\n",
      "|       CHEMBL308|CHEMBL1944698|Small molecule|                      1.0|     false|{6, [ENSG00000136...|{5, [EFO_0000182,...|  CHEMBL3856510|         B|       null|         8.52|         IC50|            nM|           3.0|                =|   Homo sapiens|Cyclin-dependent ...|               9|  Direct single pro...|          null|[{P06493, Cyclin-...| SINGLE PROTEIN|   P06493|      Kinase|             8.52|                8.52|    TRUE|      INHIBITOR|          CHEMBL3116|       true|ENSG00000170312|[chembl]|             false|               true|false|         true|  false|\n",
      "|       CHEMBL308|CHEMBL1944698|Small molecule|                      1.0|     false|{6, [ENSG00000136...|{5, [EFO_0000182,...|  CHEMBL3856510|         B|       null|         8.52|         IC50|            nM|           3.0|                =|   Homo sapiens|Cyclin-dependent ...|               9|  Direct single pro...|          null|[{P06493, Cyclin-...| SINGLE PROTEIN|   P06493|      Kinase|             8.52|                8.52|    TRUE|      INHIBITOR|          CHEMBL2971|       true|ENSG00000170312|[chembl]|             false|               true|false|         true|  false|\n",
      "|       CHEMBL308|CHEMBL1944698|Small molecule|                      1.0|     false|{6, [ENSG00000136...|{5, [EFO_0000182,...|  CHEMBL3856510|         B|       null|         8.52|         IC50|            nM|           3.0|                =|   Homo sapiens|Cyclin-dependent ...|               9|  Direct single pro...|          null|[{P06493, Cyclin-...| SINGLE PROTEIN|   P06493|      Kinase|             8.52|                8.52|    TRUE|      INHIBITOR|          CHEMBL3055|       true|ENSG00000170312|[chembl]|             false|               true|false|         true|  false|\n",
      "|       CHEMBL308|CHEMBL1944698|Small molecule|                      1.0|     false|{6, [ENSG00000136...|{5, [EFO_0000182,...|  CHEMBL3856510|         B|       null|         8.52|         IC50|            nM|           3.0|                =|   Homo sapiens|Cyclin-dependent ...|               9|  Direct single pro...|          null|[{P06493, Cyclin-...| SINGLE PROTEIN|   P06493|      Kinase|             8.52|                8.52|    TRUE|      INHIBITOR|           CHEMBL301|       true|ENSG00000170312|[chembl]|             false|               true|false|         true|  false|\n",
      "|       CHEMBL308|CHEMBL1944698|Small molecule|                      1.0|     false|{6, [ENSG00000136...|{5, [EFO_0000182,...|  CHEMBL3856510|         B|       null|         8.52|         IC50|            nM|           3.0|                =|   Homo sapiens|Cyclin-dependent ...|               9|  Direct single pro...|          null|[{P06493, Cyclin-...| SINGLE PROTEIN|   P06493|      Kinase|             8.52|                8.52|    TRUE|      INHIBITOR|          CHEMBL1974|       true|ENSG00000170312|[chembl]|             false|               true|false|         true|  false|\n",
      "|       CHEMBL308|CHEMBL1944698|Small molecule|                      1.0|     false|{6, [ENSG00000136...|{5, [EFO_0000182,...|  CHEMBL3856510|         B|       null|         8.52|         IC50|            nM|           3.0|                =|   Homo sapiens|Cyclin-dependent ...|               9|  Direct single pro...|          null|[{P06493, Cyclin-...| SINGLE PROTEIN|   P06493|      Kinase|             8.52|                8.52|    TRUE|      INHIBITOR|           CHEMBL308|       true|ENSG00000170312|[chembl]|             false|               true|false|         true|  false|\n",
      "+----------------+-------------+--------------+-------------------------+----------+--------------------+--------------------+---------------+----------+-----------+-------------+-------------+--------------+--------------+-----------------+---------------+--------------------+----------------+----------------------+--------------+--------------------+---------------+---------+------------+-----------------+--------------------+--------+---------------+--------------------+-----------+---------------+--------+------------------+-------------------+-----+-------------+-------+\n",
      "only showing top 20 rows\n",
      "\n"
     ]
    }
   ],
   "source": [
    "# Dataset with only pchembl value activity\n",
    "target_evidence_bool.show()"
   ]
  },
  {
   "cell_type": "code",
   "execution_count": null,
   "metadata": {},
   "outputs": [
    {
     "name": "stdout",
     "output_type": "stream",
     "text": [
      "+---------------+-----+\n",
      "|       drugType|count|\n",
      "+---------------+-----+\n",
      "| Small molecule| 9218|\n",
      "|Oligosaccharide|    2|\n",
      "|           null|    1|\n",
      "|        Protein|  113|\n",
      "|       Antibody|    4|\n",
      "|        Unknown|   14|\n",
      "+---------------+-----+\n",
      "\n"
     ]
    }
   ],
   "source": [
    "show_unique_values_and_counts(target_evidence_bool, \"drugType\")"
   ]
  },
  {
   "cell_type": "code",
   "execution_count": null,
   "metadata": {},
   "outputs": [
    {
     "name": "stderr",
     "output_type": "stream",
     "text": [
      "                                                                                \r"
     ]
    },
    {
     "data": {
      "text/plain": [
       "326"
      ]
     },
     "metadata": {},
     "output_type": "display_data"
    }
   ],
   "source": [
    "# Number of targets supported by GE which have active bioassays\n",
    "\n",
    "targets_GE = target_evidence_bool\\\n",
    "                .filter(target_evidence_bool[\"IsActive\"] == True)\\\n",
    "                .filter(target_evidence_bool[\"isGE\"] == True)\n",
    "\n",
    "count_unique_values(targets_GE, \"target_chembl_id\")"
   ]
  },
  {
   "cell_type": "code",
   "execution_count": null,
   "metadata": {},
   "outputs": [
    {
     "name": "stderr",
     "output_type": "stream",
     "text": [
      "                                                                                \r"
     ]
    },
    {
     "data": {
      "text/plain": [
       "431"
      ]
     },
     "metadata": {},
     "output_type": "display_data"
    }
   ],
   "source": [
    "# Number of targets supported by GE_clinical which have active bioassays\n",
    "\n",
    "targets_GE_clinical = target_evidence_bool\\\n",
    "                .filter(target_evidence_bool[\"IsActive\"] == True)\\\n",
    "                .filter(target_evidence_bool[\"isGE_clinical\"] == True)\n",
    "\n",
    "count_unique_values(targets_GE_clinical, \"target_chembl_id\")"
   ]
  },
  {
   "cell_type": "code",
   "execution_count": null,
   "metadata": {},
   "outputs": [
    {
     "name": "stderr",
     "output_type": "stream",
     "text": [
      "                                                                                \r"
     ]
    },
    {
     "data": {
      "text/plain": [
       "115"
      ]
     },
     "metadata": {},
     "output_type": "display_data"
    }
   ],
   "source": [
    "# Number of targets supported by GE which have active bioassays and not in MoA of the drug\n",
    "\n",
    "targets_GE_noMoA = target_evidence_bool\\\n",
    "                .filter(target_evidence_bool[\"IsActive\"] == True)\\\n",
    "                .filter(target_evidence_bool[\"isGE\"] == True)\\\n",
    "                .filter(target_evidence_bool[\"targetInMoA\"] != True)\n",
    "\n",
    "count_unique_values(targets_GE_noMoA, \"target_chembl_id\")"
   ]
  },
  {
   "cell_type": "code",
   "execution_count": null,
   "metadata": {},
   "outputs": [
    {
     "name": "stderr",
     "output_type": "stream",
     "text": [
      "                                                                                \r"
     ]
    },
    {
     "data": {
      "text/plain": [
       "145"
      ]
     },
     "metadata": {},
     "output_type": "display_data"
    }
   ],
   "source": [
    "# Number of targets supported by GE_clinical which have active bioassays and not in MoA of the drug\n",
    "\n",
    "targets_GE_clinical_noMoA = target_evidence_bool\\\n",
    "                .filter(target_evidence_bool[\"IsActive\"] == True)\\\n",
    "                .filter(target_evidence_bool[\"isGE_clinical\"] == True)\\\n",
    "                .filter(target_evidence_bool[\"targetInMoA\"] != True)\n",
    "\n",
    "count_unique_values(targets_GE_clinical_noMoA, \"target_chembl_id\")"
   ]
  },
  {
   "cell_type": "markdown",
   "metadata": {},
   "source": [
    "## Action type"
   ]
  },
  {
   "cell_type": "code",
   "execution_count": null,
   "metadata": {},
   "outputs": [
    {
     "name": "stdout",
     "output_type": "stream",
     "text": [
      "+----------------+-------------+--------------+-------------------------+----------+--------------------+--------------------+---------------+----------+-----------+-------------+-------------+--------------+--------------+-----------------+---------------+--------------------+----------------+----------------------+--------------+--------------------+---------------+---------+------------+-----------------+--------------------+--------+---------------+--------------------+-----------+---------------+--------+------------------+-------------------+-----+-------------+-------+\n",
      "|target_chembl_id|       drugId|      drugType|maximumClinicalTrialPhase|isApproved|       linkedTargets|      linkedDiseases|assay_chembl_id|assay_type|action_type|pchembl_value|standard_type|standard_units|standard_value|standard_relation|target_organism|    target_pref_name|confidence_score|confidence_description|assay_category|   target_components|    target_type|accession|proteinClass|max_pchembl_value|median_pchembl_value|isActive|action_type_moa|target_chembl_id_moa|targetInMoA|       targetId| sources|isHighQualityProbe|isTherapeuticTarget| isGE|isGE_clinical|isProbe|\n",
      "+----------------+-------------+--------------+-------------------------+----------+--------------------+--------------------+---------------+----------+-----------+-------------+-------------+--------------+--------------+-----------------+---------------+--------------------+----------------+----------------------+--------------+--------------------+---------------+---------+------------+-----------------+--------------------+--------+---------------+--------------------+-----------+---------------+--------+------------------+-------------------+-----+-------------+-------+\n",
      "|   CHEMBL1907602|CHEMBL4442620|Small molecule|                      2.0|     false|{20, [ENSG0000017...|{3, [EFO_0003060,...|  CHEMBL3607089|         B|       null|         8.15|         IC50|            nM|           7.0|                =|   Homo sapiens|Cyclin-dependent ...|               7|  Direct protein co...|          null|[{P06493, Cyclin-...|PROTEIN COMPLEX|   P06493|      Kinase|             8.15|                8.15|    TRUE|      INHIBITOR|       CHEMBL3559691|      false|ENSG00000170312|[chembl]|             false|               true|false|         true|  false|\n",
      "|       CHEMBL308|CHEMBL2436978|Small molecule|                     null|      null|                null|                null|  CHEMBL2439767|         B|       null|         5.95|         IC50|            nM|        1125.0|                =|   Homo sapiens|Cyclin-dependent ...|               9|  Direct single pro...|          null|[{P06493, Cyclin-...| SINGLE PROTEIN|   P06493|      Kinase|             5.95|                5.95|   FALSE|           null|                null|       null|           null|    null|              null|               null|false|        false|  false|\n",
      "|       CHEMBL308|CHEMBL3688339|Small molecule|                     null|      null|                null|                null|  CHEMBL3991650|         B|       null|         6.54|           Kd|            nM|         288.0|                =|   Homo sapiens|Cyclin-dependent ...|               9|  Direct single pro...|          null|[{P06493, Cyclin-...| SINGLE PROTEIN|   P06493|      Kinase|             6.54|                6.54|   FALSE|           null|                null|       null|           null|    null|              null|               null|false|        false|  false|\n",
      "|   CHEMBL1907602|CHEMBL4442620|Small molecule|                      2.0|     false|{20, [ENSG0000017...|{3, [EFO_0003060,...|  CHEMBL4613391|         B|       null|         8.15|         IC50|            nM|           7.0|                =|   Homo sapiens|Cyclin-dependent ...|               7|  Direct protein co...|          null|[{P06493, Cyclin-...|PROTEIN COMPLEX|   P06493|      Kinase|             8.15|                8.15|    TRUE|      INHIBITOR|       CHEMBL3559691|      false|ENSG00000170312|[chembl]|             false|               true|false|         true|  false|\n",
      "|   CHEMBL1907602| CHEMBL428690|Small molecule|                      3.0|     false|{6, [ENSG00000170...|{26, [EFO_0001378...|  CHEMBL3856462|         B|       null|         7.57|         IC50|            nM|          27.0|                =|   Homo sapiens|Cyclin-dependent ...|               7|  Direct protein co...|          null|[{P06493, Cyclin-...|PROTEIN COMPLEX|   P06493|      Kinase|             7.57|                7.57|   FALSE|      INHIBITOR|          CHEMBL3055|      false|ENSG00000170312|[chembl]|             false|               true|false|         true|  false|\n",
      "|   CHEMBL1907602| CHEMBL428690|Small molecule|                      3.0|     false|{6, [ENSG00000170...|{26, [EFO_0001378...|  CHEMBL3856462|         B|       null|         7.57|         IC50|            nM|          27.0|                =|   Homo sapiens|Cyclin-dependent ...|               7|  Direct protein co...|          null|[{P06493, Cyclin-...|PROTEIN COMPLEX|   P06493|      Kinase|             7.57|                7.57|   FALSE|      INHIBITOR|          CHEMBL3116|      false|ENSG00000170312|[chembl]|             false|               true|false|         true|  false|\n",
      "|   CHEMBL1907602| CHEMBL428690|Small molecule|                      3.0|     false|{6, [ENSG00000170...|{26, [EFO_0001378...|  CHEMBL3856462|         B|       null|         7.57|         IC50|            nM|          27.0|                =|   Homo sapiens|Cyclin-dependent ...|               7|  Direct protein co...|          null|[{P06493, Cyclin-...|PROTEIN COMPLEX|   P06493|      Kinase|             7.57|                7.57|   FALSE|      INHIBITOR|          CHEMBL2508|      false|ENSG00000170312|[chembl]|             false|               true|false|         true|  false|\n",
      "|   CHEMBL1907602| CHEMBL428690|Small molecule|                      3.0|     false|{6, [ENSG00000170...|{26, [EFO_0001378...|  CHEMBL3856462|         B|       null|         7.57|         IC50|            nM|          27.0|                =|   Homo sapiens|Cyclin-dependent ...|               7|  Direct protein co...|          null|[{P06493, Cyclin-...|PROTEIN COMPLEX|   P06493|      Kinase|             7.57|                7.57|   FALSE|      INHIBITOR|           CHEMBL301|      false|ENSG00000170312|[chembl]|             false|               true|false|         true|  false|\n",
      "|   CHEMBL1907602| CHEMBL428690|Small molecule|                      3.0|     false|{6, [ENSG00000170...|{26, [EFO_0001378...|  CHEMBL3856462|         B|       null|         7.57|         IC50|            nM|          27.0|                =|   Homo sapiens|Cyclin-dependent ...|               7|  Direct protein co...|          null|[{P06493, Cyclin-...|PROTEIN COMPLEX|   P06493|      Kinase|             7.57|                7.57|   FALSE|      INHIBITOR|           CHEMBL308|      false|ENSG00000170312|[chembl]|             false|               true|false|         true|  false|\n",
      "|   CHEMBL1907602| CHEMBL428690|Small molecule|                      3.0|     false|{6, [ENSG00000170...|{26, [EFO_0001378...|  CHEMBL3856462|         B|       null|         7.57|         IC50|            nM|          27.0|                =|   Homo sapiens|Cyclin-dependent ...|               7|  Direct protein co...|          null|[{P06493, Cyclin-...|PROTEIN COMPLEX|   P06493|      Kinase|             7.57|                7.57|   FALSE|      INHIBITOR|           CHEMBL331|      false|ENSG00000170312|[chembl]|             false|               true|false|         true|  false|\n",
      "|       CHEMBL308|CHEMBL2103840|Small molecule|                      3.0|     false|{4, [ENSG00000170...|{9, [EFO_0006861,...|  CHEMBL3856515|         B|       null|         8.52|         IC50|            nM|           3.0|                =|   Homo sapiens|Cyclin-dependent ...|               9|  Direct single pro...|          null|[{P06493, Cyclin-...| SINGLE PROTEIN|   P06493|      Kinase|             8.52|                8.52|    TRUE|      INHIBITOR|          CHEMBL3116|       true|ENSG00000170312|[chembl]|             false|               true|false|         true|  false|\n",
      "|       CHEMBL308|CHEMBL2103840|Small molecule|                      3.0|     false|{4, [ENSG00000170...|{9, [EFO_0006861,...|  CHEMBL3856515|         B|       null|         8.52|         IC50|            nM|           3.0|                =|   Homo sapiens|Cyclin-dependent ...|               9|  Direct single pro...|          null|[{P06493, Cyclin-...| SINGLE PROTEIN|   P06493|      Kinase|             8.52|                8.52|    TRUE|      INHIBITOR|           CHEMBL308|       true|ENSG00000170312|[chembl]|             false|               true|false|         true|  false|\n",
      "|       CHEMBL308|CHEMBL2103840|Small molecule|                      3.0|     false|{4, [ENSG00000170...|{9, [EFO_0006861,...|  CHEMBL3856515|         B|       null|         8.52|         IC50|            nM|           3.0|                =|   Homo sapiens|Cyclin-dependent ...|               9|  Direct single pro...|          null|[{P06493, Cyclin-...| SINGLE PROTEIN|   P06493|      Kinase|             8.52|                8.52|    TRUE|      INHIBITOR|          CHEMBL4036|       true|ENSG00000170312|[chembl]|             false|               true|false|         true|  false|\n",
      "|       CHEMBL308|CHEMBL2103840|Small molecule|                      3.0|     false|{4, [ENSG00000170...|{9, [EFO_0006861,...|  CHEMBL3856515|         B|       null|         8.52|         IC50|            nM|           3.0|                =|   Homo sapiens|Cyclin-dependent ...|               9|  Direct single pro...|          null|[{P06493, Cyclin-...| SINGLE PROTEIN|   P06493|      Kinase|             8.52|                8.52|    TRUE|      INHIBITOR|           CHEMBL301|       true|ENSG00000170312|[chembl]|             false|               true|false|         true|  false|\n",
      "|       CHEMBL308|CHEMBL1944698|Small molecule|                      1.0|     false|{6, [ENSG00000136...|{5, [EFO_0000182,...|  CHEMBL3856510|         B|       null|         8.52|         IC50|            nM|           3.0|                =|   Homo sapiens|Cyclin-dependent ...|               9|  Direct single pro...|          null|[{P06493, Cyclin-...| SINGLE PROTEIN|   P06493|      Kinase|             8.52|                8.52|    TRUE|      INHIBITOR|          CHEMBL3116|       true|ENSG00000170312|[chembl]|             false|               true|false|         true|  false|\n",
      "|       CHEMBL308|CHEMBL1944698|Small molecule|                      1.0|     false|{6, [ENSG00000136...|{5, [EFO_0000182,...|  CHEMBL3856510|         B|       null|         8.52|         IC50|            nM|           3.0|                =|   Homo sapiens|Cyclin-dependent ...|               9|  Direct single pro...|          null|[{P06493, Cyclin-...| SINGLE PROTEIN|   P06493|      Kinase|             8.52|                8.52|    TRUE|      INHIBITOR|          CHEMBL2971|       true|ENSG00000170312|[chembl]|             false|               true|false|         true|  false|\n",
      "|       CHEMBL308|CHEMBL1944698|Small molecule|                      1.0|     false|{6, [ENSG00000136...|{5, [EFO_0000182,...|  CHEMBL3856510|         B|       null|         8.52|         IC50|            nM|           3.0|                =|   Homo sapiens|Cyclin-dependent ...|               9|  Direct single pro...|          null|[{P06493, Cyclin-...| SINGLE PROTEIN|   P06493|      Kinase|             8.52|                8.52|    TRUE|      INHIBITOR|          CHEMBL3055|       true|ENSG00000170312|[chembl]|             false|               true|false|         true|  false|\n",
      "|       CHEMBL308|CHEMBL1944698|Small molecule|                      1.0|     false|{6, [ENSG00000136...|{5, [EFO_0000182,...|  CHEMBL3856510|         B|       null|         8.52|         IC50|            nM|           3.0|                =|   Homo sapiens|Cyclin-dependent ...|               9|  Direct single pro...|          null|[{P06493, Cyclin-...| SINGLE PROTEIN|   P06493|      Kinase|             8.52|                8.52|    TRUE|      INHIBITOR|           CHEMBL301|       true|ENSG00000170312|[chembl]|             false|               true|false|         true|  false|\n",
      "|       CHEMBL308|CHEMBL1944698|Small molecule|                      1.0|     false|{6, [ENSG00000136...|{5, [EFO_0000182,...|  CHEMBL3856510|         B|       null|         8.52|         IC50|            nM|           3.0|                =|   Homo sapiens|Cyclin-dependent ...|               9|  Direct single pro...|          null|[{P06493, Cyclin-...| SINGLE PROTEIN|   P06493|      Kinase|             8.52|                8.52|    TRUE|      INHIBITOR|          CHEMBL1974|       true|ENSG00000170312|[chembl]|             false|               true|false|         true|  false|\n",
      "|       CHEMBL308|CHEMBL1944698|Small molecule|                      1.0|     false|{6, [ENSG00000136...|{5, [EFO_0000182,...|  CHEMBL3856510|         B|       null|         8.52|         IC50|            nM|           3.0|                =|   Homo sapiens|Cyclin-dependent ...|               9|  Direct single pro...|          null|[{P06493, Cyclin-...| SINGLE PROTEIN|   P06493|      Kinase|             8.52|                8.52|    TRUE|      INHIBITOR|           CHEMBL308|       true|ENSG00000170312|[chembl]|             false|               true|false|         true|  false|\n",
      "+----------------+-------------+--------------+-------------------------+----------+--------------------+--------------------+---------------+----------+-----------+-------------+-------------+--------------+--------------+-----------------+---------------+--------------------+----------------+----------------------+--------------+--------------------+---------------+---------+------------+-----------------+--------------------+--------+---------------+--------------------+-----------+---------------+--------+------------------+-------------------+-----+-------------+-------+\n",
      "only showing top 20 rows\n",
      "\n"
     ]
    },
    {
     "data": {
      "text/plain": [
       "9352"
      ]
     },
     "metadata": {},
     "output_type": "display_data"
    }
   ],
   "source": [
    "# Taking table target_organism_filter (after pchembl filter)\n",
    "\n",
    "target_evidence_bool.show()\n",
    "target_evidence_bool.count()"
   ]
  },
  {
   "cell_type": "code",
   "execution_count": null,
   "metadata": {},
   "outputs": [
    {
     "data": {
      "text/plain": [
       "2287"
      ]
     },
     "metadata": {},
     "output_type": "display_data"
    }
   ],
   "source": [
    "count_unique_values(target_evidence_bool, \"drugId\")"
   ]
  },
  {
   "cell_type": "code",
   "execution_count": null,
   "metadata": {},
   "outputs": [
    {
     "name": "stdout",
     "output_type": "stream",
     "text": [
      "+--------------------+-----+\n",
      "|     action_type_moa|count|\n",
      "+--------------------+-----+\n",
      "|  NEGATIVE MODULATOR|    1|\n",
      "|NEGATIVE ALLOSTER...|    4|\n",
      "|          ANTAGONIST|  166|\n",
      "|                null| 1442|\n",
      "|       BINDING AGENT|    1|\n",
      "|     PARTIAL AGONIST|    8|\n",
      "|           ACTIVATOR|    1|\n",
      "|             BLOCKER|   42|\n",
      "|    DISRUPTING AGENT|    4|\n",
      "|           INHIBITOR|  491|\n",
      "|           SUBSTRATE|    1|\n",
      "|POSITIVE ALLOSTER...|    8|\n",
      "|     CHELATING AGENT|    1|\n",
      "|  POSITIVE MODULATOR|    4|\n",
      "|             AGONIST|  117|\n",
      "|              OPENER|    5|\n",
      "|     INVERSE AGONIST|    4|\n",
      "|     RELEASING AGENT|    1|\n",
      "|           MODULATOR|    8|\n",
      "|      REDUCING AGENT|    1|\n",
      "+--------------------+-----+\n",
      "only showing top 20 rows\n",
      "\n"
     ]
    }
   ],
   "source": [
    "show_unique_values_and_counts(target_evidence_bool.drop_duplicates([\"drugId\", \"action_type_moa\"]), \"action_type_moa\")"
   ]
  },
  {
   "cell_type": "code",
   "execution_count": null,
   "metadata": {},
   "outputs": [
    {
     "name": "stdout",
     "output_type": "stream",
     "text": [
      "+--------------------+------+\n",
      "|         action_type| count|\n",
      "+--------------------+------+\n",
      "|                null|211437|\n",
      "|{INHIBITOR, Negat...|   124|\n",
      "|{SUBSTRATE, Carri...|    47|\n",
      "|{ANTAGONIST, Bind...|    41|\n",
      "|{INVERSE AGONIST,...|     2|\n",
      "|{AGONIST, Binds t...|     4|\n",
      "|{ACTIVATOR, Posit...|     1|\n",
      "+--------------------+------+\n",
      "\n"
     ]
    }
   ],
   "source": [
    "show_unique_values_and_counts(drug_to_moa, \"action_type\")"
   ]
  },
  {
   "cell_type": "markdown",
   "metadata": {},
   "source": [
    "### Drug-Target pairs"
   ]
  },
  {
   "cell_type": "code",
   "execution_count": null,
   "metadata": {},
   "outputs": [],
   "source": []
  },
  {
   "cell_type": "code",
   "execution_count": null,
   "metadata": {},
   "outputs": [],
   "source": []
  },
  {
   "cell_type": "code",
   "execution_count": null,
   "metadata": {},
   "outputs": [],
   "source": []
  },
  {
   "cell_type": "code",
   "execution_count": null,
   "metadata": {},
   "outputs": [],
   "source": []
  },
  {
   "cell_type": "code",
   "execution_count": null,
   "metadata": {},
   "outputs": [],
   "source": []
  },
  {
   "cell_type": "code",
   "execution_count": null,
   "metadata": {},
   "outputs": [],
   "source": []
  },
  {
   "cell_type": "code",
   "execution_count": null,
   "metadata": {},
   "outputs": [],
   "source": []
  },
  {
   "cell_type": "code",
   "execution_count": null,
   "metadata": {},
   "outputs": [],
   "source": []
  },
  {
   "cell_type": "code",
   "execution_count": null,
   "metadata": {},
   "outputs": [],
   "source": []
  },
  {
   "cell_type": "code",
   "execution_count": null,
   "metadata": {},
   "outputs": [],
   "source": []
  },
  {
   "cell_type": "code",
   "execution_count": null,
   "metadata": {},
   "outputs": [],
   "source": []
  },
  {
   "cell_type": "code",
   "execution_count": null,
   "metadata": {},
   "outputs": [],
   "source": []
  },
  {
   "cell_type": "code",
   "execution_count": null,
   "metadata": {},
   "outputs": [],
   "source": []
  },
  {
   "cell_type": "code",
   "execution_count": null,
   "metadata": {},
   "outputs": [],
   "source": []
  },
  {
   "cell_type": "code",
   "execution_count": null,
   "metadata": {},
   "outputs": [],
   "source": []
  },
  {
   "cell_type": "code",
   "execution_count": null,
   "metadata": {},
   "outputs": [],
   "source": []
  },
  {
   "cell_type": "code",
   "execution_count": null,
   "metadata": {},
   "outputs": [],
   "source": []
  },
  {
   "cell_type": "code",
   "execution_count": null,
   "metadata": {},
   "outputs": [],
   "source": []
  },
  {
   "cell_type": "code",
   "execution_count": null,
   "metadata": {},
   "outputs": [],
   "source": []
  }
 ],
 "metadata": {
  "kernelspec": {
   "display_name": "base",
   "language": "python",
   "name": "python3"
  },
  "language_info": {
   "codemirror_mode": {
    "name": "ipython",
    "version": 3
   },
   "file_extension": ".py",
   "mimetype": "text/x-python",
   "name": "python",
   "nbconvert_exporter": "python",
   "pygments_lexer": "ipython3",
   "version": "3.10.8"
  },
  "orig_nbformat": 4
 },
 "nbformat": 4,
 "nbformat_minor": 2
}
