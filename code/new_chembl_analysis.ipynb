{
 "cells": [
  {
   "cell_type": "code",
   "execution_count": 2,
   "metadata": {},
   "outputs": [],
   "source": [
    "from pyspark.sql import SparkSession\n",
    "import pyspark.sql.functions as f\n",
    "from pyspark.sql import DataFrame\n",
    "from pyspark.sql.functions import col\n",
    "from pyspark.sql.functions import udf\n",
    "from pyspark.sql.types import StringType\n",
    "from pyspark.sql import Row\n",
    "from pyspark.sql.functions import col, broadcast, when, max, expr, collect_list, concat_ws, array_contains, split\n",
    "from pyspark.sql.types import BooleanType"
   ]
  },
  {
   "cell_type": "code",
   "execution_count": 3,
   "metadata": {},
   "outputs": [
    {
     "name": "stderr",
     "output_type": "stream",
     "text": [
      "Setting default log level to \"WARN\".\n",
      "To adjust logging level use sc.setLogLevel(newLevel). For SparkR, use setLogLevel(newLevel).\n",
      "23/12/18 14:26:03 WARN NativeCodeLoader: Unable to load native-hadoop library for your platform... using builtin-java classes where applicable\n"
     ]
    }
   ],
   "source": [
    "spark = SparkSession.builder.getOrCreate()"
   ]
  },
  {
   "cell_type": "code",
   "execution_count": 4,
   "metadata": {},
   "outputs": [],
   "source": [
    "def count_unique_values(df: DataFrame, column_name: str) -> int:\n",
    "    \"\"\"\n",
    "    Count unique values in a specific column of a PySpark DataFrame.\n",
    "\n",
    "    Args:\n",
    "    df (DataFrame): The PySpark DataFrame.\n",
    "    column_name (str): The name of the column to analyze.\n",
    "\n",
    "    Returns:\n",
    "    int: The number of unique values in the column.\n",
    "    \"\"\"\n",
    "    # Get distinct values in the column and count them\n",
    "    unique_count = df.select(column_name).distinct().count()\n",
    "\n",
    "    return unique_count\n",
    "\n",
    "# Example usage\n",
    "# unique_count = count_unique_values(your_dataframe, 'your_column_name')\n",
    "# print(f\"Number of unique values: {unique_count}\")\n"
   ]
  },
  {
   "cell_type": "code",
   "execution_count": 5,
   "metadata": {},
   "outputs": [],
   "source": [
    "def show_unique_values_and_counts(df: DataFrame, column_name: str):\n",
    "    \"\"\"\n",
    "    Shows unique values and their counts for a specified column in a Spark DataFrame.\n",
    "\n",
    "    Parameters:\n",
    "    df (DataFrame): The Spark DataFrame to analyze.\n",
    "    column_name (str): The name of the column for which to count unique values.\n",
    "    \"\"\"\n",
    "    if column_name not in df.columns:\n",
    "        raise ValueError(f\"Column {column_name} not found in DataFrame\")\n",
    "\n",
    "    unique_values_counts = df.groupBy(column_name).count()\n",
    "    unique_values_counts.show()\n"
   ]
  },
  {
   "cell_type": "code",
   "execution_count": 6,
   "metadata": {},
   "outputs": [
    {
     "name": "stderr",
     "output_type": "stream",
     "text": [
      "                                                                                \r"
     ]
    }
   ],
   "source": [
    "# Bioactivity data from ChEMBL filtered (exact protein/homolog, assay type != P or U, human targets)\n",
    "input_path = \"gs://ot-team/polina/target_evidence_bool\"\n",
    "input = spark.read.parquet(input_path)"
   ]
  },
  {
   "cell_type": "code",
   "execution_count": 4,
   "metadata": {},
   "outputs": [
    {
     "name": "stderr",
     "output_type": "stream",
     "text": [
      "                                                                                \r"
     ]
    },
    {
     "data": {
      "text/plain": [
       "4656"
      ]
     },
     "execution_count": 4,
     "metadata": {},
     "output_type": "execute_result"
    }
   ],
   "source": [
    "input.count()"
   ]
  },
  {
   "cell_type": "code",
   "execution_count": 7,
   "metadata": {},
   "outputs": [
    {
     "name": "stderr",
     "output_type": "stream",
     "text": [
      "23/12/18 14:26:09 WARN SparkStringUtils: Truncated the string representation of a plan since it was too large. This behavior can be adjusted by setting 'spark.sql.debug.maxToStringFields'.\n"
     ]
    },
    {
     "data": {
      "text/plain": [
       "DataFrame[target_chembl_id: string, drugId: string, target_chembl_id_moa_aggr: string, pchembl_value_aggr: string, max_pchembl_value: string, median_pchembl_value: double, drugType: string, maximumClinicalTrialPhase: double, isApproved: boolean, linkedTargets: struct<count:bigint,rows:array<string>>, linkedDiseases: struct<count:bigint,rows:array<string>>, assay_chembl_id: string, assay_type: string, action_type: struct<action_type:string,description:string,parent_type:string>, target_organism: string, target_pref_name: string, data_validity_comment: string, data_validity_description: string, confidence_score: bigint, confidence_description: string, assay_category: string, target_components: array<struct<accession:string,component_description:string,component_id:bigint,component_type:string,relationship:string,target_component_synonyms:array<struct<component_synonym:string,syn_type:string>>,target_component_xrefs:array<struct<xref_id:string,xref_name:string,xref_src_db:string,xref_src_url:string,xref_url:string>>>>, target_type: string, accession: string, proteinClass: string, isActive_max: string, isActive_med: string, action_type_moa: string, isInMoA: boolean, targetId: string, sources: array<string>, isHighQualityProbe: boolean, isTherapeuticTarget: boolean, isGE: boolean, isGE_clinical: boolean, isProbe: boolean]"
      ]
     },
     "execution_count": 7,
     "metadata": {},
     "output_type": "execute_result"
    }
   ],
   "source": [
    "input.persist()"
   ]
  },
  {
   "cell_type": "code",
   "execution_count": 41,
   "metadata": {},
   "outputs": [
    {
     "name": "stdout",
     "output_type": "stream",
     "text": [
      "+----------------+-------------+-------------------------+--------------------+-----------------+--------------------+--------------+-------------------------+----------+--------------------+--------------------+---------------+----------+-----------+---------------+--------------------+---------------------+-------------------------+----------------+----------------------+--------------+--------------------+--------------+---------+------------+------------+------------+---------------+-------+---------------+--------------------+------------------+-------------------+-----+-------------+-------+\n",
      "|target_chembl_id|       drugId|target_chembl_id_moa_aggr|  pchembl_value_aggr|max_pchembl_value|median_pchembl_value|      drugType|maximumClinicalTrialPhase|isApproved|       linkedTargets|      linkedDiseases|assay_chembl_id|assay_type|action_type|target_organism|    target_pref_name|data_validity_comment|data_validity_description|confidence_score|confidence_description|assay_category|   target_components|   target_type|accession|proteinClass|isActive_max|isActive_med|action_type_moa|isInMoA|       targetId|             sources|isHighQualityProbe|isTherapeuticTarget| isGE|isGE_clinical|isProbe|\n",
      "+----------------+-------------+-------------------------+--------------------+-----------------+--------------------+--------------+-------------------------+----------+--------------------+--------------------+---------------+----------+-----------+---------------+--------------------+---------------------+-------------------------+----------------+----------------------+--------------+--------------------+--------------+---------+------------+------------+------------+---------------+-------+---------------+--------------------+------------------+-------------------+-----+-------------+-------+\n",
      "|      CHEMBL3397|   CHEMBL1034|                         |                5.10|             5.10|                 5.1|Small molecule|                      4.0|      true|{2, [ENSG00000073...|{18, [EFO_0009560...|  CHEMBL1614027|         A|       NULL|   Homo sapiens| Cytochrome P450 2C9|                 NULL|                     NULL|               9|  Direct single pro...|  confirmatory|[{P11712, Cytochr...|SINGLE PROTEIN|   P11712|        None|        TRUE|        TRUE|           NULL|   NULL|           NULL|                NULL|              NULL|               NULL|false|        false|  false|\n",
      "|      CHEMBL5014| CHEMBL598797|     CHEMBL2093865, CH...|                5.96|             5.96|                5.96|Small molecule|                      1.0|     false|{13, [ENSG0000011...|{7, [EFO_0000616,...|  CHEMBL3991868|         B|       NULL|   Homo sapiens|Serine/threonine-...|                 NULL|                     NULL|               9|  Direct single pro...|          NULL|[{O43353, Recepto...|SINGLE PROTEIN|   O43353|      Kinase|       FALSE|       FALSE|      INHIBITOR|  false|           NULL|                NULL|              NULL|               NULL|false|        false|  false|\n",
      "|      CHEMBL1833|     CHEMBL51|                         |                6.75|             6.75|                6.75|Small molecule|                      4.0|      true|                NULL|{3, [EFO_0000537,...|  CHEMBL2396044|         B|       NULL|   Homo sapiens|Serotonin 2b (5-H...|                 NULL|                     NULL|               9|  Direct single pro...|          NULL|[{P41595, 5-hydro...|SINGLE PROTEIN|   P41595|        GPCR|        TRUE|        TRUE|           NULL|   NULL|           NULL|                NULL|              NULL|               NULL|false|        false|  false|\n",
      "|      CHEMBL2185|CHEMBL2392112|                         |                8.64|             8.64|                8.64|Small molecule|                     NULL|      NULL|                NULL|                NULL|  CHEMBL2396199|         B|       NULL|   Homo sapiens|Serine/threonine-...|                 NULL|                     NULL|               9|  Direct single pro...|          NULL|[{Q96GD4, Aurora ...|SINGLE PROTEIN|   Q96GD4|      Kinase|        TRUE|        TRUE|           NULL|   NULL|ENSG00000178999|    [chemicalProbes]|             false|              false|false|        false|   true|\n",
      "|      CHEMBL2599| CHEMBL402548|            CHEMBL3430911|                5.28|             5.28|                5.28|Small molecule|                      2.0|     false|{3, [ENSG00000178...|{3, [EFO_0001378,...|  CHEMBL3991901|         B|       NULL|   Homo sapiens|Tyrosine-protein ...|                 NULL|                     NULL|               9|  Direct single pro...|          NULL|[{P43405, Tyrosin...|SINGLE PROTEIN|   P43405|      Kinase|       FALSE|       FALSE|      INHIBITOR|  false|ENSG00000165025|[chembl, cancer_g...|             false|               true| true|         true|  false|\n",
      "|       CHEMBL262|     CHEMBL50|                         |                5.70|             5.70|                 5.7|Small molecule|                      3.0|     false|                NULL|{17, [EFO_1000654...|  CHEMBL3071785|         B|       NULL|   Homo sapiens|Glycogen synthase...|                 NULL|                     NULL|               9|  Direct single pro...|          NULL|[{P49841, Glycoge...|SINGLE PROTEIN|   P49841|      Kinase|       FALSE|       FALSE|           NULL|   NULL|           NULL|                NULL|              NULL|               NULL|false|        false|  false|\n",
      "|       CHEMBL280|  CHEMBL75094|                         |               10.42|            10.42|               10.42|Small molecule|                      3.0|     false|                NULL|{3, [MONDO_000831...|   CHEMBL717446|         B|       NULL|   Homo sapiens|Matrix metallopro...|                 NULL|                     NULL|               9|  Direct single pro...|          NULL|[{P45452, Collage...|SINGLE PROTEIN|   P45452|      Enzyme|        TRUE|        TRUE|           NULL|   NULL|ENSG00000137745|            [chembl]|             false|               true|false|         true|  false|\n",
      "|      CHEMBL2595| CHEMBL495727|     CHEMBL2148, CHEMB...|                6.27|             6.27|                6.27|Small molecule|                      2.0|     false|{6, [ENSG00000097...|{4, [EFO_0001378,...|  CHEMBL3991850|         B|       NULL|   Homo sapiens| Protein kinase C nu|                 NULL|                     NULL|               9|  Direct single pro...|          NULL|[{O94806, Serine/...|SINGLE PROTEIN|   O94806|      Kinase|       FALSE|       FALSE|      INHIBITOR|  false|ENSG00000115825|[ot_genetics_port...|             false|               true| true|         true|  false|\n",
      "|   CHEMBL1293256|     CHEMBL59|                CHEMBL213|                5.50|             5.50|                 5.5|Small molecule|                      4.0|      true|{1, [ENSG00000043...|{14, [EFO_1002048...|  CHEMBL1614034|         F|       NULL|   Homo sapiens|      Thrombopoietin|                 NULL|                     NULL|               9|  Direct single pro...|  confirmatory|[{P40225, Thrombo...|SINGLE PROTEIN|   P40225|        None|        TRUE|        TRUE|        AGONIST|  false|ENSG00000090534|[ot_genetics_portal]|             false|              false| true|         true|  false|\n",
      "|      CHEMBL4128|CHEMBL3408947|               CHEMBL3788|                7.66|             7.66|                7.66|Small molecule|                      2.0|     false|{1, [ENSG00000142...|{3, [MONDO_000831...|  CHEMBL3411674|         B|       NULL|   Homo sapiens|Tyrosine-protein ...|                 NULL|                     NULL|               9|  Direct single pro...|          NULL|[{Q02763, Angiopo...|SINGLE PROTEIN|   Q02763|      Kinase|       FALSE|       FALSE|      INHIBITOR|  false|ENSG00000120156|[chembl, eva_soma...|             false|               true| true|         true|  false|\n",
      "|      CHEMBL4360| CHEMBL380192|                         |               10.00|            10.00|                10.0|Small molecule|                     NULL|      NULL|                NULL|                NULL|   CHEMBL861195|         B|       NULL|   Homo sapiens|Monocarboxylate t...|                 NULL|                     NULL|               9|  Direct single pro...|          NULL|[{P53985, Monocar...|SINGLE PROTEIN|   P53985| Transporter|        TRUE|        TRUE|           NULL|   NULL|ENSG00000155380|    [chemicalProbes]|             false|              false|false|        false|   true|\n",
      "|      CHEMBL3983|CHEMBL2047943|                         |                8.74|             8.74|                8.74|Small molecule|                     NULL|      NULL|                NULL|                NULL|  CHEMBL3370373|         B|       NULL|   Homo sapiens|Dual specificity ...|                 NULL|                     NULL|               9|  Direct single pro...|          NULL|[{P33981, Dual sp...|SINGLE PROTEIN|   P33981|      Kinase|        TRUE|        TRUE|           NULL|   NULL|ENSG00000112742|    [chemicalProbes]|             false|              false|false|        false|   true|\n",
      "|      CHEMBL5554|CHEMBL3589371|                         |                5.35|             5.35|                5.35|Small molecule|                     NULL|      NULL|                NULL|                NULL|  CHEMBL3592016|         B|       NULL|   Homo sapiens|Phosphatidylinosi...|                 NULL|                     NULL|               9|  Direct single pro...|          NULL|[{O00750, Phospha...|SINGLE PROTEIN|   O00750|      Kinase|       FALSE|       FALSE|           NULL|   NULL|           NULL|                NULL|              NULL|               NULL|false|        false|  false|\n",
      "|       CHEMBL205| CHEMBL220492|     CHEMBL2109241, CH...|7.32, 8.00, 8.00,...|             8.00|                 8.0|Small molecule|                      4.0|      true|{37, [ENSG0000014...|{44, [HP_0011868,...|  CHEMBL1960462|         B|       NULL|   Homo sapiens|Carbonic anhydras...|                 NULL|                     NULL|               9|  Direct single pro...|          NULL|[{P00918, Carboni...|SINGLE PROTEIN|   P00918|      Enzyme|        TRUE|        TRUE|     ANTAGONIST|  false|ENSG00000104267|      [impc, chembl]|             false|               true| true|         true|  false|\n",
      "|       CHEMBL205| CHEMBL310671|                         |    5.22, 5.22, 5.22|             5.22|                5.22|Small molecule|                      3.0|     false|                NULL|  {1, [EFO_0000474]}|  CHEMBL3767548|         B|       NULL|   Homo sapiens|Carbonic anhydras...|                 NULL|                     NULL|               9|  Direct single pro...|          NULL|[{P00918, Carboni...|SINGLE PROTEIN|   P00918|      Enzyme|        TRUE|        TRUE|           NULL|   NULL|ENSG00000104267|      [impc, chembl]|             false|               true| true|         true|  false|\n",
      "|   CHEMBL1293224|    CHEMBL489|     CHEMBL4245, CHEMB...|                4.75|             4.75|                4.75|Small molecule|                      3.0|     false|{3, [ENSG00000196...|{3, [MONDO_000725...|  CHEMBL1614421|         B|       NULL|   Homo sapiens|Microtubule-assoc...|                 NULL|                     NULL|               9|  Direct single pro...|  confirmatory|[{P10636, Microtu...|SINGLE PROTEIN|   P10636|        None|       FALSE|       FALSE|     ANTAGONIST|  false|ENSG00000186868|[ot_genetics_portal]|             false|              false| true|         true|  false|\n",
      "|      CHEMBL3267|CHEMBL3589371|                         |                5.24|             5.24|                5.24|Small molecule|                     NULL|      NULL|                NULL|                NULL|  CHEMBL3591915|         B|       NULL|   Homo sapiens|PI3-kinase p110-g...|                 NULL|                     NULL|               9|  Direct single pro...|          NULL|[{P48736, Phospha...|SINGLE PROTEIN|   P48736|      Kinase|       FALSE|       FALSE|           NULL|   NULL|           NULL|                NULL|              NULL|               NULL|false|        false|  false|\n",
      "|       CHEMBL340|     CHEMBL49|                CHEMBL214|          4.80, 4.90|             4.90|                 4.8|Small molecule|                      4.0|      true|{1, [ENSG00000178...|{25, [EFO_0003756...|  CHEMBL1613886|         A|       NULL|   Homo sapiens| Cytochrome P450 3A4|                 NULL|                     NULL|               9|  Direct single pro...|  confirmatory|[{P08684, Cytochr...|SINGLE PROTEIN|   P08684|      Enzyme|       FALSE|       FALSE|PARTIAL AGONIST|  false|           NULL|                NULL|              NULL|               NULL|false|        false|  false|\n",
      "|       CHEMBL340|CHEMBL1201049|                         |                6.40|             6.40|                 6.4|Small molecule|                      4.0|      true|             {0, []}|  {1, [EFO_0007512]}|  CHEMBL1613886|         A|       NULL|   Homo sapiens| Cytochrome P450 3A4|                 NULL|                     NULL|               9|  Direct single pro...|  confirmatory|[{P08684, Cytochr...|SINGLE PROTEIN|   P08684|      Enzyme|        TRUE|        TRUE|           NULL|   NULL|           NULL|                NULL|              NULL|               NULL|false|        false|  false|\n",
      "|       CHEMBL203|CHEMBL3353410|     CHEMBL203, CHEMBL203|8.70, 8.66, 8.89,...|             8.89|                7.85|Small molecule|                      4.0|      true|{1, [ENSG00000146...|{14, [EFO_0000313...|  CHEMBL4009526|         B|       NULL|   Homo sapiens|Epidermal growth ...|                 NULL|                     NULL|               9|  Direct single pro...|          NULL|[{P00533, Epiderm...|SINGLE PROTEIN|   P00533|      Kinase|        TRUE|        TRUE|      INHIBITOR|   true|ENSG00000146648|[uniprot_literatu...|             false|               true| true|         true|  false|\n",
      "+----------------+-------------+-------------------------+--------------------+-----------------+--------------------+--------------+-------------------------+----------+--------------------+--------------------+---------------+----------+-----------+---------------+--------------------+---------------------+-------------------------+----------------+----------------------+--------------+--------------------+--------------+---------+------------+------------+------------+---------------+-------+---------------+--------------------+------------------+-------------------+-----+-------------+-------+\n",
      "only showing top 20 rows\n",
      "\n"
     ]
    }
   ],
   "source": [
    "input.show()"
   ]
  },
  {
   "cell_type": "code",
   "execution_count": 7,
   "metadata": {},
   "outputs": [
    {
     "name": "stderr",
     "output_type": "stream",
     "text": [
      "                                                                                \r"
     ]
    },
    {
     "data": {
      "text/plain": [
       "133"
      ]
     },
     "execution_count": 7,
     "metadata": {},
     "output_type": "execute_result"
    }
   ],
   "source": [
    "# How many targets:\n",
    "#   have assays for active drugs (pchembl median)\n",
    "#   not in MoA of these drugs\n",
    "#   supported by GE or clinical evidence\n",
    "\n",
    "med_notmoa_ge_clin = input\\\n",
    "                        .filter(input[\"IsActive_med\"] == True)\\\n",
    "                        .filter(input[\"isInMoA\"].isNull())\\\n",
    "                        .filter(input[\"isGE_clinical\"] == True)\\\n",
    "\n",
    "count_unique_values(med_notmoa_ge_clin.drop_duplicates([\"target_chembl_id\"]), \"target_chembl_id\")"
   ]
  },
  {
   "cell_type": "code",
   "execution_count": 46,
   "metadata": {},
   "outputs": [
    {
     "name": "stdout",
     "output_type": "stream",
     "text": [
      "Assays:  636\n",
      "Targets:  270\n",
      "Drugs:  436\n"
     ]
    }
   ],
   "source": [
    "# How many targets:\n",
    "#   have assays for active drugs (pchembl median)\n",
    "#   not in MoA of these drugs (or MoA is unknown)\n",
    "#   supported by GE\n",
    "\n",
    "med_notmoa_ge = input\\\n",
    "                        .filter(input[\"IsActive_med\"] == True)\\\n",
    "                        .filter((col(\"isInMoA\").isNull()) | (col(\"isInMoA\") == False))\\\n",
    "                        .filter(input[\"isGE\"] == True)\\\n",
    "\n",
    "med_notmoa_ge_t = count_unique_values(med_notmoa_ge.drop_duplicates([\"target_chembl_id\"]), \"target_chembl_id\")\n",
    "med_notmoa_ge_d = count_unique_values(med_notmoa_ge.drop_duplicates([\"drugId\"]), \"drugId\")\n",
    "\n",
    "print(\"Assays: \", med_notmoa_ge.count())\n",
    "print(\"Targets: \", med_notmoa_ge_t)\n",
    "print(\"Drugs: \", med_notmoa_ge_d)"
   ]
  },
  {
   "cell_type": "code",
   "execution_count": 51,
   "metadata": {},
   "outputs": [
    {
     "name": "stdout",
     "output_type": "stream",
     "text": [
      "Assays:  680\n",
      "Targets:  277\n",
      "Drugs:  450\n"
     ]
    }
   ],
   "source": [
    "# How many targets:\n",
    "#   have assays for active drugs (pchembl max)\n",
    "#   not in MoA of these drugs (or MoA is unknown)\n",
    "#   supported by GE\n",
    "\n",
    "max_notmoa_ge = input\\\n",
    "                        .filter(input[\"IsActive_max\"] == True)\\\n",
    "                        .filter((col(\"isInMoA\").isNull()) | (col(\"isInMoA\") == False))\\\n",
    "                        .filter(input[\"isGE\"] == True)\\\n",
    "\n",
    "max_notmoa_ge_t = count_unique_values(max_notmoa_ge.drop_duplicates([\"target_chembl_id\"]), \"target_chembl_id\")\n",
    "max_notmoa_ge_d = count_unique_values(max_notmoa_ge.drop_duplicates([\"drugId\"]), \"drugId\")\n",
    "\n",
    "print(\"Assays: \", max_notmoa_ge.count())\n",
    "print(\"Targets: \", max_notmoa_ge_t)\n",
    "print(\"Drugs: \", max_notmoa_ge_d)"
   ]
  },
  {
   "cell_type": "code",
   "execution_count": 9,
   "metadata": {},
   "outputs": [
    {
     "name": "stdout",
     "output_type": "stream",
     "text": [
      "Assays:  1051\n",
      "Targets:  354\n",
      "Drugs:  605\n"
     ]
    }
   ],
   "source": [
    "# How many targets:\n",
    "#   have assays for active drugs (pchembl median)\n",
    "#   not in MoA of these drugs (or MoA is unknown)\n",
    "#   supported by GE and clin (chembl) evidence\n",
    "\n",
    "max_notmoa_ge_clin = input\\\n",
    "                        .filter(input[\"IsActive_max\"] == True)\\\n",
    "                        .filter((col(\"isInMoA\").isNull()) | (col(\"isInMoA\") == False))\\\n",
    "                        .filter(input[\"isGE_clinical\"] == True)\\\n",
    "\n",
    "max_notmoa_ge_t_clin = count_unique_values(max_notmoa_ge_clin.drop_duplicates([\"target_chembl_id\"]), \"target_chembl_id\")\n",
    "max_notmoa_ge_d_clin = count_unique_values(max_notmoa_ge_clin.drop_duplicates([\"drugId\"]), \"drugId\")\n",
    "\n",
    "print(\"Assays: \", max_notmoa_ge_clin.count())\n",
    "print(\"Targets: \", max_notmoa_ge_t_clin)\n",
    "print(\"Drugs: \", max_notmoa_ge_d_clin)"
   ]
  },
  {
   "cell_type": "code",
   "execution_count": 53,
   "metadata": {},
   "outputs": [
    {
     "name": "stdout",
     "output_type": "stream",
     "text": [
      "Assays:  995\n",
      "Targets:  347\n",
      "Drugs:  588\n"
     ]
    }
   ],
   "source": [
    "# How many targets:\n",
    "#   have assays for active drugs (pchembl median)\n",
    "#   not in MoA of these drugs (or MoA is unknown)\n",
    "#   supported by GE and clin (chembl) evidence\n",
    "\n",
    "med_notmoa_ge_clin = input\\\n",
    "                        .filter(input[\"IsActive_med\"] == True)\\\n",
    "                        .filter((col(\"isInMoA\").isNull()) | (col(\"isInMoA\") == False))\\\n",
    "                        .filter(input[\"isGE_clinical\"] == True)\\\n",
    "\n",
    "med_notmoa_ge_t_clin = count_unique_values(med_notmoa_ge_clin.drop_duplicates([\"target_chembl_id\"]), \"target_chembl_id\")\n",
    "med_notmoa_ge_d_clin = count_unique_values(med_notmoa_ge_clin.drop_duplicates([\"drugId\"]), \"drugId\")\n",
    "\n",
    "print(\"Assays: \", med_notmoa_ge_clin.count())\n",
    "print(\"Targets: \", med_notmoa_ge_t_clin)\n",
    "print(\"Drugs: \", med_notmoa_ge_d_clin)"
   ]
  },
  {
   "cell_type": "code",
   "execution_count": 52,
   "metadata": {},
   "outputs": [
    {
     "name": "stdout",
     "output_type": "stream",
     "text": [
      "+------------+-----+\n",
      "|proteinClass|count|\n",
      "+------------+-----+\n",
      "|          IC|   22|\n",
      "|      Enzyme|   72|\n",
      "|        None|   37|\n",
      "|        GPCR|   42|\n",
      "|      Kinase|   54|\n",
      "|  Epigenetic|   18|\n",
      "|          NR|   11|\n",
      "| Transporter|    9|\n",
      "|          TF|    5|\n",
      "+------------+-----+\n",
      "\n"
     ]
    }
   ],
   "source": [
    "show_unique_values_and_counts(med_notmoa_ge.drop_duplicates([\"target_chembl_id\"]), \"proteinClass\")\n"
   ]
  },
  {
   "cell_type": "code",
   "execution_count": 16,
   "metadata": {},
   "outputs": [
    {
     "name": "stdout",
     "output_type": "stream",
     "text": [
      "root\n",
      " |-- target_chembl_id: string (nullable = true)\n",
      " |-- drugId: string (nullable = true)\n",
      " |-- target_chembl_id_moa_aggr: string (nullable = true)\n",
      " |-- pchembl_value_aggr: string (nullable = true)\n",
      " |-- max_pchembl_value: string (nullable = true)\n",
      " |-- median_pchembl_value: double (nullable = true)\n",
      " |-- drugType: string (nullable = true)\n",
      " |-- maximumClinicalTrialPhase: double (nullable = true)\n",
      " |-- isApproved: boolean (nullable = true)\n",
      " |-- linkedTargets: struct (nullable = true)\n",
      " |    |-- count: long (nullable = true)\n",
      " |    |-- rows: array (nullable = true)\n",
      " |    |    |-- element: string (containsNull = true)\n",
      " |-- linkedDiseases: struct (nullable = true)\n",
      " |    |-- count: long (nullable = true)\n",
      " |    |-- rows: array (nullable = true)\n",
      " |    |    |-- element: string (containsNull = true)\n",
      " |-- assay_chembl_id: string (nullable = true)\n",
      " |-- assay_type: string (nullable = true)\n",
      " |-- action_type: struct (nullable = true)\n",
      " |    |-- action_type: string (nullable = true)\n",
      " |    |-- description: string (nullable = true)\n",
      " |    |-- parent_type: string (nullable = true)\n",
      " |-- target_organism: string (nullable = true)\n",
      " |-- target_pref_name: string (nullable = true)\n",
      " |-- data_validity_comment: string (nullable = true)\n",
      " |-- data_validity_description: string (nullable = true)\n",
      " |-- confidence_score: long (nullable = true)\n",
      " |-- confidence_description: string (nullable = true)\n",
      " |-- assay_category: string (nullable = true)\n",
      " |-- target_components: array (nullable = true)\n",
      " |    |-- element: struct (containsNull = true)\n",
      " |    |    |-- accession: string (nullable = true)\n",
      " |    |    |-- component_description: string (nullable = true)\n",
      " |    |    |-- component_id: long (nullable = true)\n",
      " |    |    |-- component_type: string (nullable = true)\n",
      " |    |    |-- relationship: string (nullable = true)\n",
      " |    |    |-- target_component_synonyms: array (nullable = true)\n",
      " |    |    |    |-- element: struct (containsNull = true)\n",
      " |    |    |    |    |-- component_synonym: string (nullable = true)\n",
      " |    |    |    |    |-- syn_type: string (nullable = true)\n",
      " |    |    |-- target_component_xrefs: array (nullable = true)\n",
      " |    |    |    |-- element: struct (containsNull = true)\n",
      " |    |    |    |    |-- xref_id: string (nullable = true)\n",
      " |    |    |    |    |-- xref_name: string (nullable = true)\n",
      " |    |    |    |    |-- xref_src_db: string (nullable = true)\n",
      " |    |    |    |    |-- xref_src_url: string (nullable = true)\n",
      " |    |    |    |    |-- xref_url: string (nullable = true)\n",
      " |-- target_type: string (nullable = true)\n",
      " |-- accession: string (nullable = true)\n",
      " |-- proteinClass: string (nullable = true)\n",
      " |-- isActive_max: string (nullable = true)\n",
      " |-- isActive_med: string (nullable = true)\n",
      " |-- action_type_moa: string (nullable = true)\n",
      " |-- isInMoA: boolean (nullable = true)\n",
      " |-- targetId: string (nullable = true)\n",
      " |-- sources: array (nullable = true)\n",
      " |    |-- element: string (containsNull = true)\n",
      " |-- isHighQualityProbe: boolean (nullable = true)\n",
      " |-- isTherapeuticTarget: boolean (nullable = true)\n",
      " |-- isGE: boolean (nullable = true)\n",
      " |-- isGE_clinical: boolean (nullable = true)\n",
      " |-- isProbe: boolean (nullable = true)\n",
      "\n"
     ]
    }
   ],
   "source": [
    "med_notmoa_ge.printSchema()"
   ]
  },
  {
   "cell_type": "code",
   "execution_count": 43,
   "metadata": {},
   "outputs": [
    {
     "name": "stdout",
     "output_type": "stream",
     "text": [
      "+----------------+-------------+-------------------------+--------------------+-----------------+--------------------+--------------+-------------------------+----------+--------------------+--------------------+---------------+----------+-----------+---------------+--------------------+---------------------+-------------------------+----------------+----------------------+--------------+--------------------+---------------+---------+------------+------------+------------+---------------+-------+---------------+--------------------+------------------+-------------------+----+-------------+-------+\n",
      "|target_chembl_id|       drugId|target_chembl_id_moa_aggr|  pchembl_value_aggr|max_pchembl_value|median_pchembl_value|      drugType|maximumClinicalTrialPhase|isApproved|       linkedTargets|      linkedDiseases|assay_chembl_id|assay_type|action_type|target_organism|    target_pref_name|data_validity_comment|data_validity_description|confidence_score|confidence_description|assay_category|   target_components|    target_type|accession|proteinClass|isActive_max|isActive_med|action_type_moa|isInMoA|       targetId|             sources|isHighQualityProbe|isTherapeuticTarget|isGE|isGE_clinical|isProbe|\n",
      "+----------------+-------------+-------------------------+--------------------+-----------------+--------------------+--------------+-------------------------+----------+--------------------+--------------------+---------------+----------+-----------+---------------+--------------------+---------------------+-------------------------+----------------+----------------------+--------------+--------------------+---------------+---------+------------+------------+------------+---------------+-------+---------------+--------------------+------------------+-------------------+----+-------------+-------+\n",
      "|   CHEMBL1293256|     CHEMBL59|                CHEMBL213|                5.50|             5.50|                 5.5|Small molecule|                      4.0|      true|{1, [ENSG00000043...|{14, [EFO_1002048...|  CHEMBL1614034|         F|       NULL|   Homo sapiens|      Thrombopoietin|                 NULL|                     NULL|               9|  Direct single pro...|  confirmatory|[{P40225, Thrombo...| SINGLE PROTEIN|   P40225|        None|        TRUE|        TRUE|        AGONIST|  false|ENSG00000090534|[ot_genetics_portal]|             false|              false|true|         true|  false|\n",
      "|       CHEMBL205| CHEMBL220492|     CHEMBL2109241, CH...|7.32, 8.00, 8.00,...|             8.00|                 8.0|Small molecule|                      4.0|      true|{37, [ENSG0000014...|{44, [HP_0011868,...|  CHEMBL1960462|         B|       NULL|   Homo sapiens|Carbonic anhydras...|                 NULL|                     NULL|               9|  Direct single pro...|          NULL|[{P00918, Carboni...| SINGLE PROTEIN|   P00918|      Enzyme|        TRUE|        TRUE|     ANTAGONIST|  false|ENSG00000104267|      [impc, chembl]|             false|               true|true|         true|  false|\n",
      "|       CHEMBL205| CHEMBL310671|                         |    5.22, 5.22, 5.22|             5.22|                5.22|Small molecule|                      3.0|     false|                NULL|  {1, [EFO_0000474]}|  CHEMBL3767548|         B|       NULL|   Homo sapiens|Carbonic anhydras...|                 NULL|                     NULL|               9|  Direct single pro...|          NULL|[{P00918, Carboni...| SINGLE PROTEIN|   P00918|      Enzyme|        TRUE|        TRUE|           NULL|   NULL|ENSG00000104267|      [impc, chembl]|             false|               true|true|         true|  false|\n",
      "|   CHEMBL1293235| CHEMBL277522|                         |                6.05|             6.05|                6.05|Small molecule|                      4.0|      true|                NULL|  {1, [EFO_0005755]}|  CHEMBL1614544|         F|       NULL|   Homo sapiens|        Prelamin-A/C|                 NULL|                     NULL|               9|  Direct single pro...|  confirmatory|[{P02545, Prelami...| SINGLE PROTEIN|   P02545|        None|        TRUE|        TRUE|           NULL|   NULL|ENSG00000160789|              [impc]|             false|              false|true|         true|  false|\n",
      "|      CHEMBL6101| CHEMBL165790|                         |                6.38|             6.38|                6.38|Small molecule|                     -1.0|     false|                NULL|  {1, [EFO_0004260]}|  CHEMBL1614373|         F|       NULL|   Homo sapiens|Signal transducer...|                 NULL|                     NULL|               9|  Direct single pro...|  confirmatory|[{P42224, Signal ...| SINGLE PROTEIN|   P42224|          TF|        TRUE|        TRUE|           NULL|   NULL|ENSG00000115415|[impc, ot_genetic...|             false|              false|true|         true|  false|\n",
      "|      CHEMBL4261|   CHEMBL1563|                         |                5.60|             5.60|                 5.6|Small molecule|                      4.0|      true|{1, [ENSG00000131...|{23, [EFO_1001052...|  CHEMBL1614456|         F|       NULL|   Homo sapiens|Hypoxia-inducible...|                 NULL|                     NULL|               9|  Direct single pro...|  confirmatory|[{Q16665, Hypoxia...| SINGLE PROTEIN|   Q16665|          TF|        TRUE|        TRUE|           NULL|   NULL|ENSG00000100644|[cancer_gene_census]|             false|              false|true|         true|  false|\n",
      "|       CHEMBL234|    CHEMBL493|            CHEMBL2331075|                7.06|             7.06|                7.06|Small molecule|                      4.0|      true|{3, [ENSG00000149...|{15, [MONDO_00053...|   CHEMBL673828|         B|       NULL|   Homo sapiens|Dopamine D3 receptor|                 NULL|                     NULL|               9|  Direct single pro...|          NULL|[{P35462, D(3) do...| SINGLE PROTEIN|   P35462|        GPCR|        TRUE|        TRUE|        AGONIST|  false|ENSG00000151577|      [impc, chembl]|             false|               true|true|         true|  false|\n",
      "|       CHEMBL245|  CHEMBL21536|     CHEMBL216, CHEMBL...|7.89, 8.11, 6.92,...|             8.11|                6.92|Small molecule|                      3.0|     false|{2, [ENSG00000180...|{2, [MONDO_000509...|  CHEMBL1248509|         B|       NULL|   Homo sapiens|Muscarinic acetyl...|                 NULL|                     NULL|               9|  Direct single pro...|          NULL|[{P20309, Muscari...| SINGLE PROTEIN|   P20309|        GPCR|        TRUE|        TRUE|        AGONIST|  false|ENSG00000133019|[ot_genetics_port...|             false|               true|true|         true|  false|\n",
      "|      CHEMBL2041|CHEMBL3809489|               CHEMBL4895|                8.52|             8.52|                8.52|Small molecule|                      2.0|     false|{1, [ENSG00000167...|{10, [MONDO_01000...|  CHEMBL4188980|         B|       NULL|   Homo sapiens|Tyrosine-protein ...|                 NULL|                     NULL|               9|  Direct single pro...|          NULL|[{P07949, Proto-o...| SINGLE PROTEIN|   P07949|      Kinase|        TRUE|        TRUE|      INHIBITOR|  false|ENSG00000165731|[uniprot_literatu...|             false|               true|true|         true|  false|\n",
      "|      CHEMBL4081|     CHEMBL99|                         |          7.70, 7.52|             7.70|                7.52|Small molecule|                      1.0|     false|                NULL|{1, [MONDO_0004992]}|  CHEMBL1004859|         B|       NULL|   Homo sapiens|Coagulation facto...|                 NULL|                     NULL|               9|  Direct single pro...|          NULL|[{P13726, Tissue ...| SINGLE PROTEIN|   P13726|        None|        TRUE|        TRUE|           NULL|   NULL|ENSG00000117525|      [impc, chembl]|             false|               true|true|         true|  false|\n",
      "|      CHEMBL2608|CHEMBL1200339|                         |                6.55|             6.55|                6.55|Small molecule|                      4.0|      true|{3, [ENSG00000120...|{18, [EFO_0004269...|  CHEMBL1614103|         F|       NULL|   Homo sapiens|Lysosomal alpha-g...|                 NULL|                     NULL|               9|  Direct single pro...|  confirmatory|[{P10253, Lysosom...| SINGLE PROTEIN|   P10253|      Enzyme|        TRUE|        TRUE|           NULL|   NULL|ENSG00000171298|[uniprot_literatu...|             false|               true|true|         true|  false|\n",
      "|      CHEMBL1835|    CHEMBL159|            CHEMBL2095182|                5.73|             5.73|                5.73|Small molecule|                      4.0|      true|{15, [ENSG0000018...|{47, [EFO_0000588...|  CHEMBL1909116|         B|       NULL|   Homo sapiens|Thromboxane-A syn...|                 NULL|                     NULL|               9|  Direct single pro...|          NULL|[{P24557, Thrombo...| SINGLE PROTEIN|   P24557|      Enzyme|        TRUE|        TRUE|      INHIBITOR|  false|ENSG00000059377|              [impc]|             false|              false|true|         true|  false|\n",
      "|      CHEMBL1974| CHEMBL522892|     CHEMBL2095189, CH...|                8.28|             8.28|                8.28|Small molecule|                      3.0|     false|{8, [ENSG00000122...|{25, [EFO_0002517...|  CHEMBL1050826|         B|       NULL|   Homo sapiens|Tyrosine-protein ...|                 NULL|                     NULL|               9|  Direct single pro...|          NULL|[{P36888, Recepto...| SINGLE PROTEIN|   P36888|      Kinase|        TRUE|        TRUE|      INHIBITOR|  false|ENSG00000122025|[uniprot_literatu...|             false|               true|true|         true|  false|\n",
      "|      CHEMBL3192|CHEMBL3621988|                         |                6.08|             6.08|                6.08|Small molecule|                      3.0|     false|                NULL|{32, [MONDO_00194...|  CHEMBL4387979|         B|       NULL|   Homo sapiens|Histone deacetyla...|                 NULL|                     NULL|               9|  Direct single pro...|          NULL|[{Q9BY41, Histone...| SINGLE PROTEIN|   Q9BY41|  Epigenetic|        TRUE|        TRUE|           NULL|   NULL|ENSG00000147099|      [impc, chembl]|             false|               true|true|         true|  false|\n",
      "|       CHEMBL232|    CHEMBL611|            CHEMBL2094251|                9.30|             9.30|                 9.3|Small molecule|                      4.0|      true|{3, [ENSG00000120...|{9, [EFO_0000284,...|  CHEMBL3405641|         B|       NULL|   Homo sapiens|Alpha-1b adrenerg...|                 NULL|                     NULL|               9|  Direct single pro...|          NULL|[{P35368, Alpha-1...| SINGLE PROTEIN|   P35368|        GPCR|        TRUE|        TRUE|     ANTAGONIST|  false|ENSG00000170214|[impc, chemicalPr...|              true|               true|true|         true|   true|\n",
      "|   CHEMBL3301386| CHEMBL189963|     CHEMBL1907601, CH...|                8.05|             8.05|                8.05|Small molecule|                      4.0|      true|{3, [ENSG00000110...|{45, [EFO_0008528...|  CHEMBL3606993|         B|       NULL|   Homo sapiens|      CDK6/cyclin D2|                 NULL|                     NULL|               7|  Direct protein co...|          NULL|[{Q00534, Cyclin-...|PROTEIN COMPLEX|   Q00534|      Kinase|        TRUE|        TRUE|      INHIBITOR|  false|ENSG00000105810|[impc, ot_genetic...|              true|               true|true|         true|   true|\n",
      "|       CHEMBL228|CHEMBL3233142|                         |                7.21|             7.21|                7.21|Small molecule|                      4.0|      true|                NULL|{2, [MONDO_000509...|  CHEMBL3243819|         B|       NULL|   Homo sapiens|Serotonin transpo...|                 NULL|                     NULL|               9|  Direct single pro...|          NULL|[{P31645, Sodium-...| SINGLE PROTEIN|   P31645| Transporter|        TRUE|        TRUE|           NULL|   NULL|ENSG00000108576|      [impc, chembl]|             false|               true|true|         true|  false|\n",
      "|   CHEMBL4105907|CHEMBL1229211|               CHEMBL3471|                7.75|             7.75|                7.75|Small molecule|                      4.0|      true|             {0, []}|{9, [EFO_0000180,...|  CHEMBL4616034|         B|       NULL|   Homo sapiens|Sigma intracellul...|                 NULL|                     NULL|               9|  Direct single pro...|          NULL|[{Q5BJF2, Sigma i...| SINGLE PROTEIN|   Q5BJF2|        None|        TRUE|        TRUE|      INHIBITOR|  false|ENSG00000109084|[ot_genetics_portal]|             false|              false|true|         true|  false|\n",
      "|      CHEMBL4261|    CHEMBL686|            CHEMBL2094253|                5.00|             5.00|                 5.0|Small molecule|                      4.0|      true|{2, [ENSG00000073...|{5, [EFO_0005755,...|  CHEMBL1614456|         F|       NULL|   Homo sapiens|Hypoxia-inducible...|                 NULL|                     NULL|               9|  Direct single pro...|  confirmatory|[{Q16665, Hypoxia...| SINGLE PROTEIN|   Q16665|          TF|        TRUE|        TRUE|      INHIBITOR|  false|ENSG00000100644|[ot_genetics_portal]|             false|              false|true|         true|  false|\n",
      "|       CHEMBL217| CHEMBL392158|                         |               10.01|            10.01|               10.01|Small molecule|                      2.0|     false|                NULL|{2, [EFO_0001074,...|  CHEMBL3265956|         B|       NULL|   Homo sapiens|Dopamine D2 receptor|                 NULL|                     NULL|               9|  Direct single pro...|          NULL|[{P14416, D(2) do...| SINGLE PROTEIN|   P14416|        GPCR|        TRUE|        TRUE|           NULL|   NULL|ENSG00000149295|      [impc, chembl]|             false|               true|true|         true|  false|\n",
      "+----------------+-------------+-------------------------+--------------------+-----------------+--------------------+--------------+-------------------------+----------+--------------------+--------------------+---------------+----------+-----------+---------------+--------------------+---------------------+-------------------------+----------------+----------------------+--------------+--------------------+---------------+---------+------------+------------+------------+---------------+-------+---------------+--------------------+------------------+-------------------+----+-------------+-------+\n",
      "only showing top 20 rows\n",
      "\n"
     ]
    }
   ],
   "source": [
    "med_notmoa_ge.show()"
   ]
  },
  {
   "cell_type": "code",
   "execution_count": 44,
   "metadata": {},
   "outputs": [],
   "source": [
    "# Flatten the structure\n",
    "med_notmoa_ge_flattened = med_notmoa_ge.withColumn(\"linkedTargets_count\", col(\"linkedTargets.count\"))\\\n",
    "                .withColumn(\"linkedTargets_rows\", col(\"linkedTargets.rows\"))\\\n",
    "                .withColumn(\"linkedDiseases_count\", col(\"linkedDiseases.count\"))\\\n",
    "                .withColumn(\"linkedDiseases_rows\", col(\"linkedDiseases.rows\"))\\\n",
    "                .withColumn(\"action_type_action_type\", col(\"action_type.action_type\"))\\\n",
    "                .withColumn(\"action_type_description\", col(\"action_type.description\"))\\\n",
    "                .withColumn(\"action_type_parent_type\", col(\"action_type.parent_type\"))\\\n",
    "                .withColumn(\"sources_concated\", concat_ws(\", \", \"sources\"))\\\n",
    "                .drop(\"sources\")\\\n",
    "                .withColumn(\"linkedTargets_rows_concated\", concat_ws(\", \", \"linkedTargets_rows\"))\\\n",
    "                .drop(\"linkedTargets_rows\")\\\n",
    "                .withColumn(\"linkedDiseases_rows_concated\", concat_ws(\", \", \"linkedDiseases_rows\"))\\\n",
    "                .drop(\"linkedDiseases_rows\")\\\n",
    "                .drop(\"linkedTargets\")\\\n",
    "                .drop(\"linkedDiseases\")\\\n",
    "                .drop(\"action_type\")\\\n",
    "                .drop(\"target_components\")\n",
    "\n",
    "# med_notmoa_ge_flattened.printSchema()\n",
    "med_notmoa_ge_flattened.coalesce(1).write.csv(\"files/med_notmoa_ge_v2.csv\", header=True)"
   ]
  },
  {
   "cell_type": "code",
   "execution_count": 39,
   "metadata": {},
   "outputs": [
    {
     "data": {
      "text/plain": [
       "['target_chembl_id',\n",
       " 'drugId',\n",
       " 'target_chembl_id_moa_aggr',\n",
       " 'pchembl_value_aggr',\n",
       " 'max_pchembl_value',\n",
       " 'median_pchembl_value',\n",
       " 'drugType',\n",
       " 'maximumClinicalTrialPhase',\n",
       " 'isApproved',\n",
       " 'assay_chembl_id',\n",
       " 'assay_type',\n",
       " 'target_organism',\n",
       " 'target_pref_name',\n",
       " 'data_validity_comment',\n",
       " 'data_validity_description',\n",
       " 'confidence_score',\n",
       " 'confidence_description',\n",
       " 'assay_category',\n",
       " 'target_type',\n",
       " 'accession',\n",
       " 'proteinClass',\n",
       " 'isActive_max',\n",
       " 'isActive_med',\n",
       " 'action_type_moa',\n",
       " 'isInMoA',\n",
       " 'targetId',\n",
       " 'isHighQualityProbe',\n",
       " 'isTherapeuticTarget',\n",
       " 'isGE',\n",
       " 'isGE_clinical',\n",
       " 'isProbe',\n",
       " 'linkedTargets_count',\n",
       " 'linkedDiseases_count',\n",
       " 'action_type_action_type',\n",
       " 'action_type_description',\n",
       " 'action_type_parent_type',\n",
       " 'sources_concated',\n",
       " 'linkedTargets_rows_concated',\n",
       " 'linkedDiseases_rows_concated']"
      ]
     },
     "execution_count": 39,
     "metadata": {},
     "output_type": "execute_result"
    }
   ],
   "source": [
    "med_notmoa_ge_flattened.columns"
   ]
  },
  {
   "cell_type": "code",
   "execution_count": 37,
   "metadata": {},
   "outputs": [
    {
     "data": {
      "text/plain": [
       "144"
      ]
     },
     "execution_count": 37,
     "metadata": {},
     "output_type": "execute_result"
    }
   ],
   "source": [
    "med_notmoa_ge.count()"
   ]
  },
  {
   "cell_type": "code",
   "execution_count": 36,
   "metadata": {},
   "outputs": [
    {
     "data": {
      "text/plain": [
       "144"
      ]
     },
     "execution_count": 36,
     "metadata": {},
     "output_type": "execute_result"
    }
   ],
   "source": [
    "med_notmoa_ge_flattened.count()"
   ]
  },
  {
   "cell_type": "code",
   "execution_count": 36,
   "metadata": {},
   "outputs": [],
   "source": [
    "def join_dataframes(initial_df: DataFrame, \n",
    "                    second_df: DataFrame, \n",
    "                    initial_key_column: str, \n",
    "                    second_key_column: str,\n",
    "                    columns_to_join: list) -> DataFrame:\n",
    "    \"\"\"\n",
    "    Joins two PySpark DataFrames on specified key columns.\n",
    "\n",
    "    Args:\n",
    "    initial_df (DataFrame): The initial PySpark DataFrame.\n",
    "    second_df (DataFrame): The second PySpark DataFrame to join with.\n",
    "    initial_key_column (str): The key column name in the initial DataFrame.\n",
    "    second_key_column (str): The key column name in the second DataFrame.\n",
    "    columns_to_join (list): List of column names from the second DataFrame to include in the join.\n",
    "\n",
    "    Returns:\n",
    "    DataFrame: The resulting DataFrame after the join.\n",
    "    \"\"\"\n",
    "\n",
    "    # Selecting specified columns from the second DataFrame, including its key column\n",
    "    second_df_selected = second_df.select([second_key_column] + columns_to_join)\n",
    "\n",
    "    # Performing the left join\n",
    "    joined_df = initial_df.join(second_df_selected, \n",
    "                                initial_df[initial_key_column] == second_df_selected[second_key_column], \n",
    "                                how='left')\n",
    "\n",
    "    # Drop the second key column if not needed\n",
    "    joined_df = joined_df.drop(second_df_selected[second_key_column])\n",
    "\n",
    "    return joined_df\n"
   ]
  },
  {
   "cell_type": "code",
   "execution_count": 86,
   "metadata": {},
   "outputs": [
    {
     "name": "stderr",
     "output_type": "stream",
     "text": [
      "                                                                                \r"
     ]
    }
   ],
   "source": []
  }
 ],
 "metadata": {
  "kernelspec": {
   "display_name": "base",
   "language": "python",
   "name": "python3"
  },
  "language_info": {
   "codemirror_mode": {
    "name": "ipython",
    "version": 3
   },
   "file_extension": ".py",
   "mimetype": "text/x-python",
   "name": "python",
   "nbconvert_exporter": "python",
   "pygments_lexer": "ipython3",
   "version": "3.9.6"
  },
  "orig_nbformat": 4
 },
 "nbformat": 4,
 "nbformat_minor": 2
}
