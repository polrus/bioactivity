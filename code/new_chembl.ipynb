{
 "cells": [
  {
   "cell_type": "code",
   "execution_count": 1,
   "metadata": {},
   "outputs": [],
   "source": [
    "from pyspark.sql import SparkSession\n",
    "import pyspark.sql.functions as f\n",
    "from pyspark.sql import DataFrame\n",
    "from pyspark.sql.functions import col"
   ]
  },
  {
   "cell_type": "code",
   "execution_count": 2,
   "metadata": {},
   "outputs": [
    {
     "name": "stdout",
     "output_type": "stream",
     "text": [
      "/home/polina/bioactivity/code\n"
     ]
    }
   ],
   "source": [
    "# import os\n",
    "# print(os.getcwd())"
   ]
  },
  {
   "cell_type": "code",
   "execution_count": 3,
   "metadata": {},
   "outputs": [
    {
     "name": "stderr",
     "output_type": "stream",
     "text": [
      "Setting default log level to \"WARN\".\n",
      "To adjust logging level use sc.setLogLevel(newLevel). For SparkR, use setLogLevel(newLevel).\n",
      "23/12/11 13:41:04 INFO SparkEnv: Registering MapOutputTracker\n",
      "23/12/11 13:41:05 INFO SparkEnv: Registering BlockManagerMaster\n",
      "23/12/11 13:41:05 INFO SparkEnv: Registering BlockManagerMasterHeartbeat\n",
      "23/12/11 13:41:05 INFO SparkEnv: Registering OutputCommitCoordinator\n"
     ]
    }
   ],
   "source": [
    "spark = SparkSession.builder.getOrCreate()"
   ]
  },
  {
   "cell_type": "markdown",
   "metadata": {},
   "source": [
    "# Data parsing"
   ]
  },
  {
   "cell_type": "code",
   "execution_count": 4,
   "metadata": {},
   "outputs": [],
   "source": [
    "def join_dataframes(initial_df: DataFrame, \n",
    "                    second_df: DataFrame, \n",
    "                    initial_key_column: str, \n",
    "                    second_key_column: str,\n",
    "                    columns_to_join: list) -> DataFrame:\n",
    "    \"\"\"\n",
    "    Joins two PySpark DataFrames on specified key columns.\n",
    "\n",
    "    Args:\n",
    "    initial_df (DataFrame): The initial PySpark DataFrame.\n",
    "    second_df (DataFrame): The second PySpark DataFrame to join with.\n",
    "    initial_key_column (str): The key column name in the initial DataFrame.\n",
    "    second_key_column (str): The key column name in the second DataFrame.\n",
    "    columns_to_join (list): List of column names from the second DataFrame to include in the join.\n",
    "\n",
    "    Returns:\n",
    "    DataFrame: The resulting DataFrame after the join.\n",
    "    \"\"\"\n",
    "\n",
    "    # Selecting specified columns from the second DataFrame, including its key column\n",
    "    second_df_selected = second_df.select([second_key_column] + columns_to_join)\n",
    "\n",
    "    # Performing the left join\n",
    "    joined_df = initial_df.join(second_df_selected, \n",
    "                                initial_df[initial_key_column] == second_df_selected[second_key_column], \n",
    "                                how='left')\n",
    "\n",
    "    # Drop the second key column if not needed\n",
    "    joined_df = joined_df.drop(second_df_selected[second_key_column])\n",
    "\n",
    "    return joined_df\n"
   ]
  },
  {
   "cell_type": "code",
   "execution_count": 5,
   "metadata": {},
   "outputs": [],
   "source": [
    "def count_unique_values(df: DataFrame, column_name: str) -> int:\n",
    "    \"\"\"\n",
    "    Count unique values in a specific column of a PySpark DataFrame.\n",
    "\n",
    "    Args:\n",
    "    df (DataFrame): The PySpark DataFrame.\n",
    "    column_name (str): The name of the column to analyze.\n",
    "\n",
    "    Returns:\n",
    "    int: The number of unique values in the column.\n",
    "    \"\"\"\n",
    "    # Get distinct values in the column and count them\n",
    "    unique_count = df.select(column_name).distinct().count()\n",
    "\n",
    "    return unique_count\n",
    "\n",
    "# Example usage\n",
    "# unique_count = count_unique_values(your_dataframe, 'your_column_name')\n",
    "# print(f\"Number of unique values: {unique_count}\")\n"
   ]
  },
  {
   "cell_type": "code",
   "execution_count": 6,
   "metadata": {},
   "outputs": [],
   "source": [
    "def show_unique_values_and_counts(df: DataFrame, column_name: str):\n",
    "    \"\"\"\n",
    "    Shows unique values and their counts for a specified column in a Spark DataFrame.\n",
    "\n",
    "    Parameters:\n",
    "    df (DataFrame): The Spark DataFrame to analyze.\n",
    "    column_name (str): The name of the column for which to count unique values.\n",
    "    \"\"\"\n",
    "    if column_name not in df.columns:\n",
    "        raise ValueError(f\"Column {column_name} not found in DataFrame\")\n",
    "\n",
    "    unique_values_counts = df.groupBy(column_name).count()\n",
    "    unique_values_counts.show()\n"
   ]
  },
  {
   "cell_type": "code",
   "execution_count": 7,
   "metadata": {},
   "outputs": [
    {
     "name": "stderr",
     "output_type": "stream",
     "text": [
      "[Stage 0:>                                                          (0 + 1) / 1]\r"
     ]
    },
    {
     "name": "stdout",
     "output_type": "stream",
     "text": [
      "+-------------+\n",
      "|       drugId|\n",
      "+-------------+\n",
      "|CHEMBL1200632|\n",
      "|   CHEMBL1231|\n",
      "|CHEMBL1233511|\n",
      "|   CHEMBL1637|\n",
      "|CHEMBL1743017|\n",
      "| CHEMBL185885|\n",
      "|CHEMBL1949708|\n",
      "|CHEMBL2105675|\n",
      "|CHEMBL2107826|\n",
      "|CHEMBL2109673|\n",
      "|CHEMBL2346976|\n",
      "| CHEMBL279115|\n",
      "|CHEMBL3181832|\n",
      "|CHEMBL3545096|\n",
      "|CHEMBL3545103|\n",
      "|CHEMBL3545145|\n",
      "|CHEMBL3545312|\n",
      "| CHEMBL363648|\n",
      "|CHEMBL3707249|\n",
      "|CHEMBL3989766|\n",
      "+-------------+\n",
      "only showing top 20 rows\n",
      "\n"
     ]
    },
    {
     "name": "stderr",
     "output_type": "stream",
     "text": [
      "                                                                                \r"
     ]
    }
   ],
   "source": [
    "# Take list of unique drugs (obtained from target with evidence in Platform or chemProbes)\n",
    "import pandas as pd\n",
    "\n",
    "unique_drugs_pd_df = pd.read_csv(\"../data/drug_to_target_unique_drugs.csv\")\n",
    "drug_list = spark.createDataFrame(unique_drugs_pd_df)\n",
    "# drug_list = spark.read.csv(drug_list_dir, header=True, inferSchema=True)\n",
    "drug_list.show()"
   ]
  },
  {
   "cell_type": "code",
   "execution_count": 8,
   "metadata": {},
   "outputs": [
    {
     "name": "stderr",
     "output_type": "stream",
     "text": [
      "                                                                                \r"
     ]
    },
    {
     "data": {
      "text/plain": [
       "12835"
      ]
     },
     "execution_count": 8,
     "metadata": {},
     "output_type": "execute_result"
    }
   ],
   "source": [
    "count_unique_values(drug_list, \"drugId\")"
   ]
  },
  {
   "cell_type": "markdown",
   "metadata": {},
   "source": [
    "### For each drug find a max phase of clinical trial"
   ]
  },
  {
   "cell_type": "code",
   "execution_count": 9,
   "metadata": {},
   "outputs": [
    {
     "name": "stderr",
     "output_type": "stream",
     "text": [
      "[Stage 9:>                                                          (0 + 1) / 1]\r"
     ]
    },
    {
     "name": "stdout",
     "output_type": "stream",
     "text": [
      "+---------------+--------------------+--------------------+--------------------+--------------------+--------------+----------------+-------------+--------------------+----------+--------------------+--------------------+-------------------------+--------------------+-------------+--------------------+--------------------+-------------------+\n",
      "|blackBoxWarning|     canonicalSmiles|      childChemblIds|     crossReferences|         description|      drugType|hasBeenWithdrawn|           id|            inchiKey|isApproved|      linkedDiseases|       linkedTargets|maximumClinicalTrialPhase|                name|     parentId|            synonyms|          tradeNames|yearOfFirstApproval|\n",
      "+---------------+--------------------+--------------------+--------------------+--------------------+--------------+----------------+-------------+--------------------+----------+--------------------+--------------------+-------------------------+--------------------+-------------+--------------------+--------------------+-------------------+\n",
      "|          false|Cc1cc(CN2CCN(c3c(...|                null|                null|Small molecule drug.|Small molecule|           false|CHEMBL1086582|UUGWPYPNRZQDFO-UH...|      null|                null|                null|                     null|       CHEMBL1086582|         null|                  []|                  []|               null|\n",
      "|          false|CNCc1ccc(-c2[nH]c...|[CHEMBL2105733, C...|{[rucaparib%20cam...|Small molecule dr...|Small molecule|           false|CHEMBL1173055|HMABYWSNWIZPAG-UH...|      true|{24, [EFO_0003060...|{3, [ENSG00000143...|                      4.0|           RUCAPARIB|         null|[AG-014699, AG-14...|                  []|               2016|\n",
      "|          false|CC(=O)N(c1onc(C)c...|                null|{[sulfisoxazole%2...|Small molecule dr...|Small molecule|           false|CHEMBL1200910|JFNWFXVFBDDWCX-UH...|      true|                null|             {0, []}|                      4.0|SULFISOXAZOLE ACETYL|         null|[Acetyl sulfafura...|[Gantrisin, Gantr...|               1953|\n",
      "|          false|COc1ccc(C[C@@H]2c...|     [CHEMBL1200641]|{[cisatracurium%2...|Small molecule dr...|Small molecule|           false|CHEMBL1201248|YXSLJKQTIDHPOT-LJ...|      true|  {1, [EFO_1000637]}|{5, [ENSG00000138...|                      4.0|       CISATRACURIUM|         null|[Cisatracurium, C...|            [Nimbex]|               1995|\n",
      "|           true|                null|                null|{[estrogens,%20es...|Small molecule dr...|Small molecule|           false|CHEMBL1201468|                null|      true|{5, [EFO_1000096,...|{2, [ENSG00000140...|                      4.0|ESTROGENS, ESTERI...|         null|[Esterified estro...|[Amnestrogen, Est...|               1977|\n",
      "|          false|                null|                null|{[hyaluronidase%2...|Enzyme drug with ...|        Enzyme|           false|CHEMBL1201718|                null|      true|{20, [EFO_1000668...|                null|                      4.0|HYALURONIDASE (HU...|         null|[Chemophase, Enha...|[Cumulase, Hylene...|               2005|\n",
      "|           true|CC(=O)Oc1cc2c(s1)...|     [CHEMBL1201773]|{[prasugrel%20hyd...|Small molecule dr...|Small molecule|           false|CHEMBL1201772|DTGLZDAWLRGWQN-UH...|      true|{17, [EFO_0003777...|{1, [ENSG00000169...|                      4.0|           PRASUGREL|         null|[LY-640315, NSC-7...|            [Efient]|               2009|\n",
      "|          false|COc1ccc(-c2cc3c(C...|                null|{null, null, null...|Small molecule dr...|Small molecule|           false|CHEMBL1234354|XDLYKKIQACFMJG-WK...|     false|{3, [EFO_0003869,...|{9, [ENSG00000198...|                      2.0|         PF-04691502|         null|[PF-04691502, PF-...|                  []|               null|\n",
      "|          false|Cc1ccc(C(C)C)cc2c...|                null|{null, null, [170...|Small molecule dr...|Small molecule|           false|CHEMBL1408759|FWKQNCXZGNBPFD-UH...|     false|  {1, [EFO_0003966]}|                null|                     -1.0|          GUAIAZULEN|         null|[Guaiazulen, Guai...|                  []|               null|\n",
      "|          false|O=c1[nH]c2ccccc2n...|                null|{[pimozide], null...|Small molecule dr...|Small molecule|           false|   CHEMBL1423|YVUQSNJEYSNKRX-UH...|      true|{6, [MONDO_000509...|{6, [ENSG00000149...|                      4.0|            PIMOZIDE|         null|[MCN-JR-6238, NSC...|    [Orap, Pimozide]|               1984|\n",
      "|          false|CC[C@H]1OC(=O)[C@...|                null|{null, null, [144...|Small molecule drug.|Small molecule|           false|CHEMBL1476500|RXZBMPWDPOLZGW-HI...|      null|                null|                null|                     null|       CHEMBL1476500|         null|                  []|                  []|               null|\n",
      "|          false|           Cn1ccnc1S|                null|{[methimazole], n...|Small molecule dr...|Small molecule|           false|   CHEMBL1515|PMRYVIKBURPHAH-UH...|      true|{6, [HP_0000820, ...|{1, [ENSG00000115...|                      4.0|         METHIMAZOLE|         null|[Mercaptizole, Me...|[Favistan, Methim...|               1950|\n",
      "|          false|    c1ccc2[nH]ccc2c1|                null|{null, null, [144...|Small molecule drug.|Small molecule|           false|  CHEMBL15844|SIKJAQJRHWYJAI-UH...|      null|                null|                null|                     null|              INDOLE|         null|            [Indole]|                  []|               null|\n",
      "|          false|COc1cccc(N(C)C(=S...|                null|{null, null, [144...|Small molecule drug.|Small molecule|           false|CHEMBL1591365|VPHPQNGOVQYUMG-UH...|     false|                null|             {0, []}|                     -1.0|         LIRANAFTATE|         null|[Liranaftate, Pir...|                  []|               null|\n",
      "|          false|             CC(N)=O|                null|{null, null, [111...|Small molecule drug.|Small molecule|           false|  CHEMBL16081|DLFVBJFMPXGRIB-UH...|      null|                null|                null|                     null|           ACETAMIDE|         null|         [Acetamide]|                  []|               null|\n",
      "|          false|Nc1nc(=O)c2nc(CNc...|     [CHEMBL2107429]|{[folic%20acid], ...|Small molecule dr...|Small molecule|           false|   CHEMBL1622|OVBPIULPVIDEAO-LB...|      true|{71, [EFO_1001231...|                null|                      4.0|          FOLIC ACID|         null|[Acidum folicum, ...|[Bio science, Fol...|               null|\n",
      "|          false|C=C1C[C@@H]2CC[C@...|                null|{[eribulin%20mesy...|Small molecule dr...|Small molecule|           false|CHEMBL1683544|QAMYWGZHLCQOOJ-WR...|      true|{20, [EFO_0003060...|{15, [ENSG0000018...|                      4.0|   ERIBULIN MESYLATE|CHEMBL1683590|[E-7389, E7389, E...|           [Halaven]|               2010|\n",
      "|           true|COc1cc(N)c(Cl)cc1...|     [CHEMBL1200788]|{null, null, [144...|Small molecule dr...|Small molecule|            true|   CHEMBL1729|DCSUBABJRXZOMT-UH...|      true|  {1, [EFO_0010282]}|{1, [ENSG00000164...|                      4.0|           CISAPRIDE|         null|[Cisapride, Cisap...|[Alimix, Prepulsi...|               1993|\n",
      "|          false|                null|                null|                null|Antibody drug wit...|      Antibody|           false|CHEMBL1743065|                null|     false|                null|{1, [ENSG00000187...|                      2.0|           ROLEDUMAB|         null|         [Roledumab]|                  []|               null|\n",
      "|           true|N#CC[C@H](C1CCCC1...|[CHEMBL1795071, C...|{[ruxolitinib%20p...|Small molecule dr...|Small molecule|           false|CHEMBL1789941|HFNKQEVNSGCOJV-OA...|      true|{70, [EFO_0003086...|{2, [ENSG00000162...|                      4.0|         RUXOLITINIB|         null|[INC-424, INC424,...|            [Jakavi]|               2011|\n",
      "+---------------+--------------------+--------------------+--------------------+--------------------+--------------+----------------+-------------+--------------------+----------+--------------------+--------------------+-------------------------+--------------------+-------------+--------------------+--------------------+-------------------+\n",
      "only showing top 20 rows\n",
      "\n"
     ]
    },
    {
     "name": "stderr",
     "output_type": "stream",
     "text": [
      "                                                                                \r"
     ]
    }
   ],
   "source": [
    "molecule_path = \"gs://open-targets-data-releases/23.12/output/etl/json/molecule\"\n",
    "molecule = spark.read.json(molecule_path)\n",
    "molecule.persist()\n",
    "molecule.show()"
   ]
  },
  {
   "cell_type": "code",
   "execution_count": 10,
   "metadata": {},
   "outputs": [
    {
     "name": "stderr",
     "output_type": "stream",
     "text": [
      "                                                                                \r"
     ]
    },
    {
     "name": "stdout",
     "output_type": "stream",
     "text": [
      "+-------------+--------------+-------------------------+----------+--------------------+--------------------+\n",
      "|       drugId|      drugType|maximumClinicalTrialPhase|isApproved|       linkedTargets|      linkedDiseases|\n",
      "+-------------+--------------+-------------------------+----------+--------------------+--------------------+\n",
      "|CHEMBL1200632|Small molecule|                      4.0|      true|             {0, []}|{3, [EFO_0003894,...|\n",
      "|   CHEMBL1231|Small molecule|                      4.0|      true|{2, [ENSG00000133...|{15, [EFO_1000781...|\n",
      "|CHEMBL1233511|Small molecule|                      3.0|     false|                null|  {1, [EFO_0002950]}|\n",
      "|   CHEMBL1637|Small molecule|                      4.0|      true|{14, [ENSG0000010...|{54, [MONDO_00081...|\n",
      "|CHEMBL1743017|      Antibody|                      2.0|     false|{1, [ENSG00000127...|{3, [EFO_0000676,...|\n",
      "| CHEMBL185885|Small molecule|                      2.0|     false|                null|{2, [EFO_0009444,...|\n",
      "|CHEMBL1949708|Small molecule|                      3.0|     false|                null|{2, [EFO_0003884,...|\n",
      "|CHEMBL2105675|Small molecule|                      4.0|      true|{1, [ENSG00000118...|{5, [EFO_1001875,...|\n",
      "|CHEMBL2107826|Small molecule|                      4.0|      true|{1, [ENSG00000188...|{5, [HP_0000020, ...|\n",
      "|CHEMBL2109673|       Unknown|                      1.0|     false|                null|  {1, [EFO_0002617]}|\n",
      "|CHEMBL2346976|Small molecule|                      1.0|     false|{1, [ENSG00000169...|{1, [MONDO_0008315]}|\n",
      "| CHEMBL279115|Small molecule|                      2.0|     false|                null|{3, [EFO_0000565,...|\n",
      "|CHEMBL3181832|Small molecule|                      4.0|      true|             {0, []}|  {1, [EFO_0003102]}|\n",
      "|CHEMBL3545096|Small molecule|                      2.0|     false|{9, [ENSG00000198...|{3, [MONDO_001606...|\n",
      "|CHEMBL3545103|Small molecule|                      2.0|     false|{1, [ENSG00000169...|{2, [EFO_0000341,...|\n",
      "|CHEMBL3545145|Small molecule|                      1.0|     false|{2, [ENSG00000169...|  {1, [EFO_0000616]}|\n",
      "|CHEMBL3545312|Small molecule|                      2.0|     false|                null|  {1, [EFO_0004220]}|\n",
      "| CHEMBL363648|Small molecule|                      2.0|     false|{1, [ENSG00000112...|  {1, [EFO_0000685]}|\n",
      "|CHEMBL3707249|Small molecule|                      2.0|     false|{6, [ENSG00000175...|{2, [MONDO_000497...|\n",
      "|CHEMBL3989766|       Unknown|                      4.0|      true|                null|{5, [EFO_0000544,...|\n",
      "+-------------+--------------+-------------------------+----------+--------------------+--------------------+\n",
      "only showing top 20 rows\n",
      "\n"
     ]
    }
   ],
   "source": [
    "# List of columns from molecule table\n",
    "list_molecule = [\"drugType\", \n",
    "                \"maximumClinicalTrialPhase\", \n",
    "                \"isApproved\", \n",
    "                \"linkedTargets\", \n",
    "                \"linkedDiseases\"]\n",
    "                 \n",
    "# Join list of drugs and max_phase from molecule table\n",
    "drug_list_phase = join_dataframes(drug_list, molecule, \"drugId\", \"id\", list_molecule).persist()\n",
    "drug_list_phase.show()"
   ]
  },
  {
   "cell_type": "code",
   "execution_count": 14,
   "metadata": {},
   "outputs": [
    {
     "data": {
      "text/plain": [
       "3340"
      ]
     },
     "execution_count": 14,
     "metadata": {},
     "output_type": "execute_result"
    }
   ],
   "source": [
    "approved_drugs = drug_list_phase.filter(col(\"maximumClinicalTrialPhase\") == 4.0)\n",
    "count_unique_values(approved_drugs, \"drugId\")"
   ]
  },
  {
   "cell_type": "markdown",
   "metadata": {},
   "source": [
    "### For each unique drug find bioactivity data from chembl_33_activity"
   ]
  },
  {
   "cell_type": "code",
   "execution_count": 15,
   "metadata": {},
   "outputs": [
    {
     "name": "stderr",
     "output_type": "stream",
     "text": [
      "[Stage 19:>                                                         (0 + 1) / 1]\r"
     ]
    },
    {
     "name": "stdout",
     "output_type": "stream",
     "text": [
      "+--------------------+-----------+---------------+----------+-----------------------+----------------------+---------------------+-------------------------+------------------+-------------+-----------------+------------------+-------------+-------------+-----------------+-------------------+-------------+--------------+--------------+----------------+--------------------+--------------------+\n",
      "|           _metadata|action_type|assay_chembl_id|assay_type|assay_variant_accession|assay_variant_mutation|data_validity_comment|data_validity_description|document_chembl_id|document_year|ligand_efficiency|molecule_chembl_id|pchembl_value|standard_flag|standard_relation|standard_text_value|standard_type|standard_units|standard_value|target_chembl_id|     target_organism|    target_pref_name|\n",
      "+--------------------+-----------+---------------+----------+-----------------------+----------------------+---------------------+-------------------------+------------------+-------------+-----------------+------------------+-------------+-------------+-----------------+-------------------+-------------+--------------+--------------+----------------+--------------------+--------------------+\n",
      "|{{null, Plasmodiu...|       null|  CHEMBL1067624|         F|                   null|                  null|                 null|                     null|     CHEMBL1157729|         2010|             null|      CHEMBL403233|         null|            1|                =|               null|   Inhibition|             %|         100.0|    CHEMBL612653|  Plasmodium berghei|  Plasmodium berghei|\n",
      "|{{CEM-SS, Homo sa...|       null|   CHEMBL659223|         F|                   null|                  null|                 null|                     null|     CHEMBL1134284|         2001|             null|      CHEMBL133395|         null|            0|             null|               null|         EC50|            nM|          null|    CHEMBL614548|        Homo sapiens|              CEM-SS|\n",
      "|{{null, Homo sapi...|       null|  CHEMBL1614079|         F|                   null|                  null|                 null|                     null|     CHEMBL1201862|         null|             null|     CHEMBL1453871|         4.10|            1|                =|               null|      Potency|            nM|       79432.8|      CHEMBL2392|        Homo sapiens| DNA polymerase beta|\n",
      "|{{Caco-2, Homo sa...|       null|   CHEMBL859786|         A|                   null|                  null|                 null|                     null|     CHEMBL1146077|         2006|             null|      CHEMBL206300|         null|            0|                =|               null|         Papp|         ucm/s|          12.5|    CHEMBL614058|        Homo sapiens|              Caco-2|\n",
      "|{{SF-539, null, [...|       null|  CHEMBL1964018|         F|                   null|                  null|                 null|                     null|     CHEMBL1201862|         null|             null|      CHEMBL277981|         null|            1|             null|               null|         GI50|            nM|       1253.14|    CHEMBL614860|        Homo sapiens|              SF-539|\n",
      "|{{null, Candida a...|       null|   CHEMBL958797|         F|                   null|                  null|                 null|                     null|     CHEMBL1157378|         2007|             null|         CHEMBL106|         null|            1|                =|               null|        MIC80|       ug.mL-1|           2.0|       CHEMBL366|    Candida albicans|    Candida albicans|\n",
      "|{{null, Homo sapi...|       null|   CHEMBL926687|         A|                   null|                  null|                 null|                     null|     CHEMBL1141299|         2007|             null|        CHEMBL1043|         null|            1|                =|               null|            F|             %|          93.0|       CHEMBL372|        Homo sapiens|        Homo sapiens|\n",
      "|{{null, null, [],...|       null|  CHEMBL1244995|         B|                   null|                  null|                 null|                     null|     CHEMBL1240346|         2009|             null|     CHEMBL1240703|         null|            1|                >|               null|           Kd|            nM|       10000.0|      CHEMBL5261|        Homo sapiens|Serine/threonine-...|\n",
      "|{{null, Trypanoso...|       null|  CHEMBL1026360|         B|                   null|                  null|                 null|                     null|     CHEMBL1143323|         2009|             null|      CHEMBL481199|         null|            0|                =|               null|     Activity|             %|           2.4|    CHEMBL612545|                null|           Unchecked|\n",
      "|{{HFF, Homo sapie...|       null|   CHEMBL700641|         A|                   null|                  null|                 null|                     null|     CHEMBL1124846|         1990|             null|         CHEMBL184|         null|            1|                >|               null|         IC50|            nM|      100000.0|    CHEMBL612558|                null|               ADMET|\n",
      "|{{null, Homo sapi...|       null|  CHEMBL1614031|         F|                   null|                  null|                 null|                     null|     CHEMBL1201862|         null|             null|     CHEMBL1609610|         4.30|            1|                =|               null|      Potency|            nM|       50118.7|      CHEMBL2608|        Homo sapiens|Lysosomal alpha-g...|\n",
      "|{{null, null, [],...|       null|   CHEMBL866488|         B|                   null|                  null|                 null|                     null|     CHEMBL1138125|         2006|             null|      CHEMBL204449|         null|            0|                =|               null|     Activity|             %|          10.0|   CHEMBL2096670|        Homo sapiens|Glutamate recepto...|\n",
      "|{{Malme-3M, null,...|       null|  CHEMBL1964025|         F|                   null|                  null|                 null|                     null|     CHEMBL1201862|         null|             null|     CHEMBL1971073|         null|            1|             null|               null|         GI50|            nM|      100000.0|    CHEMBL614021|        Homo sapiens|            Malme-3M|\n",
      "|{{null, null, [],...|       null|   CHEMBL954351|         A|                   null|                  null|                 null|                     null|     CHEMBL1153373|         2009|             null|      CHEMBL373496|         null|            0|                =|               null|           TI|          null|         100.0|    CHEMBL612558|                null|               ADMET|\n",
      "|{{SK-OV-3, Homo s...|       null|   CHEMBL940752|         F|                   null|                  null|                 null|                     null|     CHEMBL1139778|         2007|             null|      CHEMBL399927|         null|            1|                =|               null|         GI50|            nM|       48800.0|    CHEMBL614925|        Homo sapiens|             SK-OV-3|\n",
      "|{{null, Escherich...|       null|  CHEMBL1244618|         B|                   null|                  null|                 null|                     null|     CHEMBL1240343|         2009|             null|     CHEMBL1231347|         null|            0|                =|               null|           FC|          null|           6.0|   CHEMBL1250346|Escherichia coli ...|5'-methylthioaden...|\n",
      "|{{HOP-62, Homo sa...|       null|  CHEMBL1073272|         F|                   null|                  null|                 null|                     null|     CHEMBL1153245|         2010|             null|      CHEMBL593850|         null|            0|                =|               null|     Activity|             %|         90.22|    CHEMBL614643|        Homo sapiens|              HOP-62|\n",
      "|{{null, Rattus no...|       null|   CHEMBL775998|         F|                   null|                  null|                 null|                     null|     CHEMBL1125890|         1991|             null|       CHEMBL99677|         null|            0|                =|               null|       Change|             %|          -6.0|       CHEMBL376|   Rattus norvegicus|   Rattus norvegicus|\n",
      "|{{null, Homo sapi...|       null|  CHEMBL1614154|         F|                   null|                  null|                 null|                     null|     CHEMBL1201862|         null|             null|     CHEMBL1091057|         6.15|            1|                =|               null|      Potency|            nM|         712.7|   CHEMBL1075189|        Homo sapiens|Pyruvate kinase i...|\n",
      "|{{null, Homo sapi...|       null|   CHEMBL860948|         A|                   null|                  null|                 null|                     null|     CHEMBL1146077|         2006|             null|        CHEMBL1294|         7.70|            1|                =|               null|         IC50|            nM|          20.0|       CHEMBL289|        Homo sapiens| Cytochrome P450 2D6|\n",
      "+--------------------+-----------+---------------+----------+-----------------------+----------------------+---------------------+-------------------------+------------------+-------------+-----------------+------------------+-------------+-------------+-----------------+-------------------+-------------+--------------+--------------+----------------+--------------------+--------------------+\n",
      "only showing top 20 rows\n",
      "\n"
     ]
    },
    {
     "name": "stderr",
     "output_type": "stream",
     "text": [
      "                                                                                \r"
     ]
    }
   ],
   "source": [
    "activity_path = \"gs://open-targets-pre-data-releases/chembl-columns/chembl-inputs/chembl_33_activity.jsonl\"\n",
    "activity = spark.read.json(activity_path)\n",
    "activity.persist()\n",
    "activity.show()"
   ]
  },
  {
   "cell_type": "code",
   "execution_count": 16,
   "metadata": {},
   "outputs": [],
   "source": [
    "# List of columns from activity table\n",
    "list_activity = [\"assay_chembl_id\",\n",
    "                \"assay_type\",\n",
    "                \"action_type\",\n",
    "                \"pchembl_value\",\n",
    "                \"standard_type\",\n",
    "                \"standard_units\",\n",
    "                \"standard_value\",\n",
    "                \"standard_relation\",\n",
    "                \"target_organism\",\n",
    "                \"target_pref_name\",\n",
    "                \"target_chembl_id\"]\n",
    "                # \"standard_flag\",\n",
    "                # \"ligand_efficiency\",\n",
    "                # \"assay_variant_mutation\"\n",
    "                # \"assay_variant_accession\",\n",
    "                # \"data_validity_comment\",\n",
    "                # \"data_validity_description\"]"
   ]
  },
  {
   "cell_type": "code",
   "execution_count": 17,
   "metadata": {},
   "outputs": [
    {
     "name": "stdout",
     "output_type": "stream",
     "text": [
      "+-------------+--------------+-------------------------+----------+--------------------+--------------------+---------------+----------+-----------+-------------+-------------+--------------+--------------+-----------------+--------------------+--------------------+----------------+\n",
      "|       drugId|      drugType|maximumClinicalTrialPhase|isApproved|       linkedTargets|      linkedDiseases|assay_chembl_id|assay_type|action_type|pchembl_value|standard_type|standard_units|standard_value|standard_relation|     target_organism|    target_pref_name|target_chembl_id|\n",
      "+-------------+--------------+-------------------------+----------+--------------------+--------------------+---------------+----------+-----------+-------------+-------------+--------------+--------------+-----------------+--------------------+--------------------+----------------+\n",
      "|    CHEMBL106|Small molecule|                      4.0|      true|             {0, []}|{36, [EFO_0007228...|   CHEMBL958797|         F|       null|         null|        MIC80|       ug.mL-1|           2.0|                =|    Candida albicans|    Candida albicans|       CHEMBL366|\n",
      "|   CHEMBL1043|Small molecule|                      4.0|      true|             {0, []}|{17, [EFO_0000764...|   CHEMBL926687|         A|       null|         null|            F|             %|          93.0|                =|        Homo sapiens|        Homo sapiens|       CHEMBL372|\n",
      "|    CHEMBL184|Small molecule|                      4.0|      true|             {0, []}|{24, [EFO_1001347...|   CHEMBL700641|         A|       null|         null|         IC50|            nM|      100000.0|                >|                null|               ADMET|    CHEMBL612558|\n",
      "|   CHEMBL1294|Small molecule|                      4.0|      true|{10, [ENSG0000014...|{18, [EFO_0001068...|   CHEMBL860948|         A|       null|         7.70|         IC50|            nM|          20.0|                =|        Homo sapiens| Cytochrome P450 2D6|       CHEMBL289|\n",
      "| CHEMBL288441|Small molecule|                      4.0|      true|{5, [ENSG00000097...|{20, [EFO_0000222...|  CHEMBL1244343|         B|       null|         7.04|         IC50|            nM|          92.0|                =|        Homo sapiens|  CaM kinase I delta|      CHEMBL5073|\n",
      "|     CHEMBL94|Small molecule|                      4.0|      true|{1, [ENSG00000087...|{4, [EFO_0002614,...|   CHEMBL859798|         B|       null|         7.55|         IC50|            nM|          28.0|                =|        Homo sapiens|Acetylcholinesterase|       CHEMBL220|\n",
      "|   CHEMBL1006|Small molecule|                      4.0|      true|                null|{39, [EFO_0000691...|  CHEMBL1266185|         F|       null|         null|   Inhibition|             %|          null|             null|                null|           Unchecked|    CHEMBL612545|\n",
      "|CHEMBL1200326|Small molecule|                      4.0|      true|{4, [ENSG00000151...|{4, [EFO_1000994,...|  CHEMBL1266185|         F|       null|         null|   Inhibition|             %|          null|             null|                null|           Unchecked|    CHEMBL612545|\n",
      "| CHEMBL288441|Small molecule|                      4.0|      true|{5, [ENSG00000097...|{20, [EFO_0000222...|  CHEMBL1244345|         B|       null|         6.74|         IC50|            nM|         184.0|                =|        Homo sapiens| CaM kinase II gamma|      CHEMBL3829|\n",
      "|    CHEMBL433|Small molecule|                      4.0|      true|{1, [ENSG00000112...|{25, [MONDO_00070...|  CHEMBL1266185|         F|       null|         null|   Inhibition|             %|          null|             null|                null|           Unchecked|    CHEMBL612545|\n",
      "| CHEMBL475534|Small molecule|                      4.0|      true|{4, [ENSG00000151...|{2, [EFO_0000319,...|  CHEMBL1266185|         F|       null|         null|   Inhibition|             %|          null|             null|                null|           Unchecked|    CHEMBL612545|\n",
      "| CHEMBL288441|Small molecule|                      4.0|      true|{5, [ENSG00000097...|{20, [EFO_0000222...|  CHEMBL1244351|         B|       null|         null|   Inhibition|             %|          69.0|                =|        Homo sapiens|Serine/threonine-...|      CHEMBL5701|\n",
      "| CHEMBL466253|Small molecule|                     null|      null|                null|                null|  CHEMBL1071910|         F|       null|         5.96|         EC50|            nM|        1100.0|                =|        Homo sapiens|Muscarinic acetyl...|      CHEMBL2035|\n",
      "|    CHEMBL500|Small molecule|                      4.0|      true|{2, [ENSG00000169...|{3, [EFO_0000319,...|  CHEMBL1266185|         F|       null|         null|   Inhibition|             %|          null|             null|                null|           Unchecked|    CHEMBL612545|\n",
      "| CHEMBL205526|Small molecule|                     null|      null|                null|                null|   CHEMBL869598|         P|       null|         null|         LogD|          null|           4.8|                =|                null|  No relevant target|   CHEMBL2362975|\n",
      "|  CHEMBL98123|Small molecule|                      4.0|      true|                null|  {1, [EFO_0003060]}|  CHEMBL1266185|         F|       null|         null|   Inhibition|             %|          null|             null|                null|           Unchecked|    CHEMBL612545|\n",
      "|     CHEMBL44|Small molecule|                      2.0|     false|                null|{17, [EFO_0000673...|   CHEMBL955099|         F|       null|         4.58|         IC50|            nM|       26500.0|                =|        Mus musculus|            RAW264.7|    CHEMBL612557|\n",
      "|CHEMBL1688530|       Unknown|                      4.0|      true|                null|{6, [EFO_0000544,...|  CHEMBL1262045|         F|       null|         null|        MIC90|          null|          null|             null|                null|  NON-PROTEIN TARGET|   CHEMBL3879801|\n",
      "| CHEMBL267345|Small molecule|                      4.0|      true|                null|{29, [EFO_0007157...|   CHEMBL996430|         F|       null|         null|           IZ|            mm|           2.5|                =|Trichophyton ment...|Trichophyton ment...|    CHEMBL613162|\n",
      "|  CHEMBL18442|Small molecule|                      4.0|      true|{1, [ENSG00000121...|{36, [MONDO_00037...|  CHEMBL1268145|         F|       null|         7.31|         EC50|            nM|          49.0|                =|Human immunodefic...|Human immunodefic...|       CHEMBL378|\n",
      "+-------------+--------------+-------------------------+----------+--------------------+--------------------+---------------+----------+-----------+-------------+-------------+--------------+--------------+-----------------+--------------------+--------------------+----------------+\n",
      "only showing top 20 rows\n",
      "\n"
     ]
    }
   ],
   "source": [
    "# Join list of drugs and chembl_33_activity\n",
    "drug_to_activity = join_dataframes(drug_list_phase, activity, \"drugId\", \"molecule_chembl_id\", list_activity).filter(col(\"assay_chembl_id\").isNotNull()).persist()\n",
    "drug_to_activity.show()"
   ]
  },
  {
   "cell_type": "code",
   "execution_count": 23,
   "metadata": {},
   "outputs": [
    {
     "data": {
      "text/plain": [
       "168729"
      ]
     },
     "execution_count": 23,
     "metadata": {},
     "output_type": "execute_result"
    }
   ],
   "source": [
    "drug_to_activity.count()"
   ]
  },
  {
   "cell_type": "code",
   "execution_count": 18,
   "metadata": {},
   "outputs": [
    {
     "name": "stderr",
     "output_type": "stream",
     "text": [
      "                                                                                \r"
     ]
    },
    {
     "name": "stdout",
     "output_type": "stream",
     "text": [
      "Number of unique drugs from targets dataset:  12835\n",
      "Number of unique drugs with any bioactivities:  6215\n",
      "Number of unique targets with any drug bioactivities:  4848\n"
     ]
    }
   ],
   "source": [
    "# Calculate for how many drugs and targets we have biodata\n",
    "\n",
    "drug_list_count = count_unique_values(drug_list, 'drugId')\n",
    "drug_to_activity_count = count_unique_values(drug_to_activity, 'drugId')\n",
    "drug_to_activity_count_targets = count_unique_values(drug_to_activity, 'target_chembl_id')\n",
    "\n",
    "print(\"Number of unique drugs from targets dataset: \", drug_list_count)\n",
    "print(\"Number of unique drugs with any bioactivities: \", drug_to_activity_count)\n",
    "print(\"Number of unique targets with any drug bioactivities: \", drug_to_activity_count_targets)"
   ]
  },
  {
   "cell_type": "markdown",
   "metadata": {},
   "source": [
    "### For each bioactivity assay find parameters from chembl_33_assay"
   ]
  },
  {
   "cell_type": "code",
   "execution_count": 19,
   "metadata": {},
   "outputs": [
    {
     "name": "stderr",
     "output_type": "stream",
     "text": [
      "[Stage 41:>                                                         (0 + 1) / 1]\r"
     ]
    },
    {
     "name": "stdout",
     "output_type": "stream",
     "text": [
      "+--------------------+--------------+---------------+--------------------+---------------+----------+----------------------+----------------+----------------+\n",
      "|           _metadata|assay_category|assay_chembl_id|      assay_organism|assay_test_type|assay_type|confidence_description|confidence_score|variant_sequence|\n",
      "+--------------------+--------------+---------------+--------------------+---------------+----------+----------------------+----------------+----------------+\n",
      "|{{0 - Default val...|          null|   CHEMBL688540|                null|           null|         F|  Default value - T...|               0|            null|\n",
      "|{{8 - Homologous ...|  confirmatory|  CHEMBL2114731|Mycobacterium tub...|           null|         F|  Homologous single...|               8|            null|\n",
      "|{{8 - Homologous ...|          null|   CHEMBL643834|                null|           null|         B|  Homologous single...|               8|            null|\n",
      "|{{8 - Homologous ...|  confirmatory|  CHEMBL2114783|                null|           null|         F|  Homologous single...|               8|            null|\n",
      "|{{1 - Target assi...|          null|   CHEMBL714648|        Homo sapiens|           null|         F|  Target assigned i...|               1|            null|\n",
      "|{{9 - Direct sing...|  confirmatory|  CHEMBL2114933|        Homo sapiens|           null|         F|  Direct single pro...|               9|            null|\n",
      "|{{0 - Default val...|          null|   CHEMBL849211|                null|           null|         F|  Default value - T...|               0|            null|\n",
      "|{{0 - Default val...|  confirmatory|  CHEMBL2114801|                null|           null|         F|  Default value - T...|               0|            null|\n",
      "|{{1 - Target assi...|          null|   CHEMBL715311|        Homo sapiens|           null|         F|  Target assigned i...|               1|            null|\n",
      "|{{0 - Default val...|  confirmatory|  CHEMBL3562074|                null|           null|         F|  Default value - T...|               0|            null|\n",
      "|{{1 - Target assi...|          null|   CHEMBL717309|   Rattus norvegicus|           null|         F|  Target assigned i...|               1|            null|\n",
      "|{{8 - Homologous ...|  confirmatory|  CHEMBL2114922| Human herpesvirus 1|           null|         F|  Homologous single...|               8|            null|\n",
      "|{{0 - Default val...|          null|   CHEMBL760161|                null|           null|         B|  Default value - T...|               0|            null|\n",
      "|{{1 - Target assi...|  confirmatory|  CHEMBL3562083|                null|           null|         F|  Target assigned i...|               1|            null|\n",
      "|{{1 - Target assi...|          null|   CHEMBL844411|Human immunodefic...|           null|         F|  Target assigned i...|               1|            null|\n",
      "|{{8 - Homologous ...|  confirmatory|  CHEMBL1964056|                null|           null|         F|  Homologous single...|               8|            null|\n",
      "|{{8 - Homologous ...|          null|   CHEMBL765773|                null|           null|         B|  Homologous single...|               8|            null|\n",
      "|{{8 - Homologous ...|  confirmatory|  CHEMBL3562016|                null|           null|         F|  Homologous single...|               8|            null|\n",
      "|{{1 - Target assi...|          null|   CHEMBL844412|Human immunodefic...|           null|         F|  Target assigned i...|               1|            null|\n",
      "|{{0 - Default val...|          null|   CHEMBL881746|                null|           null|         F|  Default value - T...|               0|            null|\n",
      "+--------------------+--------------+---------------+--------------------+---------------+----------+----------------------+----------------+----------------+\n",
      "only showing top 20 rows\n",
      "\n"
     ]
    },
    {
     "name": "stderr",
     "output_type": "stream",
     "text": [
      "                                                                                \r"
     ]
    }
   ],
   "source": [
    "assay_path = \"gs://open-targets-pre-data-releases/chembl-columns/chembl-inputs/chembl_33_assay.jsonl\"\n",
    "assay = spark.read.json(assay_path)\n",
    "assay.persist()\n",
    "assay.show()"
   ]
  },
  {
   "cell_type": "code",
   "execution_count": 20,
   "metadata": {},
   "outputs": [],
   "source": [
    "# List of columns from assay table\n",
    "list_assay = [\"confidence_score\",\n",
    "            \"confidence_description\",\n",
    "            \"assay_category\"]"
   ]
  },
  {
   "cell_type": "code",
   "execution_count": 21,
   "metadata": {},
   "outputs": [
    {
     "name": "stderr",
     "output_type": "stream",
     "text": [
      "[Stage 42:=====================================================>  (20 + 1) / 21]\r"
     ]
    },
    {
     "name": "stdout",
     "output_type": "stream",
     "text": [
      "+------------+--------------+-------------------------+----------+--------------------+--------------------+---------------+----------+-----------+-------------+-------------+--------------+--------------+-----------------+--------------------+--------------------+----------------+----------------+----------------------+--------------+\n",
      "|      drugId|      drugType|maximumClinicalTrialPhase|isApproved|       linkedTargets|      linkedDiseases|assay_chembl_id|assay_type|action_type|pchembl_value|standard_type|standard_units|standard_value|standard_relation|     target_organism|    target_pref_name|target_chembl_id|confidence_score|confidence_description|assay_category|\n",
      "+------------+--------------+-------------------------+----------+--------------------+--------------------+---------------+----------+-----------+-------------+-------------+--------------+--------------+-----------------+--------------------+--------------------+----------------+----------------+----------------------+--------------+\n",
      "|CHEMBL412262|Small molecule|                      2.0|     false|{1, [ENSG00000118...|{2, [MONDO_000514...|  CHEMBL1002988|         B|       null|         8.50|           Ki|            nM|         3.162|                =|        Homo sapiens|Cannabinoid CB1 r...|       CHEMBL218|               9|  Direct single pro...|          null|\n",
      "|   CHEMBL151|Small molecule|                      2.0|     false|                null|                null|  CHEMBL1007725|         F|       null|         null|         IC50|            nM|      156000.0|                =|   Rattus norvegicus|               Aorta|    CHEMBL613606|               1|  Target assigned i...|          null|\n",
      "| CHEMBL17962|Small molecule|                      2.0|     false|                null|{3, [EFO_0000555,...|  CHEMBL1008325|         B|       null|         null|         Kcat|        10'6/s|           4.3|                =|        Homo sapiens|Carbonic anhydras...|      CHEMBL3729|               9|  Direct single pro...|          null|\n",
      "|CHEMBL109480|Small molecule|                      3.0|     false|{2, [ENSG00000080...|{38, [MONDO_00011...|  CHEMBL1014221|         F|       null|         null|     Activity|          null|          null|             null|        Homo sapiens|            COLO 205|    CHEMBL614561|               1|  Target assigned i...|          null|\n",
      "|CHEMBL157101|Small molecule|                      4.0|      true|             {0, []}|{39, [EFO_0009516...|  CHEMBL1015162|         F|       null|         null|   Inhibition|             %|         100.0|                =|Cryptococcus neof...|Filobasidiella ne...|       CHEMBL365|               1|  Target assigned i...|          null|\n",
      "|    CHEMBL76|Small molecule|                      4.0|      true|                null|{29, [EFO_0001068...|  CHEMBL1016503|         T|       null|         null|   Ratio ED50|          null|         158.0|                =|                null|           Unchecked|    CHEMBL612545|               0|  Default value - T...|          null|\n",
      "|CHEMBL509544|Small molecule|                     null|      null|                null|                null|  CHEMBL1020203|         B|       null|         6.89|         EC50|            nM|         130.0|                =|        Mus musculus| DNA topoisomerase I|      CHEMBL2814|               9|  Direct single pro...|          null|\n",
      "|    CHEMBL33|Small molecule|                      4.0|      true|             {0, []}|{45, [EFO_0003830...|  CHEMBL1029503|         F|       null|         null|          MIC|       ug.mL-1|           4.0|                =|Streptococcus pne...|Streptococcus pne...|       CHEMBL347|               1|  Target assigned i...|          null|\n",
      "|  CHEMBL1136|Small molecule|                      4.0|      true|             {0, []}|{10, [EFO_0000771...|  CHEMBL1031117|         F|       null|         null|        MIC90|       ug.mL-1|          0.25|                =|Streptococcus pne...|Streptococcus pne...|       CHEMBL347|               1|  Target assigned i...|          null|\n",
      "|    CHEMBL32|Small molecule|                      4.0|      true|             {0, []}|{84, [EFO_0000764...|  CHEMBL1031117|         F|       null|         null|        MIC90|       ug.mL-1|           2.0|                =|Streptococcus pne...|Streptococcus pne...|       CHEMBL347|               1|  Target assigned i...|          null|\n",
      "|    CHEMBL33|Small molecule|                      4.0|      true|             {0, []}|{45, [EFO_0003830...|  CHEMBL1031117|         F|       null|         null|        MIC90|       ug.mL-1|           8.0|                =|Streptococcus pne...|Streptococcus pne...|       CHEMBL347|               1|  Target assigned i...|          null|\n",
      "|  CHEMBL1433|Small molecule|                      4.0|      true|{4, [ENSG00000137...|{88, [EFO_0008510...|  CHEMBL1031994|         F|       null|         null|     Activity|          null|          null|             null|  Plasmodium berghei|  Plasmodium berghei|    CHEMBL612653|               1|  Target assigned i...|          null|\n",
      "| CHEMBL27759|Small molecule|                      3.0|     false|{11, [ENSG0000011...|{28, [EFO_0000349...|  CHEMBL1032121|         B|       null|         5.06|         IC50|            nM|        8800.0|                =|                null|           Unchecked|    CHEMBL612545|               0|  Default value - T...|          null|\n",
      "|    CHEMBL99|Small molecule|                      1.0|     false|                null|{1, [MONDO_0004992]}|  CHEMBL1032121|         B|       null|         9.00|         IC50|            nM|           1.0|                =|                null|           Unchecked|    CHEMBL612545|               0|  Default value - T...|          null|\n",
      "|CHEMBL227875|Small molecule|                      4.0|      true|                null|{4, [EFO_0007381,...|  CHEMBL1032171|         F|       null|         null|          MIC|       ug.mL-1|          0.25|                =|Mycobacterium tub...|Mycobacterium tub...|       CHEMBL360|               1|  Target assigned i...|          null|\n",
      "|  CHEMBL1753|Small molecule|                      4.0|      true|             {0, []}|{26, [EFO_0000771...|  CHEMBL1032860|         F|       null|         null|          MIC|       ug.mL-1|          40.0|                =|Chlamydophila psi...|Chlamydophila psi...|    CHEMBL614758|               1|  Target assigned i...|          null|\n",
      "|   CHEMBL130|Small molecule|                      4.0|      true|             {0, []}|{4, [EFO_0003894,...|  CHEMBL1032860|         F|       null|         null|          MIC|       ug.mL-1|           0.4|                =|Chlamydophila psi...|Chlamydophila psi...|    CHEMBL614758|               1|  Target assigned i...|          null|\n",
      "|     CHEMBL6|Small molecule|                      4.0|      true|{2, [ENSG00000073...|{35, [MONDO_00039...|  CHEMBL1038636|         T|       null|         null|     Activity|             %|          50.0|                =|   Rattus norvegicus|   Rattus norvegicus|       CHEMBL376|               1|  Target assigned i...|          null|\n",
      "|    CHEMBL25|Small molecule|                      4.0|      true|{2, [ENSG00000073...|{158, [EFO_000049...|  CHEMBL1044339|         F|       null|         null|     Activity|          nmol|         118.2|                =|        Mus musculus|        Mus musculus|       CHEMBL375|               1|  Target assigned i...|          null|\n",
      "|  CHEMBL9509|Small molecule|                      3.0|     false|                null|{4, [EFO_0003768,...|  CHEMBL1046866|         F|       null|         null|   Inhibition|             %|          37.0|                =|        Mus musculus|          Hepatocyte|   CHEMBL3140324|               1|  Target assigned i...|          null|\n",
      "+------------+--------------+-------------------------+----------+--------------------+--------------------+---------------+----------+-----------+-------------+-------------+--------------+--------------+-----------------+--------------------+--------------------+----------------+----------------+----------------------+--------------+\n",
      "only showing top 20 rows\n",
      "\n"
     ]
    },
    {
     "name": "stderr",
     "output_type": "stream",
     "text": [
      "                                                                                \r"
     ]
    }
   ],
   "source": [
    "drug_to_assay = join_dataframes(drug_to_activity, assay, \"assay_chembl_id\", \"assay_chembl_id\", list_assay).persist()\n",
    "drug_to_assay.show()"
   ]
  },
  {
   "cell_type": "code",
   "execution_count": 22,
   "metadata": {},
   "outputs": [
    {
     "name": "stderr",
     "output_type": "stream",
     "text": [
      "                                                                                \r"
     ]
    },
    {
     "data": {
      "text/plain": [
       "168729"
      ]
     },
     "execution_count": 22,
     "metadata": {},
     "output_type": "execute_result"
    }
   ],
   "source": [
    "drug_to_assay.count()"
   ]
  },
  {
   "cell_type": "markdown",
   "metadata": {},
   "source": [
    "## Assay filters"
   ]
  },
  {
   "cell_type": "code",
   "execution_count": 26,
   "metadata": {},
   "outputs": [
    {
     "name": "stderr",
     "output_type": "stream",
     "text": [
      "                                                                                \r"
     ]
    },
    {
     "name": "stdout",
     "output_type": "stream",
     "text": [
      "Unique drugs with bioactivities for non P and U assays: 6174\n",
      "Unique targets with bioactivities for non P and U assays: 4848\n",
      "Unique drugs with bioactivities for single/homolog proteins: 3663\n",
      "Unique targets with bioactivities for single/homolog proteins: 2136\n",
      "Unique drugs with bioactivities for human targets: 3373\n",
      "Unique targets with bioactivities for human targets: 1369\n"
     ]
    }
   ],
   "source": [
    "assay_type_filter = drug_to_assay.filter(\n",
    "    (col(\"assay_type\") != \"P\") &\n",
    "    (col(\"assay_type\") != \"U\"))\n",
    "assay_type_d = count_unique_values(assay_type_filter, \"drugId\")\n",
    "assay_type_t = count_unique_values(assay_type_filter, \"target_chembl_id\")\n",
    "\n",
    "confidence_score_filter = assay_type_filter.filter(col(\"confidence_score\").isin([9, 7]))\n",
    "confidence_score_d = count_unique_values(confidence_score_filter, \"drugId\")\n",
    "confidence_score_t = count_unique_values(confidence_score_filter, \"target_chembl_id\")\n",
    "\n",
    "target_organism_filter = confidence_score_filter.filter(col(\"target_organism\") == \"Homo sapiens\")\n",
    "target_organism_d = count_unique_values(target_organism_filter, \"drugId\")\n",
    "target_organism_t = count_unique_values(target_organism_filter, \"target_chembl_id\")\n",
    "\n",
    "print(\"Unique drugs with bioactivities for non P and U assays:\", assay_type_d)\n",
    "print(\"Unique targets with bioactivities for non P and U assays:\", assay_type_t)\n",
    "\n",
    "print(\"Unique drugs with bioactivities for single/homolog proteins:\", confidence_score_d)\n",
    "print(\"Unique targets with bioactivities for single/homolog proteins:\", confidence_score_t)\n",
    "\n",
    "print(\"Unique drugs with bioactivities for human targets:\", target_organism_d)\n",
    "print(\"Unique targets with bioactivities for human targets:\", target_organism_t)\n"
   ]
  },
  {
   "cell_type": "code",
   "execution_count": 42,
   "metadata": {},
   "outputs": [
    {
     "data": {
      "text/plain": [
       "18860"
      ]
     },
     "execution_count": 42,
     "metadata": {},
     "output_type": "execute_result"
    }
   ],
   "source": [
    "target_organism_filter.count()"
   ]
  },
  {
   "cell_type": "markdown",
   "metadata": {},
   "source": [
    "### Protein classification"
   ]
  },
  {
   "cell_type": "markdown",
   "metadata": {},
   "source": [
    "####  map target_chembl_id to uniprots via accession"
   ]
  },
  {
   "cell_type": "code",
   "execution_count": 44,
   "metadata": {},
   "outputs": [
    {
     "name": "stderr",
     "output_type": "stream",
     "text": [
      "[Stage 228:================================================>      (14 + 2) / 16]\r"
     ]
    },
    {
     "name": "stdout",
     "output_type": "stream",
     "text": [
      "+--------------------+--------------------+----------------+--------------------+---------------+\n",
      "|           _metadata|           pref_name|target_chembl_id|   target_components|    target_type|\n",
      "+--------------------+--------------------+----------------+--------------------+---------------+\n",
      "|{[{Sodium channel...|Sodium channel pr...|   CHEMBL4630763|[{Q14524, Sodium ...|PROTEIN COMPLEX|\n",
      "|{[{A121, 100}, {H...|                A121|    CHEMBL613106|                  []|      CELL-LINE|\n",
      "|{[{Spermatozoa, 1...|         Spermatozoa|    CHEMBL614870|                  []|      CELL-LINE|\n",
      "|{[{Thioredoxin re...|Thioredoxin reduc...|      CHEMBL2403|[{Q9NNW7, Thiored...| SINGLE PROTEIN|\n",
      "|{[{Fusarium oxysp...|  Fusarium oxysporum|    CHEMBL612648|                  []|       ORGANISM|\n",
      "|{[{A375-SM, 100},...|             A375-SM|   CHEMBL4513121|                  []|      CELL-LINE|\n",
      "|{[{Receptor-inter...|Receptor-interact...|   CHEMBL3784911|[{Q60855, Recepto...| SINGLE PROTEIN|\n",
      "|{[{HCC44, 100}, {...|               HCC44|   CHEMBL4296385|                  []|      CELL-LINE|\n",
      "|{[{MAR BEL fibrob...|MAR BEL fibroblas...|    CHEMBL614653|                  []|      CELL-LINE|\n",
      "|{[{DNA topoisomer...|DNA topoisomerase...|      CHEMBL3586|[{Q01320, DNA top...| SINGLE PROTEIN|\n",
      "|{[{Lymphocytic ce...|Lymphocytic cell ...|    CHEMBL614652|                  []|      CELL-LINE|\n",
      "|{[{LS180, 100}, {...|               LS180|   CHEMBL4296462|                  []|      CELL-LINE|\n",
      "|{[{Neuronal acety...|Neuronal acetylch...|   CHEMBL3885610|[{Q9ERK7, Neurona...|PROTEIN COMPLEX|\n",
      "|{[{Transcriptiona...|Transcriptional r...|   CHEMBL4523233|[{P49711, Transcr...| SINGLE PROTEIN|\n",
      "|{[{MDCK-MDR1, 100...|           MDCK-MDR1|   CHEMBL4296467|                  []|      CELL-LINE|\n",
      "|{[{Sialic acid-bi...|Sialic acid-bindi...|   CHEMBL3603730|[{Q9Y286, Sialic ...| SINGLE PROTEIN|\n",
      "|{[{MEB5, 100}, {M...|                MEB5|   CHEMBL4296469|                  []|      CELL-LINE|\n",
      "|{[{SU-DHL10, 100}...|            SU-DHL10|   CHEMBL4483268|                  []|      CELL-LINE|\n",
      "|{[{KCL-22, 100}, ...|              KCL-22|   CHEMBL4296452|                  []|      CELL-LINE|\n",
      "|{[{Encephalomyoca...|Encephalomyocardi...|    CHEMBL613558|                  []|       ORGANISM|\n",
      "+--------------------+--------------------+----------------+--------------------+---------------+\n",
      "only showing top 20 rows\n",
      "\n"
     ]
    },
    {
     "name": "stderr",
     "output_type": "stream",
     "text": [
      "23/12/11 14:02:39 WARN CacheManager: Asked to cache already cached data.        \n"
     ]
    }
   ],
   "source": [
    "target_path = \"gs://open-targets-pre-data-releases/chembl-columns/chembl-inputs/chembl_33_target.jsonl\"\n",
    "target = spark.read.json(target_path)\n",
    "target.persist()\n",
    "target.show()"
   ]
  },
  {
   "cell_type": "code",
   "execution_count": 45,
   "metadata": {},
   "outputs": [],
   "source": [
    "# List of columns from target table\n",
    "list_target = [\"target_components\",\n",
    "            \"target_type\"]"
   ]
  },
  {
   "cell_type": "code",
   "execution_count": 46,
   "metadata": {},
   "outputs": [
    {
     "name": "stdout",
     "output_type": "stream",
     "text": [
      "+-------------+--------------+-------------------------+----------+--------------------+--------------------+---------------+----------+-----------+-------------+------------------+--------------+--------------+-----------------+---------------+--------------------+----------------+----------------+----------------------+--------------+--------------------+--------------+\n",
      "|       drugId|      drugType|maximumClinicalTrialPhase|isApproved|       linkedTargets|      linkedDiseases|assay_chembl_id|assay_type|action_type|pchembl_value|     standard_type|standard_units|standard_value|standard_relation|target_organism|    target_pref_name|target_chembl_id|confidence_score|confidence_description|assay_category|   target_components|   target_type|\n",
      "+-------------+--------------+-------------------------+----------+--------------------+--------------------+---------------+----------+-----------+-------------+------------------+--------------+--------------+-----------------+---------------+--------------------+----------------+----------------+----------------------+--------------+--------------------+--------------+\n",
      "| CHEMBL412262|Small molecule|                      2.0|     false|{1, [ENSG00000118...|{2, [MONDO_000514...|  CHEMBL1002988|         B|       null|         8.50|                Ki|            nM|         3.162|                =|   Homo sapiens|Cannabinoid CB1 r...|       CHEMBL218|               9|  Direct single pro...|          null|[{P21554, Cannabi...|SINGLE PROTEIN|\n",
      "|  CHEMBL17962|Small molecule|                      2.0|     false|                null|{3, [EFO_0000555,...|  CHEMBL1008325|         B|       null|         null|              Kcat|        10'6/s|           4.3|                =|   Homo sapiens|Carbonic anhydras...|      CHEMBL3729|               9|  Direct single pro...|          null|[{P22748, Carboni...|SINGLE PROTEIN|\n",
      "|  CHEMBL14762|Small molecule|                      2.0|     false|{5, [ENSG00000136...|{5, [MONDO_000906...|  CHEMBL1051254|         B|       null|         null|                Kd|            nM|       10000.0|                >|   Homo sapiens|Protein kinase C ...|      CHEMBL3582|               9|  Direct single pro...|          null|[{Q02156, Protein...|SINGLE PROTEIN|\n",
      "| CHEMBL124660|Small molecule|                      2.0|     false|{3, [ENSG00000122...|{8, [EFO_1001465,...|  CHEMBL1063703|         B|       null|         null|                Kd|            nM|       10000.0|                >|   Homo sapiens|Casein kinase I i...|      CHEMBL5520|               9|  Direct single pro...|          null|[{Q8N752, Casein ...|SINGLE PROTEIN|\n",
      "| CHEMBL483321|Small molecule|                      2.0|     false|{1, [ENSG00000141...|{3, [EFO_0003869,...|  CHEMBL1063703|         B|       null|         null|                Kd|            nM|       10000.0|                >|   Homo sapiens|Casein kinase I i...|      CHEMBL5520|               9|  Direct single pro...|          null|[{Q8N752, Casein ...|SINGLE PROTEIN|\n",
      "|   CHEMBL1421|Small molecule|                      4.0|      true|{15, [ENSG0000011...|{78, [EFO_0000768...|  CHEMBL1063703|         B|       null|         null|                Kd|            nM|       10000.0|                >|   Homo sapiens|Casein kinase I i...|      CHEMBL5520|               9|  Direct single pro...|          null|[{Q8N752, Casein ...|SINGLE PROTEIN|\n",
      "|CHEMBL1448187|Small molecule|                      4.0|      true|{1, [ENSG00000149...|  {1, [EFO_0001378]}|  CHEMBL1614310|         F|       null|         4.60|           Potency|            nM|       25118.9|                =|   Homo sapiens|        Prelamin-A/C|   CHEMBL1293235|               9|  Direct single pro...|  confirmatory|[{P02545, Prelami...|SINGLE PROTEIN|\n",
      "|    CHEMBL515|Small molecule|                      4.0|      true|                null|{12, [EFO_0004236...|  CHEMBL1614310|         F|       null|         4.80|           Potency|            nM|       15848.9|                =|   Homo sapiens|        Prelamin-A/C|   CHEMBL1293235|               9|  Direct single pro...|  confirmatory|[{P02545, Prelami...|SINGLE PROTEIN|\n",
      "|  CHEMBL46516|Small molecule|                      4.0|      true|{1, [ENSG00000149...|{4, [EFO_0005230,...|  CHEMBL1614310|         F|       null|         4.90|           Potency|            nM|       12589.3|                =|   Homo sapiens|        Prelamin-A/C|   CHEMBL1293235|               9|  Direct single pro...|  confirmatory|[{P02545, Prelami...|SINGLE PROTEIN|\n",
      "|   CHEMBL1480|Small molecule|                      4.0|      true|{5, [ENSG00000151...|{7, [EFO_0003914,...|  CHEMBL1614310|         F|       null|         4.45|           Potency|            nM|       35481.3|                =|   Homo sapiens|        Prelamin-A/C|   CHEMBL1293235|               9|  Direct single pro...|  confirmatory|[{P02545, Prelami...|SINGLE PROTEIN|\n",
      "| CHEMBL207538|Small molecule|                      4.0|      true|{16, [ENSG0000002...|{9, [MONDO_000497...|  CHEMBL1614310|         F|       null|         4.90|           Potency|            nM|       12589.3|                =|   Homo sapiens|        Prelamin-A/C|   CHEMBL1293235|               9|  Direct single pro...|  confirmatory|[{P02545, Prelami...|SINGLE PROTEIN|\n",
      "| CHEMBL413376|Small molecule|                      3.0|     false|{1, [ENSG00000113...|{15, [MONDO_00083...|  CHEMBL1614310|         F|       null|         5.40|           Potency|            nM|        3981.1|                =|   Homo sapiens|        Prelamin-A/C|   CHEMBL1293235|               9|  Direct single pro...|  confirmatory|[{P02545, Prelami...|SINGLE PROTEIN|\n",
      "|   CHEMBL1240|Small molecule|                      4.0|      true|{3, [ENSG00000168...|{2, [MONDO_000424...|  CHEMBL1614310|         F|       null|         4.90|           Potency|            nM|       12589.3|                =|   Homo sapiens|        Prelamin-A/C|   CHEMBL1293235|               9|  Direct single pro...|  confirmatory|[{P02545, Prelami...|SINGLE PROTEIN|\n",
      "|  CHEMBL14762|Small molecule|                      2.0|     false|{5, [ENSG00000136...|{5, [MONDO_000906...|  CHEMBL1767714|         B|       null|         null|        Inhibition|             %|           1.0|                =|   Homo sapiens|Casein kinase I a...|      CHEMBL2793|               9|  Direct single pro...|          null|[{P48729, Casein ...|SINGLE PROTEIN|\n",
      "|    CHEMBL939|Small molecule|                      4.0|      true|{1, [ENSG00000146...|{48, [EFO_0000514...|  CHEMBL2033685|         B|       null|         null|        Inhibition|             %|          null|             null|   Homo sapiens|Epidermal growth ...|       CHEMBL203|               9|  Direct single pro...|          null|[{P00533, Epiderm...|SINGLE PROTEIN|\n",
      "|CHEMBL1550905|Small molecule|                     null|      null|                null|                null|  CHEMBL2209093|         B|       null|         null|        Inhibition|             %|          null|             null|   Homo sapiens|Abhydrolase domai...|   CHEMBL2189132|               9|  Direct single pro...|          null|[{Q5VST6, Alpha/b...|SINGLE PROTEIN|\n",
      "| CHEMBL373742|       Protein|                      4.0|      true|{3, [ENSG00000126...|{18, [MONDO_00030...|  CHEMBL2339662|         B|       null|         6.62|              IC50|            nM|         242.0|                =|   Homo sapiens|Vasopressin V2 re...|      CHEMBL1790|               9|  Direct single pro...|          null|[{P30518, Vasopre...|SINGLE PROTEIN|\n",
      "| CHEMBL153043|Small molecule|                     null|      null|                null|                null|  CHEMBL2344990|         B|       null|         null|Intrinsic activity|          null|         260.0|                =|   Homo sapiens|Lysophosphatidic ...|      CHEMBL3250|               9|  Direct single pro...|          null|[{Q9UBY5, Lysopho...|SINGLE PROTEIN|\n",
      "|  CHEMBL15245|Small molecule|                      4.0|      true|                null|{13, [EFO_0001358...|  CHEMBL2395285|         B|       null|         8.51|                Ki|            nM|           3.1|                =|   Homo sapiens|Alpha-2a adrenerg...|      CHEMBL1867|               9|  Direct single pro...|          null|[{P08913, Alpha-2...|SINGLE PROTEIN|\n",
      "|    CHEMBL151|Small molecule|                      2.0|     false|                null|                null|  CHEMBL2411715|         B|       null|         null|        Inhibition|             %|          null|             null|   Homo sapiens|Cytochrome b-245 ...|   CHEMBL1287627|               9|  Direct single pro...|          null|[{P04839, Cytochr...|SINGLE PROTEIN|\n",
      "+-------------+--------------+-------------------------+----------+--------------------+--------------------+---------------+----------+-----------+-------------+------------------+--------------+--------------+-----------------+---------------+--------------------+----------------+----------------+----------------------+--------------+--------------------+--------------+\n",
      "only showing top 20 rows\n",
      "\n"
     ]
    },
    {
     "name": "stderr",
     "output_type": "stream",
     "text": [
      "23/12/11 14:02:50 WARN CacheManager: Asked to cache already cached data.\n"
     ]
    }
   ],
   "source": [
    "target_to_uniprot = join_dataframes(target_organism_filter, target, \"target_chembl_id\", \"target_chembl_id\", list_target).persist()\n",
    "target_to_uniprot.show()"
   ]
  },
  {
   "cell_type": "code",
   "execution_count": 47,
   "metadata": {},
   "outputs": [],
   "source": [
    "# Explode target_components\n",
    "from pyspark.sql.functions import udf\n",
    "from pyspark.sql.types import StringType\n",
    "from pyspark.sql import Row\n",
    "\n",
    "# Define a UDF to extract the 'accession' field\n",
    "def extract_accession(rows):\n",
    "    # Assuming you want to extract the 'accession' from the first Row object in the list\n",
    "    return rows[0].accession if rows else None\n",
    "\n",
    "# Register UDF\n",
    "extract_accession_udf = udf(extract_accession, StringType())"
   ]
  },
  {
   "cell_type": "code",
   "execution_count": 48,
   "metadata": {},
   "outputs": [
    {
     "name": "stdout",
     "output_type": "stream",
     "text": [
      "+-------------+--------------+-------------------------+----------+--------------------+--------------------+---------------+----------+-----------+-------------+------------------+--------------+--------------+-----------------+---------------+--------------------+----------------+----------------+----------------------+--------------+--------------------+--------------+---------+\n",
      "|       drugId|      drugType|maximumClinicalTrialPhase|isApproved|       linkedTargets|      linkedDiseases|assay_chembl_id|assay_type|action_type|pchembl_value|     standard_type|standard_units|standard_value|standard_relation|target_organism|    target_pref_name|target_chembl_id|confidence_score|confidence_description|assay_category|   target_components|   target_type|accession|\n",
      "+-------------+--------------+-------------------------+----------+--------------------+--------------------+---------------+----------+-----------+-------------+------------------+--------------+--------------+-----------------+---------------+--------------------+----------------+----------------+----------------------+--------------+--------------------+--------------+---------+\n",
      "| CHEMBL412262|Small molecule|                      2.0|     false|{1, [ENSG00000118...|{2, [MONDO_000514...|  CHEMBL1002988|         B|       null|         8.50|                Ki|            nM|         3.162|                =|   Homo sapiens|Cannabinoid CB1 r...|       CHEMBL218|               9|  Direct single pro...|          null|[{P21554, Cannabi...|SINGLE PROTEIN|   P21554|\n",
      "|  CHEMBL17962|Small molecule|                      2.0|     false|                null|{3, [EFO_0000555,...|  CHEMBL1008325|         B|       null|         null|              Kcat|        10'6/s|           4.3|                =|   Homo sapiens|Carbonic anhydras...|      CHEMBL3729|               9|  Direct single pro...|          null|[{P22748, Carboni...|SINGLE PROTEIN|   P22748|\n",
      "|  CHEMBL14762|Small molecule|                      2.0|     false|{5, [ENSG00000136...|{5, [MONDO_000906...|  CHEMBL1051254|         B|       null|         null|                Kd|            nM|       10000.0|                >|   Homo sapiens|Protein kinase C ...|      CHEMBL3582|               9|  Direct single pro...|          null|[{Q02156, Protein...|SINGLE PROTEIN|   Q02156|\n",
      "| CHEMBL124660|Small molecule|                      2.0|     false|{3, [ENSG00000122...|{8, [EFO_1001465,...|  CHEMBL1063703|         B|       null|         null|                Kd|            nM|       10000.0|                >|   Homo sapiens|Casein kinase I i...|      CHEMBL5520|               9|  Direct single pro...|          null|[{Q8N752, Casein ...|SINGLE PROTEIN|   Q8N752|\n",
      "| CHEMBL483321|Small molecule|                      2.0|     false|{1, [ENSG00000141...|{3, [EFO_0003869,...|  CHEMBL1063703|         B|       null|         null|                Kd|            nM|       10000.0|                >|   Homo sapiens|Casein kinase I i...|      CHEMBL5520|               9|  Direct single pro...|          null|[{Q8N752, Casein ...|SINGLE PROTEIN|   Q8N752|\n",
      "|   CHEMBL1421|Small molecule|                      4.0|      true|{15, [ENSG0000011...|{78, [EFO_0000768...|  CHEMBL1063703|         B|       null|         null|                Kd|            nM|       10000.0|                >|   Homo sapiens|Casein kinase I i...|      CHEMBL5520|               9|  Direct single pro...|          null|[{Q8N752, Casein ...|SINGLE PROTEIN|   Q8N752|\n",
      "|CHEMBL1448187|Small molecule|                      4.0|      true|{1, [ENSG00000149...|  {1, [EFO_0001378]}|  CHEMBL1614310|         F|       null|         4.60|           Potency|            nM|       25118.9|                =|   Homo sapiens|        Prelamin-A/C|   CHEMBL1293235|               9|  Direct single pro...|  confirmatory|[{P02545, Prelami...|SINGLE PROTEIN|   P02545|\n",
      "|    CHEMBL515|Small molecule|                      4.0|      true|                null|{12, [EFO_0004236...|  CHEMBL1614310|         F|       null|         4.80|           Potency|            nM|       15848.9|                =|   Homo sapiens|        Prelamin-A/C|   CHEMBL1293235|               9|  Direct single pro...|  confirmatory|[{P02545, Prelami...|SINGLE PROTEIN|   P02545|\n",
      "|  CHEMBL46516|Small molecule|                      4.0|      true|{1, [ENSG00000149...|{4, [EFO_0005230,...|  CHEMBL1614310|         F|       null|         4.90|           Potency|            nM|       12589.3|                =|   Homo sapiens|        Prelamin-A/C|   CHEMBL1293235|               9|  Direct single pro...|  confirmatory|[{P02545, Prelami...|SINGLE PROTEIN|   P02545|\n",
      "|   CHEMBL1480|Small molecule|                      4.0|      true|{5, [ENSG00000151...|{7, [EFO_0003914,...|  CHEMBL1614310|         F|       null|         4.45|           Potency|            nM|       35481.3|                =|   Homo sapiens|        Prelamin-A/C|   CHEMBL1293235|               9|  Direct single pro...|  confirmatory|[{P02545, Prelami...|SINGLE PROTEIN|   P02545|\n",
      "| CHEMBL207538|Small molecule|                      4.0|      true|{16, [ENSG0000002...|{9, [MONDO_000497...|  CHEMBL1614310|         F|       null|         4.90|           Potency|            nM|       12589.3|                =|   Homo sapiens|        Prelamin-A/C|   CHEMBL1293235|               9|  Direct single pro...|  confirmatory|[{P02545, Prelami...|SINGLE PROTEIN|   P02545|\n",
      "| CHEMBL413376|Small molecule|                      3.0|     false|{1, [ENSG00000113...|{15, [MONDO_00083...|  CHEMBL1614310|         F|       null|         5.40|           Potency|            nM|        3981.1|                =|   Homo sapiens|        Prelamin-A/C|   CHEMBL1293235|               9|  Direct single pro...|  confirmatory|[{P02545, Prelami...|SINGLE PROTEIN|   P02545|\n",
      "|   CHEMBL1240|Small molecule|                      4.0|      true|{3, [ENSG00000168...|{2, [MONDO_000424...|  CHEMBL1614310|         F|       null|         4.90|           Potency|            nM|       12589.3|                =|   Homo sapiens|        Prelamin-A/C|   CHEMBL1293235|               9|  Direct single pro...|  confirmatory|[{P02545, Prelami...|SINGLE PROTEIN|   P02545|\n",
      "|  CHEMBL14762|Small molecule|                      2.0|     false|{5, [ENSG00000136...|{5, [MONDO_000906...|  CHEMBL1767714|         B|       null|         null|        Inhibition|             %|           1.0|                =|   Homo sapiens|Casein kinase I a...|      CHEMBL2793|               9|  Direct single pro...|          null|[{P48729, Casein ...|SINGLE PROTEIN|   P48729|\n",
      "|    CHEMBL939|Small molecule|                      4.0|      true|{1, [ENSG00000146...|{48, [EFO_0000514...|  CHEMBL2033685|         B|       null|         null|        Inhibition|             %|          null|             null|   Homo sapiens|Epidermal growth ...|       CHEMBL203|               9|  Direct single pro...|          null|[{P00533, Epiderm...|SINGLE PROTEIN|   P00533|\n",
      "|CHEMBL1550905|Small molecule|                     null|      null|                null|                null|  CHEMBL2209093|         B|       null|         null|        Inhibition|             %|          null|             null|   Homo sapiens|Abhydrolase domai...|   CHEMBL2189132|               9|  Direct single pro...|          null|[{Q5VST6, Alpha/b...|SINGLE PROTEIN|   Q5VST6|\n",
      "| CHEMBL373742|       Protein|                      4.0|      true|{3, [ENSG00000126...|{18, [MONDO_00030...|  CHEMBL2339662|         B|       null|         6.62|              IC50|            nM|         242.0|                =|   Homo sapiens|Vasopressin V2 re...|      CHEMBL1790|               9|  Direct single pro...|          null|[{P30518, Vasopre...|SINGLE PROTEIN|   P30518|\n",
      "| CHEMBL153043|Small molecule|                     null|      null|                null|                null|  CHEMBL2344990|         B|       null|         null|Intrinsic activity|          null|         260.0|                =|   Homo sapiens|Lysophosphatidic ...|      CHEMBL3250|               9|  Direct single pro...|          null|[{Q9UBY5, Lysopho...|SINGLE PROTEIN|   Q9UBY5|\n",
      "|  CHEMBL15245|Small molecule|                      4.0|      true|                null|{13, [EFO_0001358...|  CHEMBL2395285|         B|       null|         8.51|                Ki|            nM|           3.1|                =|   Homo sapiens|Alpha-2a adrenerg...|      CHEMBL1867|               9|  Direct single pro...|          null|[{P08913, Alpha-2...|SINGLE PROTEIN|   P08913|\n",
      "|    CHEMBL151|Small molecule|                      2.0|     false|                null|                null|  CHEMBL2411715|         B|       null|         null|        Inhibition|             %|          null|             null|   Homo sapiens|Cytochrome b-245 ...|   CHEMBL1287627|               9|  Direct single pro...|          null|[{P04839, Cytochr...|SINGLE PROTEIN|   P04839|\n",
      "+-------------+--------------+-------------------------+----------+--------------------+--------------------+---------------+----------+-----------+-------------+------------------+--------------+--------------+-----------------+---------------+--------------------+----------------+----------------+----------------------+--------------+--------------------+--------------+---------+\n",
      "only showing top 20 rows\n",
      "\n"
     ]
    }
   ],
   "source": [
    "# Apply UDF to create a new column with the 'accession' values\n",
    "target_to_uniprot_extr = target_to_uniprot.withColumn(\"accession\", extract_accession_udf(target_to_uniprot[\"target_components\"]))\n",
    "\n",
    "target_to_uniprot_extr.show()"
   ]
  },
  {
   "cell_type": "code",
   "execution_count": 49,
   "metadata": {},
   "outputs": [
    {
     "data": {
      "text/plain": [
       "18860"
      ]
     },
     "execution_count": 49,
     "metadata": {},
     "output_type": "execute_result"
    }
   ],
   "source": [
    "target_to_uniprot_extr.count()"
   ]
  },
  {
   "cell_type": "markdown",
   "metadata": {},
   "source": [
    "####  temporal decision - get accession id from Uniprot web"
   ]
  },
  {
   "cell_type": "code",
   "execution_count": 24,
   "metadata": {},
   "outputs": [],
   "source": [
    "# # Obtain the list of unique targets to map them to uniprots\n",
    "\n",
    "# from pyspark.sql import SparkSession\n",
    "# import pandas as pd\n",
    "\n",
    "# def save_column_as_csv(df, column_name, output_path):\n",
    "#     \"\"\"\n",
    "#     This function takes a Spark DataFrame, a column name, and an output path.\n",
    "#     It will remove duplicates based on the specified column, convert the unique values of that column to a Pandas DataFrame,\n",
    "#     and save it as a CSV file.\n",
    "\n",
    "#     :param df: Spark DataFrame\n",
    "#     :param column_name: The name of the column to process\n",
    "#     :param output_path: The path to save the CSV file\n",
    "#     \"\"\"\n",
    "#     # Ensure the column exists in the DataFrame\n",
    "#     if column_name not in df.columns:\n",
    "#         raise ValueError(f\"Column '{column_name}' does not exist in the DataFrame.\")\n",
    "\n",
    "#     # Select the specified column and drop duplicates\n",
    "#     unique_values_df = df.select(column_name).distinct()\n",
    "\n",
    "#     # Convert the Spark DataFrame to a Pandas DataFrame\n",
    "#     unique_values_pd_df = unique_values_df.toPandas()\n",
    "\n",
    "#     # Save the Pandas DataFrame as a CSV file\n",
    "#     unique_values_pd_df.to_csv(output_path, index=False)\n",
    "\n",
    "\n",
    "# save_column_as_csv(drug_to_assay, \"target_chembl_id\", \"files/target_chembl_id.csv\")"
   ]
  },
  {
   "cell_type": "markdown",
   "metadata": {},
   "source": [
    "####  temporal decision - get accession id from Barabara's table"
   ]
  },
  {
   "cell_type": "code",
   "execution_count": 25,
   "metadata": {},
   "outputs": [],
   "source": [
    "# # Get accession for target_chembl_id from Barbara's table\n",
    "\n",
    "# barbara_table_path = pd.read_csv(\"../data/drug2target_bioactivities_chembl_33_grouped.csv\")\n",
    "# columns = ['accession', 'target_chembl_id']\n",
    "# filtered_table = barbara_table_path[columns].astype(str).drop_duplicates()\n",
    "# barbara_table = spark.createDataFrame(filtered_table)\n",
    "# barbara_table.show()\n"
   ]
  },
  {
   "cell_type": "code",
   "execution_count": 26,
   "metadata": {},
   "outputs": [],
   "source": [
    "# # Join target_chembl_id and accession from Barbara's table\n",
    "\n",
    "# list_protein = [\"accession\"]\n",
    "              \n",
    "# target_to_uniprot = join_dataframes(drug_to_assay, barbara_table, \"target_chembl_id\", \"target_chembl_id\", list_protein).persist()\n",
    "\n",
    "# # from pyspark.sql.functions import col\n",
    "# # target_to_uniprot = target_to_uniprot.filter(col(\"accession\") != \"null\")\n",
    "\n",
    "# target_to_uniprot.show()"
   ]
  },
  {
   "cell_type": "code",
   "execution_count": 27,
   "metadata": {},
   "outputs": [],
   "source": [
    "# target_to_uniprot.count()"
   ]
  },
  {
   "cell_type": "markdown",
   "metadata": {},
   "source": [
    "### Protein classification by uniprot from SwissProt"
   ]
  },
  {
   "cell_type": "code",
   "execution_count": 50,
   "metadata": {},
   "outputs": [
    {
     "name": "stdout",
     "output_type": "stream",
     "text": [
      "+---------+------------+--------------+--------------------+-----------------------+-------------------------+\n",
      "|accession|component_id|component_type|         description|protein_classifications|target_component_synonyms|\n",
      "+---------+------------+--------------+--------------------+-----------------------+-------------------------+\n",
      "|   P17047|       19427|       PROTEIN|Lysosome-associat...|                [{601}]|     [{CD107 antigen-l...|\n",
      "|   Q05940|         207|       PROTEIN|Synaptic vesicula...|                [{706}]|     [{Monoamine trans...|\n",
      "|   J7IFZ2|       17409|       PROTEIN|Dihydrofolate red...|                 [{10}]|     [{1.5.1.3, EC_NUM...|\n",
      "|   Q9TU34|         848|       PROTEIN|Inositol 1,4,5-tr...|               [{1014}]|     [{Inositol 1,4,5-...|\n",
      "|   Q12852|        5557|       PROTEIN|Mitogen-activated...|               [{1331}]|     [{2.7.11.25, EC_N...|\n",
      "|   G3V673|       17415|       PROTEIN|A disintegrin-lik...|                  [{1}]|     [{ADAM metallopep...|\n",
      "|   A5K1N1|       17417|       PROTEIN|Dihydroorotate de...|                  [{1}]|     [{1.3.5.2, EC_NUM...|\n",
      "|   Q92206|         211|       PROTEIN|Squalene epoxidas...|                 [{10}]|     [{1.14.14.17, EC_...|\n",
      "|   Q9NRH2|        5559|       PROTEIN|SNF-related serin...|               [{1339}]|     [{2.7.11.1, EC_NU...|\n",
      "|   P07550|         213|       PROTEIN|Beta-2 adrenergic...|                [{544}]|     [{ADRB2, GENE_SYM...|\n",
      "|   P36956|       19433|       PROTEIN|Sterol regulatory...|                [{601}]|     [{bHLHd1, UNIPROT...|\n",
      "|   G3HIE5|       17424|       PROTEIN|Prokineticin rece...|                [{609}]|     [{Prokineticin re...|\n",
      "|   P41227|       19434|       PROTEIN|N-alpha-acetyltra...|                [{643}]|     [{2.3.1.255, EC_N...|\n",
      "|   P9WG57|        5562|       PROTEIN|Flavin-dependent ...|                  [{1}]|     [{2.1.1.148, EC_N...|\n",
      "|   G3H9J3|       17426|       PROTEIN|Cystic fibrosis t...|               [{1146}]|     [{5.6.1.6, EC_NUM...|\n",
      "|   Q99L45|       19908|       PROTEIN|Eukaryotic transl...|                [{601}]|     [{eIF-2-beta, UNI...|\n",
      "|   P08587|       17428|       PROTEIN|Protein-glutamine...|                [{496}]|     [{2.3.1.-, EC_NUM...|\n",
      "|   Q96X16|       17429|       PROTEIN|       Amine oxidase|                  [{1}]|     [{1.4.3.-, EC_NUM...|\n",
      "|   D3W065|        5565|       PROTEIN|CviR transcriptio...|                [{601}]|     [{cviR, GENE_SYMB...|\n",
      "|   Q9AH50|       17431|       PROTEIN|Biliverdin-produc...|                  [{1}]|     [{Biliverdin-prod...|\n",
      "+---------+------------+--------------+--------------------+-----------------------+-------------------------+\n",
      "only showing top 20 rows\n",
      "\n"
     ]
    }
   ],
   "source": [
    "# What does protein_classifications mean?\n",
    "\n",
    "target_component_path = \"gs://open-targets-pre-data-releases/chembl-columns/chembl-inputs/chembl_33_target_component.jsonl\"\n",
    "target_component = spark.read.json(target_component_path)\n",
    "target_component.persist()\n",
    "target_component.show()"
   ]
  },
  {
   "cell_type": "code",
   "execution_count": 51,
   "metadata": {},
   "outputs": [
    {
     "name": "stdout",
     "output_type": "stream",
     "text": [
      "+---------+------------+\n",
      "|accession|proteinClass|\n",
      "+---------+------------+\n",
      "|   P32929|      Enzyme|\n",
      "|   A4D0Y5|        None|\n",
      "|   Q49A92|        None|\n",
      "|   Q9UFW8|        None|\n",
      "|   Q96K31|        None|\n",
      "|   O14646|  Epigenetic|\n",
      "|   Q8IWX8|        None|\n",
      "|   Q99653|        None|\n",
      "|   O94983|          TF|\n",
      "|   Q8NA66|        None|\n",
      "|   Q96M20|        None|\n",
      "|   Q86VU5|      Enzyme|\n",
      "|   P42695|        None|\n",
      "|   Q8IYT2|      Enzyme|\n",
      "|   Q9NSA3|        None|\n",
      "|   Q96KP4|      Enzyme|\n",
      "|   Q13956|      Enzyme|\n",
      "|   O95476|      Enzyme|\n",
      "|   Q9BYD5|        None|\n",
      "|   Q969H4|      Enzyme|\n",
      "+---------+------------+\n",
      "only showing top 20 rows\n",
      "\n"
     ]
    }
   ],
   "source": [
    "proteinclass_path = pd.read_csv(\"../data/uniprot2family.csv\")\n",
    "proteinclass_str = proteinclass_path.astype(str).drop_duplicates()\n",
    "proteinclass = spark.createDataFrame(proteinclass_str)\n",
    "proteinclass.show()"
   ]
  },
  {
   "cell_type": "code",
   "execution_count": 54,
   "metadata": {},
   "outputs": [
    {
     "name": "stderr",
     "output_type": "stream",
     "text": [
      "23/12/11 14:05:06 WARN CacheManager: Asked to cache already cached data.\n"
     ]
    },
    {
     "name": "stdout",
     "output_type": "stream",
     "text": [
      "+-------------+--------------+-------------------------+----------+--------------------+--------------------+---------------+----------+-----------+-------------+-------------+--------------+--------------+-----------------+---------------+--------------------+----------------+----------------+----------------------+--------------+--------------------+--------------+---------+------------+\n",
      "|       drugId|      drugType|maximumClinicalTrialPhase|isApproved|       linkedTargets|      linkedDiseases|assay_chembl_id|assay_type|action_type|pchembl_value|standard_type|standard_units|standard_value|standard_relation|target_organism|    target_pref_name|target_chembl_id|confidence_score|confidence_description|assay_category|   target_components|   target_type|accession|proteinClass|\n",
      "+-------------+--------------+-------------------------+----------+--------------------+--------------------+---------------+----------+-----------+-------------+-------------+--------------+--------------+-----------------+---------------+--------------------+----------------+----------------+----------------------+--------------+--------------------+--------------+---------+------------+\n",
      "|   CHEMBL1336|Small molecule|                      4.0|      true|{9, [ENSG00000157...|{143, [MONDO_0004...|  CHEMBL3991887|         B|       null|         null|           Kd|            nM|       30000.0|                >|   Homo sapiens|U5 small nuclear ...|   CHEMBL4105972|               9|  Direct single pro...|          null|[{O75643, U5 smal...|SINGLE PROTEIN|   O75643|      Enzyme|\n",
      "|CHEMBL3545157|Small molecule|                      2.0|     false|{1, [ENSG00000082...|{5, [MONDO_000497...|  CHEMBL3991887|         B|       null|         null|           Kd|            nM|       30000.0|                >|   Homo sapiens|U5 small nuclear ...|   CHEMBL4105972|               9|  Direct single pro...|          null|[{O75643, U5 smal...|SINGLE PROTEIN|   O75643|      Enzyme|\n",
      "|CHEMBL1614766|Small molecule|                      1.0|     false|{2, [ENSG00000169...|  {1, [EFO_0000616]}|  CHEMBL3991887|         B|       null|         null|           Kd|            nM|       30000.0|                >|   Homo sapiens|U5 small nuclear ...|   CHEMBL4105972|               9|  Direct single pro...|          null|[{O75643, U5 smal...|SINGLE PROTEIN|   O75643|      Enzyme|\n",
      "|CHEMBL2028663|Small molecule|                      4.0|      true|{1, [ENSG00000157...|{26, [EFO_1000926...|  CHEMBL3991887|         B|       null|         null|           Kd|            nM|       30000.0|                >|   Homo sapiens|U5 small nuclear ...|   CHEMBL4105972|               9|  Direct single pro...|          null|[{O75643, U5 smal...|SINGLE PROTEIN|   O75643|      Enzyme|\n",
      "|CHEMBL1236962|Small molecule|                      1.0|     false|{9, [ENSG00000145...|{3, [EFO_0000616,...|  CHEMBL3991887|         B|       null|         null|           Kd|            nM|       30000.0|                >|   Homo sapiens|U5 small nuclear ...|   CHEMBL4105972|               9|  Direct single pro...|          null|[{O75643, U5 smal...|SINGLE PROTEIN|   O75643|      Enzyme|\n",
      "|CHEMBL1078178|Small molecule|                      3.0|     false|{2, [ENSG00000162...|{6, [EFO_0000479,...|  CHEMBL3991887|         B|       null|         null|           Kd|            nM|       30000.0|                >|   Homo sapiens|U5 small nuclear ...|   CHEMBL4105972|               9|  Direct single pro...|          null|[{O75643, U5 smal...|SINGLE PROTEIN|   O75643|      Enzyme|\n",
      "|CHEMBL1229517|Small molecule|                      4.0|      true|{1, [ENSG00000157...|{21, [EFO_0000389...|  CHEMBL3991887|         B|       null|         null|           Kd|            nM|       30000.0|                >|   Homo sapiens|U5 small nuclear ...|   CHEMBL4105972|               9|  Direct single pro...|          null|[{O75643, U5 smal...|SINGLE PROTEIN|   O75643|      Enzyme|\n",
      "|CHEMBL2386889|Small molecule|                      2.0|     false|{1, [ENSG00000149...|{5, [EFO_0000183,...|  CHEMBL3991887|         B|       null|         null|           Kd|            nM|       30000.0|                >|   Homo sapiens|U5 small nuclear ...|   CHEMBL4105972|               9|  Direct single pro...|          null|[{O75643, U5 smal...|SINGLE PROTEIN|   O75643|      Enzyme|\n",
      "|CHEMBL1983268|Small molecule|                      4.0|      true|{5, [ENSG00000047...|{7, [MONDO_000499...|  CHEMBL3991887|         B|       null|         null|           Kd|            nM|       30000.0|                >|   Homo sapiens|U5 small nuclear ...|   CHEMBL4105972|               9|  Direct single pro...|          null|[{O75643, U5 smal...|SINGLE PROTEIN|   O75643|      Enzyme|\n",
      "| CHEMBL428690|Small molecule|                      3.0|     false|{6, [ENSG00000170...|{26, [EFO_0001378...|  CHEMBL3991887|         B|       null|         null|           Kd|            nM|       30000.0|                >|   Homo sapiens|U5 small nuclear ...|   CHEMBL4105972|               9|  Direct single pro...|          null|[{O75643, U5 smal...|SINGLE PROTEIN|   O75643|      Enzyme|\n",
      "|CHEMBL1946170|Small molecule|                      4.0|      true|{18, [ENSG0000016...|{36, [MONDO_00210...|  CHEMBL3991887|         B|       null|         null|           Kd|            nM|       30000.0|                >|   Homo sapiens|U5 small nuclear ...|   CHEMBL4105972|               9|  Direct single pro...|          null|[{O75643, U5 smal...|SINGLE PROTEIN|   O75643|      Enzyme|\n",
      "|CHEMBL1738797|Small molecule|                      4.0|      true|{3, [ENSG00000171...|{20, [EFO_0001421...|  CHEMBL3991887|         B|       null|         null|           Kd|            nM|       30000.0|                >|   Homo sapiens|U5 small nuclear ...|   CHEMBL4105972|               9|  Direct single pro...|          null|[{O75643, U5 smal...|SINGLE PROTEIN|   O75643|      Enzyme|\n",
      "| CHEMBL402548|Small molecule|                      2.0|     false|{3, [ENSG00000178...|{3, [EFO_0001378,...|  CHEMBL3991887|         B|       null|         null|           Kd|            nM|       30000.0|                >|   Homo sapiens|U5 small nuclear ...|   CHEMBL4105972|               9|  Direct single pro...|          null|[{O75643, U5 smal...|SINGLE PROTEIN|   O75643|      Enzyme|\n",
      "|CHEMBL1976040|Small molecule|                      2.0|     false|{1, [ENSG00000166...|{29, [EFO_0000181...|  CHEMBL3991887|         B|       null|         null|           Kd|            nM|       30000.0|                >|   Homo sapiens|U5 small nuclear ...|   CHEMBL4105972|               9|  Direct single pro...|          null|[{O75643, U5 smal...|SINGLE PROTEIN|   O75643|      Enzyme|\n",
      "| CHEMBL564829|Small molecule|                      2.0|     false|{4, [ENSG00000123...|{4, [EFO_1000576,...|  CHEMBL3991887|         B|       null|         null|           Kd|            nM|       30000.0|                >|   Homo sapiens|U5 small nuclear ...|   CHEMBL4105972|               9|  Direct single pro...|          null|[{O75643, U5 smal...|SINGLE PROTEIN|   O75643|      Enzyme|\n",
      "|CHEMBL3545308|Small molecule|                      3.0|     false|{1, [ENSG00000146...|{2, [EFO_0003060,...|  CHEMBL3991887|         B|       null|         null|           Kd|            nM|       30000.0|                >|   Homo sapiens|U5 small nuclear ...|   CHEMBL4105972|               9|  Direct single pro...|          null|[{O75643, U5 smal...|SINGLE PROTEIN|   O75643|      Enzyme|\n",
      "| CHEMBL477772|Small molecule|                      4.0|      true|{11, [ENSG0000007...|{79, [EFO_1001465...|  CHEMBL3991887|         B|       null|         null|           Kd|            nM|       30000.0|                >|   Homo sapiens|U5 small nuclear ...|   CHEMBL4105972|               9|  Direct single pro...|          null|[{O75643, U5 smal...|SINGLE PROTEIN|   O75643|      Enzyme|\n",
      "| CHEMBL482968|Small molecule|                      2.0|     false|{7, [ENSG00000157...|{10, [EFO_0001642...|  CHEMBL3991887|         B|       null|         null|           Kd|            nM|       30000.0|                >|   Homo sapiens|U5 small nuclear ...|   CHEMBL4105972|               9|  Direct single pro...|          null|[{O75643, U5 smal...|SINGLE PROTEIN|   O75643|      Enzyme|\n",
      "|CHEMBL2103840|Small molecule|                      3.0|     false|{4, [ENSG00000170...|{9, [EFO_0006861,...|  CHEMBL3856515|         B|       null|         8.52|         IC50|            nM|           3.0|                =|   Homo sapiens|Cyclin-dependent ...|       CHEMBL308|               9|  Direct single pro...|          null|[{P06493, Cyclin-...|SINGLE PROTEIN|   P06493|      Kinase|\n",
      "|CHEMBL1944698|Small molecule|                      1.0|     false|{6, [ENSG00000136...|{5, [EFO_0000182,...|  CHEMBL3856510|         B|       null|         8.52|         IC50|            nM|           3.0|                =|   Homo sapiens|Cyclin-dependent ...|       CHEMBL308|               9|  Direct single pro...|          null|[{P06493, Cyclin-...|SINGLE PROTEIN|   P06493|      Kinase|\n",
      "+-------------+--------------+-------------------------+----------+--------------------+--------------------+---------------+----------+-----------+-------------+-------------+--------------+--------------+-----------------+---------------+--------------------+----------------+----------------+----------------------+--------------+--------------------+--------------+---------+------------+\n",
      "only showing top 20 rows\n",
      "\n"
     ]
    },
    {
     "data": {
      "text/plain": [
       "18860"
      ]
     },
     "execution_count": 54,
     "metadata": {},
     "output_type": "execute_result"
    }
   ],
   "source": [
    "# Protein classification\n",
    "proteinclass_list = [\"proteinClass\"]\n",
    "uniprot_to_class = join_dataframes(target_to_uniprot_extr, proteinclass, \"accession\", \"accession\", proteinclass_list).persist()\n",
    "uniprot_to_class.show()\n",
    "uniprot_to_class.count()"
   ]
  },
  {
   "cell_type": "code",
   "execution_count": 53,
   "metadata": {},
   "outputs": [
    {
     "name": "stderr",
     "output_type": "stream",
     "text": [
      "[Stage 255:=======================================>            (150 + 16) / 200]\r"
     ]
    },
    {
     "name": "stdout",
     "output_type": "stream",
     "text": [
      "+--------------+-----+\n",
      "|  proteinClass|count|\n",
      "+--------------+-----+\n",
      "|        Enzyme| 5476|\n",
      "|          GPCR| 1789|\n",
      "|        Kinase| 7317|\n",
      "|            TF|  209|\n",
      "|            IC|  359|\n",
      "|    Epigenetic|  769|\n",
      "|          None| 1664|\n",
      "|   Transporter|  583|\n",
      "|            NR|  660|\n",
      "|TF; Epigenetic|   29|\n",
      "|          null|    5|\n",
      "+--------------+-----+\n",
      "\n"
     ]
    },
    {
     "name": "stderr",
     "output_type": "stream",
     "text": [
      "                                                                                \r"
     ]
    }
   ],
   "source": [
    "show_unique_values_and_counts(uniprot_to_class, 'proteinClass')"
   ]
  },
  {
   "cell_type": "code",
   "execution_count": 33,
   "metadata": {},
   "outputs": [],
   "source": [
    "# uniprot_to_class.write.parquet(\"data/analysis/v2/uniprot_to_class_temp_v1\")"
   ]
  },
  {
   "cell_type": "markdown",
   "metadata": {},
   "source": [
    "# Data processing"
   ]
  },
  {
   "cell_type": "markdown",
   "metadata": {},
   "source": [
    "## Activity threshold"
   ]
  },
  {
   "cell_type": "code",
   "execution_count": 120,
   "metadata": {},
   "outputs": [
    {
     "name": "stdout",
     "output_type": "stream",
     "text": [
      "+-------------+--------------+-------------------------+----------+--------------------+--------------------+---------------+----------+-----------+-------------+-------------+--------------+--------------+-----------------+---------------+--------------------+----------------+----------------+----------------------+--------------+--------------------+---------------+---------+------------+\n",
      "|       drugId|      drugType|maximumClinicalTrialPhase|isApproved|       linkedTargets|      linkedDiseases|assay_chembl_id|assay_type|action_type|pchembl_value|standard_type|standard_units|standard_value|standard_relation|target_organism|    target_pref_name|target_chembl_id|confidence_score|confidence_description|assay_category|   target_components|    target_type|accession|proteinClass|\n",
      "+-------------+--------------+-------------------------+----------+--------------------+--------------------+---------------+----------+-----------+-------------+-------------+--------------+--------------+-----------------+---------------+--------------------+----------------+----------------+----------------------+--------------+--------------------+---------------+---------+------------+\n",
      "|CHEMBL4442620|Small molecule|                      2.0|     false|{20, [ENSG0000017...|{3, [EFO_0003060,...|  CHEMBL3607089|         B|       null|         8.15|         IC50|            nM|           7.0|                =|   Homo sapiens|Cyclin-dependent ...|   CHEMBL1907602|               7|  Direct protein co...|          null|[{P06493, Cyclin-...|PROTEIN COMPLEX|   P06493|      Kinase|\n",
      "|CHEMBL2436978|Small molecule|                     null|      null|                null|                null|  CHEMBL2439767|         B|       null|         5.95|         IC50|            nM|        1125.0|                =|   Homo sapiens|Cyclin-dependent ...|       CHEMBL308|               9|  Direct single pro...|          null|[{P06493, Cyclin-...| SINGLE PROTEIN|   P06493|      Kinase|\n",
      "|CHEMBL3688339|Small molecule|                     null|      null|                null|                null|  CHEMBL3991650|         B|       null|         6.54|           Kd|            nM|         288.0|                =|   Homo sapiens|Cyclin-dependent ...|       CHEMBL308|               9|  Direct single pro...|          null|[{P06493, Cyclin-...| SINGLE PROTEIN|   P06493|      Kinase|\n",
      "|CHEMBL4442620|Small molecule|                      2.0|     false|{20, [ENSG0000017...|{3, [EFO_0003060,...|  CHEMBL4613391|         B|       null|         8.15|         IC50|            nM|           7.0|                =|   Homo sapiens|Cyclin-dependent ...|   CHEMBL1907602|               7|  Direct protein co...|          null|[{P06493, Cyclin-...|PROTEIN COMPLEX|   P06493|      Kinase|\n",
      "| CHEMBL428690|Small molecule|                      3.0|     false|{6, [ENSG00000170...|{26, [EFO_0001378...|  CHEMBL3856462|         B|       null|         7.57|         IC50|            nM|          27.0|                =|   Homo sapiens|Cyclin-dependent ...|   CHEMBL1907602|               7|  Direct protein co...|          null|[{P06493, Cyclin-...|PROTEIN COMPLEX|   P06493|      Kinase|\n",
      "|CHEMBL2103840|Small molecule|                      3.0|     false|{4, [ENSG00000170...|{9, [EFO_0006861,...|  CHEMBL3856515|         B|       null|         8.52|         IC50|            nM|           3.0|                =|   Homo sapiens|Cyclin-dependent ...|       CHEMBL308|               9|  Direct single pro...|          null|[{P06493, Cyclin-...| SINGLE PROTEIN|   P06493|      Kinase|\n",
      "|CHEMBL1944698|Small molecule|                      1.0|     false|{6, [ENSG00000136...|{5, [EFO_0000182,...|  CHEMBL3856510|         B|       null|         8.52|         IC50|            nM|           3.0|                =|   Homo sapiens|Cyclin-dependent ...|       CHEMBL308|               9|  Direct single pro...|          null|[{P06493, Cyclin-...| SINGLE PROTEIN|   P06493|      Kinase|\n",
      "| CHEMBL223360|Small molecule|                      3.0|     false|{7, [ENSG00000182...|{10, [EFO_0000681...|   CHEMBL919920|         B|       null|         5.01|         IC50|            nM|        9800.0|                =|   Homo sapiens|Cyclin-dependent ...|       CHEMBL308|               9|  Direct single pro...|          null|[{P06493, Cyclin-...| SINGLE PROTEIN|   P06493|      Kinase|\n",
      "| CHEMBL482811|Small molecule|                      1.0|     false|                null|{1, [MONDO_0005178]}|  CHEMBL3626672|         F|       null|         7.97|         EC50|            nM|          10.6|                =|   Homo sapiens|Kappa opioid rece...|       CHEMBL237|               9|  Direct single pro...|          null|[{P41145, Kappa-t...| SINGLE PROTEIN|   P41145|        GPCR|\n",
      "| CHEMBL441765|Small molecule|                      1.0|     false|                null|{1, [MONDO_0005178]}|  CHEMBL4403892|         F|       null|         7.88|         EC50|            nM|          13.3|                =|   Homo sapiens|Kappa opioid rece...|       CHEMBL237|               9|  Direct single pro...|          null|[{P41145, Kappa-t...| SINGLE PROTEIN|   P41145|        GPCR|\n",
      "|     CHEMBL80|Small molecule|                      4.0|      true|{3, [ENSG00000082...|{34, [MONDO_00185...|  CHEMBL1038965|         B|       null|         8.52|           Ki|            nM|           3.0|                =|   Homo sapiens|Kappa opioid rece...|       CHEMBL237|               9|  Direct single pro...|          null|[{P41145, Kappa-t...| SINGLE PROTEIN|   P41145|        GPCR|\n",
      "|CHEMBL1455766|Small molecule|                     null|      null|                null|                null|  CHEMBL1614395|         F|       null|         6.04|         IC50|            nM|         908.0|                =|   Homo sapiens|Kappa opioid rece...|       CHEMBL237|               9|  Direct single pro...|  confirmatory|[{P41145, Kappa-t...| SINGLE PROTEIN|   P41145|        GPCR|\n",
      "|    CHEMBL497|Small molecule|                      4.0|      true|                null|{6, [EFO_0000183,...|  CHEMBL1614395|         F|       null|         5.24|         IC50|            nM|        5790.0|                =|   Homo sapiens|Kappa opioid rece...|       CHEMBL237|               9|  Direct single pro...|  confirmatory|[{P41145, Kappa-t...| SINGLE PROTEIN|   P41145|        GPCR|\n",
      "| CHEMBL441765|Small molecule|                      1.0|     false|                null|{1, [MONDO_0005178]}|   CHEMBL909561|         F|       null|         8.47|         EC50|            nM|           3.4|                =|   Homo sapiens|Kappa opioid rece...|       CHEMBL237|               9|  Direct single pro...|          null|[{P41145, Kappa-t...| SINGLE PROTEIN|   P41145|        GPCR|\n",
      "| CHEMBL445332|Small molecule|                      1.0|     false|                null|                null|  CHEMBL1942429|         F|       null|         7.51|         EC50|            nM|          31.0|                =|   Homo sapiens|Kappa opioid rece...|       CHEMBL237|               9|  Direct single pro...|          null|[{P41145, Kappa-t...| SINGLE PROTEIN|   P41145|        GPCR|\n",
      "|CHEMBL2180639|Small molecule|                     null|      null|                null|                null|  CHEMBL2182837|         F|       null|         8.44|         EC50|            nM|          3.62|                =|   Homo sapiens|Kappa opioid rece...|       CHEMBL237|               9|  Direct single pro...|          null|[{P41145, Kappa-t...| SINGLE PROTEIN|   P41145|        GPCR|\n",
      "|     CHEMBL80|Small molecule|                      4.0|      true|{3, [ENSG00000082...|{34, [MONDO_00185...|  CHEMBL3387191|         B|       null|         6.44|           Ki|            nM|         362.0|                =|   Homo sapiens|Kappa opioid rece...|       CHEMBL237|               9|  Direct single pro...|          null|[{P41145, Kappa-t...| SINGLE PROTEIN|   P41145|        GPCR|\n",
      "|     CHEMBL70|Small molecule|                      4.0|      true|{1, [ENSG00000112...|{62, [EFO_0000228...|  CHEMBL1678402|         F|       null|         6.32|         EC50|            nM|         484.0|                =|   Homo sapiens|Kappa opioid rece...|       CHEMBL237|               9|  Direct single pro...|          null|[{P41145, Kappa-t...| SINGLE PROTEIN|   P41145|        GPCR|\n",
      "| CHEMBL445332|Small molecule|                      1.0|     false|                null|                null|   CHEMBL839506|         B|       null|         8.72|           Ki|            nM|           1.9|                =|   Homo sapiens|Kappa opioid rece...|       CHEMBL237|               9|  Direct single pro...|          null|[{P41145, Kappa-t...| SINGLE PROTEIN|   P41145|        GPCR|\n",
      "| CHEMBL445332|Small molecule|                      1.0|     false|                null|                null|   CHEMBL923552|         B|       null|         8.72|           Ki|            nM|           1.9|                =|   Homo sapiens|Kappa opioid rece...|       CHEMBL237|               9|  Direct single pro...|          null|[{P41145, Kappa-t...| SINGLE PROTEIN|   P41145|        GPCR|\n",
      "+-------------+--------------+-------------------------+----------+--------------------+--------------------+---------------+----------+-----------+-------------+-------------+--------------+--------------+-----------------+---------------+--------------------+----------------+----------------+----------------------+--------------+--------------------+---------------+---------+------------+\n",
      "only showing top 20 rows\n",
      "\n"
     ]
    },
    {
     "data": {
      "text/plain": [
       "6250"
      ]
     },
     "execution_count": 120,
     "metadata": {},
     "output_type": "execute_result"
    }
   ],
   "source": [
    "# Check how many assays have pchembl_value\n",
    "pchembl_value_only = uniprot_to_class.filter(uniprot_to_class[\"pchembl_value\"].isNotNull())\n",
    "pchembl_value_only.show()\n",
    "pchembl_value_only.count()"
   ]
  },
  {
   "cell_type": "code",
   "execution_count": 140,
   "metadata": {},
   "outputs": [
    {
     "name": "stdout",
     "output_type": "stream",
     "text": [
      "+----------------+-------------+--------------+-------------------------+----------+--------------------+--------------------+---------------+----------+-----------+-------------+-------------+--------------+--------------+-----------------+---------------+--------------------+----------------+----------------------+--------------+--------------------+---------------+---------+------------+-----------------+--------------------+\n",
      "|target_chembl_id|       drugId|      drugType|maximumClinicalTrialPhase|isApproved|       linkedTargets|      linkedDiseases|assay_chembl_id|assay_type|action_type|pchembl_value|standard_type|standard_units|standard_value|standard_relation|target_organism|    target_pref_name|confidence_score|confidence_description|assay_category|   target_components|    target_type|accession|proteinClass|max_pchembl_value|median_pchembl_value|\n",
      "+----------------+-------------+--------------+-------------------------+----------+--------------------+--------------------+---------------+----------+-----------+-------------+-------------+--------------+--------------+-----------------+---------------+--------------------+----------------+----------------------+--------------+--------------------+---------------+---------+------------+-----------------+--------------------+\n",
      "|   CHEMBL1907602|CHEMBL4442620|Small molecule|                      2.0|     false|{20, [ENSG0000017...|{3, [EFO_0003060,...|  CHEMBL3607089|         B|       null|         8.15|         IC50|            nM|           7.0|                =|   Homo sapiens|Cyclin-dependent ...|               7|  Direct protein co...|          null|[{P06493, Cyclin-...|PROTEIN COMPLEX|   P06493|      Kinase|             8.15|                8.15|\n",
      "|       CHEMBL308|CHEMBL2436978|Small molecule|                     null|      null|                null|                null|  CHEMBL2439767|         B|       null|         5.95|         IC50|            nM|        1125.0|                =|   Homo sapiens|Cyclin-dependent ...|               9|  Direct single pro...|          null|[{P06493, Cyclin-...| SINGLE PROTEIN|   P06493|      Kinase|             5.95|                5.95|\n",
      "|       CHEMBL308|CHEMBL3688339|Small molecule|                     null|      null|                null|                null|  CHEMBL3991650|         B|       null|         6.54|           Kd|            nM|         288.0|                =|   Homo sapiens|Cyclin-dependent ...|               9|  Direct single pro...|          null|[{P06493, Cyclin-...| SINGLE PROTEIN|   P06493|      Kinase|             6.54|                6.54|\n",
      "|   CHEMBL1907602|CHEMBL4442620|Small molecule|                      2.0|     false|{20, [ENSG0000017...|{3, [EFO_0003060,...|  CHEMBL4613391|         B|       null|         8.15|         IC50|            nM|           7.0|                =|   Homo sapiens|Cyclin-dependent ...|               7|  Direct protein co...|          null|[{P06493, Cyclin-...|PROTEIN COMPLEX|   P06493|      Kinase|             8.15|                8.15|\n",
      "|   CHEMBL1907602| CHEMBL428690|Small molecule|                      3.0|     false|{6, [ENSG00000170...|{26, [EFO_0001378...|  CHEMBL3856462|         B|       null|         7.57|         IC50|            nM|          27.0|                =|   Homo sapiens|Cyclin-dependent ...|               7|  Direct protein co...|          null|[{P06493, Cyclin-...|PROTEIN COMPLEX|   P06493|      Kinase|             7.57|                7.57|\n",
      "|       CHEMBL308|CHEMBL2103840|Small molecule|                      3.0|     false|{4, [ENSG00000170...|{9, [EFO_0006861,...|  CHEMBL3856515|         B|       null|         8.52|         IC50|            nM|           3.0|                =|   Homo sapiens|Cyclin-dependent ...|               9|  Direct single pro...|          null|[{P06493, Cyclin-...| SINGLE PROTEIN|   P06493|      Kinase|             8.52|                8.52|\n",
      "|       CHEMBL308|CHEMBL1944698|Small molecule|                      1.0|     false|{6, [ENSG00000136...|{5, [EFO_0000182,...|  CHEMBL3856510|         B|       null|         8.52|         IC50|            nM|           3.0|                =|   Homo sapiens|Cyclin-dependent ...|               9|  Direct single pro...|          null|[{P06493, Cyclin-...| SINGLE PROTEIN|   P06493|      Kinase|             8.52|                8.52|\n",
      "|       CHEMBL308| CHEMBL223360|Small molecule|                      3.0|     false|{7, [ENSG00000182...|{10, [EFO_0000681...|   CHEMBL919920|         B|       null|         5.01|         IC50|            nM|        9800.0|                =|   Homo sapiens|Cyclin-dependent ...|               9|  Direct single pro...|          null|[{P06493, Cyclin-...| SINGLE PROTEIN|   P06493|      Kinase|             5.01|                5.01|\n",
      "|       CHEMBL237| CHEMBL482811|Small molecule|                      1.0|     false|                null|{1, [MONDO_0005178]}|  CHEMBL3626672|         F|       null|         7.97|         EC50|            nM|          10.6|                =|   Homo sapiens|Kappa opioid rece...|               9|  Direct single pro...|          null|[{P41145, Kappa-t...| SINGLE PROTEIN|   P41145|        GPCR|             7.97|                7.97|\n",
      "|       CHEMBL237| CHEMBL441765|Small molecule|                      1.0|     false|                null|{1, [MONDO_0005178]}|  CHEMBL4403892|         F|       null|         7.88|         EC50|            nM|          13.3|                =|   Homo sapiens|Kappa opioid rece...|               9|  Direct single pro...|          null|[{P41145, Kappa-t...| SINGLE PROTEIN|   P41145|        GPCR|             9.70|                8.74|\n",
      "|       CHEMBL237|     CHEMBL80|Small molecule|                      4.0|      true|{3, [ENSG00000082...|{34, [MONDO_00185...|  CHEMBL1038965|         B|       null|         8.52|           Ki|            nM|           3.0|                =|   Homo sapiens|Kappa opioid rece...|               9|  Direct single pro...|          null|[{P41145, Kappa-t...| SINGLE PROTEIN|   P41145|        GPCR|             8.52|                6.44|\n",
      "|       CHEMBL237|CHEMBL1455766|Small molecule|                     null|      null|                null|                null|  CHEMBL1614395|         F|       null|         6.04|         IC50|            nM|         908.0|                =|   Homo sapiens|Kappa opioid rece...|               9|  Direct single pro...|  confirmatory|[{P41145, Kappa-t...| SINGLE PROTEIN|   P41145|        GPCR|             6.04|                6.04|\n",
      "|       CHEMBL237|    CHEMBL497|Small molecule|                      4.0|      true|                null|{6, [EFO_0000183,...|  CHEMBL1614395|         F|       null|         5.24|         IC50|            nM|        5790.0|                =|   Homo sapiens|Kappa opioid rece...|               9|  Direct single pro...|  confirmatory|[{P41145, Kappa-t...| SINGLE PROTEIN|   P41145|        GPCR|             5.24|                5.24|\n",
      "|       CHEMBL237| CHEMBL441765|Small molecule|                      1.0|     false|                null|{1, [MONDO_0005178]}|   CHEMBL909561|         F|       null|         8.47|         EC50|            nM|           3.4|                =|   Homo sapiens|Kappa opioid rece...|               9|  Direct single pro...|          null|[{P41145, Kappa-t...| SINGLE PROTEIN|   P41145|        GPCR|             9.70|                8.74|\n",
      "|       CHEMBL237| CHEMBL445332|Small molecule|                      1.0|     false|                null|                null|  CHEMBL1942429|         F|       null|         7.51|         EC50|            nM|          31.0|                =|   Homo sapiens|Kappa opioid rece...|               9|  Direct single pro...|          null|[{P41145, Kappa-t...| SINGLE PROTEIN|   P41145|        GPCR|             8.72|                8.16|\n",
      "|       CHEMBL237|CHEMBL2180639|Small molecule|                     null|      null|                null|                null|  CHEMBL2182837|         F|       null|         8.44|         EC50|            nM|          3.62|                =|   Homo sapiens|Kappa opioid rece...|               9|  Direct single pro...|          null|[{P41145, Kappa-t...| SINGLE PROTEIN|   P41145|        GPCR|             8.44|                8.44|\n",
      "|       CHEMBL237|     CHEMBL80|Small molecule|                      4.0|      true|{3, [ENSG00000082...|{34, [MONDO_00185...|  CHEMBL3387191|         B|       null|         6.44|           Ki|            nM|         362.0|                =|   Homo sapiens|Kappa opioid rece...|               9|  Direct single pro...|          null|[{P41145, Kappa-t...| SINGLE PROTEIN|   P41145|        GPCR|             8.52|                6.44|\n",
      "|       CHEMBL237|     CHEMBL70|Small molecule|                      4.0|      true|{1, [ENSG00000112...|{62, [EFO_0000228...|  CHEMBL1678402|         F|       null|         6.32|         EC50|            nM|         484.0|                =|   Homo sapiens|Kappa opioid rece...|               9|  Direct single pro...|          null|[{P41145, Kappa-t...| SINGLE PROTEIN|   P41145|        GPCR|             6.32|                6.32|\n",
      "|       CHEMBL237| CHEMBL445332|Small molecule|                      1.0|     false|                null|                null|   CHEMBL839506|         B|       null|         8.72|           Ki|            nM|           1.9|                =|   Homo sapiens|Kappa opioid rece...|               9|  Direct single pro...|          null|[{P41145, Kappa-t...| SINGLE PROTEIN|   P41145|        GPCR|             8.72|                8.16|\n",
      "|       CHEMBL237| CHEMBL445332|Small molecule|                      1.0|     false|                null|                null|   CHEMBL923552|         B|       null|         8.72|           Ki|            nM|           1.9|                =|   Homo sapiens|Kappa opioid rece...|               9|  Direct single pro...|          null|[{P41145, Kappa-t...| SINGLE PROTEIN|   P41145|        GPCR|             8.72|                8.16|\n",
      "+----------------+-------------+--------------+-------------------------+----------+--------------------+--------------------+---------------+----------+-----------+-------------+-------------+--------------+--------------+-----------------+---------------+--------------------+----------------+----------------------+--------------+--------------------+---------------+---------+------------+-----------------+--------------------+\n",
      "only showing top 20 rows\n",
      "\n"
     ]
    },
    {
     "data": {
      "text/plain": [
       "6250"
      ]
     },
     "execution_count": 140,
     "metadata": {},
     "output_type": "execute_result"
    }
   ],
   "source": [
    "# Where pchembl_value is available for each T-D pairs make new columns:\n",
    "#     1. max_pchembl_value\n",
    "#     2. median_pchembl_value\n",
    "\n",
    "from pyspark.sql.functions import col, max, expr\n",
    "\n",
    "# Group by 'target_chembl_id' and 'drugId' and calculate max and median of 'pchembl_value'\n",
    "pchembl_value_aggr = pchembl_value_only.groupBy(\"target_chembl_id\", \"drugId\")\\\n",
    "                  .agg(max(\"pchembl_value\").alias(\"max_pchembl_value\"),\n",
    "                       expr(\"percentile_approx(pchembl_value, 0.5)\").alias(\"median_pchembl_value\"))\n",
    "\n",
    "pchembl_value_max_med = pchembl_value_only.join(pchembl_value_aggr, [\"target_chembl_id\", \"drugId\"])\\\n",
    "                    .filter(pchembl_value_aggr[\"max_pchembl_value\"].isNotNull())\n",
    "\n",
    "pchembl_value_max_med.show()\n",
    "pchembl_value_max_med.count()"
   ]
  },
  {
   "cell_type": "code",
   "execution_count": 141,
   "metadata": {},
   "outputs": [
    {
     "data": {
      "text/plain": [
       "4647"
      ]
     },
     "execution_count": 141,
     "metadata": {},
     "output_type": "execute_result"
    }
   ],
   "source": [
    "pchembl_value_aggr.count()"
   ]
  },
  {
   "cell_type": "code",
   "execution_count": 143,
   "metadata": {},
   "outputs": [
    {
     "name": "stdout",
     "output_type": "stream",
     "text": [
      "+----------------+-------------+--------------+-------------------------+----------+--------------------+--------------------+---------------+----------+-----------+-------------+-------------+--------------+--------------+-----------------+---------------+--------------------+----------------+----------------------+--------------+--------------------+---------------+---------+------------+-----------------+--------------------+--------+\n",
      "|target_chembl_id|       drugId|      drugType|maximumClinicalTrialPhase|isApproved|       linkedTargets|      linkedDiseases|assay_chembl_id|assay_type|action_type|pchembl_value|standard_type|standard_units|standard_value|standard_relation|target_organism|    target_pref_name|confidence_score|confidence_description|assay_category|   target_components|    target_type|accession|proteinClass|max_pchembl_value|median_pchembl_value|isActive|\n",
      "+----------------+-------------+--------------+-------------------------+----------+--------------------+--------------------+---------------+----------+-----------+-------------+-------------+--------------+--------------+-----------------+---------------+--------------------+----------------+----------------------+--------------+--------------------+---------------+---------+------------+-----------------+--------------------+--------+\n",
      "|   CHEMBL1907602|CHEMBL4442620|Small molecule|                      2.0|     false|{20, [ENSG0000017...|{3, [EFO_0003060,...|  CHEMBL3607089|         B|       null|         8.15|         IC50|            nM|           7.0|                =|   Homo sapiens|Cyclin-dependent ...|               7|  Direct protein co...|          null|[{P06493, Cyclin-...|PROTEIN COMPLEX|   P06493|      Kinase|             8.15|                8.15|    TRUE|\n",
      "|       CHEMBL308|CHEMBL2436978|Small molecule|                     null|      null|                null|                null|  CHEMBL2439767|         B|       null|         5.95|         IC50|            nM|        1125.0|                =|   Homo sapiens|Cyclin-dependent ...|               9|  Direct single pro...|          null|[{P06493, Cyclin-...| SINGLE PROTEIN|   P06493|      Kinase|             5.95|                5.95|   FALSE|\n",
      "|       CHEMBL308|CHEMBL3688339|Small molecule|                     null|      null|                null|                null|  CHEMBL3991650|         B|       null|         6.54|           Kd|            nM|         288.0|                =|   Homo sapiens|Cyclin-dependent ...|               9|  Direct single pro...|          null|[{P06493, Cyclin-...| SINGLE PROTEIN|   P06493|      Kinase|             6.54|                6.54|   FALSE|\n",
      "|   CHEMBL1907602|CHEMBL4442620|Small molecule|                      2.0|     false|{20, [ENSG0000017...|{3, [EFO_0003060,...|  CHEMBL4613391|         B|       null|         8.15|         IC50|            nM|           7.0|                =|   Homo sapiens|Cyclin-dependent ...|               7|  Direct protein co...|          null|[{P06493, Cyclin-...|PROTEIN COMPLEX|   P06493|      Kinase|             8.15|                8.15|    TRUE|\n",
      "|   CHEMBL1907602| CHEMBL428690|Small molecule|                      3.0|     false|{6, [ENSG00000170...|{26, [EFO_0001378...|  CHEMBL3856462|         B|       null|         7.57|         IC50|            nM|          27.0|                =|   Homo sapiens|Cyclin-dependent ...|               7|  Direct protein co...|          null|[{P06493, Cyclin-...|PROTEIN COMPLEX|   P06493|      Kinase|             7.57|                7.57|   FALSE|\n",
      "|       CHEMBL308|CHEMBL2103840|Small molecule|                      3.0|     false|{4, [ENSG00000170...|{9, [EFO_0006861,...|  CHEMBL3856515|         B|       null|         8.52|         IC50|            nM|           3.0|                =|   Homo sapiens|Cyclin-dependent ...|               9|  Direct single pro...|          null|[{P06493, Cyclin-...| SINGLE PROTEIN|   P06493|      Kinase|             8.52|                8.52|    TRUE|\n",
      "|       CHEMBL308|CHEMBL1944698|Small molecule|                      1.0|     false|{6, [ENSG00000136...|{5, [EFO_0000182,...|  CHEMBL3856510|         B|       null|         8.52|         IC50|            nM|           3.0|                =|   Homo sapiens|Cyclin-dependent ...|               9|  Direct single pro...|          null|[{P06493, Cyclin-...| SINGLE PROTEIN|   P06493|      Kinase|             8.52|                8.52|    TRUE|\n",
      "|       CHEMBL308| CHEMBL223360|Small molecule|                      3.0|     false|{7, [ENSG00000182...|{10, [EFO_0000681...|   CHEMBL919920|         B|       null|         5.01|         IC50|            nM|        9800.0|                =|   Homo sapiens|Cyclin-dependent ...|               9|  Direct single pro...|          null|[{P06493, Cyclin-...| SINGLE PROTEIN|   P06493|      Kinase|             5.01|                5.01|   FALSE|\n",
      "|       CHEMBL237| CHEMBL482811|Small molecule|                      1.0|     false|                null|{1, [MONDO_0005178]}|  CHEMBL3626672|         F|       null|         7.97|         EC50|            nM|          10.6|                =|   Homo sapiens|Kappa opioid rece...|               9|  Direct single pro...|          null|[{P41145, Kappa-t...| SINGLE PROTEIN|   P41145|        GPCR|             7.97|                7.97|    TRUE|\n",
      "|       CHEMBL237| CHEMBL441765|Small molecule|                      1.0|     false|                null|{1, [MONDO_0005178]}|  CHEMBL4403892|         F|       null|         7.88|         EC50|            nM|          13.3|                =|   Homo sapiens|Kappa opioid rece...|               9|  Direct single pro...|          null|[{P41145, Kappa-t...| SINGLE PROTEIN|   P41145|        GPCR|             9.70|                8.74|    TRUE|\n",
      "|       CHEMBL237|     CHEMBL80|Small molecule|                      4.0|      true|{3, [ENSG00000082...|{34, [MONDO_00185...|  CHEMBL1038965|         B|       null|         8.52|           Ki|            nM|           3.0|                =|   Homo sapiens|Kappa opioid rece...|               9|  Direct single pro...|          null|[{P41145, Kappa-t...| SINGLE PROTEIN|   P41145|        GPCR|             8.52|                6.44|    TRUE|\n",
      "|       CHEMBL237|CHEMBL1455766|Small molecule|                     null|      null|                null|                null|  CHEMBL1614395|         F|       null|         6.04|         IC50|            nM|         908.0|                =|   Homo sapiens|Kappa opioid rece...|               9|  Direct single pro...|  confirmatory|[{P41145, Kappa-t...| SINGLE PROTEIN|   P41145|        GPCR|             6.04|                6.04|   FALSE|\n",
      "|       CHEMBL237|    CHEMBL497|Small molecule|                      4.0|      true|                null|{6, [EFO_0000183,...|  CHEMBL1614395|         F|       null|         5.24|         IC50|            nM|        5790.0|                =|   Homo sapiens|Kappa opioid rece...|               9|  Direct single pro...|  confirmatory|[{P41145, Kappa-t...| SINGLE PROTEIN|   P41145|        GPCR|             5.24|                5.24|   FALSE|\n",
      "|       CHEMBL237| CHEMBL441765|Small molecule|                      1.0|     false|                null|{1, [MONDO_0005178]}|   CHEMBL909561|         F|       null|         8.47|         EC50|            nM|           3.4|                =|   Homo sapiens|Kappa opioid rece...|               9|  Direct single pro...|          null|[{P41145, Kappa-t...| SINGLE PROTEIN|   P41145|        GPCR|             9.70|                8.74|    TRUE|\n",
      "|       CHEMBL237| CHEMBL445332|Small molecule|                      1.0|     false|                null|                null|  CHEMBL1942429|         F|       null|         7.51|         EC50|            nM|          31.0|                =|   Homo sapiens|Kappa opioid rece...|               9|  Direct single pro...|          null|[{P41145, Kappa-t...| SINGLE PROTEIN|   P41145|        GPCR|             8.72|                8.16|    TRUE|\n",
      "|       CHEMBL237|CHEMBL2180639|Small molecule|                     null|      null|                null|                null|  CHEMBL2182837|         F|       null|         8.44|         EC50|            nM|          3.62|                =|   Homo sapiens|Kappa opioid rece...|               9|  Direct single pro...|          null|[{P41145, Kappa-t...| SINGLE PROTEIN|   P41145|        GPCR|             8.44|                8.44|    TRUE|\n",
      "|       CHEMBL237|     CHEMBL80|Small molecule|                      4.0|      true|{3, [ENSG00000082...|{34, [MONDO_00185...|  CHEMBL3387191|         B|       null|         6.44|           Ki|            nM|         362.0|                =|   Homo sapiens|Kappa opioid rece...|               9|  Direct single pro...|          null|[{P41145, Kappa-t...| SINGLE PROTEIN|   P41145|        GPCR|             8.52|                6.44|    TRUE|\n",
      "|       CHEMBL237|     CHEMBL70|Small molecule|                      4.0|      true|{1, [ENSG00000112...|{62, [EFO_0000228...|  CHEMBL1678402|         F|       null|         6.32|         EC50|            nM|         484.0|                =|   Homo sapiens|Kappa opioid rece...|               9|  Direct single pro...|          null|[{P41145, Kappa-t...| SINGLE PROTEIN|   P41145|        GPCR|             6.32|                6.32|   FALSE|\n",
      "|       CHEMBL237| CHEMBL445332|Small molecule|                      1.0|     false|                null|                null|   CHEMBL839506|         B|       null|         8.72|           Ki|            nM|           1.9|                =|   Homo sapiens|Kappa opioid rece...|               9|  Direct single pro...|          null|[{P41145, Kappa-t...| SINGLE PROTEIN|   P41145|        GPCR|             8.72|                8.16|    TRUE|\n",
      "|       CHEMBL237| CHEMBL445332|Small molecule|                      1.0|     false|                null|                null|   CHEMBL923552|         B|       null|         8.72|           Ki|            nM|           1.9|                =|   Homo sapiens|Kappa opioid rece...|               9|  Direct single pro...|          null|[{P41145, Kappa-t...| SINGLE PROTEIN|   P41145|        GPCR|             8.72|                8.16|    TRUE|\n",
      "+----------------+-------------+--------------+-------------------------+----------+--------------------+--------------------+---------------+----------+-----------+-------------+-------------+--------------+--------------+-----------------+---------------+--------------------+----------------+----------------------+--------------+--------------------+---------------+---------+------------+-----------------+--------------------+--------+\n",
      "only showing top 20 rows\n",
      "\n"
     ]
    },
    {
     "data": {
      "text/plain": [
       "6250"
      ]
     },
     "execution_count": 143,
     "metadata": {},
     "output_type": "execute_result"
    }
   ],
   "source": [
    "# Custom activity cutoff for max_pchembl_value\n",
    "drug_active = pchembl_value_max_med.withColumn(\n",
    "    \"isActive\",\n",
    "    when(\n",
    "        ((col(\"proteinClass\") == \"Kinase\") & (col(\"max_pchembl_value\") >= 7.7)) |\n",
    "        ((col(\"proteinClass\") == \"GPCR\") & (col(\"max_pchembl_value\") >= 6.5)) |\n",
    "        ((col(\"proteinClass\") == \"NR\") & (col(\"max_pchembl_value\") >= 6.1)) |\n",
    "        ((col(\"proteinClass\") == \"Transporter\") & (col(\"max_pchembl_value\") >= 6.1)) |\n",
    "        ((col(\"proteinClass\") == \"Enzyme\") & (col(\"max_pchembl_value\") >= 5.2)) |\n",
    "        ((col(\"proteinClass\") == \"IC\") & (col(\"max_pchembl_value\") >= 4.6)) |\n",
    "        ((col(\"proteinClass\") == \"Other\") & (col(\"max_pchembl_value\") >= 6.3)) |\n",
    "        (~(col(\"proteinClass\").isin([\"Kinase\", \"GPCR\", \"NR\", \"Transporter\", \"Enzyme\", \"IC\", \"Other\"])) & (col(\"max_pchembl_value\") >= 5)),\n",
    "        \"TRUE\"\n",
    "    ).otherwise(\"FALSE\")\n",
    ")\n",
    "drug_active.show()\n",
    "drug_active.count()"
   ]
  },
  {
   "cell_type": "code",
   "execution_count": 144,
   "metadata": {},
   "outputs": [
    {
     "name": "stderr",
     "output_type": "stream",
     "text": [
      "                                                                                \r"
     ]
    },
    {
     "name": "stdout",
     "output_type": "stream",
     "text": [
      "+----------------+-------------+--------------+-------------------------+----------+--------------------+--------------------+---------------+----------+-----------+-------------+-------------+--------------+--------------+-----------------+---------------+--------------------+----------------+----------------------+--------------+--------------------+---------------+---------+------------+-----------------+--------------------+--------+\n",
      "|target_chembl_id|       drugId|      drugType|maximumClinicalTrialPhase|isApproved|       linkedTargets|      linkedDiseases|assay_chembl_id|assay_type|action_type|pchembl_value|standard_type|standard_units|standard_value|standard_relation|target_organism|    target_pref_name|confidence_score|confidence_description|assay_category|   target_components|    target_type|accession|proteinClass|max_pchembl_value|median_pchembl_value|isActive|\n",
      "+----------------+-------------+--------------+-------------------------+----------+--------------------+--------------------+---------------+----------+-----------+-------------+-------------+--------------+--------------+-----------------+---------------+--------------------+----------------+----------------------+--------------+--------------------+---------------+---------+------------+-----------------+--------------------+--------+\n",
      "|   CHEMBL1907602|CHEMBL4442620|Small molecule|                      2.0|     false|{20, [ENSG0000017...|{3, [EFO_0003060,...|  CHEMBL3607089|         B|       null|         8.15|         IC50|            nM|           7.0|                =|   Homo sapiens|Cyclin-dependent ...|               7|  Direct protein co...|          null|[{P06493, Cyclin-...|PROTEIN COMPLEX|   P06493|      Kinase|             8.15|                8.15|    TRUE|\n",
      "|   CHEMBL1907602|CHEMBL4442620|Small molecule|                      2.0|     false|{20, [ENSG0000017...|{3, [EFO_0003060,...|  CHEMBL4613391|         B|       null|         8.15|         IC50|            nM|           7.0|                =|   Homo sapiens|Cyclin-dependent ...|               7|  Direct protein co...|          null|[{P06493, Cyclin-...|PROTEIN COMPLEX|   P06493|      Kinase|             8.15|                8.15|    TRUE|\n",
      "|       CHEMBL308|CHEMBL2103840|Small molecule|                      3.0|     false|{4, [ENSG00000170...|{9, [EFO_0006861,...|  CHEMBL3856515|         B|       null|         8.52|         IC50|            nM|           3.0|                =|   Homo sapiens|Cyclin-dependent ...|               9|  Direct single pro...|          null|[{P06493, Cyclin-...| SINGLE PROTEIN|   P06493|      Kinase|             8.52|                8.52|    TRUE|\n",
      "|       CHEMBL308|CHEMBL1944698|Small molecule|                      1.0|     false|{6, [ENSG00000136...|{5, [EFO_0000182,...|  CHEMBL3856510|         B|       null|         8.52|         IC50|            nM|           3.0|                =|   Homo sapiens|Cyclin-dependent ...|               9|  Direct single pro...|          null|[{P06493, Cyclin-...| SINGLE PROTEIN|   P06493|      Kinase|             8.52|                8.52|    TRUE|\n",
      "|       CHEMBL237| CHEMBL482811|Small molecule|                      1.0|     false|                null|{1, [MONDO_0005178]}|  CHEMBL3626672|         F|       null|         7.97|         EC50|            nM|          10.6|                =|   Homo sapiens|Kappa opioid rece...|               9|  Direct single pro...|          null|[{P41145, Kappa-t...| SINGLE PROTEIN|   P41145|        GPCR|             7.97|                7.97|    TRUE|\n",
      "|       CHEMBL237| CHEMBL441765|Small molecule|                      1.0|     false|                null|{1, [MONDO_0005178]}|  CHEMBL4403892|         F|       null|         7.88|         EC50|            nM|          13.3|                =|   Homo sapiens|Kappa opioid rece...|               9|  Direct single pro...|          null|[{P41145, Kappa-t...| SINGLE PROTEIN|   P41145|        GPCR|             9.70|                8.74|    TRUE|\n",
      "|       CHEMBL237|     CHEMBL80|Small molecule|                      4.0|      true|{3, [ENSG00000082...|{34, [MONDO_00185...|  CHEMBL1038965|         B|       null|         8.52|           Ki|            nM|           3.0|                =|   Homo sapiens|Kappa opioid rece...|               9|  Direct single pro...|          null|[{P41145, Kappa-t...| SINGLE PROTEIN|   P41145|        GPCR|             8.52|                6.44|    TRUE|\n",
      "|       CHEMBL237| CHEMBL441765|Small molecule|                      1.0|     false|                null|{1, [MONDO_0005178]}|   CHEMBL909561|         F|       null|         8.47|         EC50|            nM|           3.4|                =|   Homo sapiens|Kappa opioid rece...|               9|  Direct single pro...|          null|[{P41145, Kappa-t...| SINGLE PROTEIN|   P41145|        GPCR|             9.70|                8.74|    TRUE|\n",
      "|       CHEMBL237| CHEMBL445332|Small molecule|                      1.0|     false|                null|                null|  CHEMBL1942429|         F|       null|         7.51|         EC50|            nM|          31.0|                =|   Homo sapiens|Kappa opioid rece...|               9|  Direct single pro...|          null|[{P41145, Kappa-t...| SINGLE PROTEIN|   P41145|        GPCR|             8.72|                8.16|    TRUE|\n",
      "|       CHEMBL237|CHEMBL2180639|Small molecule|                     null|      null|                null|                null|  CHEMBL2182837|         F|       null|         8.44|         EC50|            nM|          3.62|                =|   Homo sapiens|Kappa opioid rece...|               9|  Direct single pro...|          null|[{P41145, Kappa-t...| SINGLE PROTEIN|   P41145|        GPCR|             8.44|                8.44|    TRUE|\n",
      "|       CHEMBL237|     CHEMBL80|Small molecule|                      4.0|      true|{3, [ENSG00000082...|{34, [MONDO_00185...|  CHEMBL3387191|         B|       null|         6.44|           Ki|            nM|         362.0|                =|   Homo sapiens|Kappa opioid rece...|               9|  Direct single pro...|          null|[{P41145, Kappa-t...| SINGLE PROTEIN|   P41145|        GPCR|             8.52|                6.44|    TRUE|\n",
      "|       CHEMBL237| CHEMBL445332|Small molecule|                      1.0|     false|                null|                null|   CHEMBL839506|         B|       null|         8.72|           Ki|            nM|           1.9|                =|   Homo sapiens|Kappa opioid rece...|               9|  Direct single pro...|          null|[{P41145, Kappa-t...| SINGLE PROTEIN|   P41145|        GPCR|             8.72|                8.16|    TRUE|\n",
      "|       CHEMBL237| CHEMBL445332|Small molecule|                      1.0|     false|                null|                null|   CHEMBL923552|         B|       null|         8.72|           Ki|            nM|           1.9|                =|   Homo sapiens|Kappa opioid rece...|               9|  Direct single pro...|          null|[{P41145, Kappa-t...| SINGLE PROTEIN|   P41145|        GPCR|             8.72|                8.16|    TRUE|\n",
      "|       CHEMBL237| CHEMBL445332|Small molecule|                      1.0|     false|                null|                null|   CHEMBL988702|         F|       null|         8.68|         EC50|            nM|           2.1|                =|   Homo sapiens|Kappa opioid rece...|               9|  Direct single pro...|          null|[{P41145, Kappa-t...| SINGLE PROTEIN|   P41145|        GPCR|             8.72|                8.16|    TRUE|\n",
      "|       CHEMBL237| CHEMBL511142|Small molecule|                      4.0|      true|{2, [ENSG00000112...|{28, [EFO_0003047...|  CHEMBL1019891|         F|       null|         7.82|         IC50|            nM|          15.0|                =|   Homo sapiens|Kappa opioid rece...|               9|  Direct single pro...|          null|[{P41145, Kappa-t...| SINGLE PROTEIN|   P41145|        GPCR|             7.82|                7.82|    TRUE|\n",
      "|       CHEMBL237| CHEMBL441765|Small molecule|                      1.0|     false|                null|{1, [MONDO_0005178]}|  CHEMBL1104716|         B|       null|         8.82|           Ki|            nM|           1.5|                =|   Homo sapiens|Kappa opioid rece...|               9|  Direct single pro...|          null|[{P41145, Kappa-t...| SINGLE PROTEIN|   P41145|        GPCR|             9.70|                8.74|    TRUE|\n",
      "|       CHEMBL237|CHEMBL1818341|Small molecule|                      1.0|     false|                null|{2, [MONDO_000205...|  CHEMBL3268180|         F|       null|         8.91|           Ki|            nM|          1.23|                =|   Homo sapiens|Kappa opioid rece...|               9|  Direct single pro...|          null|[{P41145, Kappa-t...| SINGLE PROTEIN|   P41145|        GPCR|             8.91|                8.91|    TRUE|\n",
      "|       CHEMBL237| CHEMBL441765|Small molecule|                      1.0|     false|                null|{1, [MONDO_0005178]}|  CHEMBL4234970|         F|       null|         8.74|         EC50|            nM|           1.8|                =|   Homo sapiens|Kappa opioid rece...|               9|  Direct single pro...|          null|[{P41145, Kappa-t...| SINGLE PROTEIN|   P41145|        GPCR|             9.70|                8.74|    TRUE|\n",
      "|       CHEMBL237| CHEMBL441765|Small molecule|                      1.0|     false|                null|{1, [MONDO_0005178]}|  CHEMBL2182842|         B|       null|         9.70|           Ki|            nM|           0.2|                =|   Homo sapiens|Kappa opioid rece...|               9|  Direct single pro...|          null|[{P41145, Kappa-t...| SINGLE PROTEIN|   P41145|        GPCR|             9.70|                8.74|    TRUE|\n",
      "|       CHEMBL237| CHEMBL445332|Small molecule|                      1.0|     false|                null|                null|  CHEMBL3131491|         B|       null|         7.80|           Ki|            nM|          16.0|                =|   Homo sapiens|Kappa opioid rece...|               9|  Direct single pro...|          null|[{P41145, Kappa-t...| SINGLE PROTEIN|   P41145|        GPCR|             8.72|                8.16|    TRUE|\n",
      "+----------------+-------------+--------------+-------------------------+----------+--------------------+--------------------+---------------+----------+-----------+-------------+-------------+--------------+--------------+-----------------+---------------+--------------------+----------------+----------------------+--------------+--------------------+---------------+---------+------------+-----------------+--------------------+--------+\n",
      "only showing top 20 rows\n",
      "\n"
     ]
    },
    {
     "data": {
      "text/plain": [
       "3871"
      ]
     },
     "execution_count": 144,
     "metadata": {},
     "output_type": "execute_result"
    }
   ],
   "source": [
    "drug_active_only = drug_active.filter(drug_active[\"isActive\"] == True)\n",
    "drug_active_only.show()\n",
    "drug_active_only.count()"
   ]
  },
  {
   "cell_type": "code",
   "execution_count": 149,
   "metadata": {},
   "outputs": [
    {
     "name": "stderr",
     "output_type": "stream",
     "text": [
      "[Stage 1777:===============================================>    (182 + 8) / 200]\r"
     ]
    },
    {
     "name": "stdout",
     "output_type": "stream",
     "text": [
      "+----------+-----+\n",
      "|isApproved|count|\n",
      "+----------+-----+\n",
      "|      null| 1160|\n",
      "|      true| 1318|\n",
      "|     false|  895|\n",
      "+----------+-----+\n",
      "\n"
     ]
    },
    {
     "name": "stderr",
     "output_type": "stream",
     "text": [
      "                                                                                \r"
     ]
    }
   ],
   "source": [
    "show_unique_values_and_counts(target_organism_filter.drop_duplicates([\"drugId\", \"isApproved\"]), \"isApproved\")"
   ]
  },
  {
   "cell_type": "code",
   "execution_count": 150,
   "metadata": {},
   "outputs": [
    {
     "name": "stderr",
     "output_type": "stream",
     "text": [
      "[Stage 1808:>                                                       (0 + 1) / 1]\r"
     ]
    },
    {
     "name": "stdout",
     "output_type": "stream",
     "text": [
      "+----------+-----+\n",
      "|isApproved|count|\n",
      "+----------+-----+\n",
      "|      null|  638|\n",
      "|      true|  561|\n",
      "|     false|  430|\n",
      "+----------+-----+\n",
      "\n"
     ]
    },
    {
     "name": "stderr",
     "output_type": "stream",
     "text": [
      "                                                                                \r"
     ]
    }
   ],
   "source": [
    "show_unique_values_and_counts(drug_active_only.drop_duplicates([\"drugId\", \"isApproved\"]), \"isApproved\")"
   ]
  },
  {
   "cell_type": "code",
   "execution_count": 123,
   "metadata": {},
   "outputs": [
    {
     "name": "stdout",
     "output_type": "stream",
     "text": [
      "+--------------------+-----+\n",
      "|       standard_type|count|\n",
      "+--------------------+-----+\n",
      "|     Drug metabolism|   86|\n",
      "|                Emax|   68|\n",
      "|          Ratio IC50|   38|\n",
      "|                IC50| 1654|\n",
      "|            Activity|  970|\n",
      "|Thermal melting c...|  108|\n",
      "|                  Ki| 1034|\n",
      "|                EC50|   72|\n",
      "|          Ratio EC50|    5|\n",
      "|          Inhibition| 1449|\n",
      "|                GI50|   29|\n",
      "|                  Km|   35|\n",
      "|                  Ke|   16|\n",
      "|                  Kd| 4707|\n",
      "|                Imax|    8|\n",
      "|   Residual Activity|  980|\n",
      "|                  FC|   82|\n",
      "|               pIC50|    2|\n",
      "|             Potency|  537|\n",
      "|              Kinact|   56|\n",
      "+--------------------+-----+\n",
      "only showing top 20 rows\n",
      "\n"
     ]
    }
   ],
   "source": [
    "# Where pchembl_value is not available for each T-D pairs make new columns:\n",
    "#     1. Calculate how much data is this\n",
    "#     2. Think about what to do with different standard_units\n",
    "#     3. Ideally:\n",
    "#         1. max_standard_value_n\n",
    "#         2. median_standard_value_n\n",
    "#         3. Cutoff for every n\n",
    "\n",
    "no_pchembl_value = uniprot_to_class.filter(uniprot_to_class[\"pchembl_value\"].isNull())\n",
    "show_unique_values_and_counts(no_pchembl_value, \"standard_type\")"
   ]
  },
  {
   "cell_type": "code",
   "execution_count": null,
   "metadata": {},
   "outputs": [],
   "source": [
    "# Make column with activity of molecule: drugActive = TRUE/FALSE\n",
    "#     1. based protein type and:\n",
    "#         1. max_pchembl_value\n",
    "#         2. median_pchembl_value\n",
    "#     2. based on cutoffs for other experiment types"
   ]
  },
  {
   "cell_type": "markdown",
   "metadata": {},
   "source": [
    "### Drug-target pairs: Target is in MoA of a drug (targetInMoA, boolean)"
   ]
  },
  {
   "cell_type": "code",
   "execution_count": 34,
   "metadata": {},
   "outputs": [],
   "source": [
    "# # Targets dataset to map accession to Ensembl\n",
    "# target_path = \"gs://open-targets-data-releases/23.12/output/etl/json/targets\"\n",
    "# target = spark.read.json(target_path)\n",
    "# target.persist()\n",
    "# target.show()\n"
   ]
  },
  {
   "cell_type": "code",
   "execution_count": 152,
   "metadata": {},
   "outputs": [
    {
     "name": "stdout",
     "output_type": "stream",
     "text": [
      "+--------------------+------------------+--------------------+--------------------+------------------+-------------------------+---------+----------------+\n",
      "|           _metadata|       action_type| mechanism_of_action|      mechanism_refs|molecule_chembl_id|parent_molecule_chembl_id|record_id|target_chembl_id|\n",
      "+--------------------+------------------+--------------------+--------------------+------------------+-------------------------+---------+----------------+\n",
      "|{[CHEMBL2103825],...|         INHIBITOR|Pancreatic lipase...|[{16953261, PubMe...|     CHEMBL2103825|            CHEMBL2103825|  1699800|      CHEMBL1812|\n",
      "|{[CHEMBL1200495, ...|           AGONIST|Glucocorticoid re...|[{setid=6d9bf1b0-...|     CHEMBL1200495|                CHEMBL977|  1344612|      CHEMBL2034|\n",
      "|{[CHEMBL3544919],...|SEQUESTERING AGENT|Heparin sequester...|[{26937198, PubMe...|     CHEMBL3544919|            CHEMBL3544919|  2473107|   CHEMBL2364712|\n",
      "|{[CHEMBL3989993],...|         INHIBITOR|microRNA-155 inhi...|[{NCT03713320, Cl...|     CHEMBL3989993|            CHEMBL3989993|  2973351|   CHEMBL4630577|\n",
      "|{[CHEMBL1460], CH...|         INHIBITOR|Human immunodefic...|[{setid=22e2ca82-...|        CHEMBL1460|               CHEMBL1460|  1343993|       CHEMBL247|\n",
      "|{[CHEMBL444172], ...|         INHIBITOR|P-glycoprotein 1 ...|[{18271955, PubMe...|      CHEMBL444172|             CHEMBL444172|  3129871|      CHEMBL4302|\n",
      "|{[CHEMBL1873475],...|         INHIBITOR|Tyrosine-protein ...|[{label/2013/2055...|     CHEMBL1873475|            CHEMBL1873475|  1702685|      CHEMBL5251|\n",
      "|{[CHEMBL4650215],...|         INHIBITOR|PI3-kinase p110-a...|[{https://cancerr...|     CHEMBL4650215|            CHEMBL4650215|  3133380|      CHEMBL4005|\n",
      "|{[CHEMBL87992], C...|           BLOCKER|Sodium channel al...|[{label/2013/0224...|       CHEMBL87992|              CHEMBL87992|  1702492|   CHEMBL2331043|\n",
      "|{[CHEMBL2105689],...|         INHIBITOR|Cytochrome P450 5...|[{label/2013/2041...|     CHEMBL2105689|            CHEMBL2105689|  1702581|      CHEMBL1780|\n",
      "|{[CHEMBL523299, C...|        ANTAGONIST|Muscarinic acetyl...|[{label/2013/2039...|      CHEMBL523299|            CHEMBL1187833|  1702662|       CHEMBL245|\n",
      "|{[CHEMBL1200865],...|           AGONIST|Glucocorticoid re...|[{12861354, PubMe...|     CHEMBL1200865|            CHEMBL1200865|  1343629|      CHEMBL2034|\n",
      "|{[CHEMBL129], CHE...|         INHIBITOR|Human immunodefic...|[{setid=6df09f15-...|         CHEMBL129|                CHEMBL129|  1343080|       CHEMBL247|\n",
      "|{[CHEMBL3989861, ...|         INHIBITOR|Serotonin transpo...|[{label/2013/2052...|     CHEMBL3989861|               CHEMBL1118|  1938076|       CHEMBL228|\n",
      "|{[CHEMBL2146140, ...|         INHIBITOR|Potassium-transpo...|[{setid=61a5a84e-...|     CHEMBL2146140|            CHEMBL1201320|  1702655|   CHEMBL2095173|\n",
      "|{[CHEMBL131], CHE...|           AGONIST|Glucocorticoid re...|[{19482847, PubMe...|         CHEMBL131|                CHEMBL131|  1344057|      CHEMBL2034|\n",
      "|{[CHEMBL1275802],...|  DISRUPTING AGENT|Cell membrane dis...|[{19010301, PubMe...|     CHEMBL1275802|            CHEMBL1275802|  1703075|   CHEMBL2364031|\n",
      "|{[CHEMBL139], CHE...|         INHIBITOR|Cyclooxygenase in...|[{label/2013/2045...|         CHEMBL139|                CHEMBL139|  1937947|   CHEMBL2094253|\n",
      "|{[CHEMBL2108556],...|  DISRUPTING AGENT|Cell membrane dis...|[{19010301, PubMe...|     CHEMBL2108556|            CHEMBL2108556|  1696419|   CHEMBL2364031|\n",
      "|{[CHEMBL1512], CH...|           AGONIST|Glucocorticoid re...|[{setid=7c72c954-...|        CHEMBL1512|               CHEMBL1512|  1343379|      CHEMBL2034|\n",
      "+--------------------+------------------+--------------------+--------------------+------------------+-------------------------+---------+----------------+\n",
      "only showing top 20 rows\n",
      "\n"
     ]
    },
    {
     "name": "stderr",
     "output_type": "stream",
     "text": [
      "23/12/11 16:34:31 WARN CacheManager: Asked to cache already cached data.\n"
     ]
    }
   ],
   "source": [
    "mechanism_path = \"gs://open-targets-pre-data-releases/chembl-columns/chembl-inputs/chembl_33_mechanism.jsonl\"\n",
    "mechanism = spark.read.json(mechanism_path)\n",
    "mechanism.persist()\n",
    "mechanism.show()"
   ]
  },
  {
   "cell_type": "code",
   "execution_count": 61,
   "metadata": {},
   "outputs": [
    {
     "name": "stdout",
     "output_type": "stream",
     "text": [
      "+--------------------+-----------+--------------------+--------------------+------------------+-------------------------+---------+----------------+\n",
      "|           _metadata|action_type| mechanism_of_action|      mechanism_refs|molecule_chembl_id|parent_molecule_chembl_id|record_id|target_chembl_id|\n",
      "+--------------------+-----------+--------------------+--------------------+------------------+-------------------------+---------+----------------+\n",
      "|{[CHEMBL1946170],...|  INHIBITOR|Platelet-derived ...|[{REGORAFENIB, Ex...|     CHEMBL1946170|            CHEMBL1946170|  1679381|   CHEMBL2095189|\n",
      "|{[CHEMBL1946170],...|  INHIBITOR|Tyrosine-protein ...|[{REGORAFENIB, Ex...|     CHEMBL1946170|            CHEMBL1946170|  1679381|      CHEMBL4223|\n",
      "|{[CHEMBL1946170],...|  INHIBITOR|Discoidin domain-...|[{REGORAFENIB, Ex...|     CHEMBL1946170|            CHEMBL1946170|  1679381|      CHEMBL5122|\n",
      "|{[CHEMBL1946170],...|  INHIBITOR|Tyrosine-protein ...|[{REGORAFENIB, Ex...|     CHEMBL1946170|            CHEMBL1946170|  1679381|      CHEMBL2041|\n",
      "|{[CHEMBL1946170],...|  INHIBITOR|Ephrin type-A rec...|[{label/2012/2030...|     CHEMBL1946170|            CHEMBL1946170|  1679381|      CHEMBL2068|\n",
      "|{[CHEMBL1946170],...|  INHIBITOR|Serine/threonine-...|[{REGORAFENIB, Ex...|     CHEMBL1946170|            CHEMBL1946170|  1679381|      CHEMBL5145|\n",
      "|{[CHEMBL1946170],...|  INHIBITOR|Fibroblast growth...|[{REGORAFENIB, Ex...|     CHEMBL1946170|            CHEMBL1946170|  1679381|      CHEMBL3650|\n",
      "|{[CHEMBL1946170],...|  INHIBITOR|Tyrosine-protein ...|[{REGORAFENIB, Ex...|     CHEMBL1946170|            CHEMBL1946170|  1679381|      CHEMBL1862|\n",
      "|{[CHEMBL1946170],...|  INHIBITOR|Nerve growth fact...|[{label/2012/2030...|     CHEMBL1946170|            CHEMBL1946170|  1679381|      CHEMBL2815|\n",
      "|{[CHEMBL1946170],...|  INHIBITOR|Tyrosine-protein ...|[{REGORAFENIB, Ex...|     CHEMBL1946170|            CHEMBL1946170|  1679381|      CHEMBL4128|\n",
      "|{[CHEMBL1946170],...|  INHIBITOR|MAP kinase p38 be...|[{REGORAFENIB, Ex...|     CHEMBL1946170|            CHEMBL1946170|  1679381|      CHEMBL3961|\n",
      "|{[CHEMBL1946170],...|  INHIBITOR|Vascular endothel...|[{REGORAFENIB, Ex...|     CHEMBL1946170|            CHEMBL1946170|  1679381|   CHEMBL2095227|\n",
      "|{[CHEMBL1946170],...|  INHIBITOR|Serine/threonine-...|[{REGORAFENIB, Ex...|     CHEMBL1946170|            CHEMBL1946170|  1679381|      CHEMBL1906|\n",
      "|{[CHEMBL1946170],...|  INHIBITOR|Fibroblast growth...|[{REGORAFENIB, Ex...|     CHEMBL1946170|            CHEMBL1946170|  1679381|      CHEMBL4142|\n",
      "|{[CHEMBL1946170],...|  INHIBITOR|Stem cell growth ...|[{REGORAFENIB, Ex...|     CHEMBL1946170|            CHEMBL1946170|  1679381|      CHEMBL1936|\n",
      "+--------------------+-----------+--------------------+--------------------+------------------+-------------------------+---------+----------------+\n",
      "\n"
     ]
    }
   ],
   "source": [
    "# # Filtering just to check that molecule_chembl_id can correspond to several targets\n",
    "# mechanism_filtered = mechanism.filter(mechanism[\"molecule_chembl_id\"] == \"CHEMBL1946170\")\n",
    "# mechanism_filtered.show()"
   ]
  },
  {
   "cell_type": "code",
   "execution_count": 153,
   "metadata": {},
   "outputs": [
    {
     "name": "stdout",
     "output_type": "stream",
     "text": [
      "+--------------------+------------------+--------------------+--------------------+------------------+-------------------------+---------+--------------------+\n",
      "|           _metadata|   action_type_moa| mechanism_of_action|      mechanism_refs|molecule_chembl_id|parent_molecule_chembl_id|record_id|target_chembl_id_moa|\n",
      "+--------------------+------------------+--------------------+--------------------+------------------+-------------------------+---------+--------------------+\n",
      "|{[CHEMBL2103825],...|         INHIBITOR|Pancreatic lipase...|[{16953261, PubMe...|     CHEMBL2103825|            CHEMBL2103825|  1699800|          CHEMBL1812|\n",
      "|{[CHEMBL1200495, ...|           AGONIST|Glucocorticoid re...|[{setid=6d9bf1b0-...|     CHEMBL1200495|                CHEMBL977|  1344612|          CHEMBL2034|\n",
      "|{[CHEMBL3544919],...|SEQUESTERING AGENT|Heparin sequester...|[{26937198, PubMe...|     CHEMBL3544919|            CHEMBL3544919|  2473107|       CHEMBL2364712|\n",
      "|{[CHEMBL3989993],...|         INHIBITOR|microRNA-155 inhi...|[{NCT03713320, Cl...|     CHEMBL3989993|            CHEMBL3989993|  2973351|       CHEMBL4630577|\n",
      "|{[CHEMBL1460], CH...|         INHIBITOR|Human immunodefic...|[{setid=22e2ca82-...|        CHEMBL1460|               CHEMBL1460|  1343993|           CHEMBL247|\n",
      "|{[CHEMBL444172], ...|         INHIBITOR|P-glycoprotein 1 ...|[{18271955, PubMe...|      CHEMBL444172|             CHEMBL444172|  3129871|          CHEMBL4302|\n",
      "|{[CHEMBL1873475],...|         INHIBITOR|Tyrosine-protein ...|[{label/2013/2055...|     CHEMBL1873475|            CHEMBL1873475|  1702685|          CHEMBL5251|\n",
      "|{[CHEMBL4650215],...|         INHIBITOR|PI3-kinase p110-a...|[{https://cancerr...|     CHEMBL4650215|            CHEMBL4650215|  3133380|          CHEMBL4005|\n",
      "|{[CHEMBL87992], C...|           BLOCKER|Sodium channel al...|[{label/2013/0224...|       CHEMBL87992|              CHEMBL87992|  1702492|       CHEMBL2331043|\n",
      "|{[CHEMBL2105689],...|         INHIBITOR|Cytochrome P450 5...|[{label/2013/2041...|     CHEMBL2105689|            CHEMBL2105689|  1702581|          CHEMBL1780|\n",
      "|{[CHEMBL523299, C...|        ANTAGONIST|Muscarinic acetyl...|[{label/2013/2039...|      CHEMBL523299|            CHEMBL1187833|  1702662|           CHEMBL245|\n",
      "|{[CHEMBL1200865],...|           AGONIST|Glucocorticoid re...|[{12861354, PubMe...|     CHEMBL1200865|            CHEMBL1200865|  1343629|          CHEMBL2034|\n",
      "|{[CHEMBL129], CHE...|         INHIBITOR|Human immunodefic...|[{setid=6df09f15-...|         CHEMBL129|                CHEMBL129|  1343080|           CHEMBL247|\n",
      "|{[CHEMBL3989861, ...|         INHIBITOR|Serotonin transpo...|[{label/2013/2052...|     CHEMBL3989861|               CHEMBL1118|  1938076|           CHEMBL228|\n",
      "|{[CHEMBL2146140, ...|         INHIBITOR|Potassium-transpo...|[{setid=61a5a84e-...|     CHEMBL2146140|            CHEMBL1201320|  1702655|       CHEMBL2095173|\n",
      "|{[CHEMBL131], CHE...|           AGONIST|Glucocorticoid re...|[{19482847, PubMe...|         CHEMBL131|                CHEMBL131|  1344057|          CHEMBL2034|\n",
      "|{[CHEMBL1275802],...|  DISRUPTING AGENT|Cell membrane dis...|[{19010301, PubMe...|     CHEMBL1275802|            CHEMBL1275802|  1703075|       CHEMBL2364031|\n",
      "|{[CHEMBL139], CHE...|         INHIBITOR|Cyclooxygenase in...|[{label/2013/2045...|         CHEMBL139|                CHEMBL139|  1937947|       CHEMBL2094253|\n",
      "|{[CHEMBL2108556],...|  DISRUPTING AGENT|Cell membrane dis...|[{19010301, PubMe...|     CHEMBL2108556|            CHEMBL2108556|  1696419|       CHEMBL2364031|\n",
      "|{[CHEMBL1512], CH...|           AGONIST|Glucocorticoid re...|[{setid=7c72c954-...|        CHEMBL1512|               CHEMBL1512|  1343379|          CHEMBL2034|\n",
      "+--------------------+------------------+--------------------+--------------------+------------------+-------------------------+---------+--------------------+\n",
      "only showing top 20 rows\n",
      "\n"
     ]
    }
   ],
   "source": [
    "# Rename columns\n",
    "mechanism_renamed = mechanism.withColumnRenamed(\"action_type\", \"action_type_moa\").withColumnRenamed(\"target_chembl_id\", \"target_chembl_id_moa\")\n",
    "\n",
    "# Show the result\n",
    "mechanism_renamed.show()"
   ]
  },
  {
   "cell_type": "code",
   "execution_count": 154,
   "metadata": {},
   "outputs": [
    {
     "name": "stdout",
     "output_type": "stream",
     "text": [
      "+----------------+-------------+--------------+-------------------------+----------+--------------------+--------------------+---------------+----------+-----------+-------------+-------------+--------------+--------------+-----------------+---------------+--------------------+----------------+----------------------+--------------+--------------------+---------------+---------+------------+-----------------+--------------------+--------+---------------+--------------------+\n",
      "|target_chembl_id|       drugId|      drugType|maximumClinicalTrialPhase|isApproved|       linkedTargets|      linkedDiseases|assay_chembl_id|assay_type|action_type|pchembl_value|standard_type|standard_units|standard_value|standard_relation|target_organism|    target_pref_name|confidence_score|confidence_description|assay_category|   target_components|    target_type|accession|proteinClass|max_pchembl_value|median_pchembl_value|isActive|action_type_moa|target_chembl_id_moa|\n",
      "+----------------+-------------+--------------+-------------------------+----------+--------------------+--------------------+---------------+----------+-----------+-------------+-------------+--------------+--------------+-----------------+---------------+--------------------+----------------+----------------------+--------------+--------------------+---------------+---------+------------+-----------------+--------------------+--------+---------------+--------------------+\n",
      "|   CHEMBL1907602|CHEMBL4442620|Small molecule|                      2.0|     false|{20, [ENSG0000017...|{3, [EFO_0003060,...|  CHEMBL3607089|         B|       null|         8.15|         IC50|            nM|           7.0|                =|   Homo sapiens|Cyclin-dependent ...|               7|  Direct protein co...|          null|[{P06493, Cyclin-...|PROTEIN COMPLEX|   P06493|      Kinase|             8.15|                8.15|    TRUE|      INHIBITOR|       CHEMBL3559691|\n",
      "|       CHEMBL308|CHEMBL2436978|Small molecule|                     null|      null|                null|                null|  CHEMBL2439767|         B|       null|         5.95|         IC50|            nM|        1125.0|                =|   Homo sapiens|Cyclin-dependent ...|               9|  Direct single pro...|          null|[{P06493, Cyclin-...| SINGLE PROTEIN|   P06493|      Kinase|             5.95|                5.95|   FALSE|           null|                null|\n",
      "|       CHEMBL308|CHEMBL3688339|Small molecule|                     null|      null|                null|                null|  CHEMBL3991650|         B|       null|         6.54|           Kd|            nM|         288.0|                =|   Homo sapiens|Cyclin-dependent ...|               9|  Direct single pro...|          null|[{P06493, Cyclin-...| SINGLE PROTEIN|   P06493|      Kinase|             6.54|                6.54|   FALSE|           null|                null|\n",
      "|   CHEMBL1907602|CHEMBL4442620|Small molecule|                      2.0|     false|{20, [ENSG0000017...|{3, [EFO_0003060,...|  CHEMBL4613391|         B|       null|         8.15|         IC50|            nM|           7.0|                =|   Homo sapiens|Cyclin-dependent ...|               7|  Direct protein co...|          null|[{P06493, Cyclin-...|PROTEIN COMPLEX|   P06493|      Kinase|             8.15|                8.15|    TRUE|      INHIBITOR|       CHEMBL3559691|\n",
      "|   CHEMBL1907602| CHEMBL428690|Small molecule|                      3.0|     false|{6, [ENSG00000170...|{26, [EFO_0001378...|  CHEMBL3856462|         B|       null|         7.57|         IC50|            nM|          27.0|                =|   Homo sapiens|Cyclin-dependent ...|               7|  Direct protein co...|          null|[{P06493, Cyclin-...|PROTEIN COMPLEX|   P06493|      Kinase|             7.57|                7.57|   FALSE|      INHIBITOR|          CHEMBL3055|\n",
      "|   CHEMBL1907602| CHEMBL428690|Small molecule|                      3.0|     false|{6, [ENSG00000170...|{26, [EFO_0001378...|  CHEMBL3856462|         B|       null|         7.57|         IC50|            nM|          27.0|                =|   Homo sapiens|Cyclin-dependent ...|               7|  Direct protein co...|          null|[{P06493, Cyclin-...|PROTEIN COMPLEX|   P06493|      Kinase|             7.57|                7.57|   FALSE|      INHIBITOR|          CHEMBL3116|\n",
      "|   CHEMBL1907602| CHEMBL428690|Small molecule|                      3.0|     false|{6, [ENSG00000170...|{26, [EFO_0001378...|  CHEMBL3856462|         B|       null|         7.57|         IC50|            nM|          27.0|                =|   Homo sapiens|Cyclin-dependent ...|               7|  Direct protein co...|          null|[{P06493, Cyclin-...|PROTEIN COMPLEX|   P06493|      Kinase|             7.57|                7.57|   FALSE|      INHIBITOR|          CHEMBL2508|\n",
      "|   CHEMBL1907602| CHEMBL428690|Small molecule|                      3.0|     false|{6, [ENSG00000170...|{26, [EFO_0001378...|  CHEMBL3856462|         B|       null|         7.57|         IC50|            nM|          27.0|                =|   Homo sapiens|Cyclin-dependent ...|               7|  Direct protein co...|          null|[{P06493, Cyclin-...|PROTEIN COMPLEX|   P06493|      Kinase|             7.57|                7.57|   FALSE|      INHIBITOR|           CHEMBL301|\n",
      "|   CHEMBL1907602| CHEMBL428690|Small molecule|                      3.0|     false|{6, [ENSG00000170...|{26, [EFO_0001378...|  CHEMBL3856462|         B|       null|         7.57|         IC50|            nM|          27.0|                =|   Homo sapiens|Cyclin-dependent ...|               7|  Direct protein co...|          null|[{P06493, Cyclin-...|PROTEIN COMPLEX|   P06493|      Kinase|             7.57|                7.57|   FALSE|      INHIBITOR|           CHEMBL308|\n",
      "|   CHEMBL1907602| CHEMBL428690|Small molecule|                      3.0|     false|{6, [ENSG00000170...|{26, [EFO_0001378...|  CHEMBL3856462|         B|       null|         7.57|         IC50|            nM|          27.0|                =|   Homo sapiens|Cyclin-dependent ...|               7|  Direct protein co...|          null|[{P06493, Cyclin-...|PROTEIN COMPLEX|   P06493|      Kinase|             7.57|                7.57|   FALSE|      INHIBITOR|           CHEMBL331|\n",
      "|       CHEMBL308|CHEMBL2103840|Small molecule|                      3.0|     false|{4, [ENSG00000170...|{9, [EFO_0006861,...|  CHEMBL3856515|         B|       null|         8.52|         IC50|            nM|           3.0|                =|   Homo sapiens|Cyclin-dependent ...|               9|  Direct single pro...|          null|[{P06493, Cyclin-...| SINGLE PROTEIN|   P06493|      Kinase|             8.52|                8.52|    TRUE|      INHIBITOR|          CHEMBL3116|\n",
      "|       CHEMBL308|CHEMBL2103840|Small molecule|                      3.0|     false|{4, [ENSG00000170...|{9, [EFO_0006861,...|  CHEMBL3856515|         B|       null|         8.52|         IC50|            nM|           3.0|                =|   Homo sapiens|Cyclin-dependent ...|               9|  Direct single pro...|          null|[{P06493, Cyclin-...| SINGLE PROTEIN|   P06493|      Kinase|             8.52|                8.52|    TRUE|      INHIBITOR|           CHEMBL308|\n",
      "|       CHEMBL308|CHEMBL2103840|Small molecule|                      3.0|     false|{4, [ENSG00000170...|{9, [EFO_0006861,...|  CHEMBL3856515|         B|       null|         8.52|         IC50|            nM|           3.0|                =|   Homo sapiens|Cyclin-dependent ...|               9|  Direct single pro...|          null|[{P06493, Cyclin-...| SINGLE PROTEIN|   P06493|      Kinase|             8.52|                8.52|    TRUE|      INHIBITOR|          CHEMBL4036|\n",
      "|       CHEMBL308|CHEMBL2103840|Small molecule|                      3.0|     false|{4, [ENSG00000170...|{9, [EFO_0006861,...|  CHEMBL3856515|         B|       null|         8.52|         IC50|            nM|           3.0|                =|   Homo sapiens|Cyclin-dependent ...|               9|  Direct single pro...|          null|[{P06493, Cyclin-...| SINGLE PROTEIN|   P06493|      Kinase|             8.52|                8.52|    TRUE|      INHIBITOR|           CHEMBL301|\n",
      "|       CHEMBL308|CHEMBL1944698|Small molecule|                      1.0|     false|{6, [ENSG00000136...|{5, [EFO_0000182,...|  CHEMBL3856510|         B|       null|         8.52|         IC50|            nM|           3.0|                =|   Homo sapiens|Cyclin-dependent ...|               9|  Direct single pro...|          null|[{P06493, Cyclin-...| SINGLE PROTEIN|   P06493|      Kinase|             8.52|                8.52|    TRUE|      INHIBITOR|          CHEMBL3116|\n",
      "|       CHEMBL308|CHEMBL1944698|Small molecule|                      1.0|     false|{6, [ENSG00000136...|{5, [EFO_0000182,...|  CHEMBL3856510|         B|       null|         8.52|         IC50|            nM|           3.0|                =|   Homo sapiens|Cyclin-dependent ...|               9|  Direct single pro...|          null|[{P06493, Cyclin-...| SINGLE PROTEIN|   P06493|      Kinase|             8.52|                8.52|    TRUE|      INHIBITOR|          CHEMBL2971|\n",
      "|       CHEMBL308|CHEMBL1944698|Small molecule|                      1.0|     false|{6, [ENSG00000136...|{5, [EFO_0000182,...|  CHEMBL3856510|         B|       null|         8.52|         IC50|            nM|           3.0|                =|   Homo sapiens|Cyclin-dependent ...|               9|  Direct single pro...|          null|[{P06493, Cyclin-...| SINGLE PROTEIN|   P06493|      Kinase|             8.52|                8.52|    TRUE|      INHIBITOR|          CHEMBL3055|\n",
      "|       CHEMBL308|CHEMBL1944698|Small molecule|                      1.0|     false|{6, [ENSG00000136...|{5, [EFO_0000182,...|  CHEMBL3856510|         B|       null|         8.52|         IC50|            nM|           3.0|                =|   Homo sapiens|Cyclin-dependent ...|               9|  Direct single pro...|          null|[{P06493, Cyclin-...| SINGLE PROTEIN|   P06493|      Kinase|             8.52|                8.52|    TRUE|      INHIBITOR|           CHEMBL301|\n",
      "|       CHEMBL308|CHEMBL1944698|Small molecule|                      1.0|     false|{6, [ENSG00000136...|{5, [EFO_0000182,...|  CHEMBL3856510|         B|       null|         8.52|         IC50|            nM|           3.0|                =|   Homo sapiens|Cyclin-dependent ...|               9|  Direct single pro...|          null|[{P06493, Cyclin-...| SINGLE PROTEIN|   P06493|      Kinase|             8.52|                8.52|    TRUE|      INHIBITOR|          CHEMBL1974|\n",
      "|       CHEMBL308|CHEMBL1944698|Small molecule|                      1.0|     false|{6, [ENSG00000136...|{5, [EFO_0000182,...|  CHEMBL3856510|         B|       null|         8.52|         IC50|            nM|           3.0|                =|   Homo sapiens|Cyclin-dependent ...|               9|  Direct single pro...|          null|[{P06493, Cyclin-...| SINGLE PROTEIN|   P06493|      Kinase|             8.52|                8.52|    TRUE|      INHIBITOR|           CHEMBL308|\n",
      "+----------------+-------------+--------------+-------------------------+----------+--------------------+--------------------+---------------+----------+-----------+-------------+-------------+--------------+--------------+-----------------+---------------+--------------------+----------------+----------------------+--------------+--------------------+---------------+---------+------------+-----------------+--------------------+--------+---------------+--------------------+\n",
      "only showing top 20 rows\n",
      "\n"
     ]
    },
    {
     "data": {
      "text/plain": [
       "9341"
      ]
     },
     "execution_count": 154,
     "metadata": {},
     "output_type": "execute_result"
    }
   ],
   "source": [
    "# List of columns from target table\n",
    "list_mechanism = [\"action_type_moa\",\n",
    "            \"target_chembl_id_moa\"]\n",
    "\n",
    "drug_to_moa = join_dataframes(drug_active, mechanism_renamed, \"drugId\", \"molecule_chembl_id\", list_mechanism).persist()\n",
    "drug_to_moa.show()\n",
    "drug_to_moa.count()"
   ]
  },
  {
   "cell_type": "code",
   "execution_count": 39,
   "metadata": {},
   "outputs": [],
   "source": [
    "# drug_to_moa_filtered = drug_to_moa.filter(mechanism[\"molecule_chembl_id\"] == \"CHEMBL1946170\")\n",
    "# drug_to_moa_filtered.show()"
   ]
  },
  {
   "cell_type": "code",
   "execution_count": 155,
   "metadata": {},
   "outputs": [
    {
     "name": "stdout",
     "output_type": "stream",
     "text": [
      "+----------------+-------------+--------------+-------------------------+----------+--------------------+--------------------+---------------+----------+-----------+-------------+-------------+--------------+--------------+-----------------+---------------+--------------------+----------------+----------------------+--------------+--------------------+---------------+---------+------------+-----------------+--------------------+--------+---------------+--------------------+-----------+\n",
      "|target_chembl_id|       drugId|      drugType|maximumClinicalTrialPhase|isApproved|       linkedTargets|      linkedDiseases|assay_chembl_id|assay_type|action_type|pchembl_value|standard_type|standard_units|standard_value|standard_relation|target_organism|    target_pref_name|confidence_score|confidence_description|assay_category|   target_components|    target_type|accession|proteinClass|max_pchembl_value|median_pchembl_value|isActive|action_type_moa|target_chembl_id_moa|targetInMoA|\n",
      "+----------------+-------------+--------------+-------------------------+----------+--------------------+--------------------+---------------+----------+-----------+-------------+-------------+--------------+--------------+-----------------+---------------+--------------------+----------------+----------------------+--------------+--------------------+---------------+---------+------------+-----------------+--------------------+--------+---------------+--------------------+-----------+\n",
      "|   CHEMBL1907602|CHEMBL4442620|Small molecule|                      2.0|     false|{20, [ENSG0000017...|{3, [EFO_0003060,...|  CHEMBL3607089|         B|       null|         8.15|         IC50|            nM|           7.0|                =|   Homo sapiens|Cyclin-dependent ...|               7|  Direct protein co...|          null|[{P06493, Cyclin-...|PROTEIN COMPLEX|   P06493|      Kinase|             8.15|                8.15|    TRUE|      INHIBITOR|       CHEMBL3559691|      false|\n",
      "|       CHEMBL308|CHEMBL2436978|Small molecule|                     null|      null|                null|                null|  CHEMBL2439767|         B|       null|         5.95|         IC50|            nM|        1125.0|                =|   Homo sapiens|Cyclin-dependent ...|               9|  Direct single pro...|          null|[{P06493, Cyclin-...| SINGLE PROTEIN|   P06493|      Kinase|             5.95|                5.95|   FALSE|           null|                null|       null|\n",
      "|       CHEMBL308|CHEMBL3688339|Small molecule|                     null|      null|                null|                null|  CHEMBL3991650|         B|       null|         6.54|           Kd|            nM|         288.0|                =|   Homo sapiens|Cyclin-dependent ...|               9|  Direct single pro...|          null|[{P06493, Cyclin-...| SINGLE PROTEIN|   P06493|      Kinase|             6.54|                6.54|   FALSE|           null|                null|       null|\n",
      "|   CHEMBL1907602|CHEMBL4442620|Small molecule|                      2.0|     false|{20, [ENSG0000017...|{3, [EFO_0003060,...|  CHEMBL4613391|         B|       null|         8.15|         IC50|            nM|           7.0|                =|   Homo sapiens|Cyclin-dependent ...|               7|  Direct protein co...|          null|[{P06493, Cyclin-...|PROTEIN COMPLEX|   P06493|      Kinase|             8.15|                8.15|    TRUE|      INHIBITOR|       CHEMBL3559691|      false|\n",
      "|   CHEMBL1907602| CHEMBL428690|Small molecule|                      3.0|     false|{6, [ENSG00000170...|{26, [EFO_0001378...|  CHEMBL3856462|         B|       null|         7.57|         IC50|            nM|          27.0|                =|   Homo sapiens|Cyclin-dependent ...|               7|  Direct protein co...|          null|[{P06493, Cyclin-...|PROTEIN COMPLEX|   P06493|      Kinase|             7.57|                7.57|   FALSE|      INHIBITOR|          CHEMBL3055|      false|\n",
      "|   CHEMBL1907602| CHEMBL428690|Small molecule|                      3.0|     false|{6, [ENSG00000170...|{26, [EFO_0001378...|  CHEMBL3856462|         B|       null|         7.57|         IC50|            nM|          27.0|                =|   Homo sapiens|Cyclin-dependent ...|               7|  Direct protein co...|          null|[{P06493, Cyclin-...|PROTEIN COMPLEX|   P06493|      Kinase|             7.57|                7.57|   FALSE|      INHIBITOR|          CHEMBL3116|      false|\n",
      "|   CHEMBL1907602| CHEMBL428690|Small molecule|                      3.0|     false|{6, [ENSG00000170...|{26, [EFO_0001378...|  CHEMBL3856462|         B|       null|         7.57|         IC50|            nM|          27.0|                =|   Homo sapiens|Cyclin-dependent ...|               7|  Direct protein co...|          null|[{P06493, Cyclin-...|PROTEIN COMPLEX|   P06493|      Kinase|             7.57|                7.57|   FALSE|      INHIBITOR|          CHEMBL2508|      false|\n",
      "|   CHEMBL1907602| CHEMBL428690|Small molecule|                      3.0|     false|{6, [ENSG00000170...|{26, [EFO_0001378...|  CHEMBL3856462|         B|       null|         7.57|         IC50|            nM|          27.0|                =|   Homo sapiens|Cyclin-dependent ...|               7|  Direct protein co...|          null|[{P06493, Cyclin-...|PROTEIN COMPLEX|   P06493|      Kinase|             7.57|                7.57|   FALSE|      INHIBITOR|           CHEMBL301|      false|\n",
      "|   CHEMBL1907602| CHEMBL428690|Small molecule|                      3.0|     false|{6, [ENSG00000170...|{26, [EFO_0001378...|  CHEMBL3856462|         B|       null|         7.57|         IC50|            nM|          27.0|                =|   Homo sapiens|Cyclin-dependent ...|               7|  Direct protein co...|          null|[{P06493, Cyclin-...|PROTEIN COMPLEX|   P06493|      Kinase|             7.57|                7.57|   FALSE|      INHIBITOR|           CHEMBL308|      false|\n",
      "|   CHEMBL1907602| CHEMBL428690|Small molecule|                      3.0|     false|{6, [ENSG00000170...|{26, [EFO_0001378...|  CHEMBL3856462|         B|       null|         7.57|         IC50|            nM|          27.0|                =|   Homo sapiens|Cyclin-dependent ...|               7|  Direct protein co...|          null|[{P06493, Cyclin-...|PROTEIN COMPLEX|   P06493|      Kinase|             7.57|                7.57|   FALSE|      INHIBITOR|           CHEMBL331|      false|\n",
      "|       CHEMBL308|CHEMBL2103840|Small molecule|                      3.0|     false|{4, [ENSG00000170...|{9, [EFO_0006861,...|  CHEMBL3856515|         B|       null|         8.52|         IC50|            nM|           3.0|                =|   Homo sapiens|Cyclin-dependent ...|               9|  Direct single pro...|          null|[{P06493, Cyclin-...| SINGLE PROTEIN|   P06493|      Kinase|             8.52|                8.52|    TRUE|      INHIBITOR|          CHEMBL3116|       true|\n",
      "|       CHEMBL308|CHEMBL2103840|Small molecule|                      3.0|     false|{4, [ENSG00000170...|{9, [EFO_0006861,...|  CHEMBL3856515|         B|       null|         8.52|         IC50|            nM|           3.0|                =|   Homo sapiens|Cyclin-dependent ...|               9|  Direct single pro...|          null|[{P06493, Cyclin-...| SINGLE PROTEIN|   P06493|      Kinase|             8.52|                8.52|    TRUE|      INHIBITOR|           CHEMBL308|       true|\n",
      "|       CHEMBL308|CHEMBL2103840|Small molecule|                      3.0|     false|{4, [ENSG00000170...|{9, [EFO_0006861,...|  CHEMBL3856515|         B|       null|         8.52|         IC50|            nM|           3.0|                =|   Homo sapiens|Cyclin-dependent ...|               9|  Direct single pro...|          null|[{P06493, Cyclin-...| SINGLE PROTEIN|   P06493|      Kinase|             8.52|                8.52|    TRUE|      INHIBITOR|          CHEMBL4036|       true|\n",
      "|       CHEMBL308|CHEMBL2103840|Small molecule|                      3.0|     false|{4, [ENSG00000170...|{9, [EFO_0006861,...|  CHEMBL3856515|         B|       null|         8.52|         IC50|            nM|           3.0|                =|   Homo sapiens|Cyclin-dependent ...|               9|  Direct single pro...|          null|[{P06493, Cyclin-...| SINGLE PROTEIN|   P06493|      Kinase|             8.52|                8.52|    TRUE|      INHIBITOR|           CHEMBL301|       true|\n",
      "|       CHEMBL308|CHEMBL1944698|Small molecule|                      1.0|     false|{6, [ENSG00000136...|{5, [EFO_0000182,...|  CHEMBL3856510|         B|       null|         8.52|         IC50|            nM|           3.0|                =|   Homo sapiens|Cyclin-dependent ...|               9|  Direct single pro...|          null|[{P06493, Cyclin-...| SINGLE PROTEIN|   P06493|      Kinase|             8.52|                8.52|    TRUE|      INHIBITOR|          CHEMBL3116|       true|\n",
      "|       CHEMBL308|CHEMBL1944698|Small molecule|                      1.0|     false|{6, [ENSG00000136...|{5, [EFO_0000182,...|  CHEMBL3856510|         B|       null|         8.52|         IC50|            nM|           3.0|                =|   Homo sapiens|Cyclin-dependent ...|               9|  Direct single pro...|          null|[{P06493, Cyclin-...| SINGLE PROTEIN|   P06493|      Kinase|             8.52|                8.52|    TRUE|      INHIBITOR|          CHEMBL2971|       true|\n",
      "|       CHEMBL308|CHEMBL1944698|Small molecule|                      1.0|     false|{6, [ENSG00000136...|{5, [EFO_0000182,...|  CHEMBL3856510|         B|       null|         8.52|         IC50|            nM|           3.0|                =|   Homo sapiens|Cyclin-dependent ...|               9|  Direct single pro...|          null|[{P06493, Cyclin-...| SINGLE PROTEIN|   P06493|      Kinase|             8.52|                8.52|    TRUE|      INHIBITOR|          CHEMBL3055|       true|\n",
      "|       CHEMBL308|CHEMBL1944698|Small molecule|                      1.0|     false|{6, [ENSG00000136...|{5, [EFO_0000182,...|  CHEMBL3856510|         B|       null|         8.52|         IC50|            nM|           3.0|                =|   Homo sapiens|Cyclin-dependent ...|               9|  Direct single pro...|          null|[{P06493, Cyclin-...| SINGLE PROTEIN|   P06493|      Kinase|             8.52|                8.52|    TRUE|      INHIBITOR|           CHEMBL301|       true|\n",
      "|       CHEMBL308|CHEMBL1944698|Small molecule|                      1.0|     false|{6, [ENSG00000136...|{5, [EFO_0000182,...|  CHEMBL3856510|         B|       null|         8.52|         IC50|            nM|           3.0|                =|   Homo sapiens|Cyclin-dependent ...|               9|  Direct single pro...|          null|[{P06493, Cyclin-...| SINGLE PROTEIN|   P06493|      Kinase|             8.52|                8.52|    TRUE|      INHIBITOR|          CHEMBL1974|       true|\n",
      "|       CHEMBL308|CHEMBL1944698|Small molecule|                      1.0|     false|{6, [ENSG00000136...|{5, [EFO_0000182,...|  CHEMBL3856510|         B|       null|         8.52|         IC50|            nM|           3.0|                =|   Homo sapiens|Cyclin-dependent ...|               9|  Direct single pro...|          null|[{P06493, Cyclin-...| SINGLE PROTEIN|   P06493|      Kinase|             8.52|                8.52|    TRUE|      INHIBITOR|           CHEMBL308|       true|\n",
      "+----------------+-------------+--------------+-------------------------+----------+--------------------+--------------------+---------------+----------+-----------+-------------+-------------+--------------+--------------+-----------------+---------------+--------------------+----------------+----------------------+--------------+--------------------+---------------+---------+------------+-----------------+--------------------+--------+---------------+--------------------+-----------+\n",
      "only showing top 20 rows\n",
      "\n"
     ]
    },
    {
     "data": {
      "text/plain": [
       "9341"
      ]
     },
     "execution_count": 155,
     "metadata": {},
     "output_type": "execute_result"
    }
   ],
   "source": [
    "# Match target_chembl_id and target_chembl_id_moa within 1 drugId\n",
    "\n",
    "from pyspark.sql.functions import col, broadcast, when\n",
    "\n",
    "# Create a DataFrame of unique target_chembl_id_moa values\n",
    "moa_df = drug_to_moa.select(\"target_chembl_id_moa\").distinct().withColumnRenamed(\"target_chembl_id_moa\", \"moa_value\")\n",
    "\n",
    "# Join with the original DataFrame to check if target_chembl_id is in the list of moa_values\n",
    "df_joined = drug_to_moa.join(broadcast(moa_df), drug_to_moa[\"target_chembl_id\"] == moa_df[\"moa_value\"], \"left_outer\")\n",
    "\n",
    "# Add a new column targetInMoA based on the condition\n",
    "drug_to_moa_targetInMoA = df_joined.withColumn(\"targetInMoA\", \n",
    "                                           when(df_joined[\"target_chembl_id_moa\"].isNull(), None)\n",
    "                                           .otherwise(col(\"moa_value\").isNotNull())\n",
    "                                          ).select(drug_to_moa.columns + [\"targetInMoA\"])\n",
    "\n",
    "# Show the result\n",
    "drug_to_moa_targetInMoA.show()\n",
    "drug_to_moa_targetInMoA.count()"
   ]
  },
  {
   "cell_type": "code",
   "execution_count": 42,
   "metadata": {},
   "outputs": [],
   "source": [
    "# drug_to_moa_targetInMoA_filtered = drug_to_moa_targetInMoA.filter(drug_to_moa_targetInMoA[\"drugId\"] == \"CHEMBL487273\")\n",
    "# drug_to_moa_targetInMoA_filtered.show()"
   ]
  },
  {
   "cell_type": "markdown",
   "metadata": {},
   "source": [
    "### Targets: Evidence type: sources + classification for GE, clinical_GE, probes (boolean)"
   ]
  },
  {
   "cell_type": "code",
   "execution_count": 168,
   "metadata": {},
   "outputs": [
    {
     "name": "stdout",
     "output_type": "stream",
     "text": [
      "+----------+---------+---------------+--------------------+------------------+-------------------+\n",
      "|    drugId|uniprotId|       targetId|             sources|isHighQualityProbe|isTherapeuticTarget|\n",
      "+----------+---------+---------------+--------------------+------------------+-------------------+\n",
      "|CHEMBL1000|   O00167|ENSG00000064655|[ot_genetics_portal]|             false|              false|\n",
      "|CHEMBL1000|   O00555|ENSG00000141837|[uniprot_literatu...|             false|              false|\n",
      "|CHEMBL1000|   O14633|ENSG00000159455|[ot_genetics_portal]|             false|              false|\n",
      "|CHEMBL1000|   O60706|ENSG00000069431|            [chembl]|             false|               true|\n",
      "|CHEMBL1000|   P00352|ENSG00000165092|[ot_genetics_portal]|             false|              false|\n",
      "|CHEMBL1000|   P01567|ENSG00000214042|            [chembl]|             false|               true|\n",
      "|CHEMBL1000|   P04155|ENSG00000160182|[ot_genetics_portal]|             false|              false|\n",
      "|CHEMBL1000|   P20036|ENSG00000231389|[ot_genetics_portal]|             false|              false|\n",
      "|CHEMBL1000|   P35908|ENSG00000172867|              [impc]|             false|              false|\n",
      "|CHEMBL1000|   P49840|ENSG00000105723|            [chembl]|             false|               true|\n",
      "|CHEMBL1000|   P51617|ENSG00000184216|              [impc]|             false|              false|\n",
      "|CHEMBL1000|   P56270|ENSG00000103495|[ot_genetics_portal]|             false|              false|\n",
      "|CHEMBL1000|   P58511|ENSG00000205670|[ot_genetics_portal]|             false|              false|\n",
      "|CHEMBL1000|   Q03431|ENSG00000160801|            [chembl]|             false|               true|\n",
      "|CHEMBL1000|   Q06124|ENSG00000179295|[ot_genetics_portal]|             false|              false|\n",
      "|CHEMBL1000|   Q16552|ENSG00000112115|      [impc, chembl]|             false|               true|\n",
      "|CHEMBL1000|   Q7Z2W4|ENSG00000105939|[ot_genetics_portal]|             false|              false|\n",
      "|CHEMBL1000|   Q86SJ6|ENSG00000175065|              [impc]|             false|              false|\n",
      "|CHEMBL1000|   Q8N1K5|ENSG00000172673|[ot_genetics_portal]|             false|              false|\n",
      "|CHEMBL1000|   Q8N8W4|ENSG00000180316|              [impc]|             false|              false|\n",
      "+----------+---------+---------------+--------------------+------------------+-------------------+\n",
      "only showing top 20 rows\n",
      "\n"
     ]
    },
    {
     "name": "stderr",
     "output_type": "stream",
     "text": [
      "23/12/11 16:48:49 WARN CacheManager: Asked to cache already cached data.\n"
     ]
    }
   ],
   "source": [
    "# Irene's table\n",
    "evidence_path = \"gs://ot-team/irene/drug_to_target\"\n",
    "evidence = spark.read.parquet(evidence_path)\n",
    "evidence.persist()\n",
    "evidence.show()\n"
   ]
  },
  {
   "cell_type": "code",
   "execution_count": 158,
   "metadata": {},
   "outputs": [],
   "source": [
    "def join_dataframes_by_many_cols(initial_df: DataFrame, \n",
    "                    second_df: DataFrame, \n",
    "                    initial_key_columns: list, \n",
    "                    second_key_columns: list,\n",
    "                    columns_to_join: list) -> DataFrame:\n",
    "    \"\"\"\n",
    "    Joins two PySpark DataFrames on specified key columns.\n",
    "\n",
    "    Args:\n",
    "    initial_df (DataFrame): The initial PySpark DataFrame.\n",
    "    second_df (DataFrame): The second PySpark DataFrame to join with.\n",
    "    initial_key_columns (list): The key column names in the initial DataFrame.\n",
    "    second_key_columns (list): The key column names in the second DataFrame.\n",
    "    columns_to_join (list): List of column names from the second DataFrame to include in the join.\n",
    "\n",
    "    Returns:\n",
    "    DataFrame: The resulting DataFrame after the join.\n",
    "    \"\"\"\n",
    "\n",
    "    # Ensure the key columns lists have the same length\n",
    "    if len(initial_key_columns) != len(second_key_columns):\n",
    "        raise ValueError(\"Key columns lists must be of the same length\")\n",
    "\n",
    "    # Selecting specified columns from the second DataFrame, including its key columns\n",
    "    second_df_selected = second_df.select(second_key_columns + columns_to_join)\n",
    "\n",
    "    # Build join condition\n",
    "    join_condition = [initial_df[initial_col] == second_df_selected[second_col] \n",
    "                      for initial_col, second_col in zip(initial_key_columns, second_key_columns)]\n",
    "\n",
    "    # Perform the left join\n",
    "    joined_df = initial_df.join(second_df_selected, \n",
    "                                on=join_condition, \n",
    "                                how='left')\n",
    "\n",
    "    # Drop the second key columns if not needed\n",
    "    for col in second_key_columns:\n",
    "        joined_df = joined_df.drop(second_df_selected[col])\n",
    "\n",
    "    return joined_df\n"
   ]
  },
  {
   "cell_type": "code",
   "execution_count": 159,
   "metadata": {},
   "outputs": [
    {
     "name": "stderr",
     "output_type": "stream",
     "text": [
      "23/12/11 16:35:49 WARN MemoryStore: Not enough space to cache broadcast_481 in memory! (computed 6.6 GiB so far)\n",
      "23/12/11 16:35:49 WARN BlockManager: Persisting block broadcast_481 to disk instead.\n",
      "23/12/11 16:36:25 WARN MemoryStore: Not enough space to cache broadcast_481 in memory! (computed 6.6 GiB so far)\n",
      "[Stage 1927:>                                                       (0 + 1) / 1]\r"
     ]
    },
    {
     "name": "stdout",
     "output_type": "stream",
     "text": [
      "+----------------+-------------+--------------+-------------------------+----------+--------------------+--------------------+---------------+----------+-----------+-------------+-------------+--------------+--------------+-----------------+---------------+--------------------+----------------+----------------------+--------------+--------------------+---------------+---------+------------+-----------------+--------------------+--------+---------------+--------------------+-----------+---------------+--------+------------------+-------------------+\n",
      "|target_chembl_id|       drugId|      drugType|maximumClinicalTrialPhase|isApproved|       linkedTargets|      linkedDiseases|assay_chembl_id|assay_type|action_type|pchembl_value|standard_type|standard_units|standard_value|standard_relation|target_organism|    target_pref_name|confidence_score|confidence_description|assay_category|   target_components|    target_type|accession|proteinClass|max_pchembl_value|median_pchembl_value|isActive|action_type_moa|target_chembl_id_moa|targetInMoA|       targetId| sources|isHighQualityProbe|isTherapeuticTarget|\n",
      "+----------------+-------------+--------------+-------------------------+----------+--------------------+--------------------+---------------+----------+-----------+-------------+-------------+--------------+--------------+-----------------+---------------+--------------------+----------------+----------------------+--------------+--------------------+---------------+---------+------------+-----------------+--------------------+--------+---------------+--------------------+-----------+---------------+--------+------------------+-------------------+\n",
      "|   CHEMBL1907602|CHEMBL4442620|Small molecule|                      2.0|     false|{20, [ENSG0000017...|{3, [EFO_0003060,...|  CHEMBL3607089|         B|       null|         8.15|         IC50|            nM|           7.0|                =|   Homo sapiens|Cyclin-dependent ...|               7|  Direct protein co...|          null|[{P06493, Cyclin-...|PROTEIN COMPLEX|   P06493|      Kinase|             8.15|                8.15|    TRUE|      INHIBITOR|       CHEMBL3559691|      false|ENSG00000170312|[chembl]|             false|               true|\n",
      "|       CHEMBL308|CHEMBL2436978|Small molecule|                     null|      null|                null|                null|  CHEMBL2439767|         B|       null|         5.95|         IC50|            nM|        1125.0|                =|   Homo sapiens|Cyclin-dependent ...|               9|  Direct single pro...|          null|[{P06493, Cyclin-...| SINGLE PROTEIN|   P06493|      Kinase|             5.95|                5.95|   FALSE|           null|                null|       null|           null|    null|              null|               null|\n",
      "|       CHEMBL308|CHEMBL3688339|Small molecule|                     null|      null|                null|                null|  CHEMBL3991650|         B|       null|         6.54|           Kd|            nM|         288.0|                =|   Homo sapiens|Cyclin-dependent ...|               9|  Direct single pro...|          null|[{P06493, Cyclin-...| SINGLE PROTEIN|   P06493|      Kinase|             6.54|                6.54|   FALSE|           null|                null|       null|           null|    null|              null|               null|\n",
      "|   CHEMBL1907602|CHEMBL4442620|Small molecule|                      2.0|     false|{20, [ENSG0000017...|{3, [EFO_0003060,...|  CHEMBL4613391|         B|       null|         8.15|         IC50|            nM|           7.0|                =|   Homo sapiens|Cyclin-dependent ...|               7|  Direct protein co...|          null|[{P06493, Cyclin-...|PROTEIN COMPLEX|   P06493|      Kinase|             8.15|                8.15|    TRUE|      INHIBITOR|       CHEMBL3559691|      false|ENSG00000170312|[chembl]|             false|               true|\n",
      "|   CHEMBL1907602| CHEMBL428690|Small molecule|                      3.0|     false|{6, [ENSG00000170...|{26, [EFO_0001378...|  CHEMBL3856462|         B|       null|         7.57|         IC50|            nM|          27.0|                =|   Homo sapiens|Cyclin-dependent ...|               7|  Direct protein co...|          null|[{P06493, Cyclin-...|PROTEIN COMPLEX|   P06493|      Kinase|             7.57|                7.57|   FALSE|      INHIBITOR|          CHEMBL3055|      false|ENSG00000170312|[chembl]|             false|               true|\n",
      "|   CHEMBL1907602| CHEMBL428690|Small molecule|                      3.0|     false|{6, [ENSG00000170...|{26, [EFO_0001378...|  CHEMBL3856462|         B|       null|         7.57|         IC50|            nM|          27.0|                =|   Homo sapiens|Cyclin-dependent ...|               7|  Direct protein co...|          null|[{P06493, Cyclin-...|PROTEIN COMPLEX|   P06493|      Kinase|             7.57|                7.57|   FALSE|      INHIBITOR|          CHEMBL3116|      false|ENSG00000170312|[chembl]|             false|               true|\n",
      "|   CHEMBL1907602| CHEMBL428690|Small molecule|                      3.0|     false|{6, [ENSG00000170...|{26, [EFO_0001378...|  CHEMBL3856462|         B|       null|         7.57|         IC50|            nM|          27.0|                =|   Homo sapiens|Cyclin-dependent ...|               7|  Direct protein co...|          null|[{P06493, Cyclin-...|PROTEIN COMPLEX|   P06493|      Kinase|             7.57|                7.57|   FALSE|      INHIBITOR|          CHEMBL2508|      false|ENSG00000170312|[chembl]|             false|               true|\n",
      "|   CHEMBL1907602| CHEMBL428690|Small molecule|                      3.0|     false|{6, [ENSG00000170...|{26, [EFO_0001378...|  CHEMBL3856462|         B|       null|         7.57|         IC50|            nM|          27.0|                =|   Homo sapiens|Cyclin-dependent ...|               7|  Direct protein co...|          null|[{P06493, Cyclin-...|PROTEIN COMPLEX|   P06493|      Kinase|             7.57|                7.57|   FALSE|      INHIBITOR|           CHEMBL301|      false|ENSG00000170312|[chembl]|             false|               true|\n",
      "|   CHEMBL1907602| CHEMBL428690|Small molecule|                      3.0|     false|{6, [ENSG00000170...|{26, [EFO_0001378...|  CHEMBL3856462|         B|       null|         7.57|         IC50|            nM|          27.0|                =|   Homo sapiens|Cyclin-dependent ...|               7|  Direct protein co...|          null|[{P06493, Cyclin-...|PROTEIN COMPLEX|   P06493|      Kinase|             7.57|                7.57|   FALSE|      INHIBITOR|           CHEMBL308|      false|ENSG00000170312|[chembl]|             false|               true|\n",
      "|   CHEMBL1907602| CHEMBL428690|Small molecule|                      3.0|     false|{6, [ENSG00000170...|{26, [EFO_0001378...|  CHEMBL3856462|         B|       null|         7.57|         IC50|            nM|          27.0|                =|   Homo sapiens|Cyclin-dependent ...|               7|  Direct protein co...|          null|[{P06493, Cyclin-...|PROTEIN COMPLEX|   P06493|      Kinase|             7.57|                7.57|   FALSE|      INHIBITOR|           CHEMBL331|      false|ENSG00000170312|[chembl]|             false|               true|\n",
      "|       CHEMBL308|CHEMBL2103840|Small molecule|                      3.0|     false|{4, [ENSG00000170...|{9, [EFO_0006861,...|  CHEMBL3856515|         B|       null|         8.52|         IC50|            nM|           3.0|                =|   Homo sapiens|Cyclin-dependent ...|               9|  Direct single pro...|          null|[{P06493, Cyclin-...| SINGLE PROTEIN|   P06493|      Kinase|             8.52|                8.52|    TRUE|      INHIBITOR|          CHEMBL3116|       true|ENSG00000170312|[chembl]|             false|               true|\n",
      "|       CHEMBL308|CHEMBL2103840|Small molecule|                      3.0|     false|{4, [ENSG00000170...|{9, [EFO_0006861,...|  CHEMBL3856515|         B|       null|         8.52|         IC50|            nM|           3.0|                =|   Homo sapiens|Cyclin-dependent ...|               9|  Direct single pro...|          null|[{P06493, Cyclin-...| SINGLE PROTEIN|   P06493|      Kinase|             8.52|                8.52|    TRUE|      INHIBITOR|           CHEMBL308|       true|ENSG00000170312|[chembl]|             false|               true|\n",
      "|       CHEMBL308|CHEMBL2103840|Small molecule|                      3.0|     false|{4, [ENSG00000170...|{9, [EFO_0006861,...|  CHEMBL3856515|         B|       null|         8.52|         IC50|            nM|           3.0|                =|   Homo sapiens|Cyclin-dependent ...|               9|  Direct single pro...|          null|[{P06493, Cyclin-...| SINGLE PROTEIN|   P06493|      Kinase|             8.52|                8.52|    TRUE|      INHIBITOR|          CHEMBL4036|       true|ENSG00000170312|[chembl]|             false|               true|\n",
      "|       CHEMBL308|CHEMBL2103840|Small molecule|                      3.0|     false|{4, [ENSG00000170...|{9, [EFO_0006861,...|  CHEMBL3856515|         B|       null|         8.52|         IC50|            nM|           3.0|                =|   Homo sapiens|Cyclin-dependent ...|               9|  Direct single pro...|          null|[{P06493, Cyclin-...| SINGLE PROTEIN|   P06493|      Kinase|             8.52|                8.52|    TRUE|      INHIBITOR|           CHEMBL301|       true|ENSG00000170312|[chembl]|             false|               true|\n",
      "|       CHEMBL308|CHEMBL1944698|Small molecule|                      1.0|     false|{6, [ENSG00000136...|{5, [EFO_0000182,...|  CHEMBL3856510|         B|       null|         8.52|         IC50|            nM|           3.0|                =|   Homo sapiens|Cyclin-dependent ...|               9|  Direct single pro...|          null|[{P06493, Cyclin-...| SINGLE PROTEIN|   P06493|      Kinase|             8.52|                8.52|    TRUE|      INHIBITOR|          CHEMBL3116|       true|ENSG00000170312|[chembl]|             false|               true|\n",
      "|       CHEMBL308|CHEMBL1944698|Small molecule|                      1.0|     false|{6, [ENSG00000136...|{5, [EFO_0000182,...|  CHEMBL3856510|         B|       null|         8.52|         IC50|            nM|           3.0|                =|   Homo sapiens|Cyclin-dependent ...|               9|  Direct single pro...|          null|[{P06493, Cyclin-...| SINGLE PROTEIN|   P06493|      Kinase|             8.52|                8.52|    TRUE|      INHIBITOR|          CHEMBL2971|       true|ENSG00000170312|[chembl]|             false|               true|\n",
      "|       CHEMBL308|CHEMBL1944698|Small molecule|                      1.0|     false|{6, [ENSG00000136...|{5, [EFO_0000182,...|  CHEMBL3856510|         B|       null|         8.52|         IC50|            nM|           3.0|                =|   Homo sapiens|Cyclin-dependent ...|               9|  Direct single pro...|          null|[{P06493, Cyclin-...| SINGLE PROTEIN|   P06493|      Kinase|             8.52|                8.52|    TRUE|      INHIBITOR|          CHEMBL3055|       true|ENSG00000170312|[chembl]|             false|               true|\n",
      "|       CHEMBL308|CHEMBL1944698|Small molecule|                      1.0|     false|{6, [ENSG00000136...|{5, [EFO_0000182,...|  CHEMBL3856510|         B|       null|         8.52|         IC50|            nM|           3.0|                =|   Homo sapiens|Cyclin-dependent ...|               9|  Direct single pro...|          null|[{P06493, Cyclin-...| SINGLE PROTEIN|   P06493|      Kinase|             8.52|                8.52|    TRUE|      INHIBITOR|           CHEMBL301|       true|ENSG00000170312|[chembl]|             false|               true|\n",
      "|       CHEMBL308|CHEMBL1944698|Small molecule|                      1.0|     false|{6, [ENSG00000136...|{5, [EFO_0000182,...|  CHEMBL3856510|         B|       null|         8.52|         IC50|            nM|           3.0|                =|   Homo sapiens|Cyclin-dependent ...|               9|  Direct single pro...|          null|[{P06493, Cyclin-...| SINGLE PROTEIN|   P06493|      Kinase|             8.52|                8.52|    TRUE|      INHIBITOR|          CHEMBL1974|       true|ENSG00000170312|[chembl]|             false|               true|\n",
      "|       CHEMBL308|CHEMBL1944698|Small molecule|                      1.0|     false|{6, [ENSG00000136...|{5, [EFO_0000182,...|  CHEMBL3856510|         B|       null|         8.52|         IC50|            nM|           3.0|                =|   Homo sapiens|Cyclin-dependent ...|               9|  Direct single pro...|          null|[{P06493, Cyclin-...| SINGLE PROTEIN|   P06493|      Kinase|             8.52|                8.52|    TRUE|      INHIBITOR|           CHEMBL308|       true|ENSG00000170312|[chembl]|             false|               true|\n",
      "+----------------+-------------+--------------+-------------------------+----------+--------------------+--------------------+---------------+----------+-----------+-------------+-------------+--------------+--------------+-----------------+---------------+--------------------+----------------+----------------------+--------------+--------------------+---------------+---------+------------+-----------------+--------------------+--------+---------------+--------------------+-----------+---------------+--------+------------------+-------------------+\n",
      "only showing top 20 rows\n",
      "\n"
     ]
    },
    {
     "name": "stderr",
     "output_type": "stream",
     "text": [
      "                                                                                \r"
     ]
    }
   ],
   "source": [
    "# Join by drugId and uniprotId = accession\n",
    "evidence_list = [\"targetId\", \"sources\", \"isHighQualityProbe\", \"isTherapeuticTarget\"]\n",
    "\n",
    "target_evidence = join_dataframes_by_many_cols(drug_to_moa_targetInMoA, \n",
    "                                            evidence, \n",
    "                                            [\"drugId\", \"accession\"], \n",
    "                                            [\"drugId\", \"uniprotId\"], \n",
    "                                             evidence_list).persist()\n",
    "target_evidence.show()"
   ]
  },
  {
   "cell_type": "code",
   "execution_count": 160,
   "metadata": {},
   "outputs": [],
   "source": [
    "# Classification of targets by genetic evidence support\n",
    "from pyspark.sql.types import BooleanType\n",
    "\n",
    "def is_ge(sources):\n",
    "    undesired_lists = [\n",
    "        ['chembl'],\n",
    "        ['chemicalProbes'],\n",
    "        ['chembl', 'chemicalProbes'],\n",
    "        ['chemicalProbes', 'chembl']\n",
    "    ]\n",
    "    return not (sources in undesired_lists or sources is None)\n",
    "\n",
    "def contains_chemical_probes(sources):\n",
    "    return 'chemicalProbes' in sources if sources else False\n",
    "\n",
    "# Register UDFs\n",
    "is_ge_udf = udf(is_ge, BooleanType())\n",
    "is_ge_clinical_udf = udf(is_ge_clinical, BooleanType())\n",
    "contains_chemical_probes_udf = udf(contains_chemical_probes, BooleanType())"
   ]
  },
  {
   "cell_type": "code",
   "execution_count": 161,
   "metadata": {},
   "outputs": [
    {
     "name": "stdout",
     "output_type": "stream",
     "text": [
      "+----------------+-------------+--------------+-------------------------+----------+--------------------+--------------------+---------------+----------+-----------+-------------+-------------+--------------+--------------+-----------------+---------------+--------------------+----------------+----------------------+--------------+--------------------+---------------+---------+------------+-----------------+--------------------+--------+---------------+--------------------+-----------+---------------+--------+------------------+-------------------+-----+-------------+-------+\n",
      "|target_chembl_id|       drugId|      drugType|maximumClinicalTrialPhase|isApproved|       linkedTargets|      linkedDiseases|assay_chembl_id|assay_type|action_type|pchembl_value|standard_type|standard_units|standard_value|standard_relation|target_organism|    target_pref_name|confidence_score|confidence_description|assay_category|   target_components|    target_type|accession|proteinClass|max_pchembl_value|median_pchembl_value|isActive|action_type_moa|target_chembl_id_moa|targetInMoA|       targetId| sources|isHighQualityProbe|isTherapeuticTarget| isGE|isGE_clinical|isProbe|\n",
      "+----------------+-------------+--------------+-------------------------+----------+--------------------+--------------------+---------------+----------+-----------+-------------+-------------+--------------+--------------+-----------------+---------------+--------------------+----------------+----------------------+--------------+--------------------+---------------+---------+------------+-----------------+--------------------+--------+---------------+--------------------+-----------+---------------+--------+------------------+-------------------+-----+-------------+-------+\n",
      "|   CHEMBL1907602|CHEMBL4442620|Small molecule|                      2.0|     false|{20, [ENSG0000017...|{3, [EFO_0003060,...|  CHEMBL3607089|         B|       null|         8.15|         IC50|            nM|           7.0|                =|   Homo sapiens|Cyclin-dependent ...|               7|  Direct protein co...|          null|[{P06493, Cyclin-...|PROTEIN COMPLEX|   P06493|      Kinase|             8.15|                8.15|    TRUE|      INHIBITOR|       CHEMBL3559691|      false|ENSG00000170312|[chembl]|             false|               true|false|         true|  false|\n",
      "|       CHEMBL308|CHEMBL2436978|Small molecule|                     null|      null|                null|                null|  CHEMBL2439767|         B|       null|         5.95|         IC50|            nM|        1125.0|                =|   Homo sapiens|Cyclin-dependent ...|               9|  Direct single pro...|          null|[{P06493, Cyclin-...| SINGLE PROTEIN|   P06493|      Kinase|             5.95|                5.95|   FALSE|           null|                null|       null|           null|    null|              null|               null|false|        false|  false|\n",
      "|       CHEMBL308|CHEMBL3688339|Small molecule|                     null|      null|                null|                null|  CHEMBL3991650|         B|       null|         6.54|           Kd|            nM|         288.0|                =|   Homo sapiens|Cyclin-dependent ...|               9|  Direct single pro...|          null|[{P06493, Cyclin-...| SINGLE PROTEIN|   P06493|      Kinase|             6.54|                6.54|   FALSE|           null|                null|       null|           null|    null|              null|               null|false|        false|  false|\n",
      "|   CHEMBL1907602|CHEMBL4442620|Small molecule|                      2.0|     false|{20, [ENSG0000017...|{3, [EFO_0003060,...|  CHEMBL4613391|         B|       null|         8.15|         IC50|            nM|           7.0|                =|   Homo sapiens|Cyclin-dependent ...|               7|  Direct protein co...|          null|[{P06493, Cyclin-...|PROTEIN COMPLEX|   P06493|      Kinase|             8.15|                8.15|    TRUE|      INHIBITOR|       CHEMBL3559691|      false|ENSG00000170312|[chembl]|             false|               true|false|         true|  false|\n",
      "|   CHEMBL1907602| CHEMBL428690|Small molecule|                      3.0|     false|{6, [ENSG00000170...|{26, [EFO_0001378...|  CHEMBL3856462|         B|       null|         7.57|         IC50|            nM|          27.0|                =|   Homo sapiens|Cyclin-dependent ...|               7|  Direct protein co...|          null|[{P06493, Cyclin-...|PROTEIN COMPLEX|   P06493|      Kinase|             7.57|                7.57|   FALSE|      INHIBITOR|          CHEMBL3055|      false|ENSG00000170312|[chembl]|             false|               true|false|         true|  false|\n",
      "|   CHEMBL1907602| CHEMBL428690|Small molecule|                      3.0|     false|{6, [ENSG00000170...|{26, [EFO_0001378...|  CHEMBL3856462|         B|       null|         7.57|         IC50|            nM|          27.0|                =|   Homo sapiens|Cyclin-dependent ...|               7|  Direct protein co...|          null|[{P06493, Cyclin-...|PROTEIN COMPLEX|   P06493|      Kinase|             7.57|                7.57|   FALSE|      INHIBITOR|          CHEMBL3116|      false|ENSG00000170312|[chembl]|             false|               true|false|         true|  false|\n",
      "|   CHEMBL1907602| CHEMBL428690|Small molecule|                      3.0|     false|{6, [ENSG00000170...|{26, [EFO_0001378...|  CHEMBL3856462|         B|       null|         7.57|         IC50|            nM|          27.0|                =|   Homo sapiens|Cyclin-dependent ...|               7|  Direct protein co...|          null|[{P06493, Cyclin-...|PROTEIN COMPLEX|   P06493|      Kinase|             7.57|                7.57|   FALSE|      INHIBITOR|          CHEMBL2508|      false|ENSG00000170312|[chembl]|             false|               true|false|         true|  false|\n",
      "|   CHEMBL1907602| CHEMBL428690|Small molecule|                      3.0|     false|{6, [ENSG00000170...|{26, [EFO_0001378...|  CHEMBL3856462|         B|       null|         7.57|         IC50|            nM|          27.0|                =|   Homo sapiens|Cyclin-dependent ...|               7|  Direct protein co...|          null|[{P06493, Cyclin-...|PROTEIN COMPLEX|   P06493|      Kinase|             7.57|                7.57|   FALSE|      INHIBITOR|           CHEMBL301|      false|ENSG00000170312|[chembl]|             false|               true|false|         true|  false|\n",
      "|   CHEMBL1907602| CHEMBL428690|Small molecule|                      3.0|     false|{6, [ENSG00000170...|{26, [EFO_0001378...|  CHEMBL3856462|         B|       null|         7.57|         IC50|            nM|          27.0|                =|   Homo sapiens|Cyclin-dependent ...|               7|  Direct protein co...|          null|[{P06493, Cyclin-...|PROTEIN COMPLEX|   P06493|      Kinase|             7.57|                7.57|   FALSE|      INHIBITOR|           CHEMBL308|      false|ENSG00000170312|[chembl]|             false|               true|false|         true|  false|\n",
      "|   CHEMBL1907602| CHEMBL428690|Small molecule|                      3.0|     false|{6, [ENSG00000170...|{26, [EFO_0001378...|  CHEMBL3856462|         B|       null|         7.57|         IC50|            nM|          27.0|                =|   Homo sapiens|Cyclin-dependent ...|               7|  Direct protein co...|          null|[{P06493, Cyclin-...|PROTEIN COMPLEX|   P06493|      Kinase|             7.57|                7.57|   FALSE|      INHIBITOR|           CHEMBL331|      false|ENSG00000170312|[chembl]|             false|               true|false|         true|  false|\n",
      "|       CHEMBL308|CHEMBL2103840|Small molecule|                      3.0|     false|{4, [ENSG00000170...|{9, [EFO_0006861,...|  CHEMBL3856515|         B|       null|         8.52|         IC50|            nM|           3.0|                =|   Homo sapiens|Cyclin-dependent ...|               9|  Direct single pro...|          null|[{P06493, Cyclin-...| SINGLE PROTEIN|   P06493|      Kinase|             8.52|                8.52|    TRUE|      INHIBITOR|          CHEMBL3116|       true|ENSG00000170312|[chembl]|             false|               true|false|         true|  false|\n",
      "|       CHEMBL308|CHEMBL2103840|Small molecule|                      3.0|     false|{4, [ENSG00000170...|{9, [EFO_0006861,...|  CHEMBL3856515|         B|       null|         8.52|         IC50|            nM|           3.0|                =|   Homo sapiens|Cyclin-dependent ...|               9|  Direct single pro...|          null|[{P06493, Cyclin-...| SINGLE PROTEIN|   P06493|      Kinase|             8.52|                8.52|    TRUE|      INHIBITOR|           CHEMBL308|       true|ENSG00000170312|[chembl]|             false|               true|false|         true|  false|\n",
      "|       CHEMBL308|CHEMBL2103840|Small molecule|                      3.0|     false|{4, [ENSG00000170...|{9, [EFO_0006861,...|  CHEMBL3856515|         B|       null|         8.52|         IC50|            nM|           3.0|                =|   Homo sapiens|Cyclin-dependent ...|               9|  Direct single pro...|          null|[{P06493, Cyclin-...| SINGLE PROTEIN|   P06493|      Kinase|             8.52|                8.52|    TRUE|      INHIBITOR|          CHEMBL4036|       true|ENSG00000170312|[chembl]|             false|               true|false|         true|  false|\n",
      "|       CHEMBL308|CHEMBL2103840|Small molecule|                      3.0|     false|{4, [ENSG00000170...|{9, [EFO_0006861,...|  CHEMBL3856515|         B|       null|         8.52|         IC50|            nM|           3.0|                =|   Homo sapiens|Cyclin-dependent ...|               9|  Direct single pro...|          null|[{P06493, Cyclin-...| SINGLE PROTEIN|   P06493|      Kinase|             8.52|                8.52|    TRUE|      INHIBITOR|           CHEMBL301|       true|ENSG00000170312|[chembl]|             false|               true|false|         true|  false|\n",
      "|       CHEMBL308|CHEMBL1944698|Small molecule|                      1.0|     false|{6, [ENSG00000136...|{5, [EFO_0000182,...|  CHEMBL3856510|         B|       null|         8.52|         IC50|            nM|           3.0|                =|   Homo sapiens|Cyclin-dependent ...|               9|  Direct single pro...|          null|[{P06493, Cyclin-...| SINGLE PROTEIN|   P06493|      Kinase|             8.52|                8.52|    TRUE|      INHIBITOR|          CHEMBL3116|       true|ENSG00000170312|[chembl]|             false|               true|false|         true|  false|\n",
      "|       CHEMBL308|CHEMBL1944698|Small molecule|                      1.0|     false|{6, [ENSG00000136...|{5, [EFO_0000182,...|  CHEMBL3856510|         B|       null|         8.52|         IC50|            nM|           3.0|                =|   Homo sapiens|Cyclin-dependent ...|               9|  Direct single pro...|          null|[{P06493, Cyclin-...| SINGLE PROTEIN|   P06493|      Kinase|             8.52|                8.52|    TRUE|      INHIBITOR|          CHEMBL2971|       true|ENSG00000170312|[chembl]|             false|               true|false|         true|  false|\n",
      "|       CHEMBL308|CHEMBL1944698|Small molecule|                      1.0|     false|{6, [ENSG00000136...|{5, [EFO_0000182,...|  CHEMBL3856510|         B|       null|         8.52|         IC50|            nM|           3.0|                =|   Homo sapiens|Cyclin-dependent ...|               9|  Direct single pro...|          null|[{P06493, Cyclin-...| SINGLE PROTEIN|   P06493|      Kinase|             8.52|                8.52|    TRUE|      INHIBITOR|          CHEMBL3055|       true|ENSG00000170312|[chembl]|             false|               true|false|         true|  false|\n",
      "|       CHEMBL308|CHEMBL1944698|Small molecule|                      1.0|     false|{6, [ENSG00000136...|{5, [EFO_0000182,...|  CHEMBL3856510|         B|       null|         8.52|         IC50|            nM|           3.0|                =|   Homo sapiens|Cyclin-dependent ...|               9|  Direct single pro...|          null|[{P06493, Cyclin-...| SINGLE PROTEIN|   P06493|      Kinase|             8.52|                8.52|    TRUE|      INHIBITOR|           CHEMBL301|       true|ENSG00000170312|[chembl]|             false|               true|false|         true|  false|\n",
      "|       CHEMBL308|CHEMBL1944698|Small molecule|                      1.0|     false|{6, [ENSG00000136...|{5, [EFO_0000182,...|  CHEMBL3856510|         B|       null|         8.52|         IC50|            nM|           3.0|                =|   Homo sapiens|Cyclin-dependent ...|               9|  Direct single pro...|          null|[{P06493, Cyclin-...| SINGLE PROTEIN|   P06493|      Kinase|             8.52|                8.52|    TRUE|      INHIBITOR|          CHEMBL1974|       true|ENSG00000170312|[chembl]|             false|               true|false|         true|  false|\n",
      "|       CHEMBL308|CHEMBL1944698|Small molecule|                      1.0|     false|{6, [ENSG00000136...|{5, [EFO_0000182,...|  CHEMBL3856510|         B|       null|         8.52|         IC50|            nM|           3.0|                =|   Homo sapiens|Cyclin-dependent ...|               9|  Direct single pro...|          null|[{P06493, Cyclin-...| SINGLE PROTEIN|   P06493|      Kinase|             8.52|                8.52|    TRUE|      INHIBITOR|           CHEMBL308|       true|ENSG00000170312|[chembl]|             false|               true|false|         true|  false|\n",
      "+----------------+-------------+--------------+-------------------------+----------+--------------------+--------------------+---------------+----------+-----------+-------------+-------------+--------------+--------------+-----------------+---------------+--------------------+----------------+----------------------+--------------+--------------------+---------------+---------+------------+-----------------+--------------------+--------+---------------+--------------------+-----------+---------------+--------+------------------+-------------------+-----+-------------+-------+\n",
      "only showing top 20 rows\n",
      "\n"
     ]
    },
    {
     "name": "stderr",
     "output_type": "stream",
     "text": [
      "                                                                                \r"
     ]
    }
   ],
   "source": [
    "# Apply UDFs to create new columns\n",
    "target_evidence_bool = target_evidence.withColumn(\"isGE\", is_ge_udf(\"sources\"))\\\n",
    "                        .withColumn(\"isGE_clinical\", is_ge_clinical_udf(\"sources\"))\\\n",
    "                        .withColumn(\"isProbe\", contains_chemical_probes_udf(\"sources\"))\n",
    "\n",
    "target_evidence_bool.show()"
   ]
  },
  {
   "cell_type": "code",
   "execution_count": 170,
   "metadata": {},
   "outputs": [
    {
     "name": "stderr",
     "output_type": "stream",
     "text": [
      "                                                                                \r"
     ]
    },
    {
     "data": {
      "text/plain": [
       "483"
      ]
     },
     "execution_count": 170,
     "metadata": {},
     "output_type": "execute_result"
    }
   ],
   "source": [
    "drug_active_only_probes = target_evidence_bool.filter(target_evidence_bool[\"isProbe\"] == True).filter(target_evidence_bool[\"isActive\"] == True)\n",
    "count_unique_values(drug_active_only_probes, \"drugId\")"
   ]
  },
  {
   "cell_type": "code",
   "execution_count": 171,
   "metadata": {},
   "outputs": [
    {
     "name": "stderr",
     "output_type": "stream",
     "text": [
      "                                                                                \r"
     ]
    },
    {
     "data": {
      "text/plain": [
       "131"
      ]
     },
     "execution_count": 171,
     "metadata": {},
     "output_type": "execute_result"
    }
   ],
   "source": [
    "drug_active_only_probes = target_evidence_bool.filter(target_evidence_bool[\"isHighQualityProbe\"] == True).filter(target_evidence_bool[\"isActive\"] == True)\n",
    "count_unique_values(drug_active_only_probes, \"drugId\")"
   ]
  },
  {
   "cell_type": "code",
   "execution_count": 164,
   "metadata": {},
   "outputs": [
    {
     "name": "stderr",
     "output_type": "stream",
     "text": [
      "                                                                                \r"
     ]
    },
    {
     "data": {
      "text/plain": [
       "2287"
      ]
     },
     "execution_count": 164,
     "metadata": {},
     "output_type": "execute_result"
    }
   ],
   "source": [
    "count_unique_values(target_evidence_bool, \"drugId\")"
   ]
  },
  {
   "cell_type": "code",
   "execution_count": 165,
   "metadata": {},
   "outputs": [
    {
     "data": {
      "text/plain": [
       "596"
      ]
     },
     "execution_count": 165,
     "metadata": {},
     "output_type": "execute_result"
    }
   ],
   "source": [
    "target_evidence_bool_clinical = target_evidence_bool.filter(target_evidence_bool[\"isApproved\"] != \"true\")\n",
    "# target_evidence_bool_clinical.show()\n",
    "count_unique_values(target_evidence_bool_clinical, \"drugId\")"
   ]
  },
  {
   "cell_type": "code",
   "execution_count": 166,
   "metadata": {},
   "outputs": [
    {
     "name": "stderr",
     "output_type": "stream",
     "text": [
      "                                                                                \r"
     ]
    },
    {
     "data": {
      "text/plain": [
       "850"
      ]
     },
     "execution_count": 166,
     "metadata": {},
     "output_type": "execute_result"
    }
   ],
   "source": [
    "target_evidence_bool_clinical = target_evidence_bool.filter(target_evidence_bool[\"isApproved\"] == True)\n",
    "# target_evidence_bool_clinical.show()\n",
    "count_unique_values(target_evidence_bool_clinical, \"drugId\")"
   ]
  },
  {
   "cell_type": "code",
   "execution_count": 111,
   "metadata": {},
   "outputs": [
    {
     "name": "stderr",
     "output_type": "stream",
     "text": [
      "[Stage 953:=============================================>       (170 + 8) / 200]\r"
     ]
    },
    {
     "name": "stdout",
     "output_type": "stream",
     "text": [
      "+----------+-------------------+\n",
      "|isApproved|unique_drugId_count|\n",
      "+----------+-------------------+\n",
      "|      null|               1160|\n",
      "|      true|               1318|\n",
      "|     false|                895|\n",
      "+----------+-------------------+\n",
      "\n"
     ]
    },
    {
     "name": "stderr",
     "output_type": "stream",
     "text": [
      "                                                                                \r"
     ]
    }
   ],
   "source": [
    "from pyspark.sql.functions import countDistinct\n",
    "\n",
    "# Group by 'isApproved' and count distinct 'drugId's\n",
    "drugId_count = target_evidence_bool.groupBy(\"isApproved\").agg(countDistinct(\"drugId\").alias(\"unique_drugId_count\"))\n",
    "\n",
    "# Show the result\n",
    "drugId_count.show()\n"
   ]
  },
  {
   "cell_type": "code",
   "execution_count": 105,
   "metadata": {},
   "outputs": [
    {
     "data": {
      "text/plain": [
       "187"
      ]
     },
     "execution_count": 105,
     "metadata": {},
     "output_type": "execute_result"
    }
   ],
   "source": [
    "target_evidence_bool_probe_h = target_evidence_bool.filter(target_evidence_bool[\"isHighQualityProbe\"] == True)\n",
    "# target_evidence_bool_probe_h.show()\n",
    "count_unique_values(target_evidence_bool_probe_h, \"drugId\")"
   ]
  },
  {
   "cell_type": "code",
   "execution_count": 106,
   "metadata": {},
   "outputs": [
    {
     "name": "stderr",
     "output_type": "stream",
     "text": [
      "                                                                                \r"
     ]
    },
    {
     "data": {
      "text/plain": [
       "695"
      ]
     },
     "execution_count": 106,
     "metadata": {},
     "output_type": "execute_result"
    }
   ],
   "source": [
    "target_evidence_bool_probe = target_evidence_bool.filter(target_evidence_bool[\"isProbe\"] == True)\n",
    "# target_evidence_bool_probe.show()\n",
    "count_unique_values(target_evidence_bool_probe, \"drugId\")"
   ]
  },
  {
   "cell_type": "code",
   "execution_count": 175,
   "metadata": {},
   "outputs": [
    {
     "name": "stdout",
     "output_type": "stream",
     "text": [
      "+----------+-----+\n",
      "|isApproved|count|\n",
      "+----------+-----+\n",
      "|      null|  638|\n",
      "|      true|  226|\n",
      "|     false|  186|\n",
      "+----------+-----+\n",
      "\n"
     ]
    }
   ],
   "source": [
    "# No targets in MoA\n",
    "target_evidence_no_moa = target_evidence_bool\\\n",
    "                        .filter(target_evidence_bool[\"target_chembl_id_moa\"].isNull())\\\n",
    "                        .filter(target_evidence_bool[\"IsActive\"] == True)\n",
    "show_unique_values_and_counts(target_evidence_no_moa.drop_duplicates([\"drugId\", \"isApproved\"]), \"isApproved\")"
   ]
  },
  {
   "cell_type": "code",
   "execution_count": 176,
   "metadata": {},
   "outputs": [
    {
     "name": "stderr",
     "output_type": "stream",
     "text": [
      "                                                                                \r"
     ]
    },
    {
     "data": {
      "text/plain": [
       "438"
      ]
     },
     "execution_count": 176,
     "metadata": {},
     "output_type": "execute_result"
    }
   ],
   "source": [
    "# No targets in MoA for probes\n",
    "target_evidence_no_moa_probes = target_evidence_bool\\\n",
    "                        .filter(target_evidence_bool[\"target_chembl_id_moa\"].isNull())\\\n",
    "                        .filter(target_evidence_bool[\"IsActive\"] == True)\\\n",
    "                        .filter(target_evidence_bool[\"isProbe\"] == True)\n",
    "count_unique_values(target_evidence_no_moa_probes, \"drugId\")"
   ]
  },
  {
   "cell_type": "markdown",
   "metadata": {},
   "source": [
    "# Data coverage"
   ]
  },
  {
   "cell_type": "markdown",
   "metadata": {},
   "source": [
    "### Drugs"
   ]
  },
  {
   "cell_type": "code",
   "execution_count": null,
   "metadata": {},
   "outputs": [],
   "source": [
    "# Filtering by:\n",
    "#         1. max_phase ≠ 4 | max_phase = 4 | probes = TRUE\n",
    "#         2. moa = NaN | moa ≠ NaN\n",
    "#         3. drugActive = TRUE\n",
    "#         4. GE = TRUE | clinical_GE = TRUE"
   ]
  },
  {
   "cell_type": "code",
   "execution_count": null,
   "metadata": {},
   "outputs": [],
   "source": [
    "# Number of clinical candidates/approved drugs/chemical probes for which:\n",
    "#     1. there is no MoA and they are bioactive against some targets:\n",
    "#         1. which have GE/GE+clinical evidence for any disease\n",
    "#     2. there is MoA but they are bioactive against some other targets\n",
    "#         1. which have GE/GE+clinical evidence for any disease"
   ]
  },
  {
   "cell_type": "markdown",
   "metadata": {},
   "source": [
    "### Targets"
   ]
  },
  {
   "cell_type": "code",
   "execution_count": 177,
   "metadata": {},
   "outputs": [
    {
     "name": "stdout",
     "output_type": "stream",
     "text": [
      "+----------------+-------------+--------------+-------------------------+----------+--------------------+--------------------+---------------+----------+-----------+-------------+-------------+--------------+--------------+-----------------+---------------+--------------------+----------------+----------------------+--------------+--------------------+---------------+---------+------------+-----------------+--------------------+--------+---------------+--------------------+-----------+---------------+--------+------------------+-------------------+-----+-------------+-------+\n",
      "|target_chembl_id|       drugId|      drugType|maximumClinicalTrialPhase|isApproved|       linkedTargets|      linkedDiseases|assay_chembl_id|assay_type|action_type|pchembl_value|standard_type|standard_units|standard_value|standard_relation|target_organism|    target_pref_name|confidence_score|confidence_description|assay_category|   target_components|    target_type|accession|proteinClass|max_pchembl_value|median_pchembl_value|isActive|action_type_moa|target_chembl_id_moa|targetInMoA|       targetId| sources|isHighQualityProbe|isTherapeuticTarget| isGE|isGE_clinical|isProbe|\n",
      "+----------------+-------------+--------------+-------------------------+----------+--------------------+--------------------+---------------+----------+-----------+-------------+-------------+--------------+--------------+-----------------+---------------+--------------------+----------------+----------------------+--------------+--------------------+---------------+---------+------------+-----------------+--------------------+--------+---------------+--------------------+-----------+---------------+--------+------------------+-------------------+-----+-------------+-------+\n",
      "|   CHEMBL1907602|CHEMBL4442620|Small molecule|                      2.0|     false|{20, [ENSG0000017...|{3, [EFO_0003060,...|  CHEMBL3607089|         B|       null|         8.15|         IC50|            nM|           7.0|                =|   Homo sapiens|Cyclin-dependent ...|               7|  Direct protein co...|          null|[{P06493, Cyclin-...|PROTEIN COMPLEX|   P06493|      Kinase|             8.15|                8.15|    TRUE|      INHIBITOR|       CHEMBL3559691|      false|ENSG00000170312|[chembl]|             false|               true|false|         true|  false|\n",
      "|       CHEMBL308|CHEMBL2436978|Small molecule|                     null|      null|                null|                null|  CHEMBL2439767|         B|       null|         5.95|         IC50|            nM|        1125.0|                =|   Homo sapiens|Cyclin-dependent ...|               9|  Direct single pro...|          null|[{P06493, Cyclin-...| SINGLE PROTEIN|   P06493|      Kinase|             5.95|                5.95|   FALSE|           null|                null|       null|           null|    null|              null|               null|false|        false|  false|\n",
      "|       CHEMBL308|CHEMBL3688339|Small molecule|                     null|      null|                null|                null|  CHEMBL3991650|         B|       null|         6.54|           Kd|            nM|         288.0|                =|   Homo sapiens|Cyclin-dependent ...|               9|  Direct single pro...|          null|[{P06493, Cyclin-...| SINGLE PROTEIN|   P06493|      Kinase|             6.54|                6.54|   FALSE|           null|                null|       null|           null|    null|              null|               null|false|        false|  false|\n",
      "|   CHEMBL1907602|CHEMBL4442620|Small molecule|                      2.0|     false|{20, [ENSG0000017...|{3, [EFO_0003060,...|  CHEMBL4613391|         B|       null|         8.15|         IC50|            nM|           7.0|                =|   Homo sapiens|Cyclin-dependent ...|               7|  Direct protein co...|          null|[{P06493, Cyclin-...|PROTEIN COMPLEX|   P06493|      Kinase|             8.15|                8.15|    TRUE|      INHIBITOR|       CHEMBL3559691|      false|ENSG00000170312|[chembl]|             false|               true|false|         true|  false|\n",
      "|   CHEMBL1907602| CHEMBL428690|Small molecule|                      3.0|     false|{6, [ENSG00000170...|{26, [EFO_0001378...|  CHEMBL3856462|         B|       null|         7.57|         IC50|            nM|          27.0|                =|   Homo sapiens|Cyclin-dependent ...|               7|  Direct protein co...|          null|[{P06493, Cyclin-...|PROTEIN COMPLEX|   P06493|      Kinase|             7.57|                7.57|   FALSE|      INHIBITOR|          CHEMBL3055|      false|ENSG00000170312|[chembl]|             false|               true|false|         true|  false|\n",
      "|   CHEMBL1907602| CHEMBL428690|Small molecule|                      3.0|     false|{6, [ENSG00000170...|{26, [EFO_0001378...|  CHEMBL3856462|         B|       null|         7.57|         IC50|            nM|          27.0|                =|   Homo sapiens|Cyclin-dependent ...|               7|  Direct protein co...|          null|[{P06493, Cyclin-...|PROTEIN COMPLEX|   P06493|      Kinase|             7.57|                7.57|   FALSE|      INHIBITOR|          CHEMBL3116|      false|ENSG00000170312|[chembl]|             false|               true|false|         true|  false|\n",
      "|   CHEMBL1907602| CHEMBL428690|Small molecule|                      3.0|     false|{6, [ENSG00000170...|{26, [EFO_0001378...|  CHEMBL3856462|         B|       null|         7.57|         IC50|            nM|          27.0|                =|   Homo sapiens|Cyclin-dependent ...|               7|  Direct protein co...|          null|[{P06493, Cyclin-...|PROTEIN COMPLEX|   P06493|      Kinase|             7.57|                7.57|   FALSE|      INHIBITOR|          CHEMBL2508|      false|ENSG00000170312|[chembl]|             false|               true|false|         true|  false|\n",
      "|   CHEMBL1907602| CHEMBL428690|Small molecule|                      3.0|     false|{6, [ENSG00000170...|{26, [EFO_0001378...|  CHEMBL3856462|         B|       null|         7.57|         IC50|            nM|          27.0|                =|   Homo sapiens|Cyclin-dependent ...|               7|  Direct protein co...|          null|[{P06493, Cyclin-...|PROTEIN COMPLEX|   P06493|      Kinase|             7.57|                7.57|   FALSE|      INHIBITOR|           CHEMBL301|      false|ENSG00000170312|[chembl]|             false|               true|false|         true|  false|\n",
      "|   CHEMBL1907602| CHEMBL428690|Small molecule|                      3.0|     false|{6, [ENSG00000170...|{26, [EFO_0001378...|  CHEMBL3856462|         B|       null|         7.57|         IC50|            nM|          27.0|                =|   Homo sapiens|Cyclin-dependent ...|               7|  Direct protein co...|          null|[{P06493, Cyclin-...|PROTEIN COMPLEX|   P06493|      Kinase|             7.57|                7.57|   FALSE|      INHIBITOR|           CHEMBL308|      false|ENSG00000170312|[chembl]|             false|               true|false|         true|  false|\n",
      "|   CHEMBL1907602| CHEMBL428690|Small molecule|                      3.0|     false|{6, [ENSG00000170...|{26, [EFO_0001378...|  CHEMBL3856462|         B|       null|         7.57|         IC50|            nM|          27.0|                =|   Homo sapiens|Cyclin-dependent ...|               7|  Direct protein co...|          null|[{P06493, Cyclin-...|PROTEIN COMPLEX|   P06493|      Kinase|             7.57|                7.57|   FALSE|      INHIBITOR|           CHEMBL331|      false|ENSG00000170312|[chembl]|             false|               true|false|         true|  false|\n",
      "|       CHEMBL308|CHEMBL2103840|Small molecule|                      3.0|     false|{4, [ENSG00000170...|{9, [EFO_0006861,...|  CHEMBL3856515|         B|       null|         8.52|         IC50|            nM|           3.0|                =|   Homo sapiens|Cyclin-dependent ...|               9|  Direct single pro...|          null|[{P06493, Cyclin-...| SINGLE PROTEIN|   P06493|      Kinase|             8.52|                8.52|    TRUE|      INHIBITOR|          CHEMBL3116|       true|ENSG00000170312|[chembl]|             false|               true|false|         true|  false|\n",
      "|       CHEMBL308|CHEMBL2103840|Small molecule|                      3.0|     false|{4, [ENSG00000170...|{9, [EFO_0006861,...|  CHEMBL3856515|         B|       null|         8.52|         IC50|            nM|           3.0|                =|   Homo sapiens|Cyclin-dependent ...|               9|  Direct single pro...|          null|[{P06493, Cyclin-...| SINGLE PROTEIN|   P06493|      Kinase|             8.52|                8.52|    TRUE|      INHIBITOR|           CHEMBL308|       true|ENSG00000170312|[chembl]|             false|               true|false|         true|  false|\n",
      "|       CHEMBL308|CHEMBL2103840|Small molecule|                      3.0|     false|{4, [ENSG00000170...|{9, [EFO_0006861,...|  CHEMBL3856515|         B|       null|         8.52|         IC50|            nM|           3.0|                =|   Homo sapiens|Cyclin-dependent ...|               9|  Direct single pro...|          null|[{P06493, Cyclin-...| SINGLE PROTEIN|   P06493|      Kinase|             8.52|                8.52|    TRUE|      INHIBITOR|          CHEMBL4036|       true|ENSG00000170312|[chembl]|             false|               true|false|         true|  false|\n",
      "|       CHEMBL308|CHEMBL2103840|Small molecule|                      3.0|     false|{4, [ENSG00000170...|{9, [EFO_0006861,...|  CHEMBL3856515|         B|       null|         8.52|         IC50|            nM|           3.0|                =|   Homo sapiens|Cyclin-dependent ...|               9|  Direct single pro...|          null|[{P06493, Cyclin-...| SINGLE PROTEIN|   P06493|      Kinase|             8.52|                8.52|    TRUE|      INHIBITOR|           CHEMBL301|       true|ENSG00000170312|[chembl]|             false|               true|false|         true|  false|\n",
      "|       CHEMBL308|CHEMBL1944698|Small molecule|                      1.0|     false|{6, [ENSG00000136...|{5, [EFO_0000182,...|  CHEMBL3856510|         B|       null|         8.52|         IC50|            nM|           3.0|                =|   Homo sapiens|Cyclin-dependent ...|               9|  Direct single pro...|          null|[{P06493, Cyclin-...| SINGLE PROTEIN|   P06493|      Kinase|             8.52|                8.52|    TRUE|      INHIBITOR|          CHEMBL3116|       true|ENSG00000170312|[chembl]|             false|               true|false|         true|  false|\n",
      "|       CHEMBL308|CHEMBL1944698|Small molecule|                      1.0|     false|{6, [ENSG00000136...|{5, [EFO_0000182,...|  CHEMBL3856510|         B|       null|         8.52|         IC50|            nM|           3.0|                =|   Homo sapiens|Cyclin-dependent ...|               9|  Direct single pro...|          null|[{P06493, Cyclin-...| SINGLE PROTEIN|   P06493|      Kinase|             8.52|                8.52|    TRUE|      INHIBITOR|          CHEMBL2971|       true|ENSG00000170312|[chembl]|             false|               true|false|         true|  false|\n",
      "|       CHEMBL308|CHEMBL1944698|Small molecule|                      1.0|     false|{6, [ENSG00000136...|{5, [EFO_0000182,...|  CHEMBL3856510|         B|       null|         8.52|         IC50|            nM|           3.0|                =|   Homo sapiens|Cyclin-dependent ...|               9|  Direct single pro...|          null|[{P06493, Cyclin-...| SINGLE PROTEIN|   P06493|      Kinase|             8.52|                8.52|    TRUE|      INHIBITOR|          CHEMBL3055|       true|ENSG00000170312|[chembl]|             false|               true|false|         true|  false|\n",
      "|       CHEMBL308|CHEMBL1944698|Small molecule|                      1.0|     false|{6, [ENSG00000136...|{5, [EFO_0000182,...|  CHEMBL3856510|         B|       null|         8.52|         IC50|            nM|           3.0|                =|   Homo sapiens|Cyclin-dependent ...|               9|  Direct single pro...|          null|[{P06493, Cyclin-...| SINGLE PROTEIN|   P06493|      Kinase|             8.52|                8.52|    TRUE|      INHIBITOR|           CHEMBL301|       true|ENSG00000170312|[chembl]|             false|               true|false|         true|  false|\n",
      "|       CHEMBL308|CHEMBL1944698|Small molecule|                      1.0|     false|{6, [ENSG00000136...|{5, [EFO_0000182,...|  CHEMBL3856510|         B|       null|         8.52|         IC50|            nM|           3.0|                =|   Homo sapiens|Cyclin-dependent ...|               9|  Direct single pro...|          null|[{P06493, Cyclin-...| SINGLE PROTEIN|   P06493|      Kinase|             8.52|                8.52|    TRUE|      INHIBITOR|          CHEMBL1974|       true|ENSG00000170312|[chembl]|             false|               true|false|         true|  false|\n",
      "|       CHEMBL308|CHEMBL1944698|Small molecule|                      1.0|     false|{6, [ENSG00000136...|{5, [EFO_0000182,...|  CHEMBL3856510|         B|       null|         8.52|         IC50|            nM|           3.0|                =|   Homo sapiens|Cyclin-dependent ...|               9|  Direct single pro...|          null|[{P06493, Cyclin-...| SINGLE PROTEIN|   P06493|      Kinase|             8.52|                8.52|    TRUE|      INHIBITOR|           CHEMBL308|       true|ENSG00000170312|[chembl]|             false|               true|false|         true|  false|\n",
      "+----------------+-------------+--------------+-------------------------+----------+--------------------+--------------------+---------------+----------+-----------+-------------+-------------+--------------+--------------+-----------------+---------------+--------------------+----------------+----------------------+--------------+--------------------+---------------+---------+------------+-----------------+--------------------+--------+---------------+--------------------+-----------+---------------+--------+------------------+-------------------+-----+-------------+-------+\n",
      "only showing top 20 rows\n",
      "\n"
     ]
    }
   ],
   "source": [
    "# Dataset with only pchembl value activity\n",
    "target_evidence_bool.show()"
   ]
  },
  {
   "cell_type": "code",
   "execution_count": 179,
   "metadata": {},
   "outputs": [
    {
     "name": "stdout",
     "output_type": "stream",
     "text": [
      "+---------------+-----+\n",
      "|       drugType|count|\n",
      "+---------------+-----+\n",
      "| Small molecule| 9218|\n",
      "|Oligosaccharide|    2|\n",
      "|           null|    1|\n",
      "|        Protein|  113|\n",
      "|       Antibody|    4|\n",
      "|        Unknown|   14|\n",
      "+---------------+-----+\n",
      "\n"
     ]
    }
   ],
   "source": [
    "show_unique_values_and_counts(target_evidence_bool, \"drugType\")"
   ]
  },
  {
   "cell_type": "code",
   "execution_count": 182,
   "metadata": {},
   "outputs": [
    {
     "name": "stderr",
     "output_type": "stream",
     "text": [
      "                                                                                \r"
     ]
    },
    {
     "data": {
      "text/plain": [
       "326"
      ]
     },
     "execution_count": 182,
     "metadata": {},
     "output_type": "execute_result"
    }
   ],
   "source": [
    "# Number of targets supported by GE which have active bioassays\n",
    "\n",
    "targets_GE = target_evidence_bool\\\n",
    "                .filter(target_evidence_bool[\"IsActive\"] == True)\\\n",
    "                .filter(target_evidence_bool[\"isGE\"] == True)\n",
    "\n",
    "count_unique_values(targets_GE, \"target_chembl_id\")"
   ]
  },
  {
   "cell_type": "code",
   "execution_count": 184,
   "metadata": {},
   "outputs": [
    {
     "name": "stderr",
     "output_type": "stream",
     "text": [
      "                                                                                \r"
     ]
    },
    {
     "data": {
      "text/plain": [
       "431"
      ]
     },
     "execution_count": 184,
     "metadata": {},
     "output_type": "execute_result"
    }
   ],
   "source": [
    "# Number of targets supported by GE_clinical which have active bioassays\n",
    "\n",
    "targets_GE_clinical = target_evidence_bool\\\n",
    "                .filter(target_evidence_bool[\"IsActive\"] == True)\\\n",
    "                .filter(target_evidence_bool[\"isGE_clinical\"] == True)\n",
    "\n",
    "count_unique_values(targets_GE_clinical, \"target_chembl_id\")"
   ]
  },
  {
   "cell_type": "code",
   "execution_count": 185,
   "metadata": {},
   "outputs": [
    {
     "name": "stderr",
     "output_type": "stream",
     "text": [
      "                                                                                \r"
     ]
    },
    {
     "data": {
      "text/plain": [
       "115"
      ]
     },
     "execution_count": 185,
     "metadata": {},
     "output_type": "execute_result"
    }
   ],
   "source": [
    "# Number of targets supported by GE which have active bioassays and not in MoA of the drug\n",
    "\n",
    "targets_GE_noMoA = target_evidence_bool\\\n",
    "                .filter(target_evidence_bool[\"IsActive\"] == True)\\\n",
    "                .filter(target_evidence_bool[\"isGE\"] == True)\\\n",
    "                .filter(target_evidence_bool[\"targetInMoA\"] != True)\n",
    "\n",
    "count_unique_values(targets_GE_noMoA, \"target_chembl_id\")"
   ]
  },
  {
   "cell_type": "code",
   "execution_count": 186,
   "metadata": {},
   "outputs": [
    {
     "name": "stderr",
     "output_type": "stream",
     "text": [
      "                                                                                \r"
     ]
    },
    {
     "data": {
      "text/plain": [
       "145"
      ]
     },
     "execution_count": 186,
     "metadata": {},
     "output_type": "execute_result"
    }
   ],
   "source": [
    "# Number of targets supported by GE_clinical which have active bioassays and not in MoA of the drug\n",
    "\n",
    "targets_GE_clinical_noMoA = target_evidence_bool\\\n",
    "                .filter(target_evidence_bool[\"IsActive\"] == True)\\\n",
    "                .filter(target_evidence_bool[\"isGE_clinical\"] == True)\\\n",
    "                .filter(target_evidence_bool[\"targetInMoA\"] != True)\n",
    "\n",
    "count_unique_values(targets_GE_clinical_noMoA, \"target_chembl_id\")"
   ]
  },
  {
   "cell_type": "markdown",
   "metadata": {},
   "source": [
    "## Action type"
   ]
  },
  {
   "cell_type": "code",
   "execution_count": 190,
   "metadata": {},
   "outputs": [
    {
     "name": "stdout",
     "output_type": "stream",
     "text": [
      "+----------------+-------------+--------------+-------------------------+----------+--------------------+--------------------+---------------+----------+-----------+-------------+-------------+--------------+--------------+-----------------+---------------+--------------------+----------------+----------------------+--------------+--------------------+---------------+---------+------------+-----------------+--------------------+--------+---------------+--------------------+-----------+---------------+--------+------------------+-------------------+-----+-------------+-------+\n",
      "|target_chembl_id|       drugId|      drugType|maximumClinicalTrialPhase|isApproved|       linkedTargets|      linkedDiseases|assay_chembl_id|assay_type|action_type|pchembl_value|standard_type|standard_units|standard_value|standard_relation|target_organism|    target_pref_name|confidence_score|confidence_description|assay_category|   target_components|    target_type|accession|proteinClass|max_pchembl_value|median_pchembl_value|isActive|action_type_moa|target_chembl_id_moa|targetInMoA|       targetId| sources|isHighQualityProbe|isTherapeuticTarget| isGE|isGE_clinical|isProbe|\n",
      "+----------------+-------------+--------------+-------------------------+----------+--------------------+--------------------+---------------+----------+-----------+-------------+-------------+--------------+--------------+-----------------+---------------+--------------------+----------------+----------------------+--------------+--------------------+---------------+---------+------------+-----------------+--------------------+--------+---------------+--------------------+-----------+---------------+--------+------------------+-------------------+-----+-------------+-------+\n",
      "|   CHEMBL1907602|CHEMBL4442620|Small molecule|                      2.0|     false|{20, [ENSG0000017...|{3, [EFO_0003060,...|  CHEMBL3607089|         B|       null|         8.15|         IC50|            nM|           7.0|                =|   Homo sapiens|Cyclin-dependent ...|               7|  Direct protein co...|          null|[{P06493, Cyclin-...|PROTEIN COMPLEX|   P06493|      Kinase|             8.15|                8.15|    TRUE|      INHIBITOR|       CHEMBL3559691|      false|ENSG00000170312|[chembl]|             false|               true|false|         true|  false|\n",
      "|       CHEMBL308|CHEMBL2436978|Small molecule|                     null|      null|                null|                null|  CHEMBL2439767|         B|       null|         5.95|         IC50|            nM|        1125.0|                =|   Homo sapiens|Cyclin-dependent ...|               9|  Direct single pro...|          null|[{P06493, Cyclin-...| SINGLE PROTEIN|   P06493|      Kinase|             5.95|                5.95|   FALSE|           null|                null|       null|           null|    null|              null|               null|false|        false|  false|\n",
      "|       CHEMBL308|CHEMBL3688339|Small molecule|                     null|      null|                null|                null|  CHEMBL3991650|         B|       null|         6.54|           Kd|            nM|         288.0|                =|   Homo sapiens|Cyclin-dependent ...|               9|  Direct single pro...|          null|[{P06493, Cyclin-...| SINGLE PROTEIN|   P06493|      Kinase|             6.54|                6.54|   FALSE|           null|                null|       null|           null|    null|              null|               null|false|        false|  false|\n",
      "|   CHEMBL1907602|CHEMBL4442620|Small molecule|                      2.0|     false|{20, [ENSG0000017...|{3, [EFO_0003060,...|  CHEMBL4613391|         B|       null|         8.15|         IC50|            nM|           7.0|                =|   Homo sapiens|Cyclin-dependent ...|               7|  Direct protein co...|          null|[{P06493, Cyclin-...|PROTEIN COMPLEX|   P06493|      Kinase|             8.15|                8.15|    TRUE|      INHIBITOR|       CHEMBL3559691|      false|ENSG00000170312|[chembl]|             false|               true|false|         true|  false|\n",
      "|   CHEMBL1907602| CHEMBL428690|Small molecule|                      3.0|     false|{6, [ENSG00000170...|{26, [EFO_0001378...|  CHEMBL3856462|         B|       null|         7.57|         IC50|            nM|          27.0|                =|   Homo sapiens|Cyclin-dependent ...|               7|  Direct protein co...|          null|[{P06493, Cyclin-...|PROTEIN COMPLEX|   P06493|      Kinase|             7.57|                7.57|   FALSE|      INHIBITOR|          CHEMBL3055|      false|ENSG00000170312|[chembl]|             false|               true|false|         true|  false|\n",
      "|   CHEMBL1907602| CHEMBL428690|Small molecule|                      3.0|     false|{6, [ENSG00000170...|{26, [EFO_0001378...|  CHEMBL3856462|         B|       null|         7.57|         IC50|            nM|          27.0|                =|   Homo sapiens|Cyclin-dependent ...|               7|  Direct protein co...|          null|[{P06493, Cyclin-...|PROTEIN COMPLEX|   P06493|      Kinase|             7.57|                7.57|   FALSE|      INHIBITOR|          CHEMBL3116|      false|ENSG00000170312|[chembl]|             false|               true|false|         true|  false|\n",
      "|   CHEMBL1907602| CHEMBL428690|Small molecule|                      3.0|     false|{6, [ENSG00000170...|{26, [EFO_0001378...|  CHEMBL3856462|         B|       null|         7.57|         IC50|            nM|          27.0|                =|   Homo sapiens|Cyclin-dependent ...|               7|  Direct protein co...|          null|[{P06493, Cyclin-...|PROTEIN COMPLEX|   P06493|      Kinase|             7.57|                7.57|   FALSE|      INHIBITOR|          CHEMBL2508|      false|ENSG00000170312|[chembl]|             false|               true|false|         true|  false|\n",
      "|   CHEMBL1907602| CHEMBL428690|Small molecule|                      3.0|     false|{6, [ENSG00000170...|{26, [EFO_0001378...|  CHEMBL3856462|         B|       null|         7.57|         IC50|            nM|          27.0|                =|   Homo sapiens|Cyclin-dependent ...|               7|  Direct protein co...|          null|[{P06493, Cyclin-...|PROTEIN COMPLEX|   P06493|      Kinase|             7.57|                7.57|   FALSE|      INHIBITOR|           CHEMBL301|      false|ENSG00000170312|[chembl]|             false|               true|false|         true|  false|\n",
      "|   CHEMBL1907602| CHEMBL428690|Small molecule|                      3.0|     false|{6, [ENSG00000170...|{26, [EFO_0001378...|  CHEMBL3856462|         B|       null|         7.57|         IC50|            nM|          27.0|                =|   Homo sapiens|Cyclin-dependent ...|               7|  Direct protein co...|          null|[{P06493, Cyclin-...|PROTEIN COMPLEX|   P06493|      Kinase|             7.57|                7.57|   FALSE|      INHIBITOR|           CHEMBL308|      false|ENSG00000170312|[chembl]|             false|               true|false|         true|  false|\n",
      "|   CHEMBL1907602| CHEMBL428690|Small molecule|                      3.0|     false|{6, [ENSG00000170...|{26, [EFO_0001378...|  CHEMBL3856462|         B|       null|         7.57|         IC50|            nM|          27.0|                =|   Homo sapiens|Cyclin-dependent ...|               7|  Direct protein co...|          null|[{P06493, Cyclin-...|PROTEIN COMPLEX|   P06493|      Kinase|             7.57|                7.57|   FALSE|      INHIBITOR|           CHEMBL331|      false|ENSG00000170312|[chembl]|             false|               true|false|         true|  false|\n",
      "|       CHEMBL308|CHEMBL2103840|Small molecule|                      3.0|     false|{4, [ENSG00000170...|{9, [EFO_0006861,...|  CHEMBL3856515|         B|       null|         8.52|         IC50|            nM|           3.0|                =|   Homo sapiens|Cyclin-dependent ...|               9|  Direct single pro...|          null|[{P06493, Cyclin-...| SINGLE PROTEIN|   P06493|      Kinase|             8.52|                8.52|    TRUE|      INHIBITOR|          CHEMBL3116|       true|ENSG00000170312|[chembl]|             false|               true|false|         true|  false|\n",
      "|       CHEMBL308|CHEMBL2103840|Small molecule|                      3.0|     false|{4, [ENSG00000170...|{9, [EFO_0006861,...|  CHEMBL3856515|         B|       null|         8.52|         IC50|            nM|           3.0|                =|   Homo sapiens|Cyclin-dependent ...|               9|  Direct single pro...|          null|[{P06493, Cyclin-...| SINGLE PROTEIN|   P06493|      Kinase|             8.52|                8.52|    TRUE|      INHIBITOR|           CHEMBL308|       true|ENSG00000170312|[chembl]|             false|               true|false|         true|  false|\n",
      "|       CHEMBL308|CHEMBL2103840|Small molecule|                      3.0|     false|{4, [ENSG00000170...|{9, [EFO_0006861,...|  CHEMBL3856515|         B|       null|         8.52|         IC50|            nM|           3.0|                =|   Homo sapiens|Cyclin-dependent ...|               9|  Direct single pro...|          null|[{P06493, Cyclin-...| SINGLE PROTEIN|   P06493|      Kinase|             8.52|                8.52|    TRUE|      INHIBITOR|          CHEMBL4036|       true|ENSG00000170312|[chembl]|             false|               true|false|         true|  false|\n",
      "|       CHEMBL308|CHEMBL2103840|Small molecule|                      3.0|     false|{4, [ENSG00000170...|{9, [EFO_0006861,...|  CHEMBL3856515|         B|       null|         8.52|         IC50|            nM|           3.0|                =|   Homo sapiens|Cyclin-dependent ...|               9|  Direct single pro...|          null|[{P06493, Cyclin-...| SINGLE PROTEIN|   P06493|      Kinase|             8.52|                8.52|    TRUE|      INHIBITOR|           CHEMBL301|       true|ENSG00000170312|[chembl]|             false|               true|false|         true|  false|\n",
      "|       CHEMBL308|CHEMBL1944698|Small molecule|                      1.0|     false|{6, [ENSG00000136...|{5, [EFO_0000182,...|  CHEMBL3856510|         B|       null|         8.52|         IC50|            nM|           3.0|                =|   Homo sapiens|Cyclin-dependent ...|               9|  Direct single pro...|          null|[{P06493, Cyclin-...| SINGLE PROTEIN|   P06493|      Kinase|             8.52|                8.52|    TRUE|      INHIBITOR|          CHEMBL3116|       true|ENSG00000170312|[chembl]|             false|               true|false|         true|  false|\n",
      "|       CHEMBL308|CHEMBL1944698|Small molecule|                      1.0|     false|{6, [ENSG00000136...|{5, [EFO_0000182,...|  CHEMBL3856510|         B|       null|         8.52|         IC50|            nM|           3.0|                =|   Homo sapiens|Cyclin-dependent ...|               9|  Direct single pro...|          null|[{P06493, Cyclin-...| SINGLE PROTEIN|   P06493|      Kinase|             8.52|                8.52|    TRUE|      INHIBITOR|          CHEMBL2971|       true|ENSG00000170312|[chembl]|             false|               true|false|         true|  false|\n",
      "|       CHEMBL308|CHEMBL1944698|Small molecule|                      1.0|     false|{6, [ENSG00000136...|{5, [EFO_0000182,...|  CHEMBL3856510|         B|       null|         8.52|         IC50|            nM|           3.0|                =|   Homo sapiens|Cyclin-dependent ...|               9|  Direct single pro...|          null|[{P06493, Cyclin-...| SINGLE PROTEIN|   P06493|      Kinase|             8.52|                8.52|    TRUE|      INHIBITOR|          CHEMBL3055|       true|ENSG00000170312|[chembl]|             false|               true|false|         true|  false|\n",
      "|       CHEMBL308|CHEMBL1944698|Small molecule|                      1.0|     false|{6, [ENSG00000136...|{5, [EFO_0000182,...|  CHEMBL3856510|         B|       null|         8.52|         IC50|            nM|           3.0|                =|   Homo sapiens|Cyclin-dependent ...|               9|  Direct single pro...|          null|[{P06493, Cyclin-...| SINGLE PROTEIN|   P06493|      Kinase|             8.52|                8.52|    TRUE|      INHIBITOR|           CHEMBL301|       true|ENSG00000170312|[chembl]|             false|               true|false|         true|  false|\n",
      "|       CHEMBL308|CHEMBL1944698|Small molecule|                      1.0|     false|{6, [ENSG00000136...|{5, [EFO_0000182,...|  CHEMBL3856510|         B|       null|         8.52|         IC50|            nM|           3.0|                =|   Homo sapiens|Cyclin-dependent ...|               9|  Direct single pro...|          null|[{P06493, Cyclin-...| SINGLE PROTEIN|   P06493|      Kinase|             8.52|                8.52|    TRUE|      INHIBITOR|          CHEMBL1974|       true|ENSG00000170312|[chembl]|             false|               true|false|         true|  false|\n",
      "|       CHEMBL308|CHEMBL1944698|Small molecule|                      1.0|     false|{6, [ENSG00000136...|{5, [EFO_0000182,...|  CHEMBL3856510|         B|       null|         8.52|         IC50|            nM|           3.0|                =|   Homo sapiens|Cyclin-dependent ...|               9|  Direct single pro...|          null|[{P06493, Cyclin-...| SINGLE PROTEIN|   P06493|      Kinase|             8.52|                8.52|    TRUE|      INHIBITOR|           CHEMBL308|       true|ENSG00000170312|[chembl]|             false|               true|false|         true|  false|\n",
      "+----------------+-------------+--------------+-------------------------+----------+--------------------+--------------------+---------------+----------+-----------+-------------+-------------+--------------+--------------+-----------------+---------------+--------------------+----------------+----------------------+--------------+--------------------+---------------+---------+------------+-----------------+--------------------+--------+---------------+--------------------+-----------+---------------+--------+------------------+-------------------+-----+-------------+-------+\n",
      "only showing top 20 rows\n",
      "\n"
     ]
    },
    {
     "data": {
      "text/plain": [
       "9352"
      ]
     },
     "execution_count": 190,
     "metadata": {},
     "output_type": "execute_result"
    }
   ],
   "source": [
    "# Taking table target_organism_filter (after pchembl filter)\n",
    "\n",
    "target_evidence_bool.show()\n",
    "target_evidence_bool.count()"
   ]
  },
  {
   "cell_type": "code",
   "execution_count": 192,
   "metadata": {},
   "outputs": [
    {
     "data": {
      "text/plain": [
       "2287"
      ]
     },
     "execution_count": 192,
     "metadata": {},
     "output_type": "execute_result"
    }
   ],
   "source": [
    "count_unique_values(target_evidence_bool, \"drugId\")"
   ]
  },
  {
   "cell_type": "code",
   "execution_count": 191,
   "metadata": {},
   "outputs": [
    {
     "name": "stdout",
     "output_type": "stream",
     "text": [
      "+--------------------+-----+\n",
      "|     action_type_moa|count|\n",
      "+--------------------+-----+\n",
      "|  NEGATIVE MODULATOR|    1|\n",
      "|NEGATIVE ALLOSTER...|    4|\n",
      "|          ANTAGONIST|  166|\n",
      "|                null| 1442|\n",
      "|       BINDING AGENT|    1|\n",
      "|     PARTIAL AGONIST|    8|\n",
      "|           ACTIVATOR|    1|\n",
      "|             BLOCKER|   42|\n",
      "|    DISRUPTING AGENT|    4|\n",
      "|           INHIBITOR|  491|\n",
      "|           SUBSTRATE|    1|\n",
      "|POSITIVE ALLOSTER...|    8|\n",
      "|     CHELATING AGENT|    1|\n",
      "|  POSITIVE MODULATOR|    4|\n",
      "|             AGONIST|  117|\n",
      "|              OPENER|    5|\n",
      "|     INVERSE AGONIST|    4|\n",
      "|     RELEASING AGENT|    1|\n",
      "|           MODULATOR|    8|\n",
      "|      REDUCING AGENT|    1|\n",
      "+--------------------+-----+\n",
      "only showing top 20 rows\n",
      "\n"
     ]
    }
   ],
   "source": [
    "show_unique_values_and_counts(target_evidence_bool.drop_duplicates([\"drugId\", \"action_type_moa\"]), \"action_type_moa\")"
   ]
  },
  {
   "cell_type": "code",
   "execution_count": null,
   "metadata": {},
   "outputs": [
    {
     "name": "stdout",
     "output_type": "stream",
     "text": [
      "+--------------------+------+\n",
      "|         action_type| count|\n",
      "+--------------------+------+\n",
      "|                null|211437|\n",
      "|{INHIBITOR, Negat...|   124|\n",
      "|{SUBSTRATE, Carri...|    47|\n",
      "|{ANTAGONIST, Bind...|    41|\n",
      "|{INVERSE AGONIST,...|     2|\n",
      "|{AGONIST, Binds t...|     4|\n",
      "|{ACTIVATOR, Posit...|     1|\n",
      "+--------------------+------+\n",
      "\n"
     ]
    }
   ],
   "source": [
    "show_unique_values_and_counts(drug_to_moa, \"action_type\")"
   ]
  },
  {
   "cell_type": "markdown",
   "metadata": {},
   "source": [
    "### Drug-Target pairs"
   ]
  },
  {
   "cell_type": "code",
   "execution_count": null,
   "metadata": {},
   "outputs": [],
   "source": [
    "# With non pharmacological action\n"
   ]
  },
  {
   "cell_type": "markdown",
   "metadata": {},
   "source": []
  }
 ],
 "metadata": {
  "kernelspec": {
   "display_name": "base",
   "language": "python",
   "name": "python3"
  },
  "language_info": {
   "codemirror_mode": {
    "name": "ipython",
    "version": 3
   },
   "file_extension": ".py",
   "mimetype": "text/x-python",
   "name": "python",
   "nbconvert_exporter": "python",
   "pygments_lexer": "ipython3",
   "version": "3.10.8"
  },
  "orig_nbformat": 4
 },
 "nbformat": 4,
 "nbformat_minor": 2
}
