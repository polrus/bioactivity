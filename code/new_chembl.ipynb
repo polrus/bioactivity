{
 "cells": [
  {
   "cell_type": "code",
   "execution_count": 1,
   "metadata": {},
   "outputs": [],
   "source": [
    "from pyspark.sql import SparkSession\n",
    "import pyspark.sql.functions as f\n",
    "\n",
    "spark = SparkSession.builder.getOrCreate()"
   ]
  },
  {
   "cell_type": "markdown",
   "metadata": {},
   "source": [
    "# Check ChEMBL activity data in new dir"
   ]
  },
  {
   "cell_type": "code",
   "execution_count": 3,
   "metadata": {},
   "outputs": [
    {
     "name": "stderr",
     "output_type": "stream",
     "text": [
      "                                                                                \r"
     ]
    },
    {
     "name": "stdout",
     "output_type": "stream",
     "text": [
      "+--------------------+-----------+---------------+----------+-----------------------+----------------------+---------------------+-------------------------+------------------+-------------+-----------------+------------------+-------------+-------------+-----------------+-------------------+-------------+--------------+--------------+----------------+--------------------+--------------------+\n",
      "|           _metadata|action_type|assay_chembl_id|assay_type|assay_variant_accession|assay_variant_mutation|data_validity_comment|data_validity_description|document_chembl_id|document_year|ligand_efficiency|molecule_chembl_id|pchembl_value|standard_flag|standard_relation|standard_text_value|standard_type|standard_units|standard_value|target_chembl_id|     target_organism|    target_pref_name|\n",
      "+--------------------+-----------+---------------+----------+-----------------------+----------------------+---------------------+-------------------------+------------------+-------------+-----------------+------------------+-------------+-------------+-----------------+-------------------+-------------+--------------+--------------+----------------+--------------------+--------------------+\n",
      "|{{null, Plasmodiu...|       null|  CHEMBL1067624|         F|                   null|                  null|                 null|                     null|     CHEMBL1157729|         2010|             null|      CHEMBL403233|         null|            1|                =|               null|   Inhibition|             %|         100.0|    CHEMBL612653|  Plasmodium berghei|  Plasmodium berghei|\n",
      "|{{CEM-SS, Homo sa...|       null|   CHEMBL659223|         F|                   null|                  null|                 null|                     null|     CHEMBL1134284|         2001|             null|      CHEMBL133395|         null|            0|             null|               null|         EC50|            nM|          null|    CHEMBL614548|        Homo sapiens|              CEM-SS|\n",
      "|{{null, Homo sapi...|       null|  CHEMBL1614079|         F|                   null|                  null|                 null|                     null|     CHEMBL1201862|         null|             null|     CHEMBL1453871|         4.10|            1|                =|               null|      Potency|            nM|       79432.8|      CHEMBL2392|        Homo sapiens| DNA polymerase beta|\n",
      "|{{Caco-2, Homo sa...|       null|   CHEMBL859786|         A|                   null|                  null|                 null|                     null|     CHEMBL1146077|         2006|             null|      CHEMBL206300|         null|            0|                =|               null|         Papp|         ucm/s|          12.5|    CHEMBL614058|        Homo sapiens|              Caco-2|\n",
      "|{{SF-539, null, [...|       null|  CHEMBL1964018|         F|                   null|                  null|                 null|                     null|     CHEMBL1201862|         null|             null|      CHEMBL277981|         null|            1|             null|               null|         GI50|            nM|       1253.14|    CHEMBL614860|        Homo sapiens|              SF-539|\n",
      "|{{null, Candida a...|       null|   CHEMBL958797|         F|                   null|                  null|                 null|                     null|     CHEMBL1157378|         2007|             null|         CHEMBL106|         null|            1|                =|               null|        MIC80|       ug.mL-1|           2.0|       CHEMBL366|    Candida albicans|    Candida albicans|\n",
      "|{{null, Homo sapi...|       null|   CHEMBL926687|         A|                   null|                  null|                 null|                     null|     CHEMBL1141299|         2007|             null|        CHEMBL1043|         null|            1|                =|               null|            F|             %|          93.0|       CHEMBL372|        Homo sapiens|        Homo sapiens|\n",
      "|{{null, null, [],...|       null|  CHEMBL1244995|         B|                   null|                  null|                 null|                     null|     CHEMBL1240346|         2009|             null|     CHEMBL1240703|         null|            1|                >|               null|           Kd|            nM|       10000.0|      CHEMBL5261|        Homo sapiens|Serine/threonine-...|\n",
      "|{{null, Trypanoso...|       null|  CHEMBL1026360|         B|                   null|                  null|                 null|                     null|     CHEMBL1143323|         2009|             null|      CHEMBL481199|         null|            0|                =|               null|     Activity|             %|           2.4|    CHEMBL612545|                null|           Unchecked|\n",
      "|{{HFF, Homo sapie...|       null|   CHEMBL700641|         A|                   null|                  null|                 null|                     null|     CHEMBL1124846|         1990|             null|         CHEMBL184|         null|            1|                >|               null|         IC50|            nM|      100000.0|    CHEMBL612558|                null|               ADMET|\n",
      "|{{null, Homo sapi...|       null|  CHEMBL1614031|         F|                   null|                  null|                 null|                     null|     CHEMBL1201862|         null|             null|     CHEMBL1609610|         4.30|            1|                =|               null|      Potency|            nM|       50118.7|      CHEMBL2608|        Homo sapiens|Lysosomal alpha-g...|\n",
      "|{{null, null, [],...|       null|   CHEMBL866488|         B|                   null|                  null|                 null|                     null|     CHEMBL1138125|         2006|             null|      CHEMBL204449|         null|            0|                =|               null|     Activity|             %|          10.0|   CHEMBL2096670|        Homo sapiens|Glutamate recepto...|\n",
      "|{{Malme-3M, null,...|       null|  CHEMBL1964025|         F|                   null|                  null|                 null|                     null|     CHEMBL1201862|         null|             null|     CHEMBL1971073|         null|            1|             null|               null|         GI50|            nM|      100000.0|    CHEMBL614021|        Homo sapiens|            Malme-3M|\n",
      "|{{null, null, [],...|       null|   CHEMBL954351|         A|                   null|                  null|                 null|                     null|     CHEMBL1153373|         2009|             null|      CHEMBL373496|         null|            0|                =|               null|           TI|          null|         100.0|    CHEMBL612558|                null|               ADMET|\n",
      "|{{SK-OV-3, Homo s...|       null|   CHEMBL940752|         F|                   null|                  null|                 null|                     null|     CHEMBL1139778|         2007|             null|      CHEMBL399927|         null|            1|                =|               null|         GI50|            nM|       48800.0|    CHEMBL614925|        Homo sapiens|             SK-OV-3|\n",
      "|{{null, Escherich...|       null|  CHEMBL1244618|         B|                   null|                  null|                 null|                     null|     CHEMBL1240343|         2009|             null|     CHEMBL1231347|         null|            0|                =|               null|           FC|          null|           6.0|   CHEMBL1250346|Escherichia coli ...|5'-methylthioaden...|\n",
      "|{{HOP-62, Homo sa...|       null|  CHEMBL1073272|         F|                   null|                  null|                 null|                     null|     CHEMBL1153245|         2010|             null|      CHEMBL593850|         null|            0|                =|               null|     Activity|             %|         90.22|    CHEMBL614643|        Homo sapiens|              HOP-62|\n",
      "|{{null, Rattus no...|       null|   CHEMBL775998|         F|                   null|                  null|                 null|                     null|     CHEMBL1125890|         1991|             null|       CHEMBL99677|         null|            0|                =|               null|       Change|             %|          -6.0|       CHEMBL376|   Rattus norvegicus|   Rattus norvegicus|\n",
      "|{{null, Homo sapi...|       null|  CHEMBL1614154|         F|                   null|                  null|                 null|                     null|     CHEMBL1201862|         null|             null|     CHEMBL1091057|         6.15|            1|                =|               null|      Potency|            nM|         712.7|   CHEMBL1075189|        Homo sapiens|Pyruvate kinase i...|\n",
      "|{{null, Homo sapi...|       null|   CHEMBL860948|         A|                   null|                  null|                 null|                     null|     CHEMBL1146077|         2006|             null|        CHEMBL1294|         7.70|            1|                =|               null|         IC50|            nM|          20.0|       CHEMBL289|        Homo sapiens| Cytochrome P450 2D6|\n",
      "+--------------------+-----------+---------------+----------+-----------------------+----------------------+---------------------+-------------------------+------------------+-------------+-----------------+------------------+-------------+-------------+-----------------+-------------------+-------------+--------------+--------------+----------------+--------------------+--------------------+\n",
      "only showing top 20 rows\n",
      "\n"
     ]
    }
   ],
   "source": [
    "activity_path = \"gs://open-targets-pre-data-releases/chembl-columns/chembl-inputs/chembl_33_activity.jsonl\"\n",
    "\n",
    "activity = spark.read.json(activity_path)\n",
    "activity.show()"
   ]
  },
  {
   "cell_type": "code",
   "execution_count": null,
   "metadata": {},
   "outputs": [],
   "source": []
  },
  {
   "cell_type": "code",
   "execution_count": null,
   "metadata": {},
   "outputs": [],
   "source": []
  },
  {
   "cell_type": "code",
   "execution_count": null,
   "metadata": {},
   "outputs": [],
   "source": []
  }
 ],
 "metadata": {
  "kernelspec": {
   "display_name": "PySpark",
   "language": "python",
   "name": "pyspark"
  },
  "language_info": {
   "codemirror_mode": {
    "name": "ipython",
    "version": 3
   },
   "file_extension": ".py",
   "mimetype": "text/x-python",
   "name": "python",
   "nbconvert_exporter": "python",
   "pygments_lexer": "ipython3",
   "version": "3.10.8"
  },
  "orig_nbformat": 4
 },
 "nbformat": 4,
 "nbformat_minor": 2
}
