{
 "cells": [
  {
   "cell_type": "code",
   "execution_count": 15,
   "metadata": {},
   "outputs": [],
   "source": [
    "from pyspark.sql import SparkSession\n",
    "import pyspark.sql.functions as f\n",
    "from pyspark.sql import DataFrame\n",
    "from pyspark.sql.functions import col"
   ]
  },
  {
   "cell_type": "code",
   "execution_count": null,
   "metadata": {},
   "outputs": [],
   "source": [
    "spark = SparkSession.builder.getOrCreate()"
   ]
  },
  {
   "cell_type": "markdown",
   "metadata": {},
   "source": [
    "# Data parsing"
   ]
  },
  {
   "cell_type": "code",
   "execution_count": 6,
   "metadata": {},
   "outputs": [
    {
     "name": "stdout",
     "output_type": "stream",
     "text": [
      "+-------------+\n",
      "|       drugId|\n",
      "+-------------+\n",
      "|CHEMBL1200632|\n",
      "|   CHEMBL1231|\n",
      "|CHEMBL1233511|\n",
      "|   CHEMBL1637|\n",
      "|CHEMBL1743017|\n",
      "| CHEMBL185885|\n",
      "|CHEMBL1949708|\n",
      "|CHEMBL2105675|\n",
      "|CHEMBL2107826|\n",
      "|CHEMBL2109673|\n",
      "|CHEMBL2346976|\n",
      "| CHEMBL279115|\n",
      "|CHEMBL3181832|\n",
      "|CHEMBL3545096|\n",
      "|CHEMBL3545103|\n",
      "|CHEMBL3545145|\n",
      "|CHEMBL3545312|\n",
      "| CHEMBL363648|\n",
      "|CHEMBL3707249|\n",
      "|CHEMBL3989766|\n",
      "+-------------+\n",
      "only showing top 20 rows\n",
      "\n"
     ]
    }
   ],
   "source": [
    "# Take list of unique drugs (obtained from target with evidence in Platform or chemProbes)\n",
    "\n",
    "drug_list_dir = \"/Users/polina/Documents/Bioactivity/bioactivity-1/data/drug_to_target_unique_drugs.csv\"\n",
    "drug_list = spark.read.csv(drug_list_dir, header=True, inferSchema=True)\n",
    "drug_list.show()"
   ]
  },
  {
   "cell_type": "markdown",
   "metadata": {},
   "source": [
    "### For each unique drug find bioactivity data from chembl_33_activity"
   ]
  },
  {
   "cell_type": "code",
   "execution_count": 7,
   "metadata": {},
   "outputs": [
    {
     "name": "stderr",
     "output_type": "stream",
     "text": [
      "                                                                                \r"
     ]
    }
   ],
   "source": [
    "activity_path = \"gs://open-targets-pre-data-releases/chembl-columns/chembl-inputs/chembl_33_activity.jsonl\"\n",
    "activity = spark.read.json(activity_path)"
   ]
  },
  {
   "cell_type": "code",
   "execution_count": 42,
   "metadata": {},
   "outputs": [
    {
     "name": "stderr",
     "output_type": "stream",
     "text": [
      "23/12/06 17:11:01 WARN CacheManager: Asked to cache already cached data.\n"
     ]
    },
    {
     "data": {
      "text/plain": [
       "DataFrame[_metadata: struct<assay_data:struct<assay_cell_type:string,assay_organism:string,assay_parameters:array<struct<active:bigint,comments:string,relation:string,standard_relation:string,standard_text_value:string,standard_type:string,standard_type_fixed:bigint,standard_units:string,standard_value:string,text_value:string,type:string,units:string,value:string>>,assay_strain:string,assay_subcellular_fraction:string,assay_tax_id:bigint,assay_tissue:string,assay_type:string,cell_chembl_id:string,src_desc:string,src_id:bigint,tissue_chembl_id:string,type_label:string>,document_data:struct<first_page:string,pubmed_id:bigint,volume:string,year:bigint>,organism_taxonomy:struct<l1:string,l2:string,l3:string,oc_id:bigint,tax_id:bigint>,parent_molecule_data:struct<alogp:string,compound_key:string,full_mwt:string,image_file:string,max_phase:string,max_phase_label:string,num_ro5_violations:bigint,psa:string>,protein_classification:array<struct<l1:string,l1_definition:string,l1_desc:string,l1_short:string,l2:string,l2_definition:string,l2_desc:string,l2_short:string,l3:string,l3_definition:string,l3_desc:string,l3_short:string,l4:string,l4_definition:string,l4_desc:string,l4_short:string,l5:string,l5_definition:string,l5_desc:string,l5_short:string,l6:string,l6_definition:string,l6_desc:string,l6_short:string,protein_class_id:bigint>>,source:struct<src_description:string,src_id:bigint,src_short_name:string>,target_data:struct<target_type:string>>, action_type: struct<action_type:string,description:string,parent_type:string>, assay_chembl_id: string, assay_type: string, assay_variant_accession: string, assay_variant_mutation: string, data_validity_comment: string, data_validity_description: string, document_chembl_id: string, document_year: bigint, ligand_efficiency: struct<bei:string,le:string,lle:string,sei:string>, molecule_chembl_id: string, pchembl_value: string, standard_flag: bigint, standard_relation: string, standard_text_value: string, standard_type: string, standard_units: string, standard_value: string, target_chembl_id: string, target_organism: string, target_pref_name: string]"
      ]
     },
     "execution_count": 42,
     "metadata": {},
     "output_type": "execute_result"
    }
   ],
   "source": [
    "activity.persist()"
   ]
  },
  {
   "cell_type": "code",
   "execution_count": 18,
   "metadata": {},
   "outputs": [
    {
     "name": "stdout",
     "output_type": "stream",
     "text": [
      "+--------------------+-----------+---------------+----------+-----------------------+----------------------+---------------------+-------------------------+------------------+-------------+-----------------+------------------+-------------+-------------+-----------------+-------------------+-------------+--------------+--------------+----------------+--------------------+--------------------+\n",
      "|           _metadata|action_type|assay_chembl_id|assay_type|assay_variant_accession|assay_variant_mutation|data_validity_comment|data_validity_description|document_chembl_id|document_year|ligand_efficiency|molecule_chembl_id|pchembl_value|standard_flag|standard_relation|standard_text_value|standard_type|standard_units|standard_value|target_chembl_id|     target_organism|    target_pref_name|\n",
      "+--------------------+-----------+---------------+----------+-----------------------+----------------------+---------------------+-------------------------+------------------+-------------+-----------------+------------------+-------------+-------------+-----------------+-------------------+-------------+--------------+--------------+----------------+--------------------+--------------------+\n",
      "|{{NULL, Plasmodiu...|       NULL|  CHEMBL1067624|         F|                   NULL|                  NULL|                 NULL|                     NULL|     CHEMBL1157729|         2010|             NULL|      CHEMBL403233|         NULL|            1|                =|               NULL|   Inhibition|             %|         100.0|    CHEMBL612653|  Plasmodium berghei|  Plasmodium berghei|\n",
      "|{{CEM-SS, Homo sa...|       NULL|   CHEMBL659223|         F|                   NULL|                  NULL|                 NULL|                     NULL|     CHEMBL1134284|         2001|             NULL|      CHEMBL133395|         NULL|            0|             NULL|               NULL|         EC50|            nM|          NULL|    CHEMBL614548|        Homo sapiens|              CEM-SS|\n",
      "|{{NULL, Homo sapi...|       NULL|  CHEMBL1614079|         F|                   NULL|                  NULL|                 NULL|                     NULL|     CHEMBL1201862|         NULL|             NULL|     CHEMBL1453871|         4.10|            1|                =|               NULL|      Potency|            nM|       79432.8|      CHEMBL2392|        Homo sapiens| DNA polymerase beta|\n",
      "|{{Caco-2, Homo sa...|       NULL|   CHEMBL859786|         A|                   NULL|                  NULL|                 NULL|                     NULL|     CHEMBL1146077|         2006|             NULL|      CHEMBL206300|         NULL|            0|                =|               NULL|         Papp|         ucm/s|          12.5|    CHEMBL614058|        Homo sapiens|              Caco-2|\n",
      "|{{SF-539, NULL, [...|       NULL|  CHEMBL1964018|         F|                   NULL|                  NULL|                 NULL|                     NULL|     CHEMBL1201862|         NULL|             NULL|      CHEMBL277981|         NULL|            1|             NULL|               NULL|         GI50|            nM|       1253.14|    CHEMBL614860|        Homo sapiens|              SF-539|\n",
      "|{{NULL, Candida a...|       NULL|   CHEMBL958797|         F|                   NULL|                  NULL|                 NULL|                     NULL|     CHEMBL1157378|         2007|             NULL|         CHEMBL106|         NULL|            1|                =|               NULL|        MIC80|       ug.mL-1|           2.0|       CHEMBL366|    Candida albicans|    Candida albicans|\n",
      "|{{NULL, Homo sapi...|       NULL|   CHEMBL926687|         A|                   NULL|                  NULL|                 NULL|                     NULL|     CHEMBL1141299|         2007|             NULL|        CHEMBL1043|         NULL|            1|                =|               NULL|            F|             %|          93.0|       CHEMBL372|        Homo sapiens|        Homo sapiens|\n",
      "|{{NULL, NULL, [],...|       NULL|  CHEMBL1244995|         B|                   NULL|                  NULL|                 NULL|                     NULL|     CHEMBL1240346|         2009|             NULL|     CHEMBL1240703|         NULL|            1|                >|               NULL|           Kd|            nM|       10000.0|      CHEMBL5261|        Homo sapiens|Serine/threonine-...|\n",
      "|{{NULL, Trypanoso...|       NULL|  CHEMBL1026360|         B|                   NULL|                  NULL|                 NULL|                     NULL|     CHEMBL1143323|         2009|             NULL|      CHEMBL481199|         NULL|            0|                =|               NULL|     Activity|             %|           2.4|    CHEMBL612545|                NULL|           Unchecked|\n",
      "|{{HFF, Homo sapie...|       NULL|   CHEMBL700641|         A|                   NULL|                  NULL|                 NULL|                     NULL|     CHEMBL1124846|         1990|             NULL|         CHEMBL184|         NULL|            1|                >|               NULL|         IC50|            nM|      100000.0|    CHEMBL612558|                NULL|               ADMET|\n",
      "|{{NULL, Homo sapi...|       NULL|  CHEMBL1614031|         F|                   NULL|                  NULL|                 NULL|                     NULL|     CHEMBL1201862|         NULL|             NULL|     CHEMBL1609610|         4.30|            1|                =|               NULL|      Potency|            nM|       50118.7|      CHEMBL2608|        Homo sapiens|Lysosomal alpha-g...|\n",
      "|{{NULL, NULL, [],...|       NULL|   CHEMBL866488|         B|                   NULL|                  NULL|                 NULL|                     NULL|     CHEMBL1138125|         2006|             NULL|      CHEMBL204449|         NULL|            0|                =|               NULL|     Activity|             %|          10.0|   CHEMBL2096670|        Homo sapiens|Glutamate recepto...|\n",
      "|{{Malme-3M, NULL,...|       NULL|  CHEMBL1964025|         F|                   NULL|                  NULL|                 NULL|                     NULL|     CHEMBL1201862|         NULL|             NULL|     CHEMBL1971073|         NULL|            1|             NULL|               NULL|         GI50|            nM|      100000.0|    CHEMBL614021|        Homo sapiens|            Malme-3M|\n",
      "|{{NULL, NULL, [],...|       NULL|   CHEMBL954351|         A|                   NULL|                  NULL|                 NULL|                     NULL|     CHEMBL1153373|         2009|             NULL|      CHEMBL373496|         NULL|            0|                =|               NULL|           TI|          NULL|         100.0|    CHEMBL612558|                NULL|               ADMET|\n",
      "|{{SK-OV-3, Homo s...|       NULL|   CHEMBL940752|         F|                   NULL|                  NULL|                 NULL|                     NULL|     CHEMBL1139778|         2007|             NULL|      CHEMBL399927|         NULL|            1|                =|               NULL|         GI50|            nM|       48800.0|    CHEMBL614925|        Homo sapiens|             SK-OV-3|\n",
      "|{{NULL, Escherich...|       NULL|  CHEMBL1244618|         B|                   NULL|                  NULL|                 NULL|                     NULL|     CHEMBL1240343|         2009|             NULL|     CHEMBL1231347|         NULL|            0|                =|               NULL|           FC|          NULL|           6.0|   CHEMBL1250346|Escherichia coli ...|5'-methylthioaden...|\n",
      "|{{HOP-62, Homo sa...|       NULL|  CHEMBL1073272|         F|                   NULL|                  NULL|                 NULL|                     NULL|     CHEMBL1153245|         2010|             NULL|      CHEMBL593850|         NULL|            0|                =|               NULL|     Activity|             %|         90.22|    CHEMBL614643|        Homo sapiens|              HOP-62|\n",
      "|{{NULL, Rattus no...|       NULL|   CHEMBL775998|         F|                   NULL|                  NULL|                 NULL|                     NULL|     CHEMBL1125890|         1991|             NULL|       CHEMBL99677|         NULL|            0|                =|               NULL|       Change|             %|          -6.0|       CHEMBL376|   Rattus norvegicus|   Rattus norvegicus|\n",
      "|{{NULL, Homo sapi...|       NULL|  CHEMBL1614154|         F|                   NULL|                  NULL|                 NULL|                     NULL|     CHEMBL1201862|         NULL|             NULL|     CHEMBL1091057|         6.15|            1|                =|               NULL|      Potency|            nM|         712.7|   CHEMBL1075189|        Homo sapiens|Pyruvate kinase i...|\n",
      "|{{NULL, Homo sapi...|       NULL|   CHEMBL860948|         A|                   NULL|                  NULL|                 NULL|                     NULL|     CHEMBL1146077|         2006|             NULL|        CHEMBL1294|         7.70|            1|                =|               NULL|         IC50|            nM|          20.0|       CHEMBL289|        Homo sapiens| Cytochrome P450 2D6|\n",
      "+--------------------+-----------+---------------+----------+-----------------------+----------------------+---------------------+-------------------------+------------------+-------------+-----------------+------------------+-------------+-------------+-----------------+-------------------+-------------+--------------+--------------+----------------+--------------------+--------------------+\n",
      "only showing top 20 rows\n",
      "\n"
     ]
    }
   ],
   "source": [
    "activity.show()"
   ]
  },
  {
   "cell_type": "code",
   "execution_count": 11,
   "metadata": {},
   "outputs": [],
   "source": [
    "# Universal function which joins 2 spark dataframes\n",
    "\n",
    "def join_dataframes(initial_df: DataFrame, \n",
    "                    second_df: DataFrame, \n",
    "                    initial_key_column: str, \n",
    "                    second_key_column: str,\n",
    "                    columns_to_join: list) -> DataFrame:\n",
    "    \"\"\"\n",
    "    Joins two PySpark DataFrames on specified key columns.\n",
    "\n",
    "    Args:\n",
    "    initial_df (DataFrame): The initial PySpark DataFrame.\n",
    "    second_df (DataFrame): The second PySpark DataFrame to join with.\n",
    "    initial_key_column (str): The key column name in the initial DataFrame.\n",
    "    second_key_column (str): The key column name in the second DataFrame.\n",
    "    columns_to_join (list): List of column names from the second DataFrame to include in the join.\n",
    "\n",
    "    Returns:\n",
    "    DataFrame: The resulting DataFrame after the join.\n",
    "    \"\"\"\n",
    "\n",
    "    # Selecting specified columns from the second DataFrame, including its key column\n",
    "    second_df_selected = second_df.select([second_key_column] + columns_to_join)\n",
    "\n",
    "    # Performing the left join\n",
    "    joined_df = initial_df.join(second_df_selected, \n",
    "                                initial_df[initial_key_column] == second_df_selected[second_key_column], \n",
    "                                how='left')\n",
    "\n",
    "    # Drop the second key column if not needed\n",
    "    joined_df = joined_df.drop(second_df_selected[second_key_column])\n",
    "\n",
    "    return joined_df\n"
   ]
  },
  {
   "cell_type": "code",
   "execution_count": 30,
   "metadata": {},
   "outputs": [],
   "source": [
    "# List of columns needed\n",
    "list_activity = [\"assay_chembl_id\",\n",
    "                \"assay_type\",\n",
    "                \"action_type\",\n",
    "                \"pchembl_value\",\n",
    "                \"standard_type\",\n",
    "                \"standard_units\",\n",
    "                \"standard_value\",\n",
    "                \"standard_relation\",\n",
    "                \"target_organism\",\n",
    "                \"target_pref_name\",\n",
    "                \"target_chembl_id\"]\n",
    "                # \"standard_flag\",\n",
    "                # \"ligand_efficiency\",\n",
    "                # \"assay_variant_mutation\"\n",
    "                # \"assay_variant_accession\",\n",
    "                # \"data_validity_comment\",\n",
    "                # \"data_validity_description\"]"
   ]
  },
  {
   "cell_type": "code",
   "execution_count": 34,
   "metadata": {},
   "outputs": [
    {
     "name": "stdout",
     "output_type": "stream",
     "text": [
      "+-------------+---------------+----------+-----------+-------------+-------------+--------------+--------------+-----------------+\n",
      "|       drugId|assay_chembl_id|assay_type|action_type|pchembl_value|standard_type|standard_units|standard_value|standard_relation|\n",
      "+-------------+---------------+----------+-----------+-------------+-------------+--------------+--------------+-----------------+\n",
      "|    CHEMBL106|   CHEMBL958797|         F|       NULL|         NULL|        MIC80|       ug.mL-1|           2.0|                =|\n",
      "|   CHEMBL1043|   CHEMBL926687|         A|       NULL|         NULL|            F|             %|          93.0|                =|\n",
      "|    CHEMBL184|   CHEMBL700641|         A|       NULL|         NULL|         IC50|            nM|      100000.0|                >|\n",
      "|   CHEMBL1294|   CHEMBL860948|         A|       NULL|         7.70|         IC50|            nM|          20.0|                =|\n",
      "| CHEMBL288441|  CHEMBL1244343|         B|       NULL|         7.04|         IC50|            nM|          92.0|                =|\n",
      "|     CHEMBL94|   CHEMBL859798|         B|       NULL|         7.55|         IC50|            nM|          28.0|                =|\n",
      "|   CHEMBL1006|  CHEMBL1266185|         F|       NULL|         NULL|   Inhibition|             %|          NULL|             NULL|\n",
      "|CHEMBL1200326|  CHEMBL1266185|         F|       NULL|         NULL|   Inhibition|             %|          NULL|             NULL|\n",
      "| CHEMBL288441|  CHEMBL1244345|         B|       NULL|         6.74|         IC50|            nM|         184.0|                =|\n",
      "|    CHEMBL433|  CHEMBL1266185|         F|       NULL|         NULL|   Inhibition|             %|          NULL|             NULL|\n",
      "| CHEMBL475534|  CHEMBL1266185|         F|       NULL|         NULL|   Inhibition|             %|          NULL|             NULL|\n",
      "| CHEMBL288441|  CHEMBL1244351|         B|       NULL|         NULL|   Inhibition|             %|          69.0|                =|\n",
      "| CHEMBL466253|  CHEMBL1071910|         F|       NULL|         5.96|         EC50|            nM|        1100.0|                =|\n",
      "|    CHEMBL500|  CHEMBL1266185|         F|       NULL|         NULL|   Inhibition|             %|          NULL|             NULL|\n",
      "| CHEMBL205526|   CHEMBL869598|         P|       NULL|         NULL|         LogD|          NULL|           4.8|                =|\n",
      "|  CHEMBL98123|  CHEMBL1266185|         F|       NULL|         NULL|   Inhibition|             %|          NULL|             NULL|\n",
      "|     CHEMBL44|   CHEMBL955099|         F|       NULL|         4.58|         IC50|            nM|       26500.0|                =|\n",
      "|CHEMBL1688530|  CHEMBL1262045|         F|       NULL|         NULL|        MIC90|          NULL|          NULL|             NULL|\n",
      "| CHEMBL267345|   CHEMBL996430|         F|       NULL|         NULL|           IZ|            mm|           2.5|                =|\n",
      "|  CHEMBL18442|  CHEMBL1268145|         F|       NULL|         7.31|         EC50|            nM|          49.0|                =|\n",
      "+-------------+---------------+----------+-----------+-------------+-------------+--------------+--------------+-----------------+\n",
      "only showing top 20 rows\n",
      "\n"
     ]
    }
   ],
   "source": [
    "# Join list of drugs and chembl_33_activity\n",
    "drug_to_activity = join_dataframes(drug_list, activity, \"drugId\", \"molecule_chembl_id\", list_activity).filter(col(\"assay_chembl_id\").isNotNull())\n",
    "drug_to_activity.show()"
   ]
  },
  {
   "cell_type": "code",
   "execution_count": 49,
   "metadata": {},
   "outputs": [
    {
     "data": {
      "text/plain": [
       "DataFrame[drugId: string, assay_chembl_id: string, assay_type: string, action_type: struct<action_type:string,description:string,parent_type:string>, pchembl_value: string, standard_type: string, standard_units: string, standard_value: string, standard_relation: string]"
      ]
     },
     "execution_count": 49,
     "metadata": {},
     "output_type": "execute_result"
    }
   ],
   "source": [
    "drug_to_activity.persist()"
   ]
  },
  {
   "cell_type": "code",
   "execution_count": 35,
   "metadata": {},
   "outputs": [],
   "source": [
    "# Function which calculates the number of unique values in the column and shows them\n",
    "\n",
    "def count_unique_values(df: DataFrame, column_name: str) -> int:\n",
    "    \"\"\"\n",
    "    Count unique values in a specific column of a PySpark DataFrame.\n",
    "\n",
    "    Args:\n",
    "    df (DataFrame): The PySpark DataFrame.\n",
    "    column_name (str): The name of the column to analyze.\n",
    "\n",
    "    Returns:\n",
    "    int: The number of unique values in the column.\n",
    "    \"\"\"\n",
    "    # Get distinct values in the column and count them\n",
    "    unique_count = df.select(column_name).distinct().count()\n",
    "\n",
    "    return unique_count\n",
    "\n",
    "# Example usage\n",
    "# unique_count = count_unique_values(your_dataframe, 'your_column_name')\n",
    "# print(f\"Number of unique values: {unique_count}\")\n"
   ]
  },
  {
   "cell_type": "code",
   "execution_count": 36,
   "metadata": {},
   "outputs": [
    {
     "name": "stderr",
     "output_type": "stream",
     "text": [
      "[Stage 49:======================================================> (35 + 1) / 36]\r"
     ]
    },
    {
     "name": "stdout",
     "output_type": "stream",
     "text": [
      "Number of unique drugs from targets dataset:  12835\n",
      "Number of unique drugs with any bioactivities:  6688\n"
     ]
    },
    {
     "name": "stderr",
     "output_type": "stream",
     "text": [
      "                                                                                \r"
     ]
    }
   ],
   "source": [
    "# Calculate for how many drugs we have biodata\n",
    "drug_list_count = count_unique_values(drug_list, 'drugId')\n",
    "drug_to_activity_count = count_unique_values(drug_to_activity, 'drugId')\n",
    "\n",
    "print(\"Number of unique drugs from targets dataset: \", drug_list_count)\n",
    "print(\"Number of unique drugs with any bioactivities: \", drug_to_activity_count)"
   ]
  },
  {
   "cell_type": "markdown",
   "metadata": {},
   "source": [
    "### For each bioactivity assay find parameters from chembl_33_assay"
   ]
  },
  {
   "cell_type": "code",
   "execution_count": 43,
   "metadata": {},
   "outputs": [
    {
     "name": "stderr",
     "output_type": "stream",
     "text": [
      "                                                                                \r"
     ]
    }
   ],
   "source": [
    "assay_path = \"gs://open-targets-pre-data-releases/chembl-columns/chembl-inputs/chembl_33_assay.jsonl\"\n",
    "assay = spark.read.json(assay_path)"
   ]
  },
  {
   "cell_type": "code",
   "execution_count": 44,
   "metadata": {},
   "outputs": [
    {
     "data": {
      "text/plain": [
       "DataFrame[_metadata: struct<assay_generated:struct<confidence_label:string,relationship_label:string,type_label:string>,document_data:struct<doi:string,first_page:string,journal:string,last_page:string,pubmed_id:bigint,title:string,volume:string,year:bigint>,es_completion:array<struct<input:string,weight:bigint>>,organism_taxonomy:struct<l1:string,l2:string,l3:string,oc_id:bigint,tax_id:bigint>,related_activities:struct<count:bigint>,related_compounds:struct<all_chembl_ids:string,count:bigint>,related_documents:struct<all_chembl_ids:string,count:bigint>,related_targets:struct<all_chembl_ids:string,count:bigint>,source:struct<src_description:string,src_id:bigint,src_short_name:string>>, assay_category: string, assay_organism: string, assay_test_type: string, assay_type: string, confidence_description: string, confidence_score: bigint, variant_sequence: struct<accession:string,isoform:bigint,mutation:string,organism:string,sequence:string,tax_id:bigint,version:bigint>]"
      ]
     },
     "execution_count": 44,
     "metadata": {},
     "output_type": "execute_result"
    }
   ],
   "source": [
    "assay.persist()"
   ]
  },
  {
   "cell_type": "code",
   "execution_count": 47,
   "metadata": {},
   "outputs": [
    {
     "name": "stdout",
     "output_type": "stream",
     "text": [
      "+--------------------+--------------+--------------------+---------------+----------+----------------------+----------------+----------------+\n",
      "|           _metadata|assay_category|      assay_organism|assay_test_type|assay_type|confidence_description|confidence_score|variant_sequence|\n",
      "+--------------------+--------------+--------------------+---------------+----------+----------------------+----------------+----------------+\n",
      "|{{0 - Default val...|          NULL|                NULL|           NULL|         F|  Default value - T...|               0|            NULL|\n",
      "|{{8 - Homologous ...|  confirmatory|Mycobacterium tub...|           NULL|         F|  Homologous single...|               8|            NULL|\n",
      "|{{8 - Homologous ...|          NULL|                NULL|           NULL|         B|  Homologous single...|               8|            NULL|\n",
      "|{{8 - Homologous ...|  confirmatory|                NULL|           NULL|         F|  Homologous single...|               8|            NULL|\n",
      "|{{1 - Target assi...|          NULL|        Homo sapiens|           NULL|         F|  Target assigned i...|               1|            NULL|\n",
      "|{{9 - Direct sing...|  confirmatory|        Homo sapiens|           NULL|         F|  Direct single pro...|               9|            NULL|\n",
      "|{{0 - Default val...|          NULL|                NULL|           NULL|         F|  Default value - T...|               0|            NULL|\n",
      "|{{0 - Default val...|  confirmatory|                NULL|           NULL|         F|  Default value - T...|               0|            NULL|\n",
      "|{{1 - Target assi...|          NULL|        Homo sapiens|           NULL|         F|  Target assigned i...|               1|            NULL|\n",
      "|{{0 - Default val...|  confirmatory|                NULL|           NULL|         F|  Default value - T...|               0|            NULL|\n",
      "|{{1 - Target assi...|          NULL|   Rattus norvegicus|           NULL|         F|  Target assigned i...|               1|            NULL|\n",
      "|{{8 - Homologous ...|  confirmatory| Human herpesvirus 1|           NULL|         F|  Homologous single...|               8|            NULL|\n",
      "|{{0 - Default val...|          NULL|                NULL|           NULL|         B|  Default value - T...|               0|            NULL|\n",
      "|{{1 - Target assi...|  confirmatory|                NULL|           NULL|         F|  Target assigned i...|               1|            NULL|\n",
      "|{{1 - Target assi...|          NULL|Human immunodefic...|           NULL|         F|  Target assigned i...|               1|            NULL|\n",
      "|{{8 - Homologous ...|  confirmatory|                NULL|           NULL|         F|  Homologous single...|               8|            NULL|\n",
      "|{{8 - Homologous ...|          NULL|                NULL|           NULL|         B|  Homologous single...|               8|            NULL|\n",
      "|{{8 - Homologous ...|  confirmatory|                NULL|           NULL|         F|  Homologous single...|               8|            NULL|\n",
      "|{{1 - Target assi...|          NULL|Human immunodefic...|           NULL|         F|  Target assigned i...|               1|            NULL|\n",
      "|{{0 - Default val...|          NULL|                NULL|           NULL|         F|  Default value - T...|               0|            NULL|\n",
      "+--------------------+--------------+--------------------+---------------+----------+----------------------+----------------+----------------+\n",
      "only showing top 20 rows\n",
      "\n"
     ]
    }
   ],
   "source": [
    "assay.show()"
   ]
  },
  {
   "cell_type": "code",
   "execution_count": 46,
   "metadata": {},
   "outputs": [],
   "source": [
    "list_assay = [\"confidence_score\",\n",
    "            \"confidence_description\",\n",
    "            \"assay_category\"]"
   ]
  },
  {
   "cell_type": "code",
   "execution_count": 48,
   "metadata": {},
   "outputs": [
    {
     "ename": "AnalysisException",
     "evalue": "[UNRESOLVED_COLUMN.WITH_SUGGESTION] A column or function parameter with name `assay_chembl_id` cannot be resolved. Did you mean one of the following? [`assay_category`, `assay_organism`, `assay_type`, `assay_test_type`, `_metadata`].;\n'Project ['assay_chembl_id, 'assay_chembl_id, assay_type#1964, 'action_type, 'pchembl_value, 'standard_type, 'standard_units, 'standard_value, 'standard_relation]\n+- Relation [_metadata#1960,assay_category#1961,assay_organism#1962,assay_test_type#1963,assay_type#1964,confidence_description#1965,confidence_score#1966L,variant_sequence#1967] json\n",
     "output_type": "error",
     "traceback": [
      "\u001b[0;31m---------------------------------------------------------------------------\u001b[0m",
      "\u001b[0;31mAnalysisException\u001b[0m                         Traceback (most recent call last)",
      "\u001b[1;32m/Users/polina/Documents/Bioactivity/bioactivity-1/code/new_chembl.ipynb Cell 19\u001b[0m line \u001b[0;36m1\n\u001b[0;32m----> <a href='vscode-notebook-cell:/Users/polina/Documents/Bioactivity/bioactivity-1/code/new_chembl.ipynb#X20sZmlsZQ%3D%3D?line=0'>1</a>\u001b[0m drug_to_assay \u001b[39m=\u001b[39m join_dataframes(drug_to_activity, assay, \u001b[39m\"\u001b[39;49m\u001b[39massay_chembl_id\u001b[39;49m\u001b[39m\"\u001b[39;49m, \u001b[39m\"\u001b[39;49m\u001b[39massay_chembl_id\u001b[39;49m\u001b[39m\"\u001b[39;49m, list_activity)\n\u001b[1;32m      <a href='vscode-notebook-cell:/Users/polina/Documents/Bioactivity/bioactivity-1/code/new_chembl.ipynb#X20sZmlsZQ%3D%3D?line=1'>2</a>\u001b[0m drug_to_assay\u001b[39m.\u001b[39mshow()\n",
      "\u001b[1;32m/Users/polina/Documents/Bioactivity/bioactivity-1/code/new_chembl.ipynb Cell 19\u001b[0m line \u001b[0;36m2\n\u001b[1;32m      <a href='vscode-notebook-cell:/Users/polina/Documents/Bioactivity/bioactivity-1/code/new_chembl.ipynb#X20sZmlsZQ%3D%3D?line=7'>8</a>\u001b[0m \u001b[39m\u001b[39m\u001b[39m\"\"\"\u001b[39;00m\n\u001b[1;32m      <a href='vscode-notebook-cell:/Users/polina/Documents/Bioactivity/bioactivity-1/code/new_chembl.ipynb#X20sZmlsZQ%3D%3D?line=8'>9</a>\u001b[0m \u001b[39mJoins two PySpark DataFrames on specified key columns.\u001b[39;00m\n\u001b[1;32m     <a href='vscode-notebook-cell:/Users/polina/Documents/Bioactivity/bioactivity-1/code/new_chembl.ipynb#X20sZmlsZQ%3D%3D?line=9'>10</a>\u001b[0m \n\u001b[0;32m   (...)\u001b[0m\n\u001b[1;32m     <a href='vscode-notebook-cell:/Users/polina/Documents/Bioactivity/bioactivity-1/code/new_chembl.ipynb#X20sZmlsZQ%3D%3D?line=18'>19</a>\u001b[0m \u001b[39mDataFrame: The resulting DataFrame after the join.\u001b[39;00m\n\u001b[1;32m     <a href='vscode-notebook-cell:/Users/polina/Documents/Bioactivity/bioactivity-1/code/new_chembl.ipynb#X20sZmlsZQ%3D%3D?line=19'>20</a>\u001b[0m \u001b[39m\"\"\"\u001b[39;00m\n\u001b[1;32m     <a href='vscode-notebook-cell:/Users/polina/Documents/Bioactivity/bioactivity-1/code/new_chembl.ipynb#X20sZmlsZQ%3D%3D?line=21'>22</a>\u001b[0m \u001b[39m# Selecting specified columns from the second DataFrame, including its key column\u001b[39;00m\n\u001b[0;32m---> <a href='vscode-notebook-cell:/Users/polina/Documents/Bioactivity/bioactivity-1/code/new_chembl.ipynb#X20sZmlsZQ%3D%3D?line=22'>23</a>\u001b[0m second_df_selected \u001b[39m=\u001b[39m second_df\u001b[39m.\u001b[39;49mselect([second_key_column] \u001b[39m+\u001b[39;49m columns_to_join)\n\u001b[1;32m     <a href='vscode-notebook-cell:/Users/polina/Documents/Bioactivity/bioactivity-1/code/new_chembl.ipynb#X20sZmlsZQ%3D%3D?line=24'>25</a>\u001b[0m \u001b[39m# Performing the left join\u001b[39;00m\n\u001b[1;32m     <a href='vscode-notebook-cell:/Users/polina/Documents/Bioactivity/bioactivity-1/code/new_chembl.ipynb#X20sZmlsZQ%3D%3D?line=25'>26</a>\u001b[0m joined_df \u001b[39m=\u001b[39m initial_df\u001b[39m.\u001b[39mjoin(second_df_selected, \n\u001b[1;32m     <a href='vscode-notebook-cell:/Users/polina/Documents/Bioactivity/bioactivity-1/code/new_chembl.ipynb#X20sZmlsZQ%3D%3D?line=26'>27</a>\u001b[0m                             initial_df[initial_key_column] \u001b[39m==\u001b[39m second_df_selected[second_key_column], \n\u001b[1;32m     <a href='vscode-notebook-cell:/Users/polina/Documents/Bioactivity/bioactivity-1/code/new_chembl.ipynb#X20sZmlsZQ%3D%3D?line=27'>28</a>\u001b[0m                             how\u001b[39m=\u001b[39m\u001b[39m'\u001b[39m\u001b[39mleft\u001b[39m\u001b[39m'\u001b[39m)\n",
      "File \u001b[0;32m~/Library/Python/3.9/lib/python/site-packages/pyspark/sql/dataframe.py:3223\u001b[0m, in \u001b[0;36mDataFrame.select\u001b[0;34m(self, *cols)\u001b[0m\n\u001b[1;32m   3178\u001b[0m \u001b[39mdef\u001b[39;00m \u001b[39mselect\u001b[39m(\u001b[39mself\u001b[39m, \u001b[39m*\u001b[39mcols: \u001b[39m\"\u001b[39m\u001b[39mColumnOrName\u001b[39m\u001b[39m\"\u001b[39m) \u001b[39m-\u001b[39m\u001b[39m>\u001b[39m \u001b[39m\"\u001b[39m\u001b[39mDataFrame\u001b[39m\u001b[39m\"\u001b[39m:  \u001b[39m# type: ignore[misc]\u001b[39;00m\n\u001b[1;32m   3179\u001b[0m \u001b[39m    \u001b[39m\u001b[39m\"\"\"Projects a set of expressions and returns a new :class:`DataFrame`.\u001b[39;00m\n\u001b[1;32m   3180\u001b[0m \n\u001b[1;32m   3181\u001b[0m \u001b[39m    .. versionadded:: 1.3.0\u001b[39;00m\n\u001b[0;32m   (...)\u001b[0m\n\u001b[1;32m   3221\u001b[0m \u001b[39m    +-----+---+\u001b[39;00m\n\u001b[1;32m   3222\u001b[0m \u001b[39m    \"\"\"\u001b[39;00m\n\u001b[0;32m-> 3223\u001b[0m     jdf \u001b[39m=\u001b[39m \u001b[39mself\u001b[39;49m\u001b[39m.\u001b[39;49m_jdf\u001b[39m.\u001b[39;49mselect(\u001b[39mself\u001b[39;49m\u001b[39m.\u001b[39;49m_jcols(\u001b[39m*\u001b[39;49mcols))\n\u001b[1;32m   3224\u001b[0m     \u001b[39mreturn\u001b[39;00m DataFrame(jdf, \u001b[39mself\u001b[39m\u001b[39m.\u001b[39msparkSession)\n",
      "File \u001b[0;32m~/Library/Python/3.9/lib/python/site-packages/py4j/java_gateway.py:1322\u001b[0m, in \u001b[0;36mJavaMember.__call__\u001b[0;34m(self, *args)\u001b[0m\n\u001b[1;32m   1316\u001b[0m command \u001b[39m=\u001b[39m proto\u001b[39m.\u001b[39mCALL_COMMAND_NAME \u001b[39m+\u001b[39m\\\n\u001b[1;32m   1317\u001b[0m     \u001b[39mself\u001b[39m\u001b[39m.\u001b[39mcommand_header \u001b[39m+\u001b[39m\\\n\u001b[1;32m   1318\u001b[0m     args_command \u001b[39m+\u001b[39m\\\n\u001b[1;32m   1319\u001b[0m     proto\u001b[39m.\u001b[39mEND_COMMAND_PART\n\u001b[1;32m   1321\u001b[0m answer \u001b[39m=\u001b[39m \u001b[39mself\u001b[39m\u001b[39m.\u001b[39mgateway_client\u001b[39m.\u001b[39msend_command(command)\n\u001b[0;32m-> 1322\u001b[0m return_value \u001b[39m=\u001b[39m get_return_value(\n\u001b[1;32m   1323\u001b[0m     answer, \u001b[39mself\u001b[39;49m\u001b[39m.\u001b[39;49mgateway_client, \u001b[39mself\u001b[39;49m\u001b[39m.\u001b[39;49mtarget_id, \u001b[39mself\u001b[39;49m\u001b[39m.\u001b[39;49mname)\n\u001b[1;32m   1325\u001b[0m \u001b[39mfor\u001b[39;00m temp_arg \u001b[39min\u001b[39;00m temp_args:\n\u001b[1;32m   1326\u001b[0m     \u001b[39mif\u001b[39;00m \u001b[39mhasattr\u001b[39m(temp_arg, \u001b[39m\"\u001b[39m\u001b[39m_detach\u001b[39m\u001b[39m\"\u001b[39m):\n",
      "File \u001b[0;32m~/Library/Python/3.9/lib/python/site-packages/pyspark/errors/exceptions/captured.py:185\u001b[0m, in \u001b[0;36mcapture_sql_exception.<locals>.deco\u001b[0;34m(*a, **kw)\u001b[0m\n\u001b[1;32m    181\u001b[0m converted \u001b[39m=\u001b[39m convert_exception(e\u001b[39m.\u001b[39mjava_exception)\n\u001b[1;32m    182\u001b[0m \u001b[39mif\u001b[39;00m \u001b[39mnot\u001b[39;00m \u001b[39misinstance\u001b[39m(converted, UnknownException):\n\u001b[1;32m    183\u001b[0m     \u001b[39m# Hide where the exception came from that shows a non-Pythonic\u001b[39;00m\n\u001b[1;32m    184\u001b[0m     \u001b[39m# JVM exception message.\u001b[39;00m\n\u001b[0;32m--> 185\u001b[0m     \u001b[39mraise\u001b[39;00m converted \u001b[39mfrom\u001b[39;00m \u001b[39mNone\u001b[39m\n\u001b[1;32m    186\u001b[0m \u001b[39melse\u001b[39;00m:\n\u001b[1;32m    187\u001b[0m     \u001b[39mraise\u001b[39;00m\n",
      "\u001b[0;31mAnalysisException\u001b[0m: [UNRESOLVED_COLUMN.WITH_SUGGESTION] A column or function parameter with name `assay_chembl_id` cannot be resolved. Did you mean one of the following? [`assay_category`, `assay_organism`, `assay_type`, `assay_test_type`, `_metadata`].;\n'Project ['assay_chembl_id, 'assay_chembl_id, assay_type#1964, 'action_type, 'pchembl_value, 'standard_type, 'standard_units, 'standard_value, 'standard_relation]\n+- Relation [_metadata#1960,assay_category#1961,assay_organism#1962,assay_test_type#1963,assay_type#1964,confidence_description#1965,confidence_score#1966L,variant_sequence#1967] json\n"
     ]
    }
   ],
   "source": [
    "drug_to_assay = join_dataframes(drug_to_activity, assay, \"assay_chembl_id\", \"assay_chembl_id\", list_activity)\n",
    "drug_to_assay.show()"
   ]
  },
  {
   "cell_type": "code",
   "execution_count": null,
   "metadata": {},
   "outputs": [],
   "source": []
  },
  {
   "cell_type": "code",
   "execution_count": null,
   "metadata": {},
   "outputs": [],
   "source": [
    "molecule_path = \"gs://open-targets-data-releases/23.12/output/etl/json/molecule\"\n",
    "molecule = spark.read.json(molecule_path)"
   ]
  },
  {
   "cell_type": "code",
   "execution_count": 3,
   "metadata": {},
   "outputs": [
    {
     "name": "stderr",
     "output_type": "stream",
     "text": [
      "                                                                                \r"
     ]
    },
    {
     "name": "stdout",
     "output_type": "stream",
     "text": [
      "+--------------------+-----------+---------------+----------+-----------------------+----------------------+---------------------+-------------------------+------------------+-------------+-----------------+------------------+-------------+-------------+-----------------+-------------------+-------------+--------------+--------------+----------------+--------------------+--------------------+\n",
      "|           _metadata|action_type|assay_chembl_id|assay_type|assay_variant_accession|assay_variant_mutation|data_validity_comment|data_validity_description|document_chembl_id|document_year|ligand_efficiency|molecule_chembl_id|pchembl_value|standard_flag|standard_relation|standard_text_value|standard_type|standard_units|standard_value|target_chembl_id|     target_organism|    target_pref_name|\n",
      "+--------------------+-----------+---------------+----------+-----------------------+----------------------+---------------------+-------------------------+------------------+-------------+-----------------+------------------+-------------+-------------+-----------------+-------------------+-------------+--------------+--------------+----------------+--------------------+--------------------+\n",
      "|{{null, Plasmodiu...|       null|  CHEMBL1067624|         F|                   null|                  null|                 null|                     null|     CHEMBL1157729|         2010|             null|      CHEMBL403233|         null|            1|                =|               null|   Inhibition|             %|         100.0|    CHEMBL612653|  Plasmodium berghei|  Plasmodium berghei|\n",
      "|{{CEM-SS, Homo sa...|       null|   CHEMBL659223|         F|                   null|                  null|                 null|                     null|     CHEMBL1134284|         2001|             null|      CHEMBL133395|         null|            0|             null|               null|         EC50|            nM|          null|    CHEMBL614548|        Homo sapiens|              CEM-SS|\n",
      "|{{null, Homo sapi...|       null|  CHEMBL1614079|         F|                   null|                  null|                 null|                     null|     CHEMBL1201862|         null|             null|     CHEMBL1453871|         4.10|            1|                =|               null|      Potency|            nM|       79432.8|      CHEMBL2392|        Homo sapiens| DNA polymerase beta|\n",
      "|{{Caco-2, Homo sa...|       null|   CHEMBL859786|         A|                   null|                  null|                 null|                     null|     CHEMBL1146077|         2006|             null|      CHEMBL206300|         null|            0|                =|               null|         Papp|         ucm/s|          12.5|    CHEMBL614058|        Homo sapiens|              Caco-2|\n",
      "|{{SF-539, null, [...|       null|  CHEMBL1964018|         F|                   null|                  null|                 null|                     null|     CHEMBL1201862|         null|             null|      CHEMBL277981|         null|            1|             null|               null|         GI50|            nM|       1253.14|    CHEMBL614860|        Homo sapiens|              SF-539|\n",
      "|{{null, Candida a...|       null|   CHEMBL958797|         F|                   null|                  null|                 null|                     null|     CHEMBL1157378|         2007|             null|         CHEMBL106|         null|            1|                =|               null|        MIC80|       ug.mL-1|           2.0|       CHEMBL366|    Candida albicans|    Candida albicans|\n",
      "|{{null, Homo sapi...|       null|   CHEMBL926687|         A|                   null|                  null|                 null|                     null|     CHEMBL1141299|         2007|             null|        CHEMBL1043|         null|            1|                =|               null|            F|             %|          93.0|       CHEMBL372|        Homo sapiens|        Homo sapiens|\n",
      "|{{null, null, [],...|       null|  CHEMBL1244995|         B|                   null|                  null|                 null|                     null|     CHEMBL1240346|         2009|             null|     CHEMBL1240703|         null|            1|                >|               null|           Kd|            nM|       10000.0|      CHEMBL5261|        Homo sapiens|Serine/threonine-...|\n",
      "|{{null, Trypanoso...|       null|  CHEMBL1026360|         B|                   null|                  null|                 null|                     null|     CHEMBL1143323|         2009|             null|      CHEMBL481199|         null|            0|                =|               null|     Activity|             %|           2.4|    CHEMBL612545|                null|           Unchecked|\n",
      "|{{HFF, Homo sapie...|       null|   CHEMBL700641|         A|                   null|                  null|                 null|                     null|     CHEMBL1124846|         1990|             null|         CHEMBL184|         null|            1|                >|               null|         IC50|            nM|      100000.0|    CHEMBL612558|                null|               ADMET|\n",
      "|{{null, Homo sapi...|       null|  CHEMBL1614031|         F|                   null|                  null|                 null|                     null|     CHEMBL1201862|         null|             null|     CHEMBL1609610|         4.30|            1|                =|               null|      Potency|            nM|       50118.7|      CHEMBL2608|        Homo sapiens|Lysosomal alpha-g...|\n",
      "|{{null, null, [],...|       null|   CHEMBL866488|         B|                   null|                  null|                 null|                     null|     CHEMBL1138125|         2006|             null|      CHEMBL204449|         null|            0|                =|               null|     Activity|             %|          10.0|   CHEMBL2096670|        Homo sapiens|Glutamate recepto...|\n",
      "|{{Malme-3M, null,...|       null|  CHEMBL1964025|         F|                   null|                  null|                 null|                     null|     CHEMBL1201862|         null|             null|     CHEMBL1971073|         null|            1|             null|               null|         GI50|            nM|      100000.0|    CHEMBL614021|        Homo sapiens|            Malme-3M|\n",
      "|{{null, null, [],...|       null|   CHEMBL954351|         A|                   null|                  null|                 null|                     null|     CHEMBL1153373|         2009|             null|      CHEMBL373496|         null|            0|                =|               null|           TI|          null|         100.0|    CHEMBL612558|                null|               ADMET|\n",
      "|{{SK-OV-3, Homo s...|       null|   CHEMBL940752|         F|                   null|                  null|                 null|                     null|     CHEMBL1139778|         2007|             null|      CHEMBL399927|         null|            1|                =|               null|         GI50|            nM|       48800.0|    CHEMBL614925|        Homo sapiens|             SK-OV-3|\n",
      "|{{null, Escherich...|       null|  CHEMBL1244618|         B|                   null|                  null|                 null|                     null|     CHEMBL1240343|         2009|             null|     CHEMBL1231347|         null|            0|                =|               null|           FC|          null|           6.0|   CHEMBL1250346|Escherichia coli ...|5'-methylthioaden...|\n",
      "|{{HOP-62, Homo sa...|       null|  CHEMBL1073272|         F|                   null|                  null|                 null|                     null|     CHEMBL1153245|         2010|             null|      CHEMBL593850|         null|            0|                =|               null|     Activity|             %|         90.22|    CHEMBL614643|        Homo sapiens|              HOP-62|\n",
      "|{{null, Rattus no...|       null|   CHEMBL775998|         F|                   null|                  null|                 null|                     null|     CHEMBL1125890|         1991|             null|       CHEMBL99677|         null|            0|                =|               null|       Change|             %|          -6.0|       CHEMBL376|   Rattus norvegicus|   Rattus norvegicus|\n",
      "|{{null, Homo sapi...|       null|  CHEMBL1614154|         F|                   null|                  null|                 null|                     null|     CHEMBL1201862|         null|             null|     CHEMBL1091057|         6.15|            1|                =|               null|      Potency|            nM|         712.7|   CHEMBL1075189|        Homo sapiens|Pyruvate kinase i...|\n",
      "|{{null, Homo sapi...|       null|   CHEMBL860948|         A|                   null|                  null|                 null|                     null|     CHEMBL1146077|         2006|             null|        CHEMBL1294|         7.70|            1|                =|               null|         IC50|            nM|          20.0|       CHEMBL289|        Homo sapiens| Cytochrome P450 2D6|\n",
      "+--------------------+-----------+---------------+----------+-----------------------+----------------------+---------------------+-------------------------+------------------+-------------+-----------------+------------------+-------------+-------------+-----------------+-------------------+-------------+--------------+--------------+----------------+--------------------+--------------------+\n",
      "only showing top 20 rows\n",
      "\n"
     ]
    }
   ],
   "source": []
  },
  {
   "cell_type": "code",
   "execution_count": null,
   "metadata": {},
   "outputs": [],
   "source": []
  },
  {
   "cell_type": "code",
   "execution_count": null,
   "metadata": {},
   "outputs": [],
   "source": []
  },
  {
   "cell_type": "code",
   "execution_count": null,
   "metadata": {},
   "outputs": [],
   "source": []
  }
 ],
 "metadata": {
  "kernelspec": {
   "display_name": "Python 3",
   "language": "python",
   "name": "python3"
  },
  "language_info": {
   "codemirror_mode": {
    "name": "ipython",
    "version": 3
   },
   "file_extension": ".py",
   "mimetype": "text/x-python",
   "name": "python",
   "nbconvert_exporter": "python",
   "pygments_lexer": "ipython3",
   "version": "3.9.6"
  },
  "orig_nbformat": 4
 },
 "nbformat": 4,
 "nbformat_minor": 2
}
