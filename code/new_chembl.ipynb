{
 "cells": [
  {
   "cell_type": "code",
   "execution_count": 105,
   "metadata": {},
   "outputs": [],
   "source": [
    "from pyspark.sql import SparkSession\n",
    "import pyspark.sql.functions as f\n",
    "from pyspark.sql import DataFrame\n",
    "from pyspark.sql.functions import col"
   ]
  },
  {
   "cell_type": "code",
   "execution_count": 106,
   "metadata": {},
   "outputs": [],
   "source": [
    "spark = SparkSession.builder.getOrCreate()"
   ]
  },
  {
   "cell_type": "markdown",
   "metadata": {},
   "source": [
    "# Data parsing"
   ]
  },
  {
   "cell_type": "code",
   "execution_count": 107,
   "metadata": {},
   "outputs": [],
   "source": [
    "def join_dataframes(initial_df: DataFrame, \n",
    "                    second_df: DataFrame, \n",
    "                    initial_key_column: str, \n",
    "                    second_key_column: str,\n",
    "                    columns_to_join: list) -> DataFrame:\n",
    "    \"\"\"\n",
    "    Joins two PySpark DataFrames on specified key columns.\n",
    "\n",
    "    Args:\n",
    "    initial_df (DataFrame): The initial PySpark DataFrame.\n",
    "    second_df (DataFrame): The second PySpark DataFrame to join with.\n",
    "    initial_key_column (str): The key column name in the initial DataFrame.\n",
    "    second_key_column (str): The key column name in the second DataFrame.\n",
    "    columns_to_join (list): List of column names from the second DataFrame to include in the join.\n",
    "\n",
    "    Returns:\n",
    "    DataFrame: The resulting DataFrame after the join.\n",
    "    \"\"\"\n",
    "\n",
    "    # Selecting specified columns from the second DataFrame, including its key column\n",
    "    second_df_selected = second_df.select([second_key_column] + columns_to_join)\n",
    "\n",
    "    # Performing the left join\n",
    "    joined_df = initial_df.join(second_df_selected, \n",
    "                                initial_df[initial_key_column] == second_df_selected[second_key_column], \n",
    "                                how='left')\n",
    "\n",
    "    # Drop the second key column if not needed\n",
    "    joined_df = joined_df.drop(second_df_selected[second_key_column])\n",
    "\n",
    "    return joined_df\n"
   ]
  },
  {
   "cell_type": "code",
   "execution_count": 108,
   "metadata": {},
   "outputs": [],
   "source": [
    "def count_unique_values(df: DataFrame, column_name: str) -> int:\n",
    "    \"\"\"\n",
    "    Count unique values in a specific column of a PySpark DataFrame.\n",
    "\n",
    "    Args:\n",
    "    df (DataFrame): The PySpark DataFrame.\n",
    "    column_name (str): The name of the column to analyze.\n",
    "\n",
    "    Returns:\n",
    "    int: The number of unique values in the column.\n",
    "    \"\"\"\n",
    "    # Get distinct values in the column and count them\n",
    "    unique_count = df.select(column_name).distinct().count()\n",
    "\n",
    "    return unique_count\n",
    "\n",
    "# Example usage\n",
    "# unique_count = count_unique_values(your_dataframe, 'your_column_name')\n",
    "# print(f\"Number of unique values: {unique_count}\")\n"
   ]
  },
  {
   "cell_type": "code",
   "execution_count": 109,
   "metadata": {},
   "outputs": [],
   "source": [
    "def show_unique_values_and_counts(df: DataFrame, column_name: str):\n",
    "    \"\"\"\n",
    "    Shows unique values and their counts for a specified column in a Spark DataFrame.\n",
    "\n",
    "    Parameters:\n",
    "    df (DataFrame): The Spark DataFrame to analyze.\n",
    "    column_name (str): The name of the column for which to count unique values.\n",
    "    \"\"\"\n",
    "    if column_name not in df.columns:\n",
    "        raise ValueError(f\"Column {column_name} not found in DataFrame\")\n",
    "\n",
    "    unique_values_counts = df.groupBy(column_name).count()\n",
    "    unique_values_counts.show()\n"
   ]
  },
  {
   "cell_type": "code",
   "execution_count": 110,
   "metadata": {},
   "outputs": [
    {
     "name": "stdout",
     "output_type": "stream",
     "text": [
      "+-------------+\n",
      "|       drugId|\n",
      "+-------------+\n",
      "|CHEMBL1200632|\n",
      "|   CHEMBL1231|\n",
      "|CHEMBL1233511|\n",
      "|   CHEMBL1637|\n",
      "|CHEMBL1743017|\n",
      "| CHEMBL185885|\n",
      "|CHEMBL1949708|\n",
      "|CHEMBL2105675|\n",
      "|CHEMBL2107826|\n",
      "|CHEMBL2109673|\n",
      "|CHEMBL2346976|\n",
      "| CHEMBL279115|\n",
      "|CHEMBL3181832|\n",
      "|CHEMBL3545096|\n",
      "|CHEMBL3545103|\n",
      "|CHEMBL3545145|\n",
      "|CHEMBL3545312|\n",
      "| CHEMBL363648|\n",
      "|CHEMBL3707249|\n",
      "|CHEMBL3989766|\n",
      "+-------------+\n",
      "only showing top 20 rows\n",
      "\n"
     ]
    }
   ],
   "source": [
    "# Take list of unique drugs (obtained from target with evidence in Platform or chemProbes)\n",
    "import pandas as pd\n",
    "\n",
    "unique_drugs_pd_df = pd.read_csv(\"../data/drug_to_target_unique_drugs.csv\")\n",
    "drug_list = spark.createDataFrame(unique_drugs_pd_df)\n",
    "# drug_list = spark.read.csv(drug_list_dir, header=True, inferSchema=True)\n",
    "drug_list.show()"
   ]
  },
  {
   "cell_type": "markdown",
   "metadata": {},
   "source": [
    "### For each drug find a max phase of clinical trial"
   ]
  },
  {
   "cell_type": "code",
   "execution_count": 111,
   "metadata": {},
   "outputs": [
    {
     "name": "stderr",
     "output_type": "stream",
     "text": [
      "[Stage 229:===================================================>   (15 + 1) / 16]\r"
     ]
    },
    {
     "name": "stdout",
     "output_type": "stream",
     "text": [
      "+---------------+--------------------+--------------------+--------------------+--------------------+--------------+----------------+-------------+--------------------+----------+--------------------+--------------------+-------------------------+--------------------+-------------+--------------------+--------------------+-------------------+\n",
      "|blackBoxWarning|     canonicalSmiles|      childChemblIds|     crossReferences|         description|      drugType|hasBeenWithdrawn|           id|            inchiKey|isApproved|      linkedDiseases|       linkedTargets|maximumClinicalTrialPhase|                name|     parentId|            synonyms|          tradeNames|yearOfFirstApproval|\n",
      "+---------------+--------------------+--------------------+--------------------+--------------------+--------------+----------------+-------------+--------------------+----------+--------------------+--------------------+-------------------------+--------------------+-------------+--------------------+--------------------+-------------------+\n",
      "|          false|Cc1cc(CN2CCN(c3c(...|                null|                null|Small molecule drug.|Small molecule|           false|CHEMBL1086582|UUGWPYPNRZQDFO-UH...|      null|                null|                null|                     null|       CHEMBL1086582|         null|                  []|                  []|               null|\n",
      "|          false|CNCc1ccc(-c2[nH]c...|[CHEMBL2105733, C...|{[rucaparib%20cam...|Small molecule dr...|Small molecule|           false|CHEMBL1173055|HMABYWSNWIZPAG-UH...|      true|{24, [EFO_0003060...|{3, [ENSG00000143...|                      4.0|           RUCAPARIB|         null|[AG-014699, AG-14...|                  []|               2016|\n",
      "|          false|CC(=O)N(c1onc(C)c...|                null|{[sulfisoxazole%2...|Small molecule dr...|Small molecule|           false|CHEMBL1200910|JFNWFXVFBDDWCX-UH...|      true|                null|             {0, []}|                      4.0|SULFISOXAZOLE ACETYL|         null|[Acetyl sulfafura...|[Gantrisin, Gantr...|               1953|\n",
      "|          false|COc1ccc(C[C@@H]2c...|     [CHEMBL1200641]|{[cisatracurium%2...|Small molecule dr...|Small molecule|           false|CHEMBL1201248|YXSLJKQTIDHPOT-LJ...|      true|  {1, [EFO_1000637]}|{5, [ENSG00000138...|                      4.0|       CISATRACURIUM|         null|[Cisatracurium, C...|            [Nimbex]|               1995|\n",
      "|           true|                null|                null|{[estrogens,%20es...|Small molecule dr...|Small molecule|           false|CHEMBL1201468|                null|      true|{5, [EFO_1000096,...|{2, [ENSG00000140...|                      4.0|ESTROGENS, ESTERI...|         null|[Esterified estro...|[Amnestrogen, Est...|               1977|\n",
      "|          false|                null|                null|{[hyaluronidase%2...|Enzyme drug with ...|        Enzyme|           false|CHEMBL1201718|                null|      true|{20, [EFO_1000668...|                null|                      4.0|HYALURONIDASE (HU...|         null|[Chemophase, Enha...|[Cumulase, Hylene...|               2005|\n",
      "|           true|CC(=O)Oc1cc2c(s1)...|     [CHEMBL1201773]|{[prasugrel%20hyd...|Small molecule dr...|Small molecule|           false|CHEMBL1201772|DTGLZDAWLRGWQN-UH...|      true|{17, [EFO_0003777...|{1, [ENSG00000169...|                      4.0|           PRASUGREL|         null|[LY-640315, NSC-7...|            [Efient]|               2009|\n",
      "|          false|COc1ccc(-c2cc3c(C...|                null|{null, null, null...|Small molecule dr...|Small molecule|           false|CHEMBL1234354|XDLYKKIQACFMJG-WK...|     false|{3, [EFO_0003869,...|{9, [ENSG00000198...|                      2.0|         PF-04691502|         null|[PF-04691502, PF-...|                  []|               null|\n",
      "|          false|Cc1ccc(C(C)C)cc2c...|                null|{null, null, [170...|Small molecule dr...|Small molecule|           false|CHEMBL1408759|FWKQNCXZGNBPFD-UH...|     false|  {1, [EFO_0003966]}|                null|                     -1.0|          GUAIAZULEN|         null|[Guaiazulen, Guai...|                  []|               null|\n",
      "|          false|O=c1[nH]c2ccccc2n...|                null|{[pimozide], null...|Small molecule dr...|Small molecule|           false|   CHEMBL1423|YVUQSNJEYSNKRX-UH...|      true|{6, [MONDO_000509...|{6, [ENSG00000149...|                      4.0|            PIMOZIDE|         null|[MCN-JR-6238, NSC...|    [Orap, Pimozide]|               1984|\n",
      "|          false|CC[C@H]1OC(=O)[C@...|                null|{null, null, [144...|Small molecule drug.|Small molecule|           false|CHEMBL1476500|RXZBMPWDPOLZGW-HI...|      null|                null|                null|                     null|       CHEMBL1476500|         null|                  []|                  []|               null|\n",
      "|          false|           Cn1ccnc1S|                null|{[methimazole], n...|Small molecule dr...|Small molecule|           false|   CHEMBL1515|PMRYVIKBURPHAH-UH...|      true|{6, [HP_0000820, ...|{1, [ENSG00000115...|                      4.0|         METHIMAZOLE|         null|[Mercaptizole, Me...|[Favistan, Methim...|               1950|\n",
      "|          false|    c1ccc2[nH]ccc2c1|                null|{null, null, [144...|Small molecule drug.|Small molecule|           false|  CHEMBL15844|SIKJAQJRHWYJAI-UH...|      null|                null|                null|                     null|              INDOLE|         null|            [Indole]|                  []|               null|\n",
      "|          false|COc1cccc(N(C)C(=S...|                null|{null, null, [144...|Small molecule drug.|Small molecule|           false|CHEMBL1591365|VPHPQNGOVQYUMG-UH...|     false|                null|             {0, []}|                     -1.0|         LIRANAFTATE|         null|[Liranaftate, Pir...|                  []|               null|\n",
      "|          false|             CC(N)=O|                null|{null, null, [111...|Small molecule drug.|Small molecule|           false|  CHEMBL16081|DLFVBJFMPXGRIB-UH...|      null|                null|                null|                     null|           ACETAMIDE|         null|         [Acetamide]|                  []|               null|\n",
      "|          false|Nc1nc(=O)c2nc(CNc...|     [CHEMBL2107429]|{[folic%20acid], ...|Small molecule dr...|Small molecule|           false|   CHEMBL1622|OVBPIULPVIDEAO-LB...|      true|{71, [EFO_1001231...|                null|                      4.0|          FOLIC ACID|         null|[Acidum folicum, ...|[Bio science, Fol...|               null|\n",
      "|          false|C=C1C[C@@H]2CC[C@...|                null|{[eribulin%20mesy...|Small molecule dr...|Small molecule|           false|CHEMBL1683544|QAMYWGZHLCQOOJ-WR...|      true|{20, [EFO_0003060...|{15, [ENSG0000018...|                      4.0|   ERIBULIN MESYLATE|CHEMBL1683590|[E-7389, E7389, E...|           [Halaven]|               2010|\n",
      "|           true|COc1cc(N)c(Cl)cc1...|     [CHEMBL1200788]|{null, null, [144...|Small molecule dr...|Small molecule|            true|   CHEMBL1729|DCSUBABJRXZOMT-UH...|      true|  {1, [EFO_0010282]}|{1, [ENSG00000164...|                      4.0|           CISAPRIDE|         null|[Cisapride, Cisap...|[Alimix, Prepulsi...|               1993|\n",
      "|          false|                null|                null|                null|Antibody drug wit...|      Antibody|           false|CHEMBL1743065|                null|     false|                null|{1, [ENSG00000187...|                      2.0|           ROLEDUMAB|         null|         [Roledumab]|                  []|               null|\n",
      "|           true|N#CC[C@H](C1CCCC1...|[CHEMBL1795071, C...|{[ruxolitinib%20p...|Small molecule dr...|Small molecule|           false|CHEMBL1789941|HFNKQEVNSGCOJV-OA...|      true|{70, [EFO_0003086...|{2, [ENSG00000162...|                      4.0|         RUXOLITINIB|         null|[INC-424, INC424,...|            [Jakavi]|               2011|\n",
      "+---------------+--------------------+--------------------+--------------------+--------------------+--------------+----------------+-------------+--------------------+----------+--------------------+--------------------+-------------------------+--------------------+-------------+--------------------+--------------------+-------------------+\n",
      "only showing top 20 rows\n",
      "\n"
     ]
    },
    {
     "name": "stderr",
     "output_type": "stream",
     "text": [
      "23/12/08 14:32:08 WARN CacheManager: Asked to cache already cached data.        \n"
     ]
    }
   ],
   "source": [
    "molecule_path = \"gs://open-targets-data-releases/23.12/output/etl/json/molecule\"\n",
    "molecule = spark.read.json(molecule_path)\n",
    "molecule.persist()\n",
    "molecule.show()"
   ]
  },
  {
   "cell_type": "code",
   "execution_count": 112,
   "metadata": {},
   "outputs": [
    {
     "name": "stdout",
     "output_type": "stream",
     "text": [
      "+-------------+--------------+-------------------------+----------+--------------------+--------------------+\n",
      "|       drugId|      drugType|maximumClinicalTrialPhase|isApproved|       linkedTargets|      linkedDiseases|\n",
      "+-------------+--------------+-------------------------+----------+--------------------+--------------------+\n",
      "|CHEMBL1200632|Small molecule|                      4.0|      true|             {0, []}|{3, [EFO_0003894,...|\n",
      "|   CHEMBL1231|Small molecule|                      4.0|      true|{2, [ENSG00000133...|{15, [EFO_1000781...|\n",
      "|CHEMBL1233511|Small molecule|                      3.0|     false|                null|  {1, [EFO_0002950]}|\n",
      "|   CHEMBL1637|Small molecule|                      4.0|      true|{14, [ENSG0000010...|{54, [MONDO_00081...|\n",
      "|CHEMBL1743017|      Antibody|                      2.0|     false|{1, [ENSG00000127...|{3, [EFO_0000676,...|\n",
      "| CHEMBL185885|Small molecule|                      2.0|     false|                null|{2, [EFO_0009444,...|\n",
      "|CHEMBL1949708|Small molecule|                      3.0|     false|                null|{2, [EFO_0003884,...|\n",
      "|CHEMBL2105675|Small molecule|                      4.0|      true|{1, [ENSG00000118...|{5, [EFO_1001875,...|\n",
      "|CHEMBL2107826|Small molecule|                      4.0|      true|{1, [ENSG00000188...|{5, [HP_0000020, ...|\n",
      "|CHEMBL2109673|       Unknown|                      1.0|     false|                null|  {1, [EFO_0002617]}|\n",
      "|CHEMBL2346976|Small molecule|                      1.0|     false|{1, [ENSG00000169...|{1, [MONDO_0008315]}|\n",
      "| CHEMBL279115|Small molecule|                      2.0|     false|                null|{3, [EFO_0000565,...|\n",
      "|CHEMBL3181832|Small molecule|                      4.0|      true|             {0, []}|  {1, [EFO_0003102]}|\n",
      "|CHEMBL3545096|Small molecule|                      2.0|     false|{9, [ENSG00000198...|{3, [MONDO_001606...|\n",
      "|CHEMBL3545103|Small molecule|                      2.0|     false|{1, [ENSG00000169...|{2, [EFO_0000341,...|\n",
      "|CHEMBL3545145|Small molecule|                      1.0|     false|{2, [ENSG00000169...|  {1, [EFO_0000616]}|\n",
      "|CHEMBL3545312|Small molecule|                      2.0|     false|                null|  {1, [EFO_0004220]}|\n",
      "| CHEMBL363648|Small molecule|                      2.0|     false|{1, [ENSG00000112...|  {1, [EFO_0000685]}|\n",
      "|CHEMBL3707249|Small molecule|                      2.0|     false|{6, [ENSG00000175...|{2, [MONDO_000497...|\n",
      "|CHEMBL3989766|       Unknown|                      4.0|      true|                null|{5, [EFO_0000544,...|\n",
      "+-------------+--------------+-------------------------+----------+--------------------+--------------------+\n",
      "only showing top 20 rows\n",
      "\n"
     ]
    }
   ],
   "source": [
    "# List of columns from molecule table\n",
    "list_molecule = [\"drugType\", \n",
    "                \"maximumClinicalTrialPhase\", \n",
    "                \"isApproved\", \n",
    "                \"linkedTargets\", \n",
    "                \"linkedDiseases\"]\n",
    "                 \n",
    "# Join list of drugs and max_phase from molecule table\n",
    "drug_list_phase = join_dataframes(drug_list, molecule, \"drugId\", \"id\", list_molecule).persist()\n",
    "drug_list_phase.show()"
   ]
  },
  {
   "cell_type": "markdown",
   "metadata": {},
   "source": [
    "### For each unique drug find bioactivity data from chembl_33_activity"
   ]
  },
  {
   "cell_type": "code",
   "execution_count": 113,
   "metadata": {},
   "outputs": [
    {
     "name": "stderr",
     "output_type": "stream",
     "text": [
      "[Stage 233:==================================================>    (25 + 2) / 27]\r"
     ]
    },
    {
     "name": "stdout",
     "output_type": "stream",
     "text": [
      "+--------------------+-----------+---------------+----------+-----------------------+----------------------+---------------------+-------------------------+------------------+-------------+-----------------+------------------+-------------+-------------+-----------------+-------------------+-------------+--------------+--------------+----------------+--------------------+--------------------+\n",
      "|           _metadata|action_type|assay_chembl_id|assay_type|assay_variant_accession|assay_variant_mutation|data_validity_comment|data_validity_description|document_chembl_id|document_year|ligand_efficiency|molecule_chembl_id|pchembl_value|standard_flag|standard_relation|standard_text_value|standard_type|standard_units|standard_value|target_chembl_id|     target_organism|    target_pref_name|\n",
      "+--------------------+-----------+---------------+----------+-----------------------+----------------------+---------------------+-------------------------+------------------+-------------+-----------------+------------------+-------------+-------------+-----------------+-------------------+-------------+--------------+--------------+----------------+--------------------+--------------------+\n",
      "|{{null, Plasmodiu...|       null|  CHEMBL1067624|         F|                   null|                  null|                 null|                     null|     CHEMBL1157729|         2010|             null|      CHEMBL403233|         null|            1|                =|               null|   Inhibition|             %|         100.0|    CHEMBL612653|  Plasmodium berghei|  Plasmodium berghei|\n",
      "|{{CEM-SS, Homo sa...|       null|   CHEMBL659223|         F|                   null|                  null|                 null|                     null|     CHEMBL1134284|         2001|             null|      CHEMBL133395|         null|            0|             null|               null|         EC50|            nM|          null|    CHEMBL614548|        Homo sapiens|              CEM-SS|\n",
      "|{{null, Homo sapi...|       null|  CHEMBL1614079|         F|                   null|                  null|                 null|                     null|     CHEMBL1201862|         null|             null|     CHEMBL1453871|         4.10|            1|                =|               null|      Potency|            nM|       79432.8|      CHEMBL2392|        Homo sapiens| DNA polymerase beta|\n",
      "|{{Caco-2, Homo sa...|       null|   CHEMBL859786|         A|                   null|                  null|                 null|                     null|     CHEMBL1146077|         2006|             null|      CHEMBL206300|         null|            0|                =|               null|         Papp|         ucm/s|          12.5|    CHEMBL614058|        Homo sapiens|              Caco-2|\n",
      "|{{SF-539, null, [...|       null|  CHEMBL1964018|         F|                   null|                  null|                 null|                     null|     CHEMBL1201862|         null|             null|      CHEMBL277981|         null|            1|             null|               null|         GI50|            nM|       1253.14|    CHEMBL614860|        Homo sapiens|              SF-539|\n",
      "|{{null, Candida a...|       null|   CHEMBL958797|         F|                   null|                  null|                 null|                     null|     CHEMBL1157378|         2007|             null|         CHEMBL106|         null|            1|                =|               null|        MIC80|       ug.mL-1|           2.0|       CHEMBL366|    Candida albicans|    Candida albicans|\n",
      "|{{null, Homo sapi...|       null|   CHEMBL926687|         A|                   null|                  null|                 null|                     null|     CHEMBL1141299|         2007|             null|        CHEMBL1043|         null|            1|                =|               null|            F|             %|          93.0|       CHEMBL372|        Homo sapiens|        Homo sapiens|\n",
      "|{{null, null, [],...|       null|  CHEMBL1244995|         B|                   null|                  null|                 null|                     null|     CHEMBL1240346|         2009|             null|     CHEMBL1240703|         null|            1|                >|               null|           Kd|            nM|       10000.0|      CHEMBL5261|        Homo sapiens|Serine/threonine-...|\n",
      "|{{null, Trypanoso...|       null|  CHEMBL1026360|         B|                   null|                  null|                 null|                     null|     CHEMBL1143323|         2009|             null|      CHEMBL481199|         null|            0|                =|               null|     Activity|             %|           2.4|    CHEMBL612545|                null|           Unchecked|\n",
      "|{{HFF, Homo sapie...|       null|   CHEMBL700641|         A|                   null|                  null|                 null|                     null|     CHEMBL1124846|         1990|             null|         CHEMBL184|         null|            1|                >|               null|         IC50|            nM|      100000.0|    CHEMBL612558|                null|               ADMET|\n",
      "|{{null, Homo sapi...|       null|  CHEMBL1614031|         F|                   null|                  null|                 null|                     null|     CHEMBL1201862|         null|             null|     CHEMBL1609610|         4.30|            1|                =|               null|      Potency|            nM|       50118.7|      CHEMBL2608|        Homo sapiens|Lysosomal alpha-g...|\n",
      "|{{null, null, [],...|       null|   CHEMBL866488|         B|                   null|                  null|                 null|                     null|     CHEMBL1138125|         2006|             null|      CHEMBL204449|         null|            0|                =|               null|     Activity|             %|          10.0|   CHEMBL2096670|        Homo sapiens|Glutamate recepto...|\n",
      "|{{Malme-3M, null,...|       null|  CHEMBL1964025|         F|                   null|                  null|                 null|                     null|     CHEMBL1201862|         null|             null|     CHEMBL1971073|         null|            1|             null|               null|         GI50|            nM|      100000.0|    CHEMBL614021|        Homo sapiens|            Malme-3M|\n",
      "|{{null, null, [],...|       null|   CHEMBL954351|         A|                   null|                  null|                 null|                     null|     CHEMBL1153373|         2009|             null|      CHEMBL373496|         null|            0|                =|               null|           TI|          null|         100.0|    CHEMBL612558|                null|               ADMET|\n",
      "|{{SK-OV-3, Homo s...|       null|   CHEMBL940752|         F|                   null|                  null|                 null|                     null|     CHEMBL1139778|         2007|             null|      CHEMBL399927|         null|            1|                =|               null|         GI50|            nM|       48800.0|    CHEMBL614925|        Homo sapiens|             SK-OV-3|\n",
      "|{{null, Escherich...|       null|  CHEMBL1244618|         B|                   null|                  null|                 null|                     null|     CHEMBL1240343|         2009|             null|     CHEMBL1231347|         null|            0|                =|               null|           FC|          null|           6.0|   CHEMBL1250346|Escherichia coli ...|5'-methylthioaden...|\n",
      "|{{HOP-62, Homo sa...|       null|  CHEMBL1073272|         F|                   null|                  null|                 null|                     null|     CHEMBL1153245|         2010|             null|      CHEMBL593850|         null|            0|                =|               null|     Activity|             %|         90.22|    CHEMBL614643|        Homo sapiens|              HOP-62|\n",
      "|{{null, Rattus no...|       null|   CHEMBL775998|         F|                   null|                  null|                 null|                     null|     CHEMBL1125890|         1991|             null|       CHEMBL99677|         null|            0|                =|               null|       Change|             %|          -6.0|       CHEMBL376|   Rattus norvegicus|   Rattus norvegicus|\n",
      "|{{null, Homo sapi...|       null|  CHEMBL1614154|         F|                   null|                  null|                 null|                     null|     CHEMBL1201862|         null|             null|     CHEMBL1091057|         6.15|            1|                =|               null|      Potency|            nM|         712.7|   CHEMBL1075189|        Homo sapiens|Pyruvate kinase i...|\n",
      "|{{null, Homo sapi...|       null|   CHEMBL860948|         A|                   null|                  null|                 null|                     null|     CHEMBL1146077|         2006|             null|        CHEMBL1294|         7.70|            1|                =|               null|         IC50|            nM|          20.0|       CHEMBL289|        Homo sapiens| Cytochrome P450 2D6|\n",
      "+--------------------+-----------+---------------+----------+-----------------------+----------------------+---------------------+-------------------------+------------------+-------------+-----------------+------------------+-------------+-------------+-----------------+-------------------+-------------+--------------+--------------+----------------+--------------------+--------------------+\n",
      "only showing top 20 rows\n",
      "\n"
     ]
    },
    {
     "name": "stderr",
     "output_type": "stream",
     "text": [
      "23/12/08 14:32:20 WARN CacheManager: Asked to cache already cached data.        \n"
     ]
    }
   ],
   "source": [
    "activity_path = \"gs://open-targets-pre-data-releases/chembl-columns/chembl-inputs/chembl_33_activity.jsonl\"\n",
    "activity = spark.read.json(activity_path)\n",
    "activity.persist()\n",
    "activity.show()"
   ]
  },
  {
   "cell_type": "code",
   "execution_count": 114,
   "metadata": {},
   "outputs": [],
   "source": [
    "# List of columns from activity table\n",
    "list_activity = [\"assay_chembl_id\",\n",
    "                \"assay_type\",\n",
    "                \"action_type\",\n",
    "                \"pchembl_value\",\n",
    "                \"standard_type\",\n",
    "                \"standard_units\",\n",
    "                \"standard_value\",\n",
    "                \"standard_relation\",\n",
    "                \"target_organism\",\n",
    "                \"target_pref_name\",\n",
    "                \"target_chembl_id\"]\n",
    "                # \"standard_flag\",\n",
    "                # \"ligand_efficiency\",\n",
    "                # \"assay_variant_mutation\"\n",
    "                # \"assay_variant_accession\",\n",
    "                # \"data_validity_comment\",\n",
    "                # \"data_validity_description\"]"
   ]
  },
  {
   "cell_type": "code",
   "execution_count": 115,
   "metadata": {},
   "outputs": [
    {
     "name": "stderr",
     "output_type": "stream",
     "text": [
      "[Stage 236:====================================>                  (18 + 8) / 27]\r"
     ]
    },
    {
     "name": "stdout",
     "output_type": "stream",
     "text": [
      "+------------+--------------+-------------------------+----------+-------------+------------------+---------------+----------+-----------+-------------+-------------+--------------+--------------+-----------------+--------------------+--------------------+----------------+\n",
      "|      drugId|      drugType|maximumClinicalTrialPhase|isApproved|linkedTargets|    linkedDiseases|assay_chembl_id|assay_type|action_type|pchembl_value|standard_type|standard_units|standard_value|standard_relation|     target_organism|    target_pref_name|target_chembl_id|\n",
      "+------------+--------------+-------------------------+----------+-------------+------------------+---------------+----------+-----------+-------------+-------------+--------------+--------------+-----------------+--------------------+--------------------+----------------+\n",
      "|CHEMBL110739|Small molecule|                      3.0|     false|         null|{1, [EFO_1000786]}|  CHEMBL1613803|         F|       null|         7.20|      Potency|            nM|          63.1|                =|        Homo sapiens|Hypoxia-inducible...|      CHEMBL4261|\n",
      "|CHEMBL110739|Small molecule|                      3.0|     false|         null|{1, [EFO_1000786]}|  CHEMBL1267246|         F|       null|         5.00|         IC50|            nM|       10000.0|                =|Plasmodium falcip...|Plasmodium falcip...|       CHEMBL364|\n",
      "|CHEMBL110739|Small molecule|                      3.0|     false|         null|{1, [EFO_1000786]}|   CHEMBL865441|         A|       null|         null|       log Kp|          cm/s|         -7.08|                =|        Homo sapiens|        Homo sapiens|       CHEMBL372|\n",
      "|CHEMBL110739|Small molecule|                      3.0|     false|         null|{1, [EFO_1000786]}|   CHEMBL631962|         P|       null|         null|        Log S|          null|         -3.24|                =|                null|  No relevant target|   CHEMBL2362975|\n",
      "|CHEMBL110739|Small molecule|                      3.0|     false|         null|{1, [EFO_1000786]}|   CHEMBL665995|         B|       null|         7.20|           Ki|            nM|          63.1|                =|        Homo sapiens|Corticosteroid bi...|      CHEMBL2421|\n",
      "|CHEMBL110739|Small molecule|                      3.0|     false|         null|{1, [EFO_1000786]}|  CHEMBL3123849|         A|       null|         null| permeability|         ucm/s|           5.1|                =|                null|               ADMET|    CHEMBL612558|\n",
      "|CHEMBL110739|Small molecule|                      3.0|     false|         null|{1, [EFO_1000786]}|  CHEMBL3066824|         P|       null|         null|      logPapp|          null|         -4.77|                =|                null|  No relevant target|   CHEMBL2362975|\n",
      "|CHEMBL110739|Small molecule|                      3.0|     false|         null|{1, [EFO_1000786]}|  CHEMBL3066825|         P|       null|         null|         LogP|          null|          1.94|                =|                null|  No relevant target|   CHEMBL2362975|\n",
      "|CHEMBL110739|Small molecule|                      3.0|     false|         null|{1, [EFO_1000786]}|   CHEMBL628746|         A|       null|         null|   Absorption|             %|         100.0|                =|        Homo sapiens|        Homo sapiens|       CHEMBL372|\n",
      "|CHEMBL110739|Small molecule|                      3.0|     false|         null|{1, [EFO_1000786]}|  CHEMBL1737902|         F|       null|         null|      Potency|            nM|         100.0|             null|                null|           Unchecked|    CHEMBL612545|\n",
      "|CHEMBL110739|Small molecule|                      3.0|     false|         null|{1, [EFO_1000786]}|   CHEMBL665995|         B|       null|         7.88|           Ki|            nM|         13.18|                =|        Homo sapiens|Corticosteroid bi...|      CHEMBL2421|\n",
      "|CHEMBL110739|Small molecule|                      3.0|     false|         null|{1, [EFO_1000786]}|  CHEMBL1614086|         F|       null|         5.90|      Potency|            nM|        1258.9|                =|        Homo sapiens|      Thrombopoietin|   CHEMBL1293256|\n",
      "|CHEMBL110739|Small molecule|                      3.0|     false|         null|{1, [EFO_1000786]}|   CHEMBL840929|         B|       null|         null|        Log K|          null|         7.881|                =|        Homo sapiens|Corticosteroid bi...|      CHEMBL2421|\n",
      "|CHEMBL110739|Small molecule|                      3.0|     false|         null|{1, [EFO_1000786]}|   CHEMBL876466|         P|       null|         null|    Log PNalk|          null|         -1.62|                =|                null|  No relevant target|   CHEMBL2362975|\n",
      "|CHEMBL110739|Small molecule|                      3.0|     false|         null|{1, [EFO_1000786]}|  CHEMBL3364959|         A|       null|         null| permeability|    10'-6 cm/s|           6.7|                =|                null|               ADMET|    CHEMBL612558|\n",
      "|CHEMBL110739|Small molecule|                      3.0|     false|         null|{1, [EFO_1000786]}|  CHEMBL3066822|         P|       null|         null|          pKa|          null|           0.0|                =|                null|  No relevant target|   CHEMBL2362975|\n",
      "|CHEMBL110739|Small molecule|                      3.0|     false|         null|{1, [EFO_1000786]}|  CHEMBL2078511|         F|       null|         null|     Activity|             %|          32.9|                =|   Rattus norvegicus|Solute carrier or...|   CHEMBL1781860|\n",
      "|CHEMBL110739|Small molecule|                      3.0|     false|         null|{1, [EFO_1000786]}|  CHEMBL1614456|         F|       null|         7.20|      Potency|            nM|          63.1|                =|        Homo sapiens|Hypoxia-inducible...|      CHEMBL4261|\n",
      "|CHEMBL110739|Small molecule|                      3.0|     false|         null|{1, [EFO_1000786]}|  CHEMBL1794553|         F|       null|         null|      Potency|            nM|       35481.3|             null|        Homo sapiens|               HepG2|       CHEMBL395|\n",
      "|CHEMBL110739|Small molecule|                      3.0|     false|         null|{1, [EFO_1000786]}|  CHEMBL1613842|         F|       null|         6.05|      Potency|            nM|         891.3|                =|        Homo sapiens|Survival motor ne...|   CHEMBL1293232|\n",
      "+------------+--------------+-------------------------+----------+-------------+------------------+---------------+----------+-----------+-------------+-------------+--------------+--------------+-----------------+--------------------+--------------------+----------------+\n",
      "only showing top 20 rows\n",
      "\n"
     ]
    },
    {
     "name": "stderr",
     "output_type": "stream",
     "text": [
      "                                                                                \r"
     ]
    }
   ],
   "source": [
    "# Join list of drugs and chembl_33_activity\n",
    "drug_to_activity = join_dataframes(drug_list_phase, activity, \"drugId\", \"molecule_chembl_id\", list_activity).filter(col(\"assay_chembl_id\").isNotNull()).persist()\n",
    "drug_to_activity.show()"
   ]
  },
  {
   "cell_type": "code",
   "execution_count": 116,
   "metadata": {},
   "outputs": [
    {
     "name": "stderr",
     "output_type": "stream",
     "text": [
      "[Stage 246:====================================>               (142 + 16) / 200]\r"
     ]
    },
    {
     "name": "stdout",
     "output_type": "stream",
     "text": [
      "Number of unique drugs from targets dataset:  12835\n",
      "Number of unique drugs with any bioactivities:  6215\n"
     ]
    },
    {
     "name": "stderr",
     "output_type": "stream",
     "text": [
      "                                                                                \r"
     ]
    }
   ],
   "source": [
    "# Calculate for how many drugs we have biodata\n",
    "drug_list_count = count_unique_values(drug_list, 'drugId')\n",
    "drug_to_activity_count = count_unique_values(drug_to_activity, 'drugId')\n",
    "\n",
    "print(\"Number of unique drugs from targets dataset: \", drug_list_count)\n",
    "print(\"Number of unique drugs with any bioactivities: \", drug_to_activity_count)"
   ]
  },
  {
   "cell_type": "markdown",
   "metadata": {},
   "source": [
    "### For each bioactivity assay find parameters from chembl_33_assay"
   ]
  },
  {
   "cell_type": "code",
   "execution_count": 117,
   "metadata": {},
   "outputs": [
    {
     "name": "stderr",
     "output_type": "stream",
     "text": [
      "[Stage 251:============================================>          (17 + 4) / 21]\r"
     ]
    },
    {
     "name": "stdout",
     "output_type": "stream",
     "text": [
      "+--------------------+--------------+---------------+--------------------+---------------+----------+----------------------+----------------+----------------+\n",
      "|           _metadata|assay_category|assay_chembl_id|      assay_organism|assay_test_type|assay_type|confidence_description|confidence_score|variant_sequence|\n",
      "+--------------------+--------------+---------------+--------------------+---------------+----------+----------------------+----------------+----------------+\n",
      "|{{0 - Default val...|          null|   CHEMBL688540|                null|           null|         F|  Default value - T...|               0|            null|\n",
      "|{{8 - Homologous ...|  confirmatory|  CHEMBL2114731|Mycobacterium tub...|           null|         F|  Homologous single...|               8|            null|\n",
      "|{{8 - Homologous ...|          null|   CHEMBL643834|                null|           null|         B|  Homologous single...|               8|            null|\n",
      "|{{8 - Homologous ...|  confirmatory|  CHEMBL2114783|                null|           null|         F|  Homologous single...|               8|            null|\n",
      "|{{1 - Target assi...|          null|   CHEMBL714648|        Homo sapiens|           null|         F|  Target assigned i...|               1|            null|\n",
      "|{{9 - Direct sing...|  confirmatory|  CHEMBL2114933|        Homo sapiens|           null|         F|  Direct single pro...|               9|            null|\n",
      "|{{0 - Default val...|          null|   CHEMBL849211|                null|           null|         F|  Default value - T...|               0|            null|\n",
      "|{{0 - Default val...|  confirmatory|  CHEMBL2114801|                null|           null|         F|  Default value - T...|               0|            null|\n",
      "|{{1 - Target assi...|          null|   CHEMBL715311|        Homo sapiens|           null|         F|  Target assigned i...|               1|            null|\n",
      "|{{0 - Default val...|  confirmatory|  CHEMBL3562074|                null|           null|         F|  Default value - T...|               0|            null|\n",
      "|{{1 - Target assi...|          null|   CHEMBL717309|   Rattus norvegicus|           null|         F|  Target assigned i...|               1|            null|\n",
      "|{{8 - Homologous ...|  confirmatory|  CHEMBL2114922| Human herpesvirus 1|           null|         F|  Homologous single...|               8|            null|\n",
      "|{{0 - Default val...|          null|   CHEMBL760161|                null|           null|         B|  Default value - T...|               0|            null|\n",
      "|{{1 - Target assi...|  confirmatory|  CHEMBL3562083|                null|           null|         F|  Target assigned i...|               1|            null|\n",
      "|{{1 - Target assi...|          null|   CHEMBL844411|Human immunodefic...|           null|         F|  Target assigned i...|               1|            null|\n",
      "|{{8 - Homologous ...|  confirmatory|  CHEMBL1964056|                null|           null|         F|  Homologous single...|               8|            null|\n",
      "|{{8 - Homologous ...|          null|   CHEMBL765773|                null|           null|         B|  Homologous single...|               8|            null|\n",
      "|{{8 - Homologous ...|  confirmatory|  CHEMBL3562016|                null|           null|         F|  Homologous single...|               8|            null|\n",
      "|{{1 - Target assi...|          null|   CHEMBL844412|Human immunodefic...|           null|         F|  Target assigned i...|               1|            null|\n",
      "|{{0 - Default val...|          null|   CHEMBL881746|                null|           null|         F|  Default value - T...|               0|            null|\n",
      "+--------------------+--------------+---------------+--------------------+---------------+----------+----------------------+----------------+----------------+\n",
      "only showing top 20 rows\n",
      "\n"
     ]
    },
    {
     "name": "stderr",
     "output_type": "stream",
     "text": [
      "23/12/08 14:32:29 WARN CacheManager: Asked to cache already cached data.        \n"
     ]
    }
   ],
   "source": [
    "assay_path = \"gs://open-targets-pre-data-releases/chembl-columns/chembl-inputs/chembl_33_assay.jsonl\"\n",
    "assay = spark.read.json(assay_path)\n",
    "assay.persist()\n",
    "assay.show()"
   ]
  },
  {
   "cell_type": "code",
   "execution_count": 118,
   "metadata": {},
   "outputs": [],
   "source": [
    "# List of columns from assay table\n",
    "list_assay = [\"confidence_score\",\n",
    "            \"confidence_description\",\n",
    "            \"assay_category\"]"
   ]
  },
  {
   "cell_type": "code",
   "execution_count": 119,
   "metadata": {},
   "outputs": [
    {
     "name": "stderr",
     "output_type": "stream",
     "text": [
      "[Stage 256:>                                                        (0 + 1) / 1]\r"
     ]
    },
    {
     "name": "stdout",
     "output_type": "stream",
     "text": [
      "+------------+--------------+-------------------------+----------+-------------+------------------+---------------+----------+-----------+-------------+-------------+--------------+--------------+-----------------+--------------------+--------------------+----------------+----------------+----------------------+--------------+\n",
      "|      drugId|      drugType|maximumClinicalTrialPhase|isApproved|linkedTargets|    linkedDiseases|assay_chembl_id|assay_type|action_type|pchembl_value|standard_type|standard_units|standard_value|standard_relation|     target_organism|    target_pref_name|target_chembl_id|confidence_score|confidence_description|assay_category|\n",
      "+------------+--------------+-------------------------+----------+-------------+------------------+---------------+----------+-----------+-------------+-------------+--------------+--------------+-----------------+--------------------+--------------------+----------------+----------------+----------------------+--------------+\n",
      "|CHEMBL110739|Small molecule|                      3.0|     false|         null|{1, [EFO_1000786]}|  CHEMBL1613803|         F|       null|         7.20|      Potency|            nM|          63.1|                =|        Homo sapiens|Hypoxia-inducible...|      CHEMBL4261|               9|  Direct single pro...|  confirmatory|\n",
      "|CHEMBL110739|Small molecule|                      3.0|     false|         null|{1, [EFO_1000786]}|  CHEMBL1267246|         F|       null|         5.00|         IC50|            nM|       10000.0|                =|Plasmodium falcip...|Plasmodium falcip...|       CHEMBL364|               1|  Target assigned i...|          null|\n",
      "|CHEMBL110739|Small molecule|                      3.0|     false|         null|{1, [EFO_1000786]}|   CHEMBL865441|         A|       null|         null|       log Kp|          cm/s|         -7.08|                =|        Homo sapiens|        Homo sapiens|       CHEMBL372|               1|  Target assigned i...|          null|\n",
      "|CHEMBL110739|Small molecule|                      3.0|     false|         null|{1, [EFO_1000786]}|   CHEMBL631962|         P|       null|         null|        Log S|          null|         -3.24|                =|                null|  No relevant target|   CHEMBL2362975|               0|  Default value - T...|          null|\n",
      "|CHEMBL110739|Small molecule|                      3.0|     false|         null|{1, [EFO_1000786]}|   CHEMBL665995|         B|       null|         7.20|           Ki|            nM|          63.1|                =|        Homo sapiens|Corticosteroid bi...|      CHEMBL2421|               8|  Homologous single...|          null|\n",
      "|CHEMBL110739|Small molecule|                      3.0|     false|         null|{1, [EFO_1000786]}|  CHEMBL3123849|         A|       null|         null| permeability|         ucm/s|           5.1|                =|                null|               ADMET|    CHEMBL612558|               0|  Default value - T...|          null|\n",
      "|CHEMBL110739|Small molecule|                      3.0|     false|         null|{1, [EFO_1000786]}|  CHEMBL3066824|         P|       null|         null|      logPapp|          null|         -4.77|                =|                null|  No relevant target|   CHEMBL2362975|               0|  Default value - T...|          null|\n",
      "|CHEMBL110739|Small molecule|                      3.0|     false|         null|{1, [EFO_1000786]}|  CHEMBL3066825|         P|       null|         null|         LogP|          null|          1.94|                =|                null|  No relevant target|   CHEMBL2362975|               0|  Default value - T...|          null|\n",
      "|CHEMBL110739|Small molecule|                      3.0|     false|         null|{1, [EFO_1000786]}|   CHEMBL628746|         A|       null|         null|   Absorption|             %|         100.0|                =|        Homo sapiens|        Homo sapiens|       CHEMBL372|               1|  Target assigned i...|          null|\n",
      "|CHEMBL110739|Small molecule|                      3.0|     false|         null|{1, [EFO_1000786]}|  CHEMBL1737902|         F|       null|         null|      Potency|            nM|         100.0|             null|                null|           Unchecked|    CHEMBL612545|               0|  Default value - T...|  confirmatory|\n",
      "|CHEMBL110739|Small molecule|                      3.0|     false|         null|{1, [EFO_1000786]}|   CHEMBL665995|         B|       null|         7.88|           Ki|            nM|         13.18|                =|        Homo sapiens|Corticosteroid bi...|      CHEMBL2421|               8|  Homologous single...|          null|\n",
      "|CHEMBL110739|Small molecule|                      3.0|     false|         null|{1, [EFO_1000786]}|  CHEMBL1614086|         F|       null|         5.90|      Potency|            nM|        1258.9|                =|        Homo sapiens|      Thrombopoietin|   CHEMBL1293256|               9|  Direct single pro...|  confirmatory|\n",
      "|CHEMBL110739|Small molecule|                      3.0|     false|         null|{1, [EFO_1000786]}|   CHEMBL840929|         B|       null|         null|        Log K|          null|         7.881|                =|        Homo sapiens|Corticosteroid bi...|      CHEMBL2421|               8|  Homologous single...|          null|\n",
      "|CHEMBL110739|Small molecule|                      3.0|     false|         null|{1, [EFO_1000786]}|   CHEMBL876466|         P|       null|         null|    Log PNalk|          null|         -1.62|                =|                null|  No relevant target|   CHEMBL2362975|               0|  Default value - T...|          null|\n",
      "|CHEMBL110739|Small molecule|                      3.0|     false|         null|{1, [EFO_1000786]}|  CHEMBL3364959|         A|       null|         null| permeability|    10'-6 cm/s|           6.7|                =|                null|               ADMET|    CHEMBL612558|               0|  Default value - T...|          null|\n",
      "|CHEMBL110739|Small molecule|                      3.0|     false|         null|{1, [EFO_1000786]}|  CHEMBL3066822|         P|       null|         null|          pKa|          null|           0.0|                =|                null|  No relevant target|   CHEMBL2362975|               0|  Default value - T...|          null|\n",
      "|CHEMBL110739|Small molecule|                      3.0|     false|         null|{1, [EFO_1000786]}|  CHEMBL2078511|         F|       null|         null|     Activity|             %|          32.9|                =|   Rattus norvegicus|Solute carrier or...|   CHEMBL1781860|               8|  Homologous single...|          null|\n",
      "|CHEMBL110739|Small molecule|                      3.0|     false|         null|{1, [EFO_1000786]}|  CHEMBL1614456|         F|       null|         7.20|      Potency|            nM|          63.1|                =|        Homo sapiens|Hypoxia-inducible...|      CHEMBL4261|               9|  Direct single pro...|  confirmatory|\n",
      "|CHEMBL110739|Small molecule|                      3.0|     false|         null|{1, [EFO_1000786]}|  CHEMBL1794553|         F|       null|         null|      Potency|            nM|       35481.3|             null|        Homo sapiens|               HepG2|       CHEMBL395|               1|  Target assigned i...|  confirmatory|\n",
      "|CHEMBL110739|Small molecule|                      3.0|     false|         null|{1, [EFO_1000786]}|  CHEMBL1613842|         F|       null|         6.05|      Potency|            nM|         891.3|                =|        Homo sapiens|Survival motor ne...|   CHEMBL1293232|               9|  Direct single pro...|  confirmatory|\n",
      "+------------+--------------+-------------------------+----------+-------------+------------------+---------------+----------+-----------+-------------+-------------+--------------+--------------+-----------------+--------------------+--------------------+----------------+----------------+----------------------+--------------+\n",
      "only showing top 20 rows\n",
      "\n"
     ]
    },
    {
     "name": "stderr",
     "output_type": "stream",
     "text": [
      "                                                                                \r"
     ]
    }
   ],
   "source": [
    "drug_to_assay = join_dataframes(drug_to_activity, assay, \"assay_chembl_id\", \"assay_chembl_id\", list_assay).persist()\n",
    "drug_to_assay.show()"
   ]
  },
  {
   "cell_type": "code",
   "execution_count": 120,
   "metadata": {},
   "outputs": [
    {
     "name": "stderr",
     "output_type": "stream",
     "text": [
      "                                                                                \r"
     ]
    },
    {
     "data": {
      "text/plain": [
       "168729"
      ]
     },
     "execution_count": 120,
     "metadata": {},
     "output_type": "execute_result"
    }
   ],
   "source": [
    "drug_to_assay.count()"
   ]
  },
  {
   "cell_type": "markdown",
   "metadata": {},
   "source": [
    "### Protein classification"
   ]
  },
  {
   "cell_type": "markdown",
   "metadata": {},
   "source": [
    "####  temporal decision - get accession id from Barabara's table"
   ]
  },
  {
   "cell_type": "code",
   "execution_count": 122,
   "metadata": {},
   "outputs": [
    {
     "name": "stdout",
     "output_type": "stream",
     "text": [
      "+---------+----------------+\n",
      "|accession|target_chembl_id|\n",
      "+---------+----------------+\n",
      "|   Q96FL8|   CHEMBL1743126|\n",
      "|   P08684|       CHEMBL340|\n",
      "|   Q12809|       CHEMBL240|\n",
      "|   Q9Y6L6|   CHEMBL1697668|\n",
      "|   P35367|       CHEMBL231|\n",
      "|   P02763|      CHEMBL4285|\n",
      "|   P02768|      CHEMBL3253|\n",
      "|   Q02763|      CHEMBL4128|\n",
      "|   O94956|   CHEMBL1743124|\n",
      "|   Q9NPD5|   CHEMBL1743121|\n",
      "|   O15245|      CHEMBL5685|\n",
      "|   P07550|       CHEMBL210|\n",
      "|   P03372|       CHEMBL206|\n",
      "|   Q92731|       CHEMBL242|\n",
      "|   Q9HA47|      CHEMBL5682|\n",
      "|   O75762|      CHEMBL6007|\n",
      "|   O43868|      CHEMBL5780|\n",
      "|   Q96SW2|   CHEMBL3763008|\n",
      "|   P32320|      CHEMBL4502|\n",
      "|   P27708|      CHEMBL3093|\n",
      "+---------+----------------+\n",
      "only showing top 20 rows\n",
      "\n"
     ]
    }
   ],
   "source": [
    "# Get accession for target_chembl_id from Barbara's table\n",
    "\n",
    "barbara_table_path = pd.read_csv(\"../data/drug2target_bioactivities_chembl_33_grouped.csv\")\n",
    "columns = ['accession', 'target_chembl_id']\n",
    "filtered_table = barbara_table_path[columns].astype(str).drop_duplicates()\n",
    "barbara_table = spark.createDataFrame(filtered_table)\n",
    "barbara_table.show()\n"
   ]
  },
  {
   "cell_type": "code",
   "execution_count": 123,
   "metadata": {},
   "outputs": [
    {
     "name": "stderr",
     "output_type": "stream",
     "text": [
      "[Stage 267:===============================================>     (179 + 8) / 200]\r"
     ]
    },
    {
     "name": "stdout",
     "output_type": "stream",
     "text": [
      "+-------------+--------------+-------------------------+----------+--------------------+--------------------+---------------+----------+-----------+-------------+-------------+--------------+--------------+-----------------+--------------------+--------------------+----------------+----------------+----------------------+--------------+---------+\n",
      "|       drugId|      drugType|maximumClinicalTrialPhase|isApproved|       linkedTargets|      linkedDiseases|assay_chembl_id|assay_type|action_type|pchembl_value|standard_type|standard_units|standard_value|standard_relation|     target_organism|    target_pref_name|target_chembl_id|confidence_score|confidence_description|assay_category|accession|\n",
      "+-------------+--------------+-------------------------+----------+--------------------+--------------------+---------------+----------+-----------+-------------+-------------+--------------+--------------+-----------------+--------------------+--------------------+----------------+----------------+----------------------+--------------+---------+\n",
      "| CHEMBL220492|Small molecule|                      4.0|      true|{37, [ENSG0000014...|{44, [HP_0011868,...|  CHEMBL1645697|         B|       null|         7.54|           Ki|            nM|          29.1|                =|Stylophora pistil...|Alpha carbonic an...|   CHEMBL1075028|               9|  Direct single pro...|          null|     null|\n",
      "| CHEMBL220492|Small molecule|                      4.0|      true|{37, [ENSG0000014...|{44, [HP_0011868,...|  CHEMBL1038579|         B|       null|         7.54|           Ki|            nM|          29.1|                =|Stylophora pistil...|Alpha carbonic an...|   CHEMBL1075028|               9|  Direct single pro...|          null|     null|\n",
      "|CHEMBL1161632|Small molecule|                      3.0|     false|                null|{4, [HP_0000083, ...|  CHEMBL1645697|         B|       null|         null|           Ki|            nM|      450000.0|                =|Stylophora pistil...|Alpha carbonic an...|   CHEMBL1075028|               9|  Direct single pro...|          null|     null|\n",
      "|     CHEMBL17|Small molecule|                      4.0|      true|{4, [ENSG00000133...|{4, [MONDO_000822...|  CHEMBL1645697|         B|       null|         6.37|           Ki|            nM|         431.0|                =|Stylophora pistil...|Alpha carbonic an...|   CHEMBL1075028|               9|  Direct single pro...|          null|     null|\n",
      "|     CHEMBL17|Small molecule|                      4.0|      true|{4, [ENSG00000133...|{4, [MONDO_000822...|  CHEMBL1038579|         B|       null|         6.37|           Ki|            nM|         431.0|                =|Stylophora pistil...|Alpha carbonic an...|   CHEMBL1075028|               9|  Direct single pro...|          null|     null|\n",
      "|     CHEMBL19|Small molecule|                      4.0|      true|{4, [ENSG00000133...|{4, [MONDO_000504...|  CHEMBL1645697|         B|       null|         7.67|           Ki|            nM|          21.2|                =|Stylophora pistil...|Alpha carbonic an...|   CHEMBL1075028|               9|  Direct single pro...|          null|     null|\n",
      "|    CHEMBL419|Small molecule|                      4.0|      true|             {0, []}|{3, [EFO_0009516,...|  CHEMBL1038579|         B|       null|         7.08|           Ki|            nM|          82.5|                =|Stylophora pistil...|Alpha carbonic an...|   CHEMBL1075028|               9|  Direct single pro...|          null|     null|\n",
      "|    CHEMBL865|Small molecule|                      4.0|      true|{1, [ENSG00000073...|{6, [MONDO_000225...|  CHEMBL1645697|         B|       null|         7.54|           Ki|            nM|          28.7|                =|Stylophora pistil...|Alpha carbonic an...|   CHEMBL1075028|               9|  Direct single pro...|          null|     null|\n",
      "|   CHEMBL1352|Small molecule|                      3.0|     false|                null|{8, [EFO_0003144,...|  CHEMBL1645697|         B|       null|         null|           Ki|            nM|      560000.0|                =|Stylophora pistil...|Alpha carbonic an...|   CHEMBL1075028|               9|  Direct single pro...|          null|     null|\n",
      "|CHEMBL1171837|Small molecule|                      4.0|      true|{2, [ENSG00000097...|{19, [EFO_0000222...|  CHEMBL2363850|         F|       null|         6.06|         IC50|            nM|        879.33|                =|        Homo sapiens|           COLO-680N|   CHEMBL1075427|               1|  Target assigned i...|          null|     null|\n",
      "|    CHEMBL848|Small molecule|                      4.0|      true|{4, [ENSG00000113...|{87, [MONDO_01003...|  CHEMBL2363488|         F|       null|         null|         IC50|            nM|     455976.38|                =|        Homo sapiens|           NCI-H1755|   CHEMBL1075524|               1|  Target assigned i...|          null|     null|\n",
      "|CHEMBL1173655|Small molecule|                      4.0|      true|{3, [ENSG00000146...|{28, [EFO_0003869...|  CHEMBL2363488|         F|       null|         4.38|         IC50|            nM|      41872.45|                =|        Homo sapiens|           NCI-H1755|   CHEMBL1075524|               1|  Target assigned i...|          null|     null|\n",
      "| CHEMBL575448|Small molecule|                      2.0|     false|{2, [ENSG00000140...|{2, [MONDO_000725...|  CHEMBL2363488|         F|       null|         5.33|         IC50|            nM|       4629.15|                =|        Homo sapiens|           NCI-H1755|   CHEMBL1075524|               1|  Target assigned i...|          null|     null|\n",
      "| CHEMBL180022|Small molecule|                      4.0|      true|{3, [ENSG00000146...|{18, [EFO_0000339...|   CHEMBL968594|         F|       null|         null|     Activity|          null|         0.891|                =|        Homo sapiens|           NCI-H1755|   CHEMBL1075524|               1|  Target assigned i...|          null|     null|\n",
      "|CHEMBL3545252|Small molecule|                      4.0|      true|{15, [ENSG0000018...|{114, [MONDO_0011...|  CHEMBL2363488|         F|       null|         8.21|         IC50|            nM|         6.237|                =|        Homo sapiens|           NCI-H1755|   CHEMBL1075524|               1|  Target assigned i...|          null|     null|\n",
      "|CHEMBL1171837|Small molecule|                      4.0|      true|{2, [ENSG00000097...|{19, [EFO_0000222...|  CHEMBL2363488|         F|       null|         6.09|         IC50|            nM|        807.14|                =|        Homo sapiens|           NCI-H1755|   CHEMBL1075524|               1|  Target assigned i...|          null|     null|\n",
      "| CHEMBL553025|Small molecule|                      4.0|      true|{15, [ENSG0000018...|{63, [EFO_0000437...|  CHEMBL2363488|         F|       null|         7.76|         IC50|            nM|         17.36|                =|        Homo sapiens|           NCI-H1755|   CHEMBL1075524|               1|  Target assigned i...|          null|     null|\n",
      "|     CHEMBL98|Small molecule|                      4.0|      true|{4, [ENSG00000116...|{88, [MONDO_00089...|  CHEMBL2363488|         F|       null|         4.78|         IC50|            nM|      16572.97|                =|        Homo sapiens|           NCI-H1755|   CHEMBL1075524|               1|  Target assigned i...|          null|     null|\n",
      "|CHEMBL1972860|Small molecule|                      3.0|     false|                null|{5, [MONDO_000831...|  CHEMBL2363488|         F|       null|         7.88|         IC50|            nM|         13.33|                =|        Homo sapiens|           NCI-H1755|   CHEMBL1075524|               1|  Target assigned i...|          null|     null|\n",
      "| CHEMBL573107|Small molecule|                     null|      null|                null|                null|  CHEMBL2363488|         F|       null|         4.47|         IC50|            nM|      33810.96|                =|        Homo sapiens|           NCI-H1755|   CHEMBL1075524|               1|  Target assigned i...|          null|     null|\n",
      "+-------------+--------------+-------------------------+----------+--------------------+--------------------+---------------+----------+-----------+-------------+-------------+--------------+--------------+-----------------+--------------------+--------------------+----------------+----------------+----------------------+--------------+---------+\n",
      "only showing top 20 rows\n",
      "\n"
     ]
    },
    {
     "name": "stderr",
     "output_type": "stream",
     "text": [
      "                                                                                \r"
     ]
    }
   ],
   "source": [
    "# Join target_chembl_id and accession from Barbara's table\n",
    "\n",
    "list_protein = [\"accession\"]\n",
    "              \n",
    "target_to_uniprot = join_dataframes(drug_to_assay, barbara_table, \"target_chembl_id\", \"target_chembl_id\", list_protein).persist()\n",
    "\n",
    "# from pyspark.sql.functions import col\n",
    "# target_to_uniprot = target_to_uniprot.filter(col(\"accession\") != \"null\")\n",
    "\n",
    "target_to_uniprot.show()"
   ]
  },
  {
   "cell_type": "code",
   "execution_count": 124,
   "metadata": {},
   "outputs": [
    {
     "name": "stderr",
     "output_type": "stream",
     "text": [
      "                                                                                \r"
     ]
    },
    {
     "data": {
      "text/plain": [
       "171911"
      ]
     },
     "execution_count": 124,
     "metadata": {},
     "output_type": "execute_result"
    }
   ],
   "source": [
    "target_to_uniprot.count()"
   ]
  },
  {
   "cell_type": "code",
   "execution_count": 125,
   "metadata": {},
   "outputs": [
    {
     "name": "stdout",
     "output_type": "stream",
     "text": [
      "+---------+------------+\n",
      "|accession|proteinClass|\n",
      "+---------+------------+\n",
      "|   P32929|      Enzyme|\n",
      "|   A4D0Y5|        None|\n",
      "|   Q49A92|        None|\n",
      "|   Q9UFW8|        None|\n",
      "|   Q96K31|        None|\n",
      "|   O14646|  Epigenetic|\n",
      "|   Q8IWX8|        None|\n",
      "|   Q99653|        None|\n",
      "|   O94983|          TF|\n",
      "|   Q8NA66|        None|\n",
      "|   Q96M20|        None|\n",
      "|   Q86VU5|      Enzyme|\n",
      "|   P42695|        None|\n",
      "|   Q8IYT2|      Enzyme|\n",
      "|   Q9NSA3|        None|\n",
      "|   Q96KP4|      Enzyme|\n",
      "|   Q13956|      Enzyme|\n",
      "|   O95476|      Enzyme|\n",
      "|   Q9BYD5|        None|\n",
      "|   Q969H4|      Enzyme|\n",
      "+---------+------------+\n",
      "only showing top 20 rows\n",
      "\n"
     ]
    }
   ],
   "source": [
    "# Protein classification by uniprot from SwissProt\n",
    "\n",
    "proteinclass_path = pd.read_csv(\"../data/uniprot2family.csv\")\n",
    "proteinclass_str = proteinclass_path.astype(str).drop_duplicates()\n",
    "proteinclass = spark.createDataFrame(proteinclass_str)\n",
    "proteinclass.show()"
   ]
  },
  {
   "cell_type": "code",
   "execution_count": 126,
   "metadata": {},
   "outputs": [
    {
     "name": "stderr",
     "output_type": "stream",
     "text": [
      "[Stage 287:==========================================>         (164 + 17) / 200]\r"
     ]
    },
    {
     "name": "stdout",
     "output_type": "stream",
     "text": [
      "+-------------+--------------+-------------------------+----------+--------------------+--------------------+---------------+----------+-----------+-------------+-----------------+--------------+--------------+-----------------+---------------+--------------------+----------------+----------------+----------------------+--------------+---------+------------+\n",
      "|       drugId|      drugType|maximumClinicalTrialPhase|isApproved|       linkedTargets|      linkedDiseases|assay_chembl_id|assay_type|action_type|pchembl_value|    standard_type|standard_units|standard_value|standard_relation|target_organism|    target_pref_name|target_chembl_id|confidence_score|confidence_description|assay_category|accession|proteinClass|\n",
      "+-------------+--------------+-------------------------+----------+--------------------+--------------------+---------------+----------+-----------+-------------+-----------------+--------------+--------------+-----------------+---------------+--------------------+----------------+----------------+----------------------+--------------+---------+------------+\n",
      "| CHEMBL527881|Small molecule|                     null|      null|                null|                null|   CHEMBL944208|         B|       null|         5.43|             IC50|            nM|        3700.0|                =|   Homo sapiens|Cyclin-dependent ...|      CHEMBL5578|               8|  Homologous single...|          null|   O14519|      Enzyme|\n",
      "| CHEMBL487273|Small molecule|                     null|      null|                null|                null|   CHEMBL944208|         B|       null|         5.29|             IC50|            nM|        5100.0|                =|   Homo sapiens|Cyclin-dependent ...|      CHEMBL5578|               8|  Homologous single...|          null|   O14519|      Enzyme|\n",
      "|CHEMBL1270230|Small molecule|                     null|      null|                null|                null|  CHEMBL1274133|         B|       null|         5.51|             IC50|            nM|        3100.0|                =|   Homo sapiens|Cyclin-dependent ...|   CHEMBL2094127|               6|  Homologous protei...|          null|   P06493|      Kinase|\n",
      "|    CHEMBL151|Small molecule|                      2.0|     false|                null|                null|   CHEMBL832848|         B|       null|         5.21|             IC50|            nM|        6200.0|                =|   Homo sapiens|Cyclin-dependent ...|   CHEMBL2094127|               6|  Homologous protei...|          null|   P06493|      Kinase|\n",
      "|  CHEMBL14762|Small molecule|                      2.0|     false|{5, [ENSG00000136...|{5, [MONDO_000906...|   CHEMBL664570|         B|       null|         6.19|             IC50|            nM|         650.0|                =|   Homo sapiens|Cyclin-dependent ...|   CHEMBL2094127|               6|  Homologous protei...|          null|   P06493|      Kinase|\n",
      "|CHEMBL1230607|Small molecule|                      1.0|     false|{20, [ENSG0000017...|  {1, [EFO_0000616]}|  CHEMBL1067726|         B|       null|         null|         Activity|          null|          null|             null|   Homo sapiens|Cyclin-dependent ...|   CHEMBL3559691|               5|  Multiple direct p...|          null|   P06493|      Kinase|\n",
      "|CHEMBL1230607|Small molecule|                      1.0|     false|{20, [ENSG0000017...|  {1, [EFO_0000616]}|  CHEMBL1067724|         B|       null|         null|         Activity|          null|          null|             null|   Homo sapiens|Cyclin-dependent ...|   CHEMBL3559691|               5|  Multiple direct p...|          null|   P06493|      Kinase|\n",
      "| CHEMBL258844|Small molecule|                     null|      null|                null|                null|  CHEMBL2218968|         B|       null|         null|Residual Activity|             %|         109.0|                =|   Homo sapiens|Cyclin-dependent ...|   CHEMBL1907602|               7|  Direct protein co...|          null|   P06493|      Kinase|\n",
      "|CHEMBL4442620|Small molecule|                      2.0|     false|{20, [ENSG0000017...|{3, [EFO_0003060,...|  CHEMBL3607089|         B|       null|         8.15|             IC50|            nM|           7.0|                =|   Homo sapiens|Cyclin-dependent ...|   CHEMBL1907602|               7|  Direct protein co...|          null|   P06493|      Kinase|\n",
      "|CHEMBL4442620|Small molecule|                      2.0|     false|{20, [ENSG0000017...|{3, [EFO_0003060,...|  CHEMBL4613391|         B|       null|         8.15|             IC50|            nM|           7.0|                =|   Homo sapiens|Cyclin-dependent ...|   CHEMBL1907602|               7|  Direct protein co...|          null|   P06493|      Kinase|\n",
      "| CHEMBL445813|Small molecule|                      2.0|     false|{20, [ENSG0000017...|{5, [EFO_0000616,...|   CHEMBL971700|         B|       null|         6.72|             IC50|            nM|         190.0|                =|   Homo sapiens|Cyclin-dependent ...|   CHEMBL1907602|               6|  Homologous protei...|          null|   P06493|      Kinase|\n",
      "| CHEMBL561708|Small molecule|                     null|      null|                null|                null|  CHEMBL1060444|         B|       null|         null|             IC50|            nM|       50000.0|                >|   Homo sapiens|Cyclin-dependent ...|   CHEMBL1907602|               6|  Homologous protei...|          null|   P06493|      Kinase|\n",
      "| CHEMBL407874|Small molecule|                      3.0|     false|                null|{12, [EFO_0001378...|   CHEMBL661115|         B|       null|         4.62|             IC50|            nM|       24000.0|                =|   Homo sapiens|Cyclin-dependent ...|   CHEMBL1907602|               6|  Homologous protei...|          null|   P06493|      Kinase|\n",
      "| CHEMBL407874|Small molecule|                      3.0|     false|                null|{12, [EFO_0001378...|   CHEMBL952114|         B|       null|         4.62|             IC50|            nM|       24000.0|                =|   Homo sapiens|Cyclin-dependent ...|   CHEMBL1907602|               6|  Homologous protei...|          null|   P06493|      Kinase|\n",
      "| CHEMBL564829|Small molecule|                      2.0|     false|{4, [ENSG00000123...|{4, [EFO_1000576,...|  CHEMBL1054636|         B|       null|         6.40|             IC50|            nM|         398.0|                =|   Homo sapiens|Cyclin-dependent ...|   CHEMBL1907602|               6|  Homologous protei...|          null|   P06493|      Kinase|\n",
      "| CHEMBL428690|Small molecule|                      3.0|     false|{6, [ENSG00000170...|{26, [EFO_0001378...|  CHEMBL3856462|         B|       null|         7.57|             IC50|            nM|          27.0|                =|   Homo sapiens|Cyclin-dependent ...|   CHEMBL1907602|               7|  Direct protein co...|          null|   P06493|      Kinase|\n",
      "| CHEMBL471901|Small molecule|                     null|      null|                null|                null|  CHEMBL2218969|         B|       null|         null|Residual Activity|             %|          43.0|                =|   Homo sapiens|Cyclin-dependent ...|   CHEMBL1907602|               7|  Direct protein co...|          null|   P06493|      Kinase|\n",
      "|  CHEMBL14762|Small molecule|                      2.0|     false|{5, [ENSG00000136...|{5, [MONDO_000906...|   CHEMBL661116|         B|       null|         6.35|             IC50|            nM|         450.0|                =|   Homo sapiens|Cyclin-dependent ...|   CHEMBL1907602|               6|  Homologous protei...|          null|   P06493|      Kinase|\n",
      "|CHEMBL1933279|Small molecule|                     null|      null|                null|                null|  CHEMBL1936695|         B|       null|         null|       Inhibition|             %|          80.0|               >=|   Homo sapiens|Cyclin-dependent ...|   CHEMBL1907602|               7|  Direct protein co...|          null|   P06493|      Kinase|\n",
      "|CHEMBL1952329|Small molecule|                      1.0|     false|{3, [ENSG00000137...|{3, [MONDO_000831...|  CHEMBL3991650|         B|       null|         null|               Kd|            nM|       30000.0|                >|   Homo sapiens|Cyclin-dependent ...|       CHEMBL308|               9|  Direct single pro...|          null|   P06493|      Kinase|\n",
      "+-------------+--------------+-------------------------+----------+--------------------+--------------------+---------------+----------+-----------+-------------+-----------------+--------------+--------------+-----------------+---------------+--------------------+----------------+----------------+----------------------+--------------+---------+------------+\n",
      "only showing top 20 rows\n",
      "\n"
     ]
    },
    {
     "name": "stderr",
     "output_type": "stream",
     "text": [
      "                                                                                \r"
     ]
    }
   ],
   "source": [
    "# Protein classification\n",
    "proteinclass_list = [\"proteinClass\"]\n",
    "uniprot_to_class = join_dataframes(target_to_uniprot, proteinclass, \"accession\", \"accession\", proteinclass_list).persist()\n",
    "uniprot_to_class.show()"
   ]
  },
  {
   "cell_type": "code",
   "execution_count": 127,
   "metadata": {},
   "outputs": [
    {
     "name": "stderr",
     "output_type": "stream",
     "text": [
      "[Stage 295:====================================================>(199 + 1) / 200]\r"
     ]
    },
    {
     "name": "stdout",
     "output_type": "stream",
     "text": [
      "+--------------+------+\n",
      "|  proteinClass| count|\n",
      "+--------------+------+\n",
      "|        Enzyme|  8636|\n",
      "|          None|  3936|\n",
      "|          GPCR| 13056|\n",
      "|        Kinase| 14621|\n",
      "|            TF|   226|\n",
      "|            IC|  1295|\n",
      "|            NR|  1898|\n",
      "|    Epigenetic|  1417|\n",
      "|          null|125266|\n",
      "|   Transporter|  1528|\n",
      "|TF; Epigenetic|    32|\n",
      "+--------------+------+\n",
      "\n"
     ]
    },
    {
     "name": "stderr",
     "output_type": "stream",
     "text": [
      "                                                                                \r"
     ]
    }
   ],
   "source": [
    "show_unique_values_and_counts(uniprot_to_class, 'proteinClass')"
   ]
  },
  {
   "cell_type": "code",
   "execution_count": 128,
   "metadata": {},
   "outputs": [
    {
     "data": {
      "text/plain": [
       "171911"
      ]
     },
     "execution_count": 128,
     "metadata": {},
     "output_type": "execute_result"
    }
   ],
   "source": [
    "uniprot_to_class.count()"
   ]
  },
  {
   "cell_type": "code",
   "execution_count": 129,
   "metadata": {},
   "outputs": [],
   "source": [
    "# uniprot_to_class.write.parquet(\"data/analysis/v2/uniprot_to_class_temp_v1\")"
   ]
  },
  {
   "cell_type": "markdown",
   "metadata": {},
   "source": [
    "# Data processing"
   ]
  },
  {
   "cell_type": "markdown",
   "metadata": {},
   "source": [
    "### Drug-target pairs: Target is in MoA of a drug (targetInMoA, boolean)"
   ]
  },
  {
   "cell_type": "code",
   "execution_count": 140,
   "metadata": {},
   "outputs": [
    {
     "name": "stderr",
     "output_type": "stream",
     "text": [
      "[Stage 320:================================================>      (15 + 2) / 17]\r"
     ]
    },
    {
     "name": "stdout",
     "output_type": "stream",
     "text": [
      "+----------------+--------------------+--------------+--------------+--------------------+--------------------+--------------------+--------------------+--------------------+--------------------+--------------------+--------------------+--------------------+--------------------+---------------+--------------------+--------------------+--------------------+--------------------+--------------------+--------------------+--------------------+--------------------+--------------------+--------------------+----+--------------------+--------------------+\n",
      "|alternativeGenes|        approvedName|approvedSymbol|       biotype|      canonicalExons| canonicalTranscript|      chemicalProbes|          constraint|             dbXrefs|functionDescriptions|     genomicLocation|                  go|           hallmarks|          homologues|             id|        nameSynonyms|       obsoleteNames|     obsoleteSymbols|            pathways|          proteinIds|   safetyLiabilities|subcellularLocations|      symbolSynonyms|            synonyms|         targetClass| tep|        tractability|       transcriptIds|\n",
      "+----------------+--------------------+--------------+--------------+--------------------+--------------------+--------------------+--------------------+--------------------+--------------------+--------------------+--------------------+--------------------+--------------------+---------------+--------------------+--------------------+--------------------+--------------------+--------------------+--------------------+--------------------+--------------------+--------------------+--------------------+----+--------------------+--------------------+\n",
      "|            null|CD99 molecule (Xg...|          CD99|protein_coding|[2738200, 2738256...|{X, 2741309, ENST...|                null|[{syn, 42.64, 44,...|[{7082, HGNC}, {7...|[Involved in T-ce...|{X, 2741309, 2691...|[{F, ECO:0000353,...|                null|[{within_species_...|ENSG00000002586|[{CD99 antigen, u...|[{antigen identif...|[{MIC2, HGNC}, {M...|[{Immunoregulator...|[{P14209, uniprot...|                null|[{Cellular compon...|[{CD99, uniprot},...|[{CD99 antigen, u...|                null|null|[{Approved Drug, ...|[ENST00000482405,...|\n",
      "|            null|            matrin 3|         MATR3|protein_coding|[139329345, 13933...|{5, 139331677, EN...|                null|[{syn, 159.23, 15...|[{6912, HGNC}, {I...|[May play a role ...|{5, 139331677, 13...|[{F, ECO:0000353,...|                null|[{within_species_...|ENSG00000015479|[{Matrin-3, unipr...|[{myopathy, dista...|      [{MPD2, HGNC}]|                null|[{P43243, uniprot...|                null|[{Cellular compon...|[{MATR3, uniprot}...|[{Matrin-3, unipr...|                null|null|[{Approved Drug, ...|[ENST00000504311,...|\n",
      "|            null|fms related recep...|          FLT4|protein_coding|[180601506, 18060...|{5, 180649600, EN...|                null|[{syn, 395.18, 44...|[{3767, HGNC}, {4...|[Tyrosine-protein...|{5, 180649624, 18...|[{P, ECO:0000314,...|{[{role in cancer...|[{other_paralog, ...|ENSG00000037280|[{Vascular endoth...|[{fms-related tyr...|                  []|[{VEGF binds to V...|[{P35916, uniprot...|[{[{cell-free, nu...|[{Cellular compon...|[{FLT4, uniprot},...|[{Vascular endoth...|[{0, Tyrosine pro...|null|[{Approved Drug, ...|[ENST00000619105,...|\n",
      "|            null|            versican|          VCAN|protein_coding|[83537007, 835422...|{5, 83582302, ENS...|                null|[{syn, 631.29, 63...|[{2464, HGNC}, {D...|[May play a role ...|{5, 83582303, 834...|[{C, ECO:0007005,...|                null|[{other_paralog, ...|ENSG00000038427|[{Versican core p...|[{chondroitin sul...|     [{CSPG2, HGNC}]|[{ECM proteoglyca...|[{P13611, uniprot...|                null|[{Cellular compon...|[{VCAN, uniprot},...|[{Versican core p...|                null|null|[{Approved Drug, ...|[ENST00000503923,...|\n",
      "|            null|TNFAIP3 interacti...|         TNIP3|protein_coding|[121131408, 12113...|{4, 121164321, EN...|                null|[{syn, 72.732, 65...|[{19315, HGNC}, {...|[Binds to zinc fi...|{4, 121227466, 12...|[{P, ECO:0000318,...|                null|[{within_species_...|ENSG00000050730|[{TNFAIP3-interac...|                  []|                  []|[{Ovarian tumor d...|[{Q96KP6, uniprot...|                null|                  []|[{TNIP3, uniprot}...|[{TNFAIP3-interac...|                null|null|[{Approved Drug, ...|[ENST00000057513,...|\n",
      "|            null|X-ray repair cros...|         XRCC1|protein_coding|[43546884, 435469...|{19, 43575527, EN...|                null|[{syn, 148.8, 135...|[{12828, HGNC}, {...|[Scaffold protein...|{19, 43580473, 43...|[{F, ECO:0000265,...|                null|[{within_species_...|ENSG00000073050|[{DNA repair prot...|[{X-ray repair co...|       [{RCC, HGNC}]|[{Gap-filling DNA...|[{P18887, uniprot...|                null|[{Cellular compon...|[{XRCC1, uniprot}...|[{DNA repair prot...|                null|null|[{Approved Drug, ...|[ENST00000594511,...|\n",
      "|            null|RAP1 GTPase activ...|       RAP1GAP|protein_coding|[21613176, 216132...|{1, 21669357, ENS...|                null|[{syn, 194.44, 20...|[{9858, HGNC}, {1...|[GTPase activator...|{1, 21669357, 215...|[{P, ECO:0000304,...|                null|[{other_paralog, ...|ENSG00000076864|[{Rap1 GTPase-act...|[{RAP1, GTPase ac...|   [{RAP1GA1, HGNC}]|[{RET signaling, ...|[{P47736, uniprot...|                null|[{Cellular compon...|[{RAP1GAP, unipro...|[{Rap1 GTPase-act...|                null|null|[{Approved Drug, ...|[ENST00000464457,...|\n",
      "|            null|           nebulette|          NEBL|protein_coding|[20808510, 208086...|{10, 20897311, EN...|                null|[{syn, 188.71, 21...|[{16932, HGNC}, {...|[Binds to actin a...|{10, 21293011, 20...|[{F, ECO:0000353,...|                null|[{other_paralog, ...|ENSG00000078114|[{Nebulette, unip...|[{chromosome 10 o...| [{C10orf113, HGNC}]|                null|[{O76041, uniprot...|                null|[{Cellular compon...|[{NEBL, uniprot},...|[{Nebulette, unip...|                null|null|[{Approved Drug, ...|[ENST00000493005,...|\n",
      "|            null|immunoglobulin su...|         IGSF9|protein_coding|[159943397, 15994...|{1, 159945613, EN...|                null|[{syn, 283.89, 26...|[{18132, HGNC}, {...|[Functions in den...|{1, 159945613, 15...|[{P, ECO:0000318,...|                null|[{other_paralog, ...|ENSG00000085552|[{Protein turtle ...|[{immunoglobulin ...|                  []|                null|[{Q9P2J2, uniprot...|                null|[{Cellular compon...|[{IGSF9, uniprot}...|[{Protein turtle ...|                null|null|[{Approved Drug, ...|[ENST00000476102,...|\n",
      "|            null|baculoviral IAP r...|         BIRC5|protein_coding|[78214253, 782144...|{17, 78225635, EN...|                null|[{syn, 32.98, 31,...|[{593, HGNC}, {1E...|[Multitasking pro...|{17, 78225636, 78...|[{F, ECO:0000353,...|                null|[{other_paralog, ...|ENSG00000089685|[{Baculoviral IAP...|[{apoptosis inhib...|      [{API4, HGNC}]|[{Resolution of S...|[{O15392, uniprot...|                null|[{Cellular compon...|[{BIRC5, uniprot}...|[{Baculoviral IAP...|[{0, Unclassified...|null|[{Approved Drug, ...|[ENST00000586192,...|\n",
      "|            null|solute carrier fa...|      SLC25A17|protein_coding|[40819195, 408193...|{22, 40819346, EN...|                null|[{syn, 62.511, 59...|[{10987, HGNC}, {...|[Peroxisomal tran...|{22, 40819399, 40...|[{C, ECO:0000314,...|                null|[{other_paralog, ...|ENSG00000100372|[{Peroxisomal mem...|[{solute carrier ...|                  []|[{Alpha-oxidation...|[{O43808, uniprot...|                null|[{Cellular compon...|[{SLC25A17 {ECO:0...|[{Peroxisomal mem...|                null|null|[{Approved Drug, ...|[ENST00000458600,...|\n",
      "|            null|           isthmin 2|          ISM2|protein_coding|[77474394, 774761...|{14, 77498816, EN...|                null|[{syn, 138.21, 14...|[{23176, HGNC}, {...|                  []|{14, 77498816, 77...|[{C, ECO:0007322,...|                null|[{ortholog_one2on...|ENSG00000100593|[{Isthmin-2, unip...|[{thrombospondin,...|     [{THSD3, HGNC}]|                null|[{Q6H9L7, uniprot...|                null|[{Cellular compon...|[{ISM2, uniprot},...|[{Isthmin-2, unip...|                null|null|[{Approved Drug, ...|[ENST00000487738,...|\n",
      "|            null|CUGBP Elav-like f...|         CELF4|protein_coding|[37565356, 375657...|{18, 37565798, EN...|                null|[{syn, 131.29, 11...|[{14015, HGNC}, {...|[RNA-binding prot...|{18, 37565827, 37...|[{P, ECO:0000303,...|                null|[{other_paralog, ...|ENSG00000101489|[{CUGBP Elav-like...|[{Bruno (Drosophi...|   [{BRUNOL4, HGNC}]|                null|[{Q9BZC1, uniprot...|                null|[{Cellular compon...|[{CELF4, uniprot}...|[{CUGBP Elav-like...|                null|null|[{Approved Drug, ...|[ENST00000588591,...|\n",
      "|            null|zinc finger prote...|        ZNF516|protein_coding|[76495144, 764952...|{18, 76495242, EN...|                null|[{syn, 371.96, 43...|[{28990, HGNC}, {...|[Transcriptional ...|{18, 76495242, 76...|[{F, ECO:0000265,...|                null|[{other_paralog, ...|ENSG00000101493|[{Zinc finger pro...|                  []|                  []|                null|[{Q92618, uniprot...|                null|[{Cellular compon...|[{ZNF516, uniprot...|[{Zinc finger pro...|                null|null|[{Approved Drug, ...|[ENST00000542818,...|\n",
      "|            null|leucine zipper pr...|         LUZP4|protein_coding|[115303300, 11530...|{X, 115307563, EN...|                null|[{syn, 39.832, 37...|[{24971, HGNC}, {...|[Export adapter i...|{X, 115307563, 11...|[{F, ECO:0007322,...|                null|[{ortholog_one2ma...|ENSG00000102021|[{Leucine zipper ...|                  []|                  []|[{Transport of Ma...|[{Q9P127, uniprot...|                null|[{Cellular compon...|[{LUZP4, uniprot}...|[{Leucine zipper ...|                null|null|[{Approved Drug, ...|[ENST00000371921,...|\n",
      "|            null|glutathione-disul...|           GSR|protein_coding|[30680904, 306810...|{8, 30727846, ENS...|[{null, CHEMBL120...|[{syn, 102.53, 95...|[{4623, HGNC}, {1...|[Maintains high l...|{8, 30727846, 306...|[{C, ECO:0007005,...|                null|[{other_paralog, ...|ENSG00000104687|[{Glutathione red...|[{glutathione red...|                  []|[{Metabolism of i...|[{P00390, uniprot...|                null|[{Cellular compon...|[{GSR, uniprot}, ...|[{Glutathione red...|[{0, Oxidoreducta...|null|[{Approved Drug, ...|[ENST00000643653,...|\n",
      "|            null|        calcyphosine|          CAPS|protein_coding|[5914940, 5915146...|{19, 5916211, ENS...|                null|[{syn, 62.893, 55...|[{1487, HGNC}, {3...|[Calcium-binding ...|{19, 5916211, 591...|[{F, ECO:0000256,...|                null|[{other_paralog, ...|ENSG00000105519|[{Calcyphosin, un...|                  []|                  []|                null|[{Q13938, uniprot...|                null|[{Cellular compon...|[{CAPS, uniprot},...|[{Calcyphosin, un...|                null|null|[{Approved Drug, ...|[ENST00000588776,...|\n",
      "|            null|amyloid beta prec...|         APBA1|protein_coding|[69456247, 694564...|{9, 69672371, ENS...|                null|[{syn, 262.75, 27...|[{578, HGNC}, {1A...|[Putative functio...|{9, 69672371, 694...|[{F, ECO:0000353,...|                null|[{other_paralog, ...|ENSG00000107282|[{Amyloid-beta A4...|[{amyloid beta (A...|     [{MINT1, HGNC}]|[{Dopamine Neurot...|[{Q02410, uniprot...|                null|[{Cellular compon...|[{APBA1, uniprot}...|[{Amyloid-beta A4...|[{0, Unclassified...|null|[{Approved Drug, ...|[ENST00000265381,...|\n",
      "|            null|mitochondrial pol...|         MTPAP|protein_coding|[30349119, 303492...|{10, 30349278, EN...|                null|[{syn, 116.38, 12...|[{25532, HGNC}, {...|[Polymerase that ...|{10, 30374448, 30...|[{F, ECO:0000314,...|                null|[{other_paralog, ...|ENSG00000107951|[{Poly(A) RNA pol...|[{PAP associated ...|     [{PAPD1, HGNC}]|                null|[{Q9NVV4, uniprot...|                null|[{Cellular compon...|[{MTPAP, uniprot}...|[{Poly(A) RNA pol...|                null|null|[{Approved Drug, ...|[ENST00000263063,...|\n",
      "|            null|lactate dehydroge...|          LDHB|protein_coding|[21638353, 216384...|{12, 21657842, EN...|                null|[{syn, 66.103, 58...|[{6541, HGNC}, {1...|[Interconverts si...|{12, 21757857, 21...|[{F, ECO:0000353,...|                null|[{other_paralog, ...|ENSG00000111716|[{L-lactate dehyd...|                  []|                  []|[{Pyruvate metabo...|[{P07195, uniprot...|                null|[{Cellular compon...|[{LDHB, uniprot},...|[{L-lactate dehyd...|[{0, Oxidoreducta...|null|[{Approved Drug, ...|[ENST00000539782,...|\n",
      "+----------------+--------------------+--------------+--------------+--------------------+--------------------+--------------------+--------------------+--------------------+--------------------+--------------------+--------------------+--------------------+--------------------+---------------+--------------------+--------------------+--------------------+--------------------+--------------------+--------------------+--------------------+--------------------+--------------------+--------------------+----+--------------------+--------------------+\n",
      "only showing top 20 rows\n",
      "\n"
     ]
    },
    {
     "name": "stderr",
     "output_type": "stream",
     "text": [
      "23/12/08 14:36:37 WARN CacheManager: Asked to cache already cached data.        \n"
     ]
    }
   ],
   "source": [
    "# Targets dataset to map accession to Ensembl\n",
    "target_path = \"gs://open-targets-data-releases/23.12/output/etl/json/targets\"\n",
    "target = spark.read.json(target_path)\n",
    "target.persist()\n",
    "target.show()\n"
   ]
  },
  {
   "cell_type": "markdown",
   "metadata": {},
   "source": [
    "### Targets"
   ]
  },
  {
   "cell_type": "code",
   "execution_count": 131,
   "metadata": {},
   "outputs": [],
   "source": [
    "# Evidence type: sources + classification for GE, clinical_GE, probes (boolean)\n",
    "\n"
   ]
  },
  {
   "cell_type": "markdown",
   "metadata": {},
   "source": [
    "## Assay type filtering"
   ]
  },
  {
   "cell_type": "code",
   "execution_count": 132,
   "metadata": {},
   "outputs": [],
   "source": [
    "# assay_type ≠ P, U\n",
    "\n",
    "# confidence_score = 9,7\n",
    "\n",
    "# assay_organism = human\n"
   ]
  },
  {
   "cell_type": "markdown",
   "metadata": {},
   "source": [
    "## Activity threshold"
   ]
  },
  {
   "cell_type": "code",
   "execution_count": 133,
   "metadata": {},
   "outputs": [],
   "source": [
    "# Where pchembl_value is available for each T-D pairs make new columns:\n",
    "#     1. max_pchembl_value\n",
    "#     2. median_pchembl_value"
   ]
  },
  {
   "cell_type": "code",
   "execution_count": 134,
   "metadata": {},
   "outputs": [],
   "source": [
    "# Where pchembl_value is not available for each T-D pairs make new columns:\n",
    "#     1. Calculate how much data is this\n",
    "#     2. Think about what to do with different standard_units\n",
    "#     3. Ideally:\n",
    "#         1. max_standard_value_n\n",
    "#         2. median_standard_value_n\n",
    "#         3. Cutoff for every n"
   ]
  },
  {
   "cell_type": "code",
   "execution_count": 135,
   "metadata": {},
   "outputs": [],
   "source": [
    "# Make column with activity of molecule: drugActive = TRUE/FALSE\n",
    "#     1. based protein type and:\n",
    "#         1. max_pchembl_value\n",
    "#         2. median_pchembl_value\n",
    "#     2. based on cutoffs for other experiment types"
   ]
  },
  {
   "cell_type": "markdown",
   "metadata": {},
   "source": [
    "# Data coverage"
   ]
  },
  {
   "cell_type": "markdown",
   "metadata": {},
   "source": [
    "### Drugs"
   ]
  },
  {
   "cell_type": "code",
   "execution_count": 136,
   "metadata": {},
   "outputs": [],
   "source": [
    "# Filtering by:\n",
    "#         1. max_phase ≠ 4 | max_phase = 4 | probes = TRUE\n",
    "#         2. moa = NaN | moa ≠ NaN\n",
    "#         3. drugActive = TRUE\n",
    "#         4. GE = TRUE | clinical_GE = TRUE"
   ]
  },
  {
   "cell_type": "code",
   "execution_count": 137,
   "metadata": {},
   "outputs": [],
   "source": [
    "# Number of clinical candidates/approved drugs/chemical probes for which:\n",
    "#     1. there is no MoA and they are bioactive against some targets:\n",
    "#         1. which have GE/GE+clinical evidence for any disease\n",
    "#     2. there is MoA but they are bioactive against some other targets\n",
    "#         1. which have GE/GE+clinical evidence for any disease"
   ]
  },
  {
   "cell_type": "markdown",
   "metadata": {},
   "source": [
    "### Targets"
   ]
  },
  {
   "cell_type": "code",
   "execution_count": 138,
   "metadata": {},
   "outputs": [],
   "source": [
    "# For which action type is avaliable"
   ]
  },
  {
   "cell_type": "markdown",
   "metadata": {},
   "source": [
    "### Drug-Target pairs"
   ]
  },
  {
   "cell_type": "code",
   "execution_count": 139,
   "metadata": {},
   "outputs": [],
   "source": [
    "# With non pharmacological action\n"
   ]
  },
  {
   "cell_type": "markdown",
   "metadata": {},
   "source": []
  }
 ],
 "metadata": {
  "kernelspec": {
   "display_name": "PySpark",
   "language": "python",
   "name": "pyspark"
  },
  "language_info": {
   "codemirror_mode": {
    "name": "ipython",
    "version": 3
   },
   "file_extension": ".py",
   "mimetype": "text/x-python",
   "name": "python",
   "nbconvert_exporter": "python",
   "pygments_lexer": "ipython3",
   "version": "3.10.8"
  },
  "orig_nbformat": 4
 },
 "nbformat": 4,
 "nbformat_minor": 2
}
