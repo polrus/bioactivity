{
 "cells": [
  {
   "cell_type": "code",
   "execution_count": 23,
   "metadata": {},
   "outputs": [],
   "source": [
    "from pyspark.sql import SparkSession\n",
    "import pyspark.sql.functions as f\n",
    "from pyspark.sql import DataFrame\n",
    "from pyspark.sql.functions import col\n",
    "from pyspark.sql.functions import udf\n",
    "from pyspark.sql.types import StringType\n",
    "from pyspark.sql import Row\n",
    "from pyspark.sql.functions import col, broadcast, when, max, expr, collect_list, concat_ws, array_contains, split\n",
    "from pyspark.sql.types import BooleanType"
   ]
  },
  {
   "cell_type": "code",
   "execution_count": 24,
   "metadata": {},
   "outputs": [],
   "source": [
    "spark = SparkSession.builder.getOrCreate()"
   ]
  },
  {
   "cell_type": "code",
   "execution_count": 25,
   "metadata": {},
   "outputs": [],
   "source": [
    "# Bioactivity data from ChEMBL filtered (exact protein/homolog, assay type != P or U, human targets)\n",
    "input_path = \"gs://ot-team/polina/uniprot_to_class\"\n",
    "input = spark.read.parquet(input_path)"
   ]
  },
  {
   "cell_type": "code",
   "execution_count": 26,
   "metadata": {},
   "outputs": [],
   "source": [
    "def join_dataframes(initial_df: DataFrame, \n",
    "                    second_df: DataFrame, \n",
    "                    initial_key_column: str, \n",
    "                    second_key_column: str,\n",
    "                    columns_to_join: list) -> DataFrame:\n",
    "    \"\"\"\n",
    "    Joins two PySpark DataFrames on specified key columns.\n",
    "\n",
    "    Args:\n",
    "    initial_df (DataFrame): The initial PySpark DataFrame.\n",
    "    second_df (DataFrame): The second PySpark DataFrame to join with.\n",
    "    initial_key_column (str): The key column name in the initial DataFrame.\n",
    "    second_key_column (str): The key column name in the second DataFrame.\n",
    "    columns_to_join (list): List of column names from the second DataFrame to include in the join.\n",
    "\n",
    "    Returns:\n",
    "    DataFrame: The resulting DataFrame after the join.\n",
    "    \"\"\"\n",
    "\n",
    "    # Selecting specified columns from the second DataFrame, including its key column\n",
    "    second_df_selected = second_df.select([second_key_column] + columns_to_join)\n",
    "\n",
    "    # Performing the left join\n",
    "    joined_df = initial_df.join(second_df_selected, \n",
    "                                initial_df[initial_key_column] == second_df_selected[second_key_column], \n",
    "                                how='left')\n",
    "\n",
    "    # Drop the second key column if not needed\n",
    "    joined_df = joined_df.drop(second_df_selected[second_key_column])\n",
    "\n",
    "    return joined_df\n"
   ]
  },
  {
   "cell_type": "code",
   "execution_count": 27,
   "metadata": {},
   "outputs": [],
   "source": [
    "def count_unique_values(df: DataFrame, column_name: str) -> int:\n",
    "    \"\"\"\n",
    "    Count unique values in a specific column of a PySpark DataFrame.\n",
    "\n",
    "    Args:\n",
    "    df (DataFrame): The PySpark DataFrame.\n",
    "    column_name (str): The name of the column to analyze.\n",
    "\n",
    "    Returns:\n",
    "    int: The number of unique values in the column.\n",
    "    \"\"\"\n",
    "    # Get distinct values in the column and count them\n",
    "    unique_count = df.select(column_name).distinct().count()\n",
    "\n",
    "    return unique_count\n",
    "\n",
    "# Example usage\n",
    "# unique_count = count_unique_values(your_dataframe, 'your_column_name')\n",
    "# print(f\"Number of unique values: {unique_count}\")\n"
   ]
  },
  {
   "cell_type": "code",
   "execution_count": 28,
   "metadata": {},
   "outputs": [],
   "source": [
    "def show_unique_values_and_counts(df: DataFrame, column_name: str):\n",
    "    \"\"\"\n",
    "    Shows unique values and their counts for a specified column in a Spark DataFrame.\n",
    "\n",
    "    Parameters:\n",
    "    df (DataFrame): The Spark DataFrame to analyze.\n",
    "    column_name (str): The name of the column for which to count unique values.\n",
    "    \"\"\"\n",
    "    if column_name not in df.columns:\n",
    "        raise ValueError(f\"Column {column_name} not found in DataFrame\")\n",
    "\n",
    "    unique_values_counts = df.groupBy(column_name).count()\n",
    "    unique_values_counts.show()\n"
   ]
  },
  {
   "cell_type": "markdown",
   "metadata": {},
   "source": [
    "## Drug activity threshold"
   ]
  },
  {
   "cell_type": "markdown",
   "metadata": {},
   "source": [
    "### based on pchembl_value and proteinClass"
   ]
  },
  {
   "cell_type": "code",
   "execution_count": 29,
   "metadata": {},
   "outputs": [
    {
     "name": "stderr",
     "output_type": "stream",
     "text": [
      "[Stage 49:>                                                         (0 + 1) / 1]\r"
     ]
    },
    {
     "name": "stdout",
     "output_type": "stream",
     "text": [
      "+-------------+--------------+-------------------------+----------+--------------------+--------------------+---------------+----------+-----------+-------------+-----------------+--------------+--------------+-----------------+---------------+--------------------+----------------+---------------------+-------------------------+----------------+----------------------+--------------+--------------------+---------------+---------+------------+\n",
      "|       drugId|      drugType|maximumClinicalTrialPhase|isApproved|       linkedTargets|      linkedDiseases|assay_chembl_id|assay_type|action_type|pchembl_value|    standard_type|standard_units|standard_value|standard_relation|target_organism|    target_pref_name|target_chembl_id|data_validity_comment|data_validity_description|confidence_score|confidence_description|assay_category|   target_components|    target_type|accession|proteinClass|\n",
      "+-------------+--------------+-------------------------+----------+--------------------+--------------------+---------------+----------+-----------+-------------+-----------------+--------------+--------------+-----------------+---------------+--------------------+----------------+---------------------+-------------------------+----------------+----------------------+--------------+--------------------+---------------+---------+------------+\n",
      "|  CHEMBL14762|Small molecule|                      2.0|     false|{5, [ENSG00000136...|{5, [MONDO_000906...|  CHEMBL1767842|         B|       NULL|         5.75|             IC50|            nM|        1770.0|                =|   Homo sapiens|      CDK9/cyclin T1|   CHEMBL2111389|                 NULL|                     NULL|               7|  Direct protein co...|          NULL|[{O60563, Cyclin-...|PROTEIN COMPLEX|   O60563|        None|\n",
      "|   CHEMBL7917|Small molecule|                     NULL|      NULL|                NULL|                NULL|  CHEMBL2218984|         B|       NULL|         NULL|Residual Activity|             %|          96.0|                =|   Homo sapiens|      CDK9/cyclin T1|   CHEMBL2111389|                 NULL|                     NULL|               7|  Direct protein co...|          NULL|[{O60563, Cyclin-...|PROTEIN COMPLEX|   O60563|        None|\n",
      "|  CHEMBL38380|Small molecule|                      3.0|     false|{2, [ENSG00000134...|{6, [MONDO_000497...|  CHEMBL2218984|         B|       NULL|         NULL|Residual Activity|             %|          81.0|                =|   Homo sapiens|      CDK9/cyclin T1|   CHEMBL2111389|                 NULL|                     NULL|               7|  Direct protein co...|          NULL|[{O60563, Cyclin-...|PROTEIN COMPLEX|   O60563|        None|\n",
      "| CHEMBL258844|Small molecule|                     NULL|      NULL|                NULL|                NULL|  CHEMBL2218985|         B|       NULL|         NULL|Residual Activity|             %|         105.0|                =|   Homo sapiens|      CDK9/cyclin T1|   CHEMBL2111389|                 NULL|                     NULL|               7|  Direct protein co...|          NULL|[{O60563, Cyclin-...|PROTEIN COMPLEX|   O60563|        None|\n",
      "| CHEMBL605003|Small molecule|                     NULL|      NULL|                NULL|                NULL|  CHEMBL2218985|         B|       NULL|         NULL|Residual Activity|             %|          93.0|                =|   Homo sapiens|      CDK9/cyclin T1|   CHEMBL2111389|                 NULL|                     NULL|               7|  Direct protein co...|          NULL|[{O60563, Cyclin-...|PROTEIN COMPLEX|   O60563|        None|\n",
      "|  CHEMBL13045|Small molecule|                     NULL|      NULL|                NULL|                NULL|  CHEMBL2218985|         B|       NULL|         NULL|Residual Activity|             %|          93.0|                =|   Homo sapiens|      CDK9/cyclin T1|   CHEMBL2111389|                 NULL|                     NULL|               7|  Direct protein co...|          NULL|[{O60563, Cyclin-...|PROTEIN COMPLEX|   O60563|        None|\n",
      "|CHEMBL3612515|Small molecule|                     NULL|      NULL|                NULL|                NULL|  CHEMBL3615643|         B|       NULL|         NULL|             IC50|            nM|       10000.0|                >|   Homo sapiens|      CDK9/cyclin T1|   CHEMBL2111389|                 NULL|                     NULL|               7|  Direct protein co...|          NULL|[{O60563, Cyclin-...|PROTEIN COMPLEX|   O60563|        None|\n",
      "| CHEMBL491228|Small molecule|                     NULL|      NULL|                NULL|                NULL|  CHEMBL3807317|         B|       NULL|         NULL|       Inhibition|             %|          50.0|                >|   Homo sapiens|      CDK9/cyclin T1|   CHEMBL2111389|                 NULL|                     NULL|               7|  Direct protein co...|          NULL|[{O60563, Cyclin-...|PROTEIN COMPLEX|   O60563|        None|\n",
      "|CHEMBL4537673|       Unknown|                     NULL|      NULL|                NULL|                NULL|  CHEMBL4380523|         B|       NULL|         NULL|             IC50|          NULL|          NULL|             NULL|   Homo sapiens|      CDK9/cyclin T1|   CHEMBL2111389|                 NULL|                     NULL|               7|  Direct protein co...|          NULL|[{O60563, Cyclin-...|PROTEIN COMPLEX|   O60563|        None|\n",
      "|CHEMBL3545083|Small molecule|                      1.0|     false|{6, [ENSG00000170...|  {1, [EFO_0001642]}|  CHEMBL3856554|         B|       NULL|         9.00|             IC50|            nM|           1.0|                =|   Homo sapiens|      CDK9/cyclin T1|   CHEMBL2111389|                 NULL|                     NULL|               7|  Direct protein co...|          NULL|[{O60563, Cyclin-...|PROTEIN COMPLEX|   O60563|        None|\n",
      "|  CHEMBL12208|Small molecule|                      2.0|     false|                NULL|{3, [MONDO_000514...|  CHEMBL1941822|         B|       NULL|         NULL|               Ki|            nM|      100000.0|                >|   Homo sapiens|Carbonic anhydras...|       CHEMBL205|                 NULL|                     NULL|               9|  Direct single pro...|          NULL|[{P00918, Carboni...| SINGLE PROTEIN|   P00918|      Enzyme|\n",
      "|     CHEMBL20|Small molecule|                      4.0|      true|{4, [ENSG00000167...|{33, [MONDO_00053...|  CHEMBL4142346|         A|       NULL|         7.92|               Ki|            nM|          12.1|                =|   Homo sapiens|Carbonic anhydras...|       CHEMBL205|                 NULL|                     NULL|               9|  Direct single pro...|          NULL|[{P00918, Carboni...| SINGLE PROTEIN|   P00918|      Enzyme|\n",
      "|     CHEMBL39|Small molecule|                      3.0|     false|                NULL|  {1, [EFO_0006911]}|  CHEMBL2318049|         B|       NULL|         NULL|               KA|            uM|          50.0|                =|   Homo sapiens|Carbonic anhydras...|       CHEMBL205|                 NULL|                     NULL|               9|  Direct single pro...|          NULL|[{P00918, Carboni...| SINGLE PROTEIN|   P00918|      Enzyme|\n",
      "|     CHEMBL20|Small molecule|                      4.0|      true|{4, [ENSG00000167...|{33, [MONDO_00053...|   CHEMBL885506|         B|       NULL|         NULL|           Kinact|            nM|          12.0|                =|   Homo sapiens|Carbonic anhydras...|       CHEMBL205|                 NULL|                     NULL|               9|  Direct single pro...|          NULL|[{P00918, Carboni...| SINGLE PROTEIN|   P00918|      Enzyme|\n",
      "| CHEMBL218490|Small molecule|                      4.0|      true|{1, [ENSG00000104...|{7, [EFO_1001069,...|  CHEMBL1063842|         B|       NULL|         8.05|               Ki|            nM|           9.0|                =|   Homo sapiens|Carbonic anhydras...|       CHEMBL205|                 NULL|                     NULL|               9|  Direct single pro...|          NULL|[{P00918, Carboni...| SINGLE PROTEIN|   P00918|      Enzyme|\n",
      "|     CHEMBL20|Small molecule|                      4.0|      true|{4, [ENSG00000167...|{33, [MONDO_00053...|  CHEMBL3097930|         B|       NULL|         NULL|             IC50|            nM|          10.0|                <|   Homo sapiens|Carbonic anhydras...|       CHEMBL205|                 NULL|                     NULL|               9|  Direct single pro...|          NULL|[{P00918, Carboni...| SINGLE PROTEIN|   P00918|      Enzyme|\n",
      "|    CHEMBL118|Small molecule|                      4.0|      true|{1, [ENSG00000073...|{110, [HP_0012532...|  CHEMBL3367566|         B|       NULL|         7.68|               Ki|            nM|          21.0|                =|   Homo sapiens|Carbonic anhydras...|       CHEMBL205|                 NULL|                     NULL|               9|  Direct single pro...|          NULL|[{P00918, Carboni...| SINGLE PROTEIN|   P00918|      Enzyme|\n",
      "| CHEMBL328560|Small molecule|                      4.0|      true|{12, [ENSG0000010...|{2, [EFO_0003918,...|  CHEMBL3367566|         B|       NULL|         8.05|               Ki|            nM|           9.0|                =|   Homo sapiens|Carbonic anhydras...|       CHEMBL205|                 NULL|                     NULL|               9|  Direct single pro...|          NULL|[{P00918, Carboni...| SINGLE PROTEIN|   P00918|      Enzyme|\n",
      "| CHEMBL220492|Small molecule|                      4.0|      true|{37, [ENSG0000014...|{44, [HP_0011868,...|  CHEMBL2415807|         B|       NULL|         8.00|               Ki|            nM|          10.0|                =|   Homo sapiens|Carbonic anhydras...|       CHEMBL205|                 NULL|                     NULL|               9|  Direct single pro...|          NULL|[{P00918, Carboni...| SINGLE PROTEIN|   P00918|      Enzyme|\n",
      "|    CHEMBL750|Small molecule|                      4.0|      true|{10, [ENSG0000014...|{19, [EFO_0004238...|  CHEMBL3404499|         B|       NULL|         7.46|               Ki|            nM|          35.0|                =|   Homo sapiens|Carbonic anhydras...|       CHEMBL205|                 NULL|                     NULL|               9|  Direct single pro...|          NULL|[{P00918, Carboni...| SINGLE PROTEIN|   P00918|      Enzyme|\n",
      "+-------------+--------------+-------------------------+----------+--------------------+--------------------+---------------+----------+-----------+-------------+-----------------+--------------+--------------+-----------------+---------------+--------------------+----------------+---------------------+-------------------------+----------------+----------------------+--------------+--------------------+---------------+---------+------------+\n",
      "only showing top 20 rows\n",
      "\n"
     ]
    },
    {
     "name": "stderr",
     "output_type": "stream",
     "text": [
      "                                                                                \r"
     ]
    }
   ],
   "source": [
    "input.show()"
   ]
  },
  {
   "cell_type": "code",
   "execution_count": 30,
   "metadata": {},
   "outputs": [
    {
     "name": "stdout",
     "output_type": "stream",
     "text": [
      "+--------+--------------+-------------------------+----------+--------------------+--------------------+---------------+----------+-----------+-------------+-------------+--------------+--------------+-----------------+---------------+--------------------+----------------+---------------------+-------------------------+----------------+----------------------+--------------+--------------------+--------------+---------+------------+\n",
      "|  drugId|      drugType|maximumClinicalTrialPhase|isApproved|       linkedTargets|      linkedDiseases|assay_chembl_id|assay_type|action_type|pchembl_value|standard_type|standard_units|standard_value|standard_relation|target_organism|    target_pref_name|target_chembl_id|data_validity_comment|data_validity_description|confidence_score|confidence_description|assay_category|   target_components|   target_type|accession|proteinClass|\n",
      "+--------+--------------+-------------------------+----------+--------------------+--------------------+---------------+----------+-----------+-------------+-------------+--------------+--------------+-----------------+---------------+--------------------+----------------+---------------------+-------------------------+----------------+----------------------+--------------+--------------------+--------------+---------+------------+\n",
      "|CHEMBL20|Small molecule|                      4.0|      true|{4, [ENSG00000167...|{33, [MONDO_00053...|  CHEMBL4142346|         A|       NULL|         7.92|           Ki|            nM|          12.1|                =|   Homo sapiens|Carbonic anhydras...|       CHEMBL205|                 NULL|                     NULL|               9|  Direct single pro...|          NULL|[{P00918, Carboni...|SINGLE PROTEIN|   P00918|      Enzyme|\n",
      "|CHEMBL20|Small molecule|                      4.0|      true|{4, [ENSG00000167...|{33, [MONDO_00053...|   CHEMBL885506|         B|       NULL|         NULL|       Kinact|            nM|          12.0|                =|   Homo sapiens|Carbonic anhydras...|       CHEMBL205|                 NULL|                     NULL|               9|  Direct single pro...|          NULL|[{P00918, Carboni...|SINGLE PROTEIN|   P00918|      Enzyme|\n",
      "|CHEMBL20|Small molecule|                      4.0|      true|{4, [ENSG00000167...|{33, [MONDO_00053...|  CHEMBL3097930|         B|       NULL|         NULL|         IC50|            nM|          10.0|                <|   Homo sapiens|Carbonic anhydras...|       CHEMBL205|                 NULL|                     NULL|               9|  Direct single pro...|          NULL|[{P00918, Carboni...|SINGLE PROTEIN|   P00918|      Enzyme|\n",
      "|CHEMBL20|Small molecule|                      4.0|      true|{4, [ENSG00000167...|{33, [MONDO_00053...|  CHEMBL1781043|         B|       NULL|         7.92|           Ki|            nM|          12.0|                =|   Homo sapiens|Carbonic anhydras...|       CHEMBL205|                 NULL|                     NULL|               9|  Direct single pro...|          NULL|[{P00918, Carboni...|SINGLE PROTEIN|   P00918|      Enzyme|\n",
      "|CHEMBL20|Small molecule|                      4.0|      true|{4, [ENSG00000167...|{33, [MONDO_00053...|  CHEMBL2384053|         B|       NULL|         7.92|           Ki|            nM|          12.0|                =|   Homo sapiens|Carbonic anhydras...|       CHEMBL205|                 NULL|                     NULL|               9|  Direct single pro...|          NULL|[{P00918, Carboni...|SINGLE PROTEIN|   P00918|      Enzyme|\n",
      "|CHEMBL20|Small molecule|                      4.0|      true|{4, [ENSG00000167...|{33, [MONDO_00053...|  CHEMBL3874974|         B|       NULL|         7.92|           Ki|            nM|          12.1|                =|   Homo sapiens|Carbonic anhydras...|       CHEMBL205|                 NULL|                     NULL|               9|  Direct single pro...|          NULL|[{P00918, Carboni...|SINGLE PROTEIN|   P00918|      Enzyme|\n",
      "|CHEMBL20|Small molecule|                      4.0|      true|{4, [ENSG00000167...|{33, [MONDO_00053...|  CHEMBL1177457|         B|       NULL|         7.92|           Ki|            nM|          12.0|                =|   Homo sapiens|Carbonic anhydras...|       CHEMBL205|                 NULL|                     NULL|               9|  Direct single pro...|          NULL|[{P00918, Carboni...|SINGLE PROTEIN|   P00918|      Enzyme|\n",
      "|CHEMBL20|Small molecule|                      4.0|      true|{4, [ENSG00000167...|{33, [MONDO_00053...|  CHEMBL3406244|         B|       NULL|         7.21|           Ki|            nM|          61.1|                =|   Homo sapiens|Carbonic anhydras...|       CHEMBL205|                 NULL|                     NULL|               9|  Direct single pro...|          NULL|[{P00918, Carboni...|SINGLE PROTEIN|   P00918|      Enzyme|\n",
      "|CHEMBL20|Small molecule|                      4.0|      true|{4, [ENSG00000167...|{33, [MONDO_00053...|   CHEMBL929747|         B|       NULL|         8.05|         IC50|            nM|           8.9|                =|   Homo sapiens|Carbonic anhydras...|       CHEMBL205|                 NULL|                     NULL|               9|  Direct single pro...|          NULL|[{P00918, Carboni...|SINGLE PROTEIN|   P00918|      Enzyme|\n",
      "|CHEMBL20|Small molecule|                      4.0|      true|{4, [ENSG00000167...|{33, [MONDO_00053...|  CHEMBL3756217|         B|       NULL|         7.92|           Ki|            nM|          12.0|                =|   Homo sapiens|Carbonic anhydras...|       CHEMBL205|                 NULL|                     NULL|               9|  Direct single pro...|          NULL|[{P00918, Carboni...|SINGLE PROTEIN|   P00918|      Enzyme|\n",
      "|CHEMBL20|Small molecule|                      4.0|      true|{4, [ENSG00000167...|{33, [MONDO_00053...|  CHEMBL4135745|         A|       NULL|         7.92|           Ki|            nM|          12.1|                =|   Homo sapiens|Carbonic anhydras...|       CHEMBL205|                 NULL|                     NULL|               9|  Direct single pro...|          NULL|[{P00918, Carboni...|SINGLE PROTEIN|   P00918|      Enzyme|\n",
      "|CHEMBL20|Small molecule|                      4.0|      true|{4, [ENSG00000167...|{33, [MONDO_00053...|  CHEMBL3406377|         B|       NULL|         7.92|           Ki|            nM|          12.1|                =|   Homo sapiens|Carbonic anhydras...|       CHEMBL205|                 NULL|                     NULL|               9|  Direct single pro...|          NULL|[{P00918, Carboni...|SINGLE PROTEIN|   P00918|      Enzyme|\n",
      "|CHEMBL20|Small molecule|                      4.0|      true|{4, [ENSG00000167...|{33, [MONDO_00053...|   CHEMBL867416|         B|       NULL|         7.92|           Ki|            nM|          12.0|                =|   Homo sapiens|Carbonic anhydras...|       CHEMBL205|                 NULL|                     NULL|               9|  Direct single pro...|          NULL|[{P00918, Carboni...|SINGLE PROTEIN|   P00918|      Enzyme|\n",
      "|CHEMBL20|Small molecule|                      4.0|      true|{4, [ENSG00000167...|{33, [MONDO_00053...|   CHEMBL929806|         B|       NULL|         7.16|         IC50|            nM|          68.6|                =|   Homo sapiens|Carbonic anhydras...|       CHEMBL205|                 NULL|                     NULL|               9|  Direct single pro...|          NULL|[{P00918, Carboni...|SINGLE PROTEIN|   P00918|      Enzyme|\n",
      "|CHEMBL20|Small molecule|                      4.0|      true|{4, [ENSG00000167...|{33, [MONDO_00053...|  CHEMBL2380060|         B|       NULL|         7.92|           Ki|            nM|          12.0|                =|   Homo sapiens|Carbonic anhydras...|       CHEMBL205|                 NULL|                     NULL|               9|  Direct single pro...|          NULL|[{P00918, Carboni...|SINGLE PROTEIN|   P00918|      Enzyme|\n",
      "|CHEMBL20|Small molecule|                      4.0|      true|{4, [ENSG00000167...|{33, [MONDO_00053...|  CHEMBL3395807|         B|       NULL|         7.92|           Ki|            nM|          12.0|                =|   Homo sapiens|Carbonic anhydras...|       CHEMBL205|                 NULL|                     NULL|               9|  Direct single pro...|          NULL|[{P00918, Carboni...|SINGLE PROTEIN|   P00918|      Enzyme|\n",
      "|CHEMBL20|Small molecule|                      4.0|      true|{4, [ENSG00000167...|{33, [MONDO_00053...|  CHEMBL1693045|         B|       NULL|         7.92|           Ki|            nM|          12.0|                =|   Homo sapiens|Carbonic anhydras...|       CHEMBL205|                 NULL|                     NULL|               9|  Direct single pro...|          NULL|[{P00918, Carboni...|SINGLE PROTEIN|   P00918|      Enzyme|\n",
      "|CHEMBL20|Small molecule|                      4.0|      true|{4, [ENSG00000167...|{33, [MONDO_00053...|  CHEMBL2412925|         B|       NULL|         7.90|           Ki|            nM|          12.5|                =|   Homo sapiens|Carbonic anhydras...|       CHEMBL205|                 NULL|                     NULL|               9|  Direct single pro...|          NULL|[{P00918, Carboni...|SINGLE PROTEIN|   P00918|      Enzyme|\n",
      "|CHEMBL20|Small molecule|                      4.0|      true|{4, [ENSG00000167...|{33, [MONDO_00053...|  CHEMBL1002984|         B|       NULL|         7.92|           Ki|            nM|          12.0|                =|   Homo sapiens|Carbonic anhydras...|       CHEMBL205|                 NULL|                     NULL|               9|  Direct single pro...|          NULL|[{P00918, Carboni...|SINGLE PROTEIN|   P00918|      Enzyme|\n",
      "|CHEMBL20|Small molecule|                      4.0|      true|{4, [ENSG00000167...|{33, [MONDO_00053...|  CHEMBL3390527|         B|       NULL|         7.92|           Ki|            nM|          12.0|                =|   Homo sapiens|Carbonic anhydras...|       CHEMBL205|                 NULL|                     NULL|               9|  Direct single pro...|          NULL|[{P00918, Carboni...|SINGLE PROTEIN|   P00918|      Enzyme|\n",
      "+--------+--------------+-------------------------+----------+--------------------+--------------------+---------------+----------+-----------+-------------+-------------+--------------+--------------+-----------------+---------------+--------------------+----------------+---------------------+-------------------------+----------------+----------------------+--------------+--------------------+--------------+---------+------------+\n",
      "only showing top 20 rows\n",
      "\n"
     ]
    },
    {
     "name": "stderr",
     "output_type": "stream",
     "text": [
      "                                                                                \r"
     ]
    }
   ],
   "source": [
    "input_exmp = input.filter(input[\"drugId\"] == \"CHEMBL20\")\n",
    "input_exmp.show()"
   ]
  },
  {
   "cell_type": "markdown",
   "metadata": {},
   "source": [
    "## Dataset with only pchembl values"
   ]
  },
  {
   "cell_type": "code",
   "execution_count": 18,
   "metadata": {},
   "outputs": [
    {
     "name": "stderr",
     "output_type": "stream",
     "text": [
      "[Stage 12:==================================================>       (7 + 1) / 8]\r"
     ]
    },
    {
     "name": "stdout",
     "output_type": "stream",
     "text": [
      "Number of drug-target pairs: 18860\n",
      "Number of drug-target pairs with pchembl_value: 6250\n"
     ]
    },
    {
     "name": "stderr",
     "output_type": "stream",
     "text": [
      "                                                                                \r"
     ]
    }
   ],
   "source": [
    "# Check how many assays have pchembl_value\n",
    "pchembl_value_only = input.filter(input[\"pchembl_value\"].isNotNull())\n",
    "pchembl_value_only_n = pchembl_value_only.count()\n",
    "d_t_n = input.count()\n",
    "\n",
    "print(\"Number of drug-target pairs:\", d_t_n)\n",
    "print(\"Number of drug-target pairs with pchembl_value:\", pchembl_value_only_n)"
   ]
  },
  {
   "cell_type": "markdown",
   "metadata": {},
   "source": [
    "### For each T-D pairs make new columns:\n",
    "####     1. max_pchembl_value\n",
    "####     2. median_pchembl_value"
   ]
  },
  {
   "cell_type": "code",
   "execution_count": 19,
   "metadata": {},
   "outputs": [],
   "source": [
    "# Original aggregation with additional count of non-null pchembl_values\n",
    "pchembl_value_aggr = pchembl_value_only.groupBy(\"target_chembl_id\", \"drugId\")\\\n",
    "                  .agg(f.max(\"pchembl_value\").alias(\"max_pchembl_value\"),\n",
    "                       f.expr(\"percentile_approx(pchembl_value, 0.5)\").alias(\"median_pchembl_value\"))\n",
    "\n",
    "# Join original data with filtered aggregated data\n",
    "pchembl_value_join = pchembl_value_aggr.join(input, [\"target_chembl_id\", \"drugId\"], \"left_outer\")"
   ]
  },
  {
   "cell_type": "code",
   "execution_count": 20,
   "metadata": {},
   "outputs": [
    {
     "name": "stderr",
     "output_type": "stream",
     "text": [
      "23/12/18 14:43:02 WARN MemoryStore: Not enough space to cache broadcast_28 in memory! (computed 466.5 MiB so far)\n",
      "23/12/18 14:43:02 WARN BlockManager: Persisting block broadcast_28 to disk instead.\n",
      "23/12/18 14:43:28 WARN MemoryStore: Not enough space to cache broadcast_28 in memory! (computed 466.5 MiB so far)\n"
     ]
    },
    {
     "name": "stdout",
     "output_type": "stream",
     "text": [
      "+----------------+-------------+------------------+-----------------+--------------------+--------------+-------------------------+----------+--------------------+--------------------+---------------+----------+-----------+---------------+--------------------+---------------------+-------------------------+----------------+----------------------+--------------+--------------------+--------------+---------+------------+\n",
      "|target_chembl_id|       drugId|pchembl_value_aggr|max_pchembl_value|median_pchembl_value|      drugType|maximumClinicalTrialPhase|isApproved|       linkedTargets|      linkedDiseases|assay_chembl_id|assay_type|action_type|target_organism|    target_pref_name|data_validity_comment|data_validity_description|confidence_score|confidence_description|assay_category|   target_components|   target_type|accession|proteinClass|\n",
      "+----------------+-------------+------------------+-----------------+--------------------+--------------+-------------------------+----------+--------------------+--------------------+---------------+----------+-----------+---------------+--------------------+---------------------+-------------------------+----------------+----------------------+--------------+--------------------+--------------+---------+------------+\n",
      "|   CHEMBL1075104|CHEMBL1933288|              7.80|             7.80|                 7.8|Small molecule|                     NULL|      NULL|                NULL|                NULL|  CHEMBL1937075|         B|       NULL|   Homo sapiens|Leucine-rich repe...|                 NULL|                     NULL|               9|  Direct single pro...|          NULL|[{Q5S007, Leucine...|SINGLE PROTEIN|   Q5S007|      Kinase|\n",
      "|   CHEMBL1075104|CHEMBL2012582|              7.89|             7.89|                7.89|Small molecule|                     NULL|      NULL|                NULL|                NULL|  CHEMBL2173835|         B|       NULL|   Homo sapiens|Leucine-rich repe...|                 NULL|                     NULL|               9|  Direct single pro...|          NULL|[{Q5S007, Leucine...|SINGLE PROTEIN|   Q5S007|      Kinase|\n",
      "|   CHEMBL1075104|CHEMBL4098877|              8.19|             8.19|                8.19|Small molecule|                     NULL|      NULL|                NULL|                NULL|  CHEMBL4010117|         B|       NULL|   Homo sapiens|Leucine-rich repe...|                 NULL|                     NULL|               9|  Direct single pro...|          NULL|[{Q5S007, Leucine...|SINGLE PROTEIN|   Q5S007|      Kinase|\n",
      "|   CHEMBL1075104|    CHEMBL535|              7.82|             7.82|                7.82|Small molecule|                      4.0|      true|{9, [ENSG00000165...|{113, [EFO_000022...|  CHEMBL2398947|         B|       NULL|   Homo sapiens|Leucine-rich repe...|                 NULL|                     NULL|               9|  Direct single pro...|          NULL|[{Q5S007, Leucine...|SINGLE PROTEIN|   Q5S007|      Kinase|\n",
      "|   CHEMBL1075126|CHEMBL1084625|              5.59|             5.59|                5.59|Small molecule|                     NULL|      NULL|                NULL|                NULL|  CHEMBL1613911|         F|       NULL|   Homo sapiens|Pyruvate kinase i...|                 NULL|                     NULL|               9|  Direct single pro...|  confirmatory|[{P30613, Pyruvat...|SINGLE PROTEIN|   P30613|      Kinase|\n",
      "|   CHEMBL1075127|CHEMBL3039522|              9.00|             9.00|                 9.0|Small molecule|                      2.0|     false|{2, [ENSG00000023...|{10, [EFO_0004197...|  CHEMBL4351163|         B|       NULL|   Homo sapiens|Baculoviral IAP r...|                 NULL|                     NULL|               9|  Direct single pro...|          NULL|[{Q96CA5, Baculov...|SINGLE PROTEIN|   Q96CA5|        None|\n",
      "|   CHEMBL1075132| CHEMBL200102|              6.69|             6.69|                6.69|Small molecule|                      1.0|     false|                NULL|{2, [EFO_0000574,...|  CHEMBL4604865|         B|       NULL|   Homo sapiens|Heat shock protei...|                 NULL|                     NULL|               9|  Direct single pro...|          NULL|[{Q12931, Heat sh...|SINGLE PROTEIN|   Q12931|        None|\n",
      "|   CHEMBL1075132| CHEMBL278315|              6.18|             6.18|                6.18|Small molecule|                      2.0|     false|                NULL|{2, [MONDO_000236...|  CHEMBL2424065|         B|       NULL|   Homo sapiens|Heat shock protei...|                 NULL|                     NULL|               9|  Direct single pro...|          NULL|[{Q12931, Heat sh...|SINGLE PROTEIN|   Q12931|        None|\n",
      "|   CHEMBL1075138|    CHEMBL101|              6.05|             6.05|                6.05|Small molecule|                      4.0|      true|{2, [ENSG00000073...|{3, [EFO_0005755,...|  CHEMBL1614364|         B|       NULL|   Homo sapiens|Tyrosyl-DNA phosp...|                 NULL|                     NULL|               9|  Direct single pro...|  confirmatory|[{Q9NUW8, Tyrosyl...|SINGLE PROTEIN|   Q9NUW8|      Enzyme|\n",
      "|   CHEMBL1075138| CHEMBL106525|              4.10|             4.10|                 4.1|Small molecule|                     NULL|      NULL|                NULL|                NULL|  CHEMBL1614364|         B|       NULL|   Homo sapiens|Tyrosyl-DNA phosp...|                 NULL|                     NULL|               9|  Direct single pro...|  confirmatory|[{Q9NUW8, Tyrosyl...|SINGLE PROTEIN|   Q9NUW8|      Enzyme|\n",
      "|   CHEMBL1075138|   CHEMBL1116|        4.55, 4.40|             4.55|                 4.4|Small molecule|                      4.0|      true|{1, [ENSG00000140...|{3, [MONDO_000725...|  CHEMBL1614364|         B|       NULL|   Homo sapiens|Tyrosyl-DNA phosp...|                 NULL|                     NULL|               9|  Direct single pro...|  confirmatory|[{Q9NUW8, Tyrosyl...|SINGLE PROTEIN|   Q9NUW8|      Enzyme|\n",
      "|   CHEMBL1075138|CHEMBL1200522|              4.70|             4.70|                 4.7|Small molecule|                      4.0|      true|                NULL|{3, [EFO_0003958,...|  CHEMBL1614364|         B|       NULL|   Homo sapiens|Tyrosyl-DNA phosp...|                 NULL|                     NULL|               9|  Direct single pro...|  confirmatory|[{Q9NUW8, Tyrosyl...|SINGLE PROTEIN|   Q9NUW8|      Enzyme|\n",
      "|   CHEMBL1075138|CHEMBL1208422|              6.10|             6.10|                 6.1|Small molecule|                      4.0|      true|                NULL|{7, [EFO_0003768,...|  CHEMBL1614364|         B|       NULL|   Homo sapiens|Tyrosyl-DNA phosp...|                 NULL|                     NULL|               9|  Direct single pro...|  confirmatory|[{Q9NUW8, Tyrosyl...|SINGLE PROTEIN|   Q9NUW8|      Enzyme|\n",
      "|   CHEMBL1075138|    CHEMBL140|              5.95|             5.95|                5.95|Small molecule|                     NULL|      NULL|                NULL|                NULL|  CHEMBL1614364|         B|       NULL|   Homo sapiens|Tyrosyl-DNA phosp...|                 NULL|                     NULL|               9|  Direct single pro...|  confirmatory|[{Q9NUW8, Tyrosyl...|SINGLE PROTEIN|   Q9NUW8|      Enzyme|\n",
      "|   CHEMBL1075138|  CHEMBL14060|              4.60|             4.60|                 4.6|Small molecule|                      4.0|      true|                NULL|{8, [EFO_0004255,...|  CHEMBL1614364|         B|       NULL|   Homo sapiens|Tyrosyl-DNA phosp...|                 NULL|                     NULL|               9|  Direct single pro...|  confirmatory|[{Q9NUW8, Tyrosyl...|SINGLE PROTEIN|   Q9NUW8|      Enzyme|\n",
      "|   CHEMBL1075138|CHEMBL1407943|              4.65|             4.65|                4.65|Small molecule|                      2.0|     false|                NULL|{4, [EFO_0003047,...|  CHEMBL1614364|         B|       NULL|   Homo sapiens|Tyrosyl-DNA phosp...|                 NULL|                     NULL|               9|  Direct single pro...|  confirmatory|[{Q9NUW8, Tyrosyl...|SINGLE PROTEIN|   Q9NUW8|      Enzyme|\n",
      "|   CHEMBL1075138|   CHEMBL1622|              4.40|             4.40|                 4.4|Small molecule|                      4.0|      true|                NULL|{71, [EFO_1001231...|  CHEMBL1614364|         B|       NULL|   Homo sapiens|Tyrosyl-DNA phosp...|                 NULL|                     NULL|               9|  Direct single pro...|  confirmatory|[{Q9NUW8, Tyrosyl...|SINGLE PROTEIN|   Q9NUW8|      Enzyme|\n",
      "|   CHEMBL1075138|   CHEMBL1740|              6.10|             6.10|                 6.1|Small molecule|                      0.5|     false|                NULL|   {1, [HP_0000951]}|  CHEMBL1614364|         B|       NULL|   Homo sapiens|Tyrosyl-DNA phosp...|                 NULL|                     NULL|               9|  Direct single pro...|  confirmatory|[{Q9NUW8, Tyrosyl...|SINGLE PROTEIN|   Q9NUW8|      Enzyme|\n",
      "|   CHEMBL1075138|  CHEMBL17645|              4.30|             4.30|                 4.3|Small molecule|                     NULL|      NULL|                NULL|                NULL|  CHEMBL1614364|         B|       NULL|   Homo sapiens|Tyrosyl-DNA phosp...|                 NULL|                     NULL|               9|  Direct single pro...|  confirmatory|[{Q9NUW8, Tyrosyl...|SINGLE PROTEIN|   Q9NUW8|      Enzyme|\n",
      "|   CHEMBL1075138|    CHEMBL178|              4.80|             4.80|                 4.8|Small molecule|                      4.0|      true|{1, [ENSG00000131...|{46, [MONDO_00448...|  CHEMBL1614364|         B|       NULL|   Homo sapiens|Tyrosyl-DNA phosp...|                 NULL|                     NULL|               9|  Direct single pro...|  confirmatory|[{Q9NUW8, Tyrosyl...|SINGLE PROTEIN|   Q9NUW8|      Enzyme|\n",
      "+----------------+-------------+------------------+-----------------+--------------------+--------------+-------------------------+----------+--------------------+--------------------+---------------+----------+-----------+---------------+--------------------+---------------------+-------------------------+----------------+----------------------+--------------+--------------------+--------------+---------+------------+\n",
      "only showing top 20 rows\n",
      "\n"
     ]
    },
    {
     "name": "stderr",
     "output_type": "stream",
     "text": [
      "23/12/18 14:43:28 WARN MemoryStore: Not enough space to cache broadcast_28 in memory! (computed 466.5 MiB so far)\n",
      "                                                                                \r"
     ]
    }
   ],
   "source": [
    "# Leave only unique dug-target pairs with pchembl value\n",
    "\n",
    "# Group by 'target_chembl_id' and 'drugId', and aggregate 'pchembl_value'\n",
    "pchembl_value_concat = pchembl_value_join.groupBy(\"target_chembl_id\", \"drugId\")\\\n",
    "                        .agg(concat_ws(\", \", collect_list(\"pchembl_value\")).alias(\"pchembl_value_aggr\"))\n",
    "\n",
    "pchembl_value_drop = pchembl_value_join.drop(\"standard_type\", \"standard_units\", \"standard_value\", \"standard_relation\", \"pchembl_value\")\n",
    "pchembl_value_uniq = pchembl_value_drop.dropDuplicates([\"target_chembl_id\", \"drugId\"])\n",
    "\n",
    "pchembl_value_concat_join = pchembl_value_concat.join(pchembl_value_uniq, [\"target_chembl_id\", \"drugId\"], \"left_outer\")\n",
    "\n",
    "pchembl_value_concat_join.show()"
   ]
  },
  {
   "cell_type": "markdown",
   "metadata": {},
   "source": [
    "### Activity cutoff for max_pchembl_value and median_pchembl_value"
   ]
  },
  {
   "cell_type": "code",
   "execution_count": 21,
   "metadata": {},
   "outputs": [],
   "source": [
    "max_pchembl_value = col(\"max_pchembl_value\")\n",
    "med_pchembl_value = col(\"median_pchembl_value\")\n",
    "\n",
    "pchembl_max_activity = pchembl_value_concat_join.withColumn(\n",
    "    \"isActive_max\",\n",
    "    when(\n",
    "        ((col(\"proteinClass\") == \"Kinase\") & (max_pchembl_value >= 7.7)) |\n",
    "        ((col(\"proteinClass\") == \"GPCR\") & (max_pchembl_value >= 6.5)) |\n",
    "        ((col(\"proteinClass\") == \"NR\") & (max_pchembl_value >= 6.1)) |\n",
    "        ((col(\"proteinClass\") == \"Transporter\") & (max_pchembl_value >= 6.1)) |\n",
    "        ((col(\"proteinClass\") == \"Enzyme\") & (max_pchembl_value >= 5.2)) |\n",
    "        ((col(\"proteinClass\") == \"IC\") & (max_pchembl_value >= 4.6)) |\n",
    "        ((col(\"proteinClass\") == \"Other\") & (max_pchembl_value >= 6.3)) |\n",
    "        (~(col(\"proteinClass\").isin([\"Kinase\", \"GPCR\", \"NR\", \"Transporter\", \"Enzyme\", \"IC\", \"Other\"])) & (max_pchembl_value >= 5)),\n",
    "        \"TRUE\"\n",
    "    ).otherwise(\"FALSE\")\n",
    ")\n",
    "\n",
    "pchembl_activity = pchembl_max_activity.withColumn(\n",
    "    \"isActive_med\",\n",
    "    when(\n",
    "        ((col(\"proteinClass\") == \"Kinase\") & (med_pchembl_value >= 7.7)) |\n",
    "        ((col(\"proteinClass\") == \"GPCR\") & (med_pchembl_value >= 6.5)) |\n",
    "        ((col(\"proteinClass\") == \"NR\") & (med_pchembl_value >= 6.1)) |\n",
    "        ((col(\"proteinClass\") == \"Transporter\") & (med_pchembl_value >= 6.1)) |\n",
    "        ((col(\"proteinClass\") == \"Enzyme\") & (med_pchembl_value >= 5.2)) |\n",
    "        ((col(\"proteinClass\") == \"IC\") & (med_pchembl_value >= 4.6)) |\n",
    "        ((col(\"proteinClass\") == \"Other\") & (med_pchembl_value >= 6.3)) |\n",
    "        (~(col(\"proteinClass\").isin([\"Kinase\", \"GPCR\", \"NR\", \"Transporter\", \"Enzyme\", \"IC\", \"Other\"])) & (med_pchembl_value >= 5)),\n",
    "        \"TRUE\"\n",
    "    ).otherwise(\"FALSE\")\n",
    ")"
   ]
  },
  {
   "cell_type": "code",
   "execution_count": 22,
   "metadata": {},
   "outputs": [
    {
     "name": "stderr",
     "output_type": "stream",
     "text": [
      "[Stage 42:==================================================>       (7 + 1) / 8]\r"
     ]
    },
    {
     "name": "stdout",
     "output_type": "stream",
     "text": [
      "Number of drug-target pairs with pchembl values:  4647\n",
      "Number of drug-target pairs with active drugs based on max pchembl values:  2473\n",
      "Number of drug-target pairs with active drugs based on med pchembl values:  2373\n"
     ]
    },
    {
     "name": "stderr",
     "output_type": "stream",
     "text": [
      "                                                                                \r"
     ]
    }
   ],
   "source": [
    "max_active = pchembl_activity.filter(col(\"isActive_max\") == True).count()\n",
    "med_active = pchembl_activity.filter(col(\"isActive_med\") == True).count()\n",
    "all_pchembl = pchembl_activity.count()\n",
    "\n",
    "print(\"Number of drug-target pairs with pchembl values: \", all_pchembl)\n",
    "print(\"Number of drug-target pairs with active drugs based on max pchembl values: \", max_active)\n",
    "print(\"Number of drug-target pairs with active drugs based on med pchembl values: \", med_active)"
   ]
  },
  {
   "cell_type": "markdown",
   "metadata": {},
   "source": [
    "## Dataset without pchembl values"
   ]
  },
  {
   "cell_type": "code",
   "execution_count": null,
   "metadata": {},
   "outputs": [],
   "source": [
    "# Need to exclude rows for which pchembl was found"
   ]
  },
  {
   "cell_type": "code",
   "execution_count": null,
   "metadata": {},
   "outputs": [
    {
     "name": "stdout",
     "output_type": "stream",
     "text": [
      "+--------------+-----+\n",
      "|standard_units|count|\n",
      "+--------------+-----+\n",
      "|          null| 2740|\n",
      "|     pm/min/mg|  150|\n",
      "|     degrees C|  139|\n",
      "|             %| 3123|\n",
      "|            nM| 6139|\n",
      "|          /min|    8|\n",
      "|         /uM/s|    5|\n",
      "|   nmol/min/mg|    7|\n",
      "|  mL.min-1.g-1|   16|\n",
      "|            uM|   78|\n",
      "|         10'8M|    1|\n",
      "|            mM|    7|\n",
      "|     10'-3/min|    1|\n",
      "|      10'6/M/s|    1|\n",
      "|      nmol/min|    8|\n",
      "|            /s|    6|\n",
      "|          pmol|    3|\n",
      "|     /s/microM|    1|\n",
      "|       ug ml-1|    2|\n",
      "|       ug.mL-1|    4|\n",
      "+--------------+-----+\n",
      "only showing top 20 rows\n",
      "\n"
     ]
    }
   ],
   "source": [
    "# Where pchembl_value is not available for each T-D pairs make new columns:\n",
    "#     1. Calculate how much data is this\n",
    "#     2. Think about what to do with different standard_units\n",
    "#     3. Ideally:\n",
    "#         1. max_standard_value_n\n",
    "#         2. median_standard_value_n\n",
    "#         3. Cutoff for every n\n",
    "\n",
    "no_pchembl_value = uniprot_to_class.filter(col(\"pchembl_value\").isNull())\n",
    "show_unique_values_and_counts(no_pchembl_value, \"standard_units\")"
   ]
  },
  {
   "cell_type": "code",
   "execution_count": null,
   "metadata": {},
   "outputs": [],
   "source": [
    "# Make column with activity of molecule: drugActive = TRUE/FALSE\n",
    "#     1. based protein type and:\n",
    "#         1. max_pchembl_value\n",
    "#         2. median_pchembl_value\n",
    "#     2. based on cutoffs for other experiment types"
   ]
  },
  {
   "cell_type": "markdown",
   "metadata": {},
   "source": [
    "## Non-pharmacological MoA search"
   ]
  },
  {
   "cell_type": "markdown",
   "metadata": {},
   "source": [
    "### Target is in MoA of a drug?"
   ]
  },
  {
   "cell_type": "code",
   "execution_count": 31,
   "metadata": {},
   "outputs": [
    {
     "name": "stderr",
     "output_type": "stream",
     "text": [
      "[Stage 52:>                                                         (0 + 2) / 2]\r"
     ]
    },
    {
     "name": "stdout",
     "output_type": "stream",
     "text": [
      "+--------------------+------------------+--------------------+--------------------+------------------+-------------------------+---------+----------------+\n",
      "|           _metadata|       action_type| mechanism_of_action|      mechanism_refs|molecule_chembl_id|parent_molecule_chembl_id|record_id|target_chembl_id|\n",
      "+--------------------+------------------+--------------------+--------------------+------------------+-------------------------+---------+----------------+\n",
      "|{[CHEMBL2103825],...|         INHIBITOR|Pancreatic lipase...|[{16953261, PubMe...|     CHEMBL2103825|            CHEMBL2103825|  1699800|      CHEMBL1812|\n",
      "|{[CHEMBL1200495, ...|           AGONIST|Glucocorticoid re...|[{setid=6d9bf1b0-...|     CHEMBL1200495|                CHEMBL977|  1344612|      CHEMBL2034|\n",
      "|{[CHEMBL3544919],...|SEQUESTERING AGENT|Heparin sequester...|[{26937198, PubMe...|     CHEMBL3544919|            CHEMBL3544919|  2473107|   CHEMBL2364712|\n",
      "|{[CHEMBL3989993],...|         INHIBITOR|microRNA-155 inhi...|[{NCT03713320, Cl...|     CHEMBL3989993|            CHEMBL3989993|  2973351|   CHEMBL4630577|\n",
      "|{[CHEMBL1460], CH...|         INHIBITOR|Human immunodefic...|[{setid=22e2ca82-...|        CHEMBL1460|               CHEMBL1460|  1343993|       CHEMBL247|\n",
      "|{[CHEMBL444172], ...|         INHIBITOR|P-glycoprotein 1 ...|[{18271955, PubMe...|      CHEMBL444172|             CHEMBL444172|  3129871|      CHEMBL4302|\n",
      "|{[CHEMBL1873475],...|         INHIBITOR|Tyrosine-protein ...|[{label/2013/2055...|     CHEMBL1873475|            CHEMBL1873475|  1702685|      CHEMBL5251|\n",
      "|{[CHEMBL4650215],...|         INHIBITOR|PI3-kinase p110-a...|[{https://cancerr...|     CHEMBL4650215|            CHEMBL4650215|  3133380|      CHEMBL4005|\n",
      "|{[CHEMBL87992], C...|           BLOCKER|Sodium channel al...|[{label/2013/0224...|       CHEMBL87992|              CHEMBL87992|  1702492|   CHEMBL2331043|\n",
      "|{[CHEMBL2105689],...|         INHIBITOR|Cytochrome P450 5...|[{label/2013/2041...|     CHEMBL2105689|            CHEMBL2105689|  1702581|      CHEMBL1780|\n",
      "|{[CHEMBL523299, C...|        ANTAGONIST|Muscarinic acetyl...|[{label/2013/2039...|      CHEMBL523299|            CHEMBL1187833|  1702662|       CHEMBL245|\n",
      "|{[CHEMBL1200865],...|           AGONIST|Glucocorticoid re...|[{12861354, PubMe...|     CHEMBL1200865|            CHEMBL1200865|  1343629|      CHEMBL2034|\n",
      "|{[CHEMBL129], CHE...|         INHIBITOR|Human immunodefic...|[{setid=6df09f15-...|         CHEMBL129|                CHEMBL129|  1343080|       CHEMBL247|\n",
      "|{[CHEMBL3989861, ...|         INHIBITOR|Serotonin transpo...|[{label/2013/2052...|     CHEMBL3989861|               CHEMBL1118|  1938076|       CHEMBL228|\n",
      "|{[CHEMBL2146140, ...|         INHIBITOR|Potassium-transpo...|[{setid=61a5a84e-...|     CHEMBL2146140|            CHEMBL1201320|  1702655|   CHEMBL2095173|\n",
      "|{[CHEMBL131], CHE...|           AGONIST|Glucocorticoid re...|[{19482847, PubMe...|         CHEMBL131|                CHEMBL131|  1344057|      CHEMBL2034|\n",
      "|{[CHEMBL1275802],...|  DISRUPTING AGENT|Cell membrane dis...|[{19010301, PubMe...|     CHEMBL1275802|            CHEMBL1275802|  1703075|   CHEMBL2364031|\n",
      "|{[CHEMBL139], CHE...|         INHIBITOR|Cyclooxygenase in...|[{label/2013/2045...|         CHEMBL139|                CHEMBL139|  1937947|   CHEMBL2094253|\n",
      "|{[CHEMBL2108556],...|  DISRUPTING AGENT|Cell membrane dis...|[{19010301, PubMe...|     CHEMBL2108556|            CHEMBL2108556|  1696419|   CHEMBL2364031|\n",
      "|{[CHEMBL1512], CH...|           AGONIST|Glucocorticoid re...|[{setid=7c72c954-...|        CHEMBL1512|               CHEMBL1512|  1343379|      CHEMBL2034|\n",
      "+--------------------+------------------+--------------------+--------------------+------------------+-------------------------+---------+----------------+\n",
      "only showing top 20 rows\n",
      "\n"
     ]
    },
    {
     "name": "stderr",
     "output_type": "stream",
     "text": [
      "                                                                                \r"
     ]
    }
   ],
   "source": [
    "mechanism_path = \"gs://open-targets-pre-data-releases/chembl-columns/chembl-inputs/chembl_33_mechanism.jsonl\"\n",
    "mechanism = spark.read.json(mechanism_path)\n",
    "mechanism.persist()\n",
    "mechanism.show()\n",
    "\n",
    "# Rename columns\n",
    "mechanism_renamed = mechanism.withColumnRenamed(\"action_type\", \"action_type_moa\")\\\n",
    "                            .withColumnRenamed(\"target_chembl_id\", \"target_chembl_id_moa\")"
   ]
  },
  {
   "cell_type": "code",
   "execution_count": 32,
   "metadata": {},
   "outputs": [],
   "source": [
    "# List of columns from target table\n",
    "list_mechanism = [\"action_type_moa\",\n",
    "            \"target_chembl_id_moa\"]\n",
    "\n",
    "drug_to_moa = join_dataframes(pchembl_activity, mechanism_renamed, \"drugId\", \"parent_molecule_chembl_id\", list_mechanism).persist()"
   ]
  },
  {
   "cell_type": "code",
   "execution_count": 33,
   "metadata": {},
   "outputs": [],
   "source": [
    "# Concat moa to 1 row\n",
    "drug_to_moa_concat = drug_to_moa.groupBy(\"target_chembl_id\", \"drugId\")\\\n",
    "    .agg(concat_ws(\", \", array_distinct(collect_list(\"target_chembl_id_moa\"))).alias(\"target_chembl_id_moa_aggr\"))\n",
    "\n",
    "drug_to_moa_drop = drug_to_moa.drop(\"target_chembl_id_moa\")\n",
    "drug_to_moa_uniq = drug_to_moa_drop.dropDuplicates([\"target_chembl_id\", \"drugId\"])\n",
    "\n",
    "drug_to_moa_join = drug_to_moa_concat.join(drug_to_moa_uniq, [\"target_chembl_id\", \"drugId\"], \"left_outer\")"
   ]
  },
  {
   "cell_type": "code",
   "execution_count": 34,
   "metadata": {},
   "outputs": [
    {
     "name": "stderr",
     "output_type": "stream",
     "text": [
      "23/12/18 14:46:20 WARN MemoryStore: Not enough space to cache broadcast_77 in memory! (computed 466.5 MiB so far)\n",
      "23/12/18 14:46:20 WARN BlockManager: Persisting block broadcast_77 to disk instead.\n",
      "23/12/18 14:46:21 WARN MemoryStore: Not enough space to cache broadcast_77 in memory! (computed 466.5 MiB so far)\n",
      "23/12/18 14:46:22 WARN BlockManager: Block rdd_192_0 could not be removed as it was not found on disk or in memory\n",
      "23/12/18 14:46:22 ERROR Executor: Exception in task 0.0 in stage 61.0 (TID 172)\n",
      "java.lang.OutOfMemoryError: Java heap space\n",
      "\tat java.base/java.nio.HeapByteBuffer.<init>(HeapByteBuffer.java:64)\n",
      "\tat java.base/java.nio.ByteBuffer.allocate(ByteBuffer.java:363)\n",
      "\tat org.apache.spark.sql.execution.columnar.BasicColumnBuilder.build(ColumnBuilder.scala:81)\n",
      "\tat org.apache.spark.sql.execution.columnar.ComplexColumnBuilder.org$apache$spark$sql$execution$columnar$NullableColumnBuilder$$super$build(ColumnBuilder.scala:93)\n",
      "\tat org.apache.spark.sql.execution.columnar.NullableColumnBuilder.build(NullableColumnBuilder.scala:67)\n",
      "\tat org.apache.spark.sql.execution.columnar.NullableColumnBuilder.build$(NullableColumnBuilder.scala:66)\n",
      "\tat org.apache.spark.sql.execution.columnar.ComplexColumnBuilder.build(ColumnBuilder.scala:93)\n",
      "\tat org.apache.spark.sql.execution.columnar.DefaultCachedBatchSerializer$$anon$1.$anonfun$next$4(InMemoryRelation.scala:115)\n",
      "\tat org.apache.spark.sql.execution.columnar.DefaultCachedBatchSerializer$$anon$1$$Lambda$4700/0x00000008014c3db0.apply(Unknown Source)\n",
      "\tat scala.collection.TraversableLike.$anonfun$map$1(TraversableLike.scala:286)\n",
      "\tat scala.collection.TraversableLike$$Lambda$144/0x00000008002b7120.apply(Unknown Source)\n",
      "\tat scala.collection.IndexedSeqOptimized.foreach(IndexedSeqOptimized.scala:36)\n",
      "\tat scala.collection.IndexedSeqOptimized.foreach$(IndexedSeqOptimized.scala:33)\n",
      "\tat scala.collection.mutable.ArrayOps$ofRef.foreach(ArrayOps.scala:198)\n",
      "\tat scala.collection.TraversableLike.map(TraversableLike.scala:286)\n",
      "\tat scala.collection.TraversableLike.map$(TraversableLike.scala:279)\n",
      "\tat scala.collection.mutable.ArrayOps$ofRef.map(ArrayOps.scala:198)\n",
      "\tat org.apache.spark.sql.execution.columnar.DefaultCachedBatchSerializer$$anon$1.next(InMemoryRelation.scala:114)\n",
      "\tat org.apache.spark.sql.execution.columnar.DefaultCachedBatchSerializer$$anon$1.next(InMemoryRelation.scala:80)\n",
      "\tat org.apache.spark.sql.execution.columnar.CachedRDDBuilder$$anon$2.next(InMemoryRelation.scala:288)\n",
      "\tat org.apache.spark.sql.execution.columnar.CachedRDDBuilder$$anon$2.next(InMemoryRelation.scala:285)\n",
      "\tat org.apache.spark.storage.memory.MemoryStore.putIterator(MemoryStore.scala:224)\n",
      "\tat org.apache.spark.storage.memory.MemoryStore.putIteratorAsValues(MemoryStore.scala:302)\n",
      "\tat org.apache.spark.storage.BlockManager.$anonfun$doPutIterator$1(BlockManager.scala:1601)\n",
      "\tat org.apache.spark.storage.BlockManager$$Lambda$1605/0x0000000800b2a890.apply(Unknown Source)\n",
      "\tat org.apache.spark.storage.BlockManager.org$apache$spark$storage$BlockManager$$doPut(BlockManager.scala:1528)\n",
      "\tat org.apache.spark.storage.BlockManager.doPutIterator(BlockManager.scala:1592)\n",
      "\tat org.apache.spark.storage.BlockManager.getOrElseUpdate(BlockManager.scala:1389)\n",
      "\tat org.apache.spark.storage.BlockManager.getOrElseUpdateRDDBlock(BlockManager.scala:1343)\n",
      "\tat org.apache.spark.rdd.RDD.getOrCompute(RDD.scala:376)\n",
      "\tat org.apache.spark.rdd.RDD.iterator(RDD.scala:326)\n",
      "\tat org.apache.spark.scheduler.ResultTask.runTask(ResultTask.scala:93)\n",
      "23/12/18 14:46:22 ERROR SparkUncaughtExceptionHandler: Uncaught exception in thread Thread[Executor task launch worker for task 0.0 in stage 61.0 (TID 172),5,main]\n",
      "java.lang.OutOfMemoryError: Java heap space\n",
      "\tat java.base/java.nio.HeapByteBuffer.<init>(HeapByteBuffer.java:64)\n",
      "\tat java.base/java.nio.ByteBuffer.allocate(ByteBuffer.java:363)\n",
      "\tat org.apache.spark.sql.execution.columnar.BasicColumnBuilder.build(ColumnBuilder.scala:81)\n",
      "\tat org.apache.spark.sql.execution.columnar.ComplexColumnBuilder.org$apache$spark$sql$execution$columnar$NullableColumnBuilder$$super$build(ColumnBuilder.scala:93)\n",
      "\tat org.apache.spark.sql.execution.columnar.NullableColumnBuilder.build(NullableColumnBuilder.scala:67)\n",
      "\tat org.apache.spark.sql.execution.columnar.NullableColumnBuilder.build$(NullableColumnBuilder.scala:66)\n",
      "\tat org.apache.spark.sql.execution.columnar.ComplexColumnBuilder.build(ColumnBuilder.scala:93)\n",
      "\tat org.apache.spark.sql.execution.columnar.DefaultCachedBatchSerializer$$anon$1.$anonfun$next$4(InMemoryRelation.scala:115)\n",
      "\tat org.apache.spark.sql.execution.columnar.DefaultCachedBatchSerializer$$anon$1$$Lambda$4700/0x00000008014c3db0.apply(Unknown Source)\n",
      "\tat scala.collection.TraversableLike.$anonfun$map$1(TraversableLike.scala:286)\n",
      "\tat scala.collection.TraversableLike$$Lambda$144/0x00000008002b7120.apply(Unknown Source)\n",
      "\tat scala.collection.IndexedSeqOptimized.foreach(IndexedSeqOptimized.scala:36)\n",
      "\tat scala.collection.IndexedSeqOptimized.foreach$(IndexedSeqOptimized.scala:33)\n",
      "\tat scala.collection.mutable.ArrayOps$ofRef.foreach(ArrayOps.scala:198)\n",
      "\tat scala.collection.TraversableLike.map(TraversableLike.scala:286)\n",
      "\tat scala.collection.TraversableLike.map$(TraversableLike.scala:279)\n",
      "\tat scala.collection.mutable.ArrayOps$ofRef.map(ArrayOps.scala:198)\n",
      "\tat org.apache.spark.sql.execution.columnar.DefaultCachedBatchSerializer$$anon$1.next(InMemoryRelation.scala:114)\n",
      "\tat org.apache.spark.sql.execution.columnar.DefaultCachedBatchSerializer$$anon$1.next(InMemoryRelation.scala:80)\n",
      "\tat org.apache.spark.sql.execution.columnar.CachedRDDBuilder$$anon$2.next(InMemoryRelation.scala:288)\n",
      "\tat org.apache.spark.sql.execution.columnar.CachedRDDBuilder$$anon$2.next(InMemoryRelation.scala:285)\n",
      "\tat org.apache.spark.storage.memory.MemoryStore.putIterator(MemoryStore.scala:224)\n",
      "\tat org.apache.spark.storage.memory.MemoryStore.putIteratorAsValues(MemoryStore.scala:302)\n",
      "\tat org.apache.spark.storage.BlockManager.$anonfun$doPutIterator$1(BlockManager.scala:1601)\n",
      "\tat org.apache.spark.storage.BlockManager$$Lambda$1605/0x0000000800b2a890.apply(Unknown Source)\n",
      "\tat org.apache.spark.storage.BlockManager.org$apache$spark$storage$BlockManager$$doPut(BlockManager.scala:1528)\n",
      "\tat org.apache.spark.storage.BlockManager.doPutIterator(BlockManager.scala:1592)\n",
      "\tat org.apache.spark.storage.BlockManager.getOrElseUpdate(BlockManager.scala:1389)\n",
      "\tat org.apache.spark.storage.BlockManager.getOrElseUpdateRDDBlock(BlockManager.scala:1343)\n",
      "\tat org.apache.spark.rdd.RDD.getOrCompute(RDD.scala:376)\n",
      "\tat org.apache.spark.rdd.RDD.iterator(RDD.scala:326)\n",
      "\tat org.apache.spark.scheduler.ResultTask.runTask(ResultTask.scala:93)\n",
      "23/12/18 14:46:22 WARN TaskSetManager: Lost task 0.0 in stage 61.0 (TID 172) (192.168.0.226 executor driver): java.lang.OutOfMemoryError: Java heap space\n",
      "\tat java.base/java.nio.HeapByteBuffer.<init>(HeapByteBuffer.java:64)\n",
      "\tat java.base/java.nio.ByteBuffer.allocate(ByteBuffer.java:363)\n",
      "\tat org.apache.spark.sql.execution.columnar.BasicColumnBuilder.build(ColumnBuilder.scala:81)\n",
      "\tat org.apache.spark.sql.execution.columnar.ComplexColumnBuilder.org$apache$spark$sql$execution$columnar$NullableColumnBuilder$$super$build(ColumnBuilder.scala:93)\n",
      "\tat org.apache.spark.sql.execution.columnar.NullableColumnBuilder.build(NullableColumnBuilder.scala:67)\n",
      "\tat org.apache.spark.sql.execution.columnar.NullableColumnBuilder.build$(NullableColumnBuilder.scala:66)\n",
      "\tat org.apache.spark.sql.execution.columnar.ComplexColumnBuilder.build(ColumnBuilder.scala:93)\n",
      "\tat org.apache.spark.sql.execution.columnar.DefaultCachedBatchSerializer$$anon$1.$anonfun$next$4(InMemoryRelation.scala:115)\n",
      "\tat org.apache.spark.sql.execution.columnar.DefaultCachedBatchSerializer$$anon$1$$Lambda$4700/0x00000008014c3db0.apply(Unknown Source)\n",
      "\tat scala.collection.TraversableLike.$anonfun$map$1(TraversableLike.scala:286)\n",
      "\tat scala.collection.TraversableLike$$Lambda$144/0x00000008002b7120.apply(Unknown Source)\n",
      "\tat scala.collection.IndexedSeqOptimized.foreach(IndexedSeqOptimized.scala:36)\n",
      "\tat scala.collection.IndexedSeqOptimized.foreach$(IndexedSeqOptimized.scala:33)\n",
      "\tat scala.collection.mutable.ArrayOps$ofRef.foreach(ArrayOps.scala:198)\n",
      "\tat scala.collection.TraversableLike.map(TraversableLike.scala:286)\n",
      "\tat scala.collection.TraversableLike.map$(TraversableLike.scala:279)\n",
      "\tat scala.collection.mutable.ArrayOps$ofRef.map(ArrayOps.scala:198)\n",
      "\tat org.apache.spark.sql.execution.columnar.DefaultCachedBatchSerializer$$anon$1.next(InMemoryRelation.scala:114)\n",
      "\tat org.apache.spark.sql.execution.columnar.DefaultCachedBatchSerializer$$anon$1.next(InMemoryRelation.scala:80)\n",
      "\tat org.apache.spark.sql.execution.columnar.CachedRDDBuilder$$anon$2.next(InMemoryRelation.scala:288)\n",
      "\tat org.apache.spark.sql.execution.columnar.CachedRDDBuilder$$anon$2.next(InMemoryRelation.scala:285)\n",
      "\tat org.apache.spark.storage.memory.MemoryStore.putIterator(MemoryStore.scala:224)\n",
      "\tat org.apache.spark.storage.memory.MemoryStore.putIteratorAsValues(MemoryStore.scala:302)\n",
      "\tat org.apache.spark.storage.BlockManager.$anonfun$doPutIterator$1(BlockManager.scala:1601)\n",
      "\tat org.apache.spark.storage.BlockManager$$Lambda$1605/0x0000000800b2a890.apply(Unknown Source)\n",
      "\tat org.apache.spark.storage.BlockManager.org$apache$spark$storage$BlockManager$$doPut(BlockManager.scala:1528)\n",
      "\tat org.apache.spark.storage.BlockManager.doPutIterator(BlockManager.scala:1592)\n",
      "\tat org.apache.spark.storage.BlockManager.getOrElseUpdate(BlockManager.scala:1389)\n",
      "\tat org.apache.spark.storage.BlockManager.getOrElseUpdateRDDBlock(BlockManager.scala:1343)\n",
      "\tat org.apache.spark.rdd.RDD.getOrCompute(RDD.scala:376)\n",
      "\tat org.apache.spark.rdd.RDD.iterator(RDD.scala:326)\n",
      "\tat org.apache.spark.scheduler.ResultTask.runTask(ResultTask.scala:93)\n",
      "\n",
      "23/12/18 14:46:22 ERROR TaskSetManager: Task 0 in stage 61.0 failed 1 times; aborting job\n",
      "23/12/18 14:46:22 WARN BlockManager: Putting block rdd_192_0 failed due to exception org.apache.spark.TaskKilledException.\n",
      "23/12/18 14:46:22 WARN BlockManager: Block rdd_192_0 could not be removed as it was not found on disk or in memory\n",
      "23/12/18 14:46:22 WARN TaskSetManager: Lost task 0.0 in stage 62.0 (TID 173) (192.168.0.226 executor driver): TaskKilled (Stage cancelled: Job aborted due to stage failure: Task 0 in stage 61.0 failed 1 times, most recent failure: Lost task 0.0 in stage 61.0 (TID 172) (192.168.0.226 executor driver): java.lang.OutOfMemoryError: Java heap space\n",
      "\tat java.base/java.nio.HeapByteBuffer.<init>(HeapByteBuffer.java:64)\n",
      "\tat java.base/java.nio.ByteBuffer.allocate(ByteBuffer.java:363)\n",
      "\tat org.apache.spark.sql.execution.columnar.BasicColumnBuilder.build(ColumnBuilder.scala:81)\n",
      "\tat org.apache.spark.sql.execution.columnar.ComplexColumnBuilder.org$apache$spark$sql$execution$columnar$NullableColumnBuilder$$super$build(ColumnBuilder.scala:93)\n",
      "\tat org.apache.spark.sql.execution.columnar.NullableColumnBuilder.build(NullableColumnBuilder.scala:67)\n",
      "\tat org.apache.spark.sql.execution.columnar.NullableColumnBuilder.build$(NullableColumnBuilder.scala:66)\n",
      "\tat org.apache.spark.sql.execution.columnar.ComplexColumnBuilder.build(ColumnBuilder.scala:93)\n",
      "\tat org.apache.spark.sql.execution.columnar.DefaultCachedBatchSerializer$$anon$1.$anonfun$next$4(InMemoryRelation.scala:115)\n",
      "\tat org.apache.spark.sql.execution.columnar.DefaultCachedBatchSerializer$$anon$1$$Lambda$4700/0x00000008014c3db0.apply(Unknown Source)\n",
      "\tat scala.collection.TraversableLike.$anonfun$map$1(TraversableLike.scala:286)\n",
      "\tat scala.collection.TraversableLike$$Lambda$144/0x00000008002b7120.apply(Unknown Source)\n",
      "\tat scala.collection.IndexedSeqOptimized.foreach(IndexedSeqOptimized.scala:36)\n",
      "\tat scala.collection.IndexedSeqOptimized.foreach$(IndexedSeqOptimized.scala:33)\n",
      "\tat scala.collection.mutable.ArrayOps$ofRef.foreach(ArrayOps.scala:198)\n",
      "\tat scala.collection.TraversableLike.map(TraversableLike.scala:286)\n",
      "\tat scala.collection.TraversableLike.map$(TraversableLike.scala:279)\n",
      "\tat scala.collection.mutable.ArrayOps$ofRef.map(ArrayOps.scala:198)\n",
      "\tat org.apache.spark.sql.execution.columnar.DefaultCachedBatchSerializer$$anon$1.next(InMemoryRelation.scala:114)\n",
      "\tat org.apache.spark.sql.execution.columnar.DefaultCachedBatchSerializer$$anon$1.next(InMemoryRelation.scala:80)\n",
      "\tat org.apache.spark.sql.execution.columnar.CachedRDDBuilder$$anon$2.next(InMemoryRelation.scala:288)\n",
      "\tat org.apache.spark.sql.execution.columnar.CachedRDDBuilder$$anon$2.next(InMemoryRelation.scala:285)\n",
      "\tat org.apache.spark.storage.memory.MemoryStore.putIterator(MemoryStore.scala:224)\n",
      "\tat org.apache.spark.storage.memory.MemoryStore.putIteratorAsValues(MemoryStore.scala:302)\n",
      "\tat org.apache.spark.storage.BlockManager.$anonfun$doPutIterator$1(BlockManager.scala:1601)\n",
      "\tat org.apache.spark.storage.BlockManager$$Lambda$1605/0x0000000800b2a890.apply(Unknown Source)\n",
      "\tat org.apache.spark.storage.BlockManager.org$apache$spark$storage$BlockManager$$doPut(BlockManager.scala:1528)\n",
      "\tat org.apache.spark.storage.BlockManager.doPutIterator(BlockManager.scala:1592)\n",
      "\tat org.apache.spark.storage.BlockManager.getOrElseUpdate(BlockManager.scala:1389)\n",
      "\tat org.apache.spark.storage.BlockManager.getOrElseUpdateRDDBlock(BlockManager.scala:1343)\n",
      "\tat org.apache.spark.rdd.RDD.getOrCompute(RDD.scala:376)\n",
      "\tat org.apache.spark.rdd.RDD.iterator(RDD.scala:326)\n",
      "\tat org.apache.spark.scheduler.ResultTask.runTask(ResultTask.scala:93)\n",
      "\n",
      "Driver stacktrace:)\n",
      "ERROR:root:Exception while sending command.\n",
      "Traceback (most recent call last):\n",
      "  File \"/Users/polina/Library/Python/3.9/lib/python/site-packages/pyspark/errors/exceptions/captured.py\", line 179, in deco\n",
      "    return f(*a, **kw)\n",
      "  File \"/Users/polina/Library/Python/3.9/lib/python/site-packages/py4j/protocol.py\", line 326, in get_return_value\n",
      "    raise Py4JJavaError(\n",
      "py4j.protocol.Py4JJavaError: <unprintable Py4JJavaError object>\n",
      "\n",
      "During handling of the above exception, another exception occurred:\n",
      "\n",
      "Traceback (most recent call last):\n",
      "  File \"/Users/polina/Library/Python/3.9/lib/python/site-packages/py4j/clientserver.py\", line 516, in send_command\n",
      "    raise Py4JNetworkError(\"Answer from Java side is empty\")\n",
      "py4j.protocol.Py4JNetworkError: Answer from Java side is empty\n",
      "\n",
      "During handling of the above exception, another exception occurred:\n",
      "\n",
      "Traceback (most recent call last):\n",
      "  File \"/Users/polina/Library/Python/3.9/lib/python/site-packages/py4j/java_gateway.py\", line 1038, in send_command\n",
      "    response = connection.send_command(command)\n",
      "  File \"/Users/polina/Library/Python/3.9/lib/python/site-packages/py4j/clientserver.py\", line 539, in send_command\n",
      "    raise Py4JNetworkError(\n",
      "py4j.protocol.Py4JNetworkError: Error while sending or receiving\n"
     ]
    },
    {
     "ename": "Py4JError",
     "evalue": "py4j.reflection does not exist in the JVM",
     "output_type": "error",
     "traceback": [
      "\u001b[0;31m---------------------------------------------------------------------------\u001b[0m",
      "\u001b[0;31mPy4JJavaError\u001b[0m                             Traceback (most recent call last)",
      "File \u001b[0;32m~/Library/Python/3.9/lib/python/site-packages/pyspark/errors/exceptions/captured.py:179\u001b[0m, in \u001b[0;36mcapture_sql_exception.<locals>.deco\u001b[0;34m(*a, **kw)\u001b[0m\n\u001b[1;32m    178\u001b[0m \u001b[38;5;28;01mtry\u001b[39;00m:\n\u001b[0;32m--> 179\u001b[0m     \u001b[38;5;28;01mreturn\u001b[39;00m \u001b[43mf\u001b[49m\u001b[43m(\u001b[49m\u001b[38;5;241;43m*\u001b[39;49m\u001b[43ma\u001b[49m\u001b[43m,\u001b[49m\u001b[43m \u001b[49m\u001b[38;5;241;43m*\u001b[39;49m\u001b[38;5;241;43m*\u001b[39;49m\u001b[43mkw\u001b[49m\u001b[43m)\u001b[49m\n\u001b[1;32m    180\u001b[0m \u001b[38;5;28;01mexcept\u001b[39;00m Py4JJavaError \u001b[38;5;28;01mas\u001b[39;00m e:\n",
      "File \u001b[0;32m~/Library/Python/3.9/lib/python/site-packages/py4j/protocol.py:326\u001b[0m, in \u001b[0;36mget_return_value\u001b[0;34m(answer, gateway_client, target_id, name)\u001b[0m\n\u001b[1;32m    325\u001b[0m \u001b[38;5;28;01mif\u001b[39;00m answer[\u001b[38;5;241m1\u001b[39m] \u001b[38;5;241m==\u001b[39m REFERENCE_TYPE:\n\u001b[0;32m--> 326\u001b[0m     \u001b[38;5;28;01mraise\u001b[39;00m Py4JJavaError(\n\u001b[1;32m    327\u001b[0m         \u001b[38;5;124m\"\u001b[39m\u001b[38;5;124mAn error occurred while calling \u001b[39m\u001b[38;5;132;01m{0}\u001b[39;00m\u001b[38;5;132;01m{1}\u001b[39;00m\u001b[38;5;132;01m{2}\u001b[39;00m\u001b[38;5;124m.\u001b[39m\u001b[38;5;130;01m\\n\u001b[39;00m\u001b[38;5;124m\"\u001b[39m\u001b[38;5;241m.\u001b[39m\n\u001b[1;32m    328\u001b[0m         \u001b[38;5;28mformat\u001b[39m(target_id, \u001b[38;5;124m\"\u001b[39m\u001b[38;5;124m.\u001b[39m\u001b[38;5;124m\"\u001b[39m, name), value)\n\u001b[1;32m    329\u001b[0m \u001b[38;5;28;01melse\u001b[39;00m:\n",
      "\u001b[0;31m<class 'str'>\u001b[0m: (<class 'ConnectionRefusedError'>, ConnectionRefusedError(61, 'Connection refused'))",
      "\nDuring handling of the above exception, another exception occurred:\n",
      "\u001b[0;31mPy4JError\u001b[0m                                 Traceback (most recent call last)",
      "Cell \u001b[0;32mIn[34], line 1\u001b[0m\n\u001b[0;32m----> 1\u001b[0m \u001b[43mdrug_to_moa_join\u001b[49m\u001b[38;5;241;43m.\u001b[39;49m\u001b[43mshow\u001b[49m\u001b[43m(\u001b[49m\u001b[43m)\u001b[49m\n",
      "File \u001b[0;32m~/Library/Python/3.9/lib/python/site-packages/pyspark/sql/dataframe.py:959\u001b[0m, in \u001b[0;36mDataFrame.show\u001b[0;34m(self, n, truncate, vertical)\u001b[0m\n\u001b[1;32m    953\u001b[0m     \u001b[38;5;28;01mraise\u001b[39;00m PySparkTypeError(\n\u001b[1;32m    954\u001b[0m         error_class\u001b[38;5;241m=\u001b[39m\u001b[38;5;124m\"\u001b[39m\u001b[38;5;124mNOT_BOOL\u001b[39m\u001b[38;5;124m\"\u001b[39m,\n\u001b[1;32m    955\u001b[0m         message_parameters\u001b[38;5;241m=\u001b[39m{\u001b[38;5;124m\"\u001b[39m\u001b[38;5;124marg_name\u001b[39m\u001b[38;5;124m\"\u001b[39m: \u001b[38;5;124m\"\u001b[39m\u001b[38;5;124mvertical\u001b[39m\u001b[38;5;124m\"\u001b[39m, \u001b[38;5;124m\"\u001b[39m\u001b[38;5;124marg_type\u001b[39m\u001b[38;5;124m\"\u001b[39m: \u001b[38;5;28mtype\u001b[39m(vertical)\u001b[38;5;241m.\u001b[39m\u001b[38;5;18m__name__\u001b[39m},\n\u001b[1;32m    956\u001b[0m     )\n\u001b[1;32m    958\u001b[0m \u001b[38;5;28;01mif\u001b[39;00m \u001b[38;5;28misinstance\u001b[39m(truncate, \u001b[38;5;28mbool\u001b[39m) \u001b[38;5;129;01mand\u001b[39;00m truncate:\n\u001b[0;32m--> 959\u001b[0m     \u001b[38;5;28mprint\u001b[39m(\u001b[38;5;28;43mself\u001b[39;49m\u001b[38;5;241;43m.\u001b[39;49m\u001b[43m_jdf\u001b[49m\u001b[38;5;241;43m.\u001b[39;49m\u001b[43mshowString\u001b[49m\u001b[43m(\u001b[49m\u001b[43mn\u001b[49m\u001b[43m,\u001b[49m\u001b[43m \u001b[49m\u001b[38;5;241;43m20\u001b[39;49m\u001b[43m,\u001b[49m\u001b[43m \u001b[49m\u001b[43mvertical\u001b[49m\u001b[43m)\u001b[49m)\n\u001b[1;32m    960\u001b[0m \u001b[38;5;28;01melse\u001b[39;00m:\n\u001b[1;32m    961\u001b[0m     \u001b[38;5;28;01mtry\u001b[39;00m:\n",
      "File \u001b[0;32m~/Library/Python/3.9/lib/python/site-packages/py4j/java_gateway.py:1322\u001b[0m, in \u001b[0;36mJavaMember.__call__\u001b[0;34m(self, *args)\u001b[0m\n\u001b[1;32m   1316\u001b[0m command \u001b[38;5;241m=\u001b[39m proto\u001b[38;5;241m.\u001b[39mCALL_COMMAND_NAME \u001b[38;5;241m+\u001b[39m\\\n\u001b[1;32m   1317\u001b[0m     \u001b[38;5;28mself\u001b[39m\u001b[38;5;241m.\u001b[39mcommand_header \u001b[38;5;241m+\u001b[39m\\\n\u001b[1;32m   1318\u001b[0m     args_command \u001b[38;5;241m+\u001b[39m\\\n\u001b[1;32m   1319\u001b[0m     proto\u001b[38;5;241m.\u001b[39mEND_COMMAND_PART\n\u001b[1;32m   1321\u001b[0m answer \u001b[38;5;241m=\u001b[39m \u001b[38;5;28mself\u001b[39m\u001b[38;5;241m.\u001b[39mgateway_client\u001b[38;5;241m.\u001b[39msend_command(command)\n\u001b[0;32m-> 1322\u001b[0m return_value \u001b[38;5;241m=\u001b[39m \u001b[43mget_return_value\u001b[49m\u001b[43m(\u001b[49m\n\u001b[1;32m   1323\u001b[0m \u001b[43m    \u001b[49m\u001b[43manswer\u001b[49m\u001b[43m,\u001b[49m\u001b[43m \u001b[49m\u001b[38;5;28;43mself\u001b[39;49m\u001b[38;5;241;43m.\u001b[39;49m\u001b[43mgateway_client\u001b[49m\u001b[43m,\u001b[49m\u001b[43m \u001b[49m\u001b[38;5;28;43mself\u001b[39;49m\u001b[38;5;241;43m.\u001b[39;49m\u001b[43mtarget_id\u001b[49m\u001b[43m,\u001b[49m\u001b[43m \u001b[49m\u001b[38;5;28;43mself\u001b[39;49m\u001b[38;5;241;43m.\u001b[39;49m\u001b[43mname\u001b[49m\u001b[43m)\u001b[49m\n\u001b[1;32m   1325\u001b[0m \u001b[38;5;28;01mfor\u001b[39;00m temp_arg \u001b[38;5;129;01min\u001b[39;00m temp_args:\n\u001b[1;32m   1326\u001b[0m     \u001b[38;5;28;01mif\u001b[39;00m \u001b[38;5;28mhasattr\u001b[39m(temp_arg, \u001b[38;5;124m\"\u001b[39m\u001b[38;5;124m_detach\u001b[39m\u001b[38;5;124m\"\u001b[39m):\n",
      "File \u001b[0;32m~/Library/Python/3.9/lib/python/site-packages/pyspark/errors/exceptions/captured.py:181\u001b[0m, in \u001b[0;36mcapture_sql_exception.<locals>.deco\u001b[0;34m(*a, **kw)\u001b[0m\n\u001b[1;32m    179\u001b[0m     \u001b[38;5;28;01mreturn\u001b[39;00m f(\u001b[38;5;241m*\u001b[39ma, \u001b[38;5;241m*\u001b[39m\u001b[38;5;241m*\u001b[39mkw)\n\u001b[1;32m    180\u001b[0m \u001b[38;5;28;01mexcept\u001b[39;00m Py4JJavaError \u001b[38;5;28;01mas\u001b[39;00m e:\n\u001b[0;32m--> 181\u001b[0m     converted \u001b[38;5;241m=\u001b[39m \u001b[43mconvert_exception\u001b[49m\u001b[43m(\u001b[49m\u001b[43me\u001b[49m\u001b[38;5;241;43m.\u001b[39;49m\u001b[43mjava_exception\u001b[49m\u001b[43m)\u001b[49m\n\u001b[1;32m    182\u001b[0m     \u001b[38;5;28;01mif\u001b[39;00m \u001b[38;5;129;01mnot\u001b[39;00m \u001b[38;5;28misinstance\u001b[39m(converted, UnknownException):\n\u001b[1;32m    183\u001b[0m         \u001b[38;5;66;03m# Hide where the exception came from that shows a non-Pythonic\u001b[39;00m\n\u001b[1;32m    184\u001b[0m         \u001b[38;5;66;03m# JVM exception message.\u001b[39;00m\n\u001b[1;32m    185\u001b[0m         \u001b[38;5;28;01mraise\u001b[39;00m converted \u001b[38;5;28;01mfrom\u001b[39;00m \u001b[38;5;28mNone\u001b[39m\n",
      "File \u001b[0;32m~/Library/Python/3.9/lib/python/site-packages/pyspark/errors/exceptions/captured.py:173\u001b[0m, in \u001b[0;36mconvert_exception\u001b[0;34m(e)\u001b[0m\n\u001b[1;32m    167\u001b[0m     msg \u001b[38;5;241m=\u001b[39m (\n\u001b[1;32m    168\u001b[0m         \u001b[38;5;124m\"\u001b[39m\u001b[38;5;130;01m\\n\u001b[39;00m\u001b[38;5;124m  An exception was thrown from the Python worker. \u001b[39m\u001b[38;5;124m\"\u001b[39m\n\u001b[1;32m    169\u001b[0m         \u001b[38;5;124m\"\u001b[39m\u001b[38;5;124mPlease see the stack trace below.\u001b[39m\u001b[38;5;130;01m\\n\u001b[39;00m\u001b[38;5;132;01m%s\u001b[39;00m\u001b[38;5;124m\"\u001b[39m \u001b[38;5;241m%\u001b[39m c\u001b[38;5;241m.\u001b[39mgetMessage()\n\u001b[1;32m    170\u001b[0m     )\n\u001b[1;32m    171\u001b[0m     \u001b[38;5;28;01mreturn\u001b[39;00m PythonException(msg, stacktrace)\n\u001b[0;32m--> 173\u001b[0m \u001b[38;5;28;01mreturn\u001b[39;00m \u001b[43mUnknownException\u001b[49m\u001b[43m(\u001b[49m\u001b[43mdesc\u001b[49m\u001b[38;5;241;43m=\u001b[39;49m\u001b[43me\u001b[49m\u001b[38;5;241;43m.\u001b[39;49m\u001b[43mtoString\u001b[49m\u001b[43m(\u001b[49m\u001b[43m)\u001b[49m\u001b[43m,\u001b[49m\u001b[43m \u001b[49m\u001b[43mstackTrace\u001b[49m\u001b[38;5;241;43m=\u001b[39;49m\u001b[43mstacktrace\u001b[49m\u001b[43m,\u001b[49m\u001b[43m \u001b[49m\u001b[43mcause\u001b[49m\u001b[38;5;241;43m=\u001b[39;49m\u001b[43mc\u001b[49m\u001b[43m)\u001b[49m\n",
      "File \u001b[0;32m~/Library/Python/3.9/lib/python/site-packages/pyspark/errors/exceptions/captured.py:65\u001b[0m, in \u001b[0;36mCapturedException.__init__\u001b[0;34m(self, desc, stackTrace, cause, origin)\u001b[0m\n\u001b[1;32m     59\u001b[0m \u001b[38;5;28;01massert\u001b[39;00m SparkContext\u001b[38;5;241m.\u001b[39m_jvm \u001b[38;5;129;01mis\u001b[39;00m \u001b[38;5;129;01mnot\u001b[39;00m \u001b[38;5;28;01mNone\u001b[39;00m\n\u001b[1;32m     60\u001b[0m \u001b[38;5;28mself\u001b[39m\u001b[38;5;241m.\u001b[39mstackTrace \u001b[38;5;241m=\u001b[39m (\n\u001b[1;32m     61\u001b[0m     stackTrace\n\u001b[1;32m     62\u001b[0m     \u001b[38;5;28;01mif\u001b[39;00m stackTrace \u001b[38;5;129;01mis\u001b[39;00m \u001b[38;5;129;01mnot\u001b[39;00m \u001b[38;5;28;01mNone\u001b[39;00m\n\u001b[1;32m     63\u001b[0m     \u001b[38;5;28;01melse\u001b[39;00m (SparkContext\u001b[38;5;241m.\u001b[39m_jvm\u001b[38;5;241m.\u001b[39morg\u001b[38;5;241m.\u001b[39mapache\u001b[38;5;241m.\u001b[39mspark\u001b[38;5;241m.\u001b[39mutil\u001b[38;5;241m.\u001b[39mUtils\u001b[38;5;241m.\u001b[39mexceptionString(origin))\n\u001b[1;32m     64\u001b[0m )\n\u001b[0;32m---> 65\u001b[0m \u001b[38;5;28mself\u001b[39m\u001b[38;5;241m.\u001b[39mcause \u001b[38;5;241m=\u001b[39m \u001b[43mconvert_exception\u001b[49m\u001b[43m(\u001b[49m\u001b[43mcause\u001b[49m\u001b[43m)\u001b[49m \u001b[38;5;28;01mif\u001b[39;00m cause \u001b[38;5;129;01mis\u001b[39;00m \u001b[38;5;129;01mnot\u001b[39;00m \u001b[38;5;28;01mNone\u001b[39;00m \u001b[38;5;28;01melse\u001b[39;00m \u001b[38;5;28;01mNone\u001b[39;00m\n\u001b[1;32m     66\u001b[0m \u001b[38;5;28;01mif\u001b[39;00m \u001b[38;5;28mself\u001b[39m\u001b[38;5;241m.\u001b[39mcause \u001b[38;5;129;01mis\u001b[39;00m \u001b[38;5;28;01mNone\u001b[39;00m \u001b[38;5;129;01mand\u001b[39;00m origin \u001b[38;5;129;01mis\u001b[39;00m \u001b[38;5;129;01mnot\u001b[39;00m \u001b[38;5;28;01mNone\u001b[39;00m \u001b[38;5;129;01mand\u001b[39;00m origin\u001b[38;5;241m.\u001b[39mgetCause() \u001b[38;5;129;01mis\u001b[39;00m \u001b[38;5;129;01mnot\u001b[39;00m \u001b[38;5;28;01mNone\u001b[39;00m:\n\u001b[1;32m     67\u001b[0m     \u001b[38;5;28mself\u001b[39m\u001b[38;5;241m.\u001b[39mcause \u001b[38;5;241m=\u001b[39m convert_exception(origin\u001b[38;5;241m.\u001b[39mgetCause())\n",
      "File \u001b[0;32m~/Library/Python/3.9/lib/python/site-packages/pyspark/errors/exceptions/captured.py:143\u001b[0m, in \u001b[0;36mconvert_exception\u001b[0;34m(e)\u001b[0m\n\u001b[1;32m    141\u001b[0m \u001b[38;5;28;01melif\u001b[39;00m is_instance_of(gw, e, \u001b[38;5;124m\"\u001b[39m\u001b[38;5;124mjava.lang.IllegalArgumentException\u001b[39m\u001b[38;5;124m\"\u001b[39m):\n\u001b[1;32m    142\u001b[0m     \u001b[38;5;28;01mreturn\u001b[39;00m IllegalArgumentException(origin\u001b[38;5;241m=\u001b[39me)\n\u001b[0;32m--> 143\u001b[0m \u001b[38;5;28;01melif\u001b[39;00m \u001b[43mis_instance_of\u001b[49m\u001b[43m(\u001b[49m\u001b[43mgw\u001b[49m\u001b[43m,\u001b[49m\u001b[43m \u001b[49m\u001b[43me\u001b[49m\u001b[43m,\u001b[49m\u001b[43m \u001b[49m\u001b[38;5;124;43m\"\u001b[39;49m\u001b[38;5;124;43mjava.lang.ArithmeticException\u001b[39;49m\u001b[38;5;124;43m\"\u001b[39;49m\u001b[43m)\u001b[49m:\n\u001b[1;32m    144\u001b[0m     \u001b[38;5;28;01mreturn\u001b[39;00m ArithmeticException(origin\u001b[38;5;241m=\u001b[39me)\n\u001b[1;32m    145\u001b[0m \u001b[38;5;28;01melif\u001b[39;00m is_instance_of(gw, e, \u001b[38;5;124m\"\u001b[39m\u001b[38;5;124mjava.lang.UnsupportedOperationException\u001b[39m\u001b[38;5;124m\"\u001b[39m):\n",
      "File \u001b[0;32m~/Library/Python/3.9/lib/python/site-packages/py4j/java_gateway.py:464\u001b[0m, in \u001b[0;36mis_instance_of\u001b[0;34m(gateway, java_object, java_class)\u001b[0m\n\u001b[1;32m    460\u001b[0m \u001b[38;5;28;01melse\u001b[39;00m:\n\u001b[1;32m    461\u001b[0m     \u001b[38;5;28;01mraise\u001b[39;00m Py4JError(\n\u001b[1;32m    462\u001b[0m         \u001b[38;5;124m\"\u001b[39m\u001b[38;5;124mjava_class must be a string, a JavaClass, or a JavaObject\u001b[39m\u001b[38;5;124m\"\u001b[39m)\n\u001b[0;32m--> 464\u001b[0m \u001b[38;5;28;01mreturn\u001b[39;00m \u001b[43mgateway\u001b[49m\u001b[38;5;241;43m.\u001b[39;49m\u001b[43mjvm\u001b[49m\u001b[38;5;241;43m.\u001b[39;49m\u001b[43mpy4j\u001b[49m\u001b[38;5;241;43m.\u001b[39;49m\u001b[43mreflection\u001b[49m\u001b[38;5;241m.\u001b[39mTypeUtil\u001b[38;5;241m.\u001b[39misInstanceOf(\n\u001b[1;32m    465\u001b[0m     param, java_object)\n",
      "File \u001b[0;32m~/Library/Python/3.9/lib/python/site-packages/py4j/java_gateway.py:1664\u001b[0m, in \u001b[0;36mJavaPackage.__getattr__\u001b[0;34m(self, name)\u001b[0m\n\u001b[1;32m   1661\u001b[0m     \u001b[38;5;28;01mreturn\u001b[39;00m JavaClass(\n\u001b[1;32m   1662\u001b[0m         answer[proto\u001b[38;5;241m.\u001b[39mCLASS_FQN_START:], \u001b[38;5;28mself\u001b[39m\u001b[38;5;241m.\u001b[39m_gateway_client)\n\u001b[1;32m   1663\u001b[0m \u001b[38;5;28;01melse\u001b[39;00m:\n\u001b[0;32m-> 1664\u001b[0m     \u001b[38;5;28;01mraise\u001b[39;00m Py4JError(\u001b[38;5;124m\"\u001b[39m\u001b[38;5;132;01m{0}\u001b[39;00m\u001b[38;5;124m does not exist in the JVM\u001b[39m\u001b[38;5;124m\"\u001b[39m\u001b[38;5;241m.\u001b[39mformat(new_fqn))\n",
      "\u001b[0;31mPy4JError\u001b[0m: py4j.reflection does not exist in the JVM"
     ]
    },
    {
     "name": "stderr",
     "output_type": "stream",
     "text": [
      "ERROR:root:Exception while sending command.\n",
      "Traceback (most recent call last):\n",
      "  File \"/Users/polina/Library/Python/3.9/lib/python/site-packages/py4j/clientserver.py\", line 511, in send_command\n",
      "    answer = smart_decode(self.stream.readline()[:-1])\n",
      "  File \"/Library/Developer/CommandLineTools/Library/Frameworks/Python3.framework/Versions/3.9/lib/python3.9/socket.py\", line 704, in readinto\n",
      "    return self._sock.recv_into(b)\n",
      "ConnectionResetError: [Errno 54] Connection reset by peer\n",
      "\n",
      "During handling of the above exception, another exception occurred:\n",
      "\n",
      "Traceback (most recent call last):\n",
      "  File \"/Users/polina/Library/Python/3.9/lib/python/site-packages/py4j/java_gateway.py\", line 1038, in send_command\n",
      "    response = connection.send_command(command)\n",
      "  File \"/Users/polina/Library/Python/3.9/lib/python/site-packages/py4j/clientserver.py\", line 539, in send_command\n",
      "    raise Py4JNetworkError(\n",
      "py4j.protocol.Py4JNetworkError: Error while sending or receiving\n"
     ]
    }
   ],
   "source": [
    "drug_to_moa_join.show()"
   ]
  },
  {
   "cell_type": "code",
   "execution_count": null,
   "metadata": {},
   "outputs": [
    {
     "name": "stderr",
     "output_type": "stream",
     "text": [
      "                                                                                \r"
     ]
    },
    {
     "data": {
      "text/plain": [
       "4647"
      ]
     },
     "execution_count": 80,
     "metadata": {},
     "output_type": "execute_result"
    }
   ],
   "source": [
    "drug_to_moa_join.count()"
   ]
  },
  {
   "cell_type": "code",
   "execution_count": null,
   "metadata": {},
   "outputs": [
    {
     "name": "stdout",
     "output_type": "stream",
     "text": [
      "+--------------------+-----------+--------------------+--------------------+------------------+-------------------------+---------+----------------+\n",
      "|           _metadata|action_type| mechanism_of_action|      mechanism_refs|molecule_chembl_id|parent_molecule_chembl_id|record_id|target_chembl_id|\n",
      "+--------------------+-----------+--------------------+--------------------+------------------+-------------------------+---------+----------------+\n",
      "|{[CHEMBL1200710, ...|  INHIBITOR|Serotonin transpo...|[{setid=4074b555-...|     CHEMBL1200710|                CHEMBL415|  1343314|       CHEMBL228|\n",
      "+--------------------+-----------+--------------------+--------------------+------------------+-------------------------+---------+----------------+\n",
      "\n"
     ]
    }
   ],
   "source": [
    "mechanism_filtered = mechanism.filter(mechanism[\"parent_molecule_chembl_id\"] == \"CHEMBL3545181\")\n",
    "mechanism_filtered.show()"
   ]
  },
  {
   "cell_type": "code",
   "execution_count": null,
   "metadata": {},
   "outputs": [
    {
     "name": "stderr",
     "output_type": "stream",
     "text": [
      "                                                                                \r"
     ]
    },
    {
     "name": "stdout",
     "output_type": "stream",
     "text": [
      "+----------------+---------+-------------------------+-----------------+--------------------+--------------+-------------------------+----------+--------------------+--------------------+---------------+----------+-----------+---------------+--------------------+---------------------+-------------------------+----------------+----------------------+--------------+--------------------+--------------+---------+------------+\n",
      "|target_chembl_id|   drugId|target_chembl_id_moa_aggr|max_pchembl_value|median_pchembl_value|      drugType|maximumClinicalTrialPhase|isApproved|       linkedTargets|      linkedDiseases|assay_chembl_id|assay_type|action_type|target_organism|    target_pref_name|data_validity_comment|data_validity_description|confidence_score|confidence_description|assay_category|   target_components|   target_type|accession|proteinClass|\n",
      "+----------------+---------+-------------------------+-----------------+--------------------+--------------+-------------------------+----------+--------------------+--------------------+---------------+----------+-----------+---------------+--------------------+---------------------+-------------------------+----------------+----------------------+--------------+--------------------+--------------+---------+------------+\n",
      "|   CHEMBL1293256|CHEMBL415|                CHEMBL228|             4.90|                 4.9|Small molecule|                      4.0|      true|{1, [ENSG00000108...|{7, [MONDO_000205...|  CHEMBL1614086|         F|       null|   Homo sapiens|      Thrombopoietin|                 null|                     null|               9|  Direct single pro...|  confirmatory|[{P40225, Thrombo...|SINGLE PROTEIN|   P40225|        None|\n",
      "|      CHEMBL3371|CHEMBL415|                CHEMBL228|             6.95|                6.95|Small molecule|                      4.0|      true|{1, [ENSG00000108...|{7, [MONDO_000205...|  CHEMBL2157129|         B|       null|   Homo sapiens|Serotonin 6 (5-HT...|                 null|                     null|               9|  Direct single pro...|          null|[{P50406, 5-hydro...|SINGLE PROTEIN|   P50406|        GPCR|\n",
      "|       CHEMBL340|CHEMBL415|                CHEMBL228|             4.50|                 4.5|Small molecule|                      4.0|      true|{1, [ENSG00000108...|{7, [MONDO_000205...|  CHEMBL1613886|         A|       null|   Homo sapiens| Cytochrome P450 3A4|                 null|                     null|               9|  Direct single pro...|  confirmatory|[{P08684, Cytochr...|SINGLE PROTEIN|   P08684|      Enzyme|\n",
      "+----------------+---------+-------------------------+-----------------+--------------------+--------------+-------------------------+----------+--------------------+--------------------+---------------+----------+-----------+---------------+--------------------+---------------------+-------------------------+----------------+----------------------+--------------+--------------------+--------------+---------+------------+\n",
      "\n"
     ]
    }
   ],
   "source": [
    "drug_to_moa_filtered = drug_to_moa_join.filter(drug_to_moa_join[\"drugId\"] == \"CHEMBL3545181\")\n",
    "drug_to_moa_filtered.show()"
   ]
  },
  {
   "cell_type": "code",
   "execution_count": null,
   "metadata": {},
   "outputs": [
    {
     "name": "stdout",
     "output_type": "stream",
     "text": [
      "root\n",
      " |-- target_chembl_id: string (nullable = true)\n",
      " |-- drugId: string (nullable = true)\n",
      " |-- target_chembl_id_moa_aggr: string (nullable = false)\n",
      " |-- max_pchembl_value: string (nullable = true)\n",
      " |-- median_pchembl_value: double (nullable = true)\n",
      " |-- drugType: string (nullable = true)\n",
      " |-- maximumClinicalTrialPhase: double (nullable = true)\n",
      " |-- isApproved: boolean (nullable = true)\n",
      " |-- linkedTargets: struct (nullable = true)\n",
      " |    |-- count: long (nullable = true)\n",
      " |    |-- rows: array (nullable = true)\n",
      " |    |    |-- element: string (containsNull = true)\n",
      " |-- linkedDiseases: struct (nullable = true)\n",
      " |    |-- count: long (nullable = true)\n",
      " |    |-- rows: array (nullable = true)\n",
      " |    |    |-- element: string (containsNull = true)\n",
      " |-- assay_chembl_id: string (nullable = true)\n",
      " |-- assay_type: string (nullable = true)\n",
      " |-- action_type: struct (nullable = true)\n",
      " |    |-- action_type: string (nullable = true)\n",
      " |    |-- description: string (nullable = true)\n",
      " |    |-- parent_type: string (nullable = true)\n",
      " |-- target_organism: string (nullable = true)\n",
      " |-- target_pref_name: string (nullable = true)\n",
      " |-- data_validity_comment: string (nullable = true)\n",
      " |-- data_validity_description: string (nullable = true)\n",
      " |-- confidence_score: long (nullable = true)\n",
      " |-- confidence_description: string (nullable = true)\n",
      " |-- assay_category: string (nullable = true)\n",
      " |-- target_components: array (nullable = true)\n",
      " |    |-- element: struct (containsNull = true)\n",
      " |    |    |-- accession: string (nullable = true)\n",
      " |    |    |-- component_description: string (nullable = true)\n",
      " |    |    |-- component_id: long (nullable = true)\n",
      " |    |    |-- component_type: string (nullable = true)\n",
      " |    |    |-- relationship: string (nullable = true)\n",
      " |    |    |-- target_component_synonyms: array (nullable = true)\n",
      " |    |    |    |-- element: struct (containsNull = true)\n",
      " |    |    |    |    |-- component_synonym: string (nullable = true)\n",
      " |    |    |    |    |-- syn_type: string (nullable = true)\n",
      " |    |    |-- target_component_xrefs: array (nullable = true)\n",
      " |    |    |    |-- element: struct (containsNull = true)\n",
      " |    |    |    |    |-- xref_id: string (nullable = true)\n",
      " |    |    |    |    |-- xref_name: string (nullable = true)\n",
      " |    |    |    |    |-- xref_src_db: string (nullable = true)\n",
      " |    |    |    |    |-- xref_src_url: string (nullable = true)\n",
      " |    |    |    |    |-- xref_url: string (nullable = true)\n",
      " |-- target_type: string (nullable = true)\n",
      " |-- accession: string (nullable = true)\n",
      " |-- proteinClass: string (nullable = true)\n",
      "\n"
     ]
    }
   ],
   "source": [
    "drug_to_moa_join.printSchema()"
   ]
  },
  {
   "cell_type": "code",
   "execution_count": null,
   "metadata": {},
   "outputs": [
    {
     "data": {
      "text/plain": [
       "4647"
      ]
     },
     "execution_count": 82,
     "metadata": {},
     "output_type": "execute_result"
    }
   ],
   "source": [
    "# Add a new column 'isInMoA'\n",
    "\n",
    "drug_to_moa_isInMoA = drug_to_moa_join.withColumn(\n",
    "    \"isInMoA\", \n",
    "    when(\n",
    "        col(\"target_chembl_id_moa_aggr\") == \"\", None  # Check for empty string\n",
    "    ).otherwise(\n",
    "        array_contains(split(col(\"target_chembl_id_moa_aggr\"), \",\"), col(\"target_chembl_id\"))\n",
    "    )\n",
    ")\n",
    "\n",
    "drug_to_moa_isInMoA.count()"
   ]
  },
  {
   "cell_type": "markdown",
   "metadata": {},
   "source": [
    "### Targets: Evidence type: sources + classification for GE, clinical_GE, probes (boolean)"
   ]
  },
  {
   "cell_type": "code",
   "execution_count": null,
   "metadata": {},
   "outputs": [
    {
     "name": "stderr",
     "output_type": "stream",
     "text": [
      "[Stage 271:>                                                        (0 + 1) / 1]\r"
     ]
    },
    {
     "name": "stdout",
     "output_type": "stream",
     "text": [
      "+----------+---------+---------------+--------------------+------------------+-------------------+\n",
      "|    drugId|uniprotId|       targetId|             sources|isHighQualityProbe|isTherapeuticTarget|\n",
      "+----------+---------+---------------+--------------------+------------------+-------------------+\n",
      "|CHEMBL1000|   O00167|ENSG00000064655|[ot_genetics_portal]|             false|              false|\n",
      "|CHEMBL1000|   O00555|ENSG00000141837|[uniprot_literatu...|             false|              false|\n",
      "|CHEMBL1000|   O14633|ENSG00000159455|[ot_genetics_portal]|             false|              false|\n",
      "|CHEMBL1000|   O60706|ENSG00000069431|            [chembl]|             false|               true|\n",
      "|CHEMBL1000|   P00352|ENSG00000165092|[ot_genetics_portal]|             false|              false|\n",
      "|CHEMBL1000|   P01567|ENSG00000214042|            [chembl]|             false|               true|\n",
      "|CHEMBL1000|   P04155|ENSG00000160182|[ot_genetics_portal]|             false|              false|\n",
      "|CHEMBL1000|   P20036|ENSG00000231389|[ot_genetics_portal]|             false|              false|\n",
      "|CHEMBL1000|   P35908|ENSG00000172867|              [impc]|             false|              false|\n",
      "|CHEMBL1000|   P49840|ENSG00000105723|            [chembl]|             false|               true|\n",
      "|CHEMBL1000|   P51617|ENSG00000184216|              [impc]|             false|              false|\n",
      "|CHEMBL1000|   P56270|ENSG00000103495|[ot_genetics_portal]|             false|              false|\n",
      "|CHEMBL1000|   P58511|ENSG00000205670|[ot_genetics_portal]|             false|              false|\n",
      "|CHEMBL1000|   Q03431|ENSG00000160801|            [chembl]|             false|               true|\n",
      "|CHEMBL1000|   Q06124|ENSG00000179295|[ot_genetics_portal]|             false|              false|\n",
      "|CHEMBL1000|   Q16552|ENSG00000112115|      [impc, chembl]|             false|               true|\n",
      "|CHEMBL1000|   Q7Z2W4|ENSG00000105939|[ot_genetics_portal]|             false|              false|\n",
      "|CHEMBL1000|   Q86SJ6|ENSG00000175065|              [impc]|             false|              false|\n",
      "|CHEMBL1000|   Q8N1K5|ENSG00000172673|[ot_genetics_portal]|             false|              false|\n",
      "|CHEMBL1000|   Q8N8W4|ENSG00000180316|              [impc]|             false|              false|\n",
      "+----------+---------+---------------+--------------------+------------------+-------------------+\n",
      "only showing top 20 rows\n",
      "\n"
     ]
    },
    {
     "name": "stderr",
     "output_type": "stream",
     "text": [
      "                                                                                \r"
     ]
    }
   ],
   "source": [
    "# Irene's table\n",
    "evidence_path = \"gs://ot-team/irene/drug_to_target\"\n",
    "evidence = spark.read.parquet(evidence_path)\n",
    "evidence.persist()\n",
    "evidence.show()"
   ]
  },
  {
   "cell_type": "code",
   "execution_count": null,
   "metadata": {},
   "outputs": [],
   "source": [
    "def join_dataframes_by_many_cols(initial_df: DataFrame, \n",
    "                    second_df: DataFrame, \n",
    "                    initial_key_columns: list, \n",
    "                    second_key_columns: list,\n",
    "                    columns_to_join: list) -> DataFrame:\n",
    "    \"\"\"\n",
    "    Joins two PySpark DataFrames on specified key columns.\n",
    "\n",
    "    Args:\n",
    "    initial_df (DataFrame): The initial PySpark DataFrame.\n",
    "    second_df (DataFrame): The second PySpark DataFrame to join with.\n",
    "    initial_key_columns (list): The key column names in the initial DataFrame.\n",
    "    second_key_columns (list): The key column names in the second DataFrame.\n",
    "    columns_to_join (list): List of column names from the second DataFrame to include in the join.\n",
    "\n",
    "    Returns:\n",
    "    DataFrame: The resulting DataFrame after the join.\n",
    "    \"\"\"\n",
    "\n",
    "    # Ensure the key columns lists have the same length\n",
    "    if len(initial_key_columns) != len(second_key_columns):\n",
    "        raise ValueError(\"Key columns lists must be of the same length\")\n",
    "\n",
    "    # Selecting specified columns from the second DataFrame, including its key columns\n",
    "    second_df_selected = second_df.select(second_key_columns + columns_to_join)\n",
    "\n",
    "    # Build join condition\n",
    "    join_condition = [initial_df[initial_col] == second_df_selected[second_col] \n",
    "                      for initial_col, second_col in zip(initial_key_columns, second_key_columns)]\n",
    "\n",
    "    # Perform the left join\n",
    "    joined_df = initial_df.join(second_df_selected, \n",
    "                                on=join_condition, \n",
    "                                how='left')\n",
    "\n",
    "    # Drop the second key columns if not needed\n",
    "    for col in second_key_columns:\n",
    "        joined_df = joined_df.drop(second_df_selected[col])\n",
    "\n",
    "    return joined_df\n"
   ]
  },
  {
   "cell_type": "code",
   "execution_count": null,
   "metadata": {},
   "outputs": [
    {
     "name": "stderr",
     "output_type": "stream",
     "text": [
      "23/12/17 02:48:43 WARN MemoryStore: Not enough space to cache broadcast_332 in memory! (computed 6.6 GiB so far)\n",
      "23/12/17 02:48:43 WARN BlockManager: Persisting block broadcast_332 to disk instead.\n",
      "23/12/17 02:49:30 WARN MemoryStore: Not enough space to cache broadcast_332 in memory! (computed 6.6 GiB so far)\n",
      "23/12/17 02:49:49 WARN BlockManagerMasterEndpoint: No more replicas available for rdd_514_172 !\n",
      "23/12/17 02:49:49 WARN BlockManagerMasterEndpoint: No more replicas available for rdd_514_124 !\n",
      "23/12/17 02:49:49 WARN BlockManagerMasterEndpoint: No more replicas available for rdd_514_90 !\n",
      "23/12/17 02:49:49 WARN BlockManagerMasterEndpoint: No more replicas available for rdd_514_87 !\n",
      "23/12/17 02:49:49 WARN BlockManagerMasterEndpoint: No more replicas available for rdd_514_117 !\n",
      "23/12/17 02:49:49 WARN BlockManagerMasterEndpoint: No more replicas available for rdd_514_105 !\n",
      "23/12/17 02:49:49 WARN BlockManagerMasterEndpoint: No more replicas available for rdd_514_177 !\n",
      "23/12/17 02:49:49 WARN BlockManagerMasterEndpoint: No more replicas available for rdd_514_55 !\n",
      "23/12/17 02:49:49 WARN BlockManagerMasterEndpoint: No more replicas available for rdd_514_92 !\n",
      "23/12/17 02:49:49 WARN BlockManagerMasterEndpoint: No more replicas available for rdd_514_178 !\n",
      "23/12/17 02:49:49 WARN BlockManagerMasterEndpoint: No more replicas available for rdd_514_29 !\n",
      "23/12/17 02:49:49 WARN BlockManagerMasterEndpoint: No more replicas available for rdd_514_54 !\n",
      "23/12/17 02:49:49 WARN BlockManagerMasterEndpoint: No more replicas available for rdd_514_7 !\n",
      "23/12/17 02:49:49 WARN BlockManagerMasterEndpoint: No more replicas available for rdd_514_17 !\n",
      "23/12/17 02:49:49 WARN BlockManagerMasterEndpoint: No more replicas available for rdd_705_4 !\n",
      "23/12/17 02:49:49 WARN BlockManagerMasterEndpoint: No more replicas available for rdd_514_99 !\n",
      "23/12/17 02:49:49 WARN BlockManagerMasterEndpoint: No more replicas available for rdd_514_41 !\n",
      "23/12/17 02:49:49 WARN BlockManagerMasterEndpoint: No more replicas available for rdd_514_130 !\n",
      "23/12/17 02:49:49 WARN BlockManagerMasterEndpoint: No more replicas available for rdd_514_49 !\n",
      "23/12/17 02:49:49 WARN BlockManagerMasterEndpoint: No more replicas available for rdd_738_79 !\n",
      "23/12/17 02:49:49 WARN BlockManagerMasterEndpoint: No more replicas available for rdd_514_69 !\n",
      "23/12/17 02:49:49 WARN BlockManagerMasterEndpoint: No more replicas available for rdd_514_113 !\n",
      "23/12/17 02:49:49 WARN BlockManagerMasterEndpoint: No more replicas available for rdd_514_84 !\n",
      "23/12/17 02:49:49 WARN BlockManagerMasterEndpoint: No more replicas available for rdd_514_51 !\n",
      "23/12/17 02:49:49 WARN BlockManagerMasterEndpoint: No more replicas available for rdd_514_164 !\n",
      "23/12/17 02:49:49 WARN BlockManagerMasterEndpoint: No more replicas available for rdd_514_187 !\n",
      "23/12/17 02:49:49 WARN BlockManagerMasterEndpoint: No more replicas available for rdd_514_169 !\n",
      "23/12/17 02:49:49 WARN BlockManagerMasterEndpoint: No more replicas available for rdd_514_96 !\n",
      "23/12/17 02:49:49 WARN BlockManagerMasterEndpoint: No more replicas available for rdd_514_195 !\n",
      "23/12/17 02:49:49 WARN BlockManagerMasterEndpoint: No more replicas available for rdd_514_50 !\n",
      "23/12/17 02:49:49 WARN BlockManagerMasterEndpoint: No more replicas available for rdd_514_4 !\n",
      "23/12/17 02:49:49 WARN BlockManagerMasterEndpoint: No more replicas available for rdd_514_123 !\n",
      "23/12/17 02:49:49 WARN BlockManagerMasterEndpoint: No more replicas available for rdd_514_120 !\n",
      "23/12/17 02:49:49 WARN BlockManagerMasterEndpoint: No more replicas available for rdd_514_133 !\n",
      "23/12/17 02:49:49 WARN BlockManagerMasterEndpoint: No more replicas available for rdd_514_141 !\n",
      "23/12/17 02:49:49 WARN BlockManagerMasterEndpoint: No more replicas available for rdd_514_104 !\n",
      "23/12/17 02:49:49 WARN BlockManagerMasterEndpoint: No more replicas available for rdd_514_42 !\n",
      "23/12/17 02:49:49 WARN BlockManagerMasterEndpoint: No more replicas available for rdd_514_110 !\n",
      "23/12/17 02:49:49 WARN BlockManagerMasterEndpoint: No more replicas available for rdd_514_16 !\n",
      "23/12/17 02:49:49 WARN BlockManagerMasterEndpoint: No more replicas available for rdd_514_157 !\n",
      "23/12/17 02:49:49 WARN BlockManagerMasterEndpoint: No more replicas available for rdd_514_103 !\n",
      "23/12/17 02:49:49 WARN BlockManagerMasterEndpoint: No more replicas available for rdd_514_156 !\n",
      "23/12/17 02:49:49 WARN BlockManagerMasterEndpoint: No more replicas available for rdd_514_114 !\n",
      "23/12/17 02:49:49 WARN BlockManagerMasterEndpoint: No more replicas available for rdd_514_180 !\n",
      "23/12/17 02:49:49 WARN BlockManagerMasterEndpoint: No more replicas available for rdd_514_60 !\n",
      "23/12/17 02:49:49 WARN BlockManagerMasterEndpoint: No more replicas available for rdd_514_68 !\n",
      "23/12/17 02:49:49 WARN BlockManagerMasterEndpoint: No more replicas available for rdd_514_122 !\n",
      "23/12/17 02:49:49 WARN BlockManagerMasterEndpoint: No more replicas available for rdd_514_182 !\n",
      "23/12/17 02:49:49 WARN BlockManagerMasterEndpoint: No more replicas available for rdd_514_9 !\n",
      "23/12/17 02:49:49 WARN BlockManagerMasterEndpoint: No more replicas available for rdd_514_112 !\n",
      "23/12/17 02:49:49 WARN BlockManagerMasterEndpoint: No more replicas available for rdd_514_64 !\n",
      "23/12/17 02:49:49 WARN BlockManagerMasterEndpoint: No more replicas available for rdd_514_48 !\n",
      "23/12/17 02:49:49 WARN BlockManagerMasterEndpoint: No more replicas available for rdd_514_61 !\n",
      "23/12/17 02:49:49 WARN BlockManagerMasterEndpoint: No more replicas available for rdd_514_152 !\n",
      "23/12/17 02:49:49 WARN BlockManagerMasterEndpoint: No more replicas available for rdd_514_31 !\n",
      "23/12/17 02:49:49 WARN BlockManagerMasterEndpoint: No more replicas available for rdd_514_74 !\n",
      "23/12/17 02:49:49 WARN BlockManagerMasterEndpoint: No more replicas available for rdd_514_82 !\n",
      "23/12/17 02:49:49 WARN BlockManagerMasterEndpoint: No more replicas available for rdd_514_185 !\n",
      "23/12/17 02:49:49 WARN BlockManagerMasterEndpoint: No more replicas available for rdd_514_115 !\n",
      "23/12/17 02:49:49 WARN BlockManagerMasterEndpoint: No more replicas available for rdd_514_181 !\n",
      "23/12/17 02:49:49 WARN BlockManagerMasterEndpoint: No more replicas available for rdd_514_39 !\n",
      "23/12/17 02:49:49 WARN BlockManagerMasterEndpoint: No more replicas available for rdd_514_8 !\n",
      "23/12/17 02:49:49 WARN BlockManagerMasterEndpoint: No more replicas available for rdd_514_93 !\n",
      "23/12/17 02:49:49 WARN BlockManagerMasterEndpoint: No more replicas available for rdd_514_119 !\n",
      "23/12/17 02:49:49 WARN BlockManagerMasterEndpoint: No more replicas available for rdd_514_3 !\n",
      "23/12/17 02:49:49 WARN BlockManagerMasterEndpoint: No more replicas available for rdd_514_183 !\n",
      "23/12/17 02:49:49 WARN BlockManagerMasterEndpoint: No more replicas available for rdd_705_2 !\n",
      "23/12/17 02:49:49 WARN BlockManagerMasterEndpoint: No more replicas available for rdd_514_118 !\n",
      "23/12/17 02:49:49 WARN BlockManagerMasterEndpoint: No more replicas available for rdd_514_13 !\n",
      "23/12/17 02:49:49 WARN BlockManagerMasterEndpoint: No more replicas available for rdd_514_53 !\n",
      "23/12/17 02:49:49 WARN BlockManagerMasterEndpoint: No more replicas available for rdd_514_174 !\n",
      "23/12/17 02:49:49 WARN BlockManagerMasterEndpoint: No more replicas available for rdd_514_193 !\n",
      "23/12/17 02:49:49 WARN BlockManagerMasterEndpoint: No more replicas available for rdd_514_86 !\n",
      "23/12/17 02:49:49 WARN BlockManagerMasterEndpoint: No more replicas available for rdd_514_167 !\n",
      "23/12/17 02:49:49 WARN BlockManagerMasterEndpoint: No more replicas available for rdd_514_40 !\n",
      "23/12/17 02:49:49 WARN BlockManagerMasterEndpoint: No more replicas available for rdd_514_111 !\n",
      "23/12/17 02:49:49 WARN BlockManagerMasterEndpoint: No more replicas available for rdd_514_47 !\n",
      "23/12/17 02:49:49 WARN BlockManagerMasterEndpoint: No more replicas available for rdd_738_83 !\n",
      "23/12/17 02:49:49 WARN BlockManagerMasterEndpoint: No more replicas available for rdd_514_52 !\n",
      "23/12/17 02:49:49 WARN BlockManagerMasterEndpoint: No more replicas available for rdd_514_97 !\n",
      "23/12/17 02:49:49 WARN BlockManagerMasterEndpoint: No more replicas available for rdd_514_0 !\n",
      "23/12/17 02:49:49 WARN BlockManagerMasterEndpoint: No more replicas available for rdd_514_79 !\n",
      "23/12/17 02:49:49 WARN BlockManagerMasterEndpoint: No more replicas available for rdd_514_158 !\n",
      "23/12/17 02:49:49 WARN BlockManagerMasterEndpoint: No more replicas available for rdd_514_129 !\n",
      "23/12/17 02:49:49 WARN BlockManagerMasterEndpoint: No more replicas available for rdd_514_32 !\n",
      "23/12/17 02:49:49 WARN BlockManagerMasterEndpoint: No more replicas available for rdd_514_59 !\n",
      "23/12/17 02:49:49 WARN BlockManagerMasterEndpoint: No more replicas available for rdd_514_80 !\n",
      "23/12/17 02:49:49 WARN BlockManagerMasterEndpoint: No more replicas available for rdd_514_150 !\n",
      "23/12/17 02:49:49 WARN BlockManagerMasterEndpoint: No more replicas available for rdd_514_125 !\n",
      "23/12/17 02:49:49 WARN BlockManagerMasterEndpoint: No more replicas available for rdd_514_155 !\n",
      "23/12/17 02:49:49 WARN BlockManagerMasterEndpoint: No more replicas available for rdd_514_179 !\n",
      "23/12/17 02:49:49 WARN BlockManagerMasterEndpoint: No more replicas available for rdd_514_176 !\n",
      "23/12/17 02:49:49 WARN BlockManagerMasterEndpoint: No more replicas available for rdd_514_20 !\n",
      "23/12/17 02:49:49 WARN BlockManagerMasterEndpoint: No more replicas available for rdd_514_26 !\n",
      "23/12/17 02:49:49 WARN BlockManagerMasterEndpoint: No more replicas available for rdd_514_192 !\n",
      "23/12/17 02:49:49 WARN BlockManagerMasterEndpoint: No more replicas available for rdd_514_1 !\n",
      "23/12/17 02:49:49 WARN BlockManagerMasterEndpoint: No more replicas available for rdd_514_107 !\n",
      "23/12/17 02:49:49 WARN BlockManagerMasterEndpoint: No more replicas available for rdd_514_184 !\n",
      "23/12/17 02:49:49 WARN BlockManagerMasterEndpoint: No more replicas available for rdd_514_161 !\n",
      "23/12/17 02:49:49 WARN BlockManagerMasterEndpoint: No more replicas available for rdd_514_65 !\n",
      "23/12/17 02:49:49 WARN BlockManagerMasterEndpoint: No more replicas available for rdd_738_81 !\n",
      "23/12/17 02:49:49 WARN BlockManagerMasterEndpoint: No more replicas available for rdd_514_128 !\n",
      "23/12/17 02:49:49 WARN BlockManagerMasterEndpoint: No more replicas available for rdd_514_70 !\n",
      "23/12/17 02:49:49 WARN BlockManagerMasterEndpoint: No more replicas available for rdd_514_91 !\n",
      "23/12/17 02:49:49 WARN BlockManagerMasterEndpoint: No more replicas available for rdd_514_136 !\n",
      "23/12/17 02:49:49 WARN BlockManagerMasterEndpoint: No more replicas available for rdd_514_188 !\n",
      "23/12/17 02:49:49 WARN BlockManagerMasterEndpoint: No more replicas available for rdd_514_63 !\n",
      "23/12/17 02:49:49 WARN BlockManagerMasterEndpoint: No more replicas available for rdd_514_170 !\n",
      "23/12/17 02:49:49 WARN BlockManagerMasterEndpoint: No more replicas available for rdd_514_58 !\n",
      "23/12/17 02:49:49 WARN BlockManagerMasterEndpoint: No more replicas available for rdd_514_71 !\n",
      "23/12/17 02:49:49 WARN BlockManagerMasterEndpoint: No more replicas available for rdd_514_24 !\n",
      "23/12/17 02:49:49 WARN BlockManagerMasterEndpoint: No more replicas available for rdd_738_82 !\n",
      "23/12/17 02:49:49 WARN BlockManagerMasterEndpoint: No more replicas available for rdd_514_138 !\n",
      "23/12/17 02:49:49 WARN BlockManagerMasterEndpoint: No more replicas available for rdd_514_14 !\n",
      "23/12/17 02:49:49 WARN BlockManagerMasterEndpoint: No more replicas available for rdd_514_132 !\n",
      "23/12/17 02:49:49 WARN BlockManagerMasterEndpoint: No more replicas available for rdd_514_143 !\n",
      "23/12/17 02:49:49 WARN BlockManagerMasterEndpoint: No more replicas available for rdd_514_25 !\n",
      "23/12/17 02:49:49 WARN BlockManagerMasterEndpoint: No more replicas available for rdd_514_45 !\n",
      "23/12/17 02:49:49 WARN BlockManagerMasterEndpoint: No more replicas available for rdd_514_19 !\n",
      "23/12/17 02:49:49 WARN BlockManagerMasterEndpoint: No more replicas available for rdd_514_127 !\n",
      "23/12/17 02:49:49 WARN BlockManagerMasterEndpoint: No more replicas available for rdd_514_67 !\n",
      "23/12/17 02:49:49 WARN BlockManagerMasterEndpoint: No more replicas available for rdd_514_137 !\n",
      "23/12/17 02:49:49 WARN BlockManagerMasterEndpoint: No more replicas available for rdd_514_142 !\n",
      "23/12/17 02:49:49 WARN BlockManagerMasterEndpoint: No more replicas available for rdd_514_131 !\n",
      "23/12/17 02:49:49 WARN BlockManagerMasterEndpoint: No more replicas available for rdd_514_153 !\n",
      "23/12/17 02:49:49 WARN BlockManagerMasterEndpoint: No more replicas available for rdd_514_191 !\n",
      "23/12/17 02:49:49 WARN BlockManagerMasterEndpoint: No more replicas available for rdd_514_121 !\n",
      "23/12/17 02:49:49 WARN BlockManagerMasterEndpoint: No more replicas available for rdd_514_21 !\n",
      "23/12/17 02:49:49 WARN BlockManagerMasterEndpoint: No more replicas available for rdd_514_140 !\n",
      "23/12/17 02:49:49 WARN BlockManagerMasterEndpoint: No more replicas available for rdd_514_5 !\n",
      "23/12/17 02:49:49 WARN BlockManagerMasterEndpoint: No more replicas available for rdd_514_30 !\n",
      "23/12/17 02:49:49 WARN BlockManagerMasterEndpoint: No more replicas available for rdd_514_175 !\n",
      "23/12/17 02:49:49 WARN BlockManagerMasterEndpoint: No more replicas available for rdd_514_23 !\n",
      "23/12/17 02:49:49 WARN BlockManagerMasterEndpoint: No more replicas available for rdd_705_10 !\n",
      "23/12/17 02:49:49 WARN BlockManagerMasterEndpoint: No more replicas available for rdd_514_162 !\n",
      "23/12/17 02:49:49 WARN BlockManagerMasterEndpoint: No more replicas available for rdd_514_163 !\n",
      "23/12/17 02:49:49 WARN BlockManagerMasterEndpoint: No more replicas available for rdd_514_89 !\n",
      "23/12/17 02:49:49 WARN BlockManagerMasterEndpoint: No more replicas available for rdd_514_73 !\n",
      "23/12/17 02:49:49 WARN BlockManagerMasterEndpoint: No more replicas available for rdd_514_100 !\n",
      "23/12/17 02:49:49 WARN BlockManagerMasterEndpoint: No more replicas available for rdd_738_85 !\n",
      "23/12/17 02:49:49 WARN BlockManagerMasterEndpoint: No more replicas available for rdd_514_134 !\n",
      "23/12/17 02:49:49 WARN BlockManagerMasterEndpoint: No more replicas available for rdd_514_75 !\n",
      "23/12/17 02:49:49 WARN BlockManagerMasterEndpoint: No more replicas available for rdd_514_10 !\n",
      "23/12/17 02:49:49 WARN BlockManagerMasterEndpoint: No more replicas available for rdd_514_190 !\n",
      "23/12/17 02:49:49 WARN BlockManagerMasterEndpoint: No more replicas available for rdd_514_166 !\n",
      "23/12/17 02:49:49 WARN BlockManagerMasterEndpoint: No more replicas available for rdd_514_28 !\n",
      "23/12/17 02:49:49 WARN BlockManagerMasterEndpoint: No more replicas available for rdd_514_199 !\n",
      "23/12/17 02:49:49 WARN BlockManagerMasterEndpoint: No more replicas available for rdd_514_145 !\n",
      "23/12/17 02:49:49 WARN BlockManagerMasterEndpoint: No more replicas available for rdd_514_85 !\n",
      "23/12/17 02:49:49 WARN BlockManagerMasterEndpoint: No more replicas available for rdd_514_171 !\n",
      "23/12/17 02:49:49 WARN BlockManagerMasterEndpoint: No more replicas available for rdd_514_108 !\n",
      "23/12/17 02:49:49 WARN BlockManagerMasterEndpoint: No more replicas available for rdd_514_22 !\n",
      "23/12/17 02:49:49 WARN BlockManagerMasterEndpoint: No more replicas available for rdd_514_46 !\n",
      "23/12/17 02:49:49 WARN BlockManagerMasterEndpoint: No more replicas available for rdd_514_146 !\n",
      "23/12/17 02:49:49 WARN BlockManagerMasterEndpoint: No more replicas available for rdd_514_15 !\n",
      "23/12/17 02:49:49 WARN BlockManagerMasterEndpoint: No more replicas available for rdd_738_80 !\n",
      "23/12/17 02:49:49 WARN BlockManagerMasterEndpoint: No more replicas available for rdd_514_173 !\n",
      "23/12/17 02:49:49 WARN BlockManagerMasterEndpoint: No more replicas available for rdd_514_37 !\n",
      "23/12/17 02:49:49 WARN BlockManagerMasterEndpoint: No more replicas available for rdd_514_6 !\n",
      "23/12/17 02:49:49 WARN BlockManagerMasterEndpoint: No more replicas available for rdd_514_78 !\n",
      "23/12/17 02:49:49 WARN BlockManagerMasterEndpoint: No more replicas available for rdd_514_83 !\n",
      "23/12/17 02:49:49 WARN BlockManagerMasterEndpoint: No more replicas available for rdd_514_102 !\n",
      "23/12/17 02:49:49 WARN BlockManagerMasterEndpoint: No more replicas available for rdd_514_148 !\n",
      "23/12/17 02:49:49 WARN BlockManagerMasterEndpoint: No more replicas available for rdd_705_12 !\n",
      "23/12/17 02:49:49 WARN BlockManagerMasterEndpoint: No more replicas available for rdd_514_72 !\n",
      "23/12/17 02:49:49 WARN BlockManagerMasterEndpoint: No more replicas available for rdd_514_98 !\n",
      "23/12/17 02:49:49 WARN BlockManagerMasterEndpoint: No more replicas available for rdd_514_159 !\n",
      "23/12/17 02:49:49 WARN BlockManagerMasterEndpoint: No more replicas available for rdd_738_78 !\n",
      "23/12/17 02:49:49 WARN BlockManagerMasterEndpoint: No more replicas available for rdd_514_198 !\n",
      "23/12/17 02:49:49 WARN BlockManagerMasterEndpoint: No more replicas available for rdd_514_38 !\n",
      "23/12/17 02:49:49 WARN BlockManagerMasterEndpoint: No more replicas available for rdd_514_139 !\n",
      "23/12/17 02:49:49 WARN BlockManagerMasterEndpoint: No more replicas available for rdd_514_194 !\n",
      "23/12/17 02:49:49 WARN BlockManagerMasterEndpoint: No more replicas available for rdd_514_135 !\n",
      "23/12/17 02:49:49 WARN BlockManagerMasterEndpoint: No more replicas available for rdd_705_14 !\n",
      "23/12/17 02:49:49 WARN BlockManagerMasterEndpoint: No more replicas available for rdd_514_44 !\n",
      "23/12/17 02:49:49 WARN BlockManagerMasterEndpoint: No more replicas available for rdd_738_84 !\n",
      "23/12/17 02:49:49 WARN BlockManagerMasterEndpoint: No more replicas available for rdd_514_88 !\n",
      "23/12/17 02:49:49 WARN BlockManagerMasterEndpoint: No more replicas available for rdd_514_62 !\n",
      "23/12/17 02:49:49 WARN BlockManagerMasterEndpoint: No more replicas available for rdd_514_197 !\n",
      "23/12/17 02:49:49 WARN BlockManagerMasterEndpoint: No more replicas available for rdd_514_144 !\n",
      "23/12/17 02:49:49 WARN BlockManagerMasterEndpoint: No more replicas available for rdd_514_160 !\n",
      "23/12/17 02:49:49 WARN BlockManagerMasterEndpoint: No more replicas available for rdd_514_116 !\n",
      "23/12/17 02:49:49 WARN BlockManagerMasterEndpoint: No more replicas available for rdd_514_56 !\n",
      "23/12/17 02:49:49 WARN BlockManagerMasterEndpoint: No more replicas available for rdd_514_147 !\n",
      "23/12/17 02:49:49 WARN BlockManagerMasterEndpoint: No more replicas available for rdd_514_196 !\n",
      "23/12/17 02:49:49 WARN BlockManagerMasterEndpoint: No more replicas available for rdd_514_76 !\n",
      "23/12/17 02:49:49 WARN BlockManagerMasterEndpoint: No more replicas available for rdd_514_66 !\n",
      "23/12/17 02:49:49 WARN BlockManagerMasterEndpoint: No more replicas available for rdd_514_81 !\n",
      "23/12/17 02:49:49 WARN BlockManagerMasterEndpoint: No more replicas available for rdd_705_6 !\n",
      "23/12/17 02:49:49 WARN BlockManagerMasterEndpoint: No more replicas available for rdd_514_165 !\n",
      "23/12/17 02:49:49 WARN BlockManagerMasterEndpoint: No more replicas available for rdd_514_12 !\n",
      "23/12/17 02:49:49 WARN BlockManagerMasterEndpoint: No more replicas available for rdd_514_34 !\n",
      "23/12/17 02:49:49 WARN BlockManagerMasterEndpoint: No more replicas available for rdd_514_77 !\n",
      "23/12/17 02:49:49 WARN BlockManagerMasterEndpoint: No more replicas available for rdd_514_151 !\n",
      "23/12/17 02:49:49 WARN BlockManagerMasterEndpoint: No more replicas available for rdd_705_0 !\n",
      "23/12/17 02:49:49 WARN BlockManagerMasterEndpoint: No more replicas available for rdd_514_106 !\n",
      "23/12/17 02:49:49 WARN BlockManagerMasterEndpoint: No more replicas available for rdd_514_18 !\n",
      "23/12/17 02:49:49 WARN BlockManagerMasterEndpoint: No more replicas available for rdd_514_189 !\n",
      "23/12/17 02:49:49 WARN BlockManagerMasterEndpoint: No more replicas available for rdd_514_27 !\n",
      "23/12/17 02:49:49 WARN BlockManagerMasterEndpoint: No more replicas available for rdd_514_11 !\n",
      "23/12/17 02:49:49 WARN BlockManagerMasterEndpoint: No more replicas available for rdd_514_36 !\n",
      "23/12/17 02:49:49 WARN BlockManagerMasterEndpoint: No more replicas available for rdd_514_94 !\n",
      "23/12/17 02:49:49 WARN BlockManagerMasterEndpoint: No more replicas available for rdd_514_101 !\n",
      "23/12/17 02:49:49 WARN BlockManagerMasterEndpoint: No more replicas available for rdd_514_35 !\n",
      "23/12/17 02:49:49 WARN BlockManagerMasterEndpoint: No more replicas available for rdd_514_109 !\n",
      "23/12/17 02:49:49 WARN BlockManagerMasterEndpoint: No more replicas available for rdd_514_154 !\n",
      "23/12/17 02:49:49 WARN BlockManagerMasterEndpoint: No more replicas available for rdd_514_168 !\n",
      "23/12/17 02:49:49 WARN BlockManagerMasterEndpoint: No more replicas available for rdd_514_95 !\n",
      "23/12/17 02:49:49 WARN BlockManagerMasterEndpoint: No more replicas available for rdd_514_57 !\n",
      "23/12/17 02:49:49 WARN BlockManagerMasterEndpoint: No more replicas available for rdd_514_186 !\n",
      "23/12/17 02:49:49 WARN BlockManagerMasterEndpoint: No more replicas available for rdd_514_2 !\n",
      "23/12/17 02:49:49 WARN BlockManagerMasterEndpoint: No more replicas available for rdd_514_33 !\n",
      "23/12/17 02:49:49 WARN BlockManagerMasterEndpoint: No more replicas available for rdd_705_8 !\n",
      "23/12/17 02:49:49 WARN BlockManagerMasterEndpoint: No more replicas available for rdd_514_43 !\n",
      "23/12/17 02:49:49 WARN BlockManagerMasterEndpoint: No more replicas available for rdd_514_149 !\n",
      "23/12/17 02:49:49 WARN BlockManagerMasterEndpoint: No more replicas available for rdd_514_126 !\n",
      "23/12/17 02:49:50 WARN YarnAllocator: Container from a bad node: container_1702769170463_0001_01_000012 on host: pr-chembl-m.c.open-targets-eu-dev.internal. Exit status: 137. Diagnostics: [2023-12-17 02:49:50.713]Container killed on request. Exit code is 137\n",
      "[2023-12-17 02:49:50.714]Container exited with a non-zero exit code 137. \n",
      "[2023-12-17 02:49:50.714]Killed by external signal\n",
      ".\n",
      "23/12/17 02:49:50 WARN YarnSchedulerBackend$YarnSchedulerEndpoint: Requesting driver to remove executor 12 for reason Container from a bad node: container_1702769170463_0001_01_000012 on host: pr-chembl-m.c.open-targets-eu-dev.internal. Exit status: 137. Diagnostics: [2023-12-17 02:49:50.713]Container killed on request. Exit code is 137\n",
      "[2023-12-17 02:49:50.714]Container exited with a non-zero exit code 137. \n",
      "[2023-12-17 02:49:50.714]Killed by external signal\n",
      ".\n",
      "23/12/17 02:49:50 ERROR YarnScheduler: Lost executor 12 on pr-chembl-m.c.open-targets-eu-dev.internal: Container from a bad node: container_1702769170463_0001_01_000012 on host: pr-chembl-m.c.open-targets-eu-dev.internal. Exit status: 137. Diagnostics: [2023-12-17 02:49:50.713]Container killed on request. Exit code is 137\n",
      "[2023-12-17 02:49:50.714]Container exited with a non-zero exit code 137. \n",
      "[2023-12-17 02:49:50.714]Killed by external signal\n",
      ".\n",
      "23/12/17 02:49:50 WARN TaskSetManager: Lost task 0.0 in stage 323.0 (TID 5757) (pr-chembl-m.c.open-targets-eu-dev.internal executor 12): ExecutorLostFailure (executor 12 exited caused by one of the running tasks) Reason: Container from a bad node: container_1702769170463_0001_01_000012 on host: pr-chembl-m.c.open-targets-eu-dev.internal. Exit status: 137. Diagnostics: [2023-12-17 02:49:50.713]Container killed on request. Exit code is 137\n",
      "[2023-12-17 02:49:50.714]Container exited with a non-zero exit code 137. \n",
      "[2023-12-17 02:49:50.714]Killed by external signal\n",
      ".\n",
      "[Stage 323:>                                                        (0 + 1) / 1]\r"
     ]
    },
    {
     "name": "stdout",
     "output_type": "stream",
     "text": [
      "+----------------+-------------+-------------------------+--------------------+-----------------+--------------------+--------------+-------------------------+----------+--------------------+--------------------+---------------+----------+-----------+---------------+--------------------+---------------------+-------------------------+----------------+----------------------+--------------+--------------------+---------------+---------+------------+------------+------------+---------------+-------+---------------+--------------------+------------------+-------------------+\n",
      "|target_chembl_id|       drugId|target_chembl_id_moa_aggr|  pchembl_value_aggr|max_pchembl_value|median_pchembl_value|      drugType|maximumClinicalTrialPhase|isApproved|       linkedTargets|      linkedDiseases|assay_chembl_id|assay_type|action_type|target_organism|    target_pref_name|data_validity_comment|data_validity_description|confidence_score|confidence_description|assay_category|   target_components|    target_type|accession|proteinClass|isActive_max|isActive_med|action_type_moa|isInMoA|       targetId|             sources|isHighQualityProbe|isTherapeuticTarget|\n",
      "+----------------+-------------+-------------------------+--------------------+-----------------+--------------------+--------------+-------------------------+----------+--------------------+--------------------+---------------+----------+-----------+---------------+--------------------+---------------------+-------------------------+----------------+----------------------+--------------+--------------------+---------------+---------+------------+------------+------------+---------------+-------+---------------+--------------------+------------------+-------------------+\n",
      "|      CHEMBL1937|CHEMBL2105763|            CHEMBL2093865|               10.22|            10.22|               10.22|Small molecule|                      2.0|     false|{11, [ENSG0000011...|{3, [EFO_0002913,...|  CHEMBL3598913|         B|       null|   Homo sapiens|Histone deacetyla...|                 null|                     null|               9|  Direct single pro...|          null|[{Q92769, Histone...| SINGLE PROTEIN|   Q92769|  Epigenetic|        TRUE|        TRUE|      INHIBITOR|  false|ENSG00000196591|            [chembl]|             false|               true|\n",
      "|      CHEMBL3397|CHEMBL2407899|                         |                6.05|             6.05|                6.05|Small molecule|                     null|      null|                null|                null|  CHEMBL2410117|         A|       null|   Homo sapiens| Cytochrome P450 2C9|                 null|                     null|               9|  Direct single pro...|          null|[{P11712, Cytochr...| SINGLE PROTEIN|   P11712|        None|        TRUE|        TRUE|           null|   null|           null|                null|              null|               null|\n",
      "|      CHEMBL6029| CHEMBL253969|                CHEMBL279|                5.45|             5.45|                5.45|Small molecule|                      2.0|     false|{1, [ENSG00000128...|{6, [MONDO_002111...|  CHEMBL3991697|         B|       null|   Homo sapiens|Eukaryotic transl...|                 null|                     null|               9|  Direct single pro...|          null|[{Q9BQI3, Eukaryo...| SINGLE PROTEIN|   Q9BQI3|      Kinase|       FALSE|       FALSE|      INHIBITOR|  false|           null|                null|              null|               null|\n",
      "|       CHEMBL279|CHEMBL2364611|               CHEMBL4439|                6.36|             6.36|                6.36|Small molecule|                      2.0|     false|{1, [ENSG00000106...|{12, [EFO_0009708...|  CHEMBL3270796|         B|       null|   Homo sapiens|Vascular endothel...|                 null|                     null|               9|  Direct single pro...|          null|[{P35968, Vascula...| SINGLE PROTEIN|   P35968|      Kinase|       FALSE|       FALSE|      INHIBITOR|  false|ENSG00000128052|[uniprot_literatu...|             false|               true|\n",
      "|      CHEMBL2971|CHEMBL3545215|               CHEMBL2971|          7.10, 9.32|             9.32|                 7.1|Small molecule|                      2.0|     false|{1, [ENSG00000096...|{1, [MONDO_0004992]}|  CHEMBL3624169|         B|       null|   Homo sapiens|Tyrosine-protein ...|                 null|                     null|               9|  Direct single pro...|          null|[{O60674, Tyrosin...| SINGLE PROTEIN|   O60674|      Kinase|        TRUE|       FALSE|      INHIBITOR|   true|ENSG00000096968|[uniprot_literatu...|              true|               true|\n",
      "|      CHEMBL2971|CHEMBL1287853|     CHEMBL2971, CHEMB...|          8.52, 8.52|             8.52|                8.52|Small molecule|                      4.0|      true|{2, [ENSG00000096...|{10, [EFO_0004251...|  CHEMBL3877189|         B|       null|   Homo sapiens|Tyrosine-protein ...|                 null|                     null|               9|  Direct single pro...|          null|[{O60674, Tyrosin...| SINGLE PROTEIN|   O60674|      Kinase|        TRUE|        TRUE|      INHIBITOR|   true|ENSG00000096968|[uniprot_literatu...|             false|               true|\n",
      "|       CHEMBL261| CHEMBL220491|                CHEMBL205|4.35, 4.35, 4.35,...|             4.35|                4.35|Small molecule|                      4.0|      true|{1, [ENSG00000104...|{4, [EFO_0009784,...|  CHEMBL2380061|         B|       null|   Homo sapiens|Carbonic anhydrase I|                 null|                     null|               9|  Direct single pro...|          null|[{P00915, Carboni...| SINGLE PROTEIN|   P00915|      Enzyme|       FALSE|       FALSE|      INHIBITOR|  false|ENSG00000133742|            [chembl]|             false|               true|\n",
      "|      CHEMBL2004|    CHEMBL705|            CHEMBL2363071|                7.85|             7.85|                7.85|Small molecule|                      4.0|      true|{6, [ENSG00000204...|{7, [EFO_1000706,...|   CHEMBL798204|         B|       null|   Homo sapiens|Retinoid X recept...|                 null|                     null|               9|  Direct single pro...|          null|[{P48443, Retinoi...| SINGLE PROTEIN|   P48443|          NR|        TRUE|        TRUE|        AGONIST|  false|ENSG00000143171|            [chembl]|             false|               true|\n",
      "|      CHEMBL3788|CHEMBL3353357|                         |                8.51|             8.51|                8.51|Small molecule|                     null|      null|                null|                null|  CHEMBL3411381|         B|       null|   Homo sapiens|Serine/threonine-...|                 null|                     null|               9|  Direct single pro...|          null|[{O00444, Serine/...| SINGLE PROTEIN|   O00444|      Kinase|        TRUE|        TRUE|           null|   null|ENSG00000142731|    [chemicalProbes]|             false|              false|\n",
      "|   CHEMBL1293226|     CHEMBL31|     CHEMBL2363033, CH...|                4.60|             4.60|                 4.6|Small molecule|                      4.0|      true|             {0, []}|{7, [EFO_1000829,...|  CHEMBL1613914|         F|       null|   Homo sapiens|Lysine-specific d...|                 null|                     null|               9|  Direct single pro...|  confirmatory|[{B2RXH2, Lysine-...| SINGLE PROTEIN|   B2RXH2|  Epigenetic|       FALSE|       FALSE|      INHIBITOR|  false|           null|                null|              null|               null|\n",
      "|      CHEMBL3778|CHEMBL4081711|               CHEMBL3778|                8.70|             8.70|                 8.7|Small molecule|                      2.0|     false|{1, [ENSG00000198...|{3, [EFO_1000710,...|  CHEMBL4015988|         B|       null|   Homo sapiens|Interleukin-1 rec...|                 null|                     null|               9|  Direct single pro...|          null|[{Q9NWZ3, Interle...| SINGLE PROTEIN|   Q9NWZ3|      Kinase|        TRUE|        TRUE|      INHIBITOR|   true|ENSG00000198001|[chemicalProbes, ...|              true|               true|\n",
      "|      CHEMBL2034|CHEMBL1911272|                         |                6.85|             6.85|                6.85|Small molecule|                     null|      null|                null|                null|  CHEMBL1914169|         B|       null|   Homo sapiens|Glucocorticoid re...|                 null|                     null|               9|  Direct single pro...|          null|[{P04150, Glucoco...| SINGLE PROTEIN|   P04150|          NR|        TRUE|        TRUE|           null|   null|ENSG00000113580|    [chemicalProbes]|             false|              false|\n",
      "|       CHEMBL242|CHEMBL3264932|                         |                4.82|             4.82|                4.82|Small molecule|                     null|      null|                null|                null|  CHEMBL3269977|         B|       null|   Homo sapiens|Estrogen receptor...|                 null|                     null|               9|  Direct single pro...|          null|[{Q92731, Estroge...| SINGLE PROTEIN|   Q92731|          NR|       FALSE|       FALSE|           null|   null|           null|                null|              null|               null|\n",
      "|   CHEMBL1293256|    CHEMBL415|                CHEMBL228|          4.90, 4.90|             4.90|                 4.9|Small molecule|                      4.0|      true|{1, [ENSG00000108...|{7, [MONDO_000205...|  CHEMBL1614086|         F|       null|   Homo sapiens|      Thrombopoietin|                 null|                     null|               9|  Direct single pro...|  confirmatory|[{P40225, Thrombo...| SINGLE PROTEIN|   P40225|        None|       FALSE|       FALSE|      INHIBITOR|  false|           null|                null|              null|               null|\n",
      "|      CHEMBL2736|CHEMBL3628113|                         |                5.95|             5.95|                5.95|Small molecule|                     null|      null|                null|                null|  CHEMBL3631171|         F|       null|   Homo sapiens|Metabotropic glut...|                 null|                     null|               9|  Direct single pro...|          null|[{Q14833, Metabot...| SINGLE PROTEIN|   Q14833|        GPCR|       FALSE|       FALSE|           null|   null|           null|                null|              null|               null|\n",
      "|   CHEMBL1907589|    CHEMBL667|                CHEMBL245|                6.00|             6.00|                 6.0|Small molecule|                      4.0|      true|{1, [ENSG00000133...|{11, [EFO_0004272...|  CHEMBL3607134|         B|       null|   Homo sapiens|Neuronal acetylch...|                 null|                     null|               7|  Direct protein co...|          null|[{P17787, Neurona...|PROTEIN COMPLEX|   P17787|          IC|        TRUE|        TRUE|        AGONIST|  false|ENSG00000160716|            [chembl]|             false|               true|\n",
      "|   CHEMBL1293224|   CHEMBL1437|            CHEMBL2331074|                5.20|             5.20|                 5.2|Small molecule|                      4.0|      true|{9, [ENSG00000120...|{23, [EFO_0005207...|  CHEMBL1613899|         F|       null|   Homo sapiens|Microtubule-assoc...|                 null|                     null|               9|  Direct single pro...|  confirmatory|[{P10636, Microtu...| SINGLE PROTEIN|   P10636|        None|        TRUE|        TRUE|        AGONIST|  false|ENSG00000186868|[impc, eva, ot_ge...|             false|              false|\n",
      "|      CHEMBL3510| CHEMBL286738|               CHEMBL3559|                6.12|             6.12|                6.12|Small molecule|                      2.0|     false|{1, [ENSG00000101...|{4, [MONDO_000725...|   CHEMBL976333|         B|       null|   Homo sapiens|Carbonic anhydras...|                 null|                     null|               9|  Direct single pro...|          null|[{Q9ULX7, Carboni...| SINGLE PROTEIN|   Q9ULX7|      Enzyme|        TRUE|        TRUE|      INHIBITOR|  false|           null|                null|              null|               null|\n",
      "|       CHEMBL340|  CHEMBL21731|                CHEMBL222|                5.60|             5.60|                 5.6|Small molecule|                      4.0|      true|{1, [ENSG00000103...|{7, [EFO_0005230,...|  CHEMBL1614108|         A|       null|   Homo sapiens| Cytochrome P450 3A4|                 null|                     null|               9|  Direct single pro...|  confirmatory|[{P08684, Cytochr...| SINGLE PROTEIN|   P08684|      Enzyme|        TRUE|        TRUE|      INHIBITOR|  false|ENSG00000160868|            [chembl]|             false|               true|\n",
      "|       CHEMBL340|    CHEMBL565|                CHEMBL239|                5.00|             5.00|                 5.0|Small molecule|                      4.0|      true|{1, [ENSG00000186...|{3, [EFO_1001375,...|  CHEMBL1613886|         A|       null|   Homo sapiens| Cytochrome P450 3A4|                 null|                     null|               9|  Direct single pro...|  confirmatory|[{P08684, Cytochr...| SINGLE PROTEIN|   P08684|      Enzyme|       FALSE|       FALSE|        AGONIST|  false|ENSG00000160868|            [chembl]|             false|               true|\n",
      "+----------------+-------------+-------------------------+--------------------+-----------------+--------------------+--------------+-------------------------+----------+--------------------+--------------------+---------------+----------+-----------+---------------+--------------------+---------------------+-------------------------+----------------+----------------------+--------------+--------------------+---------------+---------+------------+------------+------------+---------------+-------+---------------+--------------------+------------------+-------------------+\n",
      "only showing top 20 rows\n",
      "\n"
     ]
    },
    {
     "name": "stderr",
     "output_type": "stream",
     "text": [
      "                                                                                \r"
     ]
    }
   ],
   "source": [
    "# Join by drugId and uniprotId = accession\n",
    "evidence_list = [\"targetId\", \"sources\", \"isHighQualityProbe\", \"isTherapeuticTarget\"]\n",
    "\n",
    "target_evidence = join_dataframes_by_many_cols(drug_to_moa_isInMoA, \n",
    "                                            evidence, \n",
    "                                            [\"drugId\", \"accession\"], \n",
    "                                            [\"drugId\", \"uniprotId\"], \n",
    "                                             evidence_list).persist()\n",
    "target_evidence.show()"
   ]
  },
  {
   "cell_type": "code",
   "execution_count": null,
   "metadata": {},
   "outputs": [
    {
     "name": "stderr",
     "output_type": "stream",
     "text": [
      "                                                                                \r"
     ]
    },
    {
     "data": {
      "text/plain": [
       "4656"
      ]
     },
     "execution_count": 84,
     "metadata": {},
     "output_type": "execute_result"
    }
   ],
   "source": [
    "target_evidence.count()"
   ]
  },
  {
   "cell_type": "code",
   "execution_count": null,
   "metadata": {},
   "outputs": [
    {
     "name": "stderr",
     "output_type": "stream",
     "text": [
      "                                                                                \r"
     ]
    },
    {
     "name": "stdout",
     "output_type": "stream",
     "text": [
      "+----------------+-------------+-------------------------+--------------------+-----------------+--------------------+--------------+-------------------------+----------+--------------------+--------------------+---------------+----------+-----------+---------------+--------------------+---------------------+-------------------------+----------------+----------------------+--------------+--------------------+---------------+---------+------------+------------+------------+---------------+-------+---------------+--------------------+------------------+-------------------+-----+-------------+-------+\n",
      "|target_chembl_id|       drugId|target_chembl_id_moa_aggr|  pchembl_value_aggr|max_pchembl_value|median_pchembl_value|      drugType|maximumClinicalTrialPhase|isApproved|       linkedTargets|      linkedDiseases|assay_chembl_id|assay_type|action_type|target_organism|    target_pref_name|data_validity_comment|data_validity_description|confidence_score|confidence_description|assay_category|   target_components|    target_type|accession|proteinClass|isActive_max|isActive_med|action_type_moa|isInMoA|       targetId|             sources|isHighQualityProbe|isTherapeuticTarget| isGE|isGE_clinical|isProbe|\n",
      "+----------------+-------------+-------------------------+--------------------+-----------------+--------------------+--------------+-------------------------+----------+--------------------+--------------------+---------------+----------+-----------+---------------+--------------------+---------------------+-------------------------+----------------+----------------------+--------------+--------------------+---------------+---------+------------+------------+------------+---------------+-------+---------------+--------------------+------------------+-------------------+-----+-------------+-------+\n",
      "|      CHEMBL1937|CHEMBL2105763|            CHEMBL2093865|               10.22|            10.22|               10.22|Small molecule|                      2.0|     false|{11, [ENSG0000011...|{3, [EFO_0002913,...|  CHEMBL3598913|         B|       null|   Homo sapiens|Histone deacetyla...|                 null|                     null|               9|  Direct single pro...|          null|[{Q92769, Histone...| SINGLE PROTEIN|   Q92769|  Epigenetic|        TRUE|        TRUE|      INHIBITOR|  false|ENSG00000196591|            [chembl]|             false|               true|false|         true|  false|\n",
      "|      CHEMBL3397|CHEMBL2407899|                         |                6.05|             6.05|                6.05|Small molecule|                     null|      null|                null|                null|  CHEMBL2410117|         A|       null|   Homo sapiens| Cytochrome P450 2C9|                 null|                     null|               9|  Direct single pro...|          null|[{P11712, Cytochr...| SINGLE PROTEIN|   P11712|        None|        TRUE|        TRUE|           null|   null|           null|                null|              null|               null|false|        false|  false|\n",
      "|      CHEMBL6029| CHEMBL253969|                CHEMBL279|                5.45|             5.45|                5.45|Small molecule|                      2.0|     false|{1, [ENSG00000128...|{6, [MONDO_002111...|  CHEMBL3991697|         B|       null|   Homo sapiens|Eukaryotic transl...|                 null|                     null|               9|  Direct single pro...|          null|[{Q9BQI3, Eukaryo...| SINGLE PROTEIN|   Q9BQI3|      Kinase|       FALSE|       FALSE|      INHIBITOR|  false|           null|                null|              null|               null|false|        false|  false|\n",
      "|       CHEMBL279|CHEMBL2364611|               CHEMBL4439|                6.36|             6.36|                6.36|Small molecule|                      2.0|     false|{1, [ENSG00000106...|{12, [EFO_0009708...|  CHEMBL3270796|         B|       null|   Homo sapiens|Vascular endothel...|                 null|                     null|               9|  Direct single pro...|          null|[{P35968, Vascula...| SINGLE PROTEIN|   P35968|      Kinase|       FALSE|       FALSE|      INHIBITOR|  false|ENSG00000128052|[uniprot_literatu...|             false|               true| true|         true|  false|\n",
      "|      CHEMBL2971|CHEMBL3545215|               CHEMBL2971|          7.10, 9.32|             9.32|                 7.1|Small molecule|                      2.0|     false|{1, [ENSG00000096...|{1, [MONDO_0004992]}|  CHEMBL3624169|         B|       null|   Homo sapiens|Tyrosine-protein ...|                 null|                     null|               9|  Direct single pro...|          null|[{O60674, Tyrosin...| SINGLE PROTEIN|   O60674|      Kinase|        TRUE|       FALSE|      INHIBITOR|   true|ENSG00000096968|[uniprot_literatu...|              true|               true| true|         true|   true|\n",
      "|      CHEMBL2971|CHEMBL1287853|     CHEMBL2971, CHEMB...|          8.52, 8.52|             8.52|                8.52|Small molecule|                      4.0|      true|{2, [ENSG00000096...|{10, [EFO_0004251...|  CHEMBL3877189|         B|       null|   Homo sapiens|Tyrosine-protein ...|                 null|                     null|               9|  Direct single pro...|          null|[{O60674, Tyrosin...| SINGLE PROTEIN|   O60674|      Kinase|        TRUE|        TRUE|      INHIBITOR|   true|ENSG00000096968|[uniprot_literatu...|             false|               true| true|         true|  false|\n",
      "|       CHEMBL261| CHEMBL220491|                CHEMBL205|4.35, 4.35, 4.35,...|             4.35|                4.35|Small molecule|                      4.0|      true|{1, [ENSG00000104...|{4, [EFO_0009784,...|  CHEMBL2380061|         B|       null|   Homo sapiens|Carbonic anhydrase I|                 null|                     null|               9|  Direct single pro...|          null|[{P00915, Carboni...| SINGLE PROTEIN|   P00915|      Enzyme|       FALSE|       FALSE|      INHIBITOR|  false|ENSG00000133742|            [chembl]|             false|               true|false|         true|  false|\n",
      "|      CHEMBL2004|    CHEMBL705|            CHEMBL2363071|                7.85|             7.85|                7.85|Small molecule|                      4.0|      true|{6, [ENSG00000204...|{7, [EFO_1000706,...|   CHEMBL798204|         B|       null|   Homo sapiens|Retinoid X recept...|                 null|                     null|               9|  Direct single pro...|          null|[{P48443, Retinoi...| SINGLE PROTEIN|   P48443|          NR|        TRUE|        TRUE|        AGONIST|  false|ENSG00000143171|            [chembl]|             false|               true|false|         true|  false|\n",
      "|      CHEMBL3788|CHEMBL3353357|                         |                8.51|             8.51|                8.51|Small molecule|                     null|      null|                null|                null|  CHEMBL3411381|         B|       null|   Homo sapiens|Serine/threonine-...|                 null|                     null|               9|  Direct single pro...|          null|[{O00444, Serine/...| SINGLE PROTEIN|   O00444|      Kinase|        TRUE|        TRUE|           null|   null|ENSG00000142731|    [chemicalProbes]|             false|              false|false|        false|   true|\n",
      "|   CHEMBL1293226|     CHEMBL31|     CHEMBL2363033, CH...|                4.60|             4.60|                 4.6|Small molecule|                      4.0|      true|             {0, []}|{7, [EFO_1000829,...|  CHEMBL1613914|         F|       null|   Homo sapiens|Lysine-specific d...|                 null|                     null|               9|  Direct single pro...|  confirmatory|[{B2RXH2, Lysine-...| SINGLE PROTEIN|   B2RXH2|  Epigenetic|       FALSE|       FALSE|      INHIBITOR|  false|           null|                null|              null|               null|false|        false|  false|\n",
      "|      CHEMBL3778|CHEMBL4081711|               CHEMBL3778|                8.70|             8.70|                 8.7|Small molecule|                      2.0|     false|{1, [ENSG00000198...|{3, [EFO_1000710,...|  CHEMBL4015988|         B|       null|   Homo sapiens|Interleukin-1 rec...|                 null|                     null|               9|  Direct single pro...|          null|[{Q9NWZ3, Interle...| SINGLE PROTEIN|   Q9NWZ3|      Kinase|        TRUE|        TRUE|      INHIBITOR|   true|ENSG00000198001|[chemicalProbes, ...|              true|               true|false|         true|   true|\n",
      "|      CHEMBL2034|CHEMBL1911272|                         |                6.85|             6.85|                6.85|Small molecule|                     null|      null|                null|                null|  CHEMBL1914169|         B|       null|   Homo sapiens|Glucocorticoid re...|                 null|                     null|               9|  Direct single pro...|          null|[{P04150, Glucoco...| SINGLE PROTEIN|   P04150|          NR|        TRUE|        TRUE|           null|   null|ENSG00000113580|    [chemicalProbes]|             false|              false|false|        false|   true|\n",
      "|       CHEMBL242|CHEMBL3264932|                         |                4.82|             4.82|                4.82|Small molecule|                     null|      null|                null|                null|  CHEMBL3269977|         B|       null|   Homo sapiens|Estrogen receptor...|                 null|                     null|               9|  Direct single pro...|          null|[{Q92731, Estroge...| SINGLE PROTEIN|   Q92731|          NR|       FALSE|       FALSE|           null|   null|           null|                null|              null|               null|false|        false|  false|\n",
      "|   CHEMBL1293256|    CHEMBL415|                CHEMBL228|          4.90, 4.90|             4.90|                 4.9|Small molecule|                      4.0|      true|{1, [ENSG00000108...|{7, [MONDO_000205...|  CHEMBL1614086|         F|       null|   Homo sapiens|      Thrombopoietin|                 null|                     null|               9|  Direct single pro...|  confirmatory|[{P40225, Thrombo...| SINGLE PROTEIN|   P40225|        None|       FALSE|       FALSE|      INHIBITOR|  false|           null|                null|              null|               null|false|        false|  false|\n",
      "|      CHEMBL2736|CHEMBL3628113|                         |                5.95|             5.95|                5.95|Small molecule|                     null|      null|                null|                null|  CHEMBL3631171|         F|       null|   Homo sapiens|Metabotropic glut...|                 null|                     null|               9|  Direct single pro...|          null|[{Q14833, Metabot...| SINGLE PROTEIN|   Q14833|        GPCR|       FALSE|       FALSE|           null|   null|           null|                null|              null|               null|false|        false|  false|\n",
      "|   CHEMBL1907589|    CHEMBL667|                CHEMBL245|                6.00|             6.00|                 6.0|Small molecule|                      4.0|      true|{1, [ENSG00000133...|{11, [EFO_0004272...|  CHEMBL3607134|         B|       null|   Homo sapiens|Neuronal acetylch...|                 null|                     null|               7|  Direct protein co...|          null|[{P17787, Neurona...|PROTEIN COMPLEX|   P17787|          IC|        TRUE|        TRUE|        AGONIST|  false|ENSG00000160716|            [chembl]|             false|               true|false|         true|  false|\n",
      "|   CHEMBL1293224|   CHEMBL1437|            CHEMBL2331074|                5.20|             5.20|                 5.2|Small molecule|                      4.0|      true|{9, [ENSG00000120...|{23, [EFO_0005207...|  CHEMBL1613899|         F|       null|   Homo sapiens|Microtubule-assoc...|                 null|                     null|               9|  Direct single pro...|  confirmatory|[{P10636, Microtu...| SINGLE PROTEIN|   P10636|        None|        TRUE|        TRUE|        AGONIST|  false|ENSG00000186868|[impc, eva, ot_ge...|             false|              false| true|         true|  false|\n",
      "|      CHEMBL3510| CHEMBL286738|               CHEMBL3559|                6.12|             6.12|                6.12|Small molecule|                      2.0|     false|{1, [ENSG00000101...|{4, [MONDO_000725...|   CHEMBL976333|         B|       null|   Homo sapiens|Carbonic anhydras...|                 null|                     null|               9|  Direct single pro...|          null|[{Q9ULX7, Carboni...| SINGLE PROTEIN|   Q9ULX7|      Enzyme|        TRUE|        TRUE|      INHIBITOR|  false|           null|                null|              null|               null|false|        false|  false|\n",
      "|       CHEMBL340|  CHEMBL21731|                CHEMBL222|                5.60|             5.60|                 5.6|Small molecule|                      4.0|      true|{1, [ENSG00000103...|{7, [EFO_0005230,...|  CHEMBL1614108|         A|       null|   Homo sapiens| Cytochrome P450 3A4|                 null|                     null|               9|  Direct single pro...|  confirmatory|[{P08684, Cytochr...| SINGLE PROTEIN|   P08684|      Enzyme|        TRUE|        TRUE|      INHIBITOR|  false|ENSG00000160868|            [chembl]|             false|               true|false|         true|  false|\n",
      "|       CHEMBL340|    CHEMBL565|                CHEMBL239|                5.00|             5.00|                 5.0|Small molecule|                      4.0|      true|{1, [ENSG00000186...|{3, [EFO_1001375,...|  CHEMBL1613886|         A|       null|   Homo sapiens| Cytochrome P450 3A4|                 null|                     null|               9|  Direct single pro...|  confirmatory|[{P08684, Cytochr...| SINGLE PROTEIN|   P08684|      Enzyme|       FALSE|       FALSE|        AGONIST|  false|ENSG00000160868|            [chembl]|             false|               true|false|         true|  false|\n",
      "+----------------+-------------+-------------------------+--------------------+-----------------+--------------------+--------------+-------------------------+----------+--------------------+--------------------+---------------+----------+-----------+---------------+--------------------+---------------------+-------------------------+----------------+----------------------+--------------+--------------------+---------------+---------+------------+------------+------------+---------------+-------+---------------+--------------------+------------------+-------------------+-----+-------------+-------+\n",
      "only showing top 20 rows\n",
      "\n"
     ]
    },
    {
     "data": {
      "text/plain": [
       "4656"
      ]
     },
     "execution_count": 85,
     "metadata": {},
     "output_type": "execute_result"
    }
   ],
   "source": [
    "# Classification of targets by genetic evidence support\n",
    "def is_ge(sources):\n",
    "    undesired_lists = [\n",
    "        ['chembl'],\n",
    "        ['chemicalProbes'],\n",
    "        ['chembl', 'chemicalProbes'],\n",
    "        ['chemicalProbes', 'chembl']\n",
    "    ]\n",
    "    return not (sources in undesired_lists or sources is None)\n",
    "\n",
    "def is_ge_clinical(sources):\n",
    "    undesired_lists = [['chemicalProbes']]\n",
    "    return not (sources in undesired_lists or sources is None)\n",
    "\n",
    "def contains_chemical_probes(sources):\n",
    "    return 'chemicalProbes' in sources if sources else False\n",
    "\n",
    "# Register UDFs\n",
    "is_ge_udf = udf(is_ge, BooleanType())\n",
    "is_ge_clinical_udf = udf(is_ge_clinical, BooleanType())\n",
    "contains_chemical_probes_udf = udf(contains_chemical_probes, BooleanType())\n",
    "\n",
    "# Apply UDFs to create new columns\n",
    "target_evidence_bool = target_evidence.withColumn(\"isGE\", is_ge_udf(\"sources\"))\\\n",
    "                        .withColumn(\"isGE_clinical\", is_ge_clinical_udf(\"sources\"))\\\n",
    "                        .withColumn(\"isProbe\", contains_chemical_probes_udf(\"sources\"))\n",
    "\n",
    "target_evidence_bool.show()\n",
    "target_evidence_bool.count()"
   ]
  },
  {
   "cell_type": "code",
   "execution_count": null,
   "metadata": {},
   "outputs": [
    {
     "name": "stderr",
     "output_type": "stream",
     "text": [
      "                                                                                \r"
     ]
    }
   ],
   "source": [
    "target_evidence_bool.write.parquet(\"gs://ot-team/polina/target_evidence_bool\")"
   ]
  },
  {
   "cell_type": "markdown",
   "metadata": {},
   "source": [
    "### Counts targets with non-pharmacological MoA"
   ]
  },
  {
   "cell_type": "code",
   "execution_count": null,
   "metadata": {},
   "outputs": [
    {
     "name": "stderr",
     "output_type": "stream",
     "text": [
      "                                                                                \r"
     ]
    },
    {
     "data": {
      "text/plain": [
       "135"
      ]
     },
     "execution_count": 87,
     "metadata": {},
     "output_type": "execute_result"
    }
   ],
   "source": [
    "# How many targets:\n",
    "#   have assays for active drugs \n",
    "#   not in MoA of these drugs\n",
    "#   supported by GE or clinical evidence\n",
    "\n",
    "target_evidence_no_moa = target_evidence_bool\\\n",
    "                        .filter(target_evidence_bool[\"IsActive_max\"] == True)\\\n",
    "                        .filter(target_evidence_bool[\"isInMoA\"].isNull())\\\n",
    "                        .filter(target_evidence_bool[\"isGE_clinical\"] == True)\\\n",
    "\n",
    "count_unique_values(target_evidence_no_moa.drop_duplicates([\"target_chembl_id\"]), \"target_chembl_id\")"
   ]
  },
  {
   "cell_type": "code",
   "execution_count": null,
   "metadata": {},
   "outputs": [
    {
     "name": "stderr",
     "output_type": "stream",
     "text": [
      "                                                                                \r"
     ]
    },
    {
     "data": {
      "text/plain": [
       "83"
      ]
     },
     "execution_count": 88,
     "metadata": {},
     "output_type": "execute_result"
    }
   ],
   "source": [
    "# How many targets:\n",
    "#   have assays for active drugs \n",
    "#   not in MoA of these drugs\n",
    "#   supported by GE\n",
    "\n",
    "target_evidence_no_moa = target_evidence_bool\\\n",
    "                        .filter(target_evidence_bool[\"IsActive_max\"] == True)\\\n",
    "                        .filter(target_evidence_bool[\"isInMoA\"].isNull())\\\n",
    "                        .filter(target_evidence_bool[\"isGE\"] == True)\\\n",
    "\n",
    "count_unique_values(target_evidence_no_moa.drop_duplicates([\"target_chembl_id\"]), \"target_chembl_id\")"
   ]
  },
  {
   "cell_type": "code",
   "execution_count": null,
   "metadata": {},
   "outputs": [
    {
     "name": "stderr",
     "output_type": "stream",
     "text": [
      "                                                                                \r"
     ]
    },
    {
     "data": {
      "text/plain": [
       "133"
      ]
     },
     "execution_count": 89,
     "metadata": {},
     "output_type": "execute_result"
    }
   ],
   "source": [
    "# How many targets:\n",
    "#   have assays for active drugs (pchembl median)\n",
    "#   not in MoA of these drugs\n",
    "#   supported by GE or clinical evidence\n",
    "\n",
    "target_evidence_no_moa = target_evidence_bool\\\n",
    "                        .filter(target_evidence_bool[\"IsActive_med\"] == True)\\\n",
    "                        .filter(target_evidence_bool[\"isInMoA\"].isNull())\\\n",
    "                        .filter(target_evidence_bool[\"isGE_clinical\"] == True)\\\n",
    "\n",
    "count_unique_values(target_evidence_no_moa.drop_duplicates([\"target_chembl_id\"]), \"target_chembl_id\")"
   ]
  },
  {
   "cell_type": "code",
   "execution_count": null,
   "metadata": {},
   "outputs": [
    {
     "name": "stderr",
     "output_type": "stream",
     "text": [
      "                                                                                \r"
     ]
    },
    {
     "data": {
      "text/plain": [
       "239"
      ]
     },
     "execution_count": 92,
     "metadata": {},
     "output_type": "execute_result"
    }
   ],
   "source": [
    "target_evidence_no_moa.count()"
   ]
  },
  {
   "cell_type": "code",
   "execution_count": null,
   "metadata": {},
   "outputs": [],
   "source": []
  },
  {
   "cell_type": "code",
   "execution_count": null,
   "metadata": {},
   "outputs": [
    {
     "name": "stderr",
     "output_type": "stream",
     "text": [
      "                                                                                \r"
     ]
    },
    {
     "data": {
      "text/plain": [
       "438"
      ]
     },
     "execution_count": 176,
     "metadata": {},
     "output_type": "execute_result"
    }
   ],
   "source": [
    "# No targets in MoA for probes\n",
    "target_evidence_no_moa_probes = target_evidence_bool\\\n",
    "                        .filter(target_evidence_bool[\"target_chembl_id_moa\"].isNull())\\\n",
    "                        .filter(target_evidence_bool[\"IsActive\"] == True)\\\n",
    "                        .filter(target_evidence_bool[\"isProbe\"] == True)\n",
    "count_unique_values(target_evidence_no_moa_probes, \"drugId\")"
   ]
  },
  {
   "cell_type": "code",
   "execution_count": null,
   "metadata": {},
   "outputs": [],
   "source": []
  },
  {
   "cell_type": "code",
   "execution_count": null,
   "metadata": {},
   "outputs": [],
   "source": []
  },
  {
   "cell_type": "code",
   "execution_count": null,
   "metadata": {},
   "outputs": [],
   "source": []
  },
  {
   "cell_type": "code",
   "execution_count": null,
   "metadata": {},
   "outputs": [
    {
     "name": "stderr",
     "output_type": "stream",
     "text": [
      "                                                                                \r"
     ]
    },
    {
     "data": {
      "text/plain": [
       "483"
      ]
     },
     "execution_count": 170,
     "metadata": {},
     "output_type": "execute_result"
    }
   ],
   "source": [
    "drug_active_only_probes = target_evidence_bool.filter(target_evidence_bool[\"isProbe\"] == True).filter(target_evidence_bool[\"isActive\"] == True)\n",
    "count_unique_values(drug_active_only_probes, \"drugId\")"
   ]
  },
  {
   "cell_type": "code",
   "execution_count": null,
   "metadata": {},
   "outputs": [
    {
     "name": "stderr",
     "output_type": "stream",
     "text": [
      "                                                                                \r"
     ]
    },
    {
     "data": {
      "text/plain": [
       "131"
      ]
     },
     "execution_count": 171,
     "metadata": {},
     "output_type": "execute_result"
    }
   ],
   "source": [
    "drug_active_only_probes = target_evidence_bool.filter(target_evidence_bool[\"isHighQualityProbe\"] == True).filter(target_evidence_bool[\"isActive\"] == True)\n",
    "count_unique_values(drug_active_only_probes, \"drugId\")"
   ]
  },
  {
   "cell_type": "code",
   "execution_count": null,
   "metadata": {},
   "outputs": [
    {
     "name": "stderr",
     "output_type": "stream",
     "text": [
      "                                                                                \r"
     ]
    },
    {
     "data": {
      "text/plain": [
       "2287"
      ]
     },
     "execution_count": 164,
     "metadata": {},
     "output_type": "execute_result"
    }
   ],
   "source": [
    "count_unique_values(target_evidence_bool, \"drugId\")"
   ]
  },
  {
   "cell_type": "code",
   "execution_count": null,
   "metadata": {},
   "outputs": [
    {
     "data": {
      "text/plain": [
       "596"
      ]
     },
     "execution_count": 165,
     "metadata": {},
     "output_type": "execute_result"
    }
   ],
   "source": [
    "target_evidence_bool_clinical = target_evidence_bool.filter(target_evidence_bool[\"isApproved\"] != \"true\")\n",
    "# target_evidence_bool_clinical.show()\n",
    "count_unique_values(target_evidence_bool_clinical, \"drugId\")"
   ]
  },
  {
   "cell_type": "code",
   "execution_count": null,
   "metadata": {},
   "outputs": [
    {
     "name": "stderr",
     "output_type": "stream",
     "text": [
      "                                                                                \r"
     ]
    },
    {
     "data": {
      "text/plain": [
       "850"
      ]
     },
     "execution_count": 166,
     "metadata": {},
     "output_type": "execute_result"
    }
   ],
   "source": [
    "target_evidence_bool_clinical = target_evidence_bool.filter(target_evidence_bool[\"isApproved\"] == True)\n",
    "# target_evidence_bool_clinical.show()\n",
    "count_unique_values(target_evidence_bool_clinical, \"drugId\")"
   ]
  },
  {
   "cell_type": "code",
   "execution_count": null,
   "metadata": {},
   "outputs": [
    {
     "name": "stderr",
     "output_type": "stream",
     "text": [
      "[Stage 953:=============================================>       (170 + 8) / 200]\r"
     ]
    },
    {
     "name": "stdout",
     "output_type": "stream",
     "text": [
      "+----------+-------------------+\n",
      "|isApproved|unique_drugId_count|\n",
      "+----------+-------------------+\n",
      "|      null|               1160|\n",
      "|      true|               1318|\n",
      "|     false|                895|\n",
      "+----------+-------------------+\n",
      "\n"
     ]
    },
    {
     "name": "stderr",
     "output_type": "stream",
     "text": [
      "                                                                                \r"
     ]
    }
   ],
   "source": [
    "from pyspark.sql.functions import countDistinct\n",
    "\n",
    "# Group by 'isApproved' and count distinct 'drugId's\n",
    "drugId_count = target_evidence_bool.groupBy(\"isApproved\").agg(countDistinct(\"drugId\").alias(\"unique_drugId_count\"))\n",
    "\n",
    "# Show the result\n",
    "drugId_count.show()\n"
   ]
  },
  {
   "cell_type": "code",
   "execution_count": null,
   "metadata": {},
   "outputs": [
    {
     "data": {
      "text/plain": [
       "187"
      ]
     },
     "execution_count": 105,
     "metadata": {},
     "output_type": "execute_result"
    }
   ],
   "source": [
    "target_evidence_bool_probe_h = target_evidence_bool.filter(target_evidence_bool[\"isHighQualityProbe\"] == True)\n",
    "# target_evidence_bool_probe_h.show()\n",
    "count_unique_values(target_evidence_bool_probe_h, \"drugId\")"
   ]
  },
  {
   "cell_type": "code",
   "execution_count": null,
   "metadata": {},
   "outputs": [
    {
     "name": "stderr",
     "output_type": "stream",
     "text": [
      "                                                                                \r"
     ]
    },
    {
     "data": {
      "text/plain": [
       "695"
      ]
     },
     "execution_count": 106,
     "metadata": {},
     "output_type": "execute_result"
    }
   ],
   "source": [
    "target_evidence_bool_probe = target_evidence_bool.filter(target_evidence_bool[\"isProbe\"] == True)\n",
    "# target_evidence_bool_probe.show()\n",
    "count_unique_values(target_evidence_bool_probe, \"drugId\")"
   ]
  },
  {
   "cell_type": "markdown",
   "metadata": {},
   "source": [
    "# Data coverage"
   ]
  },
  {
   "cell_type": "markdown",
   "metadata": {},
   "source": [
    "### Drugs"
   ]
  },
  {
   "cell_type": "code",
   "execution_count": null,
   "metadata": {},
   "outputs": [],
   "source": [
    "# Filtering by:\n",
    "#         1. max_phase ≠ 4 | max_phase = 4 | probes = TRUE\n",
    "#         2. moa = NaN | moa ≠ NaN\n",
    "#         3. drugActive = TRUE\n",
    "#         4. GE = TRUE | clinical_GE = TRUE"
   ]
  },
  {
   "cell_type": "code",
   "execution_count": null,
   "metadata": {},
   "outputs": [],
   "source": [
    "# Number of clinical candidates/approved drugs/chemical probes for which:\n",
    "#     1. there is no MoA and they are bioactive against some targets:\n",
    "#         1. which have GE/GE+clinical evidence for any disease\n",
    "#     2. there is MoA but they are bioactive against some other targets\n",
    "#         1. which have GE/GE+clinical evidence for any disease"
   ]
  },
  {
   "cell_type": "markdown",
   "metadata": {},
   "source": [
    "### Targets"
   ]
  },
  {
   "cell_type": "code",
   "execution_count": null,
   "metadata": {},
   "outputs": [
    {
     "name": "stdout",
     "output_type": "stream",
     "text": [
      "+----------------+-------------+--------------+-------------------------+----------+--------------------+--------------------+---------------+----------+-----------+-------------+-------------+--------------+--------------+-----------------+---------------+--------------------+----------------+----------------------+--------------+--------------------+---------------+---------+------------+-----------------+--------------------+--------+---------------+--------------------+-----------+---------------+--------+------------------+-------------------+-----+-------------+-------+\n",
      "|target_chembl_id|       drugId|      drugType|maximumClinicalTrialPhase|isApproved|       linkedTargets|      linkedDiseases|assay_chembl_id|assay_type|action_type|pchembl_value|standard_type|standard_units|standard_value|standard_relation|target_organism|    target_pref_name|confidence_score|confidence_description|assay_category|   target_components|    target_type|accession|proteinClass|max_pchembl_value|median_pchembl_value|isActive|action_type_moa|target_chembl_id_moa|targetInMoA|       targetId| sources|isHighQualityProbe|isTherapeuticTarget| isGE|isGE_clinical|isProbe|\n",
      "+----------------+-------------+--------------+-------------------------+----------+--------------------+--------------------+---------------+----------+-----------+-------------+-------------+--------------+--------------+-----------------+---------------+--------------------+----------------+----------------------+--------------+--------------------+---------------+---------+------------+-----------------+--------------------+--------+---------------+--------------------+-----------+---------------+--------+------------------+-------------------+-----+-------------+-------+\n",
      "|   CHEMBL1907602|CHEMBL4442620|Small molecule|                      2.0|     false|{20, [ENSG0000017...|{3, [EFO_0003060,...|  CHEMBL3607089|         B|       null|         8.15|         IC50|            nM|           7.0|                =|   Homo sapiens|Cyclin-dependent ...|               7|  Direct protein co...|          null|[{P06493, Cyclin-...|PROTEIN COMPLEX|   P06493|      Kinase|             8.15|                8.15|    TRUE|      INHIBITOR|       CHEMBL3559691|      false|ENSG00000170312|[chembl]|             false|               true|false|         true|  false|\n",
      "|       CHEMBL308|CHEMBL2436978|Small molecule|                     null|      null|                null|                null|  CHEMBL2439767|         B|       null|         5.95|         IC50|            nM|        1125.0|                =|   Homo sapiens|Cyclin-dependent ...|               9|  Direct single pro...|          null|[{P06493, Cyclin-...| SINGLE PROTEIN|   P06493|      Kinase|             5.95|                5.95|   FALSE|           null|                null|       null|           null|    null|              null|               null|false|        false|  false|\n",
      "|       CHEMBL308|CHEMBL3688339|Small molecule|                     null|      null|                null|                null|  CHEMBL3991650|         B|       null|         6.54|           Kd|            nM|         288.0|                =|   Homo sapiens|Cyclin-dependent ...|               9|  Direct single pro...|          null|[{P06493, Cyclin-...| SINGLE PROTEIN|   P06493|      Kinase|             6.54|                6.54|   FALSE|           null|                null|       null|           null|    null|              null|               null|false|        false|  false|\n",
      "|   CHEMBL1907602|CHEMBL4442620|Small molecule|                      2.0|     false|{20, [ENSG0000017...|{3, [EFO_0003060,...|  CHEMBL4613391|         B|       null|         8.15|         IC50|            nM|           7.0|                =|   Homo sapiens|Cyclin-dependent ...|               7|  Direct protein co...|          null|[{P06493, Cyclin-...|PROTEIN COMPLEX|   P06493|      Kinase|             8.15|                8.15|    TRUE|      INHIBITOR|       CHEMBL3559691|      false|ENSG00000170312|[chembl]|             false|               true|false|         true|  false|\n",
      "|   CHEMBL1907602| CHEMBL428690|Small molecule|                      3.0|     false|{6, [ENSG00000170...|{26, [EFO_0001378...|  CHEMBL3856462|         B|       null|         7.57|         IC50|            nM|          27.0|                =|   Homo sapiens|Cyclin-dependent ...|               7|  Direct protein co...|          null|[{P06493, Cyclin-...|PROTEIN COMPLEX|   P06493|      Kinase|             7.57|                7.57|   FALSE|      INHIBITOR|          CHEMBL3055|      false|ENSG00000170312|[chembl]|             false|               true|false|         true|  false|\n",
      "|   CHEMBL1907602| CHEMBL428690|Small molecule|                      3.0|     false|{6, [ENSG00000170...|{26, [EFO_0001378...|  CHEMBL3856462|         B|       null|         7.57|         IC50|            nM|          27.0|                =|   Homo sapiens|Cyclin-dependent ...|               7|  Direct protein co...|          null|[{P06493, Cyclin-...|PROTEIN COMPLEX|   P06493|      Kinase|             7.57|                7.57|   FALSE|      INHIBITOR|          CHEMBL3116|      false|ENSG00000170312|[chembl]|             false|               true|false|         true|  false|\n",
      "|   CHEMBL1907602| CHEMBL428690|Small molecule|                      3.0|     false|{6, [ENSG00000170...|{26, [EFO_0001378...|  CHEMBL3856462|         B|       null|         7.57|         IC50|            nM|          27.0|                =|   Homo sapiens|Cyclin-dependent ...|               7|  Direct protein co...|          null|[{P06493, Cyclin-...|PROTEIN COMPLEX|   P06493|      Kinase|             7.57|                7.57|   FALSE|      INHIBITOR|          CHEMBL2508|      false|ENSG00000170312|[chembl]|             false|               true|false|         true|  false|\n",
      "|   CHEMBL1907602| CHEMBL428690|Small molecule|                      3.0|     false|{6, [ENSG00000170...|{26, [EFO_0001378...|  CHEMBL3856462|         B|       null|         7.57|         IC50|            nM|          27.0|                =|   Homo sapiens|Cyclin-dependent ...|               7|  Direct protein co...|          null|[{P06493, Cyclin-...|PROTEIN COMPLEX|   P06493|      Kinase|             7.57|                7.57|   FALSE|      INHIBITOR|           CHEMBL301|      false|ENSG00000170312|[chembl]|             false|               true|false|         true|  false|\n",
      "|   CHEMBL1907602| CHEMBL428690|Small molecule|                      3.0|     false|{6, [ENSG00000170...|{26, [EFO_0001378...|  CHEMBL3856462|         B|       null|         7.57|         IC50|            nM|          27.0|                =|   Homo sapiens|Cyclin-dependent ...|               7|  Direct protein co...|          null|[{P06493, Cyclin-...|PROTEIN COMPLEX|   P06493|      Kinase|             7.57|                7.57|   FALSE|      INHIBITOR|           CHEMBL308|      false|ENSG00000170312|[chembl]|             false|               true|false|         true|  false|\n",
      "|   CHEMBL1907602| CHEMBL428690|Small molecule|                      3.0|     false|{6, [ENSG00000170...|{26, [EFO_0001378...|  CHEMBL3856462|         B|       null|         7.57|         IC50|            nM|          27.0|                =|   Homo sapiens|Cyclin-dependent ...|               7|  Direct protein co...|          null|[{P06493, Cyclin-...|PROTEIN COMPLEX|   P06493|      Kinase|             7.57|                7.57|   FALSE|      INHIBITOR|           CHEMBL331|      false|ENSG00000170312|[chembl]|             false|               true|false|         true|  false|\n",
      "|       CHEMBL308|CHEMBL2103840|Small molecule|                      3.0|     false|{4, [ENSG00000170...|{9, [EFO_0006861,...|  CHEMBL3856515|         B|       null|         8.52|         IC50|            nM|           3.0|                =|   Homo sapiens|Cyclin-dependent ...|               9|  Direct single pro...|          null|[{P06493, Cyclin-...| SINGLE PROTEIN|   P06493|      Kinase|             8.52|                8.52|    TRUE|      INHIBITOR|          CHEMBL3116|       true|ENSG00000170312|[chembl]|             false|               true|false|         true|  false|\n",
      "|       CHEMBL308|CHEMBL2103840|Small molecule|                      3.0|     false|{4, [ENSG00000170...|{9, [EFO_0006861,...|  CHEMBL3856515|         B|       null|         8.52|         IC50|            nM|           3.0|                =|   Homo sapiens|Cyclin-dependent ...|               9|  Direct single pro...|          null|[{P06493, Cyclin-...| SINGLE PROTEIN|   P06493|      Kinase|             8.52|                8.52|    TRUE|      INHIBITOR|           CHEMBL308|       true|ENSG00000170312|[chembl]|             false|               true|false|         true|  false|\n",
      "|       CHEMBL308|CHEMBL2103840|Small molecule|                      3.0|     false|{4, [ENSG00000170...|{9, [EFO_0006861,...|  CHEMBL3856515|         B|       null|         8.52|         IC50|            nM|           3.0|                =|   Homo sapiens|Cyclin-dependent ...|               9|  Direct single pro...|          null|[{P06493, Cyclin-...| SINGLE PROTEIN|   P06493|      Kinase|             8.52|                8.52|    TRUE|      INHIBITOR|          CHEMBL4036|       true|ENSG00000170312|[chembl]|             false|               true|false|         true|  false|\n",
      "|       CHEMBL308|CHEMBL2103840|Small molecule|                      3.0|     false|{4, [ENSG00000170...|{9, [EFO_0006861,...|  CHEMBL3856515|         B|       null|         8.52|         IC50|            nM|           3.0|                =|   Homo sapiens|Cyclin-dependent ...|               9|  Direct single pro...|          null|[{P06493, Cyclin-...| SINGLE PROTEIN|   P06493|      Kinase|             8.52|                8.52|    TRUE|      INHIBITOR|           CHEMBL301|       true|ENSG00000170312|[chembl]|             false|               true|false|         true|  false|\n",
      "|       CHEMBL308|CHEMBL1944698|Small molecule|                      1.0|     false|{6, [ENSG00000136...|{5, [EFO_0000182,...|  CHEMBL3856510|         B|       null|         8.52|         IC50|            nM|           3.0|                =|   Homo sapiens|Cyclin-dependent ...|               9|  Direct single pro...|          null|[{P06493, Cyclin-...| SINGLE PROTEIN|   P06493|      Kinase|             8.52|                8.52|    TRUE|      INHIBITOR|          CHEMBL3116|       true|ENSG00000170312|[chembl]|             false|               true|false|         true|  false|\n",
      "|       CHEMBL308|CHEMBL1944698|Small molecule|                      1.0|     false|{6, [ENSG00000136...|{5, [EFO_0000182,...|  CHEMBL3856510|         B|       null|         8.52|         IC50|            nM|           3.0|                =|   Homo sapiens|Cyclin-dependent ...|               9|  Direct single pro...|          null|[{P06493, Cyclin-...| SINGLE PROTEIN|   P06493|      Kinase|             8.52|                8.52|    TRUE|      INHIBITOR|          CHEMBL2971|       true|ENSG00000170312|[chembl]|             false|               true|false|         true|  false|\n",
      "|       CHEMBL308|CHEMBL1944698|Small molecule|                      1.0|     false|{6, [ENSG00000136...|{5, [EFO_0000182,...|  CHEMBL3856510|         B|       null|         8.52|         IC50|            nM|           3.0|                =|   Homo sapiens|Cyclin-dependent ...|               9|  Direct single pro...|          null|[{P06493, Cyclin-...| SINGLE PROTEIN|   P06493|      Kinase|             8.52|                8.52|    TRUE|      INHIBITOR|          CHEMBL3055|       true|ENSG00000170312|[chembl]|             false|               true|false|         true|  false|\n",
      "|       CHEMBL308|CHEMBL1944698|Small molecule|                      1.0|     false|{6, [ENSG00000136...|{5, [EFO_0000182,...|  CHEMBL3856510|         B|       null|         8.52|         IC50|            nM|           3.0|                =|   Homo sapiens|Cyclin-dependent ...|               9|  Direct single pro...|          null|[{P06493, Cyclin-...| SINGLE PROTEIN|   P06493|      Kinase|             8.52|                8.52|    TRUE|      INHIBITOR|           CHEMBL301|       true|ENSG00000170312|[chembl]|             false|               true|false|         true|  false|\n",
      "|       CHEMBL308|CHEMBL1944698|Small molecule|                      1.0|     false|{6, [ENSG00000136...|{5, [EFO_0000182,...|  CHEMBL3856510|         B|       null|         8.52|         IC50|            nM|           3.0|                =|   Homo sapiens|Cyclin-dependent ...|               9|  Direct single pro...|          null|[{P06493, Cyclin-...| SINGLE PROTEIN|   P06493|      Kinase|             8.52|                8.52|    TRUE|      INHIBITOR|          CHEMBL1974|       true|ENSG00000170312|[chembl]|             false|               true|false|         true|  false|\n",
      "|       CHEMBL308|CHEMBL1944698|Small molecule|                      1.0|     false|{6, [ENSG00000136...|{5, [EFO_0000182,...|  CHEMBL3856510|         B|       null|         8.52|         IC50|            nM|           3.0|                =|   Homo sapiens|Cyclin-dependent ...|               9|  Direct single pro...|          null|[{P06493, Cyclin-...| SINGLE PROTEIN|   P06493|      Kinase|             8.52|                8.52|    TRUE|      INHIBITOR|           CHEMBL308|       true|ENSG00000170312|[chembl]|             false|               true|false|         true|  false|\n",
      "+----------------+-------------+--------------+-------------------------+----------+--------------------+--------------------+---------------+----------+-----------+-------------+-------------+--------------+--------------+-----------------+---------------+--------------------+----------------+----------------------+--------------+--------------------+---------------+---------+------------+-----------------+--------------------+--------+---------------+--------------------+-----------+---------------+--------+------------------+-------------------+-----+-------------+-------+\n",
      "only showing top 20 rows\n",
      "\n"
     ]
    }
   ],
   "source": [
    "# Dataset with only pchembl value activity\n",
    "target_evidence_bool.show()"
   ]
  },
  {
   "cell_type": "code",
   "execution_count": null,
   "metadata": {},
   "outputs": [
    {
     "name": "stdout",
     "output_type": "stream",
     "text": [
      "+---------------+-----+\n",
      "|       drugType|count|\n",
      "+---------------+-----+\n",
      "| Small molecule| 9218|\n",
      "|Oligosaccharide|    2|\n",
      "|           null|    1|\n",
      "|        Protein|  113|\n",
      "|       Antibody|    4|\n",
      "|        Unknown|   14|\n",
      "+---------------+-----+\n",
      "\n"
     ]
    }
   ],
   "source": [
    "show_unique_values_and_counts(target_evidence_bool, \"drugType\")"
   ]
  },
  {
   "cell_type": "code",
   "execution_count": null,
   "metadata": {},
   "outputs": [
    {
     "name": "stderr",
     "output_type": "stream",
     "text": [
      "                                                                                \r"
     ]
    },
    {
     "data": {
      "text/plain": [
       "326"
      ]
     },
     "execution_count": 182,
     "metadata": {},
     "output_type": "execute_result"
    }
   ],
   "source": [
    "# Number of targets supported by GE which have active bioassays\n",
    "\n",
    "targets_GE = target_evidence_bool\\\n",
    "                .filter(target_evidence_bool[\"IsActive\"] == True)\\\n",
    "                .filter(target_evidence_bool[\"isGE\"] == True)\n",
    "\n",
    "count_unique_values(targets_GE, \"target_chembl_id\")"
   ]
  },
  {
   "cell_type": "code",
   "execution_count": null,
   "metadata": {},
   "outputs": [
    {
     "name": "stderr",
     "output_type": "stream",
     "text": [
      "                                                                                \r"
     ]
    },
    {
     "data": {
      "text/plain": [
       "431"
      ]
     },
     "execution_count": 184,
     "metadata": {},
     "output_type": "execute_result"
    }
   ],
   "source": [
    "# Number of targets supported by GE_clinical which have active bioassays\n",
    "\n",
    "targets_GE_clinical = target_evidence_bool\\\n",
    "                .filter(target_evidence_bool[\"IsActive\"] == True)\\\n",
    "                .filter(target_evidence_bool[\"isGE_clinical\"] == True)\n",
    "\n",
    "count_unique_values(targets_GE_clinical, \"target_chembl_id\")"
   ]
  },
  {
   "cell_type": "code",
   "execution_count": null,
   "metadata": {},
   "outputs": [
    {
     "name": "stderr",
     "output_type": "stream",
     "text": [
      "                                                                                \r"
     ]
    },
    {
     "data": {
      "text/plain": [
       "115"
      ]
     },
     "execution_count": 185,
     "metadata": {},
     "output_type": "execute_result"
    }
   ],
   "source": [
    "# Number of targets supported by GE which have active bioassays and not in MoA of the drug\n",
    "\n",
    "targets_GE_noMoA = target_evidence_bool\\\n",
    "                .filter(target_evidence_bool[\"IsActive\"] == True)\\\n",
    "                .filter(target_evidence_bool[\"isGE\"] == True)\\\n",
    "                .filter(target_evidence_bool[\"targetInMoA\"] != True)\n",
    "\n",
    "count_unique_values(targets_GE_noMoA, \"target_chembl_id\")"
   ]
  },
  {
   "cell_type": "code",
   "execution_count": null,
   "metadata": {},
   "outputs": [
    {
     "name": "stderr",
     "output_type": "stream",
     "text": [
      "                                                                                \r"
     ]
    },
    {
     "data": {
      "text/plain": [
       "145"
      ]
     },
     "execution_count": 186,
     "metadata": {},
     "output_type": "execute_result"
    }
   ],
   "source": [
    "# Number of targets supported by GE_clinical which have active bioassays and not in MoA of the drug\n",
    "\n",
    "targets_GE_clinical_noMoA = target_evidence_bool\\\n",
    "                .filter(target_evidence_bool[\"IsActive\"] == True)\\\n",
    "                .filter(target_evidence_bool[\"isGE_clinical\"] == True)\\\n",
    "                .filter(target_evidence_bool[\"targetInMoA\"] != True)\n",
    "\n",
    "count_unique_values(targets_GE_clinical_noMoA, \"target_chembl_id\")"
   ]
  },
  {
   "cell_type": "markdown",
   "metadata": {},
   "source": [
    "## Action type"
   ]
  },
  {
   "cell_type": "code",
   "execution_count": null,
   "metadata": {},
   "outputs": [
    {
     "name": "stdout",
     "output_type": "stream",
     "text": [
      "+----------------+-------------+--------------+-------------------------+----------+--------------------+--------------------+---------------+----------+-----------+-------------+-------------+--------------+--------------+-----------------+---------------+--------------------+----------------+----------------------+--------------+--------------------+---------------+---------+------------+-----------------+--------------------+--------+---------------+--------------------+-----------+---------------+--------+------------------+-------------------+-----+-------------+-------+\n",
      "|target_chembl_id|       drugId|      drugType|maximumClinicalTrialPhase|isApproved|       linkedTargets|      linkedDiseases|assay_chembl_id|assay_type|action_type|pchembl_value|standard_type|standard_units|standard_value|standard_relation|target_organism|    target_pref_name|confidence_score|confidence_description|assay_category|   target_components|    target_type|accession|proteinClass|max_pchembl_value|median_pchembl_value|isActive|action_type_moa|target_chembl_id_moa|targetInMoA|       targetId| sources|isHighQualityProbe|isTherapeuticTarget| isGE|isGE_clinical|isProbe|\n",
      "+----------------+-------------+--------------+-------------------------+----------+--------------------+--------------------+---------------+----------+-----------+-------------+-------------+--------------+--------------+-----------------+---------------+--------------------+----------------+----------------------+--------------+--------------------+---------------+---------+------------+-----------------+--------------------+--------+---------------+--------------------+-----------+---------------+--------+------------------+-------------------+-----+-------------+-------+\n",
      "|   CHEMBL1907602|CHEMBL4442620|Small molecule|                      2.0|     false|{20, [ENSG0000017...|{3, [EFO_0003060,...|  CHEMBL3607089|         B|       null|         8.15|         IC50|            nM|           7.0|                =|   Homo sapiens|Cyclin-dependent ...|               7|  Direct protein co...|          null|[{P06493, Cyclin-...|PROTEIN COMPLEX|   P06493|      Kinase|             8.15|                8.15|    TRUE|      INHIBITOR|       CHEMBL3559691|      false|ENSG00000170312|[chembl]|             false|               true|false|         true|  false|\n",
      "|       CHEMBL308|CHEMBL2436978|Small molecule|                     null|      null|                null|                null|  CHEMBL2439767|         B|       null|         5.95|         IC50|            nM|        1125.0|                =|   Homo sapiens|Cyclin-dependent ...|               9|  Direct single pro...|          null|[{P06493, Cyclin-...| SINGLE PROTEIN|   P06493|      Kinase|             5.95|                5.95|   FALSE|           null|                null|       null|           null|    null|              null|               null|false|        false|  false|\n",
      "|       CHEMBL308|CHEMBL3688339|Small molecule|                     null|      null|                null|                null|  CHEMBL3991650|         B|       null|         6.54|           Kd|            nM|         288.0|                =|   Homo sapiens|Cyclin-dependent ...|               9|  Direct single pro...|          null|[{P06493, Cyclin-...| SINGLE PROTEIN|   P06493|      Kinase|             6.54|                6.54|   FALSE|           null|                null|       null|           null|    null|              null|               null|false|        false|  false|\n",
      "|   CHEMBL1907602|CHEMBL4442620|Small molecule|                      2.0|     false|{20, [ENSG0000017...|{3, [EFO_0003060,...|  CHEMBL4613391|         B|       null|         8.15|         IC50|            nM|           7.0|                =|   Homo sapiens|Cyclin-dependent ...|               7|  Direct protein co...|          null|[{P06493, Cyclin-...|PROTEIN COMPLEX|   P06493|      Kinase|             8.15|                8.15|    TRUE|      INHIBITOR|       CHEMBL3559691|      false|ENSG00000170312|[chembl]|             false|               true|false|         true|  false|\n",
      "|   CHEMBL1907602| CHEMBL428690|Small molecule|                      3.0|     false|{6, [ENSG00000170...|{26, [EFO_0001378...|  CHEMBL3856462|         B|       null|         7.57|         IC50|            nM|          27.0|                =|   Homo sapiens|Cyclin-dependent ...|               7|  Direct protein co...|          null|[{P06493, Cyclin-...|PROTEIN COMPLEX|   P06493|      Kinase|             7.57|                7.57|   FALSE|      INHIBITOR|          CHEMBL3055|      false|ENSG00000170312|[chembl]|             false|               true|false|         true|  false|\n",
      "|   CHEMBL1907602| CHEMBL428690|Small molecule|                      3.0|     false|{6, [ENSG00000170...|{26, [EFO_0001378...|  CHEMBL3856462|         B|       null|         7.57|         IC50|            nM|          27.0|                =|   Homo sapiens|Cyclin-dependent ...|               7|  Direct protein co...|          null|[{P06493, Cyclin-...|PROTEIN COMPLEX|   P06493|      Kinase|             7.57|                7.57|   FALSE|      INHIBITOR|          CHEMBL3116|      false|ENSG00000170312|[chembl]|             false|               true|false|         true|  false|\n",
      "|   CHEMBL1907602| CHEMBL428690|Small molecule|                      3.0|     false|{6, [ENSG00000170...|{26, [EFO_0001378...|  CHEMBL3856462|         B|       null|         7.57|         IC50|            nM|          27.0|                =|   Homo sapiens|Cyclin-dependent ...|               7|  Direct protein co...|          null|[{P06493, Cyclin-...|PROTEIN COMPLEX|   P06493|      Kinase|             7.57|                7.57|   FALSE|      INHIBITOR|          CHEMBL2508|      false|ENSG00000170312|[chembl]|             false|               true|false|         true|  false|\n",
      "|   CHEMBL1907602| CHEMBL428690|Small molecule|                      3.0|     false|{6, [ENSG00000170...|{26, [EFO_0001378...|  CHEMBL3856462|         B|       null|         7.57|         IC50|            nM|          27.0|                =|   Homo sapiens|Cyclin-dependent ...|               7|  Direct protein co...|          null|[{P06493, Cyclin-...|PROTEIN COMPLEX|   P06493|      Kinase|             7.57|                7.57|   FALSE|      INHIBITOR|           CHEMBL301|      false|ENSG00000170312|[chembl]|             false|               true|false|         true|  false|\n",
      "|   CHEMBL1907602| CHEMBL428690|Small molecule|                      3.0|     false|{6, [ENSG00000170...|{26, [EFO_0001378...|  CHEMBL3856462|         B|       null|         7.57|         IC50|            nM|          27.0|                =|   Homo sapiens|Cyclin-dependent ...|               7|  Direct protein co...|          null|[{P06493, Cyclin-...|PROTEIN COMPLEX|   P06493|      Kinase|             7.57|                7.57|   FALSE|      INHIBITOR|           CHEMBL308|      false|ENSG00000170312|[chembl]|             false|               true|false|         true|  false|\n",
      "|   CHEMBL1907602| CHEMBL428690|Small molecule|                      3.0|     false|{6, [ENSG00000170...|{26, [EFO_0001378...|  CHEMBL3856462|         B|       null|         7.57|         IC50|            nM|          27.0|                =|   Homo sapiens|Cyclin-dependent ...|               7|  Direct protein co...|          null|[{P06493, Cyclin-...|PROTEIN COMPLEX|   P06493|      Kinase|             7.57|                7.57|   FALSE|      INHIBITOR|           CHEMBL331|      false|ENSG00000170312|[chembl]|             false|               true|false|         true|  false|\n",
      "|       CHEMBL308|CHEMBL2103840|Small molecule|                      3.0|     false|{4, [ENSG00000170...|{9, [EFO_0006861,...|  CHEMBL3856515|         B|       null|         8.52|         IC50|            nM|           3.0|                =|   Homo sapiens|Cyclin-dependent ...|               9|  Direct single pro...|          null|[{P06493, Cyclin-...| SINGLE PROTEIN|   P06493|      Kinase|             8.52|                8.52|    TRUE|      INHIBITOR|          CHEMBL3116|       true|ENSG00000170312|[chembl]|             false|               true|false|         true|  false|\n",
      "|       CHEMBL308|CHEMBL2103840|Small molecule|                      3.0|     false|{4, [ENSG00000170...|{9, [EFO_0006861,...|  CHEMBL3856515|         B|       null|         8.52|         IC50|            nM|           3.0|                =|   Homo sapiens|Cyclin-dependent ...|               9|  Direct single pro...|          null|[{P06493, Cyclin-...| SINGLE PROTEIN|   P06493|      Kinase|             8.52|                8.52|    TRUE|      INHIBITOR|           CHEMBL308|       true|ENSG00000170312|[chembl]|             false|               true|false|         true|  false|\n",
      "|       CHEMBL308|CHEMBL2103840|Small molecule|                      3.0|     false|{4, [ENSG00000170...|{9, [EFO_0006861,...|  CHEMBL3856515|         B|       null|         8.52|         IC50|            nM|           3.0|                =|   Homo sapiens|Cyclin-dependent ...|               9|  Direct single pro...|          null|[{P06493, Cyclin-...| SINGLE PROTEIN|   P06493|      Kinase|             8.52|                8.52|    TRUE|      INHIBITOR|          CHEMBL4036|       true|ENSG00000170312|[chembl]|             false|               true|false|         true|  false|\n",
      "|       CHEMBL308|CHEMBL2103840|Small molecule|                      3.0|     false|{4, [ENSG00000170...|{9, [EFO_0006861,...|  CHEMBL3856515|         B|       null|         8.52|         IC50|            nM|           3.0|                =|   Homo sapiens|Cyclin-dependent ...|               9|  Direct single pro...|          null|[{P06493, Cyclin-...| SINGLE PROTEIN|   P06493|      Kinase|             8.52|                8.52|    TRUE|      INHIBITOR|           CHEMBL301|       true|ENSG00000170312|[chembl]|             false|               true|false|         true|  false|\n",
      "|       CHEMBL308|CHEMBL1944698|Small molecule|                      1.0|     false|{6, [ENSG00000136...|{5, [EFO_0000182,...|  CHEMBL3856510|         B|       null|         8.52|         IC50|            nM|           3.0|                =|   Homo sapiens|Cyclin-dependent ...|               9|  Direct single pro...|          null|[{P06493, Cyclin-...| SINGLE PROTEIN|   P06493|      Kinase|             8.52|                8.52|    TRUE|      INHIBITOR|          CHEMBL3116|       true|ENSG00000170312|[chembl]|             false|               true|false|         true|  false|\n",
      "|       CHEMBL308|CHEMBL1944698|Small molecule|                      1.0|     false|{6, [ENSG00000136...|{5, [EFO_0000182,...|  CHEMBL3856510|         B|       null|         8.52|         IC50|            nM|           3.0|                =|   Homo sapiens|Cyclin-dependent ...|               9|  Direct single pro...|          null|[{P06493, Cyclin-...| SINGLE PROTEIN|   P06493|      Kinase|             8.52|                8.52|    TRUE|      INHIBITOR|          CHEMBL2971|       true|ENSG00000170312|[chembl]|             false|               true|false|         true|  false|\n",
      "|       CHEMBL308|CHEMBL1944698|Small molecule|                      1.0|     false|{6, [ENSG00000136...|{5, [EFO_0000182,...|  CHEMBL3856510|         B|       null|         8.52|         IC50|            nM|           3.0|                =|   Homo sapiens|Cyclin-dependent ...|               9|  Direct single pro...|          null|[{P06493, Cyclin-...| SINGLE PROTEIN|   P06493|      Kinase|             8.52|                8.52|    TRUE|      INHIBITOR|          CHEMBL3055|       true|ENSG00000170312|[chembl]|             false|               true|false|         true|  false|\n",
      "|       CHEMBL308|CHEMBL1944698|Small molecule|                      1.0|     false|{6, [ENSG00000136...|{5, [EFO_0000182,...|  CHEMBL3856510|         B|       null|         8.52|         IC50|            nM|           3.0|                =|   Homo sapiens|Cyclin-dependent ...|               9|  Direct single pro...|          null|[{P06493, Cyclin-...| SINGLE PROTEIN|   P06493|      Kinase|             8.52|                8.52|    TRUE|      INHIBITOR|           CHEMBL301|       true|ENSG00000170312|[chembl]|             false|               true|false|         true|  false|\n",
      "|       CHEMBL308|CHEMBL1944698|Small molecule|                      1.0|     false|{6, [ENSG00000136...|{5, [EFO_0000182,...|  CHEMBL3856510|         B|       null|         8.52|         IC50|            nM|           3.0|                =|   Homo sapiens|Cyclin-dependent ...|               9|  Direct single pro...|          null|[{P06493, Cyclin-...| SINGLE PROTEIN|   P06493|      Kinase|             8.52|                8.52|    TRUE|      INHIBITOR|          CHEMBL1974|       true|ENSG00000170312|[chembl]|             false|               true|false|         true|  false|\n",
      "|       CHEMBL308|CHEMBL1944698|Small molecule|                      1.0|     false|{6, [ENSG00000136...|{5, [EFO_0000182,...|  CHEMBL3856510|         B|       null|         8.52|         IC50|            nM|           3.0|                =|   Homo sapiens|Cyclin-dependent ...|               9|  Direct single pro...|          null|[{P06493, Cyclin-...| SINGLE PROTEIN|   P06493|      Kinase|             8.52|                8.52|    TRUE|      INHIBITOR|           CHEMBL308|       true|ENSG00000170312|[chembl]|             false|               true|false|         true|  false|\n",
      "+----------------+-------------+--------------+-------------------------+----------+--------------------+--------------------+---------------+----------+-----------+-------------+-------------+--------------+--------------+-----------------+---------------+--------------------+----------------+----------------------+--------------+--------------------+---------------+---------+------------+-----------------+--------------------+--------+---------------+--------------------+-----------+---------------+--------+------------------+-------------------+-----+-------------+-------+\n",
      "only showing top 20 rows\n",
      "\n"
     ]
    },
    {
     "data": {
      "text/plain": [
       "9352"
      ]
     },
     "execution_count": 190,
     "metadata": {},
     "output_type": "execute_result"
    }
   ],
   "source": [
    "# Taking table target_organism_filter (after pchembl filter)\n",
    "\n",
    "target_evidence_bool.show()\n",
    "target_evidence_bool.count()"
   ]
  },
  {
   "cell_type": "code",
   "execution_count": null,
   "metadata": {},
   "outputs": [
    {
     "data": {
      "text/plain": [
       "2287"
      ]
     },
     "execution_count": 192,
     "metadata": {},
     "output_type": "execute_result"
    }
   ],
   "source": [
    "count_unique_values(target_evidence_bool, \"drugId\")"
   ]
  },
  {
   "cell_type": "code",
   "execution_count": null,
   "metadata": {},
   "outputs": [
    {
     "name": "stdout",
     "output_type": "stream",
     "text": [
      "+--------------------+-----+\n",
      "|     action_type_moa|count|\n",
      "+--------------------+-----+\n",
      "|  NEGATIVE MODULATOR|    1|\n",
      "|NEGATIVE ALLOSTER...|    4|\n",
      "|          ANTAGONIST|  166|\n",
      "|                null| 1442|\n",
      "|       BINDING AGENT|    1|\n",
      "|     PARTIAL AGONIST|    8|\n",
      "|           ACTIVATOR|    1|\n",
      "|             BLOCKER|   42|\n",
      "|    DISRUPTING AGENT|    4|\n",
      "|           INHIBITOR|  491|\n",
      "|           SUBSTRATE|    1|\n",
      "|POSITIVE ALLOSTER...|    8|\n",
      "|     CHELATING AGENT|    1|\n",
      "|  POSITIVE MODULATOR|    4|\n",
      "|             AGONIST|  117|\n",
      "|              OPENER|    5|\n",
      "|     INVERSE AGONIST|    4|\n",
      "|     RELEASING AGENT|    1|\n",
      "|           MODULATOR|    8|\n",
      "|      REDUCING AGENT|    1|\n",
      "+--------------------+-----+\n",
      "only showing top 20 rows\n",
      "\n"
     ]
    }
   ],
   "source": [
    "show_unique_values_and_counts(target_evidence_bool.drop_duplicates([\"drugId\", \"action_type_moa\"]), \"action_type_moa\")"
   ]
  },
  {
   "cell_type": "code",
   "execution_count": null,
   "metadata": {},
   "outputs": [
    {
     "name": "stdout",
     "output_type": "stream",
     "text": [
      "+--------------------+------+\n",
      "|         action_type| count|\n",
      "+--------------------+------+\n",
      "|                null|211437|\n",
      "|{INHIBITOR, Negat...|   124|\n",
      "|{SUBSTRATE, Carri...|    47|\n",
      "|{ANTAGONIST, Bind...|    41|\n",
      "|{INVERSE AGONIST,...|     2|\n",
      "|{AGONIST, Binds t...|     4|\n",
      "|{ACTIVATOR, Posit...|     1|\n",
      "+--------------------+------+\n",
      "\n"
     ]
    }
   ],
   "source": [
    "show_unique_values_and_counts(drug_to_moa, \"action_type\")"
   ]
  },
  {
   "cell_type": "markdown",
   "metadata": {},
   "source": [
    "### Drug-Target pairs"
   ]
  },
  {
   "cell_type": "code",
   "execution_count": null,
   "metadata": {},
   "outputs": [],
   "source": [
    "# With non pharmacological action\n"
   ]
  },
  {
   "cell_type": "markdown",
   "metadata": {},
   "source": []
  }
 ],
 "metadata": {
  "kernelspec": {
   "display_name": "base",
   "language": "python",
   "name": "python3"
  },
  "language_info": {
   "codemirror_mode": {
    "name": "ipython",
    "version": 3
   },
   "file_extension": ".py",
   "mimetype": "text/x-python",
   "name": "python",
   "nbconvert_exporter": "python",
   "pygments_lexer": "ipython3",
   "version": "3.0.0"
  },
  "orig_nbformat": 4
 },
 "nbformat": 4,
 "nbformat_minor": 2
}
