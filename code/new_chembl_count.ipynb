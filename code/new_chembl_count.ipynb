{
 "cells": [
  {
   "cell_type": "code",
   "execution_count": 27,
   "metadata": {},
   "outputs": [],
   "source": [
    "from pyspark.sql import SparkSession\n",
    "import pyspark.sql.functions as f\n",
    "from pyspark.sql import DataFrame\n",
    "from pyspark.sql.functions import col\n",
    "from pyspark.sql.functions import udf\n",
    "from pyspark.sql.types import StringType\n",
    "from pyspark.sql import Row\n",
    "from pyspark.sql.functions import col, max, expr\n",
    "from pyspark.sql.functions import when"
   ]
  },
  {
   "cell_type": "code",
   "execution_count": 2,
   "metadata": {},
   "outputs": [
    {
     "name": "stderr",
     "output_type": "stream",
     "text": [
      "Setting default log level to \"WARN\".\n",
      "To adjust logging level use sc.setLogLevel(newLevel). For SparkR, use setLogLevel(newLevel).\n",
      "23/12/12 16:11:12 INFO SparkEnv: Registering MapOutputTracker\n",
      "23/12/12 16:11:12 INFO SparkEnv: Registering BlockManagerMaster\n",
      "23/12/12 16:11:12 INFO SparkEnv: Registering BlockManagerMasterHeartbeat\n",
      "23/12/12 16:11:12 INFO SparkEnv: Registering OutputCommitCoordinator\n"
     ]
    }
   ],
   "source": [
    "spark = SparkSession.builder.getOrCreate()"
   ]
  },
  {
   "cell_type": "markdown",
   "metadata": {},
   "source": [
    "# Data parsing"
   ]
  },
  {
   "cell_type": "code",
   "execution_count": 3,
   "metadata": {},
   "outputs": [],
   "source": [
    "def join_dataframes(initial_df: DataFrame, \n",
    "                    second_df: DataFrame, \n",
    "                    initial_key_column: str, \n",
    "                    second_key_column: str,\n",
    "                    columns_to_join: list) -> DataFrame:\n",
    "    \"\"\"\n",
    "    Joins two PySpark DataFrames on specified key columns.\n",
    "\n",
    "    Args:\n",
    "    initial_df (DataFrame): The initial PySpark DataFrame.\n",
    "    second_df (DataFrame): The second PySpark DataFrame to join with.\n",
    "    initial_key_column (str): The key column name in the initial DataFrame.\n",
    "    second_key_column (str): The key column name in the second DataFrame.\n",
    "    columns_to_join (list): List of column names from the second DataFrame to include in the join.\n",
    "\n",
    "    Returns:\n",
    "    DataFrame: The resulting DataFrame after the join.\n",
    "    \"\"\"\n",
    "\n",
    "    # Selecting specified columns from the second DataFrame, including its key column\n",
    "    second_df_selected = second_df.select([second_key_column] + columns_to_join)\n",
    "\n",
    "    # Performing the left join\n",
    "    joined_df = initial_df.join(second_df_selected, \n",
    "                                initial_df[initial_key_column] == second_df_selected[second_key_column], \n",
    "                                how='left')\n",
    "\n",
    "    # Drop the second key column if not needed\n",
    "    joined_df = joined_df.drop(second_df_selected[second_key_column])\n",
    "\n",
    "    return joined_df\n"
   ]
  },
  {
   "cell_type": "code",
   "execution_count": 4,
   "metadata": {},
   "outputs": [],
   "source": [
    "def count_unique_values(df: DataFrame, column_name: str) -> int:\n",
    "    \"\"\"\n",
    "    Count unique values in a specific column of a PySpark DataFrame.\n",
    "\n",
    "    Args:\n",
    "    df (DataFrame): The PySpark DataFrame.\n",
    "    column_name (str): The name of the column to analyze.\n",
    "\n",
    "    Returns:\n",
    "    int: The number of unique values in the column.\n",
    "    \"\"\"\n",
    "    # Get distinct values in the column and count them\n",
    "    unique_count = df.select(column_name).distinct().count()\n",
    "\n",
    "    return unique_count\n",
    "\n",
    "# Example usage\n",
    "# unique_count = count_unique_values(your_dataframe, 'your_column_name')\n",
    "# print(f\"Number of unique values: {unique_count}\")\n"
   ]
  },
  {
   "cell_type": "code",
   "execution_count": 5,
   "metadata": {},
   "outputs": [],
   "source": [
    "def show_unique_values_and_counts(df: DataFrame, column_name: str):\n",
    "    \"\"\"\n",
    "    Shows unique values and their counts for a specified column in a Spark DataFrame.\n",
    "\n",
    "    Parameters:\n",
    "    df (DataFrame): The Spark DataFrame to analyze.\n",
    "    column_name (str): The name of the column for which to count unique values.\n",
    "    \"\"\"\n",
    "    if column_name not in df.columns:\n",
    "        raise ValueError(f\"Column {column_name} not found in DataFrame\")\n",
    "\n",
    "    unique_values_counts = df.groupBy(column_name).count()\n",
    "    unique_values_counts.show()\n"
   ]
  },
  {
   "cell_type": "code",
   "execution_count": 6,
   "metadata": {},
   "outputs": [
    {
     "name": "stderr",
     "output_type": "stream",
     "text": [
      "[Stage 0:>                                                          (0 + 1) / 1]\r"
     ]
    },
    {
     "name": "stdout",
     "output_type": "stream",
     "text": [
      "+-------------+\n",
      "|       drugId|\n",
      "+-------------+\n",
      "|CHEMBL1200632|\n",
      "|   CHEMBL1231|\n",
      "|CHEMBL1233511|\n",
      "|   CHEMBL1637|\n",
      "|CHEMBL1743017|\n",
      "| CHEMBL185885|\n",
      "|CHEMBL1949708|\n",
      "|CHEMBL2105675|\n",
      "|CHEMBL2107826|\n",
      "|CHEMBL2109673|\n",
      "|CHEMBL2346976|\n",
      "| CHEMBL279115|\n",
      "|CHEMBL3181832|\n",
      "|CHEMBL3545096|\n",
      "|CHEMBL3545103|\n",
      "|CHEMBL3545145|\n",
      "|CHEMBL3545312|\n",
      "| CHEMBL363648|\n",
      "|CHEMBL3707249|\n",
      "|CHEMBL3989766|\n",
      "+-------------+\n",
      "only showing top 20 rows\n",
      "\n"
     ]
    },
    {
     "name": "stderr",
     "output_type": "stream",
     "text": [
      "                                                                                \r"
     ]
    }
   ],
   "source": [
    "# Take list of unique drugs (obtained from target with evidence in Platform or chemProbes)\n",
    "import pandas as pd\n",
    "\n",
    "unique_drugs_pd_df = pd.read_csv(\"../data/drug_to_target_unique_drugs.csv\")\n",
    "drug_list = spark.createDataFrame(unique_drugs_pd_df)\n",
    "# drug_list = spark.read.csv(drug_list_dir, header=True, inferSchema=True)\n",
    "drug_list.show()"
   ]
  },
  {
   "cell_type": "code",
   "execution_count": 7,
   "metadata": {},
   "outputs": [
    {
     "name": "stderr",
     "output_type": "stream",
     "text": [
      "[Stage 1:=============================>                            (8 + 8) / 16]\r"
     ]
    },
    {
     "name": "stdout",
     "output_type": "stream",
     "text": [
      "Number of initial drugs:  12835\n"
     ]
    },
    {
     "name": "stderr",
     "output_type": "stream",
     "text": [
      "                                                                                \r"
     ]
    }
   ],
   "source": [
    "in_drugs = count_unique_values(drug_list, \"drugId\")\n",
    "print(\"Number of initial drugs: \", in_drugs)"
   ]
  },
  {
   "cell_type": "markdown",
   "metadata": {},
   "source": [
    "### For each drug find a max phase of clinical trial"
   ]
  },
  {
   "cell_type": "code",
   "execution_count": 10,
   "metadata": {},
   "outputs": [
    {
     "name": "stderr",
     "output_type": "stream",
     "text": [
      "23/12/12 16:13:54 WARN CacheManager: Asked to cache already cached data.        \n",
      "23/12/12 16:13:54 WARN CacheManager: Asked to cache already cached data.\n"
     ]
    },
    {
     "name": "stdout",
     "output_type": "stream",
     "text": [
      "Number of drugs by approval status: \n",
      "+----------+-----+\n",
      "|isApproved|count|\n",
      "+----------+-----+\n",
      "|      null| 4085|\n",
      "|      true| 3340|\n",
      "|     false| 5410|\n",
      "+----------+-----+\n",
      "\n"
     ]
    }
   ],
   "source": [
    "molecule_path = \"gs://open-targets-data-releases/23.12/output/etl/json/molecule\"\n",
    "molecule = spark.read.json(molecule_path)\n",
    "molecule.persist()\n",
    "\n",
    "# List of columns from molecule table\n",
    "list_molecule = [\"drugType\", \n",
    "                \"maximumClinicalTrialPhase\", \n",
    "                \"isApproved\", \n",
    "                \"linkedTargets\", \n",
    "                \"linkedDiseases\"]\n",
    "                 \n",
    "# Join list of drugs and max_phase from molecule table\n",
    "drug_list_phase = join_dataframes(drug_list, molecule, \"drugId\", \"id\", list_molecule).persist()\n",
    "\n",
    "# Show number of drugs by approval status\n",
    "print(\"Number of drugs by approval status: \")\n",
    "show_unique_values_and_counts(drug_list_phase, \"isApproved\")"
   ]
  },
  {
   "cell_type": "markdown",
   "metadata": {},
   "source": [
    "### For each unique drug find bioactivity data from chembl_33_activity"
   ]
  },
  {
   "cell_type": "code",
   "execution_count": 11,
   "metadata": {},
   "outputs": [
    {
     "name": "stderr",
     "output_type": "stream",
     "text": [
      "                                                                                \r"
     ]
    },
    {
     "name": "stdout",
     "output_type": "stream",
     "text": [
      "Number of unique drugs from targets dataset:  12835\n",
      "Number of unique drugs with any bioactivities:  6215\n",
      "Number of unique targets with any drug bioactivities:  4848\n"
     ]
    }
   ],
   "source": [
    "activity_path = \"gs://open-targets-pre-data-releases/chembl-columns/chembl-inputs/chembl_33_activity.jsonl\"\n",
    "activity = spark.read.json(activity_path)\n",
    "activity.persist()\n",
    "\n",
    "# List of columns from activity table\n",
    "list_activity = [\"assay_chembl_id\",\n",
    "                \"assay_type\",\n",
    "                \"action_type\",\n",
    "                \"pchembl_value\",\n",
    "                \"standard_type\",\n",
    "                \"standard_units\",\n",
    "                \"standard_value\",\n",
    "                \"standard_relation\",\n",
    "                \"target_organism\",\n",
    "                \"target_pref_name\",\n",
    "                \"target_chembl_id\",\n",
    "                \"data_validity_comment\",\n",
    "                \"data_validity_description\"]\n",
    "                # \"standard_flag\",\n",
    "                # \"ligand_efficiency\",\n",
    "                # \"assay_variant_mutation\"\n",
    "                # \"assay_variant_accession\"\n",
    "\n",
    "# Join list of drugs and chembl_33_activity\n",
    "drug_to_activity = join_dataframes(drug_list_phase, activity, \"drugId\", \"molecule_chembl_id\", list_activity)\\\n",
    "                                    .filter(col(\"assay_chembl_id\").isNotNull()).persist()\n",
    "\n",
    "# Calculate for how many drugs and targets we have bioactivities\n",
    "drug_list_count = count_unique_values(drug_list, 'drugId')\n",
    "drug_to_activity_count = count_unique_values(drug_to_activity, 'drugId')\n",
    "drug_to_activity_count_targets = count_unique_values(drug_to_activity, 'target_chembl_id')\n",
    "\n",
    "print(\"Number of unique drugs from targets dataset: \", drug_list_count)\n",
    "print(\"Number of unique drugs with any bioactivities: \", drug_to_activity_count)\n",
    "print(\"Number of unique targets with any drug bioactivities: \", drug_to_activity_count_targets)"
   ]
  },
  {
   "cell_type": "markdown",
   "metadata": {},
   "source": [
    "### For each bioactivity assay find parameters from chembl_33_assay"
   ]
  },
  {
   "cell_type": "code",
   "execution_count": 13,
   "metadata": {},
   "outputs": [
    {
     "name": "stderr",
     "output_type": "stream",
     "text": [
      "                                                                                \r"
     ]
    }
   ],
   "source": [
    "assay_path = \"gs://open-targets-pre-data-releases/chembl-columns/chembl-inputs/chembl_33_assay.jsonl\"\n",
    "assay = spark.read.json(assay_path)\n",
    "assay.persist()\n",
    "\n",
    "# List of columns from assay table\n",
    "list_assay = [\"confidence_score\",\n",
    "            \"confidence_description\",\n",
    "            \"assay_category\"]\n",
    "\n",
    "drug_to_assay = join_dataframes(drug_to_activity, assay, \"assay_chembl_id\", \"assay_chembl_id\", list_assay).persist()"
   ]
  },
  {
   "cell_type": "markdown",
   "metadata": {},
   "source": [
    "## Assay filters"
   ]
  },
  {
   "cell_type": "code",
   "execution_count": 14,
   "metadata": {},
   "outputs": [
    {
     "name": "stderr",
     "output_type": "stream",
     "text": [
      "                                                                                \r"
     ]
    },
    {
     "name": "stdout",
     "output_type": "stream",
     "text": [
      "Unique drugs with bioactivities for non P and U assays: 6174\n",
      "Unique targets with bioactivities for non P and U assays: 4848\n"
     ]
    },
    {
     "name": "stderr",
     "output_type": "stream",
     "text": [
      "                                                                                \r"
     ]
    },
    {
     "name": "stdout",
     "output_type": "stream",
     "text": [
      "Unique drugs with bioactivities for single/homolog proteins: 3663\n",
      "Unique targets with bioactivities for single/homolog proteins: 2136\n"
     ]
    },
    {
     "name": "stderr",
     "output_type": "stream",
     "text": [
      "                                                                                \r"
     ]
    },
    {
     "name": "stdout",
     "output_type": "stream",
     "text": [
      "Unique drug-target pairs with bioactivities for human targets: 18860\n",
      "Unique drugs with bioactivities for human targets: 3373\n",
      "Unique targets with bioactivities for human targets: 1369\n"
     ]
    }
   ],
   "source": [
    "# assay_type\n",
    "assay_type_filter = drug_to_assay.filter(\n",
    "    (col(\"assay_type\") != \"P\") &\n",
    "    (col(\"assay_type\") != \"U\"))\n",
    "assay_type_d = count_unique_values(assay_type_filter, \"drugId\")\n",
    "assay_type_t = count_unique_values(assay_type_filter, \"target_chembl_id\")\n",
    "\n",
    "print(\"Unique drugs with bioactivities for non P and U assays:\", assay_type_d)\n",
    "print(\"Unique targets with bioactivities for non P and U assays:\", assay_type_t)\n",
    "\n",
    "# confidence_score\n",
    "confidence_score_filter = assay_type_filter.filter(col(\"confidence_score\").isin([9, 7]))\n",
    "confidence_score_d = count_unique_values(confidence_score_filter, \"drugId\")\n",
    "confidence_score_t = count_unique_values(confidence_score_filter, \"target_chembl_id\")\n",
    "\n",
    "print(\"Unique drugs with bioactivities for single/homolog proteins:\", confidence_score_d)\n",
    "print(\"Unique targets with bioactivities for single/homolog proteins:\", confidence_score_t)\n",
    "\n",
    "# target_organism\n",
    "target_organism_filter = confidence_score_filter.filter(col(\"target_organism\") == \"Homo sapiens\")\n",
    "target_organism_d = count_unique_values(target_organism_filter, \"drugId\")\n",
    "target_organism_t = count_unique_values(target_organism_filter, \"target_chembl_id\")\n",
    "drug_target_organism_t = target_organism_filter.count()\n",
    "\n",
    "print(\"Unique drug-target pairs with bioactivities for human targets:\", drug_target_organism_t)\n",
    "\n",
    "print(\"Unique drugs with bioactivities for human targets:\", target_organism_d)\n",
    "print(\"Unique targets with bioactivities for human targets:\", target_organism_t)"
   ]
  },
  {
   "cell_type": "markdown",
   "metadata": {},
   "source": [
    "### Protein classification by uniprot from SwissProt"
   ]
  },
  {
   "cell_type": "code",
   "execution_count": 17,
   "metadata": {},
   "outputs": [
    {
     "name": "stderr",
     "output_type": "stream",
     "text": [
      "23/12/12 16:24:54 WARN CacheManager: Asked to cache already cached data.        \n",
      "23/12/12 16:24:55 WARN CacheManager: Asked to cache already cached data.\n"
     ]
    }
   ],
   "source": [
    "# Map target_chembl_id to uniprots via accession\n",
    "\n",
    "target_path = \"gs://open-targets-pre-data-releases/chembl-columns/chembl-inputs/chembl_33_target.jsonl\"\n",
    "target = spark.read.json(target_path)\n",
    "target.persist()\n",
    "\n",
    "list_target = [\"target_components\",\n",
    "            \"target_type\"]\n",
    "\n",
    "target_to_uniprot = join_dataframes(target_organism_filter, target, \"target_chembl_id\", \"target_chembl_id\", list_target).persist()\n",
    "\n",
    "# Explode target_components\n",
    "# Define a UDF to extract the 'accession' field\n",
    "def extract_accession(rows):\n",
    "    # Assuming you want to extract the 'accession' from the first Row object in the list\n",
    "    return rows[0].accession if rows else None\n",
    "\n",
    "# Register UDF\n",
    "extract_accession_udf = udf(extract_accession, StringType())\n",
    "\n",
    "# Apply UDF to create a new column with the 'accession' values\n",
    "target_to_uniprot_extr = target_to_uniprot.withColumn(\"accession\", extract_accession_udf(target_to_uniprot[\"target_components\"]))"
   ]
  },
  {
   "cell_type": "code",
   "execution_count": 50,
   "metadata": {},
   "outputs": [
    {
     "name": "stdout",
     "output_type": "stream",
     "text": [
      "+---------+------------+--------------+--------------------+-----------------------+-------------------------+\n",
      "|accession|component_id|component_type|         description|protein_classifications|target_component_synonyms|\n",
      "+---------+------------+--------------+--------------------+-----------------------+-------------------------+\n",
      "|   P17047|       19427|       PROTEIN|Lysosome-associat...|                [{601}]|     [{CD107 antigen-l...|\n",
      "|   Q05940|         207|       PROTEIN|Synaptic vesicula...|                [{706}]|     [{Monoamine trans...|\n",
      "|   J7IFZ2|       17409|       PROTEIN|Dihydrofolate red...|                 [{10}]|     [{1.5.1.3, EC_NUM...|\n",
      "|   Q9TU34|         848|       PROTEIN|Inositol 1,4,5-tr...|               [{1014}]|     [{Inositol 1,4,5-...|\n",
      "|   Q12852|        5557|       PROTEIN|Mitogen-activated...|               [{1331}]|     [{2.7.11.25, EC_N...|\n",
      "|   G3V673|       17415|       PROTEIN|A disintegrin-lik...|                  [{1}]|     [{ADAM metallopep...|\n",
      "|   A5K1N1|       17417|       PROTEIN|Dihydroorotate de...|                  [{1}]|     [{1.3.5.2, EC_NUM...|\n",
      "|   Q92206|         211|       PROTEIN|Squalene epoxidas...|                 [{10}]|     [{1.14.14.17, EC_...|\n",
      "|   Q9NRH2|        5559|       PROTEIN|SNF-related serin...|               [{1339}]|     [{2.7.11.1, EC_NU...|\n",
      "|   P07550|         213|       PROTEIN|Beta-2 adrenergic...|                [{544}]|     [{ADRB2, GENE_SYM...|\n",
      "|   P36956|       19433|       PROTEIN|Sterol regulatory...|                [{601}]|     [{bHLHd1, UNIPROT...|\n",
      "|   G3HIE5|       17424|       PROTEIN|Prokineticin rece...|                [{609}]|     [{Prokineticin re...|\n",
      "|   P41227|       19434|       PROTEIN|N-alpha-acetyltra...|                [{643}]|     [{2.3.1.255, EC_N...|\n",
      "|   P9WG57|        5562|       PROTEIN|Flavin-dependent ...|                  [{1}]|     [{2.1.1.148, EC_N...|\n",
      "|   G3H9J3|       17426|       PROTEIN|Cystic fibrosis t...|               [{1146}]|     [{5.6.1.6, EC_NUM...|\n",
      "|   Q99L45|       19908|       PROTEIN|Eukaryotic transl...|                [{601}]|     [{eIF-2-beta, UNI...|\n",
      "|   P08587|       17428|       PROTEIN|Protein-glutamine...|                [{496}]|     [{2.3.1.-, EC_NUM...|\n",
      "|   Q96X16|       17429|       PROTEIN|       Amine oxidase|                  [{1}]|     [{1.4.3.-, EC_NUM...|\n",
      "|   D3W065|        5565|       PROTEIN|CviR transcriptio...|                [{601}]|     [{cviR, GENE_SYMB...|\n",
      "|   Q9AH50|       17431|       PROTEIN|Biliverdin-produc...|                  [{1}]|     [{Biliverdin-prod...|\n",
      "+---------+------------+--------------+--------------------+-----------------------+-------------------------+\n",
      "only showing top 20 rows\n",
      "\n"
     ]
    }
   ],
   "source": [
    "# # What does protein_classifications mean?\n",
    "\n",
    "# target_component_path = \"gs://open-targets-pre-data-releases/chembl-columns/chembl-inputs/chembl_33_target_component.jsonl\"\n",
    "# target_component = spark.read.json(target_component_path)\n",
    "# target_component.persist()\n",
    "# target_component.show()"
   ]
  },
  {
   "cell_type": "code",
   "execution_count": 18,
   "metadata": {},
   "outputs": [
    {
     "name": "stderr",
     "output_type": "stream",
     "text": [
      "23/12/12 16:27:34 WARN package: Truncated the string representation of a plan since it was too large. This behavior can be adjusted by setting 'spark.sql.debug.maxToStringFields'.\n"
     ]
    }
   ],
   "source": [
    "proteinclass_path = pd.read_csv(\"../data/uniprot2family.csv\")\n",
    "proteinclass_str = proteinclass_path.astype(str).drop_duplicates()\n",
    "proteinclass = spark.createDataFrame(proteinclass_str)\n",
    "\n",
    "proteinclass_list = [\"proteinClass\"]\n",
    "\n",
    "uniprot_to_class = join_dataframes(target_to_uniprot_extr, proteinclass, \"accession\", \"accession\", proteinclass_list).persist()"
   ]
  },
  {
   "cell_type": "code",
   "execution_count": 19,
   "metadata": {},
   "outputs": [
    {
     "name": "stderr",
     "output_type": "stream",
     "text": [
      "[Stage 131:=========================================>          (158 + 17) / 200]\r"
     ]
    },
    {
     "name": "stdout",
     "output_type": "stream",
     "text": [
      "+--------------+-----+\n",
      "|  proteinClass|count|\n",
      "+--------------+-----+\n",
      "|            IC|  359|\n",
      "|        Enzyme| 5476|\n",
      "|        Kinase| 7317|\n",
      "|    Epigenetic|  769|\n",
      "|          None| 1664|\n",
      "|          GPCR| 1789|\n",
      "|   Transporter|  583|\n",
      "|            NR|  660|\n",
      "|            TF|  209|\n",
      "|          null|    5|\n",
      "|TF; Epigenetic|   29|\n",
      "+--------------+-----+\n",
      "\n"
     ]
    },
    {
     "name": "stderr",
     "output_type": "stream",
     "text": [
      "                                                                                \r"
     ]
    }
   ],
   "source": [
    "show_unique_values_and_counts(uniprot_to_class, 'proteinClass')"
   ]
  },
  {
   "cell_type": "code",
   "execution_count": 33,
   "metadata": {},
   "outputs": [],
   "source": [
    "# uniprot_to_class.write.parquet(\"data/analysis/v2/uniprot_to_class_temp_v1\")"
   ]
  },
  {
   "cell_type": "markdown",
   "metadata": {},
   "source": [
    "# Data processing"
   ]
  },
  {
   "cell_type": "markdown",
   "metadata": {},
   "source": [
    "## Activity threshold"
   ]
  },
  {
   "cell_type": "markdown",
   "metadata": {},
   "source": [
    "### based on pchembl_value and proteinClass"
   ]
  },
  {
   "cell_type": "code",
   "execution_count": 42,
   "metadata": {},
   "outputs": [
    {
     "name": "stdout",
     "output_type": "stream",
     "text": [
      "Number of drug-target pairs: 18860\n",
      "Number of drug-target pairs with pchembl_value: 6250\n"
     ]
    }
   ],
   "source": [
    "# Check how many assays have pchembl_value\n",
    "pchembl_value_only = uniprot_to_class.filter(uniprot_to_class[\"pchembl_value\"].isNotNull())\n",
    "pchembl_value_only_n = pchembl_value_only.count()\n",
    "d_t_n = uniprot_to_class.count()\n",
    "\n",
    "print(\"Number of drug-target pairs:\", d_t_n)\n",
    "print(\"Number of drug-target pairs with pchembl_value:\", pchembl_value_only_n)"
   ]
  },
  {
   "cell_type": "code",
   "execution_count": 43,
   "metadata": {},
   "outputs": [],
   "source": [
    "# Where pchembl_value is available for each T-D pairs make new columns:\n",
    "#     1. max_pchembl_value\n",
    "#     2. median_pchembl_value\n",
    "\n",
    "# Group by 'target_chembl_id' and 'drugId' and calculate max and median of 'pchembl_value'\n",
    "pchembl_value_aggr = pchembl_value_only.groupBy(\"target_chembl_id\", \"drugId\")\\\n",
    "                  .agg(max(\"pchembl_value\").alias(\"max_pchembl_value\"),\n",
    "                       expr(\"percentile_approx(pchembl_value, 0.5)\").alias(\"median_pchembl_value\"))\n",
    "\n",
    "pchembl_value_max_med = pchembl_value_only.join(pchembl_value_aggr, [\"target_chembl_id\", \"drugId\"])\\\n",
    "                    .filter(pchembl_value_aggr[\"max_pchembl_value\"].isNotNull())\n",
    "\n",
    "# Custom activity cutoff for max_pchembl_value\n",
    "drug_active_pchembl_value = pchembl_value_max_med.withColumn(\n",
    "    \"isActive\",\n",
    "    when(\n",
    "        ((col(\"proteinClass\") == \"Kinase\") & (col(\"max_pchembl_value\") >= 7.7)) |\n",
    "        ((col(\"proteinClass\") == \"GPCR\") & (col(\"max_pchembl_value\") >= 6.5)) |\n",
    "        ((col(\"proteinClass\") == \"NR\") & (col(\"max_pchembl_value\") >= 6.1)) |\n",
    "        ((col(\"proteinClass\") == \"Transporter\") & (col(\"max_pchembl_value\") >= 6.1)) |\n",
    "        ((col(\"proteinClass\") == \"Enzyme\") & (col(\"max_pchembl_value\") >= 5.2)) |\n",
    "        ((col(\"proteinClass\") == \"IC\") & (col(\"max_pchembl_value\") >= 4.6)) |\n",
    "        ((col(\"proteinClass\") == \"Other\") & (col(\"max_pchembl_value\") >= 6.3)) |\n",
    "        (~(col(\"proteinClass\").isin([\"Kinase\", \"GPCR\", \"NR\", \"Transporter\", \"Enzyme\", \"IC\", \"Other\"])) & (col(\"max_pchembl_value\") >= 5)),\n",
    "        \"TRUE\"\n",
    "    ).otherwise(\"FALSE\")\n",
    ")"
   ]
  },
  {
   "cell_type": "code",
   "execution_count": 30,
   "metadata": {},
   "outputs": [
    {
     "name": "stdout",
     "output_type": "stream",
     "text": [
      "Number of unique drugs with bioactivity data by approval status:\n"
     ]
    },
    {
     "name": "stderr",
     "output_type": "stream",
     "text": [
      "[Stage 174:==============================================>      (177 + 8) / 200]\r"
     ]
    },
    {
     "name": "stdout",
     "output_type": "stream",
     "text": [
      "+----------+-----+\n",
      "|isApproved|count|\n",
      "+----------+-----+\n",
      "|      null| 1160|\n",
      "|      true| 1318|\n",
      "|     false|  895|\n",
      "+----------+-----+\n",
      "\n"
     ]
    },
    {
     "name": "stderr",
     "output_type": "stream",
     "text": [
      "                                                                                \r"
     ]
    }
   ],
   "source": [
    "print(\"Number of unique drugs with bioactivity data by approval status:\")\n",
    "show_unique_values_and_counts(target_organism_filter.drop_duplicates([\"drugId\", \"isApproved\"]), \"isApproved\")"
   ]
  },
  {
   "cell_type": "code",
   "execution_count": 44,
   "metadata": {},
   "outputs": [
    {
     "name": "stdout",
     "output_type": "stream",
     "text": [
      "Number of unique ACTIVE drugs with bioactivity data by approval status:\n",
      "+----------+-----+\n",
      "|isApproved|count|\n",
      "+----------+-----+\n",
      "|      null|  597|\n",
      "|      true|  439|\n",
      "|     false|  339|\n",
      "+----------+-----+\n",
      "\n"
     ]
    }
   ],
   "source": [
    "print(\"Number of unique ACTIVE drugs with bioactivity data by approval status:\")\n",
    "show_unique_values_and_counts(drug_active_pchembl_value\\\n",
    "                              .drop_duplicates([\"drugId\", \"isApproved\"])\\\n",
    "                              .filter(col(\"isActive\") == True), \"isApproved\")"
   ]
  },
  {
   "cell_type": "markdown",
   "metadata": {},
   "source": [
    "### no pchembl_value data"
   ]
  },
  {
   "cell_type": "code",
   "execution_count": null,
   "metadata": {},
   "outputs": [],
   "source": [
    "# !!! Need to exclude rows for which pchembl was found !!!"
   ]
  },
  {
   "cell_type": "code",
   "execution_count": 45,
   "metadata": {},
   "outputs": [
    {
     "name": "stdout",
     "output_type": "stream",
     "text": [
      "+--------------+-----+\n",
      "|standard_units|count|\n",
      "+--------------+-----+\n",
      "|          null| 2740|\n",
      "|     pm/min/mg|  150|\n",
      "|     degrees C|  139|\n",
      "|             %| 3123|\n",
      "|            nM| 6139|\n",
      "|          /min|    8|\n",
      "|         /uM/s|    5|\n",
      "|   nmol/min/mg|    7|\n",
      "|  mL.min-1.g-1|   16|\n",
      "|            uM|   78|\n",
      "|         10'8M|    1|\n",
      "|            mM|    7|\n",
      "|     10'-3/min|    1|\n",
      "|      10'6/M/s|    1|\n",
      "|      nmol/min|    8|\n",
      "|            /s|    6|\n",
      "|          pmol|    3|\n",
      "|     /s/microM|    1|\n",
      "|       ug ml-1|    2|\n",
      "|       ug.mL-1|    4|\n",
      "+--------------+-----+\n",
      "only showing top 20 rows\n",
      "\n"
     ]
    }
   ],
   "source": [
    "# Where pchembl_value is not available for each T-D pairs make new columns:\n",
    "#     1. Calculate how much data is this\n",
    "#     2. Think about what to do with different standard_units\n",
    "#     3. Ideally:\n",
    "#         1. max_standard_value_n\n",
    "#         2. median_standard_value_n\n",
    "#         3. Cutoff for every n\n",
    "\n",
    "no_pchembl_value = uniprot_to_class.filter(col(\"pchembl_value\").isNull())\n",
    "show_unique_values_and_counts(no_pchembl_value, \"standard_units\")"
   ]
  },
  {
   "cell_type": "code",
   "execution_count": null,
   "metadata": {},
   "outputs": [],
   "source": [
    "# Make column with activity of molecule: drugActive = TRUE/FALSE\n",
    "#     1. based protein type and:\n",
    "#         1. max_pchembl_value\n",
    "#         2. median_pchembl_value\n",
    "#     2. based on cutoffs for other experiment types"
   ]
  },
  {
   "cell_type": "markdown",
   "metadata": {},
   "source": [
    "### Drug-target pairs: Target is in MoA of a drug (targetInMoA, boolean)"
   ]
  },
  {
   "cell_type": "code",
   "execution_count": 34,
   "metadata": {},
   "outputs": [],
   "source": [
    "# # Targets dataset to map accession to Ensembl\n",
    "# target_path = \"gs://open-targets-data-releases/23.12/output/etl/json/targets\"\n",
    "# target = spark.read.json(target_path)\n",
    "# target.persist()\n",
    "# target.show()\n"
   ]
  },
  {
   "cell_type": "code",
   "execution_count": 152,
   "metadata": {},
   "outputs": [
    {
     "name": "stdout",
     "output_type": "stream",
     "text": [
      "+--------------------+------------------+--------------------+--------------------+------------------+-------------------------+---------+----------------+\n",
      "|           _metadata|       action_type| mechanism_of_action|      mechanism_refs|molecule_chembl_id|parent_molecule_chembl_id|record_id|target_chembl_id|\n",
      "+--------------------+------------------+--------------------+--------------------+------------------+-------------------------+---------+----------------+\n",
      "|{[CHEMBL2103825],...|         INHIBITOR|Pancreatic lipase...|[{16953261, PubMe...|     CHEMBL2103825|            CHEMBL2103825|  1699800|      CHEMBL1812|\n",
      "|{[CHEMBL1200495, ...|           AGONIST|Glucocorticoid re...|[{setid=6d9bf1b0-...|     CHEMBL1200495|                CHEMBL977|  1344612|      CHEMBL2034|\n",
      "|{[CHEMBL3544919],...|SEQUESTERING AGENT|Heparin sequester...|[{26937198, PubMe...|     CHEMBL3544919|            CHEMBL3544919|  2473107|   CHEMBL2364712|\n",
      "|{[CHEMBL3989993],...|         INHIBITOR|microRNA-155 inhi...|[{NCT03713320, Cl...|     CHEMBL3989993|            CHEMBL3989993|  2973351|   CHEMBL4630577|\n",
      "|{[CHEMBL1460], CH...|         INHIBITOR|Human immunodefic...|[{setid=22e2ca82-...|        CHEMBL1460|               CHEMBL1460|  1343993|       CHEMBL247|\n",
      "|{[CHEMBL444172], ...|         INHIBITOR|P-glycoprotein 1 ...|[{18271955, PubMe...|      CHEMBL444172|             CHEMBL444172|  3129871|      CHEMBL4302|\n",
      "|{[CHEMBL1873475],...|         INHIBITOR|Tyrosine-protein ...|[{label/2013/2055...|     CHEMBL1873475|            CHEMBL1873475|  1702685|      CHEMBL5251|\n",
      "|{[CHEMBL4650215],...|         INHIBITOR|PI3-kinase p110-a...|[{https://cancerr...|     CHEMBL4650215|            CHEMBL4650215|  3133380|      CHEMBL4005|\n",
      "|{[CHEMBL87992], C...|           BLOCKER|Sodium channel al...|[{label/2013/0224...|       CHEMBL87992|              CHEMBL87992|  1702492|   CHEMBL2331043|\n",
      "|{[CHEMBL2105689],...|         INHIBITOR|Cytochrome P450 5...|[{label/2013/2041...|     CHEMBL2105689|            CHEMBL2105689|  1702581|      CHEMBL1780|\n",
      "|{[CHEMBL523299, C...|        ANTAGONIST|Muscarinic acetyl...|[{label/2013/2039...|      CHEMBL523299|            CHEMBL1187833|  1702662|       CHEMBL245|\n",
      "|{[CHEMBL1200865],...|           AGONIST|Glucocorticoid re...|[{12861354, PubMe...|     CHEMBL1200865|            CHEMBL1200865|  1343629|      CHEMBL2034|\n",
      "|{[CHEMBL129], CHE...|         INHIBITOR|Human immunodefic...|[{setid=6df09f15-...|         CHEMBL129|                CHEMBL129|  1343080|       CHEMBL247|\n",
      "|{[CHEMBL3989861, ...|         INHIBITOR|Serotonin transpo...|[{label/2013/2052...|     CHEMBL3989861|               CHEMBL1118|  1938076|       CHEMBL228|\n",
      "|{[CHEMBL2146140, ...|         INHIBITOR|Potassium-transpo...|[{setid=61a5a84e-...|     CHEMBL2146140|            CHEMBL1201320|  1702655|   CHEMBL2095173|\n",
      "|{[CHEMBL131], CHE...|           AGONIST|Glucocorticoid re...|[{19482847, PubMe...|         CHEMBL131|                CHEMBL131|  1344057|      CHEMBL2034|\n",
      "|{[CHEMBL1275802],...|  DISRUPTING AGENT|Cell membrane dis...|[{19010301, PubMe...|     CHEMBL1275802|            CHEMBL1275802|  1703075|   CHEMBL2364031|\n",
      "|{[CHEMBL139], CHE...|         INHIBITOR|Cyclooxygenase in...|[{label/2013/2045...|         CHEMBL139|                CHEMBL139|  1937947|   CHEMBL2094253|\n",
      "|{[CHEMBL2108556],...|  DISRUPTING AGENT|Cell membrane dis...|[{19010301, PubMe...|     CHEMBL2108556|            CHEMBL2108556|  1696419|   CHEMBL2364031|\n",
      "|{[CHEMBL1512], CH...|           AGONIST|Glucocorticoid re...|[{setid=7c72c954-...|        CHEMBL1512|               CHEMBL1512|  1343379|      CHEMBL2034|\n",
      "+--------------------+------------------+--------------------+--------------------+------------------+-------------------------+---------+----------------+\n",
      "only showing top 20 rows\n",
      "\n"
     ]
    },
    {
     "name": "stderr",
     "output_type": "stream",
     "text": [
      "23/12/11 16:34:31 WARN CacheManager: Asked to cache already cached data.\n"
     ]
    }
   ],
   "source": [
    "mechanism_path = \"gs://open-targets-pre-data-releases/chembl-columns/chembl-inputs/chembl_33_mechanism.jsonl\"\n",
    "mechanism = spark.read.json(mechanism_path)\n",
    "mechanism.persist()\n",
    "mechanism.show()"
   ]
  },
  {
   "cell_type": "code",
   "execution_count": 61,
   "metadata": {},
   "outputs": [
    {
     "name": "stdout",
     "output_type": "stream",
     "text": [
      "+--------------------+-----------+--------------------+--------------------+------------------+-------------------------+---------+----------------+\n",
      "|           _metadata|action_type| mechanism_of_action|      mechanism_refs|molecule_chembl_id|parent_molecule_chembl_id|record_id|target_chembl_id|\n",
      "+--------------------+-----------+--------------------+--------------------+------------------+-------------------------+---------+----------------+\n",
      "|{[CHEMBL1946170],...|  INHIBITOR|Platelet-derived ...|[{REGORAFENIB, Ex...|     CHEMBL1946170|            CHEMBL1946170|  1679381|   CHEMBL2095189|\n",
      "|{[CHEMBL1946170],...|  INHIBITOR|Tyrosine-protein ...|[{REGORAFENIB, Ex...|     CHEMBL1946170|            CHEMBL1946170|  1679381|      CHEMBL4223|\n",
      "|{[CHEMBL1946170],...|  INHIBITOR|Discoidin domain-...|[{REGORAFENIB, Ex...|     CHEMBL1946170|            CHEMBL1946170|  1679381|      CHEMBL5122|\n",
      "|{[CHEMBL1946170],...|  INHIBITOR|Tyrosine-protein ...|[{REGORAFENIB, Ex...|     CHEMBL1946170|            CHEMBL1946170|  1679381|      CHEMBL2041|\n",
      "|{[CHEMBL1946170],...|  INHIBITOR|Ephrin type-A rec...|[{label/2012/2030...|     CHEMBL1946170|            CHEMBL1946170|  1679381|      CHEMBL2068|\n",
      "|{[CHEMBL1946170],...|  INHIBITOR|Serine/threonine-...|[{REGORAFENIB, Ex...|     CHEMBL1946170|            CHEMBL1946170|  1679381|      CHEMBL5145|\n",
      "|{[CHEMBL1946170],...|  INHIBITOR|Fibroblast growth...|[{REGORAFENIB, Ex...|     CHEMBL1946170|            CHEMBL1946170|  1679381|      CHEMBL3650|\n",
      "|{[CHEMBL1946170],...|  INHIBITOR|Tyrosine-protein ...|[{REGORAFENIB, Ex...|     CHEMBL1946170|            CHEMBL1946170|  1679381|      CHEMBL1862|\n",
      "|{[CHEMBL1946170],...|  INHIBITOR|Nerve growth fact...|[{label/2012/2030...|     CHEMBL1946170|            CHEMBL1946170|  1679381|      CHEMBL2815|\n",
      "|{[CHEMBL1946170],...|  INHIBITOR|Tyrosine-protein ...|[{REGORAFENIB, Ex...|     CHEMBL1946170|            CHEMBL1946170|  1679381|      CHEMBL4128|\n",
      "|{[CHEMBL1946170],...|  INHIBITOR|MAP kinase p38 be...|[{REGORAFENIB, Ex...|     CHEMBL1946170|            CHEMBL1946170|  1679381|      CHEMBL3961|\n",
      "|{[CHEMBL1946170],...|  INHIBITOR|Vascular endothel...|[{REGORAFENIB, Ex...|     CHEMBL1946170|            CHEMBL1946170|  1679381|   CHEMBL2095227|\n",
      "|{[CHEMBL1946170],...|  INHIBITOR|Serine/threonine-...|[{REGORAFENIB, Ex...|     CHEMBL1946170|            CHEMBL1946170|  1679381|      CHEMBL1906|\n",
      "|{[CHEMBL1946170],...|  INHIBITOR|Fibroblast growth...|[{REGORAFENIB, Ex...|     CHEMBL1946170|            CHEMBL1946170|  1679381|      CHEMBL4142|\n",
      "|{[CHEMBL1946170],...|  INHIBITOR|Stem cell growth ...|[{REGORAFENIB, Ex...|     CHEMBL1946170|            CHEMBL1946170|  1679381|      CHEMBL1936|\n",
      "+--------------------+-----------+--------------------+--------------------+------------------+-------------------------+---------+----------------+\n",
      "\n"
     ]
    }
   ],
   "source": [
    "# # Filtering just to check that molecule_chembl_id can correspond to several targets\n",
    "# mechanism_filtered = mechanism.filter(mechanism[\"molecule_chembl_id\"] == \"CHEMBL1946170\")\n",
    "# mechanism_filtered.show()"
   ]
  },
  {
   "cell_type": "code",
   "execution_count": 153,
   "metadata": {},
   "outputs": [
    {
     "name": "stdout",
     "output_type": "stream",
     "text": [
      "+--------------------+------------------+--------------------+--------------------+------------------+-------------------------+---------+--------------------+\n",
      "|           _metadata|   action_type_moa| mechanism_of_action|      mechanism_refs|molecule_chembl_id|parent_molecule_chembl_id|record_id|target_chembl_id_moa|\n",
      "+--------------------+------------------+--------------------+--------------------+------------------+-------------------------+---------+--------------------+\n",
      "|{[CHEMBL2103825],...|         INHIBITOR|Pancreatic lipase...|[{16953261, PubMe...|     CHEMBL2103825|            CHEMBL2103825|  1699800|          CHEMBL1812|\n",
      "|{[CHEMBL1200495, ...|           AGONIST|Glucocorticoid re...|[{setid=6d9bf1b0-...|     CHEMBL1200495|                CHEMBL977|  1344612|          CHEMBL2034|\n",
      "|{[CHEMBL3544919],...|SEQUESTERING AGENT|Heparin sequester...|[{26937198, PubMe...|     CHEMBL3544919|            CHEMBL3544919|  2473107|       CHEMBL2364712|\n",
      "|{[CHEMBL3989993],...|         INHIBITOR|microRNA-155 inhi...|[{NCT03713320, Cl...|     CHEMBL3989993|            CHEMBL3989993|  2973351|       CHEMBL4630577|\n",
      "|{[CHEMBL1460], CH...|         INHIBITOR|Human immunodefic...|[{setid=22e2ca82-...|        CHEMBL1460|               CHEMBL1460|  1343993|           CHEMBL247|\n",
      "|{[CHEMBL444172], ...|         INHIBITOR|P-glycoprotein 1 ...|[{18271955, PubMe...|      CHEMBL444172|             CHEMBL444172|  3129871|          CHEMBL4302|\n",
      "|{[CHEMBL1873475],...|         INHIBITOR|Tyrosine-protein ...|[{label/2013/2055...|     CHEMBL1873475|            CHEMBL1873475|  1702685|          CHEMBL5251|\n",
      "|{[CHEMBL4650215],...|         INHIBITOR|PI3-kinase p110-a...|[{https://cancerr...|     CHEMBL4650215|            CHEMBL4650215|  3133380|          CHEMBL4005|\n",
      "|{[CHEMBL87992], C...|           BLOCKER|Sodium channel al...|[{label/2013/0224...|       CHEMBL87992|              CHEMBL87992|  1702492|       CHEMBL2331043|\n",
      "|{[CHEMBL2105689],...|         INHIBITOR|Cytochrome P450 5...|[{label/2013/2041...|     CHEMBL2105689|            CHEMBL2105689|  1702581|          CHEMBL1780|\n",
      "|{[CHEMBL523299, C...|        ANTAGONIST|Muscarinic acetyl...|[{label/2013/2039...|      CHEMBL523299|            CHEMBL1187833|  1702662|           CHEMBL245|\n",
      "|{[CHEMBL1200865],...|           AGONIST|Glucocorticoid re...|[{12861354, PubMe...|     CHEMBL1200865|            CHEMBL1200865|  1343629|          CHEMBL2034|\n",
      "|{[CHEMBL129], CHE...|         INHIBITOR|Human immunodefic...|[{setid=6df09f15-...|         CHEMBL129|                CHEMBL129|  1343080|           CHEMBL247|\n",
      "|{[CHEMBL3989861, ...|         INHIBITOR|Serotonin transpo...|[{label/2013/2052...|     CHEMBL3989861|               CHEMBL1118|  1938076|           CHEMBL228|\n",
      "|{[CHEMBL2146140, ...|         INHIBITOR|Potassium-transpo...|[{setid=61a5a84e-...|     CHEMBL2146140|            CHEMBL1201320|  1702655|       CHEMBL2095173|\n",
      "|{[CHEMBL131], CHE...|           AGONIST|Glucocorticoid re...|[{19482847, PubMe...|         CHEMBL131|                CHEMBL131|  1344057|          CHEMBL2034|\n",
      "|{[CHEMBL1275802],...|  DISRUPTING AGENT|Cell membrane dis...|[{19010301, PubMe...|     CHEMBL1275802|            CHEMBL1275802|  1703075|       CHEMBL2364031|\n",
      "|{[CHEMBL139], CHE...|         INHIBITOR|Cyclooxygenase in...|[{label/2013/2045...|         CHEMBL139|                CHEMBL139|  1937947|       CHEMBL2094253|\n",
      "|{[CHEMBL2108556],...|  DISRUPTING AGENT|Cell membrane dis...|[{19010301, PubMe...|     CHEMBL2108556|            CHEMBL2108556|  1696419|       CHEMBL2364031|\n",
      "|{[CHEMBL1512], CH...|           AGONIST|Glucocorticoid re...|[{setid=7c72c954-...|        CHEMBL1512|               CHEMBL1512|  1343379|          CHEMBL2034|\n",
      "+--------------------+------------------+--------------------+--------------------+------------------+-------------------------+---------+--------------------+\n",
      "only showing top 20 rows\n",
      "\n"
     ]
    }
   ],
   "source": [
    "# Rename columns\n",
    "mechanism_renamed = mechanism.withColumnRenamed(\"action_type\", \"action_type_moa\").withColumnRenamed(\"target_chembl_id\", \"target_chembl_id_moa\")\n",
    "\n",
    "# Show the result\n",
    "mechanism_renamed.show()"
   ]
  },
  {
   "cell_type": "code",
   "execution_count": 154,
   "metadata": {},
   "outputs": [
    {
     "name": "stdout",
     "output_type": "stream",
     "text": [
      "+----------------+-------------+--------------+-------------------------+----------+--------------------+--------------------+---------------+----------+-----------+-------------+-------------+--------------+--------------+-----------------+---------------+--------------------+----------------+----------------------+--------------+--------------------+---------------+---------+------------+-----------------+--------------------+--------+---------------+--------------------+\n",
      "|target_chembl_id|       drugId|      drugType|maximumClinicalTrialPhase|isApproved|       linkedTargets|      linkedDiseases|assay_chembl_id|assay_type|action_type|pchembl_value|standard_type|standard_units|standard_value|standard_relation|target_organism|    target_pref_name|confidence_score|confidence_description|assay_category|   target_components|    target_type|accession|proteinClass|max_pchembl_value|median_pchembl_value|isActive|action_type_moa|target_chembl_id_moa|\n",
      "+----------------+-------------+--------------+-------------------------+----------+--------------------+--------------------+---------------+----------+-----------+-------------+-------------+--------------+--------------+-----------------+---------------+--------------------+----------------+----------------------+--------------+--------------------+---------------+---------+------------+-----------------+--------------------+--------+---------------+--------------------+\n",
      "|   CHEMBL1907602|CHEMBL4442620|Small molecule|                      2.0|     false|{20, [ENSG0000017...|{3, [EFO_0003060,...|  CHEMBL3607089|         B|       null|         8.15|         IC50|            nM|           7.0|                =|   Homo sapiens|Cyclin-dependent ...|               7|  Direct protein co...|          null|[{P06493, Cyclin-...|PROTEIN COMPLEX|   P06493|      Kinase|             8.15|                8.15|    TRUE|      INHIBITOR|       CHEMBL3559691|\n",
      "|       CHEMBL308|CHEMBL2436978|Small molecule|                     null|      null|                null|                null|  CHEMBL2439767|         B|       null|         5.95|         IC50|            nM|        1125.0|                =|   Homo sapiens|Cyclin-dependent ...|               9|  Direct single pro...|          null|[{P06493, Cyclin-...| SINGLE PROTEIN|   P06493|      Kinase|             5.95|                5.95|   FALSE|           null|                null|\n",
      "|       CHEMBL308|CHEMBL3688339|Small molecule|                     null|      null|                null|                null|  CHEMBL3991650|         B|       null|         6.54|           Kd|            nM|         288.0|                =|   Homo sapiens|Cyclin-dependent ...|               9|  Direct single pro...|          null|[{P06493, Cyclin-...| SINGLE PROTEIN|   P06493|      Kinase|             6.54|                6.54|   FALSE|           null|                null|\n",
      "|   CHEMBL1907602|CHEMBL4442620|Small molecule|                      2.0|     false|{20, [ENSG0000017...|{3, [EFO_0003060,...|  CHEMBL4613391|         B|       null|         8.15|         IC50|            nM|           7.0|                =|   Homo sapiens|Cyclin-dependent ...|               7|  Direct protein co...|          null|[{P06493, Cyclin-...|PROTEIN COMPLEX|   P06493|      Kinase|             8.15|                8.15|    TRUE|      INHIBITOR|       CHEMBL3559691|\n",
      "|   CHEMBL1907602| CHEMBL428690|Small molecule|                      3.0|     false|{6, [ENSG00000170...|{26, [EFO_0001378...|  CHEMBL3856462|         B|       null|         7.57|         IC50|            nM|          27.0|                =|   Homo sapiens|Cyclin-dependent ...|               7|  Direct protein co...|          null|[{P06493, Cyclin-...|PROTEIN COMPLEX|   P06493|      Kinase|             7.57|                7.57|   FALSE|      INHIBITOR|          CHEMBL3055|\n",
      "|   CHEMBL1907602| CHEMBL428690|Small molecule|                      3.0|     false|{6, [ENSG00000170...|{26, [EFO_0001378...|  CHEMBL3856462|         B|       null|         7.57|         IC50|            nM|          27.0|                =|   Homo sapiens|Cyclin-dependent ...|               7|  Direct protein co...|          null|[{P06493, Cyclin-...|PROTEIN COMPLEX|   P06493|      Kinase|             7.57|                7.57|   FALSE|      INHIBITOR|          CHEMBL3116|\n",
      "|   CHEMBL1907602| CHEMBL428690|Small molecule|                      3.0|     false|{6, [ENSG00000170...|{26, [EFO_0001378...|  CHEMBL3856462|         B|       null|         7.57|         IC50|            nM|          27.0|                =|   Homo sapiens|Cyclin-dependent ...|               7|  Direct protein co...|          null|[{P06493, Cyclin-...|PROTEIN COMPLEX|   P06493|      Kinase|             7.57|                7.57|   FALSE|      INHIBITOR|          CHEMBL2508|\n",
      "|   CHEMBL1907602| CHEMBL428690|Small molecule|                      3.0|     false|{6, [ENSG00000170...|{26, [EFO_0001378...|  CHEMBL3856462|         B|       null|         7.57|         IC50|            nM|          27.0|                =|   Homo sapiens|Cyclin-dependent ...|               7|  Direct protein co...|          null|[{P06493, Cyclin-...|PROTEIN COMPLEX|   P06493|      Kinase|             7.57|                7.57|   FALSE|      INHIBITOR|           CHEMBL301|\n",
      "|   CHEMBL1907602| CHEMBL428690|Small molecule|                      3.0|     false|{6, [ENSG00000170...|{26, [EFO_0001378...|  CHEMBL3856462|         B|       null|         7.57|         IC50|            nM|          27.0|                =|   Homo sapiens|Cyclin-dependent ...|               7|  Direct protein co...|          null|[{P06493, Cyclin-...|PROTEIN COMPLEX|   P06493|      Kinase|             7.57|                7.57|   FALSE|      INHIBITOR|           CHEMBL308|\n",
      "|   CHEMBL1907602| CHEMBL428690|Small molecule|                      3.0|     false|{6, [ENSG00000170...|{26, [EFO_0001378...|  CHEMBL3856462|         B|       null|         7.57|         IC50|            nM|          27.0|                =|   Homo sapiens|Cyclin-dependent ...|               7|  Direct protein co...|          null|[{P06493, Cyclin-...|PROTEIN COMPLEX|   P06493|      Kinase|             7.57|                7.57|   FALSE|      INHIBITOR|           CHEMBL331|\n",
      "|       CHEMBL308|CHEMBL2103840|Small molecule|                      3.0|     false|{4, [ENSG00000170...|{9, [EFO_0006861,...|  CHEMBL3856515|         B|       null|         8.52|         IC50|            nM|           3.0|                =|   Homo sapiens|Cyclin-dependent ...|               9|  Direct single pro...|          null|[{P06493, Cyclin-...| SINGLE PROTEIN|   P06493|      Kinase|             8.52|                8.52|    TRUE|      INHIBITOR|          CHEMBL3116|\n",
      "|       CHEMBL308|CHEMBL2103840|Small molecule|                      3.0|     false|{4, [ENSG00000170...|{9, [EFO_0006861,...|  CHEMBL3856515|         B|       null|         8.52|         IC50|            nM|           3.0|                =|   Homo sapiens|Cyclin-dependent ...|               9|  Direct single pro...|          null|[{P06493, Cyclin-...| SINGLE PROTEIN|   P06493|      Kinase|             8.52|                8.52|    TRUE|      INHIBITOR|           CHEMBL308|\n",
      "|       CHEMBL308|CHEMBL2103840|Small molecule|                      3.0|     false|{4, [ENSG00000170...|{9, [EFO_0006861,...|  CHEMBL3856515|         B|       null|         8.52|         IC50|            nM|           3.0|                =|   Homo sapiens|Cyclin-dependent ...|               9|  Direct single pro...|          null|[{P06493, Cyclin-...| SINGLE PROTEIN|   P06493|      Kinase|             8.52|                8.52|    TRUE|      INHIBITOR|          CHEMBL4036|\n",
      "|       CHEMBL308|CHEMBL2103840|Small molecule|                      3.0|     false|{4, [ENSG00000170...|{9, [EFO_0006861,...|  CHEMBL3856515|         B|       null|         8.52|         IC50|            nM|           3.0|                =|   Homo sapiens|Cyclin-dependent ...|               9|  Direct single pro...|          null|[{P06493, Cyclin-...| SINGLE PROTEIN|   P06493|      Kinase|             8.52|                8.52|    TRUE|      INHIBITOR|           CHEMBL301|\n",
      "|       CHEMBL308|CHEMBL1944698|Small molecule|                      1.0|     false|{6, [ENSG00000136...|{5, [EFO_0000182,...|  CHEMBL3856510|         B|       null|         8.52|         IC50|            nM|           3.0|                =|   Homo sapiens|Cyclin-dependent ...|               9|  Direct single pro...|          null|[{P06493, Cyclin-...| SINGLE PROTEIN|   P06493|      Kinase|             8.52|                8.52|    TRUE|      INHIBITOR|          CHEMBL3116|\n",
      "|       CHEMBL308|CHEMBL1944698|Small molecule|                      1.0|     false|{6, [ENSG00000136...|{5, [EFO_0000182,...|  CHEMBL3856510|         B|       null|         8.52|         IC50|            nM|           3.0|                =|   Homo sapiens|Cyclin-dependent ...|               9|  Direct single pro...|          null|[{P06493, Cyclin-...| SINGLE PROTEIN|   P06493|      Kinase|             8.52|                8.52|    TRUE|      INHIBITOR|          CHEMBL2971|\n",
      "|       CHEMBL308|CHEMBL1944698|Small molecule|                      1.0|     false|{6, [ENSG00000136...|{5, [EFO_0000182,...|  CHEMBL3856510|         B|       null|         8.52|         IC50|            nM|           3.0|                =|   Homo sapiens|Cyclin-dependent ...|               9|  Direct single pro...|          null|[{P06493, Cyclin-...| SINGLE PROTEIN|   P06493|      Kinase|             8.52|                8.52|    TRUE|      INHIBITOR|          CHEMBL3055|\n",
      "|       CHEMBL308|CHEMBL1944698|Small molecule|                      1.0|     false|{6, [ENSG00000136...|{5, [EFO_0000182,...|  CHEMBL3856510|         B|       null|         8.52|         IC50|            nM|           3.0|                =|   Homo sapiens|Cyclin-dependent ...|               9|  Direct single pro...|          null|[{P06493, Cyclin-...| SINGLE PROTEIN|   P06493|      Kinase|             8.52|                8.52|    TRUE|      INHIBITOR|           CHEMBL301|\n",
      "|       CHEMBL308|CHEMBL1944698|Small molecule|                      1.0|     false|{6, [ENSG00000136...|{5, [EFO_0000182,...|  CHEMBL3856510|         B|       null|         8.52|         IC50|            nM|           3.0|                =|   Homo sapiens|Cyclin-dependent ...|               9|  Direct single pro...|          null|[{P06493, Cyclin-...| SINGLE PROTEIN|   P06493|      Kinase|             8.52|                8.52|    TRUE|      INHIBITOR|          CHEMBL1974|\n",
      "|       CHEMBL308|CHEMBL1944698|Small molecule|                      1.0|     false|{6, [ENSG00000136...|{5, [EFO_0000182,...|  CHEMBL3856510|         B|       null|         8.52|         IC50|            nM|           3.0|                =|   Homo sapiens|Cyclin-dependent ...|               9|  Direct single pro...|          null|[{P06493, Cyclin-...| SINGLE PROTEIN|   P06493|      Kinase|             8.52|                8.52|    TRUE|      INHIBITOR|           CHEMBL308|\n",
      "+----------------+-------------+--------------+-------------------------+----------+--------------------+--------------------+---------------+----------+-----------+-------------+-------------+--------------+--------------+-----------------+---------------+--------------------+----------------+----------------------+--------------+--------------------+---------------+---------+------------+-----------------+--------------------+--------+---------------+--------------------+\n",
      "only showing top 20 rows\n",
      "\n"
     ]
    },
    {
     "data": {
      "text/plain": [
       "9341"
      ]
     },
     "execution_count": 154,
     "metadata": {},
     "output_type": "execute_result"
    }
   ],
   "source": [
    "# List of columns from target table\n",
    "list_mechanism = [\"action_type_moa\",\n",
    "            \"target_chembl_id_moa\"]\n",
    "\n",
    "drug_to_moa = join_dataframes(drug_active, mechanism_renamed, \"drugId\", \"molecule_chembl_id\", list_mechanism).persist()\n",
    "drug_to_moa.show()\n",
    "drug_to_moa.count()"
   ]
  },
  {
   "cell_type": "code",
   "execution_count": 39,
   "metadata": {},
   "outputs": [],
   "source": [
    "# drug_to_moa_filtered = drug_to_moa.filter(mechanism[\"molecule_chembl_id\"] == \"CHEMBL1946170\")\n",
    "# drug_to_moa_filtered.show()"
   ]
  },
  {
   "cell_type": "code",
   "execution_count": 155,
   "metadata": {},
   "outputs": [
    {
     "name": "stdout",
     "output_type": "stream",
     "text": [
      "+----------------+-------------+--------------+-------------------------+----------+--------------------+--------------------+---------------+----------+-----------+-------------+-------------+--------------+--------------+-----------------+---------------+--------------------+----------------+----------------------+--------------+--------------------+---------------+---------+------------+-----------------+--------------------+--------+---------------+--------------------+-----------+\n",
      "|target_chembl_id|       drugId|      drugType|maximumClinicalTrialPhase|isApproved|       linkedTargets|      linkedDiseases|assay_chembl_id|assay_type|action_type|pchembl_value|standard_type|standard_units|standard_value|standard_relation|target_organism|    target_pref_name|confidence_score|confidence_description|assay_category|   target_components|    target_type|accession|proteinClass|max_pchembl_value|median_pchembl_value|isActive|action_type_moa|target_chembl_id_moa|targetInMoA|\n",
      "+----------------+-------------+--------------+-------------------------+----------+--------------------+--------------------+---------------+----------+-----------+-------------+-------------+--------------+--------------+-----------------+---------------+--------------------+----------------+----------------------+--------------+--------------------+---------------+---------+------------+-----------------+--------------------+--------+---------------+--------------------+-----------+\n",
      "|   CHEMBL1907602|CHEMBL4442620|Small molecule|                      2.0|     false|{20, [ENSG0000017...|{3, [EFO_0003060,...|  CHEMBL3607089|         B|       null|         8.15|         IC50|            nM|           7.0|                =|   Homo sapiens|Cyclin-dependent ...|               7|  Direct protein co...|          null|[{P06493, Cyclin-...|PROTEIN COMPLEX|   P06493|      Kinase|             8.15|                8.15|    TRUE|      INHIBITOR|       CHEMBL3559691|      false|\n",
      "|       CHEMBL308|CHEMBL2436978|Small molecule|                     null|      null|                null|                null|  CHEMBL2439767|         B|       null|         5.95|         IC50|            nM|        1125.0|                =|   Homo sapiens|Cyclin-dependent ...|               9|  Direct single pro...|          null|[{P06493, Cyclin-...| SINGLE PROTEIN|   P06493|      Kinase|             5.95|                5.95|   FALSE|           null|                null|       null|\n",
      "|       CHEMBL308|CHEMBL3688339|Small molecule|                     null|      null|                null|                null|  CHEMBL3991650|         B|       null|         6.54|           Kd|            nM|         288.0|                =|   Homo sapiens|Cyclin-dependent ...|               9|  Direct single pro...|          null|[{P06493, Cyclin-...| SINGLE PROTEIN|   P06493|      Kinase|             6.54|                6.54|   FALSE|           null|                null|       null|\n",
      "|   CHEMBL1907602|CHEMBL4442620|Small molecule|                      2.0|     false|{20, [ENSG0000017...|{3, [EFO_0003060,...|  CHEMBL4613391|         B|       null|         8.15|         IC50|            nM|           7.0|                =|   Homo sapiens|Cyclin-dependent ...|               7|  Direct protein co...|          null|[{P06493, Cyclin-...|PROTEIN COMPLEX|   P06493|      Kinase|             8.15|                8.15|    TRUE|      INHIBITOR|       CHEMBL3559691|      false|\n",
      "|   CHEMBL1907602| CHEMBL428690|Small molecule|                      3.0|     false|{6, [ENSG00000170...|{26, [EFO_0001378...|  CHEMBL3856462|         B|       null|         7.57|         IC50|            nM|          27.0|                =|   Homo sapiens|Cyclin-dependent ...|               7|  Direct protein co...|          null|[{P06493, Cyclin-...|PROTEIN COMPLEX|   P06493|      Kinase|             7.57|                7.57|   FALSE|      INHIBITOR|          CHEMBL3055|      false|\n",
      "|   CHEMBL1907602| CHEMBL428690|Small molecule|                      3.0|     false|{6, [ENSG00000170...|{26, [EFO_0001378...|  CHEMBL3856462|         B|       null|         7.57|         IC50|            nM|          27.0|                =|   Homo sapiens|Cyclin-dependent ...|               7|  Direct protein co...|          null|[{P06493, Cyclin-...|PROTEIN COMPLEX|   P06493|      Kinase|             7.57|                7.57|   FALSE|      INHIBITOR|          CHEMBL3116|      false|\n",
      "|   CHEMBL1907602| CHEMBL428690|Small molecule|                      3.0|     false|{6, [ENSG00000170...|{26, [EFO_0001378...|  CHEMBL3856462|         B|       null|         7.57|         IC50|            nM|          27.0|                =|   Homo sapiens|Cyclin-dependent ...|               7|  Direct protein co...|          null|[{P06493, Cyclin-...|PROTEIN COMPLEX|   P06493|      Kinase|             7.57|                7.57|   FALSE|      INHIBITOR|          CHEMBL2508|      false|\n",
      "|   CHEMBL1907602| CHEMBL428690|Small molecule|                      3.0|     false|{6, [ENSG00000170...|{26, [EFO_0001378...|  CHEMBL3856462|         B|       null|         7.57|         IC50|            nM|          27.0|                =|   Homo sapiens|Cyclin-dependent ...|               7|  Direct protein co...|          null|[{P06493, Cyclin-...|PROTEIN COMPLEX|   P06493|      Kinase|             7.57|                7.57|   FALSE|      INHIBITOR|           CHEMBL301|      false|\n",
      "|   CHEMBL1907602| CHEMBL428690|Small molecule|                      3.0|     false|{6, [ENSG00000170...|{26, [EFO_0001378...|  CHEMBL3856462|         B|       null|         7.57|         IC50|            nM|          27.0|                =|   Homo sapiens|Cyclin-dependent ...|               7|  Direct protein co...|          null|[{P06493, Cyclin-...|PROTEIN COMPLEX|   P06493|      Kinase|             7.57|                7.57|   FALSE|      INHIBITOR|           CHEMBL308|      false|\n",
      "|   CHEMBL1907602| CHEMBL428690|Small molecule|                      3.0|     false|{6, [ENSG00000170...|{26, [EFO_0001378...|  CHEMBL3856462|         B|       null|         7.57|         IC50|            nM|          27.0|                =|   Homo sapiens|Cyclin-dependent ...|               7|  Direct protein co...|          null|[{P06493, Cyclin-...|PROTEIN COMPLEX|   P06493|      Kinase|             7.57|                7.57|   FALSE|      INHIBITOR|           CHEMBL331|      false|\n",
      "|       CHEMBL308|CHEMBL2103840|Small molecule|                      3.0|     false|{4, [ENSG00000170...|{9, [EFO_0006861,...|  CHEMBL3856515|         B|       null|         8.52|         IC50|            nM|           3.0|                =|   Homo sapiens|Cyclin-dependent ...|               9|  Direct single pro...|          null|[{P06493, Cyclin-...| SINGLE PROTEIN|   P06493|      Kinase|             8.52|                8.52|    TRUE|      INHIBITOR|          CHEMBL3116|       true|\n",
      "|       CHEMBL308|CHEMBL2103840|Small molecule|                      3.0|     false|{4, [ENSG00000170...|{9, [EFO_0006861,...|  CHEMBL3856515|         B|       null|         8.52|         IC50|            nM|           3.0|                =|   Homo sapiens|Cyclin-dependent ...|               9|  Direct single pro...|          null|[{P06493, Cyclin-...| SINGLE PROTEIN|   P06493|      Kinase|             8.52|                8.52|    TRUE|      INHIBITOR|           CHEMBL308|       true|\n",
      "|       CHEMBL308|CHEMBL2103840|Small molecule|                      3.0|     false|{4, [ENSG00000170...|{9, [EFO_0006861,...|  CHEMBL3856515|         B|       null|         8.52|         IC50|            nM|           3.0|                =|   Homo sapiens|Cyclin-dependent ...|               9|  Direct single pro...|          null|[{P06493, Cyclin-...| SINGLE PROTEIN|   P06493|      Kinase|             8.52|                8.52|    TRUE|      INHIBITOR|          CHEMBL4036|       true|\n",
      "|       CHEMBL308|CHEMBL2103840|Small molecule|                      3.0|     false|{4, [ENSG00000170...|{9, [EFO_0006861,...|  CHEMBL3856515|         B|       null|         8.52|         IC50|            nM|           3.0|                =|   Homo sapiens|Cyclin-dependent ...|               9|  Direct single pro...|          null|[{P06493, Cyclin-...| SINGLE PROTEIN|   P06493|      Kinase|             8.52|                8.52|    TRUE|      INHIBITOR|           CHEMBL301|       true|\n",
      "|       CHEMBL308|CHEMBL1944698|Small molecule|                      1.0|     false|{6, [ENSG00000136...|{5, [EFO_0000182,...|  CHEMBL3856510|         B|       null|         8.52|         IC50|            nM|           3.0|                =|   Homo sapiens|Cyclin-dependent ...|               9|  Direct single pro...|          null|[{P06493, Cyclin-...| SINGLE PROTEIN|   P06493|      Kinase|             8.52|                8.52|    TRUE|      INHIBITOR|          CHEMBL3116|       true|\n",
      "|       CHEMBL308|CHEMBL1944698|Small molecule|                      1.0|     false|{6, [ENSG00000136...|{5, [EFO_0000182,...|  CHEMBL3856510|         B|       null|         8.52|         IC50|            nM|           3.0|                =|   Homo sapiens|Cyclin-dependent ...|               9|  Direct single pro...|          null|[{P06493, Cyclin-...| SINGLE PROTEIN|   P06493|      Kinase|             8.52|                8.52|    TRUE|      INHIBITOR|          CHEMBL2971|       true|\n",
      "|       CHEMBL308|CHEMBL1944698|Small molecule|                      1.0|     false|{6, [ENSG00000136...|{5, [EFO_0000182,...|  CHEMBL3856510|         B|       null|         8.52|         IC50|            nM|           3.0|                =|   Homo sapiens|Cyclin-dependent ...|               9|  Direct single pro...|          null|[{P06493, Cyclin-...| SINGLE PROTEIN|   P06493|      Kinase|             8.52|                8.52|    TRUE|      INHIBITOR|          CHEMBL3055|       true|\n",
      "|       CHEMBL308|CHEMBL1944698|Small molecule|                      1.0|     false|{6, [ENSG00000136...|{5, [EFO_0000182,...|  CHEMBL3856510|         B|       null|         8.52|         IC50|            nM|           3.0|                =|   Homo sapiens|Cyclin-dependent ...|               9|  Direct single pro...|          null|[{P06493, Cyclin-...| SINGLE PROTEIN|   P06493|      Kinase|             8.52|                8.52|    TRUE|      INHIBITOR|           CHEMBL301|       true|\n",
      "|       CHEMBL308|CHEMBL1944698|Small molecule|                      1.0|     false|{6, [ENSG00000136...|{5, [EFO_0000182,...|  CHEMBL3856510|         B|       null|         8.52|         IC50|            nM|           3.0|                =|   Homo sapiens|Cyclin-dependent ...|               9|  Direct single pro...|          null|[{P06493, Cyclin-...| SINGLE PROTEIN|   P06493|      Kinase|             8.52|                8.52|    TRUE|      INHIBITOR|          CHEMBL1974|       true|\n",
      "|       CHEMBL308|CHEMBL1944698|Small molecule|                      1.0|     false|{6, [ENSG00000136...|{5, [EFO_0000182,...|  CHEMBL3856510|         B|       null|         8.52|         IC50|            nM|           3.0|                =|   Homo sapiens|Cyclin-dependent ...|               9|  Direct single pro...|          null|[{P06493, Cyclin-...| SINGLE PROTEIN|   P06493|      Kinase|             8.52|                8.52|    TRUE|      INHIBITOR|           CHEMBL308|       true|\n",
      "+----------------+-------------+--------------+-------------------------+----------+--------------------+--------------------+---------------+----------+-----------+-------------+-------------+--------------+--------------+-----------------+---------------+--------------------+----------------+----------------------+--------------+--------------------+---------------+---------+------------+-----------------+--------------------+--------+---------------+--------------------+-----------+\n",
      "only showing top 20 rows\n",
      "\n"
     ]
    },
    {
     "data": {
      "text/plain": [
       "9341"
      ]
     },
     "execution_count": 155,
     "metadata": {},
     "output_type": "execute_result"
    }
   ],
   "source": [
    "# Match target_chembl_id and target_chembl_id_moa within 1 drugId\n",
    "\n",
    "from pyspark.sql.functions import col, broadcast, when\n",
    "\n",
    "# Create a DataFrame of unique target_chembl_id_moa values\n",
    "moa_df = drug_to_moa.select(\"target_chembl_id_moa\").distinct().withColumnRenamed(\"target_chembl_id_moa\", \"moa_value\")\n",
    "\n",
    "# Join with the original DataFrame to check if target_chembl_id is in the list of moa_values\n",
    "df_joined = drug_to_moa.join(broadcast(moa_df), drug_to_moa[\"target_chembl_id\"] == moa_df[\"moa_value\"], \"left_outer\")\n",
    "\n",
    "# Add a new column targetInMoA based on the condition\n",
    "drug_to_moa_targetInMoA = df_joined.withColumn(\"targetInMoA\", \n",
    "                                           when(df_joined[\"target_chembl_id_moa\"].isNull(), None)\n",
    "                                           .otherwise(col(\"moa_value\").isNotNull())\n",
    "                                          ).select(drug_to_moa.columns + [\"targetInMoA\"])\n",
    "\n",
    "# Show the result\n",
    "drug_to_moa_targetInMoA.show()\n",
    "drug_to_moa_targetInMoA.count()"
   ]
  },
  {
   "cell_type": "code",
   "execution_count": 42,
   "metadata": {},
   "outputs": [],
   "source": [
    "# drug_to_moa_targetInMoA_filtered = drug_to_moa_targetInMoA.filter(drug_to_moa_targetInMoA[\"drugId\"] == \"CHEMBL487273\")\n",
    "# drug_to_moa_targetInMoA_filtered.show()"
   ]
  },
  {
   "cell_type": "markdown",
   "metadata": {},
   "source": [
    "### Targets: Evidence type: sources + classification for GE, clinical_GE, probes (boolean)"
   ]
  },
  {
   "cell_type": "code",
   "execution_count": 168,
   "metadata": {},
   "outputs": [
    {
     "name": "stdout",
     "output_type": "stream",
     "text": [
      "+----------+---------+---------------+--------------------+------------------+-------------------+\n",
      "|    drugId|uniprotId|       targetId|             sources|isHighQualityProbe|isTherapeuticTarget|\n",
      "+----------+---------+---------------+--------------------+------------------+-------------------+\n",
      "|CHEMBL1000|   O00167|ENSG00000064655|[ot_genetics_portal]|             false|              false|\n",
      "|CHEMBL1000|   O00555|ENSG00000141837|[uniprot_literatu...|             false|              false|\n",
      "|CHEMBL1000|   O14633|ENSG00000159455|[ot_genetics_portal]|             false|              false|\n",
      "|CHEMBL1000|   O60706|ENSG00000069431|            [chembl]|             false|               true|\n",
      "|CHEMBL1000|   P00352|ENSG00000165092|[ot_genetics_portal]|             false|              false|\n",
      "|CHEMBL1000|   P01567|ENSG00000214042|            [chembl]|             false|               true|\n",
      "|CHEMBL1000|   P04155|ENSG00000160182|[ot_genetics_portal]|             false|              false|\n",
      "|CHEMBL1000|   P20036|ENSG00000231389|[ot_genetics_portal]|             false|              false|\n",
      "|CHEMBL1000|   P35908|ENSG00000172867|              [impc]|             false|              false|\n",
      "|CHEMBL1000|   P49840|ENSG00000105723|            [chembl]|             false|               true|\n",
      "|CHEMBL1000|   P51617|ENSG00000184216|              [impc]|             false|              false|\n",
      "|CHEMBL1000|   P56270|ENSG00000103495|[ot_genetics_portal]|             false|              false|\n",
      "|CHEMBL1000|   P58511|ENSG00000205670|[ot_genetics_portal]|             false|              false|\n",
      "|CHEMBL1000|   Q03431|ENSG00000160801|            [chembl]|             false|               true|\n",
      "|CHEMBL1000|   Q06124|ENSG00000179295|[ot_genetics_portal]|             false|              false|\n",
      "|CHEMBL1000|   Q16552|ENSG00000112115|      [impc, chembl]|             false|               true|\n",
      "|CHEMBL1000|   Q7Z2W4|ENSG00000105939|[ot_genetics_portal]|             false|              false|\n",
      "|CHEMBL1000|   Q86SJ6|ENSG00000175065|              [impc]|             false|              false|\n",
      "|CHEMBL1000|   Q8N1K5|ENSG00000172673|[ot_genetics_portal]|             false|              false|\n",
      "|CHEMBL1000|   Q8N8W4|ENSG00000180316|              [impc]|             false|              false|\n",
      "+----------+---------+---------------+--------------------+------------------+-------------------+\n",
      "only showing top 20 rows\n",
      "\n"
     ]
    },
    {
     "name": "stderr",
     "output_type": "stream",
     "text": [
      "23/12/11 16:48:49 WARN CacheManager: Asked to cache already cached data.\n"
     ]
    }
   ],
   "source": [
    "# Irene's table\n",
    "evidence_path = \"gs://ot-team/irene/drug_to_target\"\n",
    "evidence = spark.read.parquet(evidence_path)\n",
    "evidence.persist()\n",
    "evidence.show()\n"
   ]
  },
  {
   "cell_type": "code",
   "execution_count": 158,
   "metadata": {},
   "outputs": [],
   "source": [
    "def join_dataframes_by_many_cols(initial_df: DataFrame, \n",
    "                    second_df: DataFrame, \n",
    "                    initial_key_columns: list, \n",
    "                    second_key_columns: list,\n",
    "                    columns_to_join: list) -> DataFrame:\n",
    "    \"\"\"\n",
    "    Joins two PySpark DataFrames on specified key columns.\n",
    "\n",
    "    Args:\n",
    "    initial_df (DataFrame): The initial PySpark DataFrame.\n",
    "    second_df (DataFrame): The second PySpark DataFrame to join with.\n",
    "    initial_key_columns (list): The key column names in the initial DataFrame.\n",
    "    second_key_columns (list): The key column names in the second DataFrame.\n",
    "    columns_to_join (list): List of column names from the second DataFrame to include in the join.\n",
    "\n",
    "    Returns:\n",
    "    DataFrame: The resulting DataFrame after the join.\n",
    "    \"\"\"\n",
    "\n",
    "    # Ensure the key columns lists have the same length\n",
    "    if len(initial_key_columns) != len(second_key_columns):\n",
    "        raise ValueError(\"Key columns lists must be of the same length\")\n",
    "\n",
    "    # Selecting specified columns from the second DataFrame, including its key columns\n",
    "    second_df_selected = second_df.select(second_key_columns + columns_to_join)\n",
    "\n",
    "    # Build join condition\n",
    "    join_condition = [initial_df[initial_col] == second_df_selected[second_col] \n",
    "                      for initial_col, second_col in zip(initial_key_columns, second_key_columns)]\n",
    "\n",
    "    # Perform the left join\n",
    "    joined_df = initial_df.join(second_df_selected, \n",
    "                                on=join_condition, \n",
    "                                how='left')\n",
    "\n",
    "    # Drop the second key columns if not needed\n",
    "    for col in second_key_columns:\n",
    "        joined_df = joined_df.drop(second_df_selected[col])\n",
    "\n",
    "    return joined_df\n"
   ]
  },
  {
   "cell_type": "code",
   "execution_count": 159,
   "metadata": {},
   "outputs": [
    {
     "name": "stderr",
     "output_type": "stream",
     "text": [
      "23/12/11 16:35:49 WARN MemoryStore: Not enough space to cache broadcast_481 in memory! (computed 6.6 GiB so far)\n",
      "23/12/11 16:35:49 WARN BlockManager: Persisting block broadcast_481 to disk instead.\n",
      "23/12/11 16:36:25 WARN MemoryStore: Not enough space to cache broadcast_481 in memory! (computed 6.6 GiB so far)\n",
      "[Stage 1927:>                                                       (0 + 1) / 1]\r"
     ]
    },
    {
     "name": "stdout",
     "output_type": "stream",
     "text": [
      "+----------------+-------------+--------------+-------------------------+----------+--------------------+--------------------+---------------+----------+-----------+-------------+-------------+--------------+--------------+-----------------+---------------+--------------------+----------------+----------------------+--------------+--------------------+---------------+---------+------------+-----------------+--------------------+--------+---------------+--------------------+-----------+---------------+--------+------------------+-------------------+\n",
      "|target_chembl_id|       drugId|      drugType|maximumClinicalTrialPhase|isApproved|       linkedTargets|      linkedDiseases|assay_chembl_id|assay_type|action_type|pchembl_value|standard_type|standard_units|standard_value|standard_relation|target_organism|    target_pref_name|confidence_score|confidence_description|assay_category|   target_components|    target_type|accession|proteinClass|max_pchembl_value|median_pchembl_value|isActive|action_type_moa|target_chembl_id_moa|targetInMoA|       targetId| sources|isHighQualityProbe|isTherapeuticTarget|\n",
      "+----------------+-------------+--------------+-------------------------+----------+--------------------+--------------------+---------------+----------+-----------+-------------+-------------+--------------+--------------+-----------------+---------------+--------------------+----------------+----------------------+--------------+--------------------+---------------+---------+------------+-----------------+--------------------+--------+---------------+--------------------+-----------+---------------+--------+------------------+-------------------+\n",
      "|   CHEMBL1907602|CHEMBL4442620|Small molecule|                      2.0|     false|{20, [ENSG0000017...|{3, [EFO_0003060,...|  CHEMBL3607089|         B|       null|         8.15|         IC50|            nM|           7.0|                =|   Homo sapiens|Cyclin-dependent ...|               7|  Direct protein co...|          null|[{P06493, Cyclin-...|PROTEIN COMPLEX|   P06493|      Kinase|             8.15|                8.15|    TRUE|      INHIBITOR|       CHEMBL3559691|      false|ENSG00000170312|[chembl]|             false|               true|\n",
      "|       CHEMBL308|CHEMBL2436978|Small molecule|                     null|      null|                null|                null|  CHEMBL2439767|         B|       null|         5.95|         IC50|            nM|        1125.0|                =|   Homo sapiens|Cyclin-dependent ...|               9|  Direct single pro...|          null|[{P06493, Cyclin-...| SINGLE PROTEIN|   P06493|      Kinase|             5.95|                5.95|   FALSE|           null|                null|       null|           null|    null|              null|               null|\n",
      "|       CHEMBL308|CHEMBL3688339|Small molecule|                     null|      null|                null|                null|  CHEMBL3991650|         B|       null|         6.54|           Kd|            nM|         288.0|                =|   Homo sapiens|Cyclin-dependent ...|               9|  Direct single pro...|          null|[{P06493, Cyclin-...| SINGLE PROTEIN|   P06493|      Kinase|             6.54|                6.54|   FALSE|           null|                null|       null|           null|    null|              null|               null|\n",
      "|   CHEMBL1907602|CHEMBL4442620|Small molecule|                      2.0|     false|{20, [ENSG0000017...|{3, [EFO_0003060,...|  CHEMBL4613391|         B|       null|         8.15|         IC50|            nM|           7.0|                =|   Homo sapiens|Cyclin-dependent ...|               7|  Direct protein co...|          null|[{P06493, Cyclin-...|PROTEIN COMPLEX|   P06493|      Kinase|             8.15|                8.15|    TRUE|      INHIBITOR|       CHEMBL3559691|      false|ENSG00000170312|[chembl]|             false|               true|\n",
      "|   CHEMBL1907602| CHEMBL428690|Small molecule|                      3.0|     false|{6, [ENSG00000170...|{26, [EFO_0001378...|  CHEMBL3856462|         B|       null|         7.57|         IC50|            nM|          27.0|                =|   Homo sapiens|Cyclin-dependent ...|               7|  Direct protein co...|          null|[{P06493, Cyclin-...|PROTEIN COMPLEX|   P06493|      Kinase|             7.57|                7.57|   FALSE|      INHIBITOR|          CHEMBL3055|      false|ENSG00000170312|[chembl]|             false|               true|\n",
      "|   CHEMBL1907602| CHEMBL428690|Small molecule|                      3.0|     false|{6, [ENSG00000170...|{26, [EFO_0001378...|  CHEMBL3856462|         B|       null|         7.57|         IC50|            nM|          27.0|                =|   Homo sapiens|Cyclin-dependent ...|               7|  Direct protein co...|          null|[{P06493, Cyclin-...|PROTEIN COMPLEX|   P06493|      Kinase|             7.57|                7.57|   FALSE|      INHIBITOR|          CHEMBL3116|      false|ENSG00000170312|[chembl]|             false|               true|\n",
      "|   CHEMBL1907602| CHEMBL428690|Small molecule|                      3.0|     false|{6, [ENSG00000170...|{26, [EFO_0001378...|  CHEMBL3856462|         B|       null|         7.57|         IC50|            nM|          27.0|                =|   Homo sapiens|Cyclin-dependent ...|               7|  Direct protein co...|          null|[{P06493, Cyclin-...|PROTEIN COMPLEX|   P06493|      Kinase|             7.57|                7.57|   FALSE|      INHIBITOR|          CHEMBL2508|      false|ENSG00000170312|[chembl]|             false|               true|\n",
      "|   CHEMBL1907602| CHEMBL428690|Small molecule|                      3.0|     false|{6, [ENSG00000170...|{26, [EFO_0001378...|  CHEMBL3856462|         B|       null|         7.57|         IC50|            nM|          27.0|                =|   Homo sapiens|Cyclin-dependent ...|               7|  Direct protein co...|          null|[{P06493, Cyclin-...|PROTEIN COMPLEX|   P06493|      Kinase|             7.57|                7.57|   FALSE|      INHIBITOR|           CHEMBL301|      false|ENSG00000170312|[chembl]|             false|               true|\n",
      "|   CHEMBL1907602| CHEMBL428690|Small molecule|                      3.0|     false|{6, [ENSG00000170...|{26, [EFO_0001378...|  CHEMBL3856462|         B|       null|         7.57|         IC50|            nM|          27.0|                =|   Homo sapiens|Cyclin-dependent ...|               7|  Direct protein co...|          null|[{P06493, Cyclin-...|PROTEIN COMPLEX|   P06493|      Kinase|             7.57|                7.57|   FALSE|      INHIBITOR|           CHEMBL308|      false|ENSG00000170312|[chembl]|             false|               true|\n",
      "|   CHEMBL1907602| CHEMBL428690|Small molecule|                      3.0|     false|{6, [ENSG00000170...|{26, [EFO_0001378...|  CHEMBL3856462|         B|       null|         7.57|         IC50|            nM|          27.0|                =|   Homo sapiens|Cyclin-dependent ...|               7|  Direct protein co...|          null|[{P06493, Cyclin-...|PROTEIN COMPLEX|   P06493|      Kinase|             7.57|                7.57|   FALSE|      INHIBITOR|           CHEMBL331|      false|ENSG00000170312|[chembl]|             false|               true|\n",
      "|       CHEMBL308|CHEMBL2103840|Small molecule|                      3.0|     false|{4, [ENSG00000170...|{9, [EFO_0006861,...|  CHEMBL3856515|         B|       null|         8.52|         IC50|            nM|           3.0|                =|   Homo sapiens|Cyclin-dependent ...|               9|  Direct single pro...|          null|[{P06493, Cyclin-...| SINGLE PROTEIN|   P06493|      Kinase|             8.52|                8.52|    TRUE|      INHIBITOR|          CHEMBL3116|       true|ENSG00000170312|[chembl]|             false|               true|\n",
      "|       CHEMBL308|CHEMBL2103840|Small molecule|                      3.0|     false|{4, [ENSG00000170...|{9, [EFO_0006861,...|  CHEMBL3856515|         B|       null|         8.52|         IC50|            nM|           3.0|                =|   Homo sapiens|Cyclin-dependent ...|               9|  Direct single pro...|          null|[{P06493, Cyclin-...| SINGLE PROTEIN|   P06493|      Kinase|             8.52|                8.52|    TRUE|      INHIBITOR|           CHEMBL308|       true|ENSG00000170312|[chembl]|             false|               true|\n",
      "|       CHEMBL308|CHEMBL2103840|Small molecule|                      3.0|     false|{4, [ENSG00000170...|{9, [EFO_0006861,...|  CHEMBL3856515|         B|       null|         8.52|         IC50|            nM|           3.0|                =|   Homo sapiens|Cyclin-dependent ...|               9|  Direct single pro...|          null|[{P06493, Cyclin-...| SINGLE PROTEIN|   P06493|      Kinase|             8.52|                8.52|    TRUE|      INHIBITOR|          CHEMBL4036|       true|ENSG00000170312|[chembl]|             false|               true|\n",
      "|       CHEMBL308|CHEMBL2103840|Small molecule|                      3.0|     false|{4, [ENSG00000170...|{9, [EFO_0006861,...|  CHEMBL3856515|         B|       null|         8.52|         IC50|            nM|           3.0|                =|   Homo sapiens|Cyclin-dependent ...|               9|  Direct single pro...|          null|[{P06493, Cyclin-...| SINGLE PROTEIN|   P06493|      Kinase|             8.52|                8.52|    TRUE|      INHIBITOR|           CHEMBL301|       true|ENSG00000170312|[chembl]|             false|               true|\n",
      "|       CHEMBL308|CHEMBL1944698|Small molecule|                      1.0|     false|{6, [ENSG00000136...|{5, [EFO_0000182,...|  CHEMBL3856510|         B|       null|         8.52|         IC50|            nM|           3.0|                =|   Homo sapiens|Cyclin-dependent ...|               9|  Direct single pro...|          null|[{P06493, Cyclin-...| SINGLE PROTEIN|   P06493|      Kinase|             8.52|                8.52|    TRUE|      INHIBITOR|          CHEMBL3116|       true|ENSG00000170312|[chembl]|             false|               true|\n",
      "|       CHEMBL308|CHEMBL1944698|Small molecule|                      1.0|     false|{6, [ENSG00000136...|{5, [EFO_0000182,...|  CHEMBL3856510|         B|       null|         8.52|         IC50|            nM|           3.0|                =|   Homo sapiens|Cyclin-dependent ...|               9|  Direct single pro...|          null|[{P06493, Cyclin-...| SINGLE PROTEIN|   P06493|      Kinase|             8.52|                8.52|    TRUE|      INHIBITOR|          CHEMBL2971|       true|ENSG00000170312|[chembl]|             false|               true|\n",
      "|       CHEMBL308|CHEMBL1944698|Small molecule|                      1.0|     false|{6, [ENSG00000136...|{5, [EFO_0000182,...|  CHEMBL3856510|         B|       null|         8.52|         IC50|            nM|           3.0|                =|   Homo sapiens|Cyclin-dependent ...|               9|  Direct single pro...|          null|[{P06493, Cyclin-...| SINGLE PROTEIN|   P06493|      Kinase|             8.52|                8.52|    TRUE|      INHIBITOR|          CHEMBL3055|       true|ENSG00000170312|[chembl]|             false|               true|\n",
      "|       CHEMBL308|CHEMBL1944698|Small molecule|                      1.0|     false|{6, [ENSG00000136...|{5, [EFO_0000182,...|  CHEMBL3856510|         B|       null|         8.52|         IC50|            nM|           3.0|                =|   Homo sapiens|Cyclin-dependent ...|               9|  Direct single pro...|          null|[{P06493, Cyclin-...| SINGLE PROTEIN|   P06493|      Kinase|             8.52|                8.52|    TRUE|      INHIBITOR|           CHEMBL301|       true|ENSG00000170312|[chembl]|             false|               true|\n",
      "|       CHEMBL308|CHEMBL1944698|Small molecule|                      1.0|     false|{6, [ENSG00000136...|{5, [EFO_0000182,...|  CHEMBL3856510|         B|       null|         8.52|         IC50|            nM|           3.0|                =|   Homo sapiens|Cyclin-dependent ...|               9|  Direct single pro...|          null|[{P06493, Cyclin-...| SINGLE PROTEIN|   P06493|      Kinase|             8.52|                8.52|    TRUE|      INHIBITOR|          CHEMBL1974|       true|ENSG00000170312|[chembl]|             false|               true|\n",
      "|       CHEMBL308|CHEMBL1944698|Small molecule|                      1.0|     false|{6, [ENSG00000136...|{5, [EFO_0000182,...|  CHEMBL3856510|         B|       null|         8.52|         IC50|            nM|           3.0|                =|   Homo sapiens|Cyclin-dependent ...|               9|  Direct single pro...|          null|[{P06493, Cyclin-...| SINGLE PROTEIN|   P06493|      Kinase|             8.52|                8.52|    TRUE|      INHIBITOR|           CHEMBL308|       true|ENSG00000170312|[chembl]|             false|               true|\n",
      "+----------------+-------------+--------------+-------------------------+----------+--------------------+--------------------+---------------+----------+-----------+-------------+-------------+--------------+--------------+-----------------+---------------+--------------------+----------------+----------------------+--------------+--------------------+---------------+---------+------------+-----------------+--------------------+--------+---------------+--------------------+-----------+---------------+--------+------------------+-------------------+\n",
      "only showing top 20 rows\n",
      "\n"
     ]
    },
    {
     "name": "stderr",
     "output_type": "stream",
     "text": [
      "                                                                                \r"
     ]
    }
   ],
   "source": [
    "# Join by drugId and uniprotId = accession\n",
    "evidence_list = [\"targetId\", \"sources\", \"isHighQualityProbe\", \"isTherapeuticTarget\"]\n",
    "\n",
    "target_evidence = join_dataframes_by_many_cols(drug_to_moa_targetInMoA, \n",
    "                                            evidence, \n",
    "                                            [\"drugId\", \"accession\"], \n",
    "                                            [\"drugId\", \"uniprotId\"], \n",
    "                                             evidence_list).persist()\n",
    "target_evidence.show()"
   ]
  },
  {
   "cell_type": "code",
   "execution_count": 160,
   "metadata": {},
   "outputs": [],
   "source": [
    "# Classification of targets by genetic evidence support\n",
    "from pyspark.sql.types import BooleanType\n",
    "\n",
    "def is_ge(sources):\n",
    "    undesired_lists = [\n",
    "        ['chembl'],\n",
    "        ['chemicalProbes'],\n",
    "        ['chembl', 'chemicalProbes'],\n",
    "        ['chemicalProbes', 'chembl']\n",
    "    ]\n",
    "    return not (sources in undesired_lists or sources is None)\n",
    "\n",
    "def contains_chemical_probes(sources):\n",
    "    return 'chemicalProbes' in sources if sources else False\n",
    "\n",
    "# Register UDFs\n",
    "is_ge_udf = udf(is_ge, BooleanType())\n",
    "is_ge_clinical_udf = udf(is_ge_clinical, BooleanType())\n",
    "contains_chemical_probes_udf = udf(contains_chemical_probes, BooleanType())"
   ]
  },
  {
   "cell_type": "code",
   "execution_count": 161,
   "metadata": {},
   "outputs": [
    {
     "name": "stdout",
     "output_type": "stream",
     "text": [
      "+----------------+-------------+--------------+-------------------------+----------+--------------------+--------------------+---------------+----------+-----------+-------------+-------------+--------------+--------------+-----------------+---------------+--------------------+----------------+----------------------+--------------+--------------------+---------------+---------+------------+-----------------+--------------------+--------+---------------+--------------------+-----------+---------------+--------+------------------+-------------------+-----+-------------+-------+\n",
      "|target_chembl_id|       drugId|      drugType|maximumClinicalTrialPhase|isApproved|       linkedTargets|      linkedDiseases|assay_chembl_id|assay_type|action_type|pchembl_value|standard_type|standard_units|standard_value|standard_relation|target_organism|    target_pref_name|confidence_score|confidence_description|assay_category|   target_components|    target_type|accession|proteinClass|max_pchembl_value|median_pchembl_value|isActive|action_type_moa|target_chembl_id_moa|targetInMoA|       targetId| sources|isHighQualityProbe|isTherapeuticTarget| isGE|isGE_clinical|isProbe|\n",
      "+----------------+-------------+--------------+-------------------------+----------+--------------------+--------------------+---------------+----------+-----------+-------------+-------------+--------------+--------------+-----------------+---------------+--------------------+----------------+----------------------+--------------+--------------------+---------------+---------+------------+-----------------+--------------------+--------+---------------+--------------------+-----------+---------------+--------+------------------+-------------------+-----+-------------+-------+\n",
      "|   CHEMBL1907602|CHEMBL4442620|Small molecule|                      2.0|     false|{20, [ENSG0000017...|{3, [EFO_0003060,...|  CHEMBL3607089|         B|       null|         8.15|         IC50|            nM|           7.0|                =|   Homo sapiens|Cyclin-dependent ...|               7|  Direct protein co...|          null|[{P06493, Cyclin-...|PROTEIN COMPLEX|   P06493|      Kinase|             8.15|                8.15|    TRUE|      INHIBITOR|       CHEMBL3559691|      false|ENSG00000170312|[chembl]|             false|               true|false|         true|  false|\n",
      "|       CHEMBL308|CHEMBL2436978|Small molecule|                     null|      null|                null|                null|  CHEMBL2439767|         B|       null|         5.95|         IC50|            nM|        1125.0|                =|   Homo sapiens|Cyclin-dependent ...|               9|  Direct single pro...|          null|[{P06493, Cyclin-...| SINGLE PROTEIN|   P06493|      Kinase|             5.95|                5.95|   FALSE|           null|                null|       null|           null|    null|              null|               null|false|        false|  false|\n",
      "|       CHEMBL308|CHEMBL3688339|Small molecule|                     null|      null|                null|                null|  CHEMBL3991650|         B|       null|         6.54|           Kd|            nM|         288.0|                =|   Homo sapiens|Cyclin-dependent ...|               9|  Direct single pro...|          null|[{P06493, Cyclin-...| SINGLE PROTEIN|   P06493|      Kinase|             6.54|                6.54|   FALSE|           null|                null|       null|           null|    null|              null|               null|false|        false|  false|\n",
      "|   CHEMBL1907602|CHEMBL4442620|Small molecule|                      2.0|     false|{20, [ENSG0000017...|{3, [EFO_0003060,...|  CHEMBL4613391|         B|       null|         8.15|         IC50|            nM|           7.0|                =|   Homo sapiens|Cyclin-dependent ...|               7|  Direct protein co...|          null|[{P06493, Cyclin-...|PROTEIN COMPLEX|   P06493|      Kinase|             8.15|                8.15|    TRUE|      INHIBITOR|       CHEMBL3559691|      false|ENSG00000170312|[chembl]|             false|               true|false|         true|  false|\n",
      "|   CHEMBL1907602| CHEMBL428690|Small molecule|                      3.0|     false|{6, [ENSG00000170...|{26, [EFO_0001378...|  CHEMBL3856462|         B|       null|         7.57|         IC50|            nM|          27.0|                =|   Homo sapiens|Cyclin-dependent ...|               7|  Direct protein co...|          null|[{P06493, Cyclin-...|PROTEIN COMPLEX|   P06493|      Kinase|             7.57|                7.57|   FALSE|      INHIBITOR|          CHEMBL3055|      false|ENSG00000170312|[chembl]|             false|               true|false|         true|  false|\n",
      "|   CHEMBL1907602| CHEMBL428690|Small molecule|                      3.0|     false|{6, [ENSG00000170...|{26, [EFO_0001378...|  CHEMBL3856462|         B|       null|         7.57|         IC50|            nM|          27.0|                =|   Homo sapiens|Cyclin-dependent ...|               7|  Direct protein co...|          null|[{P06493, Cyclin-...|PROTEIN COMPLEX|   P06493|      Kinase|             7.57|                7.57|   FALSE|      INHIBITOR|          CHEMBL3116|      false|ENSG00000170312|[chembl]|             false|               true|false|         true|  false|\n",
      "|   CHEMBL1907602| CHEMBL428690|Small molecule|                      3.0|     false|{6, [ENSG00000170...|{26, [EFO_0001378...|  CHEMBL3856462|         B|       null|         7.57|         IC50|            nM|          27.0|                =|   Homo sapiens|Cyclin-dependent ...|               7|  Direct protein co...|          null|[{P06493, Cyclin-...|PROTEIN COMPLEX|   P06493|      Kinase|             7.57|                7.57|   FALSE|      INHIBITOR|          CHEMBL2508|      false|ENSG00000170312|[chembl]|             false|               true|false|         true|  false|\n",
      "|   CHEMBL1907602| CHEMBL428690|Small molecule|                      3.0|     false|{6, [ENSG00000170...|{26, [EFO_0001378...|  CHEMBL3856462|         B|       null|         7.57|         IC50|            nM|          27.0|                =|   Homo sapiens|Cyclin-dependent ...|               7|  Direct protein co...|          null|[{P06493, Cyclin-...|PROTEIN COMPLEX|   P06493|      Kinase|             7.57|                7.57|   FALSE|      INHIBITOR|           CHEMBL301|      false|ENSG00000170312|[chembl]|             false|               true|false|         true|  false|\n",
      "|   CHEMBL1907602| CHEMBL428690|Small molecule|                      3.0|     false|{6, [ENSG00000170...|{26, [EFO_0001378...|  CHEMBL3856462|         B|       null|         7.57|         IC50|            nM|          27.0|                =|   Homo sapiens|Cyclin-dependent ...|               7|  Direct protein co...|          null|[{P06493, Cyclin-...|PROTEIN COMPLEX|   P06493|      Kinase|             7.57|                7.57|   FALSE|      INHIBITOR|           CHEMBL308|      false|ENSG00000170312|[chembl]|             false|               true|false|         true|  false|\n",
      "|   CHEMBL1907602| CHEMBL428690|Small molecule|                      3.0|     false|{6, [ENSG00000170...|{26, [EFO_0001378...|  CHEMBL3856462|         B|       null|         7.57|         IC50|            nM|          27.0|                =|   Homo sapiens|Cyclin-dependent ...|               7|  Direct protein co...|          null|[{P06493, Cyclin-...|PROTEIN COMPLEX|   P06493|      Kinase|             7.57|                7.57|   FALSE|      INHIBITOR|           CHEMBL331|      false|ENSG00000170312|[chembl]|             false|               true|false|         true|  false|\n",
      "|       CHEMBL308|CHEMBL2103840|Small molecule|                      3.0|     false|{4, [ENSG00000170...|{9, [EFO_0006861,...|  CHEMBL3856515|         B|       null|         8.52|         IC50|            nM|           3.0|                =|   Homo sapiens|Cyclin-dependent ...|               9|  Direct single pro...|          null|[{P06493, Cyclin-...| SINGLE PROTEIN|   P06493|      Kinase|             8.52|                8.52|    TRUE|      INHIBITOR|          CHEMBL3116|       true|ENSG00000170312|[chembl]|             false|               true|false|         true|  false|\n",
      "|       CHEMBL308|CHEMBL2103840|Small molecule|                      3.0|     false|{4, [ENSG00000170...|{9, [EFO_0006861,...|  CHEMBL3856515|         B|       null|         8.52|         IC50|            nM|           3.0|                =|   Homo sapiens|Cyclin-dependent ...|               9|  Direct single pro...|          null|[{P06493, Cyclin-...| SINGLE PROTEIN|   P06493|      Kinase|             8.52|                8.52|    TRUE|      INHIBITOR|           CHEMBL308|       true|ENSG00000170312|[chembl]|             false|               true|false|         true|  false|\n",
      "|       CHEMBL308|CHEMBL2103840|Small molecule|                      3.0|     false|{4, [ENSG00000170...|{9, [EFO_0006861,...|  CHEMBL3856515|         B|       null|         8.52|         IC50|            nM|           3.0|                =|   Homo sapiens|Cyclin-dependent ...|               9|  Direct single pro...|          null|[{P06493, Cyclin-...| SINGLE PROTEIN|   P06493|      Kinase|             8.52|                8.52|    TRUE|      INHIBITOR|          CHEMBL4036|       true|ENSG00000170312|[chembl]|             false|               true|false|         true|  false|\n",
      "|       CHEMBL308|CHEMBL2103840|Small molecule|                      3.0|     false|{4, [ENSG00000170...|{9, [EFO_0006861,...|  CHEMBL3856515|         B|       null|         8.52|         IC50|            nM|           3.0|                =|   Homo sapiens|Cyclin-dependent ...|               9|  Direct single pro...|          null|[{P06493, Cyclin-...| SINGLE PROTEIN|   P06493|      Kinase|             8.52|                8.52|    TRUE|      INHIBITOR|           CHEMBL301|       true|ENSG00000170312|[chembl]|             false|               true|false|         true|  false|\n",
      "|       CHEMBL308|CHEMBL1944698|Small molecule|                      1.0|     false|{6, [ENSG00000136...|{5, [EFO_0000182,...|  CHEMBL3856510|         B|       null|         8.52|         IC50|            nM|           3.0|                =|   Homo sapiens|Cyclin-dependent ...|               9|  Direct single pro...|          null|[{P06493, Cyclin-...| SINGLE PROTEIN|   P06493|      Kinase|             8.52|                8.52|    TRUE|      INHIBITOR|          CHEMBL3116|       true|ENSG00000170312|[chembl]|             false|               true|false|         true|  false|\n",
      "|       CHEMBL308|CHEMBL1944698|Small molecule|                      1.0|     false|{6, [ENSG00000136...|{5, [EFO_0000182,...|  CHEMBL3856510|         B|       null|         8.52|         IC50|            nM|           3.0|                =|   Homo sapiens|Cyclin-dependent ...|               9|  Direct single pro...|          null|[{P06493, Cyclin-...| SINGLE PROTEIN|   P06493|      Kinase|             8.52|                8.52|    TRUE|      INHIBITOR|          CHEMBL2971|       true|ENSG00000170312|[chembl]|             false|               true|false|         true|  false|\n",
      "|       CHEMBL308|CHEMBL1944698|Small molecule|                      1.0|     false|{6, [ENSG00000136...|{5, [EFO_0000182,...|  CHEMBL3856510|         B|       null|         8.52|         IC50|            nM|           3.0|                =|   Homo sapiens|Cyclin-dependent ...|               9|  Direct single pro...|          null|[{P06493, Cyclin-...| SINGLE PROTEIN|   P06493|      Kinase|             8.52|                8.52|    TRUE|      INHIBITOR|          CHEMBL3055|       true|ENSG00000170312|[chembl]|             false|               true|false|         true|  false|\n",
      "|       CHEMBL308|CHEMBL1944698|Small molecule|                      1.0|     false|{6, [ENSG00000136...|{5, [EFO_0000182,...|  CHEMBL3856510|         B|       null|         8.52|         IC50|            nM|           3.0|                =|   Homo sapiens|Cyclin-dependent ...|               9|  Direct single pro...|          null|[{P06493, Cyclin-...| SINGLE PROTEIN|   P06493|      Kinase|             8.52|                8.52|    TRUE|      INHIBITOR|           CHEMBL301|       true|ENSG00000170312|[chembl]|             false|               true|false|         true|  false|\n",
      "|       CHEMBL308|CHEMBL1944698|Small molecule|                      1.0|     false|{6, [ENSG00000136...|{5, [EFO_0000182,...|  CHEMBL3856510|         B|       null|         8.52|         IC50|            nM|           3.0|                =|   Homo sapiens|Cyclin-dependent ...|               9|  Direct single pro...|          null|[{P06493, Cyclin-...| SINGLE PROTEIN|   P06493|      Kinase|             8.52|                8.52|    TRUE|      INHIBITOR|          CHEMBL1974|       true|ENSG00000170312|[chembl]|             false|               true|false|         true|  false|\n",
      "|       CHEMBL308|CHEMBL1944698|Small molecule|                      1.0|     false|{6, [ENSG00000136...|{5, [EFO_0000182,...|  CHEMBL3856510|         B|       null|         8.52|         IC50|            nM|           3.0|                =|   Homo sapiens|Cyclin-dependent ...|               9|  Direct single pro...|          null|[{P06493, Cyclin-...| SINGLE PROTEIN|   P06493|      Kinase|             8.52|                8.52|    TRUE|      INHIBITOR|           CHEMBL308|       true|ENSG00000170312|[chembl]|             false|               true|false|         true|  false|\n",
      "+----------------+-------------+--------------+-------------------------+----------+--------------------+--------------------+---------------+----------+-----------+-------------+-------------+--------------+--------------+-----------------+---------------+--------------------+----------------+----------------------+--------------+--------------------+---------------+---------+------------+-----------------+--------------------+--------+---------------+--------------------+-----------+---------------+--------+------------------+-------------------+-----+-------------+-------+\n",
      "only showing top 20 rows\n",
      "\n"
     ]
    },
    {
     "name": "stderr",
     "output_type": "stream",
     "text": [
      "                                                                                \r"
     ]
    }
   ],
   "source": [
    "# Apply UDFs to create new columns\n",
    "target_evidence_bool = target_evidence.withColumn(\"isGE\", is_ge_udf(\"sources\"))\\\n",
    "                        .withColumn(\"isGE_clinical\", is_ge_clinical_udf(\"sources\"))\\\n",
    "                        .withColumn(\"isProbe\", contains_chemical_probes_udf(\"sources\"))\n",
    "\n",
    "target_evidence_bool.show()"
   ]
  },
  {
   "cell_type": "code",
   "execution_count": 170,
   "metadata": {},
   "outputs": [
    {
     "name": "stderr",
     "output_type": "stream",
     "text": [
      "                                                                                \r"
     ]
    },
    {
     "data": {
      "text/plain": [
       "483"
      ]
     },
     "execution_count": 170,
     "metadata": {},
     "output_type": "execute_result"
    }
   ],
   "source": [
    "drug_active_only_probes = target_evidence_bool.filter(target_evidence_bool[\"isProbe\"] == True).filter(target_evidence_bool[\"isActive\"] == True)\n",
    "count_unique_values(drug_active_only_probes, \"drugId\")"
   ]
  },
  {
   "cell_type": "code",
   "execution_count": 171,
   "metadata": {},
   "outputs": [
    {
     "name": "stderr",
     "output_type": "stream",
     "text": [
      "                                                                                \r"
     ]
    },
    {
     "data": {
      "text/plain": [
       "131"
      ]
     },
     "execution_count": 171,
     "metadata": {},
     "output_type": "execute_result"
    }
   ],
   "source": [
    "drug_active_only_probes = target_evidence_bool.filter(target_evidence_bool[\"isHighQualityProbe\"] == True).filter(target_evidence_bool[\"isActive\"] == True)\n",
    "count_unique_values(drug_active_only_probes, \"drugId\")"
   ]
  },
  {
   "cell_type": "code",
   "execution_count": 164,
   "metadata": {},
   "outputs": [
    {
     "name": "stderr",
     "output_type": "stream",
     "text": [
      "                                                                                \r"
     ]
    },
    {
     "data": {
      "text/plain": [
       "2287"
      ]
     },
     "execution_count": 164,
     "metadata": {},
     "output_type": "execute_result"
    }
   ],
   "source": [
    "count_unique_values(target_evidence_bool, \"drugId\")"
   ]
  },
  {
   "cell_type": "code",
   "execution_count": 165,
   "metadata": {},
   "outputs": [
    {
     "data": {
      "text/plain": [
       "596"
      ]
     },
     "execution_count": 165,
     "metadata": {},
     "output_type": "execute_result"
    }
   ],
   "source": [
    "target_evidence_bool_clinical = target_evidence_bool.filter(target_evidence_bool[\"isApproved\"] != \"true\")\n",
    "# target_evidence_bool_clinical.show()\n",
    "count_unique_values(target_evidence_bool_clinical, \"drugId\")"
   ]
  },
  {
   "cell_type": "code",
   "execution_count": 166,
   "metadata": {},
   "outputs": [
    {
     "name": "stderr",
     "output_type": "stream",
     "text": [
      "                                                                                \r"
     ]
    },
    {
     "data": {
      "text/plain": [
       "850"
      ]
     },
     "execution_count": 166,
     "metadata": {},
     "output_type": "execute_result"
    }
   ],
   "source": [
    "target_evidence_bool_clinical = target_evidence_bool.filter(target_evidence_bool[\"isApproved\"] == True)\n",
    "# target_evidence_bool_clinical.show()\n",
    "count_unique_values(target_evidence_bool_clinical, \"drugId\")"
   ]
  },
  {
   "cell_type": "code",
   "execution_count": 111,
   "metadata": {},
   "outputs": [
    {
     "name": "stderr",
     "output_type": "stream",
     "text": [
      "[Stage 953:=============================================>       (170 + 8) / 200]\r"
     ]
    },
    {
     "name": "stdout",
     "output_type": "stream",
     "text": [
      "+----------+-------------------+\n",
      "|isApproved|unique_drugId_count|\n",
      "+----------+-------------------+\n",
      "|      null|               1160|\n",
      "|      true|               1318|\n",
      "|     false|                895|\n",
      "+----------+-------------------+\n",
      "\n"
     ]
    },
    {
     "name": "stderr",
     "output_type": "stream",
     "text": [
      "                                                                                \r"
     ]
    }
   ],
   "source": [
    "from pyspark.sql.functions import countDistinct\n",
    "\n",
    "# Group by 'isApproved' and count distinct 'drugId's\n",
    "drugId_count = target_evidence_bool.groupBy(\"isApproved\").agg(countDistinct(\"drugId\").alias(\"unique_drugId_count\"))\n",
    "\n",
    "# Show the result\n",
    "drugId_count.show()\n"
   ]
  },
  {
   "cell_type": "code",
   "execution_count": 105,
   "metadata": {},
   "outputs": [
    {
     "data": {
      "text/plain": [
       "187"
      ]
     },
     "execution_count": 105,
     "metadata": {},
     "output_type": "execute_result"
    }
   ],
   "source": [
    "target_evidence_bool_probe_h = target_evidence_bool.filter(target_evidence_bool[\"isHighQualityProbe\"] == True)\n",
    "# target_evidence_bool_probe_h.show()\n",
    "count_unique_values(target_evidence_bool_probe_h, \"drugId\")"
   ]
  },
  {
   "cell_type": "code",
   "execution_count": 106,
   "metadata": {},
   "outputs": [
    {
     "name": "stderr",
     "output_type": "stream",
     "text": [
      "                                                                                \r"
     ]
    },
    {
     "data": {
      "text/plain": [
       "695"
      ]
     },
     "execution_count": 106,
     "metadata": {},
     "output_type": "execute_result"
    }
   ],
   "source": [
    "target_evidence_bool_probe = target_evidence_bool.filter(target_evidence_bool[\"isProbe\"] == True)\n",
    "# target_evidence_bool_probe.show()\n",
    "count_unique_values(target_evidence_bool_probe, \"drugId\")"
   ]
  },
  {
   "cell_type": "code",
   "execution_count": 175,
   "metadata": {},
   "outputs": [
    {
     "name": "stdout",
     "output_type": "stream",
     "text": [
      "+----------+-----+\n",
      "|isApproved|count|\n",
      "+----------+-----+\n",
      "|      null|  638|\n",
      "|      true|  226|\n",
      "|     false|  186|\n",
      "+----------+-----+\n",
      "\n"
     ]
    }
   ],
   "source": [
    "# No targets in MoA\n",
    "target_evidence_no_moa = target_evidence_bool\\\n",
    "                        .filter(target_evidence_bool[\"target_chembl_id_moa\"].isNull())\\\n",
    "                        .filter(target_evidence_bool[\"IsActive\"] == True)\n",
    "show_unique_values_and_counts(target_evidence_no_moa.drop_duplicates([\"drugId\", \"isApproved\"]), \"isApproved\")"
   ]
  },
  {
   "cell_type": "code",
   "execution_count": 176,
   "metadata": {},
   "outputs": [
    {
     "name": "stderr",
     "output_type": "stream",
     "text": [
      "                                                                                \r"
     ]
    },
    {
     "data": {
      "text/plain": [
       "438"
      ]
     },
     "execution_count": 176,
     "metadata": {},
     "output_type": "execute_result"
    }
   ],
   "source": [
    "# No targets in MoA for probes\n",
    "target_evidence_no_moa_probes = target_evidence_bool\\\n",
    "                        .filter(target_evidence_bool[\"target_chembl_id_moa\"].isNull())\\\n",
    "                        .filter(target_evidence_bool[\"IsActive\"] == True)\\\n",
    "                        .filter(target_evidence_bool[\"isProbe\"] == True)\n",
    "count_unique_values(target_evidence_no_moa_probes, \"drugId\")"
   ]
  },
  {
   "cell_type": "markdown",
   "metadata": {},
   "source": [
    "# Data coverage"
   ]
  },
  {
   "cell_type": "markdown",
   "metadata": {},
   "source": [
    "### Drugs"
   ]
  },
  {
   "cell_type": "code",
   "execution_count": null,
   "metadata": {},
   "outputs": [],
   "source": [
    "# Filtering by:\n",
    "#         1. max_phase ≠ 4 | max_phase = 4 | probes = TRUE\n",
    "#         2. moa = NaN | moa ≠ NaN\n",
    "#         3. drugActive = TRUE\n",
    "#         4. GE = TRUE | clinical_GE = TRUE"
   ]
  },
  {
   "cell_type": "code",
   "execution_count": null,
   "metadata": {},
   "outputs": [],
   "source": [
    "# Number of clinical candidates/approved drugs/chemical probes for which:\n",
    "#     1. there is no MoA and they are bioactive against some targets:\n",
    "#         1. which have GE/GE+clinical evidence for any disease\n",
    "#     2. there is MoA but they are bioactive against some other targets\n",
    "#         1. which have GE/GE+clinical evidence for any disease"
   ]
  },
  {
   "cell_type": "markdown",
   "metadata": {},
   "source": [
    "### Targets"
   ]
  },
  {
   "cell_type": "code",
   "execution_count": 177,
   "metadata": {},
   "outputs": [
    {
     "name": "stdout",
     "output_type": "stream",
     "text": [
      "+----------------+-------------+--------------+-------------------------+----------+--------------------+--------------------+---------------+----------+-----------+-------------+-------------+--------------+--------------+-----------------+---------------+--------------------+----------------+----------------------+--------------+--------------------+---------------+---------+------------+-----------------+--------------------+--------+---------------+--------------------+-----------+---------------+--------+------------------+-------------------+-----+-------------+-------+\n",
      "|target_chembl_id|       drugId|      drugType|maximumClinicalTrialPhase|isApproved|       linkedTargets|      linkedDiseases|assay_chembl_id|assay_type|action_type|pchembl_value|standard_type|standard_units|standard_value|standard_relation|target_organism|    target_pref_name|confidence_score|confidence_description|assay_category|   target_components|    target_type|accession|proteinClass|max_pchembl_value|median_pchembl_value|isActive|action_type_moa|target_chembl_id_moa|targetInMoA|       targetId| sources|isHighQualityProbe|isTherapeuticTarget| isGE|isGE_clinical|isProbe|\n",
      "+----------------+-------------+--------------+-------------------------+----------+--------------------+--------------------+---------------+----------+-----------+-------------+-------------+--------------+--------------+-----------------+---------------+--------------------+----------------+----------------------+--------------+--------------------+---------------+---------+------------+-----------------+--------------------+--------+---------------+--------------------+-----------+---------------+--------+------------------+-------------------+-----+-------------+-------+\n",
      "|   CHEMBL1907602|CHEMBL4442620|Small molecule|                      2.0|     false|{20, [ENSG0000017...|{3, [EFO_0003060,...|  CHEMBL3607089|         B|       null|         8.15|         IC50|            nM|           7.0|                =|   Homo sapiens|Cyclin-dependent ...|               7|  Direct protein co...|          null|[{P06493, Cyclin-...|PROTEIN COMPLEX|   P06493|      Kinase|             8.15|                8.15|    TRUE|      INHIBITOR|       CHEMBL3559691|      false|ENSG00000170312|[chembl]|             false|               true|false|         true|  false|\n",
      "|       CHEMBL308|CHEMBL2436978|Small molecule|                     null|      null|                null|                null|  CHEMBL2439767|         B|       null|         5.95|         IC50|            nM|        1125.0|                =|   Homo sapiens|Cyclin-dependent ...|               9|  Direct single pro...|          null|[{P06493, Cyclin-...| SINGLE PROTEIN|   P06493|      Kinase|             5.95|                5.95|   FALSE|           null|                null|       null|           null|    null|              null|               null|false|        false|  false|\n",
      "|       CHEMBL308|CHEMBL3688339|Small molecule|                     null|      null|                null|                null|  CHEMBL3991650|         B|       null|         6.54|           Kd|            nM|         288.0|                =|   Homo sapiens|Cyclin-dependent ...|               9|  Direct single pro...|          null|[{P06493, Cyclin-...| SINGLE PROTEIN|   P06493|      Kinase|             6.54|                6.54|   FALSE|           null|                null|       null|           null|    null|              null|               null|false|        false|  false|\n",
      "|   CHEMBL1907602|CHEMBL4442620|Small molecule|                      2.0|     false|{20, [ENSG0000017...|{3, [EFO_0003060,...|  CHEMBL4613391|         B|       null|         8.15|         IC50|            nM|           7.0|                =|   Homo sapiens|Cyclin-dependent ...|               7|  Direct protein co...|          null|[{P06493, Cyclin-...|PROTEIN COMPLEX|   P06493|      Kinase|             8.15|                8.15|    TRUE|      INHIBITOR|       CHEMBL3559691|      false|ENSG00000170312|[chembl]|             false|               true|false|         true|  false|\n",
      "|   CHEMBL1907602| CHEMBL428690|Small molecule|                      3.0|     false|{6, [ENSG00000170...|{26, [EFO_0001378...|  CHEMBL3856462|         B|       null|         7.57|         IC50|            nM|          27.0|                =|   Homo sapiens|Cyclin-dependent ...|               7|  Direct protein co...|          null|[{P06493, Cyclin-...|PROTEIN COMPLEX|   P06493|      Kinase|             7.57|                7.57|   FALSE|      INHIBITOR|          CHEMBL3055|      false|ENSG00000170312|[chembl]|             false|               true|false|         true|  false|\n",
      "|   CHEMBL1907602| CHEMBL428690|Small molecule|                      3.0|     false|{6, [ENSG00000170...|{26, [EFO_0001378...|  CHEMBL3856462|         B|       null|         7.57|         IC50|            nM|          27.0|                =|   Homo sapiens|Cyclin-dependent ...|               7|  Direct protein co...|          null|[{P06493, Cyclin-...|PROTEIN COMPLEX|   P06493|      Kinase|             7.57|                7.57|   FALSE|      INHIBITOR|          CHEMBL3116|      false|ENSG00000170312|[chembl]|             false|               true|false|         true|  false|\n",
      "|   CHEMBL1907602| CHEMBL428690|Small molecule|                      3.0|     false|{6, [ENSG00000170...|{26, [EFO_0001378...|  CHEMBL3856462|         B|       null|         7.57|         IC50|            nM|          27.0|                =|   Homo sapiens|Cyclin-dependent ...|               7|  Direct protein co...|          null|[{P06493, Cyclin-...|PROTEIN COMPLEX|   P06493|      Kinase|             7.57|                7.57|   FALSE|      INHIBITOR|          CHEMBL2508|      false|ENSG00000170312|[chembl]|             false|               true|false|         true|  false|\n",
      "|   CHEMBL1907602| CHEMBL428690|Small molecule|                      3.0|     false|{6, [ENSG00000170...|{26, [EFO_0001378...|  CHEMBL3856462|         B|       null|         7.57|         IC50|            nM|          27.0|                =|   Homo sapiens|Cyclin-dependent ...|               7|  Direct protein co...|          null|[{P06493, Cyclin-...|PROTEIN COMPLEX|   P06493|      Kinase|             7.57|                7.57|   FALSE|      INHIBITOR|           CHEMBL301|      false|ENSG00000170312|[chembl]|             false|               true|false|         true|  false|\n",
      "|   CHEMBL1907602| CHEMBL428690|Small molecule|                      3.0|     false|{6, [ENSG00000170...|{26, [EFO_0001378...|  CHEMBL3856462|         B|       null|         7.57|         IC50|            nM|          27.0|                =|   Homo sapiens|Cyclin-dependent ...|               7|  Direct protein co...|          null|[{P06493, Cyclin-...|PROTEIN COMPLEX|   P06493|      Kinase|             7.57|                7.57|   FALSE|      INHIBITOR|           CHEMBL308|      false|ENSG00000170312|[chembl]|             false|               true|false|         true|  false|\n",
      "|   CHEMBL1907602| CHEMBL428690|Small molecule|                      3.0|     false|{6, [ENSG00000170...|{26, [EFO_0001378...|  CHEMBL3856462|         B|       null|         7.57|         IC50|            nM|          27.0|                =|   Homo sapiens|Cyclin-dependent ...|               7|  Direct protein co...|          null|[{P06493, Cyclin-...|PROTEIN COMPLEX|   P06493|      Kinase|             7.57|                7.57|   FALSE|      INHIBITOR|           CHEMBL331|      false|ENSG00000170312|[chembl]|             false|               true|false|         true|  false|\n",
      "|       CHEMBL308|CHEMBL2103840|Small molecule|                      3.0|     false|{4, [ENSG00000170...|{9, [EFO_0006861,...|  CHEMBL3856515|         B|       null|         8.52|         IC50|            nM|           3.0|                =|   Homo sapiens|Cyclin-dependent ...|               9|  Direct single pro...|          null|[{P06493, Cyclin-...| SINGLE PROTEIN|   P06493|      Kinase|             8.52|                8.52|    TRUE|      INHIBITOR|          CHEMBL3116|       true|ENSG00000170312|[chembl]|             false|               true|false|         true|  false|\n",
      "|       CHEMBL308|CHEMBL2103840|Small molecule|                      3.0|     false|{4, [ENSG00000170...|{9, [EFO_0006861,...|  CHEMBL3856515|         B|       null|         8.52|         IC50|            nM|           3.0|                =|   Homo sapiens|Cyclin-dependent ...|               9|  Direct single pro...|          null|[{P06493, Cyclin-...| SINGLE PROTEIN|   P06493|      Kinase|             8.52|                8.52|    TRUE|      INHIBITOR|           CHEMBL308|       true|ENSG00000170312|[chembl]|             false|               true|false|         true|  false|\n",
      "|       CHEMBL308|CHEMBL2103840|Small molecule|                      3.0|     false|{4, [ENSG00000170...|{9, [EFO_0006861,...|  CHEMBL3856515|         B|       null|         8.52|         IC50|            nM|           3.0|                =|   Homo sapiens|Cyclin-dependent ...|               9|  Direct single pro...|          null|[{P06493, Cyclin-...| SINGLE PROTEIN|   P06493|      Kinase|             8.52|                8.52|    TRUE|      INHIBITOR|          CHEMBL4036|       true|ENSG00000170312|[chembl]|             false|               true|false|         true|  false|\n",
      "|       CHEMBL308|CHEMBL2103840|Small molecule|                      3.0|     false|{4, [ENSG00000170...|{9, [EFO_0006861,...|  CHEMBL3856515|         B|       null|         8.52|         IC50|            nM|           3.0|                =|   Homo sapiens|Cyclin-dependent ...|               9|  Direct single pro...|          null|[{P06493, Cyclin-...| SINGLE PROTEIN|   P06493|      Kinase|             8.52|                8.52|    TRUE|      INHIBITOR|           CHEMBL301|       true|ENSG00000170312|[chembl]|             false|               true|false|         true|  false|\n",
      "|       CHEMBL308|CHEMBL1944698|Small molecule|                      1.0|     false|{6, [ENSG00000136...|{5, [EFO_0000182,...|  CHEMBL3856510|         B|       null|         8.52|         IC50|            nM|           3.0|                =|   Homo sapiens|Cyclin-dependent ...|               9|  Direct single pro...|          null|[{P06493, Cyclin-...| SINGLE PROTEIN|   P06493|      Kinase|             8.52|                8.52|    TRUE|      INHIBITOR|          CHEMBL3116|       true|ENSG00000170312|[chembl]|             false|               true|false|         true|  false|\n",
      "|       CHEMBL308|CHEMBL1944698|Small molecule|                      1.0|     false|{6, [ENSG00000136...|{5, [EFO_0000182,...|  CHEMBL3856510|         B|       null|         8.52|         IC50|            nM|           3.0|                =|   Homo sapiens|Cyclin-dependent ...|               9|  Direct single pro...|          null|[{P06493, Cyclin-...| SINGLE PROTEIN|   P06493|      Kinase|             8.52|                8.52|    TRUE|      INHIBITOR|          CHEMBL2971|       true|ENSG00000170312|[chembl]|             false|               true|false|         true|  false|\n",
      "|       CHEMBL308|CHEMBL1944698|Small molecule|                      1.0|     false|{6, [ENSG00000136...|{5, [EFO_0000182,...|  CHEMBL3856510|         B|       null|         8.52|         IC50|            nM|           3.0|                =|   Homo sapiens|Cyclin-dependent ...|               9|  Direct single pro...|          null|[{P06493, Cyclin-...| SINGLE PROTEIN|   P06493|      Kinase|             8.52|                8.52|    TRUE|      INHIBITOR|          CHEMBL3055|       true|ENSG00000170312|[chembl]|             false|               true|false|         true|  false|\n",
      "|       CHEMBL308|CHEMBL1944698|Small molecule|                      1.0|     false|{6, [ENSG00000136...|{5, [EFO_0000182,...|  CHEMBL3856510|         B|       null|         8.52|         IC50|            nM|           3.0|                =|   Homo sapiens|Cyclin-dependent ...|               9|  Direct single pro...|          null|[{P06493, Cyclin-...| SINGLE PROTEIN|   P06493|      Kinase|             8.52|                8.52|    TRUE|      INHIBITOR|           CHEMBL301|       true|ENSG00000170312|[chembl]|             false|               true|false|         true|  false|\n",
      "|       CHEMBL308|CHEMBL1944698|Small molecule|                      1.0|     false|{6, [ENSG00000136...|{5, [EFO_0000182,...|  CHEMBL3856510|         B|       null|         8.52|         IC50|            nM|           3.0|                =|   Homo sapiens|Cyclin-dependent ...|               9|  Direct single pro...|          null|[{P06493, Cyclin-...| SINGLE PROTEIN|   P06493|      Kinase|             8.52|                8.52|    TRUE|      INHIBITOR|          CHEMBL1974|       true|ENSG00000170312|[chembl]|             false|               true|false|         true|  false|\n",
      "|       CHEMBL308|CHEMBL1944698|Small molecule|                      1.0|     false|{6, [ENSG00000136...|{5, [EFO_0000182,...|  CHEMBL3856510|         B|       null|         8.52|         IC50|            nM|           3.0|                =|   Homo sapiens|Cyclin-dependent ...|               9|  Direct single pro...|          null|[{P06493, Cyclin-...| SINGLE PROTEIN|   P06493|      Kinase|             8.52|                8.52|    TRUE|      INHIBITOR|           CHEMBL308|       true|ENSG00000170312|[chembl]|             false|               true|false|         true|  false|\n",
      "+----------------+-------------+--------------+-------------------------+----------+--------------------+--------------------+---------------+----------+-----------+-------------+-------------+--------------+--------------+-----------------+---------------+--------------------+----------------+----------------------+--------------+--------------------+---------------+---------+------------+-----------------+--------------------+--------+---------------+--------------------+-----------+---------------+--------+------------------+-------------------+-----+-------------+-------+\n",
      "only showing top 20 rows\n",
      "\n"
     ]
    }
   ],
   "source": [
    "# Dataset with only pchembl value activity\n",
    "target_evidence_bool.show()"
   ]
  },
  {
   "cell_type": "code",
   "execution_count": 179,
   "metadata": {},
   "outputs": [
    {
     "name": "stdout",
     "output_type": "stream",
     "text": [
      "+---------------+-----+\n",
      "|       drugType|count|\n",
      "+---------------+-----+\n",
      "| Small molecule| 9218|\n",
      "|Oligosaccharide|    2|\n",
      "|           null|    1|\n",
      "|        Protein|  113|\n",
      "|       Antibody|    4|\n",
      "|        Unknown|   14|\n",
      "+---------------+-----+\n",
      "\n"
     ]
    }
   ],
   "source": [
    "show_unique_values_and_counts(target_evidence_bool, \"drugType\")"
   ]
  },
  {
   "cell_type": "code",
   "execution_count": 182,
   "metadata": {},
   "outputs": [
    {
     "name": "stderr",
     "output_type": "stream",
     "text": [
      "                                                                                \r"
     ]
    },
    {
     "data": {
      "text/plain": [
       "326"
      ]
     },
     "execution_count": 182,
     "metadata": {},
     "output_type": "execute_result"
    }
   ],
   "source": [
    "# Number of targets supported by GE which have active bioassays\n",
    "\n",
    "targets_GE = target_evidence_bool\\\n",
    "                .filter(target_evidence_bool[\"IsActive\"] == True)\\\n",
    "                .filter(target_evidence_bool[\"isGE\"] == True)\n",
    "\n",
    "count_unique_values(targets_GE, \"target_chembl_id\")"
   ]
  },
  {
   "cell_type": "code",
   "execution_count": 184,
   "metadata": {},
   "outputs": [
    {
     "name": "stderr",
     "output_type": "stream",
     "text": [
      "                                                                                \r"
     ]
    },
    {
     "data": {
      "text/plain": [
       "431"
      ]
     },
     "execution_count": 184,
     "metadata": {},
     "output_type": "execute_result"
    }
   ],
   "source": [
    "# Number of targets supported by GE_clinical which have active bioassays\n",
    "\n",
    "targets_GE_clinical = target_evidence_bool\\\n",
    "                .filter(target_evidence_bool[\"IsActive\"] == True)\\\n",
    "                .filter(target_evidence_bool[\"isGE_clinical\"] == True)\n",
    "\n",
    "count_unique_values(targets_GE_clinical, \"target_chembl_id\")"
   ]
  },
  {
   "cell_type": "code",
   "execution_count": 185,
   "metadata": {},
   "outputs": [
    {
     "name": "stderr",
     "output_type": "stream",
     "text": [
      "                                                                                \r"
     ]
    },
    {
     "data": {
      "text/plain": [
       "115"
      ]
     },
     "execution_count": 185,
     "metadata": {},
     "output_type": "execute_result"
    }
   ],
   "source": [
    "# Number of targets supported by GE which have active bioassays and not in MoA of the drug\n",
    "\n",
    "targets_GE_noMoA = target_evidence_bool\\\n",
    "                .filter(target_evidence_bool[\"IsActive\"] == True)\\\n",
    "                .filter(target_evidence_bool[\"isGE\"] == True)\\\n",
    "                .filter(target_evidence_bool[\"targetInMoA\"] != True)\n",
    "\n",
    "count_unique_values(targets_GE_noMoA, \"target_chembl_id\")"
   ]
  },
  {
   "cell_type": "code",
   "execution_count": 186,
   "metadata": {},
   "outputs": [
    {
     "name": "stderr",
     "output_type": "stream",
     "text": [
      "                                                                                \r"
     ]
    },
    {
     "data": {
      "text/plain": [
       "145"
      ]
     },
     "execution_count": 186,
     "metadata": {},
     "output_type": "execute_result"
    }
   ],
   "source": [
    "# Number of targets supported by GE_clinical which have active bioassays and not in MoA of the drug\n",
    "\n",
    "targets_GE_clinical_noMoA = target_evidence_bool\\\n",
    "                .filter(target_evidence_bool[\"IsActive\"] == True)\\\n",
    "                .filter(target_evidence_bool[\"isGE_clinical\"] == True)\\\n",
    "                .filter(target_evidence_bool[\"targetInMoA\"] != True)\n",
    "\n",
    "count_unique_values(targets_GE_clinical_noMoA, \"target_chembl_id\")"
   ]
  },
  {
   "cell_type": "markdown",
   "metadata": {},
   "source": [
    "## Action type"
   ]
  },
  {
   "cell_type": "code",
   "execution_count": 190,
   "metadata": {},
   "outputs": [
    {
     "name": "stdout",
     "output_type": "stream",
     "text": [
      "+----------------+-------------+--------------+-------------------------+----------+--------------------+--------------------+---------------+----------+-----------+-------------+-------------+--------------+--------------+-----------------+---------------+--------------------+----------------+----------------------+--------------+--------------------+---------------+---------+------------+-----------------+--------------------+--------+---------------+--------------------+-----------+---------------+--------+------------------+-------------------+-----+-------------+-------+\n",
      "|target_chembl_id|       drugId|      drugType|maximumClinicalTrialPhase|isApproved|       linkedTargets|      linkedDiseases|assay_chembl_id|assay_type|action_type|pchembl_value|standard_type|standard_units|standard_value|standard_relation|target_organism|    target_pref_name|confidence_score|confidence_description|assay_category|   target_components|    target_type|accession|proteinClass|max_pchembl_value|median_pchembl_value|isActive|action_type_moa|target_chembl_id_moa|targetInMoA|       targetId| sources|isHighQualityProbe|isTherapeuticTarget| isGE|isGE_clinical|isProbe|\n",
      "+----------------+-------------+--------------+-------------------------+----------+--------------------+--------------------+---------------+----------+-----------+-------------+-------------+--------------+--------------+-----------------+---------------+--------------------+----------------+----------------------+--------------+--------------------+---------------+---------+------------+-----------------+--------------------+--------+---------------+--------------------+-----------+---------------+--------+------------------+-------------------+-----+-------------+-------+\n",
      "|   CHEMBL1907602|CHEMBL4442620|Small molecule|                      2.0|     false|{20, [ENSG0000017...|{3, [EFO_0003060,...|  CHEMBL3607089|         B|       null|         8.15|         IC50|            nM|           7.0|                =|   Homo sapiens|Cyclin-dependent ...|               7|  Direct protein co...|          null|[{P06493, Cyclin-...|PROTEIN COMPLEX|   P06493|      Kinase|             8.15|                8.15|    TRUE|      INHIBITOR|       CHEMBL3559691|      false|ENSG00000170312|[chembl]|             false|               true|false|         true|  false|\n",
      "|       CHEMBL308|CHEMBL2436978|Small molecule|                     null|      null|                null|                null|  CHEMBL2439767|         B|       null|         5.95|         IC50|            nM|        1125.0|                =|   Homo sapiens|Cyclin-dependent ...|               9|  Direct single pro...|          null|[{P06493, Cyclin-...| SINGLE PROTEIN|   P06493|      Kinase|             5.95|                5.95|   FALSE|           null|                null|       null|           null|    null|              null|               null|false|        false|  false|\n",
      "|       CHEMBL308|CHEMBL3688339|Small molecule|                     null|      null|                null|                null|  CHEMBL3991650|         B|       null|         6.54|           Kd|            nM|         288.0|                =|   Homo sapiens|Cyclin-dependent ...|               9|  Direct single pro...|          null|[{P06493, Cyclin-...| SINGLE PROTEIN|   P06493|      Kinase|             6.54|                6.54|   FALSE|           null|                null|       null|           null|    null|              null|               null|false|        false|  false|\n",
      "|   CHEMBL1907602|CHEMBL4442620|Small molecule|                      2.0|     false|{20, [ENSG0000017...|{3, [EFO_0003060,...|  CHEMBL4613391|         B|       null|         8.15|         IC50|            nM|           7.0|                =|   Homo sapiens|Cyclin-dependent ...|               7|  Direct protein co...|          null|[{P06493, Cyclin-...|PROTEIN COMPLEX|   P06493|      Kinase|             8.15|                8.15|    TRUE|      INHIBITOR|       CHEMBL3559691|      false|ENSG00000170312|[chembl]|             false|               true|false|         true|  false|\n",
      "|   CHEMBL1907602| CHEMBL428690|Small molecule|                      3.0|     false|{6, [ENSG00000170...|{26, [EFO_0001378...|  CHEMBL3856462|         B|       null|         7.57|         IC50|            nM|          27.0|                =|   Homo sapiens|Cyclin-dependent ...|               7|  Direct protein co...|          null|[{P06493, Cyclin-...|PROTEIN COMPLEX|   P06493|      Kinase|             7.57|                7.57|   FALSE|      INHIBITOR|          CHEMBL3055|      false|ENSG00000170312|[chembl]|             false|               true|false|         true|  false|\n",
      "|   CHEMBL1907602| CHEMBL428690|Small molecule|                      3.0|     false|{6, [ENSG00000170...|{26, [EFO_0001378...|  CHEMBL3856462|         B|       null|         7.57|         IC50|            nM|          27.0|                =|   Homo sapiens|Cyclin-dependent ...|               7|  Direct protein co...|          null|[{P06493, Cyclin-...|PROTEIN COMPLEX|   P06493|      Kinase|             7.57|                7.57|   FALSE|      INHIBITOR|          CHEMBL3116|      false|ENSG00000170312|[chembl]|             false|               true|false|         true|  false|\n",
      "|   CHEMBL1907602| CHEMBL428690|Small molecule|                      3.0|     false|{6, [ENSG00000170...|{26, [EFO_0001378...|  CHEMBL3856462|         B|       null|         7.57|         IC50|            nM|          27.0|                =|   Homo sapiens|Cyclin-dependent ...|               7|  Direct protein co...|          null|[{P06493, Cyclin-...|PROTEIN COMPLEX|   P06493|      Kinase|             7.57|                7.57|   FALSE|      INHIBITOR|          CHEMBL2508|      false|ENSG00000170312|[chembl]|             false|               true|false|         true|  false|\n",
      "|   CHEMBL1907602| CHEMBL428690|Small molecule|                      3.0|     false|{6, [ENSG00000170...|{26, [EFO_0001378...|  CHEMBL3856462|         B|       null|         7.57|         IC50|            nM|          27.0|                =|   Homo sapiens|Cyclin-dependent ...|               7|  Direct protein co...|          null|[{P06493, Cyclin-...|PROTEIN COMPLEX|   P06493|      Kinase|             7.57|                7.57|   FALSE|      INHIBITOR|           CHEMBL301|      false|ENSG00000170312|[chembl]|             false|               true|false|         true|  false|\n",
      "|   CHEMBL1907602| CHEMBL428690|Small molecule|                      3.0|     false|{6, [ENSG00000170...|{26, [EFO_0001378...|  CHEMBL3856462|         B|       null|         7.57|         IC50|            nM|          27.0|                =|   Homo sapiens|Cyclin-dependent ...|               7|  Direct protein co...|          null|[{P06493, Cyclin-...|PROTEIN COMPLEX|   P06493|      Kinase|             7.57|                7.57|   FALSE|      INHIBITOR|           CHEMBL308|      false|ENSG00000170312|[chembl]|             false|               true|false|         true|  false|\n",
      "|   CHEMBL1907602| CHEMBL428690|Small molecule|                      3.0|     false|{6, [ENSG00000170...|{26, [EFO_0001378...|  CHEMBL3856462|         B|       null|         7.57|         IC50|            nM|          27.0|                =|   Homo sapiens|Cyclin-dependent ...|               7|  Direct protein co...|          null|[{P06493, Cyclin-...|PROTEIN COMPLEX|   P06493|      Kinase|             7.57|                7.57|   FALSE|      INHIBITOR|           CHEMBL331|      false|ENSG00000170312|[chembl]|             false|               true|false|         true|  false|\n",
      "|       CHEMBL308|CHEMBL2103840|Small molecule|                      3.0|     false|{4, [ENSG00000170...|{9, [EFO_0006861,...|  CHEMBL3856515|         B|       null|         8.52|         IC50|            nM|           3.0|                =|   Homo sapiens|Cyclin-dependent ...|               9|  Direct single pro...|          null|[{P06493, Cyclin-...| SINGLE PROTEIN|   P06493|      Kinase|             8.52|                8.52|    TRUE|      INHIBITOR|          CHEMBL3116|       true|ENSG00000170312|[chembl]|             false|               true|false|         true|  false|\n",
      "|       CHEMBL308|CHEMBL2103840|Small molecule|                      3.0|     false|{4, [ENSG00000170...|{9, [EFO_0006861,...|  CHEMBL3856515|         B|       null|         8.52|         IC50|            nM|           3.0|                =|   Homo sapiens|Cyclin-dependent ...|               9|  Direct single pro...|          null|[{P06493, Cyclin-...| SINGLE PROTEIN|   P06493|      Kinase|             8.52|                8.52|    TRUE|      INHIBITOR|           CHEMBL308|       true|ENSG00000170312|[chembl]|             false|               true|false|         true|  false|\n",
      "|       CHEMBL308|CHEMBL2103840|Small molecule|                      3.0|     false|{4, [ENSG00000170...|{9, [EFO_0006861,...|  CHEMBL3856515|         B|       null|         8.52|         IC50|            nM|           3.0|                =|   Homo sapiens|Cyclin-dependent ...|               9|  Direct single pro...|          null|[{P06493, Cyclin-...| SINGLE PROTEIN|   P06493|      Kinase|             8.52|                8.52|    TRUE|      INHIBITOR|          CHEMBL4036|       true|ENSG00000170312|[chembl]|             false|               true|false|         true|  false|\n",
      "|       CHEMBL308|CHEMBL2103840|Small molecule|                      3.0|     false|{4, [ENSG00000170...|{9, [EFO_0006861,...|  CHEMBL3856515|         B|       null|         8.52|         IC50|            nM|           3.0|                =|   Homo sapiens|Cyclin-dependent ...|               9|  Direct single pro...|          null|[{P06493, Cyclin-...| SINGLE PROTEIN|   P06493|      Kinase|             8.52|                8.52|    TRUE|      INHIBITOR|           CHEMBL301|       true|ENSG00000170312|[chembl]|             false|               true|false|         true|  false|\n",
      "|       CHEMBL308|CHEMBL1944698|Small molecule|                      1.0|     false|{6, [ENSG00000136...|{5, [EFO_0000182,...|  CHEMBL3856510|         B|       null|         8.52|         IC50|            nM|           3.0|                =|   Homo sapiens|Cyclin-dependent ...|               9|  Direct single pro...|          null|[{P06493, Cyclin-...| SINGLE PROTEIN|   P06493|      Kinase|             8.52|                8.52|    TRUE|      INHIBITOR|          CHEMBL3116|       true|ENSG00000170312|[chembl]|             false|               true|false|         true|  false|\n",
      "|       CHEMBL308|CHEMBL1944698|Small molecule|                      1.0|     false|{6, [ENSG00000136...|{5, [EFO_0000182,...|  CHEMBL3856510|         B|       null|         8.52|         IC50|            nM|           3.0|                =|   Homo sapiens|Cyclin-dependent ...|               9|  Direct single pro...|          null|[{P06493, Cyclin-...| SINGLE PROTEIN|   P06493|      Kinase|             8.52|                8.52|    TRUE|      INHIBITOR|          CHEMBL2971|       true|ENSG00000170312|[chembl]|             false|               true|false|         true|  false|\n",
      "|       CHEMBL308|CHEMBL1944698|Small molecule|                      1.0|     false|{6, [ENSG00000136...|{5, [EFO_0000182,...|  CHEMBL3856510|         B|       null|         8.52|         IC50|            nM|           3.0|                =|   Homo sapiens|Cyclin-dependent ...|               9|  Direct single pro...|          null|[{P06493, Cyclin-...| SINGLE PROTEIN|   P06493|      Kinase|             8.52|                8.52|    TRUE|      INHIBITOR|          CHEMBL3055|       true|ENSG00000170312|[chembl]|             false|               true|false|         true|  false|\n",
      "|       CHEMBL308|CHEMBL1944698|Small molecule|                      1.0|     false|{6, [ENSG00000136...|{5, [EFO_0000182,...|  CHEMBL3856510|         B|       null|         8.52|         IC50|            nM|           3.0|                =|   Homo sapiens|Cyclin-dependent ...|               9|  Direct single pro...|          null|[{P06493, Cyclin-...| SINGLE PROTEIN|   P06493|      Kinase|             8.52|                8.52|    TRUE|      INHIBITOR|           CHEMBL301|       true|ENSG00000170312|[chembl]|             false|               true|false|         true|  false|\n",
      "|       CHEMBL308|CHEMBL1944698|Small molecule|                      1.0|     false|{6, [ENSG00000136...|{5, [EFO_0000182,...|  CHEMBL3856510|         B|       null|         8.52|         IC50|            nM|           3.0|                =|   Homo sapiens|Cyclin-dependent ...|               9|  Direct single pro...|          null|[{P06493, Cyclin-...| SINGLE PROTEIN|   P06493|      Kinase|             8.52|                8.52|    TRUE|      INHIBITOR|          CHEMBL1974|       true|ENSG00000170312|[chembl]|             false|               true|false|         true|  false|\n",
      "|       CHEMBL308|CHEMBL1944698|Small molecule|                      1.0|     false|{6, [ENSG00000136...|{5, [EFO_0000182,...|  CHEMBL3856510|         B|       null|         8.52|         IC50|            nM|           3.0|                =|   Homo sapiens|Cyclin-dependent ...|               9|  Direct single pro...|          null|[{P06493, Cyclin-...| SINGLE PROTEIN|   P06493|      Kinase|             8.52|                8.52|    TRUE|      INHIBITOR|           CHEMBL308|       true|ENSG00000170312|[chembl]|             false|               true|false|         true|  false|\n",
      "+----------------+-------------+--------------+-------------------------+----------+--------------------+--------------------+---------------+----------+-----------+-------------+-------------+--------------+--------------+-----------------+---------------+--------------------+----------------+----------------------+--------------+--------------------+---------------+---------+------------+-----------------+--------------------+--------+---------------+--------------------+-----------+---------------+--------+------------------+-------------------+-----+-------------+-------+\n",
      "only showing top 20 rows\n",
      "\n"
     ]
    },
    {
     "data": {
      "text/plain": [
       "9352"
      ]
     },
     "execution_count": 190,
     "metadata": {},
     "output_type": "execute_result"
    }
   ],
   "source": [
    "# Taking table target_organism_filter (after pchembl filter)\n",
    "\n",
    "target_evidence_bool.show()\n",
    "target_evidence_bool.count()"
   ]
  },
  {
   "cell_type": "code",
   "execution_count": 192,
   "metadata": {},
   "outputs": [
    {
     "data": {
      "text/plain": [
       "2287"
      ]
     },
     "execution_count": 192,
     "metadata": {},
     "output_type": "execute_result"
    }
   ],
   "source": [
    "count_unique_values(target_evidence_bool, \"drugId\")"
   ]
  },
  {
   "cell_type": "code",
   "execution_count": 191,
   "metadata": {},
   "outputs": [
    {
     "name": "stdout",
     "output_type": "stream",
     "text": [
      "+--------------------+-----+\n",
      "|     action_type_moa|count|\n",
      "+--------------------+-----+\n",
      "|  NEGATIVE MODULATOR|    1|\n",
      "|NEGATIVE ALLOSTER...|    4|\n",
      "|          ANTAGONIST|  166|\n",
      "|                null| 1442|\n",
      "|       BINDING AGENT|    1|\n",
      "|     PARTIAL AGONIST|    8|\n",
      "|           ACTIVATOR|    1|\n",
      "|             BLOCKER|   42|\n",
      "|    DISRUPTING AGENT|    4|\n",
      "|           INHIBITOR|  491|\n",
      "|           SUBSTRATE|    1|\n",
      "|POSITIVE ALLOSTER...|    8|\n",
      "|     CHELATING AGENT|    1|\n",
      "|  POSITIVE MODULATOR|    4|\n",
      "|             AGONIST|  117|\n",
      "|              OPENER|    5|\n",
      "|     INVERSE AGONIST|    4|\n",
      "|     RELEASING AGENT|    1|\n",
      "|           MODULATOR|    8|\n",
      "|      REDUCING AGENT|    1|\n",
      "+--------------------+-----+\n",
      "only showing top 20 rows\n",
      "\n"
     ]
    }
   ],
   "source": [
    "show_unique_values_and_counts(target_evidence_bool.drop_duplicates([\"drugId\", \"action_type_moa\"]), \"action_type_moa\")"
   ]
  },
  {
   "cell_type": "code",
   "execution_count": null,
   "metadata": {},
   "outputs": [
    {
     "name": "stdout",
     "output_type": "stream",
     "text": [
      "+--------------------+------+\n",
      "|         action_type| count|\n",
      "+--------------------+------+\n",
      "|                null|211437|\n",
      "|{INHIBITOR, Negat...|   124|\n",
      "|{SUBSTRATE, Carri...|    47|\n",
      "|{ANTAGONIST, Bind...|    41|\n",
      "|{INVERSE AGONIST,...|     2|\n",
      "|{AGONIST, Binds t...|     4|\n",
      "|{ACTIVATOR, Posit...|     1|\n",
      "+--------------------+------+\n",
      "\n"
     ]
    }
   ],
   "source": [
    "show_unique_values_and_counts(drug_to_moa, \"action_type\")"
   ]
  },
  {
   "cell_type": "markdown",
   "metadata": {},
   "source": [
    "### Drug-Target pairs"
   ]
  },
  {
   "cell_type": "code",
   "execution_count": null,
   "metadata": {},
   "outputs": [],
   "source": [
    "# With non pharmacological action\n"
   ]
  },
  {
   "cell_type": "markdown",
   "metadata": {},
   "source": []
  }
 ],
 "metadata": {
  "kernelspec": {
   "display_name": "base",
   "language": "python",
   "name": "python3"
  },
  "language_info": {
   "codemirror_mode": {
    "name": "ipython",
    "version": 3
   },
   "file_extension": ".py",
   "mimetype": "text/x-python",
   "name": "python",
   "nbconvert_exporter": "python",
   "pygments_lexer": "ipython3",
   "version": "3.10.8"
  },
  "orig_nbformat": 4
 },
 "nbformat": 4,
 "nbformat_minor": 2
}
