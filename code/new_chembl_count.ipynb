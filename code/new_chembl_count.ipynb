{
 "cells": [
  {
   "cell_type": "code",
   "execution_count": 15,
   "metadata": {},
   "outputs": [],
   "source": [
    "from pyspark.sql import SparkSession\n",
    "import pyspark.sql.functions as f\n",
    "from pyspark.sql import DataFrame\n",
    "from pyspark.sql.functions import col\n",
    "from pyspark.sql.functions import udf\n",
    "from pyspark.sql.types import StringType\n",
    "from pyspark.sql import Row\n",
    "from pyspark.sql.functions import col, broadcast, when, max, expr, collect_list, concat_ws, array_contains, split, collect_list, array_distinct\n",
    "from pyspark.sql.types import BooleanType"
   ]
  },
  {
   "cell_type": "code",
   "execution_count": 16,
   "metadata": {},
   "outputs": [],
   "source": [
    "spark = SparkSession.builder.getOrCreate()"
   ]
  },
  {
   "cell_type": "code",
   "execution_count": 17,
   "metadata": {},
   "outputs": [],
   "source": [
    "# Bioactivity data from ChEMBL filtered (exact protein/homolog, assay type != P or U, human targets)\n",
    "input_path = \"gs://ot-team/polina/uniprot_to_class\"\n",
    "input = spark.read.parquet(input_path)"
   ]
  },
  {
   "cell_type": "code",
   "execution_count": 18,
   "metadata": {},
   "outputs": [],
   "source": [
    "def join_dataframes(initial_df: DataFrame, \n",
    "                    second_df: DataFrame, \n",
    "                    initial_key_column: str, \n",
    "                    second_key_column: str,\n",
    "                    columns_to_join: list) -> DataFrame:\n",
    "    \"\"\"\n",
    "    Joins two PySpark DataFrames on specified key columns.\n",
    "\n",
    "    Args:\n",
    "    initial_df (DataFrame): The initial PySpark DataFrame.\n",
    "    second_df (DataFrame): The second PySpark DataFrame to join with.\n",
    "    initial_key_column (str): The key column name in the initial DataFrame.\n",
    "    second_key_column (str): The key column name in the second DataFrame.\n",
    "    columns_to_join (list): List of column names from the second DataFrame to include in the join.\n",
    "\n",
    "    Returns:\n",
    "    DataFrame: The resulting DataFrame after the join.\n",
    "    \"\"\"\n",
    "\n",
    "    # Selecting specified columns from the second DataFrame, including its key column\n",
    "    second_df_selected = second_df.select([second_key_column] + columns_to_join)\n",
    "\n",
    "    # Performing the left join\n",
    "    joined_df = initial_df.join(second_df_selected, \n",
    "                                initial_df[initial_key_column] == second_df_selected[second_key_column], \n",
    "                                how='left')\n",
    "\n",
    "    # Drop the second key column if not needed\n",
    "    joined_df = joined_df.drop(second_df_selected[second_key_column])\n",
    "\n",
    "    return joined_df\n"
   ]
  },
  {
   "cell_type": "code",
   "execution_count": 19,
   "metadata": {},
   "outputs": [],
   "source": [
    "def count_unique_values(df: DataFrame, column_name: str) -> int:\n",
    "    \"\"\"\n",
    "    Count unique values in a specific column of a PySpark DataFrame.\n",
    "\n",
    "    Args:\n",
    "    df (DataFrame): The PySpark DataFrame.\n",
    "    column_name (str): The name of the column to analyze.\n",
    "\n",
    "    Returns:\n",
    "    int: The number of unique values in the column.\n",
    "    \"\"\"\n",
    "    # Get distinct values in the column and count them\n",
    "    unique_count = df.select(column_name).distinct().count()\n",
    "\n",
    "    return unique_count\n",
    "\n",
    "# Example usage\n",
    "# unique_count = count_unique_values(your_dataframe, 'your_column_name')\n",
    "# print(f\"Number of unique values: {unique_count}\")\n"
   ]
  },
  {
   "cell_type": "code",
   "execution_count": 20,
   "metadata": {},
   "outputs": [],
   "source": [
    "def show_unique_values_and_counts(df: DataFrame, column_name: str):\n",
    "    \"\"\"\n",
    "    Shows unique values and their counts for a specified column in a Spark DataFrame.\n",
    "\n",
    "    Parameters:\n",
    "    df (DataFrame): The Spark DataFrame to analyze.\n",
    "    column_name (str): The name of the column for which to count unique values.\n",
    "    \"\"\"\n",
    "    if column_name not in df.columns:\n",
    "        raise ValueError(f\"Column {column_name} not found in DataFrame\")\n",
    "\n",
    "    unique_values_counts = df.groupBy(column_name).count()\n",
    "    unique_values_counts.show()\n"
   ]
  },
  {
   "cell_type": "markdown",
   "metadata": {},
   "source": [
    "## Drug activity threshold"
   ]
  },
  {
   "cell_type": "markdown",
   "metadata": {},
   "source": [
    "### based on pchembl_value and proteinClass"
   ]
  },
  {
   "cell_type": "code",
   "execution_count": 21,
   "metadata": {},
   "outputs": [
    {
     "name": "stdout",
     "output_type": "stream",
     "text": [
      "+-------------+--------------+-------------------------+----------+--------------------+--------------------+---------------+----------+-----------+-------------+-----------------+--------------+--------------+-----------------+---------------+--------------------+----------------+---------------------+-------------------------+----------------+----------------------+--------------+--------------------+---------------+---------+------------+\n",
      "|       drugId|      drugType|maximumClinicalTrialPhase|isApproved|       linkedTargets|      linkedDiseases|assay_chembl_id|assay_type|action_type|pchembl_value|    standard_type|standard_units|standard_value|standard_relation|target_organism|    target_pref_name|target_chembl_id|data_validity_comment|data_validity_description|confidence_score|confidence_description|assay_category|   target_components|    target_type|accession|proteinClass|\n",
      "+-------------+--------------+-------------------------+----------+--------------------+--------------------+---------------+----------+-----------+-------------+-----------------+--------------+--------------+-----------------+---------------+--------------------+----------------+---------------------+-------------------------+----------------+----------------------+--------------+--------------------+---------------+---------+------------+\n",
      "|  CHEMBL14762|Small molecule|                      2.0|     false|{5, [ENSG00000136...|{5, [MONDO_000906...|  CHEMBL1767842|         B|       null|         5.75|             IC50|            nM|        1770.0|                =|   Homo sapiens|      CDK9/cyclin T1|   CHEMBL2111389|                 null|                     null|               7|  Direct protein co...|          null|[{O60563, Cyclin-...|PROTEIN COMPLEX|   O60563|        None|\n",
      "|   CHEMBL7917|Small molecule|                     null|      null|                null|                null|  CHEMBL2218984|         B|       null|         null|Residual Activity|             %|          96.0|                =|   Homo sapiens|      CDK9/cyclin T1|   CHEMBL2111389|                 null|                     null|               7|  Direct protein co...|          null|[{O60563, Cyclin-...|PROTEIN COMPLEX|   O60563|        None|\n",
      "|  CHEMBL38380|Small molecule|                      3.0|     false|{2, [ENSG00000134...|{6, [MONDO_000497...|  CHEMBL2218984|         B|       null|         null|Residual Activity|             %|          81.0|                =|   Homo sapiens|      CDK9/cyclin T1|   CHEMBL2111389|                 null|                     null|               7|  Direct protein co...|          null|[{O60563, Cyclin-...|PROTEIN COMPLEX|   O60563|        None|\n",
      "| CHEMBL258844|Small molecule|                     null|      null|                null|                null|  CHEMBL2218985|         B|       null|         null|Residual Activity|             %|         105.0|                =|   Homo sapiens|      CDK9/cyclin T1|   CHEMBL2111389|                 null|                     null|               7|  Direct protein co...|          null|[{O60563, Cyclin-...|PROTEIN COMPLEX|   O60563|        None|\n",
      "| CHEMBL605003|Small molecule|                     null|      null|                null|                null|  CHEMBL2218985|         B|       null|         null|Residual Activity|             %|          93.0|                =|   Homo sapiens|      CDK9/cyclin T1|   CHEMBL2111389|                 null|                     null|               7|  Direct protein co...|          null|[{O60563, Cyclin-...|PROTEIN COMPLEX|   O60563|        None|\n",
      "|  CHEMBL13045|Small molecule|                     null|      null|                null|                null|  CHEMBL2218985|         B|       null|         null|Residual Activity|             %|          93.0|                =|   Homo sapiens|      CDK9/cyclin T1|   CHEMBL2111389|                 null|                     null|               7|  Direct protein co...|          null|[{O60563, Cyclin-...|PROTEIN COMPLEX|   O60563|        None|\n",
      "|CHEMBL3612515|Small molecule|                     null|      null|                null|                null|  CHEMBL3615643|         B|       null|         null|             IC50|            nM|       10000.0|                >|   Homo sapiens|      CDK9/cyclin T1|   CHEMBL2111389|                 null|                     null|               7|  Direct protein co...|          null|[{O60563, Cyclin-...|PROTEIN COMPLEX|   O60563|        None|\n",
      "| CHEMBL491228|Small molecule|                     null|      null|                null|                null|  CHEMBL3807317|         B|       null|         null|       Inhibition|             %|          50.0|                >|   Homo sapiens|      CDK9/cyclin T1|   CHEMBL2111389|                 null|                     null|               7|  Direct protein co...|          null|[{O60563, Cyclin-...|PROTEIN COMPLEX|   O60563|        None|\n",
      "|CHEMBL4537673|       Unknown|                     null|      null|                null|                null|  CHEMBL4380523|         B|       null|         null|             IC50|          null|          null|             null|   Homo sapiens|      CDK9/cyclin T1|   CHEMBL2111389|                 null|                     null|               7|  Direct protein co...|          null|[{O60563, Cyclin-...|PROTEIN COMPLEX|   O60563|        None|\n",
      "|CHEMBL3545083|Small molecule|                      1.0|     false|{6, [ENSG00000170...|  {1, [EFO_0001642]}|  CHEMBL3856554|         B|       null|         9.00|             IC50|            nM|           1.0|                =|   Homo sapiens|      CDK9/cyclin T1|   CHEMBL2111389|                 null|                     null|               7|  Direct protein co...|          null|[{O60563, Cyclin-...|PROTEIN COMPLEX|   O60563|        None|\n",
      "|  CHEMBL12208|Small molecule|                      2.0|     false|                null|{3, [MONDO_000514...|  CHEMBL1941822|         B|       null|         null|               Ki|            nM|      100000.0|                >|   Homo sapiens|Carbonic anhydras...|       CHEMBL205|                 null|                     null|               9|  Direct single pro...|          null|[{P00918, Carboni...| SINGLE PROTEIN|   P00918|      Enzyme|\n",
      "|     CHEMBL20|Small molecule|                      4.0|      true|{4, [ENSG00000167...|{33, [MONDO_00053...|  CHEMBL4142346|         A|       null|         7.92|               Ki|            nM|          12.1|                =|   Homo sapiens|Carbonic anhydras...|       CHEMBL205|                 null|                     null|               9|  Direct single pro...|          null|[{P00918, Carboni...| SINGLE PROTEIN|   P00918|      Enzyme|\n",
      "|     CHEMBL39|Small molecule|                      3.0|     false|                null|  {1, [EFO_0006911]}|  CHEMBL2318049|         B|       null|         null|               KA|            uM|          50.0|                =|   Homo sapiens|Carbonic anhydras...|       CHEMBL205|                 null|                     null|               9|  Direct single pro...|          null|[{P00918, Carboni...| SINGLE PROTEIN|   P00918|      Enzyme|\n",
      "|     CHEMBL20|Small molecule|                      4.0|      true|{4, [ENSG00000167...|{33, [MONDO_00053...|   CHEMBL885506|         B|       null|         null|           Kinact|            nM|          12.0|                =|   Homo sapiens|Carbonic anhydras...|       CHEMBL205|                 null|                     null|               9|  Direct single pro...|          null|[{P00918, Carboni...| SINGLE PROTEIN|   P00918|      Enzyme|\n",
      "| CHEMBL218490|Small molecule|                      4.0|      true|{1, [ENSG00000104...|{7, [EFO_1001069,...|  CHEMBL1063842|         B|       null|         8.05|               Ki|            nM|           9.0|                =|   Homo sapiens|Carbonic anhydras...|       CHEMBL205|                 null|                     null|               9|  Direct single pro...|          null|[{P00918, Carboni...| SINGLE PROTEIN|   P00918|      Enzyme|\n",
      "|     CHEMBL20|Small molecule|                      4.0|      true|{4, [ENSG00000167...|{33, [MONDO_00053...|  CHEMBL3097930|         B|       null|         null|             IC50|            nM|          10.0|                <|   Homo sapiens|Carbonic anhydras...|       CHEMBL205|                 null|                     null|               9|  Direct single pro...|          null|[{P00918, Carboni...| SINGLE PROTEIN|   P00918|      Enzyme|\n",
      "|    CHEMBL118|Small molecule|                      4.0|      true|{1, [ENSG00000073...|{110, [HP_0012532...|  CHEMBL3367566|         B|       null|         7.68|               Ki|            nM|          21.0|                =|   Homo sapiens|Carbonic anhydras...|       CHEMBL205|                 null|                     null|               9|  Direct single pro...|          null|[{P00918, Carboni...| SINGLE PROTEIN|   P00918|      Enzyme|\n",
      "| CHEMBL328560|Small molecule|                      4.0|      true|{12, [ENSG0000010...|{2, [EFO_0003918,...|  CHEMBL3367566|         B|       null|         8.05|               Ki|            nM|           9.0|                =|   Homo sapiens|Carbonic anhydras...|       CHEMBL205|                 null|                     null|               9|  Direct single pro...|          null|[{P00918, Carboni...| SINGLE PROTEIN|   P00918|      Enzyme|\n",
      "| CHEMBL220492|Small molecule|                      4.0|      true|{37, [ENSG0000014...|{44, [HP_0011868,...|  CHEMBL2415807|         B|       null|         8.00|               Ki|            nM|          10.0|                =|   Homo sapiens|Carbonic anhydras...|       CHEMBL205|                 null|                     null|               9|  Direct single pro...|          null|[{P00918, Carboni...| SINGLE PROTEIN|   P00918|      Enzyme|\n",
      "|    CHEMBL750|Small molecule|                      4.0|      true|{10, [ENSG0000014...|{19, [EFO_0004238...|  CHEMBL3404499|         B|       null|         7.46|               Ki|            nM|          35.0|                =|   Homo sapiens|Carbonic anhydras...|       CHEMBL205|                 null|                     null|               9|  Direct single pro...|          null|[{P00918, Carboni...| SINGLE PROTEIN|   P00918|      Enzyme|\n",
      "+-------------+--------------+-------------------------+----------+--------------------+--------------------+---------------+----------+-----------+-------------+-----------------+--------------+--------------+-----------------+---------------+--------------------+----------------+---------------------+-------------------------+----------------+----------------------+--------------+--------------------+---------------+---------+------------+\n",
      "only showing top 20 rows\n",
      "\n"
     ]
    }
   ],
   "source": [
    "input.show()"
   ]
  },
  {
   "cell_type": "code",
   "execution_count": 22,
   "metadata": {},
   "outputs": [
    {
     "name": "stdout",
     "output_type": "stream",
     "text": [
      "+--------+--------------+-------------------------+----------+--------------------+--------------------+---------------+----------+-----------+-------------+-------------+--------------+--------------+-----------------+---------------+--------------------+----------------+---------------------+-------------------------+----------------+----------------------+--------------+--------------------+--------------+---------+------------+\n",
      "|  drugId|      drugType|maximumClinicalTrialPhase|isApproved|       linkedTargets|      linkedDiseases|assay_chembl_id|assay_type|action_type|pchembl_value|standard_type|standard_units|standard_value|standard_relation|target_organism|    target_pref_name|target_chembl_id|data_validity_comment|data_validity_description|confidence_score|confidence_description|assay_category|   target_components|   target_type|accession|proteinClass|\n",
      "+--------+--------------+-------------------------+----------+--------------------+--------------------+---------------+----------+-----------+-------------+-------------+--------------+--------------+-----------------+---------------+--------------------+----------------+---------------------+-------------------------+----------------+----------------------+--------------+--------------------+--------------+---------+------------+\n",
      "|CHEMBL20|Small molecule|                      4.0|      true|{4, [ENSG00000167...|{33, [MONDO_00053...|  CHEMBL4142346|         A|       null|         7.92|           Ki|            nM|          12.1|                =|   Homo sapiens|Carbonic anhydras...|       CHEMBL205|                 null|                     null|               9|  Direct single pro...|          null|[{P00918, Carboni...|SINGLE PROTEIN|   P00918|      Enzyme|\n",
      "|CHEMBL20|Small molecule|                      4.0|      true|{4, [ENSG00000167...|{33, [MONDO_00053...|   CHEMBL885506|         B|       null|         null|       Kinact|            nM|          12.0|                =|   Homo sapiens|Carbonic anhydras...|       CHEMBL205|                 null|                     null|               9|  Direct single pro...|          null|[{P00918, Carboni...|SINGLE PROTEIN|   P00918|      Enzyme|\n",
      "|CHEMBL20|Small molecule|                      4.0|      true|{4, [ENSG00000167...|{33, [MONDO_00053...|  CHEMBL3097930|         B|       null|         null|         IC50|            nM|          10.0|                <|   Homo sapiens|Carbonic anhydras...|       CHEMBL205|                 null|                     null|               9|  Direct single pro...|          null|[{P00918, Carboni...|SINGLE PROTEIN|   P00918|      Enzyme|\n",
      "|CHEMBL20|Small molecule|                      4.0|      true|{4, [ENSG00000167...|{33, [MONDO_00053...|  CHEMBL1781043|         B|       null|         7.92|           Ki|            nM|          12.0|                =|   Homo sapiens|Carbonic anhydras...|       CHEMBL205|                 null|                     null|               9|  Direct single pro...|          null|[{P00918, Carboni...|SINGLE PROTEIN|   P00918|      Enzyme|\n",
      "|CHEMBL20|Small molecule|                      4.0|      true|{4, [ENSG00000167...|{33, [MONDO_00053...|  CHEMBL2384053|         B|       null|         7.92|           Ki|            nM|          12.0|                =|   Homo sapiens|Carbonic anhydras...|       CHEMBL205|                 null|                     null|               9|  Direct single pro...|          null|[{P00918, Carboni...|SINGLE PROTEIN|   P00918|      Enzyme|\n",
      "|CHEMBL20|Small molecule|                      4.0|      true|{4, [ENSG00000167...|{33, [MONDO_00053...|  CHEMBL3874974|         B|       null|         7.92|           Ki|            nM|          12.1|                =|   Homo sapiens|Carbonic anhydras...|       CHEMBL205|                 null|                     null|               9|  Direct single pro...|          null|[{P00918, Carboni...|SINGLE PROTEIN|   P00918|      Enzyme|\n",
      "|CHEMBL20|Small molecule|                      4.0|      true|{4, [ENSG00000167...|{33, [MONDO_00053...|  CHEMBL1177457|         B|       null|         7.92|           Ki|            nM|          12.0|                =|   Homo sapiens|Carbonic anhydras...|       CHEMBL205|                 null|                     null|               9|  Direct single pro...|          null|[{P00918, Carboni...|SINGLE PROTEIN|   P00918|      Enzyme|\n",
      "|CHEMBL20|Small molecule|                      4.0|      true|{4, [ENSG00000167...|{33, [MONDO_00053...|  CHEMBL3406244|         B|       null|         7.21|           Ki|            nM|          61.1|                =|   Homo sapiens|Carbonic anhydras...|       CHEMBL205|                 null|                     null|               9|  Direct single pro...|          null|[{P00918, Carboni...|SINGLE PROTEIN|   P00918|      Enzyme|\n",
      "|CHEMBL20|Small molecule|                      4.0|      true|{4, [ENSG00000167...|{33, [MONDO_00053...|   CHEMBL929747|         B|       null|         8.05|         IC50|            nM|           8.9|                =|   Homo sapiens|Carbonic anhydras...|       CHEMBL205|                 null|                     null|               9|  Direct single pro...|          null|[{P00918, Carboni...|SINGLE PROTEIN|   P00918|      Enzyme|\n",
      "|CHEMBL20|Small molecule|                      4.0|      true|{4, [ENSG00000167...|{33, [MONDO_00053...|  CHEMBL3756217|         B|       null|         7.92|           Ki|            nM|          12.0|                =|   Homo sapiens|Carbonic anhydras...|       CHEMBL205|                 null|                     null|               9|  Direct single pro...|          null|[{P00918, Carboni...|SINGLE PROTEIN|   P00918|      Enzyme|\n",
      "|CHEMBL20|Small molecule|                      4.0|      true|{4, [ENSG00000167...|{33, [MONDO_00053...|  CHEMBL4135745|         A|       null|         7.92|           Ki|            nM|          12.1|                =|   Homo sapiens|Carbonic anhydras...|       CHEMBL205|                 null|                     null|               9|  Direct single pro...|          null|[{P00918, Carboni...|SINGLE PROTEIN|   P00918|      Enzyme|\n",
      "|CHEMBL20|Small molecule|                      4.0|      true|{4, [ENSG00000167...|{33, [MONDO_00053...|  CHEMBL3406377|         B|       null|         7.92|           Ki|            nM|          12.1|                =|   Homo sapiens|Carbonic anhydras...|       CHEMBL205|                 null|                     null|               9|  Direct single pro...|          null|[{P00918, Carboni...|SINGLE PROTEIN|   P00918|      Enzyme|\n",
      "|CHEMBL20|Small molecule|                      4.0|      true|{4, [ENSG00000167...|{33, [MONDO_00053...|   CHEMBL867416|         B|       null|         7.92|           Ki|            nM|          12.0|                =|   Homo sapiens|Carbonic anhydras...|       CHEMBL205|                 null|                     null|               9|  Direct single pro...|          null|[{P00918, Carboni...|SINGLE PROTEIN|   P00918|      Enzyme|\n",
      "|CHEMBL20|Small molecule|                      4.0|      true|{4, [ENSG00000167...|{33, [MONDO_00053...|   CHEMBL929806|         B|       null|         7.16|         IC50|            nM|          68.6|                =|   Homo sapiens|Carbonic anhydras...|       CHEMBL205|                 null|                     null|               9|  Direct single pro...|          null|[{P00918, Carboni...|SINGLE PROTEIN|   P00918|      Enzyme|\n",
      "|CHEMBL20|Small molecule|                      4.0|      true|{4, [ENSG00000167...|{33, [MONDO_00053...|  CHEMBL2380060|         B|       null|         7.92|           Ki|            nM|          12.0|                =|   Homo sapiens|Carbonic anhydras...|       CHEMBL205|                 null|                     null|               9|  Direct single pro...|          null|[{P00918, Carboni...|SINGLE PROTEIN|   P00918|      Enzyme|\n",
      "|CHEMBL20|Small molecule|                      4.0|      true|{4, [ENSG00000167...|{33, [MONDO_00053...|  CHEMBL3395807|         B|       null|         7.92|           Ki|            nM|          12.0|                =|   Homo sapiens|Carbonic anhydras...|       CHEMBL205|                 null|                     null|               9|  Direct single pro...|          null|[{P00918, Carboni...|SINGLE PROTEIN|   P00918|      Enzyme|\n",
      "|CHEMBL20|Small molecule|                      4.0|      true|{4, [ENSG00000167...|{33, [MONDO_00053...|  CHEMBL1693045|         B|       null|         7.92|           Ki|            nM|          12.0|                =|   Homo sapiens|Carbonic anhydras...|       CHEMBL205|                 null|                     null|               9|  Direct single pro...|          null|[{P00918, Carboni...|SINGLE PROTEIN|   P00918|      Enzyme|\n",
      "|CHEMBL20|Small molecule|                      4.0|      true|{4, [ENSG00000167...|{33, [MONDO_00053...|  CHEMBL2412925|         B|       null|         7.90|           Ki|            nM|          12.5|                =|   Homo sapiens|Carbonic anhydras...|       CHEMBL205|                 null|                     null|               9|  Direct single pro...|          null|[{P00918, Carboni...|SINGLE PROTEIN|   P00918|      Enzyme|\n",
      "|CHEMBL20|Small molecule|                      4.0|      true|{4, [ENSG00000167...|{33, [MONDO_00053...|  CHEMBL1002984|         B|       null|         7.92|           Ki|            nM|          12.0|                =|   Homo sapiens|Carbonic anhydras...|       CHEMBL205|                 null|                     null|               9|  Direct single pro...|          null|[{P00918, Carboni...|SINGLE PROTEIN|   P00918|      Enzyme|\n",
      "|CHEMBL20|Small molecule|                      4.0|      true|{4, [ENSG00000167...|{33, [MONDO_00053...|  CHEMBL3390527|         B|       null|         7.92|           Ki|            nM|          12.0|                =|   Homo sapiens|Carbonic anhydras...|       CHEMBL205|                 null|                     null|               9|  Direct single pro...|          null|[{P00918, Carboni...|SINGLE PROTEIN|   P00918|      Enzyme|\n",
      "+--------+--------------+-------------------------+----------+--------------------+--------------------+---------------+----------+-----------+-------------+-------------+--------------+--------------+-----------------+---------------+--------------------+----------------+---------------------+-------------------------+----------------+----------------------+--------------+--------------------+--------------+---------+------------+\n",
      "only showing top 20 rows\n",
      "\n"
     ]
    }
   ],
   "source": [
    "input_exmp = input.filter(input[\"drugId\"] == \"CHEMBL20\")\n",
    "input_exmp.show()"
   ]
  },
  {
   "cell_type": "markdown",
   "metadata": {},
   "source": [
    "## Dataset with only pchembl values"
   ]
  },
  {
   "cell_type": "code",
   "execution_count": 23,
   "metadata": {},
   "outputs": [
    {
     "name": "stderr",
     "output_type": "stream",
     "text": [
      "[Stage 51:==================================================>       (7 + 1) / 8]\r"
     ]
    },
    {
     "name": "stdout",
     "output_type": "stream",
     "text": [
      "Number of drug-target pairs: 18860\n",
      "Number of drug-target pairs with pchembl_value: 6250\n"
     ]
    },
    {
     "name": "stderr",
     "output_type": "stream",
     "text": [
      "                                                                                \r"
     ]
    }
   ],
   "source": [
    "# Check how many assays have pchembl_value\n",
    "pchembl_value_only = input.filter(input[\"pchembl_value\"].isNotNull())\n",
    "pchembl_value_only_n = pchembl_value_only.count()\n",
    "d_t_n = input.count()\n",
    "\n",
    "print(\"Number of drug-target pairs:\", d_t_n)\n",
    "print(\"Number of drug-target pairs with pchembl_value:\", pchembl_value_only_n)"
   ]
  },
  {
   "cell_type": "markdown",
   "metadata": {},
   "source": [
    "### For each T-D pairs make new columns:\n",
    "####     1. max_pchembl_value\n",
    "####     2. median_pchembl_value"
   ]
  },
  {
   "cell_type": "code",
   "execution_count": 24,
   "metadata": {},
   "outputs": [],
   "source": [
    "# Original aggregation with additional count of non-null pchembl_values\n",
    "pchembl_value_aggr = pchembl_value_only.groupBy(\"target_chembl_id\", \"drugId\")\\\n",
    "                  .agg(f.max(\"pchembl_value\").alias(\"max_pchembl_value\"),\n",
    "                       f.expr(\"percentile_approx(pchembl_value, 0.5)\").alias(\"median_pchembl_value\"))\n",
    "\n",
    "# Join original data with filtered aggregated data\n",
    "pchembl_value_join = pchembl_value_aggr.join(input, [\"target_chembl_id\", \"drugId\"], \"left_outer\")"
   ]
  },
  {
   "cell_type": "code",
   "execution_count": 25,
   "metadata": {},
   "outputs": [
    {
     "name": "stderr",
     "output_type": "stream",
     "text": [
      "[Stage 60:>                                                         (0 + 1) / 1]\r"
     ]
    },
    {
     "name": "stdout",
     "output_type": "stream",
     "text": [
      "+----------------+-------------+------------------+-----------------+--------------------+--------------+-------------------------+----------+--------------------+--------------------+---------------+----------+-----------+---------------+--------------------+---------------------+-------------------------+----------------+----------------------+--------------+--------------------+--------------+---------+------------+\n",
      "|target_chembl_id|       drugId|pchembl_value_aggr|max_pchembl_value|median_pchembl_value|      drugType|maximumClinicalTrialPhase|isApproved|       linkedTargets|      linkedDiseases|assay_chembl_id|assay_type|action_type|target_organism|    target_pref_name|data_validity_comment|data_validity_description|confidence_score|confidence_description|assay_category|   target_components|   target_type|accession|proteinClass|\n",
      "+----------------+-------------+------------------+-----------------+--------------------+--------------+-------------------------+----------+--------------------+--------------------+---------------+----------+-----------+---------------+--------------------+---------------------+-------------------------+----------------+----------------------+--------------+--------------------+--------------+---------+------------+\n",
      "|   CHEMBL1075104|CHEMBL1933288|              7.80|             7.80|                 7.8|Small molecule|                     null|      null|                null|                null|  CHEMBL1937075|         B|       null|   Homo sapiens|Leucine-rich repe...|                 null|                     null|               9|  Direct single pro...|          null|[{Q5S007, Leucine...|SINGLE PROTEIN|   Q5S007|      Kinase|\n",
      "|   CHEMBL1075104|CHEMBL2012582|              7.89|             7.89|                7.89|Small molecule|                     null|      null|                null|                null|  CHEMBL2173835|         B|       null|   Homo sapiens|Leucine-rich repe...|                 null|                     null|               9|  Direct single pro...|          null|[{Q5S007, Leucine...|SINGLE PROTEIN|   Q5S007|      Kinase|\n",
      "|   CHEMBL1075104|CHEMBL4098877|              8.19|             8.19|                8.19|Small molecule|                     null|      null|                null|                null|  CHEMBL4010117|         B|       null|   Homo sapiens|Leucine-rich repe...|                 null|                     null|               9|  Direct single pro...|          null|[{Q5S007, Leucine...|SINGLE PROTEIN|   Q5S007|      Kinase|\n",
      "|   CHEMBL1075104|    CHEMBL535|              7.82|             7.82|                7.82|Small molecule|                      4.0|      true|{9, [ENSG00000165...|{113, [EFO_000022...|  CHEMBL2398947|         B|       null|   Homo sapiens|Leucine-rich repe...|                 null|                     null|               9|  Direct single pro...|          null|[{Q5S007, Leucine...|SINGLE PROTEIN|   Q5S007|      Kinase|\n",
      "|   CHEMBL1075126|CHEMBL1084625|              5.59|             5.59|                5.59|Small molecule|                     null|      null|                null|                null|  CHEMBL1613911|         F|       null|   Homo sapiens|Pyruvate kinase i...|                 null|                     null|               9|  Direct single pro...|  confirmatory|[{P30613, Pyruvat...|SINGLE PROTEIN|   P30613|      Kinase|\n",
      "|   CHEMBL1075127|CHEMBL3039522|              9.00|             9.00|                 9.0|Small molecule|                      2.0|     false|{2, [ENSG00000023...|{10, [EFO_0004197...|  CHEMBL4351163|         B|       null|   Homo sapiens|Baculoviral IAP r...|                 null|                     null|               9|  Direct single pro...|          null|[{Q96CA5, Baculov...|SINGLE PROTEIN|   Q96CA5|        None|\n",
      "|   CHEMBL1075132| CHEMBL200102|              6.69|             6.69|                6.69|Small molecule|                      1.0|     false|                null|{2, [EFO_0000574,...|  CHEMBL4604865|         B|       null|   Homo sapiens|Heat shock protei...|                 null|                     null|               9|  Direct single pro...|          null|[{Q12931, Heat sh...|SINGLE PROTEIN|   Q12931|        None|\n",
      "|   CHEMBL1075132| CHEMBL278315|              6.18|             6.18|                6.18|Small molecule|                      2.0|     false|                null|{2, [MONDO_000236...|  CHEMBL2424065|         B|       null|   Homo sapiens|Heat shock protei...|                 null|                     null|               9|  Direct single pro...|          null|[{Q12931, Heat sh...|SINGLE PROTEIN|   Q12931|        None|\n",
      "|   CHEMBL1075138|    CHEMBL101|              6.05|             6.05|                6.05|Small molecule|                      4.0|      true|{2, [ENSG00000073...|{3, [EFO_0005755,...|  CHEMBL1614364|         B|       null|   Homo sapiens|Tyrosyl-DNA phosp...|                 null|                     null|               9|  Direct single pro...|  confirmatory|[{Q9NUW8, Tyrosyl...|SINGLE PROTEIN|   Q9NUW8|      Enzyme|\n",
      "|   CHEMBL1075138| CHEMBL106525|              4.10|             4.10|                 4.1|Small molecule|                     null|      null|                null|                null|  CHEMBL1614364|         B|       null|   Homo sapiens|Tyrosyl-DNA phosp...|                 null|                     null|               9|  Direct single pro...|  confirmatory|[{Q9NUW8, Tyrosyl...|SINGLE PROTEIN|   Q9NUW8|      Enzyme|\n",
      "|   CHEMBL1075138|   CHEMBL1116|        4.55, 4.40|             4.55|                 4.4|Small molecule|                      4.0|      true|{1, [ENSG00000140...|{3, [MONDO_000725...|  CHEMBL1614364|         B|       null|   Homo sapiens|Tyrosyl-DNA phosp...|                 null|                     null|               9|  Direct single pro...|  confirmatory|[{Q9NUW8, Tyrosyl...|SINGLE PROTEIN|   Q9NUW8|      Enzyme|\n",
      "|   CHEMBL1075138|CHEMBL1200522|              4.70|             4.70|                 4.7|Small molecule|                      4.0|      true|                null|{3, [EFO_0003958,...|  CHEMBL1614364|         B|       null|   Homo sapiens|Tyrosyl-DNA phosp...|                 null|                     null|               9|  Direct single pro...|  confirmatory|[{Q9NUW8, Tyrosyl...|SINGLE PROTEIN|   Q9NUW8|      Enzyme|\n",
      "|   CHEMBL1075138|CHEMBL1208422|              6.10|             6.10|                 6.1|Small molecule|                      4.0|      true|                null|{7, [EFO_0003768,...|  CHEMBL1614364|         B|       null|   Homo sapiens|Tyrosyl-DNA phosp...|                 null|                     null|               9|  Direct single pro...|  confirmatory|[{Q9NUW8, Tyrosyl...|SINGLE PROTEIN|   Q9NUW8|      Enzyme|\n",
      "|   CHEMBL1075138|    CHEMBL140|              5.95|             5.95|                5.95|Small molecule|                     null|      null|                null|                null|  CHEMBL1614364|         B|       null|   Homo sapiens|Tyrosyl-DNA phosp...|                 null|                     null|               9|  Direct single pro...|  confirmatory|[{Q9NUW8, Tyrosyl...|SINGLE PROTEIN|   Q9NUW8|      Enzyme|\n",
      "|   CHEMBL1075138|  CHEMBL14060|              4.60|             4.60|                 4.6|Small molecule|                      4.0|      true|                null|{8, [EFO_0004255,...|  CHEMBL1614364|         B|       null|   Homo sapiens|Tyrosyl-DNA phosp...|                 null|                     null|               9|  Direct single pro...|  confirmatory|[{Q9NUW8, Tyrosyl...|SINGLE PROTEIN|   Q9NUW8|      Enzyme|\n",
      "|   CHEMBL1075138|CHEMBL1407943|              4.65|             4.65|                4.65|Small molecule|                      2.0|     false|                null|{4, [EFO_0003047,...|  CHEMBL1614364|         B|       null|   Homo sapiens|Tyrosyl-DNA phosp...|                 null|                     null|               9|  Direct single pro...|  confirmatory|[{Q9NUW8, Tyrosyl...|SINGLE PROTEIN|   Q9NUW8|      Enzyme|\n",
      "|   CHEMBL1075138|   CHEMBL1622|              4.40|             4.40|                 4.4|Small molecule|                      4.0|      true|                null|{71, [EFO_1001231...|  CHEMBL1614364|         B|       null|   Homo sapiens|Tyrosyl-DNA phosp...|                 null|                     null|               9|  Direct single pro...|  confirmatory|[{Q9NUW8, Tyrosyl...|SINGLE PROTEIN|   Q9NUW8|      Enzyme|\n",
      "|   CHEMBL1075138|   CHEMBL1740|              6.10|             6.10|                 6.1|Small molecule|                      0.5|     false|                null|   {1, [HP_0000951]}|  CHEMBL1614364|         B|       null|   Homo sapiens|Tyrosyl-DNA phosp...|                 null|                     null|               9|  Direct single pro...|  confirmatory|[{Q9NUW8, Tyrosyl...|SINGLE PROTEIN|   Q9NUW8|      Enzyme|\n",
      "|   CHEMBL1075138|  CHEMBL17645|              4.30|             4.30|                 4.3|Small molecule|                     null|      null|                null|                null|  CHEMBL1614364|         B|       null|   Homo sapiens|Tyrosyl-DNA phosp...|                 null|                     null|               9|  Direct single pro...|  confirmatory|[{Q9NUW8, Tyrosyl...|SINGLE PROTEIN|   Q9NUW8|      Enzyme|\n",
      "|   CHEMBL1075138|    CHEMBL178|              4.80|             4.80|                 4.8|Small molecule|                      4.0|      true|{1, [ENSG00000131...|{46, [MONDO_00448...|  CHEMBL1614364|         B|       null|   Homo sapiens|Tyrosyl-DNA phosp...|                 null|                     null|               9|  Direct single pro...|  confirmatory|[{Q9NUW8, Tyrosyl...|SINGLE PROTEIN|   Q9NUW8|      Enzyme|\n",
      "+----------------+-------------+------------------+-----------------+--------------------+--------------+-------------------------+----------+--------------------+--------------------+---------------+----------+-----------+---------------+--------------------+---------------------+-------------------------+----------------+----------------------+--------------+--------------------+--------------+---------+------------+\n",
      "only showing top 20 rows\n",
      "\n"
     ]
    },
    {
     "name": "stderr",
     "output_type": "stream",
     "text": [
      "                                                                                \r"
     ]
    }
   ],
   "source": [
    "# Leave only unique dug-target pairs with pchembl value\n",
    "\n",
    "# Group by 'target_chembl_id' and 'drugId', and aggregate 'pchembl_value'\n",
    "pchembl_value_concat = pchembl_value_join.groupBy(\"target_chembl_id\", \"drugId\")\\\n",
    "                        .agg(concat_ws(\", \", collect_list(\"pchembl_value\")).alias(\"pchembl_value_aggr\"))\n",
    "\n",
    "pchembl_value_drop = pchembl_value_join.drop(\"standard_type\", \"standard_units\", \"standard_value\", \"standard_relation\", \"pchembl_value\")\n",
    "pchembl_value_uniq = pchembl_value_drop.dropDuplicates([\"target_chembl_id\", \"drugId\"])\n",
    "\n",
    "pchembl_value_concat_join = pchembl_value_concat.join(pchembl_value_uniq, [\"target_chembl_id\", \"drugId\"], \"left_outer\")\n",
    "\n",
    "pchembl_value_concat_join.show()"
   ]
  },
  {
   "cell_type": "markdown",
   "metadata": {},
   "source": [
    "### Activity cutoff for max_pchembl_value and median_pchembl_value"
   ]
  },
  {
   "cell_type": "code",
   "execution_count": 26,
   "metadata": {},
   "outputs": [],
   "source": [
    "max_pchembl_value = col(\"max_pchembl_value\")\n",
    "med_pchembl_value = col(\"median_pchembl_value\")\n",
    "\n",
    "pchembl_max_activity = pchembl_value_concat_join.withColumn(\n",
    "    \"isActive_max\",\n",
    "    when(\n",
    "        ((col(\"proteinClass\") == \"Kinase\") & (max_pchembl_value >= 7.7)) |\n",
    "        ((col(\"proteinClass\") == \"GPCR\") & (max_pchembl_value >= 6.5)) |\n",
    "        ((col(\"proteinClass\") == \"NR\") & (max_pchembl_value >= 6.1)) |\n",
    "        ((col(\"proteinClass\") == \"Transporter\") & (max_pchembl_value >= 6.1)) |\n",
    "        ((col(\"proteinClass\") == \"Enzyme\") & (max_pchembl_value >= 5.2)) |\n",
    "        ((col(\"proteinClass\") == \"IC\") & (max_pchembl_value >= 4.6)) |\n",
    "        ((col(\"proteinClass\") == \"Other\") & (max_pchembl_value >= 6.3)) |\n",
    "        (~(col(\"proteinClass\").isin([\"Kinase\", \"GPCR\", \"NR\", \"Transporter\", \"Enzyme\", \"IC\", \"Other\"])) & (max_pchembl_value >= 5)),\n",
    "        \"TRUE\"\n",
    "    ).otherwise(\"FALSE\")\n",
    ")\n",
    "\n",
    "pchembl_activity = pchembl_max_activity.withColumn(\n",
    "    \"isActive_med\",\n",
    "    when(\n",
    "        ((col(\"proteinClass\") == \"Kinase\") & (med_pchembl_value >= 7.7)) |\n",
    "        ((col(\"proteinClass\") == \"GPCR\") & (med_pchembl_value >= 6.5)) |\n",
    "        ((col(\"proteinClass\") == \"NR\") & (med_pchembl_value >= 6.1)) |\n",
    "        ((col(\"proteinClass\") == \"Transporter\") & (med_pchembl_value >= 6.1)) |\n",
    "        ((col(\"proteinClass\") == \"Enzyme\") & (med_pchembl_value >= 5.2)) |\n",
    "        ((col(\"proteinClass\") == \"IC\") & (med_pchembl_value >= 4.6)) |\n",
    "        ((col(\"proteinClass\") == \"Other\") & (med_pchembl_value >= 6.3)) |\n",
    "        (~(col(\"proteinClass\").isin([\"Kinase\", \"GPCR\", \"NR\", \"Transporter\", \"Enzyme\", \"IC\", \"Other\"])) & (med_pchembl_value >= 5)),\n",
    "        \"TRUE\"\n",
    "    ).otherwise(\"FALSE\")\n",
    ")"
   ]
  },
  {
   "cell_type": "code",
   "execution_count": 27,
   "metadata": {},
   "outputs": [
    {
     "name": "stderr",
     "output_type": "stream",
     "text": [
      "                                                                                \r"
     ]
    },
    {
     "name": "stdout",
     "output_type": "stream",
     "text": [
      "Number of drug-target pairs with pchembl values:  4647\n",
      "Number of drug-target pairs with active drugs based on max pchembl values:  2473\n",
      "Number of drug-target pairs with active drugs based on med pchembl values:  2373\n"
     ]
    }
   ],
   "source": [
    "max_active = pchembl_activity.filter(col(\"isActive_max\") == True).count()\n",
    "med_active = pchembl_activity.filter(col(\"isActive_med\") == True).count()\n",
    "all_pchembl = pchembl_activity.count()\n",
    "\n",
    "print(\"Number of drug-target pairs with pchembl values: \", all_pchembl)\n",
    "print(\"Number of drug-target pairs with active drugs based on max pchembl values: \", max_active)\n",
    "print(\"Number of drug-target pairs with active drugs based on med pchembl values: \", med_active)"
   ]
  },
  {
   "cell_type": "markdown",
   "metadata": {},
   "source": [
    "## Dataset without pchembl values"
   ]
  },
  {
   "cell_type": "code",
   "execution_count": null,
   "metadata": {},
   "outputs": [],
   "source": [
    "# Need to exclude rows for which pchembl was found"
   ]
  },
  {
   "cell_type": "code",
   "execution_count": null,
   "metadata": {},
   "outputs": [
    {
     "name": "stdout",
     "output_type": "stream",
     "text": [
      "+--------------+-----+\n",
      "|standard_units|count|\n",
      "+--------------+-----+\n",
      "|          null| 2740|\n",
      "|     pm/min/mg|  150|\n",
      "|     degrees C|  139|\n",
      "|             %| 3123|\n",
      "|            nM| 6139|\n",
      "|          /min|    8|\n",
      "|         /uM/s|    5|\n",
      "|   nmol/min/mg|    7|\n",
      "|  mL.min-1.g-1|   16|\n",
      "|            uM|   78|\n",
      "|         10'8M|    1|\n",
      "|            mM|    7|\n",
      "|     10'-3/min|    1|\n",
      "|      10'6/M/s|    1|\n",
      "|      nmol/min|    8|\n",
      "|            /s|    6|\n",
      "|          pmol|    3|\n",
      "|     /s/microM|    1|\n",
      "|       ug ml-1|    2|\n",
      "|       ug.mL-1|    4|\n",
      "+--------------+-----+\n",
      "only showing top 20 rows\n",
      "\n"
     ]
    }
   ],
   "source": [
    "# Where pchembl_value is not available for each T-D pairs make new columns:\n",
    "#     1. Calculate how much data is this\n",
    "#     2. Think about what to do with different standard_units\n",
    "#     3. Ideally:\n",
    "#         1. max_standard_value_n\n",
    "#         2. median_standard_value_n\n",
    "#         3. Cutoff for every n\n",
    "\n",
    "no_pchembl_value = uniprot_to_class.filter(col(\"pchembl_value\").isNull())\n",
    "show_unique_values_and_counts(no_pchembl_value, \"standard_units\")"
   ]
  },
  {
   "cell_type": "code",
   "execution_count": null,
   "metadata": {},
   "outputs": [],
   "source": [
    "# Make column with activity of molecule: drugActive = TRUE/FALSE\n",
    "#     1. based protein type and:\n",
    "#         1. max_pchembl_value\n",
    "#         2. median_pchembl_value\n",
    "#     2. based on cutoffs for other experiment types"
   ]
  },
  {
   "cell_type": "markdown",
   "metadata": {},
   "source": [
    "## Non-pharmacological MoA search"
   ]
  },
  {
   "cell_type": "markdown",
   "metadata": {},
   "source": [
    "### Target is in MoA of a drug?"
   ]
  },
  {
   "cell_type": "code",
   "execution_count": 28,
   "metadata": {},
   "outputs": [
    {
     "name": "stdout",
     "output_type": "stream",
     "text": [
      "+--------------------+------------------+--------------------+--------------------+------------------+-------------------------+---------+----------------+\n",
      "|           _metadata|       action_type| mechanism_of_action|      mechanism_refs|molecule_chembl_id|parent_molecule_chembl_id|record_id|target_chembl_id|\n",
      "+--------------------+------------------+--------------------+--------------------+------------------+-------------------------+---------+----------------+\n",
      "|{[CHEMBL2103825],...|         INHIBITOR|Pancreatic lipase...|[{16953261, PubMe...|     CHEMBL2103825|            CHEMBL2103825|  1699800|      CHEMBL1812|\n",
      "|{[CHEMBL1200495, ...|           AGONIST|Glucocorticoid re...|[{setid=6d9bf1b0-...|     CHEMBL1200495|                CHEMBL977|  1344612|      CHEMBL2034|\n",
      "|{[CHEMBL3544919],...|SEQUESTERING AGENT|Heparin sequester...|[{26937198, PubMe...|     CHEMBL3544919|            CHEMBL3544919|  2473107|   CHEMBL2364712|\n",
      "|{[CHEMBL3989993],...|         INHIBITOR|microRNA-155 inhi...|[{NCT03713320, Cl...|     CHEMBL3989993|            CHEMBL3989993|  2973351|   CHEMBL4630577|\n",
      "|{[CHEMBL1460], CH...|         INHIBITOR|Human immunodefic...|[{setid=22e2ca82-...|        CHEMBL1460|               CHEMBL1460|  1343993|       CHEMBL247|\n",
      "|{[CHEMBL444172], ...|         INHIBITOR|P-glycoprotein 1 ...|[{18271955, PubMe...|      CHEMBL444172|             CHEMBL444172|  3129871|      CHEMBL4302|\n",
      "|{[CHEMBL1873475],...|         INHIBITOR|Tyrosine-protein ...|[{label/2013/2055...|     CHEMBL1873475|            CHEMBL1873475|  1702685|      CHEMBL5251|\n",
      "|{[CHEMBL4650215],...|         INHIBITOR|PI3-kinase p110-a...|[{https://cancerr...|     CHEMBL4650215|            CHEMBL4650215|  3133380|      CHEMBL4005|\n",
      "|{[CHEMBL87992], C...|           BLOCKER|Sodium channel al...|[{label/2013/0224...|       CHEMBL87992|              CHEMBL87992|  1702492|   CHEMBL2331043|\n",
      "|{[CHEMBL2105689],...|         INHIBITOR|Cytochrome P450 5...|[{label/2013/2041...|     CHEMBL2105689|            CHEMBL2105689|  1702581|      CHEMBL1780|\n",
      "|{[CHEMBL523299, C...|        ANTAGONIST|Muscarinic acetyl...|[{label/2013/2039...|      CHEMBL523299|            CHEMBL1187833|  1702662|       CHEMBL245|\n",
      "|{[CHEMBL1200865],...|           AGONIST|Glucocorticoid re...|[{12861354, PubMe...|     CHEMBL1200865|            CHEMBL1200865|  1343629|      CHEMBL2034|\n",
      "|{[CHEMBL129], CHE...|         INHIBITOR|Human immunodefic...|[{setid=6df09f15-...|         CHEMBL129|                CHEMBL129|  1343080|       CHEMBL247|\n",
      "|{[CHEMBL3989861, ...|         INHIBITOR|Serotonin transpo...|[{label/2013/2052...|     CHEMBL3989861|               CHEMBL1118|  1938076|       CHEMBL228|\n",
      "|{[CHEMBL2146140, ...|         INHIBITOR|Potassium-transpo...|[{setid=61a5a84e-...|     CHEMBL2146140|            CHEMBL1201320|  1702655|   CHEMBL2095173|\n",
      "|{[CHEMBL131], CHE...|           AGONIST|Glucocorticoid re...|[{19482847, PubMe...|         CHEMBL131|                CHEMBL131|  1344057|      CHEMBL2034|\n",
      "|{[CHEMBL1275802],...|  DISRUPTING AGENT|Cell membrane dis...|[{19010301, PubMe...|     CHEMBL1275802|            CHEMBL1275802|  1703075|   CHEMBL2364031|\n",
      "|{[CHEMBL139], CHE...|         INHIBITOR|Cyclooxygenase in...|[{label/2013/2045...|         CHEMBL139|                CHEMBL139|  1937947|   CHEMBL2094253|\n",
      "|{[CHEMBL2108556],...|  DISRUPTING AGENT|Cell membrane dis...|[{19010301, PubMe...|     CHEMBL2108556|            CHEMBL2108556|  1696419|   CHEMBL2364031|\n",
      "|{[CHEMBL1512], CH...|           AGONIST|Glucocorticoid re...|[{setid=7c72c954-...|        CHEMBL1512|               CHEMBL1512|  1343379|      CHEMBL2034|\n",
      "+--------------------+------------------+--------------------+--------------------+------------------+-------------------------+---------+----------------+\n",
      "only showing top 20 rows\n",
      "\n"
     ]
    }
   ],
   "source": [
    "mechanism_path = \"gs://open-targets-pre-data-releases/chembl-columns/chembl-inputs/chembl_33_mechanism.jsonl\"\n",
    "mechanism = spark.read.json(mechanism_path)\n",
    "mechanism.persist()\n",
    "mechanism.show()\n",
    "\n",
    "# Rename columns\n",
    "mechanism_renamed = mechanism.withColumnRenamed(\"action_type\", \"action_type_moa\")\\\n",
    "                            .withColumnRenamed(\"target_chembl_id\", \"target_chembl_id_moa\")"
   ]
  },
  {
   "cell_type": "code",
   "execution_count": 29,
   "metadata": {},
   "outputs": [],
   "source": [
    "# List of columns from target table\n",
    "list_mechanism = [\"action_type_moa\",\n",
    "            \"target_chembl_id_moa\"]\n",
    "\n",
    "drug_to_moa = join_dataframes(pchembl_activity, mechanism_renamed, \"drugId\", \"parent_molecule_chembl_id\", list_mechanism).persist()"
   ]
  },
  {
   "cell_type": "code",
   "execution_count": 30,
   "metadata": {},
   "outputs": [],
   "source": [
    "# Concat moa to 1 row\n",
    "drug_to_moa_concat = drug_to_moa.groupBy(\"target_chembl_id\", \"drugId\")\\\n",
    "    .agg(concat_ws(\", \", array_distinct(collect_list(\"target_chembl_id_moa\"))).alias(\"target_chembl_id_moa_aggr\"))\n",
    "\n",
    "drug_to_moa_drop = drug_to_moa.drop(\"target_chembl_id_moa\")\n",
    "drug_to_moa_uniq = drug_to_moa_drop.dropDuplicates([\"target_chembl_id\", \"drugId\"])\n",
    "\n",
    "drug_to_moa_join = drug_to_moa_concat.join(drug_to_moa_uniq, [\"target_chembl_id\", \"drugId\"], \"left_outer\")"
   ]
  },
  {
   "cell_type": "code",
   "execution_count": 31,
   "metadata": {},
   "outputs": [
    {
     "name": "stderr",
     "output_type": "stream",
     "text": [
      "                                                                                \r"
     ]
    },
    {
     "data": {
      "text/plain": [
       "4647"
      ]
     },
     "execution_count": 31,
     "metadata": {},
     "output_type": "execute_result"
    }
   ],
   "source": [
    "drug_to_moa_join.count()"
   ]
  },
  {
   "cell_type": "code",
   "execution_count": null,
   "metadata": {},
   "outputs": [
    {
     "name": "stdout",
     "output_type": "stream",
     "text": [
      "+--------------------+-----------+--------------------+--------------------+------------------+-------------------------+---------+----------------+\n",
      "|           _metadata|action_type| mechanism_of_action|      mechanism_refs|molecule_chembl_id|parent_molecule_chembl_id|record_id|target_chembl_id|\n",
      "+--------------------+-----------+--------------------+--------------------+------------------+-------------------------+---------+----------------+\n",
      "|{[CHEMBL1200710, ...|  INHIBITOR|Serotonin transpo...|[{setid=4074b555-...|     CHEMBL1200710|                CHEMBL415|  1343314|       CHEMBL228|\n",
      "+--------------------+-----------+--------------------+--------------------+------------------+-------------------------+---------+----------------+\n",
      "\n"
     ]
    }
   ],
   "source": [
    "mechanism_filtered = mechanism.filter(mechanism[\"parent_molecule_chembl_id\"] == \"CHEMBL3545181\")\n",
    "mechanism_filtered.show()"
   ]
  },
  {
   "cell_type": "code",
   "execution_count": 36,
   "metadata": {},
   "outputs": [
    {
     "name": "stdout",
     "output_type": "stream",
     "text": [
      "[Row(target_chembl_id_moa_aggr='CHEMBL2331075, CHEMBL225, CHEMBL224'), Row(target_chembl_id_moa_aggr='CHEMBL2331075, CHEMBL225, CHEMBL224'), Row(target_chembl_id_moa_aggr='CHEMBL2331075, CHEMBL225, CHEMBL224'), Row(target_chembl_id_moa_aggr='CHEMBL2331075, CHEMBL225, CHEMBL224'), Row(target_chembl_id_moa_aggr='CHEMBL2331075, CHEMBL225, CHEMBL224'), Row(target_chembl_id_moa_aggr='CHEMBL2331075, CHEMBL225, CHEMBL224'), Row(target_chembl_id_moa_aggr='CHEMBL2331075, CHEMBL225, CHEMBL224'), Row(target_chembl_id_moa_aggr='CHEMBL2331075, CHEMBL225, CHEMBL224')]\n"
     ]
    }
   ],
   "source": [
    "drug_to_moa_filtered = drug_to_moa_join.filter(drug_to_moa_join[\"drugId\"] == \"CHEMBL715\")\n",
    "# drug_to_moa_filtered.show()\n",
    "selected_column = drug_to_moa_filtered.select(\"target_chembl_id_moa_aggr\").collect()\n",
    "print(selected_column)"
   ]
  },
  {
   "cell_type": "code",
   "execution_count": null,
   "metadata": {},
   "outputs": [
    {
     "name": "stdout",
     "output_type": "stream",
     "text": [
      "root\n",
      " |-- target_chembl_id: string (nullable = true)\n",
      " |-- drugId: string (nullable = true)\n",
      " |-- target_chembl_id_moa_aggr: string (nullable = false)\n",
      " |-- max_pchembl_value: string (nullable = true)\n",
      " |-- median_pchembl_value: double (nullable = true)\n",
      " |-- drugType: string (nullable = true)\n",
      " |-- maximumClinicalTrialPhase: double (nullable = true)\n",
      " |-- isApproved: boolean (nullable = true)\n",
      " |-- linkedTargets: struct (nullable = true)\n",
      " |    |-- count: long (nullable = true)\n",
      " |    |-- rows: array (nullable = true)\n",
      " |    |    |-- element: string (containsNull = true)\n",
      " |-- linkedDiseases: struct (nullable = true)\n",
      " |    |-- count: long (nullable = true)\n",
      " |    |-- rows: array (nullable = true)\n",
      " |    |    |-- element: string (containsNull = true)\n",
      " |-- assay_chembl_id: string (nullable = true)\n",
      " |-- assay_type: string (nullable = true)\n",
      " |-- action_type: struct (nullable = true)\n",
      " |    |-- action_type: string (nullable = true)\n",
      " |    |-- description: string (nullable = true)\n",
      " |    |-- parent_type: string (nullable = true)\n",
      " |-- target_organism: string (nullable = true)\n",
      " |-- target_pref_name: string (nullable = true)\n",
      " |-- data_validity_comment: string (nullable = true)\n",
      " |-- data_validity_description: string (nullable = true)\n",
      " |-- confidence_score: long (nullable = true)\n",
      " |-- confidence_description: string (nullable = true)\n",
      " |-- assay_category: string (nullable = true)\n",
      " |-- target_components: array (nullable = true)\n",
      " |    |-- element: struct (containsNull = true)\n",
      " |    |    |-- accession: string (nullable = true)\n",
      " |    |    |-- component_description: string (nullable = true)\n",
      " |    |    |-- component_id: long (nullable = true)\n",
      " |    |    |-- component_type: string (nullable = true)\n",
      " |    |    |-- relationship: string (nullable = true)\n",
      " |    |    |-- target_component_synonyms: array (nullable = true)\n",
      " |    |    |    |-- element: struct (containsNull = true)\n",
      " |    |    |    |    |-- component_synonym: string (nullable = true)\n",
      " |    |    |    |    |-- syn_type: string (nullable = true)\n",
      " |    |    |-- target_component_xrefs: array (nullable = true)\n",
      " |    |    |    |-- element: struct (containsNull = true)\n",
      " |    |    |    |    |-- xref_id: string (nullable = true)\n",
      " |    |    |    |    |-- xref_name: string (nullable = true)\n",
      " |    |    |    |    |-- xref_src_db: string (nullable = true)\n",
      " |    |    |    |    |-- xref_src_url: string (nullable = true)\n",
      " |    |    |    |    |-- xref_url: string (nullable = true)\n",
      " |-- target_type: string (nullable = true)\n",
      " |-- accession: string (nullable = true)\n",
      " |-- proteinClass: string (nullable = true)\n",
      "\n"
     ]
    }
   ],
   "source": [
    "drug_to_moa_join.printSchema()"
   ]
  },
  {
   "cell_type": "code",
   "execution_count": 38,
   "metadata": {},
   "outputs": [
    {
     "data": {
      "text/plain": [
       "4647"
      ]
     },
     "execution_count": 38,
     "metadata": {},
     "output_type": "execute_result"
    }
   ],
   "source": [
    "# Add a new column 'isInMoA'\n",
    "\n",
    "drug_to_moa_isInMoA = drug_to_moa_join.withColumn(\n",
    "    \"isInMoA\", \n",
    "    when(\n",
    "        col(\"target_chembl_id_moa_aggr\") == \"\", None  # Check for empty string\n",
    "    ).otherwise(\n",
    "        array_contains(split(col(\"target_chembl_id_moa_aggr\"), \", \"), col(\"target_chembl_id\"))\n",
    "    )\n",
    ")\n",
    "\n",
    "drug_to_moa_isInMoA.count()"
   ]
  },
  {
   "cell_type": "code",
   "execution_count": 41,
   "metadata": {},
   "outputs": [
    {
     "name": "stdout",
     "output_type": "stream",
     "text": [
      "+-------+-------------+-------------------------+----------------+\n",
      "|isInMoA|       drugId|target_chembl_id_moa_aggr|target_chembl_id|\n",
      "+-------+-------------+-------------------------+----------------+\n",
      "|  false|CHEMBL2105717|     CHEMBL279, CHEMBL...|      CHEMBL1936|\n",
      "|  false|CHEMBL2105717|     CHEMBL279, CHEMBL...|      CHEMBL4722|\n",
      "|   true|CHEMBL2105717|     CHEMBL279, CHEMBL...|      CHEMBL3717|\n",
      "|   true|CHEMBL2105717|     CHEMBL279, CHEMBL...|       CHEMBL279|\n",
      "|  false|CHEMBL2105717|     CHEMBL279, CHEMBL...|       CHEMBL203|\n",
      "+-------+-------------+-------------------------+----------------+\n",
      "\n"
     ]
    }
   ],
   "source": [
    "drug_to_moa_isInMoA_filtered = drug_to_moa_isInMoA.filter(drug_to_moa_isInMoA[\"drugId\"] == \"CHEMBL2105717\")\n",
    "\n",
    "selected_column = drug_to_moa_isInMoA_filtered.select(\"isInMoA\", \"drugId\", \"target_chembl_id_moa_aggr\", \"target_chembl_id\")\n",
    "selected_column.show()"
   ]
  },
  {
   "cell_type": "markdown",
   "metadata": {},
   "source": [
    "### Targets: Evidence type: sources + classification for GE, clinical_GE, probes (boolean)"
   ]
  },
  {
   "cell_type": "code",
   "execution_count": 42,
   "metadata": {},
   "outputs": [
    {
     "name": "stderr",
     "output_type": "stream",
     "text": [
      "[Stage 177:>                                                        (0 + 1) / 1]\r"
     ]
    },
    {
     "name": "stdout",
     "output_type": "stream",
     "text": [
      "+----------+---------+---------------+--------------------+------------------+-------------------+\n",
      "|    drugId|uniprotId|       targetId|             sources|isHighQualityProbe|isTherapeuticTarget|\n",
      "+----------+---------+---------------+--------------------+------------------+-------------------+\n",
      "|CHEMBL1000|   O00167|ENSG00000064655|[ot_genetics_portal]|             false|              false|\n",
      "|CHEMBL1000|   O00555|ENSG00000141837|[uniprot_literatu...|             false|              false|\n",
      "|CHEMBL1000|   O14633|ENSG00000159455|[ot_genetics_portal]|             false|              false|\n",
      "|CHEMBL1000|   O60706|ENSG00000069431|            [chembl]|             false|               true|\n",
      "|CHEMBL1000|   P00352|ENSG00000165092|[ot_genetics_portal]|             false|              false|\n",
      "|CHEMBL1000|   P01567|ENSG00000214042|            [chembl]|             false|               true|\n",
      "|CHEMBL1000|   P04155|ENSG00000160182|[ot_genetics_portal]|             false|              false|\n",
      "|CHEMBL1000|   P20036|ENSG00000231389|[ot_genetics_portal]|             false|              false|\n",
      "|CHEMBL1000|   P35908|ENSG00000172867|              [impc]|             false|              false|\n",
      "|CHEMBL1000|   P49840|ENSG00000105723|            [chembl]|             false|               true|\n",
      "|CHEMBL1000|   P51617|ENSG00000184216|              [impc]|             false|              false|\n",
      "|CHEMBL1000|   P56270|ENSG00000103495|[ot_genetics_portal]|             false|              false|\n",
      "|CHEMBL1000|   P58511|ENSG00000205670|[ot_genetics_portal]|             false|              false|\n",
      "|CHEMBL1000|   Q03431|ENSG00000160801|            [chembl]|             false|               true|\n",
      "|CHEMBL1000|   Q06124|ENSG00000179295|[ot_genetics_portal]|             false|              false|\n",
      "|CHEMBL1000|   Q16552|ENSG00000112115|      [impc, chembl]|             false|               true|\n",
      "|CHEMBL1000|   Q7Z2W4|ENSG00000105939|[ot_genetics_portal]|             false|              false|\n",
      "|CHEMBL1000|   Q86SJ6|ENSG00000175065|              [impc]|             false|              false|\n",
      "|CHEMBL1000|   Q8N1K5|ENSG00000172673|[ot_genetics_portal]|             false|              false|\n",
      "|CHEMBL1000|   Q8N8W4|ENSG00000180316|              [impc]|             false|              false|\n",
      "+----------+---------+---------------+--------------------+------------------+-------------------+\n",
      "only showing top 20 rows\n",
      "\n"
     ]
    },
    {
     "name": "stderr",
     "output_type": "stream",
     "text": [
      "                                                                                \r"
     ]
    }
   ],
   "source": [
    "# Irene's table\n",
    "evidence_path = \"gs://ot-team/irene/drug_to_target\"\n",
    "evidence = spark.read.parquet(evidence_path)\n",
    "evidence.persist()\n",
    "evidence.show()"
   ]
  },
  {
   "cell_type": "code",
   "execution_count": 43,
   "metadata": {},
   "outputs": [],
   "source": [
    "def join_dataframes_by_many_cols(initial_df: DataFrame, \n",
    "                    second_df: DataFrame, \n",
    "                    initial_key_columns: list, \n",
    "                    second_key_columns: list,\n",
    "                    columns_to_join: list) -> DataFrame:\n",
    "    \"\"\"\n",
    "    Joins two PySpark DataFrames on specified key columns.\n",
    "\n",
    "    Args:\n",
    "    initial_df (DataFrame): The initial PySpark DataFrame.\n",
    "    second_df (DataFrame): The second PySpark DataFrame to join with.\n",
    "    initial_key_columns (list): The key column names in the initial DataFrame.\n",
    "    second_key_columns (list): The key column names in the second DataFrame.\n",
    "    columns_to_join (list): List of column names from the second DataFrame to include in the join.\n",
    "\n",
    "    Returns:\n",
    "    DataFrame: The resulting DataFrame after the join.\n",
    "    \"\"\"\n",
    "\n",
    "    # Ensure the key columns lists have the same length\n",
    "    if len(initial_key_columns) != len(second_key_columns):\n",
    "        raise ValueError(\"Key columns lists must be of the same length\")\n",
    "\n",
    "    # Selecting specified columns from the second DataFrame, including its key columns\n",
    "    second_df_selected = second_df.select(second_key_columns + columns_to_join)\n",
    "\n",
    "    # Build join condition\n",
    "    join_condition = [initial_df[initial_col] == second_df_selected[second_col] \n",
    "                      for initial_col, second_col in zip(initial_key_columns, second_key_columns)]\n",
    "\n",
    "    # Perform the left join\n",
    "    joined_df = initial_df.join(second_df_selected, \n",
    "                                on=join_condition, \n",
    "                                how='left')\n",
    "\n",
    "    # Drop the second key columns if not needed\n",
    "    for col in second_key_columns:\n",
    "        joined_df = joined_df.drop(second_df_selected[col])\n",
    "\n",
    "    return joined_df\n"
   ]
  },
  {
   "cell_type": "code",
   "execution_count": 44,
   "metadata": {},
   "outputs": [
    {
     "name": "stderr",
     "output_type": "stream",
     "text": [
      "23/12/20 11:43:18 WARN MemoryStore: Not enough space to cache broadcast_175 in memory! (computed 6.6 GiB so far)\n",
      "23/12/20 11:43:18 WARN BlockManager: Persisting block broadcast_175 to disk instead.\n",
      "23/12/20 11:43:57 WARN MemoryStore: Not enough space to cache broadcast_175 in memory! (computed 6.6 GiB so far)\n",
      "[Stage 182:>                                                        (0 + 1) / 1]\r"
     ]
    },
    {
     "name": "stdout",
     "output_type": "stream",
     "text": [
      "+----------------+-------------+-------------------------+--------------------+-----------------+--------------------+--------------+-------------------------+----------+--------------------+--------------------+---------------+----------+-----------+---------------+--------------------+---------------------+-------------------------+----------------+----------------------+--------------+--------------------+--------------+---------+------------+------------+------------+---------------+-------+---------------+--------------------+------------------+-------------------+\n",
      "|target_chembl_id|       drugId|target_chembl_id_moa_aggr|  pchembl_value_aggr|max_pchembl_value|median_pchembl_value|      drugType|maximumClinicalTrialPhase|isApproved|       linkedTargets|      linkedDiseases|assay_chembl_id|assay_type|action_type|target_organism|    target_pref_name|data_validity_comment|data_validity_description|confidence_score|confidence_description|assay_category|   target_components|   target_type|accession|proteinClass|isActive_max|isActive_med|action_type_moa|isInMoA|       targetId|             sources|isHighQualityProbe|isTherapeuticTarget|\n",
      "+----------------+-------------+-------------------------+--------------------+-----------------+--------------------+--------------+-------------------------+----------+--------------------+--------------------+---------------+----------+-----------+---------------+--------------------+---------------------+-------------------------+----------------+----------------------+--------------+--------------------+--------------+---------+------------+------------+------------+---------------+-------+---------------+--------------------+------------------+-------------------+\n",
      "|   CHEMBL1293224|   CHEMBL1437|            CHEMBL2331074|                5.20|             5.20|                 5.2|Small molecule|                      4.0|      true|{9, [ENSG00000120...|{23, [EFO_0005207...|  CHEMBL1613899|         F|       null|   Homo sapiens|Microtubule-assoc...|                 null|                     null|               9|  Direct single pro...|  confirmatory|[{P10636, Microtu...|SINGLE PROTEIN|   P10636|        None|        TRUE|        TRUE|        AGONIST|  false|ENSG00000186868|[impc, eva, ot_ge...|             false|              false|\n",
      "|      CHEMBL3510| CHEMBL286738|               CHEMBL3559|                6.12|             6.12|                6.12|Small molecule|                      2.0|     false|{1, [ENSG00000101...|{4, [MONDO_000725...|   CHEMBL976333|         B|       null|   Homo sapiens|Carbonic anhydras...|                 null|                     null|               9|  Direct single pro...|          null|[{Q9ULX7, Carboni...|SINGLE PROTEIN|   Q9ULX7|      Enzyme|        TRUE|        TRUE|      INHIBITOR|  false|           null|                null|              null|               null|\n",
      "|       CHEMBL340|  CHEMBL21731|                CHEMBL222|                5.60|             5.60|                 5.6|Small molecule|                      4.0|      true|{1, [ENSG00000103...|{7, [EFO_0005230,...|  CHEMBL1614108|         A|       null|   Homo sapiens| Cytochrome P450 3A4|                 null|                     null|               9|  Direct single pro...|  confirmatory|[{P08684, Cytochr...|SINGLE PROTEIN|   P08684|      Enzyme|        TRUE|        TRUE|      INHIBITOR|  false|ENSG00000160868|            [chembl]|             false|               true|\n",
      "|       CHEMBL340|    CHEMBL565|                CHEMBL239|                5.00|             5.00|                 5.0|Small molecule|                      4.0|      true|{1, [ENSG00000186...|{3, [EFO_1001375,...|  CHEMBL1613886|         A|       null|   Homo sapiens| Cytochrome P450 3A4|                 null|                     null|               9|  Direct single pro...|  confirmatory|[{P08684, Cytochr...|SINGLE PROTEIN|   P08684|      Enzyme|       FALSE|       FALSE|        AGONIST|  false|ENSG00000160868|            [chembl]|             false|               true|\n",
      "|       CHEMBL253|    CHEMBL111|                CHEMBL218|    5.75, 6.40, 6.22|             6.40|                6.22|Small molecule|                      4.0|      true|{1, [ENSG00000118...|{17, [EFO_0004329...|   CHEMBL988124|         B|       null|   Homo sapiens|Cannabinoid CB2 r...|                 null|                     null|               9|  Direct single pro...|          null|[{P34972, Cannabi...|SINGLE PROTEIN|   P34972|        GPCR|       FALSE|       FALSE|     ANTAGONIST|  false|ENSG00000188822|      [impc, chembl]|             false|               true|\n",
      "|       CHEMBL253|CHEMBL3139186|                CHEMBL253|                7.70|             7.70|                 7.7|Small molecule|                      2.0|     false|{1, [ENSG00000188...|  {1, [EFO_0004616]}|  CHEMBL3238913|         F|       null|   Homo sapiens|Cannabinoid CB2 r...|                 null|                     null|               9|  Direct single pro...|          null|[{P34972, Cannabi...|SINGLE PROTEIN|   P34972|        GPCR|        TRUE|        TRUE|        AGONIST|   true|ENSG00000188822|            [chembl]|             false|               true|\n",
      "|      CHEMBL5491|   CHEMBL1421|     CHEMBL2363074, CH...|                5.16|             5.16|                5.16|Small molecule|                      4.0|      true|{15, [ENSG0000011...|{78, [EFO_0000768...|  CHEMBL1061935|         B|       null|   Homo sapiens|Serine/threonine-...|                 null|                     null|               9|  Direct single pro...|          null|[{P30291, Wee1-li...|SINGLE PROTEIN|   P30291|      Kinase|       FALSE|       FALSE|      INHIBITOR|  false|ENSG00000166483|[ot_genetics_port...|             false|               true|\n",
      "|       CHEMBL258|CHEMBL2041933|               CHEMBL4630|                5.89|             5.89|                5.89|Small molecule|                      1.0|     false|{1, [ENSG00000149...|{2, [EFO_0000616,...|  CHEMBL3991747|         B|       null|   Homo sapiens|Tyrosine-protein ...|                 null|                     null|               9|  Direct single pro...|          null|[{P06239, Tyrosin...|SINGLE PROTEIN|   P06239|      Kinase|       FALSE|       FALSE|      INHIBITOR|  false|ENSG00000182866|[impc, chembl, ca...|             false|               true|\n",
      "|      CHEMBL1978| CHEMBL389433|                         |                8.30|             8.30|                 8.3|Small molecule|                      2.0|     false|                null|{1, [MONDO_0017778]}|  CHEMBL1105634|         B|       null|   Homo sapiens|Cytochrome P450 19A1|                 null|                     null|               9|  Direct single pro...|          null|[{P11511, Aromata...|SINGLE PROTEIN|   P11511|      Enzyme|        TRUE|        TRUE|           null|   null|           null|                null|              null|               null|\n",
      "|      CHEMBL3242|    CHEMBL902|               CHEMBL1941|                7.34|             7.34|                7.34|Small molecule|                      4.0|      true|{1, [ENSG00000113...|{28, [MONDO_01000...|  CHEMBL4269593|         B|       null|   Homo sapiens|Carbonic anhydras...|                 null|                     null|               9|  Direct single pro...|          null|[{O43570, Carboni...|SINGLE PROTEIN|   O43570|      Enzyme|        TRUE|        TRUE|     ANTAGONIST|  false|ENSG00000074410|            [chembl]|             false|               true|\n",
      "|      CHEMBL4599|   CHEMBL1421|     CHEMBL2363074, CH...|                7.57|             7.57|                7.57|Small molecule|                      4.0|      true|{15, [ENSG0000011...|{78, [EFO_0000768...|  CHEMBL3991914|         B|       null|   Homo sapiens|Tyrosine kinase n...|                 null|                     null|               9|  Direct single pro...|          null|[{Q07912, Activat...|SINGLE PROTEIN|   Q07912|      Kinase|       FALSE|       FALSE|      INHIBITOR|  false|ENSG00000061938|     [eva, orphanet]|             false|              false|\n",
      "|      CHEMBL1937|CHEMBL2105763|            CHEMBL2093865|               10.22|            10.22|               10.22|Small molecule|                      2.0|     false|{11, [ENSG0000011...|{3, [EFO_0002913,...|  CHEMBL3598913|         B|       null|   Homo sapiens|Histone deacetyla...|                 null|                     null|               9|  Direct single pro...|          null|[{Q92769, Histone...|SINGLE PROTEIN|   Q92769|  Epigenetic|        TRUE|        TRUE|      INHIBITOR|  false|ENSG00000196591|            [chembl]|             false|               true|\n",
      "|      CHEMBL3397|CHEMBL2407899|                         |                6.05|             6.05|                6.05|Small molecule|                     null|      null|                null|                null|  CHEMBL2410117|         A|       null|   Homo sapiens| Cytochrome P450 2C9|                 null|                     null|               9|  Direct single pro...|          null|[{P11712, Cytochr...|SINGLE PROTEIN|   P11712|        None|        TRUE|        TRUE|           null|   null|           null|                null|              null|               null|\n",
      "|      CHEMBL6029| CHEMBL253969|                CHEMBL279|                5.45|             5.45|                5.45|Small molecule|                      2.0|     false|{1, [ENSG00000128...|{6, [MONDO_002111...|  CHEMBL3991697|         B|       null|   Homo sapiens|Eukaryotic transl...|                 null|                     null|               9|  Direct single pro...|          null|[{Q9BQI3, Eukaryo...|SINGLE PROTEIN|   Q9BQI3|      Kinase|       FALSE|       FALSE|      INHIBITOR|  false|           null|                null|              null|               null|\n",
      "|       CHEMBL279|CHEMBL2364611|               CHEMBL4439|                6.36|             6.36|                6.36|Small molecule|                      2.0|     false|{1, [ENSG00000106...|{12, [EFO_0009708...|  CHEMBL3270796|         B|       null|   Homo sapiens|Vascular endothel...|                 null|                     null|               9|  Direct single pro...|          null|[{P35968, Vascula...|SINGLE PROTEIN|   P35968|      Kinase|       FALSE|       FALSE|      INHIBITOR|  false|ENSG00000128052|[uniprot_literatu...|             false|               true|\n",
      "|      CHEMBL2971|CHEMBL3545215|               CHEMBL2971|          7.10, 9.32|             9.32|                 7.1|Small molecule|                      2.0|     false|{1, [ENSG00000096...|{1, [MONDO_0004992]}|  CHEMBL3624169|         B|       null|   Homo sapiens|Tyrosine-protein ...|                 null|                     null|               9|  Direct single pro...|          null|[{O60674, Tyrosin...|SINGLE PROTEIN|   O60674|      Kinase|        TRUE|       FALSE|      INHIBITOR|   true|ENSG00000096968|[uniprot_literatu...|              true|               true|\n",
      "|      CHEMBL2971|CHEMBL1287853|     CHEMBL2971, CHEMB...|          8.52, 8.52|             8.52|                8.52|Small molecule|                      4.0|      true|{2, [ENSG00000096...|{10, [EFO_0004251...|  CHEMBL3877189|         B|       null|   Homo sapiens|Tyrosine-protein ...|                 null|                     null|               9|  Direct single pro...|          null|[{O60674, Tyrosin...|SINGLE PROTEIN|   O60674|      Kinase|        TRUE|        TRUE|      INHIBITOR|   true|ENSG00000096968|[uniprot_literatu...|             false|               true|\n",
      "|       CHEMBL261| CHEMBL220491|                CHEMBL205|4.35, 4.35, 4.35,...|             4.35|                4.35|Small molecule|                      4.0|      true|{1, [ENSG00000104...|{4, [EFO_0009784,...|  CHEMBL2380061|         B|       null|   Homo sapiens|Carbonic anhydrase I|                 null|                     null|               9|  Direct single pro...|          null|[{P00915, Carboni...|SINGLE PROTEIN|   P00915|      Enzyme|       FALSE|       FALSE|      INHIBITOR|  false|ENSG00000133742|            [chembl]|             false|               true|\n",
      "|      CHEMBL2004|    CHEMBL705|            CHEMBL2363071|                7.85|             7.85|                7.85|Small molecule|                      4.0|      true|{6, [ENSG00000204...|{7, [EFO_1000706,...|   CHEMBL798204|         B|       null|   Homo sapiens|Retinoid X recept...|                 null|                     null|               9|  Direct single pro...|          null|[{P48443, Retinoi...|SINGLE PROTEIN|   P48443|          NR|        TRUE|        TRUE|        AGONIST|  false|ENSG00000143171|            [chembl]|             false|               true|\n",
      "|      CHEMBL3788|CHEMBL3353357|                         |                8.51|             8.51|                8.51|Small molecule|                     null|      null|                null|                null|  CHEMBL3411381|         B|       null|   Homo sapiens|Serine/threonine-...|                 null|                     null|               9|  Direct single pro...|          null|[{O00444, Serine/...|SINGLE PROTEIN|   O00444|      Kinase|        TRUE|        TRUE|           null|   null|ENSG00000142731|    [chemicalProbes]|             false|              false|\n",
      "+----------------+-------------+-------------------------+--------------------+-----------------+--------------------+--------------+-------------------------+----------+--------------------+--------------------+---------------+----------+-----------+---------------+--------------------+---------------------+-------------------------+----------------+----------------------+--------------+--------------------+--------------+---------+------------+------------+------------+---------------+-------+---------------+--------------------+------------------+-------------------+\n",
      "only showing top 20 rows\n",
      "\n"
     ]
    },
    {
     "name": "stderr",
     "output_type": "stream",
     "text": [
      "                                                                                \r"
     ]
    }
   ],
   "source": [
    "# Join by drugId and uniprotId = accession\n",
    "evidence_list = [\"targetId\", \"sources\", \"isHighQualityProbe\", \"isTherapeuticTarget\"]\n",
    "\n",
    "target_evidence = join_dataframes_by_many_cols(drug_to_moa_isInMoA, \n",
    "                                            evidence, \n",
    "                                            [\"drugId\", \"accession\"], \n",
    "                                            [\"drugId\", \"uniprotId\"], \n",
    "                                             evidence_list).persist()\n",
    "target_evidence.show()"
   ]
  },
  {
   "cell_type": "code",
   "execution_count": 45,
   "metadata": {},
   "outputs": [
    {
     "name": "stderr",
     "output_type": "stream",
     "text": [
      "                                                                                \r"
     ]
    },
    {
     "data": {
      "text/plain": [
       "4656"
      ]
     },
     "execution_count": 45,
     "metadata": {},
     "output_type": "execute_result"
    }
   ],
   "source": [
    "target_evidence.count()"
   ]
  },
  {
   "cell_type": "code",
   "execution_count": 46,
   "metadata": {},
   "outputs": [
    {
     "name": "stdout",
     "output_type": "stream",
     "text": [
      "+----------------+-------------+-------------------------+--------------------+-----------------+--------------------+--------------+-------------------------+----------+--------------------+--------------------+---------------+----------+-----------+---------------+--------------------+---------------------+-------------------------+----------------+----------------------+--------------+--------------------+--------------+---------+------------+------------+------------+---------------+-------+---------------+--------------------+------------------+-------------------+-----+-------------+-------+\n",
      "|target_chembl_id|       drugId|target_chembl_id_moa_aggr|  pchembl_value_aggr|max_pchembl_value|median_pchembl_value|      drugType|maximumClinicalTrialPhase|isApproved|       linkedTargets|      linkedDiseases|assay_chembl_id|assay_type|action_type|target_organism|    target_pref_name|data_validity_comment|data_validity_description|confidence_score|confidence_description|assay_category|   target_components|   target_type|accession|proteinClass|isActive_max|isActive_med|action_type_moa|isInMoA|       targetId|             sources|isHighQualityProbe|isTherapeuticTarget| isGE|isGE_clinical|isProbe|\n",
      "+----------------+-------------+-------------------------+--------------------+-----------------+--------------------+--------------+-------------------------+----------+--------------------+--------------------+---------------+----------+-----------+---------------+--------------------+---------------------+-------------------------+----------------+----------------------+--------------+--------------------+--------------+---------+------------+------------+------------+---------------+-------+---------------+--------------------+------------------+-------------------+-----+-------------+-------+\n",
      "|   CHEMBL1293224|   CHEMBL1437|            CHEMBL2331074|                5.20|             5.20|                 5.2|Small molecule|                      4.0|      true|{9, [ENSG00000120...|{23, [EFO_0005207...|  CHEMBL1613899|         F|       null|   Homo sapiens|Microtubule-assoc...|                 null|                     null|               9|  Direct single pro...|  confirmatory|[{P10636, Microtu...|SINGLE PROTEIN|   P10636|        None|        TRUE|        TRUE|        AGONIST|  false|ENSG00000186868|[impc, eva, ot_ge...|             false|              false| true|         true|  false|\n",
      "|      CHEMBL3510| CHEMBL286738|               CHEMBL3559|                6.12|             6.12|                6.12|Small molecule|                      2.0|     false|{1, [ENSG00000101...|{4, [MONDO_000725...|   CHEMBL976333|         B|       null|   Homo sapiens|Carbonic anhydras...|                 null|                     null|               9|  Direct single pro...|          null|[{Q9ULX7, Carboni...|SINGLE PROTEIN|   Q9ULX7|      Enzyme|        TRUE|        TRUE|      INHIBITOR|  false|           null|                null|              null|               null|false|        false|  false|\n",
      "|       CHEMBL340|  CHEMBL21731|                CHEMBL222|                5.60|             5.60|                 5.6|Small molecule|                      4.0|      true|{1, [ENSG00000103...|{7, [EFO_0005230,...|  CHEMBL1614108|         A|       null|   Homo sapiens| Cytochrome P450 3A4|                 null|                     null|               9|  Direct single pro...|  confirmatory|[{P08684, Cytochr...|SINGLE PROTEIN|   P08684|      Enzyme|        TRUE|        TRUE|      INHIBITOR|  false|ENSG00000160868|            [chembl]|             false|               true|false|         true|  false|\n",
      "|       CHEMBL340|    CHEMBL565|                CHEMBL239|                5.00|             5.00|                 5.0|Small molecule|                      4.0|      true|{1, [ENSG00000186...|{3, [EFO_1001375,...|  CHEMBL1613886|         A|       null|   Homo sapiens| Cytochrome P450 3A4|                 null|                     null|               9|  Direct single pro...|  confirmatory|[{P08684, Cytochr...|SINGLE PROTEIN|   P08684|      Enzyme|       FALSE|       FALSE|        AGONIST|  false|ENSG00000160868|            [chembl]|             false|               true|false|         true|  false|\n",
      "|       CHEMBL253|    CHEMBL111|                CHEMBL218|    5.75, 6.40, 6.22|             6.40|                6.22|Small molecule|                      4.0|      true|{1, [ENSG00000118...|{17, [EFO_0004329...|   CHEMBL988124|         B|       null|   Homo sapiens|Cannabinoid CB2 r...|                 null|                     null|               9|  Direct single pro...|          null|[{P34972, Cannabi...|SINGLE PROTEIN|   P34972|        GPCR|       FALSE|       FALSE|     ANTAGONIST|  false|ENSG00000188822|      [impc, chembl]|             false|               true| true|         true|  false|\n",
      "|       CHEMBL253|CHEMBL3139186|                CHEMBL253|                7.70|             7.70|                 7.7|Small molecule|                      2.0|     false|{1, [ENSG00000188...|  {1, [EFO_0004616]}|  CHEMBL3238913|         F|       null|   Homo sapiens|Cannabinoid CB2 r...|                 null|                     null|               9|  Direct single pro...|          null|[{P34972, Cannabi...|SINGLE PROTEIN|   P34972|        GPCR|        TRUE|        TRUE|        AGONIST|   true|ENSG00000188822|            [chembl]|             false|               true|false|         true|  false|\n",
      "|      CHEMBL5491|   CHEMBL1421|     CHEMBL2363074, CH...|                5.16|             5.16|                5.16|Small molecule|                      4.0|      true|{15, [ENSG0000011...|{78, [EFO_0000768...|  CHEMBL1061935|         B|       null|   Homo sapiens|Serine/threonine-...|                 null|                     null|               9|  Direct single pro...|          null|[{P30291, Wee1-li...|SINGLE PROTEIN|   P30291|      Kinase|       FALSE|       FALSE|      INHIBITOR|  false|ENSG00000166483|[ot_genetics_port...|             false|               true| true|         true|  false|\n",
      "|       CHEMBL258|CHEMBL2041933|               CHEMBL4630|                5.89|             5.89|                5.89|Small molecule|                      1.0|     false|{1, [ENSG00000149...|{2, [EFO_0000616,...|  CHEMBL3991747|         B|       null|   Homo sapiens|Tyrosine-protein ...|                 null|                     null|               9|  Direct single pro...|          null|[{P06239, Tyrosin...|SINGLE PROTEIN|   P06239|      Kinase|       FALSE|       FALSE|      INHIBITOR|  false|ENSG00000182866|[impc, chembl, ca...|             false|               true| true|         true|  false|\n",
      "|      CHEMBL1978| CHEMBL389433|                         |                8.30|             8.30|                 8.3|Small molecule|                      2.0|     false|                null|{1, [MONDO_0017778]}|  CHEMBL1105634|         B|       null|   Homo sapiens|Cytochrome P450 19A1|                 null|                     null|               9|  Direct single pro...|          null|[{P11511, Aromata...|SINGLE PROTEIN|   P11511|      Enzyme|        TRUE|        TRUE|           null|   null|           null|                null|              null|               null|false|        false|  false|\n",
      "|      CHEMBL3242|    CHEMBL902|               CHEMBL1941|                7.34|             7.34|                7.34|Small molecule|                      4.0|      true|{1, [ENSG00000113...|{28, [MONDO_01000...|  CHEMBL4269593|         B|       null|   Homo sapiens|Carbonic anhydras...|                 null|                     null|               9|  Direct single pro...|          null|[{O43570, Carboni...|SINGLE PROTEIN|   O43570|      Enzyme|        TRUE|        TRUE|     ANTAGONIST|  false|ENSG00000074410|            [chembl]|             false|               true|false|         true|  false|\n",
      "|      CHEMBL4599|   CHEMBL1421|     CHEMBL2363074, CH...|                7.57|             7.57|                7.57|Small molecule|                      4.0|      true|{15, [ENSG0000011...|{78, [EFO_0000768...|  CHEMBL3991914|         B|       null|   Homo sapiens|Tyrosine kinase n...|                 null|                     null|               9|  Direct single pro...|          null|[{Q07912, Activat...|SINGLE PROTEIN|   Q07912|      Kinase|       FALSE|       FALSE|      INHIBITOR|  false|ENSG00000061938|     [eva, orphanet]|             false|              false| true|         true|  false|\n",
      "|      CHEMBL1937|CHEMBL2105763|            CHEMBL2093865|               10.22|            10.22|               10.22|Small molecule|                      2.0|     false|{11, [ENSG0000011...|{3, [EFO_0002913,...|  CHEMBL3598913|         B|       null|   Homo sapiens|Histone deacetyla...|                 null|                     null|               9|  Direct single pro...|          null|[{Q92769, Histone...|SINGLE PROTEIN|   Q92769|  Epigenetic|        TRUE|        TRUE|      INHIBITOR|  false|ENSG00000196591|            [chembl]|             false|               true|false|         true|  false|\n",
      "|      CHEMBL3397|CHEMBL2407899|                         |                6.05|             6.05|                6.05|Small molecule|                     null|      null|                null|                null|  CHEMBL2410117|         A|       null|   Homo sapiens| Cytochrome P450 2C9|                 null|                     null|               9|  Direct single pro...|          null|[{P11712, Cytochr...|SINGLE PROTEIN|   P11712|        None|        TRUE|        TRUE|           null|   null|           null|                null|              null|               null|false|        false|  false|\n",
      "|      CHEMBL6029| CHEMBL253969|                CHEMBL279|                5.45|             5.45|                5.45|Small molecule|                      2.0|     false|{1, [ENSG00000128...|{6, [MONDO_002111...|  CHEMBL3991697|         B|       null|   Homo sapiens|Eukaryotic transl...|                 null|                     null|               9|  Direct single pro...|          null|[{Q9BQI3, Eukaryo...|SINGLE PROTEIN|   Q9BQI3|      Kinase|       FALSE|       FALSE|      INHIBITOR|  false|           null|                null|              null|               null|false|        false|  false|\n",
      "|       CHEMBL279|CHEMBL2364611|               CHEMBL4439|                6.36|             6.36|                6.36|Small molecule|                      2.0|     false|{1, [ENSG00000106...|{12, [EFO_0009708...|  CHEMBL3270796|         B|       null|   Homo sapiens|Vascular endothel...|                 null|                     null|               9|  Direct single pro...|          null|[{P35968, Vascula...|SINGLE PROTEIN|   P35968|      Kinase|       FALSE|       FALSE|      INHIBITOR|  false|ENSG00000128052|[uniprot_literatu...|             false|               true| true|         true|  false|\n",
      "|      CHEMBL2971|CHEMBL3545215|               CHEMBL2971|          7.10, 9.32|             9.32|                 7.1|Small molecule|                      2.0|     false|{1, [ENSG00000096...|{1, [MONDO_0004992]}|  CHEMBL3624169|         B|       null|   Homo sapiens|Tyrosine-protein ...|                 null|                     null|               9|  Direct single pro...|          null|[{O60674, Tyrosin...|SINGLE PROTEIN|   O60674|      Kinase|        TRUE|       FALSE|      INHIBITOR|   true|ENSG00000096968|[uniprot_literatu...|              true|               true| true|         true|   true|\n",
      "|      CHEMBL2971|CHEMBL1287853|     CHEMBL2971, CHEMB...|          8.52, 8.52|             8.52|                8.52|Small molecule|                      4.0|      true|{2, [ENSG00000096...|{10, [EFO_0004251...|  CHEMBL3877189|         B|       null|   Homo sapiens|Tyrosine-protein ...|                 null|                     null|               9|  Direct single pro...|          null|[{O60674, Tyrosin...|SINGLE PROTEIN|   O60674|      Kinase|        TRUE|        TRUE|      INHIBITOR|   true|ENSG00000096968|[uniprot_literatu...|             false|               true| true|         true|  false|\n",
      "|       CHEMBL261| CHEMBL220491|                CHEMBL205|4.35, 4.35, 4.35,...|             4.35|                4.35|Small molecule|                      4.0|      true|{1, [ENSG00000104...|{4, [EFO_0009784,...|  CHEMBL2380061|         B|       null|   Homo sapiens|Carbonic anhydrase I|                 null|                     null|               9|  Direct single pro...|          null|[{P00915, Carboni...|SINGLE PROTEIN|   P00915|      Enzyme|       FALSE|       FALSE|      INHIBITOR|  false|ENSG00000133742|            [chembl]|             false|               true|false|         true|  false|\n",
      "|      CHEMBL2004|    CHEMBL705|            CHEMBL2363071|                7.85|             7.85|                7.85|Small molecule|                      4.0|      true|{6, [ENSG00000204...|{7, [EFO_1000706,...|   CHEMBL798204|         B|       null|   Homo sapiens|Retinoid X recept...|                 null|                     null|               9|  Direct single pro...|          null|[{P48443, Retinoi...|SINGLE PROTEIN|   P48443|          NR|        TRUE|        TRUE|        AGONIST|  false|ENSG00000143171|            [chembl]|             false|               true|false|         true|  false|\n",
      "|      CHEMBL3788|CHEMBL3353357|                         |                8.51|             8.51|                8.51|Small molecule|                     null|      null|                null|                null|  CHEMBL3411381|         B|       null|   Homo sapiens|Serine/threonine-...|                 null|                     null|               9|  Direct single pro...|          null|[{O00444, Serine/...|SINGLE PROTEIN|   O00444|      Kinase|        TRUE|        TRUE|           null|   null|ENSG00000142731|    [chemicalProbes]|             false|              false|false|        false|   true|\n",
      "+----------------+-------------+-------------------------+--------------------+-----------------+--------------------+--------------+-------------------------+----------+--------------------+--------------------+---------------+----------+-----------+---------------+--------------------+---------------------+-------------------------+----------------+----------------------+--------------+--------------------+--------------+---------+------------+------------+------------+---------------+-------+---------------+--------------------+------------------+-------------------+-----+-------------+-------+\n",
      "only showing top 20 rows\n",
      "\n"
     ]
    },
    {
     "data": {
      "text/plain": [
       "4656"
      ]
     },
     "execution_count": 46,
     "metadata": {},
     "output_type": "execute_result"
    }
   ],
   "source": [
    "# Classification of targets by genetic evidence support\n",
    "def is_ge(sources):\n",
    "    undesired_lists = [\n",
    "        ['chembl'],\n",
    "        ['chemicalProbes'],\n",
    "        ['chembl', 'chemicalProbes'],\n",
    "        ['chemicalProbes', 'chembl']\n",
    "    ]\n",
    "    return not (sources in undesired_lists or sources is None)\n",
    "\n",
    "def is_ge_clinical(sources):\n",
    "    undesired_lists = [['chemicalProbes']]\n",
    "    return not (sources in undesired_lists or sources is None)\n",
    "\n",
    "def contains_chemical_probes(sources):\n",
    "    return 'chemicalProbes' in sources if sources else False\n",
    "\n",
    "# Register UDFs\n",
    "is_ge_udf = udf(is_ge, BooleanType())\n",
    "is_ge_clinical_udf = udf(is_ge_clinical, BooleanType())\n",
    "contains_chemical_probes_udf = udf(contains_chemical_probes, BooleanType())\n",
    "\n",
    "# Apply UDFs to create new columns\n",
    "target_evidence_bool = target_evidence.withColumn(\"isGE\", is_ge_udf(\"sources\"))\\\n",
    "                        .withColumn(\"isGE_clinical\", is_ge_clinical_udf(\"sources\"))\\\n",
    "                        .withColumn(\"isProbe\", contains_chemical_probes_udf(\"sources\"))\n",
    "\n",
    "target_evidence_bool.show()\n",
    "target_evidence_bool.count()"
   ]
  },
  {
   "cell_type": "code",
   "execution_count": 47,
   "metadata": {},
   "outputs": [
    {
     "name": "stderr",
     "output_type": "stream",
     "text": [
      "                                                                                \r"
     ]
    }
   ],
   "source": [
    "target_evidence_bool.write.parquet(\"gs://ot-team/polina/target_evidence_bool_3\")"
   ]
  },
  {
   "cell_type": "code",
   "execution_count": null,
   "metadata": {},
   "outputs": [],
   "source": []
  },
  {
   "cell_type": "code",
   "execution_count": null,
   "metadata": {},
   "outputs": [],
   "source": []
  },
  {
   "cell_type": "code",
   "execution_count": null,
   "metadata": {},
   "outputs": [],
   "source": []
  },
  {
   "cell_type": "code",
   "execution_count": null,
   "metadata": {},
   "outputs": [],
   "source": []
  },
  {
   "cell_type": "code",
   "execution_count": null,
   "metadata": {},
   "outputs": [],
   "source": []
  },
  {
   "cell_type": "markdown",
   "metadata": {},
   "source": [
    "### Counts targets with non-pharmacological MoA"
   ]
  },
  {
   "cell_type": "code",
   "execution_count": null,
   "metadata": {},
   "outputs": [
    {
     "name": "stderr",
     "output_type": "stream",
     "text": [
      "                                                                                \r"
     ]
    },
    {
     "data": {
      "text/plain": [
       "135"
      ]
     },
     "execution_count": 87,
     "metadata": {},
     "output_type": "execute_result"
    }
   ],
   "source": [
    "# How many targets:\n",
    "#   have assays for active drugs \n",
    "#   not in MoA of these drugs\n",
    "#   supported by GE or clinical evidence\n",
    "\n",
    "target_evidence_no_moa = target_evidence_bool\\\n",
    "                        .filter(target_evidence_bool[\"IsActive_max\"] == True)\\\n",
    "                        .filter(target_evidence_bool[\"isInMoA\"].isNull())\\\n",
    "                        .filter(target_evidence_bool[\"isGE_clinical\"] == True)\\\n",
    "\n",
    "count_unique_values(target_evidence_no_moa.drop_duplicates([\"target_chembl_id\"]), \"target_chembl_id\")"
   ]
  },
  {
   "cell_type": "code",
   "execution_count": null,
   "metadata": {},
   "outputs": [
    {
     "name": "stderr",
     "output_type": "stream",
     "text": [
      "                                                                                \r"
     ]
    },
    {
     "data": {
      "text/plain": [
       "83"
      ]
     },
     "execution_count": 88,
     "metadata": {},
     "output_type": "execute_result"
    }
   ],
   "source": [
    "# How many targets:\n",
    "#   have assays for active drugs \n",
    "#   not in MoA of these drugs\n",
    "#   supported by GE\n",
    "\n",
    "target_evidence_no_moa = target_evidence_bool\\\n",
    "                        .filter(target_evidence_bool[\"IsActive_max\"] == True)\\\n",
    "                        .filter(target_evidence_bool[\"isInMoA\"].isNull())\\\n",
    "                        .filter(target_evidence_bool[\"isGE\"] == True)\\\n",
    "\n",
    "count_unique_values(target_evidence_no_moa.drop_duplicates([\"target_chembl_id\"]), \"target_chembl_id\")"
   ]
  },
  {
   "cell_type": "code",
   "execution_count": null,
   "metadata": {},
   "outputs": [
    {
     "name": "stderr",
     "output_type": "stream",
     "text": [
      "                                                                                \r"
     ]
    },
    {
     "data": {
      "text/plain": [
       "133"
      ]
     },
     "execution_count": 89,
     "metadata": {},
     "output_type": "execute_result"
    }
   ],
   "source": [
    "# How many targets:\n",
    "#   have assays for active drugs (pchembl median)\n",
    "#   not in MoA of these drugs\n",
    "#   supported by GE or clinical evidence\n",
    "\n",
    "target_evidence_no_moa = target_evidence_bool\\\n",
    "                        .filter(target_evidence_bool[\"IsActive_med\"] == True)\\\n",
    "                        .filter(target_evidence_bool[\"isInMoA\"].isNull())\\\n",
    "                        .filter(target_evidence_bool[\"isGE_clinical\"] == True)\\\n",
    "\n",
    "count_unique_values(target_evidence_no_moa.drop_duplicates([\"target_chembl_id\"]), \"target_chembl_id\")"
   ]
  },
  {
   "cell_type": "code",
   "execution_count": null,
   "metadata": {},
   "outputs": [
    {
     "name": "stderr",
     "output_type": "stream",
     "text": [
      "                                                                                \r"
     ]
    },
    {
     "data": {
      "text/plain": [
       "239"
      ]
     },
     "execution_count": 92,
     "metadata": {},
     "output_type": "execute_result"
    }
   ],
   "source": [
    "target_evidence_no_moa.count()"
   ]
  },
  {
   "cell_type": "code",
   "execution_count": null,
   "metadata": {},
   "outputs": [],
   "source": []
  },
  {
   "cell_type": "code",
   "execution_count": null,
   "metadata": {},
   "outputs": [
    {
     "name": "stderr",
     "output_type": "stream",
     "text": [
      "                                                                                \r"
     ]
    },
    {
     "data": {
      "text/plain": [
       "438"
      ]
     },
     "execution_count": 176,
     "metadata": {},
     "output_type": "execute_result"
    }
   ],
   "source": [
    "# No targets in MoA for probes\n",
    "target_evidence_no_moa_probes = target_evidence_bool\\\n",
    "                        .filter(target_evidence_bool[\"target_chembl_id_moa\"].isNull())\\\n",
    "                        .filter(target_evidence_bool[\"IsActive\"] == True)\\\n",
    "                        .filter(target_evidence_bool[\"isProbe\"] == True)\n",
    "count_unique_values(target_evidence_no_moa_probes, \"drugId\")"
   ]
  },
  {
   "cell_type": "code",
   "execution_count": null,
   "metadata": {},
   "outputs": [],
   "source": []
  },
  {
   "cell_type": "code",
   "execution_count": null,
   "metadata": {},
   "outputs": [],
   "source": []
  },
  {
   "cell_type": "code",
   "execution_count": null,
   "metadata": {},
   "outputs": [],
   "source": []
  },
  {
   "cell_type": "code",
   "execution_count": null,
   "metadata": {},
   "outputs": [
    {
     "name": "stderr",
     "output_type": "stream",
     "text": [
      "                                                                                \r"
     ]
    },
    {
     "data": {
      "text/plain": [
       "483"
      ]
     },
     "execution_count": 170,
     "metadata": {},
     "output_type": "execute_result"
    }
   ],
   "source": [
    "drug_active_only_probes = target_evidence_bool.filter(target_evidence_bool[\"isProbe\"] == True).filter(target_evidence_bool[\"isActive\"] == True)\n",
    "count_unique_values(drug_active_only_probes, \"drugId\")"
   ]
  },
  {
   "cell_type": "code",
   "execution_count": null,
   "metadata": {},
   "outputs": [
    {
     "name": "stderr",
     "output_type": "stream",
     "text": [
      "                                                                                \r"
     ]
    },
    {
     "data": {
      "text/plain": [
       "131"
      ]
     },
     "execution_count": 171,
     "metadata": {},
     "output_type": "execute_result"
    }
   ],
   "source": [
    "drug_active_only_probes = target_evidence_bool.filter(target_evidence_bool[\"isHighQualityProbe\"] == True).filter(target_evidence_bool[\"isActive\"] == True)\n",
    "count_unique_values(drug_active_only_probes, \"drugId\")"
   ]
  },
  {
   "cell_type": "code",
   "execution_count": null,
   "metadata": {},
   "outputs": [
    {
     "name": "stderr",
     "output_type": "stream",
     "text": [
      "                                                                                \r"
     ]
    },
    {
     "data": {
      "text/plain": [
       "2287"
      ]
     },
     "execution_count": 164,
     "metadata": {},
     "output_type": "execute_result"
    }
   ],
   "source": [
    "count_unique_values(target_evidence_bool, \"drugId\")"
   ]
  },
  {
   "cell_type": "code",
   "execution_count": null,
   "metadata": {},
   "outputs": [
    {
     "data": {
      "text/plain": [
       "596"
      ]
     },
     "execution_count": 165,
     "metadata": {},
     "output_type": "execute_result"
    }
   ],
   "source": [
    "target_evidence_bool_clinical = target_evidence_bool.filter(target_evidence_bool[\"isApproved\"] != \"true\")\n",
    "# target_evidence_bool_clinical.show()\n",
    "count_unique_values(target_evidence_bool_clinical, \"drugId\")"
   ]
  },
  {
   "cell_type": "code",
   "execution_count": null,
   "metadata": {},
   "outputs": [
    {
     "name": "stderr",
     "output_type": "stream",
     "text": [
      "                                                                                \r"
     ]
    },
    {
     "data": {
      "text/plain": [
       "850"
      ]
     },
     "execution_count": 166,
     "metadata": {},
     "output_type": "execute_result"
    }
   ],
   "source": [
    "target_evidence_bool_clinical = target_evidence_bool.filter(target_evidence_bool[\"isApproved\"] == True)\n",
    "# target_evidence_bool_clinical.show()\n",
    "count_unique_values(target_evidence_bool_clinical, \"drugId\")"
   ]
  },
  {
   "cell_type": "code",
   "execution_count": null,
   "metadata": {},
   "outputs": [
    {
     "name": "stderr",
     "output_type": "stream",
     "text": [
      "[Stage 953:=============================================>       (170 + 8) / 200]\r"
     ]
    },
    {
     "name": "stdout",
     "output_type": "stream",
     "text": [
      "+----------+-------------------+\n",
      "|isApproved|unique_drugId_count|\n",
      "+----------+-------------------+\n",
      "|      null|               1160|\n",
      "|      true|               1318|\n",
      "|     false|                895|\n",
      "+----------+-------------------+\n",
      "\n"
     ]
    },
    {
     "name": "stderr",
     "output_type": "stream",
     "text": [
      "                                                                                \r"
     ]
    }
   ],
   "source": [
    "from pyspark.sql.functions import countDistinct\n",
    "\n",
    "# Group by 'isApproved' and count distinct 'drugId's\n",
    "drugId_count = target_evidence_bool.groupBy(\"isApproved\").agg(countDistinct(\"drugId\").alias(\"unique_drugId_count\"))\n",
    "\n",
    "# Show the result\n",
    "drugId_count.show()\n"
   ]
  },
  {
   "cell_type": "code",
   "execution_count": null,
   "metadata": {},
   "outputs": [
    {
     "data": {
      "text/plain": [
       "187"
      ]
     },
     "execution_count": 105,
     "metadata": {},
     "output_type": "execute_result"
    }
   ],
   "source": [
    "target_evidence_bool_probe_h = target_evidence_bool.filter(target_evidence_bool[\"isHighQualityProbe\"] == True)\n",
    "# target_evidence_bool_probe_h.show()\n",
    "count_unique_values(target_evidence_bool_probe_h, \"drugId\")"
   ]
  },
  {
   "cell_type": "code",
   "execution_count": null,
   "metadata": {},
   "outputs": [
    {
     "name": "stderr",
     "output_type": "stream",
     "text": [
      "                                                                                \r"
     ]
    },
    {
     "data": {
      "text/plain": [
       "695"
      ]
     },
     "execution_count": 106,
     "metadata": {},
     "output_type": "execute_result"
    }
   ],
   "source": [
    "target_evidence_bool_probe = target_evidence_bool.filter(target_evidence_bool[\"isProbe\"] == True)\n",
    "# target_evidence_bool_probe.show()\n",
    "count_unique_values(target_evidence_bool_probe, \"drugId\")"
   ]
  },
  {
   "cell_type": "markdown",
   "metadata": {},
   "source": [
    "# Data coverage"
   ]
  },
  {
   "cell_type": "markdown",
   "metadata": {},
   "source": [
    "### Drugs"
   ]
  },
  {
   "cell_type": "code",
   "execution_count": null,
   "metadata": {},
   "outputs": [],
   "source": [
    "# Filtering by:\n",
    "#         1. max_phase ≠ 4 | max_phase = 4 | probes = TRUE\n",
    "#         2. moa = NaN | moa ≠ NaN\n",
    "#         3. drugActive = TRUE\n",
    "#         4. GE = TRUE | clinical_GE = TRUE"
   ]
  },
  {
   "cell_type": "code",
   "execution_count": null,
   "metadata": {},
   "outputs": [],
   "source": [
    "# Number of clinical candidates/approved drugs/chemical probes for which:\n",
    "#     1. there is no MoA and they are bioactive against some targets:\n",
    "#         1. which have GE/GE+clinical evidence for any disease\n",
    "#     2. there is MoA but they are bioactive against some other targets\n",
    "#         1. which have GE/GE+clinical evidence for any disease"
   ]
  },
  {
   "cell_type": "markdown",
   "metadata": {},
   "source": [
    "### Targets"
   ]
  },
  {
   "cell_type": "code",
   "execution_count": null,
   "metadata": {},
   "outputs": [
    {
     "name": "stdout",
     "output_type": "stream",
     "text": [
      "+----------------+-------------+--------------+-------------------------+----------+--------------------+--------------------+---------------+----------+-----------+-------------+-------------+--------------+--------------+-----------------+---------------+--------------------+----------------+----------------------+--------------+--------------------+---------------+---------+------------+-----------------+--------------------+--------+---------------+--------------------+-----------+---------------+--------+------------------+-------------------+-----+-------------+-------+\n",
      "|target_chembl_id|       drugId|      drugType|maximumClinicalTrialPhase|isApproved|       linkedTargets|      linkedDiseases|assay_chembl_id|assay_type|action_type|pchembl_value|standard_type|standard_units|standard_value|standard_relation|target_organism|    target_pref_name|confidence_score|confidence_description|assay_category|   target_components|    target_type|accession|proteinClass|max_pchembl_value|median_pchembl_value|isActive|action_type_moa|target_chembl_id_moa|targetInMoA|       targetId| sources|isHighQualityProbe|isTherapeuticTarget| isGE|isGE_clinical|isProbe|\n",
      "+----------------+-------------+--------------+-------------------------+----------+--------------------+--------------------+---------------+----------+-----------+-------------+-------------+--------------+--------------+-----------------+---------------+--------------------+----------------+----------------------+--------------+--------------------+---------------+---------+------------+-----------------+--------------------+--------+---------------+--------------------+-----------+---------------+--------+------------------+-------------------+-----+-------------+-------+\n",
      "|   CHEMBL1907602|CHEMBL4442620|Small molecule|                      2.0|     false|{20, [ENSG0000017...|{3, [EFO_0003060,...|  CHEMBL3607089|         B|       null|         8.15|         IC50|            nM|           7.0|                =|   Homo sapiens|Cyclin-dependent ...|               7|  Direct protein co...|          null|[{P06493, Cyclin-...|PROTEIN COMPLEX|   P06493|      Kinase|             8.15|                8.15|    TRUE|      INHIBITOR|       CHEMBL3559691|      false|ENSG00000170312|[chembl]|             false|               true|false|         true|  false|\n",
      "|       CHEMBL308|CHEMBL2436978|Small molecule|                     null|      null|                null|                null|  CHEMBL2439767|         B|       null|         5.95|         IC50|            nM|        1125.0|                =|   Homo sapiens|Cyclin-dependent ...|               9|  Direct single pro...|          null|[{P06493, Cyclin-...| SINGLE PROTEIN|   P06493|      Kinase|             5.95|                5.95|   FALSE|           null|                null|       null|           null|    null|              null|               null|false|        false|  false|\n",
      "|       CHEMBL308|CHEMBL3688339|Small molecule|                     null|      null|                null|                null|  CHEMBL3991650|         B|       null|         6.54|           Kd|            nM|         288.0|                =|   Homo sapiens|Cyclin-dependent ...|               9|  Direct single pro...|          null|[{P06493, Cyclin-...| SINGLE PROTEIN|   P06493|      Kinase|             6.54|                6.54|   FALSE|           null|                null|       null|           null|    null|              null|               null|false|        false|  false|\n",
      "|   CHEMBL1907602|CHEMBL4442620|Small molecule|                      2.0|     false|{20, [ENSG0000017...|{3, [EFO_0003060,...|  CHEMBL4613391|         B|       null|         8.15|         IC50|            nM|           7.0|                =|   Homo sapiens|Cyclin-dependent ...|               7|  Direct protein co...|          null|[{P06493, Cyclin-...|PROTEIN COMPLEX|   P06493|      Kinase|             8.15|                8.15|    TRUE|      INHIBITOR|       CHEMBL3559691|      false|ENSG00000170312|[chembl]|             false|               true|false|         true|  false|\n",
      "|   CHEMBL1907602| CHEMBL428690|Small molecule|                      3.0|     false|{6, [ENSG00000170...|{26, [EFO_0001378...|  CHEMBL3856462|         B|       null|         7.57|         IC50|            nM|          27.0|                =|   Homo sapiens|Cyclin-dependent ...|               7|  Direct protein co...|          null|[{P06493, Cyclin-...|PROTEIN COMPLEX|   P06493|      Kinase|             7.57|                7.57|   FALSE|      INHIBITOR|          CHEMBL3055|      false|ENSG00000170312|[chembl]|             false|               true|false|         true|  false|\n",
      "|   CHEMBL1907602| CHEMBL428690|Small molecule|                      3.0|     false|{6, [ENSG00000170...|{26, [EFO_0001378...|  CHEMBL3856462|         B|       null|         7.57|         IC50|            nM|          27.0|                =|   Homo sapiens|Cyclin-dependent ...|               7|  Direct protein co...|          null|[{P06493, Cyclin-...|PROTEIN COMPLEX|   P06493|      Kinase|             7.57|                7.57|   FALSE|      INHIBITOR|          CHEMBL3116|      false|ENSG00000170312|[chembl]|             false|               true|false|         true|  false|\n",
      "|   CHEMBL1907602| CHEMBL428690|Small molecule|                      3.0|     false|{6, [ENSG00000170...|{26, [EFO_0001378...|  CHEMBL3856462|         B|       null|         7.57|         IC50|            nM|          27.0|                =|   Homo sapiens|Cyclin-dependent ...|               7|  Direct protein co...|          null|[{P06493, Cyclin-...|PROTEIN COMPLEX|   P06493|      Kinase|             7.57|                7.57|   FALSE|      INHIBITOR|          CHEMBL2508|      false|ENSG00000170312|[chembl]|             false|               true|false|         true|  false|\n",
      "|   CHEMBL1907602| CHEMBL428690|Small molecule|                      3.0|     false|{6, [ENSG00000170...|{26, [EFO_0001378...|  CHEMBL3856462|         B|       null|         7.57|         IC50|            nM|          27.0|                =|   Homo sapiens|Cyclin-dependent ...|               7|  Direct protein co...|          null|[{P06493, Cyclin-...|PROTEIN COMPLEX|   P06493|      Kinase|             7.57|                7.57|   FALSE|      INHIBITOR|           CHEMBL301|      false|ENSG00000170312|[chembl]|             false|               true|false|         true|  false|\n",
      "|   CHEMBL1907602| CHEMBL428690|Small molecule|                      3.0|     false|{6, [ENSG00000170...|{26, [EFO_0001378...|  CHEMBL3856462|         B|       null|         7.57|         IC50|            nM|          27.0|                =|   Homo sapiens|Cyclin-dependent ...|               7|  Direct protein co...|          null|[{P06493, Cyclin-...|PROTEIN COMPLEX|   P06493|      Kinase|             7.57|                7.57|   FALSE|      INHIBITOR|           CHEMBL308|      false|ENSG00000170312|[chembl]|             false|               true|false|         true|  false|\n",
      "|   CHEMBL1907602| CHEMBL428690|Small molecule|                      3.0|     false|{6, [ENSG00000170...|{26, [EFO_0001378...|  CHEMBL3856462|         B|       null|         7.57|         IC50|            nM|          27.0|                =|   Homo sapiens|Cyclin-dependent ...|               7|  Direct protein co...|          null|[{P06493, Cyclin-...|PROTEIN COMPLEX|   P06493|      Kinase|             7.57|                7.57|   FALSE|      INHIBITOR|           CHEMBL331|      false|ENSG00000170312|[chembl]|             false|               true|false|         true|  false|\n",
      "|       CHEMBL308|CHEMBL2103840|Small molecule|                      3.0|     false|{4, [ENSG00000170...|{9, [EFO_0006861,...|  CHEMBL3856515|         B|       null|         8.52|         IC50|            nM|           3.0|                =|   Homo sapiens|Cyclin-dependent ...|               9|  Direct single pro...|          null|[{P06493, Cyclin-...| SINGLE PROTEIN|   P06493|      Kinase|             8.52|                8.52|    TRUE|      INHIBITOR|          CHEMBL3116|       true|ENSG00000170312|[chembl]|             false|               true|false|         true|  false|\n",
      "|       CHEMBL308|CHEMBL2103840|Small molecule|                      3.0|     false|{4, [ENSG00000170...|{9, [EFO_0006861,...|  CHEMBL3856515|         B|       null|         8.52|         IC50|            nM|           3.0|                =|   Homo sapiens|Cyclin-dependent ...|               9|  Direct single pro...|          null|[{P06493, Cyclin-...| SINGLE PROTEIN|   P06493|      Kinase|             8.52|                8.52|    TRUE|      INHIBITOR|           CHEMBL308|       true|ENSG00000170312|[chembl]|             false|               true|false|         true|  false|\n",
      "|       CHEMBL308|CHEMBL2103840|Small molecule|                      3.0|     false|{4, [ENSG00000170...|{9, [EFO_0006861,...|  CHEMBL3856515|         B|       null|         8.52|         IC50|            nM|           3.0|                =|   Homo sapiens|Cyclin-dependent ...|               9|  Direct single pro...|          null|[{P06493, Cyclin-...| SINGLE PROTEIN|   P06493|      Kinase|             8.52|                8.52|    TRUE|      INHIBITOR|          CHEMBL4036|       true|ENSG00000170312|[chembl]|             false|               true|false|         true|  false|\n",
      "|       CHEMBL308|CHEMBL2103840|Small molecule|                      3.0|     false|{4, [ENSG00000170...|{9, [EFO_0006861,...|  CHEMBL3856515|         B|       null|         8.52|         IC50|            nM|           3.0|                =|   Homo sapiens|Cyclin-dependent ...|               9|  Direct single pro...|          null|[{P06493, Cyclin-...| SINGLE PROTEIN|   P06493|      Kinase|             8.52|                8.52|    TRUE|      INHIBITOR|           CHEMBL301|       true|ENSG00000170312|[chembl]|             false|               true|false|         true|  false|\n",
      "|       CHEMBL308|CHEMBL1944698|Small molecule|                      1.0|     false|{6, [ENSG00000136...|{5, [EFO_0000182,...|  CHEMBL3856510|         B|       null|         8.52|         IC50|            nM|           3.0|                =|   Homo sapiens|Cyclin-dependent ...|               9|  Direct single pro...|          null|[{P06493, Cyclin-...| SINGLE PROTEIN|   P06493|      Kinase|             8.52|                8.52|    TRUE|      INHIBITOR|          CHEMBL3116|       true|ENSG00000170312|[chembl]|             false|               true|false|         true|  false|\n",
      "|       CHEMBL308|CHEMBL1944698|Small molecule|                      1.0|     false|{6, [ENSG00000136...|{5, [EFO_0000182,...|  CHEMBL3856510|         B|       null|         8.52|         IC50|            nM|           3.0|                =|   Homo sapiens|Cyclin-dependent ...|               9|  Direct single pro...|          null|[{P06493, Cyclin-...| SINGLE PROTEIN|   P06493|      Kinase|             8.52|                8.52|    TRUE|      INHIBITOR|          CHEMBL2971|       true|ENSG00000170312|[chembl]|             false|               true|false|         true|  false|\n",
      "|       CHEMBL308|CHEMBL1944698|Small molecule|                      1.0|     false|{6, [ENSG00000136...|{5, [EFO_0000182,...|  CHEMBL3856510|         B|       null|         8.52|         IC50|            nM|           3.0|                =|   Homo sapiens|Cyclin-dependent ...|               9|  Direct single pro...|          null|[{P06493, Cyclin-...| SINGLE PROTEIN|   P06493|      Kinase|             8.52|                8.52|    TRUE|      INHIBITOR|          CHEMBL3055|       true|ENSG00000170312|[chembl]|             false|               true|false|         true|  false|\n",
      "|       CHEMBL308|CHEMBL1944698|Small molecule|                      1.0|     false|{6, [ENSG00000136...|{5, [EFO_0000182,...|  CHEMBL3856510|         B|       null|         8.52|         IC50|            nM|           3.0|                =|   Homo sapiens|Cyclin-dependent ...|               9|  Direct single pro...|          null|[{P06493, Cyclin-...| SINGLE PROTEIN|   P06493|      Kinase|             8.52|                8.52|    TRUE|      INHIBITOR|           CHEMBL301|       true|ENSG00000170312|[chembl]|             false|               true|false|         true|  false|\n",
      "|       CHEMBL308|CHEMBL1944698|Small molecule|                      1.0|     false|{6, [ENSG00000136...|{5, [EFO_0000182,...|  CHEMBL3856510|         B|       null|         8.52|         IC50|            nM|           3.0|                =|   Homo sapiens|Cyclin-dependent ...|               9|  Direct single pro...|          null|[{P06493, Cyclin-...| SINGLE PROTEIN|   P06493|      Kinase|             8.52|                8.52|    TRUE|      INHIBITOR|          CHEMBL1974|       true|ENSG00000170312|[chembl]|             false|               true|false|         true|  false|\n",
      "|       CHEMBL308|CHEMBL1944698|Small molecule|                      1.0|     false|{6, [ENSG00000136...|{5, [EFO_0000182,...|  CHEMBL3856510|         B|       null|         8.52|         IC50|            nM|           3.0|                =|   Homo sapiens|Cyclin-dependent ...|               9|  Direct single pro...|          null|[{P06493, Cyclin-...| SINGLE PROTEIN|   P06493|      Kinase|             8.52|                8.52|    TRUE|      INHIBITOR|           CHEMBL308|       true|ENSG00000170312|[chembl]|             false|               true|false|         true|  false|\n",
      "+----------------+-------------+--------------+-------------------------+----------+--------------------+--------------------+---------------+----------+-----------+-------------+-------------+--------------+--------------+-----------------+---------------+--------------------+----------------+----------------------+--------------+--------------------+---------------+---------+------------+-----------------+--------------------+--------+---------------+--------------------+-----------+---------------+--------+------------------+-------------------+-----+-------------+-------+\n",
      "only showing top 20 rows\n",
      "\n"
     ]
    }
   ],
   "source": [
    "# Dataset with only pchembl value activity\n",
    "target_evidence_bool.show()"
   ]
  },
  {
   "cell_type": "code",
   "execution_count": null,
   "metadata": {},
   "outputs": [
    {
     "name": "stdout",
     "output_type": "stream",
     "text": [
      "+---------------+-----+\n",
      "|       drugType|count|\n",
      "+---------------+-----+\n",
      "| Small molecule| 9218|\n",
      "|Oligosaccharide|    2|\n",
      "|           null|    1|\n",
      "|        Protein|  113|\n",
      "|       Antibody|    4|\n",
      "|        Unknown|   14|\n",
      "+---------------+-----+\n",
      "\n"
     ]
    }
   ],
   "source": [
    "show_unique_values_and_counts(target_evidence_bool, \"drugType\")"
   ]
  },
  {
   "cell_type": "code",
   "execution_count": null,
   "metadata": {},
   "outputs": [
    {
     "name": "stderr",
     "output_type": "stream",
     "text": [
      "                                                                                \r"
     ]
    },
    {
     "data": {
      "text/plain": [
       "326"
      ]
     },
     "execution_count": 182,
     "metadata": {},
     "output_type": "execute_result"
    }
   ],
   "source": [
    "# Number of targets supported by GE which have active bioassays\n",
    "\n",
    "targets_GE = target_evidence_bool\\\n",
    "                .filter(target_evidence_bool[\"IsActive\"] == True)\\\n",
    "                .filter(target_evidence_bool[\"isGE\"] == True)\n",
    "\n",
    "count_unique_values(targets_GE, \"target_chembl_id\")"
   ]
  },
  {
   "cell_type": "code",
   "execution_count": null,
   "metadata": {},
   "outputs": [
    {
     "name": "stderr",
     "output_type": "stream",
     "text": [
      "                                                                                \r"
     ]
    },
    {
     "data": {
      "text/plain": [
       "431"
      ]
     },
     "execution_count": 184,
     "metadata": {},
     "output_type": "execute_result"
    }
   ],
   "source": [
    "# Number of targets supported by GE_clinical which have active bioassays\n",
    "\n",
    "targets_GE_clinical = target_evidence_bool\\\n",
    "                .filter(target_evidence_bool[\"IsActive\"] == True)\\\n",
    "                .filter(target_evidence_bool[\"isGE_clinical\"] == True)\n",
    "\n",
    "count_unique_values(targets_GE_clinical, \"target_chembl_id\")"
   ]
  },
  {
   "cell_type": "code",
   "execution_count": null,
   "metadata": {},
   "outputs": [
    {
     "name": "stderr",
     "output_type": "stream",
     "text": [
      "                                                                                \r"
     ]
    },
    {
     "data": {
      "text/plain": [
       "115"
      ]
     },
     "execution_count": 185,
     "metadata": {},
     "output_type": "execute_result"
    }
   ],
   "source": [
    "# Number of targets supported by GE which have active bioassays and not in MoA of the drug\n",
    "\n",
    "targets_GE_noMoA = target_evidence_bool\\\n",
    "                .filter(target_evidence_bool[\"IsActive\"] == True)\\\n",
    "                .filter(target_evidence_bool[\"isGE\"] == True)\\\n",
    "                .filter(target_evidence_bool[\"targetInMoA\"] != True)\n",
    "\n",
    "count_unique_values(targets_GE_noMoA, \"target_chembl_id\")"
   ]
  },
  {
   "cell_type": "code",
   "execution_count": null,
   "metadata": {},
   "outputs": [
    {
     "name": "stderr",
     "output_type": "stream",
     "text": [
      "                                                                                \r"
     ]
    },
    {
     "data": {
      "text/plain": [
       "145"
      ]
     },
     "execution_count": 186,
     "metadata": {},
     "output_type": "execute_result"
    }
   ],
   "source": [
    "# Number of targets supported by GE_clinical which have active bioassays and not in MoA of the drug\n",
    "\n",
    "targets_GE_clinical_noMoA = target_evidence_bool\\\n",
    "                .filter(target_evidence_bool[\"IsActive\"] == True)\\\n",
    "                .filter(target_evidence_bool[\"isGE_clinical\"] == True)\\\n",
    "                .filter(target_evidence_bool[\"targetInMoA\"] != True)\n",
    "\n",
    "count_unique_values(targets_GE_clinical_noMoA, \"target_chembl_id\")"
   ]
  },
  {
   "cell_type": "markdown",
   "metadata": {},
   "source": [
    "## Action type"
   ]
  },
  {
   "cell_type": "code",
   "execution_count": null,
   "metadata": {},
   "outputs": [
    {
     "name": "stdout",
     "output_type": "stream",
     "text": [
      "+----------------+-------------+--------------+-------------------------+----------+--------------------+--------------------+---------------+----------+-----------+-------------+-------------+--------------+--------------+-----------------+---------------+--------------------+----------------+----------------------+--------------+--------------------+---------------+---------+------------+-----------------+--------------------+--------+---------------+--------------------+-----------+---------------+--------+------------------+-------------------+-----+-------------+-------+\n",
      "|target_chembl_id|       drugId|      drugType|maximumClinicalTrialPhase|isApproved|       linkedTargets|      linkedDiseases|assay_chembl_id|assay_type|action_type|pchembl_value|standard_type|standard_units|standard_value|standard_relation|target_organism|    target_pref_name|confidence_score|confidence_description|assay_category|   target_components|    target_type|accession|proteinClass|max_pchembl_value|median_pchembl_value|isActive|action_type_moa|target_chembl_id_moa|targetInMoA|       targetId| sources|isHighQualityProbe|isTherapeuticTarget| isGE|isGE_clinical|isProbe|\n",
      "+----------------+-------------+--------------+-------------------------+----------+--------------------+--------------------+---------------+----------+-----------+-------------+-------------+--------------+--------------+-----------------+---------------+--------------------+----------------+----------------------+--------------+--------------------+---------------+---------+------------+-----------------+--------------------+--------+---------------+--------------------+-----------+---------------+--------+------------------+-------------------+-----+-------------+-------+\n",
      "|   CHEMBL1907602|CHEMBL4442620|Small molecule|                      2.0|     false|{20, [ENSG0000017...|{3, [EFO_0003060,...|  CHEMBL3607089|         B|       null|         8.15|         IC50|            nM|           7.0|                =|   Homo sapiens|Cyclin-dependent ...|               7|  Direct protein co...|          null|[{P06493, Cyclin-...|PROTEIN COMPLEX|   P06493|      Kinase|             8.15|                8.15|    TRUE|      INHIBITOR|       CHEMBL3559691|      false|ENSG00000170312|[chembl]|             false|               true|false|         true|  false|\n",
      "|       CHEMBL308|CHEMBL2436978|Small molecule|                     null|      null|                null|                null|  CHEMBL2439767|         B|       null|         5.95|         IC50|            nM|        1125.0|                =|   Homo sapiens|Cyclin-dependent ...|               9|  Direct single pro...|          null|[{P06493, Cyclin-...| SINGLE PROTEIN|   P06493|      Kinase|             5.95|                5.95|   FALSE|           null|                null|       null|           null|    null|              null|               null|false|        false|  false|\n",
      "|       CHEMBL308|CHEMBL3688339|Small molecule|                     null|      null|                null|                null|  CHEMBL3991650|         B|       null|         6.54|           Kd|            nM|         288.0|                =|   Homo sapiens|Cyclin-dependent ...|               9|  Direct single pro...|          null|[{P06493, Cyclin-...| SINGLE PROTEIN|   P06493|      Kinase|             6.54|                6.54|   FALSE|           null|                null|       null|           null|    null|              null|               null|false|        false|  false|\n",
      "|   CHEMBL1907602|CHEMBL4442620|Small molecule|                      2.0|     false|{20, [ENSG0000017...|{3, [EFO_0003060,...|  CHEMBL4613391|         B|       null|         8.15|         IC50|            nM|           7.0|                =|   Homo sapiens|Cyclin-dependent ...|               7|  Direct protein co...|          null|[{P06493, Cyclin-...|PROTEIN COMPLEX|   P06493|      Kinase|             8.15|                8.15|    TRUE|      INHIBITOR|       CHEMBL3559691|      false|ENSG00000170312|[chembl]|             false|               true|false|         true|  false|\n",
      "|   CHEMBL1907602| CHEMBL428690|Small molecule|                      3.0|     false|{6, [ENSG00000170...|{26, [EFO_0001378...|  CHEMBL3856462|         B|       null|         7.57|         IC50|            nM|          27.0|                =|   Homo sapiens|Cyclin-dependent ...|               7|  Direct protein co...|          null|[{P06493, Cyclin-...|PROTEIN COMPLEX|   P06493|      Kinase|             7.57|                7.57|   FALSE|      INHIBITOR|          CHEMBL3055|      false|ENSG00000170312|[chembl]|             false|               true|false|         true|  false|\n",
      "|   CHEMBL1907602| CHEMBL428690|Small molecule|                      3.0|     false|{6, [ENSG00000170...|{26, [EFO_0001378...|  CHEMBL3856462|         B|       null|         7.57|         IC50|            nM|          27.0|                =|   Homo sapiens|Cyclin-dependent ...|               7|  Direct protein co...|          null|[{P06493, Cyclin-...|PROTEIN COMPLEX|   P06493|      Kinase|             7.57|                7.57|   FALSE|      INHIBITOR|          CHEMBL3116|      false|ENSG00000170312|[chembl]|             false|               true|false|         true|  false|\n",
      "|   CHEMBL1907602| CHEMBL428690|Small molecule|                      3.0|     false|{6, [ENSG00000170...|{26, [EFO_0001378...|  CHEMBL3856462|         B|       null|         7.57|         IC50|            nM|          27.0|                =|   Homo sapiens|Cyclin-dependent ...|               7|  Direct protein co...|          null|[{P06493, Cyclin-...|PROTEIN COMPLEX|   P06493|      Kinase|             7.57|                7.57|   FALSE|      INHIBITOR|          CHEMBL2508|      false|ENSG00000170312|[chembl]|             false|               true|false|         true|  false|\n",
      "|   CHEMBL1907602| CHEMBL428690|Small molecule|                      3.0|     false|{6, [ENSG00000170...|{26, [EFO_0001378...|  CHEMBL3856462|         B|       null|         7.57|         IC50|            nM|          27.0|                =|   Homo sapiens|Cyclin-dependent ...|               7|  Direct protein co...|          null|[{P06493, Cyclin-...|PROTEIN COMPLEX|   P06493|      Kinase|             7.57|                7.57|   FALSE|      INHIBITOR|           CHEMBL301|      false|ENSG00000170312|[chembl]|             false|               true|false|         true|  false|\n",
      "|   CHEMBL1907602| CHEMBL428690|Small molecule|                      3.0|     false|{6, [ENSG00000170...|{26, [EFO_0001378...|  CHEMBL3856462|         B|       null|         7.57|         IC50|            nM|          27.0|                =|   Homo sapiens|Cyclin-dependent ...|               7|  Direct protein co...|          null|[{P06493, Cyclin-...|PROTEIN COMPLEX|   P06493|      Kinase|             7.57|                7.57|   FALSE|      INHIBITOR|           CHEMBL308|      false|ENSG00000170312|[chembl]|             false|               true|false|         true|  false|\n",
      "|   CHEMBL1907602| CHEMBL428690|Small molecule|                      3.0|     false|{6, [ENSG00000170...|{26, [EFO_0001378...|  CHEMBL3856462|         B|       null|         7.57|         IC50|            nM|          27.0|                =|   Homo sapiens|Cyclin-dependent ...|               7|  Direct protein co...|          null|[{P06493, Cyclin-...|PROTEIN COMPLEX|   P06493|      Kinase|             7.57|                7.57|   FALSE|      INHIBITOR|           CHEMBL331|      false|ENSG00000170312|[chembl]|             false|               true|false|         true|  false|\n",
      "|       CHEMBL308|CHEMBL2103840|Small molecule|                      3.0|     false|{4, [ENSG00000170...|{9, [EFO_0006861,...|  CHEMBL3856515|         B|       null|         8.52|         IC50|            nM|           3.0|                =|   Homo sapiens|Cyclin-dependent ...|               9|  Direct single pro...|          null|[{P06493, Cyclin-...| SINGLE PROTEIN|   P06493|      Kinase|             8.52|                8.52|    TRUE|      INHIBITOR|          CHEMBL3116|       true|ENSG00000170312|[chembl]|             false|               true|false|         true|  false|\n",
      "|       CHEMBL308|CHEMBL2103840|Small molecule|                      3.0|     false|{4, [ENSG00000170...|{9, [EFO_0006861,...|  CHEMBL3856515|         B|       null|         8.52|         IC50|            nM|           3.0|                =|   Homo sapiens|Cyclin-dependent ...|               9|  Direct single pro...|          null|[{P06493, Cyclin-...| SINGLE PROTEIN|   P06493|      Kinase|             8.52|                8.52|    TRUE|      INHIBITOR|           CHEMBL308|       true|ENSG00000170312|[chembl]|             false|               true|false|         true|  false|\n",
      "|       CHEMBL308|CHEMBL2103840|Small molecule|                      3.0|     false|{4, [ENSG00000170...|{9, [EFO_0006861,...|  CHEMBL3856515|         B|       null|         8.52|         IC50|            nM|           3.0|                =|   Homo sapiens|Cyclin-dependent ...|               9|  Direct single pro...|          null|[{P06493, Cyclin-...| SINGLE PROTEIN|   P06493|      Kinase|             8.52|                8.52|    TRUE|      INHIBITOR|          CHEMBL4036|       true|ENSG00000170312|[chembl]|             false|               true|false|         true|  false|\n",
      "|       CHEMBL308|CHEMBL2103840|Small molecule|                      3.0|     false|{4, [ENSG00000170...|{9, [EFO_0006861,...|  CHEMBL3856515|         B|       null|         8.52|         IC50|            nM|           3.0|                =|   Homo sapiens|Cyclin-dependent ...|               9|  Direct single pro...|          null|[{P06493, Cyclin-...| SINGLE PROTEIN|   P06493|      Kinase|             8.52|                8.52|    TRUE|      INHIBITOR|           CHEMBL301|       true|ENSG00000170312|[chembl]|             false|               true|false|         true|  false|\n",
      "|       CHEMBL308|CHEMBL1944698|Small molecule|                      1.0|     false|{6, [ENSG00000136...|{5, [EFO_0000182,...|  CHEMBL3856510|         B|       null|         8.52|         IC50|            nM|           3.0|                =|   Homo sapiens|Cyclin-dependent ...|               9|  Direct single pro...|          null|[{P06493, Cyclin-...| SINGLE PROTEIN|   P06493|      Kinase|             8.52|                8.52|    TRUE|      INHIBITOR|          CHEMBL3116|       true|ENSG00000170312|[chembl]|             false|               true|false|         true|  false|\n",
      "|       CHEMBL308|CHEMBL1944698|Small molecule|                      1.0|     false|{6, [ENSG00000136...|{5, [EFO_0000182,...|  CHEMBL3856510|         B|       null|         8.52|         IC50|            nM|           3.0|                =|   Homo sapiens|Cyclin-dependent ...|               9|  Direct single pro...|          null|[{P06493, Cyclin-...| SINGLE PROTEIN|   P06493|      Kinase|             8.52|                8.52|    TRUE|      INHIBITOR|          CHEMBL2971|       true|ENSG00000170312|[chembl]|             false|               true|false|         true|  false|\n",
      "|       CHEMBL308|CHEMBL1944698|Small molecule|                      1.0|     false|{6, [ENSG00000136...|{5, [EFO_0000182,...|  CHEMBL3856510|         B|       null|         8.52|         IC50|            nM|           3.0|                =|   Homo sapiens|Cyclin-dependent ...|               9|  Direct single pro...|          null|[{P06493, Cyclin-...| SINGLE PROTEIN|   P06493|      Kinase|             8.52|                8.52|    TRUE|      INHIBITOR|          CHEMBL3055|       true|ENSG00000170312|[chembl]|             false|               true|false|         true|  false|\n",
      "|       CHEMBL308|CHEMBL1944698|Small molecule|                      1.0|     false|{6, [ENSG00000136...|{5, [EFO_0000182,...|  CHEMBL3856510|         B|       null|         8.52|         IC50|            nM|           3.0|                =|   Homo sapiens|Cyclin-dependent ...|               9|  Direct single pro...|          null|[{P06493, Cyclin-...| SINGLE PROTEIN|   P06493|      Kinase|             8.52|                8.52|    TRUE|      INHIBITOR|           CHEMBL301|       true|ENSG00000170312|[chembl]|             false|               true|false|         true|  false|\n",
      "|       CHEMBL308|CHEMBL1944698|Small molecule|                      1.0|     false|{6, [ENSG00000136...|{5, [EFO_0000182,...|  CHEMBL3856510|         B|       null|         8.52|         IC50|            nM|           3.0|                =|   Homo sapiens|Cyclin-dependent ...|               9|  Direct single pro...|          null|[{P06493, Cyclin-...| SINGLE PROTEIN|   P06493|      Kinase|             8.52|                8.52|    TRUE|      INHIBITOR|          CHEMBL1974|       true|ENSG00000170312|[chembl]|             false|               true|false|         true|  false|\n",
      "|       CHEMBL308|CHEMBL1944698|Small molecule|                      1.0|     false|{6, [ENSG00000136...|{5, [EFO_0000182,...|  CHEMBL3856510|         B|       null|         8.52|         IC50|            nM|           3.0|                =|   Homo sapiens|Cyclin-dependent ...|               9|  Direct single pro...|          null|[{P06493, Cyclin-...| SINGLE PROTEIN|   P06493|      Kinase|             8.52|                8.52|    TRUE|      INHIBITOR|           CHEMBL308|       true|ENSG00000170312|[chembl]|             false|               true|false|         true|  false|\n",
      "+----------------+-------------+--------------+-------------------------+----------+--------------------+--------------------+---------------+----------+-----------+-------------+-------------+--------------+--------------+-----------------+---------------+--------------------+----------------+----------------------+--------------+--------------------+---------------+---------+------------+-----------------+--------------------+--------+---------------+--------------------+-----------+---------------+--------+------------------+-------------------+-----+-------------+-------+\n",
      "only showing top 20 rows\n",
      "\n"
     ]
    },
    {
     "data": {
      "text/plain": [
       "9352"
      ]
     },
     "execution_count": 190,
     "metadata": {},
     "output_type": "execute_result"
    }
   ],
   "source": [
    "# Taking table target_organism_filter (after pchembl filter)\n",
    "\n",
    "target_evidence_bool.show()\n",
    "target_evidence_bool.count()"
   ]
  },
  {
   "cell_type": "code",
   "execution_count": null,
   "metadata": {},
   "outputs": [
    {
     "data": {
      "text/plain": [
       "2287"
      ]
     },
     "execution_count": 192,
     "metadata": {},
     "output_type": "execute_result"
    }
   ],
   "source": [
    "count_unique_values(target_evidence_bool, \"drugId\")"
   ]
  },
  {
   "cell_type": "code",
   "execution_count": null,
   "metadata": {},
   "outputs": [
    {
     "name": "stdout",
     "output_type": "stream",
     "text": [
      "+--------------------+-----+\n",
      "|     action_type_moa|count|\n",
      "+--------------------+-----+\n",
      "|  NEGATIVE MODULATOR|    1|\n",
      "|NEGATIVE ALLOSTER...|    4|\n",
      "|          ANTAGONIST|  166|\n",
      "|                null| 1442|\n",
      "|       BINDING AGENT|    1|\n",
      "|     PARTIAL AGONIST|    8|\n",
      "|           ACTIVATOR|    1|\n",
      "|             BLOCKER|   42|\n",
      "|    DISRUPTING AGENT|    4|\n",
      "|           INHIBITOR|  491|\n",
      "|           SUBSTRATE|    1|\n",
      "|POSITIVE ALLOSTER...|    8|\n",
      "|     CHELATING AGENT|    1|\n",
      "|  POSITIVE MODULATOR|    4|\n",
      "|             AGONIST|  117|\n",
      "|              OPENER|    5|\n",
      "|     INVERSE AGONIST|    4|\n",
      "|     RELEASING AGENT|    1|\n",
      "|           MODULATOR|    8|\n",
      "|      REDUCING AGENT|    1|\n",
      "+--------------------+-----+\n",
      "only showing top 20 rows\n",
      "\n"
     ]
    }
   ],
   "source": [
    "show_unique_values_and_counts(target_evidence_bool.drop_duplicates([\"drugId\", \"action_type_moa\"]), \"action_type_moa\")"
   ]
  },
  {
   "cell_type": "code",
   "execution_count": null,
   "metadata": {},
   "outputs": [
    {
     "name": "stdout",
     "output_type": "stream",
     "text": [
      "+--------------------+------+\n",
      "|         action_type| count|\n",
      "+--------------------+------+\n",
      "|                null|211437|\n",
      "|{INHIBITOR, Negat...|   124|\n",
      "|{SUBSTRATE, Carri...|    47|\n",
      "|{ANTAGONIST, Bind...|    41|\n",
      "|{INVERSE AGONIST,...|     2|\n",
      "|{AGONIST, Binds t...|     4|\n",
      "|{ACTIVATOR, Posit...|     1|\n",
      "+--------------------+------+\n",
      "\n"
     ]
    }
   ],
   "source": [
    "show_unique_values_and_counts(drug_to_moa, \"action_type\")"
   ]
  },
  {
   "cell_type": "markdown",
   "metadata": {},
   "source": [
    "### Drug-Target pairs"
   ]
  },
  {
   "cell_type": "code",
   "execution_count": null,
   "metadata": {},
   "outputs": [],
   "source": [
    "# With non pharmacological action\n"
   ]
  },
  {
   "cell_type": "markdown",
   "metadata": {},
   "source": []
  }
 ],
 "metadata": {
  "kernelspec": {
   "display_name": "base",
   "language": "python",
   "name": "python3"
  },
  "language_info": {
   "codemirror_mode": {
    "name": "ipython",
    "version": 3
   },
   "file_extension": ".py",
   "mimetype": "text/x-python",
   "name": "python",
   "nbconvert_exporter": "python",
   "pygments_lexer": "ipython3",
   "version": "3.1.0"
  },
  "orig_nbformat": 4
 },
 "nbformat": 4,
 "nbformat_minor": 2
}
