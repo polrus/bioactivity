{
 "cells": [
  {
   "cell_type": "code",
   "execution_count": 1,
   "metadata": {},
   "outputs": [],
   "source": [
    "from pyspark.sql import SparkSession\n",
    "from pyspark.sql.functions import concat_ws\n",
    "from pyspark.sql import functions as F"
   ]
  },
  {
   "cell_type": "code",
   "execution_count": 2,
   "metadata": {},
   "outputs": [
    {
     "name": "stderr",
     "output_type": "stream",
     "text": [
      "Setting default log level to \"WARN\".\n",
      "To adjust logging level use sc.setLogLevel(newLevel). For SparkR, use setLogLevel(newLevel).\n",
      "23/09/29 10:49:33 WARN NativeCodeLoader: Unable to load native-hadoop library for your platform... using builtin-java classes where applicable\n"
     ]
    }
   ],
   "source": [
    "# spark = SparkSession.builder.appName(\"drug-to_target_biodata\").getOrCreate()\n",
    "spark = SparkSession.builder \\\n",
    "    .appName(\"drug-to_target_biodata_3\") \\\n",
    "    .config(\"spark.jars\", \"https://storage.googleapis.com/hadoop-lib/gcs/gcs-connector-hadoop3-latest.jar\") \\\n",
    "    .getOrCreate()"
   ]
  },
  {
   "cell_type": "markdown",
   "metadata": {},
   "source": [
    "## Biodata from ChEMBL"
   ]
  },
  {
   "cell_type": "code",
   "execution_count": 5,
   "metadata": {},
   "outputs": [
    {
     "name": "stdout",
     "output_type": "stream",
     "text": [
      "+------------+--------+------+---------+--------------------+----------------+------------------+--------------+\n",
      "|   chembl_id|molregno|   tid|accession|           pref_name|target_chembl_id|min_standard_value|standard_units|\n",
      "+------------+--------+------+---------+--------------------+----------------+------------------+--------------+\n",
      "|  CHEMBL1000|  111185|104067|   Q96FL8|Multidrug and tox...|   CHEMBL1743126|               2.0|             %|\n",
      "|  CHEMBL1000|  111185| 17045|   P08684| Cytochrome P450 3A4|       CHEMBL340|              13.0|             %|\n",
      "|  CHEMBL1000|  111185|   165|   Q12809|                HERG|       CHEMBL240|          30199.52|            nM|\n",
      "|  CHEMBL1000|  111185|103947|   Q9Y6L6|Solute carrier or...|   CHEMBL1697668|              35.7|             %|\n",
      "|  CHEMBL1000|  111185|   127|   P35367|Histamine H1 rece...|       CHEMBL231|              5.89|            nM|\n",
      "|  CHEMBL1000|  111185| 12675|   P02763|Alpha-1-acid glyc...|      CHEMBL4285|              5.12|           M/M|\n",
      "|  CHEMBL1000|  111185| 10697|   P02768|       Serum albumin|      CHEMBL3253|              5.42|           M/M|\n",
      "|  CHEMBL1000|  111185| 12913|   Q02763|Tyrosine-protein ...|      CHEMBL4128|           90000.0|            nM|\n",
      "|  CHEMBL1000|  111185|104065|   O94956|Solute carrier or...|   CHEMBL1743124|              29.9|             %|\n",
      "|  CHEMBL1000|  111185|104062|   Q9NPD5|Solute carrier or...|   CHEMBL1743121|              40.3|             %|\n",
      "|  CHEMBL1000|  111185|101283|   O15245|Solute carrier fa...|      CHEMBL5685|              -4.8|             %|\n",
      "|  CHEMBL1002|  111482|    43|   P07550|Beta-2 adrenergic...|       CHEMBL210|              75.0|             %|\n",
      "|  CHEMBL1002|  111482|    43|   P07550|Beta-2 adrenergic...|       CHEMBL210|            144.54|            nM|\n",
      "|CHEMBL100231|  164265|    19|   P03372|Estrogen receptor...|       CHEMBL206|               5.2|            nM|\n",
      "|CHEMBL100231|  164265|   174|   Q92731|Estrogen receptor...|       CHEMBL242|            3687.0|            nM|\n",
      "|CHEMBL100259|  161181|102431|   Q9HA47|Uridine-cytidine ...|      CHEMBL5682|              0.51|            /s|\n",
      "|CHEMBL100259|  161181|102431|   Q9HA47|Uridine-cytidine ...|      CHEMBL5682|            0.0013|         /uM/s|\n",
      "|CHEMBL100259|  161181|101412|   O75762|Transient recepto...|      CHEMBL6007|              11.0|             %|\n",
      "|CHEMBL100259|  161181|102431|   Q9HA47|Uridine-cytidine ...|      CHEMBL5682|          407000.0|            nM|\n",
      "|CHEMBL100259|  161181|101328|   O43868|Sodium/nucleoside...|      CHEMBL5780|           31000.0|            nM|\n",
      "+------------+--------+------+---------+--------------------+----------------+------------------+--------------+\n",
      "only showing top 20 rows\n",
      "\n",
      "Number of rows: 64695\n",
      "Number of unique drug-target pairs: 53991\n"
     ]
    }
   ],
   "source": [
    "# Testset with only min_standard_value\n",
    "biodata_in = \"./data/drug2target_bioactivities_chembl_33_grouped.csv\"\n",
    "\n",
    "biodata = spark.read.csv(biodata_in, header=True, inferSchema=True)\n",
    "biodata = biodata.drop('_c0')\n",
    "num_rows_biodata = biodata.count()\n",
    "biodata.show()\n",
    "print(\"Number of rows:\", num_rows_biodata)\n",
    "\n",
    "biodata_uni = (biodata.groupBy(\"chembl_id\", \"accession\")\n",
    "          .agg(F.count(\"*\").alias(\"count_of_combinations\")))\n",
    "num_uni_rows_biodata = biodata_uni.count()\n",
    "print(\"Number of unique drug-target pairs:\", num_uni_rows_biodata)"
   ]
  },
  {
   "cell_type": "code",
   "execution_count": 37,
   "metadata": {},
   "outputs": [
    {
     "name": "stdout",
     "output_type": "stream",
     "text": [
      "Number of unique targets with biodata: 2372\n"
     ]
    }
   ],
   "source": [
    "biodata_uni_t = biodata.dropDuplicates([\"target_chembl_id\"])\n",
    "num_uni_t_biodata = biodata_uni_t.count()\n",
    "print(\"Number of unique targets with biodata:\", num_uni_t_biodata)"
   ]
  },
  {
   "cell_type": "markdown",
   "metadata": {},
   "source": [
    "## Target-Drug pairs from OpenTargets (GE, CT, probes)"
   ]
  },
  {
   "cell_type": "code",
   "execution_count": 27,
   "metadata": {},
   "outputs": [
    {
     "name": "stdout",
     "output_type": "stream",
     "text": [
      "+----------+---------+---------------+--------------------+------------------+-------------------+\n",
      "|    drugId|uniprotId|       targetId|             sources|isHighQualityProbe|isTherapeuticTarget|\n",
      "+----------+---------+---------------+--------------------+------------------+-------------------+\n",
      "|CHEMBL1000|   O00167|ENSG00000064655|[ot_genetics_portal]|             false|              false|\n",
      "|CHEMBL1000|   O00555|ENSG00000141837|[uniprot_literatu...|             false|              false|\n",
      "|CHEMBL1000|   O14633|ENSG00000159455|[ot_genetics_portal]|             false|              false|\n",
      "|CHEMBL1000|   O60706|ENSG00000069431|            [chembl]|             false|               true|\n",
      "|CHEMBL1000|   P00352|ENSG00000165092|[ot_genetics_portal]|             false|              false|\n",
      "|CHEMBL1000|   P01567|ENSG00000214042|            [chembl]|             false|               true|\n",
      "|CHEMBL1000|   P04155|ENSG00000160182|[ot_genetics_portal]|             false|              false|\n",
      "|CHEMBL1000|   P20036|ENSG00000231389|[ot_genetics_portal]|             false|              false|\n",
      "|CHEMBL1000|   P35908|ENSG00000172867|              [impc]|             false|              false|\n",
      "|CHEMBL1000|   P49840|ENSG00000105723|            [chembl]|             false|               true|\n",
      "|CHEMBL1000|   P51617|ENSG00000184216|              [impc]|             false|              false|\n",
      "|CHEMBL1000|   P56270|ENSG00000103495|[ot_genetics_portal]|             false|              false|\n",
      "|CHEMBL1000|   P58511|ENSG00000205670|[ot_genetics_portal]|             false|              false|\n",
      "|CHEMBL1000|   Q03431|ENSG00000160801|            [chembl]|             false|               true|\n",
      "|CHEMBL1000|   Q06124|ENSG00000179295|[ot_genetics_portal]|             false|              false|\n",
      "|CHEMBL1000|   Q16552|ENSG00000112115|      [impc, chembl]|             false|               true|\n",
      "|CHEMBL1000|   Q7Z2W4|ENSG00000105939|[ot_genetics_portal]|             false|              false|\n",
      "|CHEMBL1000|   Q86SJ6|ENSG00000175065|              [impc]|             false|              false|\n",
      "|CHEMBL1000|   Q8N1K5|ENSG00000172673|[ot_genetics_portal]|             false|              false|\n",
      "|CHEMBL1000|   Q8N8W4|ENSG00000180316|              [impc]|             false|              false|\n",
      "+----------+---------+---------------+--------------------+------------------+-------------------+\n",
      "only showing top 20 rows\n",
      "\n",
      "Number of rows: 28921105\n"
     ]
    }
   ],
   "source": [
    "# gcloud storage rsync gs://ot-team/irene/drug_to_target data/drug_to_target\n",
    "\n",
    "drug2target_parquet_dir = \"./data/drug_to_target\"\n",
    "drug2target_parquet = spark.read.parquet(drug2target_parquet_dir)\n",
    "\n",
    "drug2target_parquet.show()\n",
    "\n",
    "num_rows_drug2target = drug2target_parquet.count()\n",
    "print(\"Number of rows:\", num_rows_drug2target)"
   ]
  },
  {
   "cell_type": "code",
   "execution_count": 35,
   "metadata": {},
   "outputs": [
    {
     "name": "stderr",
     "output_type": "stream",
     "text": [
      "                                                                                \r"
     ]
    },
    {
     "name": "stdout",
     "output_type": "stream",
     "text": [
      "+-------------+---------+---------------+--------------------+------------------+-------------------+\n",
      "|       drugId|uniprotId|       targetId|             sources|isHighQualityProbe|isTherapeuticTarget|\n",
      "+-------------+---------+---------------+--------------------+------------------+-------------------+\n",
      "|    CHEMBL423|   Q9NSG2|ENSG00000000460|[ot_genetics_portal]|             false|              false|\n",
      "|CHEMBL1187417|   Q9Y6X5|ENSG00000001561|              [impc]|             false|              false|\n",
      "|   CHEMBL6995|   Q9Y6D9|ENSG00000002822|[impc, ot_genetic...|             false|              false|\n",
      "| CHEMBL193240|   Q9Y216|ENSG00000003987|[ot_genetics_portal]|             false|              false|\n",
      "|CHEMBL1088752|   P52569|ENSG00000003989|              [impc]|             false|              false|\n",
      "|CHEMBL2103959|   Q9Y2S7|ENSG00000004142|[impc, ot_genetic...|             false|              false|\n",
      "|  CHEMBL77622|   Q96JG6|ENSG00000004766|[ot_genetics_portal]|             false|              false|\n",
      "|CHEMBL1743016|   P30988|ENSG00000004948|      [impc, chembl]|             false|               true|\n",
      "|     CHEMBL86|   O14641|ENSG00000004975|              [impc]|             false|              false|\n",
      "|    CHEMBL796|   P31270|ENSG00000005073|[cancer_gene_census]|             false|              false|\n",
      "|CHEMBL3989959|   Q9UPZ6|ENSG00000005108|[ot_genetics_portal]|             false|              false|\n",
      "|CHEMBL2108738|   Q9H6T3|ENSG00000005175|              [impc]|             false|              false|\n",
      "|  CHEMBL11359|   Q53FZ2|ENSG00000005187|           [intogen]|             false|              false|\n",
      "|CHEMBL4297948|   Q9P299|ENSG00000005243|[ot_genetics_portal]|             false|              false|\n",
      "|   CHEMBL1353|   P26006|ENSG00000005884|[uniprot_literatu...|             false|              false|\n",
      "|CHEMBL1201719|   Q96EN9|ENSG00000006015|              [impc]|             false|              false|\n",
      "|CHEMBL2110641|   Q9Y2T7|ENSG00000006047|[ot_genetics_portal]|             false|              false|\n",
      "|   CHEMBL1480|   Q09428|ENSG00000006071|[uniprot_literatu...|             false|               true|\n",
      "|    CHEMBL753|   O60359|ENSG00000006116|            [chembl]|             false|               true|\n",
      "|CHEMBL2103842|   P20366|ENSG00000006128|              [impc]|             false|              false|\n",
      "+-------------+---------+---------------+--------------------+------------------+-------------------+\n",
      "only showing top 20 rows\n",
      "\n",
      "Number of unique targets with GE+: 16347\n"
     ]
    }
   ],
   "source": [
    "# Remove rows that have duplicate drugId, targetId combinations\n",
    "drug2target_uni = drug2target_parquet.dropDuplicates([\"targetId\"])\n",
    "drug2target_uni.show()\n",
    "\n",
    "num_rows_uni_drug2target = drug2target_uni.count()\n",
    "print(\"Number of unique targets with GE+:\", num_rows_uni_drug2target)"
   ]
  },
  {
   "cell_type": "markdown",
   "metadata": {},
   "source": [
    "### Biodata and evidence data intersection"
   ]
  },
  {
   "cell_type": "code",
   "execution_count": 25,
   "metadata": {},
   "outputs": [
    {
     "name": "stdout",
     "output_type": "stream",
     "text": [
      "+-------------+--------+------+---------+--------------------+----------------+------------------+--------------+-------------+---------+--------------------+------------------+-------------------+\n",
      "|    chembl_id|molregno|   tid|accession|           pref_name|target_chembl_id|min_standard_value|standard_units|       drugId|uniprotId|             sources|isHighQualityProbe|isTherapeuticTarget|\n",
      "+-------------+--------+------+---------+--------------------+----------------+------------------+--------------+-------------+---------+--------------------+------------------+-------------------+\n",
      "| CHEMBL103667|  167995| 11636|   P05771|Protein kinase C ...|      CHEMBL3045|            6900.0|            nM| CHEMBL103667|   P05771|[ot_genetics_port...|             false|               true|\n",
      "|    CHEMBL104|   13494|   130|   P35462|Dopamine D3 receptor|       CHEMBL234|             899.0|            nM|    CHEMBL104|   P35462|[ot_genetics_port...|             false|               true|\n",
      "|    CHEMBL114|   17169|104801|   O60840|Voltage-gated L-t...|   CHEMBL2095229|            1900.0|            nM|    CHEMBL114|   O60840|            [chembl]|             false|               true|\n",
      "|    CHEMBL114|   17169|   134|   P37288|Vasopressin V1a r...|      CHEMBL1889|            7030.0|            nM|    CHEMBL114|   P37288|            [chembl]|             false|               true|\n",
      "| CHEMBL116438|  190171|104681|   Q969S8| Histone deacetylase|   CHEMBL2093865|             539.0|            nM| CHEMBL116438|   Q969S8|[ot_genetics_port...|             false|               true|\n",
      "| CHEMBL116438|  190171|104681|   Q969S8| Histone deacetylase|   CHEMBL2093865|              52.0|             %| CHEMBL116438|   Q969S8|[ot_genetics_port...|             false|               true|\n",
      "| CHEMBL116438|  190171| 30043|   Q9P1W9|Serine/threonine-...|      CHEMBL4523|               2.9|     degrees C| CHEMBL116438|   Q9P1W9|            [chembl]|             false|               true|\n",
      "|CHEMBL1201012|  674963|104062|   Q9NPD5|Solute carrier or...|   CHEMBL1743121|             99.16|             %|CHEMBL1201012|   Q9NPD5|              [impc]|             false|              false|\n",
      "|CHEMBL1201286|  675237|101283|   O15245|Solute carrier fa...|      CHEMBL5685|             640.0|       pmol/mg|CHEMBL1201286|   O15245|              [impc]|             false|              false|\n",
      "|CHEMBL1230165|  692515| 12670|   P36888|Tyrosine-protein ...|      CHEMBL1974|              35.0|            nM|CHEMBL1230165|   P36888|[chembl, eva_soma...|             false|               true|\n",
      "|    CHEMBL126|   26280|    96|   P23219|    Cyclooxygenase-1|       CHEMBL221|            8190.0|            nM|    CHEMBL126|   P23219|      [impc, chembl]|             false|               true|\n",
      "|   CHEMBL1261|  240769|105661|   Q9C0B1|Alpha-ketoglutara...|   CHEMBL2331065|          300000.0|            nM|   CHEMBL1261|   Q9C0B1|[ot_genetics_portal]|             false|              false|\n",
      "|  CHEMBL12856|   11066|104707|   Q13370| Phosphodiesterase 3|   CHEMBL2094125|           16000.0|            nM|  CHEMBL12856|   Q13370|      [impc, chembl]|             false|               true|\n",
      "|  CHEMBL12856|   11066|104738|   Q13370|Phosphodiesterase...|   CHEMBL2095153|            4800.0|            nM|  CHEMBL12856|   Q13370|      [impc, chembl]|             false|               true|\n",
      "|CHEMBL1287853|  714243|100853|   Q9H422|Homeodomain-inter...|      CHEMBL4577|            1300.0|            nM|CHEMBL1287853|   Q9H422|              [impc]|             false|              false|\n",
      "|CHEMBL1289494|  715901| 12214|   P43403|Tyrosine-protein ...|      CHEMBL2803|             107.0|             %|CHEMBL1289494|   P43403|[impc, ot_genetic...|             false|              false|\n",
      "|CHEMBL1289494|  715901| 12261|   P45983|c-Jun N-terminal ...|      CHEMBL2276|             109.0|             %|CHEMBL1289494|   P45983|      [impc, chembl]|             false|               true|\n",
      "|   CHEMBL1336|  276734| 20020|   O14976|Serine/threonine-...|      CHEMBL4355|              90.0|             %|   CHEMBL1336|   O14976|[ot_genetics_portal]|             false|              false|\n",
      "|   CHEMBL1358|  304798|    36|   P06401|Progesterone rece...|       CHEMBL208|            0.2089|            nM|   CHEMBL1358|   P06401|      [impc, chembl]|             false|               true|\n",
      "|   CHEMBL1358|  304798|    36|   P06401|Progesterone rece...|       CHEMBL208|              48.0|             %|   CHEMBL1358|   P06401|      [impc, chembl]|             false|               true|\n",
      "+-------------+--------+------+---------+--------------------+----------------+------------------+--------------+-------------+---------+--------------------+------------------+-------------------+\n",
      "only showing top 20 rows\n",
      "\n"
     ]
    },
    {
     "name": "stderr",
     "output_type": "stream",
     "text": [
      "[Stage 197:>                                                        (0 + 8) / 8]\r"
     ]
    },
    {
     "name": "stdout",
     "output_type": "stream",
     "text": [
      "Number of unique drug-target pairs with GE+ and bidata: 24880\n",
      "Number of unique drug-target pairs with bidata: 53991\n",
      "For 46 % of drug-target pairs with with bidata we have GE+\n"
     ]
    },
    {
     "name": "stderr",
     "output_type": "stream",
     "text": [
      "                                                                                \r"
     ]
    }
   ],
   "source": [
    "columns_to_join = drug2target_parquet.select('drugId', 'uniprotId', 'sources', 'isHighQualityProbe', 'isTherapeuticTarget')\n",
    "\n",
    "biodata_join = biodata.join(columns_to_join, \n",
    "                            (biodata.chembl_id == columns_to_join.drugId) & \n",
    "                            (biodata.accession == columns_to_join.uniprotId), \n",
    "                            how=\"inner\")\n",
    "\n",
    "biodata_join.show()\n",
    "\n",
    "biodata_join_uni = (biodata_join.groupBy(\"chembl_id\", \"accession\")\n",
    "          .agg(F.count(\"*\").alias(\"count_of_combinations\")))\n",
    "\n",
    "num_uni_rows_biodata_join = biodata_join_uni.count()\n",
    "\n",
    "print(\"Number of unique drug-target pairs with GE+ and bidata:\", num_uni_rows_biodata_join)\n",
    "\n",
    "print(\"Number of unique drug-target pairs with bidata:\", num_uni_rows_biodata)\n",
    "\n",
    "print(\"For\", round(num_uni_rows_biodata_join/num_uni_rows_biodata*100), \"% of drug-target pairs with with bidata we have GE+\")"
   ]
  },
  {
   "cell_type": "markdown",
   "metadata": {},
   "source": [
    "### For how many drugs from GE+ supported list of D-T pairs we have biodata?"
   ]
  },
  {
   "cell_type": "code",
   "execution_count": 39,
   "metadata": {},
   "outputs": [
    {
     "name": "stdout",
     "output_type": "stream",
     "text": [
      "Number of unique drugs from GE+ list: 12835\n"
     ]
    },
    {
     "name": "stderr",
     "output_type": "stream",
     "text": [
      "[Stage 278:>                                                        (0 + 8) / 8]\r"
     ]
    },
    {
     "name": "stdout",
     "output_type": "stream",
     "text": [
      "Number of unique drugs from biodata list: 6652\n",
      "For 52 % of drugs from GE+ list we have biodata\n"
     ]
    },
    {
     "name": "stderr",
     "output_type": "stream",
     "text": [
      "                                                                                \r"
     ]
    }
   ],
   "source": [
    "drugs_uni = \"./data/drug_to_target_unique_drugs.csv\"\n",
    "\n",
    "drugs_uni = spark.read.csv(drugs_uni, header=True, inferSchema=True)\n",
    "num_rows_drugs_uni = drugs_uni.count()\n",
    "print(\"Number of unique drugs from GE+ list:\", num_rows_drugs_uni)\n",
    "\n",
    "biodata_drugs_uni = (biodata_join.groupBy(\"chembl_id\")\n",
    "          .agg(F.count(\"*\").alias(\"count_of_combinations\")))\n",
    "num_rows_drugs_uni_biodata = biodata_drugs_uni.count()\n",
    "print(\"Number of unique drugs from biodata list:\", num_rows_drugs_uni_biodata)\n",
    "\n",
    "print(\"For\", round(num_rows_drugs_uni_biodata/num_rows_drugs_uni*100), \"% of drugs from GE+ list we have biodata\")"
   ]
  },
  {
   "cell_type": "markdown",
   "metadata": {},
   "source": [
    "### How many targets with GE+ and bioactivity data are not therapeutic targets (not in MoA)?"
   ]
  },
  {
   "cell_type": "code",
   "execution_count": 41,
   "metadata": {},
   "outputs": [
    {
     "name": "stderr",
     "output_type": "stream",
     "text": [
      "                                                                                \r"
     ]
    },
    {
     "name": "stdout",
     "output_type": "stream",
     "text": [
      "Number of unique targets with GE+ & biodata: 1839\n"
     ]
    },
    {
     "name": "stderr",
     "output_type": "stream",
     "text": [
      "[Stage 306:>                                                        (0 + 8) / 8]\r"
     ]
    },
    {
     "name": "stdout",
     "output_type": "stream",
     "text": [
      "Number of unique targets with GE+ & biodata & not therapeutic targets: 1422\n",
      "77 % of targets with GE+ & biodata are not therapeutic\n"
     ]
    },
    {
     "name": "stderr",
     "output_type": "stream",
     "text": [
      "                                                                                \r"
     ]
    }
   ],
   "source": [
    "biodata_join_terapy = biodata_join.filter(biodata_join.isTherapeuticTarget == False)\n",
    "\n",
    "biodata_join_targets_uni = (biodata_join.groupBy(\"target_chembl_id\")\n",
    "          .agg(F.count(\"*\").alias(\"count_of_combinations\")))\n",
    "num_biodata_join_targets_uni = biodata_join_targets_uni.count()\n",
    "\n",
    "print(\"Number of unique targets with GE+ & biodata:\", num_biodata_join_targets_uni)\n",
    "\n",
    "biodata_join_terapy_uni = (biodata_join_terapy.groupBy(\"target_chembl_id\")\n",
    "          .agg(F.count(\"*\").alias(\"count_of_combinations\")))\n",
    "num_biodata_join_terapy_uni = biodata_join_terapy_uni.count()\n",
    "\n",
    "print(\"Number of unique targets with GE+ & biodata & not therapeutic targets:\", num_biodata_join_terapy_uni)\n",
    "\n",
    "print(round(num_biodata_join_terapy_uni/num_biodata_join_targets_uni*100), \"% of targets with GE+ & biodata are not therapeutic\")"
   ]
  },
  {
   "cell_type": "markdown",
   "metadata": {},
   "source": []
  },
  {
   "cell_type": "markdown",
   "metadata": {},
   "source": []
  },
  {
   "cell_type": "code",
   "execution_count": null,
   "metadata": {},
   "outputs": [],
   "source": []
  },
  {
   "cell_type": "code",
   "execution_count": null,
   "metadata": {},
   "outputs": [],
   "source": []
  },
  {
   "cell_type": "code",
   "execution_count": null,
   "metadata": {},
   "outputs": [],
   "source": []
  },
  {
   "cell_type": "code",
   "execution_count": null,
   "metadata": {},
   "outputs": [],
   "source": []
  },
  {
   "cell_type": "code",
   "execution_count": null,
   "metadata": {},
   "outputs": [],
   "source": []
  },
  {
   "cell_type": "code",
   "execution_count": null,
   "metadata": {},
   "outputs": [],
   "source": []
  }
 ],
 "metadata": {
  "kernelspec": {
   "display_name": "Python 3",
   "language": "python",
   "name": "python3"
  },
  "language_info": {
   "codemirror_mode": {
    "name": "ipython",
    "version": 3
   },
   "file_extension": ".py",
   "mimetype": "text/x-python",
   "name": "python",
   "nbconvert_exporter": "python",
   "pygments_lexer": "ipython3",
   "version": "3.9.6"
  },
  "orig_nbformat": 4
 },
 "nbformat": 4,
 "nbformat_minor": 2
}
