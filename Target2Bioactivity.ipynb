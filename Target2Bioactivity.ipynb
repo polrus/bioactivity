{
 "cells": [
  {
   "cell_type": "code",
   "execution_count": 1,
   "metadata": {},
   "outputs": [],
   "source": [
    "from pyspark.sql import SparkSession\n",
    "from pyspark.sql.functions import concat_ws\n",
    "from pyspark.sql import functions as F"
   ]
  },
  {
   "cell_type": "code",
   "execution_count": 2,
   "metadata": {},
   "outputs": [
    {
     "name": "stderr",
     "output_type": "stream",
     "text": [
      "Setting default log level to \"WARN\".\n",
      "To adjust logging level use sc.setLogLevel(newLevel). For SparkR, use setLogLevel(newLevel).\n",
      "23/10/02 18:19:25 WARN NativeCodeLoader: Unable to load native-hadoop library for your platform... using builtin-java classes where applicable\n"
     ]
    }
   ],
   "source": [
    "# spark = SparkSession.builder.appName(\"drug-to_target_biodata\").getOrCreate()\n",
    "spark = SparkSession.builder \\\n",
    "    .appName(\"drug-to_target_biodata_3\") \\\n",
    "    .config(\"spark.jars\", \"https://storage.googleapis.com/hadoop-lib/gcs/gcs-connector-hadoop3-latest.jar\") \\\n",
    "    .getOrCreate()"
   ]
  },
  {
   "cell_type": "markdown",
   "metadata": {},
   "source": [
    "## Biodata from ChEMBL"
   ]
  },
  {
   "cell_type": "code",
   "execution_count": 3,
   "metadata": {},
   "outputs": [
    {
     "name": "stdout",
     "output_type": "stream",
     "text": [
      "+------------+--------+------+---------+--------------------+----------------+------------------+--------------+\n",
      "|   chembl_id|molregno|   tid|accession|           pref_name|target_chembl_id|min_standard_value|standard_units|\n",
      "+------------+--------+------+---------+--------------------+----------------+------------------+--------------+\n",
      "|  CHEMBL1000|  111185|104067|   Q96FL8|Multidrug and tox...|   CHEMBL1743126|               2.0|             %|\n",
      "|  CHEMBL1000|  111185| 17045|   P08684| Cytochrome P450 3A4|       CHEMBL340|              13.0|             %|\n",
      "|  CHEMBL1000|  111185|   165|   Q12809|                HERG|       CHEMBL240|          30199.52|            nM|\n",
      "|  CHEMBL1000|  111185|103947|   Q9Y6L6|Solute carrier or...|   CHEMBL1697668|              35.7|             %|\n",
      "|  CHEMBL1000|  111185|   127|   P35367|Histamine H1 rece...|       CHEMBL231|              5.89|            nM|\n",
      "|  CHEMBL1000|  111185| 12675|   P02763|Alpha-1-acid glyc...|      CHEMBL4285|              5.12|           M/M|\n",
      "|  CHEMBL1000|  111185| 10697|   P02768|       Serum albumin|      CHEMBL3253|              5.42|           M/M|\n",
      "|  CHEMBL1000|  111185| 12913|   Q02763|Tyrosine-protein ...|      CHEMBL4128|           90000.0|            nM|\n",
      "|  CHEMBL1000|  111185|104065|   O94956|Solute carrier or...|   CHEMBL1743124|              29.9|             %|\n",
      "|  CHEMBL1000|  111185|104062|   Q9NPD5|Solute carrier or...|   CHEMBL1743121|              40.3|             %|\n",
      "|  CHEMBL1000|  111185|101283|   O15245|Solute carrier fa...|      CHEMBL5685|              -4.8|             %|\n",
      "|  CHEMBL1002|  111482|    43|   P07550|Beta-2 adrenergic...|       CHEMBL210|              75.0|             %|\n",
      "|  CHEMBL1002|  111482|    43|   P07550|Beta-2 adrenergic...|       CHEMBL210|            144.54|            nM|\n",
      "|CHEMBL100231|  164265|    19|   P03372|Estrogen receptor...|       CHEMBL206|               5.2|            nM|\n",
      "|CHEMBL100231|  164265|   174|   Q92731|Estrogen receptor...|       CHEMBL242|            3687.0|            nM|\n",
      "|CHEMBL100259|  161181|102431|   Q9HA47|Uridine-cytidine ...|      CHEMBL5682|              0.51|            /s|\n",
      "|CHEMBL100259|  161181|102431|   Q9HA47|Uridine-cytidine ...|      CHEMBL5682|            0.0013|         /uM/s|\n",
      "|CHEMBL100259|  161181|101412|   O75762|Transient recepto...|      CHEMBL6007|              11.0|             %|\n",
      "|CHEMBL100259|  161181|102431|   Q9HA47|Uridine-cytidine ...|      CHEMBL5682|          407000.0|            nM|\n",
      "|CHEMBL100259|  161181|101328|   O43868|Sodium/nucleoside...|      CHEMBL5780|           31000.0|            nM|\n",
      "+------------+--------+------+---------+--------------------+----------------+------------------+--------------+\n",
      "only showing top 20 rows\n",
      "\n",
      "Number of rows: 64695\n",
      "Number of unique drug-target pairs: 53991\n"
     ]
    }
   ],
   "source": [
    "# Testset with only min_standard_value\n",
    "biodata_in = \"./data/drug2target_bioactivities_chembl_33_grouped.csv\"\n",
    "\n",
    "biodata = spark.read.csv(biodata_in, header=True, inferSchema=True)\n",
    "biodata = biodata.drop('_c0')\n",
    "num_rows_biodata = biodata.count()\n",
    "biodata.show()\n",
    "print(\"Number of rows:\", num_rows_biodata)\n",
    "\n",
    "biodata_uni = (biodata.groupBy(\"chembl_id\", \"accession\")\n",
    "          .agg(F.count(\"*\").alias(\"count_of_combinations\")))\n",
    "num_uni_rows_biodata = biodata_uni.count()\n",
    "print(\"Number of unique drug-target pairs:\", num_uni_rows_biodata)"
   ]
  },
  {
   "cell_type": "code",
   "execution_count": 4,
   "metadata": {},
   "outputs": [
    {
     "name": "stdout",
     "output_type": "stream",
     "text": [
      "Number of unique targets with biodata: 2372\n"
     ]
    }
   ],
   "source": [
    "biodata_uni_t = biodata.dropDuplicates([\"target_chembl_id\"])\n",
    "num_uni_t_biodata = biodata_uni_t.count()\n",
    "print(\"Number of unique targets with biodata:\", num_uni_t_biodata)"
   ]
  },
  {
   "cell_type": "markdown",
   "metadata": {},
   "source": [
    "## Target-Drug pairs from OpenTargets (GE, CT, probes)"
   ]
  },
  {
   "cell_type": "code",
   "execution_count": 6,
   "metadata": {},
   "outputs": [
    {
     "name": "stdout",
     "output_type": "stream",
     "text": [
      "+----------+---------+---------------+--------------------+------------------+-------------------+\n",
      "|    drugId|uniprotId|       targetId|             sources|isHighQualityProbe|isTherapeuticTarget|\n",
      "+----------+---------+---------------+--------------------+------------------+-------------------+\n",
      "|CHEMBL1000|   O00167|ENSG00000064655|[ot_genetics_portal]|             false|              false|\n",
      "|CHEMBL1000|   O00555|ENSG00000141837|[uniprot_literatu...|             false|              false|\n",
      "|CHEMBL1000|   O14633|ENSG00000159455|[ot_genetics_portal]|             false|              false|\n",
      "|CHEMBL1000|   O60706|ENSG00000069431|            [chembl]|             false|               true|\n",
      "|CHEMBL1000|   P00352|ENSG00000165092|[ot_genetics_portal]|             false|              false|\n",
      "|CHEMBL1000|   P01567|ENSG00000214042|            [chembl]|             false|               true|\n",
      "|CHEMBL1000|   P04155|ENSG00000160182|[ot_genetics_portal]|             false|              false|\n",
      "|CHEMBL1000|   P20036|ENSG00000231389|[ot_genetics_portal]|             false|              false|\n",
      "|CHEMBL1000|   P35908|ENSG00000172867|              [impc]|             false|              false|\n",
      "|CHEMBL1000|   P49840|ENSG00000105723|            [chembl]|             false|               true|\n",
      "|CHEMBL1000|   P51617|ENSG00000184216|              [impc]|             false|              false|\n",
      "|CHEMBL1000|   P56270|ENSG00000103495|[ot_genetics_portal]|             false|              false|\n",
      "|CHEMBL1000|   P58511|ENSG00000205670|[ot_genetics_portal]|             false|              false|\n",
      "|CHEMBL1000|   Q03431|ENSG00000160801|            [chembl]|             false|               true|\n",
      "|CHEMBL1000|   Q06124|ENSG00000179295|[ot_genetics_portal]|             false|              false|\n",
      "|CHEMBL1000|   Q16552|ENSG00000112115|      [impc, chembl]|             false|               true|\n",
      "|CHEMBL1000|   Q7Z2W4|ENSG00000105939|[ot_genetics_portal]|             false|              false|\n",
      "|CHEMBL1000|   Q86SJ6|ENSG00000175065|              [impc]|             false|              false|\n",
      "|CHEMBL1000|   Q8N1K5|ENSG00000172673|[ot_genetics_portal]|             false|              false|\n",
      "|CHEMBL1000|   Q8N8W4|ENSG00000180316|              [impc]|             false|              false|\n",
      "+----------+---------+---------------+--------------------+------------------+-------------------+\n",
      "only showing top 20 rows\n",
      "\n",
      "Number of rows: 28921105\n"
     ]
    }
   ],
   "source": [
    "# gcloud storage rsync gs://ot-team/irene/drug_to_target data/drug_to_target\n",
    "\n",
    "drug2target_parquet_dir = \"./data/drug_to_target\"\n",
    "drug2target_parquet = spark.read.parquet(drug2target_parquet_dir)\n",
    "\n",
    "drug2target_parquet.show()\n",
    "\n",
    "num_rows_drug2target = drug2target_parquet.count()\n",
    "print(\"Number of rows:\", num_rows_drug2target)"
   ]
  },
  {
   "cell_type": "code",
   "execution_count": 7,
   "metadata": {},
   "outputs": [
    {
     "name": "stderr",
     "output_type": "stream",
     "text": [
      "                                                                                \r"
     ]
    },
    {
     "name": "stdout",
     "output_type": "stream",
     "text": [
      "+-------------+---------+---------------+--------------------+------------------+-------------------+\n",
      "|       drugId|uniprotId|       targetId|             sources|isHighQualityProbe|isTherapeuticTarget|\n",
      "+-------------+---------+---------------+--------------------+------------------+-------------------+\n",
      "|    CHEMBL423|   Q9NSG2|ENSG00000000460|[ot_genetics_portal]|             false|              false|\n",
      "|CHEMBL1187417|   Q9Y6X5|ENSG00000001561|              [impc]|             false|              false|\n",
      "|   CHEMBL6995|   Q9Y6D9|ENSG00000002822|[impc, ot_genetic...|             false|              false|\n",
      "| CHEMBL193240|   Q9Y216|ENSG00000003987|[ot_genetics_portal]|             false|              false|\n",
      "|CHEMBL1088752|   P52569|ENSG00000003989|              [impc]|             false|              false|\n",
      "|CHEMBL2103959|   Q9Y2S7|ENSG00000004142|[impc, ot_genetic...|             false|              false|\n",
      "|  CHEMBL77622|   Q96JG6|ENSG00000004766|[ot_genetics_portal]|             false|              false|\n",
      "|CHEMBL1743016|   P30988|ENSG00000004948|      [impc, chembl]|             false|               true|\n",
      "|     CHEMBL86|   O14641|ENSG00000004975|              [impc]|             false|              false|\n",
      "|    CHEMBL796|   P31270|ENSG00000005073|[cancer_gene_census]|             false|              false|\n",
      "|CHEMBL3989959|   Q9UPZ6|ENSG00000005108|[ot_genetics_portal]|             false|              false|\n",
      "|CHEMBL2108738|   Q9H6T3|ENSG00000005175|              [impc]|             false|              false|\n",
      "|  CHEMBL11359|   Q53FZ2|ENSG00000005187|           [intogen]|             false|              false|\n",
      "|CHEMBL4297948|   Q9P299|ENSG00000005243|[ot_genetics_portal]|             false|              false|\n",
      "|   CHEMBL1353|   P26006|ENSG00000005884|[uniprot_literatu...|             false|              false|\n",
      "|CHEMBL1201719|   Q96EN9|ENSG00000006015|              [impc]|             false|              false|\n",
      "|CHEMBL2110641|   Q9Y2T7|ENSG00000006047|[ot_genetics_portal]|             false|              false|\n",
      "|   CHEMBL1480|   Q09428|ENSG00000006071|[uniprot_literatu...|             false|               true|\n",
      "|    CHEMBL753|   O60359|ENSG00000006116|            [chembl]|             false|               true|\n",
      "|CHEMBL2103842|   P20366|ENSG00000006128|              [impc]|             false|              false|\n",
      "+-------------+---------+---------------+--------------------+------------------+-------------------+\n",
      "only showing top 20 rows\n",
      "\n"
     ]
    },
    {
     "name": "stderr",
     "output_type": "stream",
     "text": [
      "[Stage 31:>                                                         (0 + 8) / 8]\r"
     ]
    },
    {
     "name": "stdout",
     "output_type": "stream",
     "text": [
      "Number of unique targets with GE+: 16347\n"
     ]
    },
    {
     "name": "stderr",
     "output_type": "stream",
     "text": [
      "                                                                                \r"
     ]
    }
   ],
   "source": [
    "# Remove rows that have duplicate drugId, targetId combinations\n",
    "drug2target_uni = drug2target_parquet.dropDuplicates([\"targetId\"])\n",
    "drug2target_uni.show()\n",
    "\n",
    "num_rows_uni_drug2target = drug2target_uni.count()\n",
    "print(\"Number of unique targets with GE+:\", num_rows_uni_drug2target)"
   ]
  },
  {
   "cell_type": "markdown",
   "metadata": {},
   "source": [
    "### Biodata and evidence data intersection"
   ]
  },
  {
   "cell_type": "code",
   "execution_count": 25,
   "metadata": {},
   "outputs": [
    {
     "name": "stdout",
     "output_type": "stream",
     "text": [
      "+-------------+--------+------+---------+--------------------+----------------+------------------+--------------+-------------+---------+--------------------+------------------+-------------------+\n",
      "|    chembl_id|molregno|   tid|accession|           pref_name|target_chembl_id|min_standard_value|standard_units|       drugId|uniprotId|             sources|isHighQualityProbe|isTherapeuticTarget|\n",
      "+-------------+--------+------+---------+--------------------+----------------+------------------+--------------+-------------+---------+--------------------+------------------+-------------------+\n",
      "| CHEMBL103667|  167995| 11636|   P05771|Protein kinase C ...|      CHEMBL3045|            6900.0|            nM| CHEMBL103667|   P05771|[ot_genetics_port...|             false|               true|\n",
      "|    CHEMBL104|   13494|   130|   P35462|Dopamine D3 receptor|       CHEMBL234|             899.0|            nM|    CHEMBL104|   P35462|[ot_genetics_port...|             false|               true|\n",
      "|    CHEMBL114|   17169|104801|   O60840|Voltage-gated L-t...|   CHEMBL2095229|            1900.0|            nM|    CHEMBL114|   O60840|            [chembl]|             false|               true|\n",
      "|    CHEMBL114|   17169|   134|   P37288|Vasopressin V1a r...|      CHEMBL1889|            7030.0|            nM|    CHEMBL114|   P37288|            [chembl]|             false|               true|\n",
      "| CHEMBL116438|  190171|104681|   Q969S8| Histone deacetylase|   CHEMBL2093865|             539.0|            nM| CHEMBL116438|   Q969S8|[ot_genetics_port...|             false|               true|\n",
      "| CHEMBL116438|  190171|104681|   Q969S8| Histone deacetylase|   CHEMBL2093865|              52.0|             %| CHEMBL116438|   Q969S8|[ot_genetics_port...|             false|               true|\n",
      "| CHEMBL116438|  190171| 30043|   Q9P1W9|Serine/threonine-...|      CHEMBL4523|               2.9|     degrees C| CHEMBL116438|   Q9P1W9|            [chembl]|             false|               true|\n",
      "|CHEMBL1201012|  674963|104062|   Q9NPD5|Solute carrier or...|   CHEMBL1743121|             99.16|             %|CHEMBL1201012|   Q9NPD5|              [impc]|             false|              false|\n",
      "|CHEMBL1201286|  675237|101283|   O15245|Solute carrier fa...|      CHEMBL5685|             640.0|       pmol/mg|CHEMBL1201286|   O15245|              [impc]|             false|              false|\n",
      "|CHEMBL1230165|  692515| 12670|   P36888|Tyrosine-protein ...|      CHEMBL1974|              35.0|            nM|CHEMBL1230165|   P36888|[chembl, eva_soma...|             false|               true|\n",
      "|    CHEMBL126|   26280|    96|   P23219|    Cyclooxygenase-1|       CHEMBL221|            8190.0|            nM|    CHEMBL126|   P23219|      [impc, chembl]|             false|               true|\n",
      "|   CHEMBL1261|  240769|105661|   Q9C0B1|Alpha-ketoglutara...|   CHEMBL2331065|          300000.0|            nM|   CHEMBL1261|   Q9C0B1|[ot_genetics_portal]|             false|              false|\n",
      "|  CHEMBL12856|   11066|104707|   Q13370| Phosphodiesterase 3|   CHEMBL2094125|           16000.0|            nM|  CHEMBL12856|   Q13370|      [impc, chembl]|             false|               true|\n",
      "|  CHEMBL12856|   11066|104738|   Q13370|Phosphodiesterase...|   CHEMBL2095153|            4800.0|            nM|  CHEMBL12856|   Q13370|      [impc, chembl]|             false|               true|\n",
      "|CHEMBL1287853|  714243|100853|   Q9H422|Homeodomain-inter...|      CHEMBL4577|            1300.0|            nM|CHEMBL1287853|   Q9H422|              [impc]|             false|              false|\n",
      "|CHEMBL1289494|  715901| 12214|   P43403|Tyrosine-protein ...|      CHEMBL2803|             107.0|             %|CHEMBL1289494|   P43403|[impc, ot_genetic...|             false|              false|\n",
      "|CHEMBL1289494|  715901| 12261|   P45983|c-Jun N-terminal ...|      CHEMBL2276|             109.0|             %|CHEMBL1289494|   P45983|      [impc, chembl]|             false|               true|\n",
      "|   CHEMBL1336|  276734| 20020|   O14976|Serine/threonine-...|      CHEMBL4355|              90.0|             %|   CHEMBL1336|   O14976|[ot_genetics_portal]|             false|              false|\n",
      "|   CHEMBL1358|  304798|    36|   P06401|Progesterone rece...|       CHEMBL208|            0.2089|            nM|   CHEMBL1358|   P06401|      [impc, chembl]|             false|               true|\n",
      "|   CHEMBL1358|  304798|    36|   P06401|Progesterone rece...|       CHEMBL208|              48.0|             %|   CHEMBL1358|   P06401|      [impc, chembl]|             false|               true|\n",
      "+-------------+--------+------+---------+--------------------+----------------+------------------+--------------+-------------+---------+--------------------+------------------+-------------------+\n",
      "only showing top 20 rows\n",
      "\n"
     ]
    },
    {
     "name": "stderr",
     "output_type": "stream",
     "text": [
      "[Stage 197:>                                                        (0 + 8) / 8]\r"
     ]
    },
    {
     "name": "stdout",
     "output_type": "stream",
     "text": [
      "Number of unique drug-target pairs with GE+ and bidata: 24880\n",
      "Number of unique drug-target pairs with bidata: 53991\n",
      "For 46 % of drug-target pairs with with bidata we have GE+\n"
     ]
    },
    {
     "name": "stderr",
     "output_type": "stream",
     "text": [
      "                                                                                \r"
     ]
    }
   ],
   "source": [
    "columns_to_join = drug2target_parquet.select('drugId', 'uniprotId', 'sources', 'isHighQualityProbe', 'isTherapeuticTarget')\n",
    "\n",
    "biodata_join = biodata.join(columns_to_join, \n",
    "                            (biodata.chembl_id == columns_to_join.drugId) & \n",
    "                            (biodata.accession == columns_to_join.uniprotId), \n",
    "                            how=\"inner\")\n",
    "\n",
    "biodata_join.show()\n",
    "\n",
    "biodata_join_uni = (biodata_join.groupBy(\"chembl_id\", \"accession\")\n",
    "          .agg(F.count(\"*\").alias(\"count_of_combinations\")))\n",
    "\n",
    "num_uni_rows_biodata_join = biodata_join_uni.count()\n",
    "\n",
    "print(\"Number of unique drug-target pairs with GE+ and bidata:\", num_uni_rows_biodata_join)\n",
    "\n",
    "print(\"Number of unique drug-target pairs with bidata:\", num_uni_rows_biodata)\n",
    "\n",
    "print(\"For\", round(num_uni_rows_biodata_join/num_uni_rows_biodata*100), \"% of drug-target pairs with with bidata we have GE+\")"
   ]
  },
  {
   "cell_type": "markdown",
   "metadata": {},
   "source": [
    "### For how many drugs from GE+ supported list of D-T pairs we have biodata?"
   ]
  },
  {
   "cell_type": "code",
   "execution_count": 39,
   "metadata": {},
   "outputs": [
    {
     "name": "stdout",
     "output_type": "stream",
     "text": [
      "Number of unique drugs from GE+ list: 12835\n"
     ]
    },
    {
     "name": "stderr",
     "output_type": "stream",
     "text": [
      "[Stage 278:>                                                        (0 + 8) / 8]\r"
     ]
    },
    {
     "name": "stdout",
     "output_type": "stream",
     "text": [
      "Number of unique drugs from biodata list: 6652\n",
      "For 52 % of drugs from GE+ list we have biodata\n"
     ]
    },
    {
     "name": "stderr",
     "output_type": "stream",
     "text": [
      "                                                                                \r"
     ]
    }
   ],
   "source": [
    "drugs_uni = \"./data/drug_to_target_unique_drugs.csv\"\n",
    "\n",
    "drugs_uni = spark.read.csv(drugs_uni, header=True, inferSchema=True)\n",
    "num_rows_drugs_uni = drugs_uni.count()\n",
    "print(\"Number of unique drugs from GE+ list:\", num_rows_drugs_uni)\n",
    "\n",
    "biodata_drugs_uni = (biodata_join.groupBy(\"chembl_id\")\n",
    "          .agg(F.count(\"*\").alias(\"count_of_combinations\")))\n",
    "num_rows_drugs_uni_biodata = biodata_drugs_uni.count()\n",
    "print(\"Number of unique drugs from biodata list:\", num_rows_drugs_uni_biodata)\n",
    "\n",
    "print(\"For\", round(num_rows_drugs_uni_biodata/num_rows_drugs_uni*100), \"% of drugs from GE+ list we have biodata\")"
   ]
  },
  {
   "cell_type": "markdown",
   "metadata": {},
   "source": [
    "### How many targets with GE+ and bioactivity data are not therapeutic targets (not in MoA)?"
   ]
  },
  {
   "cell_type": "code",
   "execution_count": 65,
   "metadata": {},
   "outputs": [
    {
     "name": "stderr",
     "output_type": "stream",
     "text": [
      "                                                                                \r"
     ]
    },
    {
     "name": "stdout",
     "output_type": "stream",
     "text": [
      "Number of unique targets with GE+ & biodata: 1839\n"
     ]
    },
    {
     "name": "stderr",
     "output_type": "stream",
     "text": [
      "[Stage 458:>                                                        (0 + 8) / 8]\r"
     ]
    },
    {
     "name": "stdout",
     "output_type": "stream",
     "text": [
      "Number of unique targets with GE+ & biodata & not therapeutic targets: 1422\n",
      "77 % of targets with GE+ & biodata are not therapeutic\n"
     ]
    },
    {
     "name": "stderr",
     "output_type": "stream",
     "text": [
      "                                                                                \r"
     ]
    }
   ],
   "source": [
    "biodata_join_therapy = biodata_join.filter(biodata_join.isTherapeuticTarget == False)\n",
    "\n",
    "biodata_join_targets_uni = (biodata_join.groupBy(\"target_chembl_id\")\n",
    "          .agg(F.count(\"*\").alias(\"count_of_combinations\")))\n",
    "num_biodata_join_targets_uni = biodata_join_targets_uni.count()\n",
    "\n",
    "print(\"Number of unique targets with GE+ & biodata:\", num_biodata_join_targets_uni)\n",
    "\n",
    "biodata_join_therapy_uni = (biodata_join_therapy.groupBy(\"target_chembl_id\")\n",
    "          .agg(F.count(\"*\").alias(\"count_of_combinations\")))\n",
    "num_biodata_join_therapy_uni = biodata_join_therapy_uni.count()\n",
    "\n",
    "print(\"Number of unique targets with GE+ & biodata & not therapeutic targets:\", num_biodata_join_therapy_uni)\n",
    "\n",
    "print(round(num_biodata_join_therapy_uni/num_biodata_join_targets_uni*100), \"% of targets with GE+ & biodata are not therapeutic\")"
   ]
  },
  {
   "cell_type": "markdown",
   "metadata": {},
   "source": [
    "### Repeating the targets analysis with pChEMBL value cutoff (pChEMBL >= 5)"
   ]
  },
  {
   "cell_type": "code",
   "execution_count": 3,
   "metadata": {},
   "outputs": [
    {
     "name": "stdout",
     "output_type": "stream",
     "text": [
      "+----------+--------+---------------+------+--------------+--------------------+-----------+--------------------+---+---------+--------------------+----------------+------------+--------------+--------------+-----------------+-------------+\n",
      "| chembl_id|molregno|assay_chembl_id|src_id|src_short_name|             journal|  pubmed_id|                 doi|tid|accession|           pref_name|target_chembl_id|    organism|standard_value|standard_units|standard_relation|pchembl_value|\n",
      "+----------+--------+---------------+------+--------------+--------------------+-----------+--------------------+---+---------+--------------------+----------------+------------+--------------+--------------+-----------------+-------------+\n",
      "|CHEMBL1000|  111185|   CHEMBL830377|     1|    LITERATURE|Bioorg Med Chem Lett|1.5686917E7|10.1016/j.bmcl.20...|127|   P35367|Histamine H1 rece...|       CHEMBL231|Homo sapiens|          5.89|            nM|                =|         8.23|\n",
      "|CHEMBL1000|  111185|  CHEMBL1224926|     1|    LITERATURE|       Nat Chem Biol|1.6408006E7| 10.1038/nchembio714|127|   P35367|Histamine H1 rece...|       CHEMBL231|Homo sapiens|          63.1|            nM|                =|          7.2|\n",
      "|CHEMBL1000|  111185|  CHEMBL1224922|     1|    LITERATURE|       Nat Chem Biol|1.6408006E7| 10.1038/nchembio714|127|   P35367|Histamine H1 rece...|       CHEMBL231|Homo sapiens|         31.62|            nM|                =|          7.5|\n",
      "|CHEMBL1000|  111185|   CHEMBL881222|     1|    LITERATURE|          J Med Chem|1.6220969E7|   10.1021/jm058225d|127|   P35367|Histamine H1 rece...|       CHEMBL231|Homo sapiens|          14.0|            nM|                =|         7.85|\n",
      "|CHEMBL1000|  111185|   CHEMBL880732|     1|    LITERATURE|Bioorg Med Chem Lett|1.5081022E7|10.1016/j.bmcl.20...|127|   P35367|Histamine H1 rece...|       CHEMBL231|Homo sapiens|          14.0|            nM|                =|         7.85|\n",
      "|CHEMBL1000|  111185|  CHEMBL1224923|     1|    LITERATURE|       Nat Chem Biol|1.6408006E7| 10.1038/nchembio714|127|   P35367|Histamine H1 rece...|       CHEMBL231|Homo sapiens|         31.62|            nM|                =|          7.5|\n",
      "|CHEMBL1000|  111185|  CHEMBL1224920|     1|    LITERATURE|       Nat Chem Biol|1.6408006E7| 10.1038/nchembio714|127|   P35367|Histamine H1 rece...|       CHEMBL231|Homo sapiens|         50.12|            nM|                =|          7.3|\n",
      "|CHEMBL1000|  111185|  CHEMBL1224921|     1|    LITERATURE|       Nat Chem Biol|1.6408006E7| 10.1038/nchembio714|127|   P35367|Histamine H1 rece...|       CHEMBL231|Homo sapiens|         50.12|            nM|                =|          7.3|\n",
      "|CHEMBL1000|  111185|   CHEMBL830379|     1|    LITERATURE|Bioorg Med Chem Lett| 1.548293E7|10.1016/j.bmcl.20...|127|   P35367|Histamine H1 rece...|       CHEMBL231|Homo sapiens|          14.0|            nM|                =|         7.85|\n",
      "|CHEMBL1000|  111185|  CHEMBL1224924|     1|    LITERATURE|       Nat Chem Biol|1.6408006E7| 10.1038/nchembio714|127|   P35367|Histamine H1 rece...|       CHEMBL231|Homo sapiens|         79.43|            nM|                =|          7.1|\n",
      "|CHEMBL1000|  111185|  CHEMBL1224925|     1|    LITERATURE|       Nat Chem Biol|1.6408006E7| 10.1038/nchembio714|127|   P35367|Histamine H1 rece...|       CHEMBL231|Homo sapiens|          63.1|            nM|                =|          7.2|\n",
      "|CHEMBL1002|  111482|  CHEMBL1937183|     1|    LITERATURE|     Bioorg Med Chem|2.2182578E7|10.1016/j.bmc.201...| 43|   P07550|Beta-2 adrenergic...|       CHEMBL210|Homo sapiens|        457.09|            nM|                =|         6.34|\n",
      "|CHEMBL1002|  111482|  CHEMBL1937031|     1|    LITERATURE|     Bioorg Med Chem|2.2182578E7|10.1016/j.bmc.201...| 43|   P07550|Beta-2 adrenergic...|       CHEMBL210|Homo sapiens|         145.0|            nM|                =|         6.84|\n",
      "|CHEMBL1002|  111482|  CHEMBL1937183|     1|    LITERATURE|     Bioorg Med Chem|2.2182578E7|10.1016/j.bmc.201...| 43|   P07550|Beta-2 adrenergic...|       CHEMBL210|Homo sapiens|         457.0|            nM|                =|         6.34|\n",
      "|CHEMBL1002|  111482|  CHEMBL1937030|     1|    LITERATURE|     Bioorg Med Chem|2.2182578E7|10.1016/j.bmc.201...| 43|   P07550|Beta-2 adrenergic...|       CHEMBL210|Homo sapiens|       5623.41|            nM|                =|         5.25|\n",
      "|CHEMBL1002|  111482|  CHEMBL1937034|     1|    LITERATURE|     Bioorg Med Chem|2.2182578E7|10.1016/j.bmc.201...| 43|   P07550|Beta-2 adrenergic...|       CHEMBL210|Homo sapiens|       3801.89|            nM|                =|         5.42|\n",
      "|CHEMBL1002|  111482|  CHEMBL1937181|     1|    LITERATURE|     Bioorg Med Chem|2.2182578E7|10.1016/j.bmc.201...| 43|   P07550|Beta-2 adrenergic...|       CHEMBL210|Homo sapiens|        275.42|            nM|                =|         6.56|\n",
      "|CHEMBL1002|  111482|  CHEMBL1937182|     1|    LITERATURE|     Bioorg Med Chem|2.2182578E7|10.1016/j.bmc.201...| 43|   P07550|Beta-2 adrenergic...|       CHEMBL210|Homo sapiens|       4677.35|            nM|                =|         5.33|\n",
      "|CHEMBL1002|  111482|  CHEMBL1937034|     1|    LITERATURE|     Bioorg Med Chem|2.2182578E7|10.1016/j.bmc.201...| 43|   P07550|Beta-2 adrenergic...|       CHEMBL210|Homo sapiens|        3802.0|            nM|                =|         5.42|\n",
      "|CHEMBL1002|  111482|  CHEMBL1937181|     1|    LITERATURE|     Bioorg Med Chem|2.2182578E7|10.1016/j.bmc.201...| 43|   P07550|Beta-2 adrenergic...|       CHEMBL210|Homo sapiens|         275.0|            nM|                =|         6.56|\n",
      "+----------+--------+---------------+------+--------------+--------------------+-----------+--------------------+---+---------+--------------------+----------------+------------+--------------+--------------+-----------------+-------------+\n",
      "only showing top 20 rows\n",
      "\n",
      "Number of all drug-target pairs with pChEMBL >= 5: 86487\n"
     ]
    }
   ],
   "source": [
    "\n",
    "# Testset with all biodata\n",
    "biodata_all_in = \"./data/drug2target_bioactivities_chembl_33.csv\"\n",
    "\n",
    "biodata_all = spark.read.csv(biodata_all_in, header=True, inferSchema=True)\n",
    "biodata_all = biodata_all.drop('_c0')\n",
    "\n",
    "# Filter rows where pChEMBL is less than or equal to 5\n",
    "biodata_all = biodata_all.filter(biodata_all['pchembl_value'] >= 5)\n",
    "biodata_all.show()\n",
    "\n",
    "biodata_all_count = biodata_all.count()\n",
    "print(\"Number of all drug-target pairs with pChEMBL >= 5:\", biodata_all_count)\n",
    "\n",
    "# biodata_all.repartition(1).write.csv(\"data/biodata_all_join_test\", header=True)\n"
   ]
  },
  {
   "cell_type": "code",
   "execution_count": 12,
   "metadata": {},
   "outputs": [
    {
     "name": "stdout",
     "output_type": "stream",
     "text": [
      "+------------+--------+---------------+------+--------------+--------------------+-----------+--------------------+------+---------+--------------------+----------------+------------+--------------+--------------+-----------------+-------------+\n",
      "|   chembl_id|molregno|assay_chembl_id|src_id|src_short_name|             journal|  pubmed_id|                 doi|   tid|accession|           pref_name|target_chembl_id|    organism|standard_value|standard_units|standard_relation|pchembl_value|\n",
      "+------------+--------+---------------+------+--------------+--------------------+-----------+--------------------+------+---------+--------------------+----------------+------------+--------------+--------------+-----------------+-------------+\n",
      "|  CHEMBL1000|  111185|   CHEMBL830377|     1|    LITERATURE|Bioorg Med Chem Lett|1.5686917E7|10.1016/j.bmcl.20...|   127|   P35367|Histamine H1 rece...|       CHEMBL231|Homo sapiens|          5.89|            nM|                =|         8.23|\n",
      "| CHEMBL10041|    6341|  CHEMBL5121196|     1|    LITERATURE|      Eur J Med Chem|3.4710747E7|10.1016/j.ejmech....|    19|   P03372|Estrogen receptor...|       CHEMBL206|Homo sapiens|          1.12|            nM|                =|         8.95|\n",
      "|CHEMBL100763|  163958|   CHEMBL831663|     1|    LITERATURE|Bioorg Med Chem Lett|1.5686893E7|10.1016/j.bmcl.20...|    19|   P03372|Estrogen receptor...|       CHEMBL206|Homo sapiens|         3.304|            nM|                =|         8.48|\n",
      "|CHEMBL100763|  163958|   CHEMBL831659|     1|    LITERATURE|Bioorg Med Chem Lett|1.5686893E7|10.1016/j.bmcl.20...|   174|   Q92731|Estrogen receptor...|       CHEMBL242|Homo sapiens|         302.0|            nM|                =|         6.52|\n",
      "|  CHEMBL1008|  112651|  CHEMBL3436051|     1|    LITERATURE|      J Appl Toxicol|   2.2761E7|    10.1002/jat.2784|   169|   Q13936|Voltage-gated L-t...|      CHEMBL1940|Homo sapiens|        1400.0|            nM|                =|         5.85|\n",
      "|  CHEMBL1008|  112651|  CHEMBL3430571|     1|    LITERATURE|      Cardiovasc Res|2.1300721E7|  10.1093/cvr/cvr044| 11480|   Q14524|Sodium channel pr...|      CHEMBL1980|Homo sapiens|        3700.0|            nM|                =|         5.43|\n",
      "|  CHEMBL1008|  112651|   CHEMBL806152|     1|    LITERATURE|          J Med Chem|  2579237.0| 10.1021/jm00381a019|104837|   P35498|Sodium channel al...|   CHEMBL2096682|Homo sapiens|         840.0|            nM|                =|         6.08|\n",
      "|  CHEMBL1008|  112651|  CHEMBL1676103|     1|    LITERATURE|      Eur J Med Chem|2.1185626E7|10.1016/j.ejmech....|   165|   Q12809|                HERG|       CHEMBL240|Homo sapiens|         22.91|            nM|                =|         7.64|\n",
      "|  CHEMBL1009|  112655|  CHEMBL1909206|    15|    DRUGMATRIX|                NULL|       NULL|                NULL| 10140|   P06239|Tyrosine-protein ...|       CHEMBL258|Homo sapiens|        3729.0|            nM|                =|         5.43|\n",
      "|CHEMBL101253|  165012|  CHEMBL1063702|     1|    LITERATURE|      Nat Biotechnol|1.8183025E7|     10.1038/nbt1358| 12840|   P07333|Macrophage colony...|      CHEMBL1844|Homo sapiens|          18.0|            nM|                =|         7.75|\n",
      "|CHEMBL101253|  165012|  CHEMBL1908483|     1|    LITERATURE|      Nat Biotechnol|2.2037378E7|    10.1038/nbt.1990|   238|   P10721|Stem cell growth ...|      CHEMBL1936|Homo sapiens|           5.1|            nM|                =|         8.29|\n",
      "|CHEMBL101253|  165012|   CHEMBL892951|     1|    LITERATURE|     Bioorg Med Chem|1.7416531E7|10.1016/j.bmc.200...|     9|   P00533|Epidermal growth ...|       CHEMBL203|Homo sapiens|         457.7|            nM|                =|         6.34|\n",
      "|CHEMBL101253|  165012|  CHEMBL1051257|     1|    LITERATURE|      Nat Biotechnol|1.8183025E7|     10.1038/nbt1358|100079|   P07949|Tyrosine-protein ...|      CHEMBL2041|Homo sapiens|        7600.0|            nM|                =|         5.12|\n",
      "|CHEMBL101253|  165012|  CHEMBL1908552|     1|    LITERATURE|      Nat Biotechnol|2.2037378E7|    10.1038/nbt.1990| 30012|   P42685|Tyrosine-protein ...|      CHEMBL4223|Homo sapiens|        1800.0|            nM|                =|         5.75|\n",
      "|CHEMBL101253|  165012|  CHEMBL1908762|     1|    LITERATURE|      Nat Biotechnol|2.2037378E7|    10.1038/nbt.1990|101239|   O14578|Citron Rho-intera...|      CHEMBL5579|Homo sapiens|        8800.0|            nM|                =|         5.06|\n",
      "|CHEMBL101382|  164146|   CHEMBL836357|     1|    LITERATURE|          J Med Chem|1.5658851E7|   10.1021/jm040858p|104682|   P03372|   Estrogen receptor|   CHEMBL2093866|Homo sapiens|          32.0|            nM|                =|          7.5|\n",
      "|  CHEMBL1014|  116349|  CHEMBL3039490|     1|    LITERATURE|       Mol Pharmacol|2.3571415E7|10.1124/mol.112.0...|103947|   Q9Y6L6|Solute carrier or...|   CHEMBL1697668|Homo sapiens|         400.0|            nM|                =|          6.4|\n",
      "|  CHEMBL1016|  116848|  CHEMBL1909205|    15|    DRUGMATRIX|                NULL|       NULL|                NULL|   188|   P04626|Receptor protein-...|      CHEMBL1824|Homo sapiens|        5947.2|            nM|                =|         5.23|\n",
      "|  CHEMBL1016|  116848|  CHEMBL1909094|    15|    DRUGMATRIX|                NULL|       NULL|                NULL|   100|   P23975|Norepinephrine tr...|       CHEMBL222|Homo sapiens|        3039.8|            nM|                =|         5.52|\n",
      "|  CHEMBL1016|  116848|  CHEMBL3791105|     1|    LITERATURE|          J Med Chem|2.6824643E7|10.1021/acs.jmedc...|   115|   P30556|Type-1 angiotensi...|       CHEMBL227|Homo sapiens|          0.69|            nM|                =|         9.16|\n",
      "+------------+--------+---------------+------+--------------+--------------------+-----------+--------------------+------+---------+--------------------+----------------+------------+--------------+--------------+-----------------+-------------+\n",
      "only showing top 20 rows\n",
      "\n",
      "Number of unique drug-target pairs with pChEMBL >= 5: 26698\n"
     ]
    }
   ],
   "source": [
    "# !!! Should apply min values but not random!!\n",
    "from pyspark.sql import Window\n",
    "from pyspark.sql.functions import row_number, concat_ws\n",
    "\n",
    "# Define window specification\n",
    "windowSpec = Window.partitionBy(\"chembl_id\", \"target_chembl_id\").orderBy(biodata_all[\"pchembl_value\"].desc())\n",
    "\n",
    "# Assign row number\n",
    "biodata_all_sort = biodata_all.withColumn(\"row_num\", row_number().over(windowSpec))\n",
    "\n",
    "# Filter to keep only rows with maximum pchembl_value for each chembl_id within each target_chembl_id\n",
    "biodata_all_min = biodata_all_sort.filter(biodata_all_sort.row_num == 1).drop(\"row_num\")\n",
    "\n",
    "\n",
    "biodata_all_min.show()\n",
    "\n",
    "print(\"Number of unique drug-target pairs with pChEMBL >= 5:\", biodata_all_min.count())\n",
    "\n",
    "\n",
    "# biodata_all_join_min = biodata_all_join_sort.withColumn(\"sources\", concat_ws(\",\", biodata_all_join[\"sources\"]))\n",
    "# biodata_all_join_min.repartition(1).write.csv(\"data/biodata_all_join_test\", header=True)\n"
   ]
  },
  {
   "cell_type": "code",
   "execution_count": 15,
   "metadata": {},
   "outputs": [
    {
     "name": "stderr",
     "output_type": "stream",
     "text": [
      "                                                                                \r"
     ]
    },
    {
     "name": "stdout",
     "output_type": "stream",
     "text": [
      "+-------------+--------+---------------+------+--------------+--------------------+-----------+--------------------+------+---------+--------------------+----------------+------------+--------------+--------------+-----------------+-------------+-------------+---------+--------------------+------------------+-------------------+\n",
      "|    chembl_id|molregno|assay_chembl_id|src_id|src_short_name|             journal|  pubmed_id|                 doi|   tid|accession|           pref_name|target_chembl_id|    organism|standard_value|standard_units|standard_relation|pchembl_value|       drugId|uniprotId|             sources|isHighQualityProbe|isTherapeuticTarget|\n",
      "+-------------+--------+---------------+------+--------------+--------------------+-----------+--------------------+------+---------+--------------------+----------------+------------+--------------+--------------+-----------------+-------------+-------------+---------+--------------------+------------------+-------------------+\n",
      "| CHEMBL259084|  428508|  CHEMBL1061174|     1|    LITERATURE|      Nat Biotechnol|1.8183025E7|     10.1038/nbt1358| 10979|   P17948|Vascular endothel...|      CHEMBL1868|Homo sapiens|        1000.0|            nM|                =|          6.0| CHEMBL259084|   P17948|            [chembl]|             false|               true|\n",
      "|CHEMBL3301610| 1763572|  CHEMBL4180588|     1|    LITERATURE|Bioorg Med Chem Lett|2.9074254E7|10.1016/j.bmcl.20...| 10480|   Q00534|Cyclin-dependent ...|      CHEMBL2508|Homo sapiens|           1.9|            nM|                =|         8.72|CHEMBL3301610|   Q00534|[impc, ot_genetic...|             false|               true|\n",
      "|    CHEMBL535|   13048|  CHEMBL1244837|     1|    LITERATURE|               Blood|1.9654408E7|10.1182/blood-200...|100069|   P07332|Tyrosine-protein ...|      CHEMBL5455|Homo sapiens|         960.0|            nM|                =|         6.02|    CHEMBL535|   P07332|[impc, cancer_gen...|             false|              false|\n",
      "| CHEMBL495084|  468993|  CHEMBL1035784|     1|    LITERATURE|          J Med Chem|1.8817364E7|   10.1021/jm8005405| 10188|   Q16539|MAP kinase p38 alpha|       CHEMBL260|Homo sapiens|           0.4|            nM|                =|          9.4| CHEMBL495084|   Q16539|    [chemicalProbes]|             false|              false|\n",
      "| CHEMBL397990|  391022|   CHEMBL891324|     1|    LITERATURE|     Bioorg Med Chem| 1.712707E7|10.1016/j.bmc.200...| 11624|   P29466|           Caspase-1|      CHEMBL4801|Homo sapiens|          11.0|            nM|                =|         7.96| CHEMBL397990|   P29466|    [chemicalProbes]|             false|              false|\n",
      "|    CHEMBL633|   27185|  CHEMBL1909088|    15|    DRUGMATRIX|                NULL|       NULL|                NULL|    52|   P08913|Alpha-2a adrenerg...|      CHEMBL1867|Homo sapiens|         117.0|            nM|                =|         6.93|    CHEMBL633|   P08913|      [impc, chembl]|             false|               true|\n",
      "|CHEMBL3609305| 1960167|  CHEMBL3610437|     1|    LITERATURE|   ACS Med Chem Lett|2.6191363E7|10.1021/acsmedche...| 10907|   P53350|Serine/threonine-...|      CHEMBL3024|Homo sapiens|          0.42|            nM|                =|         9.38|CHEMBL3609305|   P53350|    [chemicalProbes]|             false|              false|\n",
      "| CHEMBL255863|  426660|  CHEMBL1908434|     1|    LITERATURE|      Nat Biotechnol|2.2037378E7|    10.1038/nbt.1990| 30019|   P54756|Ephrin type-A rec...|      CHEMBL3987|Homo sapiens|        1900.0|            nM|                =|         5.72| CHEMBL255863|   P54756|[chembl, eva_soma...|             false|               true|\n",
      "| CHEMBL284616|   46995|  CHEMBL4813851|     1|    LITERATURE|     Bioorg Med Chem| 3.424692E7|10.1016/j.bmc.202...| 13061|   P18031|Protein-tyrosine ...|       CHEMBL335|Homo sapiens|         100.0|            nM|                =|          7.0| CHEMBL284616|   P18031|[ot_genetics_portal]|             false|              false|\n",
      "|CHEMBL1615025| 1038036|  CHEMBL3266112|     1|    LITERATURE|Bioorg Med Chem Lett|2.4755426E7|10.1016/j.bmcl.20...| 11409|   Q02750|Dual specificity ...|      CHEMBL3587|Homo sapiens|          1.79|            nM|                =|         8.75|CHEMBL1615025|   Q02750|[intogen, ot_gene...|             false|               true|\n",
      "| CHEMBL502835|  522730|  CHEMBL1908552|     1|    LITERATURE|      Nat Biotechnol|2.2037378E7|    10.1038/nbt.1990| 30012|   P42685|Tyrosine-protein ...|      CHEMBL4223|Homo sapiens|        2700.0|            nM|                =|         5.57| CHEMBL502835|   P42685|            [chembl]|             false|               true|\n",
      "|     CHEMBL71|    6216|  CHEMBL1909094|    15|    DRUGMATRIX|                NULL|       NULL|                NULL|   100|   P23975|Norepinephrine tr...|       CHEMBL222|Homo sapiens|          19.0|            nM|                =|         7.72|     CHEMBL71|   P23975|      [impc, chembl]|             false|               true|\n",
      "|  CHEMBL75094|  120195|   CHEMBL715231|     1|    LITERATURE|          J Med Chem|1.1754593E7|   10.1021/jm0103920| 12592|   P14780|Matrix metallopro...|       CHEMBL321|Homo sapiens|         0.048|            nM|                =|        10.32|  CHEMBL75094|   P14780|            [chembl]|             false|               true|\n",
      "|CHEMBL2058833| 1354598|  CHEMBL4378090|     1|    LITERATURE|          J Med Chem|3.1385706E7|10.1021/acs.jmedc...| 17045|   P08684| Cytochrome P450 3A4|       CHEMBL340|Homo sapiens|         156.0|            nM|                =|         6.81|CHEMBL2058833|   P08684|            [chembl]|             false|               true|\n",
      "|    CHEMBL964|   94571|  CHEMBL1909128|    15|    DRUGMATRIX|                NULL|       NULL|                NULL| 10773|   P25025|Interleukin-8 rec...|      CHEMBL2434|Homo sapiens|        4209.0|            nM|                =|         5.38|    CHEMBL964|   P25025|[impc, ot_genetic...|             false|               true|\n",
      "| CHEMBL271941|  436723|   CHEMBL949197|     1|    LITERATURE|Bioorg Med Chem Lett|1.8221875E7|10.1016/j.bmcl.20...| 10980|   P35968|Vascular endothel...|       CHEMBL279|Homo sapiens|          32.0|            nM|                =|          7.5| CHEMBL271941|   P35968|    [chemicalProbes]|             false|              false|\n",
      "|CHEMBL2063443| 1356841|  CHEMBL2064921|     1|    LITERATURE|Bioorg Med Chem Lett|2.2727637E7|10.1016/j.bmcl.20...| 10781|   Q96GD4|Serine/threonine-...|      CHEMBL2185|Homo sapiens|           4.0|            nM|                =|          8.4|CHEMBL2063443|   Q96GD4|    [chemicalProbes]|             false|              false|\n",
      "|  CHEMBL24828|   33576|  CHEMBL1908641|     1|    LITERATURE|      Nat Biotechnol|2.2037378E7|    10.1038/nbt.1990|100417|   Q9UM73|ALK tyrosine kina...|      CHEMBL4247|Homo sapiens|        2100.0|            nM|                =|         5.68|  CHEMBL24828|   Q9UM73|[impc, eva, intog...|             false|               true|\n",
      "|CHEMBL5095224| 2739655|  CHEMBL5118400|     1|    LITERATURE|      Eur J Med Chem|3.5849939E7|10.1016/j.ejmech....| 11904|   P56373|  P2X purinoceptor 3|      CHEMBL2998|Homo sapiens|           8.0|            nM|                =|          8.1|CHEMBL5095224|   P56373|            [chembl]|             false|               true|\n",
      "|CHEMBL1684984| 1075318|  CHEMBL1686449|     1|    LITERATURE|Bioorg Med Chem Lett|2.1316229E7|10.1016/j.bmcl.20...|101233|   O00750|Phosphatidylinosi...|      CHEMBL5554|Homo sapiens|        5300.0|            nM|                =|         5.28|CHEMBL1684984|   O00750|[ot_genetics_portal]|             false|              false|\n",
      "+-------------+--------+---------------+------+--------------+--------------------+-----------+--------------------+------+---------+--------------------+----------------+------------+--------------+--------------+-----------------+-------------+-------------+---------+--------------------+------------------+-------------------+\n",
      "only showing top 20 rows\n",
      "\n"
     ]
    },
    {
     "name": "stderr",
     "output_type": "stream",
     "text": [
      "                                                                                \r"
     ]
    },
    {
     "name": "stdout",
     "output_type": "stream",
     "text": [
      "Number of unique drug-target pairs with GE+ with pChEMBL >= 5: 16138\n",
      "Number of unique drug-target pairs with pChEMBL >= 5: 26698\n",
      "For 60 % of drug-target pairs with pChEMBL >= 5 we have GE+\n"
     ]
    }
   ],
   "source": [
    "drug2target_parquet_dir = \"./data/drug_to_target\"\n",
    "drug2target_parquet = spark.read.parquet(drug2target_parquet_dir)\n",
    "\n",
    "columns_to_join = drug2target_parquet.select('drugId', 'uniprotId', 'sources', 'isHighQualityProbe', 'isTherapeuticTarget')\n",
    "\n",
    "biodata_all_join = biodata_all_min.join(columns_to_join, \n",
    "                            (biodata_all_min.chembl_id == columns_to_join.drugId) & \n",
    "                            (biodata_all_min.accession == columns_to_join.uniprotId), \n",
    "                            how=\"inner\")\n",
    "biodata_all_join.show()\n",
    "\n",
    "num_biodata_all_join = biodata_all_join.count()\n",
    "num_biodata_all_min = biodata_all_min.count()\n",
    "\n",
    "print(\"Number of unique drug-target pairs with GE+ with pChEMBL >= 5:\", num_biodata_all_join)\n",
    "\n",
    "print(\"Number of unique drug-target pairs with pChEMBL >= 5:\", num_biodata_all_min)\n",
    "\n",
    "print(\"For\", round(num_biodata_all_join/num_biodata_all_min*100), \"% of drug-target pairs with pChEMBL >= 5 we have GE+\")"
   ]
  },
  {
   "cell_type": "code",
   "execution_count": 16,
   "metadata": {},
   "outputs": [
    {
     "name": "stderr",
     "output_type": "stream",
     "text": [
      "[Stage 74:>                                                         (0 + 8) / 8]\r"
     ]
    },
    {
     "name": "stdout",
     "output_type": "stream",
     "text": [
      "Number of unique targets with GE+ & pChEMBL >= 5: 1488\n"
     ]
    },
    {
     "name": "stderr",
     "output_type": "stream",
     "text": [
      "                                                                                \r"
     ]
    }
   ],
   "source": [
    "biodata_all_join_targets = biodata_all_join.groupBy(\"target_chembl_id\").count()\n",
    "num_biodata_all_join_targets = biodata_all_join_targets.count()\n",
    "\n",
    "print(\"Number of unique targets with GE+ & pChEMBL >= 5:\", num_biodata_all_join_targets)"
   ]
  },
  {
   "cell_type": "code",
   "execution_count": 17,
   "metadata": {},
   "outputs": [
    {
     "name": "stderr",
     "output_type": "stream",
     "text": [
      "[Stage 83:>                                                         (0 + 8) / 8]\r"
     ]
    },
    {
     "name": "stdout",
     "output_type": "stream",
     "text": [
      "Number of unique targets with GE+ & pChEMBL >= 5 & not therapeutic targets: 1090\n",
      "73 % of targets with GE+ & pChEMBL >= 5 are not therapeutic\n"
     ]
    },
    {
     "name": "stderr",
     "output_type": "stream",
     "text": [
      "                                                                                \r"
     ]
    }
   ],
   "source": [
    "biodata_all_join_therapy = biodata_all_join.filter(biodata_all_join.isTherapeuticTarget == False)\n",
    "\n",
    "biodata_all_join_therapy_uni = biodata_all_join_therapy.groupBy(\"target_chembl_id\").count()\n",
    "num_biodata_all_join_therapy_uni = biodata_all_join_therapy_uni.count()\n",
    "\n",
    "print(\"Number of unique targets with GE+ & pChEMBL >= 5 & not therapeutic targets:\", num_biodata_all_join_therapy_uni)\n",
    "\n",
    "print(round(num_biodata_all_join_therapy_uni/num_biodata_all_join_targets*100), \"% of targets with GE+ & pChEMBL >= 5 are not therapeutic\")"
   ]
  },
  {
   "cell_type": "code",
   "execution_count": 21,
   "metadata": {},
   "outputs": [
    {
     "name": "stderr",
     "output_type": "stream",
     "text": [
      "                                                                                \r"
     ]
    }
   ],
   "source": [
    "# Concatenate the \"sources\" column\n",
    "biodata_all_join_uni = biodata_all_join.withColumn(\"sources\", concat_ws(\",\", biodata_all_join[\"sources\"]))\n",
    "biodata_all_join_uni.repartition(1).write.csv(\"data/biodata_all_join_v2\", header=True)"
   ]
  },
  {
   "cell_type": "code",
   "execution_count": null,
   "metadata": {},
   "outputs": [],
   "source": []
  },
  {
   "cell_type": "code",
   "execution_count": null,
   "metadata": {},
   "outputs": [],
   "source": []
  }
 ],
 "metadata": {
  "kernelspec": {
   "display_name": "Python 3",
   "language": "python",
   "name": "python3"
  },
  "language_info": {
   "codemirror_mode": {
    "name": "ipython",
    "version": 3
   },
   "file_extension": ".py",
   "mimetype": "text/x-python",
   "name": "python",
   "nbconvert_exporter": "python",
   "pygments_lexer": "ipython3",
   "version": "3.9.6"
  },
  "orig_nbformat": 4
 },
 "nbformat": 4,
 "nbformat_minor": 2
}
